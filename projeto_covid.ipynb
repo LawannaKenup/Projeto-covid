{
  "cells": [
    {
      "cell_type": "markdown",
      "metadata": {
        "id": "jL11E_sf0pPq"
      },
      "source": [
        "#### **Configurando o ambiente.**"
      ]
    },
    {
      "cell_type": "code",
      "execution_count": null,
      "metadata": {
        "colab": {
          "base_uri": "https://localhost:8080/"
        },
        "id": "tQarGdLGjquL",
        "outputId": "d01b42d0-0bdc-4eed-9c88-7cd609291d7a"
      },
      "outputs": [
        {
          "output_type": "stream",
          "name": "stdout",
          "text": [
            "Looking in indexes: https://pypi.org/simple, https://us-python.pkg.dev/colab-wheels/public/simple/\n",
            "Collecting pyspark\n",
            "  Downloading pyspark-3.3.1.tar.gz (281.4 MB)\n",
            "\u001b[K     |████████████████████████████████| 281.4 MB 33 kB/s \n",
            "\u001b[?25hCollecting py4j==0.10.9.5\n",
            "  Downloading py4j-0.10.9.5-py2.py3-none-any.whl (199 kB)\n",
            "\u001b[K     |████████████████████████████████| 199 kB 63.3 MB/s \n",
            "\u001b[?25hBuilding wheels for collected packages: pyspark\n",
            "  Building wheel for pyspark (setup.py) ... \u001b[?25l\u001b[?25hdone\n",
            "  Created wheel for pyspark: filename=pyspark-3.3.1-py2.py3-none-any.whl size=281845512 sha256=d998b350cbaaa4fb6b0d04f39d40922626b31bd4ce81074aefd24d532ebe0bdd\n",
            "  Stored in directory: /root/.cache/pip/wheels/43/dc/11/ec201cd671da62fa9c5cc77078235e40722170ceba231d7598\n",
            "Successfully built pyspark\n",
            "Installing collected packages: py4j, pyspark\n",
            "Successfully installed py4j-0.10.9.5 pyspark-3.3.1\n",
            "\n",
            "Usage:   \n",
            "  pip3 install [options] <requirement specifier> [package-index-options] ...\n",
            "  pip3 install [options] -r <requirements file> [package-index-options] ...\n",
            "  pip3 install [options] [-e] <vcs project url> ...\n",
            "  pip3 install [options] [-e] <local project path> ...\n",
            "  pip3 install [options] <archive url/path> ...\n",
            "\n",
            "no such option: -u\n"
          ]
        }
      ],
      "source": [
        "!pip install pyspark\n",
        "!pip install -u plotly"
      ]
    },
    {
      "cell_type": "code",
      "execution_count": null,
      "metadata": {
        "id": "OypgrK_UYcPQ"
      },
      "outputs": [],
      "source": [
        "import pandas as pd\n",
        "import numpy as np\n",
        "import plotly.express as px\n",
        "import plotly.figure_factory as ff\n"
      ]
    },
    {
      "cell_type": "code",
      "execution_count": null,
      "metadata": {
        "id": "zWiil32JpJrQ"
      },
      "outputs": [],
      "source": [
        "from pyspark.sql import SparkSession\n",
        "\n",
        "spark = SparkSession \\\n",
        "        .builder \\\n",
        "        .appName(\"Python Spark create RDD example\") \\\n",
        "        .config(\"spark.some.config.option\", \"some-value\") \\\n",
        "        .getOrCreate"
      ]
    },
    {
      "cell_type": "code",
      "execution_count": null,
      "metadata": {
        "colab": {
          "base_uri": "https://localhost:8080/",
          "height": 17
        },
        "id": "L4ar6NX6pPfm",
        "outputId": "68b85368-a602-4244-d656-bc09cd2dcccc"
      },
      "outputs": [
        {
          "output_type": "display_data",
          "data": {
            "text/plain": [
              "<IPython.core.display.HTML object>"
            ],
            "text/html": [
              "<style>pre { white-space: pre !important; }</style>"
            ]
          },
          "metadata": {}
        }
      ],
      "source": [
        "from pyspark.sql.types import *\n",
        "from pyspark.sql.functions import *\n",
        "from pyspark.sql import functions as f\n",
        "from IPython.core.display import HTML\n",
        "from pyspark.sql.functions import col, asc, desc, expr\n",
        "from pyspark.sql.functions import regexp_replace\n",
        "from pyspark.sql.window import Window\n",
        "\n",
        "\n",
        "\n",
        "# melhor visualização do dataframe\n",
        "display(HTML(\"<style>pre { white-space: pre !important; }</style>\"))\n",
        "\n",
        "# Session builder\n",
        "spark = SparkSession.builder.appName('sparkdf').getOrCreate()"
      ]
    },
    {
      "cell_type": "code",
      "execution_count": null,
      "metadata": {
        "id": "ekT7TA5cUCo4"
      },
      "outputs": [],
      "source": [
        "from pyspark.ml.regression import LinearRegression, RandomForestRegressor\n",
        "from pyspark.ml.evaluation import RegressionEvaluator\n",
        "from pyspark.ml.feature import VectorAssembler"
      ]
    },
    {
      "cell_type": "markdown",
      "metadata": {
        "id": "6s9pG9QH0WQ2"
      },
      "source": [
        "#### **Importação das tabelas de registro de Covid no Brasil.**\n",
        "Devido à grande quantidade de dados, as tabelas se encontravam divididas, sendo então, necessária a importação de 6 tabelas, a cada qual, referentes à um determinado período da pandemia de forma sequencial."
      ]
    },
    {
      "cell_type": "code",
      "execution_count": null,
      "metadata": {
        "colab": {
          "base_uri": "https://localhost:8080/"
        },
        "id": "pv0qsL4MVoEV",
        "outputId": "98bc3653-db09-4247-fc10-921bbb17d7f7"
      },
      "outputs": [
        {
          "output_type": "stream",
          "name": "stdout",
          "text": [
            "Mounted at /content/gdrive\n"
          ]
        }
      ],
      "source": [
        "from google.colab import drive\n",
        "\n",
        "drive.mount('/content/gdrive')\n",
        "caminho_local = 'gdrive/MyDrive/Pyspark/Projeto_covid'"
      ]
    },
    {
      "cell_type": "code",
      "execution_count": null,
      "metadata": {
        "id": "8BYpgpSXpeZi"
      },
      "outputs": [],
      "source": [
        "covid_2020_1 = spark.read.format('csv')\\\n",
        "                         .option(\"sep\",\";\",)\\\n",
        "                         .options(header='true',\\\n",
        "                                  inferschema='true')\\\n",
        "                    .load(f'{caminho_local}/HIST_PAINEL_COVIDBR_2020_Parte1_09ago2022.csv',header=True)"
      ]
    },
    {
      "cell_type": "code",
      "execution_count": null,
      "metadata": {
        "id": "yjMu2_yGp7Hr"
      },
      "outputs": [],
      "source": [
        "covid_2020_2 = spark.read.format('csv')\\\n",
        "                         .option(\"sep\",\";\",)\\\n",
        "                         .options(header='true',\\\n",
        "                                  inferschema='true')\\\n",
        "                    .load(f'{caminho_local}/HIST_PAINEL_COVIDBR_2020_Parte2_09ago2022.csv',header=True)"
      ]
    },
    {
      "cell_type": "code",
      "execution_count": null,
      "metadata": {
        "id": "fpJti3MrqCmQ"
      },
      "outputs": [],
      "source": [
        "covid_2021_1 = spark.read.format('csv')\\\n",
        "                         .option(\"sep\",\";\",)\\\n",
        "                         .options(header='true',\\\n",
        "                                  inferschema='true')\\\n",
        "                    .load(f'{caminho_local}/HIST_PAINEL_COVIDBR_2021_Parte1_09ago2022.csv',header=True)"
      ]
    },
    {
      "cell_type": "code",
      "execution_count": null,
      "metadata": {
        "id": "LBI46iOZqI0_"
      },
      "outputs": [],
      "source": [
        "covid_2021_2 = spark.read.format('csv')\\\n",
        "                         .option(\"sep\",\";\",)\\\n",
        "                         .options(header='true',\\\n",
        "                                  inferschema='true')\\\n",
        "                    .load(f'{caminho_local}/HIST_PAINEL_COVIDBR_2021_Parte2_09ago2022.csv',header=True)"
      ]
    },
    {
      "cell_type": "code",
      "execution_count": null,
      "metadata": {
        "id": "HMbYGnOoqREC"
      },
      "outputs": [],
      "source": [
        "covid_2022_1 = spark.read.format('csv')\\\n",
        "                         .option(\"sep\",\";\",)\\\n",
        "                         .options(header='true',\\\n",
        "                                  inferschema='true')\\\n",
        "                    .load(f'{caminho_local}/HIST_PAINEL_COVIDBR_2022_Parte1_09ago2022.csv',header=True)"
      ]
    },
    {
      "cell_type": "code",
      "execution_count": null,
      "metadata": {
        "id": "nUSOhG2lqXd9"
      },
      "outputs": [],
      "source": [
        "covid_2022_2 = spark.read.format('csv')\\\n",
        "                         .option(\"sep\",\";\",)\\\n",
        "                         .options(header='true',\\\n",
        "                                  inferschema='true')\\\n",
        "                    .load(f'{caminho_local}/HIST_PAINEL_COVIDBR_2022_Parte2_05dez2022.csv',header=True)\n"
      ]
    },
    {
      "cell_type": "markdown",
      "metadata": {
        "id": "b8Ta02s600H3"
      },
      "source": [
        "#### **União dos dataframes.**\n",
        "Foi feita a união dos dataframes para melhor visualização."
      ]
    },
    {
      "cell_type": "code",
      "execution_count": null,
      "metadata": {
        "colab": {
          "base_uri": "https://localhost:8080/"
        },
        "id": "v3LG3V7wqd6N",
        "outputId": "0d5280db-7973-4bc5-da14-a567427b4d41"
      },
      "outputs": [
        {
          "output_type": "stream",
          "name": "stdout",
          "text": [
            "+------+------+---------+-----+------+--------------+---------------+-------------------+---------+----------------+--------------+----------+---------------+-----------+----------------+---------------------+----------------------+\n",
            "|regiao|estado|municipio|coduf|codmun|codRegiaoSaude|nomeRegiaoSaude|               data|semanaEpi|populacaoTCU2019|casosAcumulado|casosNovos|obitosAcumulado|obitosNovos|Recuperadosnovos|emAcompanhamentoNovos|interior/metropolitana|\n",
            "+------+------+---------+-----+------+--------------+---------------+-------------------+---------+----------------+--------------+----------+---------------+-----------+----------------+---------------------+----------------------+\n",
            "|Brasil|  null|     null|   76|  null|          null|           null|2020-02-25 00:00:00|        9|       210147125|           0.0|         0|              0|          0|               0|                    0|                  null|\n",
            "|Brasil|  null|     null|   76|  null|          null|           null|2020-02-26 00:00:00|        9|       210147125|           1.0|         1|              0|          0|               1|                    0|                  null|\n",
            "|Brasil|  null|     null|   76|  null|          null|           null|2020-02-27 00:00:00|        9|       210147125|           1.0|         0|              0|          0|               1|                    0|                  null|\n",
            "|Brasil|  null|     null|   76|  null|          null|           null|2020-02-28 00:00:00|        9|       210147125|           1.0|         0|              0|          0|               0|                    1|                  null|\n",
            "|Brasil|  null|     null|   76|  null|          null|           null|2020-02-29 00:00:00|        9|       210147125|           2.0|         1|              0|          0|               1|                    1|                  null|\n",
            "|Brasil|  null|     null|   76|  null|          null|           null|2020-03-01 00:00:00|       10|       210147125|           2.0|         0|              0|          0|               1|                    1|                  null|\n",
            "|Brasil|  null|     null|   76|  null|          null|           null|2020-03-02 00:00:00|       10|       210147125|           2.0|         0|              0|          0|               0|                    2|                  null|\n",
            "|Brasil|  null|     null|   76|  null|          null|           null|2020-03-03 00:00:00|       10|       210147125|           2.0|         0|              0|          0|               0|                    2|                  null|\n",
            "|Brasil|  null|     null|   76|  null|          null|           null|2020-03-04 00:00:00|       10|       210147125|           3.0|         1|              0|          0|               1|                    2|                  null|\n",
            "|Brasil|  null|     null|   76|  null|          null|           null|2020-03-05 00:00:00|       10|       210147125|           7.0|         4|              0|          0|               4|                    3|                  null|\n",
            "|Brasil|  null|     null|   76|  null|          null|           null|2020-03-06 00:00:00|       10|       210147125|          13.0|         6|              0|          0|               6|                    7|                  null|\n",
            "|Brasil|  null|     null|   76|  null|          null|           null|2020-03-07 00:00:00|       10|       210147125|          19.0|         6|              0|          0|               7|                   12|                  null|\n",
            "|Brasil|  null|     null|   76|  null|          null|           null|2020-03-08 00:00:00|       11|       210147125|          25.0|         6|              0|          0|               6|                   19|                  null|\n",
            "|Brasil|  null|     null|   76|  null|          null|           null|2020-03-09 00:00:00|       11|       210147125|          25.0|         0|              0|          0|               1|                   24|                  null|\n",
            "|Brasil|  null|     null|   76|  null|          null|           null|2020-03-10 00:00:00|       11|       210147125|          34.0|         9|              0|          0|               6|                   28|                  null|\n",
            "|Brasil|  null|     null|   76|  null|          null|           null|2020-03-11 00:00:00|       11|       210147125|          52.0|        18|              0|          0|              16|                   36|                  null|\n",
            "|Brasil|  null|     null|   76|  null|          null|           null|2020-03-12 00:00:00|       11|       210147125|          77.0|        25|              0|          0|              23|                   54|                  null|\n",
            "|Brasil|  null|     null|   76|  null|          null|           null|2020-03-13 00:00:00|       11|       210147125|          98.0|        21|              0|          0|              24|                   74|                  null|\n",
            "|Brasil|  null|     null|   76|  null|          null|           null|2020-03-14 00:00:00|       11|       210147125|         121.0|        23|              0|          0|              22|                   99|                  null|\n",
            "|Brasil|  null|     null|   76|  null|          null|           null|2020-03-15 00:00:00|       12|       210147125|         200.0|        79|              0|          0|              62|                  138|                  null|\n",
            "+------+------+---------+-----+------+--------------+---------------+-------------------+---------+----------------+--------------+----------+---------------+-----------+----------------+---------------------+----------------------+\n",
            "only showing top 20 rows\n",
            "\n"
          ]
        }
      ],
      "source": [
        "covid = covid_2020_1.union(covid_2020_1)\\\n",
        "                    .union(covid_2020_2)\\\n",
        "                    .union(covid_2021_1)\\\n",
        "                    .union(covid_2021_2)\\\n",
        "                    .union(covid_2022_1)\\\n",
        "                    .union(covid_2022_2)\n",
        "\n",
        "covid.show()"
      ]
    },
    {
      "cell_type": "markdown",
      "metadata": {
        "id": "hHBhUtPq0_i8"
      },
      "source": [
        "#### **Alteração do formato da coluna data.**\n",
        "Foi alterado o formato da coluna data de yyyy-MM-dd h:m:s para yyyy-MM-dd."
      ]
    },
    {
      "cell_type": "code",
      "execution_count": null,
      "metadata": {
        "colab": {
          "base_uri": "https://localhost:8080/"
        },
        "id": "2d1tmdX71zp9",
        "outputId": "ba012938-a5d8-4b51-d742-91f052e2dd34"
      },
      "outputs": [
        {
          "output_type": "stream",
          "name": "stdout",
          "text": [
            "+------+------+---------+-----+------+--------------+---------------+----------+---------+----------------+--------------+----------+---------------+-----------+----------------+---------------------+----------------------+\n",
            "|regiao|estado|municipio|coduf|codmun|codRegiaoSaude|nomeRegiaoSaude|      data|semanaEpi|populacaoTCU2019|casosAcumulado|casosNovos|obitosAcumulado|obitosNovos|Recuperadosnovos|emAcompanhamentoNovos|interior/metropolitana|\n",
            "+------+------+---------+-----+------+--------------+---------------+----------+---------+----------------+--------------+----------+---------------+-----------+----------------+---------------------+----------------------+\n",
            "|Brasil|  null|     null|   76|  null|          null|           null|2020-02-25|        9|       210147125|           0.0|         0|              0|          0|               0|                    0|                  null|\n",
            "|Brasil|  null|     null|   76|  null|          null|           null|2020-02-26|        9|       210147125|           1.0|         1|              0|          0|               1|                    0|                  null|\n",
            "|Brasil|  null|     null|   76|  null|          null|           null|2020-02-27|        9|       210147125|           1.0|         0|              0|          0|               1|                    0|                  null|\n",
            "|Brasil|  null|     null|   76|  null|          null|           null|2020-02-28|        9|       210147125|           1.0|         0|              0|          0|               0|                    1|                  null|\n",
            "|Brasil|  null|     null|   76|  null|          null|           null|2020-02-29|        9|       210147125|           2.0|         1|              0|          0|               1|                    1|                  null|\n",
            "|Brasil|  null|     null|   76|  null|          null|           null|2020-03-01|       10|       210147125|           2.0|         0|              0|          0|               1|                    1|                  null|\n",
            "|Brasil|  null|     null|   76|  null|          null|           null|2020-03-02|       10|       210147125|           2.0|         0|              0|          0|               0|                    2|                  null|\n",
            "|Brasil|  null|     null|   76|  null|          null|           null|2020-03-03|       10|       210147125|           2.0|         0|              0|          0|               0|                    2|                  null|\n",
            "|Brasil|  null|     null|   76|  null|          null|           null|2020-03-04|       10|       210147125|           3.0|         1|              0|          0|               1|                    2|                  null|\n",
            "|Brasil|  null|     null|   76|  null|          null|           null|2020-03-05|       10|       210147125|           7.0|         4|              0|          0|               4|                    3|                  null|\n",
            "|Brasil|  null|     null|   76|  null|          null|           null|2020-03-06|       10|       210147125|          13.0|         6|              0|          0|               6|                    7|                  null|\n",
            "|Brasil|  null|     null|   76|  null|          null|           null|2020-03-07|       10|       210147125|          19.0|         6|              0|          0|               7|                   12|                  null|\n",
            "|Brasil|  null|     null|   76|  null|          null|           null|2020-03-08|       11|       210147125|          25.0|         6|              0|          0|               6|                   19|                  null|\n",
            "|Brasil|  null|     null|   76|  null|          null|           null|2020-03-09|       11|       210147125|          25.0|         0|              0|          0|               1|                   24|                  null|\n",
            "|Brasil|  null|     null|   76|  null|          null|           null|2020-03-10|       11|       210147125|          34.0|         9|              0|          0|               6|                   28|                  null|\n",
            "|Brasil|  null|     null|   76|  null|          null|           null|2020-03-11|       11|       210147125|          52.0|        18|              0|          0|              16|                   36|                  null|\n",
            "|Brasil|  null|     null|   76|  null|          null|           null|2020-03-12|       11|       210147125|          77.0|        25|              0|          0|              23|                   54|                  null|\n",
            "|Brasil|  null|     null|   76|  null|          null|           null|2020-03-13|       11|       210147125|          98.0|        21|              0|          0|              24|                   74|                  null|\n",
            "|Brasil|  null|     null|   76|  null|          null|           null|2020-03-14|       11|       210147125|         121.0|        23|              0|          0|              22|                   99|                  null|\n",
            "|Brasil|  null|     null|   76|  null|          null|           null|2020-03-15|       12|       210147125|         200.0|        79|              0|          0|              62|                  138|                  null|\n",
            "+------+------+---------+-----+------+--------------+---------------+----------+---------+----------------+--------------+----------+---------------+-----------+----------------+---------------------+----------------------+\n",
            "only showing top 20 rows\n",
            "\n"
          ]
        }
      ],
      "source": [
        "covid = covid.withColumn(\"data\",\\\n",
        "                          f.date_format(\"data\", \"yyyy-MM-dd\"))\n",
        "covid.show()"
      ]
    },
    {
      "cell_type": "code",
      "execution_count": null,
      "metadata": {
        "colab": {
          "base_uri": "https://localhost:8080/"
        },
        "id": "VFvAEMEV4aG7",
        "outputId": "aeb84931-dab3-49b4-c07e-63b6c49c8bf9"
      },
      "outputs": [
        {
          "output_type": "stream",
          "name": "stdout",
          "text": [
            "root\n",
            " |-- regiao: string (nullable = true)\n",
            " |-- estado: string (nullable = true)\n",
            " |-- municipio: string (nullable = true)\n",
            " |-- coduf: integer (nullable = true)\n",
            " |-- codmun: integer (nullable = true)\n",
            " |-- codRegiaoSaude: integer (nullable = true)\n",
            " |-- nomeRegiaoSaude: string (nullable = true)\n",
            " |-- data: string (nullable = true)\n",
            " |-- semanaEpi: integer (nullable = true)\n",
            " |-- populacaoTCU2019: integer (nullable = true)\n",
            " |-- casosAcumulado: double (nullable = true)\n",
            " |-- casosNovos: integer (nullable = true)\n",
            " |-- obitosAcumulado: integer (nullable = true)\n",
            " |-- obitosNovos: integer (nullable = true)\n",
            " |-- Recuperadosnovos: integer (nullable = true)\n",
            " |-- emAcompanhamentoNovos: integer (nullable = true)\n",
            " |-- interior/metropolitana: integer (nullable = true)\n",
            "\n"
          ]
        }
      ],
      "source": [
        "covid.printSchema()"
      ]
    },
    {
      "cell_type": "markdown",
      "metadata": {
        "id": "HktUvsv9yKqL"
      },
      "source": [
        "#### **Transformação a coluna data de string para date.**"
      ]
    },
    {
      "cell_type": "code",
      "execution_count": null,
      "metadata": {
        "colab": {
          "base_uri": "https://localhost:8080/"
        },
        "id": "7rJtUyHs5Lmh",
        "outputId": "81eb71a3-1e96-45e8-cdaf-7b29e7db11d6"
      },
      "outputs": [
        {
          "output_type": "stream",
          "name": "stdout",
          "text": [
            "root\n",
            " |-- regiao: string (nullable = true)\n",
            " |-- estado: string (nullable = true)\n",
            " |-- municipio: string (nullable = true)\n",
            " |-- coduf: integer (nullable = true)\n",
            " |-- codmun: integer (nullable = true)\n",
            " |-- codRegiaoSaude: integer (nullable = true)\n",
            " |-- nomeRegiaoSaude: string (nullable = true)\n",
            " |-- data: date (nullable = true)\n",
            " |-- semanaEpi: integer (nullable = true)\n",
            " |-- populacaoTCU2019: integer (nullable = true)\n",
            " |-- casosAcumulado: double (nullable = true)\n",
            " |-- casosNovos: integer (nullable = true)\n",
            " |-- obitosAcumulado: integer (nullable = true)\n",
            " |-- obitosNovos: integer (nullable = true)\n",
            " |-- Recuperadosnovos: integer (nullable = true)\n",
            " |-- emAcompanhamentoNovos: integer (nullable = true)\n",
            " |-- interior/metropolitana: integer (nullable = true)\n",
            "\n"
          ]
        }
      ],
      "source": [
        "covid = covid.withColumn(\"data\", to_date(f.col(\"data\"), \"yyyy-MM-dd\"))\n",
        "\n",
        "covid.printSchema()"
      ]
    },
    {
      "cell_type": "markdown",
      "metadata": {
        "id": "RTXEsGQTz9Ay"
      },
      "source": [
        "#### **Contagem da quantidade de registros na tabela.**"
      ]
    },
    {
      "cell_type": "code",
      "execution_count": null,
      "metadata": {
        "colab": {
          "base_uri": "https://localhost:8080/"
        },
        "id": "LCD26Dj621Bx",
        "outputId": "0a09c5c2-9211-43ac-ba6c-b353fa784cab"
      },
      "outputs": [
        {
          "output_type": "execute_result",
          "data": {
            "text/plain": [
              "6244445"
            ]
          },
          "metadata": {},
          "execution_count": 17
        }
      ],
      "source": [
        "covid.count()"
      ]
    },
    {
      "cell_type": "markdown",
      "metadata": {
        "id": "UNMoKWoo9k1k"
      },
      "source": [
        "#### **Exploração da coluna interor/metropolitana.**\n"
      ]
    },
    {
      "cell_type": "code",
      "execution_count": null,
      "metadata": {
        "colab": {
          "base_uri": "https://localhost:8080/"
        },
        "id": "LkqHyzeXJ-gG",
        "outputId": "36ce8852-24f5-40d9-c01a-af67d3ccfab2"
      },
      "outputs": [
        {
          "output_type": "stream",
          "name": "stdout",
          "text": [
            "+----------------------+\n",
            "|interior/metropolitana|\n",
            "+----------------------+\n",
            "|                  null|\n",
            "|                     1|\n",
            "|                     0|\n",
            "+----------------------+\n",
            "\n"
          ]
        }
      ],
      "source": [
        "covid.select(\"interior/metropolitana\").distinct().show()"
      ]
    },
    {
      "cell_type": "markdown",
      "metadata": {
        "id": "0Osg-UXVrd7Y"
      },
      "source": [
        "- Devido a coluna interior/metropolitana não evidenciar quando a localidade se refere ao interior ou a área metropolitana, a mesma foi removida.\n"
      ]
    },
    {
      "cell_type": "code",
      "execution_count": null,
      "metadata": {
        "id": "9OBjdFSMrPgS"
      },
      "outputs": [],
      "source": [
        "covid = covid.drop(\"interior/metropolitana\")"
      ]
    },
    {
      "cell_type": "markdown",
      "metadata": {
        "id": "rTAKxXDttkjx"
      },
      "source": [
        "#### **Separação do dataframe do Brasil.**\n",
        "Foi separado o dataframe do Brasil para verificar os casos e obitos novos referentes ao país, desconsiderando as regiões, estados e municipios."
      ]
    },
    {
      "cell_type": "code",
      "execution_count": null,
      "metadata": {
        "colab": {
          "base_uri": "https://localhost:8080/"
        },
        "id": "OiDskJ56ap5e",
        "outputId": "20a50325-09cc-443f-e2ce-d11ff07c1e2b"
      },
      "outputs": [
        {
          "output_type": "stream",
          "name": "stdout",
          "text": [
            "+----------+------+----------+-----------+\n",
            "|      data|regiao|casosNovos|obitosNovos|\n",
            "+----------+------+----------+-----------+\n",
            "|2022-02-03|Brasil|    298408|       1041|\n",
            "|2022-01-28|Brasil|    269968|        799|\n",
            "|2022-01-27|Brasil|    228954|        672|\n",
            "|2022-01-26|Brasil|    224567|        570|\n",
            "|2022-01-19|Brasil|    204854|        338|\n",
            "|2022-02-05|Brasil|    197442|       1308|\n",
            "|2022-02-01|Brasil|    193465|        929|\n",
            "|2022-02-04|Brasil|    184311|        493|\n",
            "|2022-01-25|Brasil|    183722|        487|\n",
            "|2022-01-29|Brasil|    179816|        640|\n",
            "|2022-02-09|Brasil|    178814|       1264|\n",
            "|2022-02-08|Brasil|    177027|       1189|\n",
            "|2022-02-02|Brasil|    172903|        893|\n",
            "|2022-01-20|Brasil|    168495|        350|\n",
            "|2022-01-21|Brasil|    166539|        358|\n",
            "|2022-02-11|Brasil|    166009|       1135|\n",
            "|2022-02-10|Brasil|    164066|        943|\n",
            "|2022-01-22|Brasil|    157393|        238|\n",
            "|2021-09-18|Brasil|    150106|        935|\n",
            "|2022-02-16|Brasil|    147734|       1085|\n",
            "+----------+------+----------+-----------+\n",
            "only showing top 20 rows\n",
            "\n"
          ]
        }
      ],
      "source": [
        "brasil = covid.select(\"data\", \"regiao\", \"casosNovos\",\"obitosNovos\")\\\n",
        "              .filter(f.col(\"regiao\") == \"Brasil\")\\\n",
        "              .sort(col(\"casosNovos\").desc(), col(\"obitosNovos\").desc())\n",
        "\n",
        "brasil.show()"
      ]
    },
    {
      "cell_type": "markdown",
      "metadata": {
        "id": "2x4c-6xIuEk0"
      },
      "source": [
        "#### **Separação do dataframe das Regiões.**\n",
        "Foi separado o dataframe das Regiões para verificar os casos e obitos novos referentes as regiões, desconsiderando o país, estados e municípios."
      ]
    },
    {
      "cell_type": "code",
      "execution_count": null,
      "metadata": {
        "colab": {
          "base_uri": "https://localhost:8080/"
        },
        "id": "dXDfhPWCotI6",
        "outputId": "9a10bd55-0ec4-4bac-9d33-1f8c49f40867"
      },
      "outputs": [
        {
          "output_type": "stream",
          "name": "stdout",
          "text": [
            "+--------+----------+-----------+\n",
            "|  regiao|casosNovos|obitosNovos|\n",
            "+--------+----------+-----------+\n",
            "| Sudeste|    105700|        371|\n",
            "|   Norte|     74352|        727|\n",
            "|   Norte|     73235|        719|\n",
            "| Sudeste|     69223|          7|\n",
            "|     Sul|     64036|         62|\n",
            "|Nordeste|     59430|          0|\n",
            "|Nordeste|     49132|          0|\n",
            "|     Sul|     47815|       1134|\n",
            "|     Sul|     47101|       1108|\n",
            "|     Sul|     45154|         90|\n",
            "|     Sul|     45020|        247|\n",
            "|     Sul|     43776|       1043|\n",
            "|     Sul|     43028|       1020|\n",
            "|Nordeste|     42771|          3|\n",
            "|Nordeste|     42547|         64|\n",
            "| Sudeste|     40753|         44|\n",
            "|Nordeste|     40290|         16|\n",
            "|     Sul|     40170|        177|\n",
            "| Sudeste|     39271|        109|\n",
            "| Sudeste|     37611|        349|\n",
            "+--------+----------+-----------+\n",
            "only showing top 20 rows\n",
            "\n"
          ]
        }
      ],
      "source": [
        "regiao = covid.select( \"regiao\", \"casosNovos\",\"obitosNovos\")\\\n",
        "              .filter(f.col(\"regiao\") != \"Brasil\")\n",
        "\n",
        "regiao.sort(col(\"casosNovos\").desc(), col(\"obitosNovos\").desc()).show()"
      ]
    },
    {
      "cell_type": "markdown",
      "metadata": {
        "id": "OoLXCzOouTll"
      },
      "source": [
        "#### **Separação do dataframe dos Estados.**\n",
        "Foi separado o dataframe dos Estados para verificar os casos e obitos novos referentes a cada estado, desconsiderando as país, regiões e municipios."
      ]
    },
    {
      "cell_type": "code",
      "execution_count": null,
      "metadata": {
        "colab": {
          "base_uri": "https://localhost:8080/"
        },
        "id": "L00zI_W54Juz",
        "outputId": "9ca7556f-b1f3-47ea-e1d1-9d515b64ee11"
      },
      "outputs": [
        {
          "output_type": "stream",
          "name": "stdout",
          "text": [
            "+----------+-------+------+----------+-----------+\n",
            "|      data| regiao|estado|casosNovos|obitosNovos|\n",
            "+----------+-------+------+----------+-----------+\n",
            "|2021-04-06|Sudeste|    SP|     22794|       1389|\n",
            "|2021-04-08|Sudeste|    SP|     21004|       1299|\n",
            "|2021-04-13|Sudeste|    SP|     18397|       1282|\n",
            "|2021-03-30|Sudeste|    SP|     21360|       1209|\n",
            "|2021-03-26|Sudeste|    SP|     21489|       1193|\n",
            "|2021-03-31|Sudeste|    SP|     23169|       1160|\n",
            "|2021-04-20|Sudeste|    SP|     19060|       1122|\n",
            "|2021-04-14|Sudeste|    SP|     18790|       1095|\n",
            "|2021-04-01|Sudeste|    SP|     26567|       1082|\n",
            "|2021-04-15|Sudeste|    SP|     18067|       1060|\n",
            "|2021-03-27|Sudeste|    SP|     18124|       1051|\n",
            "|2021-04-27|Sudeste|    SP|     17992|       1044|\n",
            "|2021-03-23|Sudeste|    SP|     20942|       1021|\n",
            "|2021-04-09|Sudeste|    SP|     20701|       1008|\n",
            "|2021-04-21|Sudeste|    SP|     17123|        977|\n",
            "|2021-05-25|Sudeste|    SP|     17477|        898|\n",
            "|2021-06-15|Sudeste|    SP|     23227|        897|\n",
            "|2021-04-07|Sudeste|    SP|     21521|        889|\n",
            "|2021-04-29|Sudeste|    SP|     14920|        876|\n",
            "|2021-04-24|Sudeste|    SP|     16271|        875|\n",
            "+----------+-------+------+----------+-----------+\n",
            "only showing top 20 rows\n",
            "\n"
          ]
        }
      ],
      "source": [
        "estados = covid.select(\"data\", \"regiao\", \"estado\", \"casosNovos\", \"obitosNovos\")\\\n",
        "               .filter((f.col(\"regiao\") != \"Brasil\")&(f.col(\"municipio\").isNull()))\\\n",
        "               .orderBy(col(\"obitosNovos\").desc())\\\n",
        "   \n",
        "\n",
        "estados.show()"
      ]
    },
    {
      "cell_type": "markdown",
      "metadata": {
        "id": "0Ra9OpxgBikW"
      },
      "source": [
        "#### **Exploração dos dados dos estados Rio de Janeiro e São Paulo.**\n",
        "Foi realizada uma exploração dos dados para verificar se as colunas casosAcumulado e obitosAcumulado estão consistentes. Foi utilizado como amostra os estados de São Paulo e Rio de Janeiro."
      ]
    },
    {
      "cell_type": "code",
      "execution_count": null,
      "metadata": {
        "colab": {
          "base_uri": "https://localhost:8080/"
        },
        "id": "8xOTHSrGyKQ-",
        "outputId": "c8fa1f40-9bb9-417d-908c-79b6f1c08cd6"
      },
      "outputs": [
        {
          "output_type": "stream",
          "name": "stdout",
          "text": [
            "+-------+------+---------+-----+------+--------------+---------------+----------+---------+----------------+--------------+----------+---------------+-----------+----------------+---------------------+\n",
            "| regiao|estado|municipio|coduf|codmun|codRegiaoSaude|nomeRegiaoSaude|      data|semanaEpi|populacaoTCU2019|casosAcumulado|casosNovos|obitosAcumulado|obitosNovos|Recuperadosnovos|emAcompanhamentoNovos|\n",
            "+-------+------+---------+-----+------+--------------+---------------+----------+---------+----------------+--------------+----------+---------------+-----------+----------------+---------------------+\n",
            "|Sudeste|    SP|     null|   35|  null|          null|           null|2022-12-05|       49|        45919049|     6204502.0|      6764|         176417|         61|            null|                 null|\n",
            "|Sudeste|    SP|     null|   35|  null|          null|           null|2022-12-04|       49|        45919049|     6197738.0|         0|         176356|          0|            null|                 null|\n",
            "|Sudeste|    SP|     null|   35|  null|          null|           null|2022-12-03|       48|        45919049|     6197738.0|         0|         176356|          0|            null|                 null|\n",
            "|Sudeste|    SP|     null|   35|  null|          null|           null|2022-12-02|       48|        45919049|     6197738.0|      4919|         176356|         58|            null|                 null|\n",
            "|Sudeste|    SP|     null|   35|  null|          null|           null|2022-12-01|       48|        45919049|     6192819.0|      2300|         176298|         49|            null|                 null|\n",
            "|Sudeste|    SP|     null|   35|  null|          null|           null|2022-11-30|       48|        45919049|     6190519.0|       231|         176249|         50|            null|                 null|\n",
            "|Sudeste|    SP|     null|   35|  null|          null|           null|2022-11-29|       48|        45919049|     6190288.0|       243|         176199|         34|            null|                 null|\n",
            "|Sudeste|    SP|     null|   35|  null|          null|           null|2022-11-28|       48|        45919049|     6190045.0|      4194|         176165|         32|            null|                 null|\n",
            "|Sudeste|    SP|     null|   35|  null|          null|           null|2022-11-27|       48|        45919049|     6185851.0|         0|         176133|          0|            null|                 null|\n",
            "|Sudeste|    SP|     null|   35|  null|          null|           null|2022-11-26|       47|        45919049|     6185851.0|         0|         176133|          0|            null|                 null|\n",
            "|Sudeste|    SP|     null|   35|  null|          null|           null|2022-11-25|       47|        45919049|     6185851.0|      3805|         176133|         31|            null|                 null|\n",
            "|Sudeste|    SP|     null|   35|  null|          null|           null|2022-11-24|       47|        45919049|     6182046.0|      4469|         176102|         28|            null|                 null|\n",
            "|Sudeste|    SP|     null|   35|  null|          null|           null|2022-11-23|       47|        45919049|     6177577.0|      2821|         176074|         37|            null|                 null|\n",
            "|Sudeste|    SP|     null|   35|  null|          null|           null|2022-11-22|       47|        45919049|     6174756.0|       555|         176037|         45|            null|                 null|\n",
            "|Sudeste|    SP|     null|   35|  null|          null|           null|2022-11-21|       47|        45919049|     6174201.0|      3596|         175992|         51|            null|                 null|\n",
            "|Sudeste|    SP|     null|   35|  null|          null|           null|2022-11-20|       47|        45919049|     6170605.0|         0|         175941|          0|            null|                 null|\n",
            "|Sudeste|    SP|     null|   35|  null|          null|           null|2022-11-19|       46|        45919049|     6170605.0|         0|         175941|          0|            null|                 null|\n",
            "|Sudeste|    SP|     null|   35|  null|          null|           null|2022-11-18|       46|        45919049|     6170605.0|      3046|         175941|         29|            null|                 null|\n",
            "|Sudeste|    SP|     null|   35|  null|          null|           null|2022-11-17|       46|        45919049|     6167559.0|      3940|         175912|         37|            null|                 null|\n",
            "|Sudeste|    SP|     null|   35|  null|          null|           null|2022-11-16|       46|        45919049|     6163619.0|       429|         175875|         24|            null|                 null|\n",
            "+-------+------+---------+-----+------+--------------+---------------+----------+---------+----------------+--------------+----------+---------------+-----------+----------------+---------------------+\n",
            "only showing top 20 rows\n",
            "\n"
          ]
        }
      ],
      "source": [
        "covid_sp = covid.filter((f.col(\"estado\") == \"SP\")&(f.col(\"codmun\").isNull()))\\\n",
        "                  .orderBy(col(\"data\").desc())\n",
        "\n",
        "covid_sp.show()"
      ]
    },
    {
      "cell_type": "code",
      "execution_count": null,
      "metadata": {
        "colab": {
          "base_uri": "https://localhost:8080/"
        },
        "id": "aFz06FCKwHUo",
        "outputId": "4a2d3cca-488f-4c62-bab5-066df05e8e0c"
      },
      "outputs": [
        {
          "output_type": "stream",
          "name": "stdout",
          "text": [
            "+-------+------+---------+-----+------+--------------+---------------+----------+---------+----------------+--------------+----------+---------------+-----------+----------------+---------------------+\n",
            "| regiao|estado|municipio|coduf|codmun|codRegiaoSaude|nomeRegiaoSaude|      data|semanaEpi|populacaoTCU2019|casosAcumulado|casosNovos|obitosAcumulado|obitosNovos|Recuperadosnovos|emAcompanhamentoNovos|\n",
            "+-------+------+---------+-----+------+--------------+---------------+----------+---------+----------------+--------------+----------+---------------+-----------+----------------+---------------------+\n",
            "|Sudeste|    RJ|     null|   33|  null|          null|           null|2022-12-05|       49|        17264943|     2648331.0|      2689|          76161|         18|            null|                 null|\n",
            "|Sudeste|    RJ|     null|   33|  null|          null|           null|2022-12-04|       49|        17264943|     2645642.0|         0|          76143|          0|            null|                 null|\n",
            "|Sudeste|    RJ|     null|   33|  null|          null|           null|2022-12-03|       48|        17264943|     2645642.0|         0|          76143|          0|            null|                 null|\n",
            "|Sudeste|    RJ|     null|   33|  null|          null|           null|2022-12-02|       48|        17264943|     2645642.0|      5278|          76143|         20|            null|                 null|\n",
            "|Sudeste|    RJ|     null|   33|  null|          null|           null|2022-12-01|       48|        17264943|     2640364.0|      3083|          76123|         26|            null|                 null|\n",
            "|Sudeste|    RJ|     null|   33|  null|          null|           null|2022-11-30|       48|        17264943|     2637281.0|      4701|          76097|         27|            null|                 null|\n",
            "|Sudeste|    RJ|     null|   33|  null|          null|           null|2022-11-29|       48|        17264943|     2632580.0|     12006|          76070|         16|            null|                 null|\n",
            "|Sudeste|    RJ|     null|   33|  null|          null|           null|2022-11-28|       48|        17264943|     2620574.0|         0|          76054|          0|            null|                 null|\n",
            "|Sudeste|    RJ|     null|   33|  null|          null|           null|2022-11-27|       48|        17264943|     2620574.0|         0|          76054|          0|            null|                 null|\n",
            "|Sudeste|    RJ|     null|   33|  null|          null|           null|2022-11-26|       47|        17264943|     2620574.0|         0|          76054|          0|            null|                 null|\n",
            "|Sudeste|    RJ|     null|   33|  null|          null|           null|2022-11-25|       47|        17264943|     2620574.0|     11381|          76054|         31|            null|                 null|\n",
            "|Sudeste|    RJ|     null|   33|  null|          null|           null|2022-11-24|       47|        17264943|     2609193.0|         0|          76023|          0|            null|                 null|\n",
            "|Sudeste|    RJ|     null|   33|  null|          null|           null|2022-11-23|       47|        17264943|     2609193.0|      6299|          76023|         13|            null|                 null|\n",
            "|Sudeste|    RJ|     null|   33|  null|          null|           null|2022-11-22|       47|        17264943|     2602894.0|      1390|          76010|         35|            null|                 null|\n",
            "|Sudeste|    RJ|     null|   33|  null|          null|           null|2022-11-21|       47|        17264943|     2601504.0|     11004|          75975|         31|            null|                 null|\n",
            "|Sudeste|    RJ|     null|   33|  null|          null|           null|2022-11-20|       47|        17264943|     2590500.0|         0|          75944|          0|            null|                 null|\n",
            "|Sudeste|    RJ|     null|   33|  null|          null|           null|2022-11-19|       46|        17264943|     2590500.0|         0|          75944|          0|            null|                 null|\n",
            "|Sudeste|    RJ|     null|   33|  null|          null|           null|2022-11-18|       46|        17264943|     2590500.0|     10633|          75944|          8|            null|                 null|\n",
            "|Sudeste|    RJ|     null|   33|  null|          null|           null|2022-11-17|       46|        17264943|     2579867.0|     11689|          75936|         12|            null|                 null|\n",
            "|Sudeste|    RJ|     null|   33|  null|          null|           null|2022-11-16|       46|        17264943|     2568178.0|      8804|          75924|         13|            null|                 null|\n",
            "+-------+------+---------+-----+------+--------------+---------------+----------+---------+----------------+--------------+----------+---------------+-----------+----------------+---------------------+\n",
            "only showing top 20 rows\n",
            "\n"
          ]
        }
      ],
      "source": [
        "covid_rj = covid.filter((f.col(\"estado\") == \"RJ\")&(f.col(\"codmun\").isNull()))\\\n",
        "                .orderBy(col(\"data\").desc())\n",
        "\n",
        "covid_rj.show()"
      ]
    },
    {
      "cell_type": "code",
      "execution_count": null,
      "metadata": {
        "colab": {
          "base_uri": "https://localhost:8080/"
        },
        "id": "3HC7SsqQ0wNw",
        "outputId": "f611f5de-6c3b-429a-9516-884e480156f6"
      },
      "outputs": [
        {
          "output_type": "stream",
          "name": "stdout",
          "text": [
            "+------+------+--------------------+-----+------+--------------+---------------+----------+---------+----------------+--------------+----------+---------------+-----------+----------------+---------------------+\n",
            "|regiao|estado|           municipio|coduf|codmun|codRegiaoSaude|nomeRegiaoSaude|      data|semanaEpi|populacaoTCU2019|casosAcumulado|casosNovos|obitosAcumulado|obitosNovos|Recuperadosnovos|emAcompanhamentoNovos|\n",
            "+------+------+--------------------+-----+------+--------------+---------------+----------+---------+----------------+--------------+----------+---------------+-----------+----------------+---------------------+\n",
            "| Norte|    RO|Alta Floresta D'O...|   11|110001|         11005|   ZONA DA MATA|2020-05-09|       19|           22945|           1.0|        -1|              0|          0|            null|                 null|\n",
            "| Norte|    RO|Alta Floresta D'O...|   11|110001|         11005|   ZONA DA MATA|2020-05-24|       22|           22945|           3.0|        -1|              0|          0|            null|                 null|\n",
            "| Norte|    RO|Alta Floresta D'O...|   11|110001|         11005|   ZONA DA MATA|2020-06-14|       25|           22945|          41.0|        -8|              0|          0|            null|                 null|\n",
            "| Norte|    RO|           Ariquemes|   11|110002|         11001| VALE DO JAMARI|2020-04-14|       16|          107863|           3.0|        -4|              0|          0|            null|                 null|\n",
            "| Norte|    RO|           Ariquemes|   11|110002|         11001| VALE DO JAMARI|2020-04-22|       17|          107863|          39.0|        -5|              0|          0|            null|                 null|\n",
            "| Norte|    RO|           Ariquemes|   11|110002|         11001| VALE DO JAMARI|2020-05-05|       19|          107863|          88.0|        -1|              0|          0|            null|                 null|\n",
            "| Norte|    RO|           Ariquemes|   11|110002|         11001| VALE DO JAMARI|2020-05-11|       20|          107863|         122.0|        -1|              0|          0|            null|                 null|\n",
            "| Norte|    RO|              Cabixi|   11|110003|         11006|       CONE SUL|2020-07-06|       28|            5312|          12.0|        -1|              1|          0|            null|                 null|\n",
            "| Norte|    RO|              Cacoal|   11|110004|         11002|           CAFE|2020-05-17|       21|           85359|          29.0|        -1|              0|          0|            null|                 null|\n",
            "| Norte|    RO|              Cacoal|   11|110004|         11002|           CAFE|2020-06-06|       23|           85359|          86.0|        -1|              1|          0|            null|                 null|\n",
            "| Norte|    RO|          Cerejeiras|   11|110005|         11006|       CONE SUL|2020-05-24|       22|           16323|           0.0|        -1|              0|         -1|            null|                 null|\n",
            "| Norte|    RO|          Cerejeiras|   11|110005|         11006|       CONE SUL|2020-06-14|       25|           16323|          15.0|        -2|              2|          0|            null|                 null|\n",
            "| Norte|    RO|          Cerejeiras|   11|110005|         11006|       CONE SUL|2020-06-22|       26|           16323|          24.0|        -1|              2|          0|            null|                 null|\n",
            "| Norte|    RO|   Colorado do Oeste|   11|110006|         11006|       CONE SUL|2020-06-25|       26|           15882|          30.0|        -2|              0|          0|            null|                 null|\n",
            "| Norte|    RO|   Colorado do Oeste|   11|110006|         11006|       CONE SUL|2020-07-01|       27|           15882|          43.0|        -3|              0|          0|            null|                 null|\n",
            "| Norte|    RO|   Colorado do Oeste|   11|110006|         11006|       CONE SUL|2020-07-03|       27|           15882|          45.0|        -1|              0|          0|            null|                 null|\n",
            "| Norte|    RO|          Corumbiara|   11|110007|         11006|       CONE SUL|2020-06-09|       24|            7391|           3.0|        -2|              0|          0|            null|                 null|\n",
            "| Norte|    RO|       Costa Marques|   11|110008|         11007|VALE DO GUAPORE|2020-06-07|       24|           18331|           6.0|        -1|              0|          0|            null|                 null|\n",
            "| Norte|    RO|     Espigão D'Oeste|   11|110009|         11002|           CAFE|2020-05-15|       20|           32374|           2.0|        -1|              0|          0|            null|                 null|\n",
            "| Norte|    RO|     Espigão D'Oeste|   11|110009|         11002|           CAFE|2020-06-12|       24|           32374|          36.0|        -1|              2|          0|            null|                 null|\n",
            "+------+------+--------------------+-----+------+--------------+---------------+----------+---------+----------------+--------------+----------+---------------+-----------+----------------+---------------------+\n",
            "only showing top 20 rows\n",
            "\n"
          ]
        }
      ],
      "source": [
        "covid_localidades = covid.filter((f.col(\"regiao\") != \"Brasil\")&\\\n",
        "                                 (f.col(\"municipio\").isNotNull())&\\\n",
        "                                 (f.col(\"casosNovos\")<0))\n",
        "\n",
        "covid_localidades.show()\n",
        "\n"
      ]
    },
    {
      "cell_type": "code",
      "execution_count": null,
      "metadata": {
        "colab": {
          "base_uri": "https://localhost:8080/"
        },
        "id": "I0uPh1qBZJ3o",
        "outputId": "461c929f-1f87-4340-ac9e-e421d3a3dbe9"
      },
      "outputs": [
        {
          "output_type": "stream",
          "name": "stdout",
          "text": [
            "+------+------+---------+-----+------+--------------+---------------+----------+---------+----------------+--------------+----------+---------------+-----------+----------------+---------------------+\n",
            "|regiao|estado|municipio|coduf|codmun|codRegiaoSaude|nomeRegiaoSaude|      data|semanaEpi|populacaoTCU2019|casosAcumulado|casosNovos|obitosAcumulado|obitosNovos|Recuperadosnovos|emAcompanhamentoNovos|\n",
            "+------+------+---------+-----+------+--------------+---------------+----------+---------+----------------+--------------+----------+---------------+-----------+----------------+---------------------+\n",
            "| Norte|    RO|   Cabixi|   11|110003|         11006|       CONE SUL|2020-06-04|       23|            5312|           3.0|         3|              0|          0|            null|                 null|\n",
            "| Norte|    RO|   Cabixi|   11|110003|         11006|       CONE SUL|2020-06-30|       27|            5312|           4.0|         1|              1|          1|            null|                 null|\n",
            "| Norte|    RO|   Cabixi|   11|110003|         11006|       CONE SUL|2020-07-03|       27|            5312|           5.0|         1|              1|          0|            null|                 null|\n",
            "| Norte|    RO|   Cabixi|   11|110003|         11006|       CONE SUL|2020-07-04|       27|            5312|          11.0|         6|              1|          0|            null|                 null|\n",
            "| Norte|    RO|   Cabixi|   11|110003|         11006|       CONE SUL|2020-07-05|       28|            5312|          13.0|         2|              1|          0|            null|                 null|\n",
            "| Norte|    RO|   Cabixi|   11|110003|         11006|       CONE SUL|2020-07-06|       28|            5312|          12.0|        -1|              1|          0|            null|                 null|\n",
            "| Norte|    RO|   Cabixi|   11|110003|         11006|       CONE SUL|2020-07-08|       28|            5312|          15.0|         3|              2|          1|            null|                 null|\n",
            "| Norte|    RO|   Cabixi|   11|110003|         11006|       CONE SUL|2020-07-09|       28|            5312|          16.0|         1|              2|          0|            null|                 null|\n",
            "| Norte|    RO|   Cabixi|   11|110003|         11006|       CONE SUL|2020-07-10|       28|            5312|          19.0|         3|              2|          0|            null|                 null|\n",
            "| Norte|    RO|   Cabixi|   11|110003|         11006|       CONE SUL|2020-07-12|       29|            5312|          20.0|         1|              2|          0|            null|                 null|\n",
            "| Norte|    RO|   Cabixi|   11|110003|         11006|       CONE SUL|2020-07-13|       29|            5312|          21.0|         1|              2|          0|            null|                 null|\n",
            "| Norte|    RO|   Cabixi|   11|110003|         11006|       CONE SUL|2020-07-14|       29|            5312|          22.0|         1|              2|          0|            null|                 null|\n",
            "| Norte|    RO|   Cabixi|   11|110003|         11006|       CONE SUL|2020-07-15|       29|            5312|          27.0|         5|              2|          0|            null|                 null|\n",
            "| Norte|    RO|   Cabixi|   11|110003|         11006|       CONE SUL|2020-07-16|       29|            5312|          28.0|         1|              2|          0|            null|                 null|\n",
            "| Norte|    RO|   Cabixi|   11|110003|         11006|       CONE SUL|2020-07-20|       30|            5312|          34.0|         6|              0|         -2|            null|                 null|\n",
            "| Norte|    RO|   Cabixi|   11|110003|         11006|       CONE SUL|2020-07-22|       30|            5312|          35.0|         1|              2|          0|            null|                 null|\n",
            "| Norte|    RO|   Cabixi|   11|110003|         11006|       CONE SUL|2020-07-23|       30|            5312|          37.0|         2|              3|          1|            null|                 null|\n",
            "| Norte|    RO|   Cabixi|   11|110003|         11006|       CONE SUL|2020-07-25|       30|            5312|          38.0|         1|              3|          0|            null|                 null|\n",
            "| Norte|    RO|   Cabixi|   11|110003|         11006|       CONE SUL|2020-07-27|       31|            5312|          39.0|         1|              3|          0|            null|                 null|\n",
            "| Norte|    RO|   Cabixi|   11|110003|         11006|       CONE SUL|2020-07-28|       31|            5312|          41.0|         2|              3|          0|            null|                 null|\n",
            "+------+------+---------+-----+------+--------------+---------------+----------+---------+----------------+--------------+----------+---------------+-----------+----------------+---------------------+\n",
            "only showing top 20 rows\n",
            "\n"
          ]
        }
      ],
      "source": [
        "covid_localidades2 = covid.filter((f.col(\"regiao\") != \"Brasil\")\\\n",
        "                                 &(f.col(\"municipio\").isNotNull())\\\n",
        "                                 &(f.col(\"codmun\")== \"110003\")\\\n",
        "                                 &(f.col(\"casosNovos\")!= 0))\n",
        "covid_localidades2.show()"
      ]
    },
    {
      "cell_type": "markdown",
      "metadata": {
        "id": "cstzA0v9B4Mw"
      },
      "source": [
        "#### **Remoção dos registros das colunas casosNovos e obitosNovos com valores negativos.**\n",
        "Comparando o total de casos novos quando o codigo do municipio for nulo X total de casos novos por município para a mesma data base, concluímos que o codigo do municipio igual a nulo não se refere a somatória do estado. Nesse caso, optamos por remover esses registros para evitar trabalhar com dados sujos."
      ]
    },
    {
      "cell_type": "code",
      "execution_count": null,
      "metadata": {
        "colab": {
          "base_uri": "https://localhost:8080/"
        },
        "id": "Bftb3uzFACR3",
        "outputId": "53834f71-f857-4096-c592-dbb17055ee8f"
      },
      "outputs": [
        {
          "output_type": "stream",
          "name": "stdout",
          "text": [
            "+------+------+--------------------+-----+------+--------------+---------------+----------+---------+----------------+--------------+----------+---------------+-----------+----------------+---------------------+\n",
            "|regiao|estado|           municipio|coduf|codmun|codRegiaoSaude|nomeRegiaoSaude|      data|semanaEpi|populacaoTCU2019|casosAcumulado|casosNovos|obitosAcumulado|obitosNovos|Recuperadosnovos|emAcompanhamentoNovos|\n",
            "+------+------+--------------------+-----+------+--------------+---------------+----------+---------+----------------+--------------+----------+---------------+-----------+----------------+---------------------+\n",
            "| Norte|    RO|Alta Floresta D'O...|   11|110001|         11005|   ZONA DA MATA|2020-03-27|       13|           22945|           0.0|         0|              0|          0|            null|                 null|\n",
            "| Norte|    RO|Alta Floresta D'O...|   11|110001|         11005|   ZONA DA MATA|2020-03-28|       13|           22945|           0.0|         0|              0|          0|            null|                 null|\n",
            "| Norte|    RO|Alta Floresta D'O...|   11|110001|         11005|   ZONA DA MATA|2020-03-29|       14|           22945|           0.0|         0|              0|          0|            null|                 null|\n",
            "| Norte|    RO|Alta Floresta D'O...|   11|110001|         11005|   ZONA DA MATA|2020-03-30|       14|           22945|           0.0|         0|              0|          0|            null|                 null|\n",
            "| Norte|    RO|Alta Floresta D'O...|   11|110001|         11005|   ZONA DA MATA|2020-03-31|       14|           22945|           0.0|         0|              0|          0|            null|                 null|\n",
            "| Norte|    RO|Alta Floresta D'O...|   11|110001|         11005|   ZONA DA MATA|2020-04-01|       14|           22945|           0.0|         0|              0|          0|            null|                 null|\n",
            "| Norte|    RO|Alta Floresta D'O...|   11|110001|         11005|   ZONA DA MATA|2020-04-02|       14|           22945|           0.0|         0|              0|          0|            null|                 null|\n",
            "| Norte|    RO|Alta Floresta D'O...|   11|110001|         11005|   ZONA DA MATA|2020-04-03|       14|           22945|           0.0|         0|              0|          0|            null|                 null|\n",
            "| Norte|    RO|Alta Floresta D'O...|   11|110001|         11005|   ZONA DA MATA|2020-04-04|       14|           22945|           0.0|         0|              0|          0|            null|                 null|\n",
            "| Norte|    RO|Alta Floresta D'O...|   11|110001|         11005|   ZONA DA MATA|2020-04-05|       15|           22945|           0.0|         0|              0|          0|            null|                 null|\n",
            "| Norte|    RO|Alta Floresta D'O...|   11|110001|         11005|   ZONA DA MATA|2020-04-06|       15|           22945|           0.0|         0|              0|          0|            null|                 null|\n",
            "| Norte|    RO|Alta Floresta D'O...|   11|110001|         11005|   ZONA DA MATA|2020-04-07|       15|           22945|           0.0|         0|              0|          0|            null|                 null|\n",
            "| Norte|    RO|Alta Floresta D'O...|   11|110001|         11005|   ZONA DA MATA|2020-04-08|       15|           22945|           0.0|         0|              0|          0|            null|                 null|\n",
            "| Norte|    RO|Alta Floresta D'O...|   11|110001|         11005|   ZONA DA MATA|2020-04-09|       15|           22945|           0.0|         0|              0|          0|            null|                 null|\n",
            "| Norte|    RO|Alta Floresta D'O...|   11|110001|         11005|   ZONA DA MATA|2020-04-10|       15|           22945|           0.0|         0|              0|          0|            null|                 null|\n",
            "| Norte|    RO|Alta Floresta D'O...|   11|110001|         11005|   ZONA DA MATA|2020-04-11|       15|           22945|           0.0|         0|              0|          0|            null|                 null|\n",
            "| Norte|    RO|Alta Floresta D'O...|   11|110001|         11005|   ZONA DA MATA|2020-04-12|       16|           22945|           0.0|         0|              0|          0|            null|                 null|\n",
            "| Norte|    RO|Alta Floresta D'O...|   11|110001|         11005|   ZONA DA MATA|2020-04-13|       16|           22945|           0.0|         0|              0|          0|            null|                 null|\n",
            "| Norte|    RO|Alta Floresta D'O...|   11|110001|         11005|   ZONA DA MATA|2020-04-14|       16|           22945|           0.0|         0|              0|          0|            null|                 null|\n",
            "| Norte|    RO|Alta Floresta D'O...|   11|110001|         11005|   ZONA DA MATA|2020-04-15|       16|           22945|           0.0|         0|              0|          0|            null|                 null|\n",
            "+------+------+--------------------+-----+------+--------------+---------------+----------+---------+----------------+--------------+----------+---------------+-----------+----------------+---------------------+\n",
            "only showing top 20 rows\n",
            "\n"
          ]
        }
      ],
      "source": [
        "covid_novo = covid.withColumn(\"casosNovos\", when(f.col(\"casosNovos\")<0, 0)\\\n",
        "                              .otherwise(f.col(\"casosNovos\")))\\\n",
        "                  .withColumn(\"obitosNovos\", when(f.col(\"obitosNovos\")<0, 0)\\\n",
        "                              .otherwise(f.col(\"obitosNovos\")))\\\n",
        "                  .filter((f.col(\"regiao\") != \"Brasil\")&(f.col(\"municipio\").isNotNull()))\n",
        "covid_novo.show()"
      ]
    },
    {
      "cell_type": "markdown",
      "metadata": {
        "id": "vI9fLZF735J_"
      },
      "source": [
        "#### **Diferença de dias em que foram obtidos o valores de casos novos de COVID igual a zero.**\n",
        "É digitado o UF e o município que deseja ser consultado e é feita a contagem da diferença de dias em que esse município teve os casos novos de COVID igual a zero."
      ]
    },
    {
      "cell_type": "code",
      "execution_count": null,
      "metadata": {
        "colab": {
          "base_uri": "https://localhost:8080/"
        },
        "id": "5RAKc2Me31rx",
        "outputId": "9f6ca386-c2a1-49cb-cfdc-bffeb3c1e1f4"
      },
      "outputs": [
        {
          "output_type": "stream",
          "name": "stdout",
          "text": [
            "Digite o UF: SP\n",
            "Digite o municipio: São Paulo\n",
            "+------+---------+----------+--------------+\n",
            "|estado|municipio|      data|intervalo_dias|\n",
            "+------+---------+----------+--------------+\n",
            "|    SP|São Paulo|2020-03-27|           123|\n",
            "|    SP|São Paulo|2020-07-28|           101|\n",
            "|    SP|São Paulo|2020-11-06|             1|\n",
            "|    SP|São Paulo|2020-11-07|             1|\n",
            "|    SP|São Paulo|2020-11-08|             1|\n",
            "|    SP|São Paulo|2020-11-09|             1|\n",
            "|    SP|São Paulo|2020-11-10|            36|\n",
            "|    SP|São Paulo|2020-12-16|             4|\n",
            "|    SP|São Paulo|2020-12-20|           209|\n",
            "|    SP|São Paulo|2021-07-17|            62|\n",
            "|    SP|São Paulo|2021-09-17|            25|\n",
            "|    SP|São Paulo|2021-10-12|             5|\n",
            "|    SP|São Paulo|2021-10-17|             6|\n",
            "|    SP|São Paulo|2021-10-23|            20|\n",
            "|    SP|São Paulo|2021-11-12|            29|\n",
            "|    SP|São Paulo|2021-12-11|             1|\n",
            "|    SP|São Paulo|2021-12-12|             1|\n",
            "|    SP|São Paulo|2021-12-13|             1|\n",
            "|    SP|São Paulo|2021-12-14|             2|\n",
            "|    SP|São Paulo|2021-12-16|             3|\n",
            "+------+---------+----------+--------------+\n",
            "only showing top 20 rows\n",
            "\n"
          ]
        }
      ],
      "source": [
        "estado = input(\"Digite o UF: \")\n",
        "municipio = input(\"Digite o municipio: \")\n",
        "\n",
        "casos0 = covid_novo.filter(col(\"casosNovos\") == 0)\\\n",
        "                   .filter(col(\"estado\") == estado)\\\n",
        "                   .filter(col(\"municipio\") == municipio)\\\n",
        "                   .select(\"estado\",\"municipio\",\"data\", \"casosNovos\").distinct()\\\n",
        "                   .orderBy(col(\"data\").desc())\n",
        "\n",
        "Window_Spec = Window.partitionBy(\"casosNovos\").orderBy(\"data\")\t\n",
        "\n",
        "lead_data = casos0.withColumn(\"lead_data\",lead(\"data\",1).over(Window_Spec))\n",
        "\n",
        "itervalo_dias = lead_data.select(\"estado\", \"municipio\",\"data\", datediff(col(\"lead_data\"), col(\"data\")).alias(\"intervalo_dias\"))\n",
        "\n",
        "itervalo_dias.show()"
      ]
    },
    {
      "cell_type": "markdown",
      "metadata": {
        "id": "e1HNDpWwDbiB"
      },
      "source": [
        "#### **Soma do total de casos e obitos novos.**\n",
        " Foi realizada a soma de de total de casos e obitos novos considerando somente o estado."
      ]
    },
    {
      "cell_type": "code",
      "execution_count": null,
      "metadata": {
        "id": "GggvbHjA1oXT",
        "colab": {
          "base_uri": "https://localhost:8080/"
        },
        "outputId": "f5e45c20-58c8-42ec-841a-3bda1f541dc2"
      },
      "outputs": [
        {
          "output_type": "stream",
          "name": "stdout",
          "text": [
            "+------+-----+----------+-----------------------------+------------------------------+\n",
            "|estado|coduf|      data|casosNovos_diarios_por_estado|obitosNovos_diarios_por_estado|\n",
            "+------+-----+----------+-----------------------------+------------------------------+\n",
            "|    RO|   11|2020-03-14|                            0|                             0|\n",
            "|    AC|   12|2020-05-19|                          496|                            10|\n",
            "|    AC|   12|2020-06-09|                          658|                            24|\n",
            "|    MA|   21|2020-04-04|                           14|                             0|\n",
            "|    PI|   22|2020-05-11|                          108|                             6|\n",
            "|    RN|   24|2020-03-30|                           20|                             0|\n",
            "|    RN|   24|2020-04-24|                           98|                            10|\n",
            "|    RN|   24|2020-05-09|                          198|                            12|\n",
            "|    PB|   25|2020-04-25|                          122|                             4|\n",
            "|    PB|   25|2020-05-27|                         2580|                            24|\n",
            "|    PB|   25|2020-06-03|                         2318|                            70|\n",
            "|    PE|   26|2020-03-21|                            0|                             0|\n",
            "|    AL|   27|2020-06-08|                            0|                             0|\n",
            "|    SE|   28|2020-07-19|                         4342|                            28|\n",
            "|    BA|   29|2020-05-07|                          474|                            12|\n",
            "|    ES|   32|2020-03-16|                            0|                             0|\n",
            "|    ES|   32|2020-03-22|                            0|                             0|\n",
            "|    ES|   32|2020-06-07|                         1338|                            52|\n",
            "|    RJ|   33|2020-04-28|                         1120|                           122|\n",
            "|    SC|   42|2020-05-06|                          592|                             8|\n",
            "+------+-----+----------+-----------------------------+------------------------------+\n",
            "only showing top 20 rows\n",
            "\n"
          ]
        }
      ],
      "source": [
        "covid_total_estados = covid.withColumn(\"casosNovos\", when(f.col(\"casosNovos\")<0, 0)\\\n",
        "                                       .otherwise(f.col(\"casosNovos\")))\\\n",
        "                           .withColumn(\"obitosNovos\", when(f.col(\"obitosNovos\")<0, 0)\\\n",
        "                                       .otherwise(f.col(\"obitosNovos\")))\\\n",
        "                           .filter((f.col(\"municipio\").isNull())&(f.col(\"regiao\") != \"Brasil\"))\\\n",
        "                           .groupBy(\"estado\" ,\"coduf\", \"data\")\\\n",
        "                           .agg(f.sum(\"casosNovos\").alias(\"casosNovos_diarios_por_estado\"),\\\n",
        "                                  sum(\"obitosNovos\").alias(\"obitosNovos_diarios_por_estado\"))\n",
        "                                                               \n",
        "covid_total_estados.show()"
      ]
    },
    {
      "cell_type": "markdown",
      "metadata": {
        "id": "Kdyof0WKJEVY"
      },
      "source": [
        "####**Join dos dataframes covid_novo e covid_total_estados.**\n",
        "Foi realizado o join dos dataframes covid_novo e covid_total_estados para melhor visualização"
      ]
    },
    {
      "cell_type": "code",
      "execution_count": null,
      "metadata": {
        "id": "OADi77Cd4CnP",
        "colab": {
          "base_uri": "https://localhost:8080/"
        },
        "outputId": "9f34331e-f034-4582-d464-0efe845ce7a4"
      },
      "outputs": [
        {
          "output_type": "stream",
          "name": "stdout",
          "text": [
            "+----------+-----+------+------+--------------------+------+--------------+---------------+---------+----------------+--------------+----------+---------------+-----------+----------------+---------------------+-----------------------------+------------------------------+\n",
            "|      data|coduf|estado|regiao|           municipio|codmun|codRegiaoSaude|nomeRegiaoSaude|semanaEpi|populacaoTCU2019|casosAcumulado|casosNovos|obitosAcumulado|obitosNovos|Recuperadosnovos|emAcompanhamentoNovos|casosNovos_diarios_por_estado|obitosNovos_diarios_por_estado|\n",
            "+----------+-----+------+------+--------------------+------+--------------+---------------+---------+----------------+--------------+----------+---------------+-----------+----------------+---------------------+-----------------------------+------------------------------+\n",
            "|2020-04-06|   11|    RO| Norte|Alta Floresta D'O...|110001|         11005|   ZONA DA MATA|       15|           22945|           0.0|         0|              0|          0|            null|                 null|                            4|                             0|\n",
            "|2020-04-16|   11|    RO| Norte|Alta Floresta D'O...|110001|         11005|   ZONA DA MATA|       16|           22945|           0.0|         0|              0|          0|            null|                 null|                           14|                             2|\n",
            "|2020-04-01|   11|    RO| Norte|Alta Floresta D'O...|110001|         11005|   ZONA DA MATA|       14|           22945|           0.0|         0|              0|          0|            null|                 null|                            2|                             0|\n",
            "|2020-04-10|   11|    RO| Norte|Alta Floresta D'O...|110001|         11005|   ZONA DA MATA|       15|           22945|           0.0|         0|              0|          0|            null|                 null|                            8|                             0|\n",
            "|2020-04-02|   11|    RO| Norte|Alta Floresta D'O...|110001|         11005|   ZONA DA MATA|       14|           22945|           0.0|         0|              0|          0|            null|                 null|                            2|                             0|\n",
            "|2020-04-03|   11|    RO| Norte|Alta Floresta D'O...|110001|         11005|   ZONA DA MATA|       14|           22945|           0.0|         0|              0|          0|            null|                 null|                            0|                             0|\n",
            "|2020-04-13|   11|    RO| Norte|Alta Floresta D'O...|110001|         11005|   ZONA DA MATA|       16|           22945|           0.0|         0|              0|          0|            null|                 null|                           14|                             0|\n",
            "|2020-03-27|   11|    RO| Norte|Alta Floresta D'O...|110001|         11005|   ZONA DA MATA|       13|           22945|           0.0|         0|              0|          0|            null|                 null|                            2|                             0|\n",
            "|2020-03-30|   11|    RO| Norte|Alta Floresta D'O...|110001|         11005|   ZONA DA MATA|       14|           22945|           0.0|         0|              0|          0|            null|                 null|                            0|                             0|\n",
            "|2020-03-29|   11|    RO| Norte|Alta Floresta D'O...|110001|         11005|   ZONA DA MATA|       14|           22945|           0.0|         0|              0|          0|            null|                 null|                            0|                             0|\n",
            "|2020-03-28|   11|    RO| Norte|Alta Floresta D'O...|110001|         11005|   ZONA DA MATA|       13|           22945|           0.0|         0|              0|          0|            null|                 null|                            0|                             0|\n",
            "|2020-04-05|   11|    RO| Norte|Alta Floresta D'O...|110001|         11005|   ZONA DA MATA|       15|           22945|           0.0|         0|              0|          0|            null|                 null|                            2|                             0|\n",
            "|2020-04-04|   11|    RO| Norte|Alta Floresta D'O...|110001|         11005|   ZONA DA MATA|       14|           22945|           0.0|         0|              0|          0|            null|                 null|                            2|                             0|\n",
            "|2020-04-15|   11|    RO| Norte|Alta Floresta D'O...|110001|         11005|   ZONA DA MATA|       16|           22945|           0.0|         0|              0|          0|            null|                 null|                           10|                             0|\n",
            "|2020-04-09|   11|    RO| Norte|Alta Floresta D'O...|110001|         11005|   ZONA DA MATA|       15|           22945|           0.0|         0|              0|          0|            null|                 null|                           20|                             2|\n",
            "|2020-04-07|   11|    RO| Norte|Alta Floresta D'O...|110001|         11005|   ZONA DA MATA|       15|           22945|           0.0|         0|              0|          0|            null|                 null|                            8|                             0|\n",
            "|2020-04-14|   11|    RO| Norte|Alta Floresta D'O...|110001|         11005|   ZONA DA MATA|       16|           22945|           0.0|         0|              0|          0|            null|                 null|                           44|                             0|\n",
            "|2020-03-31|   11|    RO| Norte|Alta Floresta D'O...|110001|         11005|   ZONA DA MATA|       14|           22945|           0.0|         0|              0|          0|            null|                 null|                            4|                             2|\n",
            "|2020-04-12|   11|    RO| Norte|Alta Floresta D'O...|110001|         11005|   ZONA DA MATA|       16|           22945|           0.0|         0|              0|          0|            null|                 null|                            4|                             0|\n",
            "|2020-04-11|   11|    RO| Norte|Alta Floresta D'O...|110001|         11005|   ZONA DA MATA|       15|           22945|           0.0|         0|              0|          0|            null|                 null|                            2|                             0|\n",
            "+----------+-----+------+------+--------------------+------+--------------+---------------+---------+----------------+--------------+----------+---------------+-----------+----------------+---------------------+-----------------------------+------------------------------+\n",
            "only showing top 20 rows\n",
            "\n"
          ]
        }
      ],
      "source": [
        "covid_total = covid_novo.join(covid_total_estados, [\"data\", \"coduf\",\"estado\"], how='left')\n",
        "\n",
        "covid_total.show()"
      ]
    },
    {
      "cell_type": "markdown",
      "metadata": {
        "id": "fNq4Rc4tiCU0"
      },
      "source": [
        "#### **Exploração dos dados referentes ao municipio.**"
      ]
    },
    {
      "cell_type": "code",
      "execution_count": null,
      "metadata": {
        "id": "o744x6Ou3tHt",
        "colab": {
          "base_uri": "https://localhost:8080/"
        },
        "outputId": "781f00de-baea-4b00-9118-eb7f613502b2"
      },
      "outputs": [
        {
          "output_type": "stream",
          "name": "stdout",
          "text": [
            "+----------+------+------+-----+------------------+----------+-----------+-----------------------------+------------------------------+\n",
            "|      data|regiao|estado|coduf|         municipio|casosNovos|obitosNovos|casosNovos_diarios_por_estado|obitosNovos_diarios_por_estado|\n",
            "+----------+------+------+-----+------------------+----------+-----------+-----------------------------+------------------------------+\n",
            "|2022-12-05| Norte|    AM|   13| Careiro da Várzea|         0|          0|                           25|                             1|\n",
            "|2022-12-05| Norte|    AM|   13|            Beruri|         0|          0|                           25|                             1|\n",
            "|2022-12-05| Norte|    AM|   13|           Careiro|         5|          0|                           25|                             1|\n",
            "|2022-12-05| Norte|    AM|   13|  Atalaia do Norte|         0|          0|                           25|                             1|\n",
            "|2022-12-05| Norte|    AM|   13| Benjamin Constant|         0|          0|                           25|                             1|\n",
            "|2022-12-05| Norte|    AM|   13|             Borba|         0|          0|                           25|                             1|\n",
            "|2022-12-05| Norte|    AM|   13|          Carauari|         0|          0|                           25|                             1|\n",
            "|2022-12-05| Norte|    AM|   13|           Amaturá|         0|          0|                           25|                             1|\n",
            "|2022-12-05| Norte|    AM|   13|              Apuí|         1|          0|                           25|                             1|\n",
            "|2022-12-05| Norte|    AM|   13|          Barcelos|         0|          0|                           25|                             1|\n",
            "|2022-12-05| Norte|    AM|   13|       Barreirinha|         0|          0|                           25|                             1|\n",
            "|2022-12-05| Norte|    AM|   13|Boa Vista do Ramos|         0|          0|                           25|                             1|\n",
            "|2022-12-05| Norte|    AM|   13|      Boca do Acre|         0|          0|                           25|                             1|\n",
            "|2022-12-05| Norte|    AM|   13|        Caapiranga|         0|          0|                           25|                             1|\n",
            "|2022-12-05| Norte|    AM|   13|          Canutama|         0|          0|                           25|                             1|\n",
            "|2022-12-05| Norte|    AM|   13|          Alvarães|         0|          0|                           25|                             1|\n",
            "|2022-12-05| Norte|    AM|   13|           Codajás|         0|          0|                           25|                             1|\n",
            "|2022-12-05| Norte|    AM|   13|             Anamã|         0|          0|                           25|                             1|\n",
            "|2022-12-05| Norte|    AM|   13|             Anori|         0|          0|                           25|                             1|\n",
            "|2022-12-05| Norte|    AM|   13|           Autazes|         0|          0|                           25|                             1|\n",
            "+----------+------+------+-----+------------------+----------+-----------+-----------------------------+------------------------------+\n",
            "only showing top 20 rows\n",
            "\n"
          ]
        }
      ],
      "source": [
        "municipios = covid_total.select(\"data\", \"regiao\", \"estado\", \"coduf\",\\\n",
        "                                \"municipio\",\"casosNovos\", \"obitosNovos\", \\\n",
        "                                \"casosNovos_diarios_por_estado\",\\\n",
        "                                \"obitosNovos_diarios_por_estado\")\n",
        "                              \n",
        "municipios.orderBy(col(\"data\").desc()).show()"
      ]
    },
    {
      "cell_type": "code",
      "execution_count": null,
      "metadata": {
        "id": "fOO9oQrF7WLn",
        "colab": {
          "base_uri": "https://localhost:8080/"
        },
        "outputId": "70b0f9ac-982b-47e9-a6aa-245966c9385a"
      },
      "outputs": [
        {
          "output_type": "stream",
          "name": "stdout",
          "text": [
            "+----------+-------+------+-----+-------------------+----------+-----------+-----------------------------+------------------------------+\n",
            "|      data| regiao|estado|coduf|          municipio|casosNovos|obitosNovos|casosNovos_diarios_por_estado|obitosNovos_diarios_por_estado|\n",
            "+----------+-------+------+-----+-------------------+----------+-----------+-----------------------------+------------------------------+\n",
            "|2022-12-05|Sudeste|    MG|   31|          Alpercata|         0|          0|                         6857|                            12|\n",
            "|2022-12-05|Sudeste|    MG|   31|            Aimorés|        16|          0|                         6857|                            12|\n",
            "|2022-12-05|Sudeste|    MG|   31|           Almenara|         0|          0|                         6857|                            12|\n",
            "|2022-12-05|Sudeste|    MG|   31|           Água Boa|         5|          0|                         6857|                            12|\n",
            "|2022-12-05|Sudeste|    MG|   31|    Águas Vermelhas|         0|          0|                         6857|                            12|\n",
            "|2022-12-05|Sudeste|    MG|   31|          Albertina|         8|          0|                         6857|                            12|\n",
            "|2022-12-05|Sudeste|    MG|   31|Alfredo Vasconcelos|        14|          0|                         6857|                            12|\n",
            "|2022-12-05|Sudeste|    MG|   31|             Abaeté|         3|          0|                         6857|                            12|\n",
            "|2022-12-05|Sudeste|    MG|   31|            Açucena|         0|          0|                         6857|                            12|\n",
            "|2022-12-05|Sudeste|    MG|   31|            Aguanil|         0|          0|                         6857|                            12|\n",
            "|2022-12-05|Sudeste|    MG|   31|     Águas Formosas|         0|          0|                         6857|                            12|\n",
            "|2022-12-05|Sudeste|    MG|   31|           Aiuruoca|         4|          0|                         6857|                            12|\n",
            "|2022-12-05|Sudeste|    MG|   31|             Alagoa|         0|          0|                         6857|                            12|\n",
            "|2022-12-05|Sudeste|    MG|   31|       Além Paraíba|        13|          0|                         6857|                            12|\n",
            "|2022-12-05|Sudeste|    MG|   31|            Alfenas|        37|          0|                         6857|                            12|\n",
            "|2022-12-05|Sudeste|    MG|   31|Abadia dos Dourados|         2|          0|                         6857|                            12|\n",
            "|2022-12-05|Sudeste|    MG|   31|           Alterosa|         0|          0|                         6857|                            12|\n",
            "|2022-12-05|Sudeste|    MG|   31|         Abre Campo|        19|          0|                         6857|                            12|\n",
            "|2022-12-05|Sudeste|    MG|   31|            Acaiaca|         0|          0|                         6857|                            12|\n",
            "|2022-12-05|Sudeste|    MG|   31|      Água Comprida|         0|          0|                         6857|                            12|\n",
            "+----------+-------+------+-----+-------------------+----------+-----------+-----------------------------+------------------------------+\n",
            "only showing top 20 rows\n",
            "\n"
          ]
        }
      ],
      "source": [
        "municipios.orderBy(col(\"data\").desc(), col(\"casosNovos_diarios_por_estado\").desc()).show()"
      ]
    },
    {
      "cell_type": "code",
      "execution_count": null,
      "metadata": {
        "id": "S2dfRLzn5LrI",
        "colab": {
          "base_uri": "https://localhost:8080/"
        },
        "outputId": "b2e343c2-96f8-4f02-c0c4-1c5b4a3da30e"
      },
      "outputs": [
        {
          "output_type": "stream",
          "name": "stdout",
          "text": [
            "+----------+------+-----+-----------------------------+------------------------------+\n",
            "|      data|estado|coduf|casosNovos_diarios_por_estado|obitosNovos_diarios_por_estado|\n",
            "+----------+------+-----+-----------------------------+------------------------------+\n",
            "|2022-12-05|    SP|   35|                         6764|                            61|\n",
            "|2022-12-05|    RJ|   33|                         2689|                            18|\n",
            "|2022-12-05|    MG|   31|                         6857|                            12|\n",
            "|2022-12-05|    RN|   24|                         1638|                             4|\n",
            "|2022-12-05|    PB|   25|                          398|                             3|\n",
            "|2022-12-05|    BA|   29|                         3341|                             2|\n",
            "|2022-12-05|    SE|   28|                          297|                             2|\n",
            "|2022-12-05|    AM|   13|                           25|                             1|\n",
            "|2022-12-05|    ES|   32|                          460|                             1|\n",
            "|2022-12-05|    AL|   27|                          378|                             1|\n",
            "|2022-12-05|    PE|   26|                            0|                             0|\n",
            "|2022-12-05|    TO|   17|                         2210|                             0|\n",
            "|2022-12-05|    RR|   14|                          153|                             0|\n",
            "|2022-12-05|    PA|   15|                            0|                             0|\n",
            "|2022-12-05|    PR|   41|                          726|                             0|\n",
            "|2022-12-05|    CE|   23|                          376|                             0|\n",
            "|2022-12-05|    DF|   53|                            0|                             0|\n",
            "|2022-12-05|    RS|   43|                          771|                             0|\n",
            "|2022-12-05|    MT|   51|                            0|                             0|\n",
            "|2022-12-05|    GO|   52|                            0|                             0|\n",
            "+----------+------+-----+-----------------------------+------------------------------+\n",
            "only showing top 20 rows\n",
            "\n"
          ]
        }
      ],
      "source": [
        "municipios.select(\"data\", \"estado\", \"coduf\",\\\n",
        "                  \"casosNovos_diarios_por_estado\",\\\n",
        "                  \"obitosNovos_diarios_por_estado\").distinct()\\\n",
        "          .orderBy(col(\"data\").desc(), col(\"obitosNovos_diarios_por_estado\").desc()).show()"
      ]
    },
    {
      "cell_type": "markdown",
      "metadata": {
        "id": "-Dg7qmdPq73S"
      },
      "source": [
        "####**Valores máximo, mínimo e média.**\n",
        "Foram explorados valor máximo, mínimo e média de casos e obitos novos por município."
      ]
    },
    {
      "cell_type": "code",
      "execution_count": null,
      "metadata": {
        "id": "ACuGUAyfhyq4",
        "colab": {
          "base_uri": "https://localhost:8080/"
        },
        "outputId": "44bfb9e7-4b69-4042-e788-f204fc8e7abb"
      },
      "outputs": [
        {
          "output_type": "stream",
          "name": "stdout",
          "text": [
            "+----------+------+-----+------------+----------------------------+--------------------------+--------------------------+\n",
            "|      data|estado|coduf|      regiao|media_casos_Novos_municipios|max_casos_Novos_municipios|min_casos_Novos_municipios|\n",
            "+----------+------+-----+------------+----------------------------+--------------------------+--------------------------+\n",
            "|2022-01-31|    DF|   53|Centro-Oeste|                     11508.0|                     11508|                     11508|\n",
            "|2022-01-25|    DF|   53|Centro-Oeste|                     10697.0|                     10697|                     10697|\n",
            "|2022-06-20|    DF|   53|Centro-Oeste|                      9007.0|                      9007|                      9007|\n",
            "|2022-02-07|    DF|   53|Centro-Oeste|                      8773.0|                      8773|                      8773|\n",
            "|2022-06-13|    DF|   53|Centro-Oeste|                      8711.0|                      8711|                      8711|\n",
            "|2022-02-03|    DF|   53|Centro-Oeste|                      7086.0|                      7086|                      7086|\n",
            "|2022-06-17|    DF|   53|Centro-Oeste|                      7062.0|                      7062|                      7062|\n",
            "|2022-01-24|    DF|   53|Centro-Oeste|                      6976.0|                      6976|                      6976|\n",
            "|2022-06-06|    DF|   53|Centro-Oeste|                      6679.0|                      6679|                      6679|\n",
            "|2022-06-15|    DF|   53|Centro-Oeste|                      6305.0|                      6305|                      6305|\n",
            "|2022-02-04|    DF|   53|Centro-Oeste|                      6202.0|                      6202|                      6202|\n",
            "|2022-02-01|    DF|   53|Centro-Oeste|                      5798.0|                      5798|                      5798|\n",
            "|2022-06-27|    DF|   53|Centro-Oeste|                      5736.0|                      5736|                      5736|\n",
            "|2022-01-17|    DF|   53|Centro-Oeste|                      5648.0|                      5648|                      5648|\n",
            "|2022-02-14|    DF|   53|Centro-Oeste|                      5614.0|                      5614|                      5614|\n",
            "|2022-01-26|    DF|   53|Centro-Oeste|                      5485.0|                      5485|                      5485|\n",
            "|2022-01-28|    DF|   53|Centro-Oeste|                      5399.0|                      5399|                      5399|\n",
            "|2022-02-02|    DF|   53|Centro-Oeste|                      5382.0|                      5382|                      5382|\n",
            "|2022-01-27|    DF|   53|Centro-Oeste|                      5243.0|                      5243|                      5243|\n",
            "|2022-02-09|    DF|   53|Centro-Oeste|                      4924.0|                      4924|                      4924|\n",
            "+----------+------+-----+------------+----------------------------+--------------------------+--------------------------+\n",
            "only showing top 20 rows\n",
            "\n",
            "+----------+------+-----+------------+-----------------------------+---------------------------+---------------------------+\n",
            "|      data|estado|coduf|      regiao|media_obitos_Novos_municipios|max_obitos_Novos_municipios|min_obitos_Novos_municipios|\n",
            "+----------+------+-----+------------+-----------------------------+---------------------------+---------------------------+\n",
            "|2021-04-01|    DF|   53|Centro-Oeste|                        121.0|                        121|                        121|\n",
            "|2021-03-31|    DF|   53|Centro-Oeste|                        117.0|                        117|                        117|\n",
            "|2021-03-30|    DF|   53|Centro-Oeste|                         94.0|                         94|                         94|\n",
            "|2021-04-12|    DF|   53|Centro-Oeste|                         86.0|                         86|                         86|\n",
            "|2021-04-07|    DF|   53|Centro-Oeste|                         83.0|                         83|                         83|\n",
            "|2021-04-06|    DF|   53|Centro-Oeste|                         83.0|                         83|                         83|\n",
            "|2020-08-06|    DF|   53|Centro-Oeste|                         79.0|                         79|                         79|\n",
            "|2021-04-05|    DF|   53|Centro-Oeste|                         78.0|                         78|                         78|\n",
            "|2021-04-08|    DF|   53|Centro-Oeste|                         77.0|                         77|                         77|\n",
            "|2021-04-15|    DF|   53|Centro-Oeste|                         77.0|                         77|                         77|\n",
            "|2021-04-16|    DF|   53|Centro-Oeste|                         76.0|                         76|                         76|\n",
            "|2021-04-19|    DF|   53|Centro-Oeste|                         74.0|                         74|                         74|\n",
            "|2021-03-18|    DF|   53|Centro-Oeste|                         68.0|                         68|                         68|\n",
            "|2021-04-09|    DF|   53|Centro-Oeste|                         67.0|                         67|                         67|\n",
            "|2021-04-14|    DF|   53|Centro-Oeste|                         66.0|                         66|                         66|\n",
            "|2020-08-17|    DF|   53|Centro-Oeste|                         66.0|                         66|                         66|\n",
            "|2021-04-13|    DF|   53|Centro-Oeste|                         66.0|                         66|                         66|\n",
            "|2021-03-26|    DF|   53|Centro-Oeste|                         64.0|                         64|                         64|\n",
            "|2021-03-23|    DF|   53|Centro-Oeste|                         62.0|                         62|                         62|\n",
            "|2021-03-29|    DF|   53|Centro-Oeste|                         61.0|                         61|                         61|\n",
            "+----------+------+-----+------------+-----------------------------+---------------------------+---------------------------+\n",
            "only showing top 20 rows\n",
            "\n"
          ]
        }
      ],
      "source": [
        "df_casos = municipios.groupBy(\"data\",\"estado\", \"coduf\", \"regiao\")\\\n",
        "                     .agg(round(avg(\"casosNovos\"), 2).alias(\"media_casos_Novos_municipios\"),\\\n",
        "                          round(max(\"casosNovos\"), 2).alias(\"max_casos_Novos_municipios\"),\\\n",
        "                          round(min(\"casosNovos\"), 2).alias(\"min_casos_Novos_municipios\"))\\\n",
        "                     .sort(col(\"media_casos_Novos_municipios\").desc())\n",
        "              \n",
        "\n",
        "df_obitos= municipios.groupBy(\"data\",\"estado\", \"coduf\", \"regiao\")\\\n",
        "                     .agg(round(avg(\"obitosNovos\"), 2).alias(\"media_obitos_Novos_municipios\"),\\\n",
        "                          round(max(\"obitosNovos\"), 2).alias(\"max_obitos_Novos_municipios\"),\\\n",
        "                          round(min(\"obitosNovos\"), 2).alias(\"min_obitos_Novos_municipios\"))\\\n",
        "                     .sort(col(\"media_obitos_Novos_municipios\").desc())\n",
        "              \n",
        "\n",
        "df_casos.show()\n",
        "df_obitos.show()"
      ]
    },
    {
      "cell_type": "markdown",
      "metadata": {
        "id": "mr6S09ni92h3"
      },
      "source": [
        "####**Importação da tabela com dados de desemprego**\n",
        "Foi feita a importação de uma tabela de desmprego para posterior comparação com os dados de covid no Brasil."
      ]
    },
    {
      "cell_type": "code",
      "execution_count": null,
      "metadata": {
        "id": "B7mqy8q6hJYf",
        "colab": {
          "base_uri": "https://localhost:8080/"
        },
        "outputId": "8a73e333-258f-466b-c4a3-619fabbaaf4c"
      },
      "outputs": [
        {
          "output_type": "stream",
          "name": "stdout",
          "text": [
            "+-------------------+----------------+----------------+----------------+----------------+----------------+----------------+\n",
            "|             estado|1_trimestre_2019|2_trimestre_2019|3_trimestre_2019|4_trimestre_2019|1_trimestre_2020|2_trimestre_2022|\n",
            "+-------------------+----------------+----------------+----------------+----------------+----------------+----------------+\n",
            "|           Rondônia|              79|              60|              74|              72|              76|              52|\n",
            "|               Acre|              65|              49|              47|              49|              47|              45|\n",
            "|           Amazonas|             296|             265|             257|             248|             279|             203|\n",
            "|            Roraima|              39|              38|              37|              38|              42|              16|\n",
            "|               Pará|             445|             435|             444|             360|             417|             377|\n",
            "|              Amapá|              78|              69|              66|              62|              67|              48|\n",
            "|          Tocantins|              90|              84|              78|              67|              84|              43|\n",
            "|           Maranhão|             429|             388|             382|             330|             431|             299|\n",
            "|              Piauí|             188|             191|             199|             200|             202|             135|\n",
            "|              Ceará|             476|             459|             478|             437|             513|             412|\n",
            "|Rio Grande do Norte|             214|             195|             210|             199|             244|             188|\n",
            "|            Paraíba|             189|             207|             193|             206|             232|             203|\n",
            "|         Pernambuco|             696|             681|             674|             601|             611|             578|\n",
            "|            Alagoas|             194|             186|             193|             165|             204|             149|\n",
            "|            Sergipe|             165|             169|             162|             168|             171|             140|\n",
            "|              Bahia|            1307|            1240|            1194|            1162|            1333|            1104|\n",
            "|       Minas Gerais|            1257|            1096|            1149|            1098|            1320|             828|\n",
            "|     Espírito Santo|             266|             242|             233|             227|             243|             174|\n",
            "|     Rio de Janeiro|            1388|            1366|            1314|            1246|            1313|            1130|\n",
            "|          São Paulo|            3510|            3368|            3169|            3015|            3151|            2404|\n",
            "|             Paraná|             550|             560|             559|             450|             487|             374|\n",
            "|     Santa Catarina|             285|             239|             227|             216|             223|             160|\n",
            "|  Rio Grande do Sul|             496|             515|             555|             455|             529|             387|\n",
            "| Mato Grosso do Sul|             137|             123|             111|              96|             111|              75|\n",
            "|        Mato Grosso|             167|             154|             148|             117|             158|              82|\n",
            "|              Goiás|             407|             399|             421|             405|             434|             270|\n",
            "|   Distrito Federal|             238|             234|             224|             210|             228|             205|\n",
            "+-------------------+----------------+----------------+----------------+----------------+----------------+----------------+\n",
            "\n"
          ]
        }
      ],
      "source": [
        "desemprego = spark.read.format('csv')\\\n",
        "                       .options(header='true',\\\n",
        "                                inferschema='true')\\\n",
        "                       .load(f'{caminho_local}/desemprego.csv',header=True)\n",
        "\n",
        "desemprego.show(50)\n"
      ]
    },
    {
      "cell_type": "markdown",
      "metadata": {
        "id": "qV6k7Vp1YkVx"
      },
      "source": [
        "####**Alteração dos valores da coluna Estado.**\n",
        "Foram alterados os valores da coluna Estado no dataframe de desemprego, de nome do estado para a sigla do estado para futura comparação com os dados de Covid."
      ]
    },
    {
      "cell_type": "code",
      "execution_count": null,
      "metadata": {
        "id": "XBpEfSagK8U_",
        "colab": {
          "base_uri": "https://localhost:8080/"
        },
        "outputId": "95b73bd6-4c46-4ace-b6c5-cd72bdbb65fd"
      },
      "outputs": [
        {
          "output_type": "stream",
          "name": "stdout",
          "text": [
            "+------+----------------+----------------+----------------+----------------+----------------+----------------+\n",
            "|Estado|1_trimestre_2019|2_trimestre_2019|3_trimestre_2019|4_trimestre_2019|1_trimestre_2020|2_trimestre_2022|\n",
            "+------+----------------+----------------+----------------+----------------+----------------+----------------+\n",
            "|    RO|              79|              60|              74|              72|              76|              52|\n",
            "|    AC|              65|              49|              47|              49|              47|              45|\n",
            "|    AM|             296|             265|             257|             248|             279|             203|\n",
            "|    RR|              39|              38|              37|              38|              42|              16|\n",
            "|    PA|             445|             435|             444|             360|             417|             377|\n",
            "|    AP|              78|              69|              66|              62|              67|              48|\n",
            "|    TO|              90|              84|              78|              67|              84|              43|\n",
            "|    MA|             429|             388|             382|             330|             431|             299|\n",
            "|    PI|             188|             191|             199|             200|             202|             135|\n",
            "|    CE|             476|             459|             478|             437|             513|             412|\n",
            "|    RN|             214|             195|             210|             199|             244|             188|\n",
            "|    PB|             189|             207|             193|             206|             232|             203|\n",
            "|    PE|             696|             681|             674|             601|             611|             578|\n",
            "|    AL|             194|             186|             193|             165|             204|             149|\n",
            "|    SE|             165|             169|             162|             168|             171|             140|\n",
            "|    BA|            1307|            1240|            1194|            1162|            1333|            1104|\n",
            "|    MG|            1257|            1096|            1149|            1098|            1320|             828|\n",
            "|    ES|             266|             242|             233|             227|             243|             174|\n",
            "|    RJ|            1388|            1366|            1314|            1246|            1313|            1130|\n",
            "|    SP|            3510|            3368|            3169|            3015|            3151|            2404|\n",
            "|    PR|             550|             560|             559|             450|             487|             374|\n",
            "|    SC|             285|             239|             227|             216|             223|             160|\n",
            "|    RS|             496|             515|             555|             455|             529|             387|\n",
            "|    MS|             137|             123|             111|              96|             111|              75|\n",
            "|    MT|             167|             154|             148|             117|             158|              82|\n",
            "|    GO|             407|             399|             421|             405|             434|             270|\n",
            "|    DF|             238|             234|             224|             210|             228|             205|\n",
            "+------+----------------+----------------+----------------+----------------+----------------+----------------+\n",
            "\n"
          ]
        }
      ],
      "source": [
        "desemprego = desemprego.withColumn('Estado',\\\n",
        "                                   regexp_replace('Estado', 'Rondônia', 'RO'))\\\n",
        "                       .withColumn('Estado',\\\n",
        "                                   regexp_replace('Estado', 'Acre', 'AC'))\\\n",
        "                       .withColumn('Estado',\\\n",
        "                                   regexp_replace('Estado', 'Amazonas', 'AM'))\\\n",
        "                       .withColumn('Estado',\\\n",
        "                                   regexp_replace('Estado', 'Roraima', 'RR'))\\\n",
        "                       .withColumn('Estado',\\\n",
        "                                   regexp_replace('Estado', 'Pará', 'PA'))\\\n",
        "                       .withColumn('Estado',\\\n",
        "                                   regexp_replace('Estado', 'Amapá', 'AP'))\\\n",
        "                       .withColumn('Estado',\\\n",
        "                                   regexp_replace('Estado', 'Tocantins', 'TO'))\\\n",
        "                       .withColumn('Estado',\\\n",
        "                                   regexp_replace('Estado', 'Maranhão', 'MA'))\\\n",
        "                       .withColumn('Estado',\\\n",
        "                                   regexp_replace('Estado', 'Piauí', 'PI'))\\\n",
        "                       .withColumn('Estado',\\\n",
        "                                   regexp_replace('Estado', 'Ceará', 'CE'))\\\n",
        "                       .withColumn('Estado',\\\n",
        "                                   regexp_replace('Estado', 'Rio Grande do Norte', 'RN'))\\\n",
        "                       .withColumn('Estado',\\\n",
        "                                   regexp_replace('Estado', 'Paraíba', 'PB'))\\\n",
        "                       .withColumn('Estado',\\\n",
        "                                   regexp_replace('Estado', 'Pernambuco', 'PE'))\\\n",
        "                       .withColumn('Estado',\\\n",
        "                                   regexp_replace('Estado', 'Alagoas', 'AL'))\\\n",
        "                       .withColumn('Estado',\\\n",
        "                                   regexp_replace('Estado', 'Sergipe', 'SE'))\\\n",
        "                       .withColumn('Estado',\\\n",
        "                                   regexp_replace('Estado', 'Bahia', 'BA'))\\\n",
        "                       .withColumn('Estado',\\\n",
        "                                   regexp_replace('Estado', 'Minas Gerais', 'MG'))\\\n",
        "                       .withColumn('Estado',\\\n",
        "                                   regexp_replace('Estado', 'Espírito Santo', 'ES'))\\\n",
        "                       .withColumn('Estado',\\\n",
        "                                   regexp_replace('Estado', 'Rio de Janeiro', 'RJ'))\\\n",
        "                       .withColumn('Estado',\\\n",
        "                                   regexp_replace('Estado', 'São Paulo', 'SP'))\\\n",
        "                       .withColumn('Estado',\\\n",
        "                                   regexp_replace('Estado', 'Paraná', 'PR'))\\\n",
        "                       .withColumn('Estado',\\\n",
        "                                   regexp_replace('Estado', 'Santa Catarina', 'SC'))\\\n",
        "                       .withColumn('Estado',\\\n",
        "                                   regexp_replace('Estado', 'Rio Grande do Sul', 'RS' ))\\\n",
        "                       .withColumn('Estado',\\\n",
        "                                   regexp_replace('Estado', 'Mato Grosso do Sul', 'MS'))\\\n",
        "                       .withColumn('Estado',\\\n",
        "                                   regexp_replace('Estado', 'Mato Grosso', 'MT'))\\\n",
        "                       .withColumn('Estado',\\\n",
        "                                   regexp_replace('Estado', 'Goiás', 'GO'))\\\n",
        "                       .withColumn('Estado',\\\n",
        "                                   regexp_replace('Estado', 'Distrito Federal', 'DF'))\\\n",
        "\n",
        "desemprego.show(27)"
      ]
    },
    {
      "cell_type": "markdown",
      "metadata": {
        "id": "rVSt62aGjvES"
      },
      "source": [
        "####**Exploração dos dados das colunas 1_trimestre_2020 e 2_trimestre_2022**\n",
        "Foi realizada a exploração dos dados, ordernando as colunas 1_trimestre_2020 e, posteriomente, 2_trimestre_2022 de forma decrescente, para verificar como se encontrava a situação de desemprego em 2020 e 2022 no Brasil de acordo com cada estado."
      ]
    },
    {
      "cell_type": "code",
      "execution_count": null,
      "metadata": {
        "id": "DkPQfCithNBO",
        "colab": {
          "base_uri": "https://localhost:8080/"
        },
        "outputId": "bcb1d60f-2874-4751-a66a-9720c9e3975e"
      },
      "outputs": [
        {
          "output_type": "stream",
          "name": "stdout",
          "text": [
            "Pessoas desempregadas na semana da pesquisa(Mil pessoas)\n",
            "+------+----------------+----------------+----------------+----------------+----------------+----------------+\n",
            "|Estado|1_trimestre_2019|2_trimestre_2019|3_trimestre_2019|4_trimestre_2019|1_trimestre_2020|2_trimestre_2022|\n",
            "+------+----------------+----------------+----------------+----------------+----------------+----------------+\n",
            "|    SP|            3510|            3368|            3169|            3015|            3151|            2404|\n",
            "|    BA|            1307|            1240|            1194|            1162|            1333|            1104|\n",
            "|    MG|            1257|            1096|            1149|            1098|            1320|             828|\n",
            "|    RJ|            1388|            1366|            1314|            1246|            1313|            1130|\n",
            "|    PE|             696|             681|             674|             601|             611|             578|\n",
            "|    RS|             496|             515|             555|             455|             529|             387|\n",
            "|    CE|             476|             459|             478|             437|             513|             412|\n",
            "|    PR|             550|             560|             559|             450|             487|             374|\n",
            "|    GO|             407|             399|             421|             405|             434|             270|\n",
            "|    MA|             429|             388|             382|             330|             431|             299|\n",
            "|    PA|             445|             435|             444|             360|             417|             377|\n",
            "|    AM|             296|             265|             257|             248|             279|             203|\n",
            "|    RN|             214|             195|             210|             199|             244|             188|\n",
            "|    ES|             266|             242|             233|             227|             243|             174|\n",
            "|    PB|             189|             207|             193|             206|             232|             203|\n",
            "|    DF|             238|             234|             224|             210|             228|             205|\n",
            "|    SC|             285|             239|             227|             216|             223|             160|\n",
            "|    AL|             194|             186|             193|             165|             204|             149|\n",
            "|    PI|             188|             191|             199|             200|             202|             135|\n",
            "|    SE|             165|             169|             162|             168|             171|             140|\n",
            "+------+----------------+----------------+----------------+----------------+----------------+----------------+\n",
            "only showing top 20 rows\n",
            "\n"
          ]
        }
      ],
      "source": [
        "print(\"Pessoas desempregadas na semana da pesquisa(Mil pessoas)\")\n",
        "desemprego20 = desemprego.sort(col(\"1_trimestre_2020\").desc())\n",
        "\n",
        "desemprego20.show()"
      ]
    },
    {
      "cell_type": "code",
      "execution_count": null,
      "metadata": {
        "id": "DHIKcTXKLhZ_",
        "colab": {
          "base_uri": "https://localhost:8080/"
        },
        "outputId": "3e2bdae5-98d7-40bc-a5c6-7661e14347fe"
      },
      "outputs": [
        {
          "output_type": "stream",
          "name": "stdout",
          "text": [
            "Pessoas desempregadas na semana da pesquisa(Mil pessoas)\n",
            "+------+----------------+----------------+----------------+----------------+----------------+----------------+\n",
            "|Estado|1_trimestre_2019|2_trimestre_2019|3_trimestre_2019|4_trimestre_2019|1_trimestre_2020|2_trimestre_2022|\n",
            "+------+----------------+----------------+----------------+----------------+----------------+----------------+\n",
            "|    SP|            3510|            3368|            3169|            3015|            3151|            2404|\n",
            "|    RJ|            1388|            1366|            1314|            1246|            1313|            1130|\n",
            "|    BA|            1307|            1240|            1194|            1162|            1333|            1104|\n",
            "|    MG|            1257|            1096|            1149|            1098|            1320|             828|\n",
            "|    PE|             696|             681|             674|             601|             611|             578|\n",
            "|    CE|             476|             459|             478|             437|             513|             412|\n",
            "|    RS|             496|             515|             555|             455|             529|             387|\n",
            "|    PA|             445|             435|             444|             360|             417|             377|\n",
            "|    PR|             550|             560|             559|             450|             487|             374|\n",
            "|    MA|             429|             388|             382|             330|             431|             299|\n",
            "|    GO|             407|             399|             421|             405|             434|             270|\n",
            "|    DF|             238|             234|             224|             210|             228|             205|\n",
            "|    AM|             296|             265|             257|             248|             279|             203|\n",
            "|    PB|             189|             207|             193|             206|             232|             203|\n",
            "|    RN|             214|             195|             210|             199|             244|             188|\n",
            "|    ES|             266|             242|             233|             227|             243|             174|\n",
            "|    SC|             285|             239|             227|             216|             223|             160|\n",
            "|    AL|             194|             186|             193|             165|             204|             149|\n",
            "|    SE|             165|             169|             162|             168|             171|             140|\n",
            "|    PI|             188|             191|             199|             200|             202|             135|\n",
            "+------+----------------+----------------+----------------+----------------+----------------+----------------+\n",
            "only showing top 20 rows\n",
            "\n"
          ]
        }
      ],
      "source": [
        "print(\"Pessoas desempregadas na semana da pesquisa(Mil pessoas)\")\n",
        "desemprego22 = desemprego.sort(col(\"2_trimestre_2022\").desc())\n",
        "\n",
        "desemprego22.show()"
      ]
    },
    {
      "cell_type": "markdown",
      "metadata": {
        "id": "DOZHCq_4wY9u"
      },
      "source": [
        "####**Valor total de casos e obitos novos em todo o período por estado**\n",
        "Foi desconsiderados os valores da coluna data para realizar a soma do valor total de casos novos e óbitos por estado considerando o tempo total.\n",
        "\n",
        "Foi desconsiderado qualquer valor negativo para evitar que haja comprometimento dos dados exibidos no total da soma.\n",
        "\n",
        "Poteriormente foi ordenado o total de forma decrescente para uma melhor visualização e foi feita a renomeação da acoluna estado para Estados para posteriormente ser relacionada a um gráfico."
      ]
    },
    {
      "cell_type": "code",
      "execution_count": null,
      "metadata": {
        "id": "PQLCRp2jYcH_",
        "colab": {
          "base_uri": "https://localhost:8080/"
        },
        "outputId": "cc0940d6-0199-4bfd-b60b-a0a2600a680c"
      },
      "outputs": [
        {
          "output_type": "stream",
          "name": "stdout",
          "text": [
            "+-------+--------------------+\n",
            "|Estados|total_obitos_estados|\n",
            "+-------+--------------------+\n",
            "|     SP|              199414|\n",
            "|     RJ|               89638|\n",
            "|     MG|               67235|\n",
            "|     PR|               47710|\n",
            "|     RS|               43164|\n",
            "|     CE|               35688|\n",
            "|     BA|               34719|\n",
            "|     GO|               29293|\n",
            "|     PE|               29092|\n",
            "|     PA|               24656|\n",
            "|     SC|               23572|\n",
            "|     ES|               17698|\n",
            "|     AM|               17670|\n",
            "|     MT|               16786|\n",
            "|     MA|               14021|\n",
            "|     DF|               13304|\n",
            "|     PB|               12276|\n",
            "|     MS|               11231|\n",
            "|     RN|               10281|\n",
            "|     PI|                9298|\n",
            "+-------+--------------------+\n",
            "only showing top 20 rows\n",
            "\n"
          ]
        }
      ],
      "source": [
        "estado_total_ob = estados.drop(\"data\")\\\n",
        "                         .groupby(\"estado\")\\\n",
        "                         .agg(sum(\"obitosNovos\").alias(\"total_obitos_estados\"))\\\n",
        "                         .filter(column(\"total_obitos_estados\") >= 0)\\\n",
        "                         .sort(col(\"total_obitos_estados\").desc())\\\n",
        "                         .withColumnRenamed(\"estado\",\"Estados\")\n",
        "                \n",
        "estado_total_ob.show()"
      ]
    },
    {
      "cell_type": "code",
      "execution_count": null,
      "metadata": {
        "id": "b0edVW-PKmoS",
        "colab": {
          "base_uri": "https://localhost:8080/"
        },
        "outputId": "20bc71aa-13f6-436e-d574-d937bb3194ae"
      },
      "outputs": [
        {
          "output_type": "stream",
          "name": "stdout",
          "text": [
            "+------+-------------------+\n",
            "|estado|total_casos_estados|\n",
            "+------+-------------------+\n",
            "|    SP|            6747172|\n",
            "|    MG|            4071347|\n",
            "|    PR|            2877017|\n",
            "|    RS|            2848019|\n",
            "|    RJ|            2813826|\n",
            "|    SC|            2001053|\n",
            "|    BA|            1917392|\n",
            "|    GO|            1814554|\n",
            "|    CE|            1601531|\n",
            "|    ES|            1348639|\n",
            "|    PE|            1184349|\n",
            "|    PA|            1007846|\n",
            "|    DF|             963369|\n",
            "|    MT|             887541|\n",
            "|    PB|             761101|\n",
            "|    AM|             724845|\n",
            "|    RN|             618928|\n",
            "|    MS|             609756|\n",
            "|    MA|             604075|\n",
            "|    RO|             499023|\n",
            "+------+-------------------+\n",
            "only showing top 20 rows\n",
            "\n"
          ]
        }
      ],
      "source": [
        "estado_total_cs = estados.drop(\"data\")\\\n",
        "                         .groupby(\"estado\")\\\n",
        "                         .agg(sum(\"casosNovos\").alias(\"total_casos_estados\"))\\\n",
        "                         .filter(column(\"total_casos_estados\") >= 0)\\\n",
        "                         .sort(col(\"total_casos_estados\").desc())\n",
        "\n",
        "                \n",
        "estado_total_cs.show()"
      ]
    },
    {
      "cell_type": "markdown",
      "metadata": {
        "id": "baBFQeNMe6ko"
      },
      "source": [
        "#### **Join dos dataframes covid_total, estado_total_ob e estado_total_cs.**\n",
        "Foi feita a junção dos dataframes covid_total, estado_total_ob e estado_total_cs em um só dataframe para melhor visualização dos dados. "
      ]
    },
    {
      "cell_type": "code",
      "execution_count": null,
      "metadata": {
        "id": "358jKWLSvrnK",
        "colab": {
          "base_uri": "https://localhost:8080/"
        },
        "outputId": "3fff9cf2-4767-4c50-9604-d6554f3f41e3"
      },
      "outputs": [
        {
          "output_type": "stream",
          "name": "stdout",
          "text": [
            "+------+----------+-----+------+--------------------+------+--------------+---------------+---------+----------------+--------------+----------+---------------+-----------+----------------+---------------------+-----------------------------+------------------------------+-------------------+--------------------+\n",
            "|estado|      data|coduf|regiao|           municipio|codmun|codRegiaoSaude|nomeRegiaoSaude|semanaEpi|populacaoTCU2019|casosAcumulado|casosNovos|obitosAcumulado|obitosNovos|Recuperadosnovos|emAcompanhamentoNovos|casosNovos_diarios_por_estado|obitosNovos_diarios_por_estado|total_casos_estados|total_obitos_estados|\n",
            "+------+----------+-----+------+--------------------+------+--------------+---------------+---------+----------------+--------------+----------+---------------+-----------+----------------+---------------------+-----------------------------+------------------------------+-------------------+--------------------+\n",
            "|    RO|2020-04-06|   11| Norte|Alta Floresta D'O...|110001|         11005|   ZONA DA MATA|       15|           22945|           0.0|         0|              0|          0|            null|                 null|                            4|                             0|             499023|                8240|\n",
            "|    RO|2020-04-16|   11| Norte|Alta Floresta D'O...|110001|         11005|   ZONA DA MATA|       16|           22945|           0.0|         0|              0|          0|            null|                 null|                           14|                             2|             499023|                8240|\n",
            "|    RO|2020-04-01|   11| Norte|Alta Floresta D'O...|110001|         11005|   ZONA DA MATA|       14|           22945|           0.0|         0|              0|          0|            null|                 null|                            2|                             0|             499023|                8240|\n",
            "|    RO|2020-04-10|   11| Norte|Alta Floresta D'O...|110001|         11005|   ZONA DA MATA|       15|           22945|           0.0|         0|              0|          0|            null|                 null|                            8|                             0|             499023|                8240|\n",
            "|    RO|2020-04-02|   11| Norte|Alta Floresta D'O...|110001|         11005|   ZONA DA MATA|       14|           22945|           0.0|         0|              0|          0|            null|                 null|                            2|                             0|             499023|                8240|\n",
            "|    RO|2020-04-03|   11| Norte|Alta Floresta D'O...|110001|         11005|   ZONA DA MATA|       14|           22945|           0.0|         0|              0|          0|            null|                 null|                            0|                             0|             499023|                8240|\n",
            "|    RO|2020-04-13|   11| Norte|Alta Floresta D'O...|110001|         11005|   ZONA DA MATA|       16|           22945|           0.0|         0|              0|          0|            null|                 null|                           14|                             0|             499023|                8240|\n",
            "|    RO|2020-03-27|   11| Norte|Alta Floresta D'O...|110001|         11005|   ZONA DA MATA|       13|           22945|           0.0|         0|              0|          0|            null|                 null|                            2|                             0|             499023|                8240|\n",
            "|    RO|2020-03-30|   11| Norte|Alta Floresta D'O...|110001|         11005|   ZONA DA MATA|       14|           22945|           0.0|         0|              0|          0|            null|                 null|                            0|                             0|             499023|                8240|\n",
            "|    RO|2020-03-29|   11| Norte|Alta Floresta D'O...|110001|         11005|   ZONA DA MATA|       14|           22945|           0.0|         0|              0|          0|            null|                 null|                            0|                             0|             499023|                8240|\n",
            "|    RO|2020-03-28|   11| Norte|Alta Floresta D'O...|110001|         11005|   ZONA DA MATA|       13|           22945|           0.0|         0|              0|          0|            null|                 null|                            0|                             0|             499023|                8240|\n",
            "|    RO|2020-04-05|   11| Norte|Alta Floresta D'O...|110001|         11005|   ZONA DA MATA|       15|           22945|           0.0|         0|              0|          0|            null|                 null|                            2|                             0|             499023|                8240|\n",
            "|    RO|2020-04-04|   11| Norte|Alta Floresta D'O...|110001|         11005|   ZONA DA MATA|       14|           22945|           0.0|         0|              0|          0|            null|                 null|                            2|                             0|             499023|                8240|\n",
            "|    RO|2020-04-15|   11| Norte|Alta Floresta D'O...|110001|         11005|   ZONA DA MATA|       16|           22945|           0.0|         0|              0|          0|            null|                 null|                           10|                             0|             499023|                8240|\n",
            "|    RO|2020-04-09|   11| Norte|Alta Floresta D'O...|110001|         11005|   ZONA DA MATA|       15|           22945|           0.0|         0|              0|          0|            null|                 null|                           20|                             2|             499023|                8240|\n",
            "|    RO|2020-04-07|   11| Norte|Alta Floresta D'O...|110001|         11005|   ZONA DA MATA|       15|           22945|           0.0|         0|              0|          0|            null|                 null|                            8|                             0|             499023|                8240|\n",
            "|    RO|2020-04-14|   11| Norte|Alta Floresta D'O...|110001|         11005|   ZONA DA MATA|       16|           22945|           0.0|         0|              0|          0|            null|                 null|                           44|                             0|             499023|                8240|\n",
            "|    RO|2020-03-31|   11| Norte|Alta Floresta D'O...|110001|         11005|   ZONA DA MATA|       14|           22945|           0.0|         0|              0|          0|            null|                 null|                            4|                             2|             499023|                8240|\n",
            "|    RO|2020-04-12|   11| Norte|Alta Floresta D'O...|110001|         11005|   ZONA DA MATA|       16|           22945|           0.0|         0|              0|          0|            null|                 null|                            4|                             0|             499023|                8240|\n",
            "|    RO|2020-04-11|   11| Norte|Alta Floresta D'O...|110001|         11005|   ZONA DA MATA|       15|           22945|           0.0|         0|              0|          0|            null|                 null|                            2|                             0|             499023|                8240|\n",
            "+------+----------+-----+------+--------------------+------+--------------+---------------+---------+----------------+--------------+----------+---------------+-----------+----------------+---------------------+-----------------------------+------------------------------+-------------------+--------------------+\n",
            "only showing top 20 rows\n",
            "\n"
          ]
        }
      ],
      "source": [
        "covid_total2 = covid_total.join(estado_total_cs, [\"estado\"], how='left')\\\n",
        "                          .join(estado_total_ob, covid_total.estado ==  estado_total_ob.Estados, how='left')\\\n",
        "                          .drop(estado_total_ob.Estados)\n",
        "\n",
        "covid_total2.show()"
      ]
    },
    {
      "cell_type": "markdown",
      "metadata": {
        "id": "t64ficsxn7Bg"
      },
      "source": [
        "###**Adição da coluna Pais.**"
      ]
    },
    {
      "cell_type": "code",
      "execution_count": null,
      "metadata": {
        "id": "W53fipN2Vi3d",
        "colab": {
          "base_uri": "https://localhost:8080/"
        },
        "outputId": "69b5543d-5430-4602-a480-23c67c1b30a1"
      },
      "outputs": [
        {
          "output_type": "stream",
          "name": "stdout",
          "text": [
            "+------+----------+-----+------+--------------------+------+--------------+---------------+---------+----------------+--------------+----------+---------------+-----------+----------------+---------------------+-----------------------------+------------------------------+-------------------+--------------------+------+\n",
            "|estado|      data|coduf|regiao|           municipio|codmun|codRegiaoSaude|nomeRegiaoSaude|semanaEpi|populacaoTCU2019|casosAcumulado|casosNovos|obitosAcumulado|obitosNovos|Recuperadosnovos|emAcompanhamentoNovos|casosNovos_diarios_por_estado|obitosNovos_diarios_por_estado|total_casos_estados|total_obitos_estados|  Pais|\n",
            "+------+----------+-----+------+--------------------+------+--------------+---------------+---------+----------------+--------------+----------+---------------+-----------+----------------+---------------------+-----------------------------+------------------------------+-------------------+--------------------+------+\n",
            "|    RO|2020-04-06|   11| Norte|Alta Floresta D'O...|110001|         11005|   ZONA DA MATA|       15|           22945|           0.0|         0|              0|          0|            null|                 null|                            4|                             0|             499023|                8240|Brasil|\n",
            "|    RO|2020-04-16|   11| Norte|Alta Floresta D'O...|110001|         11005|   ZONA DA MATA|       16|           22945|           0.0|         0|              0|          0|            null|                 null|                           14|                             2|             499023|                8240|Brasil|\n",
            "|    RO|2020-04-01|   11| Norte|Alta Floresta D'O...|110001|         11005|   ZONA DA MATA|       14|           22945|           0.0|         0|              0|          0|            null|                 null|                            2|                             0|             499023|                8240|Brasil|\n",
            "|    RO|2020-04-10|   11| Norte|Alta Floresta D'O...|110001|         11005|   ZONA DA MATA|       15|           22945|           0.0|         0|              0|          0|            null|                 null|                            8|                             0|             499023|                8240|Brasil|\n",
            "|    RO|2020-04-02|   11| Norte|Alta Floresta D'O...|110001|         11005|   ZONA DA MATA|       14|           22945|           0.0|         0|              0|          0|            null|                 null|                            2|                             0|             499023|                8240|Brasil|\n",
            "|    RO|2020-04-03|   11| Norte|Alta Floresta D'O...|110001|         11005|   ZONA DA MATA|       14|           22945|           0.0|         0|              0|          0|            null|                 null|                            0|                             0|             499023|                8240|Brasil|\n",
            "|    RO|2020-04-13|   11| Norte|Alta Floresta D'O...|110001|         11005|   ZONA DA MATA|       16|           22945|           0.0|         0|              0|          0|            null|                 null|                           14|                             0|             499023|                8240|Brasil|\n",
            "|    RO|2020-03-27|   11| Norte|Alta Floresta D'O...|110001|         11005|   ZONA DA MATA|       13|           22945|           0.0|         0|              0|          0|            null|                 null|                            2|                             0|             499023|                8240|Brasil|\n",
            "|    RO|2020-03-30|   11| Norte|Alta Floresta D'O...|110001|         11005|   ZONA DA MATA|       14|           22945|           0.0|         0|              0|          0|            null|                 null|                            0|                             0|             499023|                8240|Brasil|\n",
            "|    RO|2020-03-29|   11| Norte|Alta Floresta D'O...|110001|         11005|   ZONA DA MATA|       14|           22945|           0.0|         0|              0|          0|            null|                 null|                            0|                             0|             499023|                8240|Brasil|\n",
            "|    RO|2020-03-28|   11| Norte|Alta Floresta D'O...|110001|         11005|   ZONA DA MATA|       13|           22945|           0.0|         0|              0|          0|            null|                 null|                            0|                             0|             499023|                8240|Brasil|\n",
            "|    RO|2020-04-05|   11| Norte|Alta Floresta D'O...|110001|         11005|   ZONA DA MATA|       15|           22945|           0.0|         0|              0|          0|            null|                 null|                            2|                             0|             499023|                8240|Brasil|\n",
            "|    RO|2020-04-04|   11| Norte|Alta Floresta D'O...|110001|         11005|   ZONA DA MATA|       14|           22945|           0.0|         0|              0|          0|            null|                 null|                            2|                             0|             499023|                8240|Brasil|\n",
            "|    RO|2020-04-15|   11| Norte|Alta Floresta D'O...|110001|         11005|   ZONA DA MATA|       16|           22945|           0.0|         0|              0|          0|            null|                 null|                           10|                             0|             499023|                8240|Brasil|\n",
            "|    RO|2020-04-09|   11| Norte|Alta Floresta D'O...|110001|         11005|   ZONA DA MATA|       15|           22945|           0.0|         0|              0|          0|            null|                 null|                           20|                             2|             499023|                8240|Brasil|\n",
            "|    RO|2020-04-07|   11| Norte|Alta Floresta D'O...|110001|         11005|   ZONA DA MATA|       15|           22945|           0.0|         0|              0|          0|            null|                 null|                            8|                             0|             499023|                8240|Brasil|\n",
            "|    RO|2020-04-14|   11| Norte|Alta Floresta D'O...|110001|         11005|   ZONA DA MATA|       16|           22945|           0.0|         0|              0|          0|            null|                 null|                           44|                             0|             499023|                8240|Brasil|\n",
            "|    RO|2020-03-31|   11| Norte|Alta Floresta D'O...|110001|         11005|   ZONA DA MATA|       14|           22945|           0.0|         0|              0|          0|            null|                 null|                            4|                             2|             499023|                8240|Brasil|\n",
            "|    RO|2020-04-12|   11| Norte|Alta Floresta D'O...|110001|         11005|   ZONA DA MATA|       16|           22945|           0.0|         0|              0|          0|            null|                 null|                            4|                             0|             499023|                8240|Brasil|\n",
            "|    RO|2020-04-11|   11| Norte|Alta Floresta D'O...|110001|         11005|   ZONA DA MATA|       15|           22945|           0.0|         0|              0|          0|            null|                 null|                            2|                             0|             499023|                8240|Brasil|\n",
            "+------+----------+-----+------+--------------------+------+--------------+---------------+---------+----------------+--------------+----------+---------------+-----------+----------------+---------------------+-----------------------------+------------------------------+-------------------+--------------------+------+\n",
            "only showing top 20 rows\n",
            "\n"
          ]
        }
      ],
      "source": [
        "brasil_pais = covid_total2.withColumn(\"Pais\", f.lit(\"Brasil\"))\n",
        "brasil_pais.show()"
      ]
    },
    {
      "cell_type": "code",
      "execution_count": null,
      "metadata": {
        "id": "kxyt2yz3XOsO",
        "colab": {
          "base_uri": "https://localhost:8080/"
        },
        "outputId": "e5201ac8-ad72-4e97-dd46-e4d74f920965"
      },
      "outputs": [
        {
          "output_type": "stream",
          "name": "stdout",
          "text": [
            "+------+------+-------------------+--------------------+\n",
            "|  Pais|estado|total_casos_estados|total_obitos_estados|\n",
            "+------+------+-------------------+--------------------+\n",
            "|Brasil|    MA|             604075|               14021|\n",
            "|Brasil|    PA|            1007846|               24656|\n",
            "|Brasil|    PB|             761101|               12276|\n",
            "|Brasil|    SP|            6747172|              199414|\n",
            "|Brasil|    ES|            1348639|               17698|\n",
            "|Brasil|    TO|             373809|                4589|\n",
            "|Brasil|    BA|            1917392|               34719|\n",
            "|Brasil|    PI|             457200|                9298|\n",
            "|Brasil|    AC|             174361|                2563|\n",
            "|Brasil|    MS|             609756|               11231|\n",
            "|Brasil|    DF|             963369|               13304|\n",
            "|Brasil|    RS|            2848019|               43164|\n",
            "|Brasil|    GO|            1814554|               29293|\n",
            "|Brasil|    RJ|            2813826|               89638|\n",
            "|Brasil|    MT|             887541|               16786|\n",
            "|Brasil|    AL|             386234|                8721|\n",
            "|Brasil|    AM|             724845|               17670|\n",
            "|Brasil|    MG|            4071347|               67235|\n",
            "|Brasil|    PR|            2877017|               47710|\n",
            "|Brasil|    PE|            1184349|               29092|\n",
            "+------+------+-------------------+--------------------+\n",
            "only showing top 20 rows\n",
            "\n"
          ]
        }
      ],
      "source": [
        "total_br = brasil_pais.select(\"Pais\", \"estado\", \"total_casos_estados\",\\\n",
        "                              \"total_obitos_estados\").distinct()\n",
        "total_br.show()"
      ]
    },
    {
      "cell_type": "markdown",
      "metadata": {
        "id": "UoDDNGoSfdCV"
      },
      "source": [
        "####**Soma do total de casos e obitos no Brasi:.**\n",
        "Foi realizada a soma do total de casos e obitos no Brasil considerando todo o período."
      ]
    },
    {
      "cell_type": "code",
      "execution_count": null,
      "metadata": {
        "id": "RW7XV6qlYnV4",
        "colab": {
          "base_uri": "https://localhost:8080/"
        },
        "outputId": "debff850-efed-4824-cfdb-ce514cdc8217"
      },
      "outputs": [
        {
          "output_type": "stream",
          "name": "stdout",
          "text": [
            "+------+------------------+\n",
            "|  Pais|total_casos_brasil|\n",
            "+------+------------------+\n",
            "|Brasil|          38137431|\n",
            "+------+------------------+\n",
            "\n"
          ]
        }
      ],
      "source": [
        "total_br1 = total_br.groupBy(\"Pais\")\\\n",
        "                    .agg(f.sum(\"total_casos_estados\")\\\n",
        "                         .alias(\"total_casos_brasil\"))\n",
        "total_br1.show()"
      ]
    },
    {
      "cell_type": "code",
      "execution_count": null,
      "metadata": {
        "id": "qOBBIfxgbncy",
        "colab": {
          "base_uri": "https://localhost:8080/"
        },
        "outputId": "108c0d65-b6f6-494c-aa9b-7846cfebe975"
      },
      "outputs": [
        {
          "output_type": "stream",
          "name": "stdout",
          "text": [
            "+------+-------------------+\n",
            "|  Pais|total_obitos_brasil|\n",
            "+------+-------------------+\n",
            "|Brasil|             784185|\n",
            "+------+-------------------+\n",
            "\n"
          ]
        }
      ],
      "source": [
        "total_br2 = total_br.groupBy(\"Pais\")\\\n",
        "                    .agg(f.sum(\"total_obitos_estados\")\\\n",
        "                         .alias(\"total_obitos_brasil\"))\n",
        "total_br2.show()"
      ]
    },
    {
      "cell_type": "markdown",
      "metadata": {
        "id": "j-an-47upbTS"
      },
      "source": [
        "####**Join dos dataframes brasil_pais, total_br1 e total_br2.**"
      ]
    },
    {
      "cell_type": "code",
      "execution_count": null,
      "metadata": {
        "id": "-6_X97RRcVsk",
        "colab": {
          "base_uri": "https://localhost:8080/"
        },
        "outputId": "0e2fa3f7-2b98-42a1-a18f-059fad897dcf"
      },
      "outputs": [
        {
          "output_type": "stream",
          "name": "stdout",
          "text": [
            "+------+------+----------+-----+------+--------------------+------+--------------+---------------+---------+----------------+--------------+----------+---------------+-----------+----------------+---------------------+-----------------------------+------------------------------+-------------------+--------------------+------------------+-------------------+\n",
            "|  Pais|estado|      data|coduf|regiao|           municipio|codmun|codRegiaoSaude|nomeRegiaoSaude|semanaEpi|populacaoTCU2019|casosAcumulado|casosNovos|obitosAcumulado|obitosNovos|Recuperadosnovos|emAcompanhamentoNovos|casosNovos_diarios_por_estado|obitosNovos_diarios_por_estado|total_casos_estados|total_obitos_estados|total_casos_brasil|total_obitos_brasil|\n",
            "+------+------+----------+-----+------+--------------------+------+--------------+---------------+---------+----------------+--------------+----------+---------------+-----------+----------------+---------------------+-----------------------------+------------------------------+-------------------+--------------------+------------------+-------------------+\n",
            "|Brasil|    RO|2020-04-06|   11| Norte|Alta Floresta D'O...|110001|         11005|   ZONA DA MATA|       15|           22945|           0.0|         0|              0|          0|            null|                 null|                            4|                             0|             499023|                8240|          38137431|             784185|\n",
            "|Brasil|    RO|2020-04-16|   11| Norte|Alta Floresta D'O...|110001|         11005|   ZONA DA MATA|       16|           22945|           0.0|         0|              0|          0|            null|                 null|                           14|                             2|             499023|                8240|          38137431|             784185|\n",
            "|Brasil|    RO|2020-04-01|   11| Norte|Alta Floresta D'O...|110001|         11005|   ZONA DA MATA|       14|           22945|           0.0|         0|              0|          0|            null|                 null|                            2|                             0|             499023|                8240|          38137431|             784185|\n",
            "|Brasil|    RO|2020-04-10|   11| Norte|Alta Floresta D'O...|110001|         11005|   ZONA DA MATA|       15|           22945|           0.0|         0|              0|          0|            null|                 null|                            8|                             0|             499023|                8240|          38137431|             784185|\n",
            "|Brasil|    RO|2020-04-02|   11| Norte|Alta Floresta D'O...|110001|         11005|   ZONA DA MATA|       14|           22945|           0.0|         0|              0|          0|            null|                 null|                            2|                             0|             499023|                8240|          38137431|             784185|\n",
            "|Brasil|    RO|2020-04-03|   11| Norte|Alta Floresta D'O...|110001|         11005|   ZONA DA MATA|       14|           22945|           0.0|         0|              0|          0|            null|                 null|                            0|                             0|             499023|                8240|          38137431|             784185|\n",
            "|Brasil|    RO|2020-04-13|   11| Norte|Alta Floresta D'O...|110001|         11005|   ZONA DA MATA|       16|           22945|           0.0|         0|              0|          0|            null|                 null|                           14|                             0|             499023|                8240|          38137431|             784185|\n",
            "|Brasil|    RO|2020-03-27|   11| Norte|Alta Floresta D'O...|110001|         11005|   ZONA DA MATA|       13|           22945|           0.0|         0|              0|          0|            null|                 null|                            2|                             0|             499023|                8240|          38137431|             784185|\n",
            "|Brasil|    RO|2020-03-30|   11| Norte|Alta Floresta D'O...|110001|         11005|   ZONA DA MATA|       14|           22945|           0.0|         0|              0|          0|            null|                 null|                            0|                             0|             499023|                8240|          38137431|             784185|\n",
            "|Brasil|    RO|2020-03-29|   11| Norte|Alta Floresta D'O...|110001|         11005|   ZONA DA MATA|       14|           22945|           0.0|         0|              0|          0|            null|                 null|                            0|                             0|             499023|                8240|          38137431|             784185|\n",
            "|Brasil|    RO|2020-03-28|   11| Norte|Alta Floresta D'O...|110001|         11005|   ZONA DA MATA|       13|           22945|           0.0|         0|              0|          0|            null|                 null|                            0|                             0|             499023|                8240|          38137431|             784185|\n",
            "|Brasil|    RO|2020-04-05|   11| Norte|Alta Floresta D'O...|110001|         11005|   ZONA DA MATA|       15|           22945|           0.0|         0|              0|          0|            null|                 null|                            2|                             0|             499023|                8240|          38137431|             784185|\n",
            "|Brasil|    RO|2020-04-04|   11| Norte|Alta Floresta D'O...|110001|         11005|   ZONA DA MATA|       14|           22945|           0.0|         0|              0|          0|            null|                 null|                            2|                             0|             499023|                8240|          38137431|             784185|\n",
            "|Brasil|    RO|2020-04-15|   11| Norte|Alta Floresta D'O...|110001|         11005|   ZONA DA MATA|       16|           22945|           0.0|         0|              0|          0|            null|                 null|                           10|                             0|             499023|                8240|          38137431|             784185|\n",
            "|Brasil|    RO|2020-04-09|   11| Norte|Alta Floresta D'O...|110001|         11005|   ZONA DA MATA|       15|           22945|           0.0|         0|              0|          0|            null|                 null|                           20|                             2|             499023|                8240|          38137431|             784185|\n",
            "|Brasil|    RO|2020-04-07|   11| Norte|Alta Floresta D'O...|110001|         11005|   ZONA DA MATA|       15|           22945|           0.0|         0|              0|          0|            null|                 null|                            8|                             0|             499023|                8240|          38137431|             784185|\n",
            "|Brasil|    RO|2020-04-14|   11| Norte|Alta Floresta D'O...|110001|         11005|   ZONA DA MATA|       16|           22945|           0.0|         0|              0|          0|            null|                 null|                           44|                             0|             499023|                8240|          38137431|             784185|\n",
            "|Brasil|    RO|2020-03-31|   11| Norte|Alta Floresta D'O...|110001|         11005|   ZONA DA MATA|       14|           22945|           0.0|         0|              0|          0|            null|                 null|                            4|                             2|             499023|                8240|          38137431|             784185|\n",
            "|Brasil|    RO|2020-04-12|   11| Norte|Alta Floresta D'O...|110001|         11005|   ZONA DA MATA|       16|           22945|           0.0|         0|              0|          0|            null|                 null|                            4|                             0|             499023|                8240|          38137431|             784185|\n",
            "|Brasil|    RO|2020-04-11|   11| Norte|Alta Floresta D'O...|110001|         11005|   ZONA DA MATA|       15|           22945|           0.0|         0|              0|          0|            null|                 null|                            2|                             0|             499023|                8240|          38137431|             784185|\n",
            "+------+------+----------+-----+------+--------------------+------+--------------+---------------+---------+----------------+--------------+----------+---------------+-----------+----------------+---------------------+-----------------------------+------------------------------+-------------------+--------------------+------------------+-------------------+\n",
            "only showing top 20 rows\n",
            "\n"
          ]
        }
      ],
      "source": [
        "covid_total3 = brasil_pais.join(total_br1, [\"Pais\"], how='left')\\\n",
        "                          .join(total_br2, [\"Pais\"], how='left')\n",
        "\n",
        "covid_total3.show()"
      ]
    },
    {
      "cell_type": "markdown",
      "metadata": {
        "id": "ArQkINcg2YL7"
      },
      "source": [
        "####**Total de casos e obitos novos por municipío.**\n",
        "Foi desconsiderados os valores da coluna data para realizar a soma do valor total de casos novos e óbitos por município considerando o período total.\n",
        "\n",
        "Foi desconsiderado qualquer valor negativo para evitar que haja comprometimento dos dados exibidos no total da soma.\n",
        "\n",
        "Poteriormente foi ordenado o total de forma decrescente para uma melhor visualização dos dados.\n"
      ]
    },
    {
      "cell_type": "code",
      "execution_count": null,
      "metadata": {
        "id": "5S8WVNLD2QKp",
        "colab": {
          "base_uri": "https://localhost:8080/"
        },
        "outputId": "d25c72a7-a639-4423-9282-4b31b6e42919"
      },
      "outputs": [
        {
          "output_type": "stream",
          "name": "stdout",
          "text": [
            "+--------------+---------------------+\n",
            "|     municipio|total_casos_municipio|\n",
            "+--------------+---------------------+\n",
            "|     São Paulo|              1331507|\n",
            "|Rio de Janeiro|              1329531|\n",
            "|      Brasília|               963369|\n",
            "|Belo Horizonte|               476516|\n",
            "|     Fortaleza|               452600|\n",
            "|       Goiânia|               441669|\n",
            "|      Salvador|               384469|\n",
            "|        Manaus|               348981|\n",
            "|  Porto Alegre|               319872|\n",
            "|      Curitiba|               318966|\n",
            "|        Recife|               317357|\n",
            "|    Uberlândia|               237615|\n",
            "|       Maringá|               237271|\n",
            "|      Campinas|               222809|\n",
            "|  Campo Grande|               222073|\n",
            "|         Natal|               216241|\n",
            "|       Aracaju|               194013|\n",
            "|     Joinville|               192523|\n",
            "|   João Pessoa|               191791|\n",
            "|      Londrina|               189367|\n",
            "+--------------+---------------------+\n",
            "only showing top 20 rows\n",
            "\n"
          ]
        }
      ],
      "source": [
        "municipio_total_cs = municipios.drop(\"data\")\\\n",
        "                         .groupby(\"municipio\")\\\n",
        "                         .agg(sum(\"casosNovos\").alias(\"total_casos_municipio\"))\\\n",
        "                         .filter(column(\"total_casos_municipio\") >= 0)\\\n",
        "                         .sort(col(\"total_casos_municipio\").desc())\n",
        "\n",
        "municipio_total_cs.show()"
      ]
    },
    {
      "cell_type": "code",
      "execution_count": null,
      "metadata": {
        "id": "t95K35bn2P9j",
        "colab": {
          "base_uri": "https://localhost:8080/"
        },
        "outputId": "38c06afc-e80d-4499-93d3-8a00d87e32a3"
      },
      "outputs": [
        {
          "output_type": "stream",
          "name": "stdout",
          "text": [
            "+--------------------+----------------------+\n",
            "|           municipio|total_obitos_municipio|\n",
            "+--------------------+----------------------+\n",
            "|           São Paulo|                 53781|\n",
            "|      Rio de Janeiro|                 46109|\n",
            "|           Fortaleza|                 15764|\n",
            "|            Brasília|                 13304|\n",
            "|              Recife|                 12808|\n",
            "|              Manaus|                 11947|\n",
            "|            Salvador|                 10766|\n",
            "|            Curitiba|                  9201|\n",
            "|      Belo Horizonte|                  8776|\n",
            "|             Goiânia|                  8465|\n",
            "|               Belém|                  7631|\n",
            "|        Porto Alegre|                  6917|\n",
            "|           Guarulhos|                  6662|\n",
            "|            Campinas|                  6040|\n",
            "|            São Luís|                  5540|\n",
            "|        Campo Grande|                  4767|\n",
            "|         São Gonçalo|                  4752|\n",
            "|              Cuiabá|                  4719|\n",
            "|São Bernardo do C...|                  4437|\n",
            "|              Sobral|                  4136|\n",
            "+--------------------+----------------------+\n",
            "only showing top 20 rows\n",
            "\n"
          ]
        }
      ],
      "source": [
        "municipio_total_ob = municipios.drop(\"data\")\\\n",
        "                               .groupby(\"municipio\")\\\n",
        "                               .agg(sum(\"obitosNovos\").alias(\"total_obitos_municipio\"))\\\n",
        "                               .filter(column(\"total_obitos_municipio\") >= 0)\\\n",
        "                               .sort(col(\"total_obitos_municipio\").desc())\n",
        "\n",
        "municipio_total_ob.show()"
      ]
    },
    {
      "cell_type": "markdown",
      "metadata": {
        "id": "ZylhxmJUqs8S"
      },
      "source": [
        "####**Join dos dataframes covid_total3, municipio_total_cs e municipio_total_ob.**"
      ]
    },
    {
      "cell_type": "code",
      "execution_count": null,
      "metadata": {
        "id": "ndZtxFOo2PnX",
        "colab": {
          "base_uri": "https://localhost:8080/"
        },
        "outputId": "5efcd296-5230-4885-c1a3-ef18a6138d55"
      },
      "outputs": [
        {
          "output_type": "stream",
          "name": "stdout",
          "text": [
            "+--------------------+------+------+----------+-----+------+------+--------------+---------------+---------+----------------+--------------+----------+---------------+-----------+----------------+---------------------+-----------------------------+------------------------------+-------------------+--------------------+------------------+-------------------+---------------------+----------------------+\n",
            "|           municipio|  Pais|estado|      data|coduf|regiao|codmun|codRegiaoSaude|nomeRegiaoSaude|semanaEpi|populacaoTCU2019|casosAcumulado|casosNovos|obitosAcumulado|obitosNovos|Recuperadosnovos|emAcompanhamentoNovos|casosNovos_diarios_por_estado|obitosNovos_diarios_por_estado|total_casos_estados|total_obitos_estados|total_casos_brasil|total_obitos_brasil|total_casos_municipio|total_obitos_municipio|\n",
            "+--------------------+------+------+----------+-----+------+------+--------------+---------------+---------+----------------+--------------+----------+---------------+-----------+----------------+---------------------+-----------------------------+------------------------------+-------------------+--------------------+------------------+-------------------+---------------------+----------------------+\n",
            "|Alta Floresta D'O...|Brasil|    RO|2020-04-06|   11| Norte|110001|         11005|   ZONA DA MATA|       15|           22945|           0.0|         0|              0|          0|            null|                 null|                            4|                             0|             499023|                8240|          38137431|             784185|                 9346|                    89|\n",
            "|Alta Floresta D'O...|Brasil|    RO|2020-04-16|   11| Norte|110001|         11005|   ZONA DA MATA|       16|           22945|           0.0|         0|              0|          0|            null|                 null|                           14|                             2|             499023|                8240|          38137431|             784185|                 9346|                    89|\n",
            "|Alta Floresta D'O...|Brasil|    RO|2020-04-01|   11| Norte|110001|         11005|   ZONA DA MATA|       14|           22945|           0.0|         0|              0|          0|            null|                 null|                            2|                             0|             499023|                8240|          38137431|             784185|                 9346|                    89|\n",
            "|Alta Floresta D'O...|Brasil|    RO|2020-04-10|   11| Norte|110001|         11005|   ZONA DA MATA|       15|           22945|           0.0|         0|              0|          0|            null|                 null|                            8|                             0|             499023|                8240|          38137431|             784185|                 9346|                    89|\n",
            "|Alta Floresta D'O...|Brasil|    RO|2020-04-02|   11| Norte|110001|         11005|   ZONA DA MATA|       14|           22945|           0.0|         0|              0|          0|            null|                 null|                            2|                             0|             499023|                8240|          38137431|             784185|                 9346|                    89|\n",
            "|Alta Floresta D'O...|Brasil|    RO|2020-04-03|   11| Norte|110001|         11005|   ZONA DA MATA|       14|           22945|           0.0|         0|              0|          0|            null|                 null|                            0|                             0|             499023|                8240|          38137431|             784185|                 9346|                    89|\n",
            "|Alta Floresta D'O...|Brasil|    RO|2020-04-13|   11| Norte|110001|         11005|   ZONA DA MATA|       16|           22945|           0.0|         0|              0|          0|            null|                 null|                           14|                             0|             499023|                8240|          38137431|             784185|                 9346|                    89|\n",
            "|Alta Floresta D'O...|Brasil|    RO|2020-03-27|   11| Norte|110001|         11005|   ZONA DA MATA|       13|           22945|           0.0|         0|              0|          0|            null|                 null|                            2|                             0|             499023|                8240|          38137431|             784185|                 9346|                    89|\n",
            "|Alta Floresta D'O...|Brasil|    RO|2020-03-30|   11| Norte|110001|         11005|   ZONA DA MATA|       14|           22945|           0.0|         0|              0|          0|            null|                 null|                            0|                             0|             499023|                8240|          38137431|             784185|                 9346|                    89|\n",
            "|Alta Floresta D'O...|Brasil|    RO|2020-03-29|   11| Norte|110001|         11005|   ZONA DA MATA|       14|           22945|           0.0|         0|              0|          0|            null|                 null|                            0|                             0|             499023|                8240|          38137431|             784185|                 9346|                    89|\n",
            "|Alta Floresta D'O...|Brasil|    RO|2020-03-28|   11| Norte|110001|         11005|   ZONA DA MATA|       13|           22945|           0.0|         0|              0|          0|            null|                 null|                            0|                             0|             499023|                8240|          38137431|             784185|                 9346|                    89|\n",
            "|Alta Floresta D'O...|Brasil|    RO|2020-04-05|   11| Norte|110001|         11005|   ZONA DA MATA|       15|           22945|           0.0|         0|              0|          0|            null|                 null|                            2|                             0|             499023|                8240|          38137431|             784185|                 9346|                    89|\n",
            "|Alta Floresta D'O...|Brasil|    RO|2020-04-04|   11| Norte|110001|         11005|   ZONA DA MATA|       14|           22945|           0.0|         0|              0|          0|            null|                 null|                            2|                             0|             499023|                8240|          38137431|             784185|                 9346|                    89|\n",
            "|Alta Floresta D'O...|Brasil|    RO|2020-04-15|   11| Norte|110001|         11005|   ZONA DA MATA|       16|           22945|           0.0|         0|              0|          0|            null|                 null|                           10|                             0|             499023|                8240|          38137431|             784185|                 9346|                    89|\n",
            "|Alta Floresta D'O...|Brasil|    RO|2020-04-09|   11| Norte|110001|         11005|   ZONA DA MATA|       15|           22945|           0.0|         0|              0|          0|            null|                 null|                           20|                             2|             499023|                8240|          38137431|             784185|                 9346|                    89|\n",
            "|Alta Floresta D'O...|Brasil|    RO|2020-04-07|   11| Norte|110001|         11005|   ZONA DA MATA|       15|           22945|           0.0|         0|              0|          0|            null|                 null|                            8|                             0|             499023|                8240|          38137431|             784185|                 9346|                    89|\n",
            "|Alta Floresta D'O...|Brasil|    RO|2020-04-14|   11| Norte|110001|         11005|   ZONA DA MATA|       16|           22945|           0.0|         0|              0|          0|            null|                 null|                           44|                             0|             499023|                8240|          38137431|             784185|                 9346|                    89|\n",
            "|Alta Floresta D'O...|Brasil|    RO|2020-03-31|   11| Norte|110001|         11005|   ZONA DA MATA|       14|           22945|           0.0|         0|              0|          0|            null|                 null|                            4|                             2|             499023|                8240|          38137431|             784185|                 9346|                    89|\n",
            "|Alta Floresta D'O...|Brasil|    RO|2020-04-12|   11| Norte|110001|         11005|   ZONA DA MATA|       16|           22945|           0.0|         0|              0|          0|            null|                 null|                            4|                             0|             499023|                8240|          38137431|             784185|                 9346|                    89|\n",
            "|Alta Floresta D'O...|Brasil|    RO|2020-04-11|   11| Norte|110001|         11005|   ZONA DA MATA|       15|           22945|           0.0|         0|              0|          0|            null|                 null|                            2|                             0|             499023|                8240|          38137431|             784185|                 9346|                    89|\n",
            "+--------------------+------+------+----------+-----+------+------+--------------+---------------+---------+----------------+--------------+----------+---------------+-----------+----------------+---------------------+-----------------------------+------------------------------+-------------------+--------------------+------------------+-------------------+---------------------+----------------------+\n",
            "only showing top 20 rows\n",
            "\n"
          ]
        }
      ],
      "source": [
        "covid_total4 = covid_total3.join(municipio_total_cs, [\"municipio\"], how='left')\\\n",
        "                           .join(municipio_total_ob, [\"municipio\"], how='left') \n",
        "\n",
        "\n",
        "covid_total4.show()\n"
      ]
    },
    {
      "cell_type": "markdown",
      "metadata": {
        "id": "Mv1FCXxLXvFs"
      },
      "source": [
        "####**Média do total de casos e óbitoss por estado.**\n",
        "Foi realizada a exploração da média do total de casos e óbitos de acordo com cada estado."
      ]
    },
    {
      "cell_type": "code",
      "execution_count": null,
      "metadata": {
        "id": "YHXUTOiXeRg3",
        "colab": {
          "base_uri": "https://localhost:8080/"
        },
        "outputId": "6bd82ae2-da1a-4d24-fb4d-320ca55764f9"
      },
      "outputs": [
        {
          "output_type": "stream",
          "name": "stdout",
          "text": [
            "+--------------------+------+------+----------+-----+------+------+--------------+---------------+---------+----------------+--------------+----------+---------------+-----------+----------------+---------------------+-----------------------------+------------------------------+-------------------+--------------------+------------------+-------------------+---------------------+----------------------+-------------------------+------------------------+\n",
            "|           municipio|  Pais|estado|      data|coduf|regiao|codmun|codRegiaoSaude|nomeRegiaoSaude|semanaEpi|populacaoTCU2019|casosAcumulado|casosNovos|obitosAcumulado|obitosNovos|Recuperadosnovos|emAcompanhamentoNovos|casosNovos_diarios_por_estado|obitosNovos_diarios_por_estado|total_casos_estados|total_obitos_estados|total_casos_brasil|total_obitos_brasil|total_casos_municipio|total_obitos_municipio|media_total_obitos_estado|media_total_casos_estado|\n",
            "+--------------------+------+------+----------+-----+------+------+--------------+---------------+---------+----------------+--------------+----------+---------------+-----------+----------------+---------------------+-----------------------------+------------------------------+-------------------+--------------------+------------------+-------------------+---------------------+----------------------+-------------------------+------------------------+\n",
            "|Alta Floresta D'O...|Brasil|    RO|2020-04-06|   11| Norte|110001|         11005|   ZONA DA MATA|       15|           22945|           0.0|         0|              0|          0|            null|                 null|                            4|                             0|             499023|                8240|          38137431|             784185|                 9346|                    89|                    0.011|                   0.013|\n",
            "|Alta Floresta D'O...|Brasil|    RO|2020-04-16|   11| Norte|110001|         11005|   ZONA DA MATA|       16|           22945|           0.0|         0|              0|          0|            null|                 null|                           14|                             2|             499023|                8240|          38137431|             784185|                 9346|                    89|                    0.011|                   0.013|\n",
            "|Alta Floresta D'O...|Brasil|    RO|2020-04-01|   11| Norte|110001|         11005|   ZONA DA MATA|       14|           22945|           0.0|         0|              0|          0|            null|                 null|                            2|                             0|             499023|                8240|          38137431|             784185|                 9346|                    89|                    0.011|                   0.013|\n",
            "|Alta Floresta D'O...|Brasil|    RO|2020-04-10|   11| Norte|110001|         11005|   ZONA DA MATA|       15|           22945|           0.0|         0|              0|          0|            null|                 null|                            8|                             0|             499023|                8240|          38137431|             784185|                 9346|                    89|                    0.011|                   0.013|\n",
            "|Alta Floresta D'O...|Brasil|    RO|2020-04-02|   11| Norte|110001|         11005|   ZONA DA MATA|       14|           22945|           0.0|         0|              0|          0|            null|                 null|                            2|                             0|             499023|                8240|          38137431|             784185|                 9346|                    89|                    0.011|                   0.013|\n",
            "|Alta Floresta D'O...|Brasil|    RO|2020-04-03|   11| Norte|110001|         11005|   ZONA DA MATA|       14|           22945|           0.0|         0|              0|          0|            null|                 null|                            0|                             0|             499023|                8240|          38137431|             784185|                 9346|                    89|                    0.011|                   0.013|\n",
            "|Alta Floresta D'O...|Brasil|    RO|2020-04-13|   11| Norte|110001|         11005|   ZONA DA MATA|       16|           22945|           0.0|         0|              0|          0|            null|                 null|                           14|                             0|             499023|                8240|          38137431|             784185|                 9346|                    89|                    0.011|                   0.013|\n",
            "|Alta Floresta D'O...|Brasil|    RO|2020-03-27|   11| Norte|110001|         11005|   ZONA DA MATA|       13|           22945|           0.0|         0|              0|          0|            null|                 null|                            2|                             0|             499023|                8240|          38137431|             784185|                 9346|                    89|                    0.011|                   0.013|\n",
            "|Alta Floresta D'O...|Brasil|    RO|2020-03-30|   11| Norte|110001|         11005|   ZONA DA MATA|       14|           22945|           0.0|         0|              0|          0|            null|                 null|                            0|                             0|             499023|                8240|          38137431|             784185|                 9346|                    89|                    0.011|                   0.013|\n",
            "|Alta Floresta D'O...|Brasil|    RO|2020-03-29|   11| Norte|110001|         11005|   ZONA DA MATA|       14|           22945|           0.0|         0|              0|          0|            null|                 null|                            0|                             0|             499023|                8240|          38137431|             784185|                 9346|                    89|                    0.011|                   0.013|\n",
            "|Alta Floresta D'O...|Brasil|    RO|2020-03-28|   11| Norte|110001|         11005|   ZONA DA MATA|       13|           22945|           0.0|         0|              0|          0|            null|                 null|                            0|                             0|             499023|                8240|          38137431|             784185|                 9346|                    89|                    0.011|                   0.013|\n",
            "|Alta Floresta D'O...|Brasil|    RO|2020-04-05|   11| Norte|110001|         11005|   ZONA DA MATA|       15|           22945|           0.0|         0|              0|          0|            null|                 null|                            2|                             0|             499023|                8240|          38137431|             784185|                 9346|                    89|                    0.011|                   0.013|\n",
            "|Alta Floresta D'O...|Brasil|    RO|2020-04-04|   11| Norte|110001|         11005|   ZONA DA MATA|       14|           22945|           0.0|         0|              0|          0|            null|                 null|                            2|                             0|             499023|                8240|          38137431|             784185|                 9346|                    89|                    0.011|                   0.013|\n",
            "|Alta Floresta D'O...|Brasil|    RO|2020-04-15|   11| Norte|110001|         11005|   ZONA DA MATA|       16|           22945|           0.0|         0|              0|          0|            null|                 null|                           10|                             0|             499023|                8240|          38137431|             784185|                 9346|                    89|                    0.011|                   0.013|\n",
            "|Alta Floresta D'O...|Brasil|    RO|2020-04-09|   11| Norte|110001|         11005|   ZONA DA MATA|       15|           22945|           0.0|         0|              0|          0|            null|                 null|                           20|                             2|             499023|                8240|          38137431|             784185|                 9346|                    89|                    0.011|                   0.013|\n",
            "|Alta Floresta D'O...|Brasil|    RO|2020-04-07|   11| Norte|110001|         11005|   ZONA DA MATA|       15|           22945|           0.0|         0|              0|          0|            null|                 null|                            8|                             0|             499023|                8240|          38137431|             784185|                 9346|                    89|                    0.011|                   0.013|\n",
            "|Alta Floresta D'O...|Brasil|    RO|2020-04-14|   11| Norte|110001|         11005|   ZONA DA MATA|       16|           22945|           0.0|         0|              0|          0|            null|                 null|                           44|                             0|             499023|                8240|          38137431|             784185|                 9346|                    89|                    0.011|                   0.013|\n",
            "|Alta Floresta D'O...|Brasil|    RO|2020-03-31|   11| Norte|110001|         11005|   ZONA DA MATA|       14|           22945|           0.0|         0|              0|          0|            null|                 null|                            4|                             2|             499023|                8240|          38137431|             784185|                 9346|                    89|                    0.011|                   0.013|\n",
            "|Alta Floresta D'O...|Brasil|    RO|2020-04-12|   11| Norte|110001|         11005|   ZONA DA MATA|       16|           22945|           0.0|         0|              0|          0|            null|                 null|                            4|                             0|             499023|                8240|          38137431|             784185|                 9346|                    89|                    0.011|                   0.013|\n",
            "|Alta Floresta D'O...|Brasil|    RO|2020-04-11|   11| Norte|110001|         11005|   ZONA DA MATA|       15|           22945|           0.0|         0|              0|          0|            null|                 null|                            2|                             0|             499023|                8240|          38137431|             784185|                 9346|                    89|                    0.011|                   0.013|\n",
            "+--------------------+------+------+----------+-----+------+------+--------------+---------------+---------+----------------+--------------+----------+---------------+-----------+----------------+---------------------+-----------------------------+------------------------------+-------------------+--------------------+------------------+-------------------+---------------------+----------------------+-------------------------+------------------------+\n",
            "only showing top 20 rows\n",
            "\n"
          ]
        }
      ],
      "source": [
        "covid_total5 = covid_total4.withColumn(\"media_total_obitos_estado\",\\\n",
        "                                       round(col(\"total_obitos_estados\")\\\n",
        "                                             /col(\"total_obitos_brasil\"), 3))\\\n",
        "                           .withColumn(\"media_total_casos_estado\",\\\n",
        "                                       round(col(\"total_casos_estados\")\\\n",
        "                                             /col(\"total_casos_brasil\"), 3))\n",
        "\n",
        "covid_total5.show()"
      ]
    },
    {
      "cell_type": "code",
      "execution_count": null,
      "metadata": {
        "id": "5n072JD1ZBRx",
        "colab": {
          "base_uri": "https://localhost:8080/"
        },
        "outputId": "ac991adf-f0a8-4c35-c77f-0af850d21270"
      },
      "outputs": [
        {
          "output_type": "stream",
          "name": "stdout",
          "text": [
            "+------+------+-------------------------+------------------------+\n",
            "|  Pais|estado|media_total_obitos_estado|media_total_casos_estado|\n",
            "+------+------+-------------------------+------------------------+\n",
            "|Brasil|    SP|                    0.254|                   0.177|\n",
            "|Brasil|    RJ|                    0.114|                   0.074|\n",
            "|Brasil|    MG|                    0.086|                   0.107|\n",
            "|Brasil|    PR|                    0.061|                   0.075|\n",
            "|Brasil|    RS|                    0.055|                   0.075|\n",
            "|Brasil|    CE|                    0.046|                   0.042|\n",
            "|Brasil|    BA|                    0.044|                    0.05|\n",
            "|Brasil|    PE|                    0.037|                   0.031|\n",
            "|Brasil|    GO|                    0.037|                   0.048|\n",
            "|Brasil|    PA|                    0.031|                   0.026|\n",
            "|Brasil|    SC|                     0.03|                   0.052|\n",
            "|Brasil|    AM|                    0.023|                   0.019|\n",
            "|Brasil|    ES|                    0.023|                   0.035|\n",
            "|Brasil|    MT|                    0.021|                   0.023|\n",
            "|Brasil|    MA|                    0.018|                   0.016|\n",
            "|Brasil|    DF|                    0.017|                   0.025|\n",
            "|Brasil|    PB|                    0.016|                    0.02|\n",
            "|Brasil|    MS|                    0.014|                   0.016|\n",
            "|Brasil|    RN|                    0.013|                   0.016|\n",
            "|Brasil|    PI|                    0.012|                   0.012|\n",
            "+------+------+-------------------------+------------------------+\n",
            "only showing top 20 rows\n",
            "\n",
            "+------+------+-------------------------+------------------------+\n",
            "|  Pais|estado|media_total_obitos_estado|media_total_casos_estado|\n",
            "+------+------+-------------------------+------------------------+\n",
            "|Brasil|    SP|                    0.254|                   0.177|\n",
            "|Brasil|    MG|                    0.086|                   0.107|\n",
            "|Brasil|    RS|                    0.055|                   0.075|\n",
            "|Brasil|    PR|                    0.061|                   0.075|\n",
            "|Brasil|    RJ|                    0.114|                   0.074|\n",
            "|Brasil|    SC|                     0.03|                   0.052|\n",
            "|Brasil|    BA|                    0.044|                    0.05|\n",
            "|Brasil|    GO|                    0.037|                   0.048|\n",
            "|Brasil|    CE|                    0.046|                   0.042|\n",
            "|Brasil|    ES|                    0.023|                   0.035|\n",
            "|Brasil|    PE|                    0.037|                   0.031|\n",
            "|Brasil|    PA|                    0.031|                   0.026|\n",
            "|Brasil|    DF|                    0.017|                   0.025|\n",
            "|Brasil|    MT|                    0.021|                   0.023|\n",
            "|Brasil|    PB|                    0.016|                    0.02|\n",
            "|Brasil|    AM|                    0.023|                   0.019|\n",
            "|Brasil|    MA|                    0.018|                   0.016|\n",
            "|Brasil|    RN|                    0.013|                   0.016|\n",
            "|Brasil|    MS|                    0.014|                   0.016|\n",
            "|Brasil|    RO|                    0.011|                   0.013|\n",
            "+------+------+-------------------------+------------------------+\n",
            "only showing top 20 rows\n",
            "\n"
          ]
        }
      ],
      "source": [
        "media_estado = covid_total5.select(\"Pais\", \"estado\", \\\n",
        "                                   \"media_total_obitos_estado\",\\\n",
        "                                   \"media_total_casos_estado\")\\\n",
        "                           .distinct()\\\n",
        "                           .orderBy(col(\"media_total_obitos_estado\").desc())\n",
        "\n",
        "media_estado2 = covid_total5.select(\"Pais\", \"estado\",\\\n",
        "                                    \"media_total_obitos_estado\", \\\n",
        "                                    \"media_total_casos_estado\")\\\n",
        "                           .distinct()\\\n",
        "                           .orderBy( col(\"media_total_casos_estado\").desc())\n",
        "\n",
        "media_estado.show()\n",
        "media_estado2.show()"
      ]
    },
    {
      "cell_type": "markdown",
      "metadata": {
        "id": "eXUCItyQwtJI"
      },
      "source": [
        "####**Demonstração dos dados em gráfico.**"
      ]
    },
    {
      "cell_type": "code",
      "execution_count": null,
      "metadata": {
        "id": "ETGqGTVjIYj3"
      },
      "outputs": [],
      "source": [
        "graf = estado_total_ob.join(desemprego20, estado_total_ob.Estados == desemprego.Estado, \"inner\")\\\n",
        "                      .drop(\"Estado\")\n",
        "graf = graf.toPandas()"
      ]
    },
    {
      "cell_type": "code",
      "execution_count": null,
      "metadata": {
        "id": "wdZuDgUYvC8I",
        "colab": {
          "base_uri": "https://localhost:8080/",
          "height": 1000
        },
        "outputId": "2348d3a0-c31e-4c2d-b18b-a1da8c11afe8"
      },
      "outputs": [
        {
          "output_type": "display_data",
          "data": {
            "text/html": [
              "<html>\n",
              "<head><meta charset=\"utf-8\" /></head>\n",
              "<body>\n",
              "    <div>            <script src=\"https://cdnjs.cloudflare.com/ajax/libs/mathjax/2.7.5/MathJax.js?config=TeX-AMS-MML_SVG\"></script><script type=\"text/javascript\">if (window.MathJax) {MathJax.Hub.Config({SVG: {font: \"STIX-Web\"}});}</script>                <script type=\"text/javascript\">window.PlotlyConfig = {MathJaxConfig: 'local'};</script>\n",
              "        <script src=\"https://cdn.plot.ly/plotly-2.8.3.min.js\"></script>                <div id=\"d5ac7f4f-c6ba-4b5d-95a3-83dbcadff809\" class=\"plotly-graph-div\" style=\"height:525px; width:100%;\"></div>            <script type=\"text/javascript\">                                    window.PLOTLYENV=window.PLOTLYENV || {};                                    if (document.getElementById(\"d5ac7f4f-c6ba-4b5d-95a3-83dbcadff809\")) {                    Plotly.newPlot(                        \"d5ac7f4f-c6ba-4b5d-95a3-83dbcadff809\",                        [{\"alignmentgroup\":\"True\",\"hovertemplate\":\"variable=total_obitos_estados<br>Estados=%{x}<br>value=%{y}<extra></extra>\",\"legendgroup\":\"total_obitos_estados\",\"marker\":{\"color\":\"#636efa\",\"pattern\":{\"shape\":\"\"}},\"name\":\"total_obitos_estados\",\"offsetgroup\":\"total_obitos_estados\",\"orientation\":\"v\",\"showlegend\":true,\"textposition\":\"auto\",\"texttemplate\":\"%{y:.2s}\",\"x\":[\"SC\",\"RO\",\"PI\",\"AM\",\"RR\",\"GO\",\"TO\",\"MT\",\"SP\",\"PB\",\"ES\",\"RS\",\"MS\",\"AL\",\"MG\",\"PA\",\"BA\",\"SE\",\"PE\",\"CE\",\"RN\",\"RJ\",\"MA\",\"AC\",\"DF\",\"PR\",\"AP\"],\"xaxis\":\"x\",\"y\":[23572,8240,9298,17670,2705,29293,4589,16786,199414,12276,17698,43164,11231,8721,67235,24656,34719,7891,29092,35688,10281,89638,14021,2563,13304,47710,2730],\"yaxis\":\"y\",\"type\":\"bar\"},{\"alignmentgroup\":\"True\",\"hovertemplate\":\"variable=1_trimestre_2019<br>Estados=%{x}<br>value=%{y}<extra></extra>\",\"legendgroup\":\"1_trimestre_2019\",\"marker\":{\"color\":\"#EF553B\",\"pattern\":{\"shape\":\"\"}},\"name\":\"1_trimestre_2019\",\"offsetgroup\":\"1_trimestre_2019\",\"orientation\":\"v\",\"showlegend\":true,\"textposition\":\"auto\",\"texttemplate\":\"%{y:.2s}\",\"x\":[\"SC\",\"RO\",\"PI\",\"AM\",\"RR\",\"GO\",\"TO\",\"MT\",\"SP\",\"PB\",\"ES\",\"RS\",\"MS\",\"AL\",\"MG\",\"PA\",\"BA\",\"SE\",\"PE\",\"CE\",\"RN\",\"RJ\",\"MA\",\"AC\",\"DF\",\"PR\",\"AP\"],\"xaxis\":\"x\",\"y\":[285,79,188,296,39,407,90,167,3510,189,266,496,137,194,1257,445,1307,165,696,476,214,1388,429,65,238,550,78],\"yaxis\":\"y\",\"type\":\"bar\"},{\"alignmentgroup\":\"True\",\"hovertemplate\":\"variable=2_trimestre_2019<br>Estados=%{x}<br>value=%{y}<extra></extra>\",\"legendgroup\":\"2_trimestre_2019\",\"marker\":{\"color\":\"#00cc96\",\"pattern\":{\"shape\":\"\"}},\"name\":\"2_trimestre_2019\",\"offsetgroup\":\"2_trimestre_2019\",\"orientation\":\"v\",\"showlegend\":true,\"textposition\":\"auto\",\"texttemplate\":\"%{y:.2s}\",\"x\":[\"SC\",\"RO\",\"PI\",\"AM\",\"RR\",\"GO\",\"TO\",\"MT\",\"SP\",\"PB\",\"ES\",\"RS\",\"MS\",\"AL\",\"MG\",\"PA\",\"BA\",\"SE\",\"PE\",\"CE\",\"RN\",\"RJ\",\"MA\",\"AC\",\"DF\",\"PR\",\"AP\"],\"xaxis\":\"x\",\"y\":[239,60,191,265,38,399,84,154,3368,207,242,515,123,186,1096,435,1240,169,681,459,195,1366,388,49,234,560,69],\"yaxis\":\"y\",\"type\":\"bar\"},{\"alignmentgroup\":\"True\",\"hovertemplate\":\"variable=3_trimestre_2019<br>Estados=%{x}<br>value=%{y}<extra></extra>\",\"legendgroup\":\"3_trimestre_2019\",\"marker\":{\"color\":\"#ab63fa\",\"pattern\":{\"shape\":\"\"}},\"name\":\"3_trimestre_2019\",\"offsetgroup\":\"3_trimestre_2019\",\"orientation\":\"v\",\"showlegend\":true,\"textposition\":\"auto\",\"texttemplate\":\"%{y:.2s}\",\"x\":[\"SC\",\"RO\",\"PI\",\"AM\",\"RR\",\"GO\",\"TO\",\"MT\",\"SP\",\"PB\",\"ES\",\"RS\",\"MS\",\"AL\",\"MG\",\"PA\",\"BA\",\"SE\",\"PE\",\"CE\",\"RN\",\"RJ\",\"MA\",\"AC\",\"DF\",\"PR\",\"AP\"],\"xaxis\":\"x\",\"y\":[227,74,199,257,37,421,78,148,3169,193,233,555,111,193,1149,444,1194,162,674,478,210,1314,382,47,224,559,66],\"yaxis\":\"y\",\"type\":\"bar\"},{\"alignmentgroup\":\"True\",\"hovertemplate\":\"variable=4_trimestre_2019<br>Estados=%{x}<br>value=%{y}<extra></extra>\",\"legendgroup\":\"4_trimestre_2019\",\"marker\":{\"color\":\"#FFA15A\",\"pattern\":{\"shape\":\"\"}},\"name\":\"4_trimestre_2019\",\"offsetgroup\":\"4_trimestre_2019\",\"orientation\":\"v\",\"showlegend\":true,\"textposition\":\"auto\",\"texttemplate\":\"%{y:.2s}\",\"x\":[\"SC\",\"RO\",\"PI\",\"AM\",\"RR\",\"GO\",\"TO\",\"MT\",\"SP\",\"PB\",\"ES\",\"RS\",\"MS\",\"AL\",\"MG\",\"PA\",\"BA\",\"SE\",\"PE\",\"CE\",\"RN\",\"RJ\",\"MA\",\"AC\",\"DF\",\"PR\",\"AP\"],\"xaxis\":\"x\",\"y\":[216,72,200,248,38,405,67,117,3015,206,227,455,96,165,1098,360,1162,168,601,437,199,1246,330,49,210,450,62],\"yaxis\":\"y\",\"type\":\"bar\"},{\"alignmentgroup\":\"True\",\"hovertemplate\":\"variable=1_trimestre_2020<br>Estados=%{x}<br>value=%{y}<extra></extra>\",\"legendgroup\":\"1_trimestre_2020\",\"marker\":{\"color\":\"#19d3f3\",\"pattern\":{\"shape\":\"\"}},\"name\":\"1_trimestre_2020\",\"offsetgroup\":\"1_trimestre_2020\",\"orientation\":\"v\",\"showlegend\":true,\"textposition\":\"auto\",\"texttemplate\":\"%{y:.2s}\",\"x\":[\"SC\",\"RO\",\"PI\",\"AM\",\"RR\",\"GO\",\"TO\",\"MT\",\"SP\",\"PB\",\"ES\",\"RS\",\"MS\",\"AL\",\"MG\",\"PA\",\"BA\",\"SE\",\"PE\",\"CE\",\"RN\",\"RJ\",\"MA\",\"AC\",\"DF\",\"PR\",\"AP\"],\"xaxis\":\"x\",\"y\":[223,76,202,279,42,434,84,158,3151,232,243,529,111,204,1320,417,1333,171,611,513,244,1313,431,47,228,487,67],\"yaxis\":\"y\",\"type\":\"bar\"},{\"alignmentgroup\":\"True\",\"hovertemplate\":\"variable=2_trimestre_2022<br>Estados=%{x}<br>value=%{y}<extra></extra>\",\"legendgroup\":\"2_trimestre_2022\",\"marker\":{\"color\":\"#FF6692\",\"pattern\":{\"shape\":\"\"}},\"name\":\"2_trimestre_2022\",\"offsetgroup\":\"2_trimestre_2022\",\"orientation\":\"v\",\"showlegend\":true,\"textposition\":\"auto\",\"texttemplate\":\"%{y:.2s}\",\"x\":[\"SC\",\"RO\",\"PI\",\"AM\",\"RR\",\"GO\",\"TO\",\"MT\",\"SP\",\"PB\",\"ES\",\"RS\",\"MS\",\"AL\",\"MG\",\"PA\",\"BA\",\"SE\",\"PE\",\"CE\",\"RN\",\"RJ\",\"MA\",\"AC\",\"DF\",\"PR\",\"AP\"],\"xaxis\":\"x\",\"y\":[160,52,135,203,16,270,43,82,2404,203,174,387,75,149,828,377,1104,140,578,412,188,1130,299,45,205,374,48],\"yaxis\":\"y\",\"type\":\"bar\"}],                        {\"template\":{\"data\":{\"bar\":[{\"error_x\":{\"color\":\"#2a3f5f\"},\"error_y\":{\"color\":\"#2a3f5f\"},\"marker\":{\"line\":{\"color\":\"#E5ECF6\",\"width\":0.5},\"pattern\":{\"fillmode\":\"overlay\",\"size\":10,\"solidity\":0.2}},\"type\":\"bar\"}],\"barpolar\":[{\"marker\":{\"line\":{\"color\":\"#E5ECF6\",\"width\":0.5},\"pattern\":{\"fillmode\":\"overlay\",\"size\":10,\"solidity\":0.2}},\"type\":\"barpolar\"}],\"carpet\":[{\"aaxis\":{\"endlinecolor\":\"#2a3f5f\",\"gridcolor\":\"white\",\"linecolor\":\"white\",\"minorgridcolor\":\"white\",\"startlinecolor\":\"#2a3f5f\"},\"baxis\":{\"endlinecolor\":\"#2a3f5f\",\"gridcolor\":\"white\",\"linecolor\":\"white\",\"minorgridcolor\":\"white\",\"startlinecolor\":\"#2a3f5f\"},\"type\":\"carpet\"}],\"choropleth\":[{\"colorbar\":{\"outlinewidth\":0,\"ticks\":\"\"},\"type\":\"choropleth\"}],\"contour\":[{\"colorbar\":{\"outlinewidth\":0,\"ticks\":\"\"},\"colorscale\":[[0.0,\"#0d0887\"],[0.1111111111111111,\"#46039f\"],[0.2222222222222222,\"#7201a8\"],[0.3333333333333333,\"#9c179e\"],[0.4444444444444444,\"#bd3786\"],[0.5555555555555556,\"#d8576b\"],[0.6666666666666666,\"#ed7953\"],[0.7777777777777778,\"#fb9f3a\"],[0.8888888888888888,\"#fdca26\"],[1.0,\"#f0f921\"]],\"type\":\"contour\"}],\"contourcarpet\":[{\"colorbar\":{\"outlinewidth\":0,\"ticks\":\"\"},\"type\":\"contourcarpet\"}],\"heatmap\":[{\"colorbar\":{\"outlinewidth\":0,\"ticks\":\"\"},\"colorscale\":[[0.0,\"#0d0887\"],[0.1111111111111111,\"#46039f\"],[0.2222222222222222,\"#7201a8\"],[0.3333333333333333,\"#9c179e\"],[0.4444444444444444,\"#bd3786\"],[0.5555555555555556,\"#d8576b\"],[0.6666666666666666,\"#ed7953\"],[0.7777777777777778,\"#fb9f3a\"],[0.8888888888888888,\"#fdca26\"],[1.0,\"#f0f921\"]],\"type\":\"heatmap\"}],\"heatmapgl\":[{\"colorbar\":{\"outlinewidth\":0,\"ticks\":\"\"},\"colorscale\":[[0.0,\"#0d0887\"],[0.1111111111111111,\"#46039f\"],[0.2222222222222222,\"#7201a8\"],[0.3333333333333333,\"#9c179e\"],[0.4444444444444444,\"#bd3786\"],[0.5555555555555556,\"#d8576b\"],[0.6666666666666666,\"#ed7953\"],[0.7777777777777778,\"#fb9f3a\"],[0.8888888888888888,\"#fdca26\"],[1.0,\"#f0f921\"]],\"type\":\"heatmapgl\"}],\"histogram\":[{\"marker\":{\"pattern\":{\"fillmode\":\"overlay\",\"size\":10,\"solidity\":0.2}},\"type\":\"histogram\"}],\"histogram2d\":[{\"colorbar\":{\"outlinewidth\":0,\"ticks\":\"\"},\"colorscale\":[[0.0,\"#0d0887\"],[0.1111111111111111,\"#46039f\"],[0.2222222222222222,\"#7201a8\"],[0.3333333333333333,\"#9c179e\"],[0.4444444444444444,\"#bd3786\"],[0.5555555555555556,\"#d8576b\"],[0.6666666666666666,\"#ed7953\"],[0.7777777777777778,\"#fb9f3a\"],[0.8888888888888888,\"#fdca26\"],[1.0,\"#f0f921\"]],\"type\":\"histogram2d\"}],\"histogram2dcontour\":[{\"colorbar\":{\"outlinewidth\":0,\"ticks\":\"\"},\"colorscale\":[[0.0,\"#0d0887\"],[0.1111111111111111,\"#46039f\"],[0.2222222222222222,\"#7201a8\"],[0.3333333333333333,\"#9c179e\"],[0.4444444444444444,\"#bd3786\"],[0.5555555555555556,\"#d8576b\"],[0.6666666666666666,\"#ed7953\"],[0.7777777777777778,\"#fb9f3a\"],[0.8888888888888888,\"#fdca26\"],[1.0,\"#f0f921\"]],\"type\":\"histogram2dcontour\"}],\"mesh3d\":[{\"colorbar\":{\"outlinewidth\":0,\"ticks\":\"\"},\"type\":\"mesh3d\"}],\"parcoords\":[{\"line\":{\"colorbar\":{\"outlinewidth\":0,\"ticks\":\"\"}},\"type\":\"parcoords\"}],\"pie\":[{\"automargin\":true,\"type\":\"pie\"}],\"scatter\":[{\"marker\":{\"colorbar\":{\"outlinewidth\":0,\"ticks\":\"\"}},\"type\":\"scatter\"}],\"scatter3d\":[{\"line\":{\"colorbar\":{\"outlinewidth\":0,\"ticks\":\"\"}},\"marker\":{\"colorbar\":{\"outlinewidth\":0,\"ticks\":\"\"}},\"type\":\"scatter3d\"}],\"scattercarpet\":[{\"marker\":{\"colorbar\":{\"outlinewidth\":0,\"ticks\":\"\"}},\"type\":\"scattercarpet\"}],\"scattergeo\":[{\"marker\":{\"colorbar\":{\"outlinewidth\":0,\"ticks\":\"\"}},\"type\":\"scattergeo\"}],\"scattergl\":[{\"marker\":{\"colorbar\":{\"outlinewidth\":0,\"ticks\":\"\"}},\"type\":\"scattergl\"}],\"scattermapbox\":[{\"marker\":{\"colorbar\":{\"outlinewidth\":0,\"ticks\":\"\"}},\"type\":\"scattermapbox\"}],\"scatterpolar\":[{\"marker\":{\"colorbar\":{\"outlinewidth\":0,\"ticks\":\"\"}},\"type\":\"scatterpolar\"}],\"scatterpolargl\":[{\"marker\":{\"colorbar\":{\"outlinewidth\":0,\"ticks\":\"\"}},\"type\":\"scatterpolargl\"}],\"scatterternary\":[{\"marker\":{\"colorbar\":{\"outlinewidth\":0,\"ticks\":\"\"}},\"type\":\"scatterternary\"}],\"surface\":[{\"colorbar\":{\"outlinewidth\":0,\"ticks\":\"\"},\"colorscale\":[[0.0,\"#0d0887\"],[0.1111111111111111,\"#46039f\"],[0.2222222222222222,\"#7201a8\"],[0.3333333333333333,\"#9c179e\"],[0.4444444444444444,\"#bd3786\"],[0.5555555555555556,\"#d8576b\"],[0.6666666666666666,\"#ed7953\"],[0.7777777777777778,\"#fb9f3a\"],[0.8888888888888888,\"#fdca26\"],[1.0,\"#f0f921\"]],\"type\":\"surface\"}],\"table\":[{\"cells\":{\"fill\":{\"color\":\"#EBF0F8\"},\"line\":{\"color\":\"white\"}},\"header\":{\"fill\":{\"color\":\"#C8D4E3\"},\"line\":{\"color\":\"white\"}},\"type\":\"table\"}]},\"layout\":{\"annotationdefaults\":{\"arrowcolor\":\"#2a3f5f\",\"arrowhead\":0,\"arrowwidth\":1},\"autotypenumbers\":\"strict\",\"coloraxis\":{\"colorbar\":{\"outlinewidth\":0,\"ticks\":\"\"}},\"colorscale\":{\"diverging\":[[0,\"#8e0152\"],[0.1,\"#c51b7d\"],[0.2,\"#de77ae\"],[0.3,\"#f1b6da\"],[0.4,\"#fde0ef\"],[0.5,\"#f7f7f7\"],[0.6,\"#e6f5d0\"],[0.7,\"#b8e186\"],[0.8,\"#7fbc41\"],[0.9,\"#4d9221\"],[1,\"#276419\"]],\"sequential\":[[0.0,\"#0d0887\"],[0.1111111111111111,\"#46039f\"],[0.2222222222222222,\"#7201a8\"],[0.3333333333333333,\"#9c179e\"],[0.4444444444444444,\"#bd3786\"],[0.5555555555555556,\"#d8576b\"],[0.6666666666666666,\"#ed7953\"],[0.7777777777777778,\"#fb9f3a\"],[0.8888888888888888,\"#fdca26\"],[1.0,\"#f0f921\"]],\"sequentialminus\":[[0.0,\"#0d0887\"],[0.1111111111111111,\"#46039f\"],[0.2222222222222222,\"#7201a8\"],[0.3333333333333333,\"#9c179e\"],[0.4444444444444444,\"#bd3786\"],[0.5555555555555556,\"#d8576b\"],[0.6666666666666666,\"#ed7953\"],[0.7777777777777778,\"#fb9f3a\"],[0.8888888888888888,\"#fdca26\"],[1.0,\"#f0f921\"]]},\"colorway\":[\"#636efa\",\"#EF553B\",\"#00cc96\",\"#ab63fa\",\"#FFA15A\",\"#19d3f3\",\"#FF6692\",\"#B6E880\",\"#FF97FF\",\"#FECB52\"],\"font\":{\"color\":\"#2a3f5f\"},\"geo\":{\"bgcolor\":\"white\",\"lakecolor\":\"white\",\"landcolor\":\"#E5ECF6\",\"showlakes\":true,\"showland\":true,\"subunitcolor\":\"white\"},\"hoverlabel\":{\"align\":\"left\"},\"hovermode\":\"closest\",\"mapbox\":{\"style\":\"light\"},\"paper_bgcolor\":\"white\",\"plot_bgcolor\":\"#E5ECF6\",\"polar\":{\"angularaxis\":{\"gridcolor\":\"white\",\"linecolor\":\"white\",\"ticks\":\"\"},\"bgcolor\":\"#E5ECF6\",\"radialaxis\":{\"gridcolor\":\"white\",\"linecolor\":\"white\",\"ticks\":\"\"}},\"scene\":{\"xaxis\":{\"backgroundcolor\":\"#E5ECF6\",\"gridcolor\":\"white\",\"gridwidth\":2,\"linecolor\":\"white\",\"showbackground\":true,\"ticks\":\"\",\"zerolinecolor\":\"white\"},\"yaxis\":{\"backgroundcolor\":\"#E5ECF6\",\"gridcolor\":\"white\",\"gridwidth\":2,\"linecolor\":\"white\",\"showbackground\":true,\"ticks\":\"\",\"zerolinecolor\":\"white\"},\"zaxis\":{\"backgroundcolor\":\"#E5ECF6\",\"gridcolor\":\"white\",\"gridwidth\":2,\"linecolor\":\"white\",\"showbackground\":true,\"ticks\":\"\",\"zerolinecolor\":\"white\"}},\"shapedefaults\":{\"line\":{\"color\":\"#2a3f5f\"}},\"ternary\":{\"aaxis\":{\"gridcolor\":\"white\",\"linecolor\":\"white\",\"ticks\":\"\"},\"baxis\":{\"gridcolor\":\"white\",\"linecolor\":\"white\",\"ticks\":\"\"},\"bgcolor\":\"#E5ECF6\",\"caxis\":{\"gridcolor\":\"white\",\"linecolor\":\"white\",\"ticks\":\"\"}},\"title\":{\"x\":0.05},\"xaxis\":{\"automargin\":true,\"gridcolor\":\"white\",\"linecolor\":\"white\",\"ticks\":\"\",\"title\":{\"standoff\":15},\"zerolinecolor\":\"white\",\"zerolinewidth\":2},\"yaxis\":{\"automargin\":true,\"gridcolor\":\"white\",\"linecolor\":\"white\",\"ticks\":\"\",\"title\":{\"standoff\":15},\"zerolinecolor\":\"white\",\"zerolinewidth\":2}}},\"xaxis\":{\"anchor\":\"y\",\"domain\":[0.0,1.0],\"title\":{\"text\":\"Estados\"}},\"yaxis\":{\"anchor\":\"x\",\"domain\":[0.0,1.0],\"title\":{\"text\":\"value\"}},\"legend\":{\"title\":{\"text\":\"variable\"},\"tracegroupgap\":0},\"title\":{\"text\":\"Obitos por Covid e Desemprego\"},\"barmode\":\"group\"},                        {\"responsive\": true}                    ).then(function(){\n",
              "                            \n",
              "var gd = document.getElementById('d5ac7f4f-c6ba-4b5d-95a3-83dbcadff809');\n",
              "var x = new MutationObserver(function (mutations, observer) {{\n",
              "        var display = window.getComputedStyle(gd).display;\n",
              "        if (!display || display === 'none') {{\n",
              "            console.log([gd, 'removed!']);\n",
              "            Plotly.purge(gd);\n",
              "            observer.disconnect();\n",
              "        }}\n",
              "}});\n",
              "\n",
              "// Listen for the removal of the full notebook cells\n",
              "var notebookContainer = gd.closest('#notebook-container');\n",
              "if (notebookContainer) {{\n",
              "    x.observe(notebookContainer, {childList: true});\n",
              "}}\n",
              "\n",
              "// Listen for the clearing of the current output cell\n",
              "var outputEl = gd.closest('.output');\n",
              "if (outputEl) {{\n",
              "    x.observe(outputEl, {childList: true});\n",
              "}}\n",
              "\n",
              "                        })                };                            </script>        </div>\n",
              "</body>\n",
              "</html>"
            ]
          },
          "metadata": {}
        },
        {
          "output_type": "display_data",
          "data": {
            "text/html": [
              "<html>\n",
              "<head><meta charset=\"utf-8\" /></head>\n",
              "<body>\n",
              "    <div>            <script src=\"https://cdnjs.cloudflare.com/ajax/libs/mathjax/2.7.5/MathJax.js?config=TeX-AMS-MML_SVG\"></script><script type=\"text/javascript\">if (window.MathJax) {MathJax.Hub.Config({SVG: {font: \"STIX-Web\"}});}</script>                <script type=\"text/javascript\">window.PlotlyConfig = {MathJaxConfig: 'local'};</script>\n",
              "        <script src=\"https://cdn.plot.ly/plotly-2.8.3.min.js\"></script>                <div id=\"eebbfc42-e06d-4448-aa45-aadef89dfc02\" class=\"plotly-graph-div\" style=\"height:525px; width:100%;\"></div>            <script type=\"text/javascript\">                                    window.PLOTLYENV=window.PLOTLYENV || {};                                    if (document.getElementById(\"eebbfc42-e06d-4448-aa45-aadef89dfc02\")) {                    Plotly.newPlot(                        \"eebbfc42-e06d-4448-aa45-aadef89dfc02\",                        [{\"alignmentgroup\":\"True\",\"hovertemplate\":\"Estados=%{x}<br>total_obitos_estados=%{marker.color}<extra></extra>\",\"legendgroup\":\"\",\"marker\":{\"color\":[23572,8240,9298,17670,2705,29293,4589,16786,199414,12276,17698,43164,11231,8721,67235,24656,34719,7891,29092,35688,10281,89638,14021,2563,13304,47710,2730],\"coloraxis\":\"coloraxis\",\"pattern\":{\"shape\":\"\"}},\"name\":\"\",\"offsetgroup\":\"\",\"orientation\":\"v\",\"showlegend\":false,\"textposition\":\"auto\",\"x\":[\"SC\",\"RO\",\"PI\",\"AM\",\"RR\",\"GO\",\"TO\",\"MT\",\"SP\",\"PB\",\"ES\",\"RS\",\"MS\",\"AL\",\"MG\",\"PA\",\"BA\",\"SE\",\"PE\",\"CE\",\"RN\",\"RJ\",\"MA\",\"AC\",\"DF\",\"PR\",\"AP\"],\"xaxis\":\"x\",\"y\":[23572,8240,9298,17670,2705,29293,4589,16786,199414,12276,17698,43164,11231,8721,67235,24656,34719,7891,29092,35688,10281,89638,14021,2563,13304,47710,2730],\"yaxis\":\"y\",\"type\":\"bar\"}],                        {\"template\":{\"data\":{\"bar\":[{\"error_x\":{\"color\":\"#2a3f5f\"},\"error_y\":{\"color\":\"#2a3f5f\"},\"marker\":{\"line\":{\"color\":\"#E5ECF6\",\"width\":0.5},\"pattern\":{\"fillmode\":\"overlay\",\"size\":10,\"solidity\":0.2}},\"type\":\"bar\"}],\"barpolar\":[{\"marker\":{\"line\":{\"color\":\"#E5ECF6\",\"width\":0.5},\"pattern\":{\"fillmode\":\"overlay\",\"size\":10,\"solidity\":0.2}},\"type\":\"barpolar\"}],\"carpet\":[{\"aaxis\":{\"endlinecolor\":\"#2a3f5f\",\"gridcolor\":\"white\",\"linecolor\":\"white\",\"minorgridcolor\":\"white\",\"startlinecolor\":\"#2a3f5f\"},\"baxis\":{\"endlinecolor\":\"#2a3f5f\",\"gridcolor\":\"white\",\"linecolor\":\"white\",\"minorgridcolor\":\"white\",\"startlinecolor\":\"#2a3f5f\"},\"type\":\"carpet\"}],\"choropleth\":[{\"colorbar\":{\"outlinewidth\":0,\"ticks\":\"\"},\"type\":\"choropleth\"}],\"contour\":[{\"colorbar\":{\"outlinewidth\":0,\"ticks\":\"\"},\"colorscale\":[[0.0,\"#0d0887\"],[0.1111111111111111,\"#46039f\"],[0.2222222222222222,\"#7201a8\"],[0.3333333333333333,\"#9c179e\"],[0.4444444444444444,\"#bd3786\"],[0.5555555555555556,\"#d8576b\"],[0.6666666666666666,\"#ed7953\"],[0.7777777777777778,\"#fb9f3a\"],[0.8888888888888888,\"#fdca26\"],[1.0,\"#f0f921\"]],\"type\":\"contour\"}],\"contourcarpet\":[{\"colorbar\":{\"outlinewidth\":0,\"ticks\":\"\"},\"type\":\"contourcarpet\"}],\"heatmap\":[{\"colorbar\":{\"outlinewidth\":0,\"ticks\":\"\"},\"colorscale\":[[0.0,\"#0d0887\"],[0.1111111111111111,\"#46039f\"],[0.2222222222222222,\"#7201a8\"],[0.3333333333333333,\"#9c179e\"],[0.4444444444444444,\"#bd3786\"],[0.5555555555555556,\"#d8576b\"],[0.6666666666666666,\"#ed7953\"],[0.7777777777777778,\"#fb9f3a\"],[0.8888888888888888,\"#fdca26\"],[1.0,\"#f0f921\"]],\"type\":\"heatmap\"}],\"heatmapgl\":[{\"colorbar\":{\"outlinewidth\":0,\"ticks\":\"\"},\"colorscale\":[[0.0,\"#0d0887\"],[0.1111111111111111,\"#46039f\"],[0.2222222222222222,\"#7201a8\"],[0.3333333333333333,\"#9c179e\"],[0.4444444444444444,\"#bd3786\"],[0.5555555555555556,\"#d8576b\"],[0.6666666666666666,\"#ed7953\"],[0.7777777777777778,\"#fb9f3a\"],[0.8888888888888888,\"#fdca26\"],[1.0,\"#f0f921\"]],\"type\":\"heatmapgl\"}],\"histogram\":[{\"marker\":{\"pattern\":{\"fillmode\":\"overlay\",\"size\":10,\"solidity\":0.2}},\"type\":\"histogram\"}],\"histogram2d\":[{\"colorbar\":{\"outlinewidth\":0,\"ticks\":\"\"},\"colorscale\":[[0.0,\"#0d0887\"],[0.1111111111111111,\"#46039f\"],[0.2222222222222222,\"#7201a8\"],[0.3333333333333333,\"#9c179e\"],[0.4444444444444444,\"#bd3786\"],[0.5555555555555556,\"#d8576b\"],[0.6666666666666666,\"#ed7953\"],[0.7777777777777778,\"#fb9f3a\"],[0.8888888888888888,\"#fdca26\"],[1.0,\"#f0f921\"]],\"type\":\"histogram2d\"}],\"histogram2dcontour\":[{\"colorbar\":{\"outlinewidth\":0,\"ticks\":\"\"},\"colorscale\":[[0.0,\"#0d0887\"],[0.1111111111111111,\"#46039f\"],[0.2222222222222222,\"#7201a8\"],[0.3333333333333333,\"#9c179e\"],[0.4444444444444444,\"#bd3786\"],[0.5555555555555556,\"#d8576b\"],[0.6666666666666666,\"#ed7953\"],[0.7777777777777778,\"#fb9f3a\"],[0.8888888888888888,\"#fdca26\"],[1.0,\"#f0f921\"]],\"type\":\"histogram2dcontour\"}],\"mesh3d\":[{\"colorbar\":{\"outlinewidth\":0,\"ticks\":\"\"},\"type\":\"mesh3d\"}],\"parcoords\":[{\"line\":{\"colorbar\":{\"outlinewidth\":0,\"ticks\":\"\"}},\"type\":\"parcoords\"}],\"pie\":[{\"automargin\":true,\"type\":\"pie\"}],\"scatter\":[{\"marker\":{\"colorbar\":{\"outlinewidth\":0,\"ticks\":\"\"}},\"type\":\"scatter\"}],\"scatter3d\":[{\"line\":{\"colorbar\":{\"outlinewidth\":0,\"ticks\":\"\"}},\"marker\":{\"colorbar\":{\"outlinewidth\":0,\"ticks\":\"\"}},\"type\":\"scatter3d\"}],\"scattercarpet\":[{\"marker\":{\"colorbar\":{\"outlinewidth\":0,\"ticks\":\"\"}},\"type\":\"scattercarpet\"}],\"scattergeo\":[{\"marker\":{\"colorbar\":{\"outlinewidth\":0,\"ticks\":\"\"}},\"type\":\"scattergeo\"}],\"scattergl\":[{\"marker\":{\"colorbar\":{\"outlinewidth\":0,\"ticks\":\"\"}},\"type\":\"scattergl\"}],\"scattermapbox\":[{\"marker\":{\"colorbar\":{\"outlinewidth\":0,\"ticks\":\"\"}},\"type\":\"scattermapbox\"}],\"scatterpolar\":[{\"marker\":{\"colorbar\":{\"outlinewidth\":0,\"ticks\":\"\"}},\"type\":\"scatterpolar\"}],\"scatterpolargl\":[{\"marker\":{\"colorbar\":{\"outlinewidth\":0,\"ticks\":\"\"}},\"type\":\"scatterpolargl\"}],\"scatterternary\":[{\"marker\":{\"colorbar\":{\"outlinewidth\":0,\"ticks\":\"\"}},\"type\":\"scatterternary\"}],\"surface\":[{\"colorbar\":{\"outlinewidth\":0,\"ticks\":\"\"},\"colorscale\":[[0.0,\"#0d0887\"],[0.1111111111111111,\"#46039f\"],[0.2222222222222222,\"#7201a8\"],[0.3333333333333333,\"#9c179e\"],[0.4444444444444444,\"#bd3786\"],[0.5555555555555556,\"#d8576b\"],[0.6666666666666666,\"#ed7953\"],[0.7777777777777778,\"#fb9f3a\"],[0.8888888888888888,\"#fdca26\"],[1.0,\"#f0f921\"]],\"type\":\"surface\"}],\"table\":[{\"cells\":{\"fill\":{\"color\":\"#EBF0F8\"},\"line\":{\"color\":\"white\"}},\"header\":{\"fill\":{\"color\":\"#C8D4E3\"},\"line\":{\"color\":\"white\"}},\"type\":\"table\"}]},\"layout\":{\"annotationdefaults\":{\"arrowcolor\":\"#2a3f5f\",\"arrowhead\":0,\"arrowwidth\":1},\"autotypenumbers\":\"strict\",\"coloraxis\":{\"colorbar\":{\"outlinewidth\":0,\"ticks\":\"\"}},\"colorscale\":{\"diverging\":[[0,\"#8e0152\"],[0.1,\"#c51b7d\"],[0.2,\"#de77ae\"],[0.3,\"#f1b6da\"],[0.4,\"#fde0ef\"],[0.5,\"#f7f7f7\"],[0.6,\"#e6f5d0\"],[0.7,\"#b8e186\"],[0.8,\"#7fbc41\"],[0.9,\"#4d9221\"],[1,\"#276419\"]],\"sequential\":[[0.0,\"#0d0887\"],[0.1111111111111111,\"#46039f\"],[0.2222222222222222,\"#7201a8\"],[0.3333333333333333,\"#9c179e\"],[0.4444444444444444,\"#bd3786\"],[0.5555555555555556,\"#d8576b\"],[0.6666666666666666,\"#ed7953\"],[0.7777777777777778,\"#fb9f3a\"],[0.8888888888888888,\"#fdca26\"],[1.0,\"#f0f921\"]],\"sequentialminus\":[[0.0,\"#0d0887\"],[0.1111111111111111,\"#46039f\"],[0.2222222222222222,\"#7201a8\"],[0.3333333333333333,\"#9c179e\"],[0.4444444444444444,\"#bd3786\"],[0.5555555555555556,\"#d8576b\"],[0.6666666666666666,\"#ed7953\"],[0.7777777777777778,\"#fb9f3a\"],[0.8888888888888888,\"#fdca26\"],[1.0,\"#f0f921\"]]},\"colorway\":[\"#636efa\",\"#EF553B\",\"#00cc96\",\"#ab63fa\",\"#FFA15A\",\"#19d3f3\",\"#FF6692\",\"#B6E880\",\"#FF97FF\",\"#FECB52\"],\"font\":{\"color\":\"#2a3f5f\"},\"geo\":{\"bgcolor\":\"white\",\"lakecolor\":\"white\",\"landcolor\":\"#E5ECF6\",\"showlakes\":true,\"showland\":true,\"subunitcolor\":\"white\"},\"hoverlabel\":{\"align\":\"left\"},\"hovermode\":\"closest\",\"mapbox\":{\"style\":\"light\"},\"paper_bgcolor\":\"white\",\"plot_bgcolor\":\"#E5ECF6\",\"polar\":{\"angularaxis\":{\"gridcolor\":\"white\",\"linecolor\":\"white\",\"ticks\":\"\"},\"bgcolor\":\"#E5ECF6\",\"radialaxis\":{\"gridcolor\":\"white\",\"linecolor\":\"white\",\"ticks\":\"\"}},\"scene\":{\"xaxis\":{\"backgroundcolor\":\"#E5ECF6\",\"gridcolor\":\"white\",\"gridwidth\":2,\"linecolor\":\"white\",\"showbackground\":true,\"ticks\":\"\",\"zerolinecolor\":\"white\"},\"yaxis\":{\"backgroundcolor\":\"#E5ECF6\",\"gridcolor\":\"white\",\"gridwidth\":2,\"linecolor\":\"white\",\"showbackground\":true,\"ticks\":\"\",\"zerolinecolor\":\"white\"},\"zaxis\":{\"backgroundcolor\":\"#E5ECF6\",\"gridcolor\":\"white\",\"gridwidth\":2,\"linecolor\":\"white\",\"showbackground\":true,\"ticks\":\"\",\"zerolinecolor\":\"white\"}},\"shapedefaults\":{\"line\":{\"color\":\"#2a3f5f\"}},\"ternary\":{\"aaxis\":{\"gridcolor\":\"white\",\"linecolor\":\"white\",\"ticks\":\"\"},\"baxis\":{\"gridcolor\":\"white\",\"linecolor\":\"white\",\"ticks\":\"\"},\"bgcolor\":\"#E5ECF6\",\"caxis\":{\"gridcolor\":\"white\",\"linecolor\":\"white\",\"ticks\":\"\"}},\"title\":{\"x\":0.05},\"xaxis\":{\"automargin\":true,\"gridcolor\":\"white\",\"linecolor\":\"white\",\"ticks\":\"\",\"title\":{\"standoff\":15},\"zerolinecolor\":\"white\",\"zerolinewidth\":2},\"yaxis\":{\"automargin\":true,\"gridcolor\":\"white\",\"linecolor\":\"white\",\"ticks\":\"\",\"title\":{\"standoff\":15},\"zerolinecolor\":\"white\",\"zerolinewidth\":2}}},\"xaxis\":{\"anchor\":\"y\",\"domain\":[0.0,1.0],\"title\":{\"text\":\"Estados\"}},\"yaxis\":{\"anchor\":\"x\",\"domain\":[0.0,1.0],\"title\":{\"text\":\"total_obitos_estados\"}},\"coloraxis\":{\"colorbar\":{\"title\":{\"text\":\"total_obitos_estados\"}},\"colorscale\":[[0.0,\"#0d0887\"],[0.1111111111111111,\"#46039f\"],[0.2222222222222222,\"#7201a8\"],[0.3333333333333333,\"#9c179e\"],[0.4444444444444444,\"#bd3786\"],[0.5555555555555556,\"#d8576b\"],[0.6666666666666666,\"#ed7953\"],[0.7777777777777778,\"#fb9f3a\"],[0.8888888888888888,\"#fdca26\"],[1.0,\"#f0f921\"]]},\"legend\":{\"tracegroupgap\":0},\"title\":{\"text\":\"Obitos por Covid\"},\"barmode\":\"group\"},                        {\"responsive\": true}                    ).then(function(){\n",
              "                            \n",
              "var gd = document.getElementById('eebbfc42-e06d-4448-aa45-aadef89dfc02');\n",
              "var x = new MutationObserver(function (mutations, observer) {{\n",
              "        var display = window.getComputedStyle(gd).display;\n",
              "        if (!display || display === 'none') {{\n",
              "            console.log([gd, 'removed!']);\n",
              "            Plotly.purge(gd);\n",
              "            observer.disconnect();\n",
              "        }}\n",
              "}});\n",
              "\n",
              "// Listen for the removal of the full notebook cells\n",
              "var notebookContainer = gd.closest('#notebook-container');\n",
              "if (notebookContainer) {{\n",
              "    x.observe(notebookContainer, {childList: true});\n",
              "}}\n",
              "\n",
              "// Listen for the clearing of the current output cell\n",
              "var outputEl = gd.closest('.output');\n",
              "if (outputEl) {{\n",
              "    x.observe(outputEl, {childList: true});\n",
              "}}\n",
              "\n",
              "                        })                };                            </script>        </div>\n",
              "</body>\n",
              "</html>"
            ]
          },
          "metadata": {}
        },
        {
          "output_type": "display_data",
          "data": {
            "text/html": [
              "<html>\n",
              "<head><meta charset=\"utf-8\" /></head>\n",
              "<body>\n",
              "    <div>            <script src=\"https://cdnjs.cloudflare.com/ajax/libs/mathjax/2.7.5/MathJax.js?config=TeX-AMS-MML_SVG\"></script><script type=\"text/javascript\">if (window.MathJax) {MathJax.Hub.Config({SVG: {font: \"STIX-Web\"}});}</script>                <script type=\"text/javascript\">window.PlotlyConfig = {MathJaxConfig: 'local'};</script>\n",
              "        <script src=\"https://cdn.plot.ly/plotly-2.8.3.min.js\"></script>                <div id=\"ab8bb9ad-3f3f-4e38-bb2b-d43f7fbe1b7e\" class=\"plotly-graph-div\" style=\"height:525px; width:100%;\"></div>            <script type=\"text/javascript\">                                    window.PLOTLYENV=window.PLOTLYENV || {};                                    if (document.getElementById(\"ab8bb9ad-3f3f-4e38-bb2b-d43f7fbe1b7e\")) {                    Plotly.newPlot(                        \"ab8bb9ad-3f3f-4e38-bb2b-d43f7fbe1b7e\",                        [{\"alignmentgroup\":\"True\",\"hovertemplate\":\"Estados=%{x}<br>1_trimestre_2020=%{marker.color}<extra></extra>\",\"legendgroup\":\"\",\"marker\":{\"color\":[223,76,202,279,42,434,84,158,3151,232,243,529,111,204,1320,417,1333,171,611,513,244,1313,431,47,228,487,67],\"coloraxis\":\"coloraxis\",\"pattern\":{\"shape\":\"\"}},\"name\":\"\",\"offsetgroup\":\"\",\"orientation\":\"v\",\"showlegend\":false,\"textposition\":\"auto\",\"x\":[\"SC\",\"RO\",\"PI\",\"AM\",\"RR\",\"GO\",\"TO\",\"MT\",\"SP\",\"PB\",\"ES\",\"RS\",\"MS\",\"AL\",\"MG\",\"PA\",\"BA\",\"SE\",\"PE\",\"CE\",\"RN\",\"RJ\",\"MA\",\"AC\",\"DF\",\"PR\",\"AP\"],\"xaxis\":\"x\",\"y\":[223,76,202,279,42,434,84,158,3151,232,243,529,111,204,1320,417,1333,171,611,513,244,1313,431,47,228,487,67],\"yaxis\":\"y\",\"type\":\"bar\"}],                        {\"template\":{\"data\":{\"bar\":[{\"error_x\":{\"color\":\"#2a3f5f\"},\"error_y\":{\"color\":\"#2a3f5f\"},\"marker\":{\"line\":{\"color\":\"#E5ECF6\",\"width\":0.5},\"pattern\":{\"fillmode\":\"overlay\",\"size\":10,\"solidity\":0.2}},\"type\":\"bar\"}],\"barpolar\":[{\"marker\":{\"line\":{\"color\":\"#E5ECF6\",\"width\":0.5},\"pattern\":{\"fillmode\":\"overlay\",\"size\":10,\"solidity\":0.2}},\"type\":\"barpolar\"}],\"carpet\":[{\"aaxis\":{\"endlinecolor\":\"#2a3f5f\",\"gridcolor\":\"white\",\"linecolor\":\"white\",\"minorgridcolor\":\"white\",\"startlinecolor\":\"#2a3f5f\"},\"baxis\":{\"endlinecolor\":\"#2a3f5f\",\"gridcolor\":\"white\",\"linecolor\":\"white\",\"minorgridcolor\":\"white\",\"startlinecolor\":\"#2a3f5f\"},\"type\":\"carpet\"}],\"choropleth\":[{\"colorbar\":{\"outlinewidth\":0,\"ticks\":\"\"},\"type\":\"choropleth\"}],\"contour\":[{\"colorbar\":{\"outlinewidth\":0,\"ticks\":\"\"},\"colorscale\":[[0.0,\"#0d0887\"],[0.1111111111111111,\"#46039f\"],[0.2222222222222222,\"#7201a8\"],[0.3333333333333333,\"#9c179e\"],[0.4444444444444444,\"#bd3786\"],[0.5555555555555556,\"#d8576b\"],[0.6666666666666666,\"#ed7953\"],[0.7777777777777778,\"#fb9f3a\"],[0.8888888888888888,\"#fdca26\"],[1.0,\"#f0f921\"]],\"type\":\"contour\"}],\"contourcarpet\":[{\"colorbar\":{\"outlinewidth\":0,\"ticks\":\"\"},\"type\":\"contourcarpet\"}],\"heatmap\":[{\"colorbar\":{\"outlinewidth\":0,\"ticks\":\"\"},\"colorscale\":[[0.0,\"#0d0887\"],[0.1111111111111111,\"#46039f\"],[0.2222222222222222,\"#7201a8\"],[0.3333333333333333,\"#9c179e\"],[0.4444444444444444,\"#bd3786\"],[0.5555555555555556,\"#d8576b\"],[0.6666666666666666,\"#ed7953\"],[0.7777777777777778,\"#fb9f3a\"],[0.8888888888888888,\"#fdca26\"],[1.0,\"#f0f921\"]],\"type\":\"heatmap\"}],\"heatmapgl\":[{\"colorbar\":{\"outlinewidth\":0,\"ticks\":\"\"},\"colorscale\":[[0.0,\"#0d0887\"],[0.1111111111111111,\"#46039f\"],[0.2222222222222222,\"#7201a8\"],[0.3333333333333333,\"#9c179e\"],[0.4444444444444444,\"#bd3786\"],[0.5555555555555556,\"#d8576b\"],[0.6666666666666666,\"#ed7953\"],[0.7777777777777778,\"#fb9f3a\"],[0.8888888888888888,\"#fdca26\"],[1.0,\"#f0f921\"]],\"type\":\"heatmapgl\"}],\"histogram\":[{\"marker\":{\"pattern\":{\"fillmode\":\"overlay\",\"size\":10,\"solidity\":0.2}},\"type\":\"histogram\"}],\"histogram2d\":[{\"colorbar\":{\"outlinewidth\":0,\"ticks\":\"\"},\"colorscale\":[[0.0,\"#0d0887\"],[0.1111111111111111,\"#46039f\"],[0.2222222222222222,\"#7201a8\"],[0.3333333333333333,\"#9c179e\"],[0.4444444444444444,\"#bd3786\"],[0.5555555555555556,\"#d8576b\"],[0.6666666666666666,\"#ed7953\"],[0.7777777777777778,\"#fb9f3a\"],[0.8888888888888888,\"#fdca26\"],[1.0,\"#f0f921\"]],\"type\":\"histogram2d\"}],\"histogram2dcontour\":[{\"colorbar\":{\"outlinewidth\":0,\"ticks\":\"\"},\"colorscale\":[[0.0,\"#0d0887\"],[0.1111111111111111,\"#46039f\"],[0.2222222222222222,\"#7201a8\"],[0.3333333333333333,\"#9c179e\"],[0.4444444444444444,\"#bd3786\"],[0.5555555555555556,\"#d8576b\"],[0.6666666666666666,\"#ed7953\"],[0.7777777777777778,\"#fb9f3a\"],[0.8888888888888888,\"#fdca26\"],[1.0,\"#f0f921\"]],\"type\":\"histogram2dcontour\"}],\"mesh3d\":[{\"colorbar\":{\"outlinewidth\":0,\"ticks\":\"\"},\"type\":\"mesh3d\"}],\"parcoords\":[{\"line\":{\"colorbar\":{\"outlinewidth\":0,\"ticks\":\"\"}},\"type\":\"parcoords\"}],\"pie\":[{\"automargin\":true,\"type\":\"pie\"}],\"scatter\":[{\"marker\":{\"colorbar\":{\"outlinewidth\":0,\"ticks\":\"\"}},\"type\":\"scatter\"}],\"scatter3d\":[{\"line\":{\"colorbar\":{\"outlinewidth\":0,\"ticks\":\"\"}},\"marker\":{\"colorbar\":{\"outlinewidth\":0,\"ticks\":\"\"}},\"type\":\"scatter3d\"}],\"scattercarpet\":[{\"marker\":{\"colorbar\":{\"outlinewidth\":0,\"ticks\":\"\"}},\"type\":\"scattercarpet\"}],\"scattergeo\":[{\"marker\":{\"colorbar\":{\"outlinewidth\":0,\"ticks\":\"\"}},\"type\":\"scattergeo\"}],\"scattergl\":[{\"marker\":{\"colorbar\":{\"outlinewidth\":0,\"ticks\":\"\"}},\"type\":\"scattergl\"}],\"scattermapbox\":[{\"marker\":{\"colorbar\":{\"outlinewidth\":0,\"ticks\":\"\"}},\"type\":\"scattermapbox\"}],\"scatterpolar\":[{\"marker\":{\"colorbar\":{\"outlinewidth\":0,\"ticks\":\"\"}},\"type\":\"scatterpolar\"}],\"scatterpolargl\":[{\"marker\":{\"colorbar\":{\"outlinewidth\":0,\"ticks\":\"\"}},\"type\":\"scatterpolargl\"}],\"scatterternary\":[{\"marker\":{\"colorbar\":{\"outlinewidth\":0,\"ticks\":\"\"}},\"type\":\"scatterternary\"}],\"surface\":[{\"colorbar\":{\"outlinewidth\":0,\"ticks\":\"\"},\"colorscale\":[[0.0,\"#0d0887\"],[0.1111111111111111,\"#46039f\"],[0.2222222222222222,\"#7201a8\"],[0.3333333333333333,\"#9c179e\"],[0.4444444444444444,\"#bd3786\"],[0.5555555555555556,\"#d8576b\"],[0.6666666666666666,\"#ed7953\"],[0.7777777777777778,\"#fb9f3a\"],[0.8888888888888888,\"#fdca26\"],[1.0,\"#f0f921\"]],\"type\":\"surface\"}],\"table\":[{\"cells\":{\"fill\":{\"color\":\"#EBF0F8\"},\"line\":{\"color\":\"white\"}},\"header\":{\"fill\":{\"color\":\"#C8D4E3\"},\"line\":{\"color\":\"white\"}},\"type\":\"table\"}]},\"layout\":{\"annotationdefaults\":{\"arrowcolor\":\"#2a3f5f\",\"arrowhead\":0,\"arrowwidth\":1},\"autotypenumbers\":\"strict\",\"coloraxis\":{\"colorbar\":{\"outlinewidth\":0,\"ticks\":\"\"}},\"colorscale\":{\"diverging\":[[0,\"#8e0152\"],[0.1,\"#c51b7d\"],[0.2,\"#de77ae\"],[0.3,\"#f1b6da\"],[0.4,\"#fde0ef\"],[0.5,\"#f7f7f7\"],[0.6,\"#e6f5d0\"],[0.7,\"#b8e186\"],[0.8,\"#7fbc41\"],[0.9,\"#4d9221\"],[1,\"#276419\"]],\"sequential\":[[0.0,\"#0d0887\"],[0.1111111111111111,\"#46039f\"],[0.2222222222222222,\"#7201a8\"],[0.3333333333333333,\"#9c179e\"],[0.4444444444444444,\"#bd3786\"],[0.5555555555555556,\"#d8576b\"],[0.6666666666666666,\"#ed7953\"],[0.7777777777777778,\"#fb9f3a\"],[0.8888888888888888,\"#fdca26\"],[1.0,\"#f0f921\"]],\"sequentialminus\":[[0.0,\"#0d0887\"],[0.1111111111111111,\"#46039f\"],[0.2222222222222222,\"#7201a8\"],[0.3333333333333333,\"#9c179e\"],[0.4444444444444444,\"#bd3786\"],[0.5555555555555556,\"#d8576b\"],[0.6666666666666666,\"#ed7953\"],[0.7777777777777778,\"#fb9f3a\"],[0.8888888888888888,\"#fdca26\"],[1.0,\"#f0f921\"]]},\"colorway\":[\"#636efa\",\"#EF553B\",\"#00cc96\",\"#ab63fa\",\"#FFA15A\",\"#19d3f3\",\"#FF6692\",\"#B6E880\",\"#FF97FF\",\"#FECB52\"],\"font\":{\"color\":\"#2a3f5f\"},\"geo\":{\"bgcolor\":\"white\",\"lakecolor\":\"white\",\"landcolor\":\"#E5ECF6\",\"showlakes\":true,\"showland\":true,\"subunitcolor\":\"white\"},\"hoverlabel\":{\"align\":\"left\"},\"hovermode\":\"closest\",\"mapbox\":{\"style\":\"light\"},\"paper_bgcolor\":\"white\",\"plot_bgcolor\":\"#E5ECF6\",\"polar\":{\"angularaxis\":{\"gridcolor\":\"white\",\"linecolor\":\"white\",\"ticks\":\"\"},\"bgcolor\":\"#E5ECF6\",\"radialaxis\":{\"gridcolor\":\"white\",\"linecolor\":\"white\",\"ticks\":\"\"}},\"scene\":{\"xaxis\":{\"backgroundcolor\":\"#E5ECF6\",\"gridcolor\":\"white\",\"gridwidth\":2,\"linecolor\":\"white\",\"showbackground\":true,\"ticks\":\"\",\"zerolinecolor\":\"white\"},\"yaxis\":{\"backgroundcolor\":\"#E5ECF6\",\"gridcolor\":\"white\",\"gridwidth\":2,\"linecolor\":\"white\",\"showbackground\":true,\"ticks\":\"\",\"zerolinecolor\":\"white\"},\"zaxis\":{\"backgroundcolor\":\"#E5ECF6\",\"gridcolor\":\"white\",\"gridwidth\":2,\"linecolor\":\"white\",\"showbackground\":true,\"ticks\":\"\",\"zerolinecolor\":\"white\"}},\"shapedefaults\":{\"line\":{\"color\":\"#2a3f5f\"}},\"ternary\":{\"aaxis\":{\"gridcolor\":\"white\",\"linecolor\":\"white\",\"ticks\":\"\"},\"baxis\":{\"gridcolor\":\"white\",\"linecolor\":\"white\",\"ticks\":\"\"},\"bgcolor\":\"#E5ECF6\",\"caxis\":{\"gridcolor\":\"white\",\"linecolor\":\"white\",\"ticks\":\"\"}},\"title\":{\"x\":0.05},\"xaxis\":{\"automargin\":true,\"gridcolor\":\"white\",\"linecolor\":\"white\",\"ticks\":\"\",\"title\":{\"standoff\":15},\"zerolinecolor\":\"white\",\"zerolinewidth\":2},\"yaxis\":{\"automargin\":true,\"gridcolor\":\"white\",\"linecolor\":\"white\",\"ticks\":\"\",\"title\":{\"standoff\":15},\"zerolinecolor\":\"white\",\"zerolinewidth\":2}}},\"xaxis\":{\"anchor\":\"y\",\"domain\":[0.0,1.0],\"title\":{\"text\":\"Estados\"}},\"yaxis\":{\"anchor\":\"x\",\"domain\":[0.0,1.0],\"title\":{\"text\":\"1_trimestre_2020\"}},\"coloraxis\":{\"colorbar\":{\"title\":{\"text\":\"1_trimestre_2020\"}},\"colorscale\":[[0.0,\"#0d0887\"],[0.1111111111111111,\"#46039f\"],[0.2222222222222222,\"#7201a8\"],[0.3333333333333333,\"#9c179e\"],[0.4444444444444444,\"#bd3786\"],[0.5555555555555556,\"#d8576b\"],[0.6666666666666666,\"#ed7953\"],[0.7777777777777778,\"#fb9f3a\"],[0.8888888888888888,\"#fdca26\"],[1.0,\"#f0f921\"]]},\"legend\":{\"tracegroupgap\":0},\"title\":{\"text\":\"Desemprego no primeiro trimestre de 2020\"},\"barmode\":\"group\"},                        {\"responsive\": true}                    ).then(function(){\n",
              "                            \n",
              "var gd = document.getElementById('ab8bb9ad-3f3f-4e38-bb2b-d43f7fbe1b7e');\n",
              "var x = new MutationObserver(function (mutations, observer) {{\n",
              "        var display = window.getComputedStyle(gd).display;\n",
              "        if (!display || display === 'none') {{\n",
              "            console.log([gd, 'removed!']);\n",
              "            Plotly.purge(gd);\n",
              "            observer.disconnect();\n",
              "        }}\n",
              "}});\n",
              "\n",
              "// Listen for the removal of the full notebook cells\n",
              "var notebookContainer = gd.closest('#notebook-container');\n",
              "if (notebookContainer) {{\n",
              "    x.observe(notebookContainer, {childList: true});\n",
              "}}\n",
              "\n",
              "// Listen for the clearing of the current output cell\n",
              "var outputEl = gd.closest('.output');\n",
              "if (outputEl) {{\n",
              "    x.observe(outputEl, {childList: true});\n",
              "}}\n",
              "\n",
              "                        })                };                            </script>        </div>\n",
              "</body>\n",
              "</html>"
            ]
          },
          "metadata": {}
        },
        {
          "output_type": "display_data",
          "data": {
            "text/html": [
              "<html>\n",
              "<head><meta charset=\"utf-8\" /></head>\n",
              "<body>\n",
              "    <div>            <script src=\"https://cdnjs.cloudflare.com/ajax/libs/mathjax/2.7.5/MathJax.js?config=TeX-AMS-MML_SVG\"></script><script type=\"text/javascript\">if (window.MathJax) {MathJax.Hub.Config({SVG: {font: \"STIX-Web\"}});}</script>                <script type=\"text/javascript\">window.PlotlyConfig = {MathJaxConfig: 'local'};</script>\n",
              "        <script src=\"https://cdn.plot.ly/plotly-2.8.3.min.js\"></script>                <div id=\"c07be4c3-fb0b-4485-8ccc-62002843d278\" class=\"plotly-graph-div\" style=\"height:525px; width:100%;\"></div>            <script type=\"text/javascript\">                                    window.PLOTLYENV=window.PLOTLYENV || {};                                    if (document.getElementById(\"c07be4c3-fb0b-4485-8ccc-62002843d278\")) {                    Plotly.newPlot(                        \"c07be4c3-fb0b-4485-8ccc-62002843d278\",                        [{\"alignmentgroup\":\"True\",\"hovertemplate\":\"Estados=%{x}<br>2_trimestre_2022=%{marker.color}<extra></extra>\",\"legendgroup\":\"\",\"marker\":{\"color\":[160,52,135,203,16,270,43,82,2404,203,174,387,75,149,828,377,1104,140,578,412,188,1130,299,45,205,374,48],\"coloraxis\":\"coloraxis\",\"pattern\":{\"shape\":\"\"}},\"name\":\"\",\"offsetgroup\":\"\",\"orientation\":\"v\",\"showlegend\":false,\"textposition\":\"auto\",\"x\":[\"SC\",\"RO\",\"PI\",\"AM\",\"RR\",\"GO\",\"TO\",\"MT\",\"SP\",\"PB\",\"ES\",\"RS\",\"MS\",\"AL\",\"MG\",\"PA\",\"BA\",\"SE\",\"PE\",\"CE\",\"RN\",\"RJ\",\"MA\",\"AC\",\"DF\",\"PR\",\"AP\"],\"xaxis\":\"x\",\"y\":[160,52,135,203,16,270,43,82,2404,203,174,387,75,149,828,377,1104,140,578,412,188,1130,299,45,205,374,48],\"yaxis\":\"y\",\"type\":\"bar\"}],                        {\"template\":{\"data\":{\"bar\":[{\"error_x\":{\"color\":\"#2a3f5f\"},\"error_y\":{\"color\":\"#2a3f5f\"},\"marker\":{\"line\":{\"color\":\"#E5ECF6\",\"width\":0.5},\"pattern\":{\"fillmode\":\"overlay\",\"size\":10,\"solidity\":0.2}},\"type\":\"bar\"}],\"barpolar\":[{\"marker\":{\"line\":{\"color\":\"#E5ECF6\",\"width\":0.5},\"pattern\":{\"fillmode\":\"overlay\",\"size\":10,\"solidity\":0.2}},\"type\":\"barpolar\"}],\"carpet\":[{\"aaxis\":{\"endlinecolor\":\"#2a3f5f\",\"gridcolor\":\"white\",\"linecolor\":\"white\",\"minorgridcolor\":\"white\",\"startlinecolor\":\"#2a3f5f\"},\"baxis\":{\"endlinecolor\":\"#2a3f5f\",\"gridcolor\":\"white\",\"linecolor\":\"white\",\"minorgridcolor\":\"white\",\"startlinecolor\":\"#2a3f5f\"},\"type\":\"carpet\"}],\"choropleth\":[{\"colorbar\":{\"outlinewidth\":0,\"ticks\":\"\"},\"type\":\"choropleth\"}],\"contour\":[{\"colorbar\":{\"outlinewidth\":0,\"ticks\":\"\"},\"colorscale\":[[0.0,\"#0d0887\"],[0.1111111111111111,\"#46039f\"],[0.2222222222222222,\"#7201a8\"],[0.3333333333333333,\"#9c179e\"],[0.4444444444444444,\"#bd3786\"],[0.5555555555555556,\"#d8576b\"],[0.6666666666666666,\"#ed7953\"],[0.7777777777777778,\"#fb9f3a\"],[0.8888888888888888,\"#fdca26\"],[1.0,\"#f0f921\"]],\"type\":\"contour\"}],\"contourcarpet\":[{\"colorbar\":{\"outlinewidth\":0,\"ticks\":\"\"},\"type\":\"contourcarpet\"}],\"heatmap\":[{\"colorbar\":{\"outlinewidth\":0,\"ticks\":\"\"},\"colorscale\":[[0.0,\"#0d0887\"],[0.1111111111111111,\"#46039f\"],[0.2222222222222222,\"#7201a8\"],[0.3333333333333333,\"#9c179e\"],[0.4444444444444444,\"#bd3786\"],[0.5555555555555556,\"#d8576b\"],[0.6666666666666666,\"#ed7953\"],[0.7777777777777778,\"#fb9f3a\"],[0.8888888888888888,\"#fdca26\"],[1.0,\"#f0f921\"]],\"type\":\"heatmap\"}],\"heatmapgl\":[{\"colorbar\":{\"outlinewidth\":0,\"ticks\":\"\"},\"colorscale\":[[0.0,\"#0d0887\"],[0.1111111111111111,\"#46039f\"],[0.2222222222222222,\"#7201a8\"],[0.3333333333333333,\"#9c179e\"],[0.4444444444444444,\"#bd3786\"],[0.5555555555555556,\"#d8576b\"],[0.6666666666666666,\"#ed7953\"],[0.7777777777777778,\"#fb9f3a\"],[0.8888888888888888,\"#fdca26\"],[1.0,\"#f0f921\"]],\"type\":\"heatmapgl\"}],\"histogram\":[{\"marker\":{\"pattern\":{\"fillmode\":\"overlay\",\"size\":10,\"solidity\":0.2}},\"type\":\"histogram\"}],\"histogram2d\":[{\"colorbar\":{\"outlinewidth\":0,\"ticks\":\"\"},\"colorscale\":[[0.0,\"#0d0887\"],[0.1111111111111111,\"#46039f\"],[0.2222222222222222,\"#7201a8\"],[0.3333333333333333,\"#9c179e\"],[0.4444444444444444,\"#bd3786\"],[0.5555555555555556,\"#d8576b\"],[0.6666666666666666,\"#ed7953\"],[0.7777777777777778,\"#fb9f3a\"],[0.8888888888888888,\"#fdca26\"],[1.0,\"#f0f921\"]],\"type\":\"histogram2d\"}],\"histogram2dcontour\":[{\"colorbar\":{\"outlinewidth\":0,\"ticks\":\"\"},\"colorscale\":[[0.0,\"#0d0887\"],[0.1111111111111111,\"#46039f\"],[0.2222222222222222,\"#7201a8\"],[0.3333333333333333,\"#9c179e\"],[0.4444444444444444,\"#bd3786\"],[0.5555555555555556,\"#d8576b\"],[0.6666666666666666,\"#ed7953\"],[0.7777777777777778,\"#fb9f3a\"],[0.8888888888888888,\"#fdca26\"],[1.0,\"#f0f921\"]],\"type\":\"histogram2dcontour\"}],\"mesh3d\":[{\"colorbar\":{\"outlinewidth\":0,\"ticks\":\"\"},\"type\":\"mesh3d\"}],\"parcoords\":[{\"line\":{\"colorbar\":{\"outlinewidth\":0,\"ticks\":\"\"}},\"type\":\"parcoords\"}],\"pie\":[{\"automargin\":true,\"type\":\"pie\"}],\"scatter\":[{\"marker\":{\"colorbar\":{\"outlinewidth\":0,\"ticks\":\"\"}},\"type\":\"scatter\"}],\"scatter3d\":[{\"line\":{\"colorbar\":{\"outlinewidth\":0,\"ticks\":\"\"}},\"marker\":{\"colorbar\":{\"outlinewidth\":0,\"ticks\":\"\"}},\"type\":\"scatter3d\"}],\"scattercarpet\":[{\"marker\":{\"colorbar\":{\"outlinewidth\":0,\"ticks\":\"\"}},\"type\":\"scattercarpet\"}],\"scattergeo\":[{\"marker\":{\"colorbar\":{\"outlinewidth\":0,\"ticks\":\"\"}},\"type\":\"scattergeo\"}],\"scattergl\":[{\"marker\":{\"colorbar\":{\"outlinewidth\":0,\"ticks\":\"\"}},\"type\":\"scattergl\"}],\"scattermapbox\":[{\"marker\":{\"colorbar\":{\"outlinewidth\":0,\"ticks\":\"\"}},\"type\":\"scattermapbox\"}],\"scatterpolar\":[{\"marker\":{\"colorbar\":{\"outlinewidth\":0,\"ticks\":\"\"}},\"type\":\"scatterpolar\"}],\"scatterpolargl\":[{\"marker\":{\"colorbar\":{\"outlinewidth\":0,\"ticks\":\"\"}},\"type\":\"scatterpolargl\"}],\"scatterternary\":[{\"marker\":{\"colorbar\":{\"outlinewidth\":0,\"ticks\":\"\"}},\"type\":\"scatterternary\"}],\"surface\":[{\"colorbar\":{\"outlinewidth\":0,\"ticks\":\"\"},\"colorscale\":[[0.0,\"#0d0887\"],[0.1111111111111111,\"#46039f\"],[0.2222222222222222,\"#7201a8\"],[0.3333333333333333,\"#9c179e\"],[0.4444444444444444,\"#bd3786\"],[0.5555555555555556,\"#d8576b\"],[0.6666666666666666,\"#ed7953\"],[0.7777777777777778,\"#fb9f3a\"],[0.8888888888888888,\"#fdca26\"],[1.0,\"#f0f921\"]],\"type\":\"surface\"}],\"table\":[{\"cells\":{\"fill\":{\"color\":\"#EBF0F8\"},\"line\":{\"color\":\"white\"}},\"header\":{\"fill\":{\"color\":\"#C8D4E3\"},\"line\":{\"color\":\"white\"}},\"type\":\"table\"}]},\"layout\":{\"annotationdefaults\":{\"arrowcolor\":\"#2a3f5f\",\"arrowhead\":0,\"arrowwidth\":1},\"autotypenumbers\":\"strict\",\"coloraxis\":{\"colorbar\":{\"outlinewidth\":0,\"ticks\":\"\"}},\"colorscale\":{\"diverging\":[[0,\"#8e0152\"],[0.1,\"#c51b7d\"],[0.2,\"#de77ae\"],[0.3,\"#f1b6da\"],[0.4,\"#fde0ef\"],[0.5,\"#f7f7f7\"],[0.6,\"#e6f5d0\"],[0.7,\"#b8e186\"],[0.8,\"#7fbc41\"],[0.9,\"#4d9221\"],[1,\"#276419\"]],\"sequential\":[[0.0,\"#0d0887\"],[0.1111111111111111,\"#46039f\"],[0.2222222222222222,\"#7201a8\"],[0.3333333333333333,\"#9c179e\"],[0.4444444444444444,\"#bd3786\"],[0.5555555555555556,\"#d8576b\"],[0.6666666666666666,\"#ed7953\"],[0.7777777777777778,\"#fb9f3a\"],[0.8888888888888888,\"#fdca26\"],[1.0,\"#f0f921\"]],\"sequentialminus\":[[0.0,\"#0d0887\"],[0.1111111111111111,\"#46039f\"],[0.2222222222222222,\"#7201a8\"],[0.3333333333333333,\"#9c179e\"],[0.4444444444444444,\"#bd3786\"],[0.5555555555555556,\"#d8576b\"],[0.6666666666666666,\"#ed7953\"],[0.7777777777777778,\"#fb9f3a\"],[0.8888888888888888,\"#fdca26\"],[1.0,\"#f0f921\"]]},\"colorway\":[\"#636efa\",\"#EF553B\",\"#00cc96\",\"#ab63fa\",\"#FFA15A\",\"#19d3f3\",\"#FF6692\",\"#B6E880\",\"#FF97FF\",\"#FECB52\"],\"font\":{\"color\":\"#2a3f5f\"},\"geo\":{\"bgcolor\":\"white\",\"lakecolor\":\"white\",\"landcolor\":\"#E5ECF6\",\"showlakes\":true,\"showland\":true,\"subunitcolor\":\"white\"},\"hoverlabel\":{\"align\":\"left\"},\"hovermode\":\"closest\",\"mapbox\":{\"style\":\"light\"},\"paper_bgcolor\":\"white\",\"plot_bgcolor\":\"#E5ECF6\",\"polar\":{\"angularaxis\":{\"gridcolor\":\"white\",\"linecolor\":\"white\",\"ticks\":\"\"},\"bgcolor\":\"#E5ECF6\",\"radialaxis\":{\"gridcolor\":\"white\",\"linecolor\":\"white\",\"ticks\":\"\"}},\"scene\":{\"xaxis\":{\"backgroundcolor\":\"#E5ECF6\",\"gridcolor\":\"white\",\"gridwidth\":2,\"linecolor\":\"white\",\"showbackground\":true,\"ticks\":\"\",\"zerolinecolor\":\"white\"},\"yaxis\":{\"backgroundcolor\":\"#E5ECF6\",\"gridcolor\":\"white\",\"gridwidth\":2,\"linecolor\":\"white\",\"showbackground\":true,\"ticks\":\"\",\"zerolinecolor\":\"white\"},\"zaxis\":{\"backgroundcolor\":\"#E5ECF6\",\"gridcolor\":\"white\",\"gridwidth\":2,\"linecolor\":\"white\",\"showbackground\":true,\"ticks\":\"\",\"zerolinecolor\":\"white\"}},\"shapedefaults\":{\"line\":{\"color\":\"#2a3f5f\"}},\"ternary\":{\"aaxis\":{\"gridcolor\":\"white\",\"linecolor\":\"white\",\"ticks\":\"\"},\"baxis\":{\"gridcolor\":\"white\",\"linecolor\":\"white\",\"ticks\":\"\"},\"bgcolor\":\"#E5ECF6\",\"caxis\":{\"gridcolor\":\"white\",\"linecolor\":\"white\",\"ticks\":\"\"}},\"title\":{\"x\":0.05},\"xaxis\":{\"automargin\":true,\"gridcolor\":\"white\",\"linecolor\":\"white\",\"ticks\":\"\",\"title\":{\"standoff\":15},\"zerolinecolor\":\"white\",\"zerolinewidth\":2},\"yaxis\":{\"automargin\":true,\"gridcolor\":\"white\",\"linecolor\":\"white\",\"ticks\":\"\",\"title\":{\"standoff\":15},\"zerolinecolor\":\"white\",\"zerolinewidth\":2}}},\"xaxis\":{\"anchor\":\"y\",\"domain\":[0.0,1.0],\"title\":{\"text\":\"Estados\"}},\"yaxis\":{\"anchor\":\"x\",\"domain\":[0.0,1.0],\"title\":{\"text\":\"2_trimestre_2022\"}},\"coloraxis\":{\"colorbar\":{\"title\":{\"text\":\"2_trimestre_2022\"}},\"colorscale\":[[0.0,\"#0d0887\"],[0.1111111111111111,\"#46039f\"],[0.2222222222222222,\"#7201a8\"],[0.3333333333333333,\"#9c179e\"],[0.4444444444444444,\"#bd3786\"],[0.5555555555555556,\"#d8576b\"],[0.6666666666666666,\"#ed7953\"],[0.7777777777777778,\"#fb9f3a\"],[0.8888888888888888,\"#fdca26\"],[1.0,\"#f0f921\"]]},\"legend\":{\"tracegroupgap\":0},\"title\":{\"text\":\"Desemprego no segundo trimestre de 2022\"},\"barmode\":\"group\"},                        {\"responsive\": true}                    ).then(function(){\n",
              "                            \n",
              "var gd = document.getElementById('c07be4c3-fb0b-4485-8ccc-62002843d278');\n",
              "var x = new MutationObserver(function (mutations, observer) {{\n",
              "        var display = window.getComputedStyle(gd).display;\n",
              "        if (!display || display === 'none') {{\n",
              "            console.log([gd, 'removed!']);\n",
              "            Plotly.purge(gd);\n",
              "            observer.disconnect();\n",
              "        }}\n",
              "}});\n",
              "\n",
              "// Listen for the removal of the full notebook cells\n",
              "var notebookContainer = gd.closest('#notebook-container');\n",
              "if (notebookContainer) {{\n",
              "    x.observe(notebookContainer, {childList: true});\n",
              "}}\n",
              "\n",
              "// Listen for the clearing of the current output cell\n",
              "var outputEl = gd.closest('.output');\n",
              "if (outputEl) {{\n",
              "    x.observe(outputEl, {childList: true});\n",
              "}}\n",
              "\n",
              "                        })                };                            </script>        </div>\n",
              "</body>\n",
              "</html>"
            ]
          },
          "metadata": {}
        }
      ],
      "source": [
        "to_plot = [v for v in list(graf.columns)]\n",
        "\n",
        "fig_graf_desemprego_covid = px.bar(graf, x=graf.Estados, y=to_plot,\\\n",
        "                                   barmode=\"group\",\\\n",
        "                                   text_auto='.2s',\\\n",
        "                                   title=\"Obitos por Covid e Desemprego\")\n",
        "             \n",
        "fig_graf_desemprego_covid.show()\n",
        "\n",
        "\n",
        "graf_desemprego_covid = px.bar(graf, x='Estados', y=\"total_obitos_estados\",\\\n",
        "                               barmode=\"group\",\\\n",
        "                               color=\"total_obitos_estados\",\\\n",
        "                               title=\"Obitos por Covid\")\n",
        "graf_desemprego_covidx = px.bar(graf, x='Estados', y=\"1_trimestre_2020\",\\\n",
        "                                barmode=\"group\",\\\n",
        "                                color=\"1_trimestre_2020\",\\\n",
        "                                title=\"Desemprego no primeiro trimestre de 2020\")\n",
        "graf_desemprego_covidxx = px.bar(graf, x='Estados', y=\"2_trimestre_2022\",\\\n",
        "                                 barmode=\"group\",\\\n",
        "                                 color=\"2_trimestre_2022\",\\\n",
        "                                 title=\"Desemprego no segundo trimestre de 2022\")\n",
        "graf_desemprego_covid.show()\n",
        "graf_desemprego_covidx.show()\n",
        "graf_desemprego_covidxx.show()"
      ]
    },
    {
      "cell_type": "markdown",
      "metadata": {
        "id": "e2M6qeW-z0-4"
      },
      "source": [
        "####**Importação do tabela de educação.**\n",
        "Foi realizada a importação da tabela de educação no Brasil referente aos anos de 2016, 2017 e 2018, devido não encontrar dados mais rescentes.\n",
        "\n",
        "\n"
      ]
    },
    {
      "cell_type": "code",
      "execution_count": null,
      "metadata": {
        "id": "PA3zk8t70HSD"
      },
      "outputs": [],
      "source": [
        "educacao = spark.read.format('csv')\\\n",
        "                     .options(header='true',\\\n",
        "                              inferschema='true')\\\n",
        "                .load(f'{caminho_local}/educacao.csv',header=True)"
      ]
    },
    {
      "cell_type": "code",
      "execution_count": null,
      "metadata": {
        "id": "dM8EHvyZ2anB",
        "colab": {
          "base_uri": "https://localhost:8080/"
        },
        "outputId": "9575e16f-edd2-4897-92b9-fb9784e68d38"
      },
      "outputs": [
        {
          "output_type": "stream",
          "name": "stdout",
          "text": [
            "+--------------------+--------------------+--------------------+--------------------+---------+----------------------+---------------+----+----+----+\n",
            "|           Indicador|   Nível_Territorial|Abertura_Territorial|Variável_de_abertura|Categoria|Variável_de_abertura_2|    Categoria_2|2016|2017|2018|\n",
            "+--------------------+--------------------+--------------------+--------------------+---------+----------------------+---------------+----+----+----+\n",
            "|Taxa de analfabet...|Unidade da Federação|            Rondônia|                Sexo|    Total|  Grupos de idade -...|15 anos ou mais| 6.6| 7.2| 6.5|\n",
            "|Taxa de analfabet...|Unidade da Federação|            Rondônia|                Sexo|    Total|  Grupos de idade -...|18 anos ou mais| 7.2| 7.6| 6.9|\n",
            "|Taxa de analfabet...|Unidade da Federação|            Rondônia|                Sexo|    Total|  Grupos de idade -...|25 anos ou mais| 8.4| 8.9| 8.3|\n",
            "|Taxa de analfabet...|Unidade da Federação|            Rondônia|                Sexo|    Total|  Grupos de idade -...|40 anos ou mais|13.7|14.0|13.1|\n",
            "|Taxa de analfabet...|Unidade da Federação|            Rondônia|                Sexo|    Total|  Grupos de idade -...|60 anos ou mais|28.5|29.7|27.5|\n",
            "|Taxa de analfabet...|Unidade da Federação|                Acre|                Sexo|    Total|  Grupos de idade -...|15 anos ou mais|13.1|12.1|12.1|\n",
            "|Taxa de analfabet...|Unidade da Federação|                Acre|                Sexo|    Total|  Grupos de idade -...|18 anos ou mais|14.4|13.3|13.2|\n",
            "|Taxa de analfabet...|Unidade da Federação|                Acre|                Sexo|    Total|  Grupos de idade -...|25 anos ou mais|17.4|16.3|15.9|\n",
            "|Taxa de analfabet...|Unidade da Federação|                Acre|                Sexo|    Total|  Grupos de idade -...|40 anos ou mais|25.4|23.9|23.4|\n",
            "|Taxa de analfabet...|Unidade da Federação|                Acre|                Sexo|    Total|  Grupos de idade -...|60 anos ou mais|41.7|37.0|36.5|\n",
            "|Taxa de analfabet...|Unidade da Federação|            Amazonas|                Sexo|    Total|  Grupos de idade -...|15 anos ou mais| 6.9| 6.1| 5.8|\n",
            "|Taxa de analfabet...|Unidade da Federação|            Amazonas|                Sexo|    Total|  Grupos de idade -...|18 anos ou mais| 7.5| 6.7| 6.3|\n",
            "|Taxa de analfabet...|Unidade da Federação|            Amazonas|                Sexo|    Total|  Grupos de idade -...|25 anos ou mais| 9.0| 8.0| 7.6|\n",
            "|Taxa de analfabet...|Unidade da Federação|            Amazonas|                Sexo|    Total|  Grupos de idade -...|40 anos ou mais|13.5|12.2|11.2|\n",
            "|Taxa de analfabet...|Unidade da Federação|            Amazonas|                Sexo|    Total|  Grupos de idade -...|60 anos ou mais|22.3|20.4|19.9|\n",
            "|Taxa de analfabet...|Unidade da Federação|             Roraima|                Sexo|    Total|  Grupos de idade -...|15 anos ou mais| 6.6| 6.0| 6.0|\n",
            "|Taxa de analfabet...|Unidade da Federação|             Roraima|                Sexo|    Total|  Grupos de idade -...|18 anos ou mais| 7.2| 6.6| 6.5|\n",
            "|Taxa de analfabet...|Unidade da Federação|             Roraima|                Sexo|    Total|  Grupos de idade -...|25 anos ou mais| 8.6| 8.2| 7.9|\n",
            "|Taxa de analfabet...|Unidade da Federação|             Roraima|                Sexo|    Total|  Grupos de idade -...|40 anos ou mais|13.8|13.5|12.9|\n",
            "|Taxa de analfabet...|Unidade da Federação|             Roraima|                Sexo|    Total|  Grupos de idade -...|60 anos ou mais|29.1|30.8|25.9|\n",
            "+--------------------+--------------------+--------------------+--------------------+---------+----------------------+---------------+----+----+----+\n",
            "only showing top 20 rows\n",
            "\n"
          ]
        }
      ],
      "source": [
        "educacao.show()"
      ]
    },
    {
      "cell_type": "markdown",
      "metadata": {
        "id": "-idn7dZ0aShe"
      },
      "source": [
        "####**Alteração os valores da coluna Abertura_Territorial.**\n",
        "Foram alterados os valores da coluna Abertura_Territorial no dataframe de Educação, de nome do estado para a sigla do estado para futura comparação com os dados de Covid."
      ]
    },
    {
      "cell_type": "code",
      "execution_count": null,
      "metadata": {
        "id": "el3wgQ43aT1v",
        "colab": {
          "base_uri": "https://localhost:8080/"
        },
        "outputId": "09369d92-1634-45fd-c9a2-f0a8c61b62c6"
      },
      "outputs": [
        {
          "output_type": "stream",
          "name": "stdout",
          "text": [
            "+--------------------+--------------------+--------------------+--------------------+---------+----------------------+---------------+----+----+----+\n",
            "|           Indicador|   Nível_Territorial|Abertura_Territorial|Variável_de_abertura|Categoria|Variável_de_abertura_2|    Categoria_2|2016|2017|2018|\n",
            "+--------------------+--------------------+--------------------+--------------------+---------+----------------------+---------------+----+----+----+\n",
            "|Taxa de analfabet...|Unidade da Federação|                  RO|                Sexo|    Total|  Grupos de idade -...|15 anos ou mais| 6.6| 7.2| 6.5|\n",
            "|Taxa de analfabet...|Unidade da Federação|                  RO|                Sexo|    Total|  Grupos de idade -...|18 anos ou mais| 7.2| 7.6| 6.9|\n",
            "|Taxa de analfabet...|Unidade da Federação|                  RO|                Sexo|    Total|  Grupos de idade -...|25 anos ou mais| 8.4| 8.9| 8.3|\n",
            "|Taxa de analfabet...|Unidade da Federação|                  RO|                Sexo|    Total|  Grupos de idade -...|40 anos ou mais|13.7|14.0|13.1|\n",
            "|Taxa de analfabet...|Unidade da Federação|                  RO|                Sexo|    Total|  Grupos de idade -...|60 anos ou mais|28.5|29.7|27.5|\n",
            "|Taxa de analfabet...|Unidade da Federação|                  AC|                Sexo|    Total|  Grupos de idade -...|15 anos ou mais|13.1|12.1|12.1|\n",
            "|Taxa de analfabet...|Unidade da Federação|                  AC|                Sexo|    Total|  Grupos de idade -...|18 anos ou mais|14.4|13.3|13.2|\n",
            "|Taxa de analfabet...|Unidade da Federação|                  AC|                Sexo|    Total|  Grupos de idade -...|25 anos ou mais|17.4|16.3|15.9|\n",
            "|Taxa de analfabet...|Unidade da Federação|                  AC|                Sexo|    Total|  Grupos de idade -...|40 anos ou mais|25.4|23.9|23.4|\n",
            "|Taxa de analfabet...|Unidade da Federação|                  AC|                Sexo|    Total|  Grupos de idade -...|60 anos ou mais|41.7|37.0|36.5|\n",
            "|Taxa de analfabet...|Unidade da Federação|                  AM|                Sexo|    Total|  Grupos de idade -...|15 anos ou mais| 6.9| 6.1| 5.8|\n",
            "|Taxa de analfabet...|Unidade da Federação|                  AM|                Sexo|    Total|  Grupos de idade -...|18 anos ou mais| 7.5| 6.7| 6.3|\n",
            "|Taxa de analfabet...|Unidade da Federação|                  AM|                Sexo|    Total|  Grupos de idade -...|25 anos ou mais| 9.0| 8.0| 7.6|\n",
            "|Taxa de analfabet...|Unidade da Federação|                  AM|                Sexo|    Total|  Grupos de idade -...|40 anos ou mais|13.5|12.2|11.2|\n",
            "|Taxa de analfabet...|Unidade da Federação|                  AM|                Sexo|    Total|  Grupos de idade -...|60 anos ou mais|22.3|20.4|19.9|\n",
            "|Taxa de analfabet...|Unidade da Federação|                  RR|                Sexo|    Total|  Grupos de idade -...|15 anos ou mais| 6.6| 6.0| 6.0|\n",
            "|Taxa de analfabet...|Unidade da Federação|                  RR|                Sexo|    Total|  Grupos de idade -...|18 anos ou mais| 7.2| 6.6| 6.5|\n",
            "|Taxa de analfabet...|Unidade da Federação|                  RR|                Sexo|    Total|  Grupos de idade -...|25 anos ou mais| 8.6| 8.2| 7.9|\n",
            "|Taxa de analfabet...|Unidade da Federação|                  RR|                Sexo|    Total|  Grupos de idade -...|40 anos ou mais|13.8|13.5|12.9|\n",
            "|Taxa de analfabet...|Unidade da Federação|                  RR|                Sexo|    Total|  Grupos de idade -...|60 anos ou mais|29.1|30.8|25.9|\n",
            "|Taxa de analfabet...|Unidade da Federação|                  PA|                Sexo|    Total|  Grupos de idade -...|15 anos ou mais| 9.2| 8.6| 8.8|\n",
            "|Taxa de analfabet...|Unidade da Federação|                  PA|                Sexo|    Total|  Grupos de idade -...|18 anos ou mais|10.0| 9.3| 9.4|\n",
            "|Taxa de analfabet...|Unidade da Federação|                  PA|                Sexo|    Total|  Grupos de idade -...|25 anos ou mais|12.0|11.1|11.2|\n",
            "|Taxa de analfabet...|Unidade da Federação|                  PA|                Sexo|    Total|  Grupos de idade -...|40 anos ou mais|18.1|16.3|16.9|\n",
            "|Taxa de analfabet...|Unidade da Federação|                  PA|                Sexo|    Total|  Grupos de idade -...|60 anos ou mais|30.8|27.1|27.9|\n",
            "|Taxa de analfabet...|Unidade da Federação|                  AP|                Sexo|    Total|  Grupos de idade -...|15 anos ou mais| 5.0| 5.0| 6.1|\n",
            "|Taxa de analfabet...|Unidade da Federação|                  AP|                Sexo|    Total|  Grupos de idade -...|18 anos ou mais| 5.4| 5.5| 6.5|\n",
            "+--------------------+--------------------+--------------------+--------------------+---------+----------------------+---------------+----+----+----+\n",
            "only showing top 27 rows\n",
            "\n"
          ]
        }
      ],
      "source": [
        "educacao = educacao.withColumn('Abertura_Territorial',\\\n",
        "                                   regexp_replace('Abertura_Territorial', 'Rondônia', 'RO'))\\\n",
        "                       .withColumn('Abertura_Territorial',\\\n",
        "                                   regexp_replace('Abertura_Territorial', 'Acre', 'AC'))\\\n",
        "                       .withColumn('Abertura_Territorial',\\\n",
        "                                   regexp_replace('Abertura_Territorial', 'Amazonas', 'AM'))\\\n",
        "                       .withColumn('Abertura_Territorial',\\\n",
        "                                   regexp_replace('Abertura_Territorial', 'Roraima', 'RR'))\\\n",
        "                       .withColumn('Abertura_Territorial',\\\n",
        "                                   regexp_replace('Abertura_Territorial', 'Pará', 'PA'))\\\n",
        "                       .withColumn('Abertura_Territorial',\\\n",
        "                                   regexp_replace('Abertura_Territorial', 'Amapá', 'AP'))\\\n",
        "                       .withColumn('Abertura_Territorial',\\\n",
        "                                   regexp_replace('Abertura_Territorial', 'Tocantins', 'TO'))\\\n",
        "                       .withColumn('Abertura_Territorial',\\\n",
        "                                   regexp_replace('Abertura_Territorial', 'Maranhão', 'MA'))\\\n",
        "                       .withColumn('Abertura_Territorial',\\\n",
        "                                   regexp_replace('Abertura_Territorial', 'Piauí', 'PI'))\\\n",
        "                       .withColumn('Abertura_Territorial',\\\n",
        "                                   regexp_replace('Abertura_Territorial', 'Ceará', 'CE'))\\\n",
        "                       .withColumn('Abertura_Territorial',\\\n",
        "                                   regexp_replace('Abertura_Territorial', 'Rio Grande do Norte', 'RN'))\\\n",
        "                       .withColumn('Abertura_Territorial',\\\n",
        "                                   regexp_replace('Abertura_Territorial', 'Paraíba', 'PB'))\\\n",
        "                       .withColumn('Abertura_Territorial',\\\n",
        "                                   regexp_replace('Abertura_Territorial', 'Pernambuco', 'PE'))\\\n",
        "                       .withColumn('Abertura_Territorial',\\\n",
        "                                   regexp_replace('Abertura_Territorial', 'Alagoas', 'AL'))\\\n",
        "                       .withColumn('Abertura_Territorial',\\\n",
        "                                   regexp_replace('Abertura_Territorial', 'Sergipe', 'SE'))\\\n",
        "                       .withColumn('Abertura_Territorial',\\\n",
        "                                   regexp_replace('Abertura_Territorial', 'Bahia', 'BA'))\\\n",
        "                       .withColumn('Abertura_Territorial',\\\n",
        "                                   regexp_replace('Abertura_Territorial', 'Minas Gerais', 'MG'))\\\n",
        "                       .withColumn('Abertura_Territorial',\\\n",
        "                                   regexp_replace('Abertura_Territorial', 'Espírito Santo', 'ES'))\\\n",
        "                       .withColumn('Abertura_Territorial',\\\n",
        "                                   regexp_replace('Abertura_Territorial', 'Rio de Janeiro', 'RJ'))\\\n",
        "                       .withColumn('Abertura_Territorial',\\\n",
        "                                   regexp_replace('Abertura_Territorial', 'São Paulo', 'SP'))\\\n",
        "                       .withColumn('Abertura_Territorial',\\\n",
        "                                   regexp_replace('Abertura_Territorial', 'Paraná', 'PR'))\\\n",
        "                       .withColumn('Abertura_Territorial',\\\n",
        "                                   regexp_replace('Abertura_Territorial', 'Santa Catarina', 'SC'))\\\n",
        "                       .withColumn('Abertura_Territorial',\\\n",
        "                                   regexp_replace('Abertura_Territorial', 'Rio Grande do Sul', 'RS' ))\\\n",
        "                       .withColumn('Abertura_Territorial',\\\n",
        "                                   regexp_replace('Abertura_Territorial', 'Mato Grosso do Sul', 'MS'))\\\n",
        "                       .withColumn('Abertura_Territorial',\\\n",
        "                                   regexp_replace('Abertura_Territorial', 'Mato Grosso', 'MT'))\\\n",
        "                       .withColumn('Abertura_Territorial',\\\n",
        "                                   regexp_replace('Abertura_Territorial', 'Goiás', 'GO'))\\\n",
        "                       .withColumn('Abertura_Territorial',\\\n",
        "                                   regexp_replace('Abertura_Territorial', 'Distrito Federal', 'DF'))\\\n",
        "\n",
        "educacao.show(27)"
      ]
    },
    {
      "cell_type": "markdown",
      "metadata": {
        "id": "smjxBmjx20WT"
      },
      "source": [
        "####**Separaçao da coluna categoria_2.**\n",
        "Foi feita a separaçao da coluna categoria_2 referentes ao ano de 2018 de acordo com a idade para melhor visualização dos dados."
      ]
    },
    {
      "cell_type": "code",
      "execution_count": null,
      "metadata": {
        "id": "imA1QSav3Ecd",
        "colab": {
          "base_uri": "https://localhost:8080/"
        },
        "outputId": "205c31b9-cd3b-4c90-8873-b2174ae79d65"
      },
      "outputs": [
        {
          "output_type": "stream",
          "name": "stdout",
          "text": [
            "+--------------------+---------------+----+\n",
            "|Abertura_Territorial|    Categoria_2|2018|\n",
            "+--------------------+---------------+----+\n",
            "|                  AL|15 anos ou mais|17.2|\n",
            "|                  PI|15 anos ou mais|16.6|\n",
            "|                  MA|15 anos ou mais|16.3|\n",
            "|                  PB|15 anos ou mais|16.1|\n",
            "|                  SE|15 anos ou mais|13.9|\n",
            "|                  CE|15 anos ou mais|13.3|\n",
            "|                  RN|15 anos ou mais|12.9|\n",
            "|                  BA|15 anos ou mais|12.7|\n",
            "|                  AC|15 anos ou mais|12.1|\n",
            "|                  PE|15 anos ou mais|11.9|\n",
            "|                  TO|15 anos ou mais|10.0|\n",
            "|                  PA|15 anos ou mais| 8.8|\n",
            "|                  MT|15 anos ou mais| 7.1|\n",
            "|                  RO|15 anos ou mais| 6.5|\n",
            "|                  AP|15 anos ou mais| 6.1|\n",
            "|                  RR|15 anos ou mais| 6.0|\n",
            "|                  MG|15 anos ou mais| 5.8|\n",
            "|                  AM|15 anos ou mais| 5.8|\n",
            "|                  GO|15 anos ou mais| 5.7|\n",
            "|                  ES|15 anos ou mais| 5.5|\n",
            "|                  PR|15 anos ou mais| 5.0|\n",
            "|                  MS|15 anos ou mais| 5.0|\n",
            "|                  DF|15 anos ou mais| 3.1|\n",
            "|                  RS|15 anos ou mais| 3.0|\n",
            "|                  SP|15 anos ou mais| 2.6|\n",
            "|                  SC|15 anos ou mais| 2.5|\n",
            "|                  RJ|15 anos ou mais| 2.4|\n",
            "+--------------------+---------------+----+\n",
            "\n"
          ]
        }
      ],
      "source": [
        "educacao.createOrReplaceTempView(\"new_df\")\n",
        "\n",
        "idade_15_ou_mais = spark.sql(\"select Abertura_Territorial,  Categoria_2, `2018` \\\n",
        "                              from new_df\\\n",
        "                              where Categoria_2 like '%15%'\")\\\n",
        "                        .orderBy(col('2018').desc())\n",
        "\n",
        "idade_15_ou_mais.show(100)"
      ]
    },
    {
      "cell_type": "code",
      "execution_count": null,
      "metadata": {
        "id": "TEfGMvL_65KI",
        "colab": {
          "base_uri": "https://localhost:8080/"
        },
        "outputId": "ef5b7b6f-6cfa-42fa-b967-1f597f0c95a3"
      },
      "outputs": [
        {
          "output_type": "stream",
          "name": "stdout",
          "text": [
            "+--------------------+---------------+----+\n",
            "|Abertura_Territorial|    Categoria_2|2018|\n",
            "+--------------------+---------------+----+\n",
            "|                  AL|18 anos ou mais|18.5|\n",
            "|                  PI|18 anos ou mais|17.7|\n",
            "|                  MA|18 anos ou mais|17.6|\n",
            "|                  PB|18 anos ou mais|17.2|\n",
            "|                  SE|18 anos ou mais|14.8|\n",
            "|                  CE|18 anos ou mais|14.2|\n",
            "|                  RN|18 anos ou mais|13.7|\n",
            "|                  BA|18 anos ou mais|13.5|\n",
            "|                  AC|18 anos ou mais|13.2|\n",
            "|                  PE|18 anos ou mais|12.6|\n",
            "|                  TO|18 anos ou mais|10.7|\n",
            "|                  PA|18 anos ou mais| 9.4|\n",
            "|                  MT|18 anos ou mais| 7.5|\n",
            "|                  RO|18 anos ou mais| 6.9|\n",
            "|                  RR|18 anos ou mais| 6.5|\n",
            "|                  AP|18 anos ou mais| 6.5|\n",
            "|                  AM|18 anos ou mais| 6.3|\n",
            "|                  MG|18 anos ou mais| 6.2|\n",
            "|                  GO|18 anos ou mais| 6.1|\n",
            "|                  ES|18 anos ou mais| 5.8|\n",
            "|                  MS|18 anos ou mais| 5.3|\n",
            "|                  PR|18 anos ou mais| 5.2|\n",
            "|                  DF|18 anos ou mais| 3.3|\n",
            "|                  RS|18 anos ou mais| 3.1|\n",
            "|                  SP|18 anos ou mais| 2.8|\n",
            "|                  SC|18 anos ou mais| 2.6|\n",
            "|                  RJ|18 anos ou mais| 2.5|\n",
            "+--------------------+---------------+----+\n",
            "\n"
          ]
        }
      ],
      "source": [
        "educacao.createOrReplaceTempView(\"new_df\")\n",
        "\n",
        "idade_18_ou_mais = spark.sql(\"select Abertura_Territorial,  Categoria_2, `2018` \\\n",
        "                              from new_df\\\n",
        "                              where Categoria_2 like '%18%'\")\\\n",
        "                        .orderBy(col('2018').desc())\n",
        "\n",
        "idade_18_ou_mais.show(100)"
      ]
    },
    {
      "cell_type": "code",
      "execution_count": null,
      "metadata": {
        "id": "lWBxXQbX66Bd",
        "colab": {
          "base_uri": "https://localhost:8080/"
        },
        "outputId": "114e6a91-05a8-49cf-b632-0a4929e7d5fc"
      },
      "outputs": [
        {
          "output_type": "stream",
          "name": "stdout",
          "text": [
            "+--------------------+---------------+----+\n",
            "|Abertura_Territorial|    Categoria_2|2018|\n",
            "+--------------------+---------------+----+\n",
            "|                  AL|25 anos ou mais|21.5|\n",
            "|                  MA|25 anos ou mais|21.0|\n",
            "|                  PI|25 anos ou mais|20.7|\n",
            "|                  PB|25 anos ou mais|19.9|\n",
            "|                  SE|25 anos ou mais|17.5|\n",
            "|                  CE|25 anos ou mais|16.6|\n",
            "|                  RN|25 anos ou mais|16.1|\n",
            "|                  AC|25 anos ou mais|15.9|\n",
            "|                  BA|25 anos ou mais|15.6|\n",
            "|                  PE|25 anos ou mais|14.6|\n",
            "|                  TO|25 anos ou mais|12.4|\n",
            "|                  PA|25 anos ou mais|11.2|\n",
            "|                  MT|25 anos ou mais| 8.7|\n",
            "|                  RO|25 anos ou mais| 8.3|\n",
            "|                  AP|25 anos ou mais| 8.2|\n",
            "|                  RR|25 anos ou mais| 7.9|\n",
            "|                  AM|25 anos ou mais| 7.6|\n",
            "|                  GO|25 anos ou mais| 7.0|\n",
            "|                  MG|25 anos ou mais| 7.0|\n",
            "|                  ES|25 anos ou mais| 6.7|\n",
            "|                  MS|25 anos ou mais| 6.2|\n",
            "|                  PR|25 anos ou mais| 6.0|\n",
            "|                  DF|25 anos ou mais| 3.8|\n",
            "|                  RS|25 anos ou mais| 3.5|\n",
            "|                  SP|25 anos ou mais| 3.1|\n",
            "|                  SC|25 anos ou mais| 2.9|\n",
            "|                  RJ|25 anos ou mais| 2.7|\n",
            "+--------------------+---------------+----+\n",
            "\n"
          ]
        }
      ],
      "source": [
        "educacao.createOrReplaceTempView(\"new_df\")\n",
        "\n",
        "idade_25_ou_mais = spark.sql(\"select Abertura_Territorial,  Categoria_2, `2018` \\\n",
        "                              from new_df\\\n",
        "                              where Categoria_2 like '%25%'\")\\\n",
        "                        .orderBy(col('2018').desc())\n",
        "\n",
        "idade_25_ou_mais.show(100)"
      ]
    },
    {
      "cell_type": "code",
      "execution_count": null,
      "metadata": {
        "id": "8oZp0K-S66f3",
        "colab": {
          "base_uri": "https://localhost:8080/"
        },
        "outputId": "3a0bc17e-b85e-4a02-8ce9-c601a3b46afb"
      },
      "outputs": [
        {
          "output_type": "stream",
          "name": "stdout",
          "text": [
            "+--------------------+---------------+----+\n",
            "|Abertura_Territorial|    Categoria_2|2018|\n",
            "+--------------------+---------------+----+\n",
            "|                  MA|40 anos ou mais|30.5|\n",
            "|                  AL|40 anos ou mais|29.2|\n",
            "|                  PI|40 anos ou mais|28.4|\n",
            "|                  PB|40 anos ou mais|26.6|\n",
            "|                  SE|40 anos ou mais|24.8|\n",
            "|                  CE|40 anos ou mais|24.1|\n",
            "|                  AC|40 anos ou mais|23.4|\n",
            "|                  RN|40 anos ou mais|22.5|\n",
            "|                  BA|40 anos ou mais|22.3|\n",
            "|                  PE|40 anos ou mais|20.1|\n",
            "|                  TO|40 anos ou mais|18.5|\n",
            "|                  PA|40 anos ou mais|16.9|\n",
            "|                  AP|40 anos ou mais|13.4|\n",
            "|                  RO|40 anos ou mais|13.1|\n",
            "|                  RR|40 anos ou mais|12.9|\n",
            "|                  MT|40 anos ou mais|12.8|\n",
            "|                  AM|40 anos ou mais|11.2|\n",
            "|                  GO|40 anos ou mais|10.3|\n",
            "|                  MG|40 anos ou mais|10.0|\n",
            "|                  ES|40 anos ou mais| 9.8|\n",
            "|                  MS|40 anos ou mais| 9.1|\n",
            "|                  PR|40 anos ou mais| 8.5|\n",
            "|                  DF|40 anos ou mais| 5.7|\n",
            "|                  RS|40 anos ou mais| 4.6|\n",
            "|                  SP|40 anos ou mais| 4.5|\n",
            "|                  SC|40 anos ou mais| 4.2|\n",
            "|                  RJ|40 anos ou mais| 3.6|\n",
            "+--------------------+---------------+----+\n",
            "\n"
          ]
        }
      ],
      "source": [
        "educacao.createOrReplaceTempView(\"new_df\")\n",
        "\n",
        "idade_40_ou_mais = spark.sql(\"select Abertura_Territorial,  Categoria_2, `2018` \\\n",
        "                              from new_df\\\n",
        "                              where Categoria_2 like '%40%'\")\\\n",
        "                        .orderBy(col('2018').desc())\n",
        "\n",
        "idade_40_ou_mais.show(100)"
      ]
    },
    {
      "cell_type": "code",
      "execution_count": null,
      "metadata": {
        "id": "MMqZyhCv7LL7",
        "colab": {
          "base_uri": "https://localhost:8080/"
        },
        "outputId": "fba64f86-4eb5-48af-ab19-8147613a2675"
      },
      "outputs": [
        {
          "output_type": "stream",
          "name": "stdout",
          "text": [
            "+--------------------+---------------+----+\n",
            "|Abertura_Territorial|    Categoria_2|2018|\n",
            "+--------------------+---------------+----+\n",
            "|                  MA|60 anos ou mais|45.5|\n",
            "|                  PI|60 anos ou mais|42.7|\n",
            "|                  AL|60 anos ou mais|41.1|\n",
            "|                  SE|60 anos ou mais|38.6|\n",
            "|                  PB|60 anos ou mais|37.8|\n",
            "|                  CE|60 anos ou mais|36.9|\n",
            "|                  AC|60 anos ou mais|36.5|\n",
            "|                  BA|60 anos ou mais|35.3|\n",
            "|                  RN|60 anos ou mais|34.8|\n",
            "|                  TO|60 anos ou mais|32.5|\n",
            "|                  PE|60 anos ou mais|30.2|\n",
            "|                  PA|60 anos ou mais|27.9|\n",
            "|                  RO|60 anos ou mais|27.5|\n",
            "|                  AP|60 anos ou mais|27.4|\n",
            "|                  RR|60 anos ou mais|25.9|\n",
            "|                  MT|60 anos ou mais|24.2|\n",
            "|                  AM|60 anos ou mais|19.9|\n",
            "|                  GO|60 anos ou mais|18.9|\n",
            "|                  ES|60 anos ou mais|18.9|\n",
            "|                  MG|60 anos ou mais|17.1|\n",
            "|                  MS|60 anos ou mais|16.3|\n",
            "|                  PR|60 anos ou mais|15.9|\n",
            "|                  DF|60 anos ou mais|11.5|\n",
            "|                  SP|60 anos ou mais| 8.3|\n",
            "|                  SC|60 anos ou mais| 8.2|\n",
            "|                  RS|60 anos ou mais| 8.0|\n",
            "|                  RJ|60 anos ou mais| 6.3|\n",
            "+--------------------+---------------+----+\n",
            "\n"
          ]
        }
      ],
      "source": [
        "educacao.createOrReplaceTempView(\"new_df\")\n",
        "\n",
        "idade_60_ou_mais = spark.sql(\"select Abertura_Territorial,  Categoria_2, `2018`\\\n",
        "                              from new_df\\\n",
        "                              where Categoria_2 like '%60%'\")\\\n",
        "                        .orderBy(col('2018').desc())\n",
        "idade_60_ou_mais.show(100)\n",
        "\n",
        "\n"
      ]
    },
    {
      "cell_type": "markdown",
      "metadata": {
        "id": "8B9C4CU5gjlS"
      },
      "source": [
        "####**Demonstração dos dados em gráfico.** \n",
        "Foi feira a demostração dos dados de educação coonsiderando de pessoas de 60 anos ou mais por ter se tornado o público mais atingido por covid do decorrer da pandemia."
      ]
    },
    {
      "cell_type": "code",
      "execution_count": null,
      "metadata": {
        "id": "qE6Hj3_UgptG"
      },
      "outputs": [],
      "source": [
        "graf_educacao = estado_total_cs.join(idade_60_ou_mais, \\\n",
        "                                     estado_total_cs.estado ==\\\n",
        "                                     idade_60_ou_mais.Abertura_Territorial,\\\n",
        "                                     \"inner\")\\\n",
        "                               .drop(\"Abertura_Territorial\")\\\n",
        "                               .drop(\"Categoria_2\")\n",
        "                      \n",
        "graf_educacao = graf_educacao.toPandas()"
      ]
    },
    {
      "cell_type": "code",
      "execution_count": null,
      "metadata": {
        "id": "FtDoNsHIhSUF",
        "colab": {
          "base_uri": "https://localhost:8080/",
          "height": 1000
        },
        "outputId": "db15139b-455f-4deb-d86f-c81d495a606c"
      },
      "outputs": [
        {
          "output_type": "display_data",
          "data": {
            "text/html": [
              "<html>\n",
              "<head><meta charset=\"utf-8\" /></head>\n",
              "<body>\n",
              "    <div>            <script src=\"https://cdnjs.cloudflare.com/ajax/libs/mathjax/2.7.5/MathJax.js?config=TeX-AMS-MML_SVG\"></script><script type=\"text/javascript\">if (window.MathJax) {MathJax.Hub.Config({SVG: {font: \"STIX-Web\"}});}</script>                <script type=\"text/javascript\">window.PlotlyConfig = {MathJaxConfig: 'local'};</script>\n",
              "        <script src=\"https://cdn.plot.ly/plotly-2.8.3.min.js\"></script>                <div id=\"50301e5a-220d-4f7e-9f85-607a89567de9\" class=\"plotly-graph-div\" style=\"height:525px; width:100%;\"></div>            <script type=\"text/javascript\">                                    window.PLOTLYENV=window.PLOTLYENV || {};                                    if (document.getElementById(\"50301e5a-220d-4f7e-9f85-607a89567de9\")) {                    Plotly.newPlot(                        \"50301e5a-220d-4f7e-9f85-607a89567de9\",                        [{\"alignmentgroup\":\"True\",\"hovertemplate\":\"variable=total_casos_estados<br>estado=%{x}<br>value=%{y}<extra></extra>\",\"legendgroup\":\"total_casos_estados\",\"marker\":{\"color\":\"#636efa\",\"pattern\":{\"shape\":\"\"}},\"name\":\"total_casos_estados\",\"offsetgroup\":\"total_casos_estados\",\"orientation\":\"v\",\"showlegend\":true,\"textposition\":\"auto\",\"texttemplate\":\"%{y:.2s}\",\"x\":[\"SC\",\"RO\",\"PI\",\"AM\",\"RR\",\"GO\",\"TO\",\"MT\",\"SP\",\"PB\",\"ES\",\"RS\",\"MS\",\"AL\",\"MG\",\"PA\",\"BA\",\"SE\",\"PE\",\"CE\",\"RN\",\"RJ\",\"MA\",\"AC\",\"DF\",\"PR\",\"AP\"],\"xaxis\":\"x\",\"y\":[2001053.0,499023.0,457200.0,724845.0,216322.0,1814554.0,373809.0,887541.0,6747172.0,761101.0,1348639.0,2848019.0,609756.0,386234.0,4071347.0,1007846.0,1917392.0,409888.0,1184349.0,1601531.0,618928.0,2813826.0,604075.0,174361.0,963369.0,2877017.0,218234.0],\"yaxis\":\"y\",\"type\":\"bar\"},{\"alignmentgroup\":\"True\",\"hovertemplate\":\"variable=2018<br>estado=%{x}<br>value=%{y}<extra></extra>\",\"legendgroup\":\"2018\",\"marker\":{\"color\":\"#EF553B\",\"pattern\":{\"shape\":\"\"}},\"name\":\"2018\",\"offsetgroup\":\"2018\",\"orientation\":\"v\",\"showlegend\":true,\"textposition\":\"auto\",\"texttemplate\":\"%{y:.2s}\",\"x\":[\"SC\",\"RO\",\"PI\",\"AM\",\"RR\",\"GO\",\"TO\",\"MT\",\"SP\",\"PB\",\"ES\",\"RS\",\"MS\",\"AL\",\"MG\",\"PA\",\"BA\",\"SE\",\"PE\",\"CE\",\"RN\",\"RJ\",\"MA\",\"AC\",\"DF\",\"PR\",\"AP\"],\"xaxis\":\"x\",\"y\":[8.2,27.5,42.7,19.9,25.9,18.9,32.5,24.2,8.3,37.8,18.9,8.0,16.3,41.1,17.1,27.9,35.3,38.6,30.2,36.9,34.8,6.3,45.5,36.5,11.5,15.9,27.4],\"yaxis\":\"y\",\"type\":\"bar\"}],                        {\"template\":{\"data\":{\"bar\":[{\"error_x\":{\"color\":\"#2a3f5f\"},\"error_y\":{\"color\":\"#2a3f5f\"},\"marker\":{\"line\":{\"color\":\"#E5ECF6\",\"width\":0.5},\"pattern\":{\"fillmode\":\"overlay\",\"size\":10,\"solidity\":0.2}},\"type\":\"bar\"}],\"barpolar\":[{\"marker\":{\"line\":{\"color\":\"#E5ECF6\",\"width\":0.5},\"pattern\":{\"fillmode\":\"overlay\",\"size\":10,\"solidity\":0.2}},\"type\":\"barpolar\"}],\"carpet\":[{\"aaxis\":{\"endlinecolor\":\"#2a3f5f\",\"gridcolor\":\"white\",\"linecolor\":\"white\",\"minorgridcolor\":\"white\",\"startlinecolor\":\"#2a3f5f\"},\"baxis\":{\"endlinecolor\":\"#2a3f5f\",\"gridcolor\":\"white\",\"linecolor\":\"white\",\"minorgridcolor\":\"white\",\"startlinecolor\":\"#2a3f5f\"},\"type\":\"carpet\"}],\"choropleth\":[{\"colorbar\":{\"outlinewidth\":0,\"ticks\":\"\"},\"type\":\"choropleth\"}],\"contour\":[{\"colorbar\":{\"outlinewidth\":0,\"ticks\":\"\"},\"colorscale\":[[0.0,\"#0d0887\"],[0.1111111111111111,\"#46039f\"],[0.2222222222222222,\"#7201a8\"],[0.3333333333333333,\"#9c179e\"],[0.4444444444444444,\"#bd3786\"],[0.5555555555555556,\"#d8576b\"],[0.6666666666666666,\"#ed7953\"],[0.7777777777777778,\"#fb9f3a\"],[0.8888888888888888,\"#fdca26\"],[1.0,\"#f0f921\"]],\"type\":\"contour\"}],\"contourcarpet\":[{\"colorbar\":{\"outlinewidth\":0,\"ticks\":\"\"},\"type\":\"contourcarpet\"}],\"heatmap\":[{\"colorbar\":{\"outlinewidth\":0,\"ticks\":\"\"},\"colorscale\":[[0.0,\"#0d0887\"],[0.1111111111111111,\"#46039f\"],[0.2222222222222222,\"#7201a8\"],[0.3333333333333333,\"#9c179e\"],[0.4444444444444444,\"#bd3786\"],[0.5555555555555556,\"#d8576b\"],[0.6666666666666666,\"#ed7953\"],[0.7777777777777778,\"#fb9f3a\"],[0.8888888888888888,\"#fdca26\"],[1.0,\"#f0f921\"]],\"type\":\"heatmap\"}],\"heatmapgl\":[{\"colorbar\":{\"outlinewidth\":0,\"ticks\":\"\"},\"colorscale\":[[0.0,\"#0d0887\"],[0.1111111111111111,\"#46039f\"],[0.2222222222222222,\"#7201a8\"],[0.3333333333333333,\"#9c179e\"],[0.4444444444444444,\"#bd3786\"],[0.5555555555555556,\"#d8576b\"],[0.6666666666666666,\"#ed7953\"],[0.7777777777777778,\"#fb9f3a\"],[0.8888888888888888,\"#fdca26\"],[1.0,\"#f0f921\"]],\"type\":\"heatmapgl\"}],\"histogram\":[{\"marker\":{\"pattern\":{\"fillmode\":\"overlay\",\"size\":10,\"solidity\":0.2}},\"type\":\"histogram\"}],\"histogram2d\":[{\"colorbar\":{\"outlinewidth\":0,\"ticks\":\"\"},\"colorscale\":[[0.0,\"#0d0887\"],[0.1111111111111111,\"#46039f\"],[0.2222222222222222,\"#7201a8\"],[0.3333333333333333,\"#9c179e\"],[0.4444444444444444,\"#bd3786\"],[0.5555555555555556,\"#d8576b\"],[0.6666666666666666,\"#ed7953\"],[0.7777777777777778,\"#fb9f3a\"],[0.8888888888888888,\"#fdca26\"],[1.0,\"#f0f921\"]],\"type\":\"histogram2d\"}],\"histogram2dcontour\":[{\"colorbar\":{\"outlinewidth\":0,\"ticks\":\"\"},\"colorscale\":[[0.0,\"#0d0887\"],[0.1111111111111111,\"#46039f\"],[0.2222222222222222,\"#7201a8\"],[0.3333333333333333,\"#9c179e\"],[0.4444444444444444,\"#bd3786\"],[0.5555555555555556,\"#d8576b\"],[0.6666666666666666,\"#ed7953\"],[0.7777777777777778,\"#fb9f3a\"],[0.8888888888888888,\"#fdca26\"],[1.0,\"#f0f921\"]],\"type\":\"histogram2dcontour\"}],\"mesh3d\":[{\"colorbar\":{\"outlinewidth\":0,\"ticks\":\"\"},\"type\":\"mesh3d\"}],\"parcoords\":[{\"line\":{\"colorbar\":{\"outlinewidth\":0,\"ticks\":\"\"}},\"type\":\"parcoords\"}],\"pie\":[{\"automargin\":true,\"type\":\"pie\"}],\"scatter\":[{\"marker\":{\"colorbar\":{\"outlinewidth\":0,\"ticks\":\"\"}},\"type\":\"scatter\"}],\"scatter3d\":[{\"line\":{\"colorbar\":{\"outlinewidth\":0,\"ticks\":\"\"}},\"marker\":{\"colorbar\":{\"outlinewidth\":0,\"ticks\":\"\"}},\"type\":\"scatter3d\"}],\"scattercarpet\":[{\"marker\":{\"colorbar\":{\"outlinewidth\":0,\"ticks\":\"\"}},\"type\":\"scattercarpet\"}],\"scattergeo\":[{\"marker\":{\"colorbar\":{\"outlinewidth\":0,\"ticks\":\"\"}},\"type\":\"scattergeo\"}],\"scattergl\":[{\"marker\":{\"colorbar\":{\"outlinewidth\":0,\"ticks\":\"\"}},\"type\":\"scattergl\"}],\"scattermapbox\":[{\"marker\":{\"colorbar\":{\"outlinewidth\":0,\"ticks\":\"\"}},\"type\":\"scattermapbox\"}],\"scatterpolar\":[{\"marker\":{\"colorbar\":{\"outlinewidth\":0,\"ticks\":\"\"}},\"type\":\"scatterpolar\"}],\"scatterpolargl\":[{\"marker\":{\"colorbar\":{\"outlinewidth\":0,\"ticks\":\"\"}},\"type\":\"scatterpolargl\"}],\"scatterternary\":[{\"marker\":{\"colorbar\":{\"outlinewidth\":0,\"ticks\":\"\"}},\"type\":\"scatterternary\"}],\"surface\":[{\"colorbar\":{\"outlinewidth\":0,\"ticks\":\"\"},\"colorscale\":[[0.0,\"#0d0887\"],[0.1111111111111111,\"#46039f\"],[0.2222222222222222,\"#7201a8\"],[0.3333333333333333,\"#9c179e\"],[0.4444444444444444,\"#bd3786\"],[0.5555555555555556,\"#d8576b\"],[0.6666666666666666,\"#ed7953\"],[0.7777777777777778,\"#fb9f3a\"],[0.8888888888888888,\"#fdca26\"],[1.0,\"#f0f921\"]],\"type\":\"surface\"}],\"table\":[{\"cells\":{\"fill\":{\"color\":\"#EBF0F8\"},\"line\":{\"color\":\"white\"}},\"header\":{\"fill\":{\"color\":\"#C8D4E3\"},\"line\":{\"color\":\"white\"}},\"type\":\"table\"}]},\"layout\":{\"annotationdefaults\":{\"arrowcolor\":\"#2a3f5f\",\"arrowhead\":0,\"arrowwidth\":1},\"autotypenumbers\":\"strict\",\"coloraxis\":{\"colorbar\":{\"outlinewidth\":0,\"ticks\":\"\"}},\"colorscale\":{\"diverging\":[[0,\"#8e0152\"],[0.1,\"#c51b7d\"],[0.2,\"#de77ae\"],[0.3,\"#f1b6da\"],[0.4,\"#fde0ef\"],[0.5,\"#f7f7f7\"],[0.6,\"#e6f5d0\"],[0.7,\"#b8e186\"],[0.8,\"#7fbc41\"],[0.9,\"#4d9221\"],[1,\"#276419\"]],\"sequential\":[[0.0,\"#0d0887\"],[0.1111111111111111,\"#46039f\"],[0.2222222222222222,\"#7201a8\"],[0.3333333333333333,\"#9c179e\"],[0.4444444444444444,\"#bd3786\"],[0.5555555555555556,\"#d8576b\"],[0.6666666666666666,\"#ed7953\"],[0.7777777777777778,\"#fb9f3a\"],[0.8888888888888888,\"#fdca26\"],[1.0,\"#f0f921\"]],\"sequentialminus\":[[0.0,\"#0d0887\"],[0.1111111111111111,\"#46039f\"],[0.2222222222222222,\"#7201a8\"],[0.3333333333333333,\"#9c179e\"],[0.4444444444444444,\"#bd3786\"],[0.5555555555555556,\"#d8576b\"],[0.6666666666666666,\"#ed7953\"],[0.7777777777777778,\"#fb9f3a\"],[0.8888888888888888,\"#fdca26\"],[1.0,\"#f0f921\"]]},\"colorway\":[\"#636efa\",\"#EF553B\",\"#00cc96\",\"#ab63fa\",\"#FFA15A\",\"#19d3f3\",\"#FF6692\",\"#B6E880\",\"#FF97FF\",\"#FECB52\"],\"font\":{\"color\":\"#2a3f5f\"},\"geo\":{\"bgcolor\":\"white\",\"lakecolor\":\"white\",\"landcolor\":\"#E5ECF6\",\"showlakes\":true,\"showland\":true,\"subunitcolor\":\"white\"},\"hoverlabel\":{\"align\":\"left\"},\"hovermode\":\"closest\",\"mapbox\":{\"style\":\"light\"},\"paper_bgcolor\":\"white\",\"plot_bgcolor\":\"#E5ECF6\",\"polar\":{\"angularaxis\":{\"gridcolor\":\"white\",\"linecolor\":\"white\",\"ticks\":\"\"},\"bgcolor\":\"#E5ECF6\",\"radialaxis\":{\"gridcolor\":\"white\",\"linecolor\":\"white\",\"ticks\":\"\"}},\"scene\":{\"xaxis\":{\"backgroundcolor\":\"#E5ECF6\",\"gridcolor\":\"white\",\"gridwidth\":2,\"linecolor\":\"white\",\"showbackground\":true,\"ticks\":\"\",\"zerolinecolor\":\"white\"},\"yaxis\":{\"backgroundcolor\":\"#E5ECF6\",\"gridcolor\":\"white\",\"gridwidth\":2,\"linecolor\":\"white\",\"showbackground\":true,\"ticks\":\"\",\"zerolinecolor\":\"white\"},\"zaxis\":{\"backgroundcolor\":\"#E5ECF6\",\"gridcolor\":\"white\",\"gridwidth\":2,\"linecolor\":\"white\",\"showbackground\":true,\"ticks\":\"\",\"zerolinecolor\":\"white\"}},\"shapedefaults\":{\"line\":{\"color\":\"#2a3f5f\"}},\"ternary\":{\"aaxis\":{\"gridcolor\":\"white\",\"linecolor\":\"white\",\"ticks\":\"\"},\"baxis\":{\"gridcolor\":\"white\",\"linecolor\":\"white\",\"ticks\":\"\"},\"bgcolor\":\"#E5ECF6\",\"caxis\":{\"gridcolor\":\"white\",\"linecolor\":\"white\",\"ticks\":\"\"}},\"title\":{\"x\":0.05},\"xaxis\":{\"automargin\":true,\"gridcolor\":\"white\",\"linecolor\":\"white\",\"ticks\":\"\",\"title\":{\"standoff\":15},\"zerolinecolor\":\"white\",\"zerolinewidth\":2},\"yaxis\":{\"automargin\":true,\"gridcolor\":\"white\",\"linecolor\":\"white\",\"ticks\":\"\",\"title\":{\"standoff\":15},\"zerolinecolor\":\"white\",\"zerolinewidth\":2}}},\"xaxis\":{\"anchor\":\"y\",\"domain\":[0.0,1.0],\"title\":{\"text\":\"estado\"}},\"yaxis\":{\"anchor\":\"x\",\"domain\":[0.0,1.0],\"title\":{\"text\":\"value\"}},\"legend\":{\"title\":{\"text\":\"variable\"},\"tracegroupgap\":0},\"title\":{\"text\":\"Casos novos de Covid e IDH\"},\"barmode\":\"stack\"},                        {\"responsive\": true}                    ).then(function(){\n",
              "                            \n",
              "var gd = document.getElementById('50301e5a-220d-4f7e-9f85-607a89567de9');\n",
              "var x = new MutationObserver(function (mutations, observer) {{\n",
              "        var display = window.getComputedStyle(gd).display;\n",
              "        if (!display || display === 'none') {{\n",
              "            console.log([gd, 'removed!']);\n",
              "            Plotly.purge(gd);\n",
              "            observer.disconnect();\n",
              "        }}\n",
              "}});\n",
              "\n",
              "// Listen for the removal of the full notebook cells\n",
              "var notebookContainer = gd.closest('#notebook-container');\n",
              "if (notebookContainer) {{\n",
              "    x.observe(notebookContainer, {childList: true});\n",
              "}}\n",
              "\n",
              "// Listen for the clearing of the current output cell\n",
              "var outputEl = gd.closest('.output');\n",
              "if (outputEl) {{\n",
              "    x.observe(outputEl, {childList: true});\n",
              "}}\n",
              "\n",
              "                        })                };                            </script>        </div>\n",
              "</body>\n",
              "</html>"
            ]
          },
          "metadata": {}
        },
        {
          "output_type": "display_data",
          "data": {
            "text/html": [
              "<html>\n",
              "<head><meta charset=\"utf-8\" /></head>\n",
              "<body>\n",
              "    <div>            <script src=\"https://cdnjs.cloudflare.com/ajax/libs/mathjax/2.7.5/MathJax.js?config=TeX-AMS-MML_SVG\"></script><script type=\"text/javascript\">if (window.MathJax) {MathJax.Hub.Config({SVG: {font: \"STIX-Web\"}});}</script>                <script type=\"text/javascript\">window.PlotlyConfig = {MathJaxConfig: 'local'};</script>\n",
              "        <script src=\"https://cdn.plot.ly/plotly-2.8.3.min.js\"></script>                <div id=\"865ab75e-9727-4727-b435-dc4090bff5a6\" class=\"plotly-graph-div\" style=\"height:525px; width:100%;\"></div>            <script type=\"text/javascript\">                                    window.PLOTLYENV=window.PLOTLYENV || {};                                    if (document.getElementById(\"865ab75e-9727-4727-b435-dc4090bff5a6\")) {                    Plotly.newPlot(                        \"865ab75e-9727-4727-b435-dc4090bff5a6\",                        [{\"alignmentgroup\":\"True\",\"hovertemplate\":\"estado=%{x}<br>total_casos_estados=%{marker.color}<extra></extra>\",\"legendgroup\":\"\",\"marker\":{\"color\":[2001053,499023,457200,724845,216322,1814554,373809,887541,6747172,761101,1348639,2848019,609756,386234,4071347,1007846,1917392,409888,1184349,1601531,618928,2813826,604075,174361,963369,2877017,218234],\"coloraxis\":\"coloraxis\",\"pattern\":{\"shape\":\"\"}},\"name\":\"\",\"offsetgroup\":\"\",\"orientation\":\"v\",\"showlegend\":false,\"textposition\":\"auto\",\"x\":[\"SC\",\"RO\",\"PI\",\"AM\",\"RR\",\"GO\",\"TO\",\"MT\",\"SP\",\"PB\",\"ES\",\"RS\",\"MS\",\"AL\",\"MG\",\"PA\",\"BA\",\"SE\",\"PE\",\"CE\",\"RN\",\"RJ\",\"MA\",\"AC\",\"DF\",\"PR\",\"AP\"],\"xaxis\":\"x\",\"y\":[2001053,499023,457200,724845,216322,1814554,373809,887541,6747172,761101,1348639,2848019,609756,386234,4071347,1007846,1917392,409888,1184349,1601531,618928,2813826,604075,174361,963369,2877017,218234],\"yaxis\":\"y\",\"type\":\"bar\"}],                        {\"template\":{\"data\":{\"bar\":[{\"error_x\":{\"color\":\"#2a3f5f\"},\"error_y\":{\"color\":\"#2a3f5f\"},\"marker\":{\"line\":{\"color\":\"#E5ECF6\",\"width\":0.5},\"pattern\":{\"fillmode\":\"overlay\",\"size\":10,\"solidity\":0.2}},\"type\":\"bar\"}],\"barpolar\":[{\"marker\":{\"line\":{\"color\":\"#E5ECF6\",\"width\":0.5},\"pattern\":{\"fillmode\":\"overlay\",\"size\":10,\"solidity\":0.2}},\"type\":\"barpolar\"}],\"carpet\":[{\"aaxis\":{\"endlinecolor\":\"#2a3f5f\",\"gridcolor\":\"white\",\"linecolor\":\"white\",\"minorgridcolor\":\"white\",\"startlinecolor\":\"#2a3f5f\"},\"baxis\":{\"endlinecolor\":\"#2a3f5f\",\"gridcolor\":\"white\",\"linecolor\":\"white\",\"minorgridcolor\":\"white\",\"startlinecolor\":\"#2a3f5f\"},\"type\":\"carpet\"}],\"choropleth\":[{\"colorbar\":{\"outlinewidth\":0,\"ticks\":\"\"},\"type\":\"choropleth\"}],\"contour\":[{\"colorbar\":{\"outlinewidth\":0,\"ticks\":\"\"},\"colorscale\":[[0.0,\"#0d0887\"],[0.1111111111111111,\"#46039f\"],[0.2222222222222222,\"#7201a8\"],[0.3333333333333333,\"#9c179e\"],[0.4444444444444444,\"#bd3786\"],[0.5555555555555556,\"#d8576b\"],[0.6666666666666666,\"#ed7953\"],[0.7777777777777778,\"#fb9f3a\"],[0.8888888888888888,\"#fdca26\"],[1.0,\"#f0f921\"]],\"type\":\"contour\"}],\"contourcarpet\":[{\"colorbar\":{\"outlinewidth\":0,\"ticks\":\"\"},\"type\":\"contourcarpet\"}],\"heatmap\":[{\"colorbar\":{\"outlinewidth\":0,\"ticks\":\"\"},\"colorscale\":[[0.0,\"#0d0887\"],[0.1111111111111111,\"#46039f\"],[0.2222222222222222,\"#7201a8\"],[0.3333333333333333,\"#9c179e\"],[0.4444444444444444,\"#bd3786\"],[0.5555555555555556,\"#d8576b\"],[0.6666666666666666,\"#ed7953\"],[0.7777777777777778,\"#fb9f3a\"],[0.8888888888888888,\"#fdca26\"],[1.0,\"#f0f921\"]],\"type\":\"heatmap\"}],\"heatmapgl\":[{\"colorbar\":{\"outlinewidth\":0,\"ticks\":\"\"},\"colorscale\":[[0.0,\"#0d0887\"],[0.1111111111111111,\"#46039f\"],[0.2222222222222222,\"#7201a8\"],[0.3333333333333333,\"#9c179e\"],[0.4444444444444444,\"#bd3786\"],[0.5555555555555556,\"#d8576b\"],[0.6666666666666666,\"#ed7953\"],[0.7777777777777778,\"#fb9f3a\"],[0.8888888888888888,\"#fdca26\"],[1.0,\"#f0f921\"]],\"type\":\"heatmapgl\"}],\"histogram\":[{\"marker\":{\"pattern\":{\"fillmode\":\"overlay\",\"size\":10,\"solidity\":0.2}},\"type\":\"histogram\"}],\"histogram2d\":[{\"colorbar\":{\"outlinewidth\":0,\"ticks\":\"\"},\"colorscale\":[[0.0,\"#0d0887\"],[0.1111111111111111,\"#46039f\"],[0.2222222222222222,\"#7201a8\"],[0.3333333333333333,\"#9c179e\"],[0.4444444444444444,\"#bd3786\"],[0.5555555555555556,\"#d8576b\"],[0.6666666666666666,\"#ed7953\"],[0.7777777777777778,\"#fb9f3a\"],[0.8888888888888888,\"#fdca26\"],[1.0,\"#f0f921\"]],\"type\":\"histogram2d\"}],\"histogram2dcontour\":[{\"colorbar\":{\"outlinewidth\":0,\"ticks\":\"\"},\"colorscale\":[[0.0,\"#0d0887\"],[0.1111111111111111,\"#46039f\"],[0.2222222222222222,\"#7201a8\"],[0.3333333333333333,\"#9c179e\"],[0.4444444444444444,\"#bd3786\"],[0.5555555555555556,\"#d8576b\"],[0.6666666666666666,\"#ed7953\"],[0.7777777777777778,\"#fb9f3a\"],[0.8888888888888888,\"#fdca26\"],[1.0,\"#f0f921\"]],\"type\":\"histogram2dcontour\"}],\"mesh3d\":[{\"colorbar\":{\"outlinewidth\":0,\"ticks\":\"\"},\"type\":\"mesh3d\"}],\"parcoords\":[{\"line\":{\"colorbar\":{\"outlinewidth\":0,\"ticks\":\"\"}},\"type\":\"parcoords\"}],\"pie\":[{\"automargin\":true,\"type\":\"pie\"}],\"scatter\":[{\"marker\":{\"colorbar\":{\"outlinewidth\":0,\"ticks\":\"\"}},\"type\":\"scatter\"}],\"scatter3d\":[{\"line\":{\"colorbar\":{\"outlinewidth\":0,\"ticks\":\"\"}},\"marker\":{\"colorbar\":{\"outlinewidth\":0,\"ticks\":\"\"}},\"type\":\"scatter3d\"}],\"scattercarpet\":[{\"marker\":{\"colorbar\":{\"outlinewidth\":0,\"ticks\":\"\"}},\"type\":\"scattercarpet\"}],\"scattergeo\":[{\"marker\":{\"colorbar\":{\"outlinewidth\":0,\"ticks\":\"\"}},\"type\":\"scattergeo\"}],\"scattergl\":[{\"marker\":{\"colorbar\":{\"outlinewidth\":0,\"ticks\":\"\"}},\"type\":\"scattergl\"}],\"scattermapbox\":[{\"marker\":{\"colorbar\":{\"outlinewidth\":0,\"ticks\":\"\"}},\"type\":\"scattermapbox\"}],\"scatterpolar\":[{\"marker\":{\"colorbar\":{\"outlinewidth\":0,\"ticks\":\"\"}},\"type\":\"scatterpolar\"}],\"scatterpolargl\":[{\"marker\":{\"colorbar\":{\"outlinewidth\":0,\"ticks\":\"\"}},\"type\":\"scatterpolargl\"}],\"scatterternary\":[{\"marker\":{\"colorbar\":{\"outlinewidth\":0,\"ticks\":\"\"}},\"type\":\"scatterternary\"}],\"surface\":[{\"colorbar\":{\"outlinewidth\":0,\"ticks\":\"\"},\"colorscale\":[[0.0,\"#0d0887\"],[0.1111111111111111,\"#46039f\"],[0.2222222222222222,\"#7201a8\"],[0.3333333333333333,\"#9c179e\"],[0.4444444444444444,\"#bd3786\"],[0.5555555555555556,\"#d8576b\"],[0.6666666666666666,\"#ed7953\"],[0.7777777777777778,\"#fb9f3a\"],[0.8888888888888888,\"#fdca26\"],[1.0,\"#f0f921\"]],\"type\":\"surface\"}],\"table\":[{\"cells\":{\"fill\":{\"color\":\"#EBF0F8\"},\"line\":{\"color\":\"white\"}},\"header\":{\"fill\":{\"color\":\"#C8D4E3\"},\"line\":{\"color\":\"white\"}},\"type\":\"table\"}]},\"layout\":{\"annotationdefaults\":{\"arrowcolor\":\"#2a3f5f\",\"arrowhead\":0,\"arrowwidth\":1},\"autotypenumbers\":\"strict\",\"coloraxis\":{\"colorbar\":{\"outlinewidth\":0,\"ticks\":\"\"}},\"colorscale\":{\"diverging\":[[0,\"#8e0152\"],[0.1,\"#c51b7d\"],[0.2,\"#de77ae\"],[0.3,\"#f1b6da\"],[0.4,\"#fde0ef\"],[0.5,\"#f7f7f7\"],[0.6,\"#e6f5d0\"],[0.7,\"#b8e186\"],[0.8,\"#7fbc41\"],[0.9,\"#4d9221\"],[1,\"#276419\"]],\"sequential\":[[0.0,\"#0d0887\"],[0.1111111111111111,\"#46039f\"],[0.2222222222222222,\"#7201a8\"],[0.3333333333333333,\"#9c179e\"],[0.4444444444444444,\"#bd3786\"],[0.5555555555555556,\"#d8576b\"],[0.6666666666666666,\"#ed7953\"],[0.7777777777777778,\"#fb9f3a\"],[0.8888888888888888,\"#fdca26\"],[1.0,\"#f0f921\"]],\"sequentialminus\":[[0.0,\"#0d0887\"],[0.1111111111111111,\"#46039f\"],[0.2222222222222222,\"#7201a8\"],[0.3333333333333333,\"#9c179e\"],[0.4444444444444444,\"#bd3786\"],[0.5555555555555556,\"#d8576b\"],[0.6666666666666666,\"#ed7953\"],[0.7777777777777778,\"#fb9f3a\"],[0.8888888888888888,\"#fdca26\"],[1.0,\"#f0f921\"]]},\"colorway\":[\"#636efa\",\"#EF553B\",\"#00cc96\",\"#ab63fa\",\"#FFA15A\",\"#19d3f3\",\"#FF6692\",\"#B6E880\",\"#FF97FF\",\"#FECB52\"],\"font\":{\"color\":\"#2a3f5f\"},\"geo\":{\"bgcolor\":\"white\",\"lakecolor\":\"white\",\"landcolor\":\"#E5ECF6\",\"showlakes\":true,\"showland\":true,\"subunitcolor\":\"white\"},\"hoverlabel\":{\"align\":\"left\"},\"hovermode\":\"closest\",\"mapbox\":{\"style\":\"light\"},\"paper_bgcolor\":\"white\",\"plot_bgcolor\":\"#E5ECF6\",\"polar\":{\"angularaxis\":{\"gridcolor\":\"white\",\"linecolor\":\"white\",\"ticks\":\"\"},\"bgcolor\":\"#E5ECF6\",\"radialaxis\":{\"gridcolor\":\"white\",\"linecolor\":\"white\",\"ticks\":\"\"}},\"scene\":{\"xaxis\":{\"backgroundcolor\":\"#E5ECF6\",\"gridcolor\":\"white\",\"gridwidth\":2,\"linecolor\":\"white\",\"showbackground\":true,\"ticks\":\"\",\"zerolinecolor\":\"white\"},\"yaxis\":{\"backgroundcolor\":\"#E5ECF6\",\"gridcolor\":\"white\",\"gridwidth\":2,\"linecolor\":\"white\",\"showbackground\":true,\"ticks\":\"\",\"zerolinecolor\":\"white\"},\"zaxis\":{\"backgroundcolor\":\"#E5ECF6\",\"gridcolor\":\"white\",\"gridwidth\":2,\"linecolor\":\"white\",\"showbackground\":true,\"ticks\":\"\",\"zerolinecolor\":\"white\"}},\"shapedefaults\":{\"line\":{\"color\":\"#2a3f5f\"}},\"ternary\":{\"aaxis\":{\"gridcolor\":\"white\",\"linecolor\":\"white\",\"ticks\":\"\"},\"baxis\":{\"gridcolor\":\"white\",\"linecolor\":\"white\",\"ticks\":\"\"},\"bgcolor\":\"#E5ECF6\",\"caxis\":{\"gridcolor\":\"white\",\"linecolor\":\"white\",\"ticks\":\"\"}},\"title\":{\"x\":0.05},\"xaxis\":{\"automargin\":true,\"gridcolor\":\"white\",\"linecolor\":\"white\",\"ticks\":\"\",\"title\":{\"standoff\":15},\"zerolinecolor\":\"white\",\"zerolinewidth\":2},\"yaxis\":{\"automargin\":true,\"gridcolor\":\"white\",\"linecolor\":\"white\",\"ticks\":\"\",\"title\":{\"standoff\":15},\"zerolinecolor\":\"white\",\"zerolinewidth\":2}}},\"xaxis\":{\"anchor\":\"y\",\"domain\":[0.0,1.0],\"title\":{\"text\":\"estado\"}},\"yaxis\":{\"anchor\":\"x\",\"domain\":[0.0,1.0],\"title\":{\"text\":\"total_casos_estados\"}},\"coloraxis\":{\"colorbar\":{\"title\":{\"text\":\"total_casos_estados\"}},\"colorscale\":[[0.0,\"#0d0887\"],[0.1111111111111111,\"#46039f\"],[0.2222222222222222,\"#7201a8\"],[0.3333333333333333,\"#9c179e\"],[0.4444444444444444,\"#bd3786\"],[0.5555555555555556,\"#d8576b\"],[0.6666666666666666,\"#ed7953\"],[0.7777777777777778,\"#fb9f3a\"],[0.8888888888888888,\"#fdca26\"],[1.0,\"#f0f921\"]]},\"legend\":{\"tracegroupgap\":0},\"title\":{\"text\":\"Casos novos de Covid\"},\"barmode\":\"group\"},                        {\"responsive\": true}                    ).then(function(){\n",
              "                            \n",
              "var gd = document.getElementById('865ab75e-9727-4727-b435-dc4090bff5a6');\n",
              "var x = new MutationObserver(function (mutations, observer) {{\n",
              "        var display = window.getComputedStyle(gd).display;\n",
              "        if (!display || display === 'none') {{\n",
              "            console.log([gd, 'removed!']);\n",
              "            Plotly.purge(gd);\n",
              "            observer.disconnect();\n",
              "        }}\n",
              "}});\n",
              "\n",
              "// Listen for the removal of the full notebook cells\n",
              "var notebookContainer = gd.closest('#notebook-container');\n",
              "if (notebookContainer) {{\n",
              "    x.observe(notebookContainer, {childList: true});\n",
              "}}\n",
              "\n",
              "// Listen for the clearing of the current output cell\n",
              "var outputEl = gd.closest('.output');\n",
              "if (outputEl) {{\n",
              "    x.observe(outputEl, {childList: true});\n",
              "}}\n",
              "\n",
              "                        })                };                            </script>        </div>\n",
              "</body>\n",
              "</html>"
            ]
          },
          "metadata": {}
        },
        {
          "output_type": "display_data",
          "data": {
            "text/html": [
              "<html>\n",
              "<head><meta charset=\"utf-8\" /></head>\n",
              "<body>\n",
              "    <div>            <script src=\"https://cdnjs.cloudflare.com/ajax/libs/mathjax/2.7.5/MathJax.js?config=TeX-AMS-MML_SVG\"></script><script type=\"text/javascript\">if (window.MathJax) {MathJax.Hub.Config({SVG: {font: \"STIX-Web\"}});}</script>                <script type=\"text/javascript\">window.PlotlyConfig = {MathJaxConfig: 'local'};</script>\n",
              "        <script src=\"https://cdn.plot.ly/plotly-2.8.3.min.js\"></script>                <div id=\"7b68ef07-ba79-4af4-849e-c7be724351af\" class=\"plotly-graph-div\" style=\"height:525px; width:100%;\"></div>            <script type=\"text/javascript\">                                    window.PLOTLYENV=window.PLOTLYENV || {};                                    if (document.getElementById(\"7b68ef07-ba79-4af4-849e-c7be724351af\")) {                    Plotly.newPlot(                        \"7b68ef07-ba79-4af4-849e-c7be724351af\",                        [{\"alignmentgroup\":\"True\",\"hovertemplate\":\"estado=%{x}<br>2018=%{marker.color}<extra></extra>\",\"legendgroup\":\"\",\"marker\":{\"color\":[8.2,27.5,42.7,19.9,25.9,18.9,32.5,24.2,8.3,37.8,18.9,8.0,16.3,41.1,17.1,27.9,35.3,38.6,30.2,36.9,34.8,6.3,45.5,36.5,11.5,15.9,27.4],\"coloraxis\":\"coloraxis\",\"pattern\":{\"shape\":\"\"}},\"name\":\"\",\"offsetgroup\":\"\",\"orientation\":\"v\",\"showlegend\":false,\"textposition\":\"auto\",\"x\":[\"SC\",\"RO\",\"PI\",\"AM\",\"RR\",\"GO\",\"TO\",\"MT\",\"SP\",\"PB\",\"ES\",\"RS\",\"MS\",\"AL\",\"MG\",\"PA\",\"BA\",\"SE\",\"PE\",\"CE\",\"RN\",\"RJ\",\"MA\",\"AC\",\"DF\",\"PR\",\"AP\"],\"xaxis\":\"x\",\"y\":[8.2,27.5,42.7,19.9,25.9,18.9,32.5,24.2,8.3,37.8,18.9,8.0,16.3,41.1,17.1,27.9,35.3,38.6,30.2,36.9,34.8,6.3,45.5,36.5,11.5,15.9,27.4],\"yaxis\":\"y\",\"type\":\"bar\"}],                        {\"template\":{\"data\":{\"bar\":[{\"error_x\":{\"color\":\"#2a3f5f\"},\"error_y\":{\"color\":\"#2a3f5f\"},\"marker\":{\"line\":{\"color\":\"#E5ECF6\",\"width\":0.5},\"pattern\":{\"fillmode\":\"overlay\",\"size\":10,\"solidity\":0.2}},\"type\":\"bar\"}],\"barpolar\":[{\"marker\":{\"line\":{\"color\":\"#E5ECF6\",\"width\":0.5},\"pattern\":{\"fillmode\":\"overlay\",\"size\":10,\"solidity\":0.2}},\"type\":\"barpolar\"}],\"carpet\":[{\"aaxis\":{\"endlinecolor\":\"#2a3f5f\",\"gridcolor\":\"white\",\"linecolor\":\"white\",\"minorgridcolor\":\"white\",\"startlinecolor\":\"#2a3f5f\"},\"baxis\":{\"endlinecolor\":\"#2a3f5f\",\"gridcolor\":\"white\",\"linecolor\":\"white\",\"minorgridcolor\":\"white\",\"startlinecolor\":\"#2a3f5f\"},\"type\":\"carpet\"}],\"choropleth\":[{\"colorbar\":{\"outlinewidth\":0,\"ticks\":\"\"},\"type\":\"choropleth\"}],\"contour\":[{\"colorbar\":{\"outlinewidth\":0,\"ticks\":\"\"},\"colorscale\":[[0.0,\"#0d0887\"],[0.1111111111111111,\"#46039f\"],[0.2222222222222222,\"#7201a8\"],[0.3333333333333333,\"#9c179e\"],[0.4444444444444444,\"#bd3786\"],[0.5555555555555556,\"#d8576b\"],[0.6666666666666666,\"#ed7953\"],[0.7777777777777778,\"#fb9f3a\"],[0.8888888888888888,\"#fdca26\"],[1.0,\"#f0f921\"]],\"type\":\"contour\"}],\"contourcarpet\":[{\"colorbar\":{\"outlinewidth\":0,\"ticks\":\"\"},\"type\":\"contourcarpet\"}],\"heatmap\":[{\"colorbar\":{\"outlinewidth\":0,\"ticks\":\"\"},\"colorscale\":[[0.0,\"#0d0887\"],[0.1111111111111111,\"#46039f\"],[0.2222222222222222,\"#7201a8\"],[0.3333333333333333,\"#9c179e\"],[0.4444444444444444,\"#bd3786\"],[0.5555555555555556,\"#d8576b\"],[0.6666666666666666,\"#ed7953\"],[0.7777777777777778,\"#fb9f3a\"],[0.8888888888888888,\"#fdca26\"],[1.0,\"#f0f921\"]],\"type\":\"heatmap\"}],\"heatmapgl\":[{\"colorbar\":{\"outlinewidth\":0,\"ticks\":\"\"},\"colorscale\":[[0.0,\"#0d0887\"],[0.1111111111111111,\"#46039f\"],[0.2222222222222222,\"#7201a8\"],[0.3333333333333333,\"#9c179e\"],[0.4444444444444444,\"#bd3786\"],[0.5555555555555556,\"#d8576b\"],[0.6666666666666666,\"#ed7953\"],[0.7777777777777778,\"#fb9f3a\"],[0.8888888888888888,\"#fdca26\"],[1.0,\"#f0f921\"]],\"type\":\"heatmapgl\"}],\"histogram\":[{\"marker\":{\"pattern\":{\"fillmode\":\"overlay\",\"size\":10,\"solidity\":0.2}},\"type\":\"histogram\"}],\"histogram2d\":[{\"colorbar\":{\"outlinewidth\":0,\"ticks\":\"\"},\"colorscale\":[[0.0,\"#0d0887\"],[0.1111111111111111,\"#46039f\"],[0.2222222222222222,\"#7201a8\"],[0.3333333333333333,\"#9c179e\"],[0.4444444444444444,\"#bd3786\"],[0.5555555555555556,\"#d8576b\"],[0.6666666666666666,\"#ed7953\"],[0.7777777777777778,\"#fb9f3a\"],[0.8888888888888888,\"#fdca26\"],[1.0,\"#f0f921\"]],\"type\":\"histogram2d\"}],\"histogram2dcontour\":[{\"colorbar\":{\"outlinewidth\":0,\"ticks\":\"\"},\"colorscale\":[[0.0,\"#0d0887\"],[0.1111111111111111,\"#46039f\"],[0.2222222222222222,\"#7201a8\"],[0.3333333333333333,\"#9c179e\"],[0.4444444444444444,\"#bd3786\"],[0.5555555555555556,\"#d8576b\"],[0.6666666666666666,\"#ed7953\"],[0.7777777777777778,\"#fb9f3a\"],[0.8888888888888888,\"#fdca26\"],[1.0,\"#f0f921\"]],\"type\":\"histogram2dcontour\"}],\"mesh3d\":[{\"colorbar\":{\"outlinewidth\":0,\"ticks\":\"\"},\"type\":\"mesh3d\"}],\"parcoords\":[{\"line\":{\"colorbar\":{\"outlinewidth\":0,\"ticks\":\"\"}},\"type\":\"parcoords\"}],\"pie\":[{\"automargin\":true,\"type\":\"pie\"}],\"scatter\":[{\"marker\":{\"colorbar\":{\"outlinewidth\":0,\"ticks\":\"\"}},\"type\":\"scatter\"}],\"scatter3d\":[{\"line\":{\"colorbar\":{\"outlinewidth\":0,\"ticks\":\"\"}},\"marker\":{\"colorbar\":{\"outlinewidth\":0,\"ticks\":\"\"}},\"type\":\"scatter3d\"}],\"scattercarpet\":[{\"marker\":{\"colorbar\":{\"outlinewidth\":0,\"ticks\":\"\"}},\"type\":\"scattercarpet\"}],\"scattergeo\":[{\"marker\":{\"colorbar\":{\"outlinewidth\":0,\"ticks\":\"\"}},\"type\":\"scattergeo\"}],\"scattergl\":[{\"marker\":{\"colorbar\":{\"outlinewidth\":0,\"ticks\":\"\"}},\"type\":\"scattergl\"}],\"scattermapbox\":[{\"marker\":{\"colorbar\":{\"outlinewidth\":0,\"ticks\":\"\"}},\"type\":\"scattermapbox\"}],\"scatterpolar\":[{\"marker\":{\"colorbar\":{\"outlinewidth\":0,\"ticks\":\"\"}},\"type\":\"scatterpolar\"}],\"scatterpolargl\":[{\"marker\":{\"colorbar\":{\"outlinewidth\":0,\"ticks\":\"\"}},\"type\":\"scatterpolargl\"}],\"scatterternary\":[{\"marker\":{\"colorbar\":{\"outlinewidth\":0,\"ticks\":\"\"}},\"type\":\"scatterternary\"}],\"surface\":[{\"colorbar\":{\"outlinewidth\":0,\"ticks\":\"\"},\"colorscale\":[[0.0,\"#0d0887\"],[0.1111111111111111,\"#46039f\"],[0.2222222222222222,\"#7201a8\"],[0.3333333333333333,\"#9c179e\"],[0.4444444444444444,\"#bd3786\"],[0.5555555555555556,\"#d8576b\"],[0.6666666666666666,\"#ed7953\"],[0.7777777777777778,\"#fb9f3a\"],[0.8888888888888888,\"#fdca26\"],[1.0,\"#f0f921\"]],\"type\":\"surface\"}],\"table\":[{\"cells\":{\"fill\":{\"color\":\"#EBF0F8\"},\"line\":{\"color\":\"white\"}},\"header\":{\"fill\":{\"color\":\"#C8D4E3\"},\"line\":{\"color\":\"white\"}},\"type\":\"table\"}]},\"layout\":{\"annotationdefaults\":{\"arrowcolor\":\"#2a3f5f\",\"arrowhead\":0,\"arrowwidth\":1},\"autotypenumbers\":\"strict\",\"coloraxis\":{\"colorbar\":{\"outlinewidth\":0,\"ticks\":\"\"}},\"colorscale\":{\"diverging\":[[0,\"#8e0152\"],[0.1,\"#c51b7d\"],[0.2,\"#de77ae\"],[0.3,\"#f1b6da\"],[0.4,\"#fde0ef\"],[0.5,\"#f7f7f7\"],[0.6,\"#e6f5d0\"],[0.7,\"#b8e186\"],[0.8,\"#7fbc41\"],[0.9,\"#4d9221\"],[1,\"#276419\"]],\"sequential\":[[0.0,\"#0d0887\"],[0.1111111111111111,\"#46039f\"],[0.2222222222222222,\"#7201a8\"],[0.3333333333333333,\"#9c179e\"],[0.4444444444444444,\"#bd3786\"],[0.5555555555555556,\"#d8576b\"],[0.6666666666666666,\"#ed7953\"],[0.7777777777777778,\"#fb9f3a\"],[0.8888888888888888,\"#fdca26\"],[1.0,\"#f0f921\"]],\"sequentialminus\":[[0.0,\"#0d0887\"],[0.1111111111111111,\"#46039f\"],[0.2222222222222222,\"#7201a8\"],[0.3333333333333333,\"#9c179e\"],[0.4444444444444444,\"#bd3786\"],[0.5555555555555556,\"#d8576b\"],[0.6666666666666666,\"#ed7953\"],[0.7777777777777778,\"#fb9f3a\"],[0.8888888888888888,\"#fdca26\"],[1.0,\"#f0f921\"]]},\"colorway\":[\"#636efa\",\"#EF553B\",\"#00cc96\",\"#ab63fa\",\"#FFA15A\",\"#19d3f3\",\"#FF6692\",\"#B6E880\",\"#FF97FF\",\"#FECB52\"],\"font\":{\"color\":\"#2a3f5f\"},\"geo\":{\"bgcolor\":\"white\",\"lakecolor\":\"white\",\"landcolor\":\"#E5ECF6\",\"showlakes\":true,\"showland\":true,\"subunitcolor\":\"white\"},\"hoverlabel\":{\"align\":\"left\"},\"hovermode\":\"closest\",\"mapbox\":{\"style\":\"light\"},\"paper_bgcolor\":\"white\",\"plot_bgcolor\":\"#E5ECF6\",\"polar\":{\"angularaxis\":{\"gridcolor\":\"white\",\"linecolor\":\"white\",\"ticks\":\"\"},\"bgcolor\":\"#E5ECF6\",\"radialaxis\":{\"gridcolor\":\"white\",\"linecolor\":\"white\",\"ticks\":\"\"}},\"scene\":{\"xaxis\":{\"backgroundcolor\":\"#E5ECF6\",\"gridcolor\":\"white\",\"gridwidth\":2,\"linecolor\":\"white\",\"showbackground\":true,\"ticks\":\"\",\"zerolinecolor\":\"white\"},\"yaxis\":{\"backgroundcolor\":\"#E5ECF6\",\"gridcolor\":\"white\",\"gridwidth\":2,\"linecolor\":\"white\",\"showbackground\":true,\"ticks\":\"\",\"zerolinecolor\":\"white\"},\"zaxis\":{\"backgroundcolor\":\"#E5ECF6\",\"gridcolor\":\"white\",\"gridwidth\":2,\"linecolor\":\"white\",\"showbackground\":true,\"ticks\":\"\",\"zerolinecolor\":\"white\"}},\"shapedefaults\":{\"line\":{\"color\":\"#2a3f5f\"}},\"ternary\":{\"aaxis\":{\"gridcolor\":\"white\",\"linecolor\":\"white\",\"ticks\":\"\"},\"baxis\":{\"gridcolor\":\"white\",\"linecolor\":\"white\",\"ticks\":\"\"},\"bgcolor\":\"#E5ECF6\",\"caxis\":{\"gridcolor\":\"white\",\"linecolor\":\"white\",\"ticks\":\"\"}},\"title\":{\"x\":0.05},\"xaxis\":{\"automargin\":true,\"gridcolor\":\"white\",\"linecolor\":\"white\",\"ticks\":\"\",\"title\":{\"standoff\":15},\"zerolinecolor\":\"white\",\"zerolinewidth\":2},\"yaxis\":{\"automargin\":true,\"gridcolor\":\"white\",\"linecolor\":\"white\",\"ticks\":\"\",\"title\":{\"standoff\":15},\"zerolinecolor\":\"white\",\"zerolinewidth\":2}}},\"xaxis\":{\"anchor\":\"y\",\"domain\":[0.0,1.0],\"title\":{\"text\":\"estado\"}},\"yaxis\":{\"anchor\":\"x\",\"domain\":[0.0,1.0],\"title\":{\"text\":\"2018\"}},\"coloraxis\":{\"colorbar\":{\"title\":{\"text\":\"2018\"}},\"colorscale\":[[0.0,\"#0d0887\"],[0.1111111111111111,\"#46039f\"],[0.2222222222222222,\"#7201a8\"],[0.3333333333333333,\"#9c179e\"],[0.4444444444444444,\"#bd3786\"],[0.5555555555555556,\"#d8576b\"],[0.6666666666666666,\"#ed7953\"],[0.7777777777777778,\"#fb9f3a\"],[0.8888888888888888,\"#fdca26\"],[1.0,\"#f0f921\"]]},\"legend\":{\"tracegroupgap\":0},\"title\":{\"text\":\"Taxa de analfabetismo em 2018\"},\"barmode\":\"group\"},                        {\"responsive\": true}                    ).then(function(){\n",
              "                            \n",
              "var gd = document.getElementById('7b68ef07-ba79-4af4-849e-c7be724351af');\n",
              "var x = new MutationObserver(function (mutations, observer) {{\n",
              "        var display = window.getComputedStyle(gd).display;\n",
              "        if (!display || display === 'none') {{\n",
              "            console.log([gd, 'removed!']);\n",
              "            Plotly.purge(gd);\n",
              "            observer.disconnect();\n",
              "        }}\n",
              "}});\n",
              "\n",
              "// Listen for the removal of the full notebook cells\n",
              "var notebookContainer = gd.closest('#notebook-container');\n",
              "if (notebookContainer) {{\n",
              "    x.observe(notebookContainer, {childList: true});\n",
              "}}\n",
              "\n",
              "// Listen for the clearing of the current output cell\n",
              "var outputEl = gd.closest('.output');\n",
              "if (outputEl) {{\n",
              "    x.observe(outputEl, {childList: true});\n",
              "}}\n",
              "\n",
              "                        })                };                            </script>        </div>\n",
              "</body>\n",
              "</html>"
            ]
          },
          "metadata": {}
        }
      ],
      "source": [
        "to_plot_educacao = [v for v in list(graf_educacao.columns)]\n",
        "\n",
        "fig_graf_educacao_covid = px.bar(graf_educacao,\\\n",
        "                                 x=graf_educacao.estado,\\\n",
        "                                 y=to_plot_educacao,\\\n",
        "                                 barmode=\"stack\",\\\n",
        "                                 text_auto='.2s',\\\n",
        "                                 title=\"Casos novos de Covid e IDH\")\n",
        "             \n",
        "fig_graf_educacao_covid.show()\n",
        "\n",
        "\n",
        "graf_educacao_covid_cs = px.bar(graf_educacao,\\\n",
        "                                x='estado', \\\n",
        "                                y=\"total_casos_estados\",\\\n",
        "                                barmode=\"group\",\\\n",
        "                                color=\"total_casos_estados\",\\\n",
        "                                title=\"Casos novos de Covid\")\n",
        "graf_educacao_covid= px.bar(graf_educacao, \\\n",
        "                            x='estado',\\\n",
        "                            y=\"2018\",\\\n",
        "                            barmode=\"group\",\\\n",
        "                            color=\"2018\",\\\n",
        "                            title=\"Taxa de analfabetismo em 2018\")\n",
        "\n",
        "graf_educacao_covid_cs.show()\n",
        "graf_educacao_covid.show()"
      ]
    },
    {
      "cell_type": "markdown",
      "metadata": {
        "id": "UJP3uQX1jZ9I"
      },
      "source": [
        "####**Importação da tabela de IDHM**\n",
        "Foi importada da tabela de IDHM no Brasil referente ao ano de 2017, devido não encontrar dados mais rescentes."
      ]
    },
    {
      "cell_type": "code",
      "execution_count": null,
      "metadata": {
        "id": "-CvC7pNtkBTj",
        "colab": {
          "base_uri": "https://localhost:8080/"
        },
        "outputId": "ba77e802-a9df-4eb4-96ec-b4bc1f2c87d9"
      },
      "outputs": [
        {
          "output_type": "stream",
          "name": "stdout",
          "text": [
            "+------------------+------------+-----+------------------+----------+---------------------+-------------+------------------------+----------------+\n",
            "|  Territorialidade|Posição_IDHM| IDHM|Posição_IDHM_Renda|IDHM_Renda|Posição_IDHM_Educação|IDHM_Educação|Posição_IDHM_Longevidade|IDHM_Longevidade|\n",
            "+------------------+------------+-----+------------------+----------+---------------------+-------------+------------------------+----------------+\n",
            "|         São Paulo|           2|0.826|                 5|     0.854|                    1|        0.828|                       2|           0.796|\n",
            "|  Distrito Federal|           1| 0.85|                 1|      0.89|                    2|        0.804|                       1|           0.859|\n",
            "|    Santa Catarina|           3|0.808|                 3|     0.866|                    3|        0.779|                       4|           0.783|\n",
            "|           Roraima|          11|0.752|                22|     0.781|                    4|        0.771|                      12|           0.706|\n",
            "|            Paraná|           5|0.792|                 9|     0.843|                    5|        0.764|                       5|           0.771|\n",
            "|    Rio de Janeiro|           4|0.796|                 4|     0.858|                    6|        0.763|                       6|           0.769|\n",
            "|       Mato Grosso|           7|0.774|                10|     0.825|                    7|        0.758|                       9|           0.742|\n",
            "|      Minas Gerais|           6|0.787|                 2|     0.875|                    8|        0.753|                      10|           0.741|\n",
            "|             Goiás|           9|0.769|                11|     0.822|                    9|         0.74|                       8|           0.747|\n",
            "|          Amazonas|          15|0.733|                20|     0.786|                   10|        0.735|                      18|           0.682|\n",
            "|    Espírito Santo|           8|0.772|                 6|      0.85|                   11|        0.732|                      11|            0.74|\n",
            "| Rio Grande do Sul|           6|0.787|                 7|     0.849|                   12|        0.729|                       3|           0.787|\n",
            "|         Tocantins|          12|0.743|                16|     0.811|                   13|        0.727|                      14|           0.696|\n",
            "|             Ceará|          14|0.735|                14|     0.818|                   14|        0.717|                      21|           0.676|\n",
            "|Mato Grosso do Sul|          10|0.766|                 8|     0.847|                   15|         0.71|                       7|           0.748|\n",
            "|             Amapá|          13| 0.74|                13|      0.82|                   15|         0.71|                      15|           0.695|\n",
            "|          Rondônia|          18|0.725|                23|     0.776|                   16|        0.703|                      13|           0.699|\n",
            "|        Pernambuco|          17|0.727|                12|     0.821|                   17|        0.685|                      18|           0.682|\n",
            "|          Maranhão|          25|0.687|                25|     0.764|                   18|        0.682|                      26|           0.623|\n",
            "|              Acre|          20|0.719|                12|     0.821|                   18|        0.682|                      22|           0.664|\n",
            "+------------------+------------+-----+------------------+----------+---------------------+-------------+------------------------+----------------+\n",
            "only showing top 20 rows\n",
            "\n"
          ]
        }
      ],
      "source": [
        "idh = spark.read.format('csv')\\\n",
        "                .options(header='true',\\\n",
        "                         inferschema='true')\\\n",
        "           .load(f'{caminho_local}/idh.csv',header=True)\n",
        "idh.show()"
      ]
    },
    {
      "cell_type": "markdown",
      "metadata": {
        "id": "Y7t5Brs7ZWMJ"
      },
      "source": [
        "####**Alteração dos valores da coluna Territorialidade.**\n",
        "Foram alterados os valores da coluna Territorialidade no dataframe IDHM, de nome do estado para a sigla do estado para futura comparação com os dados de Covid."
      ]
    },
    {
      "cell_type": "code",
      "execution_count": null,
      "metadata": {
        "id": "aSXOH57kZVwT",
        "colab": {
          "base_uri": "https://localhost:8080/"
        },
        "outputId": "b2b0bf9d-3e91-402a-e553-42065110012f"
      },
      "outputs": [
        {
          "output_type": "stream",
          "name": "stdout",
          "text": [
            "+----------------+------------+-----+------------------+----------+---------------------+-------------+------------------------+----------------+\n",
            "|Territorialidade|Posição_IDHM| IDHM|Posição_IDHM_Renda|IDHM_Renda|Posição_IDHM_Educação|IDHM_Educação|Posição_IDHM_Longevidade|IDHM_Longevidade|\n",
            "+----------------+------------+-----+------------------+----------+---------------------+-------------+------------------------+----------------+\n",
            "|              SP|           2|0.826|                 5|     0.854|                    1|        0.828|                       2|           0.796|\n",
            "|              DF|           1| 0.85|                 1|      0.89|                    2|        0.804|                       1|           0.859|\n",
            "|              SC|           3|0.808|                 3|     0.866|                    3|        0.779|                       4|           0.783|\n",
            "|              RR|          11|0.752|                22|     0.781|                    4|        0.771|                      12|           0.706|\n",
            "|              PR|           5|0.792|                 9|     0.843|                    5|        0.764|                       5|           0.771|\n",
            "|              RJ|           4|0.796|                 4|     0.858|                    6|        0.763|                       6|           0.769|\n",
            "|              MT|           7|0.774|                10|     0.825|                    7|        0.758|                       9|           0.742|\n",
            "|              MG|           6|0.787|                 2|     0.875|                    8|        0.753|                      10|           0.741|\n",
            "|              GO|           9|0.769|                11|     0.822|                    9|         0.74|                       8|           0.747|\n",
            "|              AM|          15|0.733|                20|     0.786|                   10|        0.735|                      18|           0.682|\n",
            "|              ES|           8|0.772|                 6|      0.85|                   11|        0.732|                      11|            0.74|\n",
            "|              RS|           6|0.787|                 7|     0.849|                   12|        0.729|                       3|           0.787|\n",
            "|              TO|          12|0.743|                16|     0.811|                   13|        0.727|                      14|           0.696|\n",
            "|              CE|          14|0.735|                14|     0.818|                   14|        0.717|                      21|           0.676|\n",
            "|              MS|          10|0.766|                 8|     0.847|                   15|         0.71|                       7|           0.748|\n",
            "|              AP|          13| 0.74|                13|      0.82|                   15|         0.71|                      15|           0.695|\n",
            "|              RO|          18|0.725|                23|     0.776|                   16|        0.703|                      13|           0.699|\n",
            "|              PE|          17|0.727|                12|     0.821|                   17|        0.685|                      18|           0.682|\n",
            "|              MA|          25|0.687|                25|     0.764|                   18|        0.682|                      26|           0.623|\n",
            "|              AC|          20|0.719|                12|     0.821|                   18|        0.682|                      22|           0.664|\n",
            "|              RN|          16|0.731|                 7|     0.849|                   19|        0.677|                      19|            0.68|\n",
            "|              PB|          19|0.722|                17|     0.809|                   20|        0.671|                      16|           0.694|\n",
            "|              PI|          24|0.697|                24|     0.771|                   21|        0.666|                      23|            0.66|\n",
            "|              PA|          23|0.698|                19|     0.788|                   22|        0.661|                      24|           0.654|\n",
            "|              BA|          21|0.714|                15|     0.812|                   23|        0.654|                      17|           0.685|\n",
            "|              SE|          22|0.702|                18|     0.799|                   24|         0.64|                      20|           0.677|\n",
            "|              AL|          26|0.683|                21|     0.783|                   25|        0.636|                      25|           0.639|\n",
            "+----------------+------------+-----+------------------+----------+---------------------+-------------+------------------------+----------------+\n",
            "\n"
          ]
        }
      ],
      "source": [
        "idh = idh.withColumn('Territorialidade',\\\n",
        "                                   regexp_replace('Territorialidade', 'Rondônia', 'RO'))\\\n",
        "                       .withColumn('Territorialidade',\\\n",
        "                                   regexp_replace('Territorialidade', 'Acre', 'AC'))\\\n",
        "                       .withColumn('Territorialidade',\\\n",
        "                                   regexp_replace('Territorialidade', 'Amazonas', 'AM'))\\\n",
        "                       .withColumn('Territorialidade',\\\n",
        "                                   regexp_replace('Territorialidade', 'Roraima', 'RR'))\\\n",
        "                       .withColumn('Territorialidade',\\\n",
        "                                   regexp_replace('Territorialidade', 'Pará', 'PA'))\\\n",
        "                       .withColumn('Territorialidade',\\\n",
        "                                   regexp_replace('Territorialidade', 'Amapá', 'AP'))\\\n",
        "                       .withColumn('Territorialidade',\\\n",
        "                                   regexp_replace('Territorialidade', 'Tocantins', 'TO'))\\\n",
        "                       .withColumn('Territorialidade',\\\n",
        "                                   regexp_replace('Territorialidade', 'Maranhão', 'MA'))\\\n",
        "                       .withColumn('Territorialidade',\\\n",
        "                                   regexp_replace('Territorialidade', 'Piauí', 'PI'))\\\n",
        "                       .withColumn('Territorialidade',\\\n",
        "                                   regexp_replace('Territorialidade', 'Ceará', 'CE'))\\\n",
        "                       .withColumn('Territorialidade',\\\n",
        "                                   regexp_replace('Territorialidade', 'Rio Grande do Norte', 'RN'))\\\n",
        "                       .withColumn('Territorialidade',\\\n",
        "                                   regexp_replace('Territorialidade', 'Paraíba', 'PB'))\\\n",
        "                       .withColumn('Territorialidade',\\\n",
        "                                   regexp_replace('Territorialidade', 'Pernambuco', 'PE'))\\\n",
        "                       .withColumn('Territorialidade',\\\n",
        "                                   regexp_replace('Territorialidade', 'Alagoas', 'AL'))\\\n",
        "                       .withColumn('Territorialidade',\\\n",
        "                                   regexp_replace('Territorialidade', 'Sergipe', 'SE'))\\\n",
        "                       .withColumn('Territorialidade',\\\n",
        "                                   regexp_replace('Territorialidade', 'Bahia', 'BA'))\\\n",
        "                       .withColumn('Territorialidade',\\\n",
        "                                   regexp_replace('Territorialidade', 'Minas Gerais', 'MG'))\\\n",
        "                       .withColumn('Territorialidade',\\\n",
        "                                   regexp_replace('Territorialidade', 'Espírito Santo', 'ES'))\\\n",
        "                       .withColumn('Territorialidade',\\\n",
        "                                   regexp_replace('Territorialidade', 'Rio de Janeiro', 'RJ'))\\\n",
        "                       .withColumn('Territorialidade',\\\n",
        "                                   regexp_replace('Territorialidade', 'São Paulo', 'SP'))\\\n",
        "                       .withColumn('Territorialidade',\\\n",
        "                                   regexp_replace('Territorialidade', 'Paraná', 'PR'))\\\n",
        "                       .withColumn('Territorialidade',\\\n",
        "                                   regexp_replace('Territorialidade', 'Santa Catarina', 'SC'))\\\n",
        "                       .withColumn('Territorialidade',\\\n",
        "                                   regexp_replace('Territorialidade', 'Rio Grande do Sul', 'RS' ))\\\n",
        "                       .withColumn('Territorialidade',\\\n",
        "                                   regexp_replace('Territorialidade', 'Mato Grosso do Sul', 'MS'))\\\n",
        "                       .withColumn('Territorialidade',\\\n",
        "                                   regexp_replace('Territorialidade', 'Mato Grosso', 'MT'))\\\n",
        "                       .withColumn('Territorialidade',\\\n",
        "                                   regexp_replace('Territorialidade', 'Goiás', 'GO'))\\\n",
        "                       .withColumn('Territorialidade',\\\n",
        "                                   regexp_replace('Territorialidade', 'Distrito Federal', 'DF'))\\\n",
        "\n",
        "idh.show(27)"
      ]
    },
    {
      "cell_type": "markdown",
      "metadata": {
        "id": "-fYbNldYkw9F"
      },
      "source": [
        "####**Separação do dataframe de acordo com o IDHM.**\n",
        "Foi feita a separaçao do dataframe de acordo com o IDHM considerado, para melhor visualização dos dados."
      ]
    },
    {
      "cell_type": "code",
      "execution_count": null,
      "metadata": {
        "id": "KM2SYrqplSL5",
        "colab": {
          "base_uri": "https://localhost:8080/"
        },
        "outputId": "52f14265-783e-4486-dff7-f12a29415f19"
      },
      "outputs": [
        {
          "output_type": "stream",
          "name": "stdout",
          "text": [
            "+----------------+------------+-----+\n",
            "|Territorialidade|Posição_IDHM| IDHM|\n",
            "+----------------+------------+-----+\n",
            "|              AL|          26|0.683|\n",
            "|              MA|          25|0.687|\n",
            "|              PI|          24|0.697|\n",
            "|              PA|          23|0.698|\n",
            "|              SE|          22|0.702|\n",
            "|              BA|          21|0.714|\n",
            "|              AC|          20|0.719|\n",
            "|              PB|          19|0.722|\n",
            "|              RO|          18|0.725|\n",
            "|              PE|          17|0.727|\n",
            "|              RN|          16|0.731|\n",
            "|              AM|          15|0.733|\n",
            "|              CE|          14|0.735|\n",
            "|              AP|          13| 0.74|\n",
            "|              TO|          12|0.743|\n",
            "|              RR|          11|0.752|\n",
            "|              MS|          10|0.766|\n",
            "|              GO|           9|0.769|\n",
            "|              ES|           8|0.772|\n",
            "|              MT|           7|0.774|\n",
            "|              MG|           6|0.787|\n",
            "|              RS|           6|0.787|\n",
            "|              PR|           5|0.792|\n",
            "|              RJ|           4|0.796|\n",
            "|              SC|           3|0.808|\n",
            "|              SP|           2|0.826|\n",
            "|              DF|           1| 0.85|\n",
            "+----------------+------------+-----+\n",
            "\n"
          ]
        }
      ],
      "source": [
        "idhm = idh.select(\"Territorialidade\", \"Posição_IDHM\", \"IDHM\")\\\n",
        "          .orderBy(col(\"IDHM\").asc())\n",
        "\n",
        "idhm.show(27)"
      ]
    },
    {
      "cell_type": "code",
      "execution_count": null,
      "metadata": {
        "id": "4maoB6aamSl5",
        "colab": {
          "base_uri": "https://localhost:8080/"
        },
        "outputId": "4c391348-a784-4dda-8ef4-546171bcf1a5"
      },
      "outputs": [
        {
          "output_type": "stream",
          "name": "stdout",
          "text": [
            "+----------------+------------------+----------+\n",
            "|Territorialidade|Posição_IDHM_Renda|IDHM_Renda|\n",
            "+----------------+------------------+----------+\n",
            "|              MA|                25|     0.764|\n",
            "|              PI|                24|     0.771|\n",
            "|              RO|                23|     0.776|\n",
            "|              RR|                22|     0.781|\n",
            "|              AL|                21|     0.783|\n",
            "|              AM|                20|     0.786|\n",
            "|              PA|                19|     0.788|\n",
            "|              SE|                18|     0.799|\n",
            "|              PB|                17|     0.809|\n",
            "|              TO|                16|     0.811|\n",
            "|              BA|                15|     0.812|\n",
            "|              CE|                14|     0.818|\n",
            "|              AP|                13|      0.82|\n",
            "|              AC|                12|     0.821|\n",
            "|              PE|                12|     0.821|\n",
            "|              GO|                11|     0.822|\n",
            "|              MT|                10|     0.825|\n",
            "|              PR|                 9|     0.843|\n",
            "|              MS|                 8|     0.847|\n",
            "|              RS|                 7|     0.849|\n",
            "|              RN|                 7|     0.849|\n",
            "|              ES|                 6|      0.85|\n",
            "|              SP|                 5|     0.854|\n",
            "|              RJ|                 4|     0.858|\n",
            "|              SC|                 3|     0.866|\n",
            "|              MG|                 2|     0.875|\n",
            "|              DF|                 1|      0.89|\n",
            "+----------------+------------------+----------+\n",
            "\n"
          ]
        }
      ],
      "source": [
        "idhm_renda = idh.select(\"Territorialidade\", \"Posição_IDHM_Renda\", \"IDHM_Renda\")\\\n",
        "                .orderBy(col(\"IDHM_Renda\").asc())\n",
        "\n",
        "idhm_renda.show(27)"
      ]
    },
    {
      "cell_type": "code",
      "execution_count": null,
      "metadata": {
        "id": "aEbQcPWpmSxI",
        "colab": {
          "base_uri": "https://localhost:8080/"
        },
        "outputId": "943f7c0a-2a22-4965-8abe-7f7d5152774f"
      },
      "outputs": [
        {
          "output_type": "stream",
          "name": "stdout",
          "text": [
            "+----------------+---------------------+-------------+\n",
            "|Territorialidade|Posição_IDHM_Educação|IDHM_Educação|\n",
            "+----------------+---------------------+-------------+\n",
            "|              AL|                   25|        0.636|\n",
            "|              SE|                   24|         0.64|\n",
            "|              BA|                   23|        0.654|\n",
            "|              PA|                   22|        0.661|\n",
            "|              PI|                   21|        0.666|\n",
            "|              PB|                   20|        0.671|\n",
            "|              RN|                   19|        0.677|\n",
            "|              MA|                   18|        0.682|\n",
            "|              AC|                   18|        0.682|\n",
            "|              PE|                   17|        0.685|\n",
            "|              RO|                   16|        0.703|\n",
            "|              MS|                   15|         0.71|\n",
            "|              AP|                   15|         0.71|\n",
            "|              CE|                   14|        0.717|\n",
            "|              TO|                   13|        0.727|\n",
            "|              RS|                   12|        0.729|\n",
            "|              ES|                   11|        0.732|\n",
            "|              AM|                   10|        0.735|\n",
            "|              GO|                    9|         0.74|\n",
            "|              MG|                    8|        0.753|\n",
            "|              MT|                    7|        0.758|\n",
            "|              RJ|                    6|        0.763|\n",
            "|              PR|                    5|        0.764|\n",
            "|              RR|                    4|        0.771|\n",
            "|              SC|                    3|        0.779|\n",
            "|              DF|                    2|        0.804|\n",
            "|              SP|                    1|        0.828|\n",
            "+----------------+---------------------+-------------+\n",
            "\n"
          ]
        }
      ],
      "source": [
        "idhm_educacao = idh.select(\"Territorialidade\", \"Posição_IDHM_Educação\", \"IDHM_Educação\")\\\n",
        "                   .orderBy(col(\"IDHM_Educação\").asc())\n",
        "\n",
        "idhm_educacao.show(27)"
      ]
    },
    {
      "cell_type": "code",
      "execution_count": null,
      "metadata": {
        "id": "IS1EPJZFnZR4",
        "colab": {
          "base_uri": "https://localhost:8080/"
        },
        "outputId": "2a0fde01-5e60-4af4-92db-7ee4cddfba2a"
      },
      "outputs": [
        {
          "output_type": "stream",
          "name": "stdout",
          "text": [
            "+----------------+------------------------+----------------+\n",
            "|Territorialidade|Posição_IDHM_Longevidade|IDHM_Longevidade|\n",
            "+----------------+------------------------+----------------+\n",
            "|              MA|                      26|           0.623|\n",
            "|              AL|                      25|           0.639|\n",
            "|              PA|                      24|           0.654|\n",
            "|              PI|                      23|            0.66|\n",
            "|              AC|                      22|           0.664|\n",
            "|              CE|                      21|           0.676|\n",
            "|              SE|                      20|           0.677|\n",
            "|              RN|                      19|            0.68|\n",
            "|              AM|                      18|           0.682|\n",
            "|              PE|                      18|           0.682|\n",
            "|              BA|                      17|           0.685|\n",
            "|              PB|                      16|           0.694|\n",
            "|              AP|                      15|           0.695|\n",
            "|              TO|                      14|           0.696|\n",
            "|              RO|                      13|           0.699|\n",
            "|              RR|                      12|           0.706|\n",
            "|              ES|                      11|            0.74|\n",
            "|              MG|                      10|           0.741|\n",
            "|              MT|                       9|           0.742|\n",
            "|              GO|                       8|           0.747|\n",
            "|              MS|                       7|           0.748|\n",
            "|              RJ|                       6|           0.769|\n",
            "|              PR|                       5|           0.771|\n",
            "|              SC|                       4|           0.783|\n",
            "|              RS|                       3|           0.787|\n",
            "|              SP|                       2|           0.796|\n",
            "|              DF|                       1|           0.859|\n",
            "+----------------+------------------------+----------------+\n",
            "\n"
          ]
        }
      ],
      "source": [
        "idhm_longevidade = idh.select(\"Territorialidade\", \"Posição_IDHM_Longevidade\", \"IDHM_Longevidade\")\\\n",
        "                      .orderBy(col(\"IDHM_Longevidade\").asc())\n",
        "\n",
        "idhm_longevidade.show(27)"
      ]
    },
    {
      "cell_type": "markdown",
      "metadata": {
        "id": "e2UmSZ-XgTP1"
      },
      "source": [
        "#### **Demonstração dos dados em gráfico.**\n",
        "\n"
      ]
    },
    {
      "cell_type": "code",
      "execution_count": null,
      "metadata": {
        "id": "F92Q2p5xceHp"
      },
      "outputs": [],
      "source": [
        "graf_idh = estado_total_cs.join(idh, estado_total_cs.estado == idh.Territorialidade, \"inner\")\\\n",
        "                          .drop(\"Territorialidade\")\n",
        "graf_idh = graf_idh.toPandas()"
      ]
    },
    {
      "cell_type": "code",
      "execution_count": null,
      "metadata": {
        "id": "UIW1aQ5vd3bw",
        "colab": {
          "base_uri": "https://localhost:8080/",
          "height": 1000
        },
        "outputId": "2f821172-91e4-4663-b1a5-29227943e307"
      },
      "outputs": [
        {
          "output_type": "display_data",
          "data": {
            "text/html": [
              "<html>\n",
              "<head><meta charset=\"utf-8\" /></head>\n",
              "<body>\n",
              "    <div>            <script src=\"https://cdnjs.cloudflare.com/ajax/libs/mathjax/2.7.5/MathJax.js?config=TeX-AMS-MML_SVG\"></script><script type=\"text/javascript\">if (window.MathJax) {MathJax.Hub.Config({SVG: {font: \"STIX-Web\"}});}</script>                <script type=\"text/javascript\">window.PlotlyConfig = {MathJaxConfig: 'local'};</script>\n",
              "        <script src=\"https://cdn.plot.ly/plotly-2.8.3.min.js\"></script>                <div id=\"25d8fec4-c593-428c-97d8-89af0eab8e5e\" class=\"plotly-graph-div\" style=\"height:525px; width:100%;\"></div>            <script type=\"text/javascript\">                                    window.PLOTLYENV=window.PLOTLYENV || {};                                    if (document.getElementById(\"25d8fec4-c593-428c-97d8-89af0eab8e5e\")) {                    Plotly.newPlot(                        \"25d8fec4-c593-428c-97d8-89af0eab8e5e\",                        [{\"alignmentgroup\":\"True\",\"hovertemplate\":\"variable=total_casos_estados<br>estado=%{x}<br>value=%{y}<extra></extra>\",\"legendgroup\":\"total_casos_estados\",\"marker\":{\"color\":\"#636efa\",\"pattern\":{\"shape\":\"\"}},\"name\":\"total_casos_estados\",\"offsetgroup\":\"total_casos_estados\",\"orientation\":\"v\",\"showlegend\":true,\"textposition\":\"auto\",\"texttemplate\":\"%{y:.2s}\",\"x\":[\"SC\",\"RO\",\"PI\",\"AM\",\"RR\",\"GO\",\"TO\",\"MT\",\"SP\",\"PB\",\"ES\",\"RS\",\"MS\",\"AL\",\"MG\",\"PA\",\"BA\",\"SE\",\"PE\",\"CE\",\"RN\",\"RJ\",\"MA\",\"AC\",\"DF\",\"PR\",\"AP\"],\"xaxis\":\"x\",\"y\":[2001053.0,499023.0,457200.0,724845.0,216322.0,1814554.0,373809.0,887541.0,6747172.0,761101.0,1348639.0,2848019.0,609756.0,386234.0,4071347.0,1007846.0,1917392.0,409888.0,1184349.0,1601531.0,618928.0,2813826.0,604075.0,174361.0,963369.0,2877017.0,218234.0],\"yaxis\":\"y\",\"type\":\"bar\"},{\"alignmentgroup\":\"True\",\"hovertemplate\":\"variable=Posi\\u00e7\\u00e3o_IDHM<br>estado=%{x}<br>value=%{y}<extra></extra>\",\"legendgroup\":\"Posi\\u00e7\\u00e3o_IDHM\",\"marker\":{\"color\":\"#EF553B\",\"pattern\":{\"shape\":\"\"}},\"name\":\"Posi\\u00e7\\u00e3o_IDHM\",\"offsetgroup\":\"Posi\\u00e7\\u00e3o_IDHM\",\"orientation\":\"v\",\"showlegend\":true,\"textposition\":\"auto\",\"texttemplate\":\"%{y:.2s}\",\"x\":[\"SC\",\"RO\",\"PI\",\"AM\",\"RR\",\"GO\",\"TO\",\"MT\",\"SP\",\"PB\",\"ES\",\"RS\",\"MS\",\"AL\",\"MG\",\"PA\",\"BA\",\"SE\",\"PE\",\"CE\",\"RN\",\"RJ\",\"MA\",\"AC\",\"DF\",\"PR\",\"AP\"],\"xaxis\":\"x\",\"y\":[3.0,18.0,24.0,15.0,11.0,9.0,12.0,7.0,2.0,19.0,8.0,6.0,10.0,26.0,6.0,23.0,21.0,22.0,17.0,14.0,16.0,4.0,25.0,20.0,1.0,5.0,13.0],\"yaxis\":\"y\",\"type\":\"bar\"},{\"alignmentgroup\":\"True\",\"hovertemplate\":\"variable=IDHM<br>estado=%{x}<br>value=%{y}<extra></extra>\",\"legendgroup\":\"IDHM\",\"marker\":{\"color\":\"#00cc96\",\"pattern\":{\"shape\":\"\"}},\"name\":\"IDHM\",\"offsetgroup\":\"IDHM\",\"orientation\":\"v\",\"showlegend\":true,\"textposition\":\"auto\",\"texttemplate\":\"%{y:.2s}\",\"x\":[\"SC\",\"RO\",\"PI\",\"AM\",\"RR\",\"GO\",\"TO\",\"MT\",\"SP\",\"PB\",\"ES\",\"RS\",\"MS\",\"AL\",\"MG\",\"PA\",\"BA\",\"SE\",\"PE\",\"CE\",\"RN\",\"RJ\",\"MA\",\"AC\",\"DF\",\"PR\",\"AP\"],\"xaxis\":\"x\",\"y\":[0.808,0.725,0.697,0.733,0.752,0.769,0.743,0.774,0.826,0.722,0.772,0.787,0.766,0.683,0.787,0.698,0.714,0.702,0.727,0.735,0.731,0.796,0.687,0.719,0.85,0.792,0.74],\"yaxis\":\"y\",\"type\":\"bar\"},{\"alignmentgroup\":\"True\",\"hovertemplate\":\"variable=Posi\\u00e7\\u00e3o_IDHM_Renda<br>estado=%{x}<br>value=%{y}<extra></extra>\",\"legendgroup\":\"Posi\\u00e7\\u00e3o_IDHM_Renda\",\"marker\":{\"color\":\"#ab63fa\",\"pattern\":{\"shape\":\"\"}},\"name\":\"Posi\\u00e7\\u00e3o_IDHM_Renda\",\"offsetgroup\":\"Posi\\u00e7\\u00e3o_IDHM_Renda\",\"orientation\":\"v\",\"showlegend\":true,\"textposition\":\"auto\",\"texttemplate\":\"%{y:.2s}\",\"x\":[\"SC\",\"RO\",\"PI\",\"AM\",\"RR\",\"GO\",\"TO\",\"MT\",\"SP\",\"PB\",\"ES\",\"RS\",\"MS\",\"AL\",\"MG\",\"PA\",\"BA\",\"SE\",\"PE\",\"CE\",\"RN\",\"RJ\",\"MA\",\"AC\",\"DF\",\"PR\",\"AP\"],\"xaxis\":\"x\",\"y\":[3.0,23.0,24.0,20.0,22.0,11.0,16.0,10.0,5.0,17.0,6.0,7.0,8.0,21.0,2.0,19.0,15.0,18.0,12.0,14.0,7.0,4.0,25.0,12.0,1.0,9.0,13.0],\"yaxis\":\"y\",\"type\":\"bar\"},{\"alignmentgroup\":\"True\",\"hovertemplate\":\"variable=IDHM_Renda<br>estado=%{x}<br>value=%{y}<extra></extra>\",\"legendgroup\":\"IDHM_Renda\",\"marker\":{\"color\":\"#FFA15A\",\"pattern\":{\"shape\":\"\"}},\"name\":\"IDHM_Renda\",\"offsetgroup\":\"IDHM_Renda\",\"orientation\":\"v\",\"showlegend\":true,\"textposition\":\"auto\",\"texttemplate\":\"%{y:.2s}\",\"x\":[\"SC\",\"RO\",\"PI\",\"AM\",\"RR\",\"GO\",\"TO\",\"MT\",\"SP\",\"PB\",\"ES\",\"RS\",\"MS\",\"AL\",\"MG\",\"PA\",\"BA\",\"SE\",\"PE\",\"CE\",\"RN\",\"RJ\",\"MA\",\"AC\",\"DF\",\"PR\",\"AP\"],\"xaxis\":\"x\",\"y\":[0.866,0.776,0.771,0.786,0.781,0.822,0.811,0.825,0.854,0.809,0.85,0.849,0.847,0.783,0.875,0.788,0.812,0.799,0.821,0.818,0.849,0.858,0.764,0.821,0.89,0.843,0.82],\"yaxis\":\"y\",\"type\":\"bar\"},{\"alignmentgroup\":\"True\",\"hovertemplate\":\"variable=Posi\\u00e7\\u00e3o_IDHM_Educa\\u00e7\\u00e3o<br>estado=%{x}<br>value=%{y}<extra></extra>\",\"legendgroup\":\"Posi\\u00e7\\u00e3o_IDHM_Educa\\u00e7\\u00e3o\",\"marker\":{\"color\":\"#19d3f3\",\"pattern\":{\"shape\":\"\"}},\"name\":\"Posi\\u00e7\\u00e3o_IDHM_Educa\\u00e7\\u00e3o\",\"offsetgroup\":\"Posi\\u00e7\\u00e3o_IDHM_Educa\\u00e7\\u00e3o\",\"orientation\":\"v\",\"showlegend\":true,\"textposition\":\"auto\",\"texttemplate\":\"%{y:.2s}\",\"x\":[\"SC\",\"RO\",\"PI\",\"AM\",\"RR\",\"GO\",\"TO\",\"MT\",\"SP\",\"PB\",\"ES\",\"RS\",\"MS\",\"AL\",\"MG\",\"PA\",\"BA\",\"SE\",\"PE\",\"CE\",\"RN\",\"RJ\",\"MA\",\"AC\",\"DF\",\"PR\",\"AP\"],\"xaxis\":\"x\",\"y\":[3.0,16.0,21.0,10.0,4.0,9.0,13.0,7.0,1.0,20.0,11.0,12.0,15.0,25.0,8.0,22.0,23.0,24.0,17.0,14.0,19.0,6.0,18.0,18.0,2.0,5.0,15.0],\"yaxis\":\"y\",\"type\":\"bar\"},{\"alignmentgroup\":\"True\",\"hovertemplate\":\"variable=IDHM_Educa\\u00e7\\u00e3o<br>estado=%{x}<br>value=%{y}<extra></extra>\",\"legendgroup\":\"IDHM_Educa\\u00e7\\u00e3o\",\"marker\":{\"color\":\"#FF6692\",\"pattern\":{\"shape\":\"\"}},\"name\":\"IDHM_Educa\\u00e7\\u00e3o\",\"offsetgroup\":\"IDHM_Educa\\u00e7\\u00e3o\",\"orientation\":\"v\",\"showlegend\":true,\"textposition\":\"auto\",\"texttemplate\":\"%{y:.2s}\",\"x\":[\"SC\",\"RO\",\"PI\",\"AM\",\"RR\",\"GO\",\"TO\",\"MT\",\"SP\",\"PB\",\"ES\",\"RS\",\"MS\",\"AL\",\"MG\",\"PA\",\"BA\",\"SE\",\"PE\",\"CE\",\"RN\",\"RJ\",\"MA\",\"AC\",\"DF\",\"PR\",\"AP\"],\"xaxis\":\"x\",\"y\":[0.779,0.703,0.666,0.735,0.771,0.74,0.727,0.758,0.828,0.671,0.732,0.729,0.71,0.636,0.753,0.661,0.654,0.64,0.685,0.717,0.677,0.763,0.682,0.682,0.804,0.764,0.71],\"yaxis\":\"y\",\"type\":\"bar\"},{\"alignmentgroup\":\"True\",\"hovertemplate\":\"variable=Posi\\u00e7\\u00e3o_IDHM_Longevidade<br>estado=%{x}<br>value=%{y}<extra></extra>\",\"legendgroup\":\"Posi\\u00e7\\u00e3o_IDHM_Longevidade\",\"marker\":{\"color\":\"#B6E880\",\"pattern\":{\"shape\":\"\"}},\"name\":\"Posi\\u00e7\\u00e3o_IDHM_Longevidade\",\"offsetgroup\":\"Posi\\u00e7\\u00e3o_IDHM_Longevidade\",\"orientation\":\"v\",\"showlegend\":true,\"textposition\":\"auto\",\"texttemplate\":\"%{y:.2s}\",\"x\":[\"SC\",\"RO\",\"PI\",\"AM\",\"RR\",\"GO\",\"TO\",\"MT\",\"SP\",\"PB\",\"ES\",\"RS\",\"MS\",\"AL\",\"MG\",\"PA\",\"BA\",\"SE\",\"PE\",\"CE\",\"RN\",\"RJ\",\"MA\",\"AC\",\"DF\",\"PR\",\"AP\"],\"xaxis\":\"x\",\"y\":[4.0,13.0,23.0,18.0,12.0,8.0,14.0,9.0,2.0,16.0,11.0,3.0,7.0,25.0,10.0,24.0,17.0,20.0,18.0,21.0,19.0,6.0,26.0,22.0,1.0,5.0,15.0],\"yaxis\":\"y\",\"type\":\"bar\"},{\"alignmentgroup\":\"True\",\"hovertemplate\":\"variable=IDHM_Longevidade<br>estado=%{x}<br>value=%{y}<extra></extra>\",\"legendgroup\":\"IDHM_Longevidade\",\"marker\":{\"color\":\"#FF97FF\",\"pattern\":{\"shape\":\"\"}},\"name\":\"IDHM_Longevidade\",\"offsetgroup\":\"IDHM_Longevidade\",\"orientation\":\"v\",\"showlegend\":true,\"textposition\":\"auto\",\"texttemplate\":\"%{y:.2s}\",\"x\":[\"SC\",\"RO\",\"PI\",\"AM\",\"RR\",\"GO\",\"TO\",\"MT\",\"SP\",\"PB\",\"ES\",\"RS\",\"MS\",\"AL\",\"MG\",\"PA\",\"BA\",\"SE\",\"PE\",\"CE\",\"RN\",\"RJ\",\"MA\",\"AC\",\"DF\",\"PR\",\"AP\"],\"xaxis\":\"x\",\"y\":[0.783,0.699,0.66,0.682,0.706,0.747,0.696,0.742,0.796,0.694,0.74,0.787,0.748,0.639,0.741,0.654,0.685,0.677,0.682,0.676,0.68,0.769,0.623,0.664,0.859,0.771,0.695],\"yaxis\":\"y\",\"type\":\"bar\"}],                        {\"template\":{\"data\":{\"bar\":[{\"error_x\":{\"color\":\"#2a3f5f\"},\"error_y\":{\"color\":\"#2a3f5f\"},\"marker\":{\"line\":{\"color\":\"#E5ECF6\",\"width\":0.5},\"pattern\":{\"fillmode\":\"overlay\",\"size\":10,\"solidity\":0.2}},\"type\":\"bar\"}],\"barpolar\":[{\"marker\":{\"line\":{\"color\":\"#E5ECF6\",\"width\":0.5},\"pattern\":{\"fillmode\":\"overlay\",\"size\":10,\"solidity\":0.2}},\"type\":\"barpolar\"}],\"carpet\":[{\"aaxis\":{\"endlinecolor\":\"#2a3f5f\",\"gridcolor\":\"white\",\"linecolor\":\"white\",\"minorgridcolor\":\"white\",\"startlinecolor\":\"#2a3f5f\"},\"baxis\":{\"endlinecolor\":\"#2a3f5f\",\"gridcolor\":\"white\",\"linecolor\":\"white\",\"minorgridcolor\":\"white\",\"startlinecolor\":\"#2a3f5f\"},\"type\":\"carpet\"}],\"choropleth\":[{\"colorbar\":{\"outlinewidth\":0,\"ticks\":\"\"},\"type\":\"choropleth\"}],\"contour\":[{\"colorbar\":{\"outlinewidth\":0,\"ticks\":\"\"},\"colorscale\":[[0.0,\"#0d0887\"],[0.1111111111111111,\"#46039f\"],[0.2222222222222222,\"#7201a8\"],[0.3333333333333333,\"#9c179e\"],[0.4444444444444444,\"#bd3786\"],[0.5555555555555556,\"#d8576b\"],[0.6666666666666666,\"#ed7953\"],[0.7777777777777778,\"#fb9f3a\"],[0.8888888888888888,\"#fdca26\"],[1.0,\"#f0f921\"]],\"type\":\"contour\"}],\"contourcarpet\":[{\"colorbar\":{\"outlinewidth\":0,\"ticks\":\"\"},\"type\":\"contourcarpet\"}],\"heatmap\":[{\"colorbar\":{\"outlinewidth\":0,\"ticks\":\"\"},\"colorscale\":[[0.0,\"#0d0887\"],[0.1111111111111111,\"#46039f\"],[0.2222222222222222,\"#7201a8\"],[0.3333333333333333,\"#9c179e\"],[0.4444444444444444,\"#bd3786\"],[0.5555555555555556,\"#d8576b\"],[0.6666666666666666,\"#ed7953\"],[0.7777777777777778,\"#fb9f3a\"],[0.8888888888888888,\"#fdca26\"],[1.0,\"#f0f921\"]],\"type\":\"heatmap\"}],\"heatmapgl\":[{\"colorbar\":{\"outlinewidth\":0,\"ticks\":\"\"},\"colorscale\":[[0.0,\"#0d0887\"],[0.1111111111111111,\"#46039f\"],[0.2222222222222222,\"#7201a8\"],[0.3333333333333333,\"#9c179e\"],[0.4444444444444444,\"#bd3786\"],[0.5555555555555556,\"#d8576b\"],[0.6666666666666666,\"#ed7953\"],[0.7777777777777778,\"#fb9f3a\"],[0.8888888888888888,\"#fdca26\"],[1.0,\"#f0f921\"]],\"type\":\"heatmapgl\"}],\"histogram\":[{\"marker\":{\"pattern\":{\"fillmode\":\"overlay\",\"size\":10,\"solidity\":0.2}},\"type\":\"histogram\"}],\"histogram2d\":[{\"colorbar\":{\"outlinewidth\":0,\"ticks\":\"\"},\"colorscale\":[[0.0,\"#0d0887\"],[0.1111111111111111,\"#46039f\"],[0.2222222222222222,\"#7201a8\"],[0.3333333333333333,\"#9c179e\"],[0.4444444444444444,\"#bd3786\"],[0.5555555555555556,\"#d8576b\"],[0.6666666666666666,\"#ed7953\"],[0.7777777777777778,\"#fb9f3a\"],[0.8888888888888888,\"#fdca26\"],[1.0,\"#f0f921\"]],\"type\":\"histogram2d\"}],\"histogram2dcontour\":[{\"colorbar\":{\"outlinewidth\":0,\"ticks\":\"\"},\"colorscale\":[[0.0,\"#0d0887\"],[0.1111111111111111,\"#46039f\"],[0.2222222222222222,\"#7201a8\"],[0.3333333333333333,\"#9c179e\"],[0.4444444444444444,\"#bd3786\"],[0.5555555555555556,\"#d8576b\"],[0.6666666666666666,\"#ed7953\"],[0.7777777777777778,\"#fb9f3a\"],[0.8888888888888888,\"#fdca26\"],[1.0,\"#f0f921\"]],\"type\":\"histogram2dcontour\"}],\"mesh3d\":[{\"colorbar\":{\"outlinewidth\":0,\"ticks\":\"\"},\"type\":\"mesh3d\"}],\"parcoords\":[{\"line\":{\"colorbar\":{\"outlinewidth\":0,\"ticks\":\"\"}},\"type\":\"parcoords\"}],\"pie\":[{\"automargin\":true,\"type\":\"pie\"}],\"scatter\":[{\"marker\":{\"colorbar\":{\"outlinewidth\":0,\"ticks\":\"\"}},\"type\":\"scatter\"}],\"scatter3d\":[{\"line\":{\"colorbar\":{\"outlinewidth\":0,\"ticks\":\"\"}},\"marker\":{\"colorbar\":{\"outlinewidth\":0,\"ticks\":\"\"}},\"type\":\"scatter3d\"}],\"scattercarpet\":[{\"marker\":{\"colorbar\":{\"outlinewidth\":0,\"ticks\":\"\"}},\"type\":\"scattercarpet\"}],\"scattergeo\":[{\"marker\":{\"colorbar\":{\"outlinewidth\":0,\"ticks\":\"\"}},\"type\":\"scattergeo\"}],\"scattergl\":[{\"marker\":{\"colorbar\":{\"outlinewidth\":0,\"ticks\":\"\"}},\"type\":\"scattergl\"}],\"scattermapbox\":[{\"marker\":{\"colorbar\":{\"outlinewidth\":0,\"ticks\":\"\"}},\"type\":\"scattermapbox\"}],\"scatterpolar\":[{\"marker\":{\"colorbar\":{\"outlinewidth\":0,\"ticks\":\"\"}},\"type\":\"scatterpolar\"}],\"scatterpolargl\":[{\"marker\":{\"colorbar\":{\"outlinewidth\":0,\"ticks\":\"\"}},\"type\":\"scatterpolargl\"}],\"scatterternary\":[{\"marker\":{\"colorbar\":{\"outlinewidth\":0,\"ticks\":\"\"}},\"type\":\"scatterternary\"}],\"surface\":[{\"colorbar\":{\"outlinewidth\":0,\"ticks\":\"\"},\"colorscale\":[[0.0,\"#0d0887\"],[0.1111111111111111,\"#46039f\"],[0.2222222222222222,\"#7201a8\"],[0.3333333333333333,\"#9c179e\"],[0.4444444444444444,\"#bd3786\"],[0.5555555555555556,\"#d8576b\"],[0.6666666666666666,\"#ed7953\"],[0.7777777777777778,\"#fb9f3a\"],[0.8888888888888888,\"#fdca26\"],[1.0,\"#f0f921\"]],\"type\":\"surface\"}],\"table\":[{\"cells\":{\"fill\":{\"color\":\"#EBF0F8\"},\"line\":{\"color\":\"white\"}},\"header\":{\"fill\":{\"color\":\"#C8D4E3\"},\"line\":{\"color\":\"white\"}},\"type\":\"table\"}]},\"layout\":{\"annotationdefaults\":{\"arrowcolor\":\"#2a3f5f\",\"arrowhead\":0,\"arrowwidth\":1},\"autotypenumbers\":\"strict\",\"coloraxis\":{\"colorbar\":{\"outlinewidth\":0,\"ticks\":\"\"}},\"colorscale\":{\"diverging\":[[0,\"#8e0152\"],[0.1,\"#c51b7d\"],[0.2,\"#de77ae\"],[0.3,\"#f1b6da\"],[0.4,\"#fde0ef\"],[0.5,\"#f7f7f7\"],[0.6,\"#e6f5d0\"],[0.7,\"#b8e186\"],[0.8,\"#7fbc41\"],[0.9,\"#4d9221\"],[1,\"#276419\"]],\"sequential\":[[0.0,\"#0d0887\"],[0.1111111111111111,\"#46039f\"],[0.2222222222222222,\"#7201a8\"],[0.3333333333333333,\"#9c179e\"],[0.4444444444444444,\"#bd3786\"],[0.5555555555555556,\"#d8576b\"],[0.6666666666666666,\"#ed7953\"],[0.7777777777777778,\"#fb9f3a\"],[0.8888888888888888,\"#fdca26\"],[1.0,\"#f0f921\"]],\"sequentialminus\":[[0.0,\"#0d0887\"],[0.1111111111111111,\"#46039f\"],[0.2222222222222222,\"#7201a8\"],[0.3333333333333333,\"#9c179e\"],[0.4444444444444444,\"#bd3786\"],[0.5555555555555556,\"#d8576b\"],[0.6666666666666666,\"#ed7953\"],[0.7777777777777778,\"#fb9f3a\"],[0.8888888888888888,\"#fdca26\"],[1.0,\"#f0f921\"]]},\"colorway\":[\"#636efa\",\"#EF553B\",\"#00cc96\",\"#ab63fa\",\"#FFA15A\",\"#19d3f3\",\"#FF6692\",\"#B6E880\",\"#FF97FF\",\"#FECB52\"],\"font\":{\"color\":\"#2a3f5f\"},\"geo\":{\"bgcolor\":\"white\",\"lakecolor\":\"white\",\"landcolor\":\"#E5ECF6\",\"showlakes\":true,\"showland\":true,\"subunitcolor\":\"white\"},\"hoverlabel\":{\"align\":\"left\"},\"hovermode\":\"closest\",\"mapbox\":{\"style\":\"light\"},\"paper_bgcolor\":\"white\",\"plot_bgcolor\":\"#E5ECF6\",\"polar\":{\"angularaxis\":{\"gridcolor\":\"white\",\"linecolor\":\"white\",\"ticks\":\"\"},\"bgcolor\":\"#E5ECF6\",\"radialaxis\":{\"gridcolor\":\"white\",\"linecolor\":\"white\",\"ticks\":\"\"}},\"scene\":{\"xaxis\":{\"backgroundcolor\":\"#E5ECF6\",\"gridcolor\":\"white\",\"gridwidth\":2,\"linecolor\":\"white\",\"showbackground\":true,\"ticks\":\"\",\"zerolinecolor\":\"white\"},\"yaxis\":{\"backgroundcolor\":\"#E5ECF6\",\"gridcolor\":\"white\",\"gridwidth\":2,\"linecolor\":\"white\",\"showbackground\":true,\"ticks\":\"\",\"zerolinecolor\":\"white\"},\"zaxis\":{\"backgroundcolor\":\"#E5ECF6\",\"gridcolor\":\"white\",\"gridwidth\":2,\"linecolor\":\"white\",\"showbackground\":true,\"ticks\":\"\",\"zerolinecolor\":\"white\"}},\"shapedefaults\":{\"line\":{\"color\":\"#2a3f5f\"}},\"ternary\":{\"aaxis\":{\"gridcolor\":\"white\",\"linecolor\":\"white\",\"ticks\":\"\"},\"baxis\":{\"gridcolor\":\"white\",\"linecolor\":\"white\",\"ticks\":\"\"},\"bgcolor\":\"#E5ECF6\",\"caxis\":{\"gridcolor\":\"white\",\"linecolor\":\"white\",\"ticks\":\"\"}},\"title\":{\"x\":0.05},\"xaxis\":{\"automargin\":true,\"gridcolor\":\"white\",\"linecolor\":\"white\",\"ticks\":\"\",\"title\":{\"standoff\":15},\"zerolinecolor\":\"white\",\"zerolinewidth\":2},\"yaxis\":{\"automargin\":true,\"gridcolor\":\"white\",\"linecolor\":\"white\",\"ticks\":\"\",\"title\":{\"standoff\":15},\"zerolinecolor\":\"white\",\"zerolinewidth\":2}}},\"xaxis\":{\"anchor\":\"y\",\"domain\":[0.0,1.0],\"title\":{\"text\":\"estado\"}},\"yaxis\":{\"anchor\":\"x\",\"domain\":[0.0,1.0],\"title\":{\"text\":\"value\"}},\"legend\":{\"title\":{\"text\":\"variable\"},\"tracegroupgap\":0},\"title\":{\"text\":\"Casos novos de Covid e IDH\"},\"barmode\":\"stack\"},                        {\"responsive\": true}                    ).then(function(){\n",
              "                            \n",
              "var gd = document.getElementById('25d8fec4-c593-428c-97d8-89af0eab8e5e');\n",
              "var x = new MutationObserver(function (mutations, observer) {{\n",
              "        var display = window.getComputedStyle(gd).display;\n",
              "        if (!display || display === 'none') {{\n",
              "            console.log([gd, 'removed!']);\n",
              "            Plotly.purge(gd);\n",
              "            observer.disconnect();\n",
              "        }}\n",
              "}});\n",
              "\n",
              "// Listen for the removal of the full notebook cells\n",
              "var notebookContainer = gd.closest('#notebook-container');\n",
              "if (notebookContainer) {{\n",
              "    x.observe(notebookContainer, {childList: true});\n",
              "}}\n",
              "\n",
              "// Listen for the clearing of the current output cell\n",
              "var outputEl = gd.closest('.output');\n",
              "if (outputEl) {{\n",
              "    x.observe(outputEl, {childList: true});\n",
              "}}\n",
              "\n",
              "                        })                };                            </script>        </div>\n",
              "</body>\n",
              "</html>"
            ]
          },
          "metadata": {}
        },
        {
          "output_type": "display_data",
          "data": {
            "text/html": [
              "<html>\n",
              "<head><meta charset=\"utf-8\" /></head>\n",
              "<body>\n",
              "    <div>            <script src=\"https://cdnjs.cloudflare.com/ajax/libs/mathjax/2.7.5/MathJax.js?config=TeX-AMS-MML_SVG\"></script><script type=\"text/javascript\">if (window.MathJax) {MathJax.Hub.Config({SVG: {font: \"STIX-Web\"}});}</script>                <script type=\"text/javascript\">window.PlotlyConfig = {MathJaxConfig: 'local'};</script>\n",
              "        <script src=\"https://cdn.plot.ly/plotly-2.8.3.min.js\"></script>                <div id=\"d345d7af-3731-4886-8f6a-960d34316597\" class=\"plotly-graph-div\" style=\"height:525px; width:100%;\"></div>            <script type=\"text/javascript\">                                    window.PLOTLYENV=window.PLOTLYENV || {};                                    if (document.getElementById(\"d345d7af-3731-4886-8f6a-960d34316597\")) {                    Plotly.newPlot(                        \"d345d7af-3731-4886-8f6a-960d34316597\",                        [{\"alignmentgroup\":\"True\",\"hovertemplate\":\"estado=%{x}<br>total_casos_estados=%{marker.color}<extra></extra>\",\"legendgroup\":\"\",\"marker\":{\"color\":[2001053,499023,457200,724845,216322,1814554,373809,887541,6747172,761101,1348639,2848019,609756,386234,4071347,1007846,1917392,409888,1184349,1601531,618928,2813826,604075,174361,963369,2877017,218234],\"coloraxis\":\"coloraxis\",\"pattern\":{\"shape\":\"\"}},\"name\":\"\",\"offsetgroup\":\"\",\"orientation\":\"v\",\"showlegend\":false,\"textposition\":\"auto\",\"x\":[\"SC\",\"RO\",\"PI\",\"AM\",\"RR\",\"GO\",\"TO\",\"MT\",\"SP\",\"PB\",\"ES\",\"RS\",\"MS\",\"AL\",\"MG\",\"PA\",\"BA\",\"SE\",\"PE\",\"CE\",\"RN\",\"RJ\",\"MA\",\"AC\",\"DF\",\"PR\",\"AP\"],\"xaxis\":\"x\",\"y\":[2001053,499023,457200,724845,216322,1814554,373809,887541,6747172,761101,1348639,2848019,609756,386234,4071347,1007846,1917392,409888,1184349,1601531,618928,2813826,604075,174361,963369,2877017,218234],\"yaxis\":\"y\",\"type\":\"bar\"}],                        {\"template\":{\"data\":{\"bar\":[{\"error_x\":{\"color\":\"#2a3f5f\"},\"error_y\":{\"color\":\"#2a3f5f\"},\"marker\":{\"line\":{\"color\":\"#E5ECF6\",\"width\":0.5},\"pattern\":{\"fillmode\":\"overlay\",\"size\":10,\"solidity\":0.2}},\"type\":\"bar\"}],\"barpolar\":[{\"marker\":{\"line\":{\"color\":\"#E5ECF6\",\"width\":0.5},\"pattern\":{\"fillmode\":\"overlay\",\"size\":10,\"solidity\":0.2}},\"type\":\"barpolar\"}],\"carpet\":[{\"aaxis\":{\"endlinecolor\":\"#2a3f5f\",\"gridcolor\":\"white\",\"linecolor\":\"white\",\"minorgridcolor\":\"white\",\"startlinecolor\":\"#2a3f5f\"},\"baxis\":{\"endlinecolor\":\"#2a3f5f\",\"gridcolor\":\"white\",\"linecolor\":\"white\",\"minorgridcolor\":\"white\",\"startlinecolor\":\"#2a3f5f\"},\"type\":\"carpet\"}],\"choropleth\":[{\"colorbar\":{\"outlinewidth\":0,\"ticks\":\"\"},\"type\":\"choropleth\"}],\"contour\":[{\"colorbar\":{\"outlinewidth\":0,\"ticks\":\"\"},\"colorscale\":[[0.0,\"#0d0887\"],[0.1111111111111111,\"#46039f\"],[0.2222222222222222,\"#7201a8\"],[0.3333333333333333,\"#9c179e\"],[0.4444444444444444,\"#bd3786\"],[0.5555555555555556,\"#d8576b\"],[0.6666666666666666,\"#ed7953\"],[0.7777777777777778,\"#fb9f3a\"],[0.8888888888888888,\"#fdca26\"],[1.0,\"#f0f921\"]],\"type\":\"contour\"}],\"contourcarpet\":[{\"colorbar\":{\"outlinewidth\":0,\"ticks\":\"\"},\"type\":\"contourcarpet\"}],\"heatmap\":[{\"colorbar\":{\"outlinewidth\":0,\"ticks\":\"\"},\"colorscale\":[[0.0,\"#0d0887\"],[0.1111111111111111,\"#46039f\"],[0.2222222222222222,\"#7201a8\"],[0.3333333333333333,\"#9c179e\"],[0.4444444444444444,\"#bd3786\"],[0.5555555555555556,\"#d8576b\"],[0.6666666666666666,\"#ed7953\"],[0.7777777777777778,\"#fb9f3a\"],[0.8888888888888888,\"#fdca26\"],[1.0,\"#f0f921\"]],\"type\":\"heatmap\"}],\"heatmapgl\":[{\"colorbar\":{\"outlinewidth\":0,\"ticks\":\"\"},\"colorscale\":[[0.0,\"#0d0887\"],[0.1111111111111111,\"#46039f\"],[0.2222222222222222,\"#7201a8\"],[0.3333333333333333,\"#9c179e\"],[0.4444444444444444,\"#bd3786\"],[0.5555555555555556,\"#d8576b\"],[0.6666666666666666,\"#ed7953\"],[0.7777777777777778,\"#fb9f3a\"],[0.8888888888888888,\"#fdca26\"],[1.0,\"#f0f921\"]],\"type\":\"heatmapgl\"}],\"histogram\":[{\"marker\":{\"pattern\":{\"fillmode\":\"overlay\",\"size\":10,\"solidity\":0.2}},\"type\":\"histogram\"}],\"histogram2d\":[{\"colorbar\":{\"outlinewidth\":0,\"ticks\":\"\"},\"colorscale\":[[0.0,\"#0d0887\"],[0.1111111111111111,\"#46039f\"],[0.2222222222222222,\"#7201a8\"],[0.3333333333333333,\"#9c179e\"],[0.4444444444444444,\"#bd3786\"],[0.5555555555555556,\"#d8576b\"],[0.6666666666666666,\"#ed7953\"],[0.7777777777777778,\"#fb9f3a\"],[0.8888888888888888,\"#fdca26\"],[1.0,\"#f0f921\"]],\"type\":\"histogram2d\"}],\"histogram2dcontour\":[{\"colorbar\":{\"outlinewidth\":0,\"ticks\":\"\"},\"colorscale\":[[0.0,\"#0d0887\"],[0.1111111111111111,\"#46039f\"],[0.2222222222222222,\"#7201a8\"],[0.3333333333333333,\"#9c179e\"],[0.4444444444444444,\"#bd3786\"],[0.5555555555555556,\"#d8576b\"],[0.6666666666666666,\"#ed7953\"],[0.7777777777777778,\"#fb9f3a\"],[0.8888888888888888,\"#fdca26\"],[1.0,\"#f0f921\"]],\"type\":\"histogram2dcontour\"}],\"mesh3d\":[{\"colorbar\":{\"outlinewidth\":0,\"ticks\":\"\"},\"type\":\"mesh3d\"}],\"parcoords\":[{\"line\":{\"colorbar\":{\"outlinewidth\":0,\"ticks\":\"\"}},\"type\":\"parcoords\"}],\"pie\":[{\"automargin\":true,\"type\":\"pie\"}],\"scatter\":[{\"marker\":{\"colorbar\":{\"outlinewidth\":0,\"ticks\":\"\"}},\"type\":\"scatter\"}],\"scatter3d\":[{\"line\":{\"colorbar\":{\"outlinewidth\":0,\"ticks\":\"\"}},\"marker\":{\"colorbar\":{\"outlinewidth\":0,\"ticks\":\"\"}},\"type\":\"scatter3d\"}],\"scattercarpet\":[{\"marker\":{\"colorbar\":{\"outlinewidth\":0,\"ticks\":\"\"}},\"type\":\"scattercarpet\"}],\"scattergeo\":[{\"marker\":{\"colorbar\":{\"outlinewidth\":0,\"ticks\":\"\"}},\"type\":\"scattergeo\"}],\"scattergl\":[{\"marker\":{\"colorbar\":{\"outlinewidth\":0,\"ticks\":\"\"}},\"type\":\"scattergl\"}],\"scattermapbox\":[{\"marker\":{\"colorbar\":{\"outlinewidth\":0,\"ticks\":\"\"}},\"type\":\"scattermapbox\"}],\"scatterpolar\":[{\"marker\":{\"colorbar\":{\"outlinewidth\":0,\"ticks\":\"\"}},\"type\":\"scatterpolar\"}],\"scatterpolargl\":[{\"marker\":{\"colorbar\":{\"outlinewidth\":0,\"ticks\":\"\"}},\"type\":\"scatterpolargl\"}],\"scatterternary\":[{\"marker\":{\"colorbar\":{\"outlinewidth\":0,\"ticks\":\"\"}},\"type\":\"scatterternary\"}],\"surface\":[{\"colorbar\":{\"outlinewidth\":0,\"ticks\":\"\"},\"colorscale\":[[0.0,\"#0d0887\"],[0.1111111111111111,\"#46039f\"],[0.2222222222222222,\"#7201a8\"],[0.3333333333333333,\"#9c179e\"],[0.4444444444444444,\"#bd3786\"],[0.5555555555555556,\"#d8576b\"],[0.6666666666666666,\"#ed7953\"],[0.7777777777777778,\"#fb9f3a\"],[0.8888888888888888,\"#fdca26\"],[1.0,\"#f0f921\"]],\"type\":\"surface\"}],\"table\":[{\"cells\":{\"fill\":{\"color\":\"#EBF0F8\"},\"line\":{\"color\":\"white\"}},\"header\":{\"fill\":{\"color\":\"#C8D4E3\"},\"line\":{\"color\":\"white\"}},\"type\":\"table\"}]},\"layout\":{\"annotationdefaults\":{\"arrowcolor\":\"#2a3f5f\",\"arrowhead\":0,\"arrowwidth\":1},\"autotypenumbers\":\"strict\",\"coloraxis\":{\"colorbar\":{\"outlinewidth\":0,\"ticks\":\"\"}},\"colorscale\":{\"diverging\":[[0,\"#8e0152\"],[0.1,\"#c51b7d\"],[0.2,\"#de77ae\"],[0.3,\"#f1b6da\"],[0.4,\"#fde0ef\"],[0.5,\"#f7f7f7\"],[0.6,\"#e6f5d0\"],[0.7,\"#b8e186\"],[0.8,\"#7fbc41\"],[0.9,\"#4d9221\"],[1,\"#276419\"]],\"sequential\":[[0.0,\"#0d0887\"],[0.1111111111111111,\"#46039f\"],[0.2222222222222222,\"#7201a8\"],[0.3333333333333333,\"#9c179e\"],[0.4444444444444444,\"#bd3786\"],[0.5555555555555556,\"#d8576b\"],[0.6666666666666666,\"#ed7953\"],[0.7777777777777778,\"#fb9f3a\"],[0.8888888888888888,\"#fdca26\"],[1.0,\"#f0f921\"]],\"sequentialminus\":[[0.0,\"#0d0887\"],[0.1111111111111111,\"#46039f\"],[0.2222222222222222,\"#7201a8\"],[0.3333333333333333,\"#9c179e\"],[0.4444444444444444,\"#bd3786\"],[0.5555555555555556,\"#d8576b\"],[0.6666666666666666,\"#ed7953\"],[0.7777777777777778,\"#fb9f3a\"],[0.8888888888888888,\"#fdca26\"],[1.0,\"#f0f921\"]]},\"colorway\":[\"#636efa\",\"#EF553B\",\"#00cc96\",\"#ab63fa\",\"#FFA15A\",\"#19d3f3\",\"#FF6692\",\"#B6E880\",\"#FF97FF\",\"#FECB52\"],\"font\":{\"color\":\"#2a3f5f\"},\"geo\":{\"bgcolor\":\"white\",\"lakecolor\":\"white\",\"landcolor\":\"#E5ECF6\",\"showlakes\":true,\"showland\":true,\"subunitcolor\":\"white\"},\"hoverlabel\":{\"align\":\"left\"},\"hovermode\":\"closest\",\"mapbox\":{\"style\":\"light\"},\"paper_bgcolor\":\"white\",\"plot_bgcolor\":\"#E5ECF6\",\"polar\":{\"angularaxis\":{\"gridcolor\":\"white\",\"linecolor\":\"white\",\"ticks\":\"\"},\"bgcolor\":\"#E5ECF6\",\"radialaxis\":{\"gridcolor\":\"white\",\"linecolor\":\"white\",\"ticks\":\"\"}},\"scene\":{\"xaxis\":{\"backgroundcolor\":\"#E5ECF6\",\"gridcolor\":\"white\",\"gridwidth\":2,\"linecolor\":\"white\",\"showbackground\":true,\"ticks\":\"\",\"zerolinecolor\":\"white\"},\"yaxis\":{\"backgroundcolor\":\"#E5ECF6\",\"gridcolor\":\"white\",\"gridwidth\":2,\"linecolor\":\"white\",\"showbackground\":true,\"ticks\":\"\",\"zerolinecolor\":\"white\"},\"zaxis\":{\"backgroundcolor\":\"#E5ECF6\",\"gridcolor\":\"white\",\"gridwidth\":2,\"linecolor\":\"white\",\"showbackground\":true,\"ticks\":\"\",\"zerolinecolor\":\"white\"}},\"shapedefaults\":{\"line\":{\"color\":\"#2a3f5f\"}},\"ternary\":{\"aaxis\":{\"gridcolor\":\"white\",\"linecolor\":\"white\",\"ticks\":\"\"},\"baxis\":{\"gridcolor\":\"white\",\"linecolor\":\"white\",\"ticks\":\"\"},\"bgcolor\":\"#E5ECF6\",\"caxis\":{\"gridcolor\":\"white\",\"linecolor\":\"white\",\"ticks\":\"\"}},\"title\":{\"x\":0.05},\"xaxis\":{\"automargin\":true,\"gridcolor\":\"white\",\"linecolor\":\"white\",\"ticks\":\"\",\"title\":{\"standoff\":15},\"zerolinecolor\":\"white\",\"zerolinewidth\":2},\"yaxis\":{\"automargin\":true,\"gridcolor\":\"white\",\"linecolor\":\"white\",\"ticks\":\"\",\"title\":{\"standoff\":15},\"zerolinecolor\":\"white\",\"zerolinewidth\":2}}},\"xaxis\":{\"anchor\":\"y\",\"domain\":[0.0,1.0],\"title\":{\"text\":\"estado\"}},\"yaxis\":{\"anchor\":\"x\",\"domain\":[0.0,1.0],\"title\":{\"text\":\"total_casos_estados\"}},\"coloraxis\":{\"colorbar\":{\"title\":{\"text\":\"total_casos_estados\"}},\"colorscale\":[[0.0,\"#0d0887\"],[0.1111111111111111,\"#46039f\"],[0.2222222222222222,\"#7201a8\"],[0.3333333333333333,\"#9c179e\"],[0.4444444444444444,\"#bd3786\"],[0.5555555555555556,\"#d8576b\"],[0.6666666666666666,\"#ed7953\"],[0.7777777777777778,\"#fb9f3a\"],[0.8888888888888888,\"#fdca26\"],[1.0,\"#f0f921\"]]},\"legend\":{\"tracegroupgap\":0},\"title\":{\"text\":\"Casos novos de  Covid\"},\"barmode\":\"group\"},                        {\"responsive\": true}                    ).then(function(){\n",
              "                            \n",
              "var gd = document.getElementById('d345d7af-3731-4886-8f6a-960d34316597');\n",
              "var x = new MutationObserver(function (mutations, observer) {{\n",
              "        var display = window.getComputedStyle(gd).display;\n",
              "        if (!display || display === 'none') {{\n",
              "            console.log([gd, 'removed!']);\n",
              "            Plotly.purge(gd);\n",
              "            observer.disconnect();\n",
              "        }}\n",
              "}});\n",
              "\n",
              "// Listen for the removal of the full notebook cells\n",
              "var notebookContainer = gd.closest('#notebook-container');\n",
              "if (notebookContainer) {{\n",
              "    x.observe(notebookContainer, {childList: true});\n",
              "}}\n",
              "\n",
              "// Listen for the clearing of the current output cell\n",
              "var outputEl = gd.closest('.output');\n",
              "if (outputEl) {{\n",
              "    x.observe(outputEl, {childList: true});\n",
              "}}\n",
              "\n",
              "                        })                };                            </script>        </div>\n",
              "</body>\n",
              "</html>"
            ]
          },
          "metadata": {}
        },
        {
          "output_type": "display_data",
          "data": {
            "text/html": [
              "<html>\n",
              "<head><meta charset=\"utf-8\" /></head>\n",
              "<body>\n",
              "    <div>            <script src=\"https://cdnjs.cloudflare.com/ajax/libs/mathjax/2.7.5/MathJax.js?config=TeX-AMS-MML_SVG\"></script><script type=\"text/javascript\">if (window.MathJax) {MathJax.Hub.Config({SVG: {font: \"STIX-Web\"}});}</script>                <script type=\"text/javascript\">window.PlotlyConfig = {MathJaxConfig: 'local'};</script>\n",
              "        <script src=\"https://cdn.plot.ly/plotly-2.8.3.min.js\"></script>                <div id=\"0a72b549-f42f-4930-b42e-7023a04b0dbc\" class=\"plotly-graph-div\" style=\"height:525px; width:100%;\"></div>            <script type=\"text/javascript\">                                    window.PLOTLYENV=window.PLOTLYENV || {};                                    if (document.getElementById(\"0a72b549-f42f-4930-b42e-7023a04b0dbc\")) {                    Plotly.newPlot(                        \"0a72b549-f42f-4930-b42e-7023a04b0dbc\",                        [{\"alignmentgroup\":\"True\",\"hovertemplate\":\"estado=%{x}<br>IDHM=%{marker.color}<extra></extra>\",\"legendgroup\":\"\",\"marker\":{\"color\":[0.808,0.725,0.697,0.733,0.752,0.769,0.743,0.774,0.826,0.722,0.772,0.787,0.766,0.683,0.787,0.698,0.714,0.702,0.727,0.735,0.731,0.796,0.687,0.719,0.85,0.792,0.74],\"coloraxis\":\"coloraxis\",\"pattern\":{\"shape\":\"\"}},\"name\":\"\",\"offsetgroup\":\"\",\"orientation\":\"v\",\"showlegend\":false,\"textposition\":\"auto\",\"x\":[\"SC\",\"RO\",\"PI\",\"AM\",\"RR\",\"GO\",\"TO\",\"MT\",\"SP\",\"PB\",\"ES\",\"RS\",\"MS\",\"AL\",\"MG\",\"PA\",\"BA\",\"SE\",\"PE\",\"CE\",\"RN\",\"RJ\",\"MA\",\"AC\",\"DF\",\"PR\",\"AP\"],\"xaxis\":\"x\",\"y\":[0.808,0.725,0.697,0.733,0.752,0.769,0.743,0.774,0.826,0.722,0.772,0.787,0.766,0.683,0.787,0.698,0.714,0.702,0.727,0.735,0.731,0.796,0.687,0.719,0.85,0.792,0.74],\"yaxis\":\"y\",\"type\":\"bar\"}],                        {\"template\":{\"data\":{\"bar\":[{\"error_x\":{\"color\":\"#2a3f5f\"},\"error_y\":{\"color\":\"#2a3f5f\"},\"marker\":{\"line\":{\"color\":\"#E5ECF6\",\"width\":0.5},\"pattern\":{\"fillmode\":\"overlay\",\"size\":10,\"solidity\":0.2}},\"type\":\"bar\"}],\"barpolar\":[{\"marker\":{\"line\":{\"color\":\"#E5ECF6\",\"width\":0.5},\"pattern\":{\"fillmode\":\"overlay\",\"size\":10,\"solidity\":0.2}},\"type\":\"barpolar\"}],\"carpet\":[{\"aaxis\":{\"endlinecolor\":\"#2a3f5f\",\"gridcolor\":\"white\",\"linecolor\":\"white\",\"minorgridcolor\":\"white\",\"startlinecolor\":\"#2a3f5f\"},\"baxis\":{\"endlinecolor\":\"#2a3f5f\",\"gridcolor\":\"white\",\"linecolor\":\"white\",\"minorgridcolor\":\"white\",\"startlinecolor\":\"#2a3f5f\"},\"type\":\"carpet\"}],\"choropleth\":[{\"colorbar\":{\"outlinewidth\":0,\"ticks\":\"\"},\"type\":\"choropleth\"}],\"contour\":[{\"colorbar\":{\"outlinewidth\":0,\"ticks\":\"\"},\"colorscale\":[[0.0,\"#0d0887\"],[0.1111111111111111,\"#46039f\"],[0.2222222222222222,\"#7201a8\"],[0.3333333333333333,\"#9c179e\"],[0.4444444444444444,\"#bd3786\"],[0.5555555555555556,\"#d8576b\"],[0.6666666666666666,\"#ed7953\"],[0.7777777777777778,\"#fb9f3a\"],[0.8888888888888888,\"#fdca26\"],[1.0,\"#f0f921\"]],\"type\":\"contour\"}],\"contourcarpet\":[{\"colorbar\":{\"outlinewidth\":0,\"ticks\":\"\"},\"type\":\"contourcarpet\"}],\"heatmap\":[{\"colorbar\":{\"outlinewidth\":0,\"ticks\":\"\"},\"colorscale\":[[0.0,\"#0d0887\"],[0.1111111111111111,\"#46039f\"],[0.2222222222222222,\"#7201a8\"],[0.3333333333333333,\"#9c179e\"],[0.4444444444444444,\"#bd3786\"],[0.5555555555555556,\"#d8576b\"],[0.6666666666666666,\"#ed7953\"],[0.7777777777777778,\"#fb9f3a\"],[0.8888888888888888,\"#fdca26\"],[1.0,\"#f0f921\"]],\"type\":\"heatmap\"}],\"heatmapgl\":[{\"colorbar\":{\"outlinewidth\":0,\"ticks\":\"\"},\"colorscale\":[[0.0,\"#0d0887\"],[0.1111111111111111,\"#46039f\"],[0.2222222222222222,\"#7201a8\"],[0.3333333333333333,\"#9c179e\"],[0.4444444444444444,\"#bd3786\"],[0.5555555555555556,\"#d8576b\"],[0.6666666666666666,\"#ed7953\"],[0.7777777777777778,\"#fb9f3a\"],[0.8888888888888888,\"#fdca26\"],[1.0,\"#f0f921\"]],\"type\":\"heatmapgl\"}],\"histogram\":[{\"marker\":{\"pattern\":{\"fillmode\":\"overlay\",\"size\":10,\"solidity\":0.2}},\"type\":\"histogram\"}],\"histogram2d\":[{\"colorbar\":{\"outlinewidth\":0,\"ticks\":\"\"},\"colorscale\":[[0.0,\"#0d0887\"],[0.1111111111111111,\"#46039f\"],[0.2222222222222222,\"#7201a8\"],[0.3333333333333333,\"#9c179e\"],[0.4444444444444444,\"#bd3786\"],[0.5555555555555556,\"#d8576b\"],[0.6666666666666666,\"#ed7953\"],[0.7777777777777778,\"#fb9f3a\"],[0.8888888888888888,\"#fdca26\"],[1.0,\"#f0f921\"]],\"type\":\"histogram2d\"}],\"histogram2dcontour\":[{\"colorbar\":{\"outlinewidth\":0,\"ticks\":\"\"},\"colorscale\":[[0.0,\"#0d0887\"],[0.1111111111111111,\"#46039f\"],[0.2222222222222222,\"#7201a8\"],[0.3333333333333333,\"#9c179e\"],[0.4444444444444444,\"#bd3786\"],[0.5555555555555556,\"#d8576b\"],[0.6666666666666666,\"#ed7953\"],[0.7777777777777778,\"#fb9f3a\"],[0.8888888888888888,\"#fdca26\"],[1.0,\"#f0f921\"]],\"type\":\"histogram2dcontour\"}],\"mesh3d\":[{\"colorbar\":{\"outlinewidth\":0,\"ticks\":\"\"},\"type\":\"mesh3d\"}],\"parcoords\":[{\"line\":{\"colorbar\":{\"outlinewidth\":0,\"ticks\":\"\"}},\"type\":\"parcoords\"}],\"pie\":[{\"automargin\":true,\"type\":\"pie\"}],\"scatter\":[{\"marker\":{\"colorbar\":{\"outlinewidth\":0,\"ticks\":\"\"}},\"type\":\"scatter\"}],\"scatter3d\":[{\"line\":{\"colorbar\":{\"outlinewidth\":0,\"ticks\":\"\"}},\"marker\":{\"colorbar\":{\"outlinewidth\":0,\"ticks\":\"\"}},\"type\":\"scatter3d\"}],\"scattercarpet\":[{\"marker\":{\"colorbar\":{\"outlinewidth\":0,\"ticks\":\"\"}},\"type\":\"scattercarpet\"}],\"scattergeo\":[{\"marker\":{\"colorbar\":{\"outlinewidth\":0,\"ticks\":\"\"}},\"type\":\"scattergeo\"}],\"scattergl\":[{\"marker\":{\"colorbar\":{\"outlinewidth\":0,\"ticks\":\"\"}},\"type\":\"scattergl\"}],\"scattermapbox\":[{\"marker\":{\"colorbar\":{\"outlinewidth\":0,\"ticks\":\"\"}},\"type\":\"scattermapbox\"}],\"scatterpolar\":[{\"marker\":{\"colorbar\":{\"outlinewidth\":0,\"ticks\":\"\"}},\"type\":\"scatterpolar\"}],\"scatterpolargl\":[{\"marker\":{\"colorbar\":{\"outlinewidth\":0,\"ticks\":\"\"}},\"type\":\"scatterpolargl\"}],\"scatterternary\":[{\"marker\":{\"colorbar\":{\"outlinewidth\":0,\"ticks\":\"\"}},\"type\":\"scatterternary\"}],\"surface\":[{\"colorbar\":{\"outlinewidth\":0,\"ticks\":\"\"},\"colorscale\":[[0.0,\"#0d0887\"],[0.1111111111111111,\"#46039f\"],[0.2222222222222222,\"#7201a8\"],[0.3333333333333333,\"#9c179e\"],[0.4444444444444444,\"#bd3786\"],[0.5555555555555556,\"#d8576b\"],[0.6666666666666666,\"#ed7953\"],[0.7777777777777778,\"#fb9f3a\"],[0.8888888888888888,\"#fdca26\"],[1.0,\"#f0f921\"]],\"type\":\"surface\"}],\"table\":[{\"cells\":{\"fill\":{\"color\":\"#EBF0F8\"},\"line\":{\"color\":\"white\"}},\"header\":{\"fill\":{\"color\":\"#C8D4E3\"},\"line\":{\"color\":\"white\"}},\"type\":\"table\"}]},\"layout\":{\"annotationdefaults\":{\"arrowcolor\":\"#2a3f5f\",\"arrowhead\":0,\"arrowwidth\":1},\"autotypenumbers\":\"strict\",\"coloraxis\":{\"colorbar\":{\"outlinewidth\":0,\"ticks\":\"\"}},\"colorscale\":{\"diverging\":[[0,\"#8e0152\"],[0.1,\"#c51b7d\"],[0.2,\"#de77ae\"],[0.3,\"#f1b6da\"],[0.4,\"#fde0ef\"],[0.5,\"#f7f7f7\"],[0.6,\"#e6f5d0\"],[0.7,\"#b8e186\"],[0.8,\"#7fbc41\"],[0.9,\"#4d9221\"],[1,\"#276419\"]],\"sequential\":[[0.0,\"#0d0887\"],[0.1111111111111111,\"#46039f\"],[0.2222222222222222,\"#7201a8\"],[0.3333333333333333,\"#9c179e\"],[0.4444444444444444,\"#bd3786\"],[0.5555555555555556,\"#d8576b\"],[0.6666666666666666,\"#ed7953\"],[0.7777777777777778,\"#fb9f3a\"],[0.8888888888888888,\"#fdca26\"],[1.0,\"#f0f921\"]],\"sequentialminus\":[[0.0,\"#0d0887\"],[0.1111111111111111,\"#46039f\"],[0.2222222222222222,\"#7201a8\"],[0.3333333333333333,\"#9c179e\"],[0.4444444444444444,\"#bd3786\"],[0.5555555555555556,\"#d8576b\"],[0.6666666666666666,\"#ed7953\"],[0.7777777777777778,\"#fb9f3a\"],[0.8888888888888888,\"#fdca26\"],[1.0,\"#f0f921\"]]},\"colorway\":[\"#636efa\",\"#EF553B\",\"#00cc96\",\"#ab63fa\",\"#FFA15A\",\"#19d3f3\",\"#FF6692\",\"#B6E880\",\"#FF97FF\",\"#FECB52\"],\"font\":{\"color\":\"#2a3f5f\"},\"geo\":{\"bgcolor\":\"white\",\"lakecolor\":\"white\",\"landcolor\":\"#E5ECF6\",\"showlakes\":true,\"showland\":true,\"subunitcolor\":\"white\"},\"hoverlabel\":{\"align\":\"left\"},\"hovermode\":\"closest\",\"mapbox\":{\"style\":\"light\"},\"paper_bgcolor\":\"white\",\"plot_bgcolor\":\"#E5ECF6\",\"polar\":{\"angularaxis\":{\"gridcolor\":\"white\",\"linecolor\":\"white\",\"ticks\":\"\"},\"bgcolor\":\"#E5ECF6\",\"radialaxis\":{\"gridcolor\":\"white\",\"linecolor\":\"white\",\"ticks\":\"\"}},\"scene\":{\"xaxis\":{\"backgroundcolor\":\"#E5ECF6\",\"gridcolor\":\"white\",\"gridwidth\":2,\"linecolor\":\"white\",\"showbackground\":true,\"ticks\":\"\",\"zerolinecolor\":\"white\"},\"yaxis\":{\"backgroundcolor\":\"#E5ECF6\",\"gridcolor\":\"white\",\"gridwidth\":2,\"linecolor\":\"white\",\"showbackground\":true,\"ticks\":\"\",\"zerolinecolor\":\"white\"},\"zaxis\":{\"backgroundcolor\":\"#E5ECF6\",\"gridcolor\":\"white\",\"gridwidth\":2,\"linecolor\":\"white\",\"showbackground\":true,\"ticks\":\"\",\"zerolinecolor\":\"white\"}},\"shapedefaults\":{\"line\":{\"color\":\"#2a3f5f\"}},\"ternary\":{\"aaxis\":{\"gridcolor\":\"white\",\"linecolor\":\"white\",\"ticks\":\"\"},\"baxis\":{\"gridcolor\":\"white\",\"linecolor\":\"white\",\"ticks\":\"\"},\"bgcolor\":\"#E5ECF6\",\"caxis\":{\"gridcolor\":\"white\",\"linecolor\":\"white\",\"ticks\":\"\"}},\"title\":{\"x\":0.05},\"xaxis\":{\"automargin\":true,\"gridcolor\":\"white\",\"linecolor\":\"white\",\"ticks\":\"\",\"title\":{\"standoff\":15},\"zerolinecolor\":\"white\",\"zerolinewidth\":2},\"yaxis\":{\"automargin\":true,\"gridcolor\":\"white\",\"linecolor\":\"white\",\"ticks\":\"\",\"title\":{\"standoff\":15},\"zerolinecolor\":\"white\",\"zerolinewidth\":2}}},\"xaxis\":{\"anchor\":\"y\",\"domain\":[0.0,1.0],\"title\":{\"text\":\"estado\"}},\"yaxis\":{\"anchor\":\"x\",\"domain\":[0.0,1.0],\"title\":{\"text\":\"IDHM\"}},\"coloraxis\":{\"colorbar\":{\"title\":{\"text\":\"IDHM\"}},\"colorscale\":[[0.0,\"#0d0887\"],[0.1111111111111111,\"#46039f\"],[0.2222222222222222,\"#7201a8\"],[0.3333333333333333,\"#9c179e\"],[0.4444444444444444,\"#bd3786\"],[0.5555555555555556,\"#d8576b\"],[0.6666666666666666,\"#ed7953\"],[0.7777777777777778,\"#fb9f3a\"],[0.8888888888888888,\"#fdca26\"],[1.0,\"#f0f921\"]]},\"legend\":{\"tracegroupgap\":0},\"title\":{\"text\":\"IDHM\"},\"barmode\":\"group\"},                        {\"responsive\": true}                    ).then(function(){\n",
              "                            \n",
              "var gd = document.getElementById('0a72b549-f42f-4930-b42e-7023a04b0dbc');\n",
              "var x = new MutationObserver(function (mutations, observer) {{\n",
              "        var display = window.getComputedStyle(gd).display;\n",
              "        if (!display || display === 'none') {{\n",
              "            console.log([gd, 'removed!']);\n",
              "            Plotly.purge(gd);\n",
              "            observer.disconnect();\n",
              "        }}\n",
              "}});\n",
              "\n",
              "// Listen for the removal of the full notebook cells\n",
              "var notebookContainer = gd.closest('#notebook-container');\n",
              "if (notebookContainer) {{\n",
              "    x.observe(notebookContainer, {childList: true});\n",
              "}}\n",
              "\n",
              "// Listen for the clearing of the current output cell\n",
              "var outputEl = gd.closest('.output');\n",
              "if (outputEl) {{\n",
              "    x.observe(outputEl, {childList: true});\n",
              "}}\n",
              "\n",
              "                        })                };                            </script>        </div>\n",
              "</body>\n",
              "</html>"
            ]
          },
          "metadata": {}
        },
        {
          "output_type": "display_data",
          "data": {
            "text/html": [
              "<html>\n",
              "<head><meta charset=\"utf-8\" /></head>\n",
              "<body>\n",
              "    <div>            <script src=\"https://cdnjs.cloudflare.com/ajax/libs/mathjax/2.7.5/MathJax.js?config=TeX-AMS-MML_SVG\"></script><script type=\"text/javascript\">if (window.MathJax) {MathJax.Hub.Config({SVG: {font: \"STIX-Web\"}});}</script>                <script type=\"text/javascript\">window.PlotlyConfig = {MathJaxConfig: 'local'};</script>\n",
              "        <script src=\"https://cdn.plot.ly/plotly-2.8.3.min.js\"></script>                <div id=\"f9e82453-59fa-49bc-83ce-84df7fa769b9\" class=\"plotly-graph-div\" style=\"height:525px; width:100%;\"></div>            <script type=\"text/javascript\">                                    window.PLOTLYENV=window.PLOTLYENV || {};                                    if (document.getElementById(\"f9e82453-59fa-49bc-83ce-84df7fa769b9\")) {                    Plotly.newPlot(                        \"f9e82453-59fa-49bc-83ce-84df7fa769b9\",                        [{\"alignmentgroup\":\"True\",\"hovertemplate\":\"estado=%{x}<br>IDHM_Renda=%{marker.color}<extra></extra>\",\"legendgroup\":\"\",\"marker\":{\"color\":[0.866,0.776,0.771,0.786,0.781,0.822,0.811,0.825,0.854,0.809,0.85,0.849,0.847,0.783,0.875,0.788,0.812,0.799,0.821,0.818,0.849,0.858,0.764,0.821,0.89,0.843,0.82],\"coloraxis\":\"coloraxis\",\"pattern\":{\"shape\":\"\"}},\"name\":\"\",\"offsetgroup\":\"\",\"orientation\":\"v\",\"showlegend\":false,\"textposition\":\"auto\",\"x\":[\"SC\",\"RO\",\"PI\",\"AM\",\"RR\",\"GO\",\"TO\",\"MT\",\"SP\",\"PB\",\"ES\",\"RS\",\"MS\",\"AL\",\"MG\",\"PA\",\"BA\",\"SE\",\"PE\",\"CE\",\"RN\",\"RJ\",\"MA\",\"AC\",\"DF\",\"PR\",\"AP\"],\"xaxis\":\"x\",\"y\":[0.866,0.776,0.771,0.786,0.781,0.822,0.811,0.825,0.854,0.809,0.85,0.849,0.847,0.783,0.875,0.788,0.812,0.799,0.821,0.818,0.849,0.858,0.764,0.821,0.89,0.843,0.82],\"yaxis\":\"y\",\"type\":\"bar\"}],                        {\"template\":{\"data\":{\"bar\":[{\"error_x\":{\"color\":\"#2a3f5f\"},\"error_y\":{\"color\":\"#2a3f5f\"},\"marker\":{\"line\":{\"color\":\"#E5ECF6\",\"width\":0.5},\"pattern\":{\"fillmode\":\"overlay\",\"size\":10,\"solidity\":0.2}},\"type\":\"bar\"}],\"barpolar\":[{\"marker\":{\"line\":{\"color\":\"#E5ECF6\",\"width\":0.5},\"pattern\":{\"fillmode\":\"overlay\",\"size\":10,\"solidity\":0.2}},\"type\":\"barpolar\"}],\"carpet\":[{\"aaxis\":{\"endlinecolor\":\"#2a3f5f\",\"gridcolor\":\"white\",\"linecolor\":\"white\",\"minorgridcolor\":\"white\",\"startlinecolor\":\"#2a3f5f\"},\"baxis\":{\"endlinecolor\":\"#2a3f5f\",\"gridcolor\":\"white\",\"linecolor\":\"white\",\"minorgridcolor\":\"white\",\"startlinecolor\":\"#2a3f5f\"},\"type\":\"carpet\"}],\"choropleth\":[{\"colorbar\":{\"outlinewidth\":0,\"ticks\":\"\"},\"type\":\"choropleth\"}],\"contour\":[{\"colorbar\":{\"outlinewidth\":0,\"ticks\":\"\"},\"colorscale\":[[0.0,\"#0d0887\"],[0.1111111111111111,\"#46039f\"],[0.2222222222222222,\"#7201a8\"],[0.3333333333333333,\"#9c179e\"],[0.4444444444444444,\"#bd3786\"],[0.5555555555555556,\"#d8576b\"],[0.6666666666666666,\"#ed7953\"],[0.7777777777777778,\"#fb9f3a\"],[0.8888888888888888,\"#fdca26\"],[1.0,\"#f0f921\"]],\"type\":\"contour\"}],\"contourcarpet\":[{\"colorbar\":{\"outlinewidth\":0,\"ticks\":\"\"},\"type\":\"contourcarpet\"}],\"heatmap\":[{\"colorbar\":{\"outlinewidth\":0,\"ticks\":\"\"},\"colorscale\":[[0.0,\"#0d0887\"],[0.1111111111111111,\"#46039f\"],[0.2222222222222222,\"#7201a8\"],[0.3333333333333333,\"#9c179e\"],[0.4444444444444444,\"#bd3786\"],[0.5555555555555556,\"#d8576b\"],[0.6666666666666666,\"#ed7953\"],[0.7777777777777778,\"#fb9f3a\"],[0.8888888888888888,\"#fdca26\"],[1.0,\"#f0f921\"]],\"type\":\"heatmap\"}],\"heatmapgl\":[{\"colorbar\":{\"outlinewidth\":0,\"ticks\":\"\"},\"colorscale\":[[0.0,\"#0d0887\"],[0.1111111111111111,\"#46039f\"],[0.2222222222222222,\"#7201a8\"],[0.3333333333333333,\"#9c179e\"],[0.4444444444444444,\"#bd3786\"],[0.5555555555555556,\"#d8576b\"],[0.6666666666666666,\"#ed7953\"],[0.7777777777777778,\"#fb9f3a\"],[0.8888888888888888,\"#fdca26\"],[1.0,\"#f0f921\"]],\"type\":\"heatmapgl\"}],\"histogram\":[{\"marker\":{\"pattern\":{\"fillmode\":\"overlay\",\"size\":10,\"solidity\":0.2}},\"type\":\"histogram\"}],\"histogram2d\":[{\"colorbar\":{\"outlinewidth\":0,\"ticks\":\"\"},\"colorscale\":[[0.0,\"#0d0887\"],[0.1111111111111111,\"#46039f\"],[0.2222222222222222,\"#7201a8\"],[0.3333333333333333,\"#9c179e\"],[0.4444444444444444,\"#bd3786\"],[0.5555555555555556,\"#d8576b\"],[0.6666666666666666,\"#ed7953\"],[0.7777777777777778,\"#fb9f3a\"],[0.8888888888888888,\"#fdca26\"],[1.0,\"#f0f921\"]],\"type\":\"histogram2d\"}],\"histogram2dcontour\":[{\"colorbar\":{\"outlinewidth\":0,\"ticks\":\"\"},\"colorscale\":[[0.0,\"#0d0887\"],[0.1111111111111111,\"#46039f\"],[0.2222222222222222,\"#7201a8\"],[0.3333333333333333,\"#9c179e\"],[0.4444444444444444,\"#bd3786\"],[0.5555555555555556,\"#d8576b\"],[0.6666666666666666,\"#ed7953\"],[0.7777777777777778,\"#fb9f3a\"],[0.8888888888888888,\"#fdca26\"],[1.0,\"#f0f921\"]],\"type\":\"histogram2dcontour\"}],\"mesh3d\":[{\"colorbar\":{\"outlinewidth\":0,\"ticks\":\"\"},\"type\":\"mesh3d\"}],\"parcoords\":[{\"line\":{\"colorbar\":{\"outlinewidth\":0,\"ticks\":\"\"}},\"type\":\"parcoords\"}],\"pie\":[{\"automargin\":true,\"type\":\"pie\"}],\"scatter\":[{\"marker\":{\"colorbar\":{\"outlinewidth\":0,\"ticks\":\"\"}},\"type\":\"scatter\"}],\"scatter3d\":[{\"line\":{\"colorbar\":{\"outlinewidth\":0,\"ticks\":\"\"}},\"marker\":{\"colorbar\":{\"outlinewidth\":0,\"ticks\":\"\"}},\"type\":\"scatter3d\"}],\"scattercarpet\":[{\"marker\":{\"colorbar\":{\"outlinewidth\":0,\"ticks\":\"\"}},\"type\":\"scattercarpet\"}],\"scattergeo\":[{\"marker\":{\"colorbar\":{\"outlinewidth\":0,\"ticks\":\"\"}},\"type\":\"scattergeo\"}],\"scattergl\":[{\"marker\":{\"colorbar\":{\"outlinewidth\":0,\"ticks\":\"\"}},\"type\":\"scattergl\"}],\"scattermapbox\":[{\"marker\":{\"colorbar\":{\"outlinewidth\":0,\"ticks\":\"\"}},\"type\":\"scattermapbox\"}],\"scatterpolar\":[{\"marker\":{\"colorbar\":{\"outlinewidth\":0,\"ticks\":\"\"}},\"type\":\"scatterpolar\"}],\"scatterpolargl\":[{\"marker\":{\"colorbar\":{\"outlinewidth\":0,\"ticks\":\"\"}},\"type\":\"scatterpolargl\"}],\"scatterternary\":[{\"marker\":{\"colorbar\":{\"outlinewidth\":0,\"ticks\":\"\"}},\"type\":\"scatterternary\"}],\"surface\":[{\"colorbar\":{\"outlinewidth\":0,\"ticks\":\"\"},\"colorscale\":[[0.0,\"#0d0887\"],[0.1111111111111111,\"#46039f\"],[0.2222222222222222,\"#7201a8\"],[0.3333333333333333,\"#9c179e\"],[0.4444444444444444,\"#bd3786\"],[0.5555555555555556,\"#d8576b\"],[0.6666666666666666,\"#ed7953\"],[0.7777777777777778,\"#fb9f3a\"],[0.8888888888888888,\"#fdca26\"],[1.0,\"#f0f921\"]],\"type\":\"surface\"}],\"table\":[{\"cells\":{\"fill\":{\"color\":\"#EBF0F8\"},\"line\":{\"color\":\"white\"}},\"header\":{\"fill\":{\"color\":\"#C8D4E3\"},\"line\":{\"color\":\"white\"}},\"type\":\"table\"}]},\"layout\":{\"annotationdefaults\":{\"arrowcolor\":\"#2a3f5f\",\"arrowhead\":0,\"arrowwidth\":1},\"autotypenumbers\":\"strict\",\"coloraxis\":{\"colorbar\":{\"outlinewidth\":0,\"ticks\":\"\"}},\"colorscale\":{\"diverging\":[[0,\"#8e0152\"],[0.1,\"#c51b7d\"],[0.2,\"#de77ae\"],[0.3,\"#f1b6da\"],[0.4,\"#fde0ef\"],[0.5,\"#f7f7f7\"],[0.6,\"#e6f5d0\"],[0.7,\"#b8e186\"],[0.8,\"#7fbc41\"],[0.9,\"#4d9221\"],[1,\"#276419\"]],\"sequential\":[[0.0,\"#0d0887\"],[0.1111111111111111,\"#46039f\"],[0.2222222222222222,\"#7201a8\"],[0.3333333333333333,\"#9c179e\"],[0.4444444444444444,\"#bd3786\"],[0.5555555555555556,\"#d8576b\"],[0.6666666666666666,\"#ed7953\"],[0.7777777777777778,\"#fb9f3a\"],[0.8888888888888888,\"#fdca26\"],[1.0,\"#f0f921\"]],\"sequentialminus\":[[0.0,\"#0d0887\"],[0.1111111111111111,\"#46039f\"],[0.2222222222222222,\"#7201a8\"],[0.3333333333333333,\"#9c179e\"],[0.4444444444444444,\"#bd3786\"],[0.5555555555555556,\"#d8576b\"],[0.6666666666666666,\"#ed7953\"],[0.7777777777777778,\"#fb9f3a\"],[0.8888888888888888,\"#fdca26\"],[1.0,\"#f0f921\"]]},\"colorway\":[\"#636efa\",\"#EF553B\",\"#00cc96\",\"#ab63fa\",\"#FFA15A\",\"#19d3f3\",\"#FF6692\",\"#B6E880\",\"#FF97FF\",\"#FECB52\"],\"font\":{\"color\":\"#2a3f5f\"},\"geo\":{\"bgcolor\":\"white\",\"lakecolor\":\"white\",\"landcolor\":\"#E5ECF6\",\"showlakes\":true,\"showland\":true,\"subunitcolor\":\"white\"},\"hoverlabel\":{\"align\":\"left\"},\"hovermode\":\"closest\",\"mapbox\":{\"style\":\"light\"},\"paper_bgcolor\":\"white\",\"plot_bgcolor\":\"#E5ECF6\",\"polar\":{\"angularaxis\":{\"gridcolor\":\"white\",\"linecolor\":\"white\",\"ticks\":\"\"},\"bgcolor\":\"#E5ECF6\",\"radialaxis\":{\"gridcolor\":\"white\",\"linecolor\":\"white\",\"ticks\":\"\"}},\"scene\":{\"xaxis\":{\"backgroundcolor\":\"#E5ECF6\",\"gridcolor\":\"white\",\"gridwidth\":2,\"linecolor\":\"white\",\"showbackground\":true,\"ticks\":\"\",\"zerolinecolor\":\"white\"},\"yaxis\":{\"backgroundcolor\":\"#E5ECF6\",\"gridcolor\":\"white\",\"gridwidth\":2,\"linecolor\":\"white\",\"showbackground\":true,\"ticks\":\"\",\"zerolinecolor\":\"white\"},\"zaxis\":{\"backgroundcolor\":\"#E5ECF6\",\"gridcolor\":\"white\",\"gridwidth\":2,\"linecolor\":\"white\",\"showbackground\":true,\"ticks\":\"\",\"zerolinecolor\":\"white\"}},\"shapedefaults\":{\"line\":{\"color\":\"#2a3f5f\"}},\"ternary\":{\"aaxis\":{\"gridcolor\":\"white\",\"linecolor\":\"white\",\"ticks\":\"\"},\"baxis\":{\"gridcolor\":\"white\",\"linecolor\":\"white\",\"ticks\":\"\"},\"bgcolor\":\"#E5ECF6\",\"caxis\":{\"gridcolor\":\"white\",\"linecolor\":\"white\",\"ticks\":\"\"}},\"title\":{\"x\":0.05},\"xaxis\":{\"automargin\":true,\"gridcolor\":\"white\",\"linecolor\":\"white\",\"ticks\":\"\",\"title\":{\"standoff\":15},\"zerolinecolor\":\"white\",\"zerolinewidth\":2},\"yaxis\":{\"automargin\":true,\"gridcolor\":\"white\",\"linecolor\":\"white\",\"ticks\":\"\",\"title\":{\"standoff\":15},\"zerolinecolor\":\"white\",\"zerolinewidth\":2}}},\"xaxis\":{\"anchor\":\"y\",\"domain\":[0.0,1.0],\"title\":{\"text\":\"estado\"}},\"yaxis\":{\"anchor\":\"x\",\"domain\":[0.0,1.0],\"title\":{\"text\":\"IDHM_Renda\"}},\"coloraxis\":{\"colorbar\":{\"title\":{\"text\":\"IDHM_Renda\"}},\"colorscale\":[[0.0,\"#0d0887\"],[0.1111111111111111,\"#46039f\"],[0.2222222222222222,\"#7201a8\"],[0.3333333333333333,\"#9c179e\"],[0.4444444444444444,\"#bd3786\"],[0.5555555555555556,\"#d8576b\"],[0.6666666666666666,\"#ed7953\"],[0.7777777777777778,\"#fb9f3a\"],[0.8888888888888888,\"#fdca26\"],[1.0,\"#f0f921\"]]},\"legend\":{\"tracegroupgap\":0},\"title\":{\"text\":\"IDHM Renda\"},\"barmode\":\"group\"},                        {\"responsive\": true}                    ).then(function(){\n",
              "                            \n",
              "var gd = document.getElementById('f9e82453-59fa-49bc-83ce-84df7fa769b9');\n",
              "var x = new MutationObserver(function (mutations, observer) {{\n",
              "        var display = window.getComputedStyle(gd).display;\n",
              "        if (!display || display === 'none') {{\n",
              "            console.log([gd, 'removed!']);\n",
              "            Plotly.purge(gd);\n",
              "            observer.disconnect();\n",
              "        }}\n",
              "}});\n",
              "\n",
              "// Listen for the removal of the full notebook cells\n",
              "var notebookContainer = gd.closest('#notebook-container');\n",
              "if (notebookContainer) {{\n",
              "    x.observe(notebookContainer, {childList: true});\n",
              "}}\n",
              "\n",
              "// Listen for the clearing of the current output cell\n",
              "var outputEl = gd.closest('.output');\n",
              "if (outputEl) {{\n",
              "    x.observe(outputEl, {childList: true});\n",
              "}}\n",
              "\n",
              "                        })                };                            </script>        </div>\n",
              "</body>\n",
              "</html>"
            ]
          },
          "metadata": {}
        },
        {
          "output_type": "display_data",
          "data": {
            "text/html": [
              "<html>\n",
              "<head><meta charset=\"utf-8\" /></head>\n",
              "<body>\n",
              "    <div>            <script src=\"https://cdnjs.cloudflare.com/ajax/libs/mathjax/2.7.5/MathJax.js?config=TeX-AMS-MML_SVG\"></script><script type=\"text/javascript\">if (window.MathJax) {MathJax.Hub.Config({SVG: {font: \"STIX-Web\"}});}</script>                <script type=\"text/javascript\">window.PlotlyConfig = {MathJaxConfig: 'local'};</script>\n",
              "        <script src=\"https://cdn.plot.ly/plotly-2.8.3.min.js\"></script>                <div id=\"c7376e5d-898f-4a66-a465-c82062e0c99a\" class=\"plotly-graph-div\" style=\"height:525px; width:100%;\"></div>            <script type=\"text/javascript\">                                    window.PLOTLYENV=window.PLOTLYENV || {};                                    if (document.getElementById(\"c7376e5d-898f-4a66-a465-c82062e0c99a\")) {                    Plotly.newPlot(                        \"c7376e5d-898f-4a66-a465-c82062e0c99a\",                        [{\"alignmentgroup\":\"True\",\"hovertemplate\":\"estado=%{x}<br>IDHM_Educa\\u00e7\\u00e3o=%{marker.color}<extra></extra>\",\"legendgroup\":\"\",\"marker\":{\"color\":[0.779,0.703,0.666,0.735,0.771,0.74,0.727,0.758,0.828,0.671,0.732,0.729,0.71,0.636,0.753,0.661,0.654,0.64,0.685,0.717,0.677,0.763,0.682,0.682,0.804,0.764,0.71],\"coloraxis\":\"coloraxis\",\"pattern\":{\"shape\":\"\"}},\"name\":\"\",\"offsetgroup\":\"\",\"orientation\":\"v\",\"showlegend\":false,\"textposition\":\"auto\",\"x\":[\"SC\",\"RO\",\"PI\",\"AM\",\"RR\",\"GO\",\"TO\",\"MT\",\"SP\",\"PB\",\"ES\",\"RS\",\"MS\",\"AL\",\"MG\",\"PA\",\"BA\",\"SE\",\"PE\",\"CE\",\"RN\",\"RJ\",\"MA\",\"AC\",\"DF\",\"PR\",\"AP\"],\"xaxis\":\"x\",\"y\":[0.779,0.703,0.666,0.735,0.771,0.74,0.727,0.758,0.828,0.671,0.732,0.729,0.71,0.636,0.753,0.661,0.654,0.64,0.685,0.717,0.677,0.763,0.682,0.682,0.804,0.764,0.71],\"yaxis\":\"y\",\"type\":\"bar\"}],                        {\"template\":{\"data\":{\"bar\":[{\"error_x\":{\"color\":\"#2a3f5f\"},\"error_y\":{\"color\":\"#2a3f5f\"},\"marker\":{\"line\":{\"color\":\"#E5ECF6\",\"width\":0.5},\"pattern\":{\"fillmode\":\"overlay\",\"size\":10,\"solidity\":0.2}},\"type\":\"bar\"}],\"barpolar\":[{\"marker\":{\"line\":{\"color\":\"#E5ECF6\",\"width\":0.5},\"pattern\":{\"fillmode\":\"overlay\",\"size\":10,\"solidity\":0.2}},\"type\":\"barpolar\"}],\"carpet\":[{\"aaxis\":{\"endlinecolor\":\"#2a3f5f\",\"gridcolor\":\"white\",\"linecolor\":\"white\",\"minorgridcolor\":\"white\",\"startlinecolor\":\"#2a3f5f\"},\"baxis\":{\"endlinecolor\":\"#2a3f5f\",\"gridcolor\":\"white\",\"linecolor\":\"white\",\"minorgridcolor\":\"white\",\"startlinecolor\":\"#2a3f5f\"},\"type\":\"carpet\"}],\"choropleth\":[{\"colorbar\":{\"outlinewidth\":0,\"ticks\":\"\"},\"type\":\"choropleth\"}],\"contour\":[{\"colorbar\":{\"outlinewidth\":0,\"ticks\":\"\"},\"colorscale\":[[0.0,\"#0d0887\"],[0.1111111111111111,\"#46039f\"],[0.2222222222222222,\"#7201a8\"],[0.3333333333333333,\"#9c179e\"],[0.4444444444444444,\"#bd3786\"],[0.5555555555555556,\"#d8576b\"],[0.6666666666666666,\"#ed7953\"],[0.7777777777777778,\"#fb9f3a\"],[0.8888888888888888,\"#fdca26\"],[1.0,\"#f0f921\"]],\"type\":\"contour\"}],\"contourcarpet\":[{\"colorbar\":{\"outlinewidth\":0,\"ticks\":\"\"},\"type\":\"contourcarpet\"}],\"heatmap\":[{\"colorbar\":{\"outlinewidth\":0,\"ticks\":\"\"},\"colorscale\":[[0.0,\"#0d0887\"],[0.1111111111111111,\"#46039f\"],[0.2222222222222222,\"#7201a8\"],[0.3333333333333333,\"#9c179e\"],[0.4444444444444444,\"#bd3786\"],[0.5555555555555556,\"#d8576b\"],[0.6666666666666666,\"#ed7953\"],[0.7777777777777778,\"#fb9f3a\"],[0.8888888888888888,\"#fdca26\"],[1.0,\"#f0f921\"]],\"type\":\"heatmap\"}],\"heatmapgl\":[{\"colorbar\":{\"outlinewidth\":0,\"ticks\":\"\"},\"colorscale\":[[0.0,\"#0d0887\"],[0.1111111111111111,\"#46039f\"],[0.2222222222222222,\"#7201a8\"],[0.3333333333333333,\"#9c179e\"],[0.4444444444444444,\"#bd3786\"],[0.5555555555555556,\"#d8576b\"],[0.6666666666666666,\"#ed7953\"],[0.7777777777777778,\"#fb9f3a\"],[0.8888888888888888,\"#fdca26\"],[1.0,\"#f0f921\"]],\"type\":\"heatmapgl\"}],\"histogram\":[{\"marker\":{\"pattern\":{\"fillmode\":\"overlay\",\"size\":10,\"solidity\":0.2}},\"type\":\"histogram\"}],\"histogram2d\":[{\"colorbar\":{\"outlinewidth\":0,\"ticks\":\"\"},\"colorscale\":[[0.0,\"#0d0887\"],[0.1111111111111111,\"#46039f\"],[0.2222222222222222,\"#7201a8\"],[0.3333333333333333,\"#9c179e\"],[0.4444444444444444,\"#bd3786\"],[0.5555555555555556,\"#d8576b\"],[0.6666666666666666,\"#ed7953\"],[0.7777777777777778,\"#fb9f3a\"],[0.8888888888888888,\"#fdca26\"],[1.0,\"#f0f921\"]],\"type\":\"histogram2d\"}],\"histogram2dcontour\":[{\"colorbar\":{\"outlinewidth\":0,\"ticks\":\"\"},\"colorscale\":[[0.0,\"#0d0887\"],[0.1111111111111111,\"#46039f\"],[0.2222222222222222,\"#7201a8\"],[0.3333333333333333,\"#9c179e\"],[0.4444444444444444,\"#bd3786\"],[0.5555555555555556,\"#d8576b\"],[0.6666666666666666,\"#ed7953\"],[0.7777777777777778,\"#fb9f3a\"],[0.8888888888888888,\"#fdca26\"],[1.0,\"#f0f921\"]],\"type\":\"histogram2dcontour\"}],\"mesh3d\":[{\"colorbar\":{\"outlinewidth\":0,\"ticks\":\"\"},\"type\":\"mesh3d\"}],\"parcoords\":[{\"line\":{\"colorbar\":{\"outlinewidth\":0,\"ticks\":\"\"}},\"type\":\"parcoords\"}],\"pie\":[{\"automargin\":true,\"type\":\"pie\"}],\"scatter\":[{\"marker\":{\"colorbar\":{\"outlinewidth\":0,\"ticks\":\"\"}},\"type\":\"scatter\"}],\"scatter3d\":[{\"line\":{\"colorbar\":{\"outlinewidth\":0,\"ticks\":\"\"}},\"marker\":{\"colorbar\":{\"outlinewidth\":0,\"ticks\":\"\"}},\"type\":\"scatter3d\"}],\"scattercarpet\":[{\"marker\":{\"colorbar\":{\"outlinewidth\":0,\"ticks\":\"\"}},\"type\":\"scattercarpet\"}],\"scattergeo\":[{\"marker\":{\"colorbar\":{\"outlinewidth\":0,\"ticks\":\"\"}},\"type\":\"scattergeo\"}],\"scattergl\":[{\"marker\":{\"colorbar\":{\"outlinewidth\":0,\"ticks\":\"\"}},\"type\":\"scattergl\"}],\"scattermapbox\":[{\"marker\":{\"colorbar\":{\"outlinewidth\":0,\"ticks\":\"\"}},\"type\":\"scattermapbox\"}],\"scatterpolar\":[{\"marker\":{\"colorbar\":{\"outlinewidth\":0,\"ticks\":\"\"}},\"type\":\"scatterpolar\"}],\"scatterpolargl\":[{\"marker\":{\"colorbar\":{\"outlinewidth\":0,\"ticks\":\"\"}},\"type\":\"scatterpolargl\"}],\"scatterternary\":[{\"marker\":{\"colorbar\":{\"outlinewidth\":0,\"ticks\":\"\"}},\"type\":\"scatterternary\"}],\"surface\":[{\"colorbar\":{\"outlinewidth\":0,\"ticks\":\"\"},\"colorscale\":[[0.0,\"#0d0887\"],[0.1111111111111111,\"#46039f\"],[0.2222222222222222,\"#7201a8\"],[0.3333333333333333,\"#9c179e\"],[0.4444444444444444,\"#bd3786\"],[0.5555555555555556,\"#d8576b\"],[0.6666666666666666,\"#ed7953\"],[0.7777777777777778,\"#fb9f3a\"],[0.8888888888888888,\"#fdca26\"],[1.0,\"#f0f921\"]],\"type\":\"surface\"}],\"table\":[{\"cells\":{\"fill\":{\"color\":\"#EBF0F8\"},\"line\":{\"color\":\"white\"}},\"header\":{\"fill\":{\"color\":\"#C8D4E3\"},\"line\":{\"color\":\"white\"}},\"type\":\"table\"}]},\"layout\":{\"annotationdefaults\":{\"arrowcolor\":\"#2a3f5f\",\"arrowhead\":0,\"arrowwidth\":1},\"autotypenumbers\":\"strict\",\"coloraxis\":{\"colorbar\":{\"outlinewidth\":0,\"ticks\":\"\"}},\"colorscale\":{\"diverging\":[[0,\"#8e0152\"],[0.1,\"#c51b7d\"],[0.2,\"#de77ae\"],[0.3,\"#f1b6da\"],[0.4,\"#fde0ef\"],[0.5,\"#f7f7f7\"],[0.6,\"#e6f5d0\"],[0.7,\"#b8e186\"],[0.8,\"#7fbc41\"],[0.9,\"#4d9221\"],[1,\"#276419\"]],\"sequential\":[[0.0,\"#0d0887\"],[0.1111111111111111,\"#46039f\"],[0.2222222222222222,\"#7201a8\"],[0.3333333333333333,\"#9c179e\"],[0.4444444444444444,\"#bd3786\"],[0.5555555555555556,\"#d8576b\"],[0.6666666666666666,\"#ed7953\"],[0.7777777777777778,\"#fb9f3a\"],[0.8888888888888888,\"#fdca26\"],[1.0,\"#f0f921\"]],\"sequentialminus\":[[0.0,\"#0d0887\"],[0.1111111111111111,\"#46039f\"],[0.2222222222222222,\"#7201a8\"],[0.3333333333333333,\"#9c179e\"],[0.4444444444444444,\"#bd3786\"],[0.5555555555555556,\"#d8576b\"],[0.6666666666666666,\"#ed7953\"],[0.7777777777777778,\"#fb9f3a\"],[0.8888888888888888,\"#fdca26\"],[1.0,\"#f0f921\"]]},\"colorway\":[\"#636efa\",\"#EF553B\",\"#00cc96\",\"#ab63fa\",\"#FFA15A\",\"#19d3f3\",\"#FF6692\",\"#B6E880\",\"#FF97FF\",\"#FECB52\"],\"font\":{\"color\":\"#2a3f5f\"},\"geo\":{\"bgcolor\":\"white\",\"lakecolor\":\"white\",\"landcolor\":\"#E5ECF6\",\"showlakes\":true,\"showland\":true,\"subunitcolor\":\"white\"},\"hoverlabel\":{\"align\":\"left\"},\"hovermode\":\"closest\",\"mapbox\":{\"style\":\"light\"},\"paper_bgcolor\":\"white\",\"plot_bgcolor\":\"#E5ECF6\",\"polar\":{\"angularaxis\":{\"gridcolor\":\"white\",\"linecolor\":\"white\",\"ticks\":\"\"},\"bgcolor\":\"#E5ECF6\",\"radialaxis\":{\"gridcolor\":\"white\",\"linecolor\":\"white\",\"ticks\":\"\"}},\"scene\":{\"xaxis\":{\"backgroundcolor\":\"#E5ECF6\",\"gridcolor\":\"white\",\"gridwidth\":2,\"linecolor\":\"white\",\"showbackground\":true,\"ticks\":\"\",\"zerolinecolor\":\"white\"},\"yaxis\":{\"backgroundcolor\":\"#E5ECF6\",\"gridcolor\":\"white\",\"gridwidth\":2,\"linecolor\":\"white\",\"showbackground\":true,\"ticks\":\"\",\"zerolinecolor\":\"white\"},\"zaxis\":{\"backgroundcolor\":\"#E5ECF6\",\"gridcolor\":\"white\",\"gridwidth\":2,\"linecolor\":\"white\",\"showbackground\":true,\"ticks\":\"\",\"zerolinecolor\":\"white\"}},\"shapedefaults\":{\"line\":{\"color\":\"#2a3f5f\"}},\"ternary\":{\"aaxis\":{\"gridcolor\":\"white\",\"linecolor\":\"white\",\"ticks\":\"\"},\"baxis\":{\"gridcolor\":\"white\",\"linecolor\":\"white\",\"ticks\":\"\"},\"bgcolor\":\"#E5ECF6\",\"caxis\":{\"gridcolor\":\"white\",\"linecolor\":\"white\",\"ticks\":\"\"}},\"title\":{\"x\":0.05},\"xaxis\":{\"automargin\":true,\"gridcolor\":\"white\",\"linecolor\":\"white\",\"ticks\":\"\",\"title\":{\"standoff\":15},\"zerolinecolor\":\"white\",\"zerolinewidth\":2},\"yaxis\":{\"automargin\":true,\"gridcolor\":\"white\",\"linecolor\":\"white\",\"ticks\":\"\",\"title\":{\"standoff\":15},\"zerolinecolor\":\"white\",\"zerolinewidth\":2}}},\"xaxis\":{\"anchor\":\"y\",\"domain\":[0.0,1.0],\"title\":{\"text\":\"estado\"}},\"yaxis\":{\"anchor\":\"x\",\"domain\":[0.0,1.0],\"title\":{\"text\":\"IDHM_Educa\\u00e7\\u00e3o\"}},\"coloraxis\":{\"colorbar\":{\"title\":{\"text\":\"IDHM_Educa\\u00e7\\u00e3o\"}},\"colorscale\":[[0.0,\"#0d0887\"],[0.1111111111111111,\"#46039f\"],[0.2222222222222222,\"#7201a8\"],[0.3333333333333333,\"#9c179e\"],[0.4444444444444444,\"#bd3786\"],[0.5555555555555556,\"#d8576b\"],[0.6666666666666666,\"#ed7953\"],[0.7777777777777778,\"#fb9f3a\"],[0.8888888888888888,\"#fdca26\"],[1.0,\"#f0f921\"]]},\"legend\":{\"tracegroupgap\":0},\"title\":{\"text\":\"IDHM Educa\\u00e7\\u00e3o\"},\"barmode\":\"group\"},                        {\"responsive\": true}                    ).then(function(){\n",
              "                            \n",
              "var gd = document.getElementById('c7376e5d-898f-4a66-a465-c82062e0c99a');\n",
              "var x = new MutationObserver(function (mutations, observer) {{\n",
              "        var display = window.getComputedStyle(gd).display;\n",
              "        if (!display || display === 'none') {{\n",
              "            console.log([gd, 'removed!']);\n",
              "            Plotly.purge(gd);\n",
              "            observer.disconnect();\n",
              "        }}\n",
              "}});\n",
              "\n",
              "// Listen for the removal of the full notebook cells\n",
              "var notebookContainer = gd.closest('#notebook-container');\n",
              "if (notebookContainer) {{\n",
              "    x.observe(notebookContainer, {childList: true});\n",
              "}}\n",
              "\n",
              "// Listen for the clearing of the current output cell\n",
              "var outputEl = gd.closest('.output');\n",
              "if (outputEl) {{\n",
              "    x.observe(outputEl, {childList: true});\n",
              "}}\n",
              "\n",
              "                        })                };                            </script>        </div>\n",
              "</body>\n",
              "</html>"
            ]
          },
          "metadata": {}
        },
        {
          "output_type": "display_data",
          "data": {
            "text/html": [
              "<html>\n",
              "<head><meta charset=\"utf-8\" /></head>\n",
              "<body>\n",
              "    <div>            <script src=\"https://cdnjs.cloudflare.com/ajax/libs/mathjax/2.7.5/MathJax.js?config=TeX-AMS-MML_SVG\"></script><script type=\"text/javascript\">if (window.MathJax) {MathJax.Hub.Config({SVG: {font: \"STIX-Web\"}});}</script>                <script type=\"text/javascript\">window.PlotlyConfig = {MathJaxConfig: 'local'};</script>\n",
              "        <script src=\"https://cdn.plot.ly/plotly-2.8.3.min.js\"></script>                <div id=\"6e781160-22aa-4f33-8408-52dfa03aba52\" class=\"plotly-graph-div\" style=\"height:525px; width:100%;\"></div>            <script type=\"text/javascript\">                                    window.PLOTLYENV=window.PLOTLYENV || {};                                    if (document.getElementById(\"6e781160-22aa-4f33-8408-52dfa03aba52\")) {                    Plotly.newPlot(                        \"6e781160-22aa-4f33-8408-52dfa03aba52\",                        [{\"alignmentgroup\":\"True\",\"hovertemplate\":\"estado=%{x}<br>IDHM_Longevidade=%{marker.color}<extra></extra>\",\"legendgroup\":\"\",\"marker\":{\"color\":[0.783,0.699,0.66,0.682,0.706,0.747,0.696,0.742,0.796,0.694,0.74,0.787,0.748,0.639,0.741,0.654,0.685,0.677,0.682,0.676,0.68,0.769,0.623,0.664,0.859,0.771,0.695],\"coloraxis\":\"coloraxis\",\"pattern\":{\"shape\":\"\"}},\"name\":\"\",\"offsetgroup\":\"\",\"orientation\":\"v\",\"showlegend\":false,\"textposition\":\"auto\",\"x\":[\"SC\",\"RO\",\"PI\",\"AM\",\"RR\",\"GO\",\"TO\",\"MT\",\"SP\",\"PB\",\"ES\",\"RS\",\"MS\",\"AL\",\"MG\",\"PA\",\"BA\",\"SE\",\"PE\",\"CE\",\"RN\",\"RJ\",\"MA\",\"AC\",\"DF\",\"PR\",\"AP\"],\"xaxis\":\"x\",\"y\":[0.783,0.699,0.66,0.682,0.706,0.747,0.696,0.742,0.796,0.694,0.74,0.787,0.748,0.639,0.741,0.654,0.685,0.677,0.682,0.676,0.68,0.769,0.623,0.664,0.859,0.771,0.695],\"yaxis\":\"y\",\"type\":\"bar\"}],                        {\"template\":{\"data\":{\"bar\":[{\"error_x\":{\"color\":\"#2a3f5f\"},\"error_y\":{\"color\":\"#2a3f5f\"},\"marker\":{\"line\":{\"color\":\"#E5ECF6\",\"width\":0.5},\"pattern\":{\"fillmode\":\"overlay\",\"size\":10,\"solidity\":0.2}},\"type\":\"bar\"}],\"barpolar\":[{\"marker\":{\"line\":{\"color\":\"#E5ECF6\",\"width\":0.5},\"pattern\":{\"fillmode\":\"overlay\",\"size\":10,\"solidity\":0.2}},\"type\":\"barpolar\"}],\"carpet\":[{\"aaxis\":{\"endlinecolor\":\"#2a3f5f\",\"gridcolor\":\"white\",\"linecolor\":\"white\",\"minorgridcolor\":\"white\",\"startlinecolor\":\"#2a3f5f\"},\"baxis\":{\"endlinecolor\":\"#2a3f5f\",\"gridcolor\":\"white\",\"linecolor\":\"white\",\"minorgridcolor\":\"white\",\"startlinecolor\":\"#2a3f5f\"},\"type\":\"carpet\"}],\"choropleth\":[{\"colorbar\":{\"outlinewidth\":0,\"ticks\":\"\"},\"type\":\"choropleth\"}],\"contour\":[{\"colorbar\":{\"outlinewidth\":0,\"ticks\":\"\"},\"colorscale\":[[0.0,\"#0d0887\"],[0.1111111111111111,\"#46039f\"],[0.2222222222222222,\"#7201a8\"],[0.3333333333333333,\"#9c179e\"],[0.4444444444444444,\"#bd3786\"],[0.5555555555555556,\"#d8576b\"],[0.6666666666666666,\"#ed7953\"],[0.7777777777777778,\"#fb9f3a\"],[0.8888888888888888,\"#fdca26\"],[1.0,\"#f0f921\"]],\"type\":\"contour\"}],\"contourcarpet\":[{\"colorbar\":{\"outlinewidth\":0,\"ticks\":\"\"},\"type\":\"contourcarpet\"}],\"heatmap\":[{\"colorbar\":{\"outlinewidth\":0,\"ticks\":\"\"},\"colorscale\":[[0.0,\"#0d0887\"],[0.1111111111111111,\"#46039f\"],[0.2222222222222222,\"#7201a8\"],[0.3333333333333333,\"#9c179e\"],[0.4444444444444444,\"#bd3786\"],[0.5555555555555556,\"#d8576b\"],[0.6666666666666666,\"#ed7953\"],[0.7777777777777778,\"#fb9f3a\"],[0.8888888888888888,\"#fdca26\"],[1.0,\"#f0f921\"]],\"type\":\"heatmap\"}],\"heatmapgl\":[{\"colorbar\":{\"outlinewidth\":0,\"ticks\":\"\"},\"colorscale\":[[0.0,\"#0d0887\"],[0.1111111111111111,\"#46039f\"],[0.2222222222222222,\"#7201a8\"],[0.3333333333333333,\"#9c179e\"],[0.4444444444444444,\"#bd3786\"],[0.5555555555555556,\"#d8576b\"],[0.6666666666666666,\"#ed7953\"],[0.7777777777777778,\"#fb9f3a\"],[0.8888888888888888,\"#fdca26\"],[1.0,\"#f0f921\"]],\"type\":\"heatmapgl\"}],\"histogram\":[{\"marker\":{\"pattern\":{\"fillmode\":\"overlay\",\"size\":10,\"solidity\":0.2}},\"type\":\"histogram\"}],\"histogram2d\":[{\"colorbar\":{\"outlinewidth\":0,\"ticks\":\"\"},\"colorscale\":[[0.0,\"#0d0887\"],[0.1111111111111111,\"#46039f\"],[0.2222222222222222,\"#7201a8\"],[0.3333333333333333,\"#9c179e\"],[0.4444444444444444,\"#bd3786\"],[0.5555555555555556,\"#d8576b\"],[0.6666666666666666,\"#ed7953\"],[0.7777777777777778,\"#fb9f3a\"],[0.8888888888888888,\"#fdca26\"],[1.0,\"#f0f921\"]],\"type\":\"histogram2d\"}],\"histogram2dcontour\":[{\"colorbar\":{\"outlinewidth\":0,\"ticks\":\"\"},\"colorscale\":[[0.0,\"#0d0887\"],[0.1111111111111111,\"#46039f\"],[0.2222222222222222,\"#7201a8\"],[0.3333333333333333,\"#9c179e\"],[0.4444444444444444,\"#bd3786\"],[0.5555555555555556,\"#d8576b\"],[0.6666666666666666,\"#ed7953\"],[0.7777777777777778,\"#fb9f3a\"],[0.8888888888888888,\"#fdca26\"],[1.0,\"#f0f921\"]],\"type\":\"histogram2dcontour\"}],\"mesh3d\":[{\"colorbar\":{\"outlinewidth\":0,\"ticks\":\"\"},\"type\":\"mesh3d\"}],\"parcoords\":[{\"line\":{\"colorbar\":{\"outlinewidth\":0,\"ticks\":\"\"}},\"type\":\"parcoords\"}],\"pie\":[{\"automargin\":true,\"type\":\"pie\"}],\"scatter\":[{\"marker\":{\"colorbar\":{\"outlinewidth\":0,\"ticks\":\"\"}},\"type\":\"scatter\"}],\"scatter3d\":[{\"line\":{\"colorbar\":{\"outlinewidth\":0,\"ticks\":\"\"}},\"marker\":{\"colorbar\":{\"outlinewidth\":0,\"ticks\":\"\"}},\"type\":\"scatter3d\"}],\"scattercarpet\":[{\"marker\":{\"colorbar\":{\"outlinewidth\":0,\"ticks\":\"\"}},\"type\":\"scattercarpet\"}],\"scattergeo\":[{\"marker\":{\"colorbar\":{\"outlinewidth\":0,\"ticks\":\"\"}},\"type\":\"scattergeo\"}],\"scattergl\":[{\"marker\":{\"colorbar\":{\"outlinewidth\":0,\"ticks\":\"\"}},\"type\":\"scattergl\"}],\"scattermapbox\":[{\"marker\":{\"colorbar\":{\"outlinewidth\":0,\"ticks\":\"\"}},\"type\":\"scattermapbox\"}],\"scatterpolar\":[{\"marker\":{\"colorbar\":{\"outlinewidth\":0,\"ticks\":\"\"}},\"type\":\"scatterpolar\"}],\"scatterpolargl\":[{\"marker\":{\"colorbar\":{\"outlinewidth\":0,\"ticks\":\"\"}},\"type\":\"scatterpolargl\"}],\"scatterternary\":[{\"marker\":{\"colorbar\":{\"outlinewidth\":0,\"ticks\":\"\"}},\"type\":\"scatterternary\"}],\"surface\":[{\"colorbar\":{\"outlinewidth\":0,\"ticks\":\"\"},\"colorscale\":[[0.0,\"#0d0887\"],[0.1111111111111111,\"#46039f\"],[0.2222222222222222,\"#7201a8\"],[0.3333333333333333,\"#9c179e\"],[0.4444444444444444,\"#bd3786\"],[0.5555555555555556,\"#d8576b\"],[0.6666666666666666,\"#ed7953\"],[0.7777777777777778,\"#fb9f3a\"],[0.8888888888888888,\"#fdca26\"],[1.0,\"#f0f921\"]],\"type\":\"surface\"}],\"table\":[{\"cells\":{\"fill\":{\"color\":\"#EBF0F8\"},\"line\":{\"color\":\"white\"}},\"header\":{\"fill\":{\"color\":\"#C8D4E3\"},\"line\":{\"color\":\"white\"}},\"type\":\"table\"}]},\"layout\":{\"annotationdefaults\":{\"arrowcolor\":\"#2a3f5f\",\"arrowhead\":0,\"arrowwidth\":1},\"autotypenumbers\":\"strict\",\"coloraxis\":{\"colorbar\":{\"outlinewidth\":0,\"ticks\":\"\"}},\"colorscale\":{\"diverging\":[[0,\"#8e0152\"],[0.1,\"#c51b7d\"],[0.2,\"#de77ae\"],[0.3,\"#f1b6da\"],[0.4,\"#fde0ef\"],[0.5,\"#f7f7f7\"],[0.6,\"#e6f5d0\"],[0.7,\"#b8e186\"],[0.8,\"#7fbc41\"],[0.9,\"#4d9221\"],[1,\"#276419\"]],\"sequential\":[[0.0,\"#0d0887\"],[0.1111111111111111,\"#46039f\"],[0.2222222222222222,\"#7201a8\"],[0.3333333333333333,\"#9c179e\"],[0.4444444444444444,\"#bd3786\"],[0.5555555555555556,\"#d8576b\"],[0.6666666666666666,\"#ed7953\"],[0.7777777777777778,\"#fb9f3a\"],[0.8888888888888888,\"#fdca26\"],[1.0,\"#f0f921\"]],\"sequentialminus\":[[0.0,\"#0d0887\"],[0.1111111111111111,\"#46039f\"],[0.2222222222222222,\"#7201a8\"],[0.3333333333333333,\"#9c179e\"],[0.4444444444444444,\"#bd3786\"],[0.5555555555555556,\"#d8576b\"],[0.6666666666666666,\"#ed7953\"],[0.7777777777777778,\"#fb9f3a\"],[0.8888888888888888,\"#fdca26\"],[1.0,\"#f0f921\"]]},\"colorway\":[\"#636efa\",\"#EF553B\",\"#00cc96\",\"#ab63fa\",\"#FFA15A\",\"#19d3f3\",\"#FF6692\",\"#B6E880\",\"#FF97FF\",\"#FECB52\"],\"font\":{\"color\":\"#2a3f5f\"},\"geo\":{\"bgcolor\":\"white\",\"lakecolor\":\"white\",\"landcolor\":\"#E5ECF6\",\"showlakes\":true,\"showland\":true,\"subunitcolor\":\"white\"},\"hoverlabel\":{\"align\":\"left\"},\"hovermode\":\"closest\",\"mapbox\":{\"style\":\"light\"},\"paper_bgcolor\":\"white\",\"plot_bgcolor\":\"#E5ECF6\",\"polar\":{\"angularaxis\":{\"gridcolor\":\"white\",\"linecolor\":\"white\",\"ticks\":\"\"},\"bgcolor\":\"#E5ECF6\",\"radialaxis\":{\"gridcolor\":\"white\",\"linecolor\":\"white\",\"ticks\":\"\"}},\"scene\":{\"xaxis\":{\"backgroundcolor\":\"#E5ECF6\",\"gridcolor\":\"white\",\"gridwidth\":2,\"linecolor\":\"white\",\"showbackground\":true,\"ticks\":\"\",\"zerolinecolor\":\"white\"},\"yaxis\":{\"backgroundcolor\":\"#E5ECF6\",\"gridcolor\":\"white\",\"gridwidth\":2,\"linecolor\":\"white\",\"showbackground\":true,\"ticks\":\"\",\"zerolinecolor\":\"white\"},\"zaxis\":{\"backgroundcolor\":\"#E5ECF6\",\"gridcolor\":\"white\",\"gridwidth\":2,\"linecolor\":\"white\",\"showbackground\":true,\"ticks\":\"\",\"zerolinecolor\":\"white\"}},\"shapedefaults\":{\"line\":{\"color\":\"#2a3f5f\"}},\"ternary\":{\"aaxis\":{\"gridcolor\":\"white\",\"linecolor\":\"white\",\"ticks\":\"\"},\"baxis\":{\"gridcolor\":\"white\",\"linecolor\":\"white\",\"ticks\":\"\"},\"bgcolor\":\"#E5ECF6\",\"caxis\":{\"gridcolor\":\"white\",\"linecolor\":\"white\",\"ticks\":\"\"}},\"title\":{\"x\":0.05},\"xaxis\":{\"automargin\":true,\"gridcolor\":\"white\",\"linecolor\":\"white\",\"ticks\":\"\",\"title\":{\"standoff\":15},\"zerolinecolor\":\"white\",\"zerolinewidth\":2},\"yaxis\":{\"automargin\":true,\"gridcolor\":\"white\",\"linecolor\":\"white\",\"ticks\":\"\",\"title\":{\"standoff\":15},\"zerolinecolor\":\"white\",\"zerolinewidth\":2}}},\"xaxis\":{\"anchor\":\"y\",\"domain\":[0.0,1.0],\"title\":{\"text\":\"estado\"}},\"yaxis\":{\"anchor\":\"x\",\"domain\":[0.0,1.0],\"title\":{\"text\":\"IDHM_Longevidade\"}},\"coloraxis\":{\"colorbar\":{\"title\":{\"text\":\"IDHM_Longevidade\"}},\"colorscale\":[[0.0,\"#0d0887\"],[0.1111111111111111,\"#46039f\"],[0.2222222222222222,\"#7201a8\"],[0.3333333333333333,\"#9c179e\"],[0.4444444444444444,\"#bd3786\"],[0.5555555555555556,\"#d8576b\"],[0.6666666666666666,\"#ed7953\"],[0.7777777777777778,\"#fb9f3a\"],[0.8888888888888888,\"#fdca26\"],[1.0,\"#f0f921\"]]},\"legend\":{\"tracegroupgap\":0},\"title\":{\"text\":\"IDHM Longevidade\"},\"barmode\":\"group\"},                        {\"responsive\": true}                    ).then(function(){\n",
              "                            \n",
              "var gd = document.getElementById('6e781160-22aa-4f33-8408-52dfa03aba52');\n",
              "var x = new MutationObserver(function (mutations, observer) {{\n",
              "        var display = window.getComputedStyle(gd).display;\n",
              "        if (!display || display === 'none') {{\n",
              "            console.log([gd, 'removed!']);\n",
              "            Plotly.purge(gd);\n",
              "            observer.disconnect();\n",
              "        }}\n",
              "}});\n",
              "\n",
              "// Listen for the removal of the full notebook cells\n",
              "var notebookContainer = gd.closest('#notebook-container');\n",
              "if (notebookContainer) {{\n",
              "    x.observe(notebookContainer, {childList: true});\n",
              "}}\n",
              "\n",
              "// Listen for the clearing of the current output cell\n",
              "var outputEl = gd.closest('.output');\n",
              "if (outputEl) {{\n",
              "    x.observe(outputEl, {childList: true});\n",
              "}}\n",
              "\n",
              "                        })                };                            </script>        </div>\n",
              "</body>\n",
              "</html>"
            ]
          },
          "metadata": {}
        }
      ],
      "source": [
        "to_plot_idh = [v for v in list(graf_idh.columns)]\n",
        "\n",
        "fig_graf_idh_covid = px.bar(graf_idh, x=graf_idh.estado, y=to_plot_idh,\\\n",
        "                                   barmode=\"stack\",\\\n",
        "                                   text_auto='.2s',\\\n",
        "                                   title=\"Casos novos de Covid e IDH\")\n",
        "             \n",
        "fig_graf_idh_covid.show()\n",
        "\n",
        "\n",
        "graf_idh_covid_obito = px.bar(graf_idh, x='estado', y=\"total_casos_estados\",\\\n",
        "                              barmode=\"group\",\\\n",
        "                              color=\"total_casos_estados\",\\\n",
        "                              title=\"Casos novos de  Covid\")\n",
        "graf_idh_covid= px.bar(graf_idh, x='estado', y=\"IDHM\",\\\n",
        "                       barmode=\"group\",\\\n",
        "                       color=\"IDHM\",\\\n",
        "                       title=\"IDHM\")\n",
        "graf_idh_covid_renda = px.bar(graf_idh, x='estado', y=\"IDHM_Renda\",\\\n",
        "                              barmode=\"group\",\\\n",
        "                              color=\"IDHM_Renda\",\\\n",
        "                              title=\"IDHM Renda\")\n",
        "graf_idh_covid_educacao = px.bar(graf_idh, x='estado', y=\"IDHM_Educação\",\\\n",
        "                                 barmode=\"group\",\\\n",
        "                                 color=\"IDHM_Educação\",\\\n",
        "                                 title=\"IDHM Educação\")\n",
        "graf_idh_covid_educacao_longevidade = px.bar(graf_idh, x='estado', y=\"IDHM_Longevidade\",\\\n",
        "                                             barmode=\"group\",\\\n",
        "                                             color=\"IDHM_Longevidade\",\\\n",
        "                                             title=\"IDHM Longevidade\")\n",
        "graf_idh_covid_obito.show()\n",
        "graf_idh_covid.show()\n",
        "graf_idh_covid_renda.show()\n",
        "graf_idh_covid_educacao.show()\n",
        "graf_idh_covid_educacao_longevidade.show()"
      ]
    },
    {
      "cell_type": "code",
      "execution_count": null,
      "metadata": {
        "id": "zcZM4ef-UPQL",
        "colab": {
          "base_uri": "https://localhost:8080/"
        },
        "outputId": "6ed24476-4276-4ed3-ccc7-e77c99522674"
      },
      "outputs": [
        {
          "output_type": "stream",
          "name": "stdout",
          "text": [
            "+------+------+--------------------+-----+------+--------------+---------------+----------+---------+----------------+--------------+----------+---------------+-----------+----------------+---------------------+\n",
            "|regiao|estado|           municipio|coduf|codmun|codRegiaoSaude|nomeRegiaoSaude|      data|semanaEpi|populacaoTCU2019|casosAcumulado|casosNovos|obitosAcumulado|obitosNovos|Recuperadosnovos|emAcompanhamentoNovos|\n",
            "+------+------+--------------------+-----+------+--------------+---------------+----------+---------+----------------+--------------+----------+---------------+-----------+----------------+---------------------+\n",
            "| Norte|    RO|Alta Floresta D'O...|   11|110001|         11005|   ZONA DA MATA|2020-03-27|       13|           22945|           0.0|         0|              0|          0|            null|                 null|\n",
            "| Norte|    RO|Alta Floresta D'O...|   11|110001|         11005|   ZONA DA MATA|2020-03-28|       13|           22945|           0.0|         0|              0|          0|            null|                 null|\n",
            "| Norte|    RO|Alta Floresta D'O...|   11|110001|         11005|   ZONA DA MATA|2020-03-29|       14|           22945|           0.0|         0|              0|          0|            null|                 null|\n",
            "| Norte|    RO|Alta Floresta D'O...|   11|110001|         11005|   ZONA DA MATA|2020-03-30|       14|           22945|           0.0|         0|              0|          0|            null|                 null|\n",
            "| Norte|    RO|Alta Floresta D'O...|   11|110001|         11005|   ZONA DA MATA|2020-03-31|       14|           22945|           0.0|         0|              0|          0|            null|                 null|\n",
            "+------+------+--------------------+-----+------+--------------+---------------+----------+---------+----------------+--------------+----------+---------------+-----------+----------------+---------------------+\n",
            "only showing top 5 rows\n",
            "\n"
          ]
        }
      ],
      "source": [
        "covid_novo.show(5)"
      ]
    },
    {
      "cell_type": "markdown",
      "metadata": {
        "id": "-yzX7uoEUufh"
      },
      "source": [
        "####**Previsão de óbitos por covid.**\n",
        "Foi realizada uma previsão de óbitos por covid de acordo com os dados  das colunas populacaoTCU2019 e casosNovos, desconsiderando dados com resultado de casos novos igual a zero para evitar possível falha de treino e teste dos modelos."
      ]
    },
    {
      "cell_type": "code",
      "execution_count": null,
      "metadata": {
        "id": "KLYMzPgGWKFl",
        "colab": {
          "base_uri": "https://localhost:8080/"
        },
        "outputId": "e9a8a82c-946d-4401-fa5d-da030c534050"
      },
      "outputs": [
        {
          "output_type": "stream",
          "name": "stdout",
          "text": [
            "+------+----------------+----------+-----------+\n",
            "|codmun|populacaoTCU2019|casosNovos|obitosNovos|\n",
            "+------+----------------+----------+-----------+\n",
            "|110001|           22945|         1|          1|\n",
            "|110001|           22945|        18|          1|\n",
            "|110002|          107863|         3|          1|\n",
            "|110002|          107863|        21|          1|\n",
            "|110002|          107863|        14|          1|\n",
            "+------+----------------+----------+-----------+\n",
            "only showing top 5 rows\n",
            "\n"
          ]
        }
      ],
      "source": [
        "dados = covid_novo.filter(col(\"casosNovos\")  > 0)\\\n",
        "                  .filter(col(\"obitosNovos\") > 0)\\\n",
        "                  .select(\"codmun\", \"populacaoTCU2019\", \"casosNovos\", \"obitosNovos\")\n",
        "\n",
        "dados.show(5)"
      ]
    },
    {
      "cell_type": "code",
      "execution_count": null,
      "metadata": {
        "id": "s1Dc5i6WZtY-",
        "colab": {
          "base_uri": "https://localhost:8080/"
        },
        "outputId": "0742e601-1b61-4bd0-f445-8873d7f26bc8"
      },
      "outputs": [
        {
          "output_type": "stream",
          "name": "stdout",
          "text": [
            "+------+----------------+----------+-----------+---------------+\n",
            "|codmun|populacaoTCU2019|casosNovos|obitosNovos|          dados|\n",
            "+------+----------------+----------+-----------+---------------+\n",
            "|110001|           22945|         1|          1|  [22945.0,1.0]|\n",
            "|110001|           22945|        18|          1| [22945.0,18.0]|\n",
            "|110002|          107863|         3|          1| [107863.0,3.0]|\n",
            "|110002|          107863|        21|          1|[107863.0,21.0]|\n",
            "|110002|          107863|        14|          1|[107863.0,14.0]|\n",
            "+------+----------------+----------+-----------+---------------+\n",
            "only showing top 5 rows\n",
            "\n"
          ]
        }
      ],
      "source": [
        "testedados = VectorAssembler(inputCols=[(\"populacaoTCU2019\"),(\"casosNovos\")],\\\n",
        "                             outputCol=\"dados\")\n",
        "testedata = testedados.transform(dados)\n",
        "\n",
        "testedata.show(5)"
      ]
    },
    {
      "cell_type": "code",
      "execution_count": null,
      "metadata": {
        "id": "_osznZ0opTcd",
        "colab": {
          "base_uri": "https://localhost:8080/"
        },
        "outputId": "88eb1ae6-92ce-4759-abeb-4531c0ef3669"
      },
      "outputs": [
        {
          "output_type": "stream",
          "name": "stdout",
          "text": [
            "191595\n",
            "82332\n"
          ]
        }
      ],
      "source": [
        "treino, teste = testedata.randomSplit([0.7,0.3])\n",
        "\n",
        "print(treino.count())\n",
        "print(teste.count())"
      ]
    },
    {
      "cell_type": "markdown",
      "metadata": {
        "id": "IXxclRyVaHSB"
      },
      "source": [
        "- Modelo Regressão Linear."
      ]
    },
    {
      "cell_type": "code",
      "execution_count": null,
      "metadata": {
        "id": "uKrmZHh3qRSV"
      },
      "outputs": [],
      "source": [
        "reglin = LinearRegression(featuresCol=\"dados\", labelCol=\"obitosNovos\")\n",
        "\n",
        "modelo = reglin.fit(treino)"
      ]
    },
    {
      "cell_type": "markdown",
      "metadata": {
        "id": "8c186NsTzBL4"
      },
      "source": [
        "- Previsão."
      ]
    },
    {
      "cell_type": "code",
      "execution_count": null,
      "metadata": {
        "id": "pcAbHqZOvA4W"
      },
      "outputs": [],
      "source": [
        "previsao = modelo.transform(teste)"
      ]
    },
    {
      "cell_type": "code",
      "execution_count": null,
      "metadata": {
        "id": "FaU5xV2tUJiZ",
        "colab": {
          "base_uri": "https://localhost:8080/"
        },
        "outputId": "cd1990d8-4a1d-4220-c6c7-da1d495013a5"
      },
      "outputs": [
        {
          "output_type": "stream",
          "name": "stdout",
          "text": [
            "+------+----------------+----------+-----------+----------------+------------------+\n",
            "|codmun|populacaoTCU2019|casosNovos|obitosNovos|           dados|        prediction|\n",
            "+------+----------------+----------+-----------+----------------+------------------+\n",
            "|110001|           22945|        18|          1|  [22945.0,18.0]|1.3466382882416847|\n",
            "|110002|          107863|         3|          1|  [107863.0,3.0]|1.3620692595724333|\n",
            "|110002|          107863|         4|          1|  [107863.0,4.0]|1.3773747613940943|\n",
            "|110002|          107863|        19|          1| [107863.0,19.0]|1.6069572887190082|\n",
            "|110002|          107863|        29|          1| [107863.0,29.0]| 1.760012306935618|\n",
            "|110002|          107863|        41|          1| [107863.0,41.0]| 1.943678328795549|\n",
            "|110002|          107863|        49|          1| [107863.0,49.0]|2.0661223433688365|\n",
            "|110002|          107863|        57|          1| [107863.0,57.0]| 2.188566357942124|\n",
            "|110002|          107863|       157|          2|[107863.0,157.0]|3.7191165401082182|\n",
            "|110003|            5312|         1|          1|    [5312.0,1.0]|1.0355683468328436|\n",
            "|110003|            5312|         3|          1|    [5312.0,3.0]|1.0661793504761654|\n",
            "|110004|           85359|        15|          1|  [85359.0,15.0]|1.4808045980231106|\n",
            "|110005|           16323|         1|          1|   [16323.0,1.0]| 1.067338332391824|\n",
            "|110005|           16323|         1|          1|   [16323.0,1.0]| 1.067338332391824|\n",
            "|110005|           16323|        16|          1|  [16323.0,16.0]| 1.296920859716738|\n",
            "|110010|           46174|         2|          1|   [46174.0,2.0]|1.1687727815317237|\n",
            "|110010|           46174|         5|          1|   [46174.0,5.0]|1.2146892869967065|\n",
            "|110010|           46174|         7|          2|   [46174.0,7.0]|1.2453002906400283|\n",
            "|110010|           46174|        27|          2|  [46174.0,27.0]| 1.551410327073247|\n",
            "|110010|           46174|        33|          1|  [46174.0,33.0]|1.6432433380032128|\n",
            "+------+----------------+----------+-----------+----------------+------------------+\n",
            "only showing top 20 rows\n",
            "\n"
          ]
        }
      ],
      "source": [
        "previsao.show()"
      ]
    },
    {
      "cell_type": "markdown",
      "metadata": {
        "id": "DHusoEfLaYo1"
      },
      "source": [
        "- Avaliação do modelo."
      ]
    },
    {
      "cell_type": "code",
      "execution_count": null,
      "metadata": {
        "id": "undXyVkPwmcY",
        "colab": {
          "base_uri": "https://localhost:8080/"
        },
        "outputId": "d3302204-97b5-40c2-8534-59235477eb2b"
      },
      "outputs": [
        {
          "output_type": "stream",
          "name": "stdout",
          "text": [
            "8.144254042363894\n"
          ]
        }
      ],
      "source": [
        "avaliar = RegressionEvaluator(predictionCol=\"prediction\",\\\n",
        "                              labelCol=\"obitosNovos\",\\\n",
        "                              metricName=\"rmse\")\n",
        "\n",
        "rmse = avaliar.evaluate(previsao)\n",
        "\n",
        "print(rmse)"
      ]
    },
    {
      "cell_type": "markdown",
      "metadata": {
        "id": "KFG0zpQJaXq0"
      },
      "source": [
        "- Modelo Regressão RandomForest."
      ]
    },
    {
      "cell_type": "code",
      "execution_count": null,
      "metadata": {
        "id": "qKe5nqWiyxfX"
      },
      "outputs": [],
      "source": [
        "rfreg = RandomForestRegressor(featuresCol=\"dados\", labelCol=\"obitosNovos\")\n",
        "\n",
        "model2 = rfreg.fit(treino)"
      ]
    },
    {
      "cell_type": "markdown",
      "metadata": {
        "id": "s3J46F-Hy0fG"
      },
      "source": [
        "- Previsão."
      ]
    },
    {
      "cell_type": "code",
      "execution_count": null,
      "metadata": {
        "id": "Y5X_9WQ60-Eb"
      },
      "outputs": [],
      "source": [
        "previsao2 = model2.transform(teste)"
      ]
    },
    {
      "cell_type": "code",
      "execution_count": null,
      "metadata": {
        "id": "S21jIA67UNwF",
        "colab": {
          "base_uri": "https://localhost:8080/"
        },
        "outputId": "2bfe8cb4-cdf3-46e0-dac0-0bb26e0577e1"
      },
      "outputs": [
        {
          "output_type": "stream",
          "name": "stdout",
          "text": [
            "+------+----------------+----------+-----------+----------------+------------------+\n",
            "|codmun|populacaoTCU2019|casosNovos|obitosNovos|           dados|        prediction|\n",
            "+------+----------------+----------+-----------+----------------+------------------+\n",
            "|110001|           22945|        18|          1|  [22945.0,18.0]| 1.350694972936972|\n",
            "|110002|          107863|         3|          1|  [107863.0,3.0]|1.5686138558306528|\n",
            "|110002|          107863|         4|          1|  [107863.0,4.0]|1.5798288232141264|\n",
            "|110002|          107863|        19|          1| [107863.0,19.0]|1.6572487078291804|\n",
            "|110002|          107863|        29|          1| [107863.0,29.0]|1.7622902045340418|\n",
            "|110002|          107863|        41|          1| [107863.0,41.0]|2.0061403981705883|\n",
            "|110002|          107863|        49|          1| [107863.0,49.0]|2.1390070804494923|\n",
            "|110002|          107863|        57|          1| [107863.0,57.0]|2.1564925275707005|\n",
            "|110002|          107863|       157|          2|[107863.0,157.0]|2.8512632107370672|\n",
            "|110003|            5312|         1|          1|    [5312.0,1.0]|1.2366371716232292|\n",
            "|110003|            5312|         3|          1|    [5312.0,3.0]|1.2366371716232292|\n",
            "|110004|           85359|        15|          1|  [85359.0,15.0]|1.6572487078291804|\n",
            "|110005|           16323|         1|          1|   [16323.0,1.0]|1.2366371716232292|\n",
            "|110005|           16323|         1|          1|   [16323.0,1.0]|1.2366371716232292|\n",
            "|110005|           16323|        16|          1|  [16323.0,16.0]| 1.350694972936972|\n",
            "|110010|           46174|         2|          1|   [46174.0,2.0]| 1.353350929414698|\n",
            "|110010|           46174|         5|          1|   [46174.0,5.0]|1.3758621679431031|\n",
            "|110010|           46174|         7|          2|   [46174.0,7.0]|1.3758621679431031|\n",
            "|110010|           46174|        27|          2|  [46174.0,27.0]|1.5368621363977384|\n",
            "|110010|           46174|        33|          1|  [46174.0,33.0]|1.5555942875863396|\n",
            "+------+----------------+----------+-----------+----------------+------------------+\n",
            "only showing top 20 rows\n",
            "\n"
          ]
        }
      ],
      "source": [
        "previsao2.show()"
      ]
    },
    {
      "cell_type": "markdown",
      "metadata": {
        "id": "8aLw_l8GIh9Y"
      },
      "source": [
        "- Avaliação do modelo."
      ]
    },
    {
      "cell_type": "code",
      "execution_count": null,
      "metadata": {
        "id": "kgnCJft920Mz",
        "colab": {
          "base_uri": "https://localhost:8080/"
        },
        "outputId": "e57ea40e-b239-43e1-f55f-5fd3dc554784"
      },
      "outputs": [
        {
          "output_type": "stream",
          "name": "stdout",
          "text": [
            "9.430037703847184\n"
          ]
        }
      ],
      "source": [
        "rmse2 = avaliar.evaluate(previsao2)\n",
        "\n",
        "print(rmse2)"
      ]
    },
    {
      "cell_type": "code",
      "execution_count": null,
      "metadata": {
        "id": "P4iSLvx43G2J",
        "colab": {
          "base_uri": "https://localhost:8080/"
        },
        "outputId": "361b0af4-6f39-4a3a-90fc-06f7860910d4"
      },
      "outputs": [
        {
          "output_type": "stream",
          "name": "stdout",
          "text": [
            "8.144254042363894\n"
          ]
        }
      ],
      "source": [
        "print(rmse)"
      ]
    },
    {
      "cell_type": "markdown",
      "metadata": {
        "id": "ju1bnUNYbdVr"
      },
      "source": [
        "Observa-se que o melhor modelo a ser utilizado é o modelo de regressão linear, levando em consideração que quanto mais o RMSE for próximo de zero, melhor a performance do modelo."
      ]
    },
    {
      "cell_type": "markdown",
      "source": [
        "####**Criação de uma tabela com todos os dados de COVID.**"
      ],
      "metadata": {
        "id": "q8uBlvYsx1GR"
      }
    },
    {
      "cell_type": "code",
      "source": [
        "tabelao = brasil_pais.join(covid_total_estados, [\"data\", \"coduf\",\"estado\"], how='left')\\\n",
        "\t\t\t                .join(estado_total_cs, [\"estado\"], how='left')\\\n",
        "                      .join(estado_total_ob, covid_total.estado ==  estado_total_ob.Estados, how='left')\\\n",
        "                      .drop(estado_total_ob.Estados)\\\n",
        "\t\t\t                .join(total_br1, [\"Pais\"], how='left')\\\n",
        "                      .join(total_br2, [\"Pais\"], how='left')\\\n",
        "\t\t\t\t              .join(municipio_total_cs, [\"municipio\"], how='left')\\\n",
        "                      .join(municipio_total_ob, [\"municipio\"], how='left')\\\n",
        "                      .join(covid_total5, [\"municipio\", \"estado\", \"data\", \"coduf\"], how='left')\n",
        "                           \n",
        "\t\t\t\t\n",
        "tabelao.show()"
      ],
      "metadata": {
        "colab": {
          "base_uri": "https://localhost:8080/"
        },
        "id": "-tpNBm4tuspm",
        "outputId": "67ba0537-f1fd-47be-aa18-23942c5803d8"
      },
      "execution_count": 88,
      "outputs": [
        {
          "output_type": "stream",
          "name": "stdout",
          "text": [
            "+--------------------+------+----------+-----+------+------+------+--------------+---------------+---------+----------------+--------------+----------+---------------+-----------+----------------+---------------------+-----------------------------+------------------------------+-------------------+--------------------+-----------------------------+------------------------------+-------------------+--------------------+------------------+-------------------+---------------------+----------------------+------+------+------+--------------+---------------+---------+----------------+--------------+----------+---------------+-----------+----------------+---------------------+-----------------------------+------------------------------+-------------------+--------------------+------------------+-------------------+---------------------+----------------------+-------------------------+------------------------+\n",
            "|           municipio|estado|      data|coduf|  Pais|regiao|codmun|codRegiaoSaude|nomeRegiaoSaude|semanaEpi|populacaoTCU2019|casosAcumulado|casosNovos|obitosAcumulado|obitosNovos|Recuperadosnovos|emAcompanhamentoNovos|casosNovos_diarios_por_estado|obitosNovos_diarios_por_estado|total_casos_estados|total_obitos_estados|casosNovos_diarios_por_estado|obitosNovos_diarios_por_estado|total_casos_estados|total_obitos_estados|total_casos_brasil|total_obitos_brasil|total_casos_municipio|total_obitos_municipio|  Pais|regiao|codmun|codRegiaoSaude|nomeRegiaoSaude|semanaEpi|populacaoTCU2019|casosAcumulado|casosNovos|obitosAcumulado|obitosNovos|Recuperadosnovos|emAcompanhamentoNovos|casosNovos_diarios_por_estado|obitosNovos_diarios_por_estado|total_casos_estados|total_obitos_estados|total_casos_brasil|total_obitos_brasil|total_casos_municipio|total_obitos_municipio|media_total_obitos_estado|media_total_casos_estado|\n",
            "+--------------------+------+----------+-----+------+------+------+--------------+---------------+---------+----------------+--------------+----------+---------------+-----------+----------------+---------------------+-----------------------------+------------------------------+-------------------+--------------------+-----------------------------+------------------------------+-------------------+--------------------+------------------+-------------------+---------------------+----------------------+------+------+------+--------------+---------------+---------+----------------+--------------+----------+---------------+-----------+----------------+---------------------+-----------------------------+------------------------------+-------------------+--------------------+------------------+-------------------+---------------------+----------------------+-------------------------+------------------------+\n",
            "|Alta Floresta D'O...|    RO|2020-03-27|   11|Brasil| Norte|110001|         11005|   ZONA DA MATA|       13|           22945|           0.0|         0|              0|          0|            null|                 null|                            2|                             0|             499023|                8240|                            2|                             0|             499023|                8240|          38137431|             784185|                 9346|                    89|Brasil| Norte|110001|         11005|   ZONA DA MATA|       13|           22945|           0.0|         0|              0|          0|            null|                 null|                            2|                             0|             499023|                8240|          38137431|             784185|                 9346|                    89|                    0.011|                   0.013|\n",
            "|Alta Floresta D'O...|    RO|2020-03-27|   11|Brasil| Norte|110001|         11005|   ZONA DA MATA|       13|           22945|           0.0|         0|              0|          0|            null|                 null|                            2|                             0|             499023|                8240|                            2|                             0|             499023|                8240|          38137431|             784185|                 9346|                    89|Brasil| Norte|110001|         11005|   ZONA DA MATA|       13|           22945|           0.0|         0|              0|          0|            null|                 null|                            2|                             0|             499023|                8240|          38137431|             784185|                 9346|                    89|                    0.011|                   0.013|\n",
            "|Alta Floresta D'O...|    RO|2020-03-29|   11|Brasil| Norte|110001|         11005|   ZONA DA MATA|       14|           22945|           0.0|         0|              0|          0|            null|                 null|                            0|                             0|             499023|                8240|                            0|                             0|             499023|                8240|          38137431|             784185|                 9346|                    89|Brasil| Norte|110001|         11005|   ZONA DA MATA|       14|           22945|           0.0|         0|              0|          0|            null|                 null|                            0|                             0|             499023|                8240|          38137431|             784185|                 9346|                    89|                    0.011|                   0.013|\n",
            "|Alta Floresta D'O...|    RO|2020-03-29|   11|Brasil| Norte|110001|         11005|   ZONA DA MATA|       14|           22945|           0.0|         0|              0|          0|            null|                 null|                            0|                             0|             499023|                8240|                            0|                             0|             499023|                8240|          38137431|             784185|                 9346|                    89|Brasil| Norte|110001|         11005|   ZONA DA MATA|       14|           22945|           0.0|         0|              0|          0|            null|                 null|                            0|                             0|             499023|                8240|          38137431|             784185|                 9346|                    89|                    0.011|                   0.013|\n",
            "|Alta Floresta D'O...|    RO|2020-04-12|   11|Brasil| Norte|110001|         11005|   ZONA DA MATA|       16|           22945|           0.0|         0|              0|          0|            null|                 null|                            4|                             0|             499023|                8240|                            4|                             0|             499023|                8240|          38137431|             784185|                 9346|                    89|Brasil| Norte|110001|         11005|   ZONA DA MATA|       16|           22945|           0.0|         0|              0|          0|            null|                 null|                            4|                             0|             499023|                8240|          38137431|             784185|                 9346|                    89|                    0.011|                   0.013|\n",
            "|Alta Floresta D'O...|    RO|2020-04-12|   11|Brasil| Norte|110001|         11005|   ZONA DA MATA|       16|           22945|           0.0|         0|              0|          0|            null|                 null|                            4|                             0|             499023|                8240|                            4|                             0|             499023|                8240|          38137431|             784185|                 9346|                    89|Brasil| Norte|110001|         11005|   ZONA DA MATA|       16|           22945|           0.0|         0|              0|          0|            null|                 null|                            4|                             0|             499023|                8240|          38137431|             784185|                 9346|                    89|                    0.011|                   0.013|\n",
            "|Alta Floresta D'O...|    RO|2020-04-16|   11|Brasil| Norte|110001|         11005|   ZONA DA MATA|       16|           22945|           0.0|         0|              0|          0|            null|                 null|                           14|                             2|             499023|                8240|                           14|                             2|             499023|                8240|          38137431|             784185|                 9346|                    89|Brasil| Norte|110001|         11005|   ZONA DA MATA|       16|           22945|           0.0|         0|              0|          0|            null|                 null|                           14|                             2|             499023|                8240|          38137431|             784185|                 9346|                    89|                    0.011|                   0.013|\n",
            "|Alta Floresta D'O...|    RO|2020-04-16|   11|Brasil| Norte|110001|         11005|   ZONA DA MATA|       16|           22945|           0.0|         0|              0|          0|            null|                 null|                           14|                             2|             499023|                8240|                           14|                             2|             499023|                8240|          38137431|             784185|                 9346|                    89|Brasil| Norte|110001|         11005|   ZONA DA MATA|       16|           22945|           0.0|         0|              0|          0|            null|                 null|                           14|                             2|             499023|                8240|          38137431|             784185|                 9346|                    89|                    0.011|                   0.013|\n",
            "|Alta Floresta D'O...|    RO|2020-04-02|   11|Brasil| Norte|110001|         11005|   ZONA DA MATA|       14|           22945|           0.0|         0|              0|          0|            null|                 null|                            2|                             0|             499023|                8240|                            2|                             0|             499023|                8240|          38137431|             784185|                 9346|                    89|Brasil| Norte|110001|         11005|   ZONA DA MATA|       14|           22945|           0.0|         0|              0|          0|            null|                 null|                            2|                             0|             499023|                8240|          38137431|             784185|                 9346|                    89|                    0.011|                   0.013|\n",
            "|Alta Floresta D'O...|    RO|2020-04-02|   11|Brasil| Norte|110001|         11005|   ZONA DA MATA|       14|           22945|           0.0|         0|              0|          0|            null|                 null|                            2|                             0|             499023|                8240|                            2|                             0|             499023|                8240|          38137431|             784185|                 9346|                    89|Brasil| Norte|110001|         11005|   ZONA DA MATA|       14|           22945|           0.0|         0|              0|          0|            null|                 null|                            2|                             0|             499023|                8240|          38137431|             784185|                 9346|                    89|                    0.011|                   0.013|\n",
            "|Alta Floresta D'O...|    RO|2020-04-04|   11|Brasil| Norte|110001|         11005|   ZONA DA MATA|       14|           22945|           0.0|         0|              0|          0|            null|                 null|                            2|                             0|             499023|                8240|                            2|                             0|             499023|                8240|          38137431|             784185|                 9346|                    89|Brasil| Norte|110001|         11005|   ZONA DA MATA|       14|           22945|           0.0|         0|              0|          0|            null|                 null|                            2|                             0|             499023|                8240|          38137431|             784185|                 9346|                    89|                    0.011|                   0.013|\n",
            "|Alta Floresta D'O...|    RO|2020-04-04|   11|Brasil| Norte|110001|         11005|   ZONA DA MATA|       14|           22945|           0.0|         0|              0|          0|            null|                 null|                            2|                             0|             499023|                8240|                            2|                             0|             499023|                8240|          38137431|             784185|                 9346|                    89|Brasil| Norte|110001|         11005|   ZONA DA MATA|       14|           22945|           0.0|         0|              0|          0|            null|                 null|                            2|                             0|             499023|                8240|          38137431|             784185|                 9346|                    89|                    0.011|                   0.013|\n",
            "|Alta Floresta D'O...|    RO|2020-04-11|   11|Brasil| Norte|110001|         11005|   ZONA DA MATA|       15|           22945|           0.0|         0|              0|          0|            null|                 null|                            2|                             0|             499023|                8240|                            2|                             0|             499023|                8240|          38137431|             784185|                 9346|                    89|Brasil| Norte|110001|         11005|   ZONA DA MATA|       15|           22945|           0.0|         0|              0|          0|            null|                 null|                            2|                             0|             499023|                8240|          38137431|             784185|                 9346|                    89|                    0.011|                   0.013|\n",
            "|Alta Floresta D'O...|    RO|2020-04-11|   11|Brasil| Norte|110001|         11005|   ZONA DA MATA|       15|           22945|           0.0|         0|              0|          0|            null|                 null|                            2|                             0|             499023|                8240|                            2|                             0|             499023|                8240|          38137431|             784185|                 9346|                    89|Brasil| Norte|110001|         11005|   ZONA DA MATA|       15|           22945|           0.0|         0|              0|          0|            null|                 null|                            2|                             0|             499023|                8240|          38137431|             784185|                 9346|                    89|                    0.011|                   0.013|\n",
            "|Alta Floresta D'O...|    RO|2020-04-10|   11|Brasil| Norte|110001|         11005|   ZONA DA MATA|       15|           22945|           0.0|         0|              0|          0|            null|                 null|                            8|                             0|             499023|                8240|                            8|                             0|             499023|                8240|          38137431|             784185|                 9346|                    89|Brasil| Norte|110001|         11005|   ZONA DA MATA|       15|           22945|           0.0|         0|              0|          0|            null|                 null|                            8|                             0|             499023|                8240|          38137431|             784185|                 9346|                    89|                    0.011|                   0.013|\n",
            "|Alta Floresta D'O...|    RO|2020-04-10|   11|Brasil| Norte|110001|         11005|   ZONA DA MATA|       15|           22945|           0.0|         0|              0|          0|            null|                 null|                            8|                             0|             499023|                8240|                            8|                             0|             499023|                8240|          38137431|             784185|                 9346|                    89|Brasil| Norte|110001|         11005|   ZONA DA MATA|       15|           22945|           0.0|         0|              0|          0|            null|                 null|                            8|                             0|             499023|                8240|          38137431|             784185|                 9346|                    89|                    0.011|                   0.013|\n",
            "|Alta Floresta D'O...|    RO|2020-04-15|   11|Brasil| Norte|110001|         11005|   ZONA DA MATA|       16|           22945|           0.0|         0|              0|          0|            null|                 null|                           10|                             0|             499023|                8240|                           10|                             0|             499023|                8240|          38137431|             784185|                 9346|                    89|Brasil| Norte|110001|         11005|   ZONA DA MATA|       16|           22945|           0.0|         0|              0|          0|            null|                 null|                           10|                             0|             499023|                8240|          38137431|             784185|                 9346|                    89|                    0.011|                   0.013|\n",
            "|Alta Floresta D'O...|    RO|2020-04-15|   11|Brasil| Norte|110001|         11005|   ZONA DA MATA|       16|           22945|           0.0|         0|              0|          0|            null|                 null|                           10|                             0|             499023|                8240|                           10|                             0|             499023|                8240|          38137431|             784185|                 9346|                    89|Brasil| Norte|110001|         11005|   ZONA DA MATA|       16|           22945|           0.0|         0|              0|          0|            null|                 null|                           10|                             0|             499023|                8240|          38137431|             784185|                 9346|                    89|                    0.011|                   0.013|\n",
            "|Alta Floresta D'O...|    RO|2020-03-28|   11|Brasil| Norte|110001|         11005|   ZONA DA MATA|       13|           22945|           0.0|         0|              0|          0|            null|                 null|                            0|                             0|             499023|                8240|                            0|                             0|             499023|                8240|          38137431|             784185|                 9346|                    89|Brasil| Norte|110001|         11005|   ZONA DA MATA|       13|           22945|           0.0|         0|              0|          0|            null|                 null|                            0|                             0|             499023|                8240|          38137431|             784185|                 9346|                    89|                    0.011|                   0.013|\n",
            "|Alta Floresta D'O...|    RO|2020-03-28|   11|Brasil| Norte|110001|         11005|   ZONA DA MATA|       13|           22945|           0.0|         0|              0|          0|            null|                 null|                            0|                             0|             499023|                8240|                            0|                             0|             499023|                8240|          38137431|             784185|                 9346|                    89|Brasil| Norte|110001|         11005|   ZONA DA MATA|       13|           22945|           0.0|         0|              0|          0|            null|                 null|                            0|                             0|             499023|                8240|          38137431|             784185|                 9346|                    89|                    0.011|                   0.013|\n",
            "+--------------------+------+----------+-----+------+------+------+--------------+---------------+---------+----------------+--------------+----------+---------------+-----------+----------------+---------------------+-----------------------------+------------------------------+-------------------+--------------------+-----------------------------+------------------------------+-------------------+--------------------+------------------+-------------------+---------------------+----------------------+------+------+------+--------------+---------------+---------+----------------+--------------+----------+---------------+-----------+----------------+---------------------+-----------------------------+------------------------------+-------------------+--------------------+------------------+-------------------+---------------------+----------------------+-------------------------+------------------------+\n",
            "only showing top 20 rows\n",
            "\n"
          ]
        }
      ]
    }
  ],
  "metadata": {
    "colab": {
      "provenance": []
    },
    "kernelspec": {
      "display_name": "Python 3",
      "name": "python3"
    },
    "language_info": {
      "name": "python"
    }
  },
  "nbformat": 4,
  "nbformat_minor": 0
}