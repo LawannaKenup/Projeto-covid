{
  "cells": [
    {
      "cell_type": "markdown",
      "metadata": {
        "id": "jL11E_sf0pPq"
      },
      "source": [
        "#### Configurando o ambiente."
      ]
    },
    {
      "cell_type": "code",
      "execution_count": 1,
      "metadata": {
        "id": "tQarGdLGjquL",
        "colab": {
          "base_uri": "https://localhost:8080/"
        },
        "outputId": "fc2facb3-9a37-4c55-fc4f-a5f0367a9fb5"
      },
      "outputs": [
        {
          "output_type": "stream",
          "name": "stdout",
          "text": [
            "Looking in indexes: https://pypi.org/simple, https://us-python.pkg.dev/colab-wheels/public/simple/\n",
            "Collecting pyspark\n",
            "  Downloading pyspark-3.3.0.tar.gz (281.3 MB)\n",
            "\u001b[K     |████████████████████████████████| 281.3 MB 65 kB/s \n",
            "\u001b[?25hCollecting py4j==0.10.9.5\n",
            "  Downloading py4j-0.10.9.5-py2.py3-none-any.whl (199 kB)\n",
            "\u001b[K     |████████████████████████████████| 199 kB 87.3 MB/s \n",
            "\u001b[?25hBuilding wheels for collected packages: pyspark\n",
            "  Building wheel for pyspark (setup.py) ... \u001b[?25l\u001b[?25hdone\n",
            "  Created wheel for pyspark: filename=pyspark-3.3.0-py2.py3-none-any.whl size=281764026 sha256=2bdfc57f9f8526066675690fe65c5c46672a36dff7d2f07f4197470ff658d6a8\n",
            "  Stored in directory: /root/.cache/pip/wheels/7a/8e/1b/f73a52650d2e5f337708d9f6a1750d451a7349a867f928b885\n",
            "Successfully built pyspark\n",
            "Installing collected packages: py4j, pyspark\n",
            "Successfully installed py4j-0.10.9.5 pyspark-3.3.0\n",
            "\n",
            "Usage:   \n",
            "  pip3 install [options] <requirement specifier> [package-index-options] ...\n",
            "  pip3 install [options] -r <requirements file> [package-index-options] ...\n",
            "  pip3 install [options] [-e] <vcs project url> ...\n",
            "  pip3 install [options] [-e] <local project path> ...\n",
            "  pip3 install [options] <archive url/path> ...\n",
            "\n",
            "no such option: -u\n"
          ]
        }
      ],
      "source": [
        "!pip install pyspark\n",
        "!pip install -u plotly"
      ]
    },
    {
      "cell_type": "code",
      "execution_count": 2,
      "metadata": {
        "id": "OypgrK_UYcPQ"
      },
      "outputs": [],
      "source": [
        "import pandas as pd\n",
        "import numpy as np\n",
        "import plotly.express as px\n",
        "import plotly.figure_factory as ff\n"
      ]
    },
    {
      "cell_type": "code",
      "execution_count": 3,
      "metadata": {
        "id": "zWiil32JpJrQ"
      },
      "outputs": [],
      "source": [
        "from pyspark.sql import SparkSession\n",
        "\n",
        "spark = SparkSession \\\n",
        "        .builder \\\n",
        "        .appName(\"Python Spark create RDD example\") \\\n",
        "        .config(\"spark.some.config.option\", \"some-value\") \\\n",
        "        .getOrCreate"
      ]
    },
    {
      "cell_type": "code",
      "execution_count": 4,
      "metadata": {
        "id": "L4ar6NX6pPfm",
        "colab": {
          "base_uri": "https://localhost:8080/",
          "height": 17
        },
        "outputId": "b1c7d29d-8d29-4758-fede-9ce9b5e2bfce"
      },
      "outputs": [
        {
          "output_type": "display_data",
          "data": {
            "text/plain": [
              "<IPython.core.display.HTML object>"
            ],
            "text/html": [
              "<style>pre { white-space: pre !important; }</style>"
            ]
          },
          "metadata": {}
        }
      ],
      "source": [
        "from pyspark.sql.types import *\n",
        "from pyspark.sql.functions import *\n",
        "from pyspark.sql import functions as f\n",
        "from IPython.core.display import HTML\n",
        "from pyspark.sql.functions import col, asc, desc, expr\n",
        "from pyspark.sql.functions import regexp_replace\n",
        "\n",
        "\n",
        "# melhor visualização do dataframe\n",
        "display(HTML(\"<style>pre { white-space: pre !important; }</style>\"))\n",
        "\n",
        "# Session builder\n",
        "spark = SparkSession.builder.appName('sparkdf').getOrCreate()"
      ]
    },
    {
      "cell_type": "code",
      "execution_count": 5,
      "metadata": {
        "id": "ekT7TA5cUCo4"
      },
      "outputs": [],
      "source": [
        "from pyspark.ml.regression import LinearRegression, RandomForestRegressor\n",
        "from pyspark.ml.evaluation import RegressionEvaluator\n",
        "from pyspark.ml.feature import VectorAssembler"
      ]
    },
    {
      "cell_type": "markdown",
      "metadata": {
        "id": "6s9pG9QH0WQ2"
      },
      "source": [
        "#### Importação das tabelas de registro de Covid no Brasil."
      ]
    },
    {
      "cell_type": "code",
      "execution_count": 6,
      "metadata": {
        "id": "pv0qsL4MVoEV",
        "colab": {
          "base_uri": "https://localhost:8080/"
        },
        "outputId": "37df98a4-df13-49f5-db0f-4b7e5d91fce7"
      },
      "outputs": [
        {
          "output_type": "stream",
          "name": "stdout",
          "text": [
            "Mounted at /content/gdrive\n"
          ]
        }
      ],
      "source": [
        "from google.colab import drive\n",
        "\n",
        "drive.mount('/content/gdrive')\n",
        "caminho_local = 'gdrive/MyDrive/Pyspark/Projeto_covid'"
      ]
    },
    {
      "cell_type": "code",
      "execution_count": 7,
      "metadata": {
        "id": "8BYpgpSXpeZi"
      },
      "outputs": [],
      "source": [
        "covid_2020_1 = spark.read.format('csv')\\\n",
        "                         .option(\"sep\",\";\",)\\\n",
        "                         .options(header='true',\\\n",
        "                                  inferschema='true')\\\n",
        "                    .load(f'{caminho_local}/HIST_PAINEL_COVIDBR_2020_Parte1_09ago2022.csv',header=True)"
      ]
    },
    {
      "cell_type": "code",
      "execution_count": 8,
      "metadata": {
        "id": "yjMu2_yGp7Hr"
      },
      "outputs": [],
      "source": [
        "covid_2020_2 = spark.read.format('csv')\\\n",
        "                         .option(\"sep\",\";\",)\\\n",
        "                         .options(header='true',\\\n",
        "                                  inferschema='true')\\\n",
        "                    .load(f'{caminho_local}/HIST_PAINEL_COVIDBR_2020_Parte2_09ago2022.csv',header=True)"
      ]
    },
    {
      "cell_type": "code",
      "execution_count": 9,
      "metadata": {
        "id": "fpJti3MrqCmQ"
      },
      "outputs": [],
      "source": [
        "covid_2021_1 = spark.read.format('csv')\\\n",
        "                         .option(\"sep\",\";\",)\\\n",
        "                         .options(header='true',\\\n",
        "                                  inferschema='true')\\\n",
        "                    .load(f'{caminho_local}/HIST_PAINEL_COVIDBR_2021_Parte1_09ago2022.csv',header=True)"
      ]
    },
    {
      "cell_type": "code",
      "execution_count": 10,
      "metadata": {
        "id": "LBI46iOZqI0_"
      },
      "outputs": [],
      "source": [
        "covid_2021_2 = spark.read.format('csv')\\\n",
        "                         .option(\"sep\",\";\",)\\\n",
        "                         .options(header='true',\\\n",
        "                                  inferschema='true')\\\n",
        "                    .load(f'{caminho_local}/HIST_PAINEL_COVIDBR_2021_Parte2_09ago2022.csv',header=True)"
      ]
    },
    {
      "cell_type": "code",
      "execution_count": 11,
      "metadata": {
        "id": "HMbYGnOoqREC"
      },
      "outputs": [],
      "source": [
        "covid_2022_1 = spark.read.format('csv')\\\n",
        "                         .option(\"sep\",\";\",)\\\n",
        "                         .options(header='true',\\\n",
        "                                  inferschema='true')\\\n",
        "                    .load(f'{caminho_local}/HIST_PAINEL_COVIDBR_2022_Parte1_09ago2022.csv',header=True)"
      ]
    },
    {
      "cell_type": "code",
      "execution_count": 12,
      "metadata": {
        "id": "nUSOhG2lqXd9"
      },
      "outputs": [],
      "source": [
        "covid_2022_2 = spark.read.format('csv')\\\n",
        "                         .option(\"sep\",\";\",)\\\n",
        "                         .options(header='true',\\\n",
        "                                  inferschema='true')\\\n",
        "                    .load(f'{caminho_local}/HIST_PAINEL_COVIDBR_2022_Parte2_09ago2022.csv',header=True)\n"
      ]
    },
    {
      "cell_type": "markdown",
      "metadata": {
        "id": "b8Ta02s600H3"
      },
      "source": [
        "#### Foi feita a união das tabelas para melhor visualização."
      ]
    },
    {
      "cell_type": "code",
      "execution_count": 13,
      "metadata": {
        "id": "v3LG3V7wqd6N",
        "colab": {
          "base_uri": "https://localhost:8080/"
        },
        "outputId": "81980665-4ecb-4ad4-f2ab-be22a93e3a2d"
      },
      "outputs": [
        {
          "output_type": "stream",
          "name": "stdout",
          "text": [
            "+------+------+---------+-----+------+--------------+---------------+-------------------+---------+----------------+--------------+----------+---------------+-----------+----------------+---------------------+----------------------+\n",
            "|regiao|estado|municipio|coduf|codmun|codRegiaoSaude|nomeRegiaoSaude|               data|semanaEpi|populacaoTCU2019|casosAcumulado|casosNovos|obitosAcumulado|obitosNovos|Recuperadosnovos|emAcompanhamentoNovos|interior/metropolitana|\n",
            "+------+------+---------+-----+------+--------------+---------------+-------------------+---------+----------------+--------------+----------+---------------+-----------+----------------+---------------------+----------------------+\n",
            "|Brasil|  null|     null|   76|  null|          null|           null|2020-02-25 00:00:00|        9|       210147125|           0.0|         0|              0|          0|               0|                    0|                  null|\n",
            "|Brasil|  null|     null|   76|  null|          null|           null|2020-02-26 00:00:00|        9|       210147125|           1.0|         1|              0|          0|               1|                    0|                  null|\n",
            "|Brasil|  null|     null|   76|  null|          null|           null|2020-02-27 00:00:00|        9|       210147125|           1.0|         0|              0|          0|               1|                    0|                  null|\n",
            "|Brasil|  null|     null|   76|  null|          null|           null|2020-02-28 00:00:00|        9|       210147125|           1.0|         0|              0|          0|               0|                    1|                  null|\n",
            "|Brasil|  null|     null|   76|  null|          null|           null|2020-02-29 00:00:00|        9|       210147125|           2.0|         1|              0|          0|               1|                    1|                  null|\n",
            "|Brasil|  null|     null|   76|  null|          null|           null|2020-03-01 00:00:00|       10|       210147125|           2.0|         0|              0|          0|               1|                    1|                  null|\n",
            "|Brasil|  null|     null|   76|  null|          null|           null|2020-03-02 00:00:00|       10|       210147125|           2.0|         0|              0|          0|               0|                    2|                  null|\n",
            "|Brasil|  null|     null|   76|  null|          null|           null|2020-03-03 00:00:00|       10|       210147125|           2.0|         0|              0|          0|               0|                    2|                  null|\n",
            "|Brasil|  null|     null|   76|  null|          null|           null|2020-03-04 00:00:00|       10|       210147125|           3.0|         1|              0|          0|               1|                    2|                  null|\n",
            "|Brasil|  null|     null|   76|  null|          null|           null|2020-03-05 00:00:00|       10|       210147125|           7.0|         4|              0|          0|               4|                    3|                  null|\n",
            "|Brasil|  null|     null|   76|  null|          null|           null|2020-03-06 00:00:00|       10|       210147125|          13.0|         6|              0|          0|               6|                    7|                  null|\n",
            "|Brasil|  null|     null|   76|  null|          null|           null|2020-03-07 00:00:00|       10|       210147125|          19.0|         6|              0|          0|               7|                   12|                  null|\n",
            "|Brasil|  null|     null|   76|  null|          null|           null|2020-03-08 00:00:00|       11|       210147125|          25.0|         6|              0|          0|               6|                   19|                  null|\n",
            "|Brasil|  null|     null|   76|  null|          null|           null|2020-03-09 00:00:00|       11|       210147125|          25.0|         0|              0|          0|               1|                   24|                  null|\n",
            "|Brasil|  null|     null|   76|  null|          null|           null|2020-03-10 00:00:00|       11|       210147125|          34.0|         9|              0|          0|               6|                   28|                  null|\n",
            "|Brasil|  null|     null|   76|  null|          null|           null|2020-03-11 00:00:00|       11|       210147125|          52.0|        18|              0|          0|              16|                   36|                  null|\n",
            "|Brasil|  null|     null|   76|  null|          null|           null|2020-03-12 00:00:00|       11|       210147125|          77.0|        25|              0|          0|              23|                   54|                  null|\n",
            "|Brasil|  null|     null|   76|  null|          null|           null|2020-03-13 00:00:00|       11|       210147125|          98.0|        21|              0|          0|              24|                   74|                  null|\n",
            "|Brasil|  null|     null|   76|  null|          null|           null|2020-03-14 00:00:00|       11|       210147125|         121.0|        23|              0|          0|              22|                   99|                  null|\n",
            "|Brasil|  null|     null|   76|  null|          null|           null|2020-03-15 00:00:00|       12|       210147125|         200.0|        79|              0|          0|              62|                  138|                  null|\n",
            "+------+------+---------+-----+------+--------------+---------------+-------------------+---------+----------------+--------------+----------+---------------+-----------+----------------+---------------------+----------------------+\n",
            "only showing top 20 rows\n",
            "\n"
          ]
        }
      ],
      "source": [
        "covid = covid_2020_1.union(covid_2020_1)\\\n",
        "                    .union(covid_2020_2)\\\n",
        "                    .union(covid_2021_1)\\\n",
        "                    .union(covid_2021_2)\\\n",
        "                    .union(covid_2022_1)\\\n",
        "                    .union(covid_2022_2)\n",
        "\n",
        "covid.show()"
      ]
    },
    {
      "cell_type": "markdown",
      "metadata": {
        "id": "hHBhUtPq0_i8"
      },
      "source": [
        "#### Alteração do formato da coluna data."
      ]
    },
    {
      "cell_type": "code",
      "execution_count": 14,
      "metadata": {
        "id": "2d1tmdX71zp9",
        "colab": {
          "base_uri": "https://localhost:8080/"
        },
        "outputId": "78bae6c4-8fcf-48b1-f416-7115b37a1012"
      },
      "outputs": [
        {
          "output_type": "stream",
          "name": "stdout",
          "text": [
            "+------+------+---------+-----+------+--------------+---------------+----------+---------+----------------+--------------+----------+---------------+-----------+----------------+---------------------+----------------------+\n",
            "|regiao|estado|municipio|coduf|codmun|codRegiaoSaude|nomeRegiaoSaude|      data|semanaEpi|populacaoTCU2019|casosAcumulado|casosNovos|obitosAcumulado|obitosNovos|Recuperadosnovos|emAcompanhamentoNovos|interior/metropolitana|\n",
            "+------+------+---------+-----+------+--------------+---------------+----------+---------+----------------+--------------+----------+---------------+-----------+----------------+---------------------+----------------------+\n",
            "|Brasil|  null|     null|   76|  null|          null|           null|2020-02-25|        9|       210147125|           0.0|         0|              0|          0|               0|                    0|                  null|\n",
            "|Brasil|  null|     null|   76|  null|          null|           null|2020-02-26|        9|       210147125|           1.0|         1|              0|          0|               1|                    0|                  null|\n",
            "|Brasil|  null|     null|   76|  null|          null|           null|2020-02-27|        9|       210147125|           1.0|         0|              0|          0|               1|                    0|                  null|\n",
            "|Brasil|  null|     null|   76|  null|          null|           null|2020-02-28|        9|       210147125|           1.0|         0|              0|          0|               0|                    1|                  null|\n",
            "|Brasil|  null|     null|   76|  null|          null|           null|2020-02-29|        9|       210147125|           2.0|         1|              0|          0|               1|                    1|                  null|\n",
            "|Brasil|  null|     null|   76|  null|          null|           null|2020-03-01|       10|       210147125|           2.0|         0|              0|          0|               1|                    1|                  null|\n",
            "|Brasil|  null|     null|   76|  null|          null|           null|2020-03-02|       10|       210147125|           2.0|         0|              0|          0|               0|                    2|                  null|\n",
            "|Brasil|  null|     null|   76|  null|          null|           null|2020-03-03|       10|       210147125|           2.0|         0|              0|          0|               0|                    2|                  null|\n",
            "|Brasil|  null|     null|   76|  null|          null|           null|2020-03-04|       10|       210147125|           3.0|         1|              0|          0|               1|                    2|                  null|\n",
            "|Brasil|  null|     null|   76|  null|          null|           null|2020-03-05|       10|       210147125|           7.0|         4|              0|          0|               4|                    3|                  null|\n",
            "|Brasil|  null|     null|   76|  null|          null|           null|2020-03-06|       10|       210147125|          13.0|         6|              0|          0|               6|                    7|                  null|\n",
            "|Brasil|  null|     null|   76|  null|          null|           null|2020-03-07|       10|       210147125|          19.0|         6|              0|          0|               7|                   12|                  null|\n",
            "|Brasil|  null|     null|   76|  null|          null|           null|2020-03-08|       11|       210147125|          25.0|         6|              0|          0|               6|                   19|                  null|\n",
            "|Brasil|  null|     null|   76|  null|          null|           null|2020-03-09|       11|       210147125|          25.0|         0|              0|          0|               1|                   24|                  null|\n",
            "|Brasil|  null|     null|   76|  null|          null|           null|2020-03-10|       11|       210147125|          34.0|         9|              0|          0|               6|                   28|                  null|\n",
            "|Brasil|  null|     null|   76|  null|          null|           null|2020-03-11|       11|       210147125|          52.0|        18|              0|          0|              16|                   36|                  null|\n",
            "|Brasil|  null|     null|   76|  null|          null|           null|2020-03-12|       11|       210147125|          77.0|        25|              0|          0|              23|                   54|                  null|\n",
            "|Brasil|  null|     null|   76|  null|          null|           null|2020-03-13|       11|       210147125|          98.0|        21|              0|          0|              24|                   74|                  null|\n",
            "|Brasil|  null|     null|   76|  null|          null|           null|2020-03-14|       11|       210147125|         121.0|        23|              0|          0|              22|                   99|                  null|\n",
            "|Brasil|  null|     null|   76|  null|          null|           null|2020-03-15|       12|       210147125|         200.0|        79|              0|          0|              62|                  138|                  null|\n",
            "+------+------+---------+-----+------+--------------+---------------+----------+---------+----------------+--------------+----------+---------------+-----------+----------------+---------------------+----------------------+\n",
            "only showing top 20 rows\n",
            "\n"
          ]
        }
      ],
      "source": [
        "covid = covid.withColumn(\"data\",\\\n",
        "                          f.date_format(\"data\", \"yyyy-MM-dd\"))\n",
        "covid.show()"
      ]
    },
    {
      "cell_type": "code",
      "execution_count": 15,
      "metadata": {
        "id": "VFvAEMEV4aG7",
        "colab": {
          "base_uri": "https://localhost:8080/"
        },
        "outputId": "73ed4c37-0abd-4de9-b990-f9968dbfe9a1"
      },
      "outputs": [
        {
          "output_type": "stream",
          "name": "stdout",
          "text": [
            "root\n",
            " |-- regiao: string (nullable = true)\n",
            " |-- estado: string (nullable = true)\n",
            " |-- municipio: string (nullable = true)\n",
            " |-- coduf: integer (nullable = true)\n",
            " |-- codmun: integer (nullable = true)\n",
            " |-- codRegiaoSaude: integer (nullable = true)\n",
            " |-- nomeRegiaoSaude: string (nullable = true)\n",
            " |-- data: string (nullable = true)\n",
            " |-- semanaEpi: integer (nullable = true)\n",
            " |-- populacaoTCU2019: integer (nullable = true)\n",
            " |-- casosAcumulado: double (nullable = true)\n",
            " |-- casosNovos: integer (nullable = true)\n",
            " |-- obitosAcumulado: integer (nullable = true)\n",
            " |-- obitosNovos: integer (nullable = true)\n",
            " |-- Recuperadosnovos: integer (nullable = true)\n",
            " |-- emAcompanhamentoNovos: integer (nullable = true)\n",
            " |-- interior/metropolitana: integer (nullable = true)\n",
            "\n"
          ]
        }
      ],
      "source": [
        "covid.printSchema()"
      ]
    },
    {
      "cell_type": "markdown",
      "metadata": {
        "id": "HktUvsv9yKqL"
      },
      "source": [
        "#### Transformando a coluna data de string para date."
      ]
    },
    {
      "cell_type": "code",
      "execution_count": 16,
      "metadata": {
        "id": "7rJtUyHs5Lmh",
        "colab": {
          "base_uri": "https://localhost:8080/"
        },
        "outputId": "db3789fd-51c0-4b67-d579-0f9fea4b703c"
      },
      "outputs": [
        {
          "output_type": "stream",
          "name": "stdout",
          "text": [
            "root\n",
            " |-- regiao: string (nullable = true)\n",
            " |-- estado: string (nullable = true)\n",
            " |-- municipio: string (nullable = true)\n",
            " |-- coduf: integer (nullable = true)\n",
            " |-- codmun: integer (nullable = true)\n",
            " |-- codRegiaoSaude: integer (nullable = true)\n",
            " |-- nomeRegiaoSaude: string (nullable = true)\n",
            " |-- data: date (nullable = true)\n",
            " |-- semanaEpi: integer (nullable = true)\n",
            " |-- populacaoTCU2019: integer (nullable = true)\n",
            " |-- casosAcumulado: double (nullable = true)\n",
            " |-- casosNovos: integer (nullable = true)\n",
            " |-- obitosAcumulado: integer (nullable = true)\n",
            " |-- obitosNovos: integer (nullable = true)\n",
            " |-- Recuperadosnovos: integer (nullable = true)\n",
            " |-- emAcompanhamentoNovos: integer (nullable = true)\n",
            " |-- interior/metropolitana: integer (nullable = true)\n",
            "\n"
          ]
        }
      ],
      "source": [
        "covid = covid.withColumn(\"data\", to_date(f.col(\"data\"), \"yyyy-MM-dd\"))\n",
        "\n",
        "covid.printSchema()"
      ]
    },
    {
      "cell_type": "markdown",
      "metadata": {
        "id": "RTXEsGQTz9Ay"
      },
      "source": [
        "#### Contagem da quantidade de registros na tabela."
      ]
    },
    {
      "cell_type": "code",
      "execution_count": 17,
      "metadata": {
        "id": "LCD26Dj621Bx",
        "colab": {
          "base_uri": "https://localhost:8080/"
        },
        "outputId": "ea788681-7eb6-47e1-e7b7-5a79cb37ff79"
      },
      "outputs": [
        {
          "output_type": "execute_result",
          "data": {
            "text/plain": [
              "5581403"
            ]
          },
          "metadata": {},
          "execution_count": 17
        }
      ],
      "source": [
        "covid.count()"
      ]
    },
    {
      "cell_type": "code",
      "execution_count": 18,
      "metadata": {
        "id": "LkqHyzeXJ-gG",
        "colab": {
          "base_uri": "https://localhost:8080/"
        },
        "outputId": "515c2cea-f775-4c9e-b8ea-cc021e904983"
      },
      "outputs": [
        {
          "output_type": "stream",
          "name": "stdout",
          "text": [
            "+----------------------+\n",
            "|interior/metropolitana|\n",
            "+----------------------+\n",
            "|                  null|\n",
            "|                     1|\n",
            "|                     0|\n",
            "+----------------------+\n",
            "\n"
          ]
        }
      ],
      "source": [
        "covid.select(\"interior/metropolitana\").distinct().show()"
      ]
    },
    {
      "cell_type": "markdown",
      "metadata": {
        "id": "0Osg-UXVrd7Y"
      },
      "source": [
        "#### Devido a coluna interior/metropolitana não evidenciar quando a localidade se refere ao interior ou a área metropolitana, a mesma foi removida\n"
      ]
    },
    {
      "cell_type": "code",
      "execution_count": 19,
      "metadata": {
        "id": "9OBjdFSMrPgS"
      },
      "outputs": [],
      "source": [
        "covid = covid.drop(\"interior/metropolitana\")"
      ]
    },
    {
      "cell_type": "markdown",
      "metadata": {
        "id": "rTAKxXDttkjx"
      },
      "source": [
        "####Foi separado o dataframe do Brasil para verificar os casos e obitos novos referentes ao país, desconsiderando as regiões, estados e municipios."
      ]
    },
    {
      "cell_type": "code",
      "execution_count": 20,
      "metadata": {
        "id": "OiDskJ56ap5e",
        "colab": {
          "base_uri": "https://localhost:8080/"
        },
        "outputId": "f1d0e777-8592-4ceb-d109-53574b665c02"
      },
      "outputs": [
        {
          "output_type": "stream",
          "name": "stdout",
          "text": [
            "+----------+------+----------+-----------+\n",
            "|      data|regiao|casosNovos|obitosNovos|\n",
            "+----------+------+----------+-----------+\n",
            "|2022-02-03|Brasil|    298408|       1041|\n",
            "|2022-01-28|Brasil|    269968|        799|\n",
            "|2022-01-27|Brasil|    228954|        672|\n",
            "|2022-01-26|Brasil|    224567|        570|\n",
            "|2022-01-19|Brasil|    204854|        338|\n",
            "|2022-02-05|Brasil|    197442|       1308|\n",
            "|2022-02-01|Brasil|    193465|        929|\n",
            "|2022-02-04|Brasil|    184311|        493|\n",
            "|2022-01-25|Brasil|    183722|        487|\n",
            "|2022-01-29|Brasil|    179816|        640|\n",
            "|2022-02-09|Brasil|    178814|       1264|\n",
            "|2022-02-08|Brasil|    177027|       1189|\n",
            "|2022-02-02|Brasil|    172903|        893|\n",
            "|2022-01-20|Brasil|    168495|        350|\n",
            "|2022-01-21|Brasil|    166539|        358|\n",
            "|2022-02-11|Brasil|    166009|       1135|\n",
            "|2022-02-10|Brasil|    164066|        943|\n",
            "|2022-01-22|Brasil|    157393|        238|\n",
            "|2021-09-18|Brasil|    150106|        935|\n",
            "|2022-02-16|Brasil|    147734|       1085|\n",
            "+----------+------+----------+-----------+\n",
            "only showing top 20 rows\n",
            "\n"
          ]
        }
      ],
      "source": [
        "brasil = covid.select(\"data\", \"regiao\", \"casosNovos\",\"obitosNovos\")\\\n",
        "              .filter(f.col(\"regiao\") == \"Brasil\")\\\n",
        "              .sort(col(\"casosNovos\").desc(), col(\"obitosNovos\").desc())\n",
        "\n",
        "brasil.show()"
      ]
    },
    {
      "cell_type": "markdown",
      "metadata": {
        "id": "2x4c-6xIuEk0"
      },
      "source": [
        "####Foi separado o dataframe das Regiões para verificar os casos e obitos novos referentes as regiões, desconsiderando o país, estados e municipios."
      ]
    },
    {
      "cell_type": "code",
      "execution_count": 21,
      "metadata": {
        "id": "dXDfhPWCotI6",
        "colab": {
          "base_uri": "https://localhost:8080/"
        },
        "outputId": "94893a9b-e2bb-4bbc-88b4-41bb11efa56e"
      },
      "outputs": [
        {
          "output_type": "stream",
          "name": "stdout",
          "text": [
            "+--------+----------+-----------+\n",
            "|  regiao|casosNovos|obitosNovos|\n",
            "+--------+----------+-----------+\n",
            "| Sudeste|    105700|        371|\n",
            "|   Norte|     74352|        727|\n",
            "|   Norte|     73235|        719|\n",
            "| Sudeste|     69223|          7|\n",
            "|     Sul|     64036|         62|\n",
            "|Nordeste|     59430|          0|\n",
            "|Nordeste|     49132|          0|\n",
            "|     Sul|     47815|       1134|\n",
            "|     Sul|     47101|       1108|\n",
            "|     Sul|     45154|         90|\n",
            "|     Sul|     45020|        247|\n",
            "|     Sul|     43776|       1043|\n",
            "|     Sul|     43028|       1020|\n",
            "|Nordeste|     42771|          3|\n",
            "|Nordeste|     42547|         64|\n",
            "| Sudeste|     40753|         44|\n",
            "|Nordeste|     40290|         16|\n",
            "|     Sul|     40170|        177|\n",
            "| Sudeste|     39271|        109|\n",
            "| Sudeste|     37611|        349|\n",
            "+--------+----------+-----------+\n",
            "only showing top 20 rows\n",
            "\n"
          ]
        }
      ],
      "source": [
        "regiao = covid.select( \"regiao\", \"casosNovos\",\"obitosNovos\")\\\n",
        "              .filter(f.col(\"regiao\") != \"Brasil\")\n",
        "\n",
        "regiao.sort(col(\"casosNovos\").desc(), col(\"obitosNovos\").desc()).show()"
      ]
    },
    {
      "cell_type": "markdown",
      "metadata": {
        "id": "OoLXCzOouTll"
      },
      "source": [
        "Foi separado o dataframe dos Estados para verificar os casos e obitos novos referentes a cada estado, desconsiderando as país, regiões e municipios."
      ]
    },
    {
      "cell_type": "code",
      "execution_count": 22,
      "metadata": {
        "id": "L00zI_W54Juz",
        "colab": {
          "base_uri": "https://localhost:8080/"
        },
        "outputId": "160ef9b3-9958-4017-f7e0-235bc85e5a45"
      },
      "outputs": [
        {
          "output_type": "stream",
          "name": "stdout",
          "text": [
            "+----------+-------+------+----------+-----------+\n",
            "|      data| regiao|estado|casosNovos|obitosNovos|\n",
            "+----------+-------+------+----------+-----------+\n",
            "|2021-04-06|Sudeste|    SP|     22794|       1389|\n",
            "|2021-04-08|Sudeste|    SP|     21004|       1299|\n",
            "|2021-04-13|Sudeste|    SP|     18397|       1282|\n",
            "|2021-03-30|Sudeste|    SP|     21360|       1209|\n",
            "|2021-03-26|Sudeste|    SP|     21489|       1193|\n",
            "|2021-03-31|Sudeste|    SP|     23169|       1160|\n",
            "|2021-04-20|Sudeste|    SP|     19060|       1122|\n",
            "|2021-04-14|Sudeste|    SP|     18790|       1095|\n",
            "|2021-04-01|Sudeste|    SP|     26567|       1082|\n",
            "|2021-04-15|Sudeste|    SP|     18067|       1060|\n",
            "|2021-03-27|Sudeste|    SP|     18124|       1051|\n",
            "|2021-04-27|Sudeste|    SP|     17992|       1044|\n",
            "|2021-03-23|Sudeste|    SP|     20942|       1021|\n",
            "|2021-04-09|Sudeste|    SP|     20701|       1008|\n",
            "|2021-04-21|Sudeste|    SP|     17123|        977|\n",
            "|2021-05-25|Sudeste|    SP|     17477|        898|\n",
            "|2021-06-15|Sudeste|    SP|     23227|        897|\n",
            "|2021-04-07|Sudeste|    SP|     21521|        889|\n",
            "|2021-04-29|Sudeste|    SP|     14920|        876|\n",
            "|2021-04-24|Sudeste|    SP|     16271|        875|\n",
            "+----------+-------+------+----------+-----------+\n",
            "only showing top 20 rows\n",
            "\n"
          ]
        }
      ],
      "source": [
        "estados = covid.select(\"data\", \"regiao\", \"estado\", \"casosNovos\", \"obitosNovos\")\\\n",
        "               .filter((f.col(\"regiao\") != \"Brasil\")&(f.col(\"municipio\").isNull()))\\\n",
        "               .orderBy(col(\"obitosNovos\").desc())\\\n",
        "   \n",
        "\n",
        "estados.show()"
      ]
    },
    {
      "cell_type": "markdown",
      "metadata": {
        "id": "0Ra9OpxgBikW"
      },
      "source": [
        "#### Foi realizada uma exploração dos dados para verificar se as colunas casosAcumulado e obitosAcumulado estão consistentes. Foi utilizado como amostra os estados de São Paulo e Rio de Janeiro."
      ]
    },
    {
      "cell_type": "code",
      "execution_count": 23,
      "metadata": {
        "id": "UtORf4EZvAf4",
        "colab": {
          "base_uri": "https://localhost:8080/"
        },
        "outputId": "03468607-68c8-4a1f-c3c6-a2a5761b6443"
      },
      "outputs": [
        {
          "output_type": "stream",
          "name": "stdout",
          "text": [
            "+-------+------+-------------------+-----+------+--------------+--------------------+----------+---------+----------------+--------------+----------+---------------+-----------+----------------+---------------------+\n",
            "| regiao|estado|          municipio|coduf|codmun|codRegiaoSaude|     nomeRegiaoSaude|      data|semanaEpi|populacaoTCU2019|casosAcumulado|casosNovos|obitosAcumulado|obitosNovos|Recuperadosnovos|emAcompanhamentoNovos|\n",
            "+-------+------+-------------------+-----+------+--------------+--------------------+----------+---------+----------------+--------------+----------+---------------+-----------+----------------+---------------------+\n",
            "|Sudeste|    SP|    Álvares Machado|   35|350130|         35112|     ALTA SOROCABANA|2022-08-09|       32|           24915|        4110.0|         4|             88|          0|            null|                 null|\n",
            "|Sudeste|    SP|            Anhembi|   35|350230|         35063|         POLO CUESTA|2022-08-09|       32|            6724|         448.0|         0|             14|          0|            null|                 null|\n",
            "|Sudeste|    SP|          Andradina|   35|350210|         35022|     LAGOS DO DRS II|2022-08-09|       32|           57157|       13749.0|        15|            313|          0|            null|                 null|\n",
            "|Sudeste|    SP|           Alumínio|   35|350115|         35163|            SOROCABA|2022-08-09|       32|           18628|        1705.0|         0|             56|          0|            null|                 null|\n",
            "|Sudeste|    SP|          Analândia|   35|350200|         35104|           RIO CLARO|2022-08-09|       32|            4995|         592.0|         2|              6|          0|            null|                 null|\n",
            "|Sudeste|    SP|             Agudos|   35|350070|         35062|               BAURU|2022-08-09|       32|           37214|        7203.0|         1|            121|          0|            null|                 null|\n",
            "|Sudeste|    SP|             Amparo|   35|350190|         35074|  CIRCUITO DAS AGUAS|2022-08-09|       32|           72195|       10603.0|         1|            258|          0|            null|                 null|\n",
            "|Sudeste|    SP|           Angatuba|   35|350220|         35161|        ITAPETININGA|2022-08-09|       32|           25228|        4914.0|        19|             90|          0|            null|                 null|\n",
            "|Sudeste|    SP|  Alfredo Marcondes|   35|350080|         35112|     ALTA SOROCABANA|2022-08-09|       32|            4166|         305.0|         0|             19|          0|            null|                 null|\n",
            "|Sudeste|    SP|               null|   35|  null|          null|                null|2022-08-09|       32|        45919049|     5955410.0|      5097|         173418|         72|            null|                 null|\n",
            "|Sudeste|    SP| Álvaro de Carvalho|   35|350140|         35093|             MARILIA|2022-08-09|       32|            5227|         342.0|         0|              9|          0|            null|                 null|\n",
            "|Sudeste|    SP|   Águas de Lindóia|   35|350050|         35074|  CIRCUITO DAS AGUAS|2022-08-09|       32|           18705|        5163.0|         7|             64|          0|            null|                 null|\n",
            "|Sudeste|    SP|  Américo de Campos|   35|350180|         35157|         VOTUPORANGA|2022-08-09|       32|            5969|        1291.0|         0|             38|          0|            null|                 null|\n",
            "|Sudeste|    SP|              Aguaí|   35|350030|         35142|         MANTIQUEIRA|2022-08-09|       32|           36305|        6775.0|        21|            136|          1|            null|                 null|\n",
            "|Sudeste|    SP|         Araraquara|   35|350320|         35031|  CENTRAL DO DRS III|2022-08-09|       32|          236072|       60129.0|        66|            640|          0|            null|                 null|\n",
            "|Sudeste|    SP|        Altinópolis|   35|350100|         35133| VALE DAS CACHOEIRAS|2022-08-09|       32|           16184|        1237.0|         0|             65|          0|            null|                 null|\n",
            "|Sudeste|    SP|          Americana|   35|350160|         35072|REGIAO METROPOLIT...|2022-08-09|       32|          239597|       28153.0|        -1|            982|          1|            null|                 null|\n",
            "|Sudeste|    SP|Américo Brasiliense|   35|350170|         35031|  CENTRAL DO DRS III|2022-08-09|       32|           40504|        6679.0|         9|            108|          0|            null|                 null|\n",
            "|Sudeste|    SP|         Adamantina|   35|350010|         35091|          ADAMANTINA|2022-08-09|       32|           35068|        9807.0|        66|            180|          0|            null|                 null|\n",
            "|Sudeste|    SP|        Alvinlândia|   35|350150|         35093|             MARILIA|2022-08-09|       32|            3222|         151.0|         0|             10|          0|            null|                 null|\n",
            "+-------+------+-------------------+-----+------+--------------+--------------------+----------+---------+----------------+--------------+----------+---------------+-----------+----------------+---------------------+\n",
            "only showing top 20 rows\n",
            "\n"
          ]
        }
      ],
      "source": [
        "covid_sp = covid.filter(f.col(\"estado\") == \"SP\")\\\n",
        "                .orderBy(col(\"data\").desc())\n",
        "\n",
        "covid_sp.show()"
      ]
    },
    {
      "cell_type": "code",
      "execution_count": 24,
      "metadata": {
        "id": "8xOTHSrGyKQ-",
        "colab": {
          "base_uri": "https://localhost:8080/"
        },
        "outputId": "c1a9260e-1c6e-4835-c99e-a14a17fdb35b"
      },
      "outputs": [
        {
          "output_type": "stream",
          "name": "stdout",
          "text": [
            "+-------+------+---------+-----+------+--------------+---------------+----------+---------+----------------+--------------+----------+---------------+-----------+----------------+---------------------+\n",
            "| regiao|estado|municipio|coduf|codmun|codRegiaoSaude|nomeRegiaoSaude|      data|semanaEpi|populacaoTCU2019|casosAcumulado|casosNovos|obitosAcumulado|obitosNovos|Recuperadosnovos|emAcompanhamentoNovos|\n",
            "+-------+------+---------+-----+------+--------------+---------------+----------+---------+----------------+--------------+----------+---------------+-----------+----------------+---------------------+\n",
            "|Sudeste|    SP|     null|   35|  null|          null|           null|2022-08-09|       32|        45919049|     5955410.0|      5097|         173418|         72|            null|                 null|\n",
            "|Sudeste|    SP|     null|   35|  null|          null|           null|2022-08-08|       32|        45919049|     5950313.0|       840|         173346|          8|            null|                 null|\n",
            "|Sudeste|    SP|     null|   35|  null|          null|           null|2022-08-07|       32|        45919049|     5949473.0|      1153|         173338|         22|            null|                 null|\n",
            "|Sudeste|    SP|     null|   35|  null|          null|           null|2022-08-06|       31|        45919049|     5948320.0|      4179|         173316|         79|            null|                 null|\n",
            "|Sudeste|    SP|     null|   35|  null|          null|           null|2022-08-05|       31|        45919049|     5944141.0|      5405|         173237|         77|            null|                 null|\n",
            "|Sudeste|    SP|     null|   35|  null|          null|           null|2022-08-04|       31|        45919049|     5938736.0|      5647|         173160|         58|            null|                 null|\n",
            "|Sudeste|    SP|     null|   35|  null|          null|           null|2022-08-03|       31|        45919049|     5933089.0|      5970|         173102|         66|            null|                 null|\n",
            "|Sudeste|    SP|     null|   35|  null|          null|           null|2022-08-02|       31|        45919049|     5927119.0|      6860|         173036|         89|            null|                 null|\n",
            "|Sudeste|    SP|     null|   35|  null|          null|           null|2022-08-01|       31|        45919049|     5920259.0|       813|         172947|          3|            null|                 null|\n",
            "|Sudeste|    SP|     null|   35|  null|          null|           null|2022-07-31|       31|        45919049|     5919446.0|      2178|         172944|          9|            null|                 null|\n",
            "|Sudeste|    SP|     null|   35|  null|          null|           null|2022-07-30|       30|        45919049|     5917268.0|      5716|         172935|         48|            null|                 null|\n",
            "|Sudeste|    SP|     null|   35|  null|          null|           null|2022-07-29|       30|        45919049|     5911552.0|      6707|         172887|         71|            null|                 null|\n",
            "|Sudeste|    SP|     null|   35|  null|          null|           null|2022-07-28|       30|        45919049|     5904845.0|      6986|         172816|         89|            null|                 null|\n",
            "|Sudeste|    SP|     null|   35|  null|          null|           null|2022-07-27|       30|        45919049|     5897859.0|      7096|         172727|         73|            null|                 null|\n",
            "|Sudeste|    SP|     null|   35|  null|          null|           null|2022-07-26|       30|        45919049|     5890763.0|      7152|         172654|         99|            null|                 null|\n",
            "|Sudeste|    SP|     null|   35|  null|          null|           null|2022-07-25|       30|        45919049|     5883611.0|       652|         172555|         11|            null|                 null|\n",
            "|Sudeste|    SP|     null|   35|  null|          null|           null|2022-07-24|       30|        45919049|     5882959.0|      2226|         172544|          8|            null|                 null|\n",
            "|Sudeste|    SP|     null|   35|  null|          null|           null|2022-07-23|       29|        45919049|     5880733.0|      6117|         172536|         77|            null|                 null|\n",
            "|Sudeste|    SP|     null|   35|  null|          null|           null|2022-07-22|       29|        45919049|     5874616.0|      6745|         172459|         95|            null|                 null|\n",
            "|Sudeste|    SP|     null|   35|  null|          null|           null|2022-07-21|       29|        45919049|     5867871.0|      6608|         172364|         87|            null|                 null|\n",
            "+-------+------+---------+-----+------+--------------+---------------+----------+---------+----------------+--------------+----------+---------------+-----------+----------------+---------------------+\n",
            "only showing top 20 rows\n",
            "\n"
          ]
        }
      ],
      "source": [
        "covid_sp2 = covid.filter((f.col(\"estado\") == \"SP\")&(f.col(\"codmun\").isNull()))\\\n",
        "                  .orderBy(col(\"data\").desc())\n",
        "\n",
        "covid_sp2.show()"
      ]
    },
    {
      "cell_type": "code",
      "execution_count": 25,
      "metadata": {
        "id": "aFz06FCKwHUo",
        "colab": {
          "base_uri": "https://localhost:8080/"
        },
        "outputId": "ca01ec6d-9e14-473b-9f8b-36d2d6d73fbb"
      },
      "outputs": [
        {
          "output_type": "stream",
          "name": "stdout",
          "text": [
            "+-------+------+---------+-----+------+--------------+---------------+----------+---------+----------------+--------------+----------+---------------+-----------+----------------+---------------------+\n",
            "| regiao|estado|municipio|coduf|codmun|codRegiaoSaude|nomeRegiaoSaude|      data|semanaEpi|populacaoTCU2019|casosAcumulado|casosNovos|obitosAcumulado|obitosNovos|Recuperadosnovos|emAcompanhamentoNovos|\n",
            "+-------+------+---------+-----+------+--------------+---------------+----------+---------+----------------+--------------+----------+---------------+-----------+----------------+---------------------+\n",
            "|Sudeste|    RJ|     null|   33|  null|          null|           null|2022-08-09|       32|        17264943|     2462761.0|      2365|          75089|         76|            null|                 null|\n",
            "|Sudeste|    RJ|     null|   33|  null|          null|           null|2022-08-08|       32|        17264943|     2460396.0|      2753|          75013|         68|            null|                 null|\n",
            "|Sudeste|    RJ|     null|   33|  null|          null|           null|2022-08-07|       32|        17264943|     2457643.0|         0|          74945|          0|            null|                 null|\n",
            "|Sudeste|    RJ|     null|   33|  null|          null|           null|2022-08-06|       31|        17264943|     2457643.0|         0|          74945|          0|            null|                 null|\n",
            "|Sudeste|    RJ|     null|   33|  null|          null|           null|2022-08-05|       31|        17264943|     2457643.0|      2518|          74945|         21|            null|                 null|\n",
            "|Sudeste|    RJ|     null|   33|  null|          null|           null|2022-08-04|       31|        17264943|     2455125.0|      2850|          74924|         32|            null|                 null|\n",
            "|Sudeste|    RJ|     null|   33|  null|          null|           null|2022-08-03|       31|        17264943|     2452275.0|      2328|          74892|         25|            null|                 null|\n",
            "|Sudeste|    RJ|     null|   33|  null|          null|           null|2022-08-02|       31|        17264943|     2449947.0|      2119|          74867|         27|            null|                 null|\n",
            "|Sudeste|    RJ|     null|   33|  null|          null|           null|2022-08-01|       31|        17264943|     2447828.0|      2734|          74840|         74|            null|                 null|\n",
            "|Sudeste|    RJ|     null|   33|  null|          null|           null|2022-07-31|       31|        17264943|     2445094.0|         0|          74766|          0|            null|                 null|\n",
            "|Sudeste|    RJ|     null|   33|  null|          null|           null|2022-07-30|       30|        17264943|     2445094.0|         0|          74766|          0|            null|                 null|\n",
            "|Sudeste|    RJ|     null|   33|  null|          null|           null|2022-07-29|       30|        17264943|     2445094.0|      2603|          74766|          8|            null|                 null|\n",
            "|Sudeste|    RJ|     null|   33|  null|          null|           null|2022-07-28|       30|        17264943|     2442491.0|      2408|          74758|         16|            null|                 null|\n",
            "|Sudeste|    RJ|     null|   33|  null|          null|           null|2022-07-27|       30|        17264943|     2440083.0|      3086|          74742|         49|            null|                 null|\n",
            "|Sudeste|    RJ|     null|   33|  null|          null|           null|2022-07-26|       30|        17264943|     2436997.0|      2865|          74693|         39|            null|                 null|\n",
            "|Sudeste|    RJ|     null|   33|  null|          null|           null|2022-07-25|       30|        17264943|     2434132.0|      3839|          74654|         58|            null|                 null|\n",
            "|Sudeste|    RJ|     null|   33|  null|          null|           null|2022-07-24|       30|        17264943|     2430293.0|         0|          74596|          0|            null|                 null|\n",
            "|Sudeste|    RJ|     null|   33|  null|          null|           null|2022-07-23|       29|        17264943|     2430293.0|         0|          74596|          0|            null|                 null|\n",
            "|Sudeste|    RJ|     null|   33|  null|          null|           null|2022-07-22|       29|        17264943|     2430293.0|      3112|          74596|         10|            null|                 null|\n",
            "|Sudeste|    RJ|     null|   33|  null|          null|           null|2022-07-21|       29|        17264943|     2427181.0|      3035|          74586|         32|            null|                 null|\n",
            "+-------+------+---------+-----+------+--------------+---------------+----------+---------+----------------+--------------+----------+---------------+-----------+----------------+---------------------+\n",
            "only showing top 20 rows\n",
            "\n"
          ]
        }
      ],
      "source": [
        "covid_rj = covid.filter((f.col(\"estado\") == \"RJ\")&(f.col(\"codmun\").isNull()))\\\n",
        "                .orderBy(col(\"data\").desc())\n",
        "\n",
        "covid_rj.show()"
      ]
    },
    {
      "cell_type": "code",
      "execution_count": 26,
      "metadata": {
        "id": "3HC7SsqQ0wNw",
        "colab": {
          "base_uri": "https://localhost:8080/"
        },
        "outputId": "2dcd1819-30fd-4a73-b8fa-6e31ef6daa47"
      },
      "outputs": [
        {
          "output_type": "stream",
          "name": "stdout",
          "text": [
            "+------+------+--------------------+-----+------+--------------+---------------+----------+---------+----------------+--------------+----------+---------------+-----------+----------------+---------------------+\n",
            "|regiao|estado|           municipio|coduf|codmun|codRegiaoSaude|nomeRegiaoSaude|      data|semanaEpi|populacaoTCU2019|casosAcumulado|casosNovos|obitosAcumulado|obitosNovos|Recuperadosnovos|emAcompanhamentoNovos|\n",
            "+------+------+--------------------+-----+------+--------------+---------------+----------+---------+----------------+--------------+----------+---------------+-----------+----------------+---------------------+\n",
            "| Norte|    RO|Alta Floresta D'O...|   11|110001|         11005|   ZONA DA MATA|2020-05-09|       19|           22945|           1.0|        -1|              0|          0|            null|                 null|\n",
            "| Norte|    RO|Alta Floresta D'O...|   11|110001|         11005|   ZONA DA MATA|2020-05-24|       22|           22945|           3.0|        -1|              0|          0|            null|                 null|\n",
            "| Norte|    RO|Alta Floresta D'O...|   11|110001|         11005|   ZONA DA MATA|2020-06-14|       25|           22945|          41.0|        -8|              0|          0|            null|                 null|\n",
            "| Norte|    RO|           Ariquemes|   11|110002|         11001| VALE DO JAMARI|2020-04-14|       16|          107863|           3.0|        -4|              0|          0|            null|                 null|\n",
            "| Norte|    RO|           Ariquemes|   11|110002|         11001| VALE DO JAMARI|2020-04-22|       17|          107863|          39.0|        -5|              0|          0|            null|                 null|\n",
            "| Norte|    RO|           Ariquemes|   11|110002|         11001| VALE DO JAMARI|2020-05-05|       19|          107863|          88.0|        -1|              0|          0|            null|                 null|\n",
            "| Norte|    RO|           Ariquemes|   11|110002|         11001| VALE DO JAMARI|2020-05-11|       20|          107863|         122.0|        -1|              0|          0|            null|                 null|\n",
            "| Norte|    RO|              Cabixi|   11|110003|         11006|       CONE SUL|2020-07-06|       28|            5312|          12.0|        -1|              1|          0|            null|                 null|\n",
            "| Norte|    RO|              Cacoal|   11|110004|         11002|           CAFE|2020-05-17|       21|           85359|          29.0|        -1|              0|          0|            null|                 null|\n",
            "| Norte|    RO|              Cacoal|   11|110004|         11002|           CAFE|2020-06-06|       23|           85359|          86.0|        -1|              1|          0|            null|                 null|\n",
            "| Norte|    RO|          Cerejeiras|   11|110005|         11006|       CONE SUL|2020-05-24|       22|           16323|           0.0|        -1|              0|         -1|            null|                 null|\n",
            "| Norte|    RO|          Cerejeiras|   11|110005|         11006|       CONE SUL|2020-06-14|       25|           16323|          15.0|        -2|              2|          0|            null|                 null|\n",
            "| Norte|    RO|          Cerejeiras|   11|110005|         11006|       CONE SUL|2020-06-22|       26|           16323|          24.0|        -1|              2|          0|            null|                 null|\n",
            "| Norte|    RO|   Colorado do Oeste|   11|110006|         11006|       CONE SUL|2020-06-25|       26|           15882|          30.0|        -2|              0|          0|            null|                 null|\n",
            "| Norte|    RO|   Colorado do Oeste|   11|110006|         11006|       CONE SUL|2020-07-01|       27|           15882|          43.0|        -3|              0|          0|            null|                 null|\n",
            "| Norte|    RO|   Colorado do Oeste|   11|110006|         11006|       CONE SUL|2020-07-03|       27|           15882|          45.0|        -1|              0|          0|            null|                 null|\n",
            "| Norte|    RO|          Corumbiara|   11|110007|         11006|       CONE SUL|2020-06-09|       24|            7391|           3.0|        -2|              0|          0|            null|                 null|\n",
            "| Norte|    RO|       Costa Marques|   11|110008|         11007|VALE DO GUAPORE|2020-06-07|       24|           18331|           6.0|        -1|              0|          0|            null|                 null|\n",
            "| Norte|    RO|     Espigão D'Oeste|   11|110009|         11002|           CAFE|2020-05-15|       20|           32374|           2.0|        -1|              0|          0|            null|                 null|\n",
            "| Norte|    RO|     Espigão D'Oeste|   11|110009|         11002|           CAFE|2020-06-12|       24|           32374|          36.0|        -1|              2|          0|            null|                 null|\n",
            "+------+------+--------------------+-----+------+--------------+---------------+----------+---------+----------------+--------------+----------+---------------+-----------+----------------+---------------------+\n",
            "only showing top 20 rows\n",
            "\n"
          ]
        }
      ],
      "source": [
        "covid_localidades = covid.filter((f.col(\"regiao\") != \"Brasil\")&\\\n",
        "                                 (f.col(\"municipio\").isNotNull())&\\\n",
        "                                 (f.col(\"casosNovos\")<0))\n",
        "\n",
        "covid_localidades.show()\n",
        "\n"
      ]
    },
    {
      "cell_type": "code",
      "execution_count": 27,
      "metadata": {
        "id": "I0uPh1qBZJ3o",
        "colab": {
          "base_uri": "https://localhost:8080/"
        },
        "outputId": "4875e508-d41b-446c-c9ed-e1e602ad19e4"
      },
      "outputs": [
        {
          "output_type": "stream",
          "name": "stdout",
          "text": [
            "+------+------+---------+-----+------+--------------+---------------+----------+---------+----------------+--------------+----------+---------------+-----------+----------------+---------------------+\n",
            "|regiao|estado|municipio|coduf|codmun|codRegiaoSaude|nomeRegiaoSaude|      data|semanaEpi|populacaoTCU2019|casosAcumulado|casosNovos|obitosAcumulado|obitosNovos|Recuperadosnovos|emAcompanhamentoNovos|\n",
            "+------+------+---------+-----+------+--------------+---------------+----------+---------+----------------+--------------+----------+---------------+-----------+----------------+---------------------+\n",
            "| Norte|    RO|   Cabixi|   11|110003|         11006|       CONE SUL|2020-06-04|       23|            5312|           3.0|         3|              0|          0|            null|                 null|\n",
            "| Norte|    RO|   Cabixi|   11|110003|         11006|       CONE SUL|2020-06-30|       27|            5312|           4.0|         1|              1|          1|            null|                 null|\n",
            "| Norte|    RO|   Cabixi|   11|110003|         11006|       CONE SUL|2020-07-03|       27|            5312|           5.0|         1|              1|          0|            null|                 null|\n",
            "| Norte|    RO|   Cabixi|   11|110003|         11006|       CONE SUL|2020-07-04|       27|            5312|          11.0|         6|              1|          0|            null|                 null|\n",
            "| Norte|    RO|   Cabixi|   11|110003|         11006|       CONE SUL|2020-07-05|       28|            5312|          13.0|         2|              1|          0|            null|                 null|\n",
            "| Norte|    RO|   Cabixi|   11|110003|         11006|       CONE SUL|2020-07-06|       28|            5312|          12.0|        -1|              1|          0|            null|                 null|\n",
            "| Norte|    RO|   Cabixi|   11|110003|         11006|       CONE SUL|2020-07-08|       28|            5312|          15.0|         3|              2|          1|            null|                 null|\n",
            "| Norte|    RO|   Cabixi|   11|110003|         11006|       CONE SUL|2020-07-09|       28|            5312|          16.0|         1|              2|          0|            null|                 null|\n",
            "| Norte|    RO|   Cabixi|   11|110003|         11006|       CONE SUL|2020-07-10|       28|            5312|          19.0|         3|              2|          0|            null|                 null|\n",
            "| Norte|    RO|   Cabixi|   11|110003|         11006|       CONE SUL|2020-07-12|       29|            5312|          20.0|         1|              2|          0|            null|                 null|\n",
            "| Norte|    RO|   Cabixi|   11|110003|         11006|       CONE SUL|2020-07-13|       29|            5312|          21.0|         1|              2|          0|            null|                 null|\n",
            "| Norte|    RO|   Cabixi|   11|110003|         11006|       CONE SUL|2020-07-14|       29|            5312|          22.0|         1|              2|          0|            null|                 null|\n",
            "| Norte|    RO|   Cabixi|   11|110003|         11006|       CONE SUL|2020-07-15|       29|            5312|          27.0|         5|              2|          0|            null|                 null|\n",
            "| Norte|    RO|   Cabixi|   11|110003|         11006|       CONE SUL|2020-07-16|       29|            5312|          28.0|         1|              2|          0|            null|                 null|\n",
            "| Norte|    RO|   Cabixi|   11|110003|         11006|       CONE SUL|2020-07-20|       30|            5312|          34.0|         6|              0|         -2|            null|                 null|\n",
            "| Norte|    RO|   Cabixi|   11|110003|         11006|       CONE SUL|2020-07-22|       30|            5312|          35.0|         1|              2|          0|            null|                 null|\n",
            "| Norte|    RO|   Cabixi|   11|110003|         11006|       CONE SUL|2020-07-23|       30|            5312|          37.0|         2|              3|          1|            null|                 null|\n",
            "| Norte|    RO|   Cabixi|   11|110003|         11006|       CONE SUL|2020-07-25|       30|            5312|          38.0|         1|              3|          0|            null|                 null|\n",
            "| Norte|    RO|   Cabixi|   11|110003|         11006|       CONE SUL|2020-07-27|       31|            5312|          39.0|         1|              3|          0|            null|                 null|\n",
            "| Norte|    RO|   Cabixi|   11|110003|         11006|       CONE SUL|2020-07-28|       31|            5312|          41.0|         2|              3|          0|            null|                 null|\n",
            "+------+------+---------+-----+------+--------------+---------------+----------+---------+----------------+--------------+----------+---------------+-----------+----------------+---------------------+\n",
            "only showing top 20 rows\n",
            "\n"
          ]
        }
      ],
      "source": [
        "covid_localidades2 = covid.filter((f.col(\"regiao\") != \"Brasil\")\\\n",
        "                                 &(f.col(\"municipio\").isNotNull())\\\n",
        "                                 &(f.col(\"codmun\")== \"110003\")\\\n",
        "                                 &(f.col(\"casosNovos\")!= 0))\n",
        "covid_localidades2.show()"
      ]
    },
    {
      "cell_type": "markdown",
      "metadata": {
        "id": "cstzA0v9B4Mw"
      },
      "source": [
        "#### Comparando o total de casos novos quando o codigo do municipio for nulo X total de casos novos por município para a mesma data base, concluímos que o codigo do municipio igual a nulo não se refere a somatória do estado. Nesse caso, optamos por remover esses registros para evitar trabalhar com dados sujos."
      ]
    },
    {
      "cell_type": "code",
      "execution_count": 28,
      "metadata": {
        "id": "Bftb3uzFACR3",
        "colab": {
          "base_uri": "https://localhost:8080/"
        },
        "outputId": "629a2faf-0873-4bb4-c751-02820868c03f"
      },
      "outputs": [
        {
          "output_type": "stream",
          "name": "stdout",
          "text": [
            "+------+------+--------------------+-----+------+--------------+---------------+----------+---------+----------------+--------------+----------+---------------+-----------+----------------+---------------------+\n",
            "|regiao|estado|           municipio|coduf|codmun|codRegiaoSaude|nomeRegiaoSaude|      data|semanaEpi|populacaoTCU2019|casosAcumulado|casosNovos|obitosAcumulado|obitosNovos|Recuperadosnovos|emAcompanhamentoNovos|\n",
            "+------+------+--------------------+-----+------+--------------+---------------+----------+---------+----------------+--------------+----------+---------------+-----------+----------------+---------------------+\n",
            "| Norte|    RO|Alta Floresta D'O...|   11|110001|         11005|   ZONA DA MATA|2020-03-27|       13|           22945|           0.0|         0|              0|          0|            null|                 null|\n",
            "| Norte|    RO|Alta Floresta D'O...|   11|110001|         11005|   ZONA DA MATA|2020-03-28|       13|           22945|           0.0|         0|              0|          0|            null|                 null|\n",
            "| Norte|    RO|Alta Floresta D'O...|   11|110001|         11005|   ZONA DA MATA|2020-03-29|       14|           22945|           0.0|         0|              0|          0|            null|                 null|\n",
            "| Norte|    RO|Alta Floresta D'O...|   11|110001|         11005|   ZONA DA MATA|2020-03-30|       14|           22945|           0.0|         0|              0|          0|            null|                 null|\n",
            "| Norte|    RO|Alta Floresta D'O...|   11|110001|         11005|   ZONA DA MATA|2020-03-31|       14|           22945|           0.0|         0|              0|          0|            null|                 null|\n",
            "| Norte|    RO|Alta Floresta D'O...|   11|110001|         11005|   ZONA DA MATA|2020-04-01|       14|           22945|           0.0|         0|              0|          0|            null|                 null|\n",
            "| Norte|    RO|Alta Floresta D'O...|   11|110001|         11005|   ZONA DA MATA|2020-04-02|       14|           22945|           0.0|         0|              0|          0|            null|                 null|\n",
            "| Norte|    RO|Alta Floresta D'O...|   11|110001|         11005|   ZONA DA MATA|2020-04-03|       14|           22945|           0.0|         0|              0|          0|            null|                 null|\n",
            "| Norte|    RO|Alta Floresta D'O...|   11|110001|         11005|   ZONA DA MATA|2020-04-04|       14|           22945|           0.0|         0|              0|          0|            null|                 null|\n",
            "| Norte|    RO|Alta Floresta D'O...|   11|110001|         11005|   ZONA DA MATA|2020-04-05|       15|           22945|           0.0|         0|              0|          0|            null|                 null|\n",
            "| Norte|    RO|Alta Floresta D'O...|   11|110001|         11005|   ZONA DA MATA|2020-04-06|       15|           22945|           0.0|         0|              0|          0|            null|                 null|\n",
            "| Norte|    RO|Alta Floresta D'O...|   11|110001|         11005|   ZONA DA MATA|2020-04-07|       15|           22945|           0.0|         0|              0|          0|            null|                 null|\n",
            "| Norte|    RO|Alta Floresta D'O...|   11|110001|         11005|   ZONA DA MATA|2020-04-08|       15|           22945|           0.0|         0|              0|          0|            null|                 null|\n",
            "| Norte|    RO|Alta Floresta D'O...|   11|110001|         11005|   ZONA DA MATA|2020-04-09|       15|           22945|           0.0|         0|              0|          0|            null|                 null|\n",
            "| Norte|    RO|Alta Floresta D'O...|   11|110001|         11005|   ZONA DA MATA|2020-04-10|       15|           22945|           0.0|         0|              0|          0|            null|                 null|\n",
            "| Norte|    RO|Alta Floresta D'O...|   11|110001|         11005|   ZONA DA MATA|2020-04-11|       15|           22945|           0.0|         0|              0|          0|            null|                 null|\n",
            "| Norte|    RO|Alta Floresta D'O...|   11|110001|         11005|   ZONA DA MATA|2020-04-12|       16|           22945|           0.0|         0|              0|          0|            null|                 null|\n",
            "| Norte|    RO|Alta Floresta D'O...|   11|110001|         11005|   ZONA DA MATA|2020-04-13|       16|           22945|           0.0|         0|              0|          0|            null|                 null|\n",
            "| Norte|    RO|Alta Floresta D'O...|   11|110001|         11005|   ZONA DA MATA|2020-04-14|       16|           22945|           0.0|         0|              0|          0|            null|                 null|\n",
            "| Norte|    RO|Alta Floresta D'O...|   11|110001|         11005|   ZONA DA MATA|2020-04-15|       16|           22945|           0.0|         0|              0|          0|            null|                 null|\n",
            "+------+------+--------------------+-----+------+--------------+---------------+----------+---------+----------------+--------------+----------+---------------+-----------+----------------+---------------------+\n",
            "only showing top 20 rows\n",
            "\n"
          ]
        }
      ],
      "source": [
        "covid_novo = covid.withColumn(\"casosNovos\", when(f.col(\"casosNovos\")<0, 0)\\\n",
        "                              .otherwise(f.col(\"casosNovos\")))\\\n",
        "                  .withColumn(\"obitosNovos\", when(f.col(\"obitosNovos\")<0, 0)\\\n",
        "                              .otherwise(f.col(\"obitosNovos\")))\\\n",
        "                  .filter((f.col(\"regiao\") != \"Brasil\")&(f.col(\"municipio\").isNotNull()))\n",
        "covid_novo.show()"
      ]
    },
    {
      "cell_type": "markdown",
      "metadata": {
        "id": "e1HNDpWwDbiB"
      },
      "source": [
        "#### Foi realizada a soma de de total de casos e obitos novos considerando somente o estado."
      ]
    },
    {
      "cell_type": "code",
      "execution_count": 29,
      "metadata": {
        "id": "GggvbHjA1oXT",
        "colab": {
          "base_uri": "https://localhost:8080/"
        },
        "outputId": "727f5671-86e1-4df2-acca-43b210057662"
      },
      "outputs": [
        {
          "output_type": "stream",
          "name": "stdout",
          "text": [
            "+------+-----+----------+-----------------------------+------------------------------+\n",
            "|estado|coduf|      data|casosNovos_diarios_por_estado|obitosNovos_diarios_por_estado|\n",
            "+------+-----+----------+-----------------------------+------------------------------+\n",
            "|    RO|   11|2020-03-14|                            0|                             0|\n",
            "|    AC|   12|2020-05-19|                          496|                            10|\n",
            "|    AC|   12|2020-06-09|                          658|                            24|\n",
            "|    MA|   21|2020-04-04|                           14|                             0|\n",
            "|    PI|   22|2020-05-11|                          108|                             6|\n",
            "|    RN|   24|2020-03-30|                           20|                             0|\n",
            "|    RN|   24|2020-04-24|                           98|                            10|\n",
            "|    RN|   24|2020-05-09|                          198|                            12|\n",
            "|    PB|   25|2020-04-25|                          122|                             4|\n",
            "|    PB|   25|2020-05-27|                         2580|                            24|\n",
            "|    PB|   25|2020-06-03|                         2318|                            70|\n",
            "|    PE|   26|2020-03-21|                            0|                             0|\n",
            "|    AL|   27|2020-06-08|                            0|                             0|\n",
            "|    SE|   28|2020-07-19|                         4342|                            28|\n",
            "|    BA|   29|2020-05-07|                          474|                            12|\n",
            "|    ES|   32|2020-03-16|                            0|                             0|\n",
            "|    ES|   32|2020-03-22|                            0|                             0|\n",
            "|    ES|   32|2020-06-07|                         1338|                            52|\n",
            "|    RJ|   33|2020-04-28|                         1120|                           122|\n",
            "|    SC|   42|2020-05-06|                          592|                             8|\n",
            "+------+-----+----------+-----------------------------+------------------------------+\n",
            "only showing top 20 rows\n",
            "\n"
          ]
        }
      ],
      "source": [
        "covid_total_estados = covid.withColumn(\"casosNovos\", when(f.col(\"casosNovos\")<0, 0)\\\n",
        "                                       .otherwise(f.col(\"casosNovos\")))\\\n",
        "                           .withColumn(\"obitosNovos\", when(f.col(\"obitosNovos\")<0, 0)\\\n",
        "                                       .otherwise(f.col(\"obitosNovos\")))\\\n",
        "                           .filter((f.col(\"municipio\").isNull())&(f.col(\"regiao\") != \"Brasil\"))\\\n",
        "                           .groupBy(\"estado\" ,\"coduf\", \"data\")\\\n",
        "                           .agg(f.sum(\"casosNovos\").alias(\"casosNovos_diarios_por_estado\"),\\\n",
        "                                  sum(\"obitosNovos\").alias(\"obitosNovos_diarios_por_estado\"))\n",
        "                                                               \n",
        "covid_total_estados.show()"
      ]
    },
    {
      "cell_type": "markdown",
      "metadata": {
        "id": "Kdyof0WKJEVY"
      },
      "source": [
        "#### Foi realizado o join dos dataframes covid_novo e covid_total_estados para melhor visualização"
      ]
    },
    {
      "cell_type": "code",
      "execution_count": 30,
      "metadata": {
        "id": "OADi77Cd4CnP",
        "colab": {
          "base_uri": "https://localhost:8080/"
        },
        "outputId": "71b1b553-cc01-40bd-bfbe-3a63afaf129d"
      },
      "outputs": [
        {
          "output_type": "stream",
          "name": "stdout",
          "text": [
            "+----------+-----+------+------+--------------------+------+--------------+---------------+---------+----------------+--------------+----------+---------------+-----------+----------------+---------------------+-----------------------------+------------------------------+\n",
            "|      data|coduf|estado|regiao|           municipio|codmun|codRegiaoSaude|nomeRegiaoSaude|semanaEpi|populacaoTCU2019|casosAcumulado|casosNovos|obitosAcumulado|obitosNovos|Recuperadosnovos|emAcompanhamentoNovos|casosNovos_diarios_por_estado|obitosNovos_diarios_por_estado|\n",
            "+----------+-----+------+------+--------------------+------+--------------+---------------+---------+----------------+--------------+----------+---------------+-----------+----------------+---------------------+-----------------------------+------------------------------+\n",
            "|2020-04-06|   11|    RO| Norte|Alta Floresta D'O...|110001|         11005|   ZONA DA MATA|       15|           22945|           0.0|         0|              0|          0|            null|                 null|                            4|                             0|\n",
            "|2020-04-16|   11|    RO| Norte|Alta Floresta D'O...|110001|         11005|   ZONA DA MATA|       16|           22945|           0.0|         0|              0|          0|            null|                 null|                           14|                             2|\n",
            "|2020-04-01|   11|    RO| Norte|Alta Floresta D'O...|110001|         11005|   ZONA DA MATA|       14|           22945|           0.0|         0|              0|          0|            null|                 null|                            2|                             0|\n",
            "|2020-04-10|   11|    RO| Norte|Alta Floresta D'O...|110001|         11005|   ZONA DA MATA|       15|           22945|           0.0|         0|              0|          0|            null|                 null|                            8|                             0|\n",
            "|2020-04-02|   11|    RO| Norte|Alta Floresta D'O...|110001|         11005|   ZONA DA MATA|       14|           22945|           0.0|         0|              0|          0|            null|                 null|                            2|                             0|\n",
            "|2020-04-03|   11|    RO| Norte|Alta Floresta D'O...|110001|         11005|   ZONA DA MATA|       14|           22945|           0.0|         0|              0|          0|            null|                 null|                            0|                             0|\n",
            "|2020-04-13|   11|    RO| Norte|Alta Floresta D'O...|110001|         11005|   ZONA DA MATA|       16|           22945|           0.0|         0|              0|          0|            null|                 null|                           14|                             0|\n",
            "|2020-03-27|   11|    RO| Norte|Alta Floresta D'O...|110001|         11005|   ZONA DA MATA|       13|           22945|           0.0|         0|              0|          0|            null|                 null|                            2|                             0|\n",
            "|2020-03-30|   11|    RO| Norte|Alta Floresta D'O...|110001|         11005|   ZONA DA MATA|       14|           22945|           0.0|         0|              0|          0|            null|                 null|                            0|                             0|\n",
            "|2020-03-29|   11|    RO| Norte|Alta Floresta D'O...|110001|         11005|   ZONA DA MATA|       14|           22945|           0.0|         0|              0|          0|            null|                 null|                            0|                             0|\n",
            "|2020-03-28|   11|    RO| Norte|Alta Floresta D'O...|110001|         11005|   ZONA DA MATA|       13|           22945|           0.0|         0|              0|          0|            null|                 null|                            0|                             0|\n",
            "|2020-04-05|   11|    RO| Norte|Alta Floresta D'O...|110001|         11005|   ZONA DA MATA|       15|           22945|           0.0|         0|              0|          0|            null|                 null|                            2|                             0|\n",
            "|2020-04-04|   11|    RO| Norte|Alta Floresta D'O...|110001|         11005|   ZONA DA MATA|       14|           22945|           0.0|         0|              0|          0|            null|                 null|                            2|                             0|\n",
            "|2020-04-15|   11|    RO| Norte|Alta Floresta D'O...|110001|         11005|   ZONA DA MATA|       16|           22945|           0.0|         0|              0|          0|            null|                 null|                           10|                             0|\n",
            "|2020-04-09|   11|    RO| Norte|Alta Floresta D'O...|110001|         11005|   ZONA DA MATA|       15|           22945|           0.0|         0|              0|          0|            null|                 null|                           20|                             2|\n",
            "|2020-04-07|   11|    RO| Norte|Alta Floresta D'O...|110001|         11005|   ZONA DA MATA|       15|           22945|           0.0|         0|              0|          0|            null|                 null|                            8|                             0|\n",
            "|2020-04-14|   11|    RO| Norte|Alta Floresta D'O...|110001|         11005|   ZONA DA MATA|       16|           22945|           0.0|         0|              0|          0|            null|                 null|                           44|                             0|\n",
            "|2020-03-31|   11|    RO| Norte|Alta Floresta D'O...|110001|         11005|   ZONA DA MATA|       14|           22945|           0.0|         0|              0|          0|            null|                 null|                            4|                             2|\n",
            "|2020-04-12|   11|    RO| Norte|Alta Floresta D'O...|110001|         11005|   ZONA DA MATA|       16|           22945|           0.0|         0|              0|          0|            null|                 null|                            4|                             0|\n",
            "|2020-04-11|   11|    RO| Norte|Alta Floresta D'O...|110001|         11005|   ZONA DA MATA|       15|           22945|           0.0|         0|              0|          0|            null|                 null|                            2|                             0|\n",
            "+----------+-----+------+------+--------------------+------+--------------+---------------+---------+----------------+--------------+----------+---------------+-----------+----------------+---------------------+-----------------------------+------------------------------+\n",
            "only showing top 20 rows\n",
            "\n"
          ]
        }
      ],
      "source": [
        "covid_total = covid_novo.join(covid_total_estados, [\"data\", \"coduf\",\"estado\"], how='left')\n",
        "\n",
        "covid_total.show()"
      ]
    },
    {
      "cell_type": "code",
      "execution_count": 31,
      "metadata": {
        "id": "o744x6Ou3tHt",
        "colab": {
          "base_uri": "https://localhost:8080/"
        },
        "outputId": "1f50576c-e8f4-4d9a-c20b-944c3f3a2303"
      },
      "outputs": [
        {
          "output_type": "stream",
          "name": "stdout",
          "text": [
            "+----------+--------+------+-----+--------------------+----------+-----------+-----------------------------+------------------------------+\n",
            "|      data|  regiao|estado|coduf|           municipio|casosNovos|obitosNovos|casosNovos_diarios_por_estado|obitosNovos_diarios_por_estado|\n",
            "+----------+--------+------+-----+--------------------+----------+-----------+-----------------------------+------------------------------+\n",
            "|2022-08-09|Nordeste|    MA|   21|          Açailândia|         1|          0|                          463|                             2|\n",
            "|2022-08-09|Nordeste|    MA|   21|           Bacabeira|         0|          0|                          463|                             2|\n",
            "|2022-08-09|Nordeste|    MA|   21|        Afonso Cunha|         0|          0|                          463|                             2|\n",
            "|2022-08-09|Nordeste|    MA|   21|Água Doce do Mara...|         0|          0|                          463|                             2|\n",
            "|2022-08-09|Nordeste|    MA|   21|           Alcântara|         0|          0|                          463|                             2|\n",
            "|2022-08-09|Nordeste|    MA|   21|       Aldeias Altas|         0|          0|                          463|                             2|\n",
            "|2022-08-09|Nordeste|    MA|   21|Altamira do Maranhão|         0|          0|                          463|                             2|\n",
            "|2022-08-09|Nordeste|    MA|   21|Alto Alegre do Ma...|         0|          0|                          463|                             2|\n",
            "|2022-08-09|Nordeste|    MA|   21|Alto Alegre do Pi...|        26|          0|                          463|                             2|\n",
            "|2022-08-09|Nordeste|    MA|   21|       Alto Parnaíba|         0|          0|                          463|                             2|\n",
            "|2022-08-09|Nordeste|    MA|   21|   Amapá do Maranhão|         0|          0|                          463|                             2|\n",
            "|2022-08-09|Nordeste|    MA|   21|Amarante do Maranhão|         0|          0|                          463|                             2|\n",
            "|2022-08-09|Nordeste|    MA|   21|           Anajatuba|         0|          0|                          463|                             2|\n",
            "|2022-08-09|Nordeste|    MA|   21|            Anapurus|         0|          0|                          463|                             2|\n",
            "|2022-08-09|Nordeste|    MA|   21|          Apicum-Açu|         0|          0|                          463|                             2|\n",
            "|2022-08-09|Nordeste|    MA|   21|            Araguanã|         0|          0|                          463|                             2|\n",
            "|2022-08-09|Nordeste|    MA|   21|            Araioses|         0|          0|                          463|                             2|\n",
            "|2022-08-09|Nordeste|    MA|   21|               Arame|         0|          0|                          463|                             2|\n",
            "|2022-08-09|Nordeste|    MA|   21|               Arari|         6|          0|                          463|                             2|\n",
            "|2022-08-09|Nordeste|    MA|   21|               Axixá|         0|          0|                          463|                             2|\n",
            "+----------+--------+------+-----+--------------------+----------+-----------+-----------------------------+------------------------------+\n",
            "only showing top 20 rows\n",
            "\n"
          ]
        }
      ],
      "source": [
        "municipios = covid_total.select(\"data\", \"regiao\", \"estado\", \"coduf\",\\\n",
        "                                \"municipio\",\"casosNovos\", \"obitosNovos\", \\\n",
        "                                \"casosNovos_diarios_por_estado\",\\\n",
        "                                \"obitosNovos_diarios_por_estado\")\n",
        "                              \n",
        "municipios.orderBy(col(\"data\").desc()).show()"
      ]
    },
    {
      "cell_type": "code",
      "execution_count": 32,
      "metadata": {
        "id": "fOO9oQrF7WLn",
        "colab": {
          "base_uri": "https://localhost:8080/"
        },
        "outputId": "48b962d9-ec32-4fe0-adaa-938ee0bc713b"
      },
      "outputs": [
        {
          "output_type": "stream",
          "name": "stdout",
          "text": [
            "+----------+-------+------+-----+--------------------+----------+-----------+-----------------------------+------------------------------+\n",
            "|      data| regiao|estado|coduf|           municipio|casosNovos|obitosNovos|casosNovos_diarios_por_estado|obitosNovos_diarios_por_estado|\n",
            "+----------+-------+------+-----+--------------------+----------+-----------+-----------------------------+------------------------------+\n",
            "|2022-08-09|Sudeste|    SP|   35|          Adamantina|        66|          0|                         5097|                            72|\n",
            "|2022-08-09|Sudeste|    SP|   35|   Américo de Campos|         0|          0|                         5097|                            72|\n",
            "|2022-08-09|Sudeste|    SP|   35|              Adolfo|         0|          0|                         5097|                            72|\n",
            "|2022-08-09|Sudeste|    SP|   35|               Aguaí|        21|          1|                         5097|                            72|\n",
            "|2022-08-09|Sudeste|    SP|   35|      Águas da Prata|         0|          0|                         5097|                            72|\n",
            "|2022-08-09|Sudeste|    SP|   35|    Águas de Lindóia|         7|          0|                         5097|                            72|\n",
            "|2022-08-09|Sudeste|    SP|   35|Águas de Santa Bá...|         0|          0|                         5097|                            72|\n",
            "|2022-08-09|Sudeste|    SP|   35|  Águas de São Pedro|         0|          0|                         5097|                            72|\n",
            "|2022-08-09|Sudeste|    SP|   35|              Agudos|         1|          0|                         5097|                            72|\n",
            "|2022-08-09|Sudeste|    SP|   35|            Alambari|         0|          0|                         5097|                            72|\n",
            "|2022-08-09|Sudeste|    SP|   35|   Alfredo Marcondes|         0|          0|                         5097|                            72|\n",
            "|2022-08-09|Sudeste|    SP|   35|              Altair|         1|          0|                         5097|                            72|\n",
            "|2022-08-09|Sudeste|    SP|   35|         Altinópolis|         0|          0|                         5097|                            72|\n",
            "|2022-08-09|Sudeste|    SP|   35|         Alto Alegre|         0|          0|                         5097|                            72|\n",
            "|2022-08-09|Sudeste|    SP|   35|            Alumínio|         0|          0|                         5097|                            72|\n",
            "|2022-08-09|Sudeste|    SP|   35|    Álvares Florence|         0|          0|                         5097|                            72|\n",
            "|2022-08-09|Sudeste|    SP|   35|     Álvares Machado|         4|          0|                         5097|                            72|\n",
            "|2022-08-09|Sudeste|    SP|   35|  Álvaro de Carvalho|         0|          0|                         5097|                            72|\n",
            "|2022-08-09|Sudeste|    SP|   35|         Alvinlândia|         0|          0|                         5097|                            72|\n",
            "|2022-08-09|Sudeste|    SP|   35|           Americana|         0|          1|                         5097|                            72|\n",
            "+----------+-------+------+-----+--------------------+----------+-----------+-----------------------------+------------------------------+\n",
            "only showing top 20 rows\n",
            "\n"
          ]
        }
      ],
      "source": [
        "municipios.orderBy(col(\"data\").desc(), col(\"casosNovos_diarios_por_estado\").desc()).show()"
      ]
    },
    {
      "cell_type": "code",
      "execution_count": 33,
      "metadata": {
        "id": "S2dfRLzn5LrI",
        "colab": {
          "base_uri": "https://localhost:8080/"
        },
        "outputId": "e470fc88-a3ef-4613-aac2-bb242f2073d4"
      },
      "outputs": [
        {
          "output_type": "stream",
          "name": "stdout",
          "text": [
            "+----------+------+-----+-----------------------------+------------------------------+\n",
            "|      data|estado|coduf|casosNovos_diarios_por_estado|obitosNovos_diarios_por_estado|\n",
            "+----------+------+-----+-----------------------------+------------------------------+\n",
            "|2022-08-09|    RJ|   33|                         2365|                            76|\n",
            "|2022-08-09|    SP|   35|                         5097|                            72|\n",
            "|2022-08-09|    PR|   41|                         4168|                            40|\n",
            "|2022-08-09|    MG|   31|                         2095|                            30|\n",
            "|2022-08-09|    MS|   50|                          539|                            23|\n",
            "|2022-08-09|    CE|   23|                          819|                            22|\n",
            "|2022-08-09|    RS|   43|                         3402|                            21|\n",
            "|2022-08-09|    BA|   29|                         1597|                            19|\n",
            "|2022-08-09|    GO|   52|                         1942|                            15|\n",
            "|2022-08-09|    SC|   42|                         1100|                            10|\n",
            "|2022-08-09|    ES|   32|                          651|                             7|\n",
            "|2022-08-09|    PE|   26|                          775|                             7|\n",
            "|2022-08-09|    PI|   22|                          621|                             6|\n",
            "|2022-08-09|    MT|   51|                          740|                             3|\n",
            "|2022-08-09|    PA|   15|                          996|                             3|\n",
            "|2022-08-09|    RN|   24|                          242|                             3|\n",
            "|2022-08-09|    PB|   25|                           18|                             2|\n",
            "|2022-08-09|    MA|   21|                          463|                             2|\n",
            "|2022-08-09|    AL|   27|                           68|                             1|\n",
            "|2022-08-09|    SE|   28|                           47|                             1|\n",
            "+----------+------+-----+-----------------------------+------------------------------+\n",
            "only showing top 20 rows\n",
            "\n"
          ]
        }
      ],
      "source": [
        "municipios.select(\"data\", \"estado\", \"coduf\",\\\n",
        "                  \"casosNovos_diarios_por_estado\",\\\n",
        "                  \"obitosNovos_diarios_por_estado\").distinct()\\\n",
        "          .orderBy(col(\"data\").desc(), col(\"obitosNovos_diarios_por_estado\").desc()).show()"
      ]
    },
    {
      "cell_type": "markdown",
      "metadata": {
        "id": "-Dg7qmdPq73S"
      },
      "source": [
        "#### Foram explorados valor máximo, mínimo e média de casos e obitos novos por município."
      ]
    },
    {
      "cell_type": "code",
      "execution_count": 34,
      "metadata": {
        "id": "ACuGUAyfhyq4",
        "colab": {
          "base_uri": "https://localhost:8080/"
        },
        "outputId": "1afd64fb-24f6-4308-85c6-e22c6d34e4f0"
      },
      "outputs": [
        {
          "output_type": "stream",
          "name": "stdout",
          "text": [
            "+----------+------+-----+------------+----------------------------+--------------------------+--------------------------+\n",
            "|      data|estado|coduf|      regiao|media_casos_Novos_municipios|max_casos_Novos_municipios|min_casos_Novos_municipios|\n",
            "+----------+------+-----+------------+----------------------------+--------------------------+--------------------------+\n",
            "|2022-01-31|    DF|   53|Centro-Oeste|                     11508.0|                     11508|                     11508|\n",
            "|2022-01-25|    DF|   53|Centro-Oeste|                     10697.0|                     10697|                     10697|\n",
            "|2022-06-20|    DF|   53|Centro-Oeste|                      9007.0|                      9007|                      9007|\n",
            "|2022-02-07|    DF|   53|Centro-Oeste|                      8773.0|                      8773|                      8773|\n",
            "|2022-06-13|    DF|   53|Centro-Oeste|                      8711.0|                      8711|                      8711|\n",
            "|2022-02-03|    DF|   53|Centro-Oeste|                      7086.0|                      7086|                      7086|\n",
            "|2022-06-17|    DF|   53|Centro-Oeste|                      7062.0|                      7062|                      7062|\n",
            "|2022-01-24|    DF|   53|Centro-Oeste|                      6976.0|                      6976|                      6976|\n",
            "|2022-06-06|    DF|   53|Centro-Oeste|                      6679.0|                      6679|                      6679|\n",
            "|2022-06-15|    DF|   53|Centro-Oeste|                      6305.0|                      6305|                      6305|\n",
            "|2022-02-04|    DF|   53|Centro-Oeste|                      6202.0|                      6202|                      6202|\n",
            "|2022-02-01|    DF|   53|Centro-Oeste|                      5798.0|                      5798|                      5798|\n",
            "|2022-06-27|    DF|   53|Centro-Oeste|                      5736.0|                      5736|                      5736|\n",
            "|2022-01-17|    DF|   53|Centro-Oeste|                      5648.0|                      5648|                      5648|\n",
            "|2022-02-14|    DF|   53|Centro-Oeste|                      5614.0|                      5614|                      5614|\n",
            "|2022-01-26|    DF|   53|Centro-Oeste|                      5485.0|                      5485|                      5485|\n",
            "|2022-01-28|    DF|   53|Centro-Oeste|                      5399.0|                      5399|                      5399|\n",
            "|2022-02-02|    DF|   53|Centro-Oeste|                      5382.0|                      5382|                      5382|\n",
            "|2022-01-27|    DF|   53|Centro-Oeste|                      5243.0|                      5243|                      5243|\n",
            "|2022-02-09|    DF|   53|Centro-Oeste|                      4924.0|                      4924|                      4924|\n",
            "+----------+------+-----+------------+----------------------------+--------------------------+--------------------------+\n",
            "only showing top 20 rows\n",
            "\n",
            "+----------+------+-----+------------+-----------------------------+---------------------------+---------------------------+\n",
            "|      data|estado|coduf|      regiao|media_obitos_Novos_municipios|max_obitos_Novos_municipios|min_obitos_Novos_municipios|\n",
            "+----------+------+-----+------------+-----------------------------+---------------------------+---------------------------+\n",
            "|2021-04-01|    DF|   53|Centro-Oeste|                        121.0|                        121|                        121|\n",
            "|2021-03-31|    DF|   53|Centro-Oeste|                        117.0|                        117|                        117|\n",
            "|2021-03-30|    DF|   53|Centro-Oeste|                         94.0|                         94|                         94|\n",
            "|2021-04-12|    DF|   53|Centro-Oeste|                         86.0|                         86|                         86|\n",
            "|2021-04-07|    DF|   53|Centro-Oeste|                         83.0|                         83|                         83|\n",
            "|2021-04-06|    DF|   53|Centro-Oeste|                         83.0|                         83|                         83|\n",
            "|2020-08-06|    DF|   53|Centro-Oeste|                         79.0|                         79|                         79|\n",
            "|2021-04-05|    DF|   53|Centro-Oeste|                         78.0|                         78|                         78|\n",
            "|2021-04-08|    DF|   53|Centro-Oeste|                         77.0|                         77|                         77|\n",
            "|2021-04-15|    DF|   53|Centro-Oeste|                         77.0|                         77|                         77|\n",
            "|2021-04-16|    DF|   53|Centro-Oeste|                         76.0|                         76|                         76|\n",
            "|2021-04-19|    DF|   53|Centro-Oeste|                         74.0|                         74|                         74|\n",
            "|2021-03-18|    DF|   53|Centro-Oeste|                         68.0|                         68|                         68|\n",
            "|2021-04-09|    DF|   53|Centro-Oeste|                         67.0|                         67|                         67|\n",
            "|2020-08-17|    DF|   53|Centro-Oeste|                         66.0|                         66|                         66|\n",
            "|2021-04-13|    DF|   53|Centro-Oeste|                         66.0|                         66|                         66|\n",
            "|2021-04-14|    DF|   53|Centro-Oeste|                         66.0|                         66|                         66|\n",
            "|2021-03-26|    DF|   53|Centro-Oeste|                         64.0|                         64|                         64|\n",
            "|2021-03-23|    DF|   53|Centro-Oeste|                         62.0|                         62|                         62|\n",
            "|2021-03-29|    DF|   53|Centro-Oeste|                         61.0|                         61|                         61|\n",
            "+----------+------+-----+------------+-----------------------------+---------------------------+---------------------------+\n",
            "only showing top 20 rows\n",
            "\n"
          ]
        }
      ],
      "source": [
        "df_casos = municipios.groupBy(\"data\",\"estado\", \"coduf\", \"regiao\")\\\n",
        "                     .agg(round(avg(\"casosNovos\"), 2).alias(\"media_casos_Novos_municipios\"),\\\n",
        "                          round(max(\"casosNovos\"), 2).alias(\"max_casos_Novos_municipios\"),\\\n",
        "                          round(min(\"casosNovos\"), 2).alias(\"min_casos_Novos_municipios\"))\\\n",
        "                     .sort(col(\"media_casos_Novos_municipios\").desc())\n",
        "              \n",
        "\n",
        "df_obitos= municipios.groupBy(\"data\",\"estado\", \"coduf\", \"regiao\")\\\n",
        "                     .agg(round(avg(\"obitosNovos\"), 2).alias(\"media_obitos_Novos_municipios\"),\\\n",
        "                          round(max(\"obitosNovos\"), 2).alias(\"max_obitos_Novos_municipios\"),\\\n",
        "                          round(min(\"obitosNovos\"), 2).alias(\"min_obitos_Novos_municipios\"))\\\n",
        "                     .sort(col(\"media_obitos_Novos_municipios\").desc())\n",
        "              \n",
        "\n",
        "df_casos.show()\n",
        "df_obitos.show()"
      ]
    },
    {
      "cell_type": "markdown",
      "metadata": {
        "id": "mr6S09ni92h3"
      },
      "source": [
        "#### Foi feita a importação de uma tabela de desmprego para posterior comparação com os dados de covid no Brasil."
      ]
    },
    {
      "cell_type": "code",
      "execution_count": 35,
      "metadata": {
        "id": "B7mqy8q6hJYf",
        "colab": {
          "base_uri": "https://localhost:8080/"
        },
        "outputId": "387b1ef3-b583-46e2-dd36-828fd2e2280b"
      },
      "outputs": [
        {
          "output_type": "stream",
          "name": "stdout",
          "text": [
            "+-------------------+----------------+----------------+----------------+----------------+----------------+----------------+\n",
            "|             estado|1_trimestre_2019|2_trimestre_2019|3_trimestre_2019|4_trimestre_2019|1_trimestre_2020|2_trimestre_2022|\n",
            "+-------------------+----------------+----------------+----------------+----------------+----------------+----------------+\n",
            "|           Rondônia|              79|              60|              74|              72|              76|              52|\n",
            "|               Acre|              65|              49|              47|              49|              47|              45|\n",
            "|           Amazonas|             296|             265|             257|             248|             279|             203|\n",
            "|            Roraima|              39|              38|              37|              38|              42|              16|\n",
            "|               Pará|             445|             435|             444|             360|             417|             377|\n",
            "|              Amapá|              78|              69|              66|              62|              67|              48|\n",
            "|          Tocantins|              90|              84|              78|              67|              84|              43|\n",
            "|           Maranhão|             429|             388|             382|             330|             431|             299|\n",
            "|              Piauí|             188|             191|             199|             200|             202|             135|\n",
            "|              Ceará|             476|             459|             478|             437|             513|             412|\n",
            "|Rio Grande do Norte|             214|             195|             210|             199|             244|             188|\n",
            "|            Paraíba|             189|             207|             193|             206|             232|             203|\n",
            "|         Pernambuco|             696|             681|             674|             601|             611|             578|\n",
            "|            Alagoas|             194|             186|             193|             165|             204|             149|\n",
            "|            Sergipe|             165|             169|             162|             168|             171|             140|\n",
            "|              Bahia|            1307|            1240|            1194|            1162|            1333|            1104|\n",
            "|       Minas Gerais|            1257|            1096|            1149|            1098|            1320|             828|\n",
            "|     Espírito Santo|             266|             242|             233|             227|             243|             174|\n",
            "|     Rio de Janeiro|            1388|            1366|            1314|            1246|            1313|            1130|\n",
            "|          São Paulo|            3510|            3368|            3169|            3015|            3151|            2404|\n",
            "|             Paraná|             550|             560|             559|             450|             487|             374|\n",
            "|     Santa Catarina|             285|             239|             227|             216|             223|             160|\n",
            "|  Rio Grande do Sul|             496|             515|             555|             455|             529|             387|\n",
            "| Mato Grosso do Sul|             137|             123|             111|              96|             111|              75|\n",
            "|        Mato Grosso|             167|             154|             148|             117|             158|              82|\n",
            "|              Goiás|             407|             399|             421|             405|             434|             270|\n",
            "|   Distrito Federal|             238|             234|             224|             210|             228|             205|\n",
            "+-------------------+----------------+----------------+----------------+----------------+----------------+----------------+\n",
            "\n"
          ]
        }
      ],
      "source": [
        "desemprego = spark.read.format('csv')\\\n",
        "                       .options(header='true',\\\n",
        "                                inferschema='true')\\\n",
        "                       .load(f'{caminho_local}/desemprego.csv',header=True)\n",
        "\n",
        "desemprego.show(50)\n"
      ]
    },
    {
      "cell_type": "markdown",
      "metadata": {
        "id": "qV6k7Vp1YkVx"
      },
      "source": [
        "#### Foram alterados os valores da coluna Estado no dataframe de desemprego, de nome do estado para a sigla do estado para futura comparação com os dados de Covid."
      ]
    },
    {
      "cell_type": "code",
      "execution_count": 36,
      "metadata": {
        "id": "XBpEfSagK8U_",
        "colab": {
          "base_uri": "https://localhost:8080/"
        },
        "outputId": "2b4223a8-3349-443a-991d-2dac1799f793"
      },
      "outputs": [
        {
          "output_type": "stream",
          "name": "stdout",
          "text": [
            "+------+----------------+----------------+----------------+----------------+----------------+----------------+\n",
            "|Estado|1_trimestre_2019|2_trimestre_2019|3_trimestre_2019|4_trimestre_2019|1_trimestre_2020|2_trimestre_2022|\n",
            "+------+----------------+----------------+----------------+----------------+----------------+----------------+\n",
            "|    RO|              79|              60|              74|              72|              76|              52|\n",
            "|    AC|              65|              49|              47|              49|              47|              45|\n",
            "|    AM|             296|             265|             257|             248|             279|             203|\n",
            "|    RR|              39|              38|              37|              38|              42|              16|\n",
            "|    PA|             445|             435|             444|             360|             417|             377|\n",
            "|    AP|              78|              69|              66|              62|              67|              48|\n",
            "|    TO|              90|              84|              78|              67|              84|              43|\n",
            "|    MA|             429|             388|             382|             330|             431|             299|\n",
            "|    PI|             188|             191|             199|             200|             202|             135|\n",
            "|    CE|             476|             459|             478|             437|             513|             412|\n",
            "|    RN|             214|             195|             210|             199|             244|             188|\n",
            "|    PB|             189|             207|             193|             206|             232|             203|\n",
            "|    PE|             696|             681|             674|             601|             611|             578|\n",
            "|    AL|             194|             186|             193|             165|             204|             149|\n",
            "|    SE|             165|             169|             162|             168|             171|             140|\n",
            "|    BA|            1307|            1240|            1194|            1162|            1333|            1104|\n",
            "|    MG|            1257|            1096|            1149|            1098|            1320|             828|\n",
            "|    ES|             266|             242|             233|             227|             243|             174|\n",
            "|    RJ|            1388|            1366|            1314|            1246|            1313|            1130|\n",
            "|    SP|            3510|            3368|            3169|            3015|            3151|            2404|\n",
            "|    PR|             550|             560|             559|             450|             487|             374|\n",
            "|    SC|             285|             239|             227|             216|             223|             160|\n",
            "|    RS|             496|             515|             555|             455|             529|             387|\n",
            "|    MS|             137|             123|             111|              96|             111|              75|\n",
            "|    MT|             167|             154|             148|             117|             158|              82|\n",
            "|    GO|             407|             399|             421|             405|             434|             270|\n",
            "|    DF|             238|             234|             224|             210|             228|             205|\n",
            "+------+----------------+----------------+----------------+----------------+----------------+----------------+\n",
            "\n"
          ]
        }
      ],
      "source": [
        "desemprego = desemprego.withColumn('Estado',\\\n",
        "                                   regexp_replace('Estado', 'Rondônia', 'RO'))\\\n",
        "                       .withColumn('Estado',\\\n",
        "                                   regexp_replace('Estado', 'Acre', 'AC'))\\\n",
        "                       .withColumn('Estado',\\\n",
        "                                   regexp_replace('Estado', 'Amazonas', 'AM'))\\\n",
        "                       .withColumn('Estado',\\\n",
        "                                   regexp_replace('Estado', 'Roraima', 'RR'))\\\n",
        "                       .withColumn('Estado',\\\n",
        "                                   regexp_replace('Estado', 'Pará', 'PA'))\\\n",
        "                       .withColumn('Estado',\\\n",
        "                                   regexp_replace('Estado', 'Amapá', 'AP'))\\\n",
        "                       .withColumn('Estado',\\\n",
        "                                   regexp_replace('Estado', 'Tocantins', 'TO'))\\\n",
        "                       .withColumn('Estado',\\\n",
        "                                   regexp_replace('Estado', 'Maranhão', 'MA'))\\\n",
        "                       .withColumn('Estado',\\\n",
        "                                   regexp_replace('Estado', 'Piauí', 'PI'))\\\n",
        "                       .withColumn('Estado',\\\n",
        "                                   regexp_replace('Estado', 'Ceará', 'CE'))\\\n",
        "                       .withColumn('Estado',\\\n",
        "                                   regexp_replace('Estado', 'Rio Grande do Norte', 'RN'))\\\n",
        "                       .withColumn('Estado',\\\n",
        "                                   regexp_replace('Estado', 'Paraíba', 'PB'))\\\n",
        "                       .withColumn('Estado',\\\n",
        "                                   regexp_replace('Estado', 'Pernambuco', 'PE'))\\\n",
        "                       .withColumn('Estado',\\\n",
        "                                   regexp_replace('Estado', 'Alagoas', 'AL'))\\\n",
        "                       .withColumn('Estado',\\\n",
        "                                   regexp_replace('Estado', 'Sergipe', 'SE'))\\\n",
        "                       .withColumn('Estado',\\\n",
        "                                   regexp_replace('Estado', 'Bahia', 'BA'))\\\n",
        "                       .withColumn('Estado',\\\n",
        "                                   regexp_replace('Estado', 'Minas Gerais', 'MG'))\\\n",
        "                       .withColumn('Estado',\\\n",
        "                                   regexp_replace('Estado', 'Espírito Santo', 'ES'))\\\n",
        "                       .withColumn('Estado',\\\n",
        "                                   regexp_replace('Estado', 'Rio de Janeiro', 'RJ'))\\\n",
        "                       .withColumn('Estado',\\\n",
        "                                   regexp_replace('Estado', 'São Paulo', 'SP'))\\\n",
        "                       .withColumn('Estado',\\\n",
        "                                   regexp_replace('Estado', 'Paraná', 'PR'))\\\n",
        "                       .withColumn('Estado',\\\n",
        "                                   regexp_replace('Estado', 'Santa Catarina', 'SC'))\\\n",
        "                       .withColumn('Estado',\\\n",
        "                                   regexp_replace('Estado', 'Rio Grande do Sul', 'RS' ))\\\n",
        "                       .withColumn('Estado',\\\n",
        "                                   regexp_replace('Estado', 'Mato Grosso do Sul', 'MS'))\\\n",
        "                       .withColumn('Estado',\\\n",
        "                                   regexp_replace('Estado', 'Mato Grosso', 'MT'))\\\n",
        "                       .withColumn('Estado',\\\n",
        "                                   regexp_replace('Estado', 'Goiás', 'GO'))\\\n",
        "                       .withColumn('Estado',\\\n",
        "                                   regexp_replace('Estado', 'Distrito Federal', 'DF'))\\\n",
        "\n",
        "desemprego.show(27)"
      ]
    },
    {
      "cell_type": "code",
      "execution_count": 37,
      "metadata": {
        "id": "DkPQfCithNBO",
        "colab": {
          "base_uri": "https://localhost:8080/"
        },
        "outputId": "cd6bbfe2-03e1-4d86-ac1d-ef9f7eedc799"
      },
      "outputs": [
        {
          "output_type": "stream",
          "name": "stdout",
          "text": [
            "Pessoas desempregadas na semana da pesquisa(Mil pessoas)\n",
            "+------+----------------+----------------+----------------+----------------+----------------+----------------+\n",
            "|Estado|1_trimestre_2019|2_trimestre_2019|3_trimestre_2019|4_trimestre_2019|1_trimestre_2020|2_trimestre_2022|\n",
            "+------+----------------+----------------+----------------+----------------+----------------+----------------+\n",
            "|    SP|            3510|            3368|            3169|            3015|            3151|            2404|\n",
            "|    BA|            1307|            1240|            1194|            1162|            1333|            1104|\n",
            "|    MG|            1257|            1096|            1149|            1098|            1320|             828|\n",
            "|    RJ|            1388|            1366|            1314|            1246|            1313|            1130|\n",
            "|    PE|             696|             681|             674|             601|             611|             578|\n",
            "|    RS|             496|             515|             555|             455|             529|             387|\n",
            "|    CE|             476|             459|             478|             437|             513|             412|\n",
            "|    PR|             550|             560|             559|             450|             487|             374|\n",
            "|    GO|             407|             399|             421|             405|             434|             270|\n",
            "|    MA|             429|             388|             382|             330|             431|             299|\n",
            "|    PA|             445|             435|             444|             360|             417|             377|\n",
            "|    AM|             296|             265|             257|             248|             279|             203|\n",
            "|    RN|             214|             195|             210|             199|             244|             188|\n",
            "|    ES|             266|             242|             233|             227|             243|             174|\n",
            "|    PB|             189|             207|             193|             206|             232|             203|\n",
            "|    DF|             238|             234|             224|             210|             228|             205|\n",
            "|    SC|             285|             239|             227|             216|             223|             160|\n",
            "|    AL|             194|             186|             193|             165|             204|             149|\n",
            "|    PI|             188|             191|             199|             200|             202|             135|\n",
            "|    SE|             165|             169|             162|             168|             171|             140|\n",
            "+------+----------------+----------------+----------------+----------------+----------------+----------------+\n",
            "only showing top 20 rows\n",
            "\n"
          ]
        }
      ],
      "source": [
        "print(\"Pessoas desempregadas na semana da pesquisa(Mil pessoas)\")\n",
        "desemprego20 = desemprego.sort(col(\"1_trimestre_2020\").desc())\n",
        "\n",
        "desemprego20.show()"
      ]
    },
    {
      "cell_type": "markdown",
      "metadata": {
        "id": "y0_ORZ7TSk3b"
      },
      "source": [
        "#### Pessoas desempregadas na semana da pesquisa(Mil pessoas)"
      ]
    },
    {
      "cell_type": "code",
      "execution_count": 38,
      "metadata": {
        "id": "DHIKcTXKLhZ_",
        "colab": {
          "base_uri": "https://localhost:8080/"
        },
        "outputId": "fb6a5747-1d92-4d88-83d8-803d48efdcc4"
      },
      "outputs": [
        {
          "output_type": "stream",
          "name": "stdout",
          "text": [
            "Pessoas desempregadas na semana da pesquisa(Mil pessoas)\n",
            "+------+----------------+----------------+----------------+----------------+----------------+----------------+\n",
            "|Estado|1_trimestre_2019|2_trimestre_2019|3_trimestre_2019|4_trimestre_2019|1_trimestre_2020|2_trimestre_2022|\n",
            "+------+----------------+----------------+----------------+----------------+----------------+----------------+\n",
            "|    SP|            3510|            3368|            3169|            3015|            3151|            2404|\n",
            "|    RJ|            1388|            1366|            1314|            1246|            1313|            1130|\n",
            "|    BA|            1307|            1240|            1194|            1162|            1333|            1104|\n",
            "|    MG|            1257|            1096|            1149|            1098|            1320|             828|\n",
            "|    PE|             696|             681|             674|             601|             611|             578|\n",
            "|    CE|             476|             459|             478|             437|             513|             412|\n",
            "|    RS|             496|             515|             555|             455|             529|             387|\n",
            "|    PA|             445|             435|             444|             360|             417|             377|\n",
            "|    PR|             550|             560|             559|             450|             487|             374|\n",
            "|    MA|             429|             388|             382|             330|             431|             299|\n",
            "|    GO|             407|             399|             421|             405|             434|             270|\n",
            "|    DF|             238|             234|             224|             210|             228|             205|\n",
            "|    AM|             296|             265|             257|             248|             279|             203|\n",
            "|    PB|             189|             207|             193|             206|             232|             203|\n",
            "|    RN|             214|             195|             210|             199|             244|             188|\n",
            "|    ES|             266|             242|             233|             227|             243|             174|\n",
            "|    SC|             285|             239|             227|             216|             223|             160|\n",
            "|    AL|             194|             186|             193|             165|             204|             149|\n",
            "|    SE|             165|             169|             162|             168|             171|             140|\n",
            "|    PI|             188|             191|             199|             200|             202|             135|\n",
            "+------+----------------+----------------+----------------+----------------+----------------+----------------+\n",
            "only showing top 20 rows\n",
            "\n"
          ]
        }
      ],
      "source": [
        "print(\"Pessoas desempregadas na semana da pesquisa(Mil pessoas)\")\n",
        "desemprego22 = desemprego.sort(col(\"2_trimestre_2022\").desc())\n",
        "\n",
        "desemprego22.show()"
      ]
    },
    {
      "cell_type": "markdown",
      "metadata": {
        "id": "DOZHCq_4wY9u"
      },
      "source": [
        "####Foi realizada a soma do valor total de casos novos e óbitos por estado considerando o tempo total."
      ]
    },
    {
      "cell_type": "code",
      "execution_count": 39,
      "metadata": {
        "id": "PQLCRp2jYcH_",
        "colab": {
          "base_uri": "https://localhost:8080/"
        },
        "outputId": "49e20573-b365-4254-fbfe-89a59c678f5e"
      },
      "outputs": [
        {
          "output_type": "stream",
          "name": "stdout",
          "text": [
            "+-------+--------------------+\n",
            "|Estados|total_obitos_estados|\n",
            "+-------+--------------------+\n",
            "|     SP|              196415|\n",
            "|     RJ|               88566|\n",
            "|     MG|               66390|\n",
            "|     PR|               46868|\n",
            "|     RS|               42446|\n",
            "|     CE|               35142|\n",
            "|     BA|               34321|\n",
            "|     GO|               28902|\n",
            "|     PE|               28701|\n",
            "|     PA|               24301|\n",
            "|     SC|               23378|\n",
            "|     ES|               17569|\n",
            "|     AM|               17507|\n",
            "|     MT|               16716|\n",
            "|     MA|               13969|\n",
            "|     DF|               13292|\n",
            "|     PB|               12187|\n",
            "|     MS|               11123|\n",
            "|     RN|               10193|\n",
            "|     PI|                9237|\n",
            "+-------+--------------------+\n",
            "only showing top 20 rows\n",
            "\n"
          ]
        }
      ],
      "source": [
        "estado_total_ob = estados.drop(\"data\")\\\n",
        "                         .groupby(\"estado\")\\\n",
        "                         .agg(sum(\"obitosNovos\").alias(\"total_obitos_estados\"))\\\n",
        "                         .filter(column(\"total_obitos_estados\") >= 0)\\\n",
        "                         .sort(col(\"total_obitos_estados\").desc())\\\n",
        "                         .withColumnRenamed(\"estado\",\"Estados\")\n",
        "                \n",
        "estado_total_ob.show()"
      ]
    },
    {
      "cell_type": "code",
      "execution_count": 40,
      "metadata": {
        "id": "b0edVW-PKmoS",
        "colab": {
          "base_uri": "https://localhost:8080/"
        },
        "outputId": "a321147d-9add-4b6b-a2ac-eec3c85258ab"
      },
      "outputs": [
        {
          "output_type": "stream",
          "name": "stdout",
          "text": [
            "+------+-------------------+\n",
            "|estado|total_casos_estados|\n",
            "+------+-------------------+\n",
            "|    SP|            6497951|\n",
            "|    MG|            3973929|\n",
            "|    PR|            2797579|\n",
            "|    RS|            2734324|\n",
            "|    RJ|            2628256|\n",
            "|    SC|            1934206|\n",
            "|    BA|            1859218|\n",
            "|    GO|            1713845|\n",
            "|    CE|            1561859|\n",
            "|    ES|            1302535|\n",
            "|    PE|            1131222|\n",
            "|    PA|             974058|\n",
            "|    DF|             940689|\n",
            "|    MT|             870566|\n",
            "|    PB|             730522|\n",
            "|    AM|             710181|\n",
            "|    RN|             598795|\n",
            "|    MS|             594415|\n",
            "|    MA|             584904|\n",
            "|    RO|             488322|\n",
            "+------+-------------------+\n",
            "only showing top 20 rows\n",
            "\n"
          ]
        }
      ],
      "source": [
        "estado_total_cs = estados.drop(\"data\")\\\n",
        "                         .groupby(\"estado\")\\\n",
        "                         .agg(sum(\"casosNovos\").alias(\"total_casos_estados\"))\\\n",
        "                         .filter(column(\"total_casos_estados\") >= 0)\\\n",
        "                         .sort(col(\"total_casos_estados\").desc())\n",
        "\n",
        "                \n",
        "estado_total_cs.show()"
      ]
    },
    {
      "cell_type": "markdown",
      "metadata": {
        "id": "baBFQeNMe6ko"
      },
      "source": [
        "#### Foi feita a junção dos dataframes covid_total, estado_total_ob e estado_total_cs em um só dataframe."
      ]
    },
    {
      "cell_type": "code",
      "execution_count": 41,
      "metadata": {
        "id": "358jKWLSvrnK",
        "colab": {
          "base_uri": "https://localhost:8080/"
        },
        "outputId": "5fc1b189-295b-412a-bbbe-1d1efed7f63f"
      },
      "outputs": [
        {
          "output_type": "stream",
          "name": "stdout",
          "text": [
            "+------+----------+-----+------+--------------------+------+--------------+---------------+---------+----------------+--------------+----------+---------------+-----------+----------------+---------------------+-----------------------------+------------------------------+-------------------+--------------------+\n",
            "|estado|      data|coduf|regiao|           municipio|codmun|codRegiaoSaude|nomeRegiaoSaude|semanaEpi|populacaoTCU2019|casosAcumulado|casosNovos|obitosAcumulado|obitosNovos|Recuperadosnovos|emAcompanhamentoNovos|casosNovos_diarios_por_estado|obitosNovos_diarios_por_estado|total_casos_estados|total_obitos_estados|\n",
            "+------+----------+-----+------+--------------------+------+--------------+---------------+---------+----------------+--------------+----------+---------------+-----------+----------------+---------------------+-----------------------------+------------------------------+-------------------+--------------------+\n",
            "|    RO|2020-04-06|   11| Norte|Alta Floresta D'O...|110001|         11005|   ZONA DA MATA|       15|           22945|           0.0|         0|              0|          0|            null|                 null|                            4|                             0|             488322|                8199|\n",
            "|    RO|2020-04-16|   11| Norte|Alta Floresta D'O...|110001|         11005|   ZONA DA MATA|       16|           22945|           0.0|         0|              0|          0|            null|                 null|                           14|                             2|             488322|                8199|\n",
            "|    RO|2020-04-01|   11| Norte|Alta Floresta D'O...|110001|         11005|   ZONA DA MATA|       14|           22945|           0.0|         0|              0|          0|            null|                 null|                            2|                             0|             488322|                8199|\n",
            "|    RO|2020-04-10|   11| Norte|Alta Floresta D'O...|110001|         11005|   ZONA DA MATA|       15|           22945|           0.0|         0|              0|          0|            null|                 null|                            8|                             0|             488322|                8199|\n",
            "|    RO|2020-04-02|   11| Norte|Alta Floresta D'O...|110001|         11005|   ZONA DA MATA|       14|           22945|           0.0|         0|              0|          0|            null|                 null|                            2|                             0|             488322|                8199|\n",
            "|    RO|2020-04-03|   11| Norte|Alta Floresta D'O...|110001|         11005|   ZONA DA MATA|       14|           22945|           0.0|         0|              0|          0|            null|                 null|                            0|                             0|             488322|                8199|\n",
            "|    RO|2020-04-13|   11| Norte|Alta Floresta D'O...|110001|         11005|   ZONA DA MATA|       16|           22945|           0.0|         0|              0|          0|            null|                 null|                           14|                             0|             488322|                8199|\n",
            "|    RO|2020-03-27|   11| Norte|Alta Floresta D'O...|110001|         11005|   ZONA DA MATA|       13|           22945|           0.0|         0|              0|          0|            null|                 null|                            2|                             0|             488322|                8199|\n",
            "|    RO|2020-03-30|   11| Norte|Alta Floresta D'O...|110001|         11005|   ZONA DA MATA|       14|           22945|           0.0|         0|              0|          0|            null|                 null|                            0|                             0|             488322|                8199|\n",
            "|    RO|2020-03-29|   11| Norte|Alta Floresta D'O...|110001|         11005|   ZONA DA MATA|       14|           22945|           0.0|         0|              0|          0|            null|                 null|                            0|                             0|             488322|                8199|\n",
            "|    RO|2020-03-28|   11| Norte|Alta Floresta D'O...|110001|         11005|   ZONA DA MATA|       13|           22945|           0.0|         0|              0|          0|            null|                 null|                            0|                             0|             488322|                8199|\n",
            "|    RO|2020-04-05|   11| Norte|Alta Floresta D'O...|110001|         11005|   ZONA DA MATA|       15|           22945|           0.0|         0|              0|          0|            null|                 null|                            2|                             0|             488322|                8199|\n",
            "|    RO|2020-04-04|   11| Norte|Alta Floresta D'O...|110001|         11005|   ZONA DA MATA|       14|           22945|           0.0|         0|              0|          0|            null|                 null|                            2|                             0|             488322|                8199|\n",
            "|    RO|2020-04-15|   11| Norte|Alta Floresta D'O...|110001|         11005|   ZONA DA MATA|       16|           22945|           0.0|         0|              0|          0|            null|                 null|                           10|                             0|             488322|                8199|\n",
            "|    RO|2020-04-09|   11| Norte|Alta Floresta D'O...|110001|         11005|   ZONA DA MATA|       15|           22945|           0.0|         0|              0|          0|            null|                 null|                           20|                             2|             488322|                8199|\n",
            "|    RO|2020-04-07|   11| Norte|Alta Floresta D'O...|110001|         11005|   ZONA DA MATA|       15|           22945|           0.0|         0|              0|          0|            null|                 null|                            8|                             0|             488322|                8199|\n",
            "|    RO|2020-04-14|   11| Norte|Alta Floresta D'O...|110001|         11005|   ZONA DA MATA|       16|           22945|           0.0|         0|              0|          0|            null|                 null|                           44|                             0|             488322|                8199|\n",
            "|    RO|2020-03-31|   11| Norte|Alta Floresta D'O...|110001|         11005|   ZONA DA MATA|       14|           22945|           0.0|         0|              0|          0|            null|                 null|                            4|                             2|             488322|                8199|\n",
            "|    RO|2020-04-12|   11| Norte|Alta Floresta D'O...|110001|         11005|   ZONA DA MATA|       16|           22945|           0.0|         0|              0|          0|            null|                 null|                            4|                             0|             488322|                8199|\n",
            "|    RO|2020-04-11|   11| Norte|Alta Floresta D'O...|110001|         11005|   ZONA DA MATA|       15|           22945|           0.0|         0|              0|          0|            null|                 null|                            2|                             0|             488322|                8199|\n",
            "+------+----------+-----+------+--------------------+------+--------------+---------------+---------+----------------+--------------+----------+---------------+-----------+----------------+---------------------+-----------------------------+------------------------------+-------------------+--------------------+\n",
            "only showing top 20 rows\n",
            "\n"
          ]
        }
      ],
      "source": [
        "covid_total2 = covid_total.join(estado_total_cs, [\"estado\"], how='left')\\\n",
        "                          .join(estado_total_ob, covid_total.estado ==  estado_total_ob.Estados, how='left')\\\n",
        "                          .drop(estado_total_ob.Estados)\n",
        "\n",
        "covid_total2.show()"
      ]
    },
    {
      "cell_type": "code",
      "execution_count": 42,
      "metadata": {
        "id": "W53fipN2Vi3d",
        "colab": {
          "base_uri": "https://localhost:8080/"
        },
        "outputId": "8255bf69-1c26-46d6-ed41-4c58d301e426"
      },
      "outputs": [
        {
          "output_type": "stream",
          "name": "stdout",
          "text": [
            "+------+----------+-----+------+--------------------+------+--------------+---------------+---------+----------------+--------------+----------+---------------+-----------+----------------+---------------------+-----------------------------+------------------------------+-------------------+--------------------+------+\n",
            "|estado|      data|coduf|regiao|           municipio|codmun|codRegiaoSaude|nomeRegiaoSaude|semanaEpi|populacaoTCU2019|casosAcumulado|casosNovos|obitosAcumulado|obitosNovos|Recuperadosnovos|emAcompanhamentoNovos|casosNovos_diarios_por_estado|obitosNovos_diarios_por_estado|total_casos_estados|total_obitos_estados|  Pais|\n",
            "+------+----------+-----+------+--------------------+------+--------------+---------------+---------+----------------+--------------+----------+---------------+-----------+----------------+---------------------+-----------------------------+------------------------------+-------------------+--------------------+------+\n",
            "|    RO|2020-04-06|   11| Norte|Alta Floresta D'O...|110001|         11005|   ZONA DA MATA|       15|           22945|           0.0|         0|              0|          0|            null|                 null|                            4|                             0|             488322|                8199|Brasil|\n",
            "|    RO|2020-04-16|   11| Norte|Alta Floresta D'O...|110001|         11005|   ZONA DA MATA|       16|           22945|           0.0|         0|              0|          0|            null|                 null|                           14|                             2|             488322|                8199|Brasil|\n",
            "|    RO|2020-04-01|   11| Norte|Alta Floresta D'O...|110001|         11005|   ZONA DA MATA|       14|           22945|           0.0|         0|              0|          0|            null|                 null|                            2|                             0|             488322|                8199|Brasil|\n",
            "|    RO|2020-04-10|   11| Norte|Alta Floresta D'O...|110001|         11005|   ZONA DA MATA|       15|           22945|           0.0|         0|              0|          0|            null|                 null|                            8|                             0|             488322|                8199|Brasil|\n",
            "|    RO|2020-04-02|   11| Norte|Alta Floresta D'O...|110001|         11005|   ZONA DA MATA|       14|           22945|           0.0|         0|              0|          0|            null|                 null|                            2|                             0|             488322|                8199|Brasil|\n",
            "|    RO|2020-04-03|   11| Norte|Alta Floresta D'O...|110001|         11005|   ZONA DA MATA|       14|           22945|           0.0|         0|              0|          0|            null|                 null|                            0|                             0|             488322|                8199|Brasil|\n",
            "|    RO|2020-04-13|   11| Norte|Alta Floresta D'O...|110001|         11005|   ZONA DA MATA|       16|           22945|           0.0|         0|              0|          0|            null|                 null|                           14|                             0|             488322|                8199|Brasil|\n",
            "|    RO|2020-03-27|   11| Norte|Alta Floresta D'O...|110001|         11005|   ZONA DA MATA|       13|           22945|           0.0|         0|              0|          0|            null|                 null|                            2|                             0|             488322|                8199|Brasil|\n",
            "|    RO|2020-03-30|   11| Norte|Alta Floresta D'O...|110001|         11005|   ZONA DA MATA|       14|           22945|           0.0|         0|              0|          0|            null|                 null|                            0|                             0|             488322|                8199|Brasil|\n",
            "|    RO|2020-03-29|   11| Norte|Alta Floresta D'O...|110001|         11005|   ZONA DA MATA|       14|           22945|           0.0|         0|              0|          0|            null|                 null|                            0|                             0|             488322|                8199|Brasil|\n",
            "|    RO|2020-03-28|   11| Norte|Alta Floresta D'O...|110001|         11005|   ZONA DA MATA|       13|           22945|           0.0|         0|              0|          0|            null|                 null|                            0|                             0|             488322|                8199|Brasil|\n",
            "|    RO|2020-04-05|   11| Norte|Alta Floresta D'O...|110001|         11005|   ZONA DA MATA|       15|           22945|           0.0|         0|              0|          0|            null|                 null|                            2|                             0|             488322|                8199|Brasil|\n",
            "|    RO|2020-04-04|   11| Norte|Alta Floresta D'O...|110001|         11005|   ZONA DA MATA|       14|           22945|           0.0|         0|              0|          0|            null|                 null|                            2|                             0|             488322|                8199|Brasil|\n",
            "|    RO|2020-04-15|   11| Norte|Alta Floresta D'O...|110001|         11005|   ZONA DA MATA|       16|           22945|           0.0|         0|              0|          0|            null|                 null|                           10|                             0|             488322|                8199|Brasil|\n",
            "|    RO|2020-04-09|   11| Norte|Alta Floresta D'O...|110001|         11005|   ZONA DA MATA|       15|           22945|           0.0|         0|              0|          0|            null|                 null|                           20|                             2|             488322|                8199|Brasil|\n",
            "|    RO|2020-04-07|   11| Norte|Alta Floresta D'O...|110001|         11005|   ZONA DA MATA|       15|           22945|           0.0|         0|              0|          0|            null|                 null|                            8|                             0|             488322|                8199|Brasil|\n",
            "|    RO|2020-04-14|   11| Norte|Alta Floresta D'O...|110001|         11005|   ZONA DA MATA|       16|           22945|           0.0|         0|              0|          0|            null|                 null|                           44|                             0|             488322|                8199|Brasil|\n",
            "|    RO|2020-03-31|   11| Norte|Alta Floresta D'O...|110001|         11005|   ZONA DA MATA|       14|           22945|           0.0|         0|              0|          0|            null|                 null|                            4|                             2|             488322|                8199|Brasil|\n",
            "|    RO|2020-04-12|   11| Norte|Alta Floresta D'O...|110001|         11005|   ZONA DA MATA|       16|           22945|           0.0|         0|              0|          0|            null|                 null|                            4|                             0|             488322|                8199|Brasil|\n",
            "|    RO|2020-04-11|   11| Norte|Alta Floresta D'O...|110001|         11005|   ZONA DA MATA|       15|           22945|           0.0|         0|              0|          0|            null|                 null|                            2|                             0|             488322|                8199|Brasil|\n",
            "+------+----------+-----+------+--------------------+------+--------------+---------------+---------+----------------+--------------+----------+---------------+-----------+----------------+---------------------+-----------------------------+------------------------------+-------------------+--------------------+------+\n",
            "only showing top 20 rows\n",
            "\n"
          ]
        }
      ],
      "source": [
        "brasil_pais = covid_total2.withColumn(\"Pais\", f.lit(\"Brasil\"))\n",
        "brasil_pais.show()"
      ]
    },
    {
      "cell_type": "code",
      "execution_count": 43,
      "metadata": {
        "id": "kxyt2yz3XOsO",
        "colab": {
          "base_uri": "https://localhost:8080/"
        },
        "outputId": "2ae212a0-d140-4154-c8c3-f6924469e5b3"
      },
      "outputs": [
        {
          "output_type": "stream",
          "name": "stdout",
          "text": [
            "+------+------+-------------------+--------------------+\n",
            "|  Pais|estado|total_casos_estados|total_obitos_estados|\n",
            "+------+------+-------------------+--------------------+\n",
            "|Brasil|    RO|             488322|                8199|\n",
            "|Brasil|    PB|             730522|               12187|\n",
            "|Brasil|    GO|            1713845|               28902|\n",
            "|Brasil|    PA|             974058|               24301|\n",
            "|Brasil|    DF|             940689|               13292|\n",
            "|Brasil|    PE|            1131222|               28701|\n",
            "|Brasil|    AP|             213910|                2718|\n",
            "|Brasil|    MA|             584904|               13969|\n",
            "|Brasil|    AL|             379049|                8668|\n",
            "|Brasil|    MS|             594415|               11123|\n",
            "|Brasil|    RR|             210101|                2689|\n",
            "|Brasil|    MG|            3973929|               66390|\n",
            "|Brasil|    ES|            1302535|               17569|\n",
            "|Brasil|    SP|            6497951|              196415|\n",
            "|Brasil|    TO|             366096|                4570|\n",
            "|Brasil|    RS|            2734324|               42446|\n",
            "|Brasil|    MT|             870566|               16716|\n",
            "|Brasil|    AC|             166195|                2552|\n",
            "|Brasil|    AM|             710181|               17507|\n",
            "|Brasil|    CE|            1561859|               35142|\n",
            "+------+------+-------------------+--------------------+\n",
            "only showing top 20 rows\n",
            "\n"
          ]
        }
      ],
      "source": [
        "total_br = brasil_pais.select(\"Pais\", \"estado\", \"total_casos_estados\",\\\n",
        "                              \"total_obitos_estados\").distinct()\n",
        "total_br.show()"
      ]
    },
    {
      "cell_type": "markdown",
      "metadata": {
        "id": "UoDDNGoSfdCV"
      },
      "source": [
        "#### Foi realizada a soma do total de casos e obitos no Brasil considerando todo o período."
      ]
    },
    {
      "cell_type": "code",
      "execution_count": 44,
      "metadata": {
        "id": "RW7XV6qlYnV4",
        "colab": {
          "base_uri": "https://localhost:8080/"
        },
        "outputId": "af53d6b3-6d60-4c45-dfb7-f480e8f417e8"
      },
      "outputs": [
        {
          "output_type": "stream",
          "name": "stdout",
          "text": [
            "+------+------------------+\n",
            "|  Pais|total_casos_brasil|\n",
            "+------+------------------+\n",
            "|Brasil|          36805505|\n",
            "+------+------------------+\n",
            "\n"
          ]
        }
      ],
      "source": [
        "total_br1 = total_br.groupBy(\"Pais\")\\\n",
        "                    .agg(f.sum(\"total_casos_estados\")\\\n",
        "                         .alias(\"total_casos_brasil\"))\n",
        "total_br1.show()"
      ]
    },
    {
      "cell_type": "code",
      "execution_count": 45,
      "metadata": {
        "id": "qOBBIfxgbncy",
        "colab": {
          "base_uri": "https://localhost:8080/"
        },
        "outputId": "045be8e8-2dfb-4aad-bb86-ac4bb5dc7cb0"
      },
      "outputs": [
        {
          "output_type": "stream",
          "name": "stdout",
          "text": [
            "+------+-------------------+\n",
            "|  Pais|total_obitos_brasil|\n",
            "+------+-------------------+\n",
            "|Brasil|             774473|\n",
            "+------+-------------------+\n",
            "\n"
          ]
        }
      ],
      "source": [
        "total_br2 = total_br.groupBy(\"Pais\")\\\n",
        "                    .agg(f.sum(\"total_obitos_estados\")\\\n",
        "                         .alias(\"total_obitos_brasil\"))\n",
        "total_br2.show()"
      ]
    },
    {
      "cell_type": "code",
      "execution_count": 46,
      "metadata": {
        "id": "-6_X97RRcVsk",
        "colab": {
          "base_uri": "https://localhost:8080/"
        },
        "outputId": "11ec8da8-9d5f-450c-f7f6-174bf8bf2146"
      },
      "outputs": [
        {
          "output_type": "stream",
          "name": "stdout",
          "text": [
            "+------+------+----------+-----+------+--------------------+------+--------------+---------------+---------+----------------+--------------+----------+---------------+-----------+----------------+---------------------+-----------------------------+------------------------------+-------------------+--------------------+------------------+-------------------+\n",
            "|  Pais|estado|      data|coduf|regiao|           municipio|codmun|codRegiaoSaude|nomeRegiaoSaude|semanaEpi|populacaoTCU2019|casosAcumulado|casosNovos|obitosAcumulado|obitosNovos|Recuperadosnovos|emAcompanhamentoNovos|casosNovos_diarios_por_estado|obitosNovos_diarios_por_estado|total_casos_estados|total_obitos_estados|total_casos_brasil|total_obitos_brasil|\n",
            "+------+------+----------+-----+------+--------------------+------+--------------+---------------+---------+----------------+--------------+----------+---------------+-----------+----------------+---------------------+-----------------------------+------------------------------+-------------------+--------------------+------------------+-------------------+\n",
            "|Brasil|    RO|2020-04-06|   11| Norte|Alta Floresta D'O...|110001|         11005|   ZONA DA MATA|       15|           22945|           0.0|         0|              0|          0|            null|                 null|                            4|                             0|             488322|                8199|          36805505|             774473|\n",
            "|Brasil|    RO|2020-04-16|   11| Norte|Alta Floresta D'O...|110001|         11005|   ZONA DA MATA|       16|           22945|           0.0|         0|              0|          0|            null|                 null|                           14|                             2|             488322|                8199|          36805505|             774473|\n",
            "|Brasil|    RO|2020-04-01|   11| Norte|Alta Floresta D'O...|110001|         11005|   ZONA DA MATA|       14|           22945|           0.0|         0|              0|          0|            null|                 null|                            2|                             0|             488322|                8199|          36805505|             774473|\n",
            "|Brasil|    RO|2020-04-10|   11| Norte|Alta Floresta D'O...|110001|         11005|   ZONA DA MATA|       15|           22945|           0.0|         0|              0|          0|            null|                 null|                            8|                             0|             488322|                8199|          36805505|             774473|\n",
            "|Brasil|    RO|2020-04-02|   11| Norte|Alta Floresta D'O...|110001|         11005|   ZONA DA MATA|       14|           22945|           0.0|         0|              0|          0|            null|                 null|                            2|                             0|             488322|                8199|          36805505|             774473|\n",
            "|Brasil|    RO|2020-04-03|   11| Norte|Alta Floresta D'O...|110001|         11005|   ZONA DA MATA|       14|           22945|           0.0|         0|              0|          0|            null|                 null|                            0|                             0|             488322|                8199|          36805505|             774473|\n",
            "|Brasil|    RO|2020-04-13|   11| Norte|Alta Floresta D'O...|110001|         11005|   ZONA DA MATA|       16|           22945|           0.0|         0|              0|          0|            null|                 null|                           14|                             0|             488322|                8199|          36805505|             774473|\n",
            "|Brasil|    RO|2020-03-27|   11| Norte|Alta Floresta D'O...|110001|         11005|   ZONA DA MATA|       13|           22945|           0.0|         0|              0|          0|            null|                 null|                            2|                             0|             488322|                8199|          36805505|             774473|\n",
            "|Brasil|    RO|2020-03-30|   11| Norte|Alta Floresta D'O...|110001|         11005|   ZONA DA MATA|       14|           22945|           0.0|         0|              0|          0|            null|                 null|                            0|                             0|             488322|                8199|          36805505|             774473|\n",
            "|Brasil|    RO|2020-03-29|   11| Norte|Alta Floresta D'O...|110001|         11005|   ZONA DA MATA|       14|           22945|           0.0|         0|              0|          0|            null|                 null|                            0|                             0|             488322|                8199|          36805505|             774473|\n",
            "|Brasil|    RO|2020-03-28|   11| Norte|Alta Floresta D'O...|110001|         11005|   ZONA DA MATA|       13|           22945|           0.0|         0|              0|          0|            null|                 null|                            0|                             0|             488322|                8199|          36805505|             774473|\n",
            "|Brasil|    RO|2020-04-05|   11| Norte|Alta Floresta D'O...|110001|         11005|   ZONA DA MATA|       15|           22945|           0.0|         0|              0|          0|            null|                 null|                            2|                             0|             488322|                8199|          36805505|             774473|\n",
            "|Brasil|    RO|2020-04-04|   11| Norte|Alta Floresta D'O...|110001|         11005|   ZONA DA MATA|       14|           22945|           0.0|         0|              0|          0|            null|                 null|                            2|                             0|             488322|                8199|          36805505|             774473|\n",
            "|Brasil|    RO|2020-04-15|   11| Norte|Alta Floresta D'O...|110001|         11005|   ZONA DA MATA|       16|           22945|           0.0|         0|              0|          0|            null|                 null|                           10|                             0|             488322|                8199|          36805505|             774473|\n",
            "|Brasil|    RO|2020-04-09|   11| Norte|Alta Floresta D'O...|110001|         11005|   ZONA DA MATA|       15|           22945|           0.0|         0|              0|          0|            null|                 null|                           20|                             2|             488322|                8199|          36805505|             774473|\n",
            "|Brasil|    RO|2020-04-07|   11| Norte|Alta Floresta D'O...|110001|         11005|   ZONA DA MATA|       15|           22945|           0.0|         0|              0|          0|            null|                 null|                            8|                             0|             488322|                8199|          36805505|             774473|\n",
            "|Brasil|    RO|2020-04-14|   11| Norte|Alta Floresta D'O...|110001|         11005|   ZONA DA MATA|       16|           22945|           0.0|         0|              0|          0|            null|                 null|                           44|                             0|             488322|                8199|          36805505|             774473|\n",
            "|Brasil|    RO|2020-03-31|   11| Norte|Alta Floresta D'O...|110001|         11005|   ZONA DA MATA|       14|           22945|           0.0|         0|              0|          0|            null|                 null|                            4|                             2|             488322|                8199|          36805505|             774473|\n",
            "|Brasil|    RO|2020-04-12|   11| Norte|Alta Floresta D'O...|110001|         11005|   ZONA DA MATA|       16|           22945|           0.0|         0|              0|          0|            null|                 null|                            4|                             0|             488322|                8199|          36805505|             774473|\n",
            "|Brasil|    RO|2020-04-11|   11| Norte|Alta Floresta D'O...|110001|         11005|   ZONA DA MATA|       15|           22945|           0.0|         0|              0|          0|            null|                 null|                            2|                             0|             488322|                8199|          36805505|             774473|\n",
            "+------+------+----------+-----+------+--------------------+------+--------------+---------------+---------+----------------+--------------+----------+---------------+-----------+----------------+---------------------+-----------------------------+------------------------------+-------------------+--------------------+------------------+-------------------+\n",
            "only showing top 20 rows\n",
            "\n"
          ]
        }
      ],
      "source": [
        "covid_total3 = brasil_pais.join(total_br1, [\"Pais\"], how='left')\\\n",
        "                          .join(total_br2, [\"Pais\"], how='left')\n",
        "\n",
        "covid_total3.show()"
      ]
    },
    {
      "cell_type": "markdown",
      "metadata": {
        "id": "ArQkINcg2YL7"
      },
      "source": [
        "#### Total de casos e obitos novos por municipío em todo o período.\n"
      ]
    },
    {
      "cell_type": "code",
      "execution_count": 47,
      "metadata": {
        "id": "5S8WVNLD2QKp",
        "colab": {
          "base_uri": "https://localhost:8080/"
        },
        "outputId": "87f9e7dc-046e-456c-90ae-986eb115d80a"
      },
      "outputs": [
        {
          "output_type": "stream",
          "name": "stdout",
          "text": [
            "+--------------+---------------------+\n",
            "|     municipio|total_casos_municipio|\n",
            "+--------------+---------------------+\n",
            "|     São Paulo|              1305303|\n",
            "|Rio de Janeiro|              1222075|\n",
            "|      Brasília|               940689|\n",
            "|Belo Horizonte|               460413|\n",
            "|     Fortaleza|               440292|\n",
            "|       Goiânia|               415984|\n",
            "|      Salvador|               370669|\n",
            "|        Manaus|               339046|\n",
            "|  Porto Alegre|               305938|\n",
            "|      Curitiba|               303827|\n",
            "|        Recife|               298018|\n",
            "|    Uberlândia|               236629|\n",
            "|       Maringá|               232874|\n",
            "|  Campo Grande|               218008|\n",
            "|         Natal|               211039|\n",
            "|      Campinas|               204718|\n",
            "|       Aracaju|               187655|\n",
            "|     Joinville|               186390|\n",
            "|      Londrina|               185138|\n",
            "|   João Pessoa|               182781|\n",
            "+--------------+---------------------+\n",
            "only showing top 20 rows\n",
            "\n"
          ]
        }
      ],
      "source": [
        "municipio_total_cs = municipios.drop(\"data\")\\\n",
        "                         .groupby(\"municipio\")\\\n",
        "                         .agg(sum(\"casosNovos\").alias(\"total_casos_municipio\"))\\\n",
        "                         .filter(column(\"total_casos_municipio\") >= 0)\\\n",
        "                         .sort(col(\"total_casos_municipio\").desc())\n",
        "\n",
        "municipio_total_cs.show()"
      ]
    },
    {
      "cell_type": "code",
      "execution_count": 48,
      "metadata": {
        "id": "t95K35bn2P9j",
        "colab": {
          "base_uri": "https://localhost:8080/"
        },
        "outputId": "f9df5c7f-c9ca-450d-8267-c9e7ddb0f6dc"
      },
      "outputs": [
        {
          "output_type": "stream",
          "name": "stdout",
          "text": [
            "+--------------------+----------------------+\n",
            "|           municipio|total_obitos_municipio|\n",
            "+--------------------+----------------------+\n",
            "|           São Paulo|                 53062|\n",
            "|      Rio de Janeiro|                 45684|\n",
            "|           Fortaleza|                 15261|\n",
            "|            Brasília|                 13292|\n",
            "|              Recife|                 12576|\n",
            "|              Manaus|                 11803|\n",
            "|            Salvador|                 10640|\n",
            "|            Curitiba|                  9087|\n",
            "|      Belo Horizonte|                  8593|\n",
            "|             Goiânia|                  8268|\n",
            "|               Belém|                  7591|\n",
            "|        Porto Alegre|                  6787|\n",
            "|           Guarulhos|                  6586|\n",
            "|            Campinas|                  5972|\n",
            "|            São Luís|                  5166|\n",
            "|        Campo Grande|                  4715|\n",
            "|              Cuiabá|                  4710|\n",
            "|         São Gonçalo|                  4555|\n",
            "|São Bernardo do C...|                  4390|\n",
            "|             Quixaba|                  4130|\n",
            "+--------------------+----------------------+\n",
            "only showing top 20 rows\n",
            "\n"
          ]
        }
      ],
      "source": [
        "municipio_total_ob = municipios.drop(\"data\")\\\n",
        "                               .groupby(\"municipio\")\\\n",
        "                               .agg(sum(\"obitosNovos\").alias(\"total_obitos_municipio\"))\\\n",
        "                               .filter(column(\"total_obitos_municipio\") >= 0)\\\n",
        "                               .sort(col(\"total_obitos_municipio\").desc())\n",
        "\n",
        "municipio_total_ob.show()"
      ]
    },
    {
      "cell_type": "code",
      "execution_count": 49,
      "metadata": {
        "id": "ndZtxFOo2PnX",
        "colab": {
          "base_uri": "https://localhost:8080/"
        },
        "outputId": "7dc3c53c-bcf4-4f0d-a544-4599ac50a19b"
      },
      "outputs": [
        {
          "output_type": "stream",
          "name": "stdout",
          "text": [
            "+--------------------+------+------+----------+-----+------+------+--------------+---------------+---------+----------------+--------------+----------+---------------+-----------+----------------+---------------------+-----------------------------+------------------------------+-------------------+--------------------+------------------+-------------------+---------------------+----------------------+\n",
            "|           municipio|  Pais|estado|      data|coduf|regiao|codmun|codRegiaoSaude|nomeRegiaoSaude|semanaEpi|populacaoTCU2019|casosAcumulado|casosNovos|obitosAcumulado|obitosNovos|Recuperadosnovos|emAcompanhamentoNovos|casosNovos_diarios_por_estado|obitosNovos_diarios_por_estado|total_casos_estados|total_obitos_estados|total_casos_brasil|total_obitos_brasil|total_casos_municipio|total_obitos_municipio|\n",
            "+--------------------+------+------+----------+-----+------+------+--------------+---------------+---------+----------------+--------------+----------+---------------+-----------+----------------+---------------------+-----------------------------+------------------------------+-------------------+--------------------+------------------+-------------------+---------------------+----------------------+\n",
            "|Alta Floresta D'O...|Brasil|    RO|2020-04-06|   11| Norte|110001|         11005|   ZONA DA MATA|       15|           22945|           0.0|         0|              0|          0|            null|                 null|                            4|                             0|             488322|                8199|          36805505|             774473|                 9258|                    87|\n",
            "|Alta Floresta D'O...|Brasil|    RO|2020-04-16|   11| Norte|110001|         11005|   ZONA DA MATA|       16|           22945|           0.0|         0|              0|          0|            null|                 null|                           14|                             2|             488322|                8199|          36805505|             774473|                 9258|                    87|\n",
            "|Alta Floresta D'O...|Brasil|    RO|2020-04-01|   11| Norte|110001|         11005|   ZONA DA MATA|       14|           22945|           0.0|         0|              0|          0|            null|                 null|                            2|                             0|             488322|                8199|          36805505|             774473|                 9258|                    87|\n",
            "|Alta Floresta D'O...|Brasil|    RO|2020-04-10|   11| Norte|110001|         11005|   ZONA DA MATA|       15|           22945|           0.0|         0|              0|          0|            null|                 null|                            8|                             0|             488322|                8199|          36805505|             774473|                 9258|                    87|\n",
            "|Alta Floresta D'O...|Brasil|    RO|2020-04-02|   11| Norte|110001|         11005|   ZONA DA MATA|       14|           22945|           0.0|         0|              0|          0|            null|                 null|                            2|                             0|             488322|                8199|          36805505|             774473|                 9258|                    87|\n",
            "|Alta Floresta D'O...|Brasil|    RO|2020-04-03|   11| Norte|110001|         11005|   ZONA DA MATA|       14|           22945|           0.0|         0|              0|          0|            null|                 null|                            0|                             0|             488322|                8199|          36805505|             774473|                 9258|                    87|\n",
            "|Alta Floresta D'O...|Brasil|    RO|2020-04-13|   11| Norte|110001|         11005|   ZONA DA MATA|       16|           22945|           0.0|         0|              0|          0|            null|                 null|                           14|                             0|             488322|                8199|          36805505|             774473|                 9258|                    87|\n",
            "|Alta Floresta D'O...|Brasil|    RO|2020-03-27|   11| Norte|110001|         11005|   ZONA DA MATA|       13|           22945|           0.0|         0|              0|          0|            null|                 null|                            2|                             0|             488322|                8199|          36805505|             774473|                 9258|                    87|\n",
            "|Alta Floresta D'O...|Brasil|    RO|2020-03-30|   11| Norte|110001|         11005|   ZONA DA MATA|       14|           22945|           0.0|         0|              0|          0|            null|                 null|                            0|                             0|             488322|                8199|          36805505|             774473|                 9258|                    87|\n",
            "|Alta Floresta D'O...|Brasil|    RO|2020-03-29|   11| Norte|110001|         11005|   ZONA DA MATA|       14|           22945|           0.0|         0|              0|          0|            null|                 null|                            0|                             0|             488322|                8199|          36805505|             774473|                 9258|                    87|\n",
            "|Alta Floresta D'O...|Brasil|    RO|2020-03-28|   11| Norte|110001|         11005|   ZONA DA MATA|       13|           22945|           0.0|         0|              0|          0|            null|                 null|                            0|                             0|             488322|                8199|          36805505|             774473|                 9258|                    87|\n",
            "|Alta Floresta D'O...|Brasil|    RO|2020-04-05|   11| Norte|110001|         11005|   ZONA DA MATA|       15|           22945|           0.0|         0|              0|          0|            null|                 null|                            2|                             0|             488322|                8199|          36805505|             774473|                 9258|                    87|\n",
            "|Alta Floresta D'O...|Brasil|    RO|2020-04-04|   11| Norte|110001|         11005|   ZONA DA MATA|       14|           22945|           0.0|         0|              0|          0|            null|                 null|                            2|                             0|             488322|                8199|          36805505|             774473|                 9258|                    87|\n",
            "|Alta Floresta D'O...|Brasil|    RO|2020-04-15|   11| Norte|110001|         11005|   ZONA DA MATA|       16|           22945|           0.0|         0|              0|          0|            null|                 null|                           10|                             0|             488322|                8199|          36805505|             774473|                 9258|                    87|\n",
            "|Alta Floresta D'O...|Brasil|    RO|2020-04-09|   11| Norte|110001|         11005|   ZONA DA MATA|       15|           22945|           0.0|         0|              0|          0|            null|                 null|                           20|                             2|             488322|                8199|          36805505|             774473|                 9258|                    87|\n",
            "|Alta Floresta D'O...|Brasil|    RO|2020-04-07|   11| Norte|110001|         11005|   ZONA DA MATA|       15|           22945|           0.0|         0|              0|          0|            null|                 null|                            8|                             0|             488322|                8199|          36805505|             774473|                 9258|                    87|\n",
            "|Alta Floresta D'O...|Brasil|    RO|2020-04-14|   11| Norte|110001|         11005|   ZONA DA MATA|       16|           22945|           0.0|         0|              0|          0|            null|                 null|                           44|                             0|             488322|                8199|          36805505|             774473|                 9258|                    87|\n",
            "|Alta Floresta D'O...|Brasil|    RO|2020-03-31|   11| Norte|110001|         11005|   ZONA DA MATA|       14|           22945|           0.0|         0|              0|          0|            null|                 null|                            4|                             2|             488322|                8199|          36805505|             774473|                 9258|                    87|\n",
            "|Alta Floresta D'O...|Brasil|    RO|2020-04-12|   11| Norte|110001|         11005|   ZONA DA MATA|       16|           22945|           0.0|         0|              0|          0|            null|                 null|                            4|                             0|             488322|                8199|          36805505|             774473|                 9258|                    87|\n",
            "|Alta Floresta D'O...|Brasil|    RO|2020-04-11|   11| Norte|110001|         11005|   ZONA DA MATA|       15|           22945|           0.0|         0|              0|          0|            null|                 null|                            2|                             0|             488322|                8199|          36805505|             774473|                 9258|                    87|\n",
            "+--------------------+------+------+----------+-----+------+------+--------------+---------------+---------+----------------+--------------+----------+---------------+-----------+----------------+---------------------+-----------------------------+------------------------------+-------------------+--------------------+------------------+-------------------+---------------------+----------------------+\n",
            "only showing top 20 rows\n",
            "\n"
          ]
        }
      ],
      "source": [
        "covid_total4 = covid_total3.join(municipio_total_cs, [\"municipio\"], how='left')\\\n",
        "                           .join(municipio_total_ob, [\"municipio\"], how='left') \n",
        "\n",
        "\n",
        "covid_total4.show()\n"
      ]
    },
    {
      "cell_type": "markdown",
      "metadata": {
        "id": "Mv1FCXxLXvFs"
      },
      "source": [
        "#### Foi tirada a média do total de casos e total de óbitos por estado"
      ]
    },
    {
      "cell_type": "code",
      "execution_count": 50,
      "metadata": {
        "id": "YHXUTOiXeRg3",
        "colab": {
          "base_uri": "https://localhost:8080/"
        },
        "outputId": "e88b15c7-a866-40d6-e3d9-ea0a6847db01"
      },
      "outputs": [
        {
          "output_type": "stream",
          "name": "stdout",
          "text": [
            "+--------------------+------+------+----------+-----+------+------+--------------+---------------+---------+----------------+--------------+----------+---------------+-----------+----------------+---------------------+-----------------------------+------------------------------+-------------------+--------------------+------------------+-------------------+---------------------+----------------------+-------------------------+------------------------+\n",
            "|           municipio|  Pais|estado|      data|coduf|regiao|codmun|codRegiaoSaude|nomeRegiaoSaude|semanaEpi|populacaoTCU2019|casosAcumulado|casosNovos|obitosAcumulado|obitosNovos|Recuperadosnovos|emAcompanhamentoNovos|casosNovos_diarios_por_estado|obitosNovos_diarios_por_estado|total_casos_estados|total_obitos_estados|total_casos_brasil|total_obitos_brasil|total_casos_municipio|total_obitos_municipio|media_total_obitos_estado|media_total_casos_estado|\n",
            "+--------------------+------+------+----------+-----+------+------+--------------+---------------+---------+----------------+--------------+----------+---------------+-----------+----------------+---------------------+-----------------------------+------------------------------+-------------------+--------------------+------------------+-------------------+---------------------+----------------------+-------------------------+------------------------+\n",
            "|Alta Floresta D'O...|Brasil|    RO|2020-04-06|   11| Norte|110001|         11005|   ZONA DA MATA|       15|           22945|           0.0|         0|              0|          0|            null|                 null|                            4|                             0|             488322|                8199|          36805505|             774473|                 9258|                    87|                    0.011|                   0.013|\n",
            "|Alta Floresta D'O...|Brasil|    RO|2020-04-16|   11| Norte|110001|         11005|   ZONA DA MATA|       16|           22945|           0.0|         0|              0|          0|            null|                 null|                           14|                             2|             488322|                8199|          36805505|             774473|                 9258|                    87|                    0.011|                   0.013|\n",
            "|Alta Floresta D'O...|Brasil|    RO|2020-04-01|   11| Norte|110001|         11005|   ZONA DA MATA|       14|           22945|           0.0|         0|              0|          0|            null|                 null|                            2|                             0|             488322|                8199|          36805505|             774473|                 9258|                    87|                    0.011|                   0.013|\n",
            "|Alta Floresta D'O...|Brasil|    RO|2020-04-10|   11| Norte|110001|         11005|   ZONA DA MATA|       15|           22945|           0.0|         0|              0|          0|            null|                 null|                            8|                             0|             488322|                8199|          36805505|             774473|                 9258|                    87|                    0.011|                   0.013|\n",
            "|Alta Floresta D'O...|Brasil|    RO|2020-04-02|   11| Norte|110001|         11005|   ZONA DA MATA|       14|           22945|           0.0|         0|              0|          0|            null|                 null|                            2|                             0|             488322|                8199|          36805505|             774473|                 9258|                    87|                    0.011|                   0.013|\n",
            "|Alta Floresta D'O...|Brasil|    RO|2020-04-03|   11| Norte|110001|         11005|   ZONA DA MATA|       14|           22945|           0.0|         0|              0|          0|            null|                 null|                            0|                             0|             488322|                8199|          36805505|             774473|                 9258|                    87|                    0.011|                   0.013|\n",
            "|Alta Floresta D'O...|Brasil|    RO|2020-04-13|   11| Norte|110001|         11005|   ZONA DA MATA|       16|           22945|           0.0|         0|              0|          0|            null|                 null|                           14|                             0|             488322|                8199|          36805505|             774473|                 9258|                    87|                    0.011|                   0.013|\n",
            "|Alta Floresta D'O...|Brasil|    RO|2020-03-27|   11| Norte|110001|         11005|   ZONA DA MATA|       13|           22945|           0.0|         0|              0|          0|            null|                 null|                            2|                             0|             488322|                8199|          36805505|             774473|                 9258|                    87|                    0.011|                   0.013|\n",
            "|Alta Floresta D'O...|Brasil|    RO|2020-03-30|   11| Norte|110001|         11005|   ZONA DA MATA|       14|           22945|           0.0|         0|              0|          0|            null|                 null|                            0|                             0|             488322|                8199|          36805505|             774473|                 9258|                    87|                    0.011|                   0.013|\n",
            "|Alta Floresta D'O...|Brasil|    RO|2020-03-29|   11| Norte|110001|         11005|   ZONA DA MATA|       14|           22945|           0.0|         0|              0|          0|            null|                 null|                            0|                             0|             488322|                8199|          36805505|             774473|                 9258|                    87|                    0.011|                   0.013|\n",
            "|Alta Floresta D'O...|Brasil|    RO|2020-03-28|   11| Norte|110001|         11005|   ZONA DA MATA|       13|           22945|           0.0|         0|              0|          0|            null|                 null|                            0|                             0|             488322|                8199|          36805505|             774473|                 9258|                    87|                    0.011|                   0.013|\n",
            "|Alta Floresta D'O...|Brasil|    RO|2020-04-05|   11| Norte|110001|         11005|   ZONA DA MATA|       15|           22945|           0.0|         0|              0|          0|            null|                 null|                            2|                             0|             488322|                8199|          36805505|             774473|                 9258|                    87|                    0.011|                   0.013|\n",
            "|Alta Floresta D'O...|Brasil|    RO|2020-04-04|   11| Norte|110001|         11005|   ZONA DA MATA|       14|           22945|           0.0|         0|              0|          0|            null|                 null|                            2|                             0|             488322|                8199|          36805505|             774473|                 9258|                    87|                    0.011|                   0.013|\n",
            "|Alta Floresta D'O...|Brasil|    RO|2020-04-15|   11| Norte|110001|         11005|   ZONA DA MATA|       16|           22945|           0.0|         0|              0|          0|            null|                 null|                           10|                             0|             488322|                8199|          36805505|             774473|                 9258|                    87|                    0.011|                   0.013|\n",
            "|Alta Floresta D'O...|Brasil|    RO|2020-04-09|   11| Norte|110001|         11005|   ZONA DA MATA|       15|           22945|           0.0|         0|              0|          0|            null|                 null|                           20|                             2|             488322|                8199|          36805505|             774473|                 9258|                    87|                    0.011|                   0.013|\n",
            "|Alta Floresta D'O...|Brasil|    RO|2020-04-07|   11| Norte|110001|         11005|   ZONA DA MATA|       15|           22945|           0.0|         0|              0|          0|            null|                 null|                            8|                             0|             488322|                8199|          36805505|             774473|                 9258|                    87|                    0.011|                   0.013|\n",
            "|Alta Floresta D'O...|Brasil|    RO|2020-04-14|   11| Norte|110001|         11005|   ZONA DA MATA|       16|           22945|           0.0|         0|              0|          0|            null|                 null|                           44|                             0|             488322|                8199|          36805505|             774473|                 9258|                    87|                    0.011|                   0.013|\n",
            "|Alta Floresta D'O...|Brasil|    RO|2020-03-31|   11| Norte|110001|         11005|   ZONA DA MATA|       14|           22945|           0.0|         0|              0|          0|            null|                 null|                            4|                             2|             488322|                8199|          36805505|             774473|                 9258|                    87|                    0.011|                   0.013|\n",
            "|Alta Floresta D'O...|Brasil|    RO|2020-04-12|   11| Norte|110001|         11005|   ZONA DA MATA|       16|           22945|           0.0|         0|              0|          0|            null|                 null|                            4|                             0|             488322|                8199|          36805505|             774473|                 9258|                    87|                    0.011|                   0.013|\n",
            "|Alta Floresta D'O...|Brasil|    RO|2020-04-11|   11| Norte|110001|         11005|   ZONA DA MATA|       15|           22945|           0.0|         0|              0|          0|            null|                 null|                            2|                             0|             488322|                8199|          36805505|             774473|                 9258|                    87|                    0.011|                   0.013|\n",
            "+--------------------+------+------+----------+-----+------+------+--------------+---------------+---------+----------------+--------------+----------+---------------+-----------+----------------+---------------------+-----------------------------+------------------------------+-------------------+--------------------+------------------+-------------------+---------------------+----------------------+-------------------------+------------------------+\n",
            "only showing top 20 rows\n",
            "\n"
          ]
        }
      ],
      "source": [
        "covid_total5 = covid_total4.withColumn(\"media_total_obitos_estado\",\\\n",
        "                                       round(col(\"total_obitos_estados\")\\\n",
        "                                             /col(\"total_obitos_brasil\"), 3))\\\n",
        "                           .withColumn(\"media_total_casos_estado\",\\\n",
        "                                       round(col(\"total_casos_estados\")\\\n",
        "                                             /col(\"total_casos_brasil\"), 3))\n",
        "\n",
        "covid_total5.show()"
      ]
    },
    {
      "cell_type": "code",
      "execution_count": 51,
      "metadata": {
        "id": "5n072JD1ZBRx",
        "colab": {
          "base_uri": "https://localhost:8080/"
        },
        "outputId": "1672ba79-7ebb-4cd3-b396-2308687e314a"
      },
      "outputs": [
        {
          "output_type": "stream",
          "name": "stdout",
          "text": [
            "+------+------+-------------------------+------------------------+\n",
            "|  Pais|estado|media_total_obitos_estado|media_total_casos_estado|\n",
            "+------+------+-------------------------+------------------------+\n",
            "|Brasil|    SP|                    0.254|                   0.177|\n",
            "|Brasil|    RJ|                    0.114|                   0.071|\n",
            "|Brasil|    MG|                    0.086|                   0.108|\n",
            "|Brasil|    PR|                    0.061|                   0.076|\n",
            "|Brasil|    RS|                    0.055|                   0.074|\n",
            "|Brasil|    CE|                    0.045|                   0.042|\n",
            "|Brasil|    BA|                    0.044|                   0.051|\n",
            "|Brasil|    GO|                    0.037|                   0.047|\n",
            "|Brasil|    PE|                    0.037|                   0.031|\n",
            "|Brasil|    PA|                    0.031|                   0.026|\n",
            "|Brasil|    SC|                     0.03|                   0.053|\n",
            "|Brasil|    ES|                    0.023|                   0.035|\n",
            "|Brasil|    AM|                    0.023|                   0.019|\n",
            "|Brasil|    MT|                    0.022|                   0.024|\n",
            "|Brasil|    MA|                    0.018|                   0.016|\n",
            "|Brasil|    DF|                    0.017|                   0.026|\n",
            "|Brasil|    PB|                    0.016|                    0.02|\n",
            "|Brasil|    MS|                    0.014|                   0.016|\n",
            "|Brasil|    RN|                    0.013|                   0.016|\n",
            "|Brasil|    PI|                    0.012|                   0.012|\n",
            "+------+------+-------------------------+------------------------+\n",
            "only showing top 20 rows\n",
            "\n",
            "+------+------+-------------------------+------------------------+\n",
            "|  Pais|estado|media_total_obitos_estado|media_total_casos_estado|\n",
            "+------+------+-------------------------+------------------------+\n",
            "|Brasil|    SP|                    0.254|                   0.177|\n",
            "|Brasil|    MG|                    0.086|                   0.108|\n",
            "|Brasil|    PR|                    0.061|                   0.076|\n",
            "|Brasil|    RS|                    0.055|                   0.074|\n",
            "|Brasil|    RJ|                    0.114|                   0.071|\n",
            "|Brasil|    SC|                     0.03|                   0.053|\n",
            "|Brasil|    BA|                    0.044|                   0.051|\n",
            "|Brasil|    GO|                    0.037|                   0.047|\n",
            "|Brasil|    CE|                    0.045|                   0.042|\n",
            "|Brasil|    ES|                    0.023|                   0.035|\n",
            "|Brasil|    PE|                    0.037|                   0.031|\n",
            "|Brasil|    PA|                    0.031|                   0.026|\n",
            "|Brasil|    DF|                    0.017|                   0.026|\n",
            "|Brasil|    MT|                    0.022|                   0.024|\n",
            "|Brasil|    PB|                    0.016|                    0.02|\n",
            "|Brasil|    AM|                    0.023|                   0.019|\n",
            "|Brasil|    MA|                    0.018|                   0.016|\n",
            "|Brasil|    RN|                    0.013|                   0.016|\n",
            "|Brasil|    MS|                    0.014|                   0.016|\n",
            "|Brasil|    RO|                    0.011|                   0.013|\n",
            "+------+------+-------------------------+------------------------+\n",
            "only showing top 20 rows\n",
            "\n"
          ]
        }
      ],
      "source": [
        "media_estado = covid_total5.select(\"Pais\", \"estado\", \\\n",
        "                                   \"media_total_obitos_estado\",\\\n",
        "                                   \"media_total_casos_estado\")\\\n",
        "                           .distinct()\\\n",
        "                           .orderBy(col(\"media_total_obitos_estado\").desc())\n",
        "\n",
        "media_estado2 = covid_total5.select(\"Pais\", \"estado\",\\\n",
        "                                    \"media_total_obitos_estado\", \\\n",
        "                                    \"media_total_casos_estado\")\\\n",
        "                           .distinct()\\\n",
        "                           .orderBy( col(\"media_total_casos_estado\").desc())\n",
        "\n",
        "media_estado.show()\n",
        "media_estado2.show()"
      ]
    },
    {
      "cell_type": "markdown",
      "metadata": {
        "id": "_ClcE4TuDAwK"
      },
      "source": [
        "#### Total de casos e óbitos novos por municipio no ano de 2022."
      ]
    },
    {
      "cell_type": "code",
      "execution_count": 52,
      "metadata": {
        "id": "EeLZi-vpSZB8",
        "colab": {
          "base_uri": "https://localhost:8080/"
        },
        "outputId": "7c7ce324-743e-49db-fe20-81a42d337141"
      },
      "outputs": [
        {
          "output_type": "stream",
          "name": "stdout",
          "text": [
            "+----------+------+--------------+----------+\n",
            "|      data|estado|     municipio|casosNovos|\n",
            "+----------+------+--------------+----------+\n",
            "|2022-05-26|    TO|        Palmas|     74352|\n",
            "|2022-04-18|    TO|   Palmeirante|     73235|\n",
            "|2022-03-06|    CE|        Sobral|     34425|\n",
            "|2022-03-05|    CE|    Solonópole|     33592|\n",
            "|2022-07-24|    BA|        Camamu|     30261|\n",
            "|2022-07-25|    BA|      Camaçari|     29651|\n",
            "|2022-07-25|    BA|     Barreiras|     25006|\n",
            "|2022-07-24|    BA|    Barro Alto|     24578|\n",
            "|2022-01-26|    RJ|Rio de Janeiro|     23095|\n",
            "|2022-01-30|    CE|     Fortaleza|     22009|\n",
            "|2022-02-05|    RJ|Rio de Janeiro|     21722|\n",
            "|2022-01-27|    RJ|Rio de Janeiro|     21103|\n",
            "|2022-02-23|    MG| Montes Claros|     21013|\n",
            "|2022-01-21|    RJ|Rio de Janeiro|     20789|\n",
            "|2022-01-28|    RJ|Rio de Janeiro|     20761|\n",
            "|2022-04-18|    TO|      Ipueiras|     19827|\n",
            "|2022-01-22|    RJ|Rio de Janeiro|     19821|\n",
            "|2022-01-29|    RJ|Rio de Janeiro|     18083|\n",
            "|2022-07-25|    BA|    Alagoinhas|     17763|\n",
            "|2022-01-25|    RJ|Rio de Janeiro|     17372|\n",
            "+----------+------+--------------+----------+\n",
            "only showing top 20 rows\n",
            "\n"
          ]
        }
      ],
      "source": [
        "casos_novos2022 = covid_total5.select(\"data\" ,\"estado\",\"municipio\", \"casosNovos\")\\\n",
        "                              .filter(covid_total4.data.like(\"%2022%\"))\\\n",
        "                              .orderBy(col(\"casosNovos\").desc())\n",
        "\n",
        "\n",
        "casos_novos2022.show()"
      ]
    },
    {
      "cell_type": "code",
      "execution_count": 53,
      "metadata": {
        "id": "TGTYAD1bYzIv",
        "colab": {
          "base_uri": "https://localhost:8080/"
        },
        "outputId": "f542fad4-180d-4a7e-dc25-bd01905a7e5c"
      },
      "outputs": [
        {
          "output_type": "stream",
          "name": "stdout",
          "text": [
            "+----------+------+--------------+----------+\n",
            "|      data|estado|     municipio|casosNovos|\n",
            "+----------+------+--------------+----------+\n",
            "|2022-05-26|    TO|        Palmas|     74352|\n",
            "|2022-04-18|    TO|   Palmeirante|     73235|\n",
            "|2022-03-06|    CE|        Sobral|     34425|\n",
            "|2022-03-05|    CE|    Solonópole|     33592|\n",
            "|2022-07-24|    BA|        Camamu|     30261|\n",
            "|2022-07-25|    BA|      Camaçari|     29651|\n",
            "|2022-07-25|    BA|     Barreiras|     25006|\n",
            "|2022-07-24|    BA|    Barro Alto|     24578|\n",
            "|2022-01-26|    RJ|Rio de Janeiro|     23095|\n",
            "|2022-01-30|    CE|     Fortaleza|     22009|\n",
            "|2022-02-05|    RJ|Rio de Janeiro|     21722|\n",
            "|2022-01-27|    RJ|Rio de Janeiro|     21103|\n",
            "|2022-02-23|    MG| Montes Claros|     21013|\n",
            "|2022-01-21|    RJ|Rio de Janeiro|     20789|\n",
            "|2022-01-28|    RJ|Rio de Janeiro|     20761|\n",
            "|2022-04-18|    TO|      Ipueiras|     19827|\n",
            "|2022-01-22|    RJ|Rio de Janeiro|     19821|\n",
            "|2022-01-29|    RJ|Rio de Janeiro|     18083|\n",
            "|2022-07-25|    BA|    Alagoinhas|     17763|\n",
            "|2022-01-25|    RJ|Rio de Janeiro|     17372|\n",
            "+----------+------+--------------+----------+\n",
            "only showing top 20 rows\n",
            "\n"
          ]
        }
      ],
      "source": [
        "obitos_novos2022 = covid_total5.select(\"data\", \"estado\", \"municipio\", \"obitosNovos\")\\\n",
        "                    .filter(covid_total4.data.like(\"%2022%\"))\\\n",
        "                    .orderBy(col(\"obitosNovos\").desc())\n",
        "\n",
        "\n",
        "casos_novos2022.show()"
      ]
    },
    {
      "cell_type": "code",
      "execution_count": 54,
      "metadata": {
        "id": "a-0rQQUDJemq",
        "colab": {
          "base_uri": "https://localhost:8080/"
        },
        "outputId": "6f09fae5-ad24-4916-b762-b9fbe340e464"
      },
      "outputs": [
        {
          "output_type": "stream",
          "name": "stdout",
          "text": [
            "+------+----------------+\n",
            "|estado|populacaoTCU2019|\n",
            "+------+----------------+\n",
            "|    SP|        12252023|\n",
            "|    RJ|         6718903|\n",
            "|    DF|         3015268|\n",
            "|    BA|         2872347|\n",
            "|    CE|         2669342|\n",
            "|    MG|         2512070|\n",
            "|    AM|         2182763|\n",
            "|    PR|         1933105|\n",
            "|    PE|         1645727|\n",
            "|    GO|         1516113|\n",
            "|    PA|         1492745|\n",
            "|    RS|         1483771|\n",
            "|    SP|         1379182|\n",
            "|    SP|         1204073|\n",
            "|    MA|         1101884|\n",
            "|    RJ|         1084839|\n",
            "|    AL|         1018948|\n",
            "|    RJ|          919596|\n",
            "|    MS|          895982|\n",
            "|    RN|          884122|\n",
            "+------+----------------+\n",
            "only showing top 20 rows\n",
            "\n"
          ]
        }
      ],
      "source": [
        "populacao_tcu2019 = covid_total5.select(\"estado\", \"populacaoTCU2019\").distinct()\\\n",
        "                                .orderBy(col(\"populacaoTCU2019\").desc())\n",
        "\n",
        "populacao_tcu2019.show()"
      ]
    },
    {
      "cell_type": "markdown",
      "metadata": {
        "id": "eXUCItyQwtJI"
      },
      "source": [
        "#### Demostração dos dados em gráfico."
      ]
    },
    {
      "cell_type": "code",
      "execution_count": 55,
      "metadata": {
        "id": "ETGqGTVjIYj3"
      },
      "outputs": [],
      "source": [
        "graf = estado_total_ob.join(desemprego20, estado_total_ob.Estados == desemprego.Estado, \"inner\")\\\n",
        "                      .drop(\"Estado\")\n",
        "graf = graf.toPandas()"
      ]
    },
    {
      "cell_type": "code",
      "execution_count": 56,
      "metadata": {
        "id": "wdZuDgUYvC8I",
        "colab": {
          "base_uri": "https://localhost:8080/",
          "height": 1000
        },
        "outputId": "187f69c3-474a-4c78-9ea1-5041141c62cf"
      },
      "outputs": [
        {
          "output_type": "display_data",
          "data": {
            "text/html": [
              "<html>\n",
              "<head><meta charset=\"utf-8\" /></head>\n",
              "<body>\n",
              "    <div>            <script src=\"https://cdnjs.cloudflare.com/ajax/libs/mathjax/2.7.5/MathJax.js?config=TeX-AMS-MML_SVG\"></script><script type=\"text/javascript\">if (window.MathJax) {MathJax.Hub.Config({SVG: {font: \"STIX-Web\"}});}</script>                <script type=\"text/javascript\">window.PlotlyConfig = {MathJaxConfig: 'local'};</script>\n",
              "        <script src=\"https://cdn.plot.ly/plotly-2.8.3.min.js\"></script>                <div id=\"4a72d002-e684-4eb4-be9a-137a1a6e5589\" class=\"plotly-graph-div\" style=\"height:525px; width:100%;\"></div>            <script type=\"text/javascript\">                                    window.PLOTLYENV=window.PLOTLYENV || {};                                    if (document.getElementById(\"4a72d002-e684-4eb4-be9a-137a1a6e5589\")) {                    Plotly.newPlot(                        \"4a72d002-e684-4eb4-be9a-137a1a6e5589\",                        [{\"alignmentgroup\":\"True\",\"hovertemplate\":\"variable=total_obitos_estados<br>Estados=%{x}<br>value=%{y}<extra></extra>\",\"legendgroup\":\"total_obitos_estados\",\"marker\":{\"color\":\"#636efa\",\"pattern\":{\"shape\":\"\"}},\"name\":\"total_obitos_estados\",\"offsetgroup\":\"total_obitos_estados\",\"orientation\":\"v\",\"showlegend\":true,\"textposition\":\"auto\",\"texttemplate\":\"%{y:.2s}\",\"x\":[\"SC\",\"RO\",\"PI\",\"AM\",\"RR\",\"GO\",\"TO\",\"MT\",\"SP\",\"PB\",\"ES\",\"RS\",\"MS\",\"AL\",\"MG\",\"PA\",\"BA\",\"SE\",\"PE\",\"CE\",\"RN\",\"RJ\",\"MA\",\"AC\",\"DF\",\"PR\",\"AP\"],\"xaxis\":\"x\",\"y\":[23378,8199,9237,17507,2689,28902,4570,16716,196415,12187,17569,42446,11123,8668,66390,24301,34321,7854,28701,35142,10193,88566,13969,2552,13292,46868,2718],\"yaxis\":\"y\",\"type\":\"bar\"},{\"alignmentgroup\":\"True\",\"hovertemplate\":\"variable=1_trimestre_2019<br>Estados=%{x}<br>value=%{y}<extra></extra>\",\"legendgroup\":\"1_trimestre_2019\",\"marker\":{\"color\":\"#EF553B\",\"pattern\":{\"shape\":\"\"}},\"name\":\"1_trimestre_2019\",\"offsetgroup\":\"1_trimestre_2019\",\"orientation\":\"v\",\"showlegend\":true,\"textposition\":\"auto\",\"texttemplate\":\"%{y:.2s}\",\"x\":[\"SC\",\"RO\",\"PI\",\"AM\",\"RR\",\"GO\",\"TO\",\"MT\",\"SP\",\"PB\",\"ES\",\"RS\",\"MS\",\"AL\",\"MG\",\"PA\",\"BA\",\"SE\",\"PE\",\"CE\",\"RN\",\"RJ\",\"MA\",\"AC\",\"DF\",\"PR\",\"AP\"],\"xaxis\":\"x\",\"y\":[285,79,188,296,39,407,90,167,3510,189,266,496,137,194,1257,445,1307,165,696,476,214,1388,429,65,238,550,78],\"yaxis\":\"y\",\"type\":\"bar\"},{\"alignmentgroup\":\"True\",\"hovertemplate\":\"variable=2_trimestre_2019<br>Estados=%{x}<br>value=%{y}<extra></extra>\",\"legendgroup\":\"2_trimestre_2019\",\"marker\":{\"color\":\"#00cc96\",\"pattern\":{\"shape\":\"\"}},\"name\":\"2_trimestre_2019\",\"offsetgroup\":\"2_trimestre_2019\",\"orientation\":\"v\",\"showlegend\":true,\"textposition\":\"auto\",\"texttemplate\":\"%{y:.2s}\",\"x\":[\"SC\",\"RO\",\"PI\",\"AM\",\"RR\",\"GO\",\"TO\",\"MT\",\"SP\",\"PB\",\"ES\",\"RS\",\"MS\",\"AL\",\"MG\",\"PA\",\"BA\",\"SE\",\"PE\",\"CE\",\"RN\",\"RJ\",\"MA\",\"AC\",\"DF\",\"PR\",\"AP\"],\"xaxis\":\"x\",\"y\":[239,60,191,265,38,399,84,154,3368,207,242,515,123,186,1096,435,1240,169,681,459,195,1366,388,49,234,560,69],\"yaxis\":\"y\",\"type\":\"bar\"},{\"alignmentgroup\":\"True\",\"hovertemplate\":\"variable=3_trimestre_2019<br>Estados=%{x}<br>value=%{y}<extra></extra>\",\"legendgroup\":\"3_trimestre_2019\",\"marker\":{\"color\":\"#ab63fa\",\"pattern\":{\"shape\":\"\"}},\"name\":\"3_trimestre_2019\",\"offsetgroup\":\"3_trimestre_2019\",\"orientation\":\"v\",\"showlegend\":true,\"textposition\":\"auto\",\"texttemplate\":\"%{y:.2s}\",\"x\":[\"SC\",\"RO\",\"PI\",\"AM\",\"RR\",\"GO\",\"TO\",\"MT\",\"SP\",\"PB\",\"ES\",\"RS\",\"MS\",\"AL\",\"MG\",\"PA\",\"BA\",\"SE\",\"PE\",\"CE\",\"RN\",\"RJ\",\"MA\",\"AC\",\"DF\",\"PR\",\"AP\"],\"xaxis\":\"x\",\"y\":[227,74,199,257,37,421,78,148,3169,193,233,555,111,193,1149,444,1194,162,674,478,210,1314,382,47,224,559,66],\"yaxis\":\"y\",\"type\":\"bar\"},{\"alignmentgroup\":\"True\",\"hovertemplate\":\"variable=4_trimestre_2019<br>Estados=%{x}<br>value=%{y}<extra></extra>\",\"legendgroup\":\"4_trimestre_2019\",\"marker\":{\"color\":\"#FFA15A\",\"pattern\":{\"shape\":\"\"}},\"name\":\"4_trimestre_2019\",\"offsetgroup\":\"4_trimestre_2019\",\"orientation\":\"v\",\"showlegend\":true,\"textposition\":\"auto\",\"texttemplate\":\"%{y:.2s}\",\"x\":[\"SC\",\"RO\",\"PI\",\"AM\",\"RR\",\"GO\",\"TO\",\"MT\",\"SP\",\"PB\",\"ES\",\"RS\",\"MS\",\"AL\",\"MG\",\"PA\",\"BA\",\"SE\",\"PE\",\"CE\",\"RN\",\"RJ\",\"MA\",\"AC\",\"DF\",\"PR\",\"AP\"],\"xaxis\":\"x\",\"y\":[216,72,200,248,38,405,67,117,3015,206,227,455,96,165,1098,360,1162,168,601,437,199,1246,330,49,210,450,62],\"yaxis\":\"y\",\"type\":\"bar\"},{\"alignmentgroup\":\"True\",\"hovertemplate\":\"variable=1_trimestre_2020<br>Estados=%{x}<br>value=%{y}<extra></extra>\",\"legendgroup\":\"1_trimestre_2020\",\"marker\":{\"color\":\"#19d3f3\",\"pattern\":{\"shape\":\"\"}},\"name\":\"1_trimestre_2020\",\"offsetgroup\":\"1_trimestre_2020\",\"orientation\":\"v\",\"showlegend\":true,\"textposition\":\"auto\",\"texttemplate\":\"%{y:.2s}\",\"x\":[\"SC\",\"RO\",\"PI\",\"AM\",\"RR\",\"GO\",\"TO\",\"MT\",\"SP\",\"PB\",\"ES\",\"RS\",\"MS\",\"AL\",\"MG\",\"PA\",\"BA\",\"SE\",\"PE\",\"CE\",\"RN\",\"RJ\",\"MA\",\"AC\",\"DF\",\"PR\",\"AP\"],\"xaxis\":\"x\",\"y\":[223,76,202,279,42,434,84,158,3151,232,243,529,111,204,1320,417,1333,171,611,513,244,1313,431,47,228,487,67],\"yaxis\":\"y\",\"type\":\"bar\"},{\"alignmentgroup\":\"True\",\"hovertemplate\":\"variable=2_trimestre_2022<br>Estados=%{x}<br>value=%{y}<extra></extra>\",\"legendgroup\":\"2_trimestre_2022\",\"marker\":{\"color\":\"#FF6692\",\"pattern\":{\"shape\":\"\"}},\"name\":\"2_trimestre_2022\",\"offsetgroup\":\"2_trimestre_2022\",\"orientation\":\"v\",\"showlegend\":true,\"textposition\":\"auto\",\"texttemplate\":\"%{y:.2s}\",\"x\":[\"SC\",\"RO\",\"PI\",\"AM\",\"RR\",\"GO\",\"TO\",\"MT\",\"SP\",\"PB\",\"ES\",\"RS\",\"MS\",\"AL\",\"MG\",\"PA\",\"BA\",\"SE\",\"PE\",\"CE\",\"RN\",\"RJ\",\"MA\",\"AC\",\"DF\",\"PR\",\"AP\"],\"xaxis\":\"x\",\"y\":[160,52,135,203,16,270,43,82,2404,203,174,387,75,149,828,377,1104,140,578,412,188,1130,299,45,205,374,48],\"yaxis\":\"y\",\"type\":\"bar\"}],                        {\"template\":{\"data\":{\"bar\":[{\"error_x\":{\"color\":\"#2a3f5f\"},\"error_y\":{\"color\":\"#2a3f5f\"},\"marker\":{\"line\":{\"color\":\"#E5ECF6\",\"width\":0.5},\"pattern\":{\"fillmode\":\"overlay\",\"size\":10,\"solidity\":0.2}},\"type\":\"bar\"}],\"barpolar\":[{\"marker\":{\"line\":{\"color\":\"#E5ECF6\",\"width\":0.5},\"pattern\":{\"fillmode\":\"overlay\",\"size\":10,\"solidity\":0.2}},\"type\":\"barpolar\"}],\"carpet\":[{\"aaxis\":{\"endlinecolor\":\"#2a3f5f\",\"gridcolor\":\"white\",\"linecolor\":\"white\",\"minorgridcolor\":\"white\",\"startlinecolor\":\"#2a3f5f\"},\"baxis\":{\"endlinecolor\":\"#2a3f5f\",\"gridcolor\":\"white\",\"linecolor\":\"white\",\"minorgridcolor\":\"white\",\"startlinecolor\":\"#2a3f5f\"},\"type\":\"carpet\"}],\"choropleth\":[{\"colorbar\":{\"outlinewidth\":0,\"ticks\":\"\"},\"type\":\"choropleth\"}],\"contour\":[{\"colorbar\":{\"outlinewidth\":0,\"ticks\":\"\"},\"colorscale\":[[0.0,\"#0d0887\"],[0.1111111111111111,\"#46039f\"],[0.2222222222222222,\"#7201a8\"],[0.3333333333333333,\"#9c179e\"],[0.4444444444444444,\"#bd3786\"],[0.5555555555555556,\"#d8576b\"],[0.6666666666666666,\"#ed7953\"],[0.7777777777777778,\"#fb9f3a\"],[0.8888888888888888,\"#fdca26\"],[1.0,\"#f0f921\"]],\"type\":\"contour\"}],\"contourcarpet\":[{\"colorbar\":{\"outlinewidth\":0,\"ticks\":\"\"},\"type\":\"contourcarpet\"}],\"heatmap\":[{\"colorbar\":{\"outlinewidth\":0,\"ticks\":\"\"},\"colorscale\":[[0.0,\"#0d0887\"],[0.1111111111111111,\"#46039f\"],[0.2222222222222222,\"#7201a8\"],[0.3333333333333333,\"#9c179e\"],[0.4444444444444444,\"#bd3786\"],[0.5555555555555556,\"#d8576b\"],[0.6666666666666666,\"#ed7953\"],[0.7777777777777778,\"#fb9f3a\"],[0.8888888888888888,\"#fdca26\"],[1.0,\"#f0f921\"]],\"type\":\"heatmap\"}],\"heatmapgl\":[{\"colorbar\":{\"outlinewidth\":0,\"ticks\":\"\"},\"colorscale\":[[0.0,\"#0d0887\"],[0.1111111111111111,\"#46039f\"],[0.2222222222222222,\"#7201a8\"],[0.3333333333333333,\"#9c179e\"],[0.4444444444444444,\"#bd3786\"],[0.5555555555555556,\"#d8576b\"],[0.6666666666666666,\"#ed7953\"],[0.7777777777777778,\"#fb9f3a\"],[0.8888888888888888,\"#fdca26\"],[1.0,\"#f0f921\"]],\"type\":\"heatmapgl\"}],\"histogram\":[{\"marker\":{\"pattern\":{\"fillmode\":\"overlay\",\"size\":10,\"solidity\":0.2}},\"type\":\"histogram\"}],\"histogram2d\":[{\"colorbar\":{\"outlinewidth\":0,\"ticks\":\"\"},\"colorscale\":[[0.0,\"#0d0887\"],[0.1111111111111111,\"#46039f\"],[0.2222222222222222,\"#7201a8\"],[0.3333333333333333,\"#9c179e\"],[0.4444444444444444,\"#bd3786\"],[0.5555555555555556,\"#d8576b\"],[0.6666666666666666,\"#ed7953\"],[0.7777777777777778,\"#fb9f3a\"],[0.8888888888888888,\"#fdca26\"],[1.0,\"#f0f921\"]],\"type\":\"histogram2d\"}],\"histogram2dcontour\":[{\"colorbar\":{\"outlinewidth\":0,\"ticks\":\"\"},\"colorscale\":[[0.0,\"#0d0887\"],[0.1111111111111111,\"#46039f\"],[0.2222222222222222,\"#7201a8\"],[0.3333333333333333,\"#9c179e\"],[0.4444444444444444,\"#bd3786\"],[0.5555555555555556,\"#d8576b\"],[0.6666666666666666,\"#ed7953\"],[0.7777777777777778,\"#fb9f3a\"],[0.8888888888888888,\"#fdca26\"],[1.0,\"#f0f921\"]],\"type\":\"histogram2dcontour\"}],\"mesh3d\":[{\"colorbar\":{\"outlinewidth\":0,\"ticks\":\"\"},\"type\":\"mesh3d\"}],\"parcoords\":[{\"line\":{\"colorbar\":{\"outlinewidth\":0,\"ticks\":\"\"}},\"type\":\"parcoords\"}],\"pie\":[{\"automargin\":true,\"type\":\"pie\"}],\"scatter\":[{\"marker\":{\"colorbar\":{\"outlinewidth\":0,\"ticks\":\"\"}},\"type\":\"scatter\"}],\"scatter3d\":[{\"line\":{\"colorbar\":{\"outlinewidth\":0,\"ticks\":\"\"}},\"marker\":{\"colorbar\":{\"outlinewidth\":0,\"ticks\":\"\"}},\"type\":\"scatter3d\"}],\"scattercarpet\":[{\"marker\":{\"colorbar\":{\"outlinewidth\":0,\"ticks\":\"\"}},\"type\":\"scattercarpet\"}],\"scattergeo\":[{\"marker\":{\"colorbar\":{\"outlinewidth\":0,\"ticks\":\"\"}},\"type\":\"scattergeo\"}],\"scattergl\":[{\"marker\":{\"colorbar\":{\"outlinewidth\":0,\"ticks\":\"\"}},\"type\":\"scattergl\"}],\"scattermapbox\":[{\"marker\":{\"colorbar\":{\"outlinewidth\":0,\"ticks\":\"\"}},\"type\":\"scattermapbox\"}],\"scatterpolar\":[{\"marker\":{\"colorbar\":{\"outlinewidth\":0,\"ticks\":\"\"}},\"type\":\"scatterpolar\"}],\"scatterpolargl\":[{\"marker\":{\"colorbar\":{\"outlinewidth\":0,\"ticks\":\"\"}},\"type\":\"scatterpolargl\"}],\"scatterternary\":[{\"marker\":{\"colorbar\":{\"outlinewidth\":0,\"ticks\":\"\"}},\"type\":\"scatterternary\"}],\"surface\":[{\"colorbar\":{\"outlinewidth\":0,\"ticks\":\"\"},\"colorscale\":[[0.0,\"#0d0887\"],[0.1111111111111111,\"#46039f\"],[0.2222222222222222,\"#7201a8\"],[0.3333333333333333,\"#9c179e\"],[0.4444444444444444,\"#bd3786\"],[0.5555555555555556,\"#d8576b\"],[0.6666666666666666,\"#ed7953\"],[0.7777777777777778,\"#fb9f3a\"],[0.8888888888888888,\"#fdca26\"],[1.0,\"#f0f921\"]],\"type\":\"surface\"}],\"table\":[{\"cells\":{\"fill\":{\"color\":\"#EBF0F8\"},\"line\":{\"color\":\"white\"}},\"header\":{\"fill\":{\"color\":\"#C8D4E3\"},\"line\":{\"color\":\"white\"}},\"type\":\"table\"}]},\"layout\":{\"annotationdefaults\":{\"arrowcolor\":\"#2a3f5f\",\"arrowhead\":0,\"arrowwidth\":1},\"autotypenumbers\":\"strict\",\"coloraxis\":{\"colorbar\":{\"outlinewidth\":0,\"ticks\":\"\"}},\"colorscale\":{\"diverging\":[[0,\"#8e0152\"],[0.1,\"#c51b7d\"],[0.2,\"#de77ae\"],[0.3,\"#f1b6da\"],[0.4,\"#fde0ef\"],[0.5,\"#f7f7f7\"],[0.6,\"#e6f5d0\"],[0.7,\"#b8e186\"],[0.8,\"#7fbc41\"],[0.9,\"#4d9221\"],[1,\"#276419\"]],\"sequential\":[[0.0,\"#0d0887\"],[0.1111111111111111,\"#46039f\"],[0.2222222222222222,\"#7201a8\"],[0.3333333333333333,\"#9c179e\"],[0.4444444444444444,\"#bd3786\"],[0.5555555555555556,\"#d8576b\"],[0.6666666666666666,\"#ed7953\"],[0.7777777777777778,\"#fb9f3a\"],[0.8888888888888888,\"#fdca26\"],[1.0,\"#f0f921\"]],\"sequentialminus\":[[0.0,\"#0d0887\"],[0.1111111111111111,\"#46039f\"],[0.2222222222222222,\"#7201a8\"],[0.3333333333333333,\"#9c179e\"],[0.4444444444444444,\"#bd3786\"],[0.5555555555555556,\"#d8576b\"],[0.6666666666666666,\"#ed7953\"],[0.7777777777777778,\"#fb9f3a\"],[0.8888888888888888,\"#fdca26\"],[1.0,\"#f0f921\"]]},\"colorway\":[\"#636efa\",\"#EF553B\",\"#00cc96\",\"#ab63fa\",\"#FFA15A\",\"#19d3f3\",\"#FF6692\",\"#B6E880\",\"#FF97FF\",\"#FECB52\"],\"font\":{\"color\":\"#2a3f5f\"},\"geo\":{\"bgcolor\":\"white\",\"lakecolor\":\"white\",\"landcolor\":\"#E5ECF6\",\"showlakes\":true,\"showland\":true,\"subunitcolor\":\"white\"},\"hoverlabel\":{\"align\":\"left\"},\"hovermode\":\"closest\",\"mapbox\":{\"style\":\"light\"},\"paper_bgcolor\":\"white\",\"plot_bgcolor\":\"#E5ECF6\",\"polar\":{\"angularaxis\":{\"gridcolor\":\"white\",\"linecolor\":\"white\",\"ticks\":\"\"},\"bgcolor\":\"#E5ECF6\",\"radialaxis\":{\"gridcolor\":\"white\",\"linecolor\":\"white\",\"ticks\":\"\"}},\"scene\":{\"xaxis\":{\"backgroundcolor\":\"#E5ECF6\",\"gridcolor\":\"white\",\"gridwidth\":2,\"linecolor\":\"white\",\"showbackground\":true,\"ticks\":\"\",\"zerolinecolor\":\"white\"},\"yaxis\":{\"backgroundcolor\":\"#E5ECF6\",\"gridcolor\":\"white\",\"gridwidth\":2,\"linecolor\":\"white\",\"showbackground\":true,\"ticks\":\"\",\"zerolinecolor\":\"white\"},\"zaxis\":{\"backgroundcolor\":\"#E5ECF6\",\"gridcolor\":\"white\",\"gridwidth\":2,\"linecolor\":\"white\",\"showbackground\":true,\"ticks\":\"\",\"zerolinecolor\":\"white\"}},\"shapedefaults\":{\"line\":{\"color\":\"#2a3f5f\"}},\"ternary\":{\"aaxis\":{\"gridcolor\":\"white\",\"linecolor\":\"white\",\"ticks\":\"\"},\"baxis\":{\"gridcolor\":\"white\",\"linecolor\":\"white\",\"ticks\":\"\"},\"bgcolor\":\"#E5ECF6\",\"caxis\":{\"gridcolor\":\"white\",\"linecolor\":\"white\",\"ticks\":\"\"}},\"title\":{\"x\":0.05},\"xaxis\":{\"automargin\":true,\"gridcolor\":\"white\",\"linecolor\":\"white\",\"ticks\":\"\",\"title\":{\"standoff\":15},\"zerolinecolor\":\"white\",\"zerolinewidth\":2},\"yaxis\":{\"automargin\":true,\"gridcolor\":\"white\",\"linecolor\":\"white\",\"ticks\":\"\",\"title\":{\"standoff\":15},\"zerolinecolor\":\"white\",\"zerolinewidth\":2}}},\"xaxis\":{\"anchor\":\"y\",\"domain\":[0.0,1.0],\"title\":{\"text\":\"Estados\"}},\"yaxis\":{\"anchor\":\"x\",\"domain\":[0.0,1.0],\"title\":{\"text\":\"value\"}},\"legend\":{\"title\":{\"text\":\"variable\"},\"tracegroupgap\":0},\"title\":{\"text\":\"Obitos por Covid e Desemprego\"},\"barmode\":\"group\"},                        {\"responsive\": true}                    ).then(function(){\n",
              "                            \n",
              "var gd = document.getElementById('4a72d002-e684-4eb4-be9a-137a1a6e5589');\n",
              "var x = new MutationObserver(function (mutations, observer) {{\n",
              "        var display = window.getComputedStyle(gd).display;\n",
              "        if (!display || display === 'none') {{\n",
              "            console.log([gd, 'removed!']);\n",
              "            Plotly.purge(gd);\n",
              "            observer.disconnect();\n",
              "        }}\n",
              "}});\n",
              "\n",
              "// Listen for the removal of the full notebook cells\n",
              "var notebookContainer = gd.closest('#notebook-container');\n",
              "if (notebookContainer) {{\n",
              "    x.observe(notebookContainer, {childList: true});\n",
              "}}\n",
              "\n",
              "// Listen for the clearing of the current output cell\n",
              "var outputEl = gd.closest('.output');\n",
              "if (outputEl) {{\n",
              "    x.observe(outputEl, {childList: true});\n",
              "}}\n",
              "\n",
              "                        })                };                            </script>        </div>\n",
              "</body>\n",
              "</html>"
            ]
          },
          "metadata": {}
        },
        {
          "output_type": "display_data",
          "data": {
            "text/html": [
              "<html>\n",
              "<head><meta charset=\"utf-8\" /></head>\n",
              "<body>\n",
              "    <div>            <script src=\"https://cdnjs.cloudflare.com/ajax/libs/mathjax/2.7.5/MathJax.js?config=TeX-AMS-MML_SVG\"></script><script type=\"text/javascript\">if (window.MathJax) {MathJax.Hub.Config({SVG: {font: \"STIX-Web\"}});}</script>                <script type=\"text/javascript\">window.PlotlyConfig = {MathJaxConfig: 'local'};</script>\n",
              "        <script src=\"https://cdn.plot.ly/plotly-2.8.3.min.js\"></script>                <div id=\"5c2052fd-1c45-4dea-aa38-73346807d3e3\" class=\"plotly-graph-div\" style=\"height:525px; width:100%;\"></div>            <script type=\"text/javascript\">                                    window.PLOTLYENV=window.PLOTLYENV || {};                                    if (document.getElementById(\"5c2052fd-1c45-4dea-aa38-73346807d3e3\")) {                    Plotly.newPlot(                        \"5c2052fd-1c45-4dea-aa38-73346807d3e3\",                        [{\"alignmentgroup\":\"True\",\"hovertemplate\":\"Estados=%{x}<br>total_obitos_estados=%{marker.color}<extra></extra>\",\"legendgroup\":\"\",\"marker\":{\"color\":[23378,8199,9237,17507,2689,28902,4570,16716,196415,12187,17569,42446,11123,8668,66390,24301,34321,7854,28701,35142,10193,88566,13969,2552,13292,46868,2718],\"coloraxis\":\"coloraxis\",\"pattern\":{\"shape\":\"\"}},\"name\":\"\",\"offsetgroup\":\"\",\"orientation\":\"v\",\"showlegend\":false,\"textposition\":\"auto\",\"x\":[\"SC\",\"RO\",\"PI\",\"AM\",\"RR\",\"GO\",\"TO\",\"MT\",\"SP\",\"PB\",\"ES\",\"RS\",\"MS\",\"AL\",\"MG\",\"PA\",\"BA\",\"SE\",\"PE\",\"CE\",\"RN\",\"RJ\",\"MA\",\"AC\",\"DF\",\"PR\",\"AP\"],\"xaxis\":\"x\",\"y\":[23378,8199,9237,17507,2689,28902,4570,16716,196415,12187,17569,42446,11123,8668,66390,24301,34321,7854,28701,35142,10193,88566,13969,2552,13292,46868,2718],\"yaxis\":\"y\",\"type\":\"bar\"}],                        {\"template\":{\"data\":{\"bar\":[{\"error_x\":{\"color\":\"#2a3f5f\"},\"error_y\":{\"color\":\"#2a3f5f\"},\"marker\":{\"line\":{\"color\":\"#E5ECF6\",\"width\":0.5},\"pattern\":{\"fillmode\":\"overlay\",\"size\":10,\"solidity\":0.2}},\"type\":\"bar\"}],\"barpolar\":[{\"marker\":{\"line\":{\"color\":\"#E5ECF6\",\"width\":0.5},\"pattern\":{\"fillmode\":\"overlay\",\"size\":10,\"solidity\":0.2}},\"type\":\"barpolar\"}],\"carpet\":[{\"aaxis\":{\"endlinecolor\":\"#2a3f5f\",\"gridcolor\":\"white\",\"linecolor\":\"white\",\"minorgridcolor\":\"white\",\"startlinecolor\":\"#2a3f5f\"},\"baxis\":{\"endlinecolor\":\"#2a3f5f\",\"gridcolor\":\"white\",\"linecolor\":\"white\",\"minorgridcolor\":\"white\",\"startlinecolor\":\"#2a3f5f\"},\"type\":\"carpet\"}],\"choropleth\":[{\"colorbar\":{\"outlinewidth\":0,\"ticks\":\"\"},\"type\":\"choropleth\"}],\"contour\":[{\"colorbar\":{\"outlinewidth\":0,\"ticks\":\"\"},\"colorscale\":[[0.0,\"#0d0887\"],[0.1111111111111111,\"#46039f\"],[0.2222222222222222,\"#7201a8\"],[0.3333333333333333,\"#9c179e\"],[0.4444444444444444,\"#bd3786\"],[0.5555555555555556,\"#d8576b\"],[0.6666666666666666,\"#ed7953\"],[0.7777777777777778,\"#fb9f3a\"],[0.8888888888888888,\"#fdca26\"],[1.0,\"#f0f921\"]],\"type\":\"contour\"}],\"contourcarpet\":[{\"colorbar\":{\"outlinewidth\":0,\"ticks\":\"\"},\"type\":\"contourcarpet\"}],\"heatmap\":[{\"colorbar\":{\"outlinewidth\":0,\"ticks\":\"\"},\"colorscale\":[[0.0,\"#0d0887\"],[0.1111111111111111,\"#46039f\"],[0.2222222222222222,\"#7201a8\"],[0.3333333333333333,\"#9c179e\"],[0.4444444444444444,\"#bd3786\"],[0.5555555555555556,\"#d8576b\"],[0.6666666666666666,\"#ed7953\"],[0.7777777777777778,\"#fb9f3a\"],[0.8888888888888888,\"#fdca26\"],[1.0,\"#f0f921\"]],\"type\":\"heatmap\"}],\"heatmapgl\":[{\"colorbar\":{\"outlinewidth\":0,\"ticks\":\"\"},\"colorscale\":[[0.0,\"#0d0887\"],[0.1111111111111111,\"#46039f\"],[0.2222222222222222,\"#7201a8\"],[0.3333333333333333,\"#9c179e\"],[0.4444444444444444,\"#bd3786\"],[0.5555555555555556,\"#d8576b\"],[0.6666666666666666,\"#ed7953\"],[0.7777777777777778,\"#fb9f3a\"],[0.8888888888888888,\"#fdca26\"],[1.0,\"#f0f921\"]],\"type\":\"heatmapgl\"}],\"histogram\":[{\"marker\":{\"pattern\":{\"fillmode\":\"overlay\",\"size\":10,\"solidity\":0.2}},\"type\":\"histogram\"}],\"histogram2d\":[{\"colorbar\":{\"outlinewidth\":0,\"ticks\":\"\"},\"colorscale\":[[0.0,\"#0d0887\"],[0.1111111111111111,\"#46039f\"],[0.2222222222222222,\"#7201a8\"],[0.3333333333333333,\"#9c179e\"],[0.4444444444444444,\"#bd3786\"],[0.5555555555555556,\"#d8576b\"],[0.6666666666666666,\"#ed7953\"],[0.7777777777777778,\"#fb9f3a\"],[0.8888888888888888,\"#fdca26\"],[1.0,\"#f0f921\"]],\"type\":\"histogram2d\"}],\"histogram2dcontour\":[{\"colorbar\":{\"outlinewidth\":0,\"ticks\":\"\"},\"colorscale\":[[0.0,\"#0d0887\"],[0.1111111111111111,\"#46039f\"],[0.2222222222222222,\"#7201a8\"],[0.3333333333333333,\"#9c179e\"],[0.4444444444444444,\"#bd3786\"],[0.5555555555555556,\"#d8576b\"],[0.6666666666666666,\"#ed7953\"],[0.7777777777777778,\"#fb9f3a\"],[0.8888888888888888,\"#fdca26\"],[1.0,\"#f0f921\"]],\"type\":\"histogram2dcontour\"}],\"mesh3d\":[{\"colorbar\":{\"outlinewidth\":0,\"ticks\":\"\"},\"type\":\"mesh3d\"}],\"parcoords\":[{\"line\":{\"colorbar\":{\"outlinewidth\":0,\"ticks\":\"\"}},\"type\":\"parcoords\"}],\"pie\":[{\"automargin\":true,\"type\":\"pie\"}],\"scatter\":[{\"marker\":{\"colorbar\":{\"outlinewidth\":0,\"ticks\":\"\"}},\"type\":\"scatter\"}],\"scatter3d\":[{\"line\":{\"colorbar\":{\"outlinewidth\":0,\"ticks\":\"\"}},\"marker\":{\"colorbar\":{\"outlinewidth\":0,\"ticks\":\"\"}},\"type\":\"scatter3d\"}],\"scattercarpet\":[{\"marker\":{\"colorbar\":{\"outlinewidth\":0,\"ticks\":\"\"}},\"type\":\"scattercarpet\"}],\"scattergeo\":[{\"marker\":{\"colorbar\":{\"outlinewidth\":0,\"ticks\":\"\"}},\"type\":\"scattergeo\"}],\"scattergl\":[{\"marker\":{\"colorbar\":{\"outlinewidth\":0,\"ticks\":\"\"}},\"type\":\"scattergl\"}],\"scattermapbox\":[{\"marker\":{\"colorbar\":{\"outlinewidth\":0,\"ticks\":\"\"}},\"type\":\"scattermapbox\"}],\"scatterpolar\":[{\"marker\":{\"colorbar\":{\"outlinewidth\":0,\"ticks\":\"\"}},\"type\":\"scatterpolar\"}],\"scatterpolargl\":[{\"marker\":{\"colorbar\":{\"outlinewidth\":0,\"ticks\":\"\"}},\"type\":\"scatterpolargl\"}],\"scatterternary\":[{\"marker\":{\"colorbar\":{\"outlinewidth\":0,\"ticks\":\"\"}},\"type\":\"scatterternary\"}],\"surface\":[{\"colorbar\":{\"outlinewidth\":0,\"ticks\":\"\"},\"colorscale\":[[0.0,\"#0d0887\"],[0.1111111111111111,\"#46039f\"],[0.2222222222222222,\"#7201a8\"],[0.3333333333333333,\"#9c179e\"],[0.4444444444444444,\"#bd3786\"],[0.5555555555555556,\"#d8576b\"],[0.6666666666666666,\"#ed7953\"],[0.7777777777777778,\"#fb9f3a\"],[0.8888888888888888,\"#fdca26\"],[1.0,\"#f0f921\"]],\"type\":\"surface\"}],\"table\":[{\"cells\":{\"fill\":{\"color\":\"#EBF0F8\"},\"line\":{\"color\":\"white\"}},\"header\":{\"fill\":{\"color\":\"#C8D4E3\"},\"line\":{\"color\":\"white\"}},\"type\":\"table\"}]},\"layout\":{\"annotationdefaults\":{\"arrowcolor\":\"#2a3f5f\",\"arrowhead\":0,\"arrowwidth\":1},\"autotypenumbers\":\"strict\",\"coloraxis\":{\"colorbar\":{\"outlinewidth\":0,\"ticks\":\"\"}},\"colorscale\":{\"diverging\":[[0,\"#8e0152\"],[0.1,\"#c51b7d\"],[0.2,\"#de77ae\"],[0.3,\"#f1b6da\"],[0.4,\"#fde0ef\"],[0.5,\"#f7f7f7\"],[0.6,\"#e6f5d0\"],[0.7,\"#b8e186\"],[0.8,\"#7fbc41\"],[0.9,\"#4d9221\"],[1,\"#276419\"]],\"sequential\":[[0.0,\"#0d0887\"],[0.1111111111111111,\"#46039f\"],[0.2222222222222222,\"#7201a8\"],[0.3333333333333333,\"#9c179e\"],[0.4444444444444444,\"#bd3786\"],[0.5555555555555556,\"#d8576b\"],[0.6666666666666666,\"#ed7953\"],[0.7777777777777778,\"#fb9f3a\"],[0.8888888888888888,\"#fdca26\"],[1.0,\"#f0f921\"]],\"sequentialminus\":[[0.0,\"#0d0887\"],[0.1111111111111111,\"#46039f\"],[0.2222222222222222,\"#7201a8\"],[0.3333333333333333,\"#9c179e\"],[0.4444444444444444,\"#bd3786\"],[0.5555555555555556,\"#d8576b\"],[0.6666666666666666,\"#ed7953\"],[0.7777777777777778,\"#fb9f3a\"],[0.8888888888888888,\"#fdca26\"],[1.0,\"#f0f921\"]]},\"colorway\":[\"#636efa\",\"#EF553B\",\"#00cc96\",\"#ab63fa\",\"#FFA15A\",\"#19d3f3\",\"#FF6692\",\"#B6E880\",\"#FF97FF\",\"#FECB52\"],\"font\":{\"color\":\"#2a3f5f\"},\"geo\":{\"bgcolor\":\"white\",\"lakecolor\":\"white\",\"landcolor\":\"#E5ECF6\",\"showlakes\":true,\"showland\":true,\"subunitcolor\":\"white\"},\"hoverlabel\":{\"align\":\"left\"},\"hovermode\":\"closest\",\"mapbox\":{\"style\":\"light\"},\"paper_bgcolor\":\"white\",\"plot_bgcolor\":\"#E5ECF6\",\"polar\":{\"angularaxis\":{\"gridcolor\":\"white\",\"linecolor\":\"white\",\"ticks\":\"\"},\"bgcolor\":\"#E5ECF6\",\"radialaxis\":{\"gridcolor\":\"white\",\"linecolor\":\"white\",\"ticks\":\"\"}},\"scene\":{\"xaxis\":{\"backgroundcolor\":\"#E5ECF6\",\"gridcolor\":\"white\",\"gridwidth\":2,\"linecolor\":\"white\",\"showbackground\":true,\"ticks\":\"\",\"zerolinecolor\":\"white\"},\"yaxis\":{\"backgroundcolor\":\"#E5ECF6\",\"gridcolor\":\"white\",\"gridwidth\":2,\"linecolor\":\"white\",\"showbackground\":true,\"ticks\":\"\",\"zerolinecolor\":\"white\"},\"zaxis\":{\"backgroundcolor\":\"#E5ECF6\",\"gridcolor\":\"white\",\"gridwidth\":2,\"linecolor\":\"white\",\"showbackground\":true,\"ticks\":\"\",\"zerolinecolor\":\"white\"}},\"shapedefaults\":{\"line\":{\"color\":\"#2a3f5f\"}},\"ternary\":{\"aaxis\":{\"gridcolor\":\"white\",\"linecolor\":\"white\",\"ticks\":\"\"},\"baxis\":{\"gridcolor\":\"white\",\"linecolor\":\"white\",\"ticks\":\"\"},\"bgcolor\":\"#E5ECF6\",\"caxis\":{\"gridcolor\":\"white\",\"linecolor\":\"white\",\"ticks\":\"\"}},\"title\":{\"x\":0.05},\"xaxis\":{\"automargin\":true,\"gridcolor\":\"white\",\"linecolor\":\"white\",\"ticks\":\"\",\"title\":{\"standoff\":15},\"zerolinecolor\":\"white\",\"zerolinewidth\":2},\"yaxis\":{\"automargin\":true,\"gridcolor\":\"white\",\"linecolor\":\"white\",\"ticks\":\"\",\"title\":{\"standoff\":15},\"zerolinecolor\":\"white\",\"zerolinewidth\":2}}},\"xaxis\":{\"anchor\":\"y\",\"domain\":[0.0,1.0],\"title\":{\"text\":\"Estados\"}},\"yaxis\":{\"anchor\":\"x\",\"domain\":[0.0,1.0],\"title\":{\"text\":\"total_obitos_estados\"}},\"coloraxis\":{\"colorbar\":{\"title\":{\"text\":\"total_obitos_estados\"}},\"colorscale\":[[0.0,\"#0d0887\"],[0.1111111111111111,\"#46039f\"],[0.2222222222222222,\"#7201a8\"],[0.3333333333333333,\"#9c179e\"],[0.4444444444444444,\"#bd3786\"],[0.5555555555555556,\"#d8576b\"],[0.6666666666666666,\"#ed7953\"],[0.7777777777777778,\"#fb9f3a\"],[0.8888888888888888,\"#fdca26\"],[1.0,\"#f0f921\"]]},\"legend\":{\"tracegroupgap\":0},\"title\":{\"text\":\"Obitos por Covid\"},\"barmode\":\"group\"},                        {\"responsive\": true}                    ).then(function(){\n",
              "                            \n",
              "var gd = document.getElementById('5c2052fd-1c45-4dea-aa38-73346807d3e3');\n",
              "var x = new MutationObserver(function (mutations, observer) {{\n",
              "        var display = window.getComputedStyle(gd).display;\n",
              "        if (!display || display === 'none') {{\n",
              "            console.log([gd, 'removed!']);\n",
              "            Plotly.purge(gd);\n",
              "            observer.disconnect();\n",
              "        }}\n",
              "}});\n",
              "\n",
              "// Listen for the removal of the full notebook cells\n",
              "var notebookContainer = gd.closest('#notebook-container');\n",
              "if (notebookContainer) {{\n",
              "    x.observe(notebookContainer, {childList: true});\n",
              "}}\n",
              "\n",
              "// Listen for the clearing of the current output cell\n",
              "var outputEl = gd.closest('.output');\n",
              "if (outputEl) {{\n",
              "    x.observe(outputEl, {childList: true});\n",
              "}}\n",
              "\n",
              "                        })                };                            </script>        </div>\n",
              "</body>\n",
              "</html>"
            ]
          },
          "metadata": {}
        },
        {
          "output_type": "display_data",
          "data": {
            "text/html": [
              "<html>\n",
              "<head><meta charset=\"utf-8\" /></head>\n",
              "<body>\n",
              "    <div>            <script src=\"https://cdnjs.cloudflare.com/ajax/libs/mathjax/2.7.5/MathJax.js?config=TeX-AMS-MML_SVG\"></script><script type=\"text/javascript\">if (window.MathJax) {MathJax.Hub.Config({SVG: {font: \"STIX-Web\"}});}</script>                <script type=\"text/javascript\">window.PlotlyConfig = {MathJaxConfig: 'local'};</script>\n",
              "        <script src=\"https://cdn.plot.ly/plotly-2.8.3.min.js\"></script>                <div id=\"a4611405-2386-4f9f-8523-d92f1fc97cf4\" class=\"plotly-graph-div\" style=\"height:525px; width:100%;\"></div>            <script type=\"text/javascript\">                                    window.PLOTLYENV=window.PLOTLYENV || {};                                    if (document.getElementById(\"a4611405-2386-4f9f-8523-d92f1fc97cf4\")) {                    Plotly.newPlot(                        \"a4611405-2386-4f9f-8523-d92f1fc97cf4\",                        [{\"alignmentgroup\":\"True\",\"hovertemplate\":\"Estados=%{x}<br>1_trimestre_2020=%{marker.color}<extra></extra>\",\"legendgroup\":\"\",\"marker\":{\"color\":[223,76,202,279,42,434,84,158,3151,232,243,529,111,204,1320,417,1333,171,611,513,244,1313,431,47,228,487,67],\"coloraxis\":\"coloraxis\",\"pattern\":{\"shape\":\"\"}},\"name\":\"\",\"offsetgroup\":\"\",\"orientation\":\"v\",\"showlegend\":false,\"textposition\":\"auto\",\"x\":[\"SC\",\"RO\",\"PI\",\"AM\",\"RR\",\"GO\",\"TO\",\"MT\",\"SP\",\"PB\",\"ES\",\"RS\",\"MS\",\"AL\",\"MG\",\"PA\",\"BA\",\"SE\",\"PE\",\"CE\",\"RN\",\"RJ\",\"MA\",\"AC\",\"DF\",\"PR\",\"AP\"],\"xaxis\":\"x\",\"y\":[223,76,202,279,42,434,84,158,3151,232,243,529,111,204,1320,417,1333,171,611,513,244,1313,431,47,228,487,67],\"yaxis\":\"y\",\"type\":\"bar\"}],                        {\"template\":{\"data\":{\"bar\":[{\"error_x\":{\"color\":\"#2a3f5f\"},\"error_y\":{\"color\":\"#2a3f5f\"},\"marker\":{\"line\":{\"color\":\"#E5ECF6\",\"width\":0.5},\"pattern\":{\"fillmode\":\"overlay\",\"size\":10,\"solidity\":0.2}},\"type\":\"bar\"}],\"barpolar\":[{\"marker\":{\"line\":{\"color\":\"#E5ECF6\",\"width\":0.5},\"pattern\":{\"fillmode\":\"overlay\",\"size\":10,\"solidity\":0.2}},\"type\":\"barpolar\"}],\"carpet\":[{\"aaxis\":{\"endlinecolor\":\"#2a3f5f\",\"gridcolor\":\"white\",\"linecolor\":\"white\",\"minorgridcolor\":\"white\",\"startlinecolor\":\"#2a3f5f\"},\"baxis\":{\"endlinecolor\":\"#2a3f5f\",\"gridcolor\":\"white\",\"linecolor\":\"white\",\"minorgridcolor\":\"white\",\"startlinecolor\":\"#2a3f5f\"},\"type\":\"carpet\"}],\"choropleth\":[{\"colorbar\":{\"outlinewidth\":0,\"ticks\":\"\"},\"type\":\"choropleth\"}],\"contour\":[{\"colorbar\":{\"outlinewidth\":0,\"ticks\":\"\"},\"colorscale\":[[0.0,\"#0d0887\"],[0.1111111111111111,\"#46039f\"],[0.2222222222222222,\"#7201a8\"],[0.3333333333333333,\"#9c179e\"],[0.4444444444444444,\"#bd3786\"],[0.5555555555555556,\"#d8576b\"],[0.6666666666666666,\"#ed7953\"],[0.7777777777777778,\"#fb9f3a\"],[0.8888888888888888,\"#fdca26\"],[1.0,\"#f0f921\"]],\"type\":\"contour\"}],\"contourcarpet\":[{\"colorbar\":{\"outlinewidth\":0,\"ticks\":\"\"},\"type\":\"contourcarpet\"}],\"heatmap\":[{\"colorbar\":{\"outlinewidth\":0,\"ticks\":\"\"},\"colorscale\":[[0.0,\"#0d0887\"],[0.1111111111111111,\"#46039f\"],[0.2222222222222222,\"#7201a8\"],[0.3333333333333333,\"#9c179e\"],[0.4444444444444444,\"#bd3786\"],[0.5555555555555556,\"#d8576b\"],[0.6666666666666666,\"#ed7953\"],[0.7777777777777778,\"#fb9f3a\"],[0.8888888888888888,\"#fdca26\"],[1.0,\"#f0f921\"]],\"type\":\"heatmap\"}],\"heatmapgl\":[{\"colorbar\":{\"outlinewidth\":0,\"ticks\":\"\"},\"colorscale\":[[0.0,\"#0d0887\"],[0.1111111111111111,\"#46039f\"],[0.2222222222222222,\"#7201a8\"],[0.3333333333333333,\"#9c179e\"],[0.4444444444444444,\"#bd3786\"],[0.5555555555555556,\"#d8576b\"],[0.6666666666666666,\"#ed7953\"],[0.7777777777777778,\"#fb9f3a\"],[0.8888888888888888,\"#fdca26\"],[1.0,\"#f0f921\"]],\"type\":\"heatmapgl\"}],\"histogram\":[{\"marker\":{\"pattern\":{\"fillmode\":\"overlay\",\"size\":10,\"solidity\":0.2}},\"type\":\"histogram\"}],\"histogram2d\":[{\"colorbar\":{\"outlinewidth\":0,\"ticks\":\"\"},\"colorscale\":[[0.0,\"#0d0887\"],[0.1111111111111111,\"#46039f\"],[0.2222222222222222,\"#7201a8\"],[0.3333333333333333,\"#9c179e\"],[0.4444444444444444,\"#bd3786\"],[0.5555555555555556,\"#d8576b\"],[0.6666666666666666,\"#ed7953\"],[0.7777777777777778,\"#fb9f3a\"],[0.8888888888888888,\"#fdca26\"],[1.0,\"#f0f921\"]],\"type\":\"histogram2d\"}],\"histogram2dcontour\":[{\"colorbar\":{\"outlinewidth\":0,\"ticks\":\"\"},\"colorscale\":[[0.0,\"#0d0887\"],[0.1111111111111111,\"#46039f\"],[0.2222222222222222,\"#7201a8\"],[0.3333333333333333,\"#9c179e\"],[0.4444444444444444,\"#bd3786\"],[0.5555555555555556,\"#d8576b\"],[0.6666666666666666,\"#ed7953\"],[0.7777777777777778,\"#fb9f3a\"],[0.8888888888888888,\"#fdca26\"],[1.0,\"#f0f921\"]],\"type\":\"histogram2dcontour\"}],\"mesh3d\":[{\"colorbar\":{\"outlinewidth\":0,\"ticks\":\"\"},\"type\":\"mesh3d\"}],\"parcoords\":[{\"line\":{\"colorbar\":{\"outlinewidth\":0,\"ticks\":\"\"}},\"type\":\"parcoords\"}],\"pie\":[{\"automargin\":true,\"type\":\"pie\"}],\"scatter\":[{\"marker\":{\"colorbar\":{\"outlinewidth\":0,\"ticks\":\"\"}},\"type\":\"scatter\"}],\"scatter3d\":[{\"line\":{\"colorbar\":{\"outlinewidth\":0,\"ticks\":\"\"}},\"marker\":{\"colorbar\":{\"outlinewidth\":0,\"ticks\":\"\"}},\"type\":\"scatter3d\"}],\"scattercarpet\":[{\"marker\":{\"colorbar\":{\"outlinewidth\":0,\"ticks\":\"\"}},\"type\":\"scattercarpet\"}],\"scattergeo\":[{\"marker\":{\"colorbar\":{\"outlinewidth\":0,\"ticks\":\"\"}},\"type\":\"scattergeo\"}],\"scattergl\":[{\"marker\":{\"colorbar\":{\"outlinewidth\":0,\"ticks\":\"\"}},\"type\":\"scattergl\"}],\"scattermapbox\":[{\"marker\":{\"colorbar\":{\"outlinewidth\":0,\"ticks\":\"\"}},\"type\":\"scattermapbox\"}],\"scatterpolar\":[{\"marker\":{\"colorbar\":{\"outlinewidth\":0,\"ticks\":\"\"}},\"type\":\"scatterpolar\"}],\"scatterpolargl\":[{\"marker\":{\"colorbar\":{\"outlinewidth\":0,\"ticks\":\"\"}},\"type\":\"scatterpolargl\"}],\"scatterternary\":[{\"marker\":{\"colorbar\":{\"outlinewidth\":0,\"ticks\":\"\"}},\"type\":\"scatterternary\"}],\"surface\":[{\"colorbar\":{\"outlinewidth\":0,\"ticks\":\"\"},\"colorscale\":[[0.0,\"#0d0887\"],[0.1111111111111111,\"#46039f\"],[0.2222222222222222,\"#7201a8\"],[0.3333333333333333,\"#9c179e\"],[0.4444444444444444,\"#bd3786\"],[0.5555555555555556,\"#d8576b\"],[0.6666666666666666,\"#ed7953\"],[0.7777777777777778,\"#fb9f3a\"],[0.8888888888888888,\"#fdca26\"],[1.0,\"#f0f921\"]],\"type\":\"surface\"}],\"table\":[{\"cells\":{\"fill\":{\"color\":\"#EBF0F8\"},\"line\":{\"color\":\"white\"}},\"header\":{\"fill\":{\"color\":\"#C8D4E3\"},\"line\":{\"color\":\"white\"}},\"type\":\"table\"}]},\"layout\":{\"annotationdefaults\":{\"arrowcolor\":\"#2a3f5f\",\"arrowhead\":0,\"arrowwidth\":1},\"autotypenumbers\":\"strict\",\"coloraxis\":{\"colorbar\":{\"outlinewidth\":0,\"ticks\":\"\"}},\"colorscale\":{\"diverging\":[[0,\"#8e0152\"],[0.1,\"#c51b7d\"],[0.2,\"#de77ae\"],[0.3,\"#f1b6da\"],[0.4,\"#fde0ef\"],[0.5,\"#f7f7f7\"],[0.6,\"#e6f5d0\"],[0.7,\"#b8e186\"],[0.8,\"#7fbc41\"],[0.9,\"#4d9221\"],[1,\"#276419\"]],\"sequential\":[[0.0,\"#0d0887\"],[0.1111111111111111,\"#46039f\"],[0.2222222222222222,\"#7201a8\"],[0.3333333333333333,\"#9c179e\"],[0.4444444444444444,\"#bd3786\"],[0.5555555555555556,\"#d8576b\"],[0.6666666666666666,\"#ed7953\"],[0.7777777777777778,\"#fb9f3a\"],[0.8888888888888888,\"#fdca26\"],[1.0,\"#f0f921\"]],\"sequentialminus\":[[0.0,\"#0d0887\"],[0.1111111111111111,\"#46039f\"],[0.2222222222222222,\"#7201a8\"],[0.3333333333333333,\"#9c179e\"],[0.4444444444444444,\"#bd3786\"],[0.5555555555555556,\"#d8576b\"],[0.6666666666666666,\"#ed7953\"],[0.7777777777777778,\"#fb9f3a\"],[0.8888888888888888,\"#fdca26\"],[1.0,\"#f0f921\"]]},\"colorway\":[\"#636efa\",\"#EF553B\",\"#00cc96\",\"#ab63fa\",\"#FFA15A\",\"#19d3f3\",\"#FF6692\",\"#B6E880\",\"#FF97FF\",\"#FECB52\"],\"font\":{\"color\":\"#2a3f5f\"},\"geo\":{\"bgcolor\":\"white\",\"lakecolor\":\"white\",\"landcolor\":\"#E5ECF6\",\"showlakes\":true,\"showland\":true,\"subunitcolor\":\"white\"},\"hoverlabel\":{\"align\":\"left\"},\"hovermode\":\"closest\",\"mapbox\":{\"style\":\"light\"},\"paper_bgcolor\":\"white\",\"plot_bgcolor\":\"#E5ECF6\",\"polar\":{\"angularaxis\":{\"gridcolor\":\"white\",\"linecolor\":\"white\",\"ticks\":\"\"},\"bgcolor\":\"#E5ECF6\",\"radialaxis\":{\"gridcolor\":\"white\",\"linecolor\":\"white\",\"ticks\":\"\"}},\"scene\":{\"xaxis\":{\"backgroundcolor\":\"#E5ECF6\",\"gridcolor\":\"white\",\"gridwidth\":2,\"linecolor\":\"white\",\"showbackground\":true,\"ticks\":\"\",\"zerolinecolor\":\"white\"},\"yaxis\":{\"backgroundcolor\":\"#E5ECF6\",\"gridcolor\":\"white\",\"gridwidth\":2,\"linecolor\":\"white\",\"showbackground\":true,\"ticks\":\"\",\"zerolinecolor\":\"white\"},\"zaxis\":{\"backgroundcolor\":\"#E5ECF6\",\"gridcolor\":\"white\",\"gridwidth\":2,\"linecolor\":\"white\",\"showbackground\":true,\"ticks\":\"\",\"zerolinecolor\":\"white\"}},\"shapedefaults\":{\"line\":{\"color\":\"#2a3f5f\"}},\"ternary\":{\"aaxis\":{\"gridcolor\":\"white\",\"linecolor\":\"white\",\"ticks\":\"\"},\"baxis\":{\"gridcolor\":\"white\",\"linecolor\":\"white\",\"ticks\":\"\"},\"bgcolor\":\"#E5ECF6\",\"caxis\":{\"gridcolor\":\"white\",\"linecolor\":\"white\",\"ticks\":\"\"}},\"title\":{\"x\":0.05},\"xaxis\":{\"automargin\":true,\"gridcolor\":\"white\",\"linecolor\":\"white\",\"ticks\":\"\",\"title\":{\"standoff\":15},\"zerolinecolor\":\"white\",\"zerolinewidth\":2},\"yaxis\":{\"automargin\":true,\"gridcolor\":\"white\",\"linecolor\":\"white\",\"ticks\":\"\",\"title\":{\"standoff\":15},\"zerolinecolor\":\"white\",\"zerolinewidth\":2}}},\"xaxis\":{\"anchor\":\"y\",\"domain\":[0.0,1.0],\"title\":{\"text\":\"Estados\"}},\"yaxis\":{\"anchor\":\"x\",\"domain\":[0.0,1.0],\"title\":{\"text\":\"1_trimestre_2020\"}},\"coloraxis\":{\"colorbar\":{\"title\":{\"text\":\"1_trimestre_2020\"}},\"colorscale\":[[0.0,\"#0d0887\"],[0.1111111111111111,\"#46039f\"],[0.2222222222222222,\"#7201a8\"],[0.3333333333333333,\"#9c179e\"],[0.4444444444444444,\"#bd3786\"],[0.5555555555555556,\"#d8576b\"],[0.6666666666666666,\"#ed7953\"],[0.7777777777777778,\"#fb9f3a\"],[0.8888888888888888,\"#fdca26\"],[1.0,\"#f0f921\"]]},\"legend\":{\"tracegroupgap\":0},\"title\":{\"text\":\"Desemprego no primeiro trimestre de 2020\"},\"barmode\":\"group\"},                        {\"responsive\": true}                    ).then(function(){\n",
              "                            \n",
              "var gd = document.getElementById('a4611405-2386-4f9f-8523-d92f1fc97cf4');\n",
              "var x = new MutationObserver(function (mutations, observer) {{\n",
              "        var display = window.getComputedStyle(gd).display;\n",
              "        if (!display || display === 'none') {{\n",
              "            console.log([gd, 'removed!']);\n",
              "            Plotly.purge(gd);\n",
              "            observer.disconnect();\n",
              "        }}\n",
              "}});\n",
              "\n",
              "// Listen for the removal of the full notebook cells\n",
              "var notebookContainer = gd.closest('#notebook-container');\n",
              "if (notebookContainer) {{\n",
              "    x.observe(notebookContainer, {childList: true});\n",
              "}}\n",
              "\n",
              "// Listen for the clearing of the current output cell\n",
              "var outputEl = gd.closest('.output');\n",
              "if (outputEl) {{\n",
              "    x.observe(outputEl, {childList: true});\n",
              "}}\n",
              "\n",
              "                        })                };                            </script>        </div>\n",
              "</body>\n",
              "</html>"
            ]
          },
          "metadata": {}
        },
        {
          "output_type": "display_data",
          "data": {
            "text/html": [
              "<html>\n",
              "<head><meta charset=\"utf-8\" /></head>\n",
              "<body>\n",
              "    <div>            <script src=\"https://cdnjs.cloudflare.com/ajax/libs/mathjax/2.7.5/MathJax.js?config=TeX-AMS-MML_SVG\"></script><script type=\"text/javascript\">if (window.MathJax) {MathJax.Hub.Config({SVG: {font: \"STIX-Web\"}});}</script>                <script type=\"text/javascript\">window.PlotlyConfig = {MathJaxConfig: 'local'};</script>\n",
              "        <script src=\"https://cdn.plot.ly/plotly-2.8.3.min.js\"></script>                <div id=\"aee60af6-edf0-4694-90ef-97575ac1f35c\" class=\"plotly-graph-div\" style=\"height:525px; width:100%;\"></div>            <script type=\"text/javascript\">                                    window.PLOTLYENV=window.PLOTLYENV || {};                                    if (document.getElementById(\"aee60af6-edf0-4694-90ef-97575ac1f35c\")) {                    Plotly.newPlot(                        \"aee60af6-edf0-4694-90ef-97575ac1f35c\",                        [{\"alignmentgroup\":\"True\",\"hovertemplate\":\"Estados=%{x}<br>2_trimestre_2022=%{marker.color}<extra></extra>\",\"legendgroup\":\"\",\"marker\":{\"color\":[160,52,135,203,16,270,43,82,2404,203,174,387,75,149,828,377,1104,140,578,412,188,1130,299,45,205,374,48],\"coloraxis\":\"coloraxis\",\"pattern\":{\"shape\":\"\"}},\"name\":\"\",\"offsetgroup\":\"\",\"orientation\":\"v\",\"showlegend\":false,\"textposition\":\"auto\",\"x\":[\"SC\",\"RO\",\"PI\",\"AM\",\"RR\",\"GO\",\"TO\",\"MT\",\"SP\",\"PB\",\"ES\",\"RS\",\"MS\",\"AL\",\"MG\",\"PA\",\"BA\",\"SE\",\"PE\",\"CE\",\"RN\",\"RJ\",\"MA\",\"AC\",\"DF\",\"PR\",\"AP\"],\"xaxis\":\"x\",\"y\":[160,52,135,203,16,270,43,82,2404,203,174,387,75,149,828,377,1104,140,578,412,188,1130,299,45,205,374,48],\"yaxis\":\"y\",\"type\":\"bar\"}],                        {\"template\":{\"data\":{\"bar\":[{\"error_x\":{\"color\":\"#2a3f5f\"},\"error_y\":{\"color\":\"#2a3f5f\"},\"marker\":{\"line\":{\"color\":\"#E5ECF6\",\"width\":0.5},\"pattern\":{\"fillmode\":\"overlay\",\"size\":10,\"solidity\":0.2}},\"type\":\"bar\"}],\"barpolar\":[{\"marker\":{\"line\":{\"color\":\"#E5ECF6\",\"width\":0.5},\"pattern\":{\"fillmode\":\"overlay\",\"size\":10,\"solidity\":0.2}},\"type\":\"barpolar\"}],\"carpet\":[{\"aaxis\":{\"endlinecolor\":\"#2a3f5f\",\"gridcolor\":\"white\",\"linecolor\":\"white\",\"minorgridcolor\":\"white\",\"startlinecolor\":\"#2a3f5f\"},\"baxis\":{\"endlinecolor\":\"#2a3f5f\",\"gridcolor\":\"white\",\"linecolor\":\"white\",\"minorgridcolor\":\"white\",\"startlinecolor\":\"#2a3f5f\"},\"type\":\"carpet\"}],\"choropleth\":[{\"colorbar\":{\"outlinewidth\":0,\"ticks\":\"\"},\"type\":\"choropleth\"}],\"contour\":[{\"colorbar\":{\"outlinewidth\":0,\"ticks\":\"\"},\"colorscale\":[[0.0,\"#0d0887\"],[0.1111111111111111,\"#46039f\"],[0.2222222222222222,\"#7201a8\"],[0.3333333333333333,\"#9c179e\"],[0.4444444444444444,\"#bd3786\"],[0.5555555555555556,\"#d8576b\"],[0.6666666666666666,\"#ed7953\"],[0.7777777777777778,\"#fb9f3a\"],[0.8888888888888888,\"#fdca26\"],[1.0,\"#f0f921\"]],\"type\":\"contour\"}],\"contourcarpet\":[{\"colorbar\":{\"outlinewidth\":0,\"ticks\":\"\"},\"type\":\"contourcarpet\"}],\"heatmap\":[{\"colorbar\":{\"outlinewidth\":0,\"ticks\":\"\"},\"colorscale\":[[0.0,\"#0d0887\"],[0.1111111111111111,\"#46039f\"],[0.2222222222222222,\"#7201a8\"],[0.3333333333333333,\"#9c179e\"],[0.4444444444444444,\"#bd3786\"],[0.5555555555555556,\"#d8576b\"],[0.6666666666666666,\"#ed7953\"],[0.7777777777777778,\"#fb9f3a\"],[0.8888888888888888,\"#fdca26\"],[1.0,\"#f0f921\"]],\"type\":\"heatmap\"}],\"heatmapgl\":[{\"colorbar\":{\"outlinewidth\":0,\"ticks\":\"\"},\"colorscale\":[[0.0,\"#0d0887\"],[0.1111111111111111,\"#46039f\"],[0.2222222222222222,\"#7201a8\"],[0.3333333333333333,\"#9c179e\"],[0.4444444444444444,\"#bd3786\"],[0.5555555555555556,\"#d8576b\"],[0.6666666666666666,\"#ed7953\"],[0.7777777777777778,\"#fb9f3a\"],[0.8888888888888888,\"#fdca26\"],[1.0,\"#f0f921\"]],\"type\":\"heatmapgl\"}],\"histogram\":[{\"marker\":{\"pattern\":{\"fillmode\":\"overlay\",\"size\":10,\"solidity\":0.2}},\"type\":\"histogram\"}],\"histogram2d\":[{\"colorbar\":{\"outlinewidth\":0,\"ticks\":\"\"},\"colorscale\":[[0.0,\"#0d0887\"],[0.1111111111111111,\"#46039f\"],[0.2222222222222222,\"#7201a8\"],[0.3333333333333333,\"#9c179e\"],[0.4444444444444444,\"#bd3786\"],[0.5555555555555556,\"#d8576b\"],[0.6666666666666666,\"#ed7953\"],[0.7777777777777778,\"#fb9f3a\"],[0.8888888888888888,\"#fdca26\"],[1.0,\"#f0f921\"]],\"type\":\"histogram2d\"}],\"histogram2dcontour\":[{\"colorbar\":{\"outlinewidth\":0,\"ticks\":\"\"},\"colorscale\":[[0.0,\"#0d0887\"],[0.1111111111111111,\"#46039f\"],[0.2222222222222222,\"#7201a8\"],[0.3333333333333333,\"#9c179e\"],[0.4444444444444444,\"#bd3786\"],[0.5555555555555556,\"#d8576b\"],[0.6666666666666666,\"#ed7953\"],[0.7777777777777778,\"#fb9f3a\"],[0.8888888888888888,\"#fdca26\"],[1.0,\"#f0f921\"]],\"type\":\"histogram2dcontour\"}],\"mesh3d\":[{\"colorbar\":{\"outlinewidth\":0,\"ticks\":\"\"},\"type\":\"mesh3d\"}],\"parcoords\":[{\"line\":{\"colorbar\":{\"outlinewidth\":0,\"ticks\":\"\"}},\"type\":\"parcoords\"}],\"pie\":[{\"automargin\":true,\"type\":\"pie\"}],\"scatter\":[{\"marker\":{\"colorbar\":{\"outlinewidth\":0,\"ticks\":\"\"}},\"type\":\"scatter\"}],\"scatter3d\":[{\"line\":{\"colorbar\":{\"outlinewidth\":0,\"ticks\":\"\"}},\"marker\":{\"colorbar\":{\"outlinewidth\":0,\"ticks\":\"\"}},\"type\":\"scatter3d\"}],\"scattercarpet\":[{\"marker\":{\"colorbar\":{\"outlinewidth\":0,\"ticks\":\"\"}},\"type\":\"scattercarpet\"}],\"scattergeo\":[{\"marker\":{\"colorbar\":{\"outlinewidth\":0,\"ticks\":\"\"}},\"type\":\"scattergeo\"}],\"scattergl\":[{\"marker\":{\"colorbar\":{\"outlinewidth\":0,\"ticks\":\"\"}},\"type\":\"scattergl\"}],\"scattermapbox\":[{\"marker\":{\"colorbar\":{\"outlinewidth\":0,\"ticks\":\"\"}},\"type\":\"scattermapbox\"}],\"scatterpolar\":[{\"marker\":{\"colorbar\":{\"outlinewidth\":0,\"ticks\":\"\"}},\"type\":\"scatterpolar\"}],\"scatterpolargl\":[{\"marker\":{\"colorbar\":{\"outlinewidth\":0,\"ticks\":\"\"}},\"type\":\"scatterpolargl\"}],\"scatterternary\":[{\"marker\":{\"colorbar\":{\"outlinewidth\":0,\"ticks\":\"\"}},\"type\":\"scatterternary\"}],\"surface\":[{\"colorbar\":{\"outlinewidth\":0,\"ticks\":\"\"},\"colorscale\":[[0.0,\"#0d0887\"],[0.1111111111111111,\"#46039f\"],[0.2222222222222222,\"#7201a8\"],[0.3333333333333333,\"#9c179e\"],[0.4444444444444444,\"#bd3786\"],[0.5555555555555556,\"#d8576b\"],[0.6666666666666666,\"#ed7953\"],[0.7777777777777778,\"#fb9f3a\"],[0.8888888888888888,\"#fdca26\"],[1.0,\"#f0f921\"]],\"type\":\"surface\"}],\"table\":[{\"cells\":{\"fill\":{\"color\":\"#EBF0F8\"},\"line\":{\"color\":\"white\"}},\"header\":{\"fill\":{\"color\":\"#C8D4E3\"},\"line\":{\"color\":\"white\"}},\"type\":\"table\"}]},\"layout\":{\"annotationdefaults\":{\"arrowcolor\":\"#2a3f5f\",\"arrowhead\":0,\"arrowwidth\":1},\"autotypenumbers\":\"strict\",\"coloraxis\":{\"colorbar\":{\"outlinewidth\":0,\"ticks\":\"\"}},\"colorscale\":{\"diverging\":[[0,\"#8e0152\"],[0.1,\"#c51b7d\"],[0.2,\"#de77ae\"],[0.3,\"#f1b6da\"],[0.4,\"#fde0ef\"],[0.5,\"#f7f7f7\"],[0.6,\"#e6f5d0\"],[0.7,\"#b8e186\"],[0.8,\"#7fbc41\"],[0.9,\"#4d9221\"],[1,\"#276419\"]],\"sequential\":[[0.0,\"#0d0887\"],[0.1111111111111111,\"#46039f\"],[0.2222222222222222,\"#7201a8\"],[0.3333333333333333,\"#9c179e\"],[0.4444444444444444,\"#bd3786\"],[0.5555555555555556,\"#d8576b\"],[0.6666666666666666,\"#ed7953\"],[0.7777777777777778,\"#fb9f3a\"],[0.8888888888888888,\"#fdca26\"],[1.0,\"#f0f921\"]],\"sequentialminus\":[[0.0,\"#0d0887\"],[0.1111111111111111,\"#46039f\"],[0.2222222222222222,\"#7201a8\"],[0.3333333333333333,\"#9c179e\"],[0.4444444444444444,\"#bd3786\"],[0.5555555555555556,\"#d8576b\"],[0.6666666666666666,\"#ed7953\"],[0.7777777777777778,\"#fb9f3a\"],[0.8888888888888888,\"#fdca26\"],[1.0,\"#f0f921\"]]},\"colorway\":[\"#636efa\",\"#EF553B\",\"#00cc96\",\"#ab63fa\",\"#FFA15A\",\"#19d3f3\",\"#FF6692\",\"#B6E880\",\"#FF97FF\",\"#FECB52\"],\"font\":{\"color\":\"#2a3f5f\"},\"geo\":{\"bgcolor\":\"white\",\"lakecolor\":\"white\",\"landcolor\":\"#E5ECF6\",\"showlakes\":true,\"showland\":true,\"subunitcolor\":\"white\"},\"hoverlabel\":{\"align\":\"left\"},\"hovermode\":\"closest\",\"mapbox\":{\"style\":\"light\"},\"paper_bgcolor\":\"white\",\"plot_bgcolor\":\"#E5ECF6\",\"polar\":{\"angularaxis\":{\"gridcolor\":\"white\",\"linecolor\":\"white\",\"ticks\":\"\"},\"bgcolor\":\"#E5ECF6\",\"radialaxis\":{\"gridcolor\":\"white\",\"linecolor\":\"white\",\"ticks\":\"\"}},\"scene\":{\"xaxis\":{\"backgroundcolor\":\"#E5ECF6\",\"gridcolor\":\"white\",\"gridwidth\":2,\"linecolor\":\"white\",\"showbackground\":true,\"ticks\":\"\",\"zerolinecolor\":\"white\"},\"yaxis\":{\"backgroundcolor\":\"#E5ECF6\",\"gridcolor\":\"white\",\"gridwidth\":2,\"linecolor\":\"white\",\"showbackground\":true,\"ticks\":\"\",\"zerolinecolor\":\"white\"},\"zaxis\":{\"backgroundcolor\":\"#E5ECF6\",\"gridcolor\":\"white\",\"gridwidth\":2,\"linecolor\":\"white\",\"showbackground\":true,\"ticks\":\"\",\"zerolinecolor\":\"white\"}},\"shapedefaults\":{\"line\":{\"color\":\"#2a3f5f\"}},\"ternary\":{\"aaxis\":{\"gridcolor\":\"white\",\"linecolor\":\"white\",\"ticks\":\"\"},\"baxis\":{\"gridcolor\":\"white\",\"linecolor\":\"white\",\"ticks\":\"\"},\"bgcolor\":\"#E5ECF6\",\"caxis\":{\"gridcolor\":\"white\",\"linecolor\":\"white\",\"ticks\":\"\"}},\"title\":{\"x\":0.05},\"xaxis\":{\"automargin\":true,\"gridcolor\":\"white\",\"linecolor\":\"white\",\"ticks\":\"\",\"title\":{\"standoff\":15},\"zerolinecolor\":\"white\",\"zerolinewidth\":2},\"yaxis\":{\"automargin\":true,\"gridcolor\":\"white\",\"linecolor\":\"white\",\"ticks\":\"\",\"title\":{\"standoff\":15},\"zerolinecolor\":\"white\",\"zerolinewidth\":2}}},\"xaxis\":{\"anchor\":\"y\",\"domain\":[0.0,1.0],\"title\":{\"text\":\"Estados\"}},\"yaxis\":{\"anchor\":\"x\",\"domain\":[0.0,1.0],\"title\":{\"text\":\"2_trimestre_2022\"}},\"coloraxis\":{\"colorbar\":{\"title\":{\"text\":\"2_trimestre_2022\"}},\"colorscale\":[[0.0,\"#0d0887\"],[0.1111111111111111,\"#46039f\"],[0.2222222222222222,\"#7201a8\"],[0.3333333333333333,\"#9c179e\"],[0.4444444444444444,\"#bd3786\"],[0.5555555555555556,\"#d8576b\"],[0.6666666666666666,\"#ed7953\"],[0.7777777777777778,\"#fb9f3a\"],[0.8888888888888888,\"#fdca26\"],[1.0,\"#f0f921\"]]},\"legend\":{\"tracegroupgap\":0},\"title\":{\"text\":\"Desemprego no segundo trimestre de 2022\"},\"barmode\":\"group\"},                        {\"responsive\": true}                    ).then(function(){\n",
              "                            \n",
              "var gd = document.getElementById('aee60af6-edf0-4694-90ef-97575ac1f35c');\n",
              "var x = new MutationObserver(function (mutations, observer) {{\n",
              "        var display = window.getComputedStyle(gd).display;\n",
              "        if (!display || display === 'none') {{\n",
              "            console.log([gd, 'removed!']);\n",
              "            Plotly.purge(gd);\n",
              "            observer.disconnect();\n",
              "        }}\n",
              "}});\n",
              "\n",
              "// Listen for the removal of the full notebook cells\n",
              "var notebookContainer = gd.closest('#notebook-container');\n",
              "if (notebookContainer) {{\n",
              "    x.observe(notebookContainer, {childList: true});\n",
              "}}\n",
              "\n",
              "// Listen for the clearing of the current output cell\n",
              "var outputEl = gd.closest('.output');\n",
              "if (outputEl) {{\n",
              "    x.observe(outputEl, {childList: true});\n",
              "}}\n",
              "\n",
              "                        })                };                            </script>        </div>\n",
              "</body>\n",
              "</html>"
            ]
          },
          "metadata": {}
        }
      ],
      "source": [
        "to_plot = [v for v in list(graf.columns)]\n",
        "\n",
        "fig_graf_desemprego_covid = px.bar(graf, x=graf.Estados, y=to_plot,\\\n",
        "                                   barmode=\"group\",\\\n",
        "                                   text_auto='.2s',\\\n",
        "                                   title=\"Obitos por Covid e Desemprego\")\n",
        "             \n",
        "fig_graf_desemprego_covid.show()\n",
        "\n",
        "\n",
        "graf_desemprego_covid = px.bar(graf, x='Estados', y=\"total_obitos_estados\",\\\n",
        "                               barmode=\"group\",\\\n",
        "                               color=\"total_obitos_estados\",\\\n",
        "                               title=\"Obitos por Covid\")\n",
        "graf_desemprego_covidx = px.bar(graf, x='Estados', y=\"1_trimestre_2020\",\\\n",
        "                                barmode=\"group\",\\\n",
        "                                color=\"1_trimestre_2020\",\\\n",
        "                                title=\"Desemprego no primeiro trimestre de 2020\")\n",
        "graf_desemprego_covidxx = px.bar(graf, x='Estados', y=\"2_trimestre_2022\",\\\n",
        "                                 barmode=\"group\",\\\n",
        "                                 color=\"2_trimestre_2022\",\\\n",
        "                                 title=\"Desemprego no segundo trimestre de 2022\")\n",
        "graf_desemprego_covid.show()\n",
        "graf_desemprego_covidx.show()\n",
        "graf_desemprego_covidxx.show()"
      ]
    },
    {
      "cell_type": "markdown",
      "metadata": {
        "id": "e2M6qeW-z0-4"
      },
      "source": [
        "#### Importação da tabela de educação no Brasil referente aos anos de 2016,2017 e 2018, devido não encontrar dados mais rescentes\n",
        "\n",
        "\n"
      ]
    },
    {
      "cell_type": "code",
      "execution_count": 57,
      "metadata": {
        "id": "PA3zk8t70HSD"
      },
      "outputs": [],
      "source": [
        "educacao = spark.read.format('csv')\\\n",
        "                     .options(header='true',\\\n",
        "                              inferschema='true')\\\n",
        "                .load(f'{caminho_local}/educacao.csv',header=True)"
      ]
    },
    {
      "cell_type": "code",
      "execution_count": 58,
      "metadata": {
        "id": "dM8EHvyZ2anB",
        "colab": {
          "base_uri": "https://localhost:8080/"
        },
        "outputId": "a213e524-3065-4f4d-a4b0-4e7586a075c5"
      },
      "outputs": [
        {
          "output_type": "stream",
          "name": "stdout",
          "text": [
            "+--------------------+--------------------+--------------------+--------------------+---------+----------------------+---------------+----+----+----+\n",
            "|           Indicador|   Nível_Territorial|Abertura_Territorial|Variável_de_abertura|Categoria|Variável_de_abertura_2|    Categoria_2|2016|2017|2018|\n",
            "+--------------------+--------------------+--------------------+--------------------+---------+----------------------+---------------+----+----+----+\n",
            "|Taxa de analfabet...|Unidade da Federação|            Rondônia|                Sexo|    Total|  Grupos de idade -...|15 anos ou mais| 6.6| 7.2| 6.5|\n",
            "|Taxa de analfabet...|Unidade da Federação|            Rondônia|                Sexo|    Total|  Grupos de idade -...|18 anos ou mais| 7.2| 7.6| 6.9|\n",
            "|Taxa de analfabet...|Unidade da Federação|            Rondônia|                Sexo|    Total|  Grupos de idade -...|25 anos ou mais| 8.4| 8.9| 8.3|\n",
            "|Taxa de analfabet...|Unidade da Federação|            Rondônia|                Sexo|    Total|  Grupos de idade -...|40 anos ou mais|13.7|14.0|13.1|\n",
            "|Taxa de analfabet...|Unidade da Federação|            Rondônia|                Sexo|    Total|  Grupos de idade -...|60 anos ou mais|28.5|29.7|27.5|\n",
            "|Taxa de analfabet...|Unidade da Federação|                Acre|                Sexo|    Total|  Grupos de idade -...|15 anos ou mais|13.1|12.1|12.1|\n",
            "|Taxa de analfabet...|Unidade da Federação|                Acre|                Sexo|    Total|  Grupos de idade -...|18 anos ou mais|14.4|13.3|13.2|\n",
            "|Taxa de analfabet...|Unidade da Federação|                Acre|                Sexo|    Total|  Grupos de idade -...|25 anos ou mais|17.4|16.3|15.9|\n",
            "|Taxa de analfabet...|Unidade da Federação|                Acre|                Sexo|    Total|  Grupos de idade -...|40 anos ou mais|25.4|23.9|23.4|\n",
            "|Taxa de analfabet...|Unidade da Federação|                Acre|                Sexo|    Total|  Grupos de idade -...|60 anos ou mais|41.7|37.0|36.5|\n",
            "|Taxa de analfabet...|Unidade da Federação|            Amazonas|                Sexo|    Total|  Grupos de idade -...|15 anos ou mais| 6.9| 6.1| 5.8|\n",
            "|Taxa de analfabet...|Unidade da Federação|            Amazonas|                Sexo|    Total|  Grupos de idade -...|18 anos ou mais| 7.5| 6.7| 6.3|\n",
            "|Taxa de analfabet...|Unidade da Federação|            Amazonas|                Sexo|    Total|  Grupos de idade -...|25 anos ou mais| 9.0| 8.0| 7.6|\n",
            "|Taxa de analfabet...|Unidade da Federação|            Amazonas|                Sexo|    Total|  Grupos de idade -...|40 anos ou mais|13.5|12.2|11.2|\n",
            "|Taxa de analfabet...|Unidade da Federação|            Amazonas|                Sexo|    Total|  Grupos de idade -...|60 anos ou mais|22.3|20.4|19.9|\n",
            "|Taxa de analfabet...|Unidade da Federação|             Roraima|                Sexo|    Total|  Grupos de idade -...|15 anos ou mais| 6.6| 6.0| 6.0|\n",
            "|Taxa de analfabet...|Unidade da Federação|             Roraima|                Sexo|    Total|  Grupos de idade -...|18 anos ou mais| 7.2| 6.6| 6.5|\n",
            "|Taxa de analfabet...|Unidade da Federação|             Roraima|                Sexo|    Total|  Grupos de idade -...|25 anos ou mais| 8.6| 8.2| 7.9|\n",
            "|Taxa de analfabet...|Unidade da Federação|             Roraima|                Sexo|    Total|  Grupos de idade -...|40 anos ou mais|13.8|13.5|12.9|\n",
            "|Taxa de analfabet...|Unidade da Federação|             Roraima|                Sexo|    Total|  Grupos de idade -...|60 anos ou mais|29.1|30.8|25.9|\n",
            "+--------------------+--------------------+--------------------+--------------------+---------+----------------------+---------------+----+----+----+\n",
            "only showing top 20 rows\n",
            "\n"
          ]
        }
      ],
      "source": [
        "educacao.show()"
      ]
    },
    {
      "cell_type": "markdown",
      "metadata": {
        "id": "-idn7dZ0aShe"
      },
      "source": [
        "#### Foram alterados os valores da coluna Abertura_Territorial no dataframe de Educação, de nome do estado para a sigla do estado para futura comparação com os dados de Covid."
      ]
    },
    {
      "cell_type": "code",
      "execution_count": 59,
      "metadata": {
        "id": "el3wgQ43aT1v",
        "colab": {
          "base_uri": "https://localhost:8080/"
        },
        "outputId": "1a98b338-4c31-45f6-98d8-d84b0cf55be0"
      },
      "outputs": [
        {
          "output_type": "stream",
          "name": "stdout",
          "text": [
            "+--------------------+--------------------+--------------------+--------------------+---------+----------------------+---------------+----+----+----+\n",
            "|           Indicador|   Nível_Territorial|Abertura_Territorial|Variável_de_abertura|Categoria|Variável_de_abertura_2|    Categoria_2|2016|2017|2018|\n",
            "+--------------------+--------------------+--------------------+--------------------+---------+----------------------+---------------+----+----+----+\n",
            "|Taxa de analfabet...|Unidade da Federação|                  RO|                Sexo|    Total|  Grupos de idade -...|15 anos ou mais| 6.6| 7.2| 6.5|\n",
            "|Taxa de analfabet...|Unidade da Federação|                  RO|                Sexo|    Total|  Grupos de idade -...|18 anos ou mais| 7.2| 7.6| 6.9|\n",
            "|Taxa de analfabet...|Unidade da Federação|                  RO|                Sexo|    Total|  Grupos de idade -...|25 anos ou mais| 8.4| 8.9| 8.3|\n",
            "|Taxa de analfabet...|Unidade da Federação|                  RO|                Sexo|    Total|  Grupos de idade -...|40 anos ou mais|13.7|14.0|13.1|\n",
            "|Taxa de analfabet...|Unidade da Federação|                  RO|                Sexo|    Total|  Grupos de idade -...|60 anos ou mais|28.5|29.7|27.5|\n",
            "|Taxa de analfabet...|Unidade da Federação|                  AC|                Sexo|    Total|  Grupos de idade -...|15 anos ou mais|13.1|12.1|12.1|\n",
            "|Taxa de analfabet...|Unidade da Federação|                  AC|                Sexo|    Total|  Grupos de idade -...|18 anos ou mais|14.4|13.3|13.2|\n",
            "|Taxa de analfabet...|Unidade da Federação|                  AC|                Sexo|    Total|  Grupos de idade -...|25 anos ou mais|17.4|16.3|15.9|\n",
            "|Taxa de analfabet...|Unidade da Federação|                  AC|                Sexo|    Total|  Grupos de idade -...|40 anos ou mais|25.4|23.9|23.4|\n",
            "|Taxa de analfabet...|Unidade da Federação|                  AC|                Sexo|    Total|  Grupos de idade -...|60 anos ou mais|41.7|37.0|36.5|\n",
            "|Taxa de analfabet...|Unidade da Federação|                  AM|                Sexo|    Total|  Grupos de idade -...|15 anos ou mais| 6.9| 6.1| 5.8|\n",
            "|Taxa de analfabet...|Unidade da Federação|                  AM|                Sexo|    Total|  Grupos de idade -...|18 anos ou mais| 7.5| 6.7| 6.3|\n",
            "|Taxa de analfabet...|Unidade da Federação|                  AM|                Sexo|    Total|  Grupos de idade -...|25 anos ou mais| 9.0| 8.0| 7.6|\n",
            "|Taxa de analfabet...|Unidade da Federação|                  AM|                Sexo|    Total|  Grupos de idade -...|40 anos ou mais|13.5|12.2|11.2|\n",
            "|Taxa de analfabet...|Unidade da Federação|                  AM|                Sexo|    Total|  Grupos de idade -...|60 anos ou mais|22.3|20.4|19.9|\n",
            "|Taxa de analfabet...|Unidade da Federação|                  RR|                Sexo|    Total|  Grupos de idade -...|15 anos ou mais| 6.6| 6.0| 6.0|\n",
            "|Taxa de analfabet...|Unidade da Federação|                  RR|                Sexo|    Total|  Grupos de idade -...|18 anos ou mais| 7.2| 6.6| 6.5|\n",
            "|Taxa de analfabet...|Unidade da Federação|                  RR|                Sexo|    Total|  Grupos de idade -...|25 anos ou mais| 8.6| 8.2| 7.9|\n",
            "|Taxa de analfabet...|Unidade da Federação|                  RR|                Sexo|    Total|  Grupos de idade -...|40 anos ou mais|13.8|13.5|12.9|\n",
            "|Taxa de analfabet...|Unidade da Federação|                  RR|                Sexo|    Total|  Grupos de idade -...|60 anos ou mais|29.1|30.8|25.9|\n",
            "|Taxa de analfabet...|Unidade da Federação|                  PA|                Sexo|    Total|  Grupos de idade -...|15 anos ou mais| 9.2| 8.6| 8.8|\n",
            "|Taxa de analfabet...|Unidade da Federação|                  PA|                Sexo|    Total|  Grupos de idade -...|18 anos ou mais|10.0| 9.3| 9.4|\n",
            "|Taxa de analfabet...|Unidade da Federação|                  PA|                Sexo|    Total|  Grupos de idade -...|25 anos ou mais|12.0|11.1|11.2|\n",
            "|Taxa de analfabet...|Unidade da Federação|                  PA|                Sexo|    Total|  Grupos de idade -...|40 anos ou mais|18.1|16.3|16.9|\n",
            "|Taxa de analfabet...|Unidade da Federação|                  PA|                Sexo|    Total|  Grupos de idade -...|60 anos ou mais|30.8|27.1|27.9|\n",
            "|Taxa de analfabet...|Unidade da Federação|                  AP|                Sexo|    Total|  Grupos de idade -...|15 anos ou mais| 5.0| 5.0| 6.1|\n",
            "|Taxa de analfabet...|Unidade da Federação|                  AP|                Sexo|    Total|  Grupos de idade -...|18 anos ou mais| 5.4| 5.5| 6.5|\n",
            "+--------------------+--------------------+--------------------+--------------------+---------+----------------------+---------------+----+----+----+\n",
            "only showing top 27 rows\n",
            "\n"
          ]
        }
      ],
      "source": [
        "educacao = educacao.withColumn('Abertura_Territorial',\\\n",
        "                                   regexp_replace('Abertura_Territorial', 'Rondônia', 'RO'))\\\n",
        "                       .withColumn('Abertura_Territorial',\\\n",
        "                                   regexp_replace('Abertura_Territorial', 'Acre', 'AC'))\\\n",
        "                       .withColumn('Abertura_Territorial',\\\n",
        "                                   regexp_replace('Abertura_Territorial', 'Amazonas', 'AM'))\\\n",
        "                       .withColumn('Abertura_Territorial',\\\n",
        "                                   regexp_replace('Abertura_Territorial', 'Roraima', 'RR'))\\\n",
        "                       .withColumn('Abertura_Territorial',\\\n",
        "                                   regexp_replace('Abertura_Territorial', 'Pará', 'PA'))\\\n",
        "                       .withColumn('Abertura_Territorial',\\\n",
        "                                   regexp_replace('Abertura_Territorial', 'Amapá', 'AP'))\\\n",
        "                       .withColumn('Abertura_Territorial',\\\n",
        "                                   regexp_replace('Abertura_Territorial', 'Tocantins', 'TO'))\\\n",
        "                       .withColumn('Abertura_Territorial',\\\n",
        "                                   regexp_replace('Abertura_Territorial', 'Maranhão', 'MA'))\\\n",
        "                       .withColumn('Abertura_Territorial',\\\n",
        "                                   regexp_replace('Abertura_Territorial', 'Piauí', 'PI'))\\\n",
        "                       .withColumn('Abertura_Territorial',\\\n",
        "                                   regexp_replace('Abertura_Territorial', 'Ceará', 'CE'))\\\n",
        "                       .withColumn('Abertura_Territorial',\\\n",
        "                                   regexp_replace('Abertura_Territorial', 'Rio Grande do Norte', 'RN'))\\\n",
        "                       .withColumn('Abertura_Territorial',\\\n",
        "                                   regexp_replace('Abertura_Territorial', 'Paraíba', 'PB'))\\\n",
        "                       .withColumn('Abertura_Territorial',\\\n",
        "                                   regexp_replace('Abertura_Territorial', 'Pernambuco', 'PE'))\\\n",
        "                       .withColumn('Abertura_Territorial',\\\n",
        "                                   regexp_replace('Abertura_Territorial', 'Alagoas', 'AL'))\\\n",
        "                       .withColumn('Abertura_Territorial',\\\n",
        "                                   regexp_replace('Abertura_Territorial', 'Sergipe', 'SE'))\\\n",
        "                       .withColumn('Abertura_Territorial',\\\n",
        "                                   regexp_replace('Abertura_Territorial', 'Bahia', 'BA'))\\\n",
        "                       .withColumn('Abertura_Territorial',\\\n",
        "                                   regexp_replace('Abertura_Territorial', 'Minas Gerais', 'MG'))\\\n",
        "                       .withColumn('Abertura_Territorial',\\\n",
        "                                   regexp_replace('Abertura_Territorial', 'Espírito Santo', 'ES'))\\\n",
        "                       .withColumn('Abertura_Territorial',\\\n",
        "                                   regexp_replace('Abertura_Territorial', 'Rio de Janeiro', 'RJ'))\\\n",
        "                       .withColumn('Abertura_Territorial',\\\n",
        "                                   regexp_replace('Abertura_Territorial', 'São Paulo', 'SP'))\\\n",
        "                       .withColumn('Abertura_Territorial',\\\n",
        "                                   regexp_replace('Abertura_Territorial', 'Paraná', 'PR'))\\\n",
        "                       .withColumn('Abertura_Territorial',\\\n",
        "                                   regexp_replace('Abertura_Territorial', 'Santa Catarina', 'SC'))\\\n",
        "                       .withColumn('Abertura_Territorial',\\\n",
        "                                   regexp_replace('Abertura_Territorial', 'Rio Grande do Sul', 'RS' ))\\\n",
        "                       .withColumn('Abertura_Territorial',\\\n",
        "                                   regexp_replace('Abertura_Territorial', 'Mato Grosso do Sul', 'MS'))\\\n",
        "                       .withColumn('Abertura_Territorial',\\\n",
        "                                   regexp_replace('Abertura_Territorial', 'Mato Grosso', 'MT'))\\\n",
        "                       .withColumn('Abertura_Territorial',\\\n",
        "                                   regexp_replace('Abertura_Territorial', 'Goiás', 'GO'))\\\n",
        "                       .withColumn('Abertura_Territorial',\\\n",
        "                                   regexp_replace('Abertura_Territorial', 'Distrito Federal', 'DF'))\\\n",
        "\n",
        "educacao.show(27)"
      ]
    },
    {
      "cell_type": "markdown",
      "metadata": {
        "id": "smjxBmjx20WT"
      },
      "source": [
        "#### Foi feita a separaçao da coluna categoria_2 referentes ao ano de 2018 de acordo com a idade para melhor visualização dos dados."
      ]
    },
    {
      "cell_type": "code",
      "execution_count": 60,
      "metadata": {
        "id": "imA1QSav3Ecd",
        "colab": {
          "base_uri": "https://localhost:8080/"
        },
        "outputId": "29c8d681-7eb5-4f67-e155-3825913052ef"
      },
      "outputs": [
        {
          "output_type": "stream",
          "name": "stdout",
          "text": [
            "+--------------------+---------------+----+\n",
            "|Abertura_Territorial|    Categoria_2|2018|\n",
            "+--------------------+---------------+----+\n",
            "|                  AL|15 anos ou mais|17.2|\n",
            "|                  PI|15 anos ou mais|16.6|\n",
            "|                  MA|15 anos ou mais|16.3|\n",
            "|                  PB|15 anos ou mais|16.1|\n",
            "|                  SE|15 anos ou mais|13.9|\n",
            "|                  CE|15 anos ou mais|13.3|\n",
            "|                  RN|15 anos ou mais|12.9|\n",
            "|                  BA|15 anos ou mais|12.7|\n",
            "|                  AC|15 anos ou mais|12.1|\n",
            "|                  PE|15 anos ou mais|11.9|\n",
            "|                  TO|15 anos ou mais|10.0|\n",
            "|                  PA|15 anos ou mais| 8.8|\n",
            "|                  MT|15 anos ou mais| 7.1|\n",
            "|                  RO|15 anos ou mais| 6.5|\n",
            "|                  AP|15 anos ou mais| 6.1|\n",
            "|                  RR|15 anos ou mais| 6.0|\n",
            "|                  MG|15 anos ou mais| 5.8|\n",
            "|                  AM|15 anos ou mais| 5.8|\n",
            "|                  GO|15 anos ou mais| 5.7|\n",
            "|                  ES|15 anos ou mais| 5.5|\n",
            "|                  PR|15 anos ou mais| 5.0|\n",
            "|                  MS|15 anos ou mais| 5.0|\n",
            "|                  DF|15 anos ou mais| 3.1|\n",
            "|                  RS|15 anos ou mais| 3.0|\n",
            "|                  SP|15 anos ou mais| 2.6|\n",
            "|                  SC|15 anos ou mais| 2.5|\n",
            "|                  RJ|15 anos ou mais| 2.4|\n",
            "+--------------------+---------------+----+\n",
            "\n"
          ]
        }
      ],
      "source": [
        "educacao.createOrReplaceTempView(\"new_df\")\n",
        "\n",
        "idade_15_ou_mais = spark.sql(\"select Abertura_Territorial,  Categoria_2, `2018` \\\n",
        "                              from new_df\\\n",
        "                              where Categoria_2 like '%15%'\")\\\n",
        "                        .orderBy(col('2018').desc())\n",
        "\n",
        "idade_15_ou_mais.show(100)"
      ]
    },
    {
      "cell_type": "code",
      "execution_count": 61,
      "metadata": {
        "id": "TEfGMvL_65KI",
        "colab": {
          "base_uri": "https://localhost:8080/"
        },
        "outputId": "21c4fac5-bb64-43e2-cbd9-ddc68fbb70d9"
      },
      "outputs": [
        {
          "output_type": "stream",
          "name": "stdout",
          "text": [
            "+--------------------+---------------+----+\n",
            "|Abertura_Territorial|    Categoria_2|2018|\n",
            "+--------------------+---------------+----+\n",
            "|                  AL|18 anos ou mais|18.5|\n",
            "|                  PI|18 anos ou mais|17.7|\n",
            "|                  MA|18 anos ou mais|17.6|\n",
            "|                  PB|18 anos ou mais|17.2|\n",
            "|                  SE|18 anos ou mais|14.8|\n",
            "|                  CE|18 anos ou mais|14.2|\n",
            "|                  RN|18 anos ou mais|13.7|\n",
            "|                  BA|18 anos ou mais|13.5|\n",
            "|                  AC|18 anos ou mais|13.2|\n",
            "|                  PE|18 anos ou mais|12.6|\n",
            "|                  TO|18 anos ou mais|10.7|\n",
            "|                  PA|18 anos ou mais| 9.4|\n",
            "|                  MT|18 anos ou mais| 7.5|\n",
            "|                  RO|18 anos ou mais| 6.9|\n",
            "|                  RR|18 anos ou mais| 6.5|\n",
            "|                  AP|18 anos ou mais| 6.5|\n",
            "|                  AM|18 anos ou mais| 6.3|\n",
            "|                  MG|18 anos ou mais| 6.2|\n",
            "|                  GO|18 anos ou mais| 6.1|\n",
            "|                  ES|18 anos ou mais| 5.8|\n",
            "|                  MS|18 anos ou mais| 5.3|\n",
            "|                  PR|18 anos ou mais| 5.2|\n",
            "|                  DF|18 anos ou mais| 3.3|\n",
            "|                  RS|18 anos ou mais| 3.1|\n",
            "|                  SP|18 anos ou mais| 2.8|\n",
            "|                  SC|18 anos ou mais| 2.6|\n",
            "|                  RJ|18 anos ou mais| 2.5|\n",
            "+--------------------+---------------+----+\n",
            "\n"
          ]
        }
      ],
      "source": [
        "educacao.createOrReplaceTempView(\"new_df\")\n",
        "\n",
        "idade_18_ou_mais = spark.sql(\"select Abertura_Territorial,  Categoria_2, `2018` \\\n",
        "                              from new_df\\\n",
        "                              where Categoria_2 like '%18%'\")\\\n",
        "                        .orderBy(col('2018').desc())\n",
        "\n",
        "idade_18_ou_mais.show(100)"
      ]
    },
    {
      "cell_type": "code",
      "execution_count": 62,
      "metadata": {
        "id": "lWBxXQbX66Bd",
        "colab": {
          "base_uri": "https://localhost:8080/"
        },
        "outputId": "bd1daba6-40d4-48a9-ad54-49e8eab81443"
      },
      "outputs": [
        {
          "output_type": "stream",
          "name": "stdout",
          "text": [
            "+--------------------+---------------+----+\n",
            "|Abertura_Territorial|    Categoria_2|2018|\n",
            "+--------------------+---------------+----+\n",
            "|                  AL|25 anos ou mais|21.5|\n",
            "|                  MA|25 anos ou mais|21.0|\n",
            "|                  PI|25 anos ou mais|20.7|\n",
            "|                  PB|25 anos ou mais|19.9|\n",
            "|                  SE|25 anos ou mais|17.5|\n",
            "|                  CE|25 anos ou mais|16.6|\n",
            "|                  RN|25 anos ou mais|16.1|\n",
            "|                  AC|25 anos ou mais|15.9|\n",
            "|                  BA|25 anos ou mais|15.6|\n",
            "|                  PE|25 anos ou mais|14.6|\n",
            "|                  TO|25 anos ou mais|12.4|\n",
            "|                  PA|25 anos ou mais|11.2|\n",
            "|                  MT|25 anos ou mais| 8.7|\n",
            "|                  RO|25 anos ou mais| 8.3|\n",
            "|                  AP|25 anos ou mais| 8.2|\n",
            "|                  RR|25 anos ou mais| 7.9|\n",
            "|                  AM|25 anos ou mais| 7.6|\n",
            "|                  GO|25 anos ou mais| 7.0|\n",
            "|                  MG|25 anos ou mais| 7.0|\n",
            "|                  ES|25 anos ou mais| 6.7|\n",
            "|                  MS|25 anos ou mais| 6.2|\n",
            "|                  PR|25 anos ou mais| 6.0|\n",
            "|                  DF|25 anos ou mais| 3.8|\n",
            "|                  RS|25 anos ou mais| 3.5|\n",
            "|                  SP|25 anos ou mais| 3.1|\n",
            "|                  SC|25 anos ou mais| 2.9|\n",
            "|                  RJ|25 anos ou mais| 2.7|\n",
            "+--------------------+---------------+----+\n",
            "\n"
          ]
        }
      ],
      "source": [
        "educacao.createOrReplaceTempView(\"new_df\")\n",
        "\n",
        "idade_25_ou_mais = spark.sql(\"select Abertura_Territorial,  Categoria_2, `2018` \\\n",
        "                              from new_df\\\n",
        "                              where Categoria_2 like '%25%'\")\\\n",
        "                        .orderBy(col('2018').desc())\n",
        "\n",
        "idade_25_ou_mais.show(100)"
      ]
    },
    {
      "cell_type": "code",
      "execution_count": 63,
      "metadata": {
        "id": "8oZp0K-S66f3",
        "colab": {
          "base_uri": "https://localhost:8080/"
        },
        "outputId": "52c73271-7f0a-4b4c-a1c5-9f906d9974d8"
      },
      "outputs": [
        {
          "output_type": "stream",
          "name": "stdout",
          "text": [
            "+--------------------+---------------+----+\n",
            "|Abertura_Territorial|    Categoria_2|2018|\n",
            "+--------------------+---------------+----+\n",
            "|                  MA|40 anos ou mais|30.5|\n",
            "|                  AL|40 anos ou mais|29.2|\n",
            "|                  PI|40 anos ou mais|28.4|\n",
            "|                  PB|40 anos ou mais|26.6|\n",
            "|                  SE|40 anos ou mais|24.8|\n",
            "|                  CE|40 anos ou mais|24.1|\n",
            "|                  AC|40 anos ou mais|23.4|\n",
            "|                  RN|40 anos ou mais|22.5|\n",
            "|                  BA|40 anos ou mais|22.3|\n",
            "|                  PE|40 anos ou mais|20.1|\n",
            "|                  TO|40 anos ou mais|18.5|\n",
            "|                  PA|40 anos ou mais|16.9|\n",
            "|                  AP|40 anos ou mais|13.4|\n",
            "|                  RO|40 anos ou mais|13.1|\n",
            "|                  RR|40 anos ou mais|12.9|\n",
            "|                  MT|40 anos ou mais|12.8|\n",
            "|                  AM|40 anos ou mais|11.2|\n",
            "|                  GO|40 anos ou mais|10.3|\n",
            "|                  MG|40 anos ou mais|10.0|\n",
            "|                  ES|40 anos ou mais| 9.8|\n",
            "|                  MS|40 anos ou mais| 9.1|\n",
            "|                  PR|40 anos ou mais| 8.5|\n",
            "|                  DF|40 anos ou mais| 5.7|\n",
            "|                  RS|40 anos ou mais| 4.6|\n",
            "|                  SP|40 anos ou mais| 4.5|\n",
            "|                  SC|40 anos ou mais| 4.2|\n",
            "|                  RJ|40 anos ou mais| 3.6|\n",
            "+--------------------+---------------+----+\n",
            "\n"
          ]
        }
      ],
      "source": [
        "educacao.createOrReplaceTempView(\"new_df\")\n",
        "\n",
        "idade_40_ou_mais = spark.sql(\"select Abertura_Territorial,  Categoria_2, `2018` \\\n",
        "                              from new_df\\\n",
        "                              where Categoria_2 like '%40%'\")\\\n",
        "                        .orderBy(col('2018').desc())\n",
        "\n",
        "idade_40_ou_mais.show(100)"
      ]
    },
    {
      "cell_type": "code",
      "execution_count": 64,
      "metadata": {
        "id": "MMqZyhCv7LL7",
        "colab": {
          "base_uri": "https://localhost:8080/"
        },
        "outputId": "748dcf6a-2a6b-420e-873b-3771391d779e"
      },
      "outputs": [
        {
          "output_type": "stream",
          "name": "stdout",
          "text": [
            "+--------------------+---------------+----+\n",
            "|Abertura_Territorial|    Categoria_2|2018|\n",
            "+--------------------+---------------+----+\n",
            "|                  MA|60 anos ou mais|45.5|\n",
            "|                  PI|60 anos ou mais|42.7|\n",
            "|                  AL|60 anos ou mais|41.1|\n",
            "|                  SE|60 anos ou mais|38.6|\n",
            "|                  PB|60 anos ou mais|37.8|\n",
            "|                  CE|60 anos ou mais|36.9|\n",
            "|                  AC|60 anos ou mais|36.5|\n",
            "|                  BA|60 anos ou mais|35.3|\n",
            "|                  RN|60 anos ou mais|34.8|\n",
            "|                  TO|60 anos ou mais|32.5|\n",
            "|                  PE|60 anos ou mais|30.2|\n",
            "|                  PA|60 anos ou mais|27.9|\n",
            "|                  RO|60 anos ou mais|27.5|\n",
            "|                  AP|60 anos ou mais|27.4|\n",
            "|                  RR|60 anos ou mais|25.9|\n",
            "|                  MT|60 anos ou mais|24.2|\n",
            "|                  AM|60 anos ou mais|19.9|\n",
            "|                  GO|60 anos ou mais|18.9|\n",
            "|                  ES|60 anos ou mais|18.9|\n",
            "|                  MG|60 anos ou mais|17.1|\n",
            "|                  MS|60 anos ou mais|16.3|\n",
            "|                  PR|60 anos ou mais|15.9|\n",
            "|                  DF|60 anos ou mais|11.5|\n",
            "|                  SP|60 anos ou mais| 8.3|\n",
            "|                  SC|60 anos ou mais| 8.2|\n",
            "|                  RS|60 anos ou mais| 8.0|\n",
            "|                  RJ|60 anos ou mais| 6.3|\n",
            "+--------------------+---------------+----+\n",
            "\n"
          ]
        }
      ],
      "source": [
        "educacao.createOrReplaceTempView(\"new_df\")\n",
        "\n",
        "idade_60_ou_mais = spark.sql(\"select Abertura_Territorial,  Categoria_2, `2018`\\\n",
        "                              from new_df\\\n",
        "                              where Categoria_2 like '%60%'\")\\\n",
        "                        .orderBy(col('2018').desc())\n",
        "idade_60_ou_mais.show(100)\n",
        "\n",
        "\n"
      ]
    },
    {
      "cell_type": "markdown",
      "metadata": {
        "id": "8B9C4CU5gjlS"
      },
      "source": [
        "#### Demostração dos dados em gráfico de pessoas de 60 anos ou mais."
      ]
    },
    {
      "cell_type": "code",
      "execution_count": 65,
      "metadata": {
        "id": "qE6Hj3_UgptG"
      },
      "outputs": [],
      "source": [
        "graf_educacao = estado_total_cs.join(idade_60_ou_mais, \\\n",
        "                                     estado_total_cs.estado ==\\\n",
        "                                     idade_60_ou_mais.Abertura_Territorial,\\\n",
        "                                     \"inner\")\\\n",
        "                               .drop(\"Abertura_Territorial\")\\\n",
        "                               .drop(\"Categoria_2\")\n",
        "                      \n",
        "graf_educacao = graf_educacao.toPandas()"
      ]
    },
    {
      "cell_type": "code",
      "execution_count": 66,
      "metadata": {
        "id": "FtDoNsHIhSUF",
        "colab": {
          "base_uri": "https://localhost:8080/",
          "height": 1000
        },
        "outputId": "ffcd95b3-4b2d-456f-d798-23ed28e1b9aa"
      },
      "outputs": [
        {
          "output_type": "display_data",
          "data": {
            "text/html": [
              "<html>\n",
              "<head><meta charset=\"utf-8\" /></head>\n",
              "<body>\n",
              "    <div>            <script src=\"https://cdnjs.cloudflare.com/ajax/libs/mathjax/2.7.5/MathJax.js?config=TeX-AMS-MML_SVG\"></script><script type=\"text/javascript\">if (window.MathJax) {MathJax.Hub.Config({SVG: {font: \"STIX-Web\"}});}</script>                <script type=\"text/javascript\">window.PlotlyConfig = {MathJaxConfig: 'local'};</script>\n",
              "        <script src=\"https://cdn.plot.ly/plotly-2.8.3.min.js\"></script>                <div id=\"6fe8ce54-735c-4243-8112-4741fc20cb15\" class=\"plotly-graph-div\" style=\"height:525px; width:100%;\"></div>            <script type=\"text/javascript\">                                    window.PLOTLYENV=window.PLOTLYENV || {};                                    if (document.getElementById(\"6fe8ce54-735c-4243-8112-4741fc20cb15\")) {                    Plotly.newPlot(                        \"6fe8ce54-735c-4243-8112-4741fc20cb15\",                        [{\"alignmentgroup\":\"True\",\"hovertemplate\":\"variable=total_casos_estados<br>estado=%{x}<br>value=%{y}<extra></extra>\",\"legendgroup\":\"total_casos_estados\",\"marker\":{\"color\":\"#636efa\",\"pattern\":{\"shape\":\"\"}},\"name\":\"total_casos_estados\",\"offsetgroup\":\"total_casos_estados\",\"orientation\":\"v\",\"showlegend\":true,\"textposition\":\"auto\",\"texttemplate\":\"%{y:.2s}\",\"x\":[\"SC\",\"RO\",\"PI\",\"AM\",\"RR\",\"GO\",\"TO\",\"MT\",\"SP\",\"PB\",\"ES\",\"RS\",\"MS\",\"AL\",\"MG\",\"PA\",\"BA\",\"SE\",\"PE\",\"CE\",\"RN\",\"RJ\",\"MA\",\"AC\",\"DF\",\"PR\",\"AP\"],\"xaxis\":\"x\",\"y\":[1934206.0,488322.0,442442.0,710181.0,210101.0,1713845.0,366096.0,870566.0,6497951.0,730522.0,1302535.0,2734324.0,594415.0,379049.0,3973929.0,974058.0,1859218.0,400336.0,1131222.0,1561859.0,598795.0,2628256.0,584904.0,166195.0,940689.0,2797579.0,213910.0],\"yaxis\":\"y\",\"type\":\"bar\"},{\"alignmentgroup\":\"True\",\"hovertemplate\":\"variable=2018<br>estado=%{x}<br>value=%{y}<extra></extra>\",\"legendgroup\":\"2018\",\"marker\":{\"color\":\"#EF553B\",\"pattern\":{\"shape\":\"\"}},\"name\":\"2018\",\"offsetgroup\":\"2018\",\"orientation\":\"v\",\"showlegend\":true,\"textposition\":\"auto\",\"texttemplate\":\"%{y:.2s}\",\"x\":[\"SC\",\"RO\",\"PI\",\"AM\",\"RR\",\"GO\",\"TO\",\"MT\",\"SP\",\"PB\",\"ES\",\"RS\",\"MS\",\"AL\",\"MG\",\"PA\",\"BA\",\"SE\",\"PE\",\"CE\",\"RN\",\"RJ\",\"MA\",\"AC\",\"DF\",\"PR\",\"AP\"],\"xaxis\":\"x\",\"y\":[8.2,27.5,42.7,19.9,25.9,18.9,32.5,24.2,8.3,37.8,18.9,8.0,16.3,41.1,17.1,27.9,35.3,38.6,30.2,36.9,34.8,6.3,45.5,36.5,11.5,15.9,27.4],\"yaxis\":\"y\",\"type\":\"bar\"}],                        {\"template\":{\"data\":{\"bar\":[{\"error_x\":{\"color\":\"#2a3f5f\"},\"error_y\":{\"color\":\"#2a3f5f\"},\"marker\":{\"line\":{\"color\":\"#E5ECF6\",\"width\":0.5},\"pattern\":{\"fillmode\":\"overlay\",\"size\":10,\"solidity\":0.2}},\"type\":\"bar\"}],\"barpolar\":[{\"marker\":{\"line\":{\"color\":\"#E5ECF6\",\"width\":0.5},\"pattern\":{\"fillmode\":\"overlay\",\"size\":10,\"solidity\":0.2}},\"type\":\"barpolar\"}],\"carpet\":[{\"aaxis\":{\"endlinecolor\":\"#2a3f5f\",\"gridcolor\":\"white\",\"linecolor\":\"white\",\"minorgridcolor\":\"white\",\"startlinecolor\":\"#2a3f5f\"},\"baxis\":{\"endlinecolor\":\"#2a3f5f\",\"gridcolor\":\"white\",\"linecolor\":\"white\",\"minorgridcolor\":\"white\",\"startlinecolor\":\"#2a3f5f\"},\"type\":\"carpet\"}],\"choropleth\":[{\"colorbar\":{\"outlinewidth\":0,\"ticks\":\"\"},\"type\":\"choropleth\"}],\"contour\":[{\"colorbar\":{\"outlinewidth\":0,\"ticks\":\"\"},\"colorscale\":[[0.0,\"#0d0887\"],[0.1111111111111111,\"#46039f\"],[0.2222222222222222,\"#7201a8\"],[0.3333333333333333,\"#9c179e\"],[0.4444444444444444,\"#bd3786\"],[0.5555555555555556,\"#d8576b\"],[0.6666666666666666,\"#ed7953\"],[0.7777777777777778,\"#fb9f3a\"],[0.8888888888888888,\"#fdca26\"],[1.0,\"#f0f921\"]],\"type\":\"contour\"}],\"contourcarpet\":[{\"colorbar\":{\"outlinewidth\":0,\"ticks\":\"\"},\"type\":\"contourcarpet\"}],\"heatmap\":[{\"colorbar\":{\"outlinewidth\":0,\"ticks\":\"\"},\"colorscale\":[[0.0,\"#0d0887\"],[0.1111111111111111,\"#46039f\"],[0.2222222222222222,\"#7201a8\"],[0.3333333333333333,\"#9c179e\"],[0.4444444444444444,\"#bd3786\"],[0.5555555555555556,\"#d8576b\"],[0.6666666666666666,\"#ed7953\"],[0.7777777777777778,\"#fb9f3a\"],[0.8888888888888888,\"#fdca26\"],[1.0,\"#f0f921\"]],\"type\":\"heatmap\"}],\"heatmapgl\":[{\"colorbar\":{\"outlinewidth\":0,\"ticks\":\"\"},\"colorscale\":[[0.0,\"#0d0887\"],[0.1111111111111111,\"#46039f\"],[0.2222222222222222,\"#7201a8\"],[0.3333333333333333,\"#9c179e\"],[0.4444444444444444,\"#bd3786\"],[0.5555555555555556,\"#d8576b\"],[0.6666666666666666,\"#ed7953\"],[0.7777777777777778,\"#fb9f3a\"],[0.8888888888888888,\"#fdca26\"],[1.0,\"#f0f921\"]],\"type\":\"heatmapgl\"}],\"histogram\":[{\"marker\":{\"pattern\":{\"fillmode\":\"overlay\",\"size\":10,\"solidity\":0.2}},\"type\":\"histogram\"}],\"histogram2d\":[{\"colorbar\":{\"outlinewidth\":0,\"ticks\":\"\"},\"colorscale\":[[0.0,\"#0d0887\"],[0.1111111111111111,\"#46039f\"],[0.2222222222222222,\"#7201a8\"],[0.3333333333333333,\"#9c179e\"],[0.4444444444444444,\"#bd3786\"],[0.5555555555555556,\"#d8576b\"],[0.6666666666666666,\"#ed7953\"],[0.7777777777777778,\"#fb9f3a\"],[0.8888888888888888,\"#fdca26\"],[1.0,\"#f0f921\"]],\"type\":\"histogram2d\"}],\"histogram2dcontour\":[{\"colorbar\":{\"outlinewidth\":0,\"ticks\":\"\"},\"colorscale\":[[0.0,\"#0d0887\"],[0.1111111111111111,\"#46039f\"],[0.2222222222222222,\"#7201a8\"],[0.3333333333333333,\"#9c179e\"],[0.4444444444444444,\"#bd3786\"],[0.5555555555555556,\"#d8576b\"],[0.6666666666666666,\"#ed7953\"],[0.7777777777777778,\"#fb9f3a\"],[0.8888888888888888,\"#fdca26\"],[1.0,\"#f0f921\"]],\"type\":\"histogram2dcontour\"}],\"mesh3d\":[{\"colorbar\":{\"outlinewidth\":0,\"ticks\":\"\"},\"type\":\"mesh3d\"}],\"parcoords\":[{\"line\":{\"colorbar\":{\"outlinewidth\":0,\"ticks\":\"\"}},\"type\":\"parcoords\"}],\"pie\":[{\"automargin\":true,\"type\":\"pie\"}],\"scatter\":[{\"marker\":{\"colorbar\":{\"outlinewidth\":0,\"ticks\":\"\"}},\"type\":\"scatter\"}],\"scatter3d\":[{\"line\":{\"colorbar\":{\"outlinewidth\":0,\"ticks\":\"\"}},\"marker\":{\"colorbar\":{\"outlinewidth\":0,\"ticks\":\"\"}},\"type\":\"scatter3d\"}],\"scattercarpet\":[{\"marker\":{\"colorbar\":{\"outlinewidth\":0,\"ticks\":\"\"}},\"type\":\"scattercarpet\"}],\"scattergeo\":[{\"marker\":{\"colorbar\":{\"outlinewidth\":0,\"ticks\":\"\"}},\"type\":\"scattergeo\"}],\"scattergl\":[{\"marker\":{\"colorbar\":{\"outlinewidth\":0,\"ticks\":\"\"}},\"type\":\"scattergl\"}],\"scattermapbox\":[{\"marker\":{\"colorbar\":{\"outlinewidth\":0,\"ticks\":\"\"}},\"type\":\"scattermapbox\"}],\"scatterpolar\":[{\"marker\":{\"colorbar\":{\"outlinewidth\":0,\"ticks\":\"\"}},\"type\":\"scatterpolar\"}],\"scatterpolargl\":[{\"marker\":{\"colorbar\":{\"outlinewidth\":0,\"ticks\":\"\"}},\"type\":\"scatterpolargl\"}],\"scatterternary\":[{\"marker\":{\"colorbar\":{\"outlinewidth\":0,\"ticks\":\"\"}},\"type\":\"scatterternary\"}],\"surface\":[{\"colorbar\":{\"outlinewidth\":0,\"ticks\":\"\"},\"colorscale\":[[0.0,\"#0d0887\"],[0.1111111111111111,\"#46039f\"],[0.2222222222222222,\"#7201a8\"],[0.3333333333333333,\"#9c179e\"],[0.4444444444444444,\"#bd3786\"],[0.5555555555555556,\"#d8576b\"],[0.6666666666666666,\"#ed7953\"],[0.7777777777777778,\"#fb9f3a\"],[0.8888888888888888,\"#fdca26\"],[1.0,\"#f0f921\"]],\"type\":\"surface\"}],\"table\":[{\"cells\":{\"fill\":{\"color\":\"#EBF0F8\"},\"line\":{\"color\":\"white\"}},\"header\":{\"fill\":{\"color\":\"#C8D4E3\"},\"line\":{\"color\":\"white\"}},\"type\":\"table\"}]},\"layout\":{\"annotationdefaults\":{\"arrowcolor\":\"#2a3f5f\",\"arrowhead\":0,\"arrowwidth\":1},\"autotypenumbers\":\"strict\",\"coloraxis\":{\"colorbar\":{\"outlinewidth\":0,\"ticks\":\"\"}},\"colorscale\":{\"diverging\":[[0,\"#8e0152\"],[0.1,\"#c51b7d\"],[0.2,\"#de77ae\"],[0.3,\"#f1b6da\"],[0.4,\"#fde0ef\"],[0.5,\"#f7f7f7\"],[0.6,\"#e6f5d0\"],[0.7,\"#b8e186\"],[0.8,\"#7fbc41\"],[0.9,\"#4d9221\"],[1,\"#276419\"]],\"sequential\":[[0.0,\"#0d0887\"],[0.1111111111111111,\"#46039f\"],[0.2222222222222222,\"#7201a8\"],[0.3333333333333333,\"#9c179e\"],[0.4444444444444444,\"#bd3786\"],[0.5555555555555556,\"#d8576b\"],[0.6666666666666666,\"#ed7953\"],[0.7777777777777778,\"#fb9f3a\"],[0.8888888888888888,\"#fdca26\"],[1.0,\"#f0f921\"]],\"sequentialminus\":[[0.0,\"#0d0887\"],[0.1111111111111111,\"#46039f\"],[0.2222222222222222,\"#7201a8\"],[0.3333333333333333,\"#9c179e\"],[0.4444444444444444,\"#bd3786\"],[0.5555555555555556,\"#d8576b\"],[0.6666666666666666,\"#ed7953\"],[0.7777777777777778,\"#fb9f3a\"],[0.8888888888888888,\"#fdca26\"],[1.0,\"#f0f921\"]]},\"colorway\":[\"#636efa\",\"#EF553B\",\"#00cc96\",\"#ab63fa\",\"#FFA15A\",\"#19d3f3\",\"#FF6692\",\"#B6E880\",\"#FF97FF\",\"#FECB52\"],\"font\":{\"color\":\"#2a3f5f\"},\"geo\":{\"bgcolor\":\"white\",\"lakecolor\":\"white\",\"landcolor\":\"#E5ECF6\",\"showlakes\":true,\"showland\":true,\"subunitcolor\":\"white\"},\"hoverlabel\":{\"align\":\"left\"},\"hovermode\":\"closest\",\"mapbox\":{\"style\":\"light\"},\"paper_bgcolor\":\"white\",\"plot_bgcolor\":\"#E5ECF6\",\"polar\":{\"angularaxis\":{\"gridcolor\":\"white\",\"linecolor\":\"white\",\"ticks\":\"\"},\"bgcolor\":\"#E5ECF6\",\"radialaxis\":{\"gridcolor\":\"white\",\"linecolor\":\"white\",\"ticks\":\"\"}},\"scene\":{\"xaxis\":{\"backgroundcolor\":\"#E5ECF6\",\"gridcolor\":\"white\",\"gridwidth\":2,\"linecolor\":\"white\",\"showbackground\":true,\"ticks\":\"\",\"zerolinecolor\":\"white\"},\"yaxis\":{\"backgroundcolor\":\"#E5ECF6\",\"gridcolor\":\"white\",\"gridwidth\":2,\"linecolor\":\"white\",\"showbackground\":true,\"ticks\":\"\",\"zerolinecolor\":\"white\"},\"zaxis\":{\"backgroundcolor\":\"#E5ECF6\",\"gridcolor\":\"white\",\"gridwidth\":2,\"linecolor\":\"white\",\"showbackground\":true,\"ticks\":\"\",\"zerolinecolor\":\"white\"}},\"shapedefaults\":{\"line\":{\"color\":\"#2a3f5f\"}},\"ternary\":{\"aaxis\":{\"gridcolor\":\"white\",\"linecolor\":\"white\",\"ticks\":\"\"},\"baxis\":{\"gridcolor\":\"white\",\"linecolor\":\"white\",\"ticks\":\"\"},\"bgcolor\":\"#E5ECF6\",\"caxis\":{\"gridcolor\":\"white\",\"linecolor\":\"white\",\"ticks\":\"\"}},\"title\":{\"x\":0.05},\"xaxis\":{\"automargin\":true,\"gridcolor\":\"white\",\"linecolor\":\"white\",\"ticks\":\"\",\"title\":{\"standoff\":15},\"zerolinecolor\":\"white\",\"zerolinewidth\":2},\"yaxis\":{\"automargin\":true,\"gridcolor\":\"white\",\"linecolor\":\"white\",\"ticks\":\"\",\"title\":{\"standoff\":15},\"zerolinecolor\":\"white\",\"zerolinewidth\":2}}},\"xaxis\":{\"anchor\":\"y\",\"domain\":[0.0,1.0],\"title\":{\"text\":\"estado\"}},\"yaxis\":{\"anchor\":\"x\",\"domain\":[0.0,1.0],\"title\":{\"text\":\"value\"}},\"legend\":{\"title\":{\"text\":\"variable\"},\"tracegroupgap\":0},\"title\":{\"text\":\"Casos novos de Covid e IDH\"},\"barmode\":\"stack\"},                        {\"responsive\": true}                    ).then(function(){\n",
              "                            \n",
              "var gd = document.getElementById('6fe8ce54-735c-4243-8112-4741fc20cb15');\n",
              "var x = new MutationObserver(function (mutations, observer) {{\n",
              "        var display = window.getComputedStyle(gd).display;\n",
              "        if (!display || display === 'none') {{\n",
              "            console.log([gd, 'removed!']);\n",
              "            Plotly.purge(gd);\n",
              "            observer.disconnect();\n",
              "        }}\n",
              "}});\n",
              "\n",
              "// Listen for the removal of the full notebook cells\n",
              "var notebookContainer = gd.closest('#notebook-container');\n",
              "if (notebookContainer) {{\n",
              "    x.observe(notebookContainer, {childList: true});\n",
              "}}\n",
              "\n",
              "// Listen for the clearing of the current output cell\n",
              "var outputEl = gd.closest('.output');\n",
              "if (outputEl) {{\n",
              "    x.observe(outputEl, {childList: true});\n",
              "}}\n",
              "\n",
              "                        })                };                            </script>        </div>\n",
              "</body>\n",
              "</html>"
            ]
          },
          "metadata": {}
        },
        {
          "output_type": "display_data",
          "data": {
            "text/html": [
              "<html>\n",
              "<head><meta charset=\"utf-8\" /></head>\n",
              "<body>\n",
              "    <div>            <script src=\"https://cdnjs.cloudflare.com/ajax/libs/mathjax/2.7.5/MathJax.js?config=TeX-AMS-MML_SVG\"></script><script type=\"text/javascript\">if (window.MathJax) {MathJax.Hub.Config({SVG: {font: \"STIX-Web\"}});}</script>                <script type=\"text/javascript\">window.PlotlyConfig = {MathJaxConfig: 'local'};</script>\n",
              "        <script src=\"https://cdn.plot.ly/plotly-2.8.3.min.js\"></script>                <div id=\"3bca412e-244f-40fa-a11d-b13b707cdebf\" class=\"plotly-graph-div\" style=\"height:525px; width:100%;\"></div>            <script type=\"text/javascript\">                                    window.PLOTLYENV=window.PLOTLYENV || {};                                    if (document.getElementById(\"3bca412e-244f-40fa-a11d-b13b707cdebf\")) {                    Plotly.newPlot(                        \"3bca412e-244f-40fa-a11d-b13b707cdebf\",                        [{\"alignmentgroup\":\"True\",\"hovertemplate\":\"estado=%{x}<br>total_casos_estados=%{marker.color}<extra></extra>\",\"legendgroup\":\"\",\"marker\":{\"color\":[1934206,488322,442442,710181,210101,1713845,366096,870566,6497951,730522,1302535,2734324,594415,379049,3973929,974058,1859218,400336,1131222,1561859,598795,2628256,584904,166195,940689,2797579,213910],\"coloraxis\":\"coloraxis\",\"pattern\":{\"shape\":\"\"}},\"name\":\"\",\"offsetgroup\":\"\",\"orientation\":\"v\",\"showlegend\":false,\"textposition\":\"auto\",\"x\":[\"SC\",\"RO\",\"PI\",\"AM\",\"RR\",\"GO\",\"TO\",\"MT\",\"SP\",\"PB\",\"ES\",\"RS\",\"MS\",\"AL\",\"MG\",\"PA\",\"BA\",\"SE\",\"PE\",\"CE\",\"RN\",\"RJ\",\"MA\",\"AC\",\"DF\",\"PR\",\"AP\"],\"xaxis\":\"x\",\"y\":[1934206,488322,442442,710181,210101,1713845,366096,870566,6497951,730522,1302535,2734324,594415,379049,3973929,974058,1859218,400336,1131222,1561859,598795,2628256,584904,166195,940689,2797579,213910],\"yaxis\":\"y\",\"type\":\"bar\"}],                        {\"template\":{\"data\":{\"bar\":[{\"error_x\":{\"color\":\"#2a3f5f\"},\"error_y\":{\"color\":\"#2a3f5f\"},\"marker\":{\"line\":{\"color\":\"#E5ECF6\",\"width\":0.5},\"pattern\":{\"fillmode\":\"overlay\",\"size\":10,\"solidity\":0.2}},\"type\":\"bar\"}],\"barpolar\":[{\"marker\":{\"line\":{\"color\":\"#E5ECF6\",\"width\":0.5},\"pattern\":{\"fillmode\":\"overlay\",\"size\":10,\"solidity\":0.2}},\"type\":\"barpolar\"}],\"carpet\":[{\"aaxis\":{\"endlinecolor\":\"#2a3f5f\",\"gridcolor\":\"white\",\"linecolor\":\"white\",\"minorgridcolor\":\"white\",\"startlinecolor\":\"#2a3f5f\"},\"baxis\":{\"endlinecolor\":\"#2a3f5f\",\"gridcolor\":\"white\",\"linecolor\":\"white\",\"minorgridcolor\":\"white\",\"startlinecolor\":\"#2a3f5f\"},\"type\":\"carpet\"}],\"choropleth\":[{\"colorbar\":{\"outlinewidth\":0,\"ticks\":\"\"},\"type\":\"choropleth\"}],\"contour\":[{\"colorbar\":{\"outlinewidth\":0,\"ticks\":\"\"},\"colorscale\":[[0.0,\"#0d0887\"],[0.1111111111111111,\"#46039f\"],[0.2222222222222222,\"#7201a8\"],[0.3333333333333333,\"#9c179e\"],[0.4444444444444444,\"#bd3786\"],[0.5555555555555556,\"#d8576b\"],[0.6666666666666666,\"#ed7953\"],[0.7777777777777778,\"#fb9f3a\"],[0.8888888888888888,\"#fdca26\"],[1.0,\"#f0f921\"]],\"type\":\"contour\"}],\"contourcarpet\":[{\"colorbar\":{\"outlinewidth\":0,\"ticks\":\"\"},\"type\":\"contourcarpet\"}],\"heatmap\":[{\"colorbar\":{\"outlinewidth\":0,\"ticks\":\"\"},\"colorscale\":[[0.0,\"#0d0887\"],[0.1111111111111111,\"#46039f\"],[0.2222222222222222,\"#7201a8\"],[0.3333333333333333,\"#9c179e\"],[0.4444444444444444,\"#bd3786\"],[0.5555555555555556,\"#d8576b\"],[0.6666666666666666,\"#ed7953\"],[0.7777777777777778,\"#fb9f3a\"],[0.8888888888888888,\"#fdca26\"],[1.0,\"#f0f921\"]],\"type\":\"heatmap\"}],\"heatmapgl\":[{\"colorbar\":{\"outlinewidth\":0,\"ticks\":\"\"},\"colorscale\":[[0.0,\"#0d0887\"],[0.1111111111111111,\"#46039f\"],[0.2222222222222222,\"#7201a8\"],[0.3333333333333333,\"#9c179e\"],[0.4444444444444444,\"#bd3786\"],[0.5555555555555556,\"#d8576b\"],[0.6666666666666666,\"#ed7953\"],[0.7777777777777778,\"#fb9f3a\"],[0.8888888888888888,\"#fdca26\"],[1.0,\"#f0f921\"]],\"type\":\"heatmapgl\"}],\"histogram\":[{\"marker\":{\"pattern\":{\"fillmode\":\"overlay\",\"size\":10,\"solidity\":0.2}},\"type\":\"histogram\"}],\"histogram2d\":[{\"colorbar\":{\"outlinewidth\":0,\"ticks\":\"\"},\"colorscale\":[[0.0,\"#0d0887\"],[0.1111111111111111,\"#46039f\"],[0.2222222222222222,\"#7201a8\"],[0.3333333333333333,\"#9c179e\"],[0.4444444444444444,\"#bd3786\"],[0.5555555555555556,\"#d8576b\"],[0.6666666666666666,\"#ed7953\"],[0.7777777777777778,\"#fb9f3a\"],[0.8888888888888888,\"#fdca26\"],[1.0,\"#f0f921\"]],\"type\":\"histogram2d\"}],\"histogram2dcontour\":[{\"colorbar\":{\"outlinewidth\":0,\"ticks\":\"\"},\"colorscale\":[[0.0,\"#0d0887\"],[0.1111111111111111,\"#46039f\"],[0.2222222222222222,\"#7201a8\"],[0.3333333333333333,\"#9c179e\"],[0.4444444444444444,\"#bd3786\"],[0.5555555555555556,\"#d8576b\"],[0.6666666666666666,\"#ed7953\"],[0.7777777777777778,\"#fb9f3a\"],[0.8888888888888888,\"#fdca26\"],[1.0,\"#f0f921\"]],\"type\":\"histogram2dcontour\"}],\"mesh3d\":[{\"colorbar\":{\"outlinewidth\":0,\"ticks\":\"\"},\"type\":\"mesh3d\"}],\"parcoords\":[{\"line\":{\"colorbar\":{\"outlinewidth\":0,\"ticks\":\"\"}},\"type\":\"parcoords\"}],\"pie\":[{\"automargin\":true,\"type\":\"pie\"}],\"scatter\":[{\"marker\":{\"colorbar\":{\"outlinewidth\":0,\"ticks\":\"\"}},\"type\":\"scatter\"}],\"scatter3d\":[{\"line\":{\"colorbar\":{\"outlinewidth\":0,\"ticks\":\"\"}},\"marker\":{\"colorbar\":{\"outlinewidth\":0,\"ticks\":\"\"}},\"type\":\"scatter3d\"}],\"scattercarpet\":[{\"marker\":{\"colorbar\":{\"outlinewidth\":0,\"ticks\":\"\"}},\"type\":\"scattercarpet\"}],\"scattergeo\":[{\"marker\":{\"colorbar\":{\"outlinewidth\":0,\"ticks\":\"\"}},\"type\":\"scattergeo\"}],\"scattergl\":[{\"marker\":{\"colorbar\":{\"outlinewidth\":0,\"ticks\":\"\"}},\"type\":\"scattergl\"}],\"scattermapbox\":[{\"marker\":{\"colorbar\":{\"outlinewidth\":0,\"ticks\":\"\"}},\"type\":\"scattermapbox\"}],\"scatterpolar\":[{\"marker\":{\"colorbar\":{\"outlinewidth\":0,\"ticks\":\"\"}},\"type\":\"scatterpolar\"}],\"scatterpolargl\":[{\"marker\":{\"colorbar\":{\"outlinewidth\":0,\"ticks\":\"\"}},\"type\":\"scatterpolargl\"}],\"scatterternary\":[{\"marker\":{\"colorbar\":{\"outlinewidth\":0,\"ticks\":\"\"}},\"type\":\"scatterternary\"}],\"surface\":[{\"colorbar\":{\"outlinewidth\":0,\"ticks\":\"\"},\"colorscale\":[[0.0,\"#0d0887\"],[0.1111111111111111,\"#46039f\"],[0.2222222222222222,\"#7201a8\"],[0.3333333333333333,\"#9c179e\"],[0.4444444444444444,\"#bd3786\"],[0.5555555555555556,\"#d8576b\"],[0.6666666666666666,\"#ed7953\"],[0.7777777777777778,\"#fb9f3a\"],[0.8888888888888888,\"#fdca26\"],[1.0,\"#f0f921\"]],\"type\":\"surface\"}],\"table\":[{\"cells\":{\"fill\":{\"color\":\"#EBF0F8\"},\"line\":{\"color\":\"white\"}},\"header\":{\"fill\":{\"color\":\"#C8D4E3\"},\"line\":{\"color\":\"white\"}},\"type\":\"table\"}]},\"layout\":{\"annotationdefaults\":{\"arrowcolor\":\"#2a3f5f\",\"arrowhead\":0,\"arrowwidth\":1},\"autotypenumbers\":\"strict\",\"coloraxis\":{\"colorbar\":{\"outlinewidth\":0,\"ticks\":\"\"}},\"colorscale\":{\"diverging\":[[0,\"#8e0152\"],[0.1,\"#c51b7d\"],[0.2,\"#de77ae\"],[0.3,\"#f1b6da\"],[0.4,\"#fde0ef\"],[0.5,\"#f7f7f7\"],[0.6,\"#e6f5d0\"],[0.7,\"#b8e186\"],[0.8,\"#7fbc41\"],[0.9,\"#4d9221\"],[1,\"#276419\"]],\"sequential\":[[0.0,\"#0d0887\"],[0.1111111111111111,\"#46039f\"],[0.2222222222222222,\"#7201a8\"],[0.3333333333333333,\"#9c179e\"],[0.4444444444444444,\"#bd3786\"],[0.5555555555555556,\"#d8576b\"],[0.6666666666666666,\"#ed7953\"],[0.7777777777777778,\"#fb9f3a\"],[0.8888888888888888,\"#fdca26\"],[1.0,\"#f0f921\"]],\"sequentialminus\":[[0.0,\"#0d0887\"],[0.1111111111111111,\"#46039f\"],[0.2222222222222222,\"#7201a8\"],[0.3333333333333333,\"#9c179e\"],[0.4444444444444444,\"#bd3786\"],[0.5555555555555556,\"#d8576b\"],[0.6666666666666666,\"#ed7953\"],[0.7777777777777778,\"#fb9f3a\"],[0.8888888888888888,\"#fdca26\"],[1.0,\"#f0f921\"]]},\"colorway\":[\"#636efa\",\"#EF553B\",\"#00cc96\",\"#ab63fa\",\"#FFA15A\",\"#19d3f3\",\"#FF6692\",\"#B6E880\",\"#FF97FF\",\"#FECB52\"],\"font\":{\"color\":\"#2a3f5f\"},\"geo\":{\"bgcolor\":\"white\",\"lakecolor\":\"white\",\"landcolor\":\"#E5ECF6\",\"showlakes\":true,\"showland\":true,\"subunitcolor\":\"white\"},\"hoverlabel\":{\"align\":\"left\"},\"hovermode\":\"closest\",\"mapbox\":{\"style\":\"light\"},\"paper_bgcolor\":\"white\",\"plot_bgcolor\":\"#E5ECF6\",\"polar\":{\"angularaxis\":{\"gridcolor\":\"white\",\"linecolor\":\"white\",\"ticks\":\"\"},\"bgcolor\":\"#E5ECF6\",\"radialaxis\":{\"gridcolor\":\"white\",\"linecolor\":\"white\",\"ticks\":\"\"}},\"scene\":{\"xaxis\":{\"backgroundcolor\":\"#E5ECF6\",\"gridcolor\":\"white\",\"gridwidth\":2,\"linecolor\":\"white\",\"showbackground\":true,\"ticks\":\"\",\"zerolinecolor\":\"white\"},\"yaxis\":{\"backgroundcolor\":\"#E5ECF6\",\"gridcolor\":\"white\",\"gridwidth\":2,\"linecolor\":\"white\",\"showbackground\":true,\"ticks\":\"\",\"zerolinecolor\":\"white\"},\"zaxis\":{\"backgroundcolor\":\"#E5ECF6\",\"gridcolor\":\"white\",\"gridwidth\":2,\"linecolor\":\"white\",\"showbackground\":true,\"ticks\":\"\",\"zerolinecolor\":\"white\"}},\"shapedefaults\":{\"line\":{\"color\":\"#2a3f5f\"}},\"ternary\":{\"aaxis\":{\"gridcolor\":\"white\",\"linecolor\":\"white\",\"ticks\":\"\"},\"baxis\":{\"gridcolor\":\"white\",\"linecolor\":\"white\",\"ticks\":\"\"},\"bgcolor\":\"#E5ECF6\",\"caxis\":{\"gridcolor\":\"white\",\"linecolor\":\"white\",\"ticks\":\"\"}},\"title\":{\"x\":0.05},\"xaxis\":{\"automargin\":true,\"gridcolor\":\"white\",\"linecolor\":\"white\",\"ticks\":\"\",\"title\":{\"standoff\":15},\"zerolinecolor\":\"white\",\"zerolinewidth\":2},\"yaxis\":{\"automargin\":true,\"gridcolor\":\"white\",\"linecolor\":\"white\",\"ticks\":\"\",\"title\":{\"standoff\":15},\"zerolinecolor\":\"white\",\"zerolinewidth\":2}}},\"xaxis\":{\"anchor\":\"y\",\"domain\":[0.0,1.0],\"title\":{\"text\":\"estado\"}},\"yaxis\":{\"anchor\":\"x\",\"domain\":[0.0,1.0],\"title\":{\"text\":\"total_casos_estados\"}},\"coloraxis\":{\"colorbar\":{\"title\":{\"text\":\"total_casos_estados\"}},\"colorscale\":[[0.0,\"#0d0887\"],[0.1111111111111111,\"#46039f\"],[0.2222222222222222,\"#7201a8\"],[0.3333333333333333,\"#9c179e\"],[0.4444444444444444,\"#bd3786\"],[0.5555555555555556,\"#d8576b\"],[0.6666666666666666,\"#ed7953\"],[0.7777777777777778,\"#fb9f3a\"],[0.8888888888888888,\"#fdca26\"],[1.0,\"#f0f921\"]]},\"legend\":{\"tracegroupgap\":0},\"title\":{\"text\":\"Casos novos de Covid\"},\"barmode\":\"group\"},                        {\"responsive\": true}                    ).then(function(){\n",
              "                            \n",
              "var gd = document.getElementById('3bca412e-244f-40fa-a11d-b13b707cdebf');\n",
              "var x = new MutationObserver(function (mutations, observer) {{\n",
              "        var display = window.getComputedStyle(gd).display;\n",
              "        if (!display || display === 'none') {{\n",
              "            console.log([gd, 'removed!']);\n",
              "            Plotly.purge(gd);\n",
              "            observer.disconnect();\n",
              "        }}\n",
              "}});\n",
              "\n",
              "// Listen for the removal of the full notebook cells\n",
              "var notebookContainer = gd.closest('#notebook-container');\n",
              "if (notebookContainer) {{\n",
              "    x.observe(notebookContainer, {childList: true});\n",
              "}}\n",
              "\n",
              "// Listen for the clearing of the current output cell\n",
              "var outputEl = gd.closest('.output');\n",
              "if (outputEl) {{\n",
              "    x.observe(outputEl, {childList: true});\n",
              "}}\n",
              "\n",
              "                        })                };                            </script>        </div>\n",
              "</body>\n",
              "</html>"
            ]
          },
          "metadata": {}
        },
        {
          "output_type": "display_data",
          "data": {
            "text/html": [
              "<html>\n",
              "<head><meta charset=\"utf-8\" /></head>\n",
              "<body>\n",
              "    <div>            <script src=\"https://cdnjs.cloudflare.com/ajax/libs/mathjax/2.7.5/MathJax.js?config=TeX-AMS-MML_SVG\"></script><script type=\"text/javascript\">if (window.MathJax) {MathJax.Hub.Config({SVG: {font: \"STIX-Web\"}});}</script>                <script type=\"text/javascript\">window.PlotlyConfig = {MathJaxConfig: 'local'};</script>\n",
              "        <script src=\"https://cdn.plot.ly/plotly-2.8.3.min.js\"></script>                <div id=\"32c2a016-acdc-4934-b2cd-eb2eac832f4e\" class=\"plotly-graph-div\" style=\"height:525px; width:100%;\"></div>            <script type=\"text/javascript\">                                    window.PLOTLYENV=window.PLOTLYENV || {};                                    if (document.getElementById(\"32c2a016-acdc-4934-b2cd-eb2eac832f4e\")) {                    Plotly.newPlot(                        \"32c2a016-acdc-4934-b2cd-eb2eac832f4e\",                        [{\"alignmentgroup\":\"True\",\"hovertemplate\":\"estado=%{x}<br>2018=%{marker.color}<extra></extra>\",\"legendgroup\":\"\",\"marker\":{\"color\":[8.2,27.5,42.7,19.9,25.9,18.9,32.5,24.2,8.3,37.8,18.9,8.0,16.3,41.1,17.1,27.9,35.3,38.6,30.2,36.9,34.8,6.3,45.5,36.5,11.5,15.9,27.4],\"coloraxis\":\"coloraxis\",\"pattern\":{\"shape\":\"\"}},\"name\":\"\",\"offsetgroup\":\"\",\"orientation\":\"v\",\"showlegend\":false,\"textposition\":\"auto\",\"x\":[\"SC\",\"RO\",\"PI\",\"AM\",\"RR\",\"GO\",\"TO\",\"MT\",\"SP\",\"PB\",\"ES\",\"RS\",\"MS\",\"AL\",\"MG\",\"PA\",\"BA\",\"SE\",\"PE\",\"CE\",\"RN\",\"RJ\",\"MA\",\"AC\",\"DF\",\"PR\",\"AP\"],\"xaxis\":\"x\",\"y\":[8.2,27.5,42.7,19.9,25.9,18.9,32.5,24.2,8.3,37.8,18.9,8.0,16.3,41.1,17.1,27.9,35.3,38.6,30.2,36.9,34.8,6.3,45.5,36.5,11.5,15.9,27.4],\"yaxis\":\"y\",\"type\":\"bar\"}],                        {\"template\":{\"data\":{\"bar\":[{\"error_x\":{\"color\":\"#2a3f5f\"},\"error_y\":{\"color\":\"#2a3f5f\"},\"marker\":{\"line\":{\"color\":\"#E5ECF6\",\"width\":0.5},\"pattern\":{\"fillmode\":\"overlay\",\"size\":10,\"solidity\":0.2}},\"type\":\"bar\"}],\"barpolar\":[{\"marker\":{\"line\":{\"color\":\"#E5ECF6\",\"width\":0.5},\"pattern\":{\"fillmode\":\"overlay\",\"size\":10,\"solidity\":0.2}},\"type\":\"barpolar\"}],\"carpet\":[{\"aaxis\":{\"endlinecolor\":\"#2a3f5f\",\"gridcolor\":\"white\",\"linecolor\":\"white\",\"minorgridcolor\":\"white\",\"startlinecolor\":\"#2a3f5f\"},\"baxis\":{\"endlinecolor\":\"#2a3f5f\",\"gridcolor\":\"white\",\"linecolor\":\"white\",\"minorgridcolor\":\"white\",\"startlinecolor\":\"#2a3f5f\"},\"type\":\"carpet\"}],\"choropleth\":[{\"colorbar\":{\"outlinewidth\":0,\"ticks\":\"\"},\"type\":\"choropleth\"}],\"contour\":[{\"colorbar\":{\"outlinewidth\":0,\"ticks\":\"\"},\"colorscale\":[[0.0,\"#0d0887\"],[0.1111111111111111,\"#46039f\"],[0.2222222222222222,\"#7201a8\"],[0.3333333333333333,\"#9c179e\"],[0.4444444444444444,\"#bd3786\"],[0.5555555555555556,\"#d8576b\"],[0.6666666666666666,\"#ed7953\"],[0.7777777777777778,\"#fb9f3a\"],[0.8888888888888888,\"#fdca26\"],[1.0,\"#f0f921\"]],\"type\":\"contour\"}],\"contourcarpet\":[{\"colorbar\":{\"outlinewidth\":0,\"ticks\":\"\"},\"type\":\"contourcarpet\"}],\"heatmap\":[{\"colorbar\":{\"outlinewidth\":0,\"ticks\":\"\"},\"colorscale\":[[0.0,\"#0d0887\"],[0.1111111111111111,\"#46039f\"],[0.2222222222222222,\"#7201a8\"],[0.3333333333333333,\"#9c179e\"],[0.4444444444444444,\"#bd3786\"],[0.5555555555555556,\"#d8576b\"],[0.6666666666666666,\"#ed7953\"],[0.7777777777777778,\"#fb9f3a\"],[0.8888888888888888,\"#fdca26\"],[1.0,\"#f0f921\"]],\"type\":\"heatmap\"}],\"heatmapgl\":[{\"colorbar\":{\"outlinewidth\":0,\"ticks\":\"\"},\"colorscale\":[[0.0,\"#0d0887\"],[0.1111111111111111,\"#46039f\"],[0.2222222222222222,\"#7201a8\"],[0.3333333333333333,\"#9c179e\"],[0.4444444444444444,\"#bd3786\"],[0.5555555555555556,\"#d8576b\"],[0.6666666666666666,\"#ed7953\"],[0.7777777777777778,\"#fb9f3a\"],[0.8888888888888888,\"#fdca26\"],[1.0,\"#f0f921\"]],\"type\":\"heatmapgl\"}],\"histogram\":[{\"marker\":{\"pattern\":{\"fillmode\":\"overlay\",\"size\":10,\"solidity\":0.2}},\"type\":\"histogram\"}],\"histogram2d\":[{\"colorbar\":{\"outlinewidth\":0,\"ticks\":\"\"},\"colorscale\":[[0.0,\"#0d0887\"],[0.1111111111111111,\"#46039f\"],[0.2222222222222222,\"#7201a8\"],[0.3333333333333333,\"#9c179e\"],[0.4444444444444444,\"#bd3786\"],[0.5555555555555556,\"#d8576b\"],[0.6666666666666666,\"#ed7953\"],[0.7777777777777778,\"#fb9f3a\"],[0.8888888888888888,\"#fdca26\"],[1.0,\"#f0f921\"]],\"type\":\"histogram2d\"}],\"histogram2dcontour\":[{\"colorbar\":{\"outlinewidth\":0,\"ticks\":\"\"},\"colorscale\":[[0.0,\"#0d0887\"],[0.1111111111111111,\"#46039f\"],[0.2222222222222222,\"#7201a8\"],[0.3333333333333333,\"#9c179e\"],[0.4444444444444444,\"#bd3786\"],[0.5555555555555556,\"#d8576b\"],[0.6666666666666666,\"#ed7953\"],[0.7777777777777778,\"#fb9f3a\"],[0.8888888888888888,\"#fdca26\"],[1.0,\"#f0f921\"]],\"type\":\"histogram2dcontour\"}],\"mesh3d\":[{\"colorbar\":{\"outlinewidth\":0,\"ticks\":\"\"},\"type\":\"mesh3d\"}],\"parcoords\":[{\"line\":{\"colorbar\":{\"outlinewidth\":0,\"ticks\":\"\"}},\"type\":\"parcoords\"}],\"pie\":[{\"automargin\":true,\"type\":\"pie\"}],\"scatter\":[{\"marker\":{\"colorbar\":{\"outlinewidth\":0,\"ticks\":\"\"}},\"type\":\"scatter\"}],\"scatter3d\":[{\"line\":{\"colorbar\":{\"outlinewidth\":0,\"ticks\":\"\"}},\"marker\":{\"colorbar\":{\"outlinewidth\":0,\"ticks\":\"\"}},\"type\":\"scatter3d\"}],\"scattercarpet\":[{\"marker\":{\"colorbar\":{\"outlinewidth\":0,\"ticks\":\"\"}},\"type\":\"scattercarpet\"}],\"scattergeo\":[{\"marker\":{\"colorbar\":{\"outlinewidth\":0,\"ticks\":\"\"}},\"type\":\"scattergeo\"}],\"scattergl\":[{\"marker\":{\"colorbar\":{\"outlinewidth\":0,\"ticks\":\"\"}},\"type\":\"scattergl\"}],\"scattermapbox\":[{\"marker\":{\"colorbar\":{\"outlinewidth\":0,\"ticks\":\"\"}},\"type\":\"scattermapbox\"}],\"scatterpolar\":[{\"marker\":{\"colorbar\":{\"outlinewidth\":0,\"ticks\":\"\"}},\"type\":\"scatterpolar\"}],\"scatterpolargl\":[{\"marker\":{\"colorbar\":{\"outlinewidth\":0,\"ticks\":\"\"}},\"type\":\"scatterpolargl\"}],\"scatterternary\":[{\"marker\":{\"colorbar\":{\"outlinewidth\":0,\"ticks\":\"\"}},\"type\":\"scatterternary\"}],\"surface\":[{\"colorbar\":{\"outlinewidth\":0,\"ticks\":\"\"},\"colorscale\":[[0.0,\"#0d0887\"],[0.1111111111111111,\"#46039f\"],[0.2222222222222222,\"#7201a8\"],[0.3333333333333333,\"#9c179e\"],[0.4444444444444444,\"#bd3786\"],[0.5555555555555556,\"#d8576b\"],[0.6666666666666666,\"#ed7953\"],[0.7777777777777778,\"#fb9f3a\"],[0.8888888888888888,\"#fdca26\"],[1.0,\"#f0f921\"]],\"type\":\"surface\"}],\"table\":[{\"cells\":{\"fill\":{\"color\":\"#EBF0F8\"},\"line\":{\"color\":\"white\"}},\"header\":{\"fill\":{\"color\":\"#C8D4E3\"},\"line\":{\"color\":\"white\"}},\"type\":\"table\"}]},\"layout\":{\"annotationdefaults\":{\"arrowcolor\":\"#2a3f5f\",\"arrowhead\":0,\"arrowwidth\":1},\"autotypenumbers\":\"strict\",\"coloraxis\":{\"colorbar\":{\"outlinewidth\":0,\"ticks\":\"\"}},\"colorscale\":{\"diverging\":[[0,\"#8e0152\"],[0.1,\"#c51b7d\"],[0.2,\"#de77ae\"],[0.3,\"#f1b6da\"],[0.4,\"#fde0ef\"],[0.5,\"#f7f7f7\"],[0.6,\"#e6f5d0\"],[0.7,\"#b8e186\"],[0.8,\"#7fbc41\"],[0.9,\"#4d9221\"],[1,\"#276419\"]],\"sequential\":[[0.0,\"#0d0887\"],[0.1111111111111111,\"#46039f\"],[0.2222222222222222,\"#7201a8\"],[0.3333333333333333,\"#9c179e\"],[0.4444444444444444,\"#bd3786\"],[0.5555555555555556,\"#d8576b\"],[0.6666666666666666,\"#ed7953\"],[0.7777777777777778,\"#fb9f3a\"],[0.8888888888888888,\"#fdca26\"],[1.0,\"#f0f921\"]],\"sequentialminus\":[[0.0,\"#0d0887\"],[0.1111111111111111,\"#46039f\"],[0.2222222222222222,\"#7201a8\"],[0.3333333333333333,\"#9c179e\"],[0.4444444444444444,\"#bd3786\"],[0.5555555555555556,\"#d8576b\"],[0.6666666666666666,\"#ed7953\"],[0.7777777777777778,\"#fb9f3a\"],[0.8888888888888888,\"#fdca26\"],[1.0,\"#f0f921\"]]},\"colorway\":[\"#636efa\",\"#EF553B\",\"#00cc96\",\"#ab63fa\",\"#FFA15A\",\"#19d3f3\",\"#FF6692\",\"#B6E880\",\"#FF97FF\",\"#FECB52\"],\"font\":{\"color\":\"#2a3f5f\"},\"geo\":{\"bgcolor\":\"white\",\"lakecolor\":\"white\",\"landcolor\":\"#E5ECF6\",\"showlakes\":true,\"showland\":true,\"subunitcolor\":\"white\"},\"hoverlabel\":{\"align\":\"left\"},\"hovermode\":\"closest\",\"mapbox\":{\"style\":\"light\"},\"paper_bgcolor\":\"white\",\"plot_bgcolor\":\"#E5ECF6\",\"polar\":{\"angularaxis\":{\"gridcolor\":\"white\",\"linecolor\":\"white\",\"ticks\":\"\"},\"bgcolor\":\"#E5ECF6\",\"radialaxis\":{\"gridcolor\":\"white\",\"linecolor\":\"white\",\"ticks\":\"\"}},\"scene\":{\"xaxis\":{\"backgroundcolor\":\"#E5ECF6\",\"gridcolor\":\"white\",\"gridwidth\":2,\"linecolor\":\"white\",\"showbackground\":true,\"ticks\":\"\",\"zerolinecolor\":\"white\"},\"yaxis\":{\"backgroundcolor\":\"#E5ECF6\",\"gridcolor\":\"white\",\"gridwidth\":2,\"linecolor\":\"white\",\"showbackground\":true,\"ticks\":\"\",\"zerolinecolor\":\"white\"},\"zaxis\":{\"backgroundcolor\":\"#E5ECF6\",\"gridcolor\":\"white\",\"gridwidth\":2,\"linecolor\":\"white\",\"showbackground\":true,\"ticks\":\"\",\"zerolinecolor\":\"white\"}},\"shapedefaults\":{\"line\":{\"color\":\"#2a3f5f\"}},\"ternary\":{\"aaxis\":{\"gridcolor\":\"white\",\"linecolor\":\"white\",\"ticks\":\"\"},\"baxis\":{\"gridcolor\":\"white\",\"linecolor\":\"white\",\"ticks\":\"\"},\"bgcolor\":\"#E5ECF6\",\"caxis\":{\"gridcolor\":\"white\",\"linecolor\":\"white\",\"ticks\":\"\"}},\"title\":{\"x\":0.05},\"xaxis\":{\"automargin\":true,\"gridcolor\":\"white\",\"linecolor\":\"white\",\"ticks\":\"\",\"title\":{\"standoff\":15},\"zerolinecolor\":\"white\",\"zerolinewidth\":2},\"yaxis\":{\"automargin\":true,\"gridcolor\":\"white\",\"linecolor\":\"white\",\"ticks\":\"\",\"title\":{\"standoff\":15},\"zerolinecolor\":\"white\",\"zerolinewidth\":2}}},\"xaxis\":{\"anchor\":\"y\",\"domain\":[0.0,1.0],\"title\":{\"text\":\"estado\"}},\"yaxis\":{\"anchor\":\"x\",\"domain\":[0.0,1.0],\"title\":{\"text\":\"2018\"}},\"coloraxis\":{\"colorbar\":{\"title\":{\"text\":\"2018\"}},\"colorscale\":[[0.0,\"#0d0887\"],[0.1111111111111111,\"#46039f\"],[0.2222222222222222,\"#7201a8\"],[0.3333333333333333,\"#9c179e\"],[0.4444444444444444,\"#bd3786\"],[0.5555555555555556,\"#d8576b\"],[0.6666666666666666,\"#ed7953\"],[0.7777777777777778,\"#fb9f3a\"],[0.8888888888888888,\"#fdca26\"],[1.0,\"#f0f921\"]]},\"legend\":{\"tracegroupgap\":0},\"title\":{\"text\":\"Taxa de analfabetismo em 2018\"},\"barmode\":\"group\"},                        {\"responsive\": true}                    ).then(function(){\n",
              "                            \n",
              "var gd = document.getElementById('32c2a016-acdc-4934-b2cd-eb2eac832f4e');\n",
              "var x = new MutationObserver(function (mutations, observer) {{\n",
              "        var display = window.getComputedStyle(gd).display;\n",
              "        if (!display || display === 'none') {{\n",
              "            console.log([gd, 'removed!']);\n",
              "            Plotly.purge(gd);\n",
              "            observer.disconnect();\n",
              "        }}\n",
              "}});\n",
              "\n",
              "// Listen for the removal of the full notebook cells\n",
              "var notebookContainer = gd.closest('#notebook-container');\n",
              "if (notebookContainer) {{\n",
              "    x.observe(notebookContainer, {childList: true});\n",
              "}}\n",
              "\n",
              "// Listen for the clearing of the current output cell\n",
              "var outputEl = gd.closest('.output');\n",
              "if (outputEl) {{\n",
              "    x.observe(outputEl, {childList: true});\n",
              "}}\n",
              "\n",
              "                        })                };                            </script>        </div>\n",
              "</body>\n",
              "</html>"
            ]
          },
          "metadata": {}
        }
      ],
      "source": [
        "to_plot_educacao = [v for v in list(graf_educacao.columns)]\n",
        "\n",
        "fig_graf_educacao_covid = px.bar(graf_educacao,\\\n",
        "                                 x=graf_educacao.estado,\\\n",
        "                                 y=to_plot_educacao,\\\n",
        "                                 barmode=\"stack\",\\\n",
        "                                 text_auto='.2s',\\\n",
        "                                 title=\"Casos novos de Covid e IDH\")\n",
        "             \n",
        "fig_graf_educacao_covid.show()\n",
        "\n",
        "\n",
        "graf_educacao_covid_cs = px.bar(graf_educacao,\\\n",
        "                                x='estado', \\\n",
        "                                y=\"total_casos_estados\",\\\n",
        "                                barmode=\"group\",\\\n",
        "                                color=\"total_casos_estados\",\\\n",
        "                                title=\"Casos novos de Covid\")\n",
        "graf_educacao_covid= px.bar(graf_educacao, \\\n",
        "                            x='estado',\\\n",
        "                            y=\"2018\",\\\n",
        "                            barmode=\"group\",\\\n",
        "                            color=\"2018\",\\\n",
        "                            title=\"Taxa de analfabetismo em 2018\")\n",
        "\n",
        "graf_educacao_covid_cs.show()\n",
        "graf_educacao_covid.show()"
      ]
    },
    {
      "cell_type": "markdown",
      "metadata": {
        "id": "UJP3uQX1jZ9I"
      },
      "source": [
        "#### Importação da tabela de IDHM no Brasil referente ao ano de 2017, devido não encontrar dados mais rescentes."
      ]
    },
    {
      "cell_type": "code",
      "execution_count": 67,
      "metadata": {
        "id": "-CvC7pNtkBTj",
        "colab": {
          "base_uri": "https://localhost:8080/"
        },
        "outputId": "21420f91-2e0f-425c-cf17-9a5510803cb0"
      },
      "outputs": [
        {
          "output_type": "stream",
          "name": "stdout",
          "text": [
            "+------------------+------------+-----+------------------+----------+---------------------+-------------+------------------------+----------------+\n",
            "|  Territorialidade|Posição_IDHM| IDHM|Posição_IDHM_Renda|IDHM_Renda|Posição_IDHM_Educação|IDHM_Educação|Posição_IDHM_Longevidade|IDHM_Longevidade|\n",
            "+------------------+------------+-----+------------------+----------+---------------------+-------------+------------------------+----------------+\n",
            "|         São Paulo|           2|0.826|                 5|     0.854|                    1|        0.828|                       2|           0.796|\n",
            "|  Distrito Federal|           1| 0.85|                 1|      0.89|                    2|        0.804|                       1|           0.859|\n",
            "|    Santa Catarina|           3|0.808|                 3|     0.866|                    3|        0.779|                       4|           0.783|\n",
            "|           Roraima|          11|0.752|                22|     0.781|                    4|        0.771|                      12|           0.706|\n",
            "|            Paraná|           5|0.792|                 9|     0.843|                    5|        0.764|                       5|           0.771|\n",
            "|    Rio de Janeiro|           4|0.796|                 4|     0.858|                    6|        0.763|                       6|           0.769|\n",
            "|       Mato Grosso|           7|0.774|                10|     0.825|                    7|        0.758|                       9|           0.742|\n",
            "|      Minas Gerais|           6|0.787|                 2|     0.875|                    8|        0.753|                      10|           0.741|\n",
            "|             Goiás|           9|0.769|                11|     0.822|                    9|         0.74|                       8|           0.747|\n",
            "|          Amazonas|          15|0.733|                20|     0.786|                   10|        0.735|                      18|           0.682|\n",
            "|    Espírito Santo|           8|0.772|                 6|      0.85|                   11|        0.732|                      11|            0.74|\n",
            "| Rio Grande do Sul|           6|0.787|                 7|     0.849|                   12|        0.729|                       3|           0.787|\n",
            "|         Tocantins|          12|0.743|                16|     0.811|                   13|        0.727|                      14|           0.696|\n",
            "|             Ceará|          14|0.735|                14|     0.818|                   14|        0.717|                      21|           0.676|\n",
            "|Mato Grosso do Sul|          10|0.766|                 8|     0.847|                   15|         0.71|                       7|           0.748|\n",
            "|             Amapá|          13| 0.74|                13|      0.82|                   15|         0.71|                      15|           0.695|\n",
            "|          Rondônia|          18|0.725|                23|     0.776|                   16|        0.703|                      13|           0.699|\n",
            "|        Pernambuco|          17|0.727|                12|     0.821|                   17|        0.685|                      18|           0.682|\n",
            "|          Maranhão|          25|0.687|                25|     0.764|                   18|        0.682|                      26|           0.623|\n",
            "|              Acre|          20|0.719|                12|     0.821|                   18|        0.682|                      22|           0.664|\n",
            "+------------------+------------+-----+------------------+----------+---------------------+-------------+------------------------+----------------+\n",
            "only showing top 20 rows\n",
            "\n"
          ]
        }
      ],
      "source": [
        "idh = spark.read.format('csv')\\\n",
        "                .options(header='true',\\\n",
        "                         inferschema='true')\\\n",
        "           .load(f'{caminho_local}/idh.csv',header=True)\n",
        "idh.show()"
      ]
    },
    {
      "cell_type": "markdown",
      "metadata": {
        "id": "Y7t5Brs7ZWMJ"
      },
      "source": [
        "#### Foram alterados os valores da coluna Territorialidade no dataframe IDHM, de nome do estado para a sigla do estado para futura comparação com os dados de Covid."
      ]
    },
    {
      "cell_type": "code",
      "execution_count": 68,
      "metadata": {
        "id": "aSXOH57kZVwT",
        "colab": {
          "base_uri": "https://localhost:8080/"
        },
        "outputId": "ff223a31-9e66-4669-b03f-2bb064e34b16"
      },
      "outputs": [
        {
          "output_type": "stream",
          "name": "stdout",
          "text": [
            "+----------------+------------+-----+------------------+----------+---------------------+-------------+------------------------+----------------+\n",
            "|Territorialidade|Posição_IDHM| IDHM|Posição_IDHM_Renda|IDHM_Renda|Posição_IDHM_Educação|IDHM_Educação|Posição_IDHM_Longevidade|IDHM_Longevidade|\n",
            "+----------------+------------+-----+------------------+----------+---------------------+-------------+------------------------+----------------+\n",
            "|              SP|           2|0.826|                 5|     0.854|                    1|        0.828|                       2|           0.796|\n",
            "|              DF|           1| 0.85|                 1|      0.89|                    2|        0.804|                       1|           0.859|\n",
            "|              SC|           3|0.808|                 3|     0.866|                    3|        0.779|                       4|           0.783|\n",
            "|              RR|          11|0.752|                22|     0.781|                    4|        0.771|                      12|           0.706|\n",
            "|              PR|           5|0.792|                 9|     0.843|                    5|        0.764|                       5|           0.771|\n",
            "|              RJ|           4|0.796|                 4|     0.858|                    6|        0.763|                       6|           0.769|\n",
            "|              MT|           7|0.774|                10|     0.825|                    7|        0.758|                       9|           0.742|\n",
            "|              MG|           6|0.787|                 2|     0.875|                    8|        0.753|                      10|           0.741|\n",
            "|              GO|           9|0.769|                11|     0.822|                    9|         0.74|                       8|           0.747|\n",
            "|              AM|          15|0.733|                20|     0.786|                   10|        0.735|                      18|           0.682|\n",
            "|              ES|           8|0.772|                 6|      0.85|                   11|        0.732|                      11|            0.74|\n",
            "|              RS|           6|0.787|                 7|     0.849|                   12|        0.729|                       3|           0.787|\n",
            "|              TO|          12|0.743|                16|     0.811|                   13|        0.727|                      14|           0.696|\n",
            "|              CE|          14|0.735|                14|     0.818|                   14|        0.717|                      21|           0.676|\n",
            "|              MS|          10|0.766|                 8|     0.847|                   15|         0.71|                       7|           0.748|\n",
            "|              AP|          13| 0.74|                13|      0.82|                   15|         0.71|                      15|           0.695|\n",
            "|              RO|          18|0.725|                23|     0.776|                   16|        0.703|                      13|           0.699|\n",
            "|              PE|          17|0.727|                12|     0.821|                   17|        0.685|                      18|           0.682|\n",
            "|              MA|          25|0.687|                25|     0.764|                   18|        0.682|                      26|           0.623|\n",
            "|              AC|          20|0.719|                12|     0.821|                   18|        0.682|                      22|           0.664|\n",
            "|              RN|          16|0.731|                 7|     0.849|                   19|        0.677|                      19|            0.68|\n",
            "|              PB|          19|0.722|                17|     0.809|                   20|        0.671|                      16|           0.694|\n",
            "|              PI|          24|0.697|                24|     0.771|                   21|        0.666|                      23|            0.66|\n",
            "|              PA|          23|0.698|                19|     0.788|                   22|        0.661|                      24|           0.654|\n",
            "|              BA|          21|0.714|                15|     0.812|                   23|        0.654|                      17|           0.685|\n",
            "|              SE|          22|0.702|                18|     0.799|                   24|         0.64|                      20|           0.677|\n",
            "|              AL|          26|0.683|                21|     0.783|                   25|        0.636|                      25|           0.639|\n",
            "+----------------+------------+-----+------------------+----------+---------------------+-------------+------------------------+----------------+\n",
            "\n"
          ]
        }
      ],
      "source": [
        "idh = idh.withColumn('Territorialidade',\\\n",
        "                                   regexp_replace('Territorialidade', 'Rondônia', 'RO'))\\\n",
        "                       .withColumn('Territorialidade',\\\n",
        "                                   regexp_replace('Territorialidade', 'Acre', 'AC'))\\\n",
        "                       .withColumn('Territorialidade',\\\n",
        "                                   regexp_replace('Territorialidade', 'Amazonas', 'AM'))\\\n",
        "                       .withColumn('Territorialidade',\\\n",
        "                                   regexp_replace('Territorialidade', 'Roraima', 'RR'))\\\n",
        "                       .withColumn('Territorialidade',\\\n",
        "                                   regexp_replace('Territorialidade', 'Pará', 'PA'))\\\n",
        "                       .withColumn('Territorialidade',\\\n",
        "                                   regexp_replace('Territorialidade', 'Amapá', 'AP'))\\\n",
        "                       .withColumn('Territorialidade',\\\n",
        "                                   regexp_replace('Territorialidade', 'Tocantins', 'TO'))\\\n",
        "                       .withColumn('Territorialidade',\\\n",
        "                                   regexp_replace('Territorialidade', 'Maranhão', 'MA'))\\\n",
        "                       .withColumn('Territorialidade',\\\n",
        "                                   regexp_replace('Territorialidade', 'Piauí', 'PI'))\\\n",
        "                       .withColumn('Territorialidade',\\\n",
        "                                   regexp_replace('Territorialidade', 'Ceará', 'CE'))\\\n",
        "                       .withColumn('Territorialidade',\\\n",
        "                                   regexp_replace('Territorialidade', 'Rio Grande do Norte', 'RN'))\\\n",
        "                       .withColumn('Territorialidade',\\\n",
        "                                   regexp_replace('Territorialidade', 'Paraíba', 'PB'))\\\n",
        "                       .withColumn('Territorialidade',\\\n",
        "                                   regexp_replace('Territorialidade', 'Pernambuco', 'PE'))\\\n",
        "                       .withColumn('Territorialidade',\\\n",
        "                                   regexp_replace('Territorialidade', 'Alagoas', 'AL'))\\\n",
        "                       .withColumn('Territorialidade',\\\n",
        "                                   regexp_replace('Territorialidade', 'Sergipe', 'SE'))\\\n",
        "                       .withColumn('Territorialidade',\\\n",
        "                                   regexp_replace('Territorialidade', 'Bahia', 'BA'))\\\n",
        "                       .withColumn('Territorialidade',\\\n",
        "                                   regexp_replace('Territorialidade', 'Minas Gerais', 'MG'))\\\n",
        "                       .withColumn('Territorialidade',\\\n",
        "                                   regexp_replace('Territorialidade', 'Espírito Santo', 'ES'))\\\n",
        "                       .withColumn('Territorialidade',\\\n",
        "                                   regexp_replace('Territorialidade', 'Rio de Janeiro', 'RJ'))\\\n",
        "                       .withColumn('Territorialidade',\\\n",
        "                                   regexp_replace('Territorialidade', 'São Paulo', 'SP'))\\\n",
        "                       .withColumn('Territorialidade',\\\n",
        "                                   regexp_replace('Territorialidade', 'Paraná', 'PR'))\\\n",
        "                       .withColumn('Territorialidade',\\\n",
        "                                   regexp_replace('Territorialidade', 'Santa Catarina', 'SC'))\\\n",
        "                       .withColumn('Territorialidade',\\\n",
        "                                   regexp_replace('Territorialidade', 'Rio Grande do Sul', 'RS' ))\\\n",
        "                       .withColumn('Territorialidade',\\\n",
        "                                   regexp_replace('Territorialidade', 'Mato Grosso do Sul', 'MS'))\\\n",
        "                       .withColumn('Territorialidade',\\\n",
        "                                   regexp_replace('Territorialidade', 'Mato Grosso', 'MT'))\\\n",
        "                       .withColumn('Territorialidade',\\\n",
        "                                   regexp_replace('Territorialidade', 'Goiás', 'GO'))\\\n",
        "                       .withColumn('Territorialidade',\\\n",
        "                                   regexp_replace('Territorialidade', 'Distrito Federal', 'DF'))\\\n",
        "\n",
        "idh.show(27)"
      ]
    },
    {
      "cell_type": "markdown",
      "metadata": {
        "id": "-fYbNldYkw9F"
      },
      "source": [
        "#### Foi feita a separaçao do dataframe de acordo com o IDHM considerado para melhor visualização dos dados."
      ]
    },
    {
      "cell_type": "code",
      "execution_count": 69,
      "metadata": {
        "id": "KM2SYrqplSL5",
        "colab": {
          "base_uri": "https://localhost:8080/"
        },
        "outputId": "53d29a34-1252-431a-9e39-269a21314b1e"
      },
      "outputs": [
        {
          "output_type": "stream",
          "name": "stdout",
          "text": [
            "+----------------+------------+-----+\n",
            "|Territorialidade|Posição_IDHM| IDHM|\n",
            "+----------------+------------+-----+\n",
            "|              AL|          26|0.683|\n",
            "|              MA|          25|0.687|\n",
            "|              PI|          24|0.697|\n",
            "|              PA|          23|0.698|\n",
            "|              SE|          22|0.702|\n",
            "|              BA|          21|0.714|\n",
            "|              AC|          20|0.719|\n",
            "|              PB|          19|0.722|\n",
            "|              RO|          18|0.725|\n",
            "|              PE|          17|0.727|\n",
            "|              RN|          16|0.731|\n",
            "|              AM|          15|0.733|\n",
            "|              CE|          14|0.735|\n",
            "|              AP|          13| 0.74|\n",
            "|              TO|          12|0.743|\n",
            "|              RR|          11|0.752|\n",
            "|              MS|          10|0.766|\n",
            "|              GO|           9|0.769|\n",
            "|              ES|           8|0.772|\n",
            "|              MT|           7|0.774|\n",
            "|              MG|           6|0.787|\n",
            "|              RS|           6|0.787|\n",
            "|              PR|           5|0.792|\n",
            "|              RJ|           4|0.796|\n",
            "|              SC|           3|0.808|\n",
            "|              SP|           2|0.826|\n",
            "|              DF|           1| 0.85|\n",
            "+----------------+------------+-----+\n",
            "\n"
          ]
        }
      ],
      "source": [
        "idhm = idh.select(\"Territorialidade\", \"Posição_IDHM\", \"IDHM\")\\\n",
        "          .orderBy(col(\"IDHM\").asc())\n",
        "\n",
        "idhm.show(27)"
      ]
    },
    {
      "cell_type": "code",
      "execution_count": 70,
      "metadata": {
        "id": "4maoB6aamSl5",
        "colab": {
          "base_uri": "https://localhost:8080/"
        },
        "outputId": "cb98b9a4-a411-43c0-dde1-e2fb16f4e85f"
      },
      "outputs": [
        {
          "output_type": "stream",
          "name": "stdout",
          "text": [
            "+----------------+------------------+----------+\n",
            "|Territorialidade|Posição_IDHM_Renda|IDHM_Renda|\n",
            "+----------------+------------------+----------+\n",
            "|              MA|                25|     0.764|\n",
            "|              PI|                24|     0.771|\n",
            "|              RO|                23|     0.776|\n",
            "|              RR|                22|     0.781|\n",
            "|              AL|                21|     0.783|\n",
            "|              AM|                20|     0.786|\n",
            "|              PA|                19|     0.788|\n",
            "|              SE|                18|     0.799|\n",
            "|              PB|                17|     0.809|\n",
            "|              TO|                16|     0.811|\n",
            "|              BA|                15|     0.812|\n",
            "|              CE|                14|     0.818|\n",
            "|              AP|                13|      0.82|\n",
            "|              AC|                12|     0.821|\n",
            "|              PE|                12|     0.821|\n",
            "|              GO|                11|     0.822|\n",
            "|              MT|                10|     0.825|\n",
            "|              PR|                 9|     0.843|\n",
            "|              MS|                 8|     0.847|\n",
            "|              RS|                 7|     0.849|\n",
            "|              RN|                 7|     0.849|\n",
            "|              ES|                 6|      0.85|\n",
            "|              SP|                 5|     0.854|\n",
            "|              RJ|                 4|     0.858|\n",
            "|              SC|                 3|     0.866|\n",
            "|              MG|                 2|     0.875|\n",
            "|              DF|                 1|      0.89|\n",
            "+----------------+------------------+----------+\n",
            "\n"
          ]
        }
      ],
      "source": [
        "idhm_renda = idh.select(\"Territorialidade\", \"Posição_IDHM_Renda\", \"IDHM_Renda\")\\\n",
        "          .orderBy(col(\"IDHM_Renda\").asc())\n",
        "\n",
        "idhm_renda.show(27)"
      ]
    },
    {
      "cell_type": "code",
      "execution_count": 71,
      "metadata": {
        "id": "aEbQcPWpmSxI",
        "colab": {
          "base_uri": "https://localhost:8080/"
        },
        "outputId": "f4834fe8-2080-430d-82cc-799558226aca"
      },
      "outputs": [
        {
          "output_type": "stream",
          "name": "stdout",
          "text": [
            "+----------------+---------------------+-------------+\n",
            "|Territorialidade|Posição_IDHM_Educação|IDHM_Educação|\n",
            "+----------------+---------------------+-------------+\n",
            "|              AL|                   25|        0.636|\n",
            "|              SE|                   24|         0.64|\n",
            "|              BA|                   23|        0.654|\n",
            "|              PA|                   22|        0.661|\n",
            "|              PI|                   21|        0.666|\n",
            "|              PB|                   20|        0.671|\n",
            "|              RN|                   19|        0.677|\n",
            "|              MA|                   18|        0.682|\n",
            "|              AC|                   18|        0.682|\n",
            "|              PE|                   17|        0.685|\n",
            "|              RO|                   16|        0.703|\n",
            "|              MS|                   15|         0.71|\n",
            "|              AP|                   15|         0.71|\n",
            "|              CE|                   14|        0.717|\n",
            "|              TO|                   13|        0.727|\n",
            "|              RS|                   12|        0.729|\n",
            "|              ES|                   11|        0.732|\n",
            "|              AM|                   10|        0.735|\n",
            "|              GO|                    9|         0.74|\n",
            "|              MG|                    8|        0.753|\n",
            "|              MT|                    7|        0.758|\n",
            "|              RJ|                    6|        0.763|\n",
            "|              PR|                    5|        0.764|\n",
            "|              RR|                    4|        0.771|\n",
            "|              SC|                    3|        0.779|\n",
            "|              DF|                    2|        0.804|\n",
            "|              SP|                    1|        0.828|\n",
            "+----------------+---------------------+-------------+\n",
            "\n"
          ]
        }
      ],
      "source": [
        "idhm_educacao = idh.select(\"Territorialidade\", \"Posição_IDHM_Educação\", \"IDHM_Educação\")\\\n",
        "          .orderBy(col(\"IDHM_Educação\").asc())\n",
        "\n",
        "idhm_educacao.show(27)"
      ]
    },
    {
      "cell_type": "code",
      "execution_count": 72,
      "metadata": {
        "id": "IS1EPJZFnZR4",
        "colab": {
          "base_uri": "https://localhost:8080/"
        },
        "outputId": "f98cf7dc-718d-480b-bf14-aee8b5e7dca1"
      },
      "outputs": [
        {
          "output_type": "stream",
          "name": "stdout",
          "text": [
            "+----------------+------------------------+----------------+\n",
            "|Territorialidade|Posição_IDHM_Longevidade|IDHM_Longevidade|\n",
            "+----------------+------------------------+----------------+\n",
            "|              MA|                      26|           0.623|\n",
            "|              AL|                      25|           0.639|\n",
            "|              PA|                      24|           0.654|\n",
            "|              PI|                      23|            0.66|\n",
            "|              AC|                      22|           0.664|\n",
            "|              CE|                      21|           0.676|\n",
            "|              SE|                      20|           0.677|\n",
            "|              RN|                      19|            0.68|\n",
            "|              AM|                      18|           0.682|\n",
            "|              PE|                      18|           0.682|\n",
            "|              BA|                      17|           0.685|\n",
            "|              PB|                      16|           0.694|\n",
            "|              AP|                      15|           0.695|\n",
            "|              TO|                      14|           0.696|\n",
            "|              RO|                      13|           0.699|\n",
            "|              RR|                      12|           0.706|\n",
            "|              ES|                      11|            0.74|\n",
            "|              MG|                      10|           0.741|\n",
            "|              MT|                       9|           0.742|\n",
            "|              GO|                       8|           0.747|\n",
            "|              MS|                       7|           0.748|\n",
            "|              RJ|                       6|           0.769|\n",
            "|              PR|                       5|           0.771|\n",
            "|              SC|                       4|           0.783|\n",
            "|              RS|                       3|           0.787|\n",
            "|              SP|                       2|           0.796|\n",
            "|              DF|                       1|           0.859|\n",
            "+----------------+------------------------+----------------+\n",
            "\n"
          ]
        }
      ],
      "source": [
        "idhm_longevidade = idh.select(\"Territorialidade\", \"Posição_IDHM_Longevidade\", \"IDHM_Longevidade\")\\\n",
        "          .orderBy(col(\"IDHM_Longevidade\").asc())\n",
        "\n",
        "idhm_longevidade.show(27)"
      ]
    },
    {
      "cell_type": "markdown",
      "metadata": {
        "id": "e2UmSZ-XgTP1"
      },
      "source": [
        "#### Demostração dos dados em gráfico."
      ]
    },
    {
      "cell_type": "code",
      "execution_count": 73,
      "metadata": {
        "id": "F92Q2p5xceHp"
      },
      "outputs": [],
      "source": [
        "graf_idh = estado_total_cs.join(idh, estado_total_cs.estado == idh.Territorialidade, \"inner\")\\\n",
        "                          .drop(\"Territorialidade\")\n",
        "graf_idh = graf_idh.toPandas()"
      ]
    },
    {
      "cell_type": "code",
      "execution_count": 74,
      "metadata": {
        "id": "UIW1aQ5vd3bw",
        "colab": {
          "base_uri": "https://localhost:8080/",
          "height": 1000
        },
        "outputId": "4298e309-cd94-45e6-ff39-1b9fa70bb863"
      },
      "outputs": [
        {
          "output_type": "display_data",
          "data": {
            "text/html": [
              "<html>\n",
              "<head><meta charset=\"utf-8\" /></head>\n",
              "<body>\n",
              "    <div>            <script src=\"https://cdnjs.cloudflare.com/ajax/libs/mathjax/2.7.5/MathJax.js?config=TeX-AMS-MML_SVG\"></script><script type=\"text/javascript\">if (window.MathJax) {MathJax.Hub.Config({SVG: {font: \"STIX-Web\"}});}</script>                <script type=\"text/javascript\">window.PlotlyConfig = {MathJaxConfig: 'local'};</script>\n",
              "        <script src=\"https://cdn.plot.ly/plotly-2.8.3.min.js\"></script>                <div id=\"43a06ac7-e472-4d27-9135-40da585998e8\" class=\"plotly-graph-div\" style=\"height:525px; width:100%;\"></div>            <script type=\"text/javascript\">                                    window.PLOTLYENV=window.PLOTLYENV || {};                                    if (document.getElementById(\"43a06ac7-e472-4d27-9135-40da585998e8\")) {                    Plotly.newPlot(                        \"43a06ac7-e472-4d27-9135-40da585998e8\",                        [{\"alignmentgroup\":\"True\",\"hovertemplate\":\"variable=total_casos_estados<br>estado=%{x}<br>value=%{y}<extra></extra>\",\"legendgroup\":\"total_casos_estados\",\"marker\":{\"color\":\"#636efa\",\"pattern\":{\"shape\":\"\"}},\"name\":\"total_casos_estados\",\"offsetgroup\":\"total_casos_estados\",\"orientation\":\"v\",\"showlegend\":true,\"textposition\":\"auto\",\"texttemplate\":\"%{y:.2s}\",\"x\":[\"SC\",\"RO\",\"PI\",\"AM\",\"RR\",\"GO\",\"TO\",\"MT\",\"SP\",\"PB\",\"ES\",\"RS\",\"MS\",\"AL\",\"MG\",\"PA\",\"BA\",\"SE\",\"PE\",\"CE\",\"RN\",\"RJ\",\"MA\",\"AC\",\"DF\",\"PR\",\"AP\"],\"xaxis\":\"x\",\"y\":[1934206.0,488322.0,442442.0,710181.0,210101.0,1713845.0,366096.0,870566.0,6497951.0,730522.0,1302535.0,2734324.0,594415.0,379049.0,3973929.0,974058.0,1859218.0,400336.0,1131222.0,1561859.0,598795.0,2628256.0,584904.0,166195.0,940689.0,2797579.0,213910.0],\"yaxis\":\"y\",\"type\":\"bar\"},{\"alignmentgroup\":\"True\",\"hovertemplate\":\"variable=Posi\\u00e7\\u00e3o_IDHM<br>estado=%{x}<br>value=%{y}<extra></extra>\",\"legendgroup\":\"Posi\\u00e7\\u00e3o_IDHM\",\"marker\":{\"color\":\"#EF553B\",\"pattern\":{\"shape\":\"\"}},\"name\":\"Posi\\u00e7\\u00e3o_IDHM\",\"offsetgroup\":\"Posi\\u00e7\\u00e3o_IDHM\",\"orientation\":\"v\",\"showlegend\":true,\"textposition\":\"auto\",\"texttemplate\":\"%{y:.2s}\",\"x\":[\"SC\",\"RO\",\"PI\",\"AM\",\"RR\",\"GO\",\"TO\",\"MT\",\"SP\",\"PB\",\"ES\",\"RS\",\"MS\",\"AL\",\"MG\",\"PA\",\"BA\",\"SE\",\"PE\",\"CE\",\"RN\",\"RJ\",\"MA\",\"AC\",\"DF\",\"PR\",\"AP\"],\"xaxis\":\"x\",\"y\":[3.0,18.0,24.0,15.0,11.0,9.0,12.0,7.0,2.0,19.0,8.0,6.0,10.0,26.0,6.0,23.0,21.0,22.0,17.0,14.0,16.0,4.0,25.0,20.0,1.0,5.0,13.0],\"yaxis\":\"y\",\"type\":\"bar\"},{\"alignmentgroup\":\"True\",\"hovertemplate\":\"variable=IDHM<br>estado=%{x}<br>value=%{y}<extra></extra>\",\"legendgroup\":\"IDHM\",\"marker\":{\"color\":\"#00cc96\",\"pattern\":{\"shape\":\"\"}},\"name\":\"IDHM\",\"offsetgroup\":\"IDHM\",\"orientation\":\"v\",\"showlegend\":true,\"textposition\":\"auto\",\"texttemplate\":\"%{y:.2s}\",\"x\":[\"SC\",\"RO\",\"PI\",\"AM\",\"RR\",\"GO\",\"TO\",\"MT\",\"SP\",\"PB\",\"ES\",\"RS\",\"MS\",\"AL\",\"MG\",\"PA\",\"BA\",\"SE\",\"PE\",\"CE\",\"RN\",\"RJ\",\"MA\",\"AC\",\"DF\",\"PR\",\"AP\"],\"xaxis\":\"x\",\"y\":[0.808,0.725,0.697,0.733,0.752,0.769,0.743,0.774,0.826,0.722,0.772,0.787,0.766,0.683,0.787,0.698,0.714,0.702,0.727,0.735,0.731,0.796,0.687,0.719,0.85,0.792,0.74],\"yaxis\":\"y\",\"type\":\"bar\"},{\"alignmentgroup\":\"True\",\"hovertemplate\":\"variable=Posi\\u00e7\\u00e3o_IDHM_Renda<br>estado=%{x}<br>value=%{y}<extra></extra>\",\"legendgroup\":\"Posi\\u00e7\\u00e3o_IDHM_Renda\",\"marker\":{\"color\":\"#ab63fa\",\"pattern\":{\"shape\":\"\"}},\"name\":\"Posi\\u00e7\\u00e3o_IDHM_Renda\",\"offsetgroup\":\"Posi\\u00e7\\u00e3o_IDHM_Renda\",\"orientation\":\"v\",\"showlegend\":true,\"textposition\":\"auto\",\"texttemplate\":\"%{y:.2s}\",\"x\":[\"SC\",\"RO\",\"PI\",\"AM\",\"RR\",\"GO\",\"TO\",\"MT\",\"SP\",\"PB\",\"ES\",\"RS\",\"MS\",\"AL\",\"MG\",\"PA\",\"BA\",\"SE\",\"PE\",\"CE\",\"RN\",\"RJ\",\"MA\",\"AC\",\"DF\",\"PR\",\"AP\"],\"xaxis\":\"x\",\"y\":[3.0,23.0,24.0,20.0,22.0,11.0,16.0,10.0,5.0,17.0,6.0,7.0,8.0,21.0,2.0,19.0,15.0,18.0,12.0,14.0,7.0,4.0,25.0,12.0,1.0,9.0,13.0],\"yaxis\":\"y\",\"type\":\"bar\"},{\"alignmentgroup\":\"True\",\"hovertemplate\":\"variable=IDHM_Renda<br>estado=%{x}<br>value=%{y}<extra></extra>\",\"legendgroup\":\"IDHM_Renda\",\"marker\":{\"color\":\"#FFA15A\",\"pattern\":{\"shape\":\"\"}},\"name\":\"IDHM_Renda\",\"offsetgroup\":\"IDHM_Renda\",\"orientation\":\"v\",\"showlegend\":true,\"textposition\":\"auto\",\"texttemplate\":\"%{y:.2s}\",\"x\":[\"SC\",\"RO\",\"PI\",\"AM\",\"RR\",\"GO\",\"TO\",\"MT\",\"SP\",\"PB\",\"ES\",\"RS\",\"MS\",\"AL\",\"MG\",\"PA\",\"BA\",\"SE\",\"PE\",\"CE\",\"RN\",\"RJ\",\"MA\",\"AC\",\"DF\",\"PR\",\"AP\"],\"xaxis\":\"x\",\"y\":[0.866,0.776,0.771,0.786,0.781,0.822,0.811,0.825,0.854,0.809,0.85,0.849,0.847,0.783,0.875,0.788,0.812,0.799,0.821,0.818,0.849,0.858,0.764,0.821,0.89,0.843,0.82],\"yaxis\":\"y\",\"type\":\"bar\"},{\"alignmentgroup\":\"True\",\"hovertemplate\":\"variable=Posi\\u00e7\\u00e3o_IDHM_Educa\\u00e7\\u00e3o<br>estado=%{x}<br>value=%{y}<extra></extra>\",\"legendgroup\":\"Posi\\u00e7\\u00e3o_IDHM_Educa\\u00e7\\u00e3o\",\"marker\":{\"color\":\"#19d3f3\",\"pattern\":{\"shape\":\"\"}},\"name\":\"Posi\\u00e7\\u00e3o_IDHM_Educa\\u00e7\\u00e3o\",\"offsetgroup\":\"Posi\\u00e7\\u00e3o_IDHM_Educa\\u00e7\\u00e3o\",\"orientation\":\"v\",\"showlegend\":true,\"textposition\":\"auto\",\"texttemplate\":\"%{y:.2s}\",\"x\":[\"SC\",\"RO\",\"PI\",\"AM\",\"RR\",\"GO\",\"TO\",\"MT\",\"SP\",\"PB\",\"ES\",\"RS\",\"MS\",\"AL\",\"MG\",\"PA\",\"BA\",\"SE\",\"PE\",\"CE\",\"RN\",\"RJ\",\"MA\",\"AC\",\"DF\",\"PR\",\"AP\"],\"xaxis\":\"x\",\"y\":[3.0,16.0,21.0,10.0,4.0,9.0,13.0,7.0,1.0,20.0,11.0,12.0,15.0,25.0,8.0,22.0,23.0,24.0,17.0,14.0,19.0,6.0,18.0,18.0,2.0,5.0,15.0],\"yaxis\":\"y\",\"type\":\"bar\"},{\"alignmentgroup\":\"True\",\"hovertemplate\":\"variable=IDHM_Educa\\u00e7\\u00e3o<br>estado=%{x}<br>value=%{y}<extra></extra>\",\"legendgroup\":\"IDHM_Educa\\u00e7\\u00e3o\",\"marker\":{\"color\":\"#FF6692\",\"pattern\":{\"shape\":\"\"}},\"name\":\"IDHM_Educa\\u00e7\\u00e3o\",\"offsetgroup\":\"IDHM_Educa\\u00e7\\u00e3o\",\"orientation\":\"v\",\"showlegend\":true,\"textposition\":\"auto\",\"texttemplate\":\"%{y:.2s}\",\"x\":[\"SC\",\"RO\",\"PI\",\"AM\",\"RR\",\"GO\",\"TO\",\"MT\",\"SP\",\"PB\",\"ES\",\"RS\",\"MS\",\"AL\",\"MG\",\"PA\",\"BA\",\"SE\",\"PE\",\"CE\",\"RN\",\"RJ\",\"MA\",\"AC\",\"DF\",\"PR\",\"AP\"],\"xaxis\":\"x\",\"y\":[0.779,0.703,0.666,0.735,0.771,0.74,0.727,0.758,0.828,0.671,0.732,0.729,0.71,0.636,0.753,0.661,0.654,0.64,0.685,0.717,0.677,0.763,0.682,0.682,0.804,0.764,0.71],\"yaxis\":\"y\",\"type\":\"bar\"},{\"alignmentgroup\":\"True\",\"hovertemplate\":\"variable=Posi\\u00e7\\u00e3o_IDHM_Longevidade<br>estado=%{x}<br>value=%{y}<extra></extra>\",\"legendgroup\":\"Posi\\u00e7\\u00e3o_IDHM_Longevidade\",\"marker\":{\"color\":\"#B6E880\",\"pattern\":{\"shape\":\"\"}},\"name\":\"Posi\\u00e7\\u00e3o_IDHM_Longevidade\",\"offsetgroup\":\"Posi\\u00e7\\u00e3o_IDHM_Longevidade\",\"orientation\":\"v\",\"showlegend\":true,\"textposition\":\"auto\",\"texttemplate\":\"%{y:.2s}\",\"x\":[\"SC\",\"RO\",\"PI\",\"AM\",\"RR\",\"GO\",\"TO\",\"MT\",\"SP\",\"PB\",\"ES\",\"RS\",\"MS\",\"AL\",\"MG\",\"PA\",\"BA\",\"SE\",\"PE\",\"CE\",\"RN\",\"RJ\",\"MA\",\"AC\",\"DF\",\"PR\",\"AP\"],\"xaxis\":\"x\",\"y\":[4.0,13.0,23.0,18.0,12.0,8.0,14.0,9.0,2.0,16.0,11.0,3.0,7.0,25.0,10.0,24.0,17.0,20.0,18.0,21.0,19.0,6.0,26.0,22.0,1.0,5.0,15.0],\"yaxis\":\"y\",\"type\":\"bar\"},{\"alignmentgroup\":\"True\",\"hovertemplate\":\"variable=IDHM_Longevidade<br>estado=%{x}<br>value=%{y}<extra></extra>\",\"legendgroup\":\"IDHM_Longevidade\",\"marker\":{\"color\":\"#FF97FF\",\"pattern\":{\"shape\":\"\"}},\"name\":\"IDHM_Longevidade\",\"offsetgroup\":\"IDHM_Longevidade\",\"orientation\":\"v\",\"showlegend\":true,\"textposition\":\"auto\",\"texttemplate\":\"%{y:.2s}\",\"x\":[\"SC\",\"RO\",\"PI\",\"AM\",\"RR\",\"GO\",\"TO\",\"MT\",\"SP\",\"PB\",\"ES\",\"RS\",\"MS\",\"AL\",\"MG\",\"PA\",\"BA\",\"SE\",\"PE\",\"CE\",\"RN\",\"RJ\",\"MA\",\"AC\",\"DF\",\"PR\",\"AP\"],\"xaxis\":\"x\",\"y\":[0.783,0.699,0.66,0.682,0.706,0.747,0.696,0.742,0.796,0.694,0.74,0.787,0.748,0.639,0.741,0.654,0.685,0.677,0.682,0.676,0.68,0.769,0.623,0.664,0.859,0.771,0.695],\"yaxis\":\"y\",\"type\":\"bar\"}],                        {\"template\":{\"data\":{\"bar\":[{\"error_x\":{\"color\":\"#2a3f5f\"},\"error_y\":{\"color\":\"#2a3f5f\"},\"marker\":{\"line\":{\"color\":\"#E5ECF6\",\"width\":0.5},\"pattern\":{\"fillmode\":\"overlay\",\"size\":10,\"solidity\":0.2}},\"type\":\"bar\"}],\"barpolar\":[{\"marker\":{\"line\":{\"color\":\"#E5ECF6\",\"width\":0.5},\"pattern\":{\"fillmode\":\"overlay\",\"size\":10,\"solidity\":0.2}},\"type\":\"barpolar\"}],\"carpet\":[{\"aaxis\":{\"endlinecolor\":\"#2a3f5f\",\"gridcolor\":\"white\",\"linecolor\":\"white\",\"minorgridcolor\":\"white\",\"startlinecolor\":\"#2a3f5f\"},\"baxis\":{\"endlinecolor\":\"#2a3f5f\",\"gridcolor\":\"white\",\"linecolor\":\"white\",\"minorgridcolor\":\"white\",\"startlinecolor\":\"#2a3f5f\"},\"type\":\"carpet\"}],\"choropleth\":[{\"colorbar\":{\"outlinewidth\":0,\"ticks\":\"\"},\"type\":\"choropleth\"}],\"contour\":[{\"colorbar\":{\"outlinewidth\":0,\"ticks\":\"\"},\"colorscale\":[[0.0,\"#0d0887\"],[0.1111111111111111,\"#46039f\"],[0.2222222222222222,\"#7201a8\"],[0.3333333333333333,\"#9c179e\"],[0.4444444444444444,\"#bd3786\"],[0.5555555555555556,\"#d8576b\"],[0.6666666666666666,\"#ed7953\"],[0.7777777777777778,\"#fb9f3a\"],[0.8888888888888888,\"#fdca26\"],[1.0,\"#f0f921\"]],\"type\":\"contour\"}],\"contourcarpet\":[{\"colorbar\":{\"outlinewidth\":0,\"ticks\":\"\"},\"type\":\"contourcarpet\"}],\"heatmap\":[{\"colorbar\":{\"outlinewidth\":0,\"ticks\":\"\"},\"colorscale\":[[0.0,\"#0d0887\"],[0.1111111111111111,\"#46039f\"],[0.2222222222222222,\"#7201a8\"],[0.3333333333333333,\"#9c179e\"],[0.4444444444444444,\"#bd3786\"],[0.5555555555555556,\"#d8576b\"],[0.6666666666666666,\"#ed7953\"],[0.7777777777777778,\"#fb9f3a\"],[0.8888888888888888,\"#fdca26\"],[1.0,\"#f0f921\"]],\"type\":\"heatmap\"}],\"heatmapgl\":[{\"colorbar\":{\"outlinewidth\":0,\"ticks\":\"\"},\"colorscale\":[[0.0,\"#0d0887\"],[0.1111111111111111,\"#46039f\"],[0.2222222222222222,\"#7201a8\"],[0.3333333333333333,\"#9c179e\"],[0.4444444444444444,\"#bd3786\"],[0.5555555555555556,\"#d8576b\"],[0.6666666666666666,\"#ed7953\"],[0.7777777777777778,\"#fb9f3a\"],[0.8888888888888888,\"#fdca26\"],[1.0,\"#f0f921\"]],\"type\":\"heatmapgl\"}],\"histogram\":[{\"marker\":{\"pattern\":{\"fillmode\":\"overlay\",\"size\":10,\"solidity\":0.2}},\"type\":\"histogram\"}],\"histogram2d\":[{\"colorbar\":{\"outlinewidth\":0,\"ticks\":\"\"},\"colorscale\":[[0.0,\"#0d0887\"],[0.1111111111111111,\"#46039f\"],[0.2222222222222222,\"#7201a8\"],[0.3333333333333333,\"#9c179e\"],[0.4444444444444444,\"#bd3786\"],[0.5555555555555556,\"#d8576b\"],[0.6666666666666666,\"#ed7953\"],[0.7777777777777778,\"#fb9f3a\"],[0.8888888888888888,\"#fdca26\"],[1.0,\"#f0f921\"]],\"type\":\"histogram2d\"}],\"histogram2dcontour\":[{\"colorbar\":{\"outlinewidth\":0,\"ticks\":\"\"},\"colorscale\":[[0.0,\"#0d0887\"],[0.1111111111111111,\"#46039f\"],[0.2222222222222222,\"#7201a8\"],[0.3333333333333333,\"#9c179e\"],[0.4444444444444444,\"#bd3786\"],[0.5555555555555556,\"#d8576b\"],[0.6666666666666666,\"#ed7953\"],[0.7777777777777778,\"#fb9f3a\"],[0.8888888888888888,\"#fdca26\"],[1.0,\"#f0f921\"]],\"type\":\"histogram2dcontour\"}],\"mesh3d\":[{\"colorbar\":{\"outlinewidth\":0,\"ticks\":\"\"},\"type\":\"mesh3d\"}],\"parcoords\":[{\"line\":{\"colorbar\":{\"outlinewidth\":0,\"ticks\":\"\"}},\"type\":\"parcoords\"}],\"pie\":[{\"automargin\":true,\"type\":\"pie\"}],\"scatter\":[{\"marker\":{\"colorbar\":{\"outlinewidth\":0,\"ticks\":\"\"}},\"type\":\"scatter\"}],\"scatter3d\":[{\"line\":{\"colorbar\":{\"outlinewidth\":0,\"ticks\":\"\"}},\"marker\":{\"colorbar\":{\"outlinewidth\":0,\"ticks\":\"\"}},\"type\":\"scatter3d\"}],\"scattercarpet\":[{\"marker\":{\"colorbar\":{\"outlinewidth\":0,\"ticks\":\"\"}},\"type\":\"scattercarpet\"}],\"scattergeo\":[{\"marker\":{\"colorbar\":{\"outlinewidth\":0,\"ticks\":\"\"}},\"type\":\"scattergeo\"}],\"scattergl\":[{\"marker\":{\"colorbar\":{\"outlinewidth\":0,\"ticks\":\"\"}},\"type\":\"scattergl\"}],\"scattermapbox\":[{\"marker\":{\"colorbar\":{\"outlinewidth\":0,\"ticks\":\"\"}},\"type\":\"scattermapbox\"}],\"scatterpolar\":[{\"marker\":{\"colorbar\":{\"outlinewidth\":0,\"ticks\":\"\"}},\"type\":\"scatterpolar\"}],\"scatterpolargl\":[{\"marker\":{\"colorbar\":{\"outlinewidth\":0,\"ticks\":\"\"}},\"type\":\"scatterpolargl\"}],\"scatterternary\":[{\"marker\":{\"colorbar\":{\"outlinewidth\":0,\"ticks\":\"\"}},\"type\":\"scatterternary\"}],\"surface\":[{\"colorbar\":{\"outlinewidth\":0,\"ticks\":\"\"},\"colorscale\":[[0.0,\"#0d0887\"],[0.1111111111111111,\"#46039f\"],[0.2222222222222222,\"#7201a8\"],[0.3333333333333333,\"#9c179e\"],[0.4444444444444444,\"#bd3786\"],[0.5555555555555556,\"#d8576b\"],[0.6666666666666666,\"#ed7953\"],[0.7777777777777778,\"#fb9f3a\"],[0.8888888888888888,\"#fdca26\"],[1.0,\"#f0f921\"]],\"type\":\"surface\"}],\"table\":[{\"cells\":{\"fill\":{\"color\":\"#EBF0F8\"},\"line\":{\"color\":\"white\"}},\"header\":{\"fill\":{\"color\":\"#C8D4E3\"},\"line\":{\"color\":\"white\"}},\"type\":\"table\"}]},\"layout\":{\"annotationdefaults\":{\"arrowcolor\":\"#2a3f5f\",\"arrowhead\":0,\"arrowwidth\":1},\"autotypenumbers\":\"strict\",\"coloraxis\":{\"colorbar\":{\"outlinewidth\":0,\"ticks\":\"\"}},\"colorscale\":{\"diverging\":[[0,\"#8e0152\"],[0.1,\"#c51b7d\"],[0.2,\"#de77ae\"],[0.3,\"#f1b6da\"],[0.4,\"#fde0ef\"],[0.5,\"#f7f7f7\"],[0.6,\"#e6f5d0\"],[0.7,\"#b8e186\"],[0.8,\"#7fbc41\"],[0.9,\"#4d9221\"],[1,\"#276419\"]],\"sequential\":[[0.0,\"#0d0887\"],[0.1111111111111111,\"#46039f\"],[0.2222222222222222,\"#7201a8\"],[0.3333333333333333,\"#9c179e\"],[0.4444444444444444,\"#bd3786\"],[0.5555555555555556,\"#d8576b\"],[0.6666666666666666,\"#ed7953\"],[0.7777777777777778,\"#fb9f3a\"],[0.8888888888888888,\"#fdca26\"],[1.0,\"#f0f921\"]],\"sequentialminus\":[[0.0,\"#0d0887\"],[0.1111111111111111,\"#46039f\"],[0.2222222222222222,\"#7201a8\"],[0.3333333333333333,\"#9c179e\"],[0.4444444444444444,\"#bd3786\"],[0.5555555555555556,\"#d8576b\"],[0.6666666666666666,\"#ed7953\"],[0.7777777777777778,\"#fb9f3a\"],[0.8888888888888888,\"#fdca26\"],[1.0,\"#f0f921\"]]},\"colorway\":[\"#636efa\",\"#EF553B\",\"#00cc96\",\"#ab63fa\",\"#FFA15A\",\"#19d3f3\",\"#FF6692\",\"#B6E880\",\"#FF97FF\",\"#FECB52\"],\"font\":{\"color\":\"#2a3f5f\"},\"geo\":{\"bgcolor\":\"white\",\"lakecolor\":\"white\",\"landcolor\":\"#E5ECF6\",\"showlakes\":true,\"showland\":true,\"subunitcolor\":\"white\"},\"hoverlabel\":{\"align\":\"left\"},\"hovermode\":\"closest\",\"mapbox\":{\"style\":\"light\"},\"paper_bgcolor\":\"white\",\"plot_bgcolor\":\"#E5ECF6\",\"polar\":{\"angularaxis\":{\"gridcolor\":\"white\",\"linecolor\":\"white\",\"ticks\":\"\"},\"bgcolor\":\"#E5ECF6\",\"radialaxis\":{\"gridcolor\":\"white\",\"linecolor\":\"white\",\"ticks\":\"\"}},\"scene\":{\"xaxis\":{\"backgroundcolor\":\"#E5ECF6\",\"gridcolor\":\"white\",\"gridwidth\":2,\"linecolor\":\"white\",\"showbackground\":true,\"ticks\":\"\",\"zerolinecolor\":\"white\"},\"yaxis\":{\"backgroundcolor\":\"#E5ECF6\",\"gridcolor\":\"white\",\"gridwidth\":2,\"linecolor\":\"white\",\"showbackground\":true,\"ticks\":\"\",\"zerolinecolor\":\"white\"},\"zaxis\":{\"backgroundcolor\":\"#E5ECF6\",\"gridcolor\":\"white\",\"gridwidth\":2,\"linecolor\":\"white\",\"showbackground\":true,\"ticks\":\"\",\"zerolinecolor\":\"white\"}},\"shapedefaults\":{\"line\":{\"color\":\"#2a3f5f\"}},\"ternary\":{\"aaxis\":{\"gridcolor\":\"white\",\"linecolor\":\"white\",\"ticks\":\"\"},\"baxis\":{\"gridcolor\":\"white\",\"linecolor\":\"white\",\"ticks\":\"\"},\"bgcolor\":\"#E5ECF6\",\"caxis\":{\"gridcolor\":\"white\",\"linecolor\":\"white\",\"ticks\":\"\"}},\"title\":{\"x\":0.05},\"xaxis\":{\"automargin\":true,\"gridcolor\":\"white\",\"linecolor\":\"white\",\"ticks\":\"\",\"title\":{\"standoff\":15},\"zerolinecolor\":\"white\",\"zerolinewidth\":2},\"yaxis\":{\"automargin\":true,\"gridcolor\":\"white\",\"linecolor\":\"white\",\"ticks\":\"\",\"title\":{\"standoff\":15},\"zerolinecolor\":\"white\",\"zerolinewidth\":2}}},\"xaxis\":{\"anchor\":\"y\",\"domain\":[0.0,1.0],\"title\":{\"text\":\"estado\"}},\"yaxis\":{\"anchor\":\"x\",\"domain\":[0.0,1.0],\"title\":{\"text\":\"value\"}},\"legend\":{\"title\":{\"text\":\"variable\"},\"tracegroupgap\":0},\"title\":{\"text\":\"Casos novos de Covid e IDH\"},\"barmode\":\"stack\"},                        {\"responsive\": true}                    ).then(function(){\n",
              "                            \n",
              "var gd = document.getElementById('43a06ac7-e472-4d27-9135-40da585998e8');\n",
              "var x = new MutationObserver(function (mutations, observer) {{\n",
              "        var display = window.getComputedStyle(gd).display;\n",
              "        if (!display || display === 'none') {{\n",
              "            console.log([gd, 'removed!']);\n",
              "            Plotly.purge(gd);\n",
              "            observer.disconnect();\n",
              "        }}\n",
              "}});\n",
              "\n",
              "// Listen for the removal of the full notebook cells\n",
              "var notebookContainer = gd.closest('#notebook-container');\n",
              "if (notebookContainer) {{\n",
              "    x.observe(notebookContainer, {childList: true});\n",
              "}}\n",
              "\n",
              "// Listen for the clearing of the current output cell\n",
              "var outputEl = gd.closest('.output');\n",
              "if (outputEl) {{\n",
              "    x.observe(outputEl, {childList: true});\n",
              "}}\n",
              "\n",
              "                        })                };                            </script>        </div>\n",
              "</body>\n",
              "</html>"
            ]
          },
          "metadata": {}
        },
        {
          "output_type": "display_data",
          "data": {
            "text/html": [
              "<html>\n",
              "<head><meta charset=\"utf-8\" /></head>\n",
              "<body>\n",
              "    <div>            <script src=\"https://cdnjs.cloudflare.com/ajax/libs/mathjax/2.7.5/MathJax.js?config=TeX-AMS-MML_SVG\"></script><script type=\"text/javascript\">if (window.MathJax) {MathJax.Hub.Config({SVG: {font: \"STIX-Web\"}});}</script>                <script type=\"text/javascript\">window.PlotlyConfig = {MathJaxConfig: 'local'};</script>\n",
              "        <script src=\"https://cdn.plot.ly/plotly-2.8.3.min.js\"></script>                <div id=\"0e4ab017-a517-4f96-a8c8-af97c1992bbc\" class=\"plotly-graph-div\" style=\"height:525px; width:100%;\"></div>            <script type=\"text/javascript\">                                    window.PLOTLYENV=window.PLOTLYENV || {};                                    if (document.getElementById(\"0e4ab017-a517-4f96-a8c8-af97c1992bbc\")) {                    Plotly.newPlot(                        \"0e4ab017-a517-4f96-a8c8-af97c1992bbc\",                        [{\"alignmentgroup\":\"True\",\"hovertemplate\":\"estado=%{x}<br>total_casos_estados=%{marker.color}<extra></extra>\",\"legendgroup\":\"\",\"marker\":{\"color\":[1934206,488322,442442,710181,210101,1713845,366096,870566,6497951,730522,1302535,2734324,594415,379049,3973929,974058,1859218,400336,1131222,1561859,598795,2628256,584904,166195,940689,2797579,213910],\"coloraxis\":\"coloraxis\",\"pattern\":{\"shape\":\"\"}},\"name\":\"\",\"offsetgroup\":\"\",\"orientation\":\"v\",\"showlegend\":false,\"textposition\":\"auto\",\"x\":[\"SC\",\"RO\",\"PI\",\"AM\",\"RR\",\"GO\",\"TO\",\"MT\",\"SP\",\"PB\",\"ES\",\"RS\",\"MS\",\"AL\",\"MG\",\"PA\",\"BA\",\"SE\",\"PE\",\"CE\",\"RN\",\"RJ\",\"MA\",\"AC\",\"DF\",\"PR\",\"AP\"],\"xaxis\":\"x\",\"y\":[1934206,488322,442442,710181,210101,1713845,366096,870566,6497951,730522,1302535,2734324,594415,379049,3973929,974058,1859218,400336,1131222,1561859,598795,2628256,584904,166195,940689,2797579,213910],\"yaxis\":\"y\",\"type\":\"bar\"}],                        {\"template\":{\"data\":{\"bar\":[{\"error_x\":{\"color\":\"#2a3f5f\"},\"error_y\":{\"color\":\"#2a3f5f\"},\"marker\":{\"line\":{\"color\":\"#E5ECF6\",\"width\":0.5},\"pattern\":{\"fillmode\":\"overlay\",\"size\":10,\"solidity\":0.2}},\"type\":\"bar\"}],\"barpolar\":[{\"marker\":{\"line\":{\"color\":\"#E5ECF6\",\"width\":0.5},\"pattern\":{\"fillmode\":\"overlay\",\"size\":10,\"solidity\":0.2}},\"type\":\"barpolar\"}],\"carpet\":[{\"aaxis\":{\"endlinecolor\":\"#2a3f5f\",\"gridcolor\":\"white\",\"linecolor\":\"white\",\"minorgridcolor\":\"white\",\"startlinecolor\":\"#2a3f5f\"},\"baxis\":{\"endlinecolor\":\"#2a3f5f\",\"gridcolor\":\"white\",\"linecolor\":\"white\",\"minorgridcolor\":\"white\",\"startlinecolor\":\"#2a3f5f\"},\"type\":\"carpet\"}],\"choropleth\":[{\"colorbar\":{\"outlinewidth\":0,\"ticks\":\"\"},\"type\":\"choropleth\"}],\"contour\":[{\"colorbar\":{\"outlinewidth\":0,\"ticks\":\"\"},\"colorscale\":[[0.0,\"#0d0887\"],[0.1111111111111111,\"#46039f\"],[0.2222222222222222,\"#7201a8\"],[0.3333333333333333,\"#9c179e\"],[0.4444444444444444,\"#bd3786\"],[0.5555555555555556,\"#d8576b\"],[0.6666666666666666,\"#ed7953\"],[0.7777777777777778,\"#fb9f3a\"],[0.8888888888888888,\"#fdca26\"],[1.0,\"#f0f921\"]],\"type\":\"contour\"}],\"contourcarpet\":[{\"colorbar\":{\"outlinewidth\":0,\"ticks\":\"\"},\"type\":\"contourcarpet\"}],\"heatmap\":[{\"colorbar\":{\"outlinewidth\":0,\"ticks\":\"\"},\"colorscale\":[[0.0,\"#0d0887\"],[0.1111111111111111,\"#46039f\"],[0.2222222222222222,\"#7201a8\"],[0.3333333333333333,\"#9c179e\"],[0.4444444444444444,\"#bd3786\"],[0.5555555555555556,\"#d8576b\"],[0.6666666666666666,\"#ed7953\"],[0.7777777777777778,\"#fb9f3a\"],[0.8888888888888888,\"#fdca26\"],[1.0,\"#f0f921\"]],\"type\":\"heatmap\"}],\"heatmapgl\":[{\"colorbar\":{\"outlinewidth\":0,\"ticks\":\"\"},\"colorscale\":[[0.0,\"#0d0887\"],[0.1111111111111111,\"#46039f\"],[0.2222222222222222,\"#7201a8\"],[0.3333333333333333,\"#9c179e\"],[0.4444444444444444,\"#bd3786\"],[0.5555555555555556,\"#d8576b\"],[0.6666666666666666,\"#ed7953\"],[0.7777777777777778,\"#fb9f3a\"],[0.8888888888888888,\"#fdca26\"],[1.0,\"#f0f921\"]],\"type\":\"heatmapgl\"}],\"histogram\":[{\"marker\":{\"pattern\":{\"fillmode\":\"overlay\",\"size\":10,\"solidity\":0.2}},\"type\":\"histogram\"}],\"histogram2d\":[{\"colorbar\":{\"outlinewidth\":0,\"ticks\":\"\"},\"colorscale\":[[0.0,\"#0d0887\"],[0.1111111111111111,\"#46039f\"],[0.2222222222222222,\"#7201a8\"],[0.3333333333333333,\"#9c179e\"],[0.4444444444444444,\"#bd3786\"],[0.5555555555555556,\"#d8576b\"],[0.6666666666666666,\"#ed7953\"],[0.7777777777777778,\"#fb9f3a\"],[0.8888888888888888,\"#fdca26\"],[1.0,\"#f0f921\"]],\"type\":\"histogram2d\"}],\"histogram2dcontour\":[{\"colorbar\":{\"outlinewidth\":0,\"ticks\":\"\"},\"colorscale\":[[0.0,\"#0d0887\"],[0.1111111111111111,\"#46039f\"],[0.2222222222222222,\"#7201a8\"],[0.3333333333333333,\"#9c179e\"],[0.4444444444444444,\"#bd3786\"],[0.5555555555555556,\"#d8576b\"],[0.6666666666666666,\"#ed7953\"],[0.7777777777777778,\"#fb9f3a\"],[0.8888888888888888,\"#fdca26\"],[1.0,\"#f0f921\"]],\"type\":\"histogram2dcontour\"}],\"mesh3d\":[{\"colorbar\":{\"outlinewidth\":0,\"ticks\":\"\"},\"type\":\"mesh3d\"}],\"parcoords\":[{\"line\":{\"colorbar\":{\"outlinewidth\":0,\"ticks\":\"\"}},\"type\":\"parcoords\"}],\"pie\":[{\"automargin\":true,\"type\":\"pie\"}],\"scatter\":[{\"marker\":{\"colorbar\":{\"outlinewidth\":0,\"ticks\":\"\"}},\"type\":\"scatter\"}],\"scatter3d\":[{\"line\":{\"colorbar\":{\"outlinewidth\":0,\"ticks\":\"\"}},\"marker\":{\"colorbar\":{\"outlinewidth\":0,\"ticks\":\"\"}},\"type\":\"scatter3d\"}],\"scattercarpet\":[{\"marker\":{\"colorbar\":{\"outlinewidth\":0,\"ticks\":\"\"}},\"type\":\"scattercarpet\"}],\"scattergeo\":[{\"marker\":{\"colorbar\":{\"outlinewidth\":0,\"ticks\":\"\"}},\"type\":\"scattergeo\"}],\"scattergl\":[{\"marker\":{\"colorbar\":{\"outlinewidth\":0,\"ticks\":\"\"}},\"type\":\"scattergl\"}],\"scattermapbox\":[{\"marker\":{\"colorbar\":{\"outlinewidth\":0,\"ticks\":\"\"}},\"type\":\"scattermapbox\"}],\"scatterpolar\":[{\"marker\":{\"colorbar\":{\"outlinewidth\":0,\"ticks\":\"\"}},\"type\":\"scatterpolar\"}],\"scatterpolargl\":[{\"marker\":{\"colorbar\":{\"outlinewidth\":0,\"ticks\":\"\"}},\"type\":\"scatterpolargl\"}],\"scatterternary\":[{\"marker\":{\"colorbar\":{\"outlinewidth\":0,\"ticks\":\"\"}},\"type\":\"scatterternary\"}],\"surface\":[{\"colorbar\":{\"outlinewidth\":0,\"ticks\":\"\"},\"colorscale\":[[0.0,\"#0d0887\"],[0.1111111111111111,\"#46039f\"],[0.2222222222222222,\"#7201a8\"],[0.3333333333333333,\"#9c179e\"],[0.4444444444444444,\"#bd3786\"],[0.5555555555555556,\"#d8576b\"],[0.6666666666666666,\"#ed7953\"],[0.7777777777777778,\"#fb9f3a\"],[0.8888888888888888,\"#fdca26\"],[1.0,\"#f0f921\"]],\"type\":\"surface\"}],\"table\":[{\"cells\":{\"fill\":{\"color\":\"#EBF0F8\"},\"line\":{\"color\":\"white\"}},\"header\":{\"fill\":{\"color\":\"#C8D4E3\"},\"line\":{\"color\":\"white\"}},\"type\":\"table\"}]},\"layout\":{\"annotationdefaults\":{\"arrowcolor\":\"#2a3f5f\",\"arrowhead\":0,\"arrowwidth\":1},\"autotypenumbers\":\"strict\",\"coloraxis\":{\"colorbar\":{\"outlinewidth\":0,\"ticks\":\"\"}},\"colorscale\":{\"diverging\":[[0,\"#8e0152\"],[0.1,\"#c51b7d\"],[0.2,\"#de77ae\"],[0.3,\"#f1b6da\"],[0.4,\"#fde0ef\"],[0.5,\"#f7f7f7\"],[0.6,\"#e6f5d0\"],[0.7,\"#b8e186\"],[0.8,\"#7fbc41\"],[0.9,\"#4d9221\"],[1,\"#276419\"]],\"sequential\":[[0.0,\"#0d0887\"],[0.1111111111111111,\"#46039f\"],[0.2222222222222222,\"#7201a8\"],[0.3333333333333333,\"#9c179e\"],[0.4444444444444444,\"#bd3786\"],[0.5555555555555556,\"#d8576b\"],[0.6666666666666666,\"#ed7953\"],[0.7777777777777778,\"#fb9f3a\"],[0.8888888888888888,\"#fdca26\"],[1.0,\"#f0f921\"]],\"sequentialminus\":[[0.0,\"#0d0887\"],[0.1111111111111111,\"#46039f\"],[0.2222222222222222,\"#7201a8\"],[0.3333333333333333,\"#9c179e\"],[0.4444444444444444,\"#bd3786\"],[0.5555555555555556,\"#d8576b\"],[0.6666666666666666,\"#ed7953\"],[0.7777777777777778,\"#fb9f3a\"],[0.8888888888888888,\"#fdca26\"],[1.0,\"#f0f921\"]]},\"colorway\":[\"#636efa\",\"#EF553B\",\"#00cc96\",\"#ab63fa\",\"#FFA15A\",\"#19d3f3\",\"#FF6692\",\"#B6E880\",\"#FF97FF\",\"#FECB52\"],\"font\":{\"color\":\"#2a3f5f\"},\"geo\":{\"bgcolor\":\"white\",\"lakecolor\":\"white\",\"landcolor\":\"#E5ECF6\",\"showlakes\":true,\"showland\":true,\"subunitcolor\":\"white\"},\"hoverlabel\":{\"align\":\"left\"},\"hovermode\":\"closest\",\"mapbox\":{\"style\":\"light\"},\"paper_bgcolor\":\"white\",\"plot_bgcolor\":\"#E5ECF6\",\"polar\":{\"angularaxis\":{\"gridcolor\":\"white\",\"linecolor\":\"white\",\"ticks\":\"\"},\"bgcolor\":\"#E5ECF6\",\"radialaxis\":{\"gridcolor\":\"white\",\"linecolor\":\"white\",\"ticks\":\"\"}},\"scene\":{\"xaxis\":{\"backgroundcolor\":\"#E5ECF6\",\"gridcolor\":\"white\",\"gridwidth\":2,\"linecolor\":\"white\",\"showbackground\":true,\"ticks\":\"\",\"zerolinecolor\":\"white\"},\"yaxis\":{\"backgroundcolor\":\"#E5ECF6\",\"gridcolor\":\"white\",\"gridwidth\":2,\"linecolor\":\"white\",\"showbackground\":true,\"ticks\":\"\",\"zerolinecolor\":\"white\"},\"zaxis\":{\"backgroundcolor\":\"#E5ECF6\",\"gridcolor\":\"white\",\"gridwidth\":2,\"linecolor\":\"white\",\"showbackground\":true,\"ticks\":\"\",\"zerolinecolor\":\"white\"}},\"shapedefaults\":{\"line\":{\"color\":\"#2a3f5f\"}},\"ternary\":{\"aaxis\":{\"gridcolor\":\"white\",\"linecolor\":\"white\",\"ticks\":\"\"},\"baxis\":{\"gridcolor\":\"white\",\"linecolor\":\"white\",\"ticks\":\"\"},\"bgcolor\":\"#E5ECF6\",\"caxis\":{\"gridcolor\":\"white\",\"linecolor\":\"white\",\"ticks\":\"\"}},\"title\":{\"x\":0.05},\"xaxis\":{\"automargin\":true,\"gridcolor\":\"white\",\"linecolor\":\"white\",\"ticks\":\"\",\"title\":{\"standoff\":15},\"zerolinecolor\":\"white\",\"zerolinewidth\":2},\"yaxis\":{\"automargin\":true,\"gridcolor\":\"white\",\"linecolor\":\"white\",\"ticks\":\"\",\"title\":{\"standoff\":15},\"zerolinecolor\":\"white\",\"zerolinewidth\":2}}},\"xaxis\":{\"anchor\":\"y\",\"domain\":[0.0,1.0],\"title\":{\"text\":\"estado\"}},\"yaxis\":{\"anchor\":\"x\",\"domain\":[0.0,1.0],\"title\":{\"text\":\"total_casos_estados\"}},\"coloraxis\":{\"colorbar\":{\"title\":{\"text\":\"total_casos_estados\"}},\"colorscale\":[[0.0,\"#0d0887\"],[0.1111111111111111,\"#46039f\"],[0.2222222222222222,\"#7201a8\"],[0.3333333333333333,\"#9c179e\"],[0.4444444444444444,\"#bd3786\"],[0.5555555555555556,\"#d8576b\"],[0.6666666666666666,\"#ed7953\"],[0.7777777777777778,\"#fb9f3a\"],[0.8888888888888888,\"#fdca26\"],[1.0,\"#f0f921\"]]},\"legend\":{\"tracegroupgap\":0},\"title\":{\"text\":\"Casos novos de  Covid\"},\"barmode\":\"group\"},                        {\"responsive\": true}                    ).then(function(){\n",
              "                            \n",
              "var gd = document.getElementById('0e4ab017-a517-4f96-a8c8-af97c1992bbc');\n",
              "var x = new MutationObserver(function (mutations, observer) {{\n",
              "        var display = window.getComputedStyle(gd).display;\n",
              "        if (!display || display === 'none') {{\n",
              "            console.log([gd, 'removed!']);\n",
              "            Plotly.purge(gd);\n",
              "            observer.disconnect();\n",
              "        }}\n",
              "}});\n",
              "\n",
              "// Listen for the removal of the full notebook cells\n",
              "var notebookContainer = gd.closest('#notebook-container');\n",
              "if (notebookContainer) {{\n",
              "    x.observe(notebookContainer, {childList: true});\n",
              "}}\n",
              "\n",
              "// Listen for the clearing of the current output cell\n",
              "var outputEl = gd.closest('.output');\n",
              "if (outputEl) {{\n",
              "    x.observe(outputEl, {childList: true});\n",
              "}}\n",
              "\n",
              "                        })                };                            </script>        </div>\n",
              "</body>\n",
              "</html>"
            ]
          },
          "metadata": {}
        },
        {
          "output_type": "display_data",
          "data": {
            "text/html": [
              "<html>\n",
              "<head><meta charset=\"utf-8\" /></head>\n",
              "<body>\n",
              "    <div>            <script src=\"https://cdnjs.cloudflare.com/ajax/libs/mathjax/2.7.5/MathJax.js?config=TeX-AMS-MML_SVG\"></script><script type=\"text/javascript\">if (window.MathJax) {MathJax.Hub.Config({SVG: {font: \"STIX-Web\"}});}</script>                <script type=\"text/javascript\">window.PlotlyConfig = {MathJaxConfig: 'local'};</script>\n",
              "        <script src=\"https://cdn.plot.ly/plotly-2.8.3.min.js\"></script>                <div id=\"d82244fa-085b-419b-8058-c69d5e0b46b1\" class=\"plotly-graph-div\" style=\"height:525px; width:100%;\"></div>            <script type=\"text/javascript\">                                    window.PLOTLYENV=window.PLOTLYENV || {};                                    if (document.getElementById(\"d82244fa-085b-419b-8058-c69d5e0b46b1\")) {                    Plotly.newPlot(                        \"d82244fa-085b-419b-8058-c69d5e0b46b1\",                        [{\"alignmentgroup\":\"True\",\"hovertemplate\":\"estado=%{x}<br>IDHM=%{marker.color}<extra></extra>\",\"legendgroup\":\"\",\"marker\":{\"color\":[0.808,0.725,0.697,0.733,0.752,0.769,0.743,0.774,0.826,0.722,0.772,0.787,0.766,0.683,0.787,0.698,0.714,0.702,0.727,0.735,0.731,0.796,0.687,0.719,0.85,0.792,0.74],\"coloraxis\":\"coloraxis\",\"pattern\":{\"shape\":\"\"}},\"name\":\"\",\"offsetgroup\":\"\",\"orientation\":\"v\",\"showlegend\":false,\"textposition\":\"auto\",\"x\":[\"SC\",\"RO\",\"PI\",\"AM\",\"RR\",\"GO\",\"TO\",\"MT\",\"SP\",\"PB\",\"ES\",\"RS\",\"MS\",\"AL\",\"MG\",\"PA\",\"BA\",\"SE\",\"PE\",\"CE\",\"RN\",\"RJ\",\"MA\",\"AC\",\"DF\",\"PR\",\"AP\"],\"xaxis\":\"x\",\"y\":[0.808,0.725,0.697,0.733,0.752,0.769,0.743,0.774,0.826,0.722,0.772,0.787,0.766,0.683,0.787,0.698,0.714,0.702,0.727,0.735,0.731,0.796,0.687,0.719,0.85,0.792,0.74],\"yaxis\":\"y\",\"type\":\"bar\"}],                        {\"template\":{\"data\":{\"bar\":[{\"error_x\":{\"color\":\"#2a3f5f\"},\"error_y\":{\"color\":\"#2a3f5f\"},\"marker\":{\"line\":{\"color\":\"#E5ECF6\",\"width\":0.5},\"pattern\":{\"fillmode\":\"overlay\",\"size\":10,\"solidity\":0.2}},\"type\":\"bar\"}],\"barpolar\":[{\"marker\":{\"line\":{\"color\":\"#E5ECF6\",\"width\":0.5},\"pattern\":{\"fillmode\":\"overlay\",\"size\":10,\"solidity\":0.2}},\"type\":\"barpolar\"}],\"carpet\":[{\"aaxis\":{\"endlinecolor\":\"#2a3f5f\",\"gridcolor\":\"white\",\"linecolor\":\"white\",\"minorgridcolor\":\"white\",\"startlinecolor\":\"#2a3f5f\"},\"baxis\":{\"endlinecolor\":\"#2a3f5f\",\"gridcolor\":\"white\",\"linecolor\":\"white\",\"minorgridcolor\":\"white\",\"startlinecolor\":\"#2a3f5f\"},\"type\":\"carpet\"}],\"choropleth\":[{\"colorbar\":{\"outlinewidth\":0,\"ticks\":\"\"},\"type\":\"choropleth\"}],\"contour\":[{\"colorbar\":{\"outlinewidth\":0,\"ticks\":\"\"},\"colorscale\":[[0.0,\"#0d0887\"],[0.1111111111111111,\"#46039f\"],[0.2222222222222222,\"#7201a8\"],[0.3333333333333333,\"#9c179e\"],[0.4444444444444444,\"#bd3786\"],[0.5555555555555556,\"#d8576b\"],[0.6666666666666666,\"#ed7953\"],[0.7777777777777778,\"#fb9f3a\"],[0.8888888888888888,\"#fdca26\"],[1.0,\"#f0f921\"]],\"type\":\"contour\"}],\"contourcarpet\":[{\"colorbar\":{\"outlinewidth\":0,\"ticks\":\"\"},\"type\":\"contourcarpet\"}],\"heatmap\":[{\"colorbar\":{\"outlinewidth\":0,\"ticks\":\"\"},\"colorscale\":[[0.0,\"#0d0887\"],[0.1111111111111111,\"#46039f\"],[0.2222222222222222,\"#7201a8\"],[0.3333333333333333,\"#9c179e\"],[0.4444444444444444,\"#bd3786\"],[0.5555555555555556,\"#d8576b\"],[0.6666666666666666,\"#ed7953\"],[0.7777777777777778,\"#fb9f3a\"],[0.8888888888888888,\"#fdca26\"],[1.0,\"#f0f921\"]],\"type\":\"heatmap\"}],\"heatmapgl\":[{\"colorbar\":{\"outlinewidth\":0,\"ticks\":\"\"},\"colorscale\":[[0.0,\"#0d0887\"],[0.1111111111111111,\"#46039f\"],[0.2222222222222222,\"#7201a8\"],[0.3333333333333333,\"#9c179e\"],[0.4444444444444444,\"#bd3786\"],[0.5555555555555556,\"#d8576b\"],[0.6666666666666666,\"#ed7953\"],[0.7777777777777778,\"#fb9f3a\"],[0.8888888888888888,\"#fdca26\"],[1.0,\"#f0f921\"]],\"type\":\"heatmapgl\"}],\"histogram\":[{\"marker\":{\"pattern\":{\"fillmode\":\"overlay\",\"size\":10,\"solidity\":0.2}},\"type\":\"histogram\"}],\"histogram2d\":[{\"colorbar\":{\"outlinewidth\":0,\"ticks\":\"\"},\"colorscale\":[[0.0,\"#0d0887\"],[0.1111111111111111,\"#46039f\"],[0.2222222222222222,\"#7201a8\"],[0.3333333333333333,\"#9c179e\"],[0.4444444444444444,\"#bd3786\"],[0.5555555555555556,\"#d8576b\"],[0.6666666666666666,\"#ed7953\"],[0.7777777777777778,\"#fb9f3a\"],[0.8888888888888888,\"#fdca26\"],[1.0,\"#f0f921\"]],\"type\":\"histogram2d\"}],\"histogram2dcontour\":[{\"colorbar\":{\"outlinewidth\":0,\"ticks\":\"\"},\"colorscale\":[[0.0,\"#0d0887\"],[0.1111111111111111,\"#46039f\"],[0.2222222222222222,\"#7201a8\"],[0.3333333333333333,\"#9c179e\"],[0.4444444444444444,\"#bd3786\"],[0.5555555555555556,\"#d8576b\"],[0.6666666666666666,\"#ed7953\"],[0.7777777777777778,\"#fb9f3a\"],[0.8888888888888888,\"#fdca26\"],[1.0,\"#f0f921\"]],\"type\":\"histogram2dcontour\"}],\"mesh3d\":[{\"colorbar\":{\"outlinewidth\":0,\"ticks\":\"\"},\"type\":\"mesh3d\"}],\"parcoords\":[{\"line\":{\"colorbar\":{\"outlinewidth\":0,\"ticks\":\"\"}},\"type\":\"parcoords\"}],\"pie\":[{\"automargin\":true,\"type\":\"pie\"}],\"scatter\":[{\"marker\":{\"colorbar\":{\"outlinewidth\":0,\"ticks\":\"\"}},\"type\":\"scatter\"}],\"scatter3d\":[{\"line\":{\"colorbar\":{\"outlinewidth\":0,\"ticks\":\"\"}},\"marker\":{\"colorbar\":{\"outlinewidth\":0,\"ticks\":\"\"}},\"type\":\"scatter3d\"}],\"scattercarpet\":[{\"marker\":{\"colorbar\":{\"outlinewidth\":0,\"ticks\":\"\"}},\"type\":\"scattercarpet\"}],\"scattergeo\":[{\"marker\":{\"colorbar\":{\"outlinewidth\":0,\"ticks\":\"\"}},\"type\":\"scattergeo\"}],\"scattergl\":[{\"marker\":{\"colorbar\":{\"outlinewidth\":0,\"ticks\":\"\"}},\"type\":\"scattergl\"}],\"scattermapbox\":[{\"marker\":{\"colorbar\":{\"outlinewidth\":0,\"ticks\":\"\"}},\"type\":\"scattermapbox\"}],\"scatterpolar\":[{\"marker\":{\"colorbar\":{\"outlinewidth\":0,\"ticks\":\"\"}},\"type\":\"scatterpolar\"}],\"scatterpolargl\":[{\"marker\":{\"colorbar\":{\"outlinewidth\":0,\"ticks\":\"\"}},\"type\":\"scatterpolargl\"}],\"scatterternary\":[{\"marker\":{\"colorbar\":{\"outlinewidth\":0,\"ticks\":\"\"}},\"type\":\"scatterternary\"}],\"surface\":[{\"colorbar\":{\"outlinewidth\":0,\"ticks\":\"\"},\"colorscale\":[[0.0,\"#0d0887\"],[0.1111111111111111,\"#46039f\"],[0.2222222222222222,\"#7201a8\"],[0.3333333333333333,\"#9c179e\"],[0.4444444444444444,\"#bd3786\"],[0.5555555555555556,\"#d8576b\"],[0.6666666666666666,\"#ed7953\"],[0.7777777777777778,\"#fb9f3a\"],[0.8888888888888888,\"#fdca26\"],[1.0,\"#f0f921\"]],\"type\":\"surface\"}],\"table\":[{\"cells\":{\"fill\":{\"color\":\"#EBF0F8\"},\"line\":{\"color\":\"white\"}},\"header\":{\"fill\":{\"color\":\"#C8D4E3\"},\"line\":{\"color\":\"white\"}},\"type\":\"table\"}]},\"layout\":{\"annotationdefaults\":{\"arrowcolor\":\"#2a3f5f\",\"arrowhead\":0,\"arrowwidth\":1},\"autotypenumbers\":\"strict\",\"coloraxis\":{\"colorbar\":{\"outlinewidth\":0,\"ticks\":\"\"}},\"colorscale\":{\"diverging\":[[0,\"#8e0152\"],[0.1,\"#c51b7d\"],[0.2,\"#de77ae\"],[0.3,\"#f1b6da\"],[0.4,\"#fde0ef\"],[0.5,\"#f7f7f7\"],[0.6,\"#e6f5d0\"],[0.7,\"#b8e186\"],[0.8,\"#7fbc41\"],[0.9,\"#4d9221\"],[1,\"#276419\"]],\"sequential\":[[0.0,\"#0d0887\"],[0.1111111111111111,\"#46039f\"],[0.2222222222222222,\"#7201a8\"],[0.3333333333333333,\"#9c179e\"],[0.4444444444444444,\"#bd3786\"],[0.5555555555555556,\"#d8576b\"],[0.6666666666666666,\"#ed7953\"],[0.7777777777777778,\"#fb9f3a\"],[0.8888888888888888,\"#fdca26\"],[1.0,\"#f0f921\"]],\"sequentialminus\":[[0.0,\"#0d0887\"],[0.1111111111111111,\"#46039f\"],[0.2222222222222222,\"#7201a8\"],[0.3333333333333333,\"#9c179e\"],[0.4444444444444444,\"#bd3786\"],[0.5555555555555556,\"#d8576b\"],[0.6666666666666666,\"#ed7953\"],[0.7777777777777778,\"#fb9f3a\"],[0.8888888888888888,\"#fdca26\"],[1.0,\"#f0f921\"]]},\"colorway\":[\"#636efa\",\"#EF553B\",\"#00cc96\",\"#ab63fa\",\"#FFA15A\",\"#19d3f3\",\"#FF6692\",\"#B6E880\",\"#FF97FF\",\"#FECB52\"],\"font\":{\"color\":\"#2a3f5f\"},\"geo\":{\"bgcolor\":\"white\",\"lakecolor\":\"white\",\"landcolor\":\"#E5ECF6\",\"showlakes\":true,\"showland\":true,\"subunitcolor\":\"white\"},\"hoverlabel\":{\"align\":\"left\"},\"hovermode\":\"closest\",\"mapbox\":{\"style\":\"light\"},\"paper_bgcolor\":\"white\",\"plot_bgcolor\":\"#E5ECF6\",\"polar\":{\"angularaxis\":{\"gridcolor\":\"white\",\"linecolor\":\"white\",\"ticks\":\"\"},\"bgcolor\":\"#E5ECF6\",\"radialaxis\":{\"gridcolor\":\"white\",\"linecolor\":\"white\",\"ticks\":\"\"}},\"scene\":{\"xaxis\":{\"backgroundcolor\":\"#E5ECF6\",\"gridcolor\":\"white\",\"gridwidth\":2,\"linecolor\":\"white\",\"showbackground\":true,\"ticks\":\"\",\"zerolinecolor\":\"white\"},\"yaxis\":{\"backgroundcolor\":\"#E5ECF6\",\"gridcolor\":\"white\",\"gridwidth\":2,\"linecolor\":\"white\",\"showbackground\":true,\"ticks\":\"\",\"zerolinecolor\":\"white\"},\"zaxis\":{\"backgroundcolor\":\"#E5ECF6\",\"gridcolor\":\"white\",\"gridwidth\":2,\"linecolor\":\"white\",\"showbackground\":true,\"ticks\":\"\",\"zerolinecolor\":\"white\"}},\"shapedefaults\":{\"line\":{\"color\":\"#2a3f5f\"}},\"ternary\":{\"aaxis\":{\"gridcolor\":\"white\",\"linecolor\":\"white\",\"ticks\":\"\"},\"baxis\":{\"gridcolor\":\"white\",\"linecolor\":\"white\",\"ticks\":\"\"},\"bgcolor\":\"#E5ECF6\",\"caxis\":{\"gridcolor\":\"white\",\"linecolor\":\"white\",\"ticks\":\"\"}},\"title\":{\"x\":0.05},\"xaxis\":{\"automargin\":true,\"gridcolor\":\"white\",\"linecolor\":\"white\",\"ticks\":\"\",\"title\":{\"standoff\":15},\"zerolinecolor\":\"white\",\"zerolinewidth\":2},\"yaxis\":{\"automargin\":true,\"gridcolor\":\"white\",\"linecolor\":\"white\",\"ticks\":\"\",\"title\":{\"standoff\":15},\"zerolinecolor\":\"white\",\"zerolinewidth\":2}}},\"xaxis\":{\"anchor\":\"y\",\"domain\":[0.0,1.0],\"title\":{\"text\":\"estado\"}},\"yaxis\":{\"anchor\":\"x\",\"domain\":[0.0,1.0],\"title\":{\"text\":\"IDHM\"}},\"coloraxis\":{\"colorbar\":{\"title\":{\"text\":\"IDHM\"}},\"colorscale\":[[0.0,\"#0d0887\"],[0.1111111111111111,\"#46039f\"],[0.2222222222222222,\"#7201a8\"],[0.3333333333333333,\"#9c179e\"],[0.4444444444444444,\"#bd3786\"],[0.5555555555555556,\"#d8576b\"],[0.6666666666666666,\"#ed7953\"],[0.7777777777777778,\"#fb9f3a\"],[0.8888888888888888,\"#fdca26\"],[1.0,\"#f0f921\"]]},\"legend\":{\"tracegroupgap\":0},\"title\":{\"text\":\"IDHM\"},\"barmode\":\"group\"},                        {\"responsive\": true}                    ).then(function(){\n",
              "                            \n",
              "var gd = document.getElementById('d82244fa-085b-419b-8058-c69d5e0b46b1');\n",
              "var x = new MutationObserver(function (mutations, observer) {{\n",
              "        var display = window.getComputedStyle(gd).display;\n",
              "        if (!display || display === 'none') {{\n",
              "            console.log([gd, 'removed!']);\n",
              "            Plotly.purge(gd);\n",
              "            observer.disconnect();\n",
              "        }}\n",
              "}});\n",
              "\n",
              "// Listen for the removal of the full notebook cells\n",
              "var notebookContainer = gd.closest('#notebook-container');\n",
              "if (notebookContainer) {{\n",
              "    x.observe(notebookContainer, {childList: true});\n",
              "}}\n",
              "\n",
              "// Listen for the clearing of the current output cell\n",
              "var outputEl = gd.closest('.output');\n",
              "if (outputEl) {{\n",
              "    x.observe(outputEl, {childList: true});\n",
              "}}\n",
              "\n",
              "                        })                };                            </script>        </div>\n",
              "</body>\n",
              "</html>"
            ]
          },
          "metadata": {}
        },
        {
          "output_type": "display_data",
          "data": {
            "text/html": [
              "<html>\n",
              "<head><meta charset=\"utf-8\" /></head>\n",
              "<body>\n",
              "    <div>            <script src=\"https://cdnjs.cloudflare.com/ajax/libs/mathjax/2.7.5/MathJax.js?config=TeX-AMS-MML_SVG\"></script><script type=\"text/javascript\">if (window.MathJax) {MathJax.Hub.Config({SVG: {font: \"STIX-Web\"}});}</script>                <script type=\"text/javascript\">window.PlotlyConfig = {MathJaxConfig: 'local'};</script>\n",
              "        <script src=\"https://cdn.plot.ly/plotly-2.8.3.min.js\"></script>                <div id=\"9657fd5d-af8b-4d24-9856-f6ac5db71efc\" class=\"plotly-graph-div\" style=\"height:525px; width:100%;\"></div>            <script type=\"text/javascript\">                                    window.PLOTLYENV=window.PLOTLYENV || {};                                    if (document.getElementById(\"9657fd5d-af8b-4d24-9856-f6ac5db71efc\")) {                    Plotly.newPlot(                        \"9657fd5d-af8b-4d24-9856-f6ac5db71efc\",                        [{\"alignmentgroup\":\"True\",\"hovertemplate\":\"estado=%{x}<br>IDHM_Renda=%{marker.color}<extra></extra>\",\"legendgroup\":\"\",\"marker\":{\"color\":[0.866,0.776,0.771,0.786,0.781,0.822,0.811,0.825,0.854,0.809,0.85,0.849,0.847,0.783,0.875,0.788,0.812,0.799,0.821,0.818,0.849,0.858,0.764,0.821,0.89,0.843,0.82],\"coloraxis\":\"coloraxis\",\"pattern\":{\"shape\":\"\"}},\"name\":\"\",\"offsetgroup\":\"\",\"orientation\":\"v\",\"showlegend\":false,\"textposition\":\"auto\",\"x\":[\"SC\",\"RO\",\"PI\",\"AM\",\"RR\",\"GO\",\"TO\",\"MT\",\"SP\",\"PB\",\"ES\",\"RS\",\"MS\",\"AL\",\"MG\",\"PA\",\"BA\",\"SE\",\"PE\",\"CE\",\"RN\",\"RJ\",\"MA\",\"AC\",\"DF\",\"PR\",\"AP\"],\"xaxis\":\"x\",\"y\":[0.866,0.776,0.771,0.786,0.781,0.822,0.811,0.825,0.854,0.809,0.85,0.849,0.847,0.783,0.875,0.788,0.812,0.799,0.821,0.818,0.849,0.858,0.764,0.821,0.89,0.843,0.82],\"yaxis\":\"y\",\"type\":\"bar\"}],                        {\"template\":{\"data\":{\"bar\":[{\"error_x\":{\"color\":\"#2a3f5f\"},\"error_y\":{\"color\":\"#2a3f5f\"},\"marker\":{\"line\":{\"color\":\"#E5ECF6\",\"width\":0.5},\"pattern\":{\"fillmode\":\"overlay\",\"size\":10,\"solidity\":0.2}},\"type\":\"bar\"}],\"barpolar\":[{\"marker\":{\"line\":{\"color\":\"#E5ECF6\",\"width\":0.5},\"pattern\":{\"fillmode\":\"overlay\",\"size\":10,\"solidity\":0.2}},\"type\":\"barpolar\"}],\"carpet\":[{\"aaxis\":{\"endlinecolor\":\"#2a3f5f\",\"gridcolor\":\"white\",\"linecolor\":\"white\",\"minorgridcolor\":\"white\",\"startlinecolor\":\"#2a3f5f\"},\"baxis\":{\"endlinecolor\":\"#2a3f5f\",\"gridcolor\":\"white\",\"linecolor\":\"white\",\"minorgridcolor\":\"white\",\"startlinecolor\":\"#2a3f5f\"},\"type\":\"carpet\"}],\"choropleth\":[{\"colorbar\":{\"outlinewidth\":0,\"ticks\":\"\"},\"type\":\"choropleth\"}],\"contour\":[{\"colorbar\":{\"outlinewidth\":0,\"ticks\":\"\"},\"colorscale\":[[0.0,\"#0d0887\"],[0.1111111111111111,\"#46039f\"],[0.2222222222222222,\"#7201a8\"],[0.3333333333333333,\"#9c179e\"],[0.4444444444444444,\"#bd3786\"],[0.5555555555555556,\"#d8576b\"],[0.6666666666666666,\"#ed7953\"],[0.7777777777777778,\"#fb9f3a\"],[0.8888888888888888,\"#fdca26\"],[1.0,\"#f0f921\"]],\"type\":\"contour\"}],\"contourcarpet\":[{\"colorbar\":{\"outlinewidth\":0,\"ticks\":\"\"},\"type\":\"contourcarpet\"}],\"heatmap\":[{\"colorbar\":{\"outlinewidth\":0,\"ticks\":\"\"},\"colorscale\":[[0.0,\"#0d0887\"],[0.1111111111111111,\"#46039f\"],[0.2222222222222222,\"#7201a8\"],[0.3333333333333333,\"#9c179e\"],[0.4444444444444444,\"#bd3786\"],[0.5555555555555556,\"#d8576b\"],[0.6666666666666666,\"#ed7953\"],[0.7777777777777778,\"#fb9f3a\"],[0.8888888888888888,\"#fdca26\"],[1.0,\"#f0f921\"]],\"type\":\"heatmap\"}],\"heatmapgl\":[{\"colorbar\":{\"outlinewidth\":0,\"ticks\":\"\"},\"colorscale\":[[0.0,\"#0d0887\"],[0.1111111111111111,\"#46039f\"],[0.2222222222222222,\"#7201a8\"],[0.3333333333333333,\"#9c179e\"],[0.4444444444444444,\"#bd3786\"],[0.5555555555555556,\"#d8576b\"],[0.6666666666666666,\"#ed7953\"],[0.7777777777777778,\"#fb9f3a\"],[0.8888888888888888,\"#fdca26\"],[1.0,\"#f0f921\"]],\"type\":\"heatmapgl\"}],\"histogram\":[{\"marker\":{\"pattern\":{\"fillmode\":\"overlay\",\"size\":10,\"solidity\":0.2}},\"type\":\"histogram\"}],\"histogram2d\":[{\"colorbar\":{\"outlinewidth\":0,\"ticks\":\"\"},\"colorscale\":[[0.0,\"#0d0887\"],[0.1111111111111111,\"#46039f\"],[0.2222222222222222,\"#7201a8\"],[0.3333333333333333,\"#9c179e\"],[0.4444444444444444,\"#bd3786\"],[0.5555555555555556,\"#d8576b\"],[0.6666666666666666,\"#ed7953\"],[0.7777777777777778,\"#fb9f3a\"],[0.8888888888888888,\"#fdca26\"],[1.0,\"#f0f921\"]],\"type\":\"histogram2d\"}],\"histogram2dcontour\":[{\"colorbar\":{\"outlinewidth\":0,\"ticks\":\"\"},\"colorscale\":[[0.0,\"#0d0887\"],[0.1111111111111111,\"#46039f\"],[0.2222222222222222,\"#7201a8\"],[0.3333333333333333,\"#9c179e\"],[0.4444444444444444,\"#bd3786\"],[0.5555555555555556,\"#d8576b\"],[0.6666666666666666,\"#ed7953\"],[0.7777777777777778,\"#fb9f3a\"],[0.8888888888888888,\"#fdca26\"],[1.0,\"#f0f921\"]],\"type\":\"histogram2dcontour\"}],\"mesh3d\":[{\"colorbar\":{\"outlinewidth\":0,\"ticks\":\"\"},\"type\":\"mesh3d\"}],\"parcoords\":[{\"line\":{\"colorbar\":{\"outlinewidth\":0,\"ticks\":\"\"}},\"type\":\"parcoords\"}],\"pie\":[{\"automargin\":true,\"type\":\"pie\"}],\"scatter\":[{\"marker\":{\"colorbar\":{\"outlinewidth\":0,\"ticks\":\"\"}},\"type\":\"scatter\"}],\"scatter3d\":[{\"line\":{\"colorbar\":{\"outlinewidth\":0,\"ticks\":\"\"}},\"marker\":{\"colorbar\":{\"outlinewidth\":0,\"ticks\":\"\"}},\"type\":\"scatter3d\"}],\"scattercarpet\":[{\"marker\":{\"colorbar\":{\"outlinewidth\":0,\"ticks\":\"\"}},\"type\":\"scattercarpet\"}],\"scattergeo\":[{\"marker\":{\"colorbar\":{\"outlinewidth\":0,\"ticks\":\"\"}},\"type\":\"scattergeo\"}],\"scattergl\":[{\"marker\":{\"colorbar\":{\"outlinewidth\":0,\"ticks\":\"\"}},\"type\":\"scattergl\"}],\"scattermapbox\":[{\"marker\":{\"colorbar\":{\"outlinewidth\":0,\"ticks\":\"\"}},\"type\":\"scattermapbox\"}],\"scatterpolar\":[{\"marker\":{\"colorbar\":{\"outlinewidth\":0,\"ticks\":\"\"}},\"type\":\"scatterpolar\"}],\"scatterpolargl\":[{\"marker\":{\"colorbar\":{\"outlinewidth\":0,\"ticks\":\"\"}},\"type\":\"scatterpolargl\"}],\"scatterternary\":[{\"marker\":{\"colorbar\":{\"outlinewidth\":0,\"ticks\":\"\"}},\"type\":\"scatterternary\"}],\"surface\":[{\"colorbar\":{\"outlinewidth\":0,\"ticks\":\"\"},\"colorscale\":[[0.0,\"#0d0887\"],[0.1111111111111111,\"#46039f\"],[0.2222222222222222,\"#7201a8\"],[0.3333333333333333,\"#9c179e\"],[0.4444444444444444,\"#bd3786\"],[0.5555555555555556,\"#d8576b\"],[0.6666666666666666,\"#ed7953\"],[0.7777777777777778,\"#fb9f3a\"],[0.8888888888888888,\"#fdca26\"],[1.0,\"#f0f921\"]],\"type\":\"surface\"}],\"table\":[{\"cells\":{\"fill\":{\"color\":\"#EBF0F8\"},\"line\":{\"color\":\"white\"}},\"header\":{\"fill\":{\"color\":\"#C8D4E3\"},\"line\":{\"color\":\"white\"}},\"type\":\"table\"}]},\"layout\":{\"annotationdefaults\":{\"arrowcolor\":\"#2a3f5f\",\"arrowhead\":0,\"arrowwidth\":1},\"autotypenumbers\":\"strict\",\"coloraxis\":{\"colorbar\":{\"outlinewidth\":0,\"ticks\":\"\"}},\"colorscale\":{\"diverging\":[[0,\"#8e0152\"],[0.1,\"#c51b7d\"],[0.2,\"#de77ae\"],[0.3,\"#f1b6da\"],[0.4,\"#fde0ef\"],[0.5,\"#f7f7f7\"],[0.6,\"#e6f5d0\"],[0.7,\"#b8e186\"],[0.8,\"#7fbc41\"],[0.9,\"#4d9221\"],[1,\"#276419\"]],\"sequential\":[[0.0,\"#0d0887\"],[0.1111111111111111,\"#46039f\"],[0.2222222222222222,\"#7201a8\"],[0.3333333333333333,\"#9c179e\"],[0.4444444444444444,\"#bd3786\"],[0.5555555555555556,\"#d8576b\"],[0.6666666666666666,\"#ed7953\"],[0.7777777777777778,\"#fb9f3a\"],[0.8888888888888888,\"#fdca26\"],[1.0,\"#f0f921\"]],\"sequentialminus\":[[0.0,\"#0d0887\"],[0.1111111111111111,\"#46039f\"],[0.2222222222222222,\"#7201a8\"],[0.3333333333333333,\"#9c179e\"],[0.4444444444444444,\"#bd3786\"],[0.5555555555555556,\"#d8576b\"],[0.6666666666666666,\"#ed7953\"],[0.7777777777777778,\"#fb9f3a\"],[0.8888888888888888,\"#fdca26\"],[1.0,\"#f0f921\"]]},\"colorway\":[\"#636efa\",\"#EF553B\",\"#00cc96\",\"#ab63fa\",\"#FFA15A\",\"#19d3f3\",\"#FF6692\",\"#B6E880\",\"#FF97FF\",\"#FECB52\"],\"font\":{\"color\":\"#2a3f5f\"},\"geo\":{\"bgcolor\":\"white\",\"lakecolor\":\"white\",\"landcolor\":\"#E5ECF6\",\"showlakes\":true,\"showland\":true,\"subunitcolor\":\"white\"},\"hoverlabel\":{\"align\":\"left\"},\"hovermode\":\"closest\",\"mapbox\":{\"style\":\"light\"},\"paper_bgcolor\":\"white\",\"plot_bgcolor\":\"#E5ECF6\",\"polar\":{\"angularaxis\":{\"gridcolor\":\"white\",\"linecolor\":\"white\",\"ticks\":\"\"},\"bgcolor\":\"#E5ECF6\",\"radialaxis\":{\"gridcolor\":\"white\",\"linecolor\":\"white\",\"ticks\":\"\"}},\"scene\":{\"xaxis\":{\"backgroundcolor\":\"#E5ECF6\",\"gridcolor\":\"white\",\"gridwidth\":2,\"linecolor\":\"white\",\"showbackground\":true,\"ticks\":\"\",\"zerolinecolor\":\"white\"},\"yaxis\":{\"backgroundcolor\":\"#E5ECF6\",\"gridcolor\":\"white\",\"gridwidth\":2,\"linecolor\":\"white\",\"showbackground\":true,\"ticks\":\"\",\"zerolinecolor\":\"white\"},\"zaxis\":{\"backgroundcolor\":\"#E5ECF6\",\"gridcolor\":\"white\",\"gridwidth\":2,\"linecolor\":\"white\",\"showbackground\":true,\"ticks\":\"\",\"zerolinecolor\":\"white\"}},\"shapedefaults\":{\"line\":{\"color\":\"#2a3f5f\"}},\"ternary\":{\"aaxis\":{\"gridcolor\":\"white\",\"linecolor\":\"white\",\"ticks\":\"\"},\"baxis\":{\"gridcolor\":\"white\",\"linecolor\":\"white\",\"ticks\":\"\"},\"bgcolor\":\"#E5ECF6\",\"caxis\":{\"gridcolor\":\"white\",\"linecolor\":\"white\",\"ticks\":\"\"}},\"title\":{\"x\":0.05},\"xaxis\":{\"automargin\":true,\"gridcolor\":\"white\",\"linecolor\":\"white\",\"ticks\":\"\",\"title\":{\"standoff\":15},\"zerolinecolor\":\"white\",\"zerolinewidth\":2},\"yaxis\":{\"automargin\":true,\"gridcolor\":\"white\",\"linecolor\":\"white\",\"ticks\":\"\",\"title\":{\"standoff\":15},\"zerolinecolor\":\"white\",\"zerolinewidth\":2}}},\"xaxis\":{\"anchor\":\"y\",\"domain\":[0.0,1.0],\"title\":{\"text\":\"estado\"}},\"yaxis\":{\"anchor\":\"x\",\"domain\":[0.0,1.0],\"title\":{\"text\":\"IDHM_Renda\"}},\"coloraxis\":{\"colorbar\":{\"title\":{\"text\":\"IDHM_Renda\"}},\"colorscale\":[[0.0,\"#0d0887\"],[0.1111111111111111,\"#46039f\"],[0.2222222222222222,\"#7201a8\"],[0.3333333333333333,\"#9c179e\"],[0.4444444444444444,\"#bd3786\"],[0.5555555555555556,\"#d8576b\"],[0.6666666666666666,\"#ed7953\"],[0.7777777777777778,\"#fb9f3a\"],[0.8888888888888888,\"#fdca26\"],[1.0,\"#f0f921\"]]},\"legend\":{\"tracegroupgap\":0},\"title\":{\"text\":\"IDHM Renda\"},\"barmode\":\"group\"},                        {\"responsive\": true}                    ).then(function(){\n",
              "                            \n",
              "var gd = document.getElementById('9657fd5d-af8b-4d24-9856-f6ac5db71efc');\n",
              "var x = new MutationObserver(function (mutations, observer) {{\n",
              "        var display = window.getComputedStyle(gd).display;\n",
              "        if (!display || display === 'none') {{\n",
              "            console.log([gd, 'removed!']);\n",
              "            Plotly.purge(gd);\n",
              "            observer.disconnect();\n",
              "        }}\n",
              "}});\n",
              "\n",
              "// Listen for the removal of the full notebook cells\n",
              "var notebookContainer = gd.closest('#notebook-container');\n",
              "if (notebookContainer) {{\n",
              "    x.observe(notebookContainer, {childList: true});\n",
              "}}\n",
              "\n",
              "// Listen for the clearing of the current output cell\n",
              "var outputEl = gd.closest('.output');\n",
              "if (outputEl) {{\n",
              "    x.observe(outputEl, {childList: true});\n",
              "}}\n",
              "\n",
              "                        })                };                            </script>        </div>\n",
              "</body>\n",
              "</html>"
            ]
          },
          "metadata": {}
        },
        {
          "output_type": "display_data",
          "data": {
            "text/html": [
              "<html>\n",
              "<head><meta charset=\"utf-8\" /></head>\n",
              "<body>\n",
              "    <div>            <script src=\"https://cdnjs.cloudflare.com/ajax/libs/mathjax/2.7.5/MathJax.js?config=TeX-AMS-MML_SVG\"></script><script type=\"text/javascript\">if (window.MathJax) {MathJax.Hub.Config({SVG: {font: \"STIX-Web\"}});}</script>                <script type=\"text/javascript\">window.PlotlyConfig = {MathJaxConfig: 'local'};</script>\n",
              "        <script src=\"https://cdn.plot.ly/plotly-2.8.3.min.js\"></script>                <div id=\"b1d0a1e5-415f-4cc7-bda4-5f171182e7b9\" class=\"plotly-graph-div\" style=\"height:525px; width:100%;\"></div>            <script type=\"text/javascript\">                                    window.PLOTLYENV=window.PLOTLYENV || {};                                    if (document.getElementById(\"b1d0a1e5-415f-4cc7-bda4-5f171182e7b9\")) {                    Plotly.newPlot(                        \"b1d0a1e5-415f-4cc7-bda4-5f171182e7b9\",                        [{\"alignmentgroup\":\"True\",\"hovertemplate\":\"estado=%{x}<br>IDHM_Educa\\u00e7\\u00e3o=%{marker.color}<extra></extra>\",\"legendgroup\":\"\",\"marker\":{\"color\":[0.779,0.703,0.666,0.735,0.771,0.74,0.727,0.758,0.828,0.671,0.732,0.729,0.71,0.636,0.753,0.661,0.654,0.64,0.685,0.717,0.677,0.763,0.682,0.682,0.804,0.764,0.71],\"coloraxis\":\"coloraxis\",\"pattern\":{\"shape\":\"\"}},\"name\":\"\",\"offsetgroup\":\"\",\"orientation\":\"v\",\"showlegend\":false,\"textposition\":\"auto\",\"x\":[\"SC\",\"RO\",\"PI\",\"AM\",\"RR\",\"GO\",\"TO\",\"MT\",\"SP\",\"PB\",\"ES\",\"RS\",\"MS\",\"AL\",\"MG\",\"PA\",\"BA\",\"SE\",\"PE\",\"CE\",\"RN\",\"RJ\",\"MA\",\"AC\",\"DF\",\"PR\",\"AP\"],\"xaxis\":\"x\",\"y\":[0.779,0.703,0.666,0.735,0.771,0.74,0.727,0.758,0.828,0.671,0.732,0.729,0.71,0.636,0.753,0.661,0.654,0.64,0.685,0.717,0.677,0.763,0.682,0.682,0.804,0.764,0.71],\"yaxis\":\"y\",\"type\":\"bar\"}],                        {\"template\":{\"data\":{\"bar\":[{\"error_x\":{\"color\":\"#2a3f5f\"},\"error_y\":{\"color\":\"#2a3f5f\"},\"marker\":{\"line\":{\"color\":\"#E5ECF6\",\"width\":0.5},\"pattern\":{\"fillmode\":\"overlay\",\"size\":10,\"solidity\":0.2}},\"type\":\"bar\"}],\"barpolar\":[{\"marker\":{\"line\":{\"color\":\"#E5ECF6\",\"width\":0.5},\"pattern\":{\"fillmode\":\"overlay\",\"size\":10,\"solidity\":0.2}},\"type\":\"barpolar\"}],\"carpet\":[{\"aaxis\":{\"endlinecolor\":\"#2a3f5f\",\"gridcolor\":\"white\",\"linecolor\":\"white\",\"minorgridcolor\":\"white\",\"startlinecolor\":\"#2a3f5f\"},\"baxis\":{\"endlinecolor\":\"#2a3f5f\",\"gridcolor\":\"white\",\"linecolor\":\"white\",\"minorgridcolor\":\"white\",\"startlinecolor\":\"#2a3f5f\"},\"type\":\"carpet\"}],\"choropleth\":[{\"colorbar\":{\"outlinewidth\":0,\"ticks\":\"\"},\"type\":\"choropleth\"}],\"contour\":[{\"colorbar\":{\"outlinewidth\":0,\"ticks\":\"\"},\"colorscale\":[[0.0,\"#0d0887\"],[0.1111111111111111,\"#46039f\"],[0.2222222222222222,\"#7201a8\"],[0.3333333333333333,\"#9c179e\"],[0.4444444444444444,\"#bd3786\"],[0.5555555555555556,\"#d8576b\"],[0.6666666666666666,\"#ed7953\"],[0.7777777777777778,\"#fb9f3a\"],[0.8888888888888888,\"#fdca26\"],[1.0,\"#f0f921\"]],\"type\":\"contour\"}],\"contourcarpet\":[{\"colorbar\":{\"outlinewidth\":0,\"ticks\":\"\"},\"type\":\"contourcarpet\"}],\"heatmap\":[{\"colorbar\":{\"outlinewidth\":0,\"ticks\":\"\"},\"colorscale\":[[0.0,\"#0d0887\"],[0.1111111111111111,\"#46039f\"],[0.2222222222222222,\"#7201a8\"],[0.3333333333333333,\"#9c179e\"],[0.4444444444444444,\"#bd3786\"],[0.5555555555555556,\"#d8576b\"],[0.6666666666666666,\"#ed7953\"],[0.7777777777777778,\"#fb9f3a\"],[0.8888888888888888,\"#fdca26\"],[1.0,\"#f0f921\"]],\"type\":\"heatmap\"}],\"heatmapgl\":[{\"colorbar\":{\"outlinewidth\":0,\"ticks\":\"\"},\"colorscale\":[[0.0,\"#0d0887\"],[0.1111111111111111,\"#46039f\"],[0.2222222222222222,\"#7201a8\"],[0.3333333333333333,\"#9c179e\"],[0.4444444444444444,\"#bd3786\"],[0.5555555555555556,\"#d8576b\"],[0.6666666666666666,\"#ed7953\"],[0.7777777777777778,\"#fb9f3a\"],[0.8888888888888888,\"#fdca26\"],[1.0,\"#f0f921\"]],\"type\":\"heatmapgl\"}],\"histogram\":[{\"marker\":{\"pattern\":{\"fillmode\":\"overlay\",\"size\":10,\"solidity\":0.2}},\"type\":\"histogram\"}],\"histogram2d\":[{\"colorbar\":{\"outlinewidth\":0,\"ticks\":\"\"},\"colorscale\":[[0.0,\"#0d0887\"],[0.1111111111111111,\"#46039f\"],[0.2222222222222222,\"#7201a8\"],[0.3333333333333333,\"#9c179e\"],[0.4444444444444444,\"#bd3786\"],[0.5555555555555556,\"#d8576b\"],[0.6666666666666666,\"#ed7953\"],[0.7777777777777778,\"#fb9f3a\"],[0.8888888888888888,\"#fdca26\"],[1.0,\"#f0f921\"]],\"type\":\"histogram2d\"}],\"histogram2dcontour\":[{\"colorbar\":{\"outlinewidth\":0,\"ticks\":\"\"},\"colorscale\":[[0.0,\"#0d0887\"],[0.1111111111111111,\"#46039f\"],[0.2222222222222222,\"#7201a8\"],[0.3333333333333333,\"#9c179e\"],[0.4444444444444444,\"#bd3786\"],[0.5555555555555556,\"#d8576b\"],[0.6666666666666666,\"#ed7953\"],[0.7777777777777778,\"#fb9f3a\"],[0.8888888888888888,\"#fdca26\"],[1.0,\"#f0f921\"]],\"type\":\"histogram2dcontour\"}],\"mesh3d\":[{\"colorbar\":{\"outlinewidth\":0,\"ticks\":\"\"},\"type\":\"mesh3d\"}],\"parcoords\":[{\"line\":{\"colorbar\":{\"outlinewidth\":0,\"ticks\":\"\"}},\"type\":\"parcoords\"}],\"pie\":[{\"automargin\":true,\"type\":\"pie\"}],\"scatter\":[{\"marker\":{\"colorbar\":{\"outlinewidth\":0,\"ticks\":\"\"}},\"type\":\"scatter\"}],\"scatter3d\":[{\"line\":{\"colorbar\":{\"outlinewidth\":0,\"ticks\":\"\"}},\"marker\":{\"colorbar\":{\"outlinewidth\":0,\"ticks\":\"\"}},\"type\":\"scatter3d\"}],\"scattercarpet\":[{\"marker\":{\"colorbar\":{\"outlinewidth\":0,\"ticks\":\"\"}},\"type\":\"scattercarpet\"}],\"scattergeo\":[{\"marker\":{\"colorbar\":{\"outlinewidth\":0,\"ticks\":\"\"}},\"type\":\"scattergeo\"}],\"scattergl\":[{\"marker\":{\"colorbar\":{\"outlinewidth\":0,\"ticks\":\"\"}},\"type\":\"scattergl\"}],\"scattermapbox\":[{\"marker\":{\"colorbar\":{\"outlinewidth\":0,\"ticks\":\"\"}},\"type\":\"scattermapbox\"}],\"scatterpolar\":[{\"marker\":{\"colorbar\":{\"outlinewidth\":0,\"ticks\":\"\"}},\"type\":\"scatterpolar\"}],\"scatterpolargl\":[{\"marker\":{\"colorbar\":{\"outlinewidth\":0,\"ticks\":\"\"}},\"type\":\"scatterpolargl\"}],\"scatterternary\":[{\"marker\":{\"colorbar\":{\"outlinewidth\":0,\"ticks\":\"\"}},\"type\":\"scatterternary\"}],\"surface\":[{\"colorbar\":{\"outlinewidth\":0,\"ticks\":\"\"},\"colorscale\":[[0.0,\"#0d0887\"],[0.1111111111111111,\"#46039f\"],[0.2222222222222222,\"#7201a8\"],[0.3333333333333333,\"#9c179e\"],[0.4444444444444444,\"#bd3786\"],[0.5555555555555556,\"#d8576b\"],[0.6666666666666666,\"#ed7953\"],[0.7777777777777778,\"#fb9f3a\"],[0.8888888888888888,\"#fdca26\"],[1.0,\"#f0f921\"]],\"type\":\"surface\"}],\"table\":[{\"cells\":{\"fill\":{\"color\":\"#EBF0F8\"},\"line\":{\"color\":\"white\"}},\"header\":{\"fill\":{\"color\":\"#C8D4E3\"},\"line\":{\"color\":\"white\"}},\"type\":\"table\"}]},\"layout\":{\"annotationdefaults\":{\"arrowcolor\":\"#2a3f5f\",\"arrowhead\":0,\"arrowwidth\":1},\"autotypenumbers\":\"strict\",\"coloraxis\":{\"colorbar\":{\"outlinewidth\":0,\"ticks\":\"\"}},\"colorscale\":{\"diverging\":[[0,\"#8e0152\"],[0.1,\"#c51b7d\"],[0.2,\"#de77ae\"],[0.3,\"#f1b6da\"],[0.4,\"#fde0ef\"],[0.5,\"#f7f7f7\"],[0.6,\"#e6f5d0\"],[0.7,\"#b8e186\"],[0.8,\"#7fbc41\"],[0.9,\"#4d9221\"],[1,\"#276419\"]],\"sequential\":[[0.0,\"#0d0887\"],[0.1111111111111111,\"#46039f\"],[0.2222222222222222,\"#7201a8\"],[0.3333333333333333,\"#9c179e\"],[0.4444444444444444,\"#bd3786\"],[0.5555555555555556,\"#d8576b\"],[0.6666666666666666,\"#ed7953\"],[0.7777777777777778,\"#fb9f3a\"],[0.8888888888888888,\"#fdca26\"],[1.0,\"#f0f921\"]],\"sequentialminus\":[[0.0,\"#0d0887\"],[0.1111111111111111,\"#46039f\"],[0.2222222222222222,\"#7201a8\"],[0.3333333333333333,\"#9c179e\"],[0.4444444444444444,\"#bd3786\"],[0.5555555555555556,\"#d8576b\"],[0.6666666666666666,\"#ed7953\"],[0.7777777777777778,\"#fb9f3a\"],[0.8888888888888888,\"#fdca26\"],[1.0,\"#f0f921\"]]},\"colorway\":[\"#636efa\",\"#EF553B\",\"#00cc96\",\"#ab63fa\",\"#FFA15A\",\"#19d3f3\",\"#FF6692\",\"#B6E880\",\"#FF97FF\",\"#FECB52\"],\"font\":{\"color\":\"#2a3f5f\"},\"geo\":{\"bgcolor\":\"white\",\"lakecolor\":\"white\",\"landcolor\":\"#E5ECF6\",\"showlakes\":true,\"showland\":true,\"subunitcolor\":\"white\"},\"hoverlabel\":{\"align\":\"left\"},\"hovermode\":\"closest\",\"mapbox\":{\"style\":\"light\"},\"paper_bgcolor\":\"white\",\"plot_bgcolor\":\"#E5ECF6\",\"polar\":{\"angularaxis\":{\"gridcolor\":\"white\",\"linecolor\":\"white\",\"ticks\":\"\"},\"bgcolor\":\"#E5ECF6\",\"radialaxis\":{\"gridcolor\":\"white\",\"linecolor\":\"white\",\"ticks\":\"\"}},\"scene\":{\"xaxis\":{\"backgroundcolor\":\"#E5ECF6\",\"gridcolor\":\"white\",\"gridwidth\":2,\"linecolor\":\"white\",\"showbackground\":true,\"ticks\":\"\",\"zerolinecolor\":\"white\"},\"yaxis\":{\"backgroundcolor\":\"#E5ECF6\",\"gridcolor\":\"white\",\"gridwidth\":2,\"linecolor\":\"white\",\"showbackground\":true,\"ticks\":\"\",\"zerolinecolor\":\"white\"},\"zaxis\":{\"backgroundcolor\":\"#E5ECF6\",\"gridcolor\":\"white\",\"gridwidth\":2,\"linecolor\":\"white\",\"showbackground\":true,\"ticks\":\"\",\"zerolinecolor\":\"white\"}},\"shapedefaults\":{\"line\":{\"color\":\"#2a3f5f\"}},\"ternary\":{\"aaxis\":{\"gridcolor\":\"white\",\"linecolor\":\"white\",\"ticks\":\"\"},\"baxis\":{\"gridcolor\":\"white\",\"linecolor\":\"white\",\"ticks\":\"\"},\"bgcolor\":\"#E5ECF6\",\"caxis\":{\"gridcolor\":\"white\",\"linecolor\":\"white\",\"ticks\":\"\"}},\"title\":{\"x\":0.05},\"xaxis\":{\"automargin\":true,\"gridcolor\":\"white\",\"linecolor\":\"white\",\"ticks\":\"\",\"title\":{\"standoff\":15},\"zerolinecolor\":\"white\",\"zerolinewidth\":2},\"yaxis\":{\"automargin\":true,\"gridcolor\":\"white\",\"linecolor\":\"white\",\"ticks\":\"\",\"title\":{\"standoff\":15},\"zerolinecolor\":\"white\",\"zerolinewidth\":2}}},\"xaxis\":{\"anchor\":\"y\",\"domain\":[0.0,1.0],\"title\":{\"text\":\"estado\"}},\"yaxis\":{\"anchor\":\"x\",\"domain\":[0.0,1.0],\"title\":{\"text\":\"IDHM_Educa\\u00e7\\u00e3o\"}},\"coloraxis\":{\"colorbar\":{\"title\":{\"text\":\"IDHM_Educa\\u00e7\\u00e3o\"}},\"colorscale\":[[0.0,\"#0d0887\"],[0.1111111111111111,\"#46039f\"],[0.2222222222222222,\"#7201a8\"],[0.3333333333333333,\"#9c179e\"],[0.4444444444444444,\"#bd3786\"],[0.5555555555555556,\"#d8576b\"],[0.6666666666666666,\"#ed7953\"],[0.7777777777777778,\"#fb9f3a\"],[0.8888888888888888,\"#fdca26\"],[1.0,\"#f0f921\"]]},\"legend\":{\"tracegroupgap\":0},\"title\":{\"text\":\"IDHM Educa\\u00e7\\u00e3o\"},\"barmode\":\"group\"},                        {\"responsive\": true}                    ).then(function(){\n",
              "                            \n",
              "var gd = document.getElementById('b1d0a1e5-415f-4cc7-bda4-5f171182e7b9');\n",
              "var x = new MutationObserver(function (mutations, observer) {{\n",
              "        var display = window.getComputedStyle(gd).display;\n",
              "        if (!display || display === 'none') {{\n",
              "            console.log([gd, 'removed!']);\n",
              "            Plotly.purge(gd);\n",
              "            observer.disconnect();\n",
              "        }}\n",
              "}});\n",
              "\n",
              "// Listen for the removal of the full notebook cells\n",
              "var notebookContainer = gd.closest('#notebook-container');\n",
              "if (notebookContainer) {{\n",
              "    x.observe(notebookContainer, {childList: true});\n",
              "}}\n",
              "\n",
              "// Listen for the clearing of the current output cell\n",
              "var outputEl = gd.closest('.output');\n",
              "if (outputEl) {{\n",
              "    x.observe(outputEl, {childList: true});\n",
              "}}\n",
              "\n",
              "                        })                };                            </script>        </div>\n",
              "</body>\n",
              "</html>"
            ]
          },
          "metadata": {}
        },
        {
          "output_type": "display_data",
          "data": {
            "text/html": [
              "<html>\n",
              "<head><meta charset=\"utf-8\" /></head>\n",
              "<body>\n",
              "    <div>            <script src=\"https://cdnjs.cloudflare.com/ajax/libs/mathjax/2.7.5/MathJax.js?config=TeX-AMS-MML_SVG\"></script><script type=\"text/javascript\">if (window.MathJax) {MathJax.Hub.Config({SVG: {font: \"STIX-Web\"}});}</script>                <script type=\"text/javascript\">window.PlotlyConfig = {MathJaxConfig: 'local'};</script>\n",
              "        <script src=\"https://cdn.plot.ly/plotly-2.8.3.min.js\"></script>                <div id=\"a6a1f2ca-5959-4d43-bc77-ccc6f13d939b\" class=\"plotly-graph-div\" style=\"height:525px; width:100%;\"></div>            <script type=\"text/javascript\">                                    window.PLOTLYENV=window.PLOTLYENV || {};                                    if (document.getElementById(\"a6a1f2ca-5959-4d43-bc77-ccc6f13d939b\")) {                    Plotly.newPlot(                        \"a6a1f2ca-5959-4d43-bc77-ccc6f13d939b\",                        [{\"alignmentgroup\":\"True\",\"hovertemplate\":\"estado=%{x}<br>IDHM_Longevidade=%{marker.color}<extra></extra>\",\"legendgroup\":\"\",\"marker\":{\"color\":[0.783,0.699,0.66,0.682,0.706,0.747,0.696,0.742,0.796,0.694,0.74,0.787,0.748,0.639,0.741,0.654,0.685,0.677,0.682,0.676,0.68,0.769,0.623,0.664,0.859,0.771,0.695],\"coloraxis\":\"coloraxis\",\"pattern\":{\"shape\":\"\"}},\"name\":\"\",\"offsetgroup\":\"\",\"orientation\":\"v\",\"showlegend\":false,\"textposition\":\"auto\",\"x\":[\"SC\",\"RO\",\"PI\",\"AM\",\"RR\",\"GO\",\"TO\",\"MT\",\"SP\",\"PB\",\"ES\",\"RS\",\"MS\",\"AL\",\"MG\",\"PA\",\"BA\",\"SE\",\"PE\",\"CE\",\"RN\",\"RJ\",\"MA\",\"AC\",\"DF\",\"PR\",\"AP\"],\"xaxis\":\"x\",\"y\":[0.783,0.699,0.66,0.682,0.706,0.747,0.696,0.742,0.796,0.694,0.74,0.787,0.748,0.639,0.741,0.654,0.685,0.677,0.682,0.676,0.68,0.769,0.623,0.664,0.859,0.771,0.695],\"yaxis\":\"y\",\"type\":\"bar\"}],                        {\"template\":{\"data\":{\"bar\":[{\"error_x\":{\"color\":\"#2a3f5f\"},\"error_y\":{\"color\":\"#2a3f5f\"},\"marker\":{\"line\":{\"color\":\"#E5ECF6\",\"width\":0.5},\"pattern\":{\"fillmode\":\"overlay\",\"size\":10,\"solidity\":0.2}},\"type\":\"bar\"}],\"barpolar\":[{\"marker\":{\"line\":{\"color\":\"#E5ECF6\",\"width\":0.5},\"pattern\":{\"fillmode\":\"overlay\",\"size\":10,\"solidity\":0.2}},\"type\":\"barpolar\"}],\"carpet\":[{\"aaxis\":{\"endlinecolor\":\"#2a3f5f\",\"gridcolor\":\"white\",\"linecolor\":\"white\",\"minorgridcolor\":\"white\",\"startlinecolor\":\"#2a3f5f\"},\"baxis\":{\"endlinecolor\":\"#2a3f5f\",\"gridcolor\":\"white\",\"linecolor\":\"white\",\"minorgridcolor\":\"white\",\"startlinecolor\":\"#2a3f5f\"},\"type\":\"carpet\"}],\"choropleth\":[{\"colorbar\":{\"outlinewidth\":0,\"ticks\":\"\"},\"type\":\"choropleth\"}],\"contour\":[{\"colorbar\":{\"outlinewidth\":0,\"ticks\":\"\"},\"colorscale\":[[0.0,\"#0d0887\"],[0.1111111111111111,\"#46039f\"],[0.2222222222222222,\"#7201a8\"],[0.3333333333333333,\"#9c179e\"],[0.4444444444444444,\"#bd3786\"],[0.5555555555555556,\"#d8576b\"],[0.6666666666666666,\"#ed7953\"],[0.7777777777777778,\"#fb9f3a\"],[0.8888888888888888,\"#fdca26\"],[1.0,\"#f0f921\"]],\"type\":\"contour\"}],\"contourcarpet\":[{\"colorbar\":{\"outlinewidth\":0,\"ticks\":\"\"},\"type\":\"contourcarpet\"}],\"heatmap\":[{\"colorbar\":{\"outlinewidth\":0,\"ticks\":\"\"},\"colorscale\":[[0.0,\"#0d0887\"],[0.1111111111111111,\"#46039f\"],[0.2222222222222222,\"#7201a8\"],[0.3333333333333333,\"#9c179e\"],[0.4444444444444444,\"#bd3786\"],[0.5555555555555556,\"#d8576b\"],[0.6666666666666666,\"#ed7953\"],[0.7777777777777778,\"#fb9f3a\"],[0.8888888888888888,\"#fdca26\"],[1.0,\"#f0f921\"]],\"type\":\"heatmap\"}],\"heatmapgl\":[{\"colorbar\":{\"outlinewidth\":0,\"ticks\":\"\"},\"colorscale\":[[0.0,\"#0d0887\"],[0.1111111111111111,\"#46039f\"],[0.2222222222222222,\"#7201a8\"],[0.3333333333333333,\"#9c179e\"],[0.4444444444444444,\"#bd3786\"],[0.5555555555555556,\"#d8576b\"],[0.6666666666666666,\"#ed7953\"],[0.7777777777777778,\"#fb9f3a\"],[0.8888888888888888,\"#fdca26\"],[1.0,\"#f0f921\"]],\"type\":\"heatmapgl\"}],\"histogram\":[{\"marker\":{\"pattern\":{\"fillmode\":\"overlay\",\"size\":10,\"solidity\":0.2}},\"type\":\"histogram\"}],\"histogram2d\":[{\"colorbar\":{\"outlinewidth\":0,\"ticks\":\"\"},\"colorscale\":[[0.0,\"#0d0887\"],[0.1111111111111111,\"#46039f\"],[0.2222222222222222,\"#7201a8\"],[0.3333333333333333,\"#9c179e\"],[0.4444444444444444,\"#bd3786\"],[0.5555555555555556,\"#d8576b\"],[0.6666666666666666,\"#ed7953\"],[0.7777777777777778,\"#fb9f3a\"],[0.8888888888888888,\"#fdca26\"],[1.0,\"#f0f921\"]],\"type\":\"histogram2d\"}],\"histogram2dcontour\":[{\"colorbar\":{\"outlinewidth\":0,\"ticks\":\"\"},\"colorscale\":[[0.0,\"#0d0887\"],[0.1111111111111111,\"#46039f\"],[0.2222222222222222,\"#7201a8\"],[0.3333333333333333,\"#9c179e\"],[0.4444444444444444,\"#bd3786\"],[0.5555555555555556,\"#d8576b\"],[0.6666666666666666,\"#ed7953\"],[0.7777777777777778,\"#fb9f3a\"],[0.8888888888888888,\"#fdca26\"],[1.0,\"#f0f921\"]],\"type\":\"histogram2dcontour\"}],\"mesh3d\":[{\"colorbar\":{\"outlinewidth\":0,\"ticks\":\"\"},\"type\":\"mesh3d\"}],\"parcoords\":[{\"line\":{\"colorbar\":{\"outlinewidth\":0,\"ticks\":\"\"}},\"type\":\"parcoords\"}],\"pie\":[{\"automargin\":true,\"type\":\"pie\"}],\"scatter\":[{\"marker\":{\"colorbar\":{\"outlinewidth\":0,\"ticks\":\"\"}},\"type\":\"scatter\"}],\"scatter3d\":[{\"line\":{\"colorbar\":{\"outlinewidth\":0,\"ticks\":\"\"}},\"marker\":{\"colorbar\":{\"outlinewidth\":0,\"ticks\":\"\"}},\"type\":\"scatter3d\"}],\"scattercarpet\":[{\"marker\":{\"colorbar\":{\"outlinewidth\":0,\"ticks\":\"\"}},\"type\":\"scattercarpet\"}],\"scattergeo\":[{\"marker\":{\"colorbar\":{\"outlinewidth\":0,\"ticks\":\"\"}},\"type\":\"scattergeo\"}],\"scattergl\":[{\"marker\":{\"colorbar\":{\"outlinewidth\":0,\"ticks\":\"\"}},\"type\":\"scattergl\"}],\"scattermapbox\":[{\"marker\":{\"colorbar\":{\"outlinewidth\":0,\"ticks\":\"\"}},\"type\":\"scattermapbox\"}],\"scatterpolar\":[{\"marker\":{\"colorbar\":{\"outlinewidth\":0,\"ticks\":\"\"}},\"type\":\"scatterpolar\"}],\"scatterpolargl\":[{\"marker\":{\"colorbar\":{\"outlinewidth\":0,\"ticks\":\"\"}},\"type\":\"scatterpolargl\"}],\"scatterternary\":[{\"marker\":{\"colorbar\":{\"outlinewidth\":0,\"ticks\":\"\"}},\"type\":\"scatterternary\"}],\"surface\":[{\"colorbar\":{\"outlinewidth\":0,\"ticks\":\"\"},\"colorscale\":[[0.0,\"#0d0887\"],[0.1111111111111111,\"#46039f\"],[0.2222222222222222,\"#7201a8\"],[0.3333333333333333,\"#9c179e\"],[0.4444444444444444,\"#bd3786\"],[0.5555555555555556,\"#d8576b\"],[0.6666666666666666,\"#ed7953\"],[0.7777777777777778,\"#fb9f3a\"],[0.8888888888888888,\"#fdca26\"],[1.0,\"#f0f921\"]],\"type\":\"surface\"}],\"table\":[{\"cells\":{\"fill\":{\"color\":\"#EBF0F8\"},\"line\":{\"color\":\"white\"}},\"header\":{\"fill\":{\"color\":\"#C8D4E3\"},\"line\":{\"color\":\"white\"}},\"type\":\"table\"}]},\"layout\":{\"annotationdefaults\":{\"arrowcolor\":\"#2a3f5f\",\"arrowhead\":0,\"arrowwidth\":1},\"autotypenumbers\":\"strict\",\"coloraxis\":{\"colorbar\":{\"outlinewidth\":0,\"ticks\":\"\"}},\"colorscale\":{\"diverging\":[[0,\"#8e0152\"],[0.1,\"#c51b7d\"],[0.2,\"#de77ae\"],[0.3,\"#f1b6da\"],[0.4,\"#fde0ef\"],[0.5,\"#f7f7f7\"],[0.6,\"#e6f5d0\"],[0.7,\"#b8e186\"],[0.8,\"#7fbc41\"],[0.9,\"#4d9221\"],[1,\"#276419\"]],\"sequential\":[[0.0,\"#0d0887\"],[0.1111111111111111,\"#46039f\"],[0.2222222222222222,\"#7201a8\"],[0.3333333333333333,\"#9c179e\"],[0.4444444444444444,\"#bd3786\"],[0.5555555555555556,\"#d8576b\"],[0.6666666666666666,\"#ed7953\"],[0.7777777777777778,\"#fb9f3a\"],[0.8888888888888888,\"#fdca26\"],[1.0,\"#f0f921\"]],\"sequentialminus\":[[0.0,\"#0d0887\"],[0.1111111111111111,\"#46039f\"],[0.2222222222222222,\"#7201a8\"],[0.3333333333333333,\"#9c179e\"],[0.4444444444444444,\"#bd3786\"],[0.5555555555555556,\"#d8576b\"],[0.6666666666666666,\"#ed7953\"],[0.7777777777777778,\"#fb9f3a\"],[0.8888888888888888,\"#fdca26\"],[1.0,\"#f0f921\"]]},\"colorway\":[\"#636efa\",\"#EF553B\",\"#00cc96\",\"#ab63fa\",\"#FFA15A\",\"#19d3f3\",\"#FF6692\",\"#B6E880\",\"#FF97FF\",\"#FECB52\"],\"font\":{\"color\":\"#2a3f5f\"},\"geo\":{\"bgcolor\":\"white\",\"lakecolor\":\"white\",\"landcolor\":\"#E5ECF6\",\"showlakes\":true,\"showland\":true,\"subunitcolor\":\"white\"},\"hoverlabel\":{\"align\":\"left\"},\"hovermode\":\"closest\",\"mapbox\":{\"style\":\"light\"},\"paper_bgcolor\":\"white\",\"plot_bgcolor\":\"#E5ECF6\",\"polar\":{\"angularaxis\":{\"gridcolor\":\"white\",\"linecolor\":\"white\",\"ticks\":\"\"},\"bgcolor\":\"#E5ECF6\",\"radialaxis\":{\"gridcolor\":\"white\",\"linecolor\":\"white\",\"ticks\":\"\"}},\"scene\":{\"xaxis\":{\"backgroundcolor\":\"#E5ECF6\",\"gridcolor\":\"white\",\"gridwidth\":2,\"linecolor\":\"white\",\"showbackground\":true,\"ticks\":\"\",\"zerolinecolor\":\"white\"},\"yaxis\":{\"backgroundcolor\":\"#E5ECF6\",\"gridcolor\":\"white\",\"gridwidth\":2,\"linecolor\":\"white\",\"showbackground\":true,\"ticks\":\"\",\"zerolinecolor\":\"white\"},\"zaxis\":{\"backgroundcolor\":\"#E5ECF6\",\"gridcolor\":\"white\",\"gridwidth\":2,\"linecolor\":\"white\",\"showbackground\":true,\"ticks\":\"\",\"zerolinecolor\":\"white\"}},\"shapedefaults\":{\"line\":{\"color\":\"#2a3f5f\"}},\"ternary\":{\"aaxis\":{\"gridcolor\":\"white\",\"linecolor\":\"white\",\"ticks\":\"\"},\"baxis\":{\"gridcolor\":\"white\",\"linecolor\":\"white\",\"ticks\":\"\"},\"bgcolor\":\"#E5ECF6\",\"caxis\":{\"gridcolor\":\"white\",\"linecolor\":\"white\",\"ticks\":\"\"}},\"title\":{\"x\":0.05},\"xaxis\":{\"automargin\":true,\"gridcolor\":\"white\",\"linecolor\":\"white\",\"ticks\":\"\",\"title\":{\"standoff\":15},\"zerolinecolor\":\"white\",\"zerolinewidth\":2},\"yaxis\":{\"automargin\":true,\"gridcolor\":\"white\",\"linecolor\":\"white\",\"ticks\":\"\",\"title\":{\"standoff\":15},\"zerolinecolor\":\"white\",\"zerolinewidth\":2}}},\"xaxis\":{\"anchor\":\"y\",\"domain\":[0.0,1.0],\"title\":{\"text\":\"estado\"}},\"yaxis\":{\"anchor\":\"x\",\"domain\":[0.0,1.0],\"title\":{\"text\":\"IDHM_Longevidade\"}},\"coloraxis\":{\"colorbar\":{\"title\":{\"text\":\"IDHM_Longevidade\"}},\"colorscale\":[[0.0,\"#0d0887\"],[0.1111111111111111,\"#46039f\"],[0.2222222222222222,\"#7201a8\"],[0.3333333333333333,\"#9c179e\"],[0.4444444444444444,\"#bd3786\"],[0.5555555555555556,\"#d8576b\"],[0.6666666666666666,\"#ed7953\"],[0.7777777777777778,\"#fb9f3a\"],[0.8888888888888888,\"#fdca26\"],[1.0,\"#f0f921\"]]},\"legend\":{\"tracegroupgap\":0},\"title\":{\"text\":\"IDHM Longevidade\"},\"barmode\":\"group\"},                        {\"responsive\": true}                    ).then(function(){\n",
              "                            \n",
              "var gd = document.getElementById('a6a1f2ca-5959-4d43-bc77-ccc6f13d939b');\n",
              "var x = new MutationObserver(function (mutations, observer) {{\n",
              "        var display = window.getComputedStyle(gd).display;\n",
              "        if (!display || display === 'none') {{\n",
              "            console.log([gd, 'removed!']);\n",
              "            Plotly.purge(gd);\n",
              "            observer.disconnect();\n",
              "        }}\n",
              "}});\n",
              "\n",
              "// Listen for the removal of the full notebook cells\n",
              "var notebookContainer = gd.closest('#notebook-container');\n",
              "if (notebookContainer) {{\n",
              "    x.observe(notebookContainer, {childList: true});\n",
              "}}\n",
              "\n",
              "// Listen for the clearing of the current output cell\n",
              "var outputEl = gd.closest('.output');\n",
              "if (outputEl) {{\n",
              "    x.observe(outputEl, {childList: true});\n",
              "}}\n",
              "\n",
              "                        })                };                            </script>        </div>\n",
              "</body>\n",
              "</html>"
            ]
          },
          "metadata": {}
        }
      ],
      "source": [
        "to_plot_idh = [v for v in list(graf_idh.columns)]\n",
        "\n",
        "fig_graf_idh_covid = px.bar(graf_idh, x=graf_idh.estado, y=to_plot_idh,\\\n",
        "                                   barmode=\"stack\",\\\n",
        "                                   text_auto='.2s',\\\n",
        "                                   title=\"Casos novos de Covid e IDH\")\n",
        "             \n",
        "fig_graf_idh_covid.show()\n",
        "\n",
        "\n",
        "graf_idh_covid_obito = px.bar(graf_idh, x='estado', y=\"total_casos_estados\",\\\n",
        "                              barmode=\"group\",\\\n",
        "                              color=\"total_casos_estados\",\\\n",
        "                              title=\"Casos novos de  Covid\")\n",
        "graf_idh_covid= px.bar(graf_idh, x='estado', y=\"IDHM\",\\\n",
        "                       barmode=\"group\",\\\n",
        "                       color=\"IDHM\",\\\n",
        "                       title=\"IDHM\")\n",
        "graf_idh_covid_renda = px.bar(graf_idh, x='estado', y=\"IDHM_Renda\",\\\n",
        "                              barmode=\"group\",\\\n",
        "                              color=\"IDHM_Renda\",\\\n",
        "                              title=\"IDHM Renda\")\n",
        "graf_idh_covid_educacao = px.bar(graf_idh, x='estado', y=\"IDHM_Educação\",\\\n",
        "                                 barmode=\"group\",\\\n",
        "                                 color=\"IDHM_Educação\",\\\n",
        "                                 title=\"IDHM Educação\")\n",
        "graf_idh_covid_educacao_longevidade = px.bar(graf_idh, x='estado', y=\"IDHM_Longevidade\",\\\n",
        "                                             barmode=\"group\",\\\n",
        "                                             color=\"IDHM_Longevidade\",\\\n",
        "                                             title=\"IDHM Longevidade\")\n",
        "graf_idh_covid_obito.show()\n",
        "graf_idh_covid.show()\n",
        "graf_idh_covid_renda.show()\n",
        "graf_idh_covid_educacao.show()\n",
        "graf_idh_covid_educacao_longevidade.show()"
      ]
    },
    {
      "cell_type": "markdown",
      "metadata": {
        "id": "-yzX7uoEUufh"
      },
      "source": [
        "#### Previsão de obitos por covid de acordo com os dados  das colunas populacaoTCU2019 e casosNovos, desconsiderando dados com resultado de casos novos igual a zero para evitar possível falha de treino e teste dos modelos."
      ]
    },
    {
      "cell_type": "code",
      "execution_count": 75,
      "metadata": {
        "id": "zcZM4ef-UPQL",
        "colab": {
          "base_uri": "https://localhost:8080/"
        },
        "outputId": "ee613938-e497-473e-f56e-6f405e48bdc2"
      },
      "outputs": [
        {
          "output_type": "stream",
          "name": "stdout",
          "text": [
            "+------+------+--------------------+-----+------+--------------+---------------+----------+---------+----------------+--------------+----------+---------------+-----------+----------------+---------------------+\n",
            "|regiao|estado|           municipio|coduf|codmun|codRegiaoSaude|nomeRegiaoSaude|      data|semanaEpi|populacaoTCU2019|casosAcumulado|casosNovos|obitosAcumulado|obitosNovos|Recuperadosnovos|emAcompanhamentoNovos|\n",
            "+------+------+--------------------+-----+------+--------------+---------------+----------+---------+----------------+--------------+----------+---------------+-----------+----------------+---------------------+\n",
            "| Norte|    RO|Alta Floresta D'O...|   11|110001|         11005|   ZONA DA MATA|2020-03-27|       13|           22945|           0.0|         0|              0|          0|            null|                 null|\n",
            "| Norte|    RO|Alta Floresta D'O...|   11|110001|         11005|   ZONA DA MATA|2020-03-28|       13|           22945|           0.0|         0|              0|          0|            null|                 null|\n",
            "| Norte|    RO|Alta Floresta D'O...|   11|110001|         11005|   ZONA DA MATA|2020-03-29|       14|           22945|           0.0|         0|              0|          0|            null|                 null|\n",
            "| Norte|    RO|Alta Floresta D'O...|   11|110001|         11005|   ZONA DA MATA|2020-03-30|       14|           22945|           0.0|         0|              0|          0|            null|                 null|\n",
            "| Norte|    RO|Alta Floresta D'O...|   11|110001|         11005|   ZONA DA MATA|2020-03-31|       14|           22945|           0.0|         0|              0|          0|            null|                 null|\n",
            "+------+------+--------------------+-----+------+--------------+---------------+----------+---------+----------------+--------------+----------+---------------+-----------+----------------+---------------------+\n",
            "only showing top 5 rows\n",
            "\n"
          ]
        }
      ],
      "source": [
        "covid_novo.show(5)"
      ]
    },
    {
      "cell_type": "code",
      "execution_count": 76,
      "metadata": {
        "id": "KLYMzPgGWKFl",
        "colab": {
          "base_uri": "https://localhost:8080/"
        },
        "outputId": "dcd35b3c-8fae-4f63-8b73-30b5cf3f9a2e"
      },
      "outputs": [
        {
          "output_type": "stream",
          "name": "stdout",
          "text": [
            "+------+----------------+----------+-----------+\n",
            "|codmun|populacaoTCU2019|casosNovos|obitosNovos|\n",
            "+------+----------------+----------+-----------+\n",
            "|110001|           22945|         1|          1|\n",
            "|110001|           22945|        18|          1|\n",
            "|110002|          107863|         3|          1|\n",
            "|110002|          107863|        21|          1|\n",
            "|110002|          107863|        14|          1|\n",
            "+------+----------------+----------+-----------+\n",
            "only showing top 5 rows\n",
            "\n"
          ]
        }
      ],
      "source": [
        "dados = covid_novo.filter(col(\"casosNovos\")  > 0)\\\n",
        "                  .filter(col(\"obitosNovos\") > 0)\\\n",
        "                  .select(\"codmun\", \"populacaoTCU2019\", \"casosNovos\", \"obitosNovos\")\n",
        "\n",
        "dados.show(5)"
      ]
    },
    {
      "cell_type": "code",
      "execution_count": 77,
      "metadata": {
        "id": "s1Dc5i6WZtY-",
        "colab": {
          "base_uri": "https://localhost:8080/"
        },
        "outputId": "ca2456e1-929f-436f-f051-08e3b348238d"
      },
      "outputs": [
        {
          "output_type": "stream",
          "name": "stdout",
          "text": [
            "+------+----------------+----------+-----------+---------------+\n",
            "|codmun|populacaoTCU2019|casosNovos|obitosNovos|          dados|\n",
            "+------+----------------+----------+-----------+---------------+\n",
            "|110001|           22945|         1|          1|  [22945.0,1.0]|\n",
            "|110001|           22945|        18|          1| [22945.0,18.0]|\n",
            "|110002|          107863|         3|          1| [107863.0,3.0]|\n",
            "|110002|          107863|        21|          1|[107863.0,21.0]|\n",
            "|110002|          107863|        14|          1|[107863.0,14.0]|\n",
            "+------+----------------+----------+-----------+---------------+\n",
            "only showing top 5 rows\n",
            "\n"
          ]
        }
      ],
      "source": [
        "testedados = VectorAssembler(inputCols=[(\"populacaoTCU2019\"),(\"casosNovos\")],\\\n",
        "                             outputCol=\"dados\")\n",
        "testedata = testedados.transform(dados)\n",
        "\n",
        "testedata.show(5)"
      ]
    },
    {
      "cell_type": "code",
      "execution_count": 78,
      "metadata": {
        "id": "_osznZ0opTcd",
        "colab": {
          "base_uri": "https://localhost:8080/"
        },
        "outputId": "941ce8cb-4878-4780-c3d1-dcfe2181bf21"
      },
      "outputs": [
        {
          "output_type": "stream",
          "name": "stdout",
          "text": [
            "188813\n",
            "80590\n"
          ]
        }
      ],
      "source": [
        "treino, teste = testedata.randomSplit([0.7,0.3])\n",
        "\n",
        "print(treino.count())\n",
        "print(teste.count())"
      ]
    },
    {
      "cell_type": "markdown",
      "metadata": {
        "id": "IXxclRyVaHSB"
      },
      "source": [
        "- Modelo Regressão Linear"
      ]
    },
    {
      "cell_type": "code",
      "execution_count": 79,
      "metadata": {
        "id": "uKrmZHh3qRSV"
      },
      "outputs": [],
      "source": [
        "\n",
        "reglin = LinearRegression(featuresCol=\"dados\", labelCol=\"obitosNovos\")\n",
        "\n",
        "modelo = reglin.fit(treino)"
      ]
    },
    {
      "cell_type": "code",
      "execution_count": 80,
      "metadata": {
        "id": "pcAbHqZOvA4W"
      },
      "outputs": [],
      "source": [
        "previsao = modelo.transform(teste)"
      ]
    },
    {
      "cell_type": "code",
      "source": [
        "previsao.show(100)"
      ],
      "metadata": {
        "colab": {
          "base_uri": "https://localhost:8080/"
        },
        "id": "FaU5xV2tUJiZ",
        "outputId": "0a96921b-9ac4-4908-8d8e-e6fbd9233751"
      },
      "execution_count": 81,
      "outputs": [
        {
          "output_type": "stream",
          "name": "stdout",
          "text": [
            "+------+----------------+----------+-----------+----------------+------------------+\n",
            "|codmun|populacaoTCU2019|casosNovos|obitosNovos|           dados|        prediction|\n",
            "+------+----------------+----------+-----------+----------------+------------------+\n",
            "|110001|           22945|         1|          1|   [22945.0,1.0]|1.0100443579402247|\n",
            "|110002|          107863|         3|          1|  [107863.0,3.0]| 1.283883080316333|\n",
            "|110002|          107863|         4|          1|  [107863.0,4.0]|1.3010482338235354|\n",
            "|110002|          107863|        14|          1| [107863.0,14.0]| 1.472699768895561|\n",
            "|110002|          107863|        15|          1| [107863.0,15.0]|1.4898649224027634|\n",
            "|110002|          107863|        21|          1| [107863.0,21.0]|1.5928558434459785|\n",
            "|110002|          107863|        29|          2| [107863.0,29.0]| 1.730177071503599|\n",
            "|110002|          107863|        34|          1| [107863.0,34.0]|1.8160028390396115|\n",
            "|110002|          107863|        57|          1| [107863.0,57.0]|2.2108013697052695|\n",
            "|110002|          107863|        64|          1| [107863.0,64.0]|2.3309574442556875|\n",
            "|110002|          107863|       157|          2|[107863.0,157.0]| 3.927316720425523|\n",
            "|110003|            5312|         1|          1|    [5312.0,1.0]|0.9603110636083643|\n",
            "|110004|           85359|        15|          1|  [85359.0,15.0]|1.4263931333910136|\n",
            "|110004|           85359|        17|          1|  [85359.0,17.0]|1.4607234404054186|\n",
            "|110004|           85359|        17|          1|  [85359.0,17.0]|1.4607234404054186|\n",
            "|110010|           46174|         1|          1|   [46174.0,1.0]|1.0755609855154973|\n",
            "|110010|           46174|         6|          2|   [46174.0,6.0]|  1.16138675305151|\n",
            "|110010|           46174|         7|          2|   [46174.0,7.0]|1.1785519065587124|\n",
            "|110010|           46174|         9|          1|   [46174.0,9.0]|1.2128822135731177|\n",
            "|110010|           46174|        34|          1|  [46174.0,34.0]| 1.642011051253181|\n",
            "|110010|           46174|        64|          1|  [46174.0,64.0]|2.1569656564692568|\n",
            "|110010|           46174|       100|          1| [46174.0,100.0]| 2.774911182728548|\n",
            "|110011|           51775|        17|          1|  [51775.0,17.0]| 1.366000877209071|\n",
            "|110011|           51775|        18|          1|  [51775.0,18.0]|1.3831660307162736|\n",
            "|110011|           51775|        28|          1|  [51775.0,28.0]|1.5548175657882988|\n",
            "|110012|          128969|         3|          1|  [128969.0,3.0]| 1.343411856484214|\n",
            "|110012|          128969|        15|          1| [128969.0,15.0]|1.5493936985706442|\n",
            "|110012|          128969|        30|          1| [128969.0,30.0]|1.8068710011786822|\n",
            "|110012|          128969|        31|          1| [128969.0,31.0]|1.8240361546858848|\n",
            "|110012|          128969|        36|          1| [128969.0,36.0]|1.9098619222218973|\n",
            "|110015|           36035|         4|          1|   [36035.0,4.0]|1.0984597312846107|\n",
            "|110015|           36035|        13|          1|  [36035.0,13.0]|1.2529461128494335|\n",
            "|110018|           36660|        14|          1|  [36660.0,14.0]|1.2718740582217418|\n",
            "|110020|          529544|        16|          1| [529544.0,16.0]|2.6963674142615335|\n",
            "|110020|          529544|        23|          2| [529544.0,23.0]| 2.816523488811951|\n",
            "|110020|          529544|        32|          2| [529544.0,32.0]|2.9710098703767738|\n",
            "|110020|          529544|        36|          2| [529544.0,36.0]| 3.039670484405584|\n",
            "|110020|          529544|        72|          2| [529544.0,72.0]| 3.657616010664875|\n",
            "|110020|          529544|        80|          3| [529544.0,80.0]|3.7949372387224956|\n",
            "|110020|          529544|        96|          3| [529544.0,96.0]| 4.069579694837736|\n",
            "|110020|          529544|       106|          3|[529544.0,106.0]| 4.241231229909761|\n",
            "|110020|          529544|       134|          4|[529544.0,134.0]|4.7218555281114325|\n",
            "|110020|          529544|       140|          5|[529544.0,140.0]| 4.824846449154648|\n",
            "|110020|          529544|       141|          8|[529544.0,141.0]|  4.84201160266185|\n",
            "|110020|          529544|       155|          3|[529544.0,155.0]| 5.082323751762686|\n",
            "|110020|          529544|       163|         11|[529544.0,163.0]|5.2196449798203055|\n",
            "|110020|          529544|       183|          2|[529544.0,183.0]| 5.562948049964357|\n",
            "|110020|          529544|       241|          7|[529544.0,241.0]| 6.558526953382104|\n",
            "|110020|          529544|       267|          2|[529544.0,267.0]| 7.004820944569369|\n",
            "|110020|          529544|       284|         11|[529544.0,284.0]|7.2966285541918126|\n",
            "|110020|          529544|       301|          1|[529544.0,301.0]| 7.588436163814255|\n",
            "|110020|          529544|       313|          4|[529544.0,313.0]| 7.794418005900686|\n",
            "|110020|          529544|       333|         10|[529544.0,333.0]| 8.137721076044736|\n",
            "|110020|          529544|       334|          9|[529544.0,334.0]| 8.154886229551938|\n",
            "|110020|          529544|       358|         18|[529544.0,358.0]| 8.566849913724798|\n",
            "|110020|          529544|       368|         10|[529544.0,368.0]| 8.738501448796825|\n",
            "|110020|          529544|       436|         10|[529544.0,436.0]| 9.905731887286596|\n",
            "|110020|          529544|       484|         19|[529544.0,484.0]|10.729659255632317|\n",
            "|110020|          529544|       493|          6|[529544.0,493.0]| 10.88414563719714|\n",
            "|110020|          529544|       542|         13|[529544.0,542.0]|11.725238159050065|\n",
            "|110025|           18986|         3|          1|   [18986.0,3.0]|1.0332084361643028|\n",
            "|110028|           55058|         3|          1|   [55058.0,3.0]| 1.134948321217264|\n",
            "|110028|           55058|        49|          1|  [55058.0,49.0]|1.9245453825485805|\n",
            "|110030|           99854|         3|          1|   [99854.0,3.0]|1.2612939602401196|\n",
            "|110030|           99854|         3|          1|   [99854.0,3.0]|1.2612939602401196|\n",
            "|110030|           99854|        20|          1|  [99854.0,20.0]|1.5531015698625628|\n",
            "|110030|           99854|        25|          1|  [99854.0,25.0]|1.6389273373985753|\n",
            "|110030|           99854|        43|          2|  [99854.0,43.0]| 1.947900100528221|\n",
            "|110030|           99854|        55|          1|  [99854.0,55.0]|2.1538819426146514|\n",
            "|110030|           99854|        72|          1|  [99854.0,72.0]|2.4456895522370945|\n",
            "|110032|           23005|         6|          1|   [23005.0,6.0]|1.0960393534952875|\n",
            "|110032|           23005|         8|          1|   [23005.0,8.0]|1.1303696605096925|\n",
            "|110033|           30583|         2|          1|   [30583.0,2.0]|1.0487522382725136|\n",
            "|110037|           13241|         1|          1|   [13241.0,1.0]|0.9826745463258441|\n",
            "|110045|           39654|         2|          1|   [39654.0,2.0]| 1.074336694285915|\n",
            "|110080|           26693|         2|          1|   [26693.0,2.0]|1.0377806217040944|\n",
            "|110080|           26693|        10|          1|  [26693.0,10.0]|1.1751018497617145|\n",
            "|110080|           26693|        12|          1|  [26693.0,12.0]|1.2094321567761197|\n",
            "|110080|           26693|        16|          1|  [26693.0,16.0]|1.2780927708049297|\n",
            "|110094|           25215|         1|          1|   [25215.0,1.0]|1.0164468179942894|\n",
            "|110094|           25215|         7|          1|   [25215.0,7.0]|1.1194377390375045|\n",
            "|110110|           10458|         7|          1|   [10458.0,7.0]|1.0778161077521156|\n",
            "|110110|           10458|        21|          1|  [10458.0,21.0]| 1.318128256852951|\n",
            "|110120|            9660|         1|          1|    [9660.0,1.0]|0.9725744540555332|\n",
            "|110146|            2169|         7|          1|    [2169.0,7.0]|1.0544372569203349|\n",
            "|120005|            7417|         1|          1|    [7417.0,1.0]|0.9662481466100411|\n",
            "|120005|            7417|         3|          1|    [7417.0,3.0]|1.0005784536244462|\n",
            "|120005|            7417|         6|          1|    [7417.0,6.0]|1.0520739141460538|\n",
            "|120010|           26278|        21|          1|  [26278.0,21.0]|1.3627480445425122|\n",
            "|120010|           26278|        48|          2|  [26278.0,48.0]|1.8262071892369804|\n",
            "|120013|           10266|         2|          1|   [10266.0,2.0]|0.9914488105551424|\n",
            "|120017|           11733|         1|          1|   [11733.0,1.0]|0.9784212821137165|\n",
            "|120017|           11733|         5|          1|   [11733.0,5.0]|1.0470818961425266|\n",
            "|120017|           11733|         7|          1|   [11733.0,7.0]|1.0814122031569318|\n",
            "|120020|           88376|         1|          1|   [88376.0,1.0]|1.1945903331814174|\n",
            "|120020|           88376|         1|          1|   [88376.0,1.0]|1.1945903331814174|\n",
            "|120020|           88376|         1|          2|   [88376.0,1.0]|1.1945903331814174|\n",
            "|120020|           88376|         6|          1|   [88376.0,6.0]|1.2804161007174302|\n",
            "|120020|           88376|        11|          1|  [88376.0,11.0]|1.3662418682534427|\n",
            "|120020|           88376|        14|          1|  [88376.0,14.0]|1.4177373287750503|\n",
            "+------+----------------+----------+-----------+----------------+------------------+\n",
            "only showing top 100 rows\n",
            "\n"
          ]
        }
      ]
    },
    {
      "cell_type": "markdown",
      "metadata": {
        "id": "DHusoEfLaYo1"
      },
      "source": [
        "- Avaliação do modelo"
      ]
    },
    {
      "cell_type": "code",
      "execution_count": 82,
      "metadata": {
        "colab": {
          "base_uri": "https://localhost:8080/"
        },
        "id": "undXyVkPwmcY",
        "outputId": "85c6f698-f9d2-4a08-a790-bd49dd20ff6d"
      },
      "outputs": [
        {
          "output_type": "stream",
          "name": "stdout",
          "text": [
            "8.27937056372976\n"
          ]
        }
      ],
      "source": [
        "avaliar = RegressionEvaluator(predictionCol=\"prediction\",\\\n",
        "                              labelCol=\"obitosNovos\",\\\n",
        "                              metricName=\"rmse\")\n",
        "\n",
        "rmse = avaliar.evaluate(previsao)\n",
        "\n",
        "print(rmse)"
      ]
    },
    {
      "cell_type": "markdown",
      "metadata": {
        "id": "KFG0zpQJaXq0"
      },
      "source": [
        "- Modelo Regressão RandomForest"
      ]
    },
    {
      "cell_type": "code",
      "execution_count": 83,
      "metadata": {
        "id": "qKe5nqWiyxfX"
      },
      "outputs": [],
      "source": [
        "rfreg = RandomForestRegressor(featuresCol=\"dados\", labelCol=\"obitosNovos\")\n",
        "\n",
        "model2 = rfreg.fit(treino)"
      ]
    },
    {
      "cell_type": "code",
      "execution_count": 84,
      "metadata": {
        "id": "Y5X_9WQ60-Eb"
      },
      "outputs": [],
      "source": [
        "previsao2 = model2.transform(teste)"
      ]
    },
    {
      "cell_type": "code",
      "source": [
        "previsao2.show(1000)"
      ],
      "metadata": {
        "colab": {
          "base_uri": "https://localhost:8080/"
        },
        "id": "S21jIA67UNwF",
        "outputId": "1b7cc0f4-7911-49c1-a675-abd632492375"
      },
      "execution_count": 85,
      "outputs": [
        {
          "output_type": "stream",
          "name": "stdout",
          "text": [
            "+------+----------------+----------+-----------+-----------------+------------------+\n",
            "|codmun|populacaoTCU2019|casosNovos|obitosNovos|            dados|        prediction|\n",
            "+------+----------------+----------+-----------+-----------------+------------------+\n",
            "|110001|           22945|         1|          1|    [22945.0,1.0]|1.2386166921021302|\n",
            "|110002|          107863|         3|          1|   [107863.0,3.0]|1.5180056253143683|\n",
            "|110002|          107863|         4|          1|   [107863.0,4.0]|1.5180056253143683|\n",
            "|110002|          107863|        14|          1|  [107863.0,14.0]| 1.673639475960714|\n",
            "|110002|          107863|        15|          1|  [107863.0,15.0]|1.6858227318189551|\n",
            "|110002|          107863|        21|          1|  [107863.0,21.0]| 1.740921498466136|\n",
            "|110002|          107863|        29|          2|  [107863.0,29.0]|1.7727255483251263|\n",
            "|110002|          107863|        34|          1|  [107863.0,34.0]| 1.894499407581598|\n",
            "|110002|          107863|        57|          1|  [107863.0,57.0]|2.1713354841248007|\n",
            "|110002|          107863|        64|          1|  [107863.0,64.0]|2.2221292862513717|\n",
            "|110002|          107863|       157|          2| [107863.0,157.0]|3.0438851038155237|\n",
            "|110003|            5312|         1|          1|     [5312.0,1.0]| 1.335479505509515|\n",
            "|110004|           85359|        15|          1|   [85359.0,15.0]| 1.557149264947392|\n",
            "|110004|           85359|        17|          1|   [85359.0,17.0]| 1.557149264947392|\n",
            "|110004|           85359|        17|          1|   [85359.0,17.0]| 1.557149264947392|\n",
            "|110010|           46174|         1|          1|    [46174.0,1.0]|1.3253789568845573|\n",
            "|110010|           46174|         6|          2|    [46174.0,6.0]|1.3253789568845573|\n",
            "|110010|           46174|         7|          2|    [46174.0,7.0]|1.3919163291044332|\n",
            "|110010|           46174|         9|          1|    [46174.0,9.0]|1.4268966556522544|\n",
            "|110010|           46174|        34|          1|   [46174.0,34.0]|1.5790529319551232|\n",
            "|110010|           46174|        64|          1|   [46174.0,64.0]|2.0645079916067575|\n",
            "|110010|           46174|       100|          1|  [46174.0,100.0]| 2.375671811702102|\n",
            "|110011|           51775|        17|          1|   [51775.0,17.0]| 1.462689601671538|\n",
            "|110011|           51775|        18|          1|   [51775.0,18.0]| 1.462689601671538|\n",
            "|110011|           51775|        28|          1|   [51775.0,28.0]| 1.528173354902094|\n",
            "|110012|          128969|         3|          1|   [128969.0,3.0]|1.5887869502456033|\n",
            "|110012|          128969|        15|          1|  [128969.0,15.0]|1.6971845785701962|\n",
            "|110012|          128969|        30|          1|  [128969.0,30.0]|1.7840873950763672|\n",
            "|110012|          128969|        31|          1|  [128969.0,31.0]|1.7840873950763672|\n",
            "|110012|          128969|        36|          1|  [128969.0,36.0]|1.9334917308980988|\n",
            "|110015|           36035|         4|          1|    [36035.0,4.0]|1.2491188400590698|\n",
            "|110015|           36035|        13|          1|   [36035.0,13.0]|1.3742462289878092|\n",
            "|110018|           36660|        14|          1|   [36660.0,14.0]|1.3742462289878092|\n",
            "|110020|          529544|        16|          1|  [529544.0,16.0]|3.2250595984677894|\n",
            "|110020|          529544|        23|          2|  [529544.0,23.0]|3.2250595984677894|\n",
            "|110020|          529544|        32|          2|  [529544.0,32.0]|3.3625205858645053|\n",
            "|110020|          529544|        36|          2|  [529544.0,36.0]|3.3625205858645053|\n",
            "|110020|          529544|        72|          2|  [529544.0,72.0]|  3.81834722866351|\n",
            "|110020|          529544|        80|          3|  [529544.0,80.0]|  3.81834722866351|\n",
            "|110020|          529544|        96|          3|  [529544.0,96.0]| 3.713803360740516|\n",
            "|110020|          529544|       106|          3| [529544.0,106.0]| 3.713803360740516|\n",
            "|110020|          529544|       134|          4| [529544.0,134.0]| 4.525598353264419|\n",
            "|110020|          529544|       140|          5| [529544.0,140.0]| 4.525598353264419|\n",
            "|110020|          529544|       141|          8| [529544.0,141.0]| 4.525598353264419|\n",
            "|110020|          529544|       155|          3| [529544.0,155.0]| 5.215814878004789|\n",
            "|110020|          529544|       163|         11| [529544.0,163.0]| 5.215814878004789|\n",
            "|110020|          529544|       183|          2| [529544.0,183.0]| 5.215814878004789|\n",
            "|110020|          529544|       241|          7| [529544.0,241.0]| 5.820920800916954|\n",
            "|110020|          529544|       267|          2| [529544.0,267.0]| 5.820920800916954|\n",
            "|110020|          529544|       284|         11| [529544.0,284.0]| 5.820920800916954|\n",
            "|110020|          529544|       301|          1| [529544.0,301.0]| 5.820920800916954|\n",
            "|110020|          529544|       313|          4| [529544.0,313.0]| 5.820920800916954|\n",
            "|110020|          529544|       333|         10| [529544.0,333.0]| 5.820920800916954|\n",
            "|110020|          529544|       334|          9| [529544.0,334.0]| 5.820920800916954|\n",
            "|110020|          529544|       358|         18| [529544.0,358.0]|19.278107743937355|\n",
            "|110020|          529544|       368|         10| [529544.0,368.0]|19.278107743937355|\n",
            "|110020|          529544|       436|         10| [529544.0,436.0]|19.278107743937355|\n",
            "|110020|          529544|       484|         19| [529544.0,484.0]|19.278107743937355|\n",
            "|110020|          529544|       493|          6| [529544.0,493.0]|19.278107743937355|\n",
            "|110020|          529544|       542|         13| [529544.0,542.0]|19.278107743937355|\n",
            "|110025|           18986|         3|          1|    [18986.0,3.0]|1.2386166921021302|\n",
            "|110028|           55058|         3|          1|    [55058.0,3.0]|1.3932305038810795|\n",
            "|110028|           55058|        49|          1|   [55058.0,49.0]|2.0272246751548506|\n",
            "|110030|           99854|         3|          1|    [99854.0,3.0]|1.5180056253143683|\n",
            "|110030|           99854|         3|          1|    [99854.0,3.0]|1.5180056253143683|\n",
            "|110030|           99854|        20|          1|   [99854.0,20.0]|1.6858227318189551|\n",
            "|110030|           99854|        25|          1|   [99854.0,25.0]|1.7727255483251263|\n",
            "|110030|           99854|        43|          2|   [99854.0,43.0]|2.0965604992971856|\n",
            "|110030|           99854|        55|          1|   [99854.0,55.0]|2.1713354841248007|\n",
            "|110030|           99854|        72|          1|   [99854.0,72.0]|2.3785704247170636|\n",
            "|110032|           23005|         6|          1|    [23005.0,6.0]|1.2386166921021302|\n",
            "|110032|           23005|         8|          1|    [23005.0,8.0]| 1.305154064322006|\n",
            "|110033|           30583|         2|          1|    [30583.0,2.0]|1.2386166921021302|\n",
            "|110037|           13241|         1|          1|    [13241.0,1.0]|1.2386166921021302|\n",
            "|110045|           39654|         2|          1|    [39654.0,2.0]|1.2491188400590698|\n",
            "|110080|           26693|         2|          1|    [26693.0,2.0]|1.2386166921021302|\n",
            "|110080|           26693|        10|          1|   [26693.0,10.0]|1.3401343908698273|\n",
            "|110080|           26693|        12|          1|   [26693.0,12.0]|1.3637440810308696|\n",
            "|110080|           26693|        16|          1|   [26693.0,16.0]| 1.375927336889111|\n",
            "|110094|           25215|         1|          1|    [25215.0,1.0]|1.2386166921021302|\n",
            "|110094|           25215|         7|          1|    [25215.0,7.0]| 1.305154064322006|\n",
            "|110110|           10458|         7|          1|    [10458.0,7.0]| 1.305154064322006|\n",
            "|110110|           10458|        21|          1|   [10458.0,21.0]|1.3985720879792805|\n",
            "|110120|            9660|         1|          1|     [9660.0,1.0]|1.2386166921021302|\n",
            "|110146|            2169|         7|          1|     [2169.0,7.0]| 1.316107661803456|\n",
            "|120005|            7417|         1|          1|     [7417.0,1.0]| 1.335479505509515|\n",
            "|120005|            7417|         3|          1|     [7417.0,3.0]| 1.335479505509515|\n",
            "|120005|            7417|         6|          1|     [7417.0,6.0]| 1.335479505509515|\n",
            "|120010|           26278|        21|          1|   [26278.0,21.0]|1.3985720879792805|\n",
            "|120010|           26278|        48|          2|   [26278.0,48.0]|1.9096347438170838|\n",
            "|120013|           10266|         2|          1|    [10266.0,2.0]|1.2386166921021302|\n",
            "|120017|           11733|         1|          1|    [11733.0,1.0]|1.2386166921021302|\n",
            "|120017|           11733|         5|          1|    [11733.0,5.0]|1.2386166921021302|\n",
            "|120017|           11733|         7|          1|    [11733.0,7.0]| 1.305154064322006|\n",
            "|120020|           88376|         1|          1|    [88376.0,1.0]|1.5180056253143683|\n",
            "|120020|           88376|         1|          1|    [88376.0,1.0]|1.5180056253143683|\n",
            "|120020|           88376|         1|          2|    [88376.0,1.0]|1.5180056253143683|\n",
            "|120020|           88376|         6|          1|    [88376.0,6.0]|1.5180056253143683|\n",
            "|120020|           88376|        11|          1|   [88376.0,11.0]|1.6093435161552652|\n",
            "|120020|           88376|        14|          1|   [88376.0,14.0]| 1.673639475960714|\n",
            "|120020|           88376|        17|          1|   [88376.0,17.0]|1.6858227318189551|\n",
            "|120020|           88376|        24|          3|   [88376.0,24.0]|1.7727255483251263|\n",
            "|120020|           88376|        36|          1|   [88376.0,36.0]| 1.894499407581598|\n",
            "|120020|           88376|        37|          2|   [88376.0,37.0]|2.0965604992971856|\n",
            "|120020|           88376|        40|          1|   [88376.0,40.0]|2.0965604992971856|\n",
            "|120020|           88376|        58|          1|   [88376.0,58.0]|2.1713354841248007|\n",
            "|120020|           88376|        70|          4|   [88376.0,70.0]|2.2221292862513717|\n",
            "|120020|           88376|        78|          3|   [88376.0,78.0]|2.3785704247170636|\n",
            "|120020|           88376|        91|          1|   [88376.0,91.0]|2.5332931063467163|\n",
            "|120020|           88376|       377|          1|  [88376.0,377.0]|19.504143317152106|\n",
            "|120030|           34780|         1|          1|    [34780.0,1.0]|1.2491188400590698|\n",
            "|120030|           34780|        13|          1|   [34780.0,13.0]|1.3742462289878092|\n",
            "|120030|           34780|        16|          1|   [34780.0,16.0]|1.3864294848460506|\n",
            "|120032|            8317|         2|          1|     [8317.0,2.0]|1.2386166921021302|\n",
            "|120033|           18977|         1|          1|    [18977.0,1.0]|1.2386166921021302|\n",
            "|120038|           19761|         3|          1|    [19761.0,3.0]|1.2386166921021302|\n",
            "|120039|           11982|        26|          1|   [11982.0,26.0]| 1.430376137838271|\n",
            "|120040|          407319|         9|          1|   [407319.0,9.0]|2.4978252203216087|\n",
            "|120040|          407319|         9|          2|   [407319.0,9.0]|2.4978252203216087|\n",
            "|120040|          407319|        11|          2|  [407319.0,11.0]|2.4978252203216087|\n",
            "|120040|          407319|        12|          2|  [407319.0,12.0]| 2.530164247753146|\n",
            "|120040|          407319|        35|          4|  [407319.0,35.0]| 2.688484557791521|\n",
            "|120040|          407319|        36|          7|  [407319.0,36.0]| 2.688484557791521|\n",
            "|120040|          407319|        38|          7|  [407319.0,38.0]| 2.701691228701725|\n",
            "|120040|          407319|        51|          3|  [407319.0,51.0]|2.9870173969831684|\n",
            "|120040|          407319|        53|          4|  [407319.0,53.0]|2.9870173969831684|\n",
            "|120040|          407319|        56|          2|  [407319.0,56.0]|2.9870173969831684|\n",
            "|120040|          407319|        60|          1|  [407319.0,60.0]|2.9421399303328486|\n",
            "|120040|          407319|        65|          1|  [407319.0,65.0]|2.9421399303328486|\n",
            "|120040|          407319|        67|          3|  [407319.0,67.0]|2.9421399303328486|\n",
            "|120040|          407319|        68|          2|  [407319.0,68.0]|2.9421399303328486|\n",
            "|120040|          407319|        71|          6|  [407319.0,71.0]|  3.12332041003895|\n",
            "|120040|          407319|        74|          2|  [407319.0,74.0]|  3.12332041003895|\n",
            "|120040|          407319|        86|          4|  [407319.0,86.0]|  3.12332041003895|\n",
            "|120040|          407319|        92|          1|  [407319.0,92.0]| 3.203133639281245|\n",
            "|120040|          407319|       124|          5| [407319.0,124.0]| 3.494775247400657|\n",
            "|120040|          407319|       125|          4| [407319.0,125.0]| 3.494775247400657|\n",
            "|120040|          407319|       129|          1| [407319.0,129.0]| 3.494775247400657|\n",
            "|120040|          407319|       130|          1| [407319.0,130.0]| 3.494775247400657|\n",
            "|120040|          407319|       144|          8| [407319.0,144.0]| 3.629396649681253|\n",
            "|120040|          407319|       165|          4| [407319.0,165.0]| 3.629396649681253|\n",
            "|120040|          407319|       231|          8| [407319.0,231.0]| 4.132348157724545|\n",
            "|120040|          407319|       245|          5| [407319.0,245.0]| 4.132348157724545|\n",
            "|120040|          407319|       265|          6| [407319.0,265.0]| 4.132348157724545|\n",
            "|120040|          407319|       294|          5| [407319.0,294.0]| 4.132348157724545|\n",
            "|120042|           18930|         1|          1|    [18930.0,1.0]|1.2386166921021302|\n",
            "|120050|           45848|         9|          1|    [45848.0,9.0]|1.4268966556522544|\n",
            "|120050|           45848|        20|          1|   [45848.0,20.0]| 1.462689601671538|\n",
            "|120060|           42567|        24|          1|   [42567.0,24.0]|1.4408782857952105|\n",
            "|120070|           19323|         2|          1|    [19323.0,2.0]|1.2386166921021302|\n",
            "|120070|           19323|        16|          1|   [19323.0,16.0]| 1.375927336889111|\n",
            "|120080|           18504|         8|          1|    [18504.0,8.0]| 1.305154064322006|\n",
            "|130002|           16041|        33|          1|   [16041.0,33.0]|1.5079420285044343|\n",
            "|130002|           16041|        41|          1|   [16041.0,41.0]|1.8292915289677047|\n",
            "|130002|           16041|        50|          1|   [16041.0,50.0]|1.9096347438170838|\n",
            "|130006|           11536|         9|          1|    [11536.0,9.0]|1.3401343908698273|\n",
            "|130006|           11536|         9|          2|    [11536.0,9.0]|1.3401343908698273|\n",
            "|130010|           21010|         8|          1|    [21010.0,8.0]| 1.305154064322006|\n",
            "|130010|           21010|        13|          1|   [21010.0,13.0]|1.3637440810308696|\n",
            "|130010|           21010|        16|          1|   [21010.0,16.0]| 1.375927336889111|\n",
            "|130020|           19921|         3|          1|    [19921.0,3.0]|1.2386166921021302|\n",
            "|130020|           19921|        17|          1|   [19921.0,17.0]| 1.375927336889111|\n",
            "|130030|           39565|         2|          1|    [39565.0,2.0]|1.2491188400590698|\n",
            "|130030|           39565|         2|          1|    [39565.0,2.0]|1.2491188400590698|\n",
            "|130030|           39565|         8|          2|    [39565.0,8.0]|1.3156562122789457|\n",
            "|130030|           39565|        17|          3|   [39565.0,17.0]|1.3864294848460506|\n",
            "|130030|           39565|        20|          1|   [39565.0,20.0]|1.3864294848460506|\n",
            "|130040|           27502|         5|          1|    [27502.0,5.0]|1.2386166921021302|\n",
            "|130050|           32041|         1|          1|    [32041.0,1.0]|1.2386166921021302|\n",
            "|130050|           32041|         4|          1|    [32041.0,4.0]|1.2386166921021302|\n",
            "|130050|           32041|        12|          1|   [32041.0,12.0]|1.3637440810308696|\n",
            "|130060|           42984|         3|          1|    [42984.0,3.0]|1.2491188400590698|\n",
            "|130060|           42984|        50|          1|   [42984.0,50.0]|1.9201368917740236|\n",
            "|130060|           42984|        77|          1|   [42984.0,77.0]|   2.1603403745787|\n",
            "|130070|           34308|         5|          1|    [34308.0,5.0]|1.2386166921021302|\n",
            "|130070|           34308|        10|          1|   [34308.0,10.0]|1.3401343908698273|\n",
            "|130070|           34308|        16|          1|   [34308.0,16.0]| 1.375927336889111|\n",
            "|130070|           34308|        22|          1|   [34308.0,22.0]|1.3985720879792805|\n",
            "|130070|           34308|        31|          1|   [34308.0,31.0]|1.4570624514514052|\n",
            "|130080|           41161|         1|          1|    [41161.0,1.0]|1.2491188400590698|\n",
            "|130080|           41161|         5|          2|    [41161.0,5.0]|1.2491188400590698|\n",
            "|130080|           41161|         5|          3|    [41161.0,5.0]|1.2491188400590698|\n",
            "|130080|           41161|        15|          2|   [41161.0,15.0]|1.3864294848460506|\n",
            "|130080|           41161|        29|          1|   [41161.0,29.0]|1.4675645994083446|\n",
            "|130083|           13081|         5|          1|    [13081.0,5.0]|1.2386166921021302|\n",
            "|130083|           13081|        62|          2|   [13081.0,62.0]|1.9933970881560685|\n",
            "|130100|           28294|        17|          1|   [28294.0,17.0]| 1.375927336889111|\n",
            "|130110|           37869|         1|          1|    [37869.0,1.0]|1.2491188400590698|\n",
            "|130110|           37869|         2|          1|    [37869.0,2.0]|1.2491188400590698|\n",
            "|130110|           37869|         2|          1|    [37869.0,2.0]|1.2491188400590698|\n",
            "|130110|           37869|         7|          1|    [37869.0,7.0]|1.3156562122789457|\n",
            "|130120|           85097|         6|          2|    [85097.0,6.0]|1.4198386201604112|\n",
            "|130120|           85097|         7|          4|    [85097.0,7.0]| 1.486375992380287|\n",
            "|130120|           85097|        10|          1|   [85097.0,10.0]|1.5213563189281083|\n",
            "|130120|           85097|        11|          3|   [85097.0,11.0]|1.5335318165244245|\n",
            "|130120|           85097|        11|          4|   [85097.0,11.0]|1.5335318165244245|\n",
            "|130120|           85097|        12|          2|   [85097.0,12.0]|1.5449660090891508|\n",
            "|130120|           85097|        17|          1|   [85097.0,17.0]| 1.557149264947392|\n",
            "|130120|           85097|        23|          1|   [85097.0,23.0]|1.5641426547058233|\n",
            "|130120|           85097|        34|          2|   [85097.0,34.0]|1.6735125952309766|\n",
            "|130120|           85097|        35|          1|   [85097.0,35.0]|1.6735125952309766|\n",
            "|130120|           85097|        53|          1|   [85097.0,53.0]|2.0601932173672646|\n",
            "|130120|           85097|        60|          1|   [85097.0,60.0]|2.1109870194938356|\n",
            "|130120|           85097|        90|          4|   [85097.0,90.0]|2.4221508395891798|\n",
            "|130120|           85097|       371|          1|  [85097.0,371.0]|20.193267370182408|\n",
            "|130120|           85097|       502|          5|  [85097.0,502.0]|20.193267370182408|\n",
            "|130120|           85097|      1802|          5| [85097.0,1802.0]|20.193267370182408|\n",
            "|130130|           28637|         1|          1|    [28637.0,1.0]|1.2386166921021302|\n",
            "|130140|           35273|        39|          1|   [35273.0,39.0]|1.8397936769246441|\n",
            "|130140|           35273|        40|          1|   [35273.0,40.0]|1.8397936769246441|\n",
            "|130160|           17609|         1|          1|    [17609.0,1.0]|1.2386166921021302|\n",
            "|130160|           17609|         2|          1|    [17609.0,2.0]|1.2386166921021302|\n",
            "|130160|           17609|         7|          1|    [17609.0,7.0]| 1.305154064322006|\n",
            "|130160|           17609|        10|          1|   [17609.0,10.0]|1.3401343908698273|\n",
            "|130160|           17609|        13|          2|   [17609.0,13.0]|1.3637440810308696|\n",
            "|130160|           17609|        15|          1|   [17609.0,15.0]| 1.375927336889111|\n",
            "|130160|           17609|        16|          1|   [17609.0,16.0]| 1.375927336889111|\n",
            "|130160|           17609|        19|          1|   [17609.0,19.0]| 1.375927336889111|\n",
            "|130170|           55080|         7|          1|    [55080.0,7.0]|1.4597678761009554|\n",
            "|130170|           55080|        16|          1|   [55080.0,16.0]|1.5305411486680602|\n",
            "|130170|           55080|        17|          1|   [55080.0,17.0]|1.5305411486680602|\n",
            "|130170|           55080|        63|          3|   [55080.0,63.0]|2.1109870194938356|\n",
            "|130170|           55080|        78|          2|   [55080.0,78.0]|2.2674281579595275|\n",
            "|130170|           55080|        96|          1|   [55080.0,96.0]|2.4221508395891798|\n",
            "|130170|           55080|       117|          1|  [55080.0,117.0]| 2.659354432598649|\n",
            "|130185|           48296|         3|          4|    [48296.0,3.0]|1.3253789568845573|\n",
            "|130185|           48296|        14|          1|   [48296.0,14.0]| 1.450506345813297|\n",
            "|130185|           48296|        16|          2|   [48296.0,16.0]| 1.462689601671538|\n",
            "|130185|           48296|        21|          1|   [48296.0,21.0]|1.4696829914299694|\n",
            "|130190|          101337|         3|          1|   [101337.0,3.0]|1.5180056253143683|\n",
            "|130190|          101337|         4|          1|   [101337.0,4.0]|1.5180056253143683|\n",
            "|130190|          101337|         8|          3|   [101337.0,8.0]| 1.574363189607444|\n",
            "|130190|          101337|        10|          1|  [101337.0,10.0]|1.6093435161552652|\n",
            "|130190|          101337|        10|          2|  [101337.0,10.0]|1.6093435161552652|\n",
            "|130190|          101337|        18|          4|  [101337.0,18.0]|1.6858227318189551|\n",
            "|130190|          101337|        22|          1|  [101337.0,22.0]| 1.740921498466136|\n",
            "|130190|          101337|        31|          2|  [101337.0,31.0]|1.7727255483251263|\n",
            "|130190|          101337|        41|          1|  [101337.0,41.0]|2.0965604992971856|\n",
            "|130190|          101337|        51|          5|  [101337.0,51.0]|2.1713354841248007|\n",
            "|130200|            9148|         7|          1|     [9148.0,7.0]| 1.305154064322006|\n",
            "|130220|           14712|        25|          1|   [14712.0,25.0]| 1.430376137838271|\n",
            "|130230|           14317|         1|          1|    [14317.0,1.0]|1.2386166921021302|\n",
            "|130230|           14317|         2|          1|    [14317.0,2.0]|1.2386166921021302|\n",
            "|130230|           14317|         7|          1|    [14317.0,7.0]| 1.305154064322006|\n",
            "|130240|           46069|        11|          1|   [46069.0,11.0]|1.4390721532485706|\n",
            "|130240|           46069|        19|          1|   [46069.0,19.0]| 1.462689601671538|\n",
            "|130240|           46069|        33|          1|   [46069.0,33.0]|1.5790529319551232|\n",
            "|130250|           97377|         2|          1|    [97377.0,2.0]|1.5180056253143683|\n",
            "|130250|           97377|         3|          1|    [97377.0,3.0]|1.5180056253143683|\n",
            "|130250|           97377|         4|          1|    [97377.0,4.0]|1.5180056253143683|\n",
            "|130250|           97377|         4|          3|    [97377.0,4.0]|1.5180056253143683|\n",
            "|130250|           97377|        18|          4|   [97377.0,18.0]|1.6858227318189551|\n",
            "|130250|           97377|        19|          6|   [97377.0,19.0]|1.6858227318189551|\n",
            "|130250|           97377|        24|          1|   [97377.0,24.0]|1.7727255483251263|\n",
            "|130250|           97377|        24|          1|   [97377.0,24.0]|1.7727255483251263|\n",
            "|130250|           97377|        26|          4|   [97377.0,26.0]|1.7727255483251263|\n",
            "|130250|           97377|        28|          1|   [97377.0,28.0]|1.7727255483251263|\n",
            "|130250|           97377|        32|          3|   [97377.0,32.0]| 1.894499407581598|\n",
            "|130250|           97377|        36|          3|   [97377.0,36.0]| 1.894499407581598|\n",
            "|130250|           97377|        40|          1|   [97377.0,40.0]|2.0965604992971856|\n",
            "|130250|           97377|        43|          3|   [97377.0,43.0]|2.0965604992971856|\n",
            "|130250|           97377|        49|          4|   [97377.0,49.0]|2.1383669419123867|\n",
            "|130250|           97377|        50|          1|   [97377.0,50.0]|2.1383669419123867|\n",
            "|130250|           97377|        50|          3|   [97377.0,50.0]|2.1383669419123867|\n",
            "|130250|           97377|        85|          1|   [97377.0,85.0]|2.3785704247170636|\n",
            "|130250|           97377|       127|          4|  [97377.0,127.0]| 2.873741968415712|\n",
            "|130250|           97377|       135|          2|  [97377.0,135.0]| 2.873741968415712|\n",
            "|130255|           32105|         8|          1|    [32105.0,8.0]| 1.305154064322006|\n",
            "|130260|         2182763|        16|         10| [2182763.0,16.0]| 5.976207542012135|\n",
            "|130260|         2182763|        17|          2| [2182763.0,17.0]| 5.976207542012135|\n",
            "|130260|         2182763|        19|          2| [2182763.0,19.0]| 5.976207542012135|\n",
            "|130260|         2182763|        44|         19| [2182763.0,44.0]| 6.726306348494376|\n",
            "|130260|         2182763|        50|          8| [2182763.0,50.0]| 6.726306348494376|\n",
            "|130260|         2182763|        53|         10| [2182763.0,53.0]| 6.759274890706789|\n",
            "|130260|         2182763|        65|         18| [2182763.0,65.0]| 8.001127206455042|\n",
            "|130260|         2182763|        66|         11| [2182763.0,66.0]| 8.001127206455042|\n",
            "|130260|         2182763|        96|          1| [2182763.0,96.0]| 8.421250959980991|\n",
            "|130260|         2182763|       121|          7|[2182763.0,121.0]|10.263791428610382|\n",
            "|130260|         2182763|       133|         14|[2182763.0,133.0]|10.263791428610382|\n",
            "|130260|         2182763|       189|         19|[2182763.0,189.0]|11.525122021905066|\n",
            "|130260|         2182763|       215|          8|[2182763.0,215.0]|12.423223010965184|\n",
            "|130260|         2182763|       240|          7|[2182763.0,240.0]|12.423223010965184|\n",
            "|130260|         2182763|       259|         20|[2182763.0,259.0]|12.423223010965184|\n",
            "|130260|         2182763|       300|          4|[2182763.0,300.0]|12.423223010965184|\n",
            "|130260|         2182763|       303|         79|[2182763.0,303.0]|12.423223010965184|\n",
            "|130260|         2182763|       333|         14|[2182763.0,333.0]|12.423223010965184|\n",
            "|130260|         2182763|       413|          5|[2182763.0,413.0]|28.763534121682294|\n",
            "|130260|         2182763|       414|         28|[2182763.0,414.0]|28.763534121682294|\n",
            "|130260|         2182763|       443|          8|[2182763.0,443.0]|28.763534121682294|\n",
            "|130260|         2182763|       464|          1|[2182763.0,464.0]|28.763534121682294|\n",
            "|130260|         2182763|       604|          3|[2182763.0,604.0]|28.763534121682294|\n",
            "|130260|         2182763|       613|         35|[2182763.0,613.0]|28.763534121682294|\n",
            "|130260|         2182763|       647|         17|[2182763.0,647.0]|28.763534121682294|\n",
            "|130260|         2182763|       657|         26|[2182763.0,657.0]|28.763534121682294|\n",
            "|130260|         2182763|       670|         73|[2182763.0,670.0]|28.763534121682294|\n",
            "|130260|         2182763|       744|          2|[2182763.0,744.0]|28.763534121682294|\n",
            "|130260|         2182763|       780|         52|[2182763.0,780.0]|28.763534121682294|\n",
            "|130260|         2182763|       919|         35|[2182763.0,919.0]|28.763534121682294|\n",
            "|130290|           63905|         2|          1|    [63905.0,2.0]|1.3932305038810795|\n",
            "|130290|           63905|        10|          1|   [63905.0,10.0]|1.4947482026487766|\n",
            "|130290|           63905|        10|          2|   [63905.0,10.0]|1.4947482026487766|\n",
            "|130290|           63905|        10|          2|   [63905.0,10.0]|1.4947482026487766|\n",
            "|130290|           63905|        20|          1|   [63905.0,20.0]|1.5305411486680602|\n",
            "|130290|           63905|        41|          2|   [63905.0,41.0]| 1.911286916394949|\n",
            "|130300|           21173|        14|          1|   [21173.0,14.0]|1.3637440810308696|\n",
            "|130310|           37378|         2|          1|    [37378.0,2.0]|1.2491188400590698|\n",
            "|130310|           37378|         3|          1|    [37378.0,3.0]|1.2491188400590698|\n",
            "|130310|           37378|         4|          2|    [37378.0,4.0]|1.2491188400590698|\n",
            "|130310|           37378|         6|          1|    [37378.0,6.0]|1.2491188400590698|\n",
            "|130310|           37378|         7|          1|    [37378.0,7.0]|1.3156562122789457|\n",
            "|130310|           37378|        14|          1|   [37378.0,14.0]|1.3742462289878092|\n",
            "|130330|           25644|         1|          1|    [25644.0,1.0]|1.2386166921021302|\n",
            "|130330|           25644|        19|          1|   [25644.0,19.0]| 1.375927336889111|\n",
            "|130340|          114273|         2|          1|   [114273.0,2.0]|1.5887869502456033|\n",
            "|130340|          114273|         2|          2|   [114273.0,2.0]|1.5887869502456033|\n",
            "|130340|          114273|         4|          2|   [114273.0,4.0]|1.5887869502456033|\n",
            "|130340|          114273|         5|          1|   [114273.0,5.0]|1.5887869502456033|\n",
            "|130340|          114273|         6|          2|   [114273.0,6.0]|1.5887869502456033|\n",
            "|130340|          114273|        12|          2|  [114273.0,12.0]|1.6850013227119551|\n",
            "|130340|          114273|        17|          1|  [114273.0,17.0]|1.6971845785701962|\n",
            "|130340|          114273|        24|          2|  [114273.0,24.0]|1.7840873950763672|\n",
            "|130340|          114273|        26|          2|  [114273.0,26.0]|1.7840873950763672|\n",
            "|130340|          114273|        35|          3|  [114273.0,35.0]|1.9334917308980988|\n",
            "|130340|          114273|        44|          1|  [114273.0,44.0]| 2.177359265228888|\n",
            "|130340|          114273|        44|          1|  [114273.0,44.0]| 2.177359265228888|\n",
            "|130340|          114273|        47|          1|  [114273.0,47.0]| 2.177359265228888|\n",
            "|130340|          114273|        48|          3|  [114273.0,48.0]| 2.177359265228888|\n",
            "|130340|          114273|        49|          2|  [114273.0,49.0]| 2.177359265228888|\n",
            "|130340|          114273|        50|          1|  [114273.0,50.0]| 2.177359265228888|\n",
            "|130340|          114273|        60|          2|  [114273.0,60.0]|2.2611216095678723|\n",
            "|130340|          114273|       112|          1| [114273.0,112.0]| 2.870606965502103|\n",
            "|130353|           36279|         9|          1|    [36279.0,9.0]|1.3506365388267667|\n",
            "|130353|           36279|        10|          1|   [36279.0,10.0]|1.3506365388267667|\n",
            "|130353|           36279|        14|          2|   [36279.0,14.0]|1.3742462289878092|\n",
            "|130353|           36279|        17|          1|   [36279.0,17.0]|1.3864294848460506|\n",
            "|130356|           33347|        14|          1|   [33347.0,14.0]|1.3637440810308696|\n",
            "|130360|           25156|        21|          1|   [25156.0,21.0]|1.3985720879792805|\n",
            "|130360|           25156|        32|          1|   [25156.0,32.0]|1.5079420285044343|\n",
            "|130360|           25156|        71|          1|   [25156.0,71.0]|2.1498382266217604|\n",
            "|130370|           21602|        20|          1|   [21602.0,20.0]| 1.375927336889111|\n",
            "|130370|           21602|        24|          1|   [21602.0,24.0]| 1.430376137838271|\n",
            "|130370|           21602|        27|          2|   [21602.0,27.0]| 1.430376137838271|\n",
            "|130370|           21602|        36|          5|   [21602.0,36.0]|1.5079420285044343|\n",
            "|130380|           45564|         2|          4|    [45564.0,2.0]|1.3253789568845573|\n",
            "|130380|           45564|        11|          1|   [45564.0,11.0]|1.4390721532485706|\n",
            "|130380|           45564|        31|          2|   [45564.0,31.0]| 1.528173354902094|\n",
            "|130380|           45564|        31|          3|   [45564.0,31.0]| 1.528173354902094|\n",
            "|130380|           45564|        45|          2|   [45564.0,45.0]|1.9807456472677725|\n",
            "|130380|           45564|        46|          2|   [45564.0,46.0]|1.9807456472677725|\n",
            "|130390|           39299|         1|          1|    [39299.0,1.0]|1.2491188400590698|\n",
            "|130390|           39299|        12|          1|   [39299.0,12.0]|1.3742462289878092|\n",
            "|130390|           39299|        12|          1|   [39299.0,12.0]|1.3742462289878092|\n",
            "|130390|           39299|        15|          1|   [39299.0,15.0]|1.3864294848460506|\n",
            "|130390|           39299|        47|          1|   [39299.0,47.0]|1.9201368917740236|\n",
            "|130400|            9171|         1|          1|     [9171.0,1.0]|1.2386166921021302|\n",
            "|130400|            9171|         1|          1|     [9171.0,1.0]|1.2386166921021302|\n",
            "|130400|            9171|         2|          1|     [9171.0,2.0]|1.2386166921021302|\n",
            "|130406|           65844|         3|         10|    [65844.0,3.0]|1.3932305038810795|\n",
            "|130406|           65844|         6|          1|    [65844.0,6.0]|1.3932305038810795|\n",
            "|130406|           65844|         7|          4|    [65844.0,7.0]|1.4597678761009554|\n",
            "|130406|           65844|         9|          2|    [65844.0,9.0]|1.4947482026487766|\n",
            "|130406|           65844|         9|          3|    [65844.0,9.0]|1.4947482026487766|\n",
            "|130406|           65844|        21|          3|   [65844.0,21.0]|1.5375345384264916|\n",
            "|130406|           65844|        23|          1|   [65844.0,23.0]|1.5375345384264916|\n",
            "|130406|           65844|        34|          3|   [65844.0,34.0]| 1.646904478951645|\n",
            "|130410|           17156|         4|          1|    [17156.0,4.0]|1.2386166921021302|\n",
            "|130410|           17156|        13|          1|   [17156.0,13.0]|1.3637440810308696|\n",
            "|130420|           59849|         2|          2|    [59849.0,2.0]|1.3932305038810795|\n",
            "|130420|           59849|         5|          1|    [59849.0,5.0]|1.3932305038810795|\n",
            "|130420|           59849|         5|          1|    [59849.0,5.0]|1.3932305038810795|\n",
            "|130420|           59849|         7|          3|    [59849.0,7.0]|1.4597678761009554|\n",
            "|130420|           59849|        10|          1|   [59849.0,10.0]|1.4947482026487766|\n",
            "|130420|           59849|        22|          2|   [59849.0,22.0]|1.5375345384264916|\n",
            "|130420|           59849|        27|          2|   [59849.0,27.0]| 1.569338588285482|\n",
            "|130420|           59849|        37|          1|   [59849.0,37.0]| 1.911286916394949|\n",
            "|130420|           59849|        37|          2|   [59849.0,37.0]| 1.911286916394949|\n",
            "|130420|           59849|        49|          2|   [59849.0,49.0]|2.0272246751548506|\n",
            "|130420|           59849|        59|          2|   [59849.0,59.0]|2.0601932173672646|\n",
            "|130420|           59849|        97|          1|   [59849.0,97.0]|2.4221508395891798|\n",
            "|130420|           59849|       480|          1|  [59849.0,480.0]|20.193267370182408|\n",
            "|130423|           18755|         1|          1|    [18755.0,1.0]|1.2386166921021302|\n",
            "|130423|           18755|         2|          1|    [18755.0,2.0]|1.2386166921021302|\n",
            "|130423|           18755|         5|          1|    [18755.0,5.0]|1.2386166921021302|\n",
            "|130423|           18755|         6|          1|    [18755.0,6.0]|1.2386166921021302|\n",
            "|130423|           18755|         8|          1|    [18755.0,8.0]| 1.305154064322006|\n",
            "|130423|           18755|        38|          1|   [18755.0,38.0]|1.8292915289677047|\n",
            "|130426|           13540|        10|          1|   [13540.0,10.0]|1.3401343908698273|\n",
            "|130430|           16256|         2|          1|    [16256.0,2.0]|1.2386166921021302|\n",
            "|130430|           16256|         3|          1|    [16256.0,3.0]|1.2386166921021302|\n",
            "|130430|           16256|         3|          1|    [16256.0,3.0]|1.2386166921021302|\n",
            "|130430|           16256|         5|          1|    [16256.0,5.0]|1.2386166921021302|\n",
            "|130440|           23065|         4|          1|    [23065.0,4.0]|1.2386166921021302|\n",
            "|140002|           12796|         1|          1|    [12796.0,1.0]|1.2386166921021302|\n",
            "|140002|           12796|         1|          1|    [12796.0,1.0]|1.2386166921021302|\n",
            "|140002|           12796|         1|          2|    [12796.0,1.0]|1.2386166921021302|\n",
            "|140005|           15510|         4|          1|    [15510.0,4.0]|1.2386166921021302|\n",
            "|140010|          399213|        11|          1|  [399213.0,11.0]|2.4978252203216087|\n",
            "|140010|          399213|        13|          3|  [399213.0,13.0]| 2.530164247753146|\n",
            "|140010|          399213|        17|          3|  [399213.0,17.0]| 2.542347503611387|\n",
            "|140010|          399213|        35|          2|  [399213.0,35.0]| 2.688484557791521|\n",
            "|140010|          399213|        41|          1|  [399213.0,41.0]| 2.701691228701725|\n",
            "|140010|          399213|        51|          4|  [399213.0,51.0]|2.9870173969831684|\n",
            "|140010|          399213|        56|          1|  [399213.0,56.0]|2.9870173969831684|\n",
            "|140010|          399213|        75|          1|  [399213.0,75.0]|  3.12332041003895|\n",
            "|140010|          399213|        75|          8|  [399213.0,75.0]|  3.12332041003895|\n",
            "|140010|          399213|        77|          2|  [399213.0,77.0]|  3.12332041003895|\n",
            "|140010|          399213|        80|          7|  [399213.0,80.0]|  3.12332041003895|\n",
            "|140010|          399213|        83|          3|  [399213.0,83.0]|  3.12332041003895|\n",
            "|140010|          399213|       120|          3| [399213.0,120.0]| 3.494775247400657|\n",
            "|140010|          399213|       157|          6| [399213.0,157.0]| 3.629396649681253|\n",
            "|140010|          399213|       205|         22| [399213.0,205.0]| 4.132348157724545|\n",
            "|140010|          399213|       210|          3| [399213.0,210.0]| 4.132348157724545|\n",
            "|140010|          399213|       312|          6| [399213.0,312.0]| 4.132348157724545|\n",
            "|140010|          399213|       437|          4| [399213.0,437.0]|19.531509486614958|\n",
            "|140010|          399213|       526|          6| [399213.0,526.0]|19.531509486614958|\n",
            "|140010|          399213|       609|          4| [399213.0,609.0]|19.531509486614958|\n",
            "|140010|          399213|       741|         13| [399213.0,741.0]|19.531509486614958|\n",
            "|140010|          399213|       769|          7| [399213.0,769.0]|19.531509486614958|\n",
            "|140010|          399213|       882|          2| [399213.0,882.0]|19.531509486614958|\n",
            "|140010|          399213|      2080|         26|[399213.0,2080.0]|19.531509486614958|\n",
            "|140015|           12409|         2|          1|    [12409.0,2.0]|1.2386166921021302|\n",
            "|140015|           12409|         6|          1|    [12409.0,6.0]|1.2386166921021302|\n",
            "|140028|           11950|         7|          3|    [11950.0,7.0]| 1.305154064322006|\n",
            "|140030|           17853|        16|          1|   [17853.0,16.0]| 1.375927336889111|\n",
            "|140030|           17853|        41|          1|   [17853.0,41.0]|1.8292915289677047|\n",
            "|140040|           11290|         2|          2|    [11290.0,2.0]|1.2386166921021302|\n",
            "|140040|           11290|        39|          1|   [11290.0,39.0]|1.8292915289677047|\n",
            "|140045|           17401|         2|          1|    [17401.0,2.0]|1.2386166921021302|\n",
            "|140045|           17401|         2|          1|    [17401.0,2.0]|1.2386166921021302|\n",
            "|140045|           17401|         6|          1|    [17401.0,6.0]|1.2386166921021302|\n",
            "|140045|           17401|        15|          3|   [17401.0,15.0]| 1.375927336889111|\n",
            "|140047|           30163|         4|          1|    [30163.0,4.0]|1.2386166921021302|\n",
            "|140047|           30163|         4|          1|    [30163.0,4.0]|1.2386166921021302|\n",
            "|140047|           30163|         9|          1|    [30163.0,9.0]|1.3401343908698273|\n",
            "|140047|           30163|        33|          1|   [30163.0,33.0]|1.5079420285044343|\n",
            "|140050|            8201|         1|          1|     [8201.0,1.0]|1.2386166921021302|\n",
            "|140050|            8201|        14|          1|    [8201.0,14.0]|1.3637440810308696|\n",
            "|140060|            7986|         1|          1|     [7986.0,1.0]|1.2386166921021302|\n",
            "|140070|           10559|         8|          1|    [10559.0,8.0]| 1.305154064322006|\n",
            "|150010|          157698|         5|          1|   [157698.0,5.0]|1.7852426240417363|\n",
            "|150010|          157698|         5|          1|   [157698.0,5.0]|1.7852426240417363|\n",
            "|150010|          157698|         6|          2|   [157698.0,6.0]|1.7852426240417363|\n",
            "|150010|          157698|         9|          3|   [157698.0,9.0]|1.7892386646202318|\n",
            "|150010|          157698|        12|          1|  [157698.0,12.0]|1.8215776920517694|\n",
            "|150010|          157698|        17|          2|  [157698.0,17.0]|1.8337609479100105|\n",
            "|150010|          157698|        24|          1|  [157698.0,24.0]|1.9039233921266536|\n",
            "|150010|          157698|        36|          4|  [157698.0,36.0]| 2.078455725229582|\n",
            "|150010|          157698|        56|          1|  [157698.0,56.0]|2.3661342545362345|\n",
            "|150010|          157698|       110|          1| [157698.0,110.0]|  2.97388221614441|\n",
            "|150020|           55591|         1|          1|    [55591.0,1.0]|1.3932305038810795|\n",
            "|150020|           55591|         5|          3|    [55591.0,5.0]|1.3932305038810795|\n",
            "|150020|           55591|        21|          3|   [55591.0,21.0]|1.5375345384264916|\n",
            "|150040|           56789|         3|          1|    [56789.0,3.0]|1.3932305038810795|\n",
            "|150040|           56789|        30|          1|   [56789.0,30.0]|1.5960249018986161|\n",
            "|150050|           34109|         3|          3|    [34109.0,3.0]|1.2386166921021302|\n",
            "|150060|          114594|         3|          1|   [114594.0,3.0]|1.5887869502456033|\n",
            "|150060|          114594|        14|          3|  [114594.0,14.0]|1.6850013227119551|\n",
            "|150060|          114594|        20|          5|  [114594.0,20.0]|1.6971845785701962|\n",
            "|150060|          114594|        25|          1|  [114594.0,25.0]|1.7840873950763672|\n",
            "|150060|          114594|        27|          1|  [114594.0,27.0]|1.7840873950763672|\n",
            "|150060|          114594|        27|          4|  [114594.0,27.0]|1.7840873950763672|\n",
            "|150060|          114594|        32|          1|  [114594.0,32.0]|1.9334917308980988|\n",
            "|150060|          114594|        44|          2|  [114594.0,44.0]| 2.177359265228888|\n",
            "|150060|          114594|        63|          1|  [114594.0,63.0]|2.2611216095678723|\n",
            "|150060|          114594|        86|          2|  [114594.0,86.0]| 2.449486124359744|\n",
            "|150060|          114594|        87|          1|  [114594.0,87.0]| 2.604208805989397|\n",
            "|150060|          114594|        97|          2|  [114594.0,97.0]| 2.604208805989397|\n",
            "|150070|           29277|         3|          1|    [29277.0,3.0]|1.2386166921021302|\n",
            "|150070|           29277|        12|          2|   [29277.0,12.0]|1.3637440810308696|\n",
            "|150070|           29277|        14|          1|   [29277.0,14.0]|1.3637440810308696|\n",
            "|150070|           29277|        19|          1|   [29277.0,19.0]| 1.375927336889111|\n",
            "|150070|           29277|        29|          1|   [29277.0,29.0]|1.4570624514514052|\n",
            "|150080|          530598|        11|          4|  [530598.0,11.0]|3.3579929789585017|\n",
            "|150080|          530598|        21|          4|  [530598.0,21.0]|3.3701762348167428|\n",
            "|150080|          530598|        23|          2|  [530598.0,23.0]|3.3701762348167428|\n",
            "|150080|          530598|        24|          4|  [530598.0,24.0]| 3.385239912386205|\n",
            "|150080|          530598|        30|          5|  [530598.0,30.0]| 3.385239912386205|\n",
            "|150080|          530598|        32|          2|  [530598.0,32.0]|3.5076372222134595|\n",
            "|150080|          530598|        37|          3|  [530598.0,37.0]|3.7079728539882453|\n",
            "|150080|          530598|        40|          1|  [530598.0,40.0]|3.7079728539882453|\n",
            "|150080|          530598|        45|         22|  [530598.0,45.0]|3.7534890733699497|\n",
            "|150080|          530598|        55|          1|  [530598.0,55.0]|3.7864576155823633|\n",
            "|150080|          530598|        66|          1|  [530598.0,66.0]|3.9120696552292307|\n",
            "|150080|          530598|        87|          8|  [530598.0,87.0]|  3.85891999708947|\n",
            "|150080|          530598|        87|         19|  [530598.0,87.0]|  3.85891999708947|\n",
            "|150080|          530598|       106|          4| [530598.0,106.0]|  3.85891999708947|\n",
            "|150080|          530598|       108|         11| [530598.0,108.0]| 4.851864755386336|\n",
            "|150080|          530598|       134|          6| [530598.0,134.0]| 4.851864755386336|\n",
            "|150080|          530598|       162|         18| [530598.0,162.0]|5.5558725365632045|\n",
            "|150080|          530598|       171|          1| [530598.0,171.0]|5.5558725365632045|\n",
            "|150085|           27890|        11|          1|   [27890.0,11.0]|1.3523098884661435|\n",
            "|150085|           27890|        21|          1|   [27890.0,21.0]|1.3985720879792805|\n",
            "|150090|           45998|         1|          1|    [45998.0,1.0]|1.3253789568845573|\n",
            "|150090|           45998|        25|          1|   [45998.0,25.0]|1.5014870412889598|\n",
            "|150110|           30673|         2|          1|    [30673.0,2.0]|1.2386166921021302|\n",
            "|150110|           30673|         8|          1|    [30673.0,8.0]| 1.305154064322006|\n",
            "|150110|           30673|        10|          2|   [30673.0,10.0]|1.3401343908698273|\n",
            "|150120|           47446|         2|          1|    [47446.0,2.0]|1.3253789568845573|\n",
            "|150125|            3286|         1|          1|     [3286.0,1.0]|  1.24957028958358|\n",
            "|150130|          124680|         4|          1|   [124680.0,4.0]|1.5887869502456033|\n",
            "|150130|          124680|        24|          1|  [124680.0,24.0]|1.7840873950763672|\n",
            "|150130|          124680|        26|          1|  [124680.0,26.0]|1.7840873950763672|\n",
            "|150130|          124680|        35|          1|  [124680.0,35.0]|1.9334917308980988|\n",
            "|150130|          124680|        36|          2|  [124680.0,36.0]|1.9334917308980988|\n",
            "|150130|          124680|        43|          2|  [124680.0,43.0]| 2.135552822613686|\n",
            "|150130|          124680|        53|          1|  [124680.0,53.0]|2.2103278074413018|\n",
            "|150130|          124680|        69|         14|  [124680.0,69.0]|2.2611216095678723|\n",
            "|150130|          124680|       143|          1| [124680.0,143.0]| 3.114800803458204|\n",
            "|150140|         1492745|         1|          1|  [1492745.0,1.0]| 5.913235828310553|\n",
            "|150140|         1492745|         1|          2|  [1492745.0,1.0]| 5.913235828310553|\n",
            "|150140|         1492745|        31|          1| [1492745.0,31.0]|5.9912712195815985|\n",
            "|150140|         1492745|        42|          3| [1492745.0,42.0]| 6.596474050357729|\n",
            "|150140|         1492745|        47|          1| [1492745.0,47.0]| 6.726306348494376|\n",
            "|150140|         1492745|        57|          2| [1492745.0,57.0]| 6.759274890706789|\n",
            "|150140|         1492745|        68|          2| [1492745.0,68.0]| 8.001127206455042|\n",
            "|150140|         1492745|       108|         22|[1492745.0,108.0]|10.263791428610382|\n",
            "|150140|         1492745|       118|         16|[1492745.0,118.0]|10.263791428610382|\n",
            "|150140|         1492745|       131|          6|[1492745.0,131.0]|10.263791428610382|\n",
            "|150140|         1492745|       143|          1|[1492745.0,143.0]|11.525122021905066|\n",
            "|150140|         1492745|       157|          3|[1492745.0,157.0]|11.525122021905066|\n",
            "|150140|         1492745|       161|          4|[1492745.0,161.0]|11.525122021905066|\n",
            "|150140|         1492745|       222|         31|[1492745.0,222.0]|12.423223010965184|\n",
            "|150140|         1492745|       226|          8|[1492745.0,226.0]|12.423223010965184|\n",
            "|150140|         1492745|       233|          4|[1492745.0,233.0]|12.423223010965184|\n",
            "|150140|         1492745|       234|         11|[1492745.0,234.0]|12.423223010965184|\n",
            "|150140|         1492745|       256|         13|[1492745.0,256.0]|12.423223010965184|\n",
            "|150140|         1492745|       275|         18|[1492745.0,275.0]|12.423223010965184|\n",
            "|150140|         1492745|       291|         15|[1492745.0,291.0]|12.423223010965184|\n",
            "|150140|         1492745|       343|        126|[1492745.0,343.0]|12.423223010965184|\n",
            "|150140|         1492745|       346|         11|[1492745.0,346.0]|28.763534121682294|\n",
            "|150140|         1492745|       430|         11|[1492745.0,430.0]|28.763534121682294|\n",
            "|150140|         1492745|       454|         27|[1492745.0,454.0]|28.763534121682294|\n",
            "|150140|         1492745|       469|         33|[1492745.0,469.0]|28.763534121682294|\n",
            "|150140|         1492745|       474|        131|[1492745.0,474.0]|28.763534121682294|\n",
            "|150140|         1492745|       489|         35|[1492745.0,489.0]|28.763534121682294|\n",
            "|150145|           17732|         4|          2|    [17732.0,4.0]|1.2386166921021302|\n",
            "|150150|           62737|         1|          1|    [62737.0,1.0]|1.3932305038810795|\n",
            "|150150|           62737|         3|          1|    [62737.0,3.0]|1.3932305038810795|\n",
            "|150150|           62737|         3|          2|    [62737.0,3.0]|1.3932305038810795|\n",
            "|150150|           62737|        19|          1|   [62737.0,19.0]|1.5305411486680602|\n",
            "|150150|           62737|        34|          2|   [62737.0,34.0]| 1.646904478951645|\n",
            "|150150|           62737|        82|         17|   [62737.0,82.0]|2.2674281579595275|\n",
            "|150160|           16286|         1|          1|    [16286.0,1.0]|1.2386166921021302|\n",
            "|150160|           16286|         4|          1|    [16286.0,4.0]|1.2386166921021302|\n",
            "|150160|           16286|         8|          1|    [16286.0,8.0]| 1.305154064322006|\n",
            "|150160|           16286|        10|          1|   [16286.0,10.0]|1.3401343908698273|\n",
            "|150170|          127686|         1|          1|   [127686.0,1.0]|1.5887869502456033|\n",
            "|150170|          127686|         1|          2|   [127686.0,1.0]|1.5887869502456033|\n",
            "|150170|          127686|         5|          1|   [127686.0,5.0]|1.5887869502456033|\n",
            "|150170|          127686|         5|          3|   [127686.0,5.0]|1.5887869502456033|\n",
            "|150170|          127686|         6|          1|   [127686.0,6.0]|1.5887869502456033|\n",
            "|150170|          127686|         7|          1|   [127686.0,7.0]| 1.617681968732596|\n",
            "|150170|          127686|         9|          2|   [127686.0,9.0]| 1.652662295280417|\n",
            "|150170|          127686|        14|          2|  [127686.0,14.0]|1.6850013227119551|\n",
            "|150170|          127686|        15|          2|  [127686.0,15.0]|1.6971845785701962|\n",
            "|150170|          127686|        17|          3|  [127686.0,17.0]|1.6971845785701962|\n",
            "|150170|          127686|        37|          1|  [127686.0,37.0]| 2.135552822613686|\n",
            "|150170|          127686|        37|          5|  [127686.0,37.0]| 2.135552822613686|\n",
            "|150170|          127686|        42|          6|  [127686.0,42.0]| 2.135552822613686|\n",
            "|150172|           15086|         2|          1|    [15086.0,2.0]|1.2386166921021302|\n",
            "|150172|           15086|         4|          1|    [15086.0,4.0]|1.2386166921021302|\n",
            "|150178|           66046|         2|          2|    [66046.0,2.0]|1.3932305038810795|\n",
            "|150180|          102701|         3|          2|   [102701.0,3.0]|1.5180056253143683|\n",
            "|150180|          102701|         3|          3|   [102701.0,3.0]|1.5180056253143683|\n",
            "|150180|          102701|        10|          1|  [102701.0,10.0]|1.6093435161552652|\n",
            "|150180|          102701|        11|          2|  [102701.0,11.0]|1.6093435161552652|\n",
            "|150180|          102701|        12|          3|  [102701.0,12.0]| 1.673639475960714|\n",
            "|150180|          102701|        12|          5|  [102701.0,12.0]| 1.673639475960714|\n",
            "|150180|          102701|        23|          8|  [102701.0,23.0]| 1.740921498466136|\n",
            "|150180|          102701|        26|          3|  [102701.0,26.0]|1.7727255483251263|\n",
            "|150180|          102701|        36|          3|  [102701.0,36.0]| 1.894499407581598|\n",
            "|150180|          102701|        38|          1|  [102701.0,38.0]|2.0965604992971856|\n",
            "|150190|           29132|         1|          1|    [29132.0,1.0]|1.2386166921021302|\n",
            "|150190|           29132|         2|          1|    [29132.0,2.0]|1.2386166921021302|\n",
            "|150190|           29132|         2|          1|    [29132.0,2.0]|1.2386166921021302|\n",
            "|150190|           29132|         2|          1|    [29132.0,2.0]|1.2386166921021302|\n",
            "|150190|           29132|         3|          3|    [29132.0,3.0]|1.2386166921021302|\n",
            "|150190|           29132|         4|          1|    [29132.0,4.0]|1.2386166921021302|\n",
            "|150190|           29132|         7|          2|    [29132.0,7.0]| 1.305154064322006|\n",
            "|150190|           29132|        11|          1|   [29132.0,11.0]|1.3523098884661435|\n",
            "|150195|           33900|         1|          1|    [33900.0,1.0]|1.2386166921021302|\n",
            "|150200|           23767|         1|          1|    [23767.0,1.0]|1.2386166921021302|\n",
            "|150200|           23767|         4|          1|    [23767.0,4.0]|1.2386166921021302|\n",
            "|150210|          137890|         1|          1|   [137890.0,1.0]|1.5887869502456033|\n",
            "|150210|          137890|         3|          1|   [137890.0,3.0]|1.5887869502456033|\n",
            "|150210|          137890|         4|          2|   [137890.0,4.0]|1.5887869502456033|\n",
            "|150210|          137890|        23|          2|  [137890.0,23.0]|1.7522833452173772|\n",
            "|150210|          137890|        28|          1|  [137890.0,28.0]|1.7840873950763672|\n",
            "|150210|          137890|        28|          2|  [137890.0,28.0]|1.7840873950763672|\n",
            "|150210|          137890|        37|          1|  [137890.0,37.0]| 2.135552822613686|\n",
            "|150210|          137890|        37|          1|  [137890.0,37.0]| 2.135552822613686|\n",
            "|150210|          137890|        50|          6|  [137890.0,50.0]| 2.177359265228888|\n",
            "|150210|          137890|        63|          1|  [137890.0,63.0]|2.2611216095678723|\n",
            "|150210|          137890|        64|          1|  [137890.0,64.0]|2.2611216095678723|\n",
            "|150210|          137890|        73|          2|  [137890.0,73.0]| 2.449486124359744|\n",
            "|150210|          137890|        77|          2|  [137890.0,77.0]| 2.449486124359744|\n",
            "|150210|          137890|        78|          3|  [137890.0,78.0]| 2.449486124359744|\n",
            "|150210|          137890|        84|          4|  [137890.0,84.0]| 2.449486124359744|\n",
            "|150210|          137890|        90|          3|  [137890.0,90.0]| 2.604208805989397|\n",
            "|150210|          137890|       101|          1| [137890.0,101.0]| 2.604208805989397|\n",
            "|150210|          137890|       126|          1| [137890.0,126.0]| 2.870606965502103|\n",
            "|150215|           37085|         1|          1|    [37085.0,1.0]|1.2491188400590698|\n",
            "|150215|           37085|         2|          1|    [37085.0,2.0]|1.2491188400590698|\n",
            "|150215|           37085|         7|          2|    [37085.0,7.0]|1.3156562122789457|\n",
            "|150215|           37085|        22|          1|   [37085.0,22.0]|  1.40907423593622|\n",
            "|150215|           37085|        22|          2|   [37085.0,22.0]|  1.40907423593622|\n",
            "|150215|           37085|        34|          1|   [37085.0,34.0]|1.5184441764613736|\n",
            "|150215|           37085|        68|          1|   [37085.0,68.0]|2.0038992361130084|\n",
            "|150215|           37085|        89|          1|   [37085.0,89.0]| 2.315063056208353|\n",
            "|150215|           37085|       100|          2|  [37085.0,100.0]| 2.315063056208353|\n",
            "|150220|           69027|         1|          1|    [69027.0,1.0]|1.4198386201604112|\n",
            "|150220|           69027|         2|          1|    [69027.0,2.0]|1.4198386201604112|\n",
            "|150220|           69027|         3|          1|    [69027.0,3.0]|1.4198386201604112|\n",
            "|150220|           69027|         5|          1|    [69027.0,5.0]|1.4198386201604112|\n",
            "|150220|           69027|         9|          2|    [69027.0,9.0]|1.5213563189281083|\n",
            "|150220|           69027|        11|          3|   [69027.0,11.0]|1.5335318165244245|\n",
            "|150220|           69027|        23|          4|   [69027.0,23.0]|1.5641426547058233|\n",
            "|150230|           54303|         3|          1|    [54303.0,3.0]|1.3932305038810795|\n",
            "|150230|           54303|        10|          1|   [54303.0,10.0]|1.4947482026487766|\n",
            "|150230|           54303|        16|          1|   [54303.0,16.0]|1.5305411486680602|\n",
            "|150240|          200793|         2|          1|   [200793.0,2.0]|2.0920672357108896|\n",
            "|150240|          200793|         2|          2|   [200793.0,2.0]|2.0920672357108896|\n",
            "|150240|          200793|         5|          2|   [200793.0,5.0]| 2.120691713830262|\n",
            "|150240|          200793|         7|          2|   [200793.0,7.0]|2.1107154866686013|\n",
            "|150240|          200793|        10|          9|  [200793.0,10.0]|2.0968513544048055|\n",
            "|150240|          200793|        14|          1|  [200793.0,14.0]|2.1291903818363433|\n",
            "|150240|          200793|        15|          3|  [200793.0,15.0]|2.1413736376945844|\n",
            "|150240|          200793|        16|          1|  [200793.0,16.0]|2.1413736376945844|\n",
            "|150240|          200793|        16|          8|  [200793.0,16.0]|2.1413736376945844|\n",
            "|150240|          200793|        21|          1|  [200793.0,21.0]|  2.16341702519245|\n",
            "|150240|          200793|        21|          1|  [200793.0,21.0]|  2.16341702519245|\n",
            "|150240|          200793|        21|          1|  [200793.0,21.0]|  2.16341702519245|\n",
            "|150240|          200793|        24|         11|  [200793.0,24.0]| 2.178480702761912|\n",
            "|150240|          200793|        29|         14|  [200793.0,29.0]| 2.178480702761912|\n",
            "|150240|          200793|        50|         15|  [200793.0,50.0]|2.4276807188953184|\n",
            "|150240|          200793|        60|          3|  [200793.0,60.0]|2.4857601506421867|\n",
            "|150240|          200793|       116|          4| [200793.0,116.0]| 3.066066623263312|\n",
            "|150260|           12085|         1|          1|    [12085.0,1.0]|1.2386166921021302|\n",
            "|150260|           12085|        15|          1|   [12085.0,15.0]| 1.375927336889111|\n",
            "|150270|           47864|        25|          1|   [47864.0,25.0]|1.5014870412889598|\n",
            "|150275|           33318|         1|          1|    [33318.0,1.0]|1.2386166921021302|\n",
            "|150275|           33318|         1|          2|    [33318.0,1.0]|1.2386166921021302|\n",
            "|150275|           33318|        51|          1|   [33318.0,51.0]|1.9426032860294982|\n",
            "|150275|           33318|        55|          1|   [33318.0,55.0]|1.9426032860294982|\n",
            "|150277|           17929|         3|          2|    [17929.0,3.0]|1.2386166921021302|\n",
            "|150277|           17929|        18|          1|   [17929.0,18.0]| 1.375927336889111|\n",
            "|150277|           17929|        19|          1|   [17929.0,19.0]| 1.375927336889111|\n",
            "|150277|           17929|        23|          1|   [17929.0,23.0]|1.3985720879792805|\n",
            "|150280|           34448|         3|          1|    [34448.0,3.0]|1.2386166921021302|\n",
            "|150280|           34448|        21|          1|   [34448.0,21.0]|1.3985720879792805|\n",
            "|150280|           34448|        45|          1|   [34448.0,45.0]|1.9096347438170838|\n",
            "|150290|           40066|         3|          1|    [40066.0,3.0]|1.2491188400590698|\n",
            "|150290|           40066|         6|          9|    [40066.0,6.0]|1.2491188400590698|\n",
            "|150290|           40066|         7|          1|    [40066.0,7.0]|1.3156562122789457|\n",
            "|150290|           40066|        14|          1|   [40066.0,14.0]|1.3742462289878092|\n",
            "|150290|           40066|       178|          1|  [40066.0,178.0]|2.7964604871739223|\n",
            "|150293|           59719|        12|          1|   [59719.0,12.0]|1.5183578928098191|\n",
            "|150295|           33808|         1|          1|    [33808.0,1.0]|1.2386166921021302|\n",
            "|150295|           33808|         1|          1|    [33808.0,1.0]|1.2386166921021302|\n",
            "|150307|           26066|         4|          1|    [26066.0,4.0]|1.2386166921021302|\n",
            "|150307|           26066|         9|          2|    [26066.0,9.0]|1.3401343908698273|\n",
            "|150309|           40475|         2|          1|    [40475.0,2.0]|1.2491188400590698|\n",
            "|150310|           33376|         1|          1|    [33376.0,1.0]|1.2386166921021302|\n",
            "|150310|           33376|         2|          2|    [33376.0,2.0]|1.2386166921021302|\n",
            "|150310|           33376|        10|          1|   [33376.0,10.0]|1.3401343908698273|\n",
            "|150310|           33376|        11|          1|   [33376.0,11.0]|1.3523098884661435|\n",
            "|150320|           38807|         1|          1|    [38807.0,1.0]|1.2491188400590698|\n",
            "|150320|           38807|         2|          3|    [38807.0,2.0]|1.2491188400590698|\n",
            "|150320|           38807|         9|          1|    [38807.0,9.0]|1.3506365388267667|\n",
            "|150320|           38807|        22|          1|   [38807.0,22.0]|  1.40907423593622|\n",
            "|150320|           38807|        28|          1|   [38807.0,28.0]|1.4675645994083446|\n",
            "|150330|           62698|         1|          1|    [62698.0,1.0]|1.3932305038810795|\n",
            "|150330|           62698|         5|          1|    [62698.0,5.0]|1.3932305038810795|\n",
            "|150330|           62698|        22|          1|   [62698.0,22.0]|1.5375345384264916|\n",
            "|150330|           62698|        39|          1|   [62698.0,39.0]| 1.911286916394949|\n",
            "|150330|           62698|        41|          1|   [62698.0,41.0]| 1.911286916394949|\n",
            "|150330|           62698|        89|          2|   [62698.0,89.0]|2.4221508395891798|\n",
            "|150340|           11711|         2|          1|    [11711.0,2.0]|1.2386166921021302|\n",
            "|150340|           11711|         2|          1|    [11711.0,2.0]|1.2386166921021302|\n",
            "|150340|           11711|         5|          1|    [11711.0,5.0]|1.2386166921021302|\n",
            "|150345|           64053|         1|          1|    [64053.0,1.0]|1.3932305038810795|\n",
            "|150345|           64053|         1|          1|    [64053.0,1.0]|1.3932305038810795|\n",
            "|150345|           64053|         3|          1|    [64053.0,3.0]|1.3932305038810795|\n",
            "|150345|           64053|         6|          1|    [64053.0,6.0]|1.3932305038810795|\n",
            "|150345|           64053|         9|          1|    [64053.0,9.0]|1.4947482026487766|\n",
            "|150345|           64053|        11|          1|   [64053.0,11.0]|1.5069237002450928|\n",
            "|150345|           64053|        19|          1|   [64053.0,19.0]|1.5305411486680602|\n",
            "|150350|           32550|         3|          1|    [32550.0,3.0]|1.2386166921021302|\n",
            "|150350|           32550|         4|          3|    [32550.0,4.0]|1.2386166921021302|\n",
            "|150350|           32550|         5|          1|    [32550.0,5.0]|1.2386166921021302|\n",
            "|150350|           32550|         9|          1|    [32550.0,9.0]|1.3401343908698273|\n",
            "|150360|          101247|         2|          1|   [101247.0,2.0]|1.5180056253143683|\n",
            "|150360|          101247|        66|          1|  [101247.0,66.0]|2.2221292862513717|\n",
            "|150360|          101247|        76|          1|  [101247.0,76.0]|2.3785704247170636|\n",
            "|150360|          101247|        86|          2|  [101247.0,86.0]|2.3785704247170636|\n",
            "|150370|           53269|         9|          2|    [53269.0,9.0]|1.4947482026487766|\n",
            "|150370|           53269|        23|          2|   [53269.0,23.0]|1.5375345384264916|\n",
            "|150375|            8239|         9|          3|     [8239.0,9.0]|1.3401343908698273|\n",
            "|150380|           59155|         4|          1|    [59155.0,4.0]|1.3932305038810795|\n",
            "|150380|           59155|         6|          1|    [59155.0,6.0]|1.3932305038810795|\n",
            "|150380|           59155|        11|          2|   [59155.0,11.0]|1.5069237002450928|\n",
            "|150390|           57943|         1|          1|    [57943.0,1.0]|1.3932305038810795|\n",
            "|150390|           57943|         2|          1|    [57943.0,2.0]|1.3932305038810795|\n",
            "|150390|           57943|         6|          1|    [57943.0,6.0]|1.3932305038810795|\n",
            "|150390|           57943|        10|         11|   [57943.0,10.0]|1.4947482026487766|\n",
            "|150390|           57943|        11|          2|   [57943.0,11.0]|1.5069237002450928|\n",
            "|150390|           57943|        22|          2|   [57943.0,22.0]|1.5375345384264916|\n",
            "|150390|           57943|        22|          5|   [57943.0,22.0]|1.5375345384264916|\n",
            "|150390|           57943|        25|          4|   [57943.0,25.0]| 1.569338588285482|\n",
            "|150390|           57943|        38|          7|   [57943.0,38.0]| 1.911286916394949|\n",
            "|150390|           57943|        76|          1|   [57943.0,76.0]|2.2674281579595275|\n",
            "|150400|           28935|         1|          3|    [28935.0,1.0]|1.2386166921021302|\n",
            "|150400|           28935|        11|          1|   [28935.0,11.0]|1.3523098884661435|\n",
            "|150400|           28935|        12|          1|   [28935.0,12.0]|1.3637440810308696|\n",
            "|150400|           28935|        19|          1|   [28935.0,19.0]| 1.375927336889111|\n",
            "|150405|           30077|         6|          1|    [30077.0,6.0]|1.2386166921021302|\n",
            "|150405|           30077|        15|          1|   [30077.0,15.0]| 1.375927336889111|\n",
            "|150410|            8548|         2|          1|     [8548.0,2.0]|1.2386166921021302|\n",
            "|150410|            8548|        10|          1|    [8548.0,10.0]|1.3401343908698273|\n",
            "|150410|            8548|        15|          1|    [8548.0,15.0]| 1.375927336889111|\n",
            "|150420|          279349|         1|          1|   [279349.0,1.0]| 2.231016255915786|\n",
            "|150420|          279349|         5|          1|   [279349.0,5.0]| 2.259640734035158|\n",
            "|150420|          279349|         5|         21|   [279349.0,5.0]| 2.259640734035158|\n",
            "|150420|          279349|         6|          1|   [279349.0,6.0]| 2.259640734035158|\n",
            "|150420|          279349|        11|          6|  [279349.0,11.0]|2.2358003746097026|\n",
            "|150420|          279349|        42|          1|  [279349.0,42.0]| 2.514986158616435|\n",
            "|150420|          279349|        49|          1|  [279349.0,49.0]| 2.767343784685464|\n",
            "|150420|          279349|       111|          1| [279349.0,111.0]|3.4846056667977052|\n",
            "|150420|          279349|       118|          1| [279349.0,118.0]|3.4846056667977052|\n",
            "|150420|          279349|       120|          2| [279349.0,120.0]|3.4846056667977052|\n",
            "|150420|          279349|       127|          1| [279349.0,127.0]|3.4846056667977052|\n",
            "|150420|          279349|       175|          2| [279349.0,175.0]|3.6192270690783017|\n",
            "|150420|          279349|       204|          1| [279349.0,204.0]|3.6192270690783017|\n",
            "|150420|          279349|       336|          1| [279349.0,336.0]| 4.122178577121594|\n",
            "|150430|           29473|         1|          1|    [29473.0,1.0]|1.2386166921021302|\n",
            "|150430|           29473|         1|          2|    [29473.0,1.0]|1.2386166921021302|\n",
            "|150430|           29473|         2|          1|    [29473.0,2.0]|1.2386166921021302|\n",
            "|150430|           29473|         3|          2|    [29473.0,3.0]|1.2386166921021302|\n",
            "|150440|           28336|         5|          1|    [28336.0,5.0]|1.2386166921021302|\n",
            "|150440|           28336|         5|          3|    [28336.0,5.0]|1.2386166921021302|\n",
            "|150440|           28336|         9|          1|    [28336.0,9.0]|1.3401343908698273|\n",
            "|150442|          131521|         1|          1|   [131521.0,1.0]|1.5887869502456033|\n",
            "|150442|          131521|         1|          1|   [131521.0,1.0]|1.5887869502456033|\n",
            "|150442|          131521|         3|          1|   [131521.0,3.0]|1.5887869502456033|\n",
            "|150442|          131521|         4|          2|   [131521.0,4.0]|1.5887869502456033|\n",
            "|150442|          131521|         4|          3|   [131521.0,4.0]|1.5887869502456033|\n",
            "|150442|          131521|        15|          1|  [131521.0,15.0]|1.6971845785701962|\n",
            "|150442|          131521|        17|          5|  [131521.0,17.0]|1.6971845785701962|\n",
            "|150442|          131521|        20|          3|  [131521.0,20.0]|1.6971845785701962|\n",
            "|150442|          131521|        25|          1|  [131521.0,25.0]|1.7840873950763672|\n",
            "|150445|           31597|        13|          2|   [31597.0,13.0]|1.3637440810308696|\n",
            "|150445|           31597|        19|          1|   [31597.0,19.0]| 1.375927336889111|\n",
            "|150450|           27654|        10|          1|   [27654.0,10.0]|1.3401343908698273|\n",
            "|150460|           31136|         8|          3|    [31136.0,8.0]| 1.305154064322006|\n",
            "|150460|           31136|        10|          2|   [31136.0,10.0]|1.3401343908698273|\n",
            "|150460|           31136|        23|          1|   [31136.0,23.0]|1.3985720879792805|\n",
            "|150460|           31136|        29|          2|   [31136.0,29.0]|1.4570624514514052|\n",
            "|150460|           31136|        34|          2|   [31136.0,34.0]|1.5079420285044343|\n",
            "|150460|           31136|        43|          1|   [31136.0,43.0]|1.8292915289677047|\n",
            "|150460|           31136|        47|          1|   [31136.0,47.0]|1.9096347438170838|\n",
            "|150470|           82094|         1|          1|    [82094.0,1.0]|1.4198386201604112|\n",
            "|150470|           82094|         2|          1|    [82094.0,2.0]|1.4198386201604112|\n",
            "|150470|           82094|         3|          1|    [82094.0,3.0]|1.4198386201604112|\n",
            "|150470|           82094|         3|          2|    [82094.0,3.0]|1.4198386201604112|\n",
            "|150470|           82094|        27|          1|   [82094.0,27.0]|1.5959467045648137|\n",
            "|150470|           82094|        86|          1|   [82094.0,86.0]|2.2674281579595275|\n",
            "|150475|           16084|         1|          1|    [16084.0,1.0]|1.2386166921021302|\n",
            "|150475|           16084|         1|          1|    [16084.0,1.0]|1.2386166921021302|\n",
            "|150475|           16084|         2|          2|    [16084.0,2.0]|1.2386166921021302|\n",
            "|150475|           16084|         6|          1|    [16084.0,6.0]|1.2386166921021302|\n",
            "|150475|           16084|         8|          1|    [16084.0,8.0]| 1.305154064322006|\n",
            "|150480|           58032|         6|          1|    [58032.0,6.0]|1.3932305038810795|\n",
            "|150480|           58032|        22|          1|   [58032.0,22.0]|1.5375345384264916|\n",
            "|150480|           58032|        24|          4|   [58032.0,24.0]| 1.569338588285482|\n",
            "|150480|           58032|        28|          1|   [58032.0,28.0]|1.5960249018986161|\n",
            "|150480|           58032|        28|          3|   [58032.0,28.0]|1.5960249018986161|\n",
            "|150480|           58032|        33|          1|   [58032.0,33.0]| 1.646904478951645|\n",
            "|150480|           58032|        39|          2|   [58032.0,39.0]| 1.911286916394949|\n",
            "|150480|           58032|        51|          2|   [58032.0,51.0]|2.0601932173672646|\n",
            "|150490|           40349|         1|          2|    [40349.0,1.0]|1.2491188400590698|\n",
            "|150490|           40349|        15|          2|   [40349.0,15.0]|1.3864294848460506|\n",
            "|150497|           16678|         1|          1|    [16678.0,1.0]|1.2386166921021302|\n",
            "|150497|           16678|         4|          1|    [16678.0,4.0]|1.2386166921021302|\n",
            "|150497|           16678|         6|          1|    [16678.0,6.0]|1.2386166921021302|\n",
            "|150503|           25762|        15|          1|   [25762.0,15.0]| 1.375927336889111|\n",
            "|150506|           75919|         1|          1|    [75919.0,1.0]|1.4198386201604112|\n",
            "|150506|           75919|         2|          1|    [75919.0,2.0]|1.4198386201604112|\n",
            "|150506|           75919|         5|          1|    [75919.0,5.0]|1.4198386201604112|\n",
            "|150506|           75919|         6|          1|    [75919.0,6.0]|1.4198386201604112|\n",
            "|150506|           75919|         8|          1|    [75919.0,8.0]| 1.486375992380287|\n",
            "|150506|           75919|        20|          2|   [75919.0,20.0]| 1.557149264947392|\n",
            "|150506|           75919|        28|          1|   [75919.0,28.0]|1.6226330181779478|\n",
            "|150510|           52137|         1|          1|    [52137.0,1.0]|1.3932305038810795|\n",
            "|150510|           52137|         2|          1|    [52137.0,2.0]|1.3932305038810795|\n",
            "|150510|           52137|         4|          1|    [52137.0,4.0]|1.3932305038810795|\n",
            "|150510|           52137|         7|          2|    [52137.0,7.0]|1.4597678761009554|\n",
            "|150510|           52137|        35|          1|   [52137.0,35.0]| 1.646904478951645|\n",
            "|150520|           32512|         1|          1|    [32512.0,1.0]|1.2386166921021302|\n",
            "|150520|           32512|         2|          1|    [32512.0,2.0]|1.2386166921021302|\n",
            "|150520|           32512|         6|          1|    [32512.0,6.0]|1.2386166921021302|\n",
            "|150520|           32512|         7|          1|    [32512.0,7.0]| 1.305154064322006|\n",
            "|150530|           73096|        33|          1|   [73096.0,33.0]|1.6735125952309766|\n",
            "|150530|           73096|       110|         14|  [73096.0,110.0]| 2.659354432598649|\n",
            "|150543|           32832|        45|          1|   [32832.0,45.0]|1.9096347438170838|\n",
            "|150543|           32832|        47|          2|   [32832.0,47.0]|1.9096347438170838|\n",
            "|150543|           32832|       104|          2|  [32832.0,104.0]| 2.304560908251413|\n",
            "|150548|           47706|         1|          1|    [47706.0,1.0]|1.3253789568845573|\n",
            "|150548|           47706|        32|          1|   [47706.0,32.0]|1.5790529319551232|\n",
            "|150550|          113145|         1|          1|   [113145.0,1.0]|1.5180056253143683|\n",
            "|150550|          113145|         4|          1|   [113145.0,4.0]|1.5180056253143683|\n",
            "|150550|          113145|         7|          2|   [113145.0,7.0]| 1.574363189607444|\n",
            "|150550|          113145|        11|          1|  [113145.0,11.0]|1.6093435161552652|\n",
            "|150550|          113145|        12|          5|  [113145.0,12.0]| 1.673639475960714|\n",
            "|150550|          113145|        20|          1|  [113145.0,20.0]|1.6858227318189551|\n",
            "|150550|          113145|        33|          2|  [113145.0,33.0]| 1.894499407581598|\n",
            "|150550|          113145|        45|          3|  [113145.0,45.0]|2.1383669419123867|\n",
            "|150550|          113145|        64|          3|  [113145.0,64.0]|2.2221292862513717|\n",
            "|150550|          113145|        98|          3|  [113145.0,98.0]|2.5332931063467163|\n",
            "|150550|          113145|       114|         10| [113145.0,114.0]|2.7996912658594226|\n",
            "|150553|          208273|        52|         14|  [208273.0,52.0]|2.4606492611077324|\n",
            "|150553|          208273|        73|          2|  [208273.0,73.0]| 2.773435353741289|\n",
            "|150553|          208273|        85|          4|  [208273.0,85.0]| 2.773435353741289|\n",
            "|150553|          208273|        89|          3|  [208273.0,89.0]|2.8532485829835834|\n",
            "|150553|          208273|        97|          2|  [208273.0,97.0]|2.8532485829835834|\n",
            "|150553|          208273|       113|          1| [208273.0,113.0]| 3.066066623263312|\n",
            "|150553|          208273|       131|          1| [208273.0,131.0]| 3.066066623263312|\n",
            "|150553|          208273|       152|          2| [208273.0,152.0]| 3.258266260606548|\n",
            "|150553|          208273|       219|          4| [208273.0,219.0]|3.7612177686498405|\n",
            "|150553|          208273|       268|          7| [208273.0,268.0]|3.7612177686498405|\n",
            "|150553|          208273|       444|          1| [208273.0,444.0]|18.441007023329608|\n",
            "|150553|          208273|       481|          3| [208273.0,481.0]|18.441007023329608|\n",
            "|150555|            5483|         1|          1|     [5483.0,1.0]| 1.335479505509515|\n",
            "|150555|            5483|         6|          1|     [5483.0,6.0]| 1.335479505509515|\n",
            "|150570|           31082|         4|          1|    [31082.0,4.0]|1.2386166921021302|\n",
            "|150580|           62043|         6|          1|    [62043.0,6.0]|1.3932305038810795|\n",
            "|150580|           62043|         6|          1|    [62043.0,6.0]|1.3932305038810795|\n",
            "|150580|           62043|         8|          1|    [62043.0,8.0]|1.4597678761009554|\n",
            "|150580|           62043|         8|          1|    [62043.0,8.0]|1.4597678761009554|\n",
            "|150580|           62043|         8|          2|    [62043.0,8.0]|1.4597678761009554|\n",
            "|150580|           62043|         9|          1|    [62043.0,9.0]|1.4947482026487766|\n",
            "|150580|           62043|         9|          3|    [62043.0,9.0]|1.4947482026487766|\n",
            "|150580|           62043|        10|          1|   [62043.0,10.0]|1.4947482026487766|\n",
            "|150580|           62043|        17|          1|   [62043.0,17.0]|1.5305411486680602|\n",
            "|150580|           62043|        19|          1|   [62043.0,19.0]|1.5305411486680602|\n",
            "|150580|           62043|        22|          1|   [62043.0,22.0]|1.5375345384264916|\n",
            "|150580|           62043|        49|          2|   [62043.0,49.0]|2.0272246751548506|\n",
            "|150590|           41135|         8|          2|    [41135.0,8.0]|1.3156562122789457|\n",
            "|150590|           41135|        72|          4|   [41135.0,72.0]|   2.1603403745787|\n",
            "|150600|           29866|         5|          1|    [29866.0,5.0]|1.2386166921021302|\n",
            "|150610|           10825|         5|          2|    [10825.0,5.0]|1.2386166921021302|\n",
            "|150611|           13608|         1|          1|    [13608.0,1.0]|1.2386166921021302|\n",
            "|150611|           13608|         3|          1|    [13608.0,3.0]|1.2386166921021302|\n",
            "|150613|           84787|        10|          5|   [84787.0,10.0]|1.5213563189281083|\n",
            "|150613|           84787|        31|          2|   [84787.0,31.0]|1.6226330181779478|\n",
            "|150613|           84787|        35|          1|   [84787.0,35.0]|1.6735125952309766|\n",
            "|150613|           84787|        40|          1|   [84787.0,40.0]| 1.911286916394949|\n",
            "|150613|           84787|        55|          2|   [84787.0,55.0]|2.0601932173672646|\n",
            "|150613|           84787|        72|          1|   [84787.0,72.0]|2.2674281579595275|\n",
            "|150613|           84787|       131|          1|  [84787.0,131.0]| 2.659354432598649|\n",
            "|150613|           84787|       164|          1|  [84787.0,164.0]|2.9035482705547495|\n",
            "|150616|           18193|        21|          1|   [18193.0,21.0]|1.3985720879792805|\n",
            "|150618|           52357|         1|          1|    [52357.0,1.0]|1.3932305038810795|\n",
            "|150618|           52357|         1|          2|    [52357.0,1.0]|1.3932305038810795|\n",
            "|150618|           52357|         6|          2|    [52357.0,6.0]|1.3932305038810795|\n",
            "|150618|           52357|         8|          1|    [52357.0,8.0]|1.4597678761009554|\n",
            "|150618|           52357|        13|          1|   [52357.0,13.0]|1.5183578928098191|\n",
            "|150618|           52357|        19|          1|   [52357.0,19.0]|1.5305411486680602|\n",
            "|150619|           50510|        12|          1|   [50510.0,12.0]| 1.450506345813297|\n",
            "|150619|           50510|        37|          3|   [50510.0,37.0]|1.9004024324183935|\n",
            "|150620|           40675|         1|          1|    [40675.0,1.0]|1.2491188400590698|\n",
            "|150620|           40675|         1|          1|    [40675.0,1.0]|1.2491188400590698|\n",
            "|150620|           40675|         3|          1|    [40675.0,3.0]|1.2491188400590698|\n",
            "|150620|           40675|         3|          3|    [40675.0,3.0]|1.2491188400590698|\n",
            "|150630|           23752|         1|          1|    [23752.0,1.0]|1.2386166921021302|\n",
            "|150630|           23752|         1|          1|    [23752.0,1.0]|1.2386166921021302|\n",
            "|150630|           23752|        12|          1|   [23752.0,12.0]|1.3637440810308696|\n",
            "|150635|           21079|         1|          1|    [21079.0,1.0]|1.2386166921021302|\n",
            "|150635|           21079|         2|          1|    [21079.0,2.0]|1.2386166921021302|\n",
            "|150635|           21079|         3|          1|    [21079.0,3.0]|1.2386166921021302|\n",
            "|150650|           70801|         1|          1|    [70801.0,1.0]|1.4198386201604112|\n",
            "|150650|           70801|         3|          1|    [70801.0,3.0]|1.4198386201604112|\n",
            "|150650|           70801|         8|          1|    [70801.0,8.0]| 1.486375992380287|\n",
            "|150650|           70801|        23|          1|   [70801.0,23.0]|1.5641426547058233|\n",
            "|150655|           19848|         2|          1|    [19848.0,2.0]|1.2386166921021302|\n",
            "|150658|           21449|        10|          2|   [21449.0,10.0]|1.3401343908698273|\n",
            "|150670|           72817|         6|          1|    [72817.0,6.0]|1.4198386201604112|\n",
            "|150680|          304589|         3|          1|   [304589.0,3.0]|2.4156773462960137|\n",
            "|150680|          304589|        18|          4|  [304589.0,18.0]| 2.464983748279709|\n",
            "|150680|          304589|        20|          2|  [304589.0,20.0]| 2.464983748279709|\n",
            "|150680|          304589|        21|          3|  [304589.0,21.0]|2.4870271357775735|\n",
            "|150680|          304589|        24|          1|  [304589.0,24.0]| 2.502090813347036|\n",
            "|150680|          304589|        26|         11|  [304589.0,26.0]| 2.502090813347036|\n",
            "|150680|          304589|        37|          4|  [304589.0,37.0]| 2.656793759494009|\n",
            "|150680|          304589|        39|          1|  [304589.0,39.0]| 2.656793759494009|\n",
            "|150680|          304589|        41|         13|  [304589.0,41.0]| 2.656793759494009|\n",
            "|150680|          304589|        52|          8|  [304589.0,52.0]|2.9421199277754533|\n",
            "|150680|          304589|        70|         25|  [304589.0,70.0]|2.8972424611251326|\n",
            "|150680|          304589|       119|          2| [304589.0,119.0]|3.5051343340870647|\n",
            "|150680|          304589|       187|          1| [304589.0,187.0]| 3.639755736367661|\n",
            "|150700|           31482|         2|          1|    [31482.0,2.0]|1.2386166921021302|\n",
            "|150710|           18050|         1|          1|    [18050.0,1.0]|1.2386166921021302|\n",
            "|150710|           18050|         7|          2|    [18050.0,7.0]| 1.305154064322006|\n",
            "|150710|           18050|        31|          2|   [18050.0,31.0]|1.4570624514514052|\n",
            "|150715|           25557|         1|          1|    [25557.0,1.0]|1.2386166921021302|\n",
            "|150715|           25557|         1|          1|    [25557.0,1.0]|1.2386166921021302|\n",
            "|150715|           25557|         3|          1|    [25557.0,3.0]|1.2386166921021302|\n",
            "|150715|           25557|        19|          1|   [25557.0,19.0]| 1.375927336889111|\n",
            "|150730|          128481|         1|          1|   [128481.0,1.0]|1.5887869502456033|\n",
            "|150730|          128481|         1|          1|   [128481.0,1.0]|1.5887869502456033|\n",
            "|150730|          128481|         2|          1|   [128481.0,2.0]|1.5887869502456033|\n",
            "|150730|          128481|        28|          1|  [128481.0,28.0]|1.7840873950763672|\n",
            "|150730|          128481|        37|          3|  [128481.0,37.0]| 2.135552822613686|\n",
            "|150740|           15882|         1|          1|    [15882.0,1.0]|1.2386166921021302|\n",
            "|150740|           15882|         2|          1|    [15882.0,2.0]|1.2386166921021302|\n",
            "|150745|           24847|         1|          1|    [24847.0,1.0]|1.2386166921021302|\n",
            "|150745|           24847|         7|          1|    [24847.0,7.0]| 1.305154064322006|\n",
            "|150745|           24847|        16|          1|   [24847.0,16.0]| 1.375927336889111|\n",
            "|150747|           23045|         1|          1|    [23045.0,1.0]|1.2386166921021302|\n",
            "|150747|           23045|         3|          1|    [23045.0,3.0]|1.2386166921021302|\n",
            "|150760|           58986|         2|          1|    [58986.0,2.0]|1.3932305038810795|\n",
            "|150760|           58986|        23|         11|   [58986.0,23.0]|1.5375345384264916|\n",
            "|150770|           26640|         4|          1|    [26640.0,4.0]|1.2386166921021302|\n",
            "|150775|            5930|         6|          1|     [5930.0,6.0]| 1.335479505509515|\n",
            "|150790|           25374|         1|          1|    [25374.0,1.0]|1.2386166921021302|\n",
            "|150790|           25374|         3|          2|    [25374.0,3.0]|1.2386166921021302|\n",
            "|150790|           25374|         4|          1|    [25374.0,4.0]|1.2386166921021302|\n",
            "|150790|           25374|        25|          3|   [25374.0,25.0]| 1.430376137838271|\n",
            "|150795|          106339|        11|          1|  [106339.0,11.0]|1.6093435161552652|\n",
            "|150795|          106339|        16|          1|  [106339.0,16.0]|1.6858227318189551|\n",
            "|150795|          106339|        16|          1|  [106339.0,16.0]|1.6858227318189551|\n",
            "|150795|          106339|        23|          2|  [106339.0,23.0]| 1.740921498466136|\n",
            "|150795|          106339|        34|          1|  [106339.0,34.0]| 1.894499407581598|\n",
            "|150795|          106339|        39|          1|  [106339.0,39.0]|2.0965604992971856|\n",
            "|150795|          106339|        45|          1|  [106339.0,45.0]|2.1383669419123867|\n",
            "|150796|           11720|         1|          1|    [11720.0,1.0]|1.2386166921021302|\n",
            "|150796|           11720|         4|          1|    [11720.0,4.0]|1.2386166921021302|\n",
            "|150796|           11720|         7|          1|    [11720.0,7.0]| 1.305154064322006|\n",
            "|150796|           11720|         9|          1|    [11720.0,9.0]|1.3401343908698273|\n",
            "|150796|           11720|        13|          1|   [11720.0,13.0]|1.3637440810308696|\n",
            "|150797|           18769|         6|          1|    [18769.0,6.0]|1.2386166921021302|\n",
            "|150800|           63447|         2|          2|    [63447.0,2.0]|1.3932305038810795|\n",
            "|150800|           63447|         2|          2|    [63447.0,2.0]|1.3932305038810795|\n",
            "|150800|           63447|         4|          1|    [63447.0,4.0]|1.3932305038810795|\n",
            "|150800|           63447|         8|          1|    [63447.0,8.0]|1.4597678761009554|\n",
            "|150800|           63447|         9|          1|    [63447.0,9.0]|1.4947482026487766|\n",
            "|150800|           63447|        10|          2|   [63447.0,10.0]|1.4947482026487766|\n",
            "|150800|           63447|        12|          1|   [63447.0,12.0]|1.5183578928098191|\n",
            "|150800|           63447|        75|          3|   [63447.0,75.0]|2.2674281579595275|\n",
            "|150803|           30959|         1|          1|    [30959.0,1.0]|1.2386166921021302|\n",
            "|150803|           30959|         5|          1|    [30959.0,5.0]|1.2386166921021302|\n",
            "|150803|           30959|         6|          2|    [30959.0,6.0]|1.2386166921021302|\n",
            "|150803|           30959|         9|          1|    [30959.0,9.0]|1.3401343908698273|\n",
            "|150803|           30959|        16|          1|   [30959.0,16.0]| 1.375927336889111|\n",
            "|150808|           39602|        13|          1|   [39602.0,13.0]|1.3742462289878092|\n",
            "|150808|           39602|       149|          1|  [39602.0,149.0]|2.7964604871739223|\n",
            "|150810|          113659|         1|          1|   [113659.0,1.0]|1.5887869502456033|\n",
            "|150810|          113659|         1|          2|   [113659.0,1.0]|1.5887869502456033|\n",
            "|150810|          113659|         3|          1|   [113659.0,3.0]|1.5887869502456033|\n",
            "|150810|          113659|         6|          1|   [113659.0,6.0]|1.5887869502456033|\n",
            "|150810|          113659|         8|          1|   [113659.0,8.0]| 1.617681968732596|\n",
            "|150810|          113659|        10|          4|  [113659.0,10.0]| 1.652662295280417|\n",
            "|150810|          113659|        11|          2|  [113659.0,11.0]| 1.652662295280417|\n",
            "|150810|          113659|        17|          1|  [113659.0,17.0]|1.6971845785701962|\n",
            "|150810|          113659|        17|          2|  [113659.0,17.0]|1.6971845785701962|\n",
            "|150810|          113659|        25|          1|  [113659.0,25.0]|1.7840873950763672|\n",
            "|150810|          113659|        25|          2|  [113659.0,25.0]|1.7840873950763672|\n",
            "|150810|          113659|        27|          2|  [113659.0,27.0]|1.7840873950763672|\n",
            "|150810|          113659|        27|          5|  [113659.0,27.0]|1.7840873950763672|\n",
            "|150810|          113659|        30|         15|  [113659.0,30.0]|1.7840873950763672|\n",
            "|150810|          113659|        34|          1|  [113659.0,34.0]|1.9334917308980988|\n",
            "|150810|          113659|        44|          2|  [113659.0,44.0]| 2.177359265228888|\n",
            "|150812|           59210|         2|          7|    [59210.0,2.0]|1.3932305038810795|\n",
            "|150812|           59210|        12|          1|   [59210.0,12.0]|1.5183578928098191|\n",
            "|150812|           59210|        20|          1|   [59210.0,20.0]|1.5305411486680602|\n",
            "|150815|           45476|         8|          2|    [45476.0,8.0]|1.3919163291044332|\n",
            "|150815|           45476|        11|          1|   [45476.0,11.0]|1.4390721532485706|\n",
            "|150820|           53686|         1|          1|    [53686.0,1.0]|1.3932305038810795|\n",
            "|150820|           53686|         2|          1|    [53686.0,2.0]|1.3932305038810795|\n",
            "|150820|           53686|         2|          1|    [53686.0,2.0]|1.3932305038810795|\n",
            "|150820|           53686|         2|          2|    [53686.0,2.0]|1.3932305038810795|\n",
            "|150820|           53686|         3|          1|    [53686.0,3.0]|1.3932305038810795|\n",
            "|150830|           61403|        21|          2|   [61403.0,21.0]|1.5375345384264916|\n",
            "|150830|           61403|        23|          5|   [61403.0,23.0]|1.5375345384264916|\n",
            "|150830|           61403|        38|          1|   [61403.0,38.0]| 1.911286916394949|\n",
            "|150830|           61403|        61|          3|   [61403.0,61.0]|2.1109870194938356|\n",
            "|150840|           44751|         2|          1|    [44751.0,2.0]|1.2491188400590698|\n",
            "|150840|           44751|        41|          3|   [44751.0,41.0]|1.8397936769246441|\n",
            "|160005|            5397|         9|          1|     [5397.0,9.0]| 1.436997204277212|\n",
            "|160010|            9109|         4|          1|     [9109.0,4.0]|1.2386166921021302|\n",
            "|160015|           16502|        42|          1|   [16502.0,42.0]|1.8292915289677047|\n",
            "|160020|           11117|        40|          1|   [11117.0,40.0]|1.8292915289677047|\n",
            "|160027|           50410|         6|          1|    [50410.0,6.0]|1.3253789568845573|\n",
            "|160027|           50410|        10|          1|   [50410.0,10.0]|1.4268966556522544|\n",
            "|160027|           50410|        12|          2|   [50410.0,12.0]| 1.450506345813297|\n",
            "|160027|           50410|        26|          1|   [50410.0,26.0]|1.5014870412889598|\n",
            "|160027|           50410|        30|          1|   [50410.0,30.0]| 1.528173354902094|\n",
            "|160027|           50410|        71|          1|   [50410.0,71.0]| 2.220949130072449|\n",
            "|160027|           50410|        72|          1|   [50410.0,72.0]| 2.220949130072449|\n",
            "|160027|           50410|        85|          1|   [50410.0,85.0]| 2.220949130072449|\n",
            "|160027|           50410|       112|          1|  [50410.0,112.0]|2.6128754047115708|\n",
            "+------+----------------+----------+-----------+-----------------+------------------+\n",
            "only showing top 1000 rows\n",
            "\n"
          ]
        }
      ]
    },
    {
      "cell_type": "markdown",
      "source": [
        "- Avaliação do modelo."
      ],
      "metadata": {
        "id": "8aLw_l8GIh9Y"
      }
    },
    {
      "cell_type": "code",
      "execution_count": 86,
      "metadata": {
        "colab": {
          "base_uri": "https://localhost:8080/"
        },
        "id": "kgnCJft920Mz",
        "outputId": "a8d1de30-a162-4afe-abc3-e5004d403430"
      },
      "outputs": [
        {
          "output_type": "stream",
          "name": "stdout",
          "text": [
            "9.429460089716285\n"
          ]
        }
      ],
      "source": [
        "rmse2 = avaliar.evaluate(previsao2)\n",
        "\n",
        "print(rmse2)"
      ]
    },
    {
      "cell_type": "code",
      "execution_count": 87,
      "metadata": {
        "colab": {
          "base_uri": "https://localhost:8080/"
        },
        "id": "P4iSLvx43G2J",
        "outputId": "84001b8b-4e69-45ab-ec3f-45c0dec93ee7"
      },
      "outputs": [
        {
          "output_type": "stream",
          "name": "stdout",
          "text": [
            "8.27937056372976\n"
          ]
        }
      ],
      "source": [
        "print(rmse)"
      ]
    },
    {
      "cell_type": "markdown",
      "metadata": {
        "id": "ju1bnUNYbdVr"
      },
      "source": [
        "Observa-se que o melhor modelo a ser utilizado é o modelo de regressão linear, levando em consideração que quanto mais o RMSE for próximo de zero, melhor a performance do modelo."
      ]
    }
  ],
  "metadata": {
    "colab": {
      "collapsed_sections": [],
      "provenance": []
    },
    "kernelspec": {
      "display_name": "Python 3",
      "name": "python3"
    },
    "language_info": {
      "name": "python"
    }
  },
  "nbformat": 4,
  "nbformat_minor": 0
}