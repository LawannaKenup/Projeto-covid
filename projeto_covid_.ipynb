{
  "cells": [
    {
      "cell_type": "markdown",
      "metadata": {
        "id": "jL11E_sf0pPq"
      },
      "source": [
        "#### Configurando o ambiente."
      ]
    },
    {
      "cell_type": "code",
      "execution_count": 1,
      "metadata": {
        "colab": {
          "base_uri": "https://localhost:8080/"
        },
        "id": "tQarGdLGjquL",
        "outputId": "138cdbde-a748-49d6-e310-aa3f49280622"
      },
      "outputs": [
        {
          "output_type": "stream",
          "name": "stdout",
          "text": [
            "Looking in indexes: https://pypi.org/simple, https://us-python.pkg.dev/colab-wheels/public/simple/\n",
            "Requirement already satisfied: pyspark in /usr/local/lib/python3.7/dist-packages (3.3.0)\n",
            "Requirement already satisfied: py4j==0.10.9.5 in /usr/local/lib/python3.7/dist-packages (from pyspark) (0.10.9.5)\n",
            "\n",
            "Usage:   \n",
            "  pip3 install [options] <requirement specifier> [package-index-options] ...\n",
            "  pip3 install [options] -r <requirements file> [package-index-options] ...\n",
            "  pip3 install [options] [-e] <vcs project url> ...\n",
            "  pip3 install [options] [-e] <local project path> ...\n",
            "  pip3 install [options] <archive url/path> ...\n",
            "\n",
            "no such option: -u\n"
          ]
        }
      ],
      "source": [
        "!pip install pyspark\n",
        "!pip install -u plotly"
      ]
    },
    {
      "cell_type": "code",
      "execution_count": 2,
      "metadata": {
        "id": "OypgrK_UYcPQ"
      },
      "outputs": [],
      "source": [
        "import pandas as pd\n",
        "import numpy as np\n",
        "import plotly.express as px\n",
        "import plotly.figure_factory as ff\n"
      ]
    },
    {
      "cell_type": "code",
      "execution_count": 3,
      "metadata": {
        "id": "zWiil32JpJrQ"
      },
      "outputs": [],
      "source": [
        "from pyspark.sql import SparkSession\n",
        "\n",
        "spark = SparkSession \\\n",
        "        .builder \\\n",
        "        .appName(\"Python Spark create RDD example\") \\\n",
        "        .config(\"spark.some.config.option\", \"some-value\") \\\n",
        "        .getOrCreate"
      ]
    },
    {
      "cell_type": "code",
      "execution_count": 4,
      "metadata": {
        "colab": {
          "base_uri": "https://localhost:8080/",
          "height": 17
        },
        "id": "L4ar6NX6pPfm",
        "outputId": "52197803-a565-410a-ac94-967173413b89"
      },
      "outputs": [
        {
          "output_type": "display_data",
          "data": {
            "text/plain": [
              "<IPython.core.display.HTML object>"
            ],
            "text/html": [
              "<style>pre { white-space: pre !important; }</style>"
            ]
          },
          "metadata": {}
        }
      ],
      "source": [
        "from pyspark.sql.types import *\n",
        "from pyspark.sql.functions import *\n",
        "from pyspark.sql import functions as f\n",
        "from IPython.core.display import HTML\n",
        "from pyspark.sql.functions import col, asc, desc, expr\n",
        "from pyspark.sql.functions import regexp_replace\n",
        "\n",
        "\n",
        "# melhor visualização do dataframe\n",
        "display(HTML(\"<style>pre { white-space: pre !important; }</style>\"))\n",
        "\n",
        "# Session builder\n",
        "spark = SparkSession.builder.appName('sparkdf').getOrCreate()"
      ]
    },
    {
      "cell_type": "markdown",
      "metadata": {
        "id": "6s9pG9QH0WQ2"
      },
      "source": [
        "#### Importação das tabelas de registro de Covid no Brasil."
      ]
    },
    {
      "cell_type": "code",
      "execution_count": 5,
      "metadata": {
        "colab": {
          "base_uri": "https://localhost:8080/"
        },
        "id": "pv0qsL4MVoEV",
        "outputId": "d58ab1ac-f76f-4442-e600-7d9f912412a6"
      },
      "outputs": [
        {
          "output_type": "stream",
          "name": "stdout",
          "text": [
            "Drive already mounted at /content/gdrive; to attempt to forcibly remount, call drive.mount(\"/content/gdrive\", force_remount=True).\n"
          ]
        }
      ],
      "source": [
        "from google.colab import drive\n",
        "\n",
        "drive.mount('/content/gdrive')\n",
        "caminho_local = 'gdrive/MyDrive/Pyspark/Projeto_covid'"
      ]
    },
    {
      "cell_type": "code",
      "execution_count": 6,
      "metadata": {
        "id": "8BYpgpSXpeZi"
      },
      "outputs": [],
      "source": [
        "covid_2020_1 = spark.read.format('csv')\\\n",
        "                         .option(\"sep\",\";\",)\\\n",
        "                         .options(header='true',\\\n",
        "                                  inferschema='true')\\\n",
        "                    .load(f'{caminho_local}/HIST_PAINEL_COVIDBR_2020_Parte1_09ago2022.csv',header=True)"
      ]
    },
    {
      "cell_type": "code",
      "execution_count": 7,
      "metadata": {
        "id": "yjMu2_yGp7Hr"
      },
      "outputs": [],
      "source": [
        "covid_2020_2 = spark.read.format('csv')\\\n",
        "                         .option(\"sep\",\";\",)\\\n",
        "                         .options(header='true',\\\n",
        "                                  inferschema='true')\\\n",
        "                    .load(f'{caminho_local}/HIST_PAINEL_COVIDBR_2020_Parte2_09ago2022.csv',header=True)"
      ]
    },
    {
      "cell_type": "code",
      "execution_count": 8,
      "metadata": {
        "id": "fpJti3MrqCmQ"
      },
      "outputs": [],
      "source": [
        "covid_2021_1 = spark.read.format('csv')\\\n",
        "                         .option(\"sep\",\";\",)\\\n",
        "                         .options(header='true',\\\n",
        "                                  inferschema='true')\\\n",
        "                    .load(f'{caminho_local}/HIST_PAINEL_COVIDBR_2021_Parte1_09ago2022.csv',header=True)"
      ]
    },
    {
      "cell_type": "code",
      "execution_count": 9,
      "metadata": {
        "id": "LBI46iOZqI0_"
      },
      "outputs": [],
      "source": [
        "covid_2021_2 = spark.read.format('csv')\\\n",
        "                         .option(\"sep\",\";\",)\\\n",
        "                         .options(header='true',\\\n",
        "                                  inferschema='true')\\\n",
        "                    .load(f'{caminho_local}/HIST_PAINEL_COVIDBR_2021_Parte2_09ago2022.csv',header=True)"
      ]
    },
    {
      "cell_type": "code",
      "execution_count": 10,
      "metadata": {
        "id": "HMbYGnOoqREC"
      },
      "outputs": [],
      "source": [
        "covid_2022_1 = spark.read.format('csv')\\\n",
        "                         .option(\"sep\",\";\",)\\\n",
        "                         .options(header='true',\\\n",
        "                                  inferschema='true')\\\n",
        "                    .load(f'{caminho_local}/HIST_PAINEL_COVIDBR_2022_Parte1_09ago2022.csv',header=True)"
      ]
    },
    {
      "cell_type": "code",
      "execution_count": 11,
      "metadata": {
        "id": "nUSOhG2lqXd9"
      },
      "outputs": [],
      "source": [
        "covid_2022_2 = spark.read.format('csv')\\\n",
        "                         .option(\"sep\",\";\",)\\\n",
        "                         .options(header='true',\\\n",
        "                                  inferschema='true')\\\n",
        "                    .load(f'{caminho_local}/HIST_PAINEL_COVIDBR_2022_Parte2_09ago2022.csv',header=True)\n"
      ]
    },
    {
      "cell_type": "markdown",
      "metadata": {
        "id": "b8Ta02s600H3"
      },
      "source": [
        "#### Foi feita a união das tabelas para melhor visualização."
      ]
    },
    {
      "cell_type": "code",
      "execution_count": 12,
      "metadata": {
        "colab": {
          "base_uri": "https://localhost:8080/"
        },
        "id": "v3LG3V7wqd6N",
        "outputId": "01b3fdf2-614e-4a48-e418-beaa1c91a61d"
      },
      "outputs": [
        {
          "output_type": "stream",
          "name": "stdout",
          "text": [
            "+------+------+---------+-----+------+--------------+---------------+-------------------+---------+----------------+--------------+----------+---------------+-----------+----------------+---------------------+----------------------+\n",
            "|regiao|estado|municipio|coduf|codmun|codRegiaoSaude|nomeRegiaoSaude|               data|semanaEpi|populacaoTCU2019|casosAcumulado|casosNovos|obitosAcumulado|obitosNovos|Recuperadosnovos|emAcompanhamentoNovos|interior/metropolitana|\n",
            "+------+------+---------+-----+------+--------------+---------------+-------------------+---------+----------------+--------------+----------+---------------+-----------+----------------+---------------------+----------------------+\n",
            "|Brasil|  null|     null|   76|  null|          null|           null|2020-02-25 00:00:00|        9|       210147125|           0.0|         0|              0|          0|               0|                    0|                  null|\n",
            "|Brasil|  null|     null|   76|  null|          null|           null|2020-02-26 00:00:00|        9|       210147125|           1.0|         1|              0|          0|               1|                    0|                  null|\n",
            "|Brasil|  null|     null|   76|  null|          null|           null|2020-02-27 00:00:00|        9|       210147125|           1.0|         0|              0|          0|               1|                    0|                  null|\n",
            "|Brasil|  null|     null|   76|  null|          null|           null|2020-02-28 00:00:00|        9|       210147125|           1.0|         0|              0|          0|               0|                    1|                  null|\n",
            "|Brasil|  null|     null|   76|  null|          null|           null|2020-02-29 00:00:00|        9|       210147125|           2.0|         1|              0|          0|               1|                    1|                  null|\n",
            "|Brasil|  null|     null|   76|  null|          null|           null|2020-03-01 00:00:00|       10|       210147125|           2.0|         0|              0|          0|               1|                    1|                  null|\n",
            "|Brasil|  null|     null|   76|  null|          null|           null|2020-03-02 00:00:00|       10|       210147125|           2.0|         0|              0|          0|               0|                    2|                  null|\n",
            "|Brasil|  null|     null|   76|  null|          null|           null|2020-03-03 00:00:00|       10|       210147125|           2.0|         0|              0|          0|               0|                    2|                  null|\n",
            "|Brasil|  null|     null|   76|  null|          null|           null|2020-03-04 00:00:00|       10|       210147125|           3.0|         1|              0|          0|               1|                    2|                  null|\n",
            "|Brasil|  null|     null|   76|  null|          null|           null|2020-03-05 00:00:00|       10|       210147125|           7.0|         4|              0|          0|               4|                    3|                  null|\n",
            "|Brasil|  null|     null|   76|  null|          null|           null|2020-03-06 00:00:00|       10|       210147125|          13.0|         6|              0|          0|               6|                    7|                  null|\n",
            "|Brasil|  null|     null|   76|  null|          null|           null|2020-03-07 00:00:00|       10|       210147125|          19.0|         6|              0|          0|               7|                   12|                  null|\n",
            "|Brasil|  null|     null|   76|  null|          null|           null|2020-03-08 00:00:00|       11|       210147125|          25.0|         6|              0|          0|               6|                   19|                  null|\n",
            "|Brasil|  null|     null|   76|  null|          null|           null|2020-03-09 00:00:00|       11|       210147125|          25.0|         0|              0|          0|               1|                   24|                  null|\n",
            "|Brasil|  null|     null|   76|  null|          null|           null|2020-03-10 00:00:00|       11|       210147125|          34.0|         9|              0|          0|               6|                   28|                  null|\n",
            "|Brasil|  null|     null|   76|  null|          null|           null|2020-03-11 00:00:00|       11|       210147125|          52.0|        18|              0|          0|              16|                   36|                  null|\n",
            "|Brasil|  null|     null|   76|  null|          null|           null|2020-03-12 00:00:00|       11|       210147125|          77.0|        25|              0|          0|              23|                   54|                  null|\n",
            "|Brasil|  null|     null|   76|  null|          null|           null|2020-03-13 00:00:00|       11|       210147125|          98.0|        21|              0|          0|              24|                   74|                  null|\n",
            "|Brasil|  null|     null|   76|  null|          null|           null|2020-03-14 00:00:00|       11|       210147125|         121.0|        23|              0|          0|              22|                   99|                  null|\n",
            "|Brasil|  null|     null|   76|  null|          null|           null|2020-03-15 00:00:00|       12|       210147125|         200.0|        79|              0|          0|              62|                  138|                  null|\n",
            "+------+------+---------+-----+------+--------------+---------------+-------------------+---------+----------------+--------------+----------+---------------+-----------+----------------+---------------------+----------------------+\n",
            "only showing top 20 rows\n",
            "\n"
          ]
        }
      ],
      "source": [
        "covid = covid_2020_1.union(covid_2020_1)\\\n",
        "                    .union(covid_2020_2)\\\n",
        "                    .union(covid_2021_1)\\\n",
        "                    .union(covid_2021_2)\\\n",
        "                    .union(covid_2022_1)\\\n",
        "                    .union(covid_2022_2)\n",
        "\n",
        "covid.show()"
      ]
    },
    {
      "cell_type": "markdown",
      "metadata": {
        "id": "hHBhUtPq0_i8"
      },
      "source": [
        "#### Alteração do formato da coluna data."
      ]
    },
    {
      "cell_type": "code",
      "execution_count": 13,
      "metadata": {
        "colab": {
          "base_uri": "https://localhost:8080/"
        },
        "id": "2d1tmdX71zp9",
        "outputId": "857103bb-f394-4d33-e985-e66c3bc3f4cd"
      },
      "outputs": [
        {
          "output_type": "stream",
          "name": "stdout",
          "text": [
            "+------+------+---------+-----+------+--------------+---------------+----------+---------+----------------+--------------+----------+---------------+-----------+----------------+---------------------+----------------------+\n",
            "|regiao|estado|municipio|coduf|codmun|codRegiaoSaude|nomeRegiaoSaude|      data|semanaEpi|populacaoTCU2019|casosAcumulado|casosNovos|obitosAcumulado|obitosNovos|Recuperadosnovos|emAcompanhamentoNovos|interior/metropolitana|\n",
            "+------+------+---------+-----+------+--------------+---------------+----------+---------+----------------+--------------+----------+---------------+-----------+----------------+---------------------+----------------------+\n",
            "|Brasil|  null|     null|   76|  null|          null|           null|2020-02-25|        9|       210147125|           0.0|         0|              0|          0|               0|                    0|                  null|\n",
            "|Brasil|  null|     null|   76|  null|          null|           null|2020-02-26|        9|       210147125|           1.0|         1|              0|          0|               1|                    0|                  null|\n",
            "|Brasil|  null|     null|   76|  null|          null|           null|2020-02-27|        9|       210147125|           1.0|         0|              0|          0|               1|                    0|                  null|\n",
            "|Brasil|  null|     null|   76|  null|          null|           null|2020-02-28|        9|       210147125|           1.0|         0|              0|          0|               0|                    1|                  null|\n",
            "|Brasil|  null|     null|   76|  null|          null|           null|2020-02-29|        9|       210147125|           2.0|         1|              0|          0|               1|                    1|                  null|\n",
            "|Brasil|  null|     null|   76|  null|          null|           null|2020-03-01|       10|       210147125|           2.0|         0|              0|          0|               1|                    1|                  null|\n",
            "|Brasil|  null|     null|   76|  null|          null|           null|2020-03-02|       10|       210147125|           2.0|         0|              0|          0|               0|                    2|                  null|\n",
            "|Brasil|  null|     null|   76|  null|          null|           null|2020-03-03|       10|       210147125|           2.0|         0|              0|          0|               0|                    2|                  null|\n",
            "|Brasil|  null|     null|   76|  null|          null|           null|2020-03-04|       10|       210147125|           3.0|         1|              0|          0|               1|                    2|                  null|\n",
            "|Brasil|  null|     null|   76|  null|          null|           null|2020-03-05|       10|       210147125|           7.0|         4|              0|          0|               4|                    3|                  null|\n",
            "|Brasil|  null|     null|   76|  null|          null|           null|2020-03-06|       10|       210147125|          13.0|         6|              0|          0|               6|                    7|                  null|\n",
            "|Brasil|  null|     null|   76|  null|          null|           null|2020-03-07|       10|       210147125|          19.0|         6|              0|          0|               7|                   12|                  null|\n",
            "|Brasil|  null|     null|   76|  null|          null|           null|2020-03-08|       11|       210147125|          25.0|         6|              0|          0|               6|                   19|                  null|\n",
            "|Brasil|  null|     null|   76|  null|          null|           null|2020-03-09|       11|       210147125|          25.0|         0|              0|          0|               1|                   24|                  null|\n",
            "|Brasil|  null|     null|   76|  null|          null|           null|2020-03-10|       11|       210147125|          34.0|         9|              0|          0|               6|                   28|                  null|\n",
            "|Brasil|  null|     null|   76|  null|          null|           null|2020-03-11|       11|       210147125|          52.0|        18|              0|          0|              16|                   36|                  null|\n",
            "|Brasil|  null|     null|   76|  null|          null|           null|2020-03-12|       11|       210147125|          77.0|        25|              0|          0|              23|                   54|                  null|\n",
            "|Brasil|  null|     null|   76|  null|          null|           null|2020-03-13|       11|       210147125|          98.0|        21|              0|          0|              24|                   74|                  null|\n",
            "|Brasil|  null|     null|   76|  null|          null|           null|2020-03-14|       11|       210147125|         121.0|        23|              0|          0|              22|                   99|                  null|\n",
            "|Brasil|  null|     null|   76|  null|          null|           null|2020-03-15|       12|       210147125|         200.0|        79|              0|          0|              62|                  138|                  null|\n",
            "+------+------+---------+-----+------+--------------+---------------+----------+---------+----------------+--------------+----------+---------------+-----------+----------------+---------------------+----------------------+\n",
            "only showing top 20 rows\n",
            "\n"
          ]
        }
      ],
      "source": [
        "covid = covid.withColumn(\"data\",\\\n",
        "                          f.date_format(\"data\", \"yyyy-MM-dd\"))\n",
        "covid.show()"
      ]
    },
    {
      "cell_type": "code",
      "execution_count": 14,
      "metadata": {
        "colab": {
          "base_uri": "https://localhost:8080/"
        },
        "id": "VFvAEMEV4aG7",
        "outputId": "6ba1271a-243b-4fb7-dfb3-5b108924ad99"
      },
      "outputs": [
        {
          "output_type": "stream",
          "name": "stdout",
          "text": [
            "root\n",
            " |-- regiao: string (nullable = true)\n",
            " |-- estado: string (nullable = true)\n",
            " |-- municipio: string (nullable = true)\n",
            " |-- coduf: integer (nullable = true)\n",
            " |-- codmun: integer (nullable = true)\n",
            " |-- codRegiaoSaude: integer (nullable = true)\n",
            " |-- nomeRegiaoSaude: string (nullable = true)\n",
            " |-- data: string (nullable = true)\n",
            " |-- semanaEpi: integer (nullable = true)\n",
            " |-- populacaoTCU2019: integer (nullable = true)\n",
            " |-- casosAcumulado: double (nullable = true)\n",
            " |-- casosNovos: integer (nullable = true)\n",
            " |-- obitosAcumulado: integer (nullable = true)\n",
            " |-- obitosNovos: integer (nullable = true)\n",
            " |-- Recuperadosnovos: integer (nullable = true)\n",
            " |-- emAcompanhamentoNovos: integer (nullable = true)\n",
            " |-- interior/metropolitana: integer (nullable = true)\n",
            "\n"
          ]
        }
      ],
      "source": [
        "covid.printSchema()"
      ]
    },
    {
      "cell_type": "markdown",
      "metadata": {
        "id": "HktUvsv9yKqL"
      },
      "source": [
        "#### Transfotmando a coluna data de string para date."
      ]
    },
    {
      "cell_type": "code",
      "execution_count": 15,
      "metadata": {
        "colab": {
          "base_uri": "https://localhost:8080/"
        },
        "id": "7rJtUyHs5Lmh",
        "outputId": "0f5607d5-2280-457a-935b-f952faeda201"
      },
      "outputs": [
        {
          "output_type": "stream",
          "name": "stdout",
          "text": [
            "root\n",
            " |-- regiao: string (nullable = true)\n",
            " |-- estado: string (nullable = true)\n",
            " |-- municipio: string (nullable = true)\n",
            " |-- coduf: integer (nullable = true)\n",
            " |-- codmun: integer (nullable = true)\n",
            " |-- codRegiaoSaude: integer (nullable = true)\n",
            " |-- nomeRegiaoSaude: string (nullable = true)\n",
            " |-- data: date (nullable = true)\n",
            " |-- semanaEpi: integer (nullable = true)\n",
            " |-- populacaoTCU2019: integer (nullable = true)\n",
            " |-- casosAcumulado: double (nullable = true)\n",
            " |-- casosNovos: integer (nullable = true)\n",
            " |-- obitosAcumulado: integer (nullable = true)\n",
            " |-- obitosNovos: integer (nullable = true)\n",
            " |-- Recuperadosnovos: integer (nullable = true)\n",
            " |-- emAcompanhamentoNovos: integer (nullable = true)\n",
            " |-- interior/metropolitana: integer (nullable = true)\n",
            "\n"
          ]
        }
      ],
      "source": [
        "covid = covid.withColumn(\"data\", to_date(f.col(\"data\"), \"yyyy-MM-dd\"))\n",
        "\n",
        "covid.printSchema()"
      ]
    },
    {
      "cell_type": "markdown",
      "metadata": {
        "id": "RTXEsGQTz9Ay"
      },
      "source": [
        "#### Contagem da quantidade de registros na tabela."
      ]
    },
    {
      "cell_type": "code",
      "execution_count": 16,
      "metadata": {
        "colab": {
          "base_uri": "https://localhost:8080/"
        },
        "id": "LCD26Dj621Bx",
        "outputId": "7b56199f-0358-4029-afe4-5902baf1946d"
      },
      "outputs": [
        {
          "output_type": "execute_result",
          "data": {
            "text/plain": [
              "5581403"
            ]
          },
          "metadata": {},
          "execution_count": 16
        }
      ],
      "source": [
        "covid.count()"
      ]
    },
    {
      "cell_type": "code",
      "execution_count": 17,
      "metadata": {
        "colab": {
          "base_uri": "https://localhost:8080/"
        },
        "id": "LkqHyzeXJ-gG",
        "outputId": "fc3a0a69-01b2-4c1f-dc90-bbdac07f8fbc"
      },
      "outputs": [
        {
          "output_type": "stream",
          "name": "stdout",
          "text": [
            "+----------------------+\n",
            "|interior/metropolitana|\n",
            "+----------------------+\n",
            "|                  null|\n",
            "|                     1|\n",
            "|                     0|\n",
            "+----------------------+\n",
            "\n"
          ]
        }
      ],
      "source": [
        "covid.select(\"interior/metropolitana\").distinct().show()"
      ]
    },
    {
      "cell_type": "markdown",
      "metadata": {
        "id": "0Osg-UXVrd7Y"
      },
      "source": [
        "#### Devido a coluna interior/metropolitana não evidenciar quando a localidade se refere ao interior ou a área metropolitana, a mesma foi removida\n"
      ]
    },
    {
      "cell_type": "code",
      "execution_count": 18,
      "metadata": {
        "id": "9OBjdFSMrPgS"
      },
      "outputs": [],
      "source": [
        "covid = covid.drop(\"interior/metropolitana\")"
      ]
    },
    {
      "cell_type": "markdown",
      "metadata": {
        "id": "rTAKxXDttkjx"
      },
      "source": [
        "####Foi separado o dataframe do Brasil para verificar os casos e obitos novos referentes ao país, desconsiderando as regiões, estados e municipios."
      ]
    },
    {
      "cell_type": "code",
      "execution_count": 19,
      "metadata": {
        "colab": {
          "base_uri": "https://localhost:8080/"
        },
        "id": "OiDskJ56ap5e",
        "outputId": "f3249ee4-d69a-48fc-9a95-aca6e43bf0f0"
      },
      "outputs": [
        {
          "output_type": "stream",
          "name": "stdout",
          "text": [
            "+----------+------+----------+-----------+\n",
            "|      data|regiao|casosNovos|obitosNovos|\n",
            "+----------+------+----------+-----------+\n",
            "|2022-02-03|Brasil|    298408|       1041|\n",
            "|2022-01-28|Brasil|    269968|        799|\n",
            "|2022-01-27|Brasil|    228954|        672|\n",
            "|2022-01-26|Brasil|    224567|        570|\n",
            "|2022-01-19|Brasil|    204854|        338|\n",
            "|2022-02-05|Brasil|    197442|       1308|\n",
            "|2022-02-01|Brasil|    193465|        929|\n",
            "|2022-02-04|Brasil|    184311|        493|\n",
            "|2022-01-25|Brasil|    183722|        487|\n",
            "|2022-01-29|Brasil|    179816|        640|\n",
            "|2022-02-09|Brasil|    178814|       1264|\n",
            "|2022-02-08|Brasil|    177027|       1189|\n",
            "|2022-02-02|Brasil|    172903|        893|\n",
            "|2022-01-20|Brasil|    168495|        350|\n",
            "|2022-01-21|Brasil|    166539|        358|\n",
            "|2022-02-11|Brasil|    166009|       1135|\n",
            "|2022-02-10|Brasil|    164066|        943|\n",
            "|2022-01-22|Brasil|    157393|        238|\n",
            "|2021-09-18|Brasil|    150106|        935|\n",
            "|2022-02-16|Brasil|    147734|       1085|\n",
            "+----------+------+----------+-----------+\n",
            "only showing top 20 rows\n",
            "\n"
          ]
        }
      ],
      "source": [
        "brasil = covid.select(\"data\", \"regiao\", \"casosNovos\",\"obitosNovos\")\\\n",
        "              .filter(f.col(\"regiao\") == \"Brasil\")\\\n",
        "              .sort(col(\"casosNovos\").desc(), col(\"obitosNovos\").desc())\n",
        "\n",
        "brasil.show()"
      ]
    },
    {
      "cell_type": "markdown",
      "metadata": {
        "id": "2x4c-6xIuEk0"
      },
      "source": [
        "####Foi separado o dataframe das Regiões para verificar os casos e obitos novos referentes as regiões, desconsiderando o país , estados e municipios."
      ]
    },
    {
      "cell_type": "code",
      "execution_count": 20,
      "metadata": {
        "colab": {
          "base_uri": "https://localhost:8080/"
        },
        "id": "dXDfhPWCotI6",
        "outputId": "3039dfa2-4d06-4aa2-f7f3-f1f4144806c2"
      },
      "outputs": [
        {
          "output_type": "stream",
          "name": "stdout",
          "text": [
            "+--------+----------+-----------+\n",
            "|  regiao|casosNovos|obitosNovos|\n",
            "+--------+----------+-----------+\n",
            "| Sudeste|    105700|        371|\n",
            "|   Norte|     74352|        727|\n",
            "|   Norte|     73235|        719|\n",
            "| Sudeste|     69223|          7|\n",
            "|     Sul|     64036|         62|\n",
            "|Nordeste|     59430|          0|\n",
            "|Nordeste|     49132|          0|\n",
            "|     Sul|     47815|       1134|\n",
            "|     Sul|     47101|       1108|\n",
            "|     Sul|     45154|         90|\n",
            "|     Sul|     45020|        247|\n",
            "|     Sul|     43776|       1043|\n",
            "|     Sul|     43028|       1020|\n",
            "|Nordeste|     42771|          3|\n",
            "|Nordeste|     42547|         64|\n",
            "| Sudeste|     40753|         44|\n",
            "|Nordeste|     40290|         16|\n",
            "|     Sul|     40170|        177|\n",
            "| Sudeste|     39271|        109|\n",
            "| Sudeste|     37611|        349|\n",
            "+--------+----------+-----------+\n",
            "only showing top 20 rows\n",
            "\n"
          ]
        }
      ],
      "source": [
        "regiao = covid.select( \"regiao\", \"casosNovos\",\"obitosNovos\")\\\n",
        "              .filter(f.col(\"regiao\") != \"Brasil\")\n",
        "\n",
        "regiao.sort(col(\"casosNovos\").desc(), col(\"obitosNovos\").desc()).show()"
      ]
    },
    {
      "cell_type": "markdown",
      "metadata": {
        "id": "OoLXCzOouTll"
      },
      "source": [
        "Foi separado o dataframe dos Estados para verificar os casos e obitos novos referentes a cada estado, desconsiderando as país, regiões e municipios."
      ]
    },
    {
      "cell_type": "code",
      "execution_count": 21,
      "metadata": {
        "colab": {
          "base_uri": "https://localhost:8080/"
        },
        "id": "L00zI_W54Juz",
        "outputId": "fbbe792f-3418-4af8-af8c-e76228ec811c"
      },
      "outputs": [
        {
          "output_type": "stream",
          "name": "stdout",
          "text": [
            "+----------+-------+------+----------+-----------+\n",
            "|      data| regiao|estado|casosNovos|obitosNovos|\n",
            "+----------+-------+------+----------+-----------+\n",
            "|2021-04-06|Sudeste|    SP|     22794|       1389|\n",
            "|2021-04-08|Sudeste|    SP|     21004|       1299|\n",
            "|2021-04-13|Sudeste|    SP|     18397|       1282|\n",
            "|2021-03-30|Sudeste|    SP|     21360|       1209|\n",
            "|2021-03-26|Sudeste|    SP|     21489|       1193|\n",
            "|2021-03-31|Sudeste|    SP|     23169|       1160|\n",
            "|2021-04-20|Sudeste|    SP|     19060|       1122|\n",
            "|2021-04-14|Sudeste|    SP|     18790|       1095|\n",
            "|2021-04-01|Sudeste|    SP|     26567|       1082|\n",
            "|2021-04-15|Sudeste|    SP|     18067|       1060|\n",
            "|2021-03-27|Sudeste|    SP|     18124|       1051|\n",
            "|2021-04-27|Sudeste|    SP|     17992|       1044|\n",
            "|2021-03-23|Sudeste|    SP|     20942|       1021|\n",
            "|2021-04-09|Sudeste|    SP|     20701|       1008|\n",
            "|2021-04-21|Sudeste|    SP|     17123|        977|\n",
            "|2021-05-25|Sudeste|    SP|     17477|        898|\n",
            "|2021-06-15|Sudeste|    SP|     23227|        897|\n",
            "|2021-04-07|Sudeste|    SP|     21521|        889|\n",
            "|2021-04-29|Sudeste|    SP|     14920|        876|\n",
            "|2021-04-24|Sudeste|    SP|     16271|        875|\n",
            "+----------+-------+------+----------+-----------+\n",
            "only showing top 20 rows\n",
            "\n"
          ]
        }
      ],
      "source": [
        "estados = covid.select(\"data\", \"regiao\", \"estado\", \"casosNovos\", \"obitosNovos\")\\\n",
        "               .filter((f.col(\"regiao\") != \"Brasil\")&(f.col(\"municipio\").isNull()))\\\n",
        "               .orderBy(col(\"obitosNovos\").desc())\\\n",
        "   \n",
        "\n",
        "estados.show()"
      ]
    },
    {
      "cell_type": "markdown",
      "metadata": {
        "id": "0Ra9OpxgBikW"
      },
      "source": [
        "#### Foi realizada uma exploração dos dados para verificar se as colunas casosAcumulado e obitosAcumulado estão consistentes. Foi utilizado como amostra os estados de São Paulo e Rio de Janeiro."
      ]
    },
    {
      "cell_type": "code",
      "execution_count": 22,
      "metadata": {
        "colab": {
          "base_uri": "https://localhost:8080/"
        },
        "id": "UtORf4EZvAf4",
        "outputId": "83272d3f-d22b-487e-83e3-0cfd03b86ffe"
      },
      "outputs": [
        {
          "output_type": "stream",
          "name": "stdout",
          "text": [
            "+-------+------+-------------------+-----+------+--------------+--------------------+----------+---------+----------------+--------------+----------+---------------+-----------+----------------+---------------------+\n",
            "| regiao|estado|          municipio|coduf|codmun|codRegiaoSaude|     nomeRegiaoSaude|      data|semanaEpi|populacaoTCU2019|casosAcumulado|casosNovos|obitosAcumulado|obitosNovos|Recuperadosnovos|emAcompanhamentoNovos|\n",
            "+-------+------+-------------------+-----+------+--------------+--------------------+----------+---------+----------------+--------------+----------+---------------+-----------+----------------+---------------------+\n",
            "|Sudeste|    SP|    Álvares Machado|   35|350130|         35112|     ALTA SOROCABANA|2022-08-09|       32|           24915|        4110.0|         4|             88|          0|            null|                 null|\n",
            "|Sudeste|    SP|           Alumínio|   35|350115|         35163|            SOROCABA|2022-08-09|       32|           18628|        1705.0|         0|             56|          0|            null|                 null|\n",
            "|Sudeste|    SP|            Anhembi|   35|350230|         35063|         POLO CUESTA|2022-08-09|       32|            6724|         448.0|         0|             14|          0|            null|                 null|\n",
            "|Sudeste|    SP|           Angatuba|   35|350220|         35161|        ITAPETININGA|2022-08-09|       32|           25228|        4914.0|        19|             90|          0|            null|                 null|\n",
            "|Sudeste|    SP|             Amparo|   35|350190|         35074|  CIRCUITO DAS AGUAS|2022-08-09|       32|           72195|       10603.0|         1|            258|          0|            null|                 null|\n",
            "|Sudeste|    SP|  Alfredo Marcondes|   35|350080|         35112|     ALTA SOROCABANA|2022-08-09|       32|            4166|         305.0|         0|             19|          0|            null|                 null|\n",
            "|Sudeste|    SP|        Altinópolis|   35|350100|         35133| VALE DAS CACHOEIRAS|2022-08-09|       32|           16184|        1237.0|         0|             65|          0|            null|                 null|\n",
            "|Sudeste|    SP|             Agudos|   35|350070|         35062|               BAURU|2022-08-09|       32|           37214|        7203.0|         1|            121|          0|            null|                 null|\n",
            "|Sudeste|    SP|  Américo de Campos|   35|350180|         35157|         VOTUPORANGA|2022-08-09|       32|            5969|        1291.0|         0|             38|          0|            null|                 null|\n",
            "|Sudeste|    SP|               null|   35|  null|          null|                null|2022-08-09|       32|        45919049|     5955410.0|      5097|         173418|         72|            null|                 null|\n",
            "|Sudeste|    SP| Álvaro de Carvalho|   35|350140|         35093|             MARILIA|2022-08-09|       32|            5227|         342.0|         0|              9|          0|            null|                 null|\n",
            "|Sudeste|    SP|              Aguaí|   35|350030|         35142|         MANTIQUEIRA|2022-08-09|       32|           36305|        6775.0|        21|            136|          1|            null|                 null|\n",
            "|Sudeste|    SP|          Analândia|   35|350200|         35104|           RIO CLARO|2022-08-09|       32|            4995|         592.0|         2|              6|          0|            null|                 null|\n",
            "|Sudeste|    SP|          Andradina|   35|350210|         35022|     LAGOS DO DRS II|2022-08-09|       32|           57157|       13749.0|        15|            313|          0|            null|                 null|\n",
            "|Sudeste|    SP|   Águas de Lindóia|   35|350050|         35074|  CIRCUITO DAS AGUAS|2022-08-09|       32|           18705|        5163.0|         7|             64|          0|            null|                 null|\n",
            "|Sudeste|    SP|          Americana|   35|350160|         35072|REGIAO METROPOLIT...|2022-08-09|       32|          239597|       28153.0|        -1|            982|          1|            null|                 null|\n",
            "|Sudeste|    SP|         Araraquara|   35|350320|         35031|  CENTRAL DO DRS III|2022-08-09|       32|          236072|       60129.0|        66|            640|          0|            null|                 null|\n",
            "|Sudeste|    SP|Américo Brasiliense|   35|350170|         35031|  CENTRAL DO DRS III|2022-08-09|       32|           40504|        6679.0|         9|            108|          0|            null|                 null|\n",
            "|Sudeste|    SP|         Adamantina|   35|350010|         35091|          ADAMANTINA|2022-08-09|       32|           35068|        9807.0|        66|            180|          0|            null|                 null|\n",
            "|Sudeste|    SP|        Alvinlândia|   35|350150|         35093|             MARILIA|2022-08-09|       32|            3222|         151.0|         0|             10|          0|            null|                 null|\n",
            "+-------+------+-------------------+-----+------+--------------+--------------------+----------+---------+----------------+--------------+----------+---------------+-----------+----------------+---------------------+\n",
            "only showing top 20 rows\n",
            "\n"
          ]
        }
      ],
      "source": [
        "covid_sp = covid.filter(f.col(\"estado\") == \"SP\")\\\n",
        "                .orderBy(col(\"data\").desc())\n",
        "\n",
        "covid_sp.show()"
      ]
    },
    {
      "cell_type": "code",
      "execution_count": 23,
      "metadata": {
        "colab": {
          "base_uri": "https://localhost:8080/"
        },
        "id": "8xOTHSrGyKQ-",
        "outputId": "16f80306-b923-442d-e922-af65e6418b09"
      },
      "outputs": [
        {
          "output_type": "stream",
          "name": "stdout",
          "text": [
            "+-------+------+---------+-----+------+--------------+---------------+----------+---------+----------------+--------------+----------+---------------+-----------+----------------+---------------------+\n",
            "| regiao|estado|municipio|coduf|codmun|codRegiaoSaude|nomeRegiaoSaude|      data|semanaEpi|populacaoTCU2019|casosAcumulado|casosNovos|obitosAcumulado|obitosNovos|Recuperadosnovos|emAcompanhamentoNovos|\n",
            "+-------+------+---------+-----+------+--------------+---------------+----------+---------+----------------+--------------+----------+---------------+-----------+----------------+---------------------+\n",
            "|Sudeste|    SP|     null|   35|  null|          null|           null|2022-08-09|       32|        45919049|     5955410.0|      5097|         173418|         72|            null|                 null|\n",
            "|Sudeste|    SP|     null|   35|  null|          null|           null|2022-08-08|       32|        45919049|     5950313.0|       840|         173346|          8|            null|                 null|\n",
            "|Sudeste|    SP|     null|   35|  null|          null|           null|2022-08-07|       32|        45919049|     5949473.0|      1153|         173338|         22|            null|                 null|\n",
            "|Sudeste|    SP|     null|   35|  null|          null|           null|2022-08-06|       31|        45919049|     5948320.0|      4179|         173316|         79|            null|                 null|\n",
            "|Sudeste|    SP|     null|   35|  null|          null|           null|2022-08-05|       31|        45919049|     5944141.0|      5405|         173237|         77|            null|                 null|\n",
            "|Sudeste|    SP|     null|   35|  null|          null|           null|2022-08-04|       31|        45919049|     5938736.0|      5647|         173160|         58|            null|                 null|\n",
            "|Sudeste|    SP|     null|   35|  null|          null|           null|2022-08-03|       31|        45919049|     5933089.0|      5970|         173102|         66|            null|                 null|\n",
            "|Sudeste|    SP|     null|   35|  null|          null|           null|2022-08-02|       31|        45919049|     5927119.0|      6860|         173036|         89|            null|                 null|\n",
            "|Sudeste|    SP|     null|   35|  null|          null|           null|2022-08-01|       31|        45919049|     5920259.0|       813|         172947|          3|            null|                 null|\n",
            "|Sudeste|    SP|     null|   35|  null|          null|           null|2022-07-31|       31|        45919049|     5919446.0|      2178|         172944|          9|            null|                 null|\n",
            "|Sudeste|    SP|     null|   35|  null|          null|           null|2022-07-30|       30|        45919049|     5917268.0|      5716|         172935|         48|            null|                 null|\n",
            "|Sudeste|    SP|     null|   35|  null|          null|           null|2022-07-29|       30|        45919049|     5911552.0|      6707|         172887|         71|            null|                 null|\n",
            "|Sudeste|    SP|     null|   35|  null|          null|           null|2022-07-28|       30|        45919049|     5904845.0|      6986|         172816|         89|            null|                 null|\n",
            "|Sudeste|    SP|     null|   35|  null|          null|           null|2022-07-27|       30|        45919049|     5897859.0|      7096|         172727|         73|            null|                 null|\n",
            "|Sudeste|    SP|     null|   35|  null|          null|           null|2022-07-26|       30|        45919049|     5890763.0|      7152|         172654|         99|            null|                 null|\n",
            "|Sudeste|    SP|     null|   35|  null|          null|           null|2022-07-25|       30|        45919049|     5883611.0|       652|         172555|         11|            null|                 null|\n",
            "|Sudeste|    SP|     null|   35|  null|          null|           null|2022-07-24|       30|        45919049|     5882959.0|      2226|         172544|          8|            null|                 null|\n",
            "|Sudeste|    SP|     null|   35|  null|          null|           null|2022-07-23|       29|        45919049|     5880733.0|      6117|         172536|         77|            null|                 null|\n",
            "|Sudeste|    SP|     null|   35|  null|          null|           null|2022-07-22|       29|        45919049|     5874616.0|      6745|         172459|         95|            null|                 null|\n",
            "|Sudeste|    SP|     null|   35|  null|          null|           null|2022-07-21|       29|        45919049|     5867871.0|      6608|         172364|         87|            null|                 null|\n",
            "+-------+------+---------+-----+------+--------------+---------------+----------+---------+----------------+--------------+----------+---------------+-----------+----------------+---------------------+\n",
            "only showing top 20 rows\n",
            "\n"
          ]
        }
      ],
      "source": [
        "covid_sp2 = covid.filter((f.col(\"estado\") == \"SP\")&(f.col(\"codmun\").isNull()))\\\n",
        "                  .orderBy(col(\"data\").desc())\n",
        "\n",
        "covid_sp2.show()"
      ]
    },
    {
      "cell_type": "code",
      "execution_count": 24,
      "metadata": {
        "colab": {
          "base_uri": "https://localhost:8080/"
        },
        "id": "aFz06FCKwHUo",
        "outputId": "ea5420b8-769e-4345-de70-f167fdf99c0d"
      },
      "outputs": [
        {
          "output_type": "stream",
          "name": "stdout",
          "text": [
            "+-------+------+---------+-----+------+--------------+---------------+----------+---------+----------------+--------------+----------+---------------+-----------+----------------+---------------------+\n",
            "| regiao|estado|municipio|coduf|codmun|codRegiaoSaude|nomeRegiaoSaude|      data|semanaEpi|populacaoTCU2019|casosAcumulado|casosNovos|obitosAcumulado|obitosNovos|Recuperadosnovos|emAcompanhamentoNovos|\n",
            "+-------+------+---------+-----+------+--------------+---------------+----------+---------+----------------+--------------+----------+---------------+-----------+----------------+---------------------+\n",
            "|Sudeste|    RJ|     null|   33|  null|          null|           null|2022-08-09|       32|        17264943|     2462761.0|      2365|          75089|         76|            null|                 null|\n",
            "|Sudeste|    RJ|     null|   33|  null|          null|           null|2022-08-08|       32|        17264943|     2460396.0|      2753|          75013|         68|            null|                 null|\n",
            "|Sudeste|    RJ|     null|   33|  null|          null|           null|2022-08-07|       32|        17264943|     2457643.0|         0|          74945|          0|            null|                 null|\n",
            "|Sudeste|    RJ|     null|   33|  null|          null|           null|2022-08-06|       31|        17264943|     2457643.0|         0|          74945|          0|            null|                 null|\n",
            "|Sudeste|    RJ|     null|   33|  null|          null|           null|2022-08-05|       31|        17264943|     2457643.0|      2518|          74945|         21|            null|                 null|\n",
            "|Sudeste|    RJ|     null|   33|  null|          null|           null|2022-08-04|       31|        17264943|     2455125.0|      2850|          74924|         32|            null|                 null|\n",
            "|Sudeste|    RJ|     null|   33|  null|          null|           null|2022-08-03|       31|        17264943|     2452275.0|      2328|          74892|         25|            null|                 null|\n",
            "|Sudeste|    RJ|     null|   33|  null|          null|           null|2022-08-02|       31|        17264943|     2449947.0|      2119|          74867|         27|            null|                 null|\n",
            "|Sudeste|    RJ|     null|   33|  null|          null|           null|2022-08-01|       31|        17264943|     2447828.0|      2734|          74840|         74|            null|                 null|\n",
            "|Sudeste|    RJ|     null|   33|  null|          null|           null|2022-07-31|       31|        17264943|     2445094.0|         0|          74766|          0|            null|                 null|\n",
            "|Sudeste|    RJ|     null|   33|  null|          null|           null|2022-07-30|       30|        17264943|     2445094.0|         0|          74766|          0|            null|                 null|\n",
            "|Sudeste|    RJ|     null|   33|  null|          null|           null|2022-07-29|       30|        17264943|     2445094.0|      2603|          74766|          8|            null|                 null|\n",
            "|Sudeste|    RJ|     null|   33|  null|          null|           null|2022-07-28|       30|        17264943|     2442491.0|      2408|          74758|         16|            null|                 null|\n",
            "|Sudeste|    RJ|     null|   33|  null|          null|           null|2022-07-27|       30|        17264943|     2440083.0|      3086|          74742|         49|            null|                 null|\n",
            "|Sudeste|    RJ|     null|   33|  null|          null|           null|2022-07-26|       30|        17264943|     2436997.0|      2865|          74693|         39|            null|                 null|\n",
            "|Sudeste|    RJ|     null|   33|  null|          null|           null|2022-07-25|       30|        17264943|     2434132.0|      3839|          74654|         58|            null|                 null|\n",
            "|Sudeste|    RJ|     null|   33|  null|          null|           null|2022-07-24|       30|        17264943|     2430293.0|         0|          74596|          0|            null|                 null|\n",
            "|Sudeste|    RJ|     null|   33|  null|          null|           null|2022-07-23|       29|        17264943|     2430293.0|         0|          74596|          0|            null|                 null|\n",
            "|Sudeste|    RJ|     null|   33|  null|          null|           null|2022-07-22|       29|        17264943|     2430293.0|      3112|          74596|         10|            null|                 null|\n",
            "|Sudeste|    RJ|     null|   33|  null|          null|           null|2022-07-21|       29|        17264943|     2427181.0|      3035|          74586|         32|            null|                 null|\n",
            "+-------+------+---------+-----+------+--------------+---------------+----------+---------+----------------+--------------+----------+---------------+-----------+----------------+---------------------+\n",
            "only showing top 20 rows\n",
            "\n"
          ]
        }
      ],
      "source": [
        "covid_rj = covid.filter((f.col(\"estado\") == \"RJ\")&(f.col(\"codmun\").isNull()))\\\n",
        "                .orderBy(col(\"data\").desc())\n",
        "\n",
        "covid_rj.show()"
      ]
    },
    {
      "cell_type": "code",
      "execution_count": 25,
      "metadata": {
        "colab": {
          "base_uri": "https://localhost:8080/"
        },
        "id": "3HC7SsqQ0wNw",
        "outputId": "25c54784-3356-4660-fb7b-be1f8a2ca8ef"
      },
      "outputs": [
        {
          "output_type": "stream",
          "name": "stdout",
          "text": [
            "+------+------+--------------------+-----+------+--------------+---------------+----------+---------+----------------+--------------+----------+---------------+-----------+----------------+---------------------+\n",
            "|regiao|estado|           municipio|coduf|codmun|codRegiaoSaude|nomeRegiaoSaude|      data|semanaEpi|populacaoTCU2019|casosAcumulado|casosNovos|obitosAcumulado|obitosNovos|Recuperadosnovos|emAcompanhamentoNovos|\n",
            "+------+------+--------------------+-----+------+--------------+---------------+----------+---------+----------------+--------------+----------+---------------+-----------+----------------+---------------------+\n",
            "| Norte|    RO|Alta Floresta D'O...|   11|110001|         11005|   ZONA DA MATA|2020-05-09|       19|           22945|           1.0|        -1|              0|          0|            null|                 null|\n",
            "| Norte|    RO|Alta Floresta D'O...|   11|110001|         11005|   ZONA DA MATA|2020-05-24|       22|           22945|           3.0|        -1|              0|          0|            null|                 null|\n",
            "| Norte|    RO|Alta Floresta D'O...|   11|110001|         11005|   ZONA DA MATA|2020-06-14|       25|           22945|          41.0|        -8|              0|          0|            null|                 null|\n",
            "| Norte|    RO|           Ariquemes|   11|110002|         11001| VALE DO JAMARI|2020-04-14|       16|          107863|           3.0|        -4|              0|          0|            null|                 null|\n",
            "| Norte|    RO|           Ariquemes|   11|110002|         11001| VALE DO JAMARI|2020-04-22|       17|          107863|          39.0|        -5|              0|          0|            null|                 null|\n",
            "| Norte|    RO|           Ariquemes|   11|110002|         11001| VALE DO JAMARI|2020-05-05|       19|          107863|          88.0|        -1|              0|          0|            null|                 null|\n",
            "| Norte|    RO|           Ariquemes|   11|110002|         11001| VALE DO JAMARI|2020-05-11|       20|          107863|         122.0|        -1|              0|          0|            null|                 null|\n",
            "| Norte|    RO|              Cabixi|   11|110003|         11006|       CONE SUL|2020-07-06|       28|            5312|          12.0|        -1|              1|          0|            null|                 null|\n",
            "| Norte|    RO|              Cacoal|   11|110004|         11002|           CAFE|2020-05-17|       21|           85359|          29.0|        -1|              0|          0|            null|                 null|\n",
            "| Norte|    RO|              Cacoal|   11|110004|         11002|           CAFE|2020-06-06|       23|           85359|          86.0|        -1|              1|          0|            null|                 null|\n",
            "| Norte|    RO|          Cerejeiras|   11|110005|         11006|       CONE SUL|2020-05-24|       22|           16323|           0.0|        -1|              0|         -1|            null|                 null|\n",
            "| Norte|    RO|          Cerejeiras|   11|110005|         11006|       CONE SUL|2020-06-14|       25|           16323|          15.0|        -2|              2|          0|            null|                 null|\n",
            "| Norte|    RO|          Cerejeiras|   11|110005|         11006|       CONE SUL|2020-06-22|       26|           16323|          24.0|        -1|              2|          0|            null|                 null|\n",
            "| Norte|    RO|   Colorado do Oeste|   11|110006|         11006|       CONE SUL|2020-06-25|       26|           15882|          30.0|        -2|              0|          0|            null|                 null|\n",
            "| Norte|    RO|   Colorado do Oeste|   11|110006|         11006|       CONE SUL|2020-07-01|       27|           15882|          43.0|        -3|              0|          0|            null|                 null|\n",
            "| Norte|    RO|   Colorado do Oeste|   11|110006|         11006|       CONE SUL|2020-07-03|       27|           15882|          45.0|        -1|              0|          0|            null|                 null|\n",
            "| Norte|    RO|          Corumbiara|   11|110007|         11006|       CONE SUL|2020-06-09|       24|            7391|           3.0|        -2|              0|          0|            null|                 null|\n",
            "| Norte|    RO|       Costa Marques|   11|110008|         11007|VALE DO GUAPORE|2020-06-07|       24|           18331|           6.0|        -1|              0|          0|            null|                 null|\n",
            "| Norte|    RO|     Espigão D'Oeste|   11|110009|         11002|           CAFE|2020-05-15|       20|           32374|           2.0|        -1|              0|          0|            null|                 null|\n",
            "| Norte|    RO|     Espigão D'Oeste|   11|110009|         11002|           CAFE|2020-06-12|       24|           32374|          36.0|        -1|              2|          0|            null|                 null|\n",
            "+------+------+--------------------+-----+------+--------------+---------------+----------+---------+----------------+--------------+----------+---------------+-----------+----------------+---------------------+\n",
            "only showing top 20 rows\n",
            "\n"
          ]
        }
      ],
      "source": [
        "covid_localidades = covid.filter((f.col(\"regiao\") != \"Brasil\")&\\\n",
        "                                 (f.col(\"municipio\").isNotNull())&\\\n",
        "                                 (f.col(\"casosNovos\")<0))\n",
        "\n",
        "covid_localidades.show()\n",
        "\n"
      ]
    },
    {
      "cell_type": "code",
      "execution_count": 26,
      "metadata": {
        "colab": {
          "base_uri": "https://localhost:8080/"
        },
        "id": "I0uPh1qBZJ3o",
        "outputId": "51a6c873-1cf2-4046-e004-1e327496534e"
      },
      "outputs": [
        {
          "output_type": "stream",
          "name": "stdout",
          "text": [
            "+------+------+---------+-----+------+--------------+---------------+----------+---------+----------------+--------------+----------+---------------+-----------+----------------+---------------------+\n",
            "|regiao|estado|municipio|coduf|codmun|codRegiaoSaude|nomeRegiaoSaude|      data|semanaEpi|populacaoTCU2019|casosAcumulado|casosNovos|obitosAcumulado|obitosNovos|Recuperadosnovos|emAcompanhamentoNovos|\n",
            "+------+------+---------+-----+------+--------------+---------------+----------+---------+----------------+--------------+----------+---------------+-----------+----------------+---------------------+\n",
            "| Norte|    RO|   Cabixi|   11|110003|         11006|       CONE SUL|2020-06-04|       23|            5312|           3.0|         3|              0|          0|            null|                 null|\n",
            "| Norte|    RO|   Cabixi|   11|110003|         11006|       CONE SUL|2020-06-30|       27|            5312|           4.0|         1|              1|          1|            null|                 null|\n",
            "| Norte|    RO|   Cabixi|   11|110003|         11006|       CONE SUL|2020-07-03|       27|            5312|           5.0|         1|              1|          0|            null|                 null|\n",
            "| Norte|    RO|   Cabixi|   11|110003|         11006|       CONE SUL|2020-07-04|       27|            5312|          11.0|         6|              1|          0|            null|                 null|\n",
            "| Norte|    RO|   Cabixi|   11|110003|         11006|       CONE SUL|2020-07-05|       28|            5312|          13.0|         2|              1|          0|            null|                 null|\n",
            "| Norte|    RO|   Cabixi|   11|110003|         11006|       CONE SUL|2020-07-06|       28|            5312|          12.0|        -1|              1|          0|            null|                 null|\n",
            "| Norte|    RO|   Cabixi|   11|110003|         11006|       CONE SUL|2020-07-08|       28|            5312|          15.0|         3|              2|          1|            null|                 null|\n",
            "| Norte|    RO|   Cabixi|   11|110003|         11006|       CONE SUL|2020-07-09|       28|            5312|          16.0|         1|              2|          0|            null|                 null|\n",
            "| Norte|    RO|   Cabixi|   11|110003|         11006|       CONE SUL|2020-07-10|       28|            5312|          19.0|         3|              2|          0|            null|                 null|\n",
            "| Norte|    RO|   Cabixi|   11|110003|         11006|       CONE SUL|2020-07-12|       29|            5312|          20.0|         1|              2|          0|            null|                 null|\n",
            "| Norte|    RO|   Cabixi|   11|110003|         11006|       CONE SUL|2020-07-13|       29|            5312|          21.0|         1|              2|          0|            null|                 null|\n",
            "| Norte|    RO|   Cabixi|   11|110003|         11006|       CONE SUL|2020-07-14|       29|            5312|          22.0|         1|              2|          0|            null|                 null|\n",
            "| Norte|    RO|   Cabixi|   11|110003|         11006|       CONE SUL|2020-07-15|       29|            5312|          27.0|         5|              2|          0|            null|                 null|\n",
            "| Norte|    RO|   Cabixi|   11|110003|         11006|       CONE SUL|2020-07-16|       29|            5312|          28.0|         1|              2|          0|            null|                 null|\n",
            "| Norte|    RO|   Cabixi|   11|110003|         11006|       CONE SUL|2020-07-20|       30|            5312|          34.0|         6|              0|         -2|            null|                 null|\n",
            "| Norte|    RO|   Cabixi|   11|110003|         11006|       CONE SUL|2020-07-22|       30|            5312|          35.0|         1|              2|          0|            null|                 null|\n",
            "| Norte|    RO|   Cabixi|   11|110003|         11006|       CONE SUL|2020-07-23|       30|            5312|          37.0|         2|              3|          1|            null|                 null|\n",
            "| Norte|    RO|   Cabixi|   11|110003|         11006|       CONE SUL|2020-07-25|       30|            5312|          38.0|         1|              3|          0|            null|                 null|\n",
            "| Norte|    RO|   Cabixi|   11|110003|         11006|       CONE SUL|2020-07-27|       31|            5312|          39.0|         1|              3|          0|            null|                 null|\n",
            "| Norte|    RO|   Cabixi|   11|110003|         11006|       CONE SUL|2020-07-28|       31|            5312|          41.0|         2|              3|          0|            null|                 null|\n",
            "+------+------+---------+-----+------+--------------+---------------+----------+---------+----------------+--------------+----------+---------------+-----------+----------------+---------------------+\n",
            "only showing top 20 rows\n",
            "\n"
          ]
        }
      ],
      "source": [
        "covid_localidades2 = covid.filter((f.col(\"regiao\") != \"Brasil\")\\\n",
        "                                 &(f.col(\"municipio\").isNotNull())\\\n",
        "                                 &(f.col(\"codmun\")== \"110003\")\\\n",
        "                                 &(f.col(\"casosNovos\")!= 0))\n",
        "covid_localidades2.show()"
      ]
    },
    {
      "cell_type": "markdown",
      "metadata": {
        "id": "cstzA0v9B4Mw"
      },
      "source": [
        "#### Comparando o total de casos novos quando o codigo do municipio for nulo X total de casos novos por municipio para a mesma data base, concluímos que o codigo do municipio igual a nulo não se refere a somatória do estado. Nesse caso, optamos por remover esses registros para evitar trabalhar com dados sujos."
      ]
    },
    {
      "cell_type": "code",
      "execution_count": 27,
      "metadata": {
        "colab": {
          "base_uri": "https://localhost:8080/"
        },
        "id": "Bftb3uzFACR3",
        "outputId": "487dd914-2816-41fa-b035-a46e4521ca81"
      },
      "outputs": [
        {
          "output_type": "stream",
          "name": "stdout",
          "text": [
            "+------+------+--------------------+-----+------+--------------+---------------+----------+---------+----------------+--------------+----------+---------------+-----------+----------------+---------------------+\n",
            "|regiao|estado|           municipio|coduf|codmun|codRegiaoSaude|nomeRegiaoSaude|      data|semanaEpi|populacaoTCU2019|casosAcumulado|casosNovos|obitosAcumulado|obitosNovos|Recuperadosnovos|emAcompanhamentoNovos|\n",
            "+------+------+--------------------+-----+------+--------------+---------------+----------+---------+----------------+--------------+----------+---------------+-----------+----------------+---------------------+\n",
            "| Norte|    RO|Alta Floresta D'O...|   11|110001|         11005|   ZONA DA MATA|2020-03-27|       13|           22945|           0.0|         0|              0|          0|            null|                 null|\n",
            "| Norte|    RO|Alta Floresta D'O...|   11|110001|         11005|   ZONA DA MATA|2020-03-28|       13|           22945|           0.0|         0|              0|          0|            null|                 null|\n",
            "| Norte|    RO|Alta Floresta D'O...|   11|110001|         11005|   ZONA DA MATA|2020-03-29|       14|           22945|           0.0|         0|              0|          0|            null|                 null|\n",
            "| Norte|    RO|Alta Floresta D'O...|   11|110001|         11005|   ZONA DA MATA|2020-03-30|       14|           22945|           0.0|         0|              0|          0|            null|                 null|\n",
            "| Norte|    RO|Alta Floresta D'O...|   11|110001|         11005|   ZONA DA MATA|2020-03-31|       14|           22945|           0.0|         0|              0|          0|            null|                 null|\n",
            "| Norte|    RO|Alta Floresta D'O...|   11|110001|         11005|   ZONA DA MATA|2020-04-01|       14|           22945|           0.0|         0|              0|          0|            null|                 null|\n",
            "| Norte|    RO|Alta Floresta D'O...|   11|110001|         11005|   ZONA DA MATA|2020-04-02|       14|           22945|           0.0|         0|              0|          0|            null|                 null|\n",
            "| Norte|    RO|Alta Floresta D'O...|   11|110001|         11005|   ZONA DA MATA|2020-04-03|       14|           22945|           0.0|         0|              0|          0|            null|                 null|\n",
            "| Norte|    RO|Alta Floresta D'O...|   11|110001|         11005|   ZONA DA MATA|2020-04-04|       14|           22945|           0.0|         0|              0|          0|            null|                 null|\n",
            "| Norte|    RO|Alta Floresta D'O...|   11|110001|         11005|   ZONA DA MATA|2020-04-05|       15|           22945|           0.0|         0|              0|          0|            null|                 null|\n",
            "| Norte|    RO|Alta Floresta D'O...|   11|110001|         11005|   ZONA DA MATA|2020-04-06|       15|           22945|           0.0|         0|              0|          0|            null|                 null|\n",
            "| Norte|    RO|Alta Floresta D'O...|   11|110001|         11005|   ZONA DA MATA|2020-04-07|       15|           22945|           0.0|         0|              0|          0|            null|                 null|\n",
            "| Norte|    RO|Alta Floresta D'O...|   11|110001|         11005|   ZONA DA MATA|2020-04-08|       15|           22945|           0.0|         0|              0|          0|            null|                 null|\n",
            "| Norte|    RO|Alta Floresta D'O...|   11|110001|         11005|   ZONA DA MATA|2020-04-09|       15|           22945|           0.0|         0|              0|          0|            null|                 null|\n",
            "| Norte|    RO|Alta Floresta D'O...|   11|110001|         11005|   ZONA DA MATA|2020-04-10|       15|           22945|           0.0|         0|              0|          0|            null|                 null|\n",
            "| Norte|    RO|Alta Floresta D'O...|   11|110001|         11005|   ZONA DA MATA|2020-04-11|       15|           22945|           0.0|         0|              0|          0|            null|                 null|\n",
            "| Norte|    RO|Alta Floresta D'O...|   11|110001|         11005|   ZONA DA MATA|2020-04-12|       16|           22945|           0.0|         0|              0|          0|            null|                 null|\n",
            "| Norte|    RO|Alta Floresta D'O...|   11|110001|         11005|   ZONA DA MATA|2020-04-13|       16|           22945|           0.0|         0|              0|          0|            null|                 null|\n",
            "| Norte|    RO|Alta Floresta D'O...|   11|110001|         11005|   ZONA DA MATA|2020-04-14|       16|           22945|           0.0|         0|              0|          0|            null|                 null|\n",
            "| Norte|    RO|Alta Floresta D'O...|   11|110001|         11005|   ZONA DA MATA|2020-04-15|       16|           22945|           0.0|         0|              0|          0|            null|                 null|\n",
            "+------+------+--------------------+-----+------+--------------+---------------+----------+---------+----------------+--------------+----------+---------------+-----------+----------------+---------------------+\n",
            "only showing top 20 rows\n",
            "\n"
          ]
        }
      ],
      "source": [
        "covid_novo = covid.withColumn(\"casosNovos\", when(f.col(\"casosNovos\")<0, 0)\\\n",
        "                              .otherwise(f.col(\"casosNovos\")))\\\n",
        "                  .withColumn(\"obitosNovos\", when(f.col(\"obitosNovos\")<0, 0)\\\n",
        "                              .otherwise(f.col(\"obitosNovos\")))\\\n",
        "                  .filter((f.col(\"regiao\") != \"Brasil\")&(f.col(\"municipio\").isNotNull()))\n",
        "covid_novo.show()"
      ]
    },
    {
      "cell_type": "markdown",
      "metadata": {
        "id": "e1HNDpWwDbiB"
      },
      "source": [
        "#### Foi realizada a soma de de total de casaos e obitos novos considerando somente o estado."
      ]
    },
    {
      "cell_type": "code",
      "execution_count": 28,
      "metadata": {
        "colab": {
          "base_uri": "https://localhost:8080/"
        },
        "id": "GggvbHjA1oXT",
        "outputId": "293ff823-2076-4e9a-9cf0-956dd30a2ebe"
      },
      "outputs": [
        {
          "output_type": "stream",
          "name": "stdout",
          "text": [
            "+------+-----+----------+-----------------------------+------------------------------+\n",
            "|estado|coduf|      data|casosNovos_diarios_por_estado|obitosNovos_diarios_por_estado|\n",
            "+------+-----+----------+-----------------------------+------------------------------+\n",
            "|    RO|   11|2020-03-14|                            0|                             0|\n",
            "|    AC|   12|2020-05-19|                          496|                            10|\n",
            "|    AC|   12|2020-06-09|                          658|                            24|\n",
            "|    MA|   21|2020-04-04|                           14|                             0|\n",
            "|    PI|   22|2020-05-11|                          108|                             6|\n",
            "|    RN|   24|2020-03-30|                           20|                             0|\n",
            "|    RN|   24|2020-04-24|                           98|                            10|\n",
            "|    RN|   24|2020-05-09|                          198|                            12|\n",
            "|    PB|   25|2020-04-25|                          122|                             4|\n",
            "|    PB|   25|2020-05-27|                         2580|                            24|\n",
            "|    PB|   25|2020-06-03|                         2318|                            70|\n",
            "|    PE|   26|2020-03-21|                            0|                             0|\n",
            "|    AL|   27|2020-06-08|                            0|                             0|\n",
            "|    SE|   28|2020-07-19|                         4342|                            28|\n",
            "|    BA|   29|2020-05-07|                          474|                            12|\n",
            "|    ES|   32|2020-03-16|                            0|                             0|\n",
            "|    ES|   32|2020-03-22|                            0|                             0|\n",
            "|    ES|   32|2020-06-07|                         1338|                            52|\n",
            "|    RJ|   33|2020-04-28|                         1120|                           122|\n",
            "|    SC|   42|2020-05-06|                          592|                             8|\n",
            "+------+-----+----------+-----------------------------+------------------------------+\n",
            "only showing top 20 rows\n",
            "\n"
          ]
        }
      ],
      "source": [
        "covid_total_estados = covid.withColumn(\"casosNovos\", when(f.col(\"casosNovos\")<0, 0)\\\n",
        "                                       .otherwise(f.col(\"casosNovos\")))\\\n",
        "                           .withColumn(\"obitosNovos\", when(f.col(\"obitosNovos\")<0, 0)\\\n",
        "                                       .otherwise(f.col(\"obitosNovos\")))\\\n",
        "                           .filter((f.col(\"municipio\").isNull())&(f.col(\"regiao\") != \"Brasil\"))\\\n",
        "                           .groupBy(\"estado\" ,\"coduf\", \"data\")\\\n",
        "                           .agg(f.sum(\"casosNovos\").alias(\"casosNovos_diarios_por_estado\"),\\\n",
        "                                  sum(\"obitosNovos\").alias(\"obitosNovos_diarios_por_estado\"))\n",
        "                                                               \n",
        "covid_total_estados.show()"
      ]
    },
    {
      "cell_type": "markdown",
      "metadata": {
        "id": "Kdyof0WKJEVY"
      },
      "source": [
        "#### Foi realizado o join dos dataframes covid_novo e covid_total_estados para melhor visualização"
      ]
    },
    {
      "cell_type": "code",
      "execution_count": 29,
      "metadata": {
        "colab": {
          "base_uri": "https://localhost:8080/"
        },
        "id": "OADi77Cd4CnP",
        "outputId": "76d16efd-28f4-4ab0-8fb2-917a64e7988e"
      },
      "outputs": [
        {
          "output_type": "stream",
          "name": "stdout",
          "text": [
            "+----------+-----+------+------+--------------------+------+--------------+---------------+---------+----------------+--------------+----------+---------------+-----------+----------------+---------------------+-----------------------------+------------------------------+\n",
            "|      data|coduf|estado|regiao|           municipio|codmun|codRegiaoSaude|nomeRegiaoSaude|semanaEpi|populacaoTCU2019|casosAcumulado|casosNovos|obitosAcumulado|obitosNovos|Recuperadosnovos|emAcompanhamentoNovos|casosNovos_diarios_por_estado|obitosNovos_diarios_por_estado|\n",
            "+----------+-----+------+------+--------------------+------+--------------+---------------+---------+----------------+--------------+----------+---------------+-----------+----------------+---------------------+-----------------------------+------------------------------+\n",
            "|2020-04-06|   11|    RO| Norte|Alta Floresta D'O...|110001|         11005|   ZONA DA MATA|       15|           22945|           0.0|         0|              0|          0|            null|                 null|                            4|                             0|\n",
            "|2020-04-16|   11|    RO| Norte|Alta Floresta D'O...|110001|         11005|   ZONA DA MATA|       16|           22945|           0.0|         0|              0|          0|            null|                 null|                           14|                             2|\n",
            "|2020-04-01|   11|    RO| Norte|Alta Floresta D'O...|110001|         11005|   ZONA DA MATA|       14|           22945|           0.0|         0|              0|          0|            null|                 null|                            2|                             0|\n",
            "|2020-04-10|   11|    RO| Norte|Alta Floresta D'O...|110001|         11005|   ZONA DA MATA|       15|           22945|           0.0|         0|              0|          0|            null|                 null|                            8|                             0|\n",
            "|2020-04-02|   11|    RO| Norte|Alta Floresta D'O...|110001|         11005|   ZONA DA MATA|       14|           22945|           0.0|         0|              0|          0|            null|                 null|                            2|                             0|\n",
            "|2020-04-03|   11|    RO| Norte|Alta Floresta D'O...|110001|         11005|   ZONA DA MATA|       14|           22945|           0.0|         0|              0|          0|            null|                 null|                            0|                             0|\n",
            "|2020-04-13|   11|    RO| Norte|Alta Floresta D'O...|110001|         11005|   ZONA DA MATA|       16|           22945|           0.0|         0|              0|          0|            null|                 null|                           14|                             0|\n",
            "|2020-03-27|   11|    RO| Norte|Alta Floresta D'O...|110001|         11005|   ZONA DA MATA|       13|           22945|           0.0|         0|              0|          0|            null|                 null|                            2|                             0|\n",
            "|2020-03-30|   11|    RO| Norte|Alta Floresta D'O...|110001|         11005|   ZONA DA MATA|       14|           22945|           0.0|         0|              0|          0|            null|                 null|                            0|                             0|\n",
            "|2020-03-29|   11|    RO| Norte|Alta Floresta D'O...|110001|         11005|   ZONA DA MATA|       14|           22945|           0.0|         0|              0|          0|            null|                 null|                            0|                             0|\n",
            "|2020-03-28|   11|    RO| Norte|Alta Floresta D'O...|110001|         11005|   ZONA DA MATA|       13|           22945|           0.0|         0|              0|          0|            null|                 null|                            0|                             0|\n",
            "|2020-04-05|   11|    RO| Norte|Alta Floresta D'O...|110001|         11005|   ZONA DA MATA|       15|           22945|           0.0|         0|              0|          0|            null|                 null|                            2|                             0|\n",
            "|2020-04-04|   11|    RO| Norte|Alta Floresta D'O...|110001|         11005|   ZONA DA MATA|       14|           22945|           0.0|         0|              0|          0|            null|                 null|                            2|                             0|\n",
            "|2020-04-15|   11|    RO| Norte|Alta Floresta D'O...|110001|         11005|   ZONA DA MATA|       16|           22945|           0.0|         0|              0|          0|            null|                 null|                           10|                             0|\n",
            "|2020-04-09|   11|    RO| Norte|Alta Floresta D'O...|110001|         11005|   ZONA DA MATA|       15|           22945|           0.0|         0|              0|          0|            null|                 null|                           20|                             2|\n",
            "|2020-04-07|   11|    RO| Norte|Alta Floresta D'O...|110001|         11005|   ZONA DA MATA|       15|           22945|           0.0|         0|              0|          0|            null|                 null|                            8|                             0|\n",
            "|2020-04-14|   11|    RO| Norte|Alta Floresta D'O...|110001|         11005|   ZONA DA MATA|       16|           22945|           0.0|         0|              0|          0|            null|                 null|                           44|                             0|\n",
            "|2020-03-31|   11|    RO| Norte|Alta Floresta D'O...|110001|         11005|   ZONA DA MATA|       14|           22945|           0.0|         0|              0|          0|            null|                 null|                            4|                             2|\n",
            "|2020-04-12|   11|    RO| Norte|Alta Floresta D'O...|110001|         11005|   ZONA DA MATA|       16|           22945|           0.0|         0|              0|          0|            null|                 null|                            4|                             0|\n",
            "|2020-04-11|   11|    RO| Norte|Alta Floresta D'O...|110001|         11005|   ZONA DA MATA|       15|           22945|           0.0|         0|              0|          0|            null|                 null|                            2|                             0|\n",
            "+----------+-----+------+------+--------------------+------+--------------+---------------+---------+----------------+--------------+----------+---------------+-----------+----------------+---------------------+-----------------------------+------------------------------+\n",
            "only showing top 20 rows\n",
            "\n"
          ]
        }
      ],
      "source": [
        "covid_total = covid_novo.join(covid_total_estados, [\"data\", \"coduf\",\"estado\"], how='left')\n",
        "\n",
        "covid_total.show()"
      ]
    },
    {
      "cell_type": "code",
      "execution_count": 30,
      "metadata": {
        "colab": {
          "base_uri": "https://localhost:8080/"
        },
        "id": "o744x6Ou3tHt",
        "outputId": "bf264fc9-960c-4a9f-8224-a68006cc0f10"
      },
      "outputs": [
        {
          "output_type": "stream",
          "name": "stdout",
          "text": [
            "+----------+--------+------+-----+--------------------+----------+-----------+-----------------------------+------------------------------+\n",
            "|      data|  regiao|estado|coduf|           municipio|casosNovos|obitosNovos|casosNovos_diarios_por_estado|obitosNovos_diarios_por_estado|\n",
            "+----------+--------+------+-----+--------------------+----------+-----------+-----------------------------+------------------------------+\n",
            "|2022-08-09|Nordeste|    MA|   21|          Açailândia|         1|          0|                          463|                             2|\n",
            "|2022-08-09|Nordeste|    MA|   21|           Bacabeira|         0|          0|                          463|                             2|\n",
            "|2022-08-09|Nordeste|    MA|   21|        Afonso Cunha|         0|          0|                          463|                             2|\n",
            "|2022-08-09|Nordeste|    MA|   21|Água Doce do Mara...|         0|          0|                          463|                             2|\n",
            "|2022-08-09|Nordeste|    MA|   21|           Alcântara|         0|          0|                          463|                             2|\n",
            "|2022-08-09|Nordeste|    MA|   21|       Aldeias Altas|         0|          0|                          463|                             2|\n",
            "|2022-08-09|Nordeste|    MA|   21|Altamira do Maranhão|         0|          0|                          463|                             2|\n",
            "|2022-08-09|Nordeste|    MA|   21|Alto Alegre do Ma...|         0|          0|                          463|                             2|\n",
            "|2022-08-09|Nordeste|    MA|   21|Alto Alegre do Pi...|        26|          0|                          463|                             2|\n",
            "|2022-08-09|Nordeste|    MA|   21|       Alto Parnaíba|         0|          0|                          463|                             2|\n",
            "|2022-08-09|Nordeste|    MA|   21|   Amapá do Maranhão|         0|          0|                          463|                             2|\n",
            "|2022-08-09|Nordeste|    MA|   21|Amarante do Maranhão|         0|          0|                          463|                             2|\n",
            "|2022-08-09|Nordeste|    MA|   21|           Anajatuba|         0|          0|                          463|                             2|\n",
            "|2022-08-09|Nordeste|    MA|   21|            Anapurus|         0|          0|                          463|                             2|\n",
            "|2022-08-09|Nordeste|    MA|   21|          Apicum-Açu|         0|          0|                          463|                             2|\n",
            "|2022-08-09|Nordeste|    MA|   21|            Araguanã|         0|          0|                          463|                             2|\n",
            "|2022-08-09|Nordeste|    MA|   21|            Araioses|         0|          0|                          463|                             2|\n",
            "|2022-08-09|Nordeste|    MA|   21|               Arame|         0|          0|                          463|                             2|\n",
            "|2022-08-09|Nordeste|    MA|   21|               Arari|         6|          0|                          463|                             2|\n",
            "|2022-08-09|Nordeste|    MA|   21|               Axixá|         0|          0|                          463|                             2|\n",
            "+----------+--------+------+-----+--------------------+----------+-----------+-----------------------------+------------------------------+\n",
            "only showing top 20 rows\n",
            "\n"
          ]
        }
      ],
      "source": [
        "municipios = covid_total.select(\"data\", \"regiao\", \"estado\", \"coduf\",\\\n",
        "                                \"municipio\",\"casosNovos\", \"obitosNovos\", \\\n",
        "                                \"casosNovos_diarios_por_estado\",\\\n",
        "                                \"obitosNovos_diarios_por_estado\")\n",
        "                              \n",
        "municipios.orderBy(col(\"data\").desc()).show()"
      ]
    },
    {
      "cell_type": "code",
      "execution_count": 31,
      "metadata": {
        "colab": {
          "base_uri": "https://localhost:8080/"
        },
        "id": "fOO9oQrF7WLn",
        "outputId": "2ed7b59d-b75b-43a4-95cb-6cac23c72f5c"
      },
      "outputs": [
        {
          "output_type": "stream",
          "name": "stdout",
          "text": [
            "+----------+-------+------+-----+--------------------+----------+-----------+-----------------------------+------------------------------+\n",
            "|      data| regiao|estado|coduf|           municipio|casosNovos|obitosNovos|casosNovos_diarios_por_estado|obitosNovos_diarios_por_estado|\n",
            "+----------+-------+------+-----+--------------------+----------+-----------+-----------------------------+------------------------------+\n",
            "|2022-08-09|Sudeste|    SP|   35|          Adamantina|        66|          0|                         5097|                            72|\n",
            "|2022-08-09|Sudeste|    SP|   35|   Américo de Campos|         0|          0|                         5097|                            72|\n",
            "|2022-08-09|Sudeste|    SP|   35|              Adolfo|         0|          0|                         5097|                            72|\n",
            "|2022-08-09|Sudeste|    SP|   35|               Aguaí|        21|          1|                         5097|                            72|\n",
            "|2022-08-09|Sudeste|    SP|   35|      Águas da Prata|         0|          0|                         5097|                            72|\n",
            "|2022-08-09|Sudeste|    SP|   35|    Águas de Lindóia|         7|          0|                         5097|                            72|\n",
            "|2022-08-09|Sudeste|    SP|   35|Águas de Santa Bá...|         0|          0|                         5097|                            72|\n",
            "|2022-08-09|Sudeste|    SP|   35|  Águas de São Pedro|         0|          0|                         5097|                            72|\n",
            "|2022-08-09|Sudeste|    SP|   35|              Agudos|         1|          0|                         5097|                            72|\n",
            "|2022-08-09|Sudeste|    SP|   35|            Alambari|         0|          0|                         5097|                            72|\n",
            "|2022-08-09|Sudeste|    SP|   35|   Alfredo Marcondes|         0|          0|                         5097|                            72|\n",
            "|2022-08-09|Sudeste|    SP|   35|              Altair|         1|          0|                         5097|                            72|\n",
            "|2022-08-09|Sudeste|    SP|   35|         Altinópolis|         0|          0|                         5097|                            72|\n",
            "|2022-08-09|Sudeste|    SP|   35|         Alto Alegre|         0|          0|                         5097|                            72|\n",
            "|2022-08-09|Sudeste|    SP|   35|            Alumínio|         0|          0|                         5097|                            72|\n",
            "|2022-08-09|Sudeste|    SP|   35|    Álvares Florence|         0|          0|                         5097|                            72|\n",
            "|2022-08-09|Sudeste|    SP|   35|     Álvares Machado|         4|          0|                         5097|                            72|\n",
            "|2022-08-09|Sudeste|    SP|   35|  Álvaro de Carvalho|         0|          0|                         5097|                            72|\n",
            "|2022-08-09|Sudeste|    SP|   35|         Alvinlândia|         0|          0|                         5097|                            72|\n",
            "|2022-08-09|Sudeste|    SP|   35|           Americana|         0|          1|                         5097|                            72|\n",
            "+----------+-------+------+-----+--------------------+----------+-----------+-----------------------------+------------------------------+\n",
            "only showing top 20 rows\n",
            "\n"
          ]
        }
      ],
      "source": [
        "municipios.orderBy(col(\"data\").desc(), col(\"casosNovos_diarios_por_estado\").desc()).show()"
      ]
    },
    {
      "cell_type": "code",
      "execution_count": 32,
      "metadata": {
        "colab": {
          "base_uri": "https://localhost:8080/"
        },
        "id": "S2dfRLzn5LrI",
        "outputId": "e9a448a2-2a31-4ffe-ea36-616f67860812"
      },
      "outputs": [
        {
          "output_type": "stream",
          "name": "stdout",
          "text": [
            "+----------+------+-----+-----------------------------+------------------------------+\n",
            "|      data|estado|coduf|casosNovos_diarios_por_estado|obitosNovos_diarios_por_estado|\n",
            "+----------+------+-----+-----------------------------+------------------------------+\n",
            "|2022-08-09|    RJ|   33|                         2365|                            76|\n",
            "|2022-08-09|    SP|   35|                         5097|                            72|\n",
            "|2022-08-09|    PR|   41|                         4168|                            40|\n",
            "|2022-08-09|    MG|   31|                         2095|                            30|\n",
            "|2022-08-09|    MS|   50|                          539|                            23|\n",
            "|2022-08-09|    CE|   23|                          819|                            22|\n",
            "|2022-08-09|    RS|   43|                         3402|                            21|\n",
            "|2022-08-09|    BA|   29|                         1597|                            19|\n",
            "|2022-08-09|    GO|   52|                         1942|                            15|\n",
            "|2022-08-09|    SC|   42|                         1100|                            10|\n",
            "|2022-08-09|    ES|   32|                          651|                             7|\n",
            "|2022-08-09|    PE|   26|                          775|                             7|\n",
            "|2022-08-09|    PI|   22|                          621|                             6|\n",
            "|2022-08-09|    RN|   24|                          242|                             3|\n",
            "|2022-08-09|    PA|   15|                          996|                             3|\n",
            "|2022-08-09|    MT|   51|                          740|                             3|\n",
            "|2022-08-09|    MA|   21|                          463|                             2|\n",
            "|2022-08-09|    PB|   25|                           18|                             2|\n",
            "|2022-08-09|    DF|   53|                          375|                             1|\n",
            "|2022-08-09|    RO|   11|                          774|                             1|\n",
            "+----------+------+-----+-----------------------------+------------------------------+\n",
            "only showing top 20 rows\n",
            "\n"
          ]
        }
      ],
      "source": [
        "municipios.select(\"data\", \"estado\", \"coduf\",\\\n",
        "                  \"casosNovos_diarios_por_estado\",\\\n",
        "                  \"obitosNovos_diarios_por_estado\").distinct()\\\n",
        "          .orderBy(col(\"data\").desc(), col(\"obitosNovos_diarios_por_estado\").desc()).show()"
      ]
    },
    {
      "cell_type": "markdown",
      "metadata": {
        "id": "-Dg7qmdPq73S"
      },
      "source": [
        "#### Foram explorados valor máximo, mínimo e média de casos e obitos novos por município."
      ]
    },
    {
      "cell_type": "code",
      "execution_count": 33,
      "metadata": {
        "colab": {
          "base_uri": "https://localhost:8080/"
        },
        "id": "ACuGUAyfhyq4",
        "outputId": "5ca95bed-c1f8-4651-f2c4-604447c3fdac"
      },
      "outputs": [
        {
          "output_type": "stream",
          "name": "stdout",
          "text": [
            "+----------+------+-----+------------+----------------------------+--------------------------+--------------------------+\n",
            "|      data|estado|coduf|      regiao|media_casos_Novos_municipios|max_casos_Novos_municipios|min_casos_Novos_municipios|\n",
            "+----------+------+-----+------------+----------------------------+--------------------------+--------------------------+\n",
            "|2022-01-31|    DF|   53|Centro-Oeste|                     11508.0|                     11508|                     11508|\n",
            "|2022-01-25|    DF|   53|Centro-Oeste|                     10697.0|                     10697|                     10697|\n",
            "|2022-06-20|    DF|   53|Centro-Oeste|                      9007.0|                      9007|                      9007|\n",
            "|2022-02-07|    DF|   53|Centro-Oeste|                      8773.0|                      8773|                      8773|\n",
            "|2022-06-13|    DF|   53|Centro-Oeste|                      8711.0|                      8711|                      8711|\n",
            "|2022-02-03|    DF|   53|Centro-Oeste|                      7086.0|                      7086|                      7086|\n",
            "|2022-06-17|    DF|   53|Centro-Oeste|                      7062.0|                      7062|                      7062|\n",
            "|2022-01-24|    DF|   53|Centro-Oeste|                      6976.0|                      6976|                      6976|\n",
            "|2022-06-06|    DF|   53|Centro-Oeste|                      6679.0|                      6679|                      6679|\n",
            "|2022-06-15|    DF|   53|Centro-Oeste|                      6305.0|                      6305|                      6305|\n",
            "|2022-02-04|    DF|   53|Centro-Oeste|                      6202.0|                      6202|                      6202|\n",
            "|2022-02-01|    DF|   53|Centro-Oeste|                      5798.0|                      5798|                      5798|\n",
            "|2022-06-27|    DF|   53|Centro-Oeste|                      5736.0|                      5736|                      5736|\n",
            "|2022-01-17|    DF|   53|Centro-Oeste|                      5648.0|                      5648|                      5648|\n",
            "|2022-02-14|    DF|   53|Centro-Oeste|                      5614.0|                      5614|                      5614|\n",
            "|2022-01-26|    DF|   53|Centro-Oeste|                      5485.0|                      5485|                      5485|\n",
            "|2022-01-28|    DF|   53|Centro-Oeste|                      5399.0|                      5399|                      5399|\n",
            "|2022-02-02|    DF|   53|Centro-Oeste|                      5382.0|                      5382|                      5382|\n",
            "|2022-01-27|    DF|   53|Centro-Oeste|                      5243.0|                      5243|                      5243|\n",
            "|2022-02-09|    DF|   53|Centro-Oeste|                      4924.0|                      4924|                      4924|\n",
            "+----------+------+-----+------------+----------------------------+--------------------------+--------------------------+\n",
            "only showing top 20 rows\n",
            "\n",
            "+----------+------+-----+------------+-----------------------------+---------------------------+---------------------------+\n",
            "|      data|estado|coduf|      regiao|media_obitos_Novos_municipios|max_obitos_Novos_municipios|min_obitos_Novos_municipios|\n",
            "+----------+------+-----+------------+-----------------------------+---------------------------+---------------------------+\n",
            "|2021-04-01|    DF|   53|Centro-Oeste|                        121.0|                        121|                        121|\n",
            "|2021-03-31|    DF|   53|Centro-Oeste|                        117.0|                        117|                        117|\n",
            "|2021-03-30|    DF|   53|Centro-Oeste|                         94.0|                         94|                         94|\n",
            "|2021-04-12|    DF|   53|Centro-Oeste|                         86.0|                         86|                         86|\n",
            "|2021-04-07|    DF|   53|Centro-Oeste|                         83.0|                         83|                         83|\n",
            "|2021-04-06|    DF|   53|Centro-Oeste|                         83.0|                         83|                         83|\n",
            "|2020-08-06|    DF|   53|Centro-Oeste|                         79.0|                         79|                         79|\n",
            "|2021-04-05|    DF|   53|Centro-Oeste|                         78.0|                         78|                         78|\n",
            "|2021-04-08|    DF|   53|Centro-Oeste|                         77.0|                         77|                         77|\n",
            "|2021-04-15|    DF|   53|Centro-Oeste|                         77.0|                         77|                         77|\n",
            "|2021-04-16|    DF|   53|Centro-Oeste|                         76.0|                         76|                         76|\n",
            "|2021-04-19|    DF|   53|Centro-Oeste|                         74.0|                         74|                         74|\n",
            "|2021-03-18|    DF|   53|Centro-Oeste|                         68.0|                         68|                         68|\n",
            "|2021-04-09|    DF|   53|Centro-Oeste|                         67.0|                         67|                         67|\n",
            "|2021-04-14|    DF|   53|Centro-Oeste|                         66.0|                         66|                         66|\n",
            "|2020-08-17|    DF|   53|Centro-Oeste|                         66.0|                         66|                         66|\n",
            "|2021-04-13|    DF|   53|Centro-Oeste|                         66.0|                         66|                         66|\n",
            "|2021-03-26|    DF|   53|Centro-Oeste|                         64.0|                         64|                         64|\n",
            "|2021-03-23|    DF|   53|Centro-Oeste|                         62.0|                         62|                         62|\n",
            "|2021-03-29|    DF|   53|Centro-Oeste|                         61.0|                         61|                         61|\n",
            "+----------+------+-----+------------+-----------------------------+---------------------------+---------------------------+\n",
            "only showing top 20 rows\n",
            "\n"
          ]
        }
      ],
      "source": [
        "df_casos = municipios.groupBy(\"data\",\"estado\", \"coduf\", \"regiao\")\\\n",
        "                     .agg(round(avg(\"casosNovos\"), 2).alias(\"media_casos_Novos_municipios\"),\\\n",
        "                          round(max(\"casosNovos\"), 2).alias(\"max_casos_Novos_municipios\"),\\\n",
        "                          round(min(\"casosNovos\"), 2).alias(\"min_casos_Novos_municipios\"))\\\n",
        "                     .sort(col(\"media_casos_Novos_municipios\").desc())\n",
        "              \n",
        "\n",
        "df_obitos= municipios.groupBy(\"data\",\"estado\", \"coduf\", \"regiao\")\\\n",
        "                     .agg(round(avg(\"obitosNovos\"), 2).alias(\"media_obitos_Novos_municipios\"),\\\n",
        "                          round(max(\"obitosNovos\"), 2).alias(\"max_obitos_Novos_municipios\"),\\\n",
        "                          round(min(\"obitosNovos\"), 2).alias(\"min_obitos_Novos_municipios\"))\\\n",
        "                     .sort(col(\"media_obitos_Novos_municipios\").desc())\n",
        "              \n",
        "\n",
        "df_casos.show()\n",
        "df_obitos.show()"
      ]
    },
    {
      "cell_type": "markdown",
      "metadata": {
        "id": "mr6S09ni92h3"
      },
      "source": [
        "#### Foi feita a importação de uma tabela de desmprego para posterior comparação com os dados de covid no Brasil."
      ]
    },
    {
      "cell_type": "code",
      "execution_count": 34,
      "metadata": {
        "colab": {
          "base_uri": "https://localhost:8080/"
        },
        "id": "B7mqy8q6hJYf",
        "outputId": "f4bfd350-3b6d-4364-ab63-d966683ffd00"
      },
      "outputs": [
        {
          "output_type": "stream",
          "name": "stdout",
          "text": [
            "+-------------------+----------------+----------------+----------------+----------------+----------------+----------------+\n",
            "|             estado|1_trimestre_2019|2_trimestre_2019|3_trimestre_2019|4_trimestre_2019|1_trimestre_2020|2_trimestre_2022|\n",
            "+-------------------+----------------+----------------+----------------+----------------+----------------+----------------+\n",
            "|           Rondônia|              79|              60|              74|              72|              76|              52|\n",
            "|               Acre|              65|              49|              47|              49|              47|              45|\n",
            "|           Amazonas|             296|             265|             257|             248|             279|             203|\n",
            "|            Roraima|              39|              38|              37|              38|              42|              16|\n",
            "|               Pará|             445|             435|             444|             360|             417|             377|\n",
            "|              Amapá|              78|              69|              66|              62|              67|              48|\n",
            "|          Tocantins|              90|              84|              78|              67|              84|              43|\n",
            "|           Maranhão|             429|             388|             382|             330|             431|             299|\n",
            "|              Piauí|             188|             191|             199|             200|             202|             135|\n",
            "|              Ceará|             476|             459|             478|             437|             513|             412|\n",
            "|Rio Grande do Norte|             214|             195|             210|             199|             244|             188|\n",
            "|            Paraíba|             189|             207|             193|             206|             232|             203|\n",
            "|         Pernambuco|             696|             681|             674|             601|             611|             578|\n",
            "|            Alagoas|             194|             186|             193|             165|             204|             149|\n",
            "|            Sergipe|             165|             169|             162|             168|             171|             140|\n",
            "|              Bahia|            1307|            1240|            1194|            1162|            1333|            1104|\n",
            "|       Minas Gerais|            1257|            1096|            1149|            1098|            1320|             828|\n",
            "|     Espírito Santo|             266|             242|             233|             227|             243|             174|\n",
            "|     Rio de Janeiro|            1388|            1366|            1314|            1246|            1313|            1130|\n",
            "|          São Paulo|            3510|            3368|            3169|            3015|            3151|            2404|\n",
            "|             Paraná|             550|             560|             559|             450|             487|             374|\n",
            "|     Santa Catarina|             285|             239|             227|             216|             223|             160|\n",
            "|  Rio Grande do Sul|             496|             515|             555|             455|             529|             387|\n",
            "| Mato Grosso do Sul|             137|             123|             111|              96|             111|              75|\n",
            "|        Mato Grosso|             167|             154|             148|             117|             158|              82|\n",
            "|              Goiás|             407|             399|             421|             405|             434|             270|\n",
            "|   Distrito Federal|             238|             234|             224|             210|             228|             205|\n",
            "+-------------------+----------------+----------------+----------------+----------------+----------------+----------------+\n",
            "\n"
          ]
        }
      ],
      "source": [
        "desemprego = spark.read.format('csv')\\\n",
        "                       .options(header='true',\\\n",
        "                                inferschema='true')\\\n",
        "                       .load(f'{caminho_local}/desemprego.csv',header=True)\n",
        "\n",
        "desemprego.show(50)\n"
      ]
    },
    {
      "cell_type": "markdown",
      "metadata": {
        "id": "qV6k7Vp1YkVx"
      },
      "source": [
        "#### Foram alterados os valores da coluna Estado no dataframe de desemprego, de nome do estado para a sigla do estado para futura comparação com os dados de Covid."
      ]
    },
    {
      "cell_type": "code",
      "execution_count": 35,
      "metadata": {
        "colab": {
          "base_uri": "https://localhost:8080/"
        },
        "id": "XBpEfSagK8U_",
        "outputId": "978fd791-8a50-45ea-cae1-9a5dfda4a31e"
      },
      "outputs": [
        {
          "output_type": "stream",
          "name": "stdout",
          "text": [
            "+------+----------------+----------------+----------------+----------------+----------------+----------------+\n",
            "|Estado|1_trimestre_2019|2_trimestre_2019|3_trimestre_2019|4_trimestre_2019|1_trimestre_2020|2_trimestre_2022|\n",
            "+------+----------------+----------------+----------------+----------------+----------------+----------------+\n",
            "|    RO|              79|              60|              74|              72|              76|              52|\n",
            "|    AC|              65|              49|              47|              49|              47|              45|\n",
            "|    AM|             296|             265|             257|             248|             279|             203|\n",
            "|    RR|              39|              38|              37|              38|              42|              16|\n",
            "|    PA|             445|             435|             444|             360|             417|             377|\n",
            "|    AP|              78|              69|              66|              62|              67|              48|\n",
            "|    TO|              90|              84|              78|              67|              84|              43|\n",
            "|    MA|             429|             388|             382|             330|             431|             299|\n",
            "|    PI|             188|             191|             199|             200|             202|             135|\n",
            "|    CE|             476|             459|             478|             437|             513|             412|\n",
            "|    RN|             214|             195|             210|             199|             244|             188|\n",
            "|    PB|             189|             207|             193|             206|             232|             203|\n",
            "|    PE|             696|             681|             674|             601|             611|             578|\n",
            "|    AL|             194|             186|             193|             165|             204|             149|\n",
            "|    SE|             165|             169|             162|             168|             171|             140|\n",
            "|    BA|            1307|            1240|            1194|            1162|            1333|            1104|\n",
            "|    MG|            1257|            1096|            1149|            1098|            1320|             828|\n",
            "|    ES|             266|             242|             233|             227|             243|             174|\n",
            "|    RJ|            1388|            1366|            1314|            1246|            1313|            1130|\n",
            "|    SP|            3510|            3368|            3169|            3015|            3151|            2404|\n",
            "|    PR|             550|             560|             559|             450|             487|             374|\n",
            "|    SC|             285|             239|             227|             216|             223|             160|\n",
            "|    RS|             496|             515|             555|             455|             529|             387|\n",
            "|    MS|             137|             123|             111|              96|             111|              75|\n",
            "|    MT|             167|             154|             148|             117|             158|              82|\n",
            "|    GO|             407|             399|             421|             405|             434|             270|\n",
            "|    DF|             238|             234|             224|             210|             228|             205|\n",
            "+------+----------------+----------------+----------------+----------------+----------------+----------------+\n",
            "\n"
          ]
        }
      ],
      "source": [
        "desemprego = desemprego.withColumn('Estado',\\\n",
        "                                   regexp_replace('Estado', 'Rondônia', 'RO'))\\\n",
        "                       .withColumn('Estado',\\\n",
        "                                   regexp_replace('Estado', 'Acre', 'AC'))\\\n",
        "                       .withColumn('Estado',\\\n",
        "                                   regexp_replace('Estado', 'Amazonas', 'AM'))\\\n",
        "                       .withColumn('Estado',\\\n",
        "                                   regexp_replace('Estado', 'Roraima', 'RR'))\\\n",
        "                       .withColumn('Estado',\\\n",
        "                                   regexp_replace('Estado', 'Pará', 'PA'))\\\n",
        "                       .withColumn('Estado',\\\n",
        "                                   regexp_replace('Estado', 'Amapá', 'AP'))\\\n",
        "                       .withColumn('Estado',\\\n",
        "                                   regexp_replace('Estado', 'Tocantins', 'TO'))\\\n",
        "                       .withColumn('Estado',\\\n",
        "                                   regexp_replace('Estado', 'Maranhão', 'MA'))\\\n",
        "                       .withColumn('Estado',\\\n",
        "                                   regexp_replace('Estado', 'Piauí', 'PI'))\\\n",
        "                       .withColumn('Estado',\\\n",
        "                                   regexp_replace('Estado', 'Ceará', 'CE'))\\\n",
        "                       .withColumn('Estado',\\\n",
        "                                   regexp_replace('Estado', 'Rio Grande do Norte', 'RN'))\\\n",
        "                       .withColumn('Estado',\\\n",
        "                                   regexp_replace('Estado', 'Paraíba', 'PB'))\\\n",
        "                       .withColumn('Estado',\\\n",
        "                                   regexp_replace('Estado', 'Pernambuco', 'PE'))\\\n",
        "                       .withColumn('Estado',\\\n",
        "                                   regexp_replace('Estado', 'Alagoas', 'AL'))\\\n",
        "                       .withColumn('Estado',\\\n",
        "                                   regexp_replace('Estado', 'Sergipe', 'SE'))\\\n",
        "                       .withColumn('Estado',\\\n",
        "                                   regexp_replace('Estado', 'Bahia', 'BA'))\\\n",
        "                       .withColumn('Estado',\\\n",
        "                                   regexp_replace('Estado', 'Minas Gerais', 'MG'))\\\n",
        "                       .withColumn('Estado',\\\n",
        "                                   regexp_replace('Estado', 'Espírito Santo', 'ES'))\\\n",
        "                       .withColumn('Estado',\\\n",
        "                                   regexp_replace('Estado', 'Rio de Janeiro', 'RJ'))\\\n",
        "                       .withColumn('Estado',\\\n",
        "                                   regexp_replace('Estado', 'São Paulo', 'SP'))\\\n",
        "                       .withColumn('Estado',\\\n",
        "                                   regexp_replace('Estado', 'Paraná', 'PR'))\\\n",
        "                       .withColumn('Estado',\\\n",
        "                                   regexp_replace('Estado', 'Santa Catarina', 'SC'))\\\n",
        "                       .withColumn('Estado',\\\n",
        "                                   regexp_replace('Estado', 'Rio Grande do Sul', 'RS' ))\\\n",
        "                       .withColumn('Estado',\\\n",
        "                                   regexp_replace('Estado', 'Mato Grosso do Sul', 'MS'))\\\n",
        "                       .withColumn('Estado',\\\n",
        "                                   regexp_replace('Estado', 'Mato Grosso', 'MT'))\\\n",
        "                       .withColumn('Estado',\\\n",
        "                                   regexp_replace('Estado', 'Goiás', 'GO'))\\\n",
        "                       .withColumn('Estado',\\\n",
        "                                   regexp_replace('Estado', 'Distrito Federal', 'DF'))\\\n",
        "\n",
        "desemprego.show(27)"
      ]
    },
    {
      "cell_type": "code",
      "execution_count": 36,
      "metadata": {
        "colab": {
          "base_uri": "https://localhost:8080/"
        },
        "id": "DkPQfCithNBO",
        "outputId": "a5c52291-425d-49c9-d4c0-2a956be79a7a"
      },
      "outputs": [
        {
          "output_type": "stream",
          "name": "stdout",
          "text": [
            "Pessoas desempregadas na semana da pesquisa(Mil pessoas)\n",
            "+------+----------------+----------------+----------------+----------------+----------------+----------------+\n",
            "|Estado|1_trimestre_2019|2_trimestre_2019|3_trimestre_2019|4_trimestre_2019|1_trimestre_2020|2_trimestre_2022|\n",
            "+------+----------------+----------------+----------------+----------------+----------------+----------------+\n",
            "|    SP|            3510|            3368|            3169|            3015|            3151|            2404|\n",
            "|    BA|            1307|            1240|            1194|            1162|            1333|            1104|\n",
            "|    MG|            1257|            1096|            1149|            1098|            1320|             828|\n",
            "|    RJ|            1388|            1366|            1314|            1246|            1313|            1130|\n",
            "|    PE|             696|             681|             674|             601|             611|             578|\n",
            "|    RS|             496|             515|             555|             455|             529|             387|\n",
            "|    CE|             476|             459|             478|             437|             513|             412|\n",
            "|    PR|             550|             560|             559|             450|             487|             374|\n",
            "|    GO|             407|             399|             421|             405|             434|             270|\n",
            "|    MA|             429|             388|             382|             330|             431|             299|\n",
            "|    PA|             445|             435|             444|             360|             417|             377|\n",
            "|    AM|             296|             265|             257|             248|             279|             203|\n",
            "|    RN|             214|             195|             210|             199|             244|             188|\n",
            "|    ES|             266|             242|             233|             227|             243|             174|\n",
            "|    PB|             189|             207|             193|             206|             232|             203|\n",
            "|    DF|             238|             234|             224|             210|             228|             205|\n",
            "|    SC|             285|             239|             227|             216|             223|             160|\n",
            "|    AL|             194|             186|             193|             165|             204|             149|\n",
            "|    PI|             188|             191|             199|             200|             202|             135|\n",
            "|    SE|             165|             169|             162|             168|             171|             140|\n",
            "+------+----------------+----------------+----------------+----------------+----------------+----------------+\n",
            "only showing top 20 rows\n",
            "\n"
          ]
        }
      ],
      "source": [
        "print(\"Pessoas desempregadas na semana da pesquisa(Mil pessoas)\")\n",
        "desemprego20 = desemprego.sort(col(\"1_trimestre_2020\").desc())\n",
        "\n",
        "desemprego20.show()"
      ]
    },
    {
      "cell_type": "markdown",
      "metadata": {
        "id": "y0_ORZ7TSk3b"
      },
      "source": [
        "#### Pessoas desempregadas na semana da pesquisa(Mil pessoas)"
      ]
    },
    {
      "cell_type": "code",
      "execution_count": 37,
      "metadata": {
        "colab": {
          "base_uri": "https://localhost:8080/"
        },
        "id": "DHIKcTXKLhZ_",
        "outputId": "d2cbc68b-81b4-4beb-beef-784731974e83"
      },
      "outputs": [
        {
          "output_type": "stream",
          "name": "stdout",
          "text": [
            "Pessoas desempregadas na semana da pesquisa(Mil pessoas)\n",
            "+------+----------------+----------------+----------------+----------------+----------------+----------------+\n",
            "|Estado|1_trimestre_2019|2_trimestre_2019|3_trimestre_2019|4_trimestre_2019|1_trimestre_2020|2_trimestre_2022|\n",
            "+------+----------------+----------------+----------------+----------------+----------------+----------------+\n",
            "|    SP|            3510|            3368|            3169|            3015|            3151|            2404|\n",
            "|    RJ|            1388|            1366|            1314|            1246|            1313|            1130|\n",
            "|    BA|            1307|            1240|            1194|            1162|            1333|            1104|\n",
            "|    MG|            1257|            1096|            1149|            1098|            1320|             828|\n",
            "|    PE|             696|             681|             674|             601|             611|             578|\n",
            "|    CE|             476|             459|             478|             437|             513|             412|\n",
            "|    RS|             496|             515|             555|             455|             529|             387|\n",
            "|    PA|             445|             435|             444|             360|             417|             377|\n",
            "|    PR|             550|             560|             559|             450|             487|             374|\n",
            "|    MA|             429|             388|             382|             330|             431|             299|\n",
            "|    GO|             407|             399|             421|             405|             434|             270|\n",
            "|    DF|             238|             234|             224|             210|             228|             205|\n",
            "|    AM|             296|             265|             257|             248|             279|             203|\n",
            "|    PB|             189|             207|             193|             206|             232|             203|\n",
            "|    RN|             214|             195|             210|             199|             244|             188|\n",
            "|    ES|             266|             242|             233|             227|             243|             174|\n",
            "|    SC|             285|             239|             227|             216|             223|             160|\n",
            "|    AL|             194|             186|             193|             165|             204|             149|\n",
            "|    SE|             165|             169|             162|             168|             171|             140|\n",
            "|    PI|             188|             191|             199|             200|             202|             135|\n",
            "+------+----------------+----------------+----------------+----------------+----------------+----------------+\n",
            "only showing top 20 rows\n",
            "\n"
          ]
        }
      ],
      "source": [
        "print(\"Pessoas desempregadas na semana da pesquisa(Mil pessoas)\")\n",
        "desemprego22 = desemprego.sort(col(\"2_trimestre_2022\").desc())\n",
        "\n",
        "desemprego22.show()"
      ]
    },
    {
      "cell_type": "markdown",
      "metadata": {
        "id": "DOZHCq_4wY9u"
      },
      "source": [
        "####Foi realizada a soma do valor total de casos novos e óbitos por estado considerando o tempo total."
      ]
    },
    {
      "cell_type": "code",
      "execution_count": 38,
      "metadata": {
        "colab": {
          "base_uri": "https://localhost:8080/"
        },
        "id": "PQLCRp2jYcH_",
        "outputId": "677ee0fb-21a4-4f38-baed-975d268594d8"
      },
      "outputs": [
        {
          "output_type": "stream",
          "name": "stdout",
          "text": [
            "+-------+--------------------+\n",
            "|Estados|total_obitos_estados|\n",
            "+-------+--------------------+\n",
            "|     SP|              196415|\n",
            "|     RJ|               88566|\n",
            "|     MG|               66390|\n",
            "|     PR|               46868|\n",
            "|     RS|               42446|\n",
            "|     CE|               35142|\n",
            "|     BA|               34321|\n",
            "|     GO|               28902|\n",
            "|     PE|               28701|\n",
            "|     PA|               24301|\n",
            "|     SC|               23378|\n",
            "|     ES|               17569|\n",
            "|     AM|               17507|\n",
            "|     MT|               16716|\n",
            "|     MA|               13969|\n",
            "|     DF|               13292|\n",
            "|     PB|               12187|\n",
            "|     MS|               11123|\n",
            "|     RN|               10193|\n",
            "|     PI|                9237|\n",
            "+-------+--------------------+\n",
            "only showing top 20 rows\n",
            "\n"
          ]
        }
      ],
      "source": [
        "estado_total_ob = estados.drop(\"data\")\\\n",
        "                         .groupby(\"estado\")\\\n",
        "                         .agg(sum(\"obitosNovos\").alias(\"total_obitos_estados\"))\\\n",
        "                         .filter(column(\"total_obitos_estados\") >= 0)\\\n",
        "                         .sort(col(\"total_obitos_estados\").desc())\\\n",
        "                         .withColumnRenamed(\"estado\",\"Estados\")\n",
        "                \n",
        "estado_total_ob.show()"
      ]
    },
    {
      "cell_type": "code",
      "execution_count": 39,
      "metadata": {
        "colab": {
          "base_uri": "https://localhost:8080/"
        },
        "id": "b0edVW-PKmoS",
        "outputId": "78e8da56-cf80-4a81-a29d-c28132ddf5d1"
      },
      "outputs": [
        {
          "output_type": "stream",
          "name": "stdout",
          "text": [
            "+------+-------------------+\n",
            "|estado|total_casos_estados|\n",
            "+------+-------------------+\n",
            "|    SP|            6497951|\n",
            "|    MG|            3973929|\n",
            "|    PR|            2797579|\n",
            "|    RS|            2734324|\n",
            "|    RJ|            2628256|\n",
            "|    SC|            1934206|\n",
            "|    BA|            1859218|\n",
            "|    GO|            1713845|\n",
            "|    CE|            1561859|\n",
            "|    ES|            1302535|\n",
            "|    PE|            1131222|\n",
            "|    PA|             974058|\n",
            "|    DF|             940689|\n",
            "|    MT|             870566|\n",
            "|    PB|             730522|\n",
            "|    AM|             710181|\n",
            "|    RN|             598795|\n",
            "|    MS|             594415|\n",
            "|    MA|             584904|\n",
            "|    RO|             488322|\n",
            "+------+-------------------+\n",
            "only showing top 20 rows\n",
            "\n"
          ]
        }
      ],
      "source": [
        "estado_total_cs = estados.drop(\"data\")\\\n",
        "                         .groupby(\"estado\")\\\n",
        "                         .agg(sum(\"casosNovos\").alias(\"total_casos_estados\"))\\\n",
        "                         .filter(column(\"total_casos_estados\") >= 0)\\\n",
        "                         .sort(col(\"total_casos_estados\").desc())\n",
        "\n",
        "                \n",
        "estado_total_cs.show()"
      ]
    },
    {
      "cell_type": "markdown",
      "metadata": {
        "id": "baBFQeNMe6ko"
      },
      "source": [
        "#### Foi feita a junção dos dataframes covid_total, estado_total_ob e estado_total_cs em um só dataframe."
      ]
    },
    {
      "cell_type": "code",
      "execution_count": 40,
      "metadata": {
        "colab": {
          "base_uri": "https://localhost:8080/"
        },
        "id": "358jKWLSvrnK",
        "outputId": "e2175aaf-d6cc-4476-d874-d95c3d76a036"
      },
      "outputs": [
        {
          "output_type": "stream",
          "name": "stdout",
          "text": [
            "+------+----------+-----+------+--------------------+------+--------------+---------------+---------+----------------+--------------+----------+---------------+-----------+----------------+---------------------+-----------------------------+------------------------------+-------------------+--------------------+\n",
            "|estado|      data|coduf|regiao|           municipio|codmun|codRegiaoSaude|nomeRegiaoSaude|semanaEpi|populacaoTCU2019|casosAcumulado|casosNovos|obitosAcumulado|obitosNovos|Recuperadosnovos|emAcompanhamentoNovos|casosNovos_diarios_por_estado|obitosNovos_diarios_por_estado|total_casos_estados|total_obitos_estados|\n",
            "+------+----------+-----+------+--------------------+------+--------------+---------------+---------+----------------+--------------+----------+---------------+-----------+----------------+---------------------+-----------------------------+------------------------------+-------------------+--------------------+\n",
            "|    RO|2020-04-06|   11| Norte|Alta Floresta D'O...|110001|         11005|   ZONA DA MATA|       15|           22945|           0.0|         0|              0|          0|            null|                 null|                            4|                             0|             488322|                8199|\n",
            "|    RO|2020-04-16|   11| Norte|Alta Floresta D'O...|110001|         11005|   ZONA DA MATA|       16|           22945|           0.0|         0|              0|          0|            null|                 null|                           14|                             2|             488322|                8199|\n",
            "|    RO|2020-04-01|   11| Norte|Alta Floresta D'O...|110001|         11005|   ZONA DA MATA|       14|           22945|           0.0|         0|              0|          0|            null|                 null|                            2|                             0|             488322|                8199|\n",
            "|    RO|2020-04-10|   11| Norte|Alta Floresta D'O...|110001|         11005|   ZONA DA MATA|       15|           22945|           0.0|         0|              0|          0|            null|                 null|                            8|                             0|             488322|                8199|\n",
            "|    RO|2020-04-02|   11| Norte|Alta Floresta D'O...|110001|         11005|   ZONA DA MATA|       14|           22945|           0.0|         0|              0|          0|            null|                 null|                            2|                             0|             488322|                8199|\n",
            "|    RO|2020-04-03|   11| Norte|Alta Floresta D'O...|110001|         11005|   ZONA DA MATA|       14|           22945|           0.0|         0|              0|          0|            null|                 null|                            0|                             0|             488322|                8199|\n",
            "|    RO|2020-04-13|   11| Norte|Alta Floresta D'O...|110001|         11005|   ZONA DA MATA|       16|           22945|           0.0|         0|              0|          0|            null|                 null|                           14|                             0|             488322|                8199|\n",
            "|    RO|2020-03-27|   11| Norte|Alta Floresta D'O...|110001|         11005|   ZONA DA MATA|       13|           22945|           0.0|         0|              0|          0|            null|                 null|                            2|                             0|             488322|                8199|\n",
            "|    RO|2020-03-30|   11| Norte|Alta Floresta D'O...|110001|         11005|   ZONA DA MATA|       14|           22945|           0.0|         0|              0|          0|            null|                 null|                            0|                             0|             488322|                8199|\n",
            "|    RO|2020-03-29|   11| Norte|Alta Floresta D'O...|110001|         11005|   ZONA DA MATA|       14|           22945|           0.0|         0|              0|          0|            null|                 null|                            0|                             0|             488322|                8199|\n",
            "|    RO|2020-03-28|   11| Norte|Alta Floresta D'O...|110001|         11005|   ZONA DA MATA|       13|           22945|           0.0|         0|              0|          0|            null|                 null|                            0|                             0|             488322|                8199|\n",
            "|    RO|2020-04-05|   11| Norte|Alta Floresta D'O...|110001|         11005|   ZONA DA MATA|       15|           22945|           0.0|         0|              0|          0|            null|                 null|                            2|                             0|             488322|                8199|\n",
            "|    RO|2020-04-04|   11| Norte|Alta Floresta D'O...|110001|         11005|   ZONA DA MATA|       14|           22945|           0.0|         0|              0|          0|            null|                 null|                            2|                             0|             488322|                8199|\n",
            "|    RO|2020-04-15|   11| Norte|Alta Floresta D'O...|110001|         11005|   ZONA DA MATA|       16|           22945|           0.0|         0|              0|          0|            null|                 null|                           10|                             0|             488322|                8199|\n",
            "|    RO|2020-04-09|   11| Norte|Alta Floresta D'O...|110001|         11005|   ZONA DA MATA|       15|           22945|           0.0|         0|              0|          0|            null|                 null|                           20|                             2|             488322|                8199|\n",
            "|    RO|2020-04-07|   11| Norte|Alta Floresta D'O...|110001|         11005|   ZONA DA MATA|       15|           22945|           0.0|         0|              0|          0|            null|                 null|                            8|                             0|             488322|                8199|\n",
            "|    RO|2020-04-14|   11| Norte|Alta Floresta D'O...|110001|         11005|   ZONA DA MATA|       16|           22945|           0.0|         0|              0|          0|            null|                 null|                           44|                             0|             488322|                8199|\n",
            "|    RO|2020-03-31|   11| Norte|Alta Floresta D'O...|110001|         11005|   ZONA DA MATA|       14|           22945|           0.0|         0|              0|          0|            null|                 null|                            4|                             2|             488322|                8199|\n",
            "|    RO|2020-04-12|   11| Norte|Alta Floresta D'O...|110001|         11005|   ZONA DA MATA|       16|           22945|           0.0|         0|              0|          0|            null|                 null|                            4|                             0|             488322|                8199|\n",
            "|    RO|2020-04-11|   11| Norte|Alta Floresta D'O...|110001|         11005|   ZONA DA MATA|       15|           22945|           0.0|         0|              0|          0|            null|                 null|                            2|                             0|             488322|                8199|\n",
            "+------+----------+-----+------+--------------------+------+--------------+---------------+---------+----------------+--------------+----------+---------------+-----------+----------------+---------------------+-----------------------------+------------------------------+-------------------+--------------------+\n",
            "only showing top 20 rows\n",
            "\n"
          ]
        }
      ],
      "source": [
        "covid_total2 = covid_total.join(estado_total_cs, [\"estado\"], how='left')\\\n",
        "                          .join(estado_total_ob, covid_total.estado ==  estado_total_ob.Estados, how='left')\\\n",
        "                          .drop(estado_total_ob.Estados)\n",
        "\n",
        "covid_total2.show()"
      ]
    },
    {
      "cell_type": "code",
      "execution_count": 41,
      "metadata": {
        "colab": {
          "base_uri": "https://localhost:8080/"
        },
        "id": "W53fipN2Vi3d",
        "outputId": "8b076c62-4317-4ef2-b98c-acd31422b99f"
      },
      "outputs": [
        {
          "output_type": "stream",
          "name": "stdout",
          "text": [
            "+------+----------+-----+------+--------------------+------+--------------+---------------+---------+----------------+--------------+----------+---------------+-----------+----------------+---------------------+-----------------------------+------------------------------+-------------------+--------------------+------+\n",
            "|estado|      data|coduf|regiao|           municipio|codmun|codRegiaoSaude|nomeRegiaoSaude|semanaEpi|populacaoTCU2019|casosAcumulado|casosNovos|obitosAcumulado|obitosNovos|Recuperadosnovos|emAcompanhamentoNovos|casosNovos_diarios_por_estado|obitosNovos_diarios_por_estado|total_casos_estados|total_obitos_estados|  Pais|\n",
            "+------+----------+-----+------+--------------------+------+--------------+---------------+---------+----------------+--------------+----------+---------------+-----------+----------------+---------------------+-----------------------------+------------------------------+-------------------+--------------------+------+\n",
            "|    RO|2020-04-06|   11| Norte|Alta Floresta D'O...|110001|         11005|   ZONA DA MATA|       15|           22945|           0.0|         0|              0|          0|            null|                 null|                            4|                             0|             488322|                8199|Brasil|\n",
            "|    RO|2020-04-16|   11| Norte|Alta Floresta D'O...|110001|         11005|   ZONA DA MATA|       16|           22945|           0.0|         0|              0|          0|            null|                 null|                           14|                             2|             488322|                8199|Brasil|\n",
            "|    RO|2020-04-01|   11| Norte|Alta Floresta D'O...|110001|         11005|   ZONA DA MATA|       14|           22945|           0.0|         0|              0|          0|            null|                 null|                            2|                             0|             488322|                8199|Brasil|\n",
            "|    RO|2020-04-10|   11| Norte|Alta Floresta D'O...|110001|         11005|   ZONA DA MATA|       15|           22945|           0.0|         0|              0|          0|            null|                 null|                            8|                             0|             488322|                8199|Brasil|\n",
            "|    RO|2020-04-02|   11| Norte|Alta Floresta D'O...|110001|         11005|   ZONA DA MATA|       14|           22945|           0.0|         0|              0|          0|            null|                 null|                            2|                             0|             488322|                8199|Brasil|\n",
            "|    RO|2020-04-03|   11| Norte|Alta Floresta D'O...|110001|         11005|   ZONA DA MATA|       14|           22945|           0.0|         0|              0|          0|            null|                 null|                            0|                             0|             488322|                8199|Brasil|\n",
            "|    RO|2020-04-13|   11| Norte|Alta Floresta D'O...|110001|         11005|   ZONA DA MATA|       16|           22945|           0.0|         0|              0|          0|            null|                 null|                           14|                             0|             488322|                8199|Brasil|\n",
            "|    RO|2020-03-27|   11| Norte|Alta Floresta D'O...|110001|         11005|   ZONA DA MATA|       13|           22945|           0.0|         0|              0|          0|            null|                 null|                            2|                             0|             488322|                8199|Brasil|\n",
            "|    RO|2020-03-30|   11| Norte|Alta Floresta D'O...|110001|         11005|   ZONA DA MATA|       14|           22945|           0.0|         0|              0|          0|            null|                 null|                            0|                             0|             488322|                8199|Brasil|\n",
            "|    RO|2020-03-29|   11| Norte|Alta Floresta D'O...|110001|         11005|   ZONA DA MATA|       14|           22945|           0.0|         0|              0|          0|            null|                 null|                            0|                             0|             488322|                8199|Brasil|\n",
            "|    RO|2020-03-28|   11| Norte|Alta Floresta D'O...|110001|         11005|   ZONA DA MATA|       13|           22945|           0.0|         0|              0|          0|            null|                 null|                            0|                             0|             488322|                8199|Brasil|\n",
            "|    RO|2020-04-05|   11| Norte|Alta Floresta D'O...|110001|         11005|   ZONA DA MATA|       15|           22945|           0.0|         0|              0|          0|            null|                 null|                            2|                             0|             488322|                8199|Brasil|\n",
            "|    RO|2020-04-04|   11| Norte|Alta Floresta D'O...|110001|         11005|   ZONA DA MATA|       14|           22945|           0.0|         0|              0|          0|            null|                 null|                            2|                             0|             488322|                8199|Brasil|\n",
            "|    RO|2020-04-15|   11| Norte|Alta Floresta D'O...|110001|         11005|   ZONA DA MATA|       16|           22945|           0.0|         0|              0|          0|            null|                 null|                           10|                             0|             488322|                8199|Brasil|\n",
            "|    RO|2020-04-09|   11| Norte|Alta Floresta D'O...|110001|         11005|   ZONA DA MATA|       15|           22945|           0.0|         0|              0|          0|            null|                 null|                           20|                             2|             488322|                8199|Brasil|\n",
            "|    RO|2020-04-07|   11| Norte|Alta Floresta D'O...|110001|         11005|   ZONA DA MATA|       15|           22945|           0.0|         0|              0|          0|            null|                 null|                            8|                             0|             488322|                8199|Brasil|\n",
            "|    RO|2020-04-14|   11| Norte|Alta Floresta D'O...|110001|         11005|   ZONA DA MATA|       16|           22945|           0.0|         0|              0|          0|            null|                 null|                           44|                             0|             488322|                8199|Brasil|\n",
            "|    RO|2020-03-31|   11| Norte|Alta Floresta D'O...|110001|         11005|   ZONA DA MATA|       14|           22945|           0.0|         0|              0|          0|            null|                 null|                            4|                             2|             488322|                8199|Brasil|\n",
            "|    RO|2020-04-12|   11| Norte|Alta Floresta D'O...|110001|         11005|   ZONA DA MATA|       16|           22945|           0.0|         0|              0|          0|            null|                 null|                            4|                             0|             488322|                8199|Brasil|\n",
            "|    RO|2020-04-11|   11| Norte|Alta Floresta D'O...|110001|         11005|   ZONA DA MATA|       15|           22945|           0.0|         0|              0|          0|            null|                 null|                            2|                             0|             488322|                8199|Brasil|\n",
            "+------+----------+-----+------+--------------------+------+--------------+---------------+---------+----------------+--------------+----------+---------------+-----------+----------------+---------------------+-----------------------------+------------------------------+-------------------+--------------------+------+\n",
            "only showing top 20 rows\n",
            "\n"
          ]
        }
      ],
      "source": [
        "brasil_pais = covid_total2.withColumn(\"Pais\", f.lit(\"Brasil\"))\n",
        "brasil_pais.show()"
      ]
    },
    {
      "cell_type": "code",
      "execution_count": 42,
      "metadata": {
        "colab": {
          "base_uri": "https://localhost:8080/"
        },
        "id": "kxyt2yz3XOsO",
        "outputId": "9178f16d-bb85-431c-e839-1b6ca5da5dd7"
      },
      "outputs": [
        {
          "output_type": "stream",
          "name": "stdout",
          "text": [
            "+------+------+-------------------+--------------------+\n",
            "|  Pais|estado|total_casos_estados|total_obitos_estados|\n",
            "+------+------+-------------------+--------------------+\n",
            "|Brasil|    RO|             488322|                8199|\n",
            "|Brasil|    PB|             730522|               12187|\n",
            "|Brasil|    GO|            1713845|               28902|\n",
            "|Brasil|    PA|             974058|               24301|\n",
            "|Brasil|    DF|             940689|               13292|\n",
            "|Brasil|    PE|            1131222|               28701|\n",
            "|Brasil|    AP|             213910|                2718|\n",
            "|Brasil|    MA|             584904|               13969|\n",
            "|Brasil|    AL|             379049|                8668|\n",
            "|Brasil|    MS|             594415|               11123|\n",
            "|Brasil|    RR|             210101|                2689|\n",
            "|Brasil|    MG|            3973929|               66390|\n",
            "|Brasil|    ES|            1302535|               17569|\n",
            "|Brasil|    SP|            6497951|              196415|\n",
            "|Brasil|    TO|             366096|                4570|\n",
            "|Brasil|    RS|            2734324|               42446|\n",
            "|Brasil|    MT|             870566|               16716|\n",
            "|Brasil|    AC|             166195|                2552|\n",
            "|Brasil|    AM|             710181|               17507|\n",
            "|Brasil|    CE|            1561859|               35142|\n",
            "+------+------+-------------------+--------------------+\n",
            "only showing top 20 rows\n",
            "\n"
          ]
        }
      ],
      "source": [
        "total_br = brasil_pais.select(\"Pais\", \"estado\", \"total_casos_estados\",\\\n",
        "                              \"total_obitos_estados\").distinct()\n",
        "total_br.show()"
      ]
    },
    {
      "cell_type": "markdown",
      "metadata": {
        "id": "UoDDNGoSfdCV"
      },
      "source": [
        "#### Foi realizada a soma do total de casos e obitos no Brasil considerando todo o período."
      ]
    },
    {
      "cell_type": "code",
      "execution_count": 43,
      "metadata": {
        "colab": {
          "base_uri": "https://localhost:8080/"
        },
        "id": "RW7XV6qlYnV4",
        "outputId": "4102ceb1-20cc-4e9a-e254-00fdc3f0499b"
      },
      "outputs": [
        {
          "output_type": "stream",
          "name": "stdout",
          "text": [
            "+------+------------------+\n",
            "|  Pais|total_casos_brasil|\n",
            "+------+------------------+\n",
            "|Brasil|          36805505|\n",
            "+------+------------------+\n",
            "\n"
          ]
        }
      ],
      "source": [
        "total_br1 = total_br.groupBy(\"Pais\")\\\n",
        "                    .agg(f.sum(\"total_casos_estados\")\\\n",
        "                         .alias(\"total_casos_brasil\"))\n",
        "total_br1.show()"
      ]
    },
    {
      "cell_type": "code",
      "execution_count": 44,
      "metadata": {
        "colab": {
          "base_uri": "https://localhost:8080/"
        },
        "id": "qOBBIfxgbncy",
        "outputId": "79f55dd3-d3d0-49ad-fedf-1fc232ff820b"
      },
      "outputs": [
        {
          "output_type": "stream",
          "name": "stdout",
          "text": [
            "+------+-------------------+\n",
            "|  Pais|total_obitos_brasil|\n",
            "+------+-------------------+\n",
            "|Brasil|             774473|\n",
            "+------+-------------------+\n",
            "\n"
          ]
        }
      ],
      "source": [
        "total_br2 = total_br.groupBy(\"Pais\")\\\n",
        "                    .agg(f.sum(\"total_obitos_estados\")\\\n",
        "                         .alias(\"total_obitos_brasil\"))\n",
        "total_br2.show()"
      ]
    },
    {
      "cell_type": "code",
      "execution_count": 45,
      "metadata": {
        "colab": {
          "base_uri": "https://localhost:8080/"
        },
        "id": "-6_X97RRcVsk",
        "outputId": "366ddcd6-a934-4c9e-b2c6-5d93353ea6db"
      },
      "outputs": [
        {
          "output_type": "stream",
          "name": "stdout",
          "text": [
            "+------+------+----------+-----+------+--------------------+------+--------------+---------------+---------+----------------+--------------+----------+---------------+-----------+----------------+---------------------+-----------------------------+------------------------------+-------------------+--------------------+------------------+-------------------+\n",
            "|  Pais|estado|      data|coduf|regiao|           municipio|codmun|codRegiaoSaude|nomeRegiaoSaude|semanaEpi|populacaoTCU2019|casosAcumulado|casosNovos|obitosAcumulado|obitosNovos|Recuperadosnovos|emAcompanhamentoNovos|casosNovos_diarios_por_estado|obitosNovos_diarios_por_estado|total_casos_estados|total_obitos_estados|total_casos_brasil|total_obitos_brasil|\n",
            "+------+------+----------+-----+------+--------------------+------+--------------+---------------+---------+----------------+--------------+----------+---------------+-----------+----------------+---------------------+-----------------------------+------------------------------+-------------------+--------------------+------------------+-------------------+\n",
            "|Brasil|    RO|2020-04-06|   11| Norte|Alta Floresta D'O...|110001|         11005|   ZONA DA MATA|       15|           22945|           0.0|         0|              0|          0|            null|                 null|                            4|                             0|             488322|                8199|          36805505|             774473|\n",
            "|Brasil|    RO|2020-04-16|   11| Norte|Alta Floresta D'O...|110001|         11005|   ZONA DA MATA|       16|           22945|           0.0|         0|              0|          0|            null|                 null|                           14|                             2|             488322|                8199|          36805505|             774473|\n",
            "|Brasil|    RO|2020-04-01|   11| Norte|Alta Floresta D'O...|110001|         11005|   ZONA DA MATA|       14|           22945|           0.0|         0|              0|          0|            null|                 null|                            2|                             0|             488322|                8199|          36805505|             774473|\n",
            "|Brasil|    RO|2020-04-10|   11| Norte|Alta Floresta D'O...|110001|         11005|   ZONA DA MATA|       15|           22945|           0.0|         0|              0|          0|            null|                 null|                            8|                             0|             488322|                8199|          36805505|             774473|\n",
            "|Brasil|    RO|2020-04-02|   11| Norte|Alta Floresta D'O...|110001|         11005|   ZONA DA MATA|       14|           22945|           0.0|         0|              0|          0|            null|                 null|                            2|                             0|             488322|                8199|          36805505|             774473|\n",
            "|Brasil|    RO|2020-04-03|   11| Norte|Alta Floresta D'O...|110001|         11005|   ZONA DA MATA|       14|           22945|           0.0|         0|              0|          0|            null|                 null|                            0|                             0|             488322|                8199|          36805505|             774473|\n",
            "|Brasil|    RO|2020-04-13|   11| Norte|Alta Floresta D'O...|110001|         11005|   ZONA DA MATA|       16|           22945|           0.0|         0|              0|          0|            null|                 null|                           14|                             0|             488322|                8199|          36805505|             774473|\n",
            "|Brasil|    RO|2020-03-27|   11| Norte|Alta Floresta D'O...|110001|         11005|   ZONA DA MATA|       13|           22945|           0.0|         0|              0|          0|            null|                 null|                            2|                             0|             488322|                8199|          36805505|             774473|\n",
            "|Brasil|    RO|2020-03-30|   11| Norte|Alta Floresta D'O...|110001|         11005|   ZONA DA MATA|       14|           22945|           0.0|         0|              0|          0|            null|                 null|                            0|                             0|             488322|                8199|          36805505|             774473|\n",
            "|Brasil|    RO|2020-03-29|   11| Norte|Alta Floresta D'O...|110001|         11005|   ZONA DA MATA|       14|           22945|           0.0|         0|              0|          0|            null|                 null|                            0|                             0|             488322|                8199|          36805505|             774473|\n",
            "|Brasil|    RO|2020-03-28|   11| Norte|Alta Floresta D'O...|110001|         11005|   ZONA DA MATA|       13|           22945|           0.0|         0|              0|          0|            null|                 null|                            0|                             0|             488322|                8199|          36805505|             774473|\n",
            "|Brasil|    RO|2020-04-05|   11| Norte|Alta Floresta D'O...|110001|         11005|   ZONA DA MATA|       15|           22945|           0.0|         0|              0|          0|            null|                 null|                            2|                             0|             488322|                8199|          36805505|             774473|\n",
            "|Brasil|    RO|2020-04-04|   11| Norte|Alta Floresta D'O...|110001|         11005|   ZONA DA MATA|       14|           22945|           0.0|         0|              0|          0|            null|                 null|                            2|                             0|             488322|                8199|          36805505|             774473|\n",
            "|Brasil|    RO|2020-04-15|   11| Norte|Alta Floresta D'O...|110001|         11005|   ZONA DA MATA|       16|           22945|           0.0|         0|              0|          0|            null|                 null|                           10|                             0|             488322|                8199|          36805505|             774473|\n",
            "|Brasil|    RO|2020-04-09|   11| Norte|Alta Floresta D'O...|110001|         11005|   ZONA DA MATA|       15|           22945|           0.0|         0|              0|          0|            null|                 null|                           20|                             2|             488322|                8199|          36805505|             774473|\n",
            "|Brasil|    RO|2020-04-07|   11| Norte|Alta Floresta D'O...|110001|         11005|   ZONA DA MATA|       15|           22945|           0.0|         0|              0|          0|            null|                 null|                            8|                             0|             488322|                8199|          36805505|             774473|\n",
            "|Brasil|    RO|2020-04-14|   11| Norte|Alta Floresta D'O...|110001|         11005|   ZONA DA MATA|       16|           22945|           0.0|         0|              0|          0|            null|                 null|                           44|                             0|             488322|                8199|          36805505|             774473|\n",
            "|Brasil|    RO|2020-03-31|   11| Norte|Alta Floresta D'O...|110001|         11005|   ZONA DA MATA|       14|           22945|           0.0|         0|              0|          0|            null|                 null|                            4|                             2|             488322|                8199|          36805505|             774473|\n",
            "|Brasil|    RO|2020-04-12|   11| Norte|Alta Floresta D'O...|110001|         11005|   ZONA DA MATA|       16|           22945|           0.0|         0|              0|          0|            null|                 null|                            4|                             0|             488322|                8199|          36805505|             774473|\n",
            "|Brasil|    RO|2020-04-11|   11| Norte|Alta Floresta D'O...|110001|         11005|   ZONA DA MATA|       15|           22945|           0.0|         0|              0|          0|            null|                 null|                            2|                             0|             488322|                8199|          36805505|             774473|\n",
            "+------+------+----------+-----+------+--------------------+------+--------------+---------------+---------+----------------+--------------+----------+---------------+-----------+----------------+---------------------+-----------------------------+------------------------------+-------------------+--------------------+------------------+-------------------+\n",
            "only showing top 20 rows\n",
            "\n"
          ]
        }
      ],
      "source": [
        "covid_total3 = brasil_pais.join(total_br1, [\"Pais\"], how='left')\\\n",
        "                          .join(total_br2, [\"Pais\"], how='left')\n",
        "\n",
        "covid_total3.show()"
      ]
    },
    {
      "cell_type": "markdown",
      "metadata": {
        "id": "ArQkINcg2YL7"
      },
      "source": [
        "#### Total de casos e obitos novos por municipio em todo o período.\n"
      ]
    },
    {
      "cell_type": "code",
      "execution_count": 46,
      "metadata": {
        "colab": {
          "base_uri": "https://localhost:8080/"
        },
        "id": "5S8WVNLD2QKp",
        "outputId": "07b27dd9-6d8b-40d4-d8d4-1fe97750d48f"
      },
      "outputs": [
        {
          "output_type": "stream",
          "name": "stdout",
          "text": [
            "+--------------+---------------------+\n",
            "|     municipio|total_casos_municipio|\n",
            "+--------------+---------------------+\n",
            "|     São Paulo|              1305303|\n",
            "|Rio de Janeiro|              1222075|\n",
            "|      Brasília|               940689|\n",
            "|Belo Horizonte|               460413|\n",
            "|     Fortaleza|               440292|\n",
            "|       Goiânia|               415984|\n",
            "|      Salvador|               370669|\n",
            "|        Manaus|               339046|\n",
            "|  Porto Alegre|               305938|\n",
            "|      Curitiba|               303827|\n",
            "|        Recife|               298018|\n",
            "|    Uberlândia|               236629|\n",
            "|       Maringá|               232874|\n",
            "|  Campo Grande|               218008|\n",
            "|         Natal|               211039|\n",
            "|      Campinas|               204718|\n",
            "|       Aracaju|               187655|\n",
            "|     Joinville|               186390|\n",
            "|      Londrina|               185138|\n",
            "|   João Pessoa|               182781|\n",
            "+--------------+---------------------+\n",
            "only showing top 20 rows\n",
            "\n"
          ]
        }
      ],
      "source": [
        "municipio_total_cs = municipios.drop(\"data\")\\\n",
        "                         .groupby(\"municipio\")\\\n",
        "                         .agg(sum(\"casosNovos\").alias(\"total_casos_municipio\"))\\\n",
        "                         .filter(column(\"total_casos_municipio\") >= 0)\\\n",
        "                         .sort(col(\"total_casos_municipio\").desc())\n",
        "\n",
        "municipio_total_cs.show()"
      ]
    },
    {
      "cell_type": "code",
      "execution_count": 47,
      "metadata": {
        "colab": {
          "base_uri": "https://localhost:8080/"
        },
        "id": "t95K35bn2P9j",
        "outputId": "c9deb0c1-cfd0-42da-c13e-c69cac6c9236"
      },
      "outputs": [
        {
          "output_type": "stream",
          "name": "stdout",
          "text": [
            "+--------------------+----------------------+\n",
            "|           municipio|total_obitos_municipio|\n",
            "+--------------------+----------------------+\n",
            "|           São Paulo|                 53062|\n",
            "|      Rio de Janeiro|                 45684|\n",
            "|           Fortaleza|                 15261|\n",
            "|            Brasília|                 13292|\n",
            "|              Recife|                 12576|\n",
            "|              Manaus|                 11803|\n",
            "|            Salvador|                 10640|\n",
            "|            Curitiba|                  9087|\n",
            "|      Belo Horizonte|                  8593|\n",
            "|             Goiânia|                  8268|\n",
            "|               Belém|                  7591|\n",
            "|        Porto Alegre|                  6787|\n",
            "|           Guarulhos|                  6586|\n",
            "|            Campinas|                  5972|\n",
            "|            São Luís|                  5166|\n",
            "|        Campo Grande|                  4715|\n",
            "|              Cuiabá|                  4710|\n",
            "|         São Gonçalo|                  4555|\n",
            "|São Bernardo do C...|                  4390|\n",
            "|             Quixaba|                  4130|\n",
            "+--------------------+----------------------+\n",
            "only showing top 20 rows\n",
            "\n"
          ]
        }
      ],
      "source": [
        "municipio_total_ob = municipios.drop(\"data\")\\\n",
        "                               .groupby(\"municipio\")\\\n",
        "                               .agg(sum(\"obitosNovos\").alias(\"total_obitos_municipio\"))\\\n",
        "                               .filter(column(\"total_obitos_municipio\") >= 0)\\\n",
        "                               .sort(col(\"total_obitos_municipio\").desc())\n",
        "\n",
        "municipio_total_ob.show()"
      ]
    },
    {
      "cell_type": "code",
      "execution_count": 48,
      "metadata": {
        "colab": {
          "base_uri": "https://localhost:8080/"
        },
        "id": "ndZtxFOo2PnX",
        "outputId": "32232341-cf21-4109-c100-17a155a8ac15"
      },
      "outputs": [
        {
          "output_type": "stream",
          "name": "stdout",
          "text": [
            "+------+------+----------+-----+------+------+--------------+---------------+---------+----------------+--------------+----------+---------------+-----------+----------------+---------------------+-----------------------------+------------------------------+-------------------+--------------------+------------------+-------------------+---------------------+----------------------+\n",
            "|  Pais|estado|      data|coduf|regiao|codmun|codRegiaoSaude|nomeRegiaoSaude|semanaEpi|populacaoTCU2019|casosAcumulado|casosNovos|obitosAcumulado|obitosNovos|Recuperadosnovos|emAcompanhamentoNovos|casosNovos_diarios_por_estado|obitosNovos_diarios_por_estado|total_casos_estados|total_obitos_estados|total_casos_brasil|total_obitos_brasil|total_casos_municipio|total_obitos_municipio|\n",
            "+------+------+----------+-----+------+------+--------------+---------------+---------+----------------+--------------+----------+---------------+-----------+----------------+---------------------+-----------------------------+------------------------------+-------------------+--------------------+------------------+-------------------+---------------------+----------------------+\n",
            "|Brasil|    RO|2020-04-06|   11| Norte|110001|         11005|   ZONA DA MATA|       15|           22945|           0.0|         0|              0|          0|            null|                 null|                            4|                             0|             488322|                8199|          36805505|             774473|                 9258|                    87|\n",
            "|Brasil|    RO|2020-04-16|   11| Norte|110001|         11005|   ZONA DA MATA|       16|           22945|           0.0|         0|              0|          0|            null|                 null|                           14|                             2|             488322|                8199|          36805505|             774473|                 9258|                    87|\n",
            "|Brasil|    RO|2020-04-01|   11| Norte|110001|         11005|   ZONA DA MATA|       14|           22945|           0.0|         0|              0|          0|            null|                 null|                            2|                             0|             488322|                8199|          36805505|             774473|                 9258|                    87|\n",
            "|Brasil|    RO|2020-04-10|   11| Norte|110001|         11005|   ZONA DA MATA|       15|           22945|           0.0|         0|              0|          0|            null|                 null|                            8|                             0|             488322|                8199|          36805505|             774473|                 9258|                    87|\n",
            "|Brasil|    RO|2020-04-02|   11| Norte|110001|         11005|   ZONA DA MATA|       14|           22945|           0.0|         0|              0|          0|            null|                 null|                            2|                             0|             488322|                8199|          36805505|             774473|                 9258|                    87|\n",
            "|Brasil|    RO|2020-04-03|   11| Norte|110001|         11005|   ZONA DA MATA|       14|           22945|           0.0|         0|              0|          0|            null|                 null|                            0|                             0|             488322|                8199|          36805505|             774473|                 9258|                    87|\n",
            "|Brasil|    RO|2020-04-13|   11| Norte|110001|         11005|   ZONA DA MATA|       16|           22945|           0.0|         0|              0|          0|            null|                 null|                           14|                             0|             488322|                8199|          36805505|             774473|                 9258|                    87|\n",
            "|Brasil|    RO|2020-03-27|   11| Norte|110001|         11005|   ZONA DA MATA|       13|           22945|           0.0|         0|              0|          0|            null|                 null|                            2|                             0|             488322|                8199|          36805505|             774473|                 9258|                    87|\n",
            "|Brasil|    RO|2020-03-30|   11| Norte|110001|         11005|   ZONA DA MATA|       14|           22945|           0.0|         0|              0|          0|            null|                 null|                            0|                             0|             488322|                8199|          36805505|             774473|                 9258|                    87|\n",
            "|Brasil|    RO|2020-03-29|   11| Norte|110001|         11005|   ZONA DA MATA|       14|           22945|           0.0|         0|              0|          0|            null|                 null|                            0|                             0|             488322|                8199|          36805505|             774473|                 9258|                    87|\n",
            "|Brasil|    RO|2020-03-28|   11| Norte|110001|         11005|   ZONA DA MATA|       13|           22945|           0.0|         0|              0|          0|            null|                 null|                            0|                             0|             488322|                8199|          36805505|             774473|                 9258|                    87|\n",
            "|Brasil|    RO|2020-04-05|   11| Norte|110001|         11005|   ZONA DA MATA|       15|           22945|           0.0|         0|              0|          0|            null|                 null|                            2|                             0|             488322|                8199|          36805505|             774473|                 9258|                    87|\n",
            "|Brasil|    RO|2020-04-04|   11| Norte|110001|         11005|   ZONA DA MATA|       14|           22945|           0.0|         0|              0|          0|            null|                 null|                            2|                             0|             488322|                8199|          36805505|             774473|                 9258|                    87|\n",
            "|Brasil|    RO|2020-04-15|   11| Norte|110001|         11005|   ZONA DA MATA|       16|           22945|           0.0|         0|              0|          0|            null|                 null|                           10|                             0|             488322|                8199|          36805505|             774473|                 9258|                    87|\n",
            "|Brasil|    RO|2020-04-09|   11| Norte|110001|         11005|   ZONA DA MATA|       15|           22945|           0.0|         0|              0|          0|            null|                 null|                           20|                             2|             488322|                8199|          36805505|             774473|                 9258|                    87|\n",
            "|Brasil|    RO|2020-04-07|   11| Norte|110001|         11005|   ZONA DA MATA|       15|           22945|           0.0|         0|              0|          0|            null|                 null|                            8|                             0|             488322|                8199|          36805505|             774473|                 9258|                    87|\n",
            "|Brasil|    RO|2020-04-14|   11| Norte|110001|         11005|   ZONA DA MATA|       16|           22945|           0.0|         0|              0|          0|            null|                 null|                           44|                             0|             488322|                8199|          36805505|             774473|                 9258|                    87|\n",
            "|Brasil|    RO|2020-03-31|   11| Norte|110001|         11005|   ZONA DA MATA|       14|           22945|           0.0|         0|              0|          0|            null|                 null|                            4|                             2|             488322|                8199|          36805505|             774473|                 9258|                    87|\n",
            "|Brasil|    RO|2020-04-12|   11| Norte|110001|         11005|   ZONA DA MATA|       16|           22945|           0.0|         0|              0|          0|            null|                 null|                            4|                             0|             488322|                8199|          36805505|             774473|                 9258|                    87|\n",
            "|Brasil|    RO|2020-04-11|   11| Norte|110001|         11005|   ZONA DA MATA|       15|           22945|           0.0|         0|              0|          0|            null|                 null|                            2|                             0|             488322|                8199|          36805505|             774473|                 9258|                    87|\n",
            "+------+------+----------+-----+------+------+--------------+---------------+---------+----------------+--------------+----------+---------------+-----------+----------------+---------------------+-----------------------------+------------------------------+-------------------+--------------------+------------------+-------------------+---------------------+----------------------+\n",
            "only showing top 20 rows\n",
            "\n"
          ]
        }
      ],
      "source": [
        "covid_total4 = covid_total3.join(municipio_total_cs, [\"municipio\"], how='left')\\\n",
        "                           .join(municipio_total_ob, [\"municipio\"], how='left')\\\n",
        "                           .drop(municipio_total_ob.municipio)\\\n",
        "                           .drop(municipio_total_cs.municipio)\n",
        "\n",
        "\n",
        "covid_total4.show()\n"
      ]
    },
    {
      "cell_type": "markdown",
      "metadata": {
        "id": "Mv1FCXxLXvFs"
      },
      "source": [
        "#### Foi tirada a média do total de casos e total de óbitos por estado"
      ]
    },
    {
      "cell_type": "code",
      "execution_count": 49,
      "metadata": {
        "colab": {
          "base_uri": "https://localhost:8080/"
        },
        "id": "YHXUTOiXeRg3",
        "outputId": "14e60108-57ae-4bf7-da3c-5ccf52434469"
      },
      "outputs": [
        {
          "output_type": "stream",
          "name": "stdout",
          "text": [
            "+------+------+----------+-----+------+------+--------------+---------------+---------+----------------+--------------+----------+---------------+-----------+----------------+---------------------+-----------------------------+------------------------------+-------------------+--------------------+------------------+-------------------+---------------------+----------------------+-------------------------+------------------------+\n",
            "|  Pais|estado|      data|coduf|regiao|codmun|codRegiaoSaude|nomeRegiaoSaude|semanaEpi|populacaoTCU2019|casosAcumulado|casosNovos|obitosAcumulado|obitosNovos|Recuperadosnovos|emAcompanhamentoNovos|casosNovos_diarios_por_estado|obitosNovos_diarios_por_estado|total_casos_estados|total_obitos_estados|total_casos_brasil|total_obitos_brasil|total_casos_municipio|total_obitos_municipio|media_total_obitos_estado|media_total_casos_estado|\n",
            "+------+------+----------+-----+------+------+--------------+---------------+---------+----------------+--------------+----------+---------------+-----------+----------------+---------------------+-----------------------------+------------------------------+-------------------+--------------------+------------------+-------------------+---------------------+----------------------+-------------------------+------------------------+\n",
            "|Brasil|    RO|2020-04-06|   11| Norte|110001|         11005|   ZONA DA MATA|       15|           22945|           0.0|         0|              0|          0|            null|                 null|                            4|                             0|             488322|                8199|          36805505|             774473|                 9258|                    87|                    0.011|                   0.013|\n",
            "|Brasil|    RO|2020-04-16|   11| Norte|110001|         11005|   ZONA DA MATA|       16|           22945|           0.0|         0|              0|          0|            null|                 null|                           14|                             2|             488322|                8199|          36805505|             774473|                 9258|                    87|                    0.011|                   0.013|\n",
            "|Brasil|    RO|2020-04-01|   11| Norte|110001|         11005|   ZONA DA MATA|       14|           22945|           0.0|         0|              0|          0|            null|                 null|                            2|                             0|             488322|                8199|          36805505|             774473|                 9258|                    87|                    0.011|                   0.013|\n",
            "|Brasil|    RO|2020-04-10|   11| Norte|110001|         11005|   ZONA DA MATA|       15|           22945|           0.0|         0|              0|          0|            null|                 null|                            8|                             0|             488322|                8199|          36805505|             774473|                 9258|                    87|                    0.011|                   0.013|\n",
            "|Brasil|    RO|2020-04-02|   11| Norte|110001|         11005|   ZONA DA MATA|       14|           22945|           0.0|         0|              0|          0|            null|                 null|                            2|                             0|             488322|                8199|          36805505|             774473|                 9258|                    87|                    0.011|                   0.013|\n",
            "|Brasil|    RO|2020-04-03|   11| Norte|110001|         11005|   ZONA DA MATA|       14|           22945|           0.0|         0|              0|          0|            null|                 null|                            0|                             0|             488322|                8199|          36805505|             774473|                 9258|                    87|                    0.011|                   0.013|\n",
            "|Brasil|    RO|2020-04-13|   11| Norte|110001|         11005|   ZONA DA MATA|       16|           22945|           0.0|         0|              0|          0|            null|                 null|                           14|                             0|             488322|                8199|          36805505|             774473|                 9258|                    87|                    0.011|                   0.013|\n",
            "|Brasil|    RO|2020-03-27|   11| Norte|110001|         11005|   ZONA DA MATA|       13|           22945|           0.0|         0|              0|          0|            null|                 null|                            2|                             0|             488322|                8199|          36805505|             774473|                 9258|                    87|                    0.011|                   0.013|\n",
            "|Brasil|    RO|2020-03-30|   11| Norte|110001|         11005|   ZONA DA MATA|       14|           22945|           0.0|         0|              0|          0|            null|                 null|                            0|                             0|             488322|                8199|          36805505|             774473|                 9258|                    87|                    0.011|                   0.013|\n",
            "|Brasil|    RO|2020-03-29|   11| Norte|110001|         11005|   ZONA DA MATA|       14|           22945|           0.0|         0|              0|          0|            null|                 null|                            0|                             0|             488322|                8199|          36805505|             774473|                 9258|                    87|                    0.011|                   0.013|\n",
            "|Brasil|    RO|2020-03-28|   11| Norte|110001|         11005|   ZONA DA MATA|       13|           22945|           0.0|         0|              0|          0|            null|                 null|                            0|                             0|             488322|                8199|          36805505|             774473|                 9258|                    87|                    0.011|                   0.013|\n",
            "|Brasil|    RO|2020-04-05|   11| Norte|110001|         11005|   ZONA DA MATA|       15|           22945|           0.0|         0|              0|          0|            null|                 null|                            2|                             0|             488322|                8199|          36805505|             774473|                 9258|                    87|                    0.011|                   0.013|\n",
            "|Brasil|    RO|2020-04-04|   11| Norte|110001|         11005|   ZONA DA MATA|       14|           22945|           0.0|         0|              0|          0|            null|                 null|                            2|                             0|             488322|                8199|          36805505|             774473|                 9258|                    87|                    0.011|                   0.013|\n",
            "|Brasil|    RO|2020-04-15|   11| Norte|110001|         11005|   ZONA DA MATA|       16|           22945|           0.0|         0|              0|          0|            null|                 null|                           10|                             0|             488322|                8199|          36805505|             774473|                 9258|                    87|                    0.011|                   0.013|\n",
            "|Brasil|    RO|2020-04-09|   11| Norte|110001|         11005|   ZONA DA MATA|       15|           22945|           0.0|         0|              0|          0|            null|                 null|                           20|                             2|             488322|                8199|          36805505|             774473|                 9258|                    87|                    0.011|                   0.013|\n",
            "|Brasil|    RO|2020-04-07|   11| Norte|110001|         11005|   ZONA DA MATA|       15|           22945|           0.0|         0|              0|          0|            null|                 null|                            8|                             0|             488322|                8199|          36805505|             774473|                 9258|                    87|                    0.011|                   0.013|\n",
            "|Brasil|    RO|2020-04-14|   11| Norte|110001|         11005|   ZONA DA MATA|       16|           22945|           0.0|         0|              0|          0|            null|                 null|                           44|                             0|             488322|                8199|          36805505|             774473|                 9258|                    87|                    0.011|                   0.013|\n",
            "|Brasil|    RO|2020-03-31|   11| Norte|110001|         11005|   ZONA DA MATA|       14|           22945|           0.0|         0|              0|          0|            null|                 null|                            4|                             2|             488322|                8199|          36805505|             774473|                 9258|                    87|                    0.011|                   0.013|\n",
            "|Brasil|    RO|2020-04-12|   11| Norte|110001|         11005|   ZONA DA MATA|       16|           22945|           0.0|         0|              0|          0|            null|                 null|                            4|                             0|             488322|                8199|          36805505|             774473|                 9258|                    87|                    0.011|                   0.013|\n",
            "|Brasil|    RO|2020-04-11|   11| Norte|110001|         11005|   ZONA DA MATA|       15|           22945|           0.0|         0|              0|          0|            null|                 null|                            2|                             0|             488322|                8199|          36805505|             774473|                 9258|                    87|                    0.011|                   0.013|\n",
            "+------+------+----------+-----+------+------+--------------+---------------+---------+----------------+--------------+----------+---------------+-----------+----------------+---------------------+-----------------------------+------------------------------+-------------------+--------------------+------------------+-------------------+---------------------+----------------------+-------------------------+------------------------+\n",
            "only showing top 20 rows\n",
            "\n"
          ]
        }
      ],
      "source": [
        "covid_total5 = covid_total4.withColumn(\"media_total_obitos_estado\",\\\n",
        "                                       round(col(\"total_obitos_estados\")\\\n",
        "                                             /col(\"total_obitos_brasil\"), 3))\\\n",
        "                           .withColumn(\"media_total_casos_estado\",\\\n",
        "                                       round(col(\"total_casos_estados\")\\\n",
        "                                             /col(\"total_casos_brasil\"), 3))\n",
        "\n",
        "covid_total5.show()"
      ]
    },
    {
      "cell_type": "code",
      "execution_count": 50,
      "metadata": {
        "colab": {
          "base_uri": "https://localhost:8080/"
        },
        "id": "5n072JD1ZBRx",
        "outputId": "4ea0ce02-0518-4911-ba39-6cdad38077ff"
      },
      "outputs": [
        {
          "output_type": "stream",
          "name": "stdout",
          "text": [
            "+------+------+-------------------------+------------------------+\n",
            "|  Pais|estado|media_total_obitos_estado|media_total_casos_estado|\n",
            "+------+------+-------------------------+------------------------+\n",
            "|Brasil|    SP|                    0.254|                   0.177|\n",
            "|Brasil|    RJ|                    0.114|                   0.071|\n",
            "|Brasil|    MG|                    0.086|                   0.108|\n",
            "|Brasil|    PR|                    0.061|                   0.076|\n",
            "|Brasil|    RS|                    0.055|                   0.074|\n",
            "|Brasil|    CE|                    0.045|                   0.042|\n",
            "|Brasil|    BA|                    0.044|                   0.051|\n",
            "|Brasil|    GO|                    0.037|                   0.047|\n",
            "|Brasil|    PE|                    0.037|                   0.031|\n",
            "|Brasil|    PA|                    0.031|                   0.026|\n",
            "|Brasil|    SC|                     0.03|                   0.053|\n",
            "|Brasil|    ES|                    0.023|                   0.035|\n",
            "|Brasil|    AM|                    0.023|                   0.019|\n",
            "|Brasil|    MT|                    0.022|                   0.024|\n",
            "|Brasil|    MA|                    0.018|                   0.016|\n",
            "|Brasil|    DF|                    0.017|                   0.026|\n",
            "|Brasil|    PB|                    0.016|                    0.02|\n",
            "|Brasil|    MS|                    0.014|                   0.016|\n",
            "|Brasil|    RN|                    0.013|                   0.016|\n",
            "|Brasil|    PI|                    0.012|                   0.012|\n",
            "+------+------+-------------------------+------------------------+\n",
            "only showing top 20 rows\n",
            "\n",
            "+------+------+-------------------------+------------------------+\n",
            "|  Pais|estado|media_total_obitos_estado|media_total_casos_estado|\n",
            "+------+------+-------------------------+------------------------+\n",
            "|Brasil|    SP|                    0.254|                   0.177|\n",
            "|Brasil|    MG|                    0.086|                   0.108|\n",
            "|Brasil|    PR|                    0.061|                   0.076|\n",
            "|Brasil|    RS|                    0.055|                   0.074|\n",
            "|Brasil|    RJ|                    0.114|                   0.071|\n",
            "|Brasil|    SC|                     0.03|                   0.053|\n",
            "|Brasil|    BA|                    0.044|                   0.051|\n",
            "|Brasil|    GO|                    0.037|                   0.047|\n",
            "|Brasil|    CE|                    0.045|                   0.042|\n",
            "|Brasil|    ES|                    0.023|                   0.035|\n",
            "|Brasil|    PE|                    0.037|                   0.031|\n",
            "|Brasil|    PA|                    0.031|                   0.026|\n",
            "|Brasil|    DF|                    0.017|                   0.026|\n",
            "|Brasil|    MT|                    0.022|                   0.024|\n",
            "|Brasil|    PB|                    0.016|                    0.02|\n",
            "|Brasil|    AM|                    0.023|                   0.019|\n",
            "|Brasil|    MA|                    0.018|                   0.016|\n",
            "|Brasil|    RN|                    0.013|                   0.016|\n",
            "|Brasil|    MS|                    0.014|                   0.016|\n",
            "|Brasil|    RO|                    0.011|                   0.013|\n",
            "+------+------+-------------------------+------------------------+\n",
            "only showing top 20 rows\n",
            "\n"
          ]
        }
      ],
      "source": [
        "media_estado = covid_total5.select(\"Pais\", \"estado\", \\\n",
        "                                   \"media_total_obitos_estado\",\\\n",
        "                                   \"media_total_casos_estado\")\\\n",
        "                           .distinct()\\\n",
        "                           .orderBy(col(\"media_total_obitos_estado\").desc())\n",
        "\n",
        "media_estado2 = covid_total5.select(\"Pais\", \"estado\",\\\n",
        "                                    \"media_total_obitos_estado\", \\\n",
        "                                    \"media_total_casos_estado\")\\\n",
        "                           .distinct()\\\n",
        "                           .orderBy( col(\"media_total_casos_estado\").desc())\n",
        "\n",
        "media_estado.show()\n",
        "media_estado2.show()"
      ]
    },
    {
      "cell_type": "markdown",
      "metadata": {
        "id": "_ClcE4TuDAwK"
      },
      "source": [
        "#### Total de casos e óbitos novos por estado no ano de 2022."
      ]
    },
    {
      "cell_type": "code",
      "execution_count": 51,
      "metadata": {
        "id": "EeLZi-vpSZB8",
        "colab": {
          "base_uri": "https://localhost:8080/"
        },
        "outputId": "c49f32d4-9f98-497b-a9a8-45b1ddcf7c19"
      },
      "outputs": [
        {
          "output_type": "stream",
          "name": "stdout",
          "text": [
            "+----------+------+----------+\n",
            "|      data|estado|casosNovos|\n",
            "+----------+------+----------+\n",
            "|2022-05-26|    TO|     74352|\n",
            "|2022-04-18|    TO|     73235|\n",
            "|2022-03-06|    CE|     34425|\n",
            "|2022-03-05|    CE|     33592|\n",
            "|2022-07-24|    BA|     30261|\n",
            "|2022-07-25|    BA|     29651|\n",
            "|2022-07-25|    BA|     25006|\n",
            "|2022-07-24|    BA|     24578|\n",
            "|2022-01-26|    RJ|     23095|\n",
            "|2022-01-30|    CE|     22009|\n",
            "|2022-02-05|    RJ|     21722|\n",
            "|2022-01-27|    RJ|     21103|\n",
            "|2022-02-23|    MG|     21013|\n",
            "|2022-01-21|    RJ|     20789|\n",
            "|2022-01-28|    RJ|     20761|\n",
            "|2022-04-18|    TO|     19827|\n",
            "|2022-01-22|    RJ|     19821|\n",
            "|2022-01-29|    RJ|     18083|\n",
            "|2022-07-25|    BA|     17763|\n",
            "|2022-01-25|    RJ|     17372|\n",
            "+----------+------+----------+\n",
            "only showing top 20 rows\n",
            "\n"
          ]
        }
      ],
      "source": [
        "casos_novos2022 = covid_total5.select(\"data\", \"estado\", \"casosNovos\")\\\n",
        "                              .filter(covid_total4.data.like(\"%2022%\"))\\\n",
        "                              .orderBy(col(\"casosNovos\").desc())\n",
        "\n",
        "\n",
        "casos_novos2022.show()"
      ]
    },
    {
      "cell_type": "code",
      "execution_count": 52,
      "metadata": {
        "id": "TGTYAD1bYzIv",
        "colab": {
          "base_uri": "https://localhost:8080/"
        },
        "outputId": "e9cba92d-73a4-480a-d7c0-7d59841bbd22"
      },
      "outputs": [
        {
          "output_type": "stream",
          "name": "stdout",
          "text": [
            "+----------+------+----------+\n",
            "|      data|estado|casosNovos|\n",
            "+----------+------+----------+\n",
            "|2022-05-26|    TO|     74352|\n",
            "|2022-04-18|    TO|     73235|\n",
            "|2022-03-06|    CE|     34425|\n",
            "|2022-03-05|    CE|     33592|\n",
            "|2022-07-24|    BA|     30261|\n",
            "|2022-07-25|    BA|     29651|\n",
            "|2022-07-25|    BA|     25006|\n",
            "|2022-07-24|    BA|     24578|\n",
            "|2022-01-26|    RJ|     23095|\n",
            "|2022-01-30|    CE|     22009|\n",
            "|2022-02-05|    RJ|     21722|\n",
            "|2022-01-27|    RJ|     21103|\n",
            "|2022-02-23|    MG|     21013|\n",
            "|2022-01-21|    RJ|     20789|\n",
            "|2022-01-28|    RJ|     20761|\n",
            "|2022-04-18|    TO|     19827|\n",
            "|2022-01-22|    RJ|     19821|\n",
            "|2022-01-29|    RJ|     18083|\n",
            "|2022-07-25|    BA|     17763|\n",
            "|2022-01-25|    RJ|     17372|\n",
            "+----------+------+----------+\n",
            "only showing top 20 rows\n",
            "\n"
          ]
        }
      ],
      "source": [
        "obitos_novos2022 = covid_total5.select(\"data\", \"estado\", \"obitosNovos\")\\\n",
        "                    .filter(covid_total4.data.like(\"%2022%\"))\\\n",
        "                    .orderBy(col(\"obitosNovos\").desc())\n",
        "\n",
        "\n",
        "casos_novos2022.show()"
      ]
    },
    {
      "cell_type": "code",
      "execution_count": 53,
      "metadata": {
        "id": "a-0rQQUDJemq",
        "colab": {
          "base_uri": "https://localhost:8080/"
        },
        "outputId": "c8d57c34-2af5-4697-ba99-be34650f3340"
      },
      "outputs": [
        {
          "output_type": "stream",
          "name": "stdout",
          "text": [
            "+------+----------------+\n",
            "|estado|populacaoTCU2019|\n",
            "+------+----------------+\n",
            "|    SP|        12252023|\n",
            "|    RJ|         6718903|\n",
            "|    DF|         3015268|\n",
            "|    BA|         2872347|\n",
            "|    CE|         2669342|\n",
            "|    MG|         2512070|\n",
            "|    AM|         2182763|\n",
            "|    PR|         1933105|\n",
            "|    PE|         1645727|\n",
            "|    GO|         1516113|\n",
            "|    PA|         1492745|\n",
            "|    RS|         1483771|\n",
            "|    SP|         1379182|\n",
            "|    SP|         1204073|\n",
            "|    MA|         1101884|\n",
            "|    RJ|         1084839|\n",
            "|    AL|         1018948|\n",
            "|    RJ|          919596|\n",
            "|    MS|          895982|\n",
            "|    RN|          884122|\n",
            "+------+----------------+\n",
            "only showing top 20 rows\n",
            "\n"
          ]
        }
      ],
      "source": [
        "populacao_tcu2019 = covid_total5.select(\"estado\", \"populacaoTCU2019\").distinct()\\\n",
        "                                .orderBy(col(\"populacaoTCU2019\").desc())\n",
        "\n",
        "populacao_tcu2019.show()"
      ]
    },
    {
      "cell_type": "markdown",
      "metadata": {
        "id": "eXUCItyQwtJI"
      },
      "source": [
        "#### Demostração dos dados em gráfico."
      ]
    },
    {
      "cell_type": "code",
      "execution_count": 54,
      "metadata": {
        "id": "ETGqGTVjIYj3"
      },
      "outputs": [],
      "source": [
        "graf = estado_total_ob.join(desemprego20, estado_total_ob.Estados == desemprego.Estado, \"inner\")\\\n",
        "                      .drop(\"Estado\")\n",
        "graf = graf.toPandas()"
      ]
    },
    {
      "cell_type": "code",
      "execution_count": 55,
      "metadata": {
        "id": "wdZuDgUYvC8I",
        "colab": {
          "base_uri": "https://localhost:8080/",
          "height": 1000
        },
        "outputId": "805d6f85-6d97-4105-8a54-32c3239d5f06"
      },
      "outputs": [
        {
          "output_type": "display_data",
          "data": {
            "text/html": [
              "<html>\n",
              "<head><meta charset=\"utf-8\" /></head>\n",
              "<body>\n",
              "    <div>            <script src=\"https://cdnjs.cloudflare.com/ajax/libs/mathjax/2.7.5/MathJax.js?config=TeX-AMS-MML_SVG\"></script><script type=\"text/javascript\">if (window.MathJax) {MathJax.Hub.Config({SVG: {font: \"STIX-Web\"}});}</script>                <script type=\"text/javascript\">window.PlotlyConfig = {MathJaxConfig: 'local'};</script>\n",
              "        <script src=\"https://cdn.plot.ly/plotly-2.8.3.min.js\"></script>                <div id=\"132c4e0b-e76e-4856-b4fc-c656948c0e65\" class=\"plotly-graph-div\" style=\"height:525px; width:100%;\"></div>            <script type=\"text/javascript\">                                    window.PLOTLYENV=window.PLOTLYENV || {};                                    if (document.getElementById(\"132c4e0b-e76e-4856-b4fc-c656948c0e65\")) {                    Plotly.newPlot(                        \"132c4e0b-e76e-4856-b4fc-c656948c0e65\",                        [{\"alignmentgroup\":\"True\",\"hovertemplate\":\"variable=total_obitos_estados<br>Estados=%{x}<br>value=%{y}<extra></extra>\",\"legendgroup\":\"total_obitos_estados\",\"marker\":{\"color\":\"#636efa\",\"pattern\":{\"shape\":\"\"}},\"name\":\"total_obitos_estados\",\"offsetgroup\":\"total_obitos_estados\",\"orientation\":\"v\",\"showlegend\":true,\"textposition\":\"auto\",\"texttemplate\":\"%{y:.2s}\",\"x\":[\"SC\",\"RO\",\"PI\",\"AM\",\"RR\",\"GO\",\"TO\",\"MT\",\"SP\",\"PB\",\"ES\",\"RS\",\"MS\",\"AL\",\"MG\",\"PA\",\"BA\",\"SE\",\"PE\",\"CE\",\"RN\",\"RJ\",\"MA\",\"AC\",\"DF\",\"PR\",\"AP\"],\"xaxis\":\"x\",\"y\":[23378,8199,9237,17507,2689,28902,4570,16716,196415,12187,17569,42446,11123,8668,66390,24301,34321,7854,28701,35142,10193,88566,13969,2552,13292,46868,2718],\"yaxis\":\"y\",\"type\":\"bar\"},{\"alignmentgroup\":\"True\",\"hovertemplate\":\"variable=1_trimestre_2019<br>Estados=%{x}<br>value=%{y}<extra></extra>\",\"legendgroup\":\"1_trimestre_2019\",\"marker\":{\"color\":\"#EF553B\",\"pattern\":{\"shape\":\"\"}},\"name\":\"1_trimestre_2019\",\"offsetgroup\":\"1_trimestre_2019\",\"orientation\":\"v\",\"showlegend\":true,\"textposition\":\"auto\",\"texttemplate\":\"%{y:.2s}\",\"x\":[\"SC\",\"RO\",\"PI\",\"AM\",\"RR\",\"GO\",\"TO\",\"MT\",\"SP\",\"PB\",\"ES\",\"RS\",\"MS\",\"AL\",\"MG\",\"PA\",\"BA\",\"SE\",\"PE\",\"CE\",\"RN\",\"RJ\",\"MA\",\"AC\",\"DF\",\"PR\",\"AP\"],\"xaxis\":\"x\",\"y\":[285,79,188,296,39,407,90,167,3510,189,266,496,137,194,1257,445,1307,165,696,476,214,1388,429,65,238,550,78],\"yaxis\":\"y\",\"type\":\"bar\"},{\"alignmentgroup\":\"True\",\"hovertemplate\":\"variable=2_trimestre_2019<br>Estados=%{x}<br>value=%{y}<extra></extra>\",\"legendgroup\":\"2_trimestre_2019\",\"marker\":{\"color\":\"#00cc96\",\"pattern\":{\"shape\":\"\"}},\"name\":\"2_trimestre_2019\",\"offsetgroup\":\"2_trimestre_2019\",\"orientation\":\"v\",\"showlegend\":true,\"textposition\":\"auto\",\"texttemplate\":\"%{y:.2s}\",\"x\":[\"SC\",\"RO\",\"PI\",\"AM\",\"RR\",\"GO\",\"TO\",\"MT\",\"SP\",\"PB\",\"ES\",\"RS\",\"MS\",\"AL\",\"MG\",\"PA\",\"BA\",\"SE\",\"PE\",\"CE\",\"RN\",\"RJ\",\"MA\",\"AC\",\"DF\",\"PR\",\"AP\"],\"xaxis\":\"x\",\"y\":[239,60,191,265,38,399,84,154,3368,207,242,515,123,186,1096,435,1240,169,681,459,195,1366,388,49,234,560,69],\"yaxis\":\"y\",\"type\":\"bar\"},{\"alignmentgroup\":\"True\",\"hovertemplate\":\"variable=3_trimestre_2019<br>Estados=%{x}<br>value=%{y}<extra></extra>\",\"legendgroup\":\"3_trimestre_2019\",\"marker\":{\"color\":\"#ab63fa\",\"pattern\":{\"shape\":\"\"}},\"name\":\"3_trimestre_2019\",\"offsetgroup\":\"3_trimestre_2019\",\"orientation\":\"v\",\"showlegend\":true,\"textposition\":\"auto\",\"texttemplate\":\"%{y:.2s}\",\"x\":[\"SC\",\"RO\",\"PI\",\"AM\",\"RR\",\"GO\",\"TO\",\"MT\",\"SP\",\"PB\",\"ES\",\"RS\",\"MS\",\"AL\",\"MG\",\"PA\",\"BA\",\"SE\",\"PE\",\"CE\",\"RN\",\"RJ\",\"MA\",\"AC\",\"DF\",\"PR\",\"AP\"],\"xaxis\":\"x\",\"y\":[227,74,199,257,37,421,78,148,3169,193,233,555,111,193,1149,444,1194,162,674,478,210,1314,382,47,224,559,66],\"yaxis\":\"y\",\"type\":\"bar\"},{\"alignmentgroup\":\"True\",\"hovertemplate\":\"variable=4_trimestre_2019<br>Estados=%{x}<br>value=%{y}<extra></extra>\",\"legendgroup\":\"4_trimestre_2019\",\"marker\":{\"color\":\"#FFA15A\",\"pattern\":{\"shape\":\"\"}},\"name\":\"4_trimestre_2019\",\"offsetgroup\":\"4_trimestre_2019\",\"orientation\":\"v\",\"showlegend\":true,\"textposition\":\"auto\",\"texttemplate\":\"%{y:.2s}\",\"x\":[\"SC\",\"RO\",\"PI\",\"AM\",\"RR\",\"GO\",\"TO\",\"MT\",\"SP\",\"PB\",\"ES\",\"RS\",\"MS\",\"AL\",\"MG\",\"PA\",\"BA\",\"SE\",\"PE\",\"CE\",\"RN\",\"RJ\",\"MA\",\"AC\",\"DF\",\"PR\",\"AP\"],\"xaxis\":\"x\",\"y\":[216,72,200,248,38,405,67,117,3015,206,227,455,96,165,1098,360,1162,168,601,437,199,1246,330,49,210,450,62],\"yaxis\":\"y\",\"type\":\"bar\"},{\"alignmentgroup\":\"True\",\"hovertemplate\":\"variable=1_trimestre_2020<br>Estados=%{x}<br>value=%{y}<extra></extra>\",\"legendgroup\":\"1_trimestre_2020\",\"marker\":{\"color\":\"#19d3f3\",\"pattern\":{\"shape\":\"\"}},\"name\":\"1_trimestre_2020\",\"offsetgroup\":\"1_trimestre_2020\",\"orientation\":\"v\",\"showlegend\":true,\"textposition\":\"auto\",\"texttemplate\":\"%{y:.2s}\",\"x\":[\"SC\",\"RO\",\"PI\",\"AM\",\"RR\",\"GO\",\"TO\",\"MT\",\"SP\",\"PB\",\"ES\",\"RS\",\"MS\",\"AL\",\"MG\",\"PA\",\"BA\",\"SE\",\"PE\",\"CE\",\"RN\",\"RJ\",\"MA\",\"AC\",\"DF\",\"PR\",\"AP\"],\"xaxis\":\"x\",\"y\":[223,76,202,279,42,434,84,158,3151,232,243,529,111,204,1320,417,1333,171,611,513,244,1313,431,47,228,487,67],\"yaxis\":\"y\",\"type\":\"bar\"},{\"alignmentgroup\":\"True\",\"hovertemplate\":\"variable=2_trimestre_2022<br>Estados=%{x}<br>value=%{y}<extra></extra>\",\"legendgroup\":\"2_trimestre_2022\",\"marker\":{\"color\":\"#FF6692\",\"pattern\":{\"shape\":\"\"}},\"name\":\"2_trimestre_2022\",\"offsetgroup\":\"2_trimestre_2022\",\"orientation\":\"v\",\"showlegend\":true,\"textposition\":\"auto\",\"texttemplate\":\"%{y:.2s}\",\"x\":[\"SC\",\"RO\",\"PI\",\"AM\",\"RR\",\"GO\",\"TO\",\"MT\",\"SP\",\"PB\",\"ES\",\"RS\",\"MS\",\"AL\",\"MG\",\"PA\",\"BA\",\"SE\",\"PE\",\"CE\",\"RN\",\"RJ\",\"MA\",\"AC\",\"DF\",\"PR\",\"AP\"],\"xaxis\":\"x\",\"y\":[160,52,135,203,16,270,43,82,2404,203,174,387,75,149,828,377,1104,140,578,412,188,1130,299,45,205,374,48],\"yaxis\":\"y\",\"type\":\"bar\"}],                        {\"template\":{\"data\":{\"bar\":[{\"error_x\":{\"color\":\"#2a3f5f\"},\"error_y\":{\"color\":\"#2a3f5f\"},\"marker\":{\"line\":{\"color\":\"#E5ECF6\",\"width\":0.5},\"pattern\":{\"fillmode\":\"overlay\",\"size\":10,\"solidity\":0.2}},\"type\":\"bar\"}],\"barpolar\":[{\"marker\":{\"line\":{\"color\":\"#E5ECF6\",\"width\":0.5},\"pattern\":{\"fillmode\":\"overlay\",\"size\":10,\"solidity\":0.2}},\"type\":\"barpolar\"}],\"carpet\":[{\"aaxis\":{\"endlinecolor\":\"#2a3f5f\",\"gridcolor\":\"white\",\"linecolor\":\"white\",\"minorgridcolor\":\"white\",\"startlinecolor\":\"#2a3f5f\"},\"baxis\":{\"endlinecolor\":\"#2a3f5f\",\"gridcolor\":\"white\",\"linecolor\":\"white\",\"minorgridcolor\":\"white\",\"startlinecolor\":\"#2a3f5f\"},\"type\":\"carpet\"}],\"choropleth\":[{\"colorbar\":{\"outlinewidth\":0,\"ticks\":\"\"},\"type\":\"choropleth\"}],\"contour\":[{\"colorbar\":{\"outlinewidth\":0,\"ticks\":\"\"},\"colorscale\":[[0.0,\"#0d0887\"],[0.1111111111111111,\"#46039f\"],[0.2222222222222222,\"#7201a8\"],[0.3333333333333333,\"#9c179e\"],[0.4444444444444444,\"#bd3786\"],[0.5555555555555556,\"#d8576b\"],[0.6666666666666666,\"#ed7953\"],[0.7777777777777778,\"#fb9f3a\"],[0.8888888888888888,\"#fdca26\"],[1.0,\"#f0f921\"]],\"type\":\"contour\"}],\"contourcarpet\":[{\"colorbar\":{\"outlinewidth\":0,\"ticks\":\"\"},\"type\":\"contourcarpet\"}],\"heatmap\":[{\"colorbar\":{\"outlinewidth\":0,\"ticks\":\"\"},\"colorscale\":[[0.0,\"#0d0887\"],[0.1111111111111111,\"#46039f\"],[0.2222222222222222,\"#7201a8\"],[0.3333333333333333,\"#9c179e\"],[0.4444444444444444,\"#bd3786\"],[0.5555555555555556,\"#d8576b\"],[0.6666666666666666,\"#ed7953\"],[0.7777777777777778,\"#fb9f3a\"],[0.8888888888888888,\"#fdca26\"],[1.0,\"#f0f921\"]],\"type\":\"heatmap\"}],\"heatmapgl\":[{\"colorbar\":{\"outlinewidth\":0,\"ticks\":\"\"},\"colorscale\":[[0.0,\"#0d0887\"],[0.1111111111111111,\"#46039f\"],[0.2222222222222222,\"#7201a8\"],[0.3333333333333333,\"#9c179e\"],[0.4444444444444444,\"#bd3786\"],[0.5555555555555556,\"#d8576b\"],[0.6666666666666666,\"#ed7953\"],[0.7777777777777778,\"#fb9f3a\"],[0.8888888888888888,\"#fdca26\"],[1.0,\"#f0f921\"]],\"type\":\"heatmapgl\"}],\"histogram\":[{\"marker\":{\"pattern\":{\"fillmode\":\"overlay\",\"size\":10,\"solidity\":0.2}},\"type\":\"histogram\"}],\"histogram2d\":[{\"colorbar\":{\"outlinewidth\":0,\"ticks\":\"\"},\"colorscale\":[[0.0,\"#0d0887\"],[0.1111111111111111,\"#46039f\"],[0.2222222222222222,\"#7201a8\"],[0.3333333333333333,\"#9c179e\"],[0.4444444444444444,\"#bd3786\"],[0.5555555555555556,\"#d8576b\"],[0.6666666666666666,\"#ed7953\"],[0.7777777777777778,\"#fb9f3a\"],[0.8888888888888888,\"#fdca26\"],[1.0,\"#f0f921\"]],\"type\":\"histogram2d\"}],\"histogram2dcontour\":[{\"colorbar\":{\"outlinewidth\":0,\"ticks\":\"\"},\"colorscale\":[[0.0,\"#0d0887\"],[0.1111111111111111,\"#46039f\"],[0.2222222222222222,\"#7201a8\"],[0.3333333333333333,\"#9c179e\"],[0.4444444444444444,\"#bd3786\"],[0.5555555555555556,\"#d8576b\"],[0.6666666666666666,\"#ed7953\"],[0.7777777777777778,\"#fb9f3a\"],[0.8888888888888888,\"#fdca26\"],[1.0,\"#f0f921\"]],\"type\":\"histogram2dcontour\"}],\"mesh3d\":[{\"colorbar\":{\"outlinewidth\":0,\"ticks\":\"\"},\"type\":\"mesh3d\"}],\"parcoords\":[{\"line\":{\"colorbar\":{\"outlinewidth\":0,\"ticks\":\"\"}},\"type\":\"parcoords\"}],\"pie\":[{\"automargin\":true,\"type\":\"pie\"}],\"scatter\":[{\"marker\":{\"colorbar\":{\"outlinewidth\":0,\"ticks\":\"\"}},\"type\":\"scatter\"}],\"scatter3d\":[{\"line\":{\"colorbar\":{\"outlinewidth\":0,\"ticks\":\"\"}},\"marker\":{\"colorbar\":{\"outlinewidth\":0,\"ticks\":\"\"}},\"type\":\"scatter3d\"}],\"scattercarpet\":[{\"marker\":{\"colorbar\":{\"outlinewidth\":0,\"ticks\":\"\"}},\"type\":\"scattercarpet\"}],\"scattergeo\":[{\"marker\":{\"colorbar\":{\"outlinewidth\":0,\"ticks\":\"\"}},\"type\":\"scattergeo\"}],\"scattergl\":[{\"marker\":{\"colorbar\":{\"outlinewidth\":0,\"ticks\":\"\"}},\"type\":\"scattergl\"}],\"scattermapbox\":[{\"marker\":{\"colorbar\":{\"outlinewidth\":0,\"ticks\":\"\"}},\"type\":\"scattermapbox\"}],\"scatterpolar\":[{\"marker\":{\"colorbar\":{\"outlinewidth\":0,\"ticks\":\"\"}},\"type\":\"scatterpolar\"}],\"scatterpolargl\":[{\"marker\":{\"colorbar\":{\"outlinewidth\":0,\"ticks\":\"\"}},\"type\":\"scatterpolargl\"}],\"scatterternary\":[{\"marker\":{\"colorbar\":{\"outlinewidth\":0,\"ticks\":\"\"}},\"type\":\"scatterternary\"}],\"surface\":[{\"colorbar\":{\"outlinewidth\":0,\"ticks\":\"\"},\"colorscale\":[[0.0,\"#0d0887\"],[0.1111111111111111,\"#46039f\"],[0.2222222222222222,\"#7201a8\"],[0.3333333333333333,\"#9c179e\"],[0.4444444444444444,\"#bd3786\"],[0.5555555555555556,\"#d8576b\"],[0.6666666666666666,\"#ed7953\"],[0.7777777777777778,\"#fb9f3a\"],[0.8888888888888888,\"#fdca26\"],[1.0,\"#f0f921\"]],\"type\":\"surface\"}],\"table\":[{\"cells\":{\"fill\":{\"color\":\"#EBF0F8\"},\"line\":{\"color\":\"white\"}},\"header\":{\"fill\":{\"color\":\"#C8D4E3\"},\"line\":{\"color\":\"white\"}},\"type\":\"table\"}]},\"layout\":{\"annotationdefaults\":{\"arrowcolor\":\"#2a3f5f\",\"arrowhead\":0,\"arrowwidth\":1},\"autotypenumbers\":\"strict\",\"coloraxis\":{\"colorbar\":{\"outlinewidth\":0,\"ticks\":\"\"}},\"colorscale\":{\"diverging\":[[0,\"#8e0152\"],[0.1,\"#c51b7d\"],[0.2,\"#de77ae\"],[0.3,\"#f1b6da\"],[0.4,\"#fde0ef\"],[0.5,\"#f7f7f7\"],[0.6,\"#e6f5d0\"],[0.7,\"#b8e186\"],[0.8,\"#7fbc41\"],[0.9,\"#4d9221\"],[1,\"#276419\"]],\"sequential\":[[0.0,\"#0d0887\"],[0.1111111111111111,\"#46039f\"],[0.2222222222222222,\"#7201a8\"],[0.3333333333333333,\"#9c179e\"],[0.4444444444444444,\"#bd3786\"],[0.5555555555555556,\"#d8576b\"],[0.6666666666666666,\"#ed7953\"],[0.7777777777777778,\"#fb9f3a\"],[0.8888888888888888,\"#fdca26\"],[1.0,\"#f0f921\"]],\"sequentialminus\":[[0.0,\"#0d0887\"],[0.1111111111111111,\"#46039f\"],[0.2222222222222222,\"#7201a8\"],[0.3333333333333333,\"#9c179e\"],[0.4444444444444444,\"#bd3786\"],[0.5555555555555556,\"#d8576b\"],[0.6666666666666666,\"#ed7953\"],[0.7777777777777778,\"#fb9f3a\"],[0.8888888888888888,\"#fdca26\"],[1.0,\"#f0f921\"]]},\"colorway\":[\"#636efa\",\"#EF553B\",\"#00cc96\",\"#ab63fa\",\"#FFA15A\",\"#19d3f3\",\"#FF6692\",\"#B6E880\",\"#FF97FF\",\"#FECB52\"],\"font\":{\"color\":\"#2a3f5f\"},\"geo\":{\"bgcolor\":\"white\",\"lakecolor\":\"white\",\"landcolor\":\"#E5ECF6\",\"showlakes\":true,\"showland\":true,\"subunitcolor\":\"white\"},\"hoverlabel\":{\"align\":\"left\"},\"hovermode\":\"closest\",\"mapbox\":{\"style\":\"light\"},\"paper_bgcolor\":\"white\",\"plot_bgcolor\":\"#E5ECF6\",\"polar\":{\"angularaxis\":{\"gridcolor\":\"white\",\"linecolor\":\"white\",\"ticks\":\"\"},\"bgcolor\":\"#E5ECF6\",\"radialaxis\":{\"gridcolor\":\"white\",\"linecolor\":\"white\",\"ticks\":\"\"}},\"scene\":{\"xaxis\":{\"backgroundcolor\":\"#E5ECF6\",\"gridcolor\":\"white\",\"gridwidth\":2,\"linecolor\":\"white\",\"showbackground\":true,\"ticks\":\"\",\"zerolinecolor\":\"white\"},\"yaxis\":{\"backgroundcolor\":\"#E5ECF6\",\"gridcolor\":\"white\",\"gridwidth\":2,\"linecolor\":\"white\",\"showbackground\":true,\"ticks\":\"\",\"zerolinecolor\":\"white\"},\"zaxis\":{\"backgroundcolor\":\"#E5ECF6\",\"gridcolor\":\"white\",\"gridwidth\":2,\"linecolor\":\"white\",\"showbackground\":true,\"ticks\":\"\",\"zerolinecolor\":\"white\"}},\"shapedefaults\":{\"line\":{\"color\":\"#2a3f5f\"}},\"ternary\":{\"aaxis\":{\"gridcolor\":\"white\",\"linecolor\":\"white\",\"ticks\":\"\"},\"baxis\":{\"gridcolor\":\"white\",\"linecolor\":\"white\",\"ticks\":\"\"},\"bgcolor\":\"#E5ECF6\",\"caxis\":{\"gridcolor\":\"white\",\"linecolor\":\"white\",\"ticks\":\"\"}},\"title\":{\"x\":0.05},\"xaxis\":{\"automargin\":true,\"gridcolor\":\"white\",\"linecolor\":\"white\",\"ticks\":\"\",\"title\":{\"standoff\":15},\"zerolinecolor\":\"white\",\"zerolinewidth\":2},\"yaxis\":{\"automargin\":true,\"gridcolor\":\"white\",\"linecolor\":\"white\",\"ticks\":\"\",\"title\":{\"standoff\":15},\"zerolinecolor\":\"white\",\"zerolinewidth\":2}}},\"xaxis\":{\"anchor\":\"y\",\"domain\":[0.0,1.0],\"title\":{\"text\":\"Estados\"}},\"yaxis\":{\"anchor\":\"x\",\"domain\":[0.0,1.0],\"title\":{\"text\":\"value\"}},\"legend\":{\"title\":{\"text\":\"variable\"},\"tracegroupgap\":0},\"title\":{\"text\":\"Obitos por Covid e Desemprego\"},\"barmode\":\"group\"},                        {\"responsive\": true}                    ).then(function(){\n",
              "                            \n",
              "var gd = document.getElementById('132c4e0b-e76e-4856-b4fc-c656948c0e65');\n",
              "var x = new MutationObserver(function (mutations, observer) {{\n",
              "        var display = window.getComputedStyle(gd).display;\n",
              "        if (!display || display === 'none') {{\n",
              "            console.log([gd, 'removed!']);\n",
              "            Plotly.purge(gd);\n",
              "            observer.disconnect();\n",
              "        }}\n",
              "}});\n",
              "\n",
              "// Listen for the removal of the full notebook cells\n",
              "var notebookContainer = gd.closest('#notebook-container');\n",
              "if (notebookContainer) {{\n",
              "    x.observe(notebookContainer, {childList: true});\n",
              "}}\n",
              "\n",
              "// Listen for the clearing of the current output cell\n",
              "var outputEl = gd.closest('.output');\n",
              "if (outputEl) {{\n",
              "    x.observe(outputEl, {childList: true});\n",
              "}}\n",
              "\n",
              "                        })                };                            </script>        </div>\n",
              "</body>\n",
              "</html>"
            ]
          },
          "metadata": {}
        },
        {
          "output_type": "display_data",
          "data": {
            "text/html": [
              "<html>\n",
              "<head><meta charset=\"utf-8\" /></head>\n",
              "<body>\n",
              "    <div>            <script src=\"https://cdnjs.cloudflare.com/ajax/libs/mathjax/2.7.5/MathJax.js?config=TeX-AMS-MML_SVG\"></script><script type=\"text/javascript\">if (window.MathJax) {MathJax.Hub.Config({SVG: {font: \"STIX-Web\"}});}</script>                <script type=\"text/javascript\">window.PlotlyConfig = {MathJaxConfig: 'local'};</script>\n",
              "        <script src=\"https://cdn.plot.ly/plotly-2.8.3.min.js\"></script>                <div id=\"f20a6fdc-e8a7-4f67-acb5-90e5a2cad235\" class=\"plotly-graph-div\" style=\"height:525px; width:100%;\"></div>            <script type=\"text/javascript\">                                    window.PLOTLYENV=window.PLOTLYENV || {};                                    if (document.getElementById(\"f20a6fdc-e8a7-4f67-acb5-90e5a2cad235\")) {                    Plotly.newPlot(                        \"f20a6fdc-e8a7-4f67-acb5-90e5a2cad235\",                        [{\"alignmentgroup\":\"True\",\"hovertemplate\":\"Estados=%{x}<br>total_obitos_estados=%{marker.color}<extra></extra>\",\"legendgroup\":\"\",\"marker\":{\"color\":[23378,8199,9237,17507,2689,28902,4570,16716,196415,12187,17569,42446,11123,8668,66390,24301,34321,7854,28701,35142,10193,88566,13969,2552,13292,46868,2718],\"coloraxis\":\"coloraxis\",\"pattern\":{\"shape\":\"\"}},\"name\":\"\",\"offsetgroup\":\"\",\"orientation\":\"v\",\"showlegend\":false,\"textposition\":\"auto\",\"x\":[\"SC\",\"RO\",\"PI\",\"AM\",\"RR\",\"GO\",\"TO\",\"MT\",\"SP\",\"PB\",\"ES\",\"RS\",\"MS\",\"AL\",\"MG\",\"PA\",\"BA\",\"SE\",\"PE\",\"CE\",\"RN\",\"RJ\",\"MA\",\"AC\",\"DF\",\"PR\",\"AP\"],\"xaxis\":\"x\",\"y\":[23378,8199,9237,17507,2689,28902,4570,16716,196415,12187,17569,42446,11123,8668,66390,24301,34321,7854,28701,35142,10193,88566,13969,2552,13292,46868,2718],\"yaxis\":\"y\",\"type\":\"bar\"}],                        {\"template\":{\"data\":{\"bar\":[{\"error_x\":{\"color\":\"#2a3f5f\"},\"error_y\":{\"color\":\"#2a3f5f\"},\"marker\":{\"line\":{\"color\":\"#E5ECF6\",\"width\":0.5},\"pattern\":{\"fillmode\":\"overlay\",\"size\":10,\"solidity\":0.2}},\"type\":\"bar\"}],\"barpolar\":[{\"marker\":{\"line\":{\"color\":\"#E5ECF6\",\"width\":0.5},\"pattern\":{\"fillmode\":\"overlay\",\"size\":10,\"solidity\":0.2}},\"type\":\"barpolar\"}],\"carpet\":[{\"aaxis\":{\"endlinecolor\":\"#2a3f5f\",\"gridcolor\":\"white\",\"linecolor\":\"white\",\"minorgridcolor\":\"white\",\"startlinecolor\":\"#2a3f5f\"},\"baxis\":{\"endlinecolor\":\"#2a3f5f\",\"gridcolor\":\"white\",\"linecolor\":\"white\",\"minorgridcolor\":\"white\",\"startlinecolor\":\"#2a3f5f\"},\"type\":\"carpet\"}],\"choropleth\":[{\"colorbar\":{\"outlinewidth\":0,\"ticks\":\"\"},\"type\":\"choropleth\"}],\"contour\":[{\"colorbar\":{\"outlinewidth\":0,\"ticks\":\"\"},\"colorscale\":[[0.0,\"#0d0887\"],[0.1111111111111111,\"#46039f\"],[0.2222222222222222,\"#7201a8\"],[0.3333333333333333,\"#9c179e\"],[0.4444444444444444,\"#bd3786\"],[0.5555555555555556,\"#d8576b\"],[0.6666666666666666,\"#ed7953\"],[0.7777777777777778,\"#fb9f3a\"],[0.8888888888888888,\"#fdca26\"],[1.0,\"#f0f921\"]],\"type\":\"contour\"}],\"contourcarpet\":[{\"colorbar\":{\"outlinewidth\":0,\"ticks\":\"\"},\"type\":\"contourcarpet\"}],\"heatmap\":[{\"colorbar\":{\"outlinewidth\":0,\"ticks\":\"\"},\"colorscale\":[[0.0,\"#0d0887\"],[0.1111111111111111,\"#46039f\"],[0.2222222222222222,\"#7201a8\"],[0.3333333333333333,\"#9c179e\"],[0.4444444444444444,\"#bd3786\"],[0.5555555555555556,\"#d8576b\"],[0.6666666666666666,\"#ed7953\"],[0.7777777777777778,\"#fb9f3a\"],[0.8888888888888888,\"#fdca26\"],[1.0,\"#f0f921\"]],\"type\":\"heatmap\"}],\"heatmapgl\":[{\"colorbar\":{\"outlinewidth\":0,\"ticks\":\"\"},\"colorscale\":[[0.0,\"#0d0887\"],[0.1111111111111111,\"#46039f\"],[0.2222222222222222,\"#7201a8\"],[0.3333333333333333,\"#9c179e\"],[0.4444444444444444,\"#bd3786\"],[0.5555555555555556,\"#d8576b\"],[0.6666666666666666,\"#ed7953\"],[0.7777777777777778,\"#fb9f3a\"],[0.8888888888888888,\"#fdca26\"],[1.0,\"#f0f921\"]],\"type\":\"heatmapgl\"}],\"histogram\":[{\"marker\":{\"pattern\":{\"fillmode\":\"overlay\",\"size\":10,\"solidity\":0.2}},\"type\":\"histogram\"}],\"histogram2d\":[{\"colorbar\":{\"outlinewidth\":0,\"ticks\":\"\"},\"colorscale\":[[0.0,\"#0d0887\"],[0.1111111111111111,\"#46039f\"],[0.2222222222222222,\"#7201a8\"],[0.3333333333333333,\"#9c179e\"],[0.4444444444444444,\"#bd3786\"],[0.5555555555555556,\"#d8576b\"],[0.6666666666666666,\"#ed7953\"],[0.7777777777777778,\"#fb9f3a\"],[0.8888888888888888,\"#fdca26\"],[1.0,\"#f0f921\"]],\"type\":\"histogram2d\"}],\"histogram2dcontour\":[{\"colorbar\":{\"outlinewidth\":0,\"ticks\":\"\"},\"colorscale\":[[0.0,\"#0d0887\"],[0.1111111111111111,\"#46039f\"],[0.2222222222222222,\"#7201a8\"],[0.3333333333333333,\"#9c179e\"],[0.4444444444444444,\"#bd3786\"],[0.5555555555555556,\"#d8576b\"],[0.6666666666666666,\"#ed7953\"],[0.7777777777777778,\"#fb9f3a\"],[0.8888888888888888,\"#fdca26\"],[1.0,\"#f0f921\"]],\"type\":\"histogram2dcontour\"}],\"mesh3d\":[{\"colorbar\":{\"outlinewidth\":0,\"ticks\":\"\"},\"type\":\"mesh3d\"}],\"parcoords\":[{\"line\":{\"colorbar\":{\"outlinewidth\":0,\"ticks\":\"\"}},\"type\":\"parcoords\"}],\"pie\":[{\"automargin\":true,\"type\":\"pie\"}],\"scatter\":[{\"marker\":{\"colorbar\":{\"outlinewidth\":0,\"ticks\":\"\"}},\"type\":\"scatter\"}],\"scatter3d\":[{\"line\":{\"colorbar\":{\"outlinewidth\":0,\"ticks\":\"\"}},\"marker\":{\"colorbar\":{\"outlinewidth\":0,\"ticks\":\"\"}},\"type\":\"scatter3d\"}],\"scattercarpet\":[{\"marker\":{\"colorbar\":{\"outlinewidth\":0,\"ticks\":\"\"}},\"type\":\"scattercarpet\"}],\"scattergeo\":[{\"marker\":{\"colorbar\":{\"outlinewidth\":0,\"ticks\":\"\"}},\"type\":\"scattergeo\"}],\"scattergl\":[{\"marker\":{\"colorbar\":{\"outlinewidth\":0,\"ticks\":\"\"}},\"type\":\"scattergl\"}],\"scattermapbox\":[{\"marker\":{\"colorbar\":{\"outlinewidth\":0,\"ticks\":\"\"}},\"type\":\"scattermapbox\"}],\"scatterpolar\":[{\"marker\":{\"colorbar\":{\"outlinewidth\":0,\"ticks\":\"\"}},\"type\":\"scatterpolar\"}],\"scatterpolargl\":[{\"marker\":{\"colorbar\":{\"outlinewidth\":0,\"ticks\":\"\"}},\"type\":\"scatterpolargl\"}],\"scatterternary\":[{\"marker\":{\"colorbar\":{\"outlinewidth\":0,\"ticks\":\"\"}},\"type\":\"scatterternary\"}],\"surface\":[{\"colorbar\":{\"outlinewidth\":0,\"ticks\":\"\"},\"colorscale\":[[0.0,\"#0d0887\"],[0.1111111111111111,\"#46039f\"],[0.2222222222222222,\"#7201a8\"],[0.3333333333333333,\"#9c179e\"],[0.4444444444444444,\"#bd3786\"],[0.5555555555555556,\"#d8576b\"],[0.6666666666666666,\"#ed7953\"],[0.7777777777777778,\"#fb9f3a\"],[0.8888888888888888,\"#fdca26\"],[1.0,\"#f0f921\"]],\"type\":\"surface\"}],\"table\":[{\"cells\":{\"fill\":{\"color\":\"#EBF0F8\"},\"line\":{\"color\":\"white\"}},\"header\":{\"fill\":{\"color\":\"#C8D4E3\"},\"line\":{\"color\":\"white\"}},\"type\":\"table\"}]},\"layout\":{\"annotationdefaults\":{\"arrowcolor\":\"#2a3f5f\",\"arrowhead\":0,\"arrowwidth\":1},\"autotypenumbers\":\"strict\",\"coloraxis\":{\"colorbar\":{\"outlinewidth\":0,\"ticks\":\"\"}},\"colorscale\":{\"diverging\":[[0,\"#8e0152\"],[0.1,\"#c51b7d\"],[0.2,\"#de77ae\"],[0.3,\"#f1b6da\"],[0.4,\"#fde0ef\"],[0.5,\"#f7f7f7\"],[0.6,\"#e6f5d0\"],[0.7,\"#b8e186\"],[0.8,\"#7fbc41\"],[0.9,\"#4d9221\"],[1,\"#276419\"]],\"sequential\":[[0.0,\"#0d0887\"],[0.1111111111111111,\"#46039f\"],[0.2222222222222222,\"#7201a8\"],[0.3333333333333333,\"#9c179e\"],[0.4444444444444444,\"#bd3786\"],[0.5555555555555556,\"#d8576b\"],[0.6666666666666666,\"#ed7953\"],[0.7777777777777778,\"#fb9f3a\"],[0.8888888888888888,\"#fdca26\"],[1.0,\"#f0f921\"]],\"sequentialminus\":[[0.0,\"#0d0887\"],[0.1111111111111111,\"#46039f\"],[0.2222222222222222,\"#7201a8\"],[0.3333333333333333,\"#9c179e\"],[0.4444444444444444,\"#bd3786\"],[0.5555555555555556,\"#d8576b\"],[0.6666666666666666,\"#ed7953\"],[0.7777777777777778,\"#fb9f3a\"],[0.8888888888888888,\"#fdca26\"],[1.0,\"#f0f921\"]]},\"colorway\":[\"#636efa\",\"#EF553B\",\"#00cc96\",\"#ab63fa\",\"#FFA15A\",\"#19d3f3\",\"#FF6692\",\"#B6E880\",\"#FF97FF\",\"#FECB52\"],\"font\":{\"color\":\"#2a3f5f\"},\"geo\":{\"bgcolor\":\"white\",\"lakecolor\":\"white\",\"landcolor\":\"#E5ECF6\",\"showlakes\":true,\"showland\":true,\"subunitcolor\":\"white\"},\"hoverlabel\":{\"align\":\"left\"},\"hovermode\":\"closest\",\"mapbox\":{\"style\":\"light\"},\"paper_bgcolor\":\"white\",\"plot_bgcolor\":\"#E5ECF6\",\"polar\":{\"angularaxis\":{\"gridcolor\":\"white\",\"linecolor\":\"white\",\"ticks\":\"\"},\"bgcolor\":\"#E5ECF6\",\"radialaxis\":{\"gridcolor\":\"white\",\"linecolor\":\"white\",\"ticks\":\"\"}},\"scene\":{\"xaxis\":{\"backgroundcolor\":\"#E5ECF6\",\"gridcolor\":\"white\",\"gridwidth\":2,\"linecolor\":\"white\",\"showbackground\":true,\"ticks\":\"\",\"zerolinecolor\":\"white\"},\"yaxis\":{\"backgroundcolor\":\"#E5ECF6\",\"gridcolor\":\"white\",\"gridwidth\":2,\"linecolor\":\"white\",\"showbackground\":true,\"ticks\":\"\",\"zerolinecolor\":\"white\"},\"zaxis\":{\"backgroundcolor\":\"#E5ECF6\",\"gridcolor\":\"white\",\"gridwidth\":2,\"linecolor\":\"white\",\"showbackground\":true,\"ticks\":\"\",\"zerolinecolor\":\"white\"}},\"shapedefaults\":{\"line\":{\"color\":\"#2a3f5f\"}},\"ternary\":{\"aaxis\":{\"gridcolor\":\"white\",\"linecolor\":\"white\",\"ticks\":\"\"},\"baxis\":{\"gridcolor\":\"white\",\"linecolor\":\"white\",\"ticks\":\"\"},\"bgcolor\":\"#E5ECF6\",\"caxis\":{\"gridcolor\":\"white\",\"linecolor\":\"white\",\"ticks\":\"\"}},\"title\":{\"x\":0.05},\"xaxis\":{\"automargin\":true,\"gridcolor\":\"white\",\"linecolor\":\"white\",\"ticks\":\"\",\"title\":{\"standoff\":15},\"zerolinecolor\":\"white\",\"zerolinewidth\":2},\"yaxis\":{\"automargin\":true,\"gridcolor\":\"white\",\"linecolor\":\"white\",\"ticks\":\"\",\"title\":{\"standoff\":15},\"zerolinecolor\":\"white\",\"zerolinewidth\":2}}},\"xaxis\":{\"anchor\":\"y\",\"domain\":[0.0,1.0],\"title\":{\"text\":\"Estados\"}},\"yaxis\":{\"anchor\":\"x\",\"domain\":[0.0,1.0],\"title\":{\"text\":\"total_obitos_estados\"}},\"coloraxis\":{\"colorbar\":{\"title\":{\"text\":\"total_obitos_estados\"}},\"colorscale\":[[0.0,\"#0d0887\"],[0.1111111111111111,\"#46039f\"],[0.2222222222222222,\"#7201a8\"],[0.3333333333333333,\"#9c179e\"],[0.4444444444444444,\"#bd3786\"],[0.5555555555555556,\"#d8576b\"],[0.6666666666666666,\"#ed7953\"],[0.7777777777777778,\"#fb9f3a\"],[0.8888888888888888,\"#fdca26\"],[1.0,\"#f0f921\"]]},\"legend\":{\"tracegroupgap\":0},\"title\":{\"text\":\"Obitos por Covid\"},\"barmode\":\"group\"},                        {\"responsive\": true}                    ).then(function(){\n",
              "                            \n",
              "var gd = document.getElementById('f20a6fdc-e8a7-4f67-acb5-90e5a2cad235');\n",
              "var x = new MutationObserver(function (mutations, observer) {{\n",
              "        var display = window.getComputedStyle(gd).display;\n",
              "        if (!display || display === 'none') {{\n",
              "            console.log([gd, 'removed!']);\n",
              "            Plotly.purge(gd);\n",
              "            observer.disconnect();\n",
              "        }}\n",
              "}});\n",
              "\n",
              "// Listen for the removal of the full notebook cells\n",
              "var notebookContainer = gd.closest('#notebook-container');\n",
              "if (notebookContainer) {{\n",
              "    x.observe(notebookContainer, {childList: true});\n",
              "}}\n",
              "\n",
              "// Listen for the clearing of the current output cell\n",
              "var outputEl = gd.closest('.output');\n",
              "if (outputEl) {{\n",
              "    x.observe(outputEl, {childList: true});\n",
              "}}\n",
              "\n",
              "                        })                };                            </script>        </div>\n",
              "</body>\n",
              "</html>"
            ]
          },
          "metadata": {}
        },
        {
          "output_type": "display_data",
          "data": {
            "text/html": [
              "<html>\n",
              "<head><meta charset=\"utf-8\" /></head>\n",
              "<body>\n",
              "    <div>            <script src=\"https://cdnjs.cloudflare.com/ajax/libs/mathjax/2.7.5/MathJax.js?config=TeX-AMS-MML_SVG\"></script><script type=\"text/javascript\">if (window.MathJax) {MathJax.Hub.Config({SVG: {font: \"STIX-Web\"}});}</script>                <script type=\"text/javascript\">window.PlotlyConfig = {MathJaxConfig: 'local'};</script>\n",
              "        <script src=\"https://cdn.plot.ly/plotly-2.8.3.min.js\"></script>                <div id=\"6f1560a1-ee57-4e9a-9572-b42c266789ea\" class=\"plotly-graph-div\" style=\"height:525px; width:100%;\"></div>            <script type=\"text/javascript\">                                    window.PLOTLYENV=window.PLOTLYENV || {};                                    if (document.getElementById(\"6f1560a1-ee57-4e9a-9572-b42c266789ea\")) {                    Plotly.newPlot(                        \"6f1560a1-ee57-4e9a-9572-b42c266789ea\",                        [{\"alignmentgroup\":\"True\",\"hovertemplate\":\"Estados=%{x}<br>1_trimestre_2020=%{marker.color}<extra></extra>\",\"legendgroup\":\"\",\"marker\":{\"color\":[223,76,202,279,42,434,84,158,3151,232,243,529,111,204,1320,417,1333,171,611,513,244,1313,431,47,228,487,67],\"coloraxis\":\"coloraxis\",\"pattern\":{\"shape\":\"\"}},\"name\":\"\",\"offsetgroup\":\"\",\"orientation\":\"v\",\"showlegend\":false,\"textposition\":\"auto\",\"x\":[\"SC\",\"RO\",\"PI\",\"AM\",\"RR\",\"GO\",\"TO\",\"MT\",\"SP\",\"PB\",\"ES\",\"RS\",\"MS\",\"AL\",\"MG\",\"PA\",\"BA\",\"SE\",\"PE\",\"CE\",\"RN\",\"RJ\",\"MA\",\"AC\",\"DF\",\"PR\",\"AP\"],\"xaxis\":\"x\",\"y\":[223,76,202,279,42,434,84,158,3151,232,243,529,111,204,1320,417,1333,171,611,513,244,1313,431,47,228,487,67],\"yaxis\":\"y\",\"type\":\"bar\"}],                        {\"template\":{\"data\":{\"bar\":[{\"error_x\":{\"color\":\"#2a3f5f\"},\"error_y\":{\"color\":\"#2a3f5f\"},\"marker\":{\"line\":{\"color\":\"#E5ECF6\",\"width\":0.5},\"pattern\":{\"fillmode\":\"overlay\",\"size\":10,\"solidity\":0.2}},\"type\":\"bar\"}],\"barpolar\":[{\"marker\":{\"line\":{\"color\":\"#E5ECF6\",\"width\":0.5},\"pattern\":{\"fillmode\":\"overlay\",\"size\":10,\"solidity\":0.2}},\"type\":\"barpolar\"}],\"carpet\":[{\"aaxis\":{\"endlinecolor\":\"#2a3f5f\",\"gridcolor\":\"white\",\"linecolor\":\"white\",\"minorgridcolor\":\"white\",\"startlinecolor\":\"#2a3f5f\"},\"baxis\":{\"endlinecolor\":\"#2a3f5f\",\"gridcolor\":\"white\",\"linecolor\":\"white\",\"minorgridcolor\":\"white\",\"startlinecolor\":\"#2a3f5f\"},\"type\":\"carpet\"}],\"choropleth\":[{\"colorbar\":{\"outlinewidth\":0,\"ticks\":\"\"},\"type\":\"choropleth\"}],\"contour\":[{\"colorbar\":{\"outlinewidth\":0,\"ticks\":\"\"},\"colorscale\":[[0.0,\"#0d0887\"],[0.1111111111111111,\"#46039f\"],[0.2222222222222222,\"#7201a8\"],[0.3333333333333333,\"#9c179e\"],[0.4444444444444444,\"#bd3786\"],[0.5555555555555556,\"#d8576b\"],[0.6666666666666666,\"#ed7953\"],[0.7777777777777778,\"#fb9f3a\"],[0.8888888888888888,\"#fdca26\"],[1.0,\"#f0f921\"]],\"type\":\"contour\"}],\"contourcarpet\":[{\"colorbar\":{\"outlinewidth\":0,\"ticks\":\"\"},\"type\":\"contourcarpet\"}],\"heatmap\":[{\"colorbar\":{\"outlinewidth\":0,\"ticks\":\"\"},\"colorscale\":[[0.0,\"#0d0887\"],[0.1111111111111111,\"#46039f\"],[0.2222222222222222,\"#7201a8\"],[0.3333333333333333,\"#9c179e\"],[0.4444444444444444,\"#bd3786\"],[0.5555555555555556,\"#d8576b\"],[0.6666666666666666,\"#ed7953\"],[0.7777777777777778,\"#fb9f3a\"],[0.8888888888888888,\"#fdca26\"],[1.0,\"#f0f921\"]],\"type\":\"heatmap\"}],\"heatmapgl\":[{\"colorbar\":{\"outlinewidth\":0,\"ticks\":\"\"},\"colorscale\":[[0.0,\"#0d0887\"],[0.1111111111111111,\"#46039f\"],[0.2222222222222222,\"#7201a8\"],[0.3333333333333333,\"#9c179e\"],[0.4444444444444444,\"#bd3786\"],[0.5555555555555556,\"#d8576b\"],[0.6666666666666666,\"#ed7953\"],[0.7777777777777778,\"#fb9f3a\"],[0.8888888888888888,\"#fdca26\"],[1.0,\"#f0f921\"]],\"type\":\"heatmapgl\"}],\"histogram\":[{\"marker\":{\"pattern\":{\"fillmode\":\"overlay\",\"size\":10,\"solidity\":0.2}},\"type\":\"histogram\"}],\"histogram2d\":[{\"colorbar\":{\"outlinewidth\":0,\"ticks\":\"\"},\"colorscale\":[[0.0,\"#0d0887\"],[0.1111111111111111,\"#46039f\"],[0.2222222222222222,\"#7201a8\"],[0.3333333333333333,\"#9c179e\"],[0.4444444444444444,\"#bd3786\"],[0.5555555555555556,\"#d8576b\"],[0.6666666666666666,\"#ed7953\"],[0.7777777777777778,\"#fb9f3a\"],[0.8888888888888888,\"#fdca26\"],[1.0,\"#f0f921\"]],\"type\":\"histogram2d\"}],\"histogram2dcontour\":[{\"colorbar\":{\"outlinewidth\":0,\"ticks\":\"\"},\"colorscale\":[[0.0,\"#0d0887\"],[0.1111111111111111,\"#46039f\"],[0.2222222222222222,\"#7201a8\"],[0.3333333333333333,\"#9c179e\"],[0.4444444444444444,\"#bd3786\"],[0.5555555555555556,\"#d8576b\"],[0.6666666666666666,\"#ed7953\"],[0.7777777777777778,\"#fb9f3a\"],[0.8888888888888888,\"#fdca26\"],[1.0,\"#f0f921\"]],\"type\":\"histogram2dcontour\"}],\"mesh3d\":[{\"colorbar\":{\"outlinewidth\":0,\"ticks\":\"\"},\"type\":\"mesh3d\"}],\"parcoords\":[{\"line\":{\"colorbar\":{\"outlinewidth\":0,\"ticks\":\"\"}},\"type\":\"parcoords\"}],\"pie\":[{\"automargin\":true,\"type\":\"pie\"}],\"scatter\":[{\"marker\":{\"colorbar\":{\"outlinewidth\":0,\"ticks\":\"\"}},\"type\":\"scatter\"}],\"scatter3d\":[{\"line\":{\"colorbar\":{\"outlinewidth\":0,\"ticks\":\"\"}},\"marker\":{\"colorbar\":{\"outlinewidth\":0,\"ticks\":\"\"}},\"type\":\"scatter3d\"}],\"scattercarpet\":[{\"marker\":{\"colorbar\":{\"outlinewidth\":0,\"ticks\":\"\"}},\"type\":\"scattercarpet\"}],\"scattergeo\":[{\"marker\":{\"colorbar\":{\"outlinewidth\":0,\"ticks\":\"\"}},\"type\":\"scattergeo\"}],\"scattergl\":[{\"marker\":{\"colorbar\":{\"outlinewidth\":0,\"ticks\":\"\"}},\"type\":\"scattergl\"}],\"scattermapbox\":[{\"marker\":{\"colorbar\":{\"outlinewidth\":0,\"ticks\":\"\"}},\"type\":\"scattermapbox\"}],\"scatterpolar\":[{\"marker\":{\"colorbar\":{\"outlinewidth\":0,\"ticks\":\"\"}},\"type\":\"scatterpolar\"}],\"scatterpolargl\":[{\"marker\":{\"colorbar\":{\"outlinewidth\":0,\"ticks\":\"\"}},\"type\":\"scatterpolargl\"}],\"scatterternary\":[{\"marker\":{\"colorbar\":{\"outlinewidth\":0,\"ticks\":\"\"}},\"type\":\"scatterternary\"}],\"surface\":[{\"colorbar\":{\"outlinewidth\":0,\"ticks\":\"\"},\"colorscale\":[[0.0,\"#0d0887\"],[0.1111111111111111,\"#46039f\"],[0.2222222222222222,\"#7201a8\"],[0.3333333333333333,\"#9c179e\"],[0.4444444444444444,\"#bd3786\"],[0.5555555555555556,\"#d8576b\"],[0.6666666666666666,\"#ed7953\"],[0.7777777777777778,\"#fb9f3a\"],[0.8888888888888888,\"#fdca26\"],[1.0,\"#f0f921\"]],\"type\":\"surface\"}],\"table\":[{\"cells\":{\"fill\":{\"color\":\"#EBF0F8\"},\"line\":{\"color\":\"white\"}},\"header\":{\"fill\":{\"color\":\"#C8D4E3\"},\"line\":{\"color\":\"white\"}},\"type\":\"table\"}]},\"layout\":{\"annotationdefaults\":{\"arrowcolor\":\"#2a3f5f\",\"arrowhead\":0,\"arrowwidth\":1},\"autotypenumbers\":\"strict\",\"coloraxis\":{\"colorbar\":{\"outlinewidth\":0,\"ticks\":\"\"}},\"colorscale\":{\"diverging\":[[0,\"#8e0152\"],[0.1,\"#c51b7d\"],[0.2,\"#de77ae\"],[0.3,\"#f1b6da\"],[0.4,\"#fde0ef\"],[0.5,\"#f7f7f7\"],[0.6,\"#e6f5d0\"],[0.7,\"#b8e186\"],[0.8,\"#7fbc41\"],[0.9,\"#4d9221\"],[1,\"#276419\"]],\"sequential\":[[0.0,\"#0d0887\"],[0.1111111111111111,\"#46039f\"],[0.2222222222222222,\"#7201a8\"],[0.3333333333333333,\"#9c179e\"],[0.4444444444444444,\"#bd3786\"],[0.5555555555555556,\"#d8576b\"],[0.6666666666666666,\"#ed7953\"],[0.7777777777777778,\"#fb9f3a\"],[0.8888888888888888,\"#fdca26\"],[1.0,\"#f0f921\"]],\"sequentialminus\":[[0.0,\"#0d0887\"],[0.1111111111111111,\"#46039f\"],[0.2222222222222222,\"#7201a8\"],[0.3333333333333333,\"#9c179e\"],[0.4444444444444444,\"#bd3786\"],[0.5555555555555556,\"#d8576b\"],[0.6666666666666666,\"#ed7953\"],[0.7777777777777778,\"#fb9f3a\"],[0.8888888888888888,\"#fdca26\"],[1.0,\"#f0f921\"]]},\"colorway\":[\"#636efa\",\"#EF553B\",\"#00cc96\",\"#ab63fa\",\"#FFA15A\",\"#19d3f3\",\"#FF6692\",\"#B6E880\",\"#FF97FF\",\"#FECB52\"],\"font\":{\"color\":\"#2a3f5f\"},\"geo\":{\"bgcolor\":\"white\",\"lakecolor\":\"white\",\"landcolor\":\"#E5ECF6\",\"showlakes\":true,\"showland\":true,\"subunitcolor\":\"white\"},\"hoverlabel\":{\"align\":\"left\"},\"hovermode\":\"closest\",\"mapbox\":{\"style\":\"light\"},\"paper_bgcolor\":\"white\",\"plot_bgcolor\":\"#E5ECF6\",\"polar\":{\"angularaxis\":{\"gridcolor\":\"white\",\"linecolor\":\"white\",\"ticks\":\"\"},\"bgcolor\":\"#E5ECF6\",\"radialaxis\":{\"gridcolor\":\"white\",\"linecolor\":\"white\",\"ticks\":\"\"}},\"scene\":{\"xaxis\":{\"backgroundcolor\":\"#E5ECF6\",\"gridcolor\":\"white\",\"gridwidth\":2,\"linecolor\":\"white\",\"showbackground\":true,\"ticks\":\"\",\"zerolinecolor\":\"white\"},\"yaxis\":{\"backgroundcolor\":\"#E5ECF6\",\"gridcolor\":\"white\",\"gridwidth\":2,\"linecolor\":\"white\",\"showbackground\":true,\"ticks\":\"\",\"zerolinecolor\":\"white\"},\"zaxis\":{\"backgroundcolor\":\"#E5ECF6\",\"gridcolor\":\"white\",\"gridwidth\":2,\"linecolor\":\"white\",\"showbackground\":true,\"ticks\":\"\",\"zerolinecolor\":\"white\"}},\"shapedefaults\":{\"line\":{\"color\":\"#2a3f5f\"}},\"ternary\":{\"aaxis\":{\"gridcolor\":\"white\",\"linecolor\":\"white\",\"ticks\":\"\"},\"baxis\":{\"gridcolor\":\"white\",\"linecolor\":\"white\",\"ticks\":\"\"},\"bgcolor\":\"#E5ECF6\",\"caxis\":{\"gridcolor\":\"white\",\"linecolor\":\"white\",\"ticks\":\"\"}},\"title\":{\"x\":0.05},\"xaxis\":{\"automargin\":true,\"gridcolor\":\"white\",\"linecolor\":\"white\",\"ticks\":\"\",\"title\":{\"standoff\":15},\"zerolinecolor\":\"white\",\"zerolinewidth\":2},\"yaxis\":{\"automargin\":true,\"gridcolor\":\"white\",\"linecolor\":\"white\",\"ticks\":\"\",\"title\":{\"standoff\":15},\"zerolinecolor\":\"white\",\"zerolinewidth\":2}}},\"xaxis\":{\"anchor\":\"y\",\"domain\":[0.0,1.0],\"title\":{\"text\":\"Estados\"}},\"yaxis\":{\"anchor\":\"x\",\"domain\":[0.0,1.0],\"title\":{\"text\":\"1_trimestre_2020\"}},\"coloraxis\":{\"colorbar\":{\"title\":{\"text\":\"1_trimestre_2020\"}},\"colorscale\":[[0.0,\"#0d0887\"],[0.1111111111111111,\"#46039f\"],[0.2222222222222222,\"#7201a8\"],[0.3333333333333333,\"#9c179e\"],[0.4444444444444444,\"#bd3786\"],[0.5555555555555556,\"#d8576b\"],[0.6666666666666666,\"#ed7953\"],[0.7777777777777778,\"#fb9f3a\"],[0.8888888888888888,\"#fdca26\"],[1.0,\"#f0f921\"]]},\"legend\":{\"tracegroupgap\":0},\"title\":{\"text\":\"Desemprego no primeiro trimestre de 2020\"},\"barmode\":\"group\"},                        {\"responsive\": true}                    ).then(function(){\n",
              "                            \n",
              "var gd = document.getElementById('6f1560a1-ee57-4e9a-9572-b42c266789ea');\n",
              "var x = new MutationObserver(function (mutations, observer) {{\n",
              "        var display = window.getComputedStyle(gd).display;\n",
              "        if (!display || display === 'none') {{\n",
              "            console.log([gd, 'removed!']);\n",
              "            Plotly.purge(gd);\n",
              "            observer.disconnect();\n",
              "        }}\n",
              "}});\n",
              "\n",
              "// Listen for the removal of the full notebook cells\n",
              "var notebookContainer = gd.closest('#notebook-container');\n",
              "if (notebookContainer) {{\n",
              "    x.observe(notebookContainer, {childList: true});\n",
              "}}\n",
              "\n",
              "// Listen for the clearing of the current output cell\n",
              "var outputEl = gd.closest('.output');\n",
              "if (outputEl) {{\n",
              "    x.observe(outputEl, {childList: true});\n",
              "}}\n",
              "\n",
              "                        })                };                            </script>        </div>\n",
              "</body>\n",
              "</html>"
            ]
          },
          "metadata": {}
        },
        {
          "output_type": "display_data",
          "data": {
            "text/html": [
              "<html>\n",
              "<head><meta charset=\"utf-8\" /></head>\n",
              "<body>\n",
              "    <div>            <script src=\"https://cdnjs.cloudflare.com/ajax/libs/mathjax/2.7.5/MathJax.js?config=TeX-AMS-MML_SVG\"></script><script type=\"text/javascript\">if (window.MathJax) {MathJax.Hub.Config({SVG: {font: \"STIX-Web\"}});}</script>                <script type=\"text/javascript\">window.PlotlyConfig = {MathJaxConfig: 'local'};</script>\n",
              "        <script src=\"https://cdn.plot.ly/plotly-2.8.3.min.js\"></script>                <div id=\"aaff1851-5505-4b44-858b-7f69f3047214\" class=\"plotly-graph-div\" style=\"height:525px; width:100%;\"></div>            <script type=\"text/javascript\">                                    window.PLOTLYENV=window.PLOTLYENV || {};                                    if (document.getElementById(\"aaff1851-5505-4b44-858b-7f69f3047214\")) {                    Plotly.newPlot(                        \"aaff1851-5505-4b44-858b-7f69f3047214\",                        [{\"alignmentgroup\":\"True\",\"hovertemplate\":\"Estados=%{x}<br>2_trimestre_2022=%{marker.color}<extra></extra>\",\"legendgroup\":\"\",\"marker\":{\"color\":[160,52,135,203,16,270,43,82,2404,203,174,387,75,149,828,377,1104,140,578,412,188,1130,299,45,205,374,48],\"coloraxis\":\"coloraxis\",\"pattern\":{\"shape\":\"\"}},\"name\":\"\",\"offsetgroup\":\"\",\"orientation\":\"v\",\"showlegend\":false,\"textposition\":\"auto\",\"x\":[\"SC\",\"RO\",\"PI\",\"AM\",\"RR\",\"GO\",\"TO\",\"MT\",\"SP\",\"PB\",\"ES\",\"RS\",\"MS\",\"AL\",\"MG\",\"PA\",\"BA\",\"SE\",\"PE\",\"CE\",\"RN\",\"RJ\",\"MA\",\"AC\",\"DF\",\"PR\",\"AP\"],\"xaxis\":\"x\",\"y\":[160,52,135,203,16,270,43,82,2404,203,174,387,75,149,828,377,1104,140,578,412,188,1130,299,45,205,374,48],\"yaxis\":\"y\",\"type\":\"bar\"}],                        {\"template\":{\"data\":{\"bar\":[{\"error_x\":{\"color\":\"#2a3f5f\"},\"error_y\":{\"color\":\"#2a3f5f\"},\"marker\":{\"line\":{\"color\":\"#E5ECF6\",\"width\":0.5},\"pattern\":{\"fillmode\":\"overlay\",\"size\":10,\"solidity\":0.2}},\"type\":\"bar\"}],\"barpolar\":[{\"marker\":{\"line\":{\"color\":\"#E5ECF6\",\"width\":0.5},\"pattern\":{\"fillmode\":\"overlay\",\"size\":10,\"solidity\":0.2}},\"type\":\"barpolar\"}],\"carpet\":[{\"aaxis\":{\"endlinecolor\":\"#2a3f5f\",\"gridcolor\":\"white\",\"linecolor\":\"white\",\"minorgridcolor\":\"white\",\"startlinecolor\":\"#2a3f5f\"},\"baxis\":{\"endlinecolor\":\"#2a3f5f\",\"gridcolor\":\"white\",\"linecolor\":\"white\",\"minorgridcolor\":\"white\",\"startlinecolor\":\"#2a3f5f\"},\"type\":\"carpet\"}],\"choropleth\":[{\"colorbar\":{\"outlinewidth\":0,\"ticks\":\"\"},\"type\":\"choropleth\"}],\"contour\":[{\"colorbar\":{\"outlinewidth\":0,\"ticks\":\"\"},\"colorscale\":[[0.0,\"#0d0887\"],[0.1111111111111111,\"#46039f\"],[0.2222222222222222,\"#7201a8\"],[0.3333333333333333,\"#9c179e\"],[0.4444444444444444,\"#bd3786\"],[0.5555555555555556,\"#d8576b\"],[0.6666666666666666,\"#ed7953\"],[0.7777777777777778,\"#fb9f3a\"],[0.8888888888888888,\"#fdca26\"],[1.0,\"#f0f921\"]],\"type\":\"contour\"}],\"contourcarpet\":[{\"colorbar\":{\"outlinewidth\":0,\"ticks\":\"\"},\"type\":\"contourcarpet\"}],\"heatmap\":[{\"colorbar\":{\"outlinewidth\":0,\"ticks\":\"\"},\"colorscale\":[[0.0,\"#0d0887\"],[0.1111111111111111,\"#46039f\"],[0.2222222222222222,\"#7201a8\"],[0.3333333333333333,\"#9c179e\"],[0.4444444444444444,\"#bd3786\"],[0.5555555555555556,\"#d8576b\"],[0.6666666666666666,\"#ed7953\"],[0.7777777777777778,\"#fb9f3a\"],[0.8888888888888888,\"#fdca26\"],[1.0,\"#f0f921\"]],\"type\":\"heatmap\"}],\"heatmapgl\":[{\"colorbar\":{\"outlinewidth\":0,\"ticks\":\"\"},\"colorscale\":[[0.0,\"#0d0887\"],[0.1111111111111111,\"#46039f\"],[0.2222222222222222,\"#7201a8\"],[0.3333333333333333,\"#9c179e\"],[0.4444444444444444,\"#bd3786\"],[0.5555555555555556,\"#d8576b\"],[0.6666666666666666,\"#ed7953\"],[0.7777777777777778,\"#fb9f3a\"],[0.8888888888888888,\"#fdca26\"],[1.0,\"#f0f921\"]],\"type\":\"heatmapgl\"}],\"histogram\":[{\"marker\":{\"pattern\":{\"fillmode\":\"overlay\",\"size\":10,\"solidity\":0.2}},\"type\":\"histogram\"}],\"histogram2d\":[{\"colorbar\":{\"outlinewidth\":0,\"ticks\":\"\"},\"colorscale\":[[0.0,\"#0d0887\"],[0.1111111111111111,\"#46039f\"],[0.2222222222222222,\"#7201a8\"],[0.3333333333333333,\"#9c179e\"],[0.4444444444444444,\"#bd3786\"],[0.5555555555555556,\"#d8576b\"],[0.6666666666666666,\"#ed7953\"],[0.7777777777777778,\"#fb9f3a\"],[0.8888888888888888,\"#fdca26\"],[1.0,\"#f0f921\"]],\"type\":\"histogram2d\"}],\"histogram2dcontour\":[{\"colorbar\":{\"outlinewidth\":0,\"ticks\":\"\"},\"colorscale\":[[0.0,\"#0d0887\"],[0.1111111111111111,\"#46039f\"],[0.2222222222222222,\"#7201a8\"],[0.3333333333333333,\"#9c179e\"],[0.4444444444444444,\"#bd3786\"],[0.5555555555555556,\"#d8576b\"],[0.6666666666666666,\"#ed7953\"],[0.7777777777777778,\"#fb9f3a\"],[0.8888888888888888,\"#fdca26\"],[1.0,\"#f0f921\"]],\"type\":\"histogram2dcontour\"}],\"mesh3d\":[{\"colorbar\":{\"outlinewidth\":0,\"ticks\":\"\"},\"type\":\"mesh3d\"}],\"parcoords\":[{\"line\":{\"colorbar\":{\"outlinewidth\":0,\"ticks\":\"\"}},\"type\":\"parcoords\"}],\"pie\":[{\"automargin\":true,\"type\":\"pie\"}],\"scatter\":[{\"marker\":{\"colorbar\":{\"outlinewidth\":0,\"ticks\":\"\"}},\"type\":\"scatter\"}],\"scatter3d\":[{\"line\":{\"colorbar\":{\"outlinewidth\":0,\"ticks\":\"\"}},\"marker\":{\"colorbar\":{\"outlinewidth\":0,\"ticks\":\"\"}},\"type\":\"scatter3d\"}],\"scattercarpet\":[{\"marker\":{\"colorbar\":{\"outlinewidth\":0,\"ticks\":\"\"}},\"type\":\"scattercarpet\"}],\"scattergeo\":[{\"marker\":{\"colorbar\":{\"outlinewidth\":0,\"ticks\":\"\"}},\"type\":\"scattergeo\"}],\"scattergl\":[{\"marker\":{\"colorbar\":{\"outlinewidth\":0,\"ticks\":\"\"}},\"type\":\"scattergl\"}],\"scattermapbox\":[{\"marker\":{\"colorbar\":{\"outlinewidth\":0,\"ticks\":\"\"}},\"type\":\"scattermapbox\"}],\"scatterpolar\":[{\"marker\":{\"colorbar\":{\"outlinewidth\":0,\"ticks\":\"\"}},\"type\":\"scatterpolar\"}],\"scatterpolargl\":[{\"marker\":{\"colorbar\":{\"outlinewidth\":0,\"ticks\":\"\"}},\"type\":\"scatterpolargl\"}],\"scatterternary\":[{\"marker\":{\"colorbar\":{\"outlinewidth\":0,\"ticks\":\"\"}},\"type\":\"scatterternary\"}],\"surface\":[{\"colorbar\":{\"outlinewidth\":0,\"ticks\":\"\"},\"colorscale\":[[0.0,\"#0d0887\"],[0.1111111111111111,\"#46039f\"],[0.2222222222222222,\"#7201a8\"],[0.3333333333333333,\"#9c179e\"],[0.4444444444444444,\"#bd3786\"],[0.5555555555555556,\"#d8576b\"],[0.6666666666666666,\"#ed7953\"],[0.7777777777777778,\"#fb9f3a\"],[0.8888888888888888,\"#fdca26\"],[1.0,\"#f0f921\"]],\"type\":\"surface\"}],\"table\":[{\"cells\":{\"fill\":{\"color\":\"#EBF0F8\"},\"line\":{\"color\":\"white\"}},\"header\":{\"fill\":{\"color\":\"#C8D4E3\"},\"line\":{\"color\":\"white\"}},\"type\":\"table\"}]},\"layout\":{\"annotationdefaults\":{\"arrowcolor\":\"#2a3f5f\",\"arrowhead\":0,\"arrowwidth\":1},\"autotypenumbers\":\"strict\",\"coloraxis\":{\"colorbar\":{\"outlinewidth\":0,\"ticks\":\"\"}},\"colorscale\":{\"diverging\":[[0,\"#8e0152\"],[0.1,\"#c51b7d\"],[0.2,\"#de77ae\"],[0.3,\"#f1b6da\"],[0.4,\"#fde0ef\"],[0.5,\"#f7f7f7\"],[0.6,\"#e6f5d0\"],[0.7,\"#b8e186\"],[0.8,\"#7fbc41\"],[0.9,\"#4d9221\"],[1,\"#276419\"]],\"sequential\":[[0.0,\"#0d0887\"],[0.1111111111111111,\"#46039f\"],[0.2222222222222222,\"#7201a8\"],[0.3333333333333333,\"#9c179e\"],[0.4444444444444444,\"#bd3786\"],[0.5555555555555556,\"#d8576b\"],[0.6666666666666666,\"#ed7953\"],[0.7777777777777778,\"#fb9f3a\"],[0.8888888888888888,\"#fdca26\"],[1.0,\"#f0f921\"]],\"sequentialminus\":[[0.0,\"#0d0887\"],[0.1111111111111111,\"#46039f\"],[0.2222222222222222,\"#7201a8\"],[0.3333333333333333,\"#9c179e\"],[0.4444444444444444,\"#bd3786\"],[0.5555555555555556,\"#d8576b\"],[0.6666666666666666,\"#ed7953\"],[0.7777777777777778,\"#fb9f3a\"],[0.8888888888888888,\"#fdca26\"],[1.0,\"#f0f921\"]]},\"colorway\":[\"#636efa\",\"#EF553B\",\"#00cc96\",\"#ab63fa\",\"#FFA15A\",\"#19d3f3\",\"#FF6692\",\"#B6E880\",\"#FF97FF\",\"#FECB52\"],\"font\":{\"color\":\"#2a3f5f\"},\"geo\":{\"bgcolor\":\"white\",\"lakecolor\":\"white\",\"landcolor\":\"#E5ECF6\",\"showlakes\":true,\"showland\":true,\"subunitcolor\":\"white\"},\"hoverlabel\":{\"align\":\"left\"},\"hovermode\":\"closest\",\"mapbox\":{\"style\":\"light\"},\"paper_bgcolor\":\"white\",\"plot_bgcolor\":\"#E5ECF6\",\"polar\":{\"angularaxis\":{\"gridcolor\":\"white\",\"linecolor\":\"white\",\"ticks\":\"\"},\"bgcolor\":\"#E5ECF6\",\"radialaxis\":{\"gridcolor\":\"white\",\"linecolor\":\"white\",\"ticks\":\"\"}},\"scene\":{\"xaxis\":{\"backgroundcolor\":\"#E5ECF6\",\"gridcolor\":\"white\",\"gridwidth\":2,\"linecolor\":\"white\",\"showbackground\":true,\"ticks\":\"\",\"zerolinecolor\":\"white\"},\"yaxis\":{\"backgroundcolor\":\"#E5ECF6\",\"gridcolor\":\"white\",\"gridwidth\":2,\"linecolor\":\"white\",\"showbackground\":true,\"ticks\":\"\",\"zerolinecolor\":\"white\"},\"zaxis\":{\"backgroundcolor\":\"#E5ECF6\",\"gridcolor\":\"white\",\"gridwidth\":2,\"linecolor\":\"white\",\"showbackground\":true,\"ticks\":\"\",\"zerolinecolor\":\"white\"}},\"shapedefaults\":{\"line\":{\"color\":\"#2a3f5f\"}},\"ternary\":{\"aaxis\":{\"gridcolor\":\"white\",\"linecolor\":\"white\",\"ticks\":\"\"},\"baxis\":{\"gridcolor\":\"white\",\"linecolor\":\"white\",\"ticks\":\"\"},\"bgcolor\":\"#E5ECF6\",\"caxis\":{\"gridcolor\":\"white\",\"linecolor\":\"white\",\"ticks\":\"\"}},\"title\":{\"x\":0.05},\"xaxis\":{\"automargin\":true,\"gridcolor\":\"white\",\"linecolor\":\"white\",\"ticks\":\"\",\"title\":{\"standoff\":15},\"zerolinecolor\":\"white\",\"zerolinewidth\":2},\"yaxis\":{\"automargin\":true,\"gridcolor\":\"white\",\"linecolor\":\"white\",\"ticks\":\"\",\"title\":{\"standoff\":15},\"zerolinecolor\":\"white\",\"zerolinewidth\":2}}},\"xaxis\":{\"anchor\":\"y\",\"domain\":[0.0,1.0],\"title\":{\"text\":\"Estados\"}},\"yaxis\":{\"anchor\":\"x\",\"domain\":[0.0,1.0],\"title\":{\"text\":\"2_trimestre_2022\"}},\"coloraxis\":{\"colorbar\":{\"title\":{\"text\":\"2_trimestre_2022\"}},\"colorscale\":[[0.0,\"#0d0887\"],[0.1111111111111111,\"#46039f\"],[0.2222222222222222,\"#7201a8\"],[0.3333333333333333,\"#9c179e\"],[0.4444444444444444,\"#bd3786\"],[0.5555555555555556,\"#d8576b\"],[0.6666666666666666,\"#ed7953\"],[0.7777777777777778,\"#fb9f3a\"],[0.8888888888888888,\"#fdca26\"],[1.0,\"#f0f921\"]]},\"legend\":{\"tracegroupgap\":0},\"title\":{\"text\":\"Desemprego no segundo trimestre de 2022\"},\"barmode\":\"group\"},                        {\"responsive\": true}                    ).then(function(){\n",
              "                            \n",
              "var gd = document.getElementById('aaff1851-5505-4b44-858b-7f69f3047214');\n",
              "var x = new MutationObserver(function (mutations, observer) {{\n",
              "        var display = window.getComputedStyle(gd).display;\n",
              "        if (!display || display === 'none') {{\n",
              "            console.log([gd, 'removed!']);\n",
              "            Plotly.purge(gd);\n",
              "            observer.disconnect();\n",
              "        }}\n",
              "}});\n",
              "\n",
              "// Listen for the removal of the full notebook cells\n",
              "var notebookContainer = gd.closest('#notebook-container');\n",
              "if (notebookContainer) {{\n",
              "    x.observe(notebookContainer, {childList: true});\n",
              "}}\n",
              "\n",
              "// Listen for the clearing of the current output cell\n",
              "var outputEl = gd.closest('.output');\n",
              "if (outputEl) {{\n",
              "    x.observe(outputEl, {childList: true});\n",
              "}}\n",
              "\n",
              "                        })                };                            </script>        </div>\n",
              "</body>\n",
              "</html>"
            ]
          },
          "metadata": {}
        }
      ],
      "source": [
        "to_plot = [v for v in list(graf.columns)]\n",
        "\n",
        "fig_graf_desemprego_covid = px.bar(graf, x=graf.Estados, y=to_plot,\\\n",
        "                                   barmode=\"group\",\\\n",
        "                                   text_auto='.2s',\\\n",
        "                                   title=\"Obitos por Covid e Desemprego\")\n",
        "             \n",
        "fig_graf_desemprego_covid.show()\n",
        "\n",
        "\n",
        "graf_desemprego_covid = px.bar(graf, x='Estados', y=\"total_obitos_estados\",\\\n",
        "                               barmode=\"group\",\\\n",
        "                               color=\"total_obitos_estados\",\\\n",
        "                               title=\"Obitos por Covid\")\n",
        "graf_desemprego_covidx = px.bar(graf, x='Estados', y=\"1_trimestre_2020\",\\\n",
        "                                barmode=\"group\",\\\n",
        "                                color=\"1_trimestre_2020\",\\\n",
        "                                title=\"Desemprego no primeiro trimestre de 2020\")\n",
        "graf_desemprego_covidxx = px.bar(graf, x='Estados', y=\"2_trimestre_2022\",\\\n",
        "                                 barmode=\"group\",\\\n",
        "                                 color=\"2_trimestre_2022\",\\\n",
        "                                 title=\"Desemprego no segundo trimestre de 2022\")\n",
        "graf_desemprego_covid.show()\n",
        "graf_desemprego_covidx.show()\n",
        "graf_desemprego_covidxx.show()"
      ]
    },
    {
      "cell_type": "markdown",
      "metadata": {
        "id": "e2M6qeW-z0-4"
      },
      "source": [
        "#### Importação da tabela de educação no Brasil referente aos anos de 2016,2017 e 2018, devido não encontrar dados mais rescentes\n",
        "\n",
        "\n"
      ]
    },
    {
      "cell_type": "code",
      "execution_count": 56,
      "metadata": {
        "id": "PA3zk8t70HSD"
      },
      "outputs": [],
      "source": [
        "educacao = spark.read.format('csv')\\\n",
        "                     .options(header='true',\\\n",
        "                              inferschema='true')\\\n",
        "                .load(f'{caminho_local}/educacao.csv',header=True)"
      ]
    },
    {
      "cell_type": "code",
      "execution_count": 57,
      "metadata": {
        "id": "dM8EHvyZ2anB",
        "colab": {
          "base_uri": "https://localhost:8080/"
        },
        "outputId": "95709ad3-00cb-4a84-b349-26d62c235c0e"
      },
      "outputs": [
        {
          "output_type": "stream",
          "name": "stdout",
          "text": [
            "+--------------------+--------------------+--------------------+--------------------+---------+----------------------+---------------+----+----+----+\n",
            "|           Indicador|   Nível_Territorial|Abertura_Territorial|Variável_de_abertura|Categoria|Variável_de_abertura_2|    Categoria_2|2016|2017|2018|\n",
            "+--------------------+--------------------+--------------------+--------------------+---------+----------------------+---------------+----+----+----+\n",
            "|Taxa de analfabet...|Unidade da Federação|            Rondônia|                Sexo|    Total|  Grupos de idade -...|15 anos ou mais| 6.6| 7.2| 6.5|\n",
            "|Taxa de analfabet...|Unidade da Federação|            Rondônia|                Sexo|    Total|  Grupos de idade -...|18 anos ou mais| 7.2| 7.6| 6.9|\n",
            "|Taxa de analfabet...|Unidade da Federação|            Rondônia|                Sexo|    Total|  Grupos de idade -...|25 anos ou mais| 8.4| 8.9| 8.3|\n",
            "|Taxa de analfabet...|Unidade da Federação|            Rondônia|                Sexo|    Total|  Grupos de idade -...|40 anos ou mais|13.7|14.0|13.1|\n",
            "|Taxa de analfabet...|Unidade da Federação|            Rondônia|                Sexo|    Total|  Grupos de idade -...|60 anos ou mais|28.5|29.7|27.5|\n",
            "|Taxa de analfabet...|Unidade da Federação|                Acre|                Sexo|    Total|  Grupos de idade -...|15 anos ou mais|13.1|12.1|12.1|\n",
            "|Taxa de analfabet...|Unidade da Federação|                Acre|                Sexo|    Total|  Grupos de idade -...|18 anos ou mais|14.4|13.3|13.2|\n",
            "|Taxa de analfabet...|Unidade da Federação|                Acre|                Sexo|    Total|  Grupos de idade -...|25 anos ou mais|17.4|16.3|15.9|\n",
            "|Taxa de analfabet...|Unidade da Federação|                Acre|                Sexo|    Total|  Grupos de idade -...|40 anos ou mais|25.4|23.9|23.4|\n",
            "|Taxa de analfabet...|Unidade da Federação|                Acre|                Sexo|    Total|  Grupos de idade -...|60 anos ou mais|41.7|37.0|36.5|\n",
            "|Taxa de analfabet...|Unidade da Federação|            Amazonas|                Sexo|    Total|  Grupos de idade -...|15 anos ou mais| 6.9| 6.1| 5.8|\n",
            "|Taxa de analfabet...|Unidade da Federação|            Amazonas|                Sexo|    Total|  Grupos de idade -...|18 anos ou mais| 7.5| 6.7| 6.3|\n",
            "|Taxa de analfabet...|Unidade da Federação|            Amazonas|                Sexo|    Total|  Grupos de idade -...|25 anos ou mais| 9.0| 8.0| 7.6|\n",
            "|Taxa de analfabet...|Unidade da Federação|            Amazonas|                Sexo|    Total|  Grupos de idade -...|40 anos ou mais|13.5|12.2|11.2|\n",
            "|Taxa de analfabet...|Unidade da Federação|            Amazonas|                Sexo|    Total|  Grupos de idade -...|60 anos ou mais|22.3|20.4|19.9|\n",
            "|Taxa de analfabet...|Unidade da Federação|             Roraima|                Sexo|    Total|  Grupos de idade -...|15 anos ou mais| 6.6| 6.0| 6.0|\n",
            "|Taxa de analfabet...|Unidade da Federação|             Roraima|                Sexo|    Total|  Grupos de idade -...|18 anos ou mais| 7.2| 6.6| 6.5|\n",
            "|Taxa de analfabet...|Unidade da Federação|             Roraima|                Sexo|    Total|  Grupos de idade -...|25 anos ou mais| 8.6| 8.2| 7.9|\n",
            "|Taxa de analfabet...|Unidade da Federação|             Roraima|                Sexo|    Total|  Grupos de idade -...|40 anos ou mais|13.8|13.5|12.9|\n",
            "|Taxa de analfabet...|Unidade da Federação|             Roraima|                Sexo|    Total|  Grupos de idade -...|60 anos ou mais|29.1|30.8|25.9|\n",
            "+--------------------+--------------------+--------------------+--------------------+---------+----------------------+---------------+----+----+----+\n",
            "only showing top 20 rows\n",
            "\n"
          ]
        }
      ],
      "source": [
        "educacao.show()"
      ]
    },
    {
      "cell_type": "markdown",
      "metadata": {
        "id": "-idn7dZ0aShe"
      },
      "source": [
        "#### Foram alterados os valores da coluna Abertura_Territorial no dataframe de Educação, de nome do estado para a sigla do estado para futura comparação com os dados de Covid."
      ]
    },
    {
      "cell_type": "code",
      "execution_count": 58,
      "metadata": {
        "id": "el3wgQ43aT1v",
        "colab": {
          "base_uri": "https://localhost:8080/"
        },
        "outputId": "214d4174-7dbf-41fa-ddee-4309d4148ddc"
      },
      "outputs": [
        {
          "output_type": "stream",
          "name": "stdout",
          "text": [
            "+--------------------+--------------------+--------------------+--------------------+---------+----------------------+---------------+----+----+----+\n",
            "|           Indicador|   Nível_Territorial|Abertura_Territorial|Variável_de_abertura|Categoria|Variável_de_abertura_2|    Categoria_2|2016|2017|2018|\n",
            "+--------------------+--------------------+--------------------+--------------------+---------+----------------------+---------------+----+----+----+\n",
            "|Taxa de analfabet...|Unidade da Federação|                  RO|                Sexo|    Total|  Grupos de idade -...|15 anos ou mais| 6.6| 7.2| 6.5|\n",
            "|Taxa de analfabet...|Unidade da Federação|                  RO|                Sexo|    Total|  Grupos de idade -...|18 anos ou mais| 7.2| 7.6| 6.9|\n",
            "|Taxa de analfabet...|Unidade da Federação|                  RO|                Sexo|    Total|  Grupos de idade -...|25 anos ou mais| 8.4| 8.9| 8.3|\n",
            "|Taxa de analfabet...|Unidade da Federação|                  RO|                Sexo|    Total|  Grupos de idade -...|40 anos ou mais|13.7|14.0|13.1|\n",
            "|Taxa de analfabet...|Unidade da Federação|                  RO|                Sexo|    Total|  Grupos de idade -...|60 anos ou mais|28.5|29.7|27.5|\n",
            "|Taxa de analfabet...|Unidade da Federação|                  AC|                Sexo|    Total|  Grupos de idade -...|15 anos ou mais|13.1|12.1|12.1|\n",
            "|Taxa de analfabet...|Unidade da Federação|                  AC|                Sexo|    Total|  Grupos de idade -...|18 anos ou mais|14.4|13.3|13.2|\n",
            "|Taxa de analfabet...|Unidade da Federação|                  AC|                Sexo|    Total|  Grupos de idade -...|25 anos ou mais|17.4|16.3|15.9|\n",
            "|Taxa de analfabet...|Unidade da Federação|                  AC|                Sexo|    Total|  Grupos de idade -...|40 anos ou mais|25.4|23.9|23.4|\n",
            "|Taxa de analfabet...|Unidade da Federação|                  AC|                Sexo|    Total|  Grupos de idade -...|60 anos ou mais|41.7|37.0|36.5|\n",
            "|Taxa de analfabet...|Unidade da Federação|                  AM|                Sexo|    Total|  Grupos de idade -...|15 anos ou mais| 6.9| 6.1| 5.8|\n",
            "|Taxa de analfabet...|Unidade da Federação|                  AM|                Sexo|    Total|  Grupos de idade -...|18 anos ou mais| 7.5| 6.7| 6.3|\n",
            "|Taxa de analfabet...|Unidade da Federação|                  AM|                Sexo|    Total|  Grupos de idade -...|25 anos ou mais| 9.0| 8.0| 7.6|\n",
            "|Taxa de analfabet...|Unidade da Federação|                  AM|                Sexo|    Total|  Grupos de idade -...|40 anos ou mais|13.5|12.2|11.2|\n",
            "|Taxa de analfabet...|Unidade da Federação|                  AM|                Sexo|    Total|  Grupos de idade -...|60 anos ou mais|22.3|20.4|19.9|\n",
            "|Taxa de analfabet...|Unidade da Federação|                  RR|                Sexo|    Total|  Grupos de idade -...|15 anos ou mais| 6.6| 6.0| 6.0|\n",
            "|Taxa de analfabet...|Unidade da Federação|                  RR|                Sexo|    Total|  Grupos de idade -...|18 anos ou mais| 7.2| 6.6| 6.5|\n",
            "|Taxa de analfabet...|Unidade da Federação|                  RR|                Sexo|    Total|  Grupos de idade -...|25 anos ou mais| 8.6| 8.2| 7.9|\n",
            "|Taxa de analfabet...|Unidade da Federação|                  RR|                Sexo|    Total|  Grupos de idade -...|40 anos ou mais|13.8|13.5|12.9|\n",
            "|Taxa de analfabet...|Unidade da Federação|                  RR|                Sexo|    Total|  Grupos de idade -...|60 anos ou mais|29.1|30.8|25.9|\n",
            "|Taxa de analfabet...|Unidade da Federação|                  PA|                Sexo|    Total|  Grupos de idade -...|15 anos ou mais| 9.2| 8.6| 8.8|\n",
            "|Taxa de analfabet...|Unidade da Federação|                  PA|                Sexo|    Total|  Grupos de idade -...|18 anos ou mais|10.0| 9.3| 9.4|\n",
            "|Taxa de analfabet...|Unidade da Federação|                  PA|                Sexo|    Total|  Grupos de idade -...|25 anos ou mais|12.0|11.1|11.2|\n",
            "|Taxa de analfabet...|Unidade da Federação|                  PA|                Sexo|    Total|  Grupos de idade -...|40 anos ou mais|18.1|16.3|16.9|\n",
            "|Taxa de analfabet...|Unidade da Federação|                  PA|                Sexo|    Total|  Grupos de idade -...|60 anos ou mais|30.8|27.1|27.9|\n",
            "|Taxa de analfabet...|Unidade da Federação|                  AP|                Sexo|    Total|  Grupos de idade -...|15 anos ou mais| 5.0| 5.0| 6.1|\n",
            "|Taxa de analfabet...|Unidade da Federação|                  AP|                Sexo|    Total|  Grupos de idade -...|18 anos ou mais| 5.4| 5.5| 6.5|\n",
            "+--------------------+--------------------+--------------------+--------------------+---------+----------------------+---------------+----+----+----+\n",
            "only showing top 27 rows\n",
            "\n"
          ]
        }
      ],
      "source": [
        "educacao = educacao.withColumn('Abertura_Territorial',\\\n",
        "                                   regexp_replace('Abertura_Territorial', 'Rondônia', 'RO'))\\\n",
        "                       .withColumn('Abertura_Territorial',\\\n",
        "                                   regexp_replace('Abertura_Territorial', 'Acre', 'AC'))\\\n",
        "                       .withColumn('Abertura_Territorial',\\\n",
        "                                   regexp_replace('Abertura_Territorial', 'Amazonas', 'AM'))\\\n",
        "                       .withColumn('Abertura_Territorial',\\\n",
        "                                   regexp_replace('Abertura_Territorial', 'Roraima', 'RR'))\\\n",
        "                       .withColumn('Abertura_Territorial',\\\n",
        "                                   regexp_replace('Abertura_Territorial', 'Pará', 'PA'))\\\n",
        "                       .withColumn('Abertura_Territorial',\\\n",
        "                                   regexp_replace('Abertura_Territorial', 'Amapá', 'AP'))\\\n",
        "                       .withColumn('Abertura_Territorial',\\\n",
        "                                   regexp_replace('Abertura_Territorial', 'Tocantins', 'TO'))\\\n",
        "                       .withColumn('Abertura_Territorial',\\\n",
        "                                   regexp_replace('Abertura_Territorial', 'Maranhão', 'MA'))\\\n",
        "                       .withColumn('Abertura_Territorial',\\\n",
        "                                   regexp_replace('Abertura_Territorial', 'Piauí', 'PI'))\\\n",
        "                       .withColumn('Abertura_Territorial',\\\n",
        "                                   regexp_replace('Abertura_Territorial', 'Ceará', 'CE'))\\\n",
        "                       .withColumn('Abertura_Territorial',\\\n",
        "                                   regexp_replace('Abertura_Territorial', 'Rio Grande do Norte', 'RN'))\\\n",
        "                       .withColumn('Abertura_Territorial',\\\n",
        "                                   regexp_replace('Abertura_Territorial', 'Paraíba', 'PB'))\\\n",
        "                       .withColumn('Abertura_Territorial',\\\n",
        "                                   regexp_replace('Abertura_Territorial', 'Pernambuco', 'PE'))\\\n",
        "                       .withColumn('Abertura_Territorial',\\\n",
        "                                   regexp_replace('Abertura_Territorial', 'Alagoas', 'AL'))\\\n",
        "                       .withColumn('Abertura_Territorial',\\\n",
        "                                   regexp_replace('Abertura_Territorial', 'Sergipe', 'SE'))\\\n",
        "                       .withColumn('Abertura_Territorial',\\\n",
        "                                   regexp_replace('Abertura_Territorial', 'Bahia', 'BA'))\\\n",
        "                       .withColumn('Abertura_Territorial',\\\n",
        "                                   regexp_replace('Abertura_Territorial', 'Minas Gerais', 'MG'))\\\n",
        "                       .withColumn('Abertura_Territorial',\\\n",
        "                                   regexp_replace('Abertura_Territorial', 'Espírito Santo', 'ES'))\\\n",
        "                       .withColumn('Abertura_Territorial',\\\n",
        "                                   regexp_replace('Abertura_Territorial', 'Rio de Janeiro', 'RJ'))\\\n",
        "                       .withColumn('Abertura_Territorial',\\\n",
        "                                   regexp_replace('Abertura_Territorial', 'São Paulo', 'SP'))\\\n",
        "                       .withColumn('Abertura_Territorial',\\\n",
        "                                   regexp_replace('Abertura_Territorial', 'Paraná', 'PR'))\\\n",
        "                       .withColumn('Abertura_Territorial',\\\n",
        "                                   regexp_replace('Abertura_Territorial', 'Santa Catarina', 'SC'))\\\n",
        "                       .withColumn('Abertura_Territorial',\\\n",
        "                                   regexp_replace('Abertura_Territorial', 'Rio Grande do Sul', 'RS' ))\\\n",
        "                       .withColumn('Abertura_Territorial',\\\n",
        "                                   regexp_replace('Abertura_Territorial', 'Mato Grosso do Sul', 'MS'))\\\n",
        "                       .withColumn('Abertura_Territorial',\\\n",
        "                                   regexp_replace('Abertura_Territorial', 'Mato Grosso', 'MT'))\\\n",
        "                       .withColumn('Abertura_Territorial',\\\n",
        "                                   regexp_replace('Abertura_Territorial', 'Goiás', 'GO'))\\\n",
        "                       .withColumn('Abertura_Territorial',\\\n",
        "                                   regexp_replace('Abertura_Territorial', 'Distrito Federal', 'DF'))\\\n",
        "\n",
        "educacao.show(27)"
      ]
    },
    {
      "cell_type": "markdown",
      "metadata": {
        "id": "smjxBmjx20WT"
      },
      "source": [
        "#### Foi feita a separaçao da coluna categoria_2 referentes ao ano de 2018 de acordo com a idade para melhor visualização dos dados."
      ]
    },
    {
      "cell_type": "code",
      "execution_count": 59,
      "metadata": {
        "id": "imA1QSav3Ecd",
        "colab": {
          "base_uri": "https://localhost:8080/"
        },
        "outputId": "62b197b9-c361-4ed1-cac2-0006a743c873"
      },
      "outputs": [
        {
          "output_type": "stream",
          "name": "stdout",
          "text": [
            "+--------------------+---------------+----+\n",
            "|Abertura_Territorial|    Categoria_2|2018|\n",
            "+--------------------+---------------+----+\n",
            "|                  AL|15 anos ou mais|17.2|\n",
            "|                  PI|15 anos ou mais|16.6|\n",
            "|                  MA|15 anos ou mais|16.3|\n",
            "|                  PB|15 anos ou mais|16.1|\n",
            "|                  SE|15 anos ou mais|13.9|\n",
            "|                  CE|15 anos ou mais|13.3|\n",
            "|                  RN|15 anos ou mais|12.9|\n",
            "|                  BA|15 anos ou mais|12.7|\n",
            "|                  AC|15 anos ou mais|12.1|\n",
            "|                  PE|15 anos ou mais|11.9|\n",
            "|                  TO|15 anos ou mais|10.0|\n",
            "|                  PA|15 anos ou mais| 8.8|\n",
            "|                  MT|15 anos ou mais| 7.1|\n",
            "|                  RO|15 anos ou mais| 6.5|\n",
            "|                  AP|15 anos ou mais| 6.1|\n",
            "|                  RR|15 anos ou mais| 6.0|\n",
            "|                  MG|15 anos ou mais| 5.8|\n",
            "|                  AM|15 anos ou mais| 5.8|\n",
            "|                  GO|15 anos ou mais| 5.7|\n",
            "|                  ES|15 anos ou mais| 5.5|\n",
            "|                  PR|15 anos ou mais| 5.0|\n",
            "|                  MS|15 anos ou mais| 5.0|\n",
            "|                  DF|15 anos ou mais| 3.1|\n",
            "|                  RS|15 anos ou mais| 3.0|\n",
            "|                  SP|15 anos ou mais| 2.6|\n",
            "|                  SC|15 anos ou mais| 2.5|\n",
            "|                  RJ|15 anos ou mais| 2.4|\n",
            "+--------------------+---------------+----+\n",
            "\n"
          ]
        }
      ],
      "source": [
        "educacao.createOrReplaceTempView(\"new_df\")\n",
        "\n",
        "idade_15_ou_mais = spark.sql(\"select Abertura_Territorial,  Categoria_2, `2018` \\\n",
        "                              from new_df\\\n",
        "                              where Categoria_2 like '%15%'\")\\\n",
        "                        .orderBy(col('2018').desc())\n",
        "\n",
        "idade_15_ou_mais.show(100)"
      ]
    },
    {
      "cell_type": "code",
      "execution_count": 60,
      "metadata": {
        "id": "TEfGMvL_65KI",
        "colab": {
          "base_uri": "https://localhost:8080/"
        },
        "outputId": "d3b74cc3-78e0-4975-e5fa-8d435179c826"
      },
      "outputs": [
        {
          "output_type": "stream",
          "name": "stdout",
          "text": [
            "+--------------------+---------------+----+\n",
            "|Abertura_Territorial|    Categoria_2|2018|\n",
            "+--------------------+---------------+----+\n",
            "|                  AL|18 anos ou mais|18.5|\n",
            "|                  PI|18 anos ou mais|17.7|\n",
            "|                  MA|18 anos ou mais|17.6|\n",
            "|                  PB|18 anos ou mais|17.2|\n",
            "|                  SE|18 anos ou mais|14.8|\n",
            "|                  CE|18 anos ou mais|14.2|\n",
            "|                  RN|18 anos ou mais|13.7|\n",
            "|                  BA|18 anos ou mais|13.5|\n",
            "|                  AC|18 anos ou mais|13.2|\n",
            "|                  PE|18 anos ou mais|12.6|\n",
            "|                  TO|18 anos ou mais|10.7|\n",
            "|                  PA|18 anos ou mais| 9.4|\n",
            "|                  MT|18 anos ou mais| 7.5|\n",
            "|                  RO|18 anos ou mais| 6.9|\n",
            "|                  RR|18 anos ou mais| 6.5|\n",
            "|                  AP|18 anos ou mais| 6.5|\n",
            "|                  AM|18 anos ou mais| 6.3|\n",
            "|                  MG|18 anos ou mais| 6.2|\n",
            "|                  GO|18 anos ou mais| 6.1|\n",
            "|                  ES|18 anos ou mais| 5.8|\n",
            "|                  MS|18 anos ou mais| 5.3|\n",
            "|                  PR|18 anos ou mais| 5.2|\n",
            "|                  DF|18 anos ou mais| 3.3|\n",
            "|                  RS|18 anos ou mais| 3.1|\n",
            "|                  SP|18 anos ou mais| 2.8|\n",
            "|                  SC|18 anos ou mais| 2.6|\n",
            "|                  RJ|18 anos ou mais| 2.5|\n",
            "+--------------------+---------------+----+\n",
            "\n"
          ]
        }
      ],
      "source": [
        "educacao.createOrReplaceTempView(\"new_df\")\n",
        "\n",
        "idade_18_ou_mais = spark.sql(\"select Abertura_Territorial,  Categoria_2, `2018` \\\n",
        "                              from new_df\\\n",
        "                              where Categoria_2 like '%18%'\")\\\n",
        "                        .orderBy(col('2018').desc())\n",
        "\n",
        "idade_18_ou_mais.show(100)"
      ]
    },
    {
      "cell_type": "code",
      "execution_count": 61,
      "metadata": {
        "id": "lWBxXQbX66Bd",
        "colab": {
          "base_uri": "https://localhost:8080/"
        },
        "outputId": "ac0f28b8-169e-45fd-8559-d5c1f65e1d97"
      },
      "outputs": [
        {
          "output_type": "stream",
          "name": "stdout",
          "text": [
            "+--------------------+---------------+----+\n",
            "|Abertura_Territorial|    Categoria_2|2018|\n",
            "+--------------------+---------------+----+\n",
            "|                  AL|25 anos ou mais|21.5|\n",
            "|                  MA|25 anos ou mais|21.0|\n",
            "|                  PI|25 anos ou mais|20.7|\n",
            "|                  PB|25 anos ou mais|19.9|\n",
            "|                  SE|25 anos ou mais|17.5|\n",
            "|                  CE|25 anos ou mais|16.6|\n",
            "|                  RN|25 anos ou mais|16.1|\n",
            "|                  AC|25 anos ou mais|15.9|\n",
            "|                  BA|25 anos ou mais|15.6|\n",
            "|                  PE|25 anos ou mais|14.6|\n",
            "|                  TO|25 anos ou mais|12.4|\n",
            "|                  PA|25 anos ou mais|11.2|\n",
            "|                  MT|25 anos ou mais| 8.7|\n",
            "|                  RO|25 anos ou mais| 8.3|\n",
            "|                  AP|25 anos ou mais| 8.2|\n",
            "|                  RR|25 anos ou mais| 7.9|\n",
            "|                  AM|25 anos ou mais| 7.6|\n",
            "|                  GO|25 anos ou mais| 7.0|\n",
            "|                  MG|25 anos ou mais| 7.0|\n",
            "|                  ES|25 anos ou mais| 6.7|\n",
            "|                  MS|25 anos ou mais| 6.2|\n",
            "|                  PR|25 anos ou mais| 6.0|\n",
            "|                  DF|25 anos ou mais| 3.8|\n",
            "|                  RS|25 anos ou mais| 3.5|\n",
            "|                  SP|25 anos ou mais| 3.1|\n",
            "|                  SC|25 anos ou mais| 2.9|\n",
            "|                  RJ|25 anos ou mais| 2.7|\n",
            "+--------------------+---------------+----+\n",
            "\n"
          ]
        }
      ],
      "source": [
        "educacao.createOrReplaceTempView(\"new_df\")\n",
        "\n",
        "idade_25_ou_mais = spark.sql(\"select Abertura_Territorial,  Categoria_2, `2018` \\\n",
        "                              from new_df\\\n",
        "                              where Categoria_2 like '%25%'\")\\\n",
        "                        .orderBy(col('2018').desc())\n",
        "\n",
        "idade_25_ou_mais.show(100)"
      ]
    },
    {
      "cell_type": "code",
      "execution_count": 62,
      "metadata": {
        "id": "8oZp0K-S66f3",
        "colab": {
          "base_uri": "https://localhost:8080/"
        },
        "outputId": "f09691cf-9da5-4833-eab0-5505da17216c"
      },
      "outputs": [
        {
          "output_type": "stream",
          "name": "stdout",
          "text": [
            "+--------------------+---------------+----+\n",
            "|Abertura_Territorial|    Categoria_2|2018|\n",
            "+--------------------+---------------+----+\n",
            "|                  MA|40 anos ou mais|30.5|\n",
            "|                  AL|40 anos ou mais|29.2|\n",
            "|                  PI|40 anos ou mais|28.4|\n",
            "|                  PB|40 anos ou mais|26.6|\n",
            "|                  SE|40 anos ou mais|24.8|\n",
            "|                  CE|40 anos ou mais|24.1|\n",
            "|                  AC|40 anos ou mais|23.4|\n",
            "|                  RN|40 anos ou mais|22.5|\n",
            "|                  BA|40 anos ou mais|22.3|\n",
            "|                  PE|40 anos ou mais|20.1|\n",
            "|                  TO|40 anos ou mais|18.5|\n",
            "|                  PA|40 anos ou mais|16.9|\n",
            "|                  AP|40 anos ou mais|13.4|\n",
            "|                  RO|40 anos ou mais|13.1|\n",
            "|                  RR|40 anos ou mais|12.9|\n",
            "|                  MT|40 anos ou mais|12.8|\n",
            "|                  AM|40 anos ou mais|11.2|\n",
            "|                  GO|40 anos ou mais|10.3|\n",
            "|                  MG|40 anos ou mais|10.0|\n",
            "|                  ES|40 anos ou mais| 9.8|\n",
            "|                  MS|40 anos ou mais| 9.1|\n",
            "|                  PR|40 anos ou mais| 8.5|\n",
            "|                  DF|40 anos ou mais| 5.7|\n",
            "|                  RS|40 anos ou mais| 4.6|\n",
            "|                  SP|40 anos ou mais| 4.5|\n",
            "|                  SC|40 anos ou mais| 4.2|\n",
            "|                  RJ|40 anos ou mais| 3.6|\n",
            "+--------------------+---------------+----+\n",
            "\n"
          ]
        }
      ],
      "source": [
        "educacao.createOrReplaceTempView(\"new_df\")\n",
        "\n",
        "idade_40_ou_mais = spark.sql(\"select Abertura_Territorial,  Categoria_2, `2018` \\\n",
        "                              from new_df\\\n",
        "                              where Categoria_2 like '%40%'\")\\\n",
        "                        .orderBy(col('2018').desc())\n",
        "\n",
        "idade_40_ou_mais.show(100)"
      ]
    },
    {
      "cell_type": "code",
      "execution_count": 63,
      "metadata": {
        "id": "MMqZyhCv7LL7",
        "colab": {
          "base_uri": "https://localhost:8080/"
        },
        "outputId": "55f93bd2-9837-44c4-d621-33e21d1404cc"
      },
      "outputs": [
        {
          "output_type": "stream",
          "name": "stdout",
          "text": [
            "+--------------------+---------------+----+\n",
            "|Abertura_Territorial|    Categoria_2|2018|\n",
            "+--------------------+---------------+----+\n",
            "|                  MA|60 anos ou mais|45.5|\n",
            "|                  PI|60 anos ou mais|42.7|\n",
            "|                  AL|60 anos ou mais|41.1|\n",
            "|                  SE|60 anos ou mais|38.6|\n",
            "|                  PB|60 anos ou mais|37.8|\n",
            "|                  CE|60 anos ou mais|36.9|\n",
            "|                  AC|60 anos ou mais|36.5|\n",
            "|                  BA|60 anos ou mais|35.3|\n",
            "|                  RN|60 anos ou mais|34.8|\n",
            "|                  TO|60 anos ou mais|32.5|\n",
            "|                  PE|60 anos ou mais|30.2|\n",
            "|                  PA|60 anos ou mais|27.9|\n",
            "|                  RO|60 anos ou mais|27.5|\n",
            "|                  AP|60 anos ou mais|27.4|\n",
            "|                  RR|60 anos ou mais|25.9|\n",
            "|                  MT|60 anos ou mais|24.2|\n",
            "|                  AM|60 anos ou mais|19.9|\n",
            "|                  GO|60 anos ou mais|18.9|\n",
            "|                  ES|60 anos ou mais|18.9|\n",
            "|                  MG|60 anos ou mais|17.1|\n",
            "|                  MS|60 anos ou mais|16.3|\n",
            "|                  PR|60 anos ou mais|15.9|\n",
            "|                  DF|60 anos ou mais|11.5|\n",
            "|                  SP|60 anos ou mais| 8.3|\n",
            "|                  SC|60 anos ou mais| 8.2|\n",
            "|                  RS|60 anos ou mais| 8.0|\n",
            "|                  RJ|60 anos ou mais| 6.3|\n",
            "+--------------------+---------------+----+\n",
            "\n"
          ]
        }
      ],
      "source": [
        "educacao.createOrReplaceTempView(\"new_df\")\n",
        "\n",
        "idade_60_ou_mais = spark.sql(\"select Abertura_Territorial,  Categoria_2, `2018`\\\n",
        "                              from new_df\\\n",
        "                              where Categoria_2 like '%60%'\")\\\n",
        "                        .orderBy(col('2018').desc())\n",
        "idade_60_ou_mais.show(100)\n",
        "\n",
        "\n"
      ]
    },
    {
      "cell_type": "markdown",
      "metadata": {
        "id": "8B9C4CU5gjlS"
      },
      "source": [
        "#### Demostração dos dados em gráfico de pessoas de 60 anos ou mais."
      ]
    },
    {
      "cell_type": "code",
      "execution_count": 64,
      "metadata": {
        "id": "qE6Hj3_UgptG"
      },
      "outputs": [],
      "source": [
        "graf_educacao = estado_total_cs.join(idade_60_ou_mais, \\\n",
        "                                     estado_total_cs.estado ==\\\n",
        "                                     idade_60_ou_mais.Abertura_Territorial,\\\n",
        "                                     \"inner\")\\\n",
        "                               .drop(\"Abertura_Territorial\")\\\n",
        "                               .drop(\"Categoria_2\")\n",
        "                      \n",
        "graf_educacao = graf_educacao.toPandas()"
      ]
    },
    {
      "cell_type": "code",
      "execution_count": 65,
      "metadata": {
        "id": "FtDoNsHIhSUF",
        "colab": {
          "base_uri": "https://localhost:8080/",
          "height": 1000
        },
        "outputId": "3f53b97d-ad72-4672-b23b-ec2308cfc13f"
      },
      "outputs": [
        {
          "output_type": "display_data",
          "data": {
            "text/html": [
              "<html>\n",
              "<head><meta charset=\"utf-8\" /></head>\n",
              "<body>\n",
              "    <div>            <script src=\"https://cdnjs.cloudflare.com/ajax/libs/mathjax/2.7.5/MathJax.js?config=TeX-AMS-MML_SVG\"></script><script type=\"text/javascript\">if (window.MathJax) {MathJax.Hub.Config({SVG: {font: \"STIX-Web\"}});}</script>                <script type=\"text/javascript\">window.PlotlyConfig = {MathJaxConfig: 'local'};</script>\n",
              "        <script src=\"https://cdn.plot.ly/plotly-2.8.3.min.js\"></script>                <div id=\"cee797a3-42bd-4cbd-bc09-972658caed20\" class=\"plotly-graph-div\" style=\"height:525px; width:100%;\"></div>            <script type=\"text/javascript\">                                    window.PLOTLYENV=window.PLOTLYENV || {};                                    if (document.getElementById(\"cee797a3-42bd-4cbd-bc09-972658caed20\")) {                    Plotly.newPlot(                        \"cee797a3-42bd-4cbd-bc09-972658caed20\",                        [{\"alignmentgroup\":\"True\",\"hovertemplate\":\"variable=total_casos_estados<br>estado=%{x}<br>value=%{y}<extra></extra>\",\"legendgroup\":\"total_casos_estados\",\"marker\":{\"color\":\"#636efa\",\"pattern\":{\"shape\":\"\"}},\"name\":\"total_casos_estados\",\"offsetgroup\":\"total_casos_estados\",\"orientation\":\"v\",\"showlegend\":true,\"textposition\":\"auto\",\"texttemplate\":\"%{y:.2s}\",\"x\":[\"SC\",\"RO\",\"PI\",\"AM\",\"RR\",\"GO\",\"TO\",\"MT\",\"SP\",\"PB\",\"ES\",\"RS\",\"MS\",\"AL\",\"MG\",\"PA\",\"BA\",\"SE\",\"PE\",\"CE\",\"RN\",\"RJ\",\"MA\",\"AC\",\"DF\",\"PR\",\"AP\"],\"xaxis\":\"x\",\"y\":[1934206.0,488322.0,442442.0,710181.0,210101.0,1713845.0,366096.0,870566.0,6497951.0,730522.0,1302535.0,2734324.0,594415.0,379049.0,3973929.0,974058.0,1859218.0,400336.0,1131222.0,1561859.0,598795.0,2628256.0,584904.0,166195.0,940689.0,2797579.0,213910.0],\"yaxis\":\"y\",\"type\":\"bar\"},{\"alignmentgroup\":\"True\",\"hovertemplate\":\"variable=2018<br>estado=%{x}<br>value=%{y}<extra></extra>\",\"legendgroup\":\"2018\",\"marker\":{\"color\":\"#EF553B\",\"pattern\":{\"shape\":\"\"}},\"name\":\"2018\",\"offsetgroup\":\"2018\",\"orientation\":\"v\",\"showlegend\":true,\"textposition\":\"auto\",\"texttemplate\":\"%{y:.2s}\",\"x\":[\"SC\",\"RO\",\"PI\",\"AM\",\"RR\",\"GO\",\"TO\",\"MT\",\"SP\",\"PB\",\"ES\",\"RS\",\"MS\",\"AL\",\"MG\",\"PA\",\"BA\",\"SE\",\"PE\",\"CE\",\"RN\",\"RJ\",\"MA\",\"AC\",\"DF\",\"PR\",\"AP\"],\"xaxis\":\"x\",\"y\":[8.2,27.5,42.7,19.9,25.9,18.9,32.5,24.2,8.3,37.8,18.9,8.0,16.3,41.1,17.1,27.9,35.3,38.6,30.2,36.9,34.8,6.3,45.5,36.5,11.5,15.9,27.4],\"yaxis\":\"y\",\"type\":\"bar\"}],                        {\"template\":{\"data\":{\"bar\":[{\"error_x\":{\"color\":\"#2a3f5f\"},\"error_y\":{\"color\":\"#2a3f5f\"},\"marker\":{\"line\":{\"color\":\"#E5ECF6\",\"width\":0.5},\"pattern\":{\"fillmode\":\"overlay\",\"size\":10,\"solidity\":0.2}},\"type\":\"bar\"}],\"barpolar\":[{\"marker\":{\"line\":{\"color\":\"#E5ECF6\",\"width\":0.5},\"pattern\":{\"fillmode\":\"overlay\",\"size\":10,\"solidity\":0.2}},\"type\":\"barpolar\"}],\"carpet\":[{\"aaxis\":{\"endlinecolor\":\"#2a3f5f\",\"gridcolor\":\"white\",\"linecolor\":\"white\",\"minorgridcolor\":\"white\",\"startlinecolor\":\"#2a3f5f\"},\"baxis\":{\"endlinecolor\":\"#2a3f5f\",\"gridcolor\":\"white\",\"linecolor\":\"white\",\"minorgridcolor\":\"white\",\"startlinecolor\":\"#2a3f5f\"},\"type\":\"carpet\"}],\"choropleth\":[{\"colorbar\":{\"outlinewidth\":0,\"ticks\":\"\"},\"type\":\"choropleth\"}],\"contour\":[{\"colorbar\":{\"outlinewidth\":0,\"ticks\":\"\"},\"colorscale\":[[0.0,\"#0d0887\"],[0.1111111111111111,\"#46039f\"],[0.2222222222222222,\"#7201a8\"],[0.3333333333333333,\"#9c179e\"],[0.4444444444444444,\"#bd3786\"],[0.5555555555555556,\"#d8576b\"],[0.6666666666666666,\"#ed7953\"],[0.7777777777777778,\"#fb9f3a\"],[0.8888888888888888,\"#fdca26\"],[1.0,\"#f0f921\"]],\"type\":\"contour\"}],\"contourcarpet\":[{\"colorbar\":{\"outlinewidth\":0,\"ticks\":\"\"},\"type\":\"contourcarpet\"}],\"heatmap\":[{\"colorbar\":{\"outlinewidth\":0,\"ticks\":\"\"},\"colorscale\":[[0.0,\"#0d0887\"],[0.1111111111111111,\"#46039f\"],[0.2222222222222222,\"#7201a8\"],[0.3333333333333333,\"#9c179e\"],[0.4444444444444444,\"#bd3786\"],[0.5555555555555556,\"#d8576b\"],[0.6666666666666666,\"#ed7953\"],[0.7777777777777778,\"#fb9f3a\"],[0.8888888888888888,\"#fdca26\"],[1.0,\"#f0f921\"]],\"type\":\"heatmap\"}],\"heatmapgl\":[{\"colorbar\":{\"outlinewidth\":0,\"ticks\":\"\"},\"colorscale\":[[0.0,\"#0d0887\"],[0.1111111111111111,\"#46039f\"],[0.2222222222222222,\"#7201a8\"],[0.3333333333333333,\"#9c179e\"],[0.4444444444444444,\"#bd3786\"],[0.5555555555555556,\"#d8576b\"],[0.6666666666666666,\"#ed7953\"],[0.7777777777777778,\"#fb9f3a\"],[0.8888888888888888,\"#fdca26\"],[1.0,\"#f0f921\"]],\"type\":\"heatmapgl\"}],\"histogram\":[{\"marker\":{\"pattern\":{\"fillmode\":\"overlay\",\"size\":10,\"solidity\":0.2}},\"type\":\"histogram\"}],\"histogram2d\":[{\"colorbar\":{\"outlinewidth\":0,\"ticks\":\"\"},\"colorscale\":[[0.0,\"#0d0887\"],[0.1111111111111111,\"#46039f\"],[0.2222222222222222,\"#7201a8\"],[0.3333333333333333,\"#9c179e\"],[0.4444444444444444,\"#bd3786\"],[0.5555555555555556,\"#d8576b\"],[0.6666666666666666,\"#ed7953\"],[0.7777777777777778,\"#fb9f3a\"],[0.8888888888888888,\"#fdca26\"],[1.0,\"#f0f921\"]],\"type\":\"histogram2d\"}],\"histogram2dcontour\":[{\"colorbar\":{\"outlinewidth\":0,\"ticks\":\"\"},\"colorscale\":[[0.0,\"#0d0887\"],[0.1111111111111111,\"#46039f\"],[0.2222222222222222,\"#7201a8\"],[0.3333333333333333,\"#9c179e\"],[0.4444444444444444,\"#bd3786\"],[0.5555555555555556,\"#d8576b\"],[0.6666666666666666,\"#ed7953\"],[0.7777777777777778,\"#fb9f3a\"],[0.8888888888888888,\"#fdca26\"],[1.0,\"#f0f921\"]],\"type\":\"histogram2dcontour\"}],\"mesh3d\":[{\"colorbar\":{\"outlinewidth\":0,\"ticks\":\"\"},\"type\":\"mesh3d\"}],\"parcoords\":[{\"line\":{\"colorbar\":{\"outlinewidth\":0,\"ticks\":\"\"}},\"type\":\"parcoords\"}],\"pie\":[{\"automargin\":true,\"type\":\"pie\"}],\"scatter\":[{\"marker\":{\"colorbar\":{\"outlinewidth\":0,\"ticks\":\"\"}},\"type\":\"scatter\"}],\"scatter3d\":[{\"line\":{\"colorbar\":{\"outlinewidth\":0,\"ticks\":\"\"}},\"marker\":{\"colorbar\":{\"outlinewidth\":0,\"ticks\":\"\"}},\"type\":\"scatter3d\"}],\"scattercarpet\":[{\"marker\":{\"colorbar\":{\"outlinewidth\":0,\"ticks\":\"\"}},\"type\":\"scattercarpet\"}],\"scattergeo\":[{\"marker\":{\"colorbar\":{\"outlinewidth\":0,\"ticks\":\"\"}},\"type\":\"scattergeo\"}],\"scattergl\":[{\"marker\":{\"colorbar\":{\"outlinewidth\":0,\"ticks\":\"\"}},\"type\":\"scattergl\"}],\"scattermapbox\":[{\"marker\":{\"colorbar\":{\"outlinewidth\":0,\"ticks\":\"\"}},\"type\":\"scattermapbox\"}],\"scatterpolar\":[{\"marker\":{\"colorbar\":{\"outlinewidth\":0,\"ticks\":\"\"}},\"type\":\"scatterpolar\"}],\"scatterpolargl\":[{\"marker\":{\"colorbar\":{\"outlinewidth\":0,\"ticks\":\"\"}},\"type\":\"scatterpolargl\"}],\"scatterternary\":[{\"marker\":{\"colorbar\":{\"outlinewidth\":0,\"ticks\":\"\"}},\"type\":\"scatterternary\"}],\"surface\":[{\"colorbar\":{\"outlinewidth\":0,\"ticks\":\"\"},\"colorscale\":[[0.0,\"#0d0887\"],[0.1111111111111111,\"#46039f\"],[0.2222222222222222,\"#7201a8\"],[0.3333333333333333,\"#9c179e\"],[0.4444444444444444,\"#bd3786\"],[0.5555555555555556,\"#d8576b\"],[0.6666666666666666,\"#ed7953\"],[0.7777777777777778,\"#fb9f3a\"],[0.8888888888888888,\"#fdca26\"],[1.0,\"#f0f921\"]],\"type\":\"surface\"}],\"table\":[{\"cells\":{\"fill\":{\"color\":\"#EBF0F8\"},\"line\":{\"color\":\"white\"}},\"header\":{\"fill\":{\"color\":\"#C8D4E3\"},\"line\":{\"color\":\"white\"}},\"type\":\"table\"}]},\"layout\":{\"annotationdefaults\":{\"arrowcolor\":\"#2a3f5f\",\"arrowhead\":0,\"arrowwidth\":1},\"autotypenumbers\":\"strict\",\"coloraxis\":{\"colorbar\":{\"outlinewidth\":0,\"ticks\":\"\"}},\"colorscale\":{\"diverging\":[[0,\"#8e0152\"],[0.1,\"#c51b7d\"],[0.2,\"#de77ae\"],[0.3,\"#f1b6da\"],[0.4,\"#fde0ef\"],[0.5,\"#f7f7f7\"],[0.6,\"#e6f5d0\"],[0.7,\"#b8e186\"],[0.8,\"#7fbc41\"],[0.9,\"#4d9221\"],[1,\"#276419\"]],\"sequential\":[[0.0,\"#0d0887\"],[0.1111111111111111,\"#46039f\"],[0.2222222222222222,\"#7201a8\"],[0.3333333333333333,\"#9c179e\"],[0.4444444444444444,\"#bd3786\"],[0.5555555555555556,\"#d8576b\"],[0.6666666666666666,\"#ed7953\"],[0.7777777777777778,\"#fb9f3a\"],[0.8888888888888888,\"#fdca26\"],[1.0,\"#f0f921\"]],\"sequentialminus\":[[0.0,\"#0d0887\"],[0.1111111111111111,\"#46039f\"],[0.2222222222222222,\"#7201a8\"],[0.3333333333333333,\"#9c179e\"],[0.4444444444444444,\"#bd3786\"],[0.5555555555555556,\"#d8576b\"],[0.6666666666666666,\"#ed7953\"],[0.7777777777777778,\"#fb9f3a\"],[0.8888888888888888,\"#fdca26\"],[1.0,\"#f0f921\"]]},\"colorway\":[\"#636efa\",\"#EF553B\",\"#00cc96\",\"#ab63fa\",\"#FFA15A\",\"#19d3f3\",\"#FF6692\",\"#B6E880\",\"#FF97FF\",\"#FECB52\"],\"font\":{\"color\":\"#2a3f5f\"},\"geo\":{\"bgcolor\":\"white\",\"lakecolor\":\"white\",\"landcolor\":\"#E5ECF6\",\"showlakes\":true,\"showland\":true,\"subunitcolor\":\"white\"},\"hoverlabel\":{\"align\":\"left\"},\"hovermode\":\"closest\",\"mapbox\":{\"style\":\"light\"},\"paper_bgcolor\":\"white\",\"plot_bgcolor\":\"#E5ECF6\",\"polar\":{\"angularaxis\":{\"gridcolor\":\"white\",\"linecolor\":\"white\",\"ticks\":\"\"},\"bgcolor\":\"#E5ECF6\",\"radialaxis\":{\"gridcolor\":\"white\",\"linecolor\":\"white\",\"ticks\":\"\"}},\"scene\":{\"xaxis\":{\"backgroundcolor\":\"#E5ECF6\",\"gridcolor\":\"white\",\"gridwidth\":2,\"linecolor\":\"white\",\"showbackground\":true,\"ticks\":\"\",\"zerolinecolor\":\"white\"},\"yaxis\":{\"backgroundcolor\":\"#E5ECF6\",\"gridcolor\":\"white\",\"gridwidth\":2,\"linecolor\":\"white\",\"showbackground\":true,\"ticks\":\"\",\"zerolinecolor\":\"white\"},\"zaxis\":{\"backgroundcolor\":\"#E5ECF6\",\"gridcolor\":\"white\",\"gridwidth\":2,\"linecolor\":\"white\",\"showbackground\":true,\"ticks\":\"\",\"zerolinecolor\":\"white\"}},\"shapedefaults\":{\"line\":{\"color\":\"#2a3f5f\"}},\"ternary\":{\"aaxis\":{\"gridcolor\":\"white\",\"linecolor\":\"white\",\"ticks\":\"\"},\"baxis\":{\"gridcolor\":\"white\",\"linecolor\":\"white\",\"ticks\":\"\"},\"bgcolor\":\"#E5ECF6\",\"caxis\":{\"gridcolor\":\"white\",\"linecolor\":\"white\",\"ticks\":\"\"}},\"title\":{\"x\":0.05},\"xaxis\":{\"automargin\":true,\"gridcolor\":\"white\",\"linecolor\":\"white\",\"ticks\":\"\",\"title\":{\"standoff\":15},\"zerolinecolor\":\"white\",\"zerolinewidth\":2},\"yaxis\":{\"automargin\":true,\"gridcolor\":\"white\",\"linecolor\":\"white\",\"ticks\":\"\",\"title\":{\"standoff\":15},\"zerolinecolor\":\"white\",\"zerolinewidth\":2}}},\"xaxis\":{\"anchor\":\"y\",\"domain\":[0.0,1.0],\"title\":{\"text\":\"estado\"}},\"yaxis\":{\"anchor\":\"x\",\"domain\":[0.0,1.0],\"title\":{\"text\":\"value\"}},\"legend\":{\"title\":{\"text\":\"variable\"},\"tracegroupgap\":0},\"title\":{\"text\":\"Casos novos de Covid e IDH\"},\"barmode\":\"stack\"},                        {\"responsive\": true}                    ).then(function(){\n",
              "                            \n",
              "var gd = document.getElementById('cee797a3-42bd-4cbd-bc09-972658caed20');\n",
              "var x = new MutationObserver(function (mutations, observer) {{\n",
              "        var display = window.getComputedStyle(gd).display;\n",
              "        if (!display || display === 'none') {{\n",
              "            console.log([gd, 'removed!']);\n",
              "            Plotly.purge(gd);\n",
              "            observer.disconnect();\n",
              "        }}\n",
              "}});\n",
              "\n",
              "// Listen for the removal of the full notebook cells\n",
              "var notebookContainer = gd.closest('#notebook-container');\n",
              "if (notebookContainer) {{\n",
              "    x.observe(notebookContainer, {childList: true});\n",
              "}}\n",
              "\n",
              "// Listen for the clearing of the current output cell\n",
              "var outputEl = gd.closest('.output');\n",
              "if (outputEl) {{\n",
              "    x.observe(outputEl, {childList: true});\n",
              "}}\n",
              "\n",
              "                        })                };                            </script>        </div>\n",
              "</body>\n",
              "</html>"
            ]
          },
          "metadata": {}
        },
        {
          "output_type": "display_data",
          "data": {
            "text/html": [
              "<html>\n",
              "<head><meta charset=\"utf-8\" /></head>\n",
              "<body>\n",
              "    <div>            <script src=\"https://cdnjs.cloudflare.com/ajax/libs/mathjax/2.7.5/MathJax.js?config=TeX-AMS-MML_SVG\"></script><script type=\"text/javascript\">if (window.MathJax) {MathJax.Hub.Config({SVG: {font: \"STIX-Web\"}});}</script>                <script type=\"text/javascript\">window.PlotlyConfig = {MathJaxConfig: 'local'};</script>\n",
              "        <script src=\"https://cdn.plot.ly/plotly-2.8.3.min.js\"></script>                <div id=\"31dd6b15-ac9d-470f-8116-ae4463b03bce\" class=\"plotly-graph-div\" style=\"height:525px; width:100%;\"></div>            <script type=\"text/javascript\">                                    window.PLOTLYENV=window.PLOTLYENV || {};                                    if (document.getElementById(\"31dd6b15-ac9d-470f-8116-ae4463b03bce\")) {                    Plotly.newPlot(                        \"31dd6b15-ac9d-470f-8116-ae4463b03bce\",                        [{\"alignmentgroup\":\"True\",\"hovertemplate\":\"estado=%{x}<br>total_casos_estados=%{marker.color}<extra></extra>\",\"legendgroup\":\"\",\"marker\":{\"color\":[1934206,488322,442442,710181,210101,1713845,366096,870566,6497951,730522,1302535,2734324,594415,379049,3973929,974058,1859218,400336,1131222,1561859,598795,2628256,584904,166195,940689,2797579,213910],\"coloraxis\":\"coloraxis\",\"pattern\":{\"shape\":\"\"}},\"name\":\"\",\"offsetgroup\":\"\",\"orientation\":\"v\",\"showlegend\":false,\"textposition\":\"auto\",\"x\":[\"SC\",\"RO\",\"PI\",\"AM\",\"RR\",\"GO\",\"TO\",\"MT\",\"SP\",\"PB\",\"ES\",\"RS\",\"MS\",\"AL\",\"MG\",\"PA\",\"BA\",\"SE\",\"PE\",\"CE\",\"RN\",\"RJ\",\"MA\",\"AC\",\"DF\",\"PR\",\"AP\"],\"xaxis\":\"x\",\"y\":[1934206,488322,442442,710181,210101,1713845,366096,870566,6497951,730522,1302535,2734324,594415,379049,3973929,974058,1859218,400336,1131222,1561859,598795,2628256,584904,166195,940689,2797579,213910],\"yaxis\":\"y\",\"type\":\"bar\"}],                        {\"template\":{\"data\":{\"bar\":[{\"error_x\":{\"color\":\"#2a3f5f\"},\"error_y\":{\"color\":\"#2a3f5f\"},\"marker\":{\"line\":{\"color\":\"#E5ECF6\",\"width\":0.5},\"pattern\":{\"fillmode\":\"overlay\",\"size\":10,\"solidity\":0.2}},\"type\":\"bar\"}],\"barpolar\":[{\"marker\":{\"line\":{\"color\":\"#E5ECF6\",\"width\":0.5},\"pattern\":{\"fillmode\":\"overlay\",\"size\":10,\"solidity\":0.2}},\"type\":\"barpolar\"}],\"carpet\":[{\"aaxis\":{\"endlinecolor\":\"#2a3f5f\",\"gridcolor\":\"white\",\"linecolor\":\"white\",\"minorgridcolor\":\"white\",\"startlinecolor\":\"#2a3f5f\"},\"baxis\":{\"endlinecolor\":\"#2a3f5f\",\"gridcolor\":\"white\",\"linecolor\":\"white\",\"minorgridcolor\":\"white\",\"startlinecolor\":\"#2a3f5f\"},\"type\":\"carpet\"}],\"choropleth\":[{\"colorbar\":{\"outlinewidth\":0,\"ticks\":\"\"},\"type\":\"choropleth\"}],\"contour\":[{\"colorbar\":{\"outlinewidth\":0,\"ticks\":\"\"},\"colorscale\":[[0.0,\"#0d0887\"],[0.1111111111111111,\"#46039f\"],[0.2222222222222222,\"#7201a8\"],[0.3333333333333333,\"#9c179e\"],[0.4444444444444444,\"#bd3786\"],[0.5555555555555556,\"#d8576b\"],[0.6666666666666666,\"#ed7953\"],[0.7777777777777778,\"#fb9f3a\"],[0.8888888888888888,\"#fdca26\"],[1.0,\"#f0f921\"]],\"type\":\"contour\"}],\"contourcarpet\":[{\"colorbar\":{\"outlinewidth\":0,\"ticks\":\"\"},\"type\":\"contourcarpet\"}],\"heatmap\":[{\"colorbar\":{\"outlinewidth\":0,\"ticks\":\"\"},\"colorscale\":[[0.0,\"#0d0887\"],[0.1111111111111111,\"#46039f\"],[0.2222222222222222,\"#7201a8\"],[0.3333333333333333,\"#9c179e\"],[0.4444444444444444,\"#bd3786\"],[0.5555555555555556,\"#d8576b\"],[0.6666666666666666,\"#ed7953\"],[0.7777777777777778,\"#fb9f3a\"],[0.8888888888888888,\"#fdca26\"],[1.0,\"#f0f921\"]],\"type\":\"heatmap\"}],\"heatmapgl\":[{\"colorbar\":{\"outlinewidth\":0,\"ticks\":\"\"},\"colorscale\":[[0.0,\"#0d0887\"],[0.1111111111111111,\"#46039f\"],[0.2222222222222222,\"#7201a8\"],[0.3333333333333333,\"#9c179e\"],[0.4444444444444444,\"#bd3786\"],[0.5555555555555556,\"#d8576b\"],[0.6666666666666666,\"#ed7953\"],[0.7777777777777778,\"#fb9f3a\"],[0.8888888888888888,\"#fdca26\"],[1.0,\"#f0f921\"]],\"type\":\"heatmapgl\"}],\"histogram\":[{\"marker\":{\"pattern\":{\"fillmode\":\"overlay\",\"size\":10,\"solidity\":0.2}},\"type\":\"histogram\"}],\"histogram2d\":[{\"colorbar\":{\"outlinewidth\":0,\"ticks\":\"\"},\"colorscale\":[[0.0,\"#0d0887\"],[0.1111111111111111,\"#46039f\"],[0.2222222222222222,\"#7201a8\"],[0.3333333333333333,\"#9c179e\"],[0.4444444444444444,\"#bd3786\"],[0.5555555555555556,\"#d8576b\"],[0.6666666666666666,\"#ed7953\"],[0.7777777777777778,\"#fb9f3a\"],[0.8888888888888888,\"#fdca26\"],[1.0,\"#f0f921\"]],\"type\":\"histogram2d\"}],\"histogram2dcontour\":[{\"colorbar\":{\"outlinewidth\":0,\"ticks\":\"\"},\"colorscale\":[[0.0,\"#0d0887\"],[0.1111111111111111,\"#46039f\"],[0.2222222222222222,\"#7201a8\"],[0.3333333333333333,\"#9c179e\"],[0.4444444444444444,\"#bd3786\"],[0.5555555555555556,\"#d8576b\"],[0.6666666666666666,\"#ed7953\"],[0.7777777777777778,\"#fb9f3a\"],[0.8888888888888888,\"#fdca26\"],[1.0,\"#f0f921\"]],\"type\":\"histogram2dcontour\"}],\"mesh3d\":[{\"colorbar\":{\"outlinewidth\":0,\"ticks\":\"\"},\"type\":\"mesh3d\"}],\"parcoords\":[{\"line\":{\"colorbar\":{\"outlinewidth\":0,\"ticks\":\"\"}},\"type\":\"parcoords\"}],\"pie\":[{\"automargin\":true,\"type\":\"pie\"}],\"scatter\":[{\"marker\":{\"colorbar\":{\"outlinewidth\":0,\"ticks\":\"\"}},\"type\":\"scatter\"}],\"scatter3d\":[{\"line\":{\"colorbar\":{\"outlinewidth\":0,\"ticks\":\"\"}},\"marker\":{\"colorbar\":{\"outlinewidth\":0,\"ticks\":\"\"}},\"type\":\"scatter3d\"}],\"scattercarpet\":[{\"marker\":{\"colorbar\":{\"outlinewidth\":0,\"ticks\":\"\"}},\"type\":\"scattercarpet\"}],\"scattergeo\":[{\"marker\":{\"colorbar\":{\"outlinewidth\":0,\"ticks\":\"\"}},\"type\":\"scattergeo\"}],\"scattergl\":[{\"marker\":{\"colorbar\":{\"outlinewidth\":0,\"ticks\":\"\"}},\"type\":\"scattergl\"}],\"scattermapbox\":[{\"marker\":{\"colorbar\":{\"outlinewidth\":0,\"ticks\":\"\"}},\"type\":\"scattermapbox\"}],\"scatterpolar\":[{\"marker\":{\"colorbar\":{\"outlinewidth\":0,\"ticks\":\"\"}},\"type\":\"scatterpolar\"}],\"scatterpolargl\":[{\"marker\":{\"colorbar\":{\"outlinewidth\":0,\"ticks\":\"\"}},\"type\":\"scatterpolargl\"}],\"scatterternary\":[{\"marker\":{\"colorbar\":{\"outlinewidth\":0,\"ticks\":\"\"}},\"type\":\"scatterternary\"}],\"surface\":[{\"colorbar\":{\"outlinewidth\":0,\"ticks\":\"\"},\"colorscale\":[[0.0,\"#0d0887\"],[0.1111111111111111,\"#46039f\"],[0.2222222222222222,\"#7201a8\"],[0.3333333333333333,\"#9c179e\"],[0.4444444444444444,\"#bd3786\"],[0.5555555555555556,\"#d8576b\"],[0.6666666666666666,\"#ed7953\"],[0.7777777777777778,\"#fb9f3a\"],[0.8888888888888888,\"#fdca26\"],[1.0,\"#f0f921\"]],\"type\":\"surface\"}],\"table\":[{\"cells\":{\"fill\":{\"color\":\"#EBF0F8\"},\"line\":{\"color\":\"white\"}},\"header\":{\"fill\":{\"color\":\"#C8D4E3\"},\"line\":{\"color\":\"white\"}},\"type\":\"table\"}]},\"layout\":{\"annotationdefaults\":{\"arrowcolor\":\"#2a3f5f\",\"arrowhead\":0,\"arrowwidth\":1},\"autotypenumbers\":\"strict\",\"coloraxis\":{\"colorbar\":{\"outlinewidth\":0,\"ticks\":\"\"}},\"colorscale\":{\"diverging\":[[0,\"#8e0152\"],[0.1,\"#c51b7d\"],[0.2,\"#de77ae\"],[0.3,\"#f1b6da\"],[0.4,\"#fde0ef\"],[0.5,\"#f7f7f7\"],[0.6,\"#e6f5d0\"],[0.7,\"#b8e186\"],[0.8,\"#7fbc41\"],[0.9,\"#4d9221\"],[1,\"#276419\"]],\"sequential\":[[0.0,\"#0d0887\"],[0.1111111111111111,\"#46039f\"],[0.2222222222222222,\"#7201a8\"],[0.3333333333333333,\"#9c179e\"],[0.4444444444444444,\"#bd3786\"],[0.5555555555555556,\"#d8576b\"],[0.6666666666666666,\"#ed7953\"],[0.7777777777777778,\"#fb9f3a\"],[0.8888888888888888,\"#fdca26\"],[1.0,\"#f0f921\"]],\"sequentialminus\":[[0.0,\"#0d0887\"],[0.1111111111111111,\"#46039f\"],[0.2222222222222222,\"#7201a8\"],[0.3333333333333333,\"#9c179e\"],[0.4444444444444444,\"#bd3786\"],[0.5555555555555556,\"#d8576b\"],[0.6666666666666666,\"#ed7953\"],[0.7777777777777778,\"#fb9f3a\"],[0.8888888888888888,\"#fdca26\"],[1.0,\"#f0f921\"]]},\"colorway\":[\"#636efa\",\"#EF553B\",\"#00cc96\",\"#ab63fa\",\"#FFA15A\",\"#19d3f3\",\"#FF6692\",\"#B6E880\",\"#FF97FF\",\"#FECB52\"],\"font\":{\"color\":\"#2a3f5f\"},\"geo\":{\"bgcolor\":\"white\",\"lakecolor\":\"white\",\"landcolor\":\"#E5ECF6\",\"showlakes\":true,\"showland\":true,\"subunitcolor\":\"white\"},\"hoverlabel\":{\"align\":\"left\"},\"hovermode\":\"closest\",\"mapbox\":{\"style\":\"light\"},\"paper_bgcolor\":\"white\",\"plot_bgcolor\":\"#E5ECF6\",\"polar\":{\"angularaxis\":{\"gridcolor\":\"white\",\"linecolor\":\"white\",\"ticks\":\"\"},\"bgcolor\":\"#E5ECF6\",\"radialaxis\":{\"gridcolor\":\"white\",\"linecolor\":\"white\",\"ticks\":\"\"}},\"scene\":{\"xaxis\":{\"backgroundcolor\":\"#E5ECF6\",\"gridcolor\":\"white\",\"gridwidth\":2,\"linecolor\":\"white\",\"showbackground\":true,\"ticks\":\"\",\"zerolinecolor\":\"white\"},\"yaxis\":{\"backgroundcolor\":\"#E5ECF6\",\"gridcolor\":\"white\",\"gridwidth\":2,\"linecolor\":\"white\",\"showbackground\":true,\"ticks\":\"\",\"zerolinecolor\":\"white\"},\"zaxis\":{\"backgroundcolor\":\"#E5ECF6\",\"gridcolor\":\"white\",\"gridwidth\":2,\"linecolor\":\"white\",\"showbackground\":true,\"ticks\":\"\",\"zerolinecolor\":\"white\"}},\"shapedefaults\":{\"line\":{\"color\":\"#2a3f5f\"}},\"ternary\":{\"aaxis\":{\"gridcolor\":\"white\",\"linecolor\":\"white\",\"ticks\":\"\"},\"baxis\":{\"gridcolor\":\"white\",\"linecolor\":\"white\",\"ticks\":\"\"},\"bgcolor\":\"#E5ECF6\",\"caxis\":{\"gridcolor\":\"white\",\"linecolor\":\"white\",\"ticks\":\"\"}},\"title\":{\"x\":0.05},\"xaxis\":{\"automargin\":true,\"gridcolor\":\"white\",\"linecolor\":\"white\",\"ticks\":\"\",\"title\":{\"standoff\":15},\"zerolinecolor\":\"white\",\"zerolinewidth\":2},\"yaxis\":{\"automargin\":true,\"gridcolor\":\"white\",\"linecolor\":\"white\",\"ticks\":\"\",\"title\":{\"standoff\":15},\"zerolinecolor\":\"white\",\"zerolinewidth\":2}}},\"xaxis\":{\"anchor\":\"y\",\"domain\":[0.0,1.0],\"title\":{\"text\":\"estado\"}},\"yaxis\":{\"anchor\":\"x\",\"domain\":[0.0,1.0],\"title\":{\"text\":\"total_casos_estados\"}},\"coloraxis\":{\"colorbar\":{\"title\":{\"text\":\"total_casos_estados\"}},\"colorscale\":[[0.0,\"#0d0887\"],[0.1111111111111111,\"#46039f\"],[0.2222222222222222,\"#7201a8\"],[0.3333333333333333,\"#9c179e\"],[0.4444444444444444,\"#bd3786\"],[0.5555555555555556,\"#d8576b\"],[0.6666666666666666,\"#ed7953\"],[0.7777777777777778,\"#fb9f3a\"],[0.8888888888888888,\"#fdca26\"],[1.0,\"#f0f921\"]]},\"legend\":{\"tracegroupgap\":0},\"title\":{\"text\":\"Casos novos de Covid\"},\"barmode\":\"group\"},                        {\"responsive\": true}                    ).then(function(){\n",
              "                            \n",
              "var gd = document.getElementById('31dd6b15-ac9d-470f-8116-ae4463b03bce');\n",
              "var x = new MutationObserver(function (mutations, observer) {{\n",
              "        var display = window.getComputedStyle(gd).display;\n",
              "        if (!display || display === 'none') {{\n",
              "            console.log([gd, 'removed!']);\n",
              "            Plotly.purge(gd);\n",
              "            observer.disconnect();\n",
              "        }}\n",
              "}});\n",
              "\n",
              "// Listen for the removal of the full notebook cells\n",
              "var notebookContainer = gd.closest('#notebook-container');\n",
              "if (notebookContainer) {{\n",
              "    x.observe(notebookContainer, {childList: true});\n",
              "}}\n",
              "\n",
              "// Listen for the clearing of the current output cell\n",
              "var outputEl = gd.closest('.output');\n",
              "if (outputEl) {{\n",
              "    x.observe(outputEl, {childList: true});\n",
              "}}\n",
              "\n",
              "                        })                };                            </script>        </div>\n",
              "</body>\n",
              "</html>"
            ]
          },
          "metadata": {}
        },
        {
          "output_type": "display_data",
          "data": {
            "text/html": [
              "<html>\n",
              "<head><meta charset=\"utf-8\" /></head>\n",
              "<body>\n",
              "    <div>            <script src=\"https://cdnjs.cloudflare.com/ajax/libs/mathjax/2.7.5/MathJax.js?config=TeX-AMS-MML_SVG\"></script><script type=\"text/javascript\">if (window.MathJax) {MathJax.Hub.Config({SVG: {font: \"STIX-Web\"}});}</script>                <script type=\"text/javascript\">window.PlotlyConfig = {MathJaxConfig: 'local'};</script>\n",
              "        <script src=\"https://cdn.plot.ly/plotly-2.8.3.min.js\"></script>                <div id=\"5876088f-b932-4fcf-aada-81270d0faaa7\" class=\"plotly-graph-div\" style=\"height:525px; width:100%;\"></div>            <script type=\"text/javascript\">                                    window.PLOTLYENV=window.PLOTLYENV || {};                                    if (document.getElementById(\"5876088f-b932-4fcf-aada-81270d0faaa7\")) {                    Plotly.newPlot(                        \"5876088f-b932-4fcf-aada-81270d0faaa7\",                        [{\"alignmentgroup\":\"True\",\"hovertemplate\":\"estado=%{x}<br>2018=%{marker.color}<extra></extra>\",\"legendgroup\":\"\",\"marker\":{\"color\":[8.2,27.5,42.7,19.9,25.9,18.9,32.5,24.2,8.3,37.8,18.9,8.0,16.3,41.1,17.1,27.9,35.3,38.6,30.2,36.9,34.8,6.3,45.5,36.5,11.5,15.9,27.4],\"coloraxis\":\"coloraxis\",\"pattern\":{\"shape\":\"\"}},\"name\":\"\",\"offsetgroup\":\"\",\"orientation\":\"v\",\"showlegend\":false,\"textposition\":\"auto\",\"x\":[\"SC\",\"RO\",\"PI\",\"AM\",\"RR\",\"GO\",\"TO\",\"MT\",\"SP\",\"PB\",\"ES\",\"RS\",\"MS\",\"AL\",\"MG\",\"PA\",\"BA\",\"SE\",\"PE\",\"CE\",\"RN\",\"RJ\",\"MA\",\"AC\",\"DF\",\"PR\",\"AP\"],\"xaxis\":\"x\",\"y\":[8.2,27.5,42.7,19.9,25.9,18.9,32.5,24.2,8.3,37.8,18.9,8.0,16.3,41.1,17.1,27.9,35.3,38.6,30.2,36.9,34.8,6.3,45.5,36.5,11.5,15.9,27.4],\"yaxis\":\"y\",\"type\":\"bar\"}],                        {\"template\":{\"data\":{\"bar\":[{\"error_x\":{\"color\":\"#2a3f5f\"},\"error_y\":{\"color\":\"#2a3f5f\"},\"marker\":{\"line\":{\"color\":\"#E5ECF6\",\"width\":0.5},\"pattern\":{\"fillmode\":\"overlay\",\"size\":10,\"solidity\":0.2}},\"type\":\"bar\"}],\"barpolar\":[{\"marker\":{\"line\":{\"color\":\"#E5ECF6\",\"width\":0.5},\"pattern\":{\"fillmode\":\"overlay\",\"size\":10,\"solidity\":0.2}},\"type\":\"barpolar\"}],\"carpet\":[{\"aaxis\":{\"endlinecolor\":\"#2a3f5f\",\"gridcolor\":\"white\",\"linecolor\":\"white\",\"minorgridcolor\":\"white\",\"startlinecolor\":\"#2a3f5f\"},\"baxis\":{\"endlinecolor\":\"#2a3f5f\",\"gridcolor\":\"white\",\"linecolor\":\"white\",\"minorgridcolor\":\"white\",\"startlinecolor\":\"#2a3f5f\"},\"type\":\"carpet\"}],\"choropleth\":[{\"colorbar\":{\"outlinewidth\":0,\"ticks\":\"\"},\"type\":\"choropleth\"}],\"contour\":[{\"colorbar\":{\"outlinewidth\":0,\"ticks\":\"\"},\"colorscale\":[[0.0,\"#0d0887\"],[0.1111111111111111,\"#46039f\"],[0.2222222222222222,\"#7201a8\"],[0.3333333333333333,\"#9c179e\"],[0.4444444444444444,\"#bd3786\"],[0.5555555555555556,\"#d8576b\"],[0.6666666666666666,\"#ed7953\"],[0.7777777777777778,\"#fb9f3a\"],[0.8888888888888888,\"#fdca26\"],[1.0,\"#f0f921\"]],\"type\":\"contour\"}],\"contourcarpet\":[{\"colorbar\":{\"outlinewidth\":0,\"ticks\":\"\"},\"type\":\"contourcarpet\"}],\"heatmap\":[{\"colorbar\":{\"outlinewidth\":0,\"ticks\":\"\"},\"colorscale\":[[0.0,\"#0d0887\"],[0.1111111111111111,\"#46039f\"],[0.2222222222222222,\"#7201a8\"],[0.3333333333333333,\"#9c179e\"],[0.4444444444444444,\"#bd3786\"],[0.5555555555555556,\"#d8576b\"],[0.6666666666666666,\"#ed7953\"],[0.7777777777777778,\"#fb9f3a\"],[0.8888888888888888,\"#fdca26\"],[1.0,\"#f0f921\"]],\"type\":\"heatmap\"}],\"heatmapgl\":[{\"colorbar\":{\"outlinewidth\":0,\"ticks\":\"\"},\"colorscale\":[[0.0,\"#0d0887\"],[0.1111111111111111,\"#46039f\"],[0.2222222222222222,\"#7201a8\"],[0.3333333333333333,\"#9c179e\"],[0.4444444444444444,\"#bd3786\"],[0.5555555555555556,\"#d8576b\"],[0.6666666666666666,\"#ed7953\"],[0.7777777777777778,\"#fb9f3a\"],[0.8888888888888888,\"#fdca26\"],[1.0,\"#f0f921\"]],\"type\":\"heatmapgl\"}],\"histogram\":[{\"marker\":{\"pattern\":{\"fillmode\":\"overlay\",\"size\":10,\"solidity\":0.2}},\"type\":\"histogram\"}],\"histogram2d\":[{\"colorbar\":{\"outlinewidth\":0,\"ticks\":\"\"},\"colorscale\":[[0.0,\"#0d0887\"],[0.1111111111111111,\"#46039f\"],[0.2222222222222222,\"#7201a8\"],[0.3333333333333333,\"#9c179e\"],[0.4444444444444444,\"#bd3786\"],[0.5555555555555556,\"#d8576b\"],[0.6666666666666666,\"#ed7953\"],[0.7777777777777778,\"#fb9f3a\"],[0.8888888888888888,\"#fdca26\"],[1.0,\"#f0f921\"]],\"type\":\"histogram2d\"}],\"histogram2dcontour\":[{\"colorbar\":{\"outlinewidth\":0,\"ticks\":\"\"},\"colorscale\":[[0.0,\"#0d0887\"],[0.1111111111111111,\"#46039f\"],[0.2222222222222222,\"#7201a8\"],[0.3333333333333333,\"#9c179e\"],[0.4444444444444444,\"#bd3786\"],[0.5555555555555556,\"#d8576b\"],[0.6666666666666666,\"#ed7953\"],[0.7777777777777778,\"#fb9f3a\"],[0.8888888888888888,\"#fdca26\"],[1.0,\"#f0f921\"]],\"type\":\"histogram2dcontour\"}],\"mesh3d\":[{\"colorbar\":{\"outlinewidth\":0,\"ticks\":\"\"},\"type\":\"mesh3d\"}],\"parcoords\":[{\"line\":{\"colorbar\":{\"outlinewidth\":0,\"ticks\":\"\"}},\"type\":\"parcoords\"}],\"pie\":[{\"automargin\":true,\"type\":\"pie\"}],\"scatter\":[{\"marker\":{\"colorbar\":{\"outlinewidth\":0,\"ticks\":\"\"}},\"type\":\"scatter\"}],\"scatter3d\":[{\"line\":{\"colorbar\":{\"outlinewidth\":0,\"ticks\":\"\"}},\"marker\":{\"colorbar\":{\"outlinewidth\":0,\"ticks\":\"\"}},\"type\":\"scatter3d\"}],\"scattercarpet\":[{\"marker\":{\"colorbar\":{\"outlinewidth\":0,\"ticks\":\"\"}},\"type\":\"scattercarpet\"}],\"scattergeo\":[{\"marker\":{\"colorbar\":{\"outlinewidth\":0,\"ticks\":\"\"}},\"type\":\"scattergeo\"}],\"scattergl\":[{\"marker\":{\"colorbar\":{\"outlinewidth\":0,\"ticks\":\"\"}},\"type\":\"scattergl\"}],\"scattermapbox\":[{\"marker\":{\"colorbar\":{\"outlinewidth\":0,\"ticks\":\"\"}},\"type\":\"scattermapbox\"}],\"scatterpolar\":[{\"marker\":{\"colorbar\":{\"outlinewidth\":0,\"ticks\":\"\"}},\"type\":\"scatterpolar\"}],\"scatterpolargl\":[{\"marker\":{\"colorbar\":{\"outlinewidth\":0,\"ticks\":\"\"}},\"type\":\"scatterpolargl\"}],\"scatterternary\":[{\"marker\":{\"colorbar\":{\"outlinewidth\":0,\"ticks\":\"\"}},\"type\":\"scatterternary\"}],\"surface\":[{\"colorbar\":{\"outlinewidth\":0,\"ticks\":\"\"},\"colorscale\":[[0.0,\"#0d0887\"],[0.1111111111111111,\"#46039f\"],[0.2222222222222222,\"#7201a8\"],[0.3333333333333333,\"#9c179e\"],[0.4444444444444444,\"#bd3786\"],[0.5555555555555556,\"#d8576b\"],[0.6666666666666666,\"#ed7953\"],[0.7777777777777778,\"#fb9f3a\"],[0.8888888888888888,\"#fdca26\"],[1.0,\"#f0f921\"]],\"type\":\"surface\"}],\"table\":[{\"cells\":{\"fill\":{\"color\":\"#EBF0F8\"},\"line\":{\"color\":\"white\"}},\"header\":{\"fill\":{\"color\":\"#C8D4E3\"},\"line\":{\"color\":\"white\"}},\"type\":\"table\"}]},\"layout\":{\"annotationdefaults\":{\"arrowcolor\":\"#2a3f5f\",\"arrowhead\":0,\"arrowwidth\":1},\"autotypenumbers\":\"strict\",\"coloraxis\":{\"colorbar\":{\"outlinewidth\":0,\"ticks\":\"\"}},\"colorscale\":{\"diverging\":[[0,\"#8e0152\"],[0.1,\"#c51b7d\"],[0.2,\"#de77ae\"],[0.3,\"#f1b6da\"],[0.4,\"#fde0ef\"],[0.5,\"#f7f7f7\"],[0.6,\"#e6f5d0\"],[0.7,\"#b8e186\"],[0.8,\"#7fbc41\"],[0.9,\"#4d9221\"],[1,\"#276419\"]],\"sequential\":[[0.0,\"#0d0887\"],[0.1111111111111111,\"#46039f\"],[0.2222222222222222,\"#7201a8\"],[0.3333333333333333,\"#9c179e\"],[0.4444444444444444,\"#bd3786\"],[0.5555555555555556,\"#d8576b\"],[0.6666666666666666,\"#ed7953\"],[0.7777777777777778,\"#fb9f3a\"],[0.8888888888888888,\"#fdca26\"],[1.0,\"#f0f921\"]],\"sequentialminus\":[[0.0,\"#0d0887\"],[0.1111111111111111,\"#46039f\"],[0.2222222222222222,\"#7201a8\"],[0.3333333333333333,\"#9c179e\"],[0.4444444444444444,\"#bd3786\"],[0.5555555555555556,\"#d8576b\"],[0.6666666666666666,\"#ed7953\"],[0.7777777777777778,\"#fb9f3a\"],[0.8888888888888888,\"#fdca26\"],[1.0,\"#f0f921\"]]},\"colorway\":[\"#636efa\",\"#EF553B\",\"#00cc96\",\"#ab63fa\",\"#FFA15A\",\"#19d3f3\",\"#FF6692\",\"#B6E880\",\"#FF97FF\",\"#FECB52\"],\"font\":{\"color\":\"#2a3f5f\"},\"geo\":{\"bgcolor\":\"white\",\"lakecolor\":\"white\",\"landcolor\":\"#E5ECF6\",\"showlakes\":true,\"showland\":true,\"subunitcolor\":\"white\"},\"hoverlabel\":{\"align\":\"left\"},\"hovermode\":\"closest\",\"mapbox\":{\"style\":\"light\"},\"paper_bgcolor\":\"white\",\"plot_bgcolor\":\"#E5ECF6\",\"polar\":{\"angularaxis\":{\"gridcolor\":\"white\",\"linecolor\":\"white\",\"ticks\":\"\"},\"bgcolor\":\"#E5ECF6\",\"radialaxis\":{\"gridcolor\":\"white\",\"linecolor\":\"white\",\"ticks\":\"\"}},\"scene\":{\"xaxis\":{\"backgroundcolor\":\"#E5ECF6\",\"gridcolor\":\"white\",\"gridwidth\":2,\"linecolor\":\"white\",\"showbackground\":true,\"ticks\":\"\",\"zerolinecolor\":\"white\"},\"yaxis\":{\"backgroundcolor\":\"#E5ECF6\",\"gridcolor\":\"white\",\"gridwidth\":2,\"linecolor\":\"white\",\"showbackground\":true,\"ticks\":\"\",\"zerolinecolor\":\"white\"},\"zaxis\":{\"backgroundcolor\":\"#E5ECF6\",\"gridcolor\":\"white\",\"gridwidth\":2,\"linecolor\":\"white\",\"showbackground\":true,\"ticks\":\"\",\"zerolinecolor\":\"white\"}},\"shapedefaults\":{\"line\":{\"color\":\"#2a3f5f\"}},\"ternary\":{\"aaxis\":{\"gridcolor\":\"white\",\"linecolor\":\"white\",\"ticks\":\"\"},\"baxis\":{\"gridcolor\":\"white\",\"linecolor\":\"white\",\"ticks\":\"\"},\"bgcolor\":\"#E5ECF6\",\"caxis\":{\"gridcolor\":\"white\",\"linecolor\":\"white\",\"ticks\":\"\"}},\"title\":{\"x\":0.05},\"xaxis\":{\"automargin\":true,\"gridcolor\":\"white\",\"linecolor\":\"white\",\"ticks\":\"\",\"title\":{\"standoff\":15},\"zerolinecolor\":\"white\",\"zerolinewidth\":2},\"yaxis\":{\"automargin\":true,\"gridcolor\":\"white\",\"linecolor\":\"white\",\"ticks\":\"\",\"title\":{\"standoff\":15},\"zerolinecolor\":\"white\",\"zerolinewidth\":2}}},\"xaxis\":{\"anchor\":\"y\",\"domain\":[0.0,1.0],\"title\":{\"text\":\"estado\"}},\"yaxis\":{\"anchor\":\"x\",\"domain\":[0.0,1.0],\"title\":{\"text\":\"2018\"}},\"coloraxis\":{\"colorbar\":{\"title\":{\"text\":\"2018\"}},\"colorscale\":[[0.0,\"#0d0887\"],[0.1111111111111111,\"#46039f\"],[0.2222222222222222,\"#7201a8\"],[0.3333333333333333,\"#9c179e\"],[0.4444444444444444,\"#bd3786\"],[0.5555555555555556,\"#d8576b\"],[0.6666666666666666,\"#ed7953\"],[0.7777777777777778,\"#fb9f3a\"],[0.8888888888888888,\"#fdca26\"],[1.0,\"#f0f921\"]]},\"legend\":{\"tracegroupgap\":0},\"title\":{\"text\":\"Taxa de analfabetismo em 2018\"},\"barmode\":\"group\"},                        {\"responsive\": true}                    ).then(function(){\n",
              "                            \n",
              "var gd = document.getElementById('5876088f-b932-4fcf-aada-81270d0faaa7');\n",
              "var x = new MutationObserver(function (mutations, observer) {{\n",
              "        var display = window.getComputedStyle(gd).display;\n",
              "        if (!display || display === 'none') {{\n",
              "            console.log([gd, 'removed!']);\n",
              "            Plotly.purge(gd);\n",
              "            observer.disconnect();\n",
              "        }}\n",
              "}});\n",
              "\n",
              "// Listen for the removal of the full notebook cells\n",
              "var notebookContainer = gd.closest('#notebook-container');\n",
              "if (notebookContainer) {{\n",
              "    x.observe(notebookContainer, {childList: true});\n",
              "}}\n",
              "\n",
              "// Listen for the clearing of the current output cell\n",
              "var outputEl = gd.closest('.output');\n",
              "if (outputEl) {{\n",
              "    x.observe(outputEl, {childList: true});\n",
              "}}\n",
              "\n",
              "                        })                };                            </script>        </div>\n",
              "</body>\n",
              "</html>"
            ]
          },
          "metadata": {}
        }
      ],
      "source": [
        "to_plot_educacao = [v for v in list(graf_educacao.columns)]\n",
        "\n",
        "fig_graf_educacao_covid = px.bar(graf_educacao,\\\n",
        "                                 x=graf_educacao.estado,\\\n",
        "                                 y=to_plot_educacao,\\\n",
        "                                 barmode=\"stack\",\\\n",
        "                                 text_auto='.2s',\\\n",
        "                                 title=\"Casos novos de Covid e IDH\")\n",
        "             \n",
        "fig_graf_educacao_covid.show()\n",
        "\n",
        "\n",
        "graf_educacao_covid_cs = px.bar(graf_educacao,\\\n",
        "                                x='estado', \\\n",
        "                                y=\"total_casos_estados\",\\\n",
        "                                barmode=\"group\",\\\n",
        "                                color=\"total_casos_estados\",\\\n",
        "                                title=\"Casos novos de Covid\")\n",
        "graf_educacao_covid= px.bar(graf_educacao, \\\n",
        "                            x='estado',\\\n",
        "                            y=\"2018\",\\\n",
        "                            barmode=\"group\",\\\n",
        "                            color=\"2018\",\\\n",
        "                            title=\"Taxa de analfabetismo em 2018\")\n",
        "\n",
        "graf_educacao_covid_cs.show()\n",
        "graf_educacao_covid.show()"
      ]
    },
    {
      "cell_type": "markdown",
      "metadata": {
        "id": "UJP3uQX1jZ9I"
      },
      "source": [
        "#### Importação da tabela de IDHM no Brasil referente ao ano de 2017, devido não encontrar dados mais rescentes."
      ]
    },
    {
      "cell_type": "code",
      "execution_count": 66,
      "metadata": {
        "id": "-CvC7pNtkBTj",
        "colab": {
          "base_uri": "https://localhost:8080/"
        },
        "outputId": "ca78f518-a9e9-448e-f39a-10b39d744aed"
      },
      "outputs": [
        {
          "output_type": "stream",
          "name": "stdout",
          "text": [
            "+------------------+------------+-----+------------------+----------+---------------------+-------------+------------------------+----------------+\n",
            "|  Territorialidade|Posição_IDHM| IDHM|Posição_IDHM_Renda|IDHM_Renda|Posição_IDHM_Educação|IDHM_Educação|Posição_IDHM_Longevidade|IDHM_Longevidade|\n",
            "+------------------+------------+-----+------------------+----------+---------------------+-------------+------------------------+----------------+\n",
            "|         São Paulo|           2|0.826|                 5|     0.854|                    1|        0.828|                       2|           0.796|\n",
            "|  Distrito Federal|           1| 0.85|                 1|      0.89|                    2|        0.804|                       1|           0.859|\n",
            "|    Santa Catarina|           3|0.808|                 3|     0.866|                    3|        0.779|                       4|           0.783|\n",
            "|           Roraima|          11|0.752|                22|     0.781|                    4|        0.771|                      12|           0.706|\n",
            "|            Paraná|           5|0.792|                 9|     0.843|                    5|        0.764|                       5|           0.771|\n",
            "|    Rio de Janeiro|           4|0.796|                 4|     0.858|                    6|        0.763|                       6|           0.769|\n",
            "|       Mato Grosso|           7|0.774|                10|     0.825|                    7|        0.758|                       9|           0.742|\n",
            "|      Minas Gerais|           6|0.787|                 2|     0.875|                    8|        0.753|                      10|           0.741|\n",
            "|             Goiás|           9|0.769|                11|     0.822|                    9|         0.74|                       8|           0.747|\n",
            "|          Amazonas|          15|0.733|                20|     0.786|                   10|        0.735|                      18|           0.682|\n",
            "|    Espírito Santo|           8|0.772|                 6|      0.85|                   11|        0.732|                      11|            0.74|\n",
            "| Rio Grande do Sul|           6|0.787|                 7|     0.849|                   12|        0.729|                       3|           0.787|\n",
            "|         Tocantins|          12|0.743|                16|     0.811|                   13|        0.727|                      14|           0.696|\n",
            "|             Ceará|          14|0.735|                14|     0.818|                   14|        0.717|                      21|           0.676|\n",
            "|Mato Grosso do Sul|          10|0.766|                 8|     0.847|                   15|         0.71|                       7|           0.748|\n",
            "|             Amapá|          13| 0.74|                13|      0.82|                   15|         0.71|                      15|           0.695|\n",
            "|          Rondônia|          18|0.725|                23|     0.776|                   16|        0.703|                      13|           0.699|\n",
            "|        Pernambuco|          17|0.727|                12|     0.821|                   17|        0.685|                      18|           0.682|\n",
            "|          Maranhão|          25|0.687|                25|     0.764|                   18|        0.682|                      26|           0.623|\n",
            "|              Acre|          20|0.719|                12|     0.821|                   18|        0.682|                      22|           0.664|\n",
            "+------------------+------------+-----+------------------+----------+---------------------+-------------+------------------------+----------------+\n",
            "only showing top 20 rows\n",
            "\n"
          ]
        }
      ],
      "source": [
        "idh = spark.read.format('csv')\\\n",
        "                .options(header='true',\\\n",
        "                         inferschema='true')\\\n",
        "           .load(f'{caminho_local}/idh.csv',header=True)\n",
        "idh.show()"
      ]
    },
    {
      "cell_type": "markdown",
      "metadata": {
        "id": "Y7t5Brs7ZWMJ"
      },
      "source": [
        "#### Foram alterados os valores da coluna Territorialidade no dataframe IDHM, de nome do estado para a sigla do estado para futura comparação com os dados de Covid."
      ]
    },
    {
      "cell_type": "code",
      "execution_count": 67,
      "metadata": {
        "id": "aSXOH57kZVwT",
        "colab": {
          "base_uri": "https://localhost:8080/"
        },
        "outputId": "c3b2d673-1ce0-463c-c4a1-e33c6b85385b"
      },
      "outputs": [
        {
          "output_type": "stream",
          "name": "stdout",
          "text": [
            "+----------------+------------+-----+------------------+----------+---------------------+-------------+------------------------+----------------+\n",
            "|Territorialidade|Posição_IDHM| IDHM|Posição_IDHM_Renda|IDHM_Renda|Posição_IDHM_Educação|IDHM_Educação|Posição_IDHM_Longevidade|IDHM_Longevidade|\n",
            "+----------------+------------+-----+------------------+----------+---------------------+-------------+------------------------+----------------+\n",
            "|              SP|           2|0.826|                 5|     0.854|                    1|        0.828|                       2|           0.796|\n",
            "|              DF|           1| 0.85|                 1|      0.89|                    2|        0.804|                       1|           0.859|\n",
            "|              SC|           3|0.808|                 3|     0.866|                    3|        0.779|                       4|           0.783|\n",
            "|              RR|          11|0.752|                22|     0.781|                    4|        0.771|                      12|           0.706|\n",
            "|              PR|           5|0.792|                 9|     0.843|                    5|        0.764|                       5|           0.771|\n",
            "|              RJ|           4|0.796|                 4|     0.858|                    6|        0.763|                       6|           0.769|\n",
            "|              MT|           7|0.774|                10|     0.825|                    7|        0.758|                       9|           0.742|\n",
            "|              MG|           6|0.787|                 2|     0.875|                    8|        0.753|                      10|           0.741|\n",
            "|              GO|           9|0.769|                11|     0.822|                    9|         0.74|                       8|           0.747|\n",
            "|              AM|          15|0.733|                20|     0.786|                   10|        0.735|                      18|           0.682|\n",
            "|              ES|           8|0.772|                 6|      0.85|                   11|        0.732|                      11|            0.74|\n",
            "|              RS|           6|0.787|                 7|     0.849|                   12|        0.729|                       3|           0.787|\n",
            "|              TO|          12|0.743|                16|     0.811|                   13|        0.727|                      14|           0.696|\n",
            "|              CE|          14|0.735|                14|     0.818|                   14|        0.717|                      21|           0.676|\n",
            "|              MS|          10|0.766|                 8|     0.847|                   15|         0.71|                       7|           0.748|\n",
            "|              AP|          13| 0.74|                13|      0.82|                   15|         0.71|                      15|           0.695|\n",
            "|              RO|          18|0.725|                23|     0.776|                   16|        0.703|                      13|           0.699|\n",
            "|              PE|          17|0.727|                12|     0.821|                   17|        0.685|                      18|           0.682|\n",
            "|              MA|          25|0.687|                25|     0.764|                   18|        0.682|                      26|           0.623|\n",
            "|              AC|          20|0.719|                12|     0.821|                   18|        0.682|                      22|           0.664|\n",
            "|              RN|          16|0.731|                 7|     0.849|                   19|        0.677|                      19|            0.68|\n",
            "|              PB|          19|0.722|                17|     0.809|                   20|        0.671|                      16|           0.694|\n",
            "|              PI|          24|0.697|                24|     0.771|                   21|        0.666|                      23|            0.66|\n",
            "|              PA|          23|0.698|                19|     0.788|                   22|        0.661|                      24|           0.654|\n",
            "|              BA|          21|0.714|                15|     0.812|                   23|        0.654|                      17|           0.685|\n",
            "|              SE|          22|0.702|                18|     0.799|                   24|         0.64|                      20|           0.677|\n",
            "|              AL|          26|0.683|                21|     0.783|                   25|        0.636|                      25|           0.639|\n",
            "+----------------+------------+-----+------------------+----------+---------------------+-------------+------------------------+----------------+\n",
            "\n"
          ]
        }
      ],
      "source": [
        "idh = idh.withColumn('Territorialidade',\\\n",
        "                                   regexp_replace('Territorialidade', 'Rondônia', 'RO'))\\\n",
        "                       .withColumn('Territorialidade',\\\n",
        "                                   regexp_replace('Territorialidade', 'Acre', 'AC'))\\\n",
        "                       .withColumn('Territorialidade',\\\n",
        "                                   regexp_replace('Territorialidade', 'Amazonas', 'AM'))\\\n",
        "                       .withColumn('Territorialidade',\\\n",
        "                                   regexp_replace('Territorialidade', 'Roraima', 'RR'))\\\n",
        "                       .withColumn('Territorialidade',\\\n",
        "                                   regexp_replace('Territorialidade', 'Pará', 'PA'))\\\n",
        "                       .withColumn('Territorialidade',\\\n",
        "                                   regexp_replace('Territorialidade', 'Amapá', 'AP'))\\\n",
        "                       .withColumn('Territorialidade',\\\n",
        "                                   regexp_replace('Territorialidade', 'Tocantins', 'TO'))\\\n",
        "                       .withColumn('Territorialidade',\\\n",
        "                                   regexp_replace('Territorialidade', 'Maranhão', 'MA'))\\\n",
        "                       .withColumn('Territorialidade',\\\n",
        "                                   regexp_replace('Territorialidade', 'Piauí', 'PI'))\\\n",
        "                       .withColumn('Territorialidade',\\\n",
        "                                   regexp_replace('Territorialidade', 'Ceará', 'CE'))\\\n",
        "                       .withColumn('Territorialidade',\\\n",
        "                                   regexp_replace('Territorialidade', 'Rio Grande do Norte', 'RN'))\\\n",
        "                       .withColumn('Territorialidade',\\\n",
        "                                   regexp_replace('Territorialidade', 'Paraíba', 'PB'))\\\n",
        "                       .withColumn('Territorialidade',\\\n",
        "                                   regexp_replace('Territorialidade', 'Pernambuco', 'PE'))\\\n",
        "                       .withColumn('Territorialidade',\\\n",
        "                                   regexp_replace('Territorialidade', 'Alagoas', 'AL'))\\\n",
        "                       .withColumn('Territorialidade',\\\n",
        "                                   regexp_replace('Territorialidade', 'Sergipe', 'SE'))\\\n",
        "                       .withColumn('Territorialidade',\\\n",
        "                                   regexp_replace('Territorialidade', 'Bahia', 'BA'))\\\n",
        "                       .withColumn('Territorialidade',\\\n",
        "                                   regexp_replace('Territorialidade', 'Minas Gerais', 'MG'))\\\n",
        "                       .withColumn('Territorialidade',\\\n",
        "                                   regexp_replace('Territorialidade', 'Espírito Santo', 'ES'))\\\n",
        "                       .withColumn('Territorialidade',\\\n",
        "                                   regexp_replace('Territorialidade', 'Rio de Janeiro', 'RJ'))\\\n",
        "                       .withColumn('Territorialidade',\\\n",
        "                                   regexp_replace('Territorialidade', 'São Paulo', 'SP'))\\\n",
        "                       .withColumn('Territorialidade',\\\n",
        "                                   regexp_replace('Territorialidade', 'Paraná', 'PR'))\\\n",
        "                       .withColumn('Territorialidade',\\\n",
        "                                   regexp_replace('Territorialidade', 'Santa Catarina', 'SC'))\\\n",
        "                       .withColumn('Territorialidade',\\\n",
        "                                   regexp_replace('Territorialidade', 'Rio Grande do Sul', 'RS' ))\\\n",
        "                       .withColumn('Territorialidade',\\\n",
        "                                   regexp_replace('Territorialidade', 'Mato Grosso do Sul', 'MS'))\\\n",
        "                       .withColumn('Territorialidade',\\\n",
        "                                   regexp_replace('Territorialidade', 'Mato Grosso', 'MT'))\\\n",
        "                       .withColumn('Territorialidade',\\\n",
        "                                   regexp_replace('Territorialidade', 'Goiás', 'GO'))\\\n",
        "                       .withColumn('Territorialidade',\\\n",
        "                                   regexp_replace('Territorialidade', 'Distrito Federal', 'DF'))\\\n",
        "\n",
        "idh.show(27)"
      ]
    },
    {
      "cell_type": "markdown",
      "metadata": {
        "id": "-fYbNldYkw9F"
      },
      "source": [
        "#### Foi feita a separaçao do dataframe de acordo com o IDHM considerado para melhor visualização dos dados."
      ]
    },
    {
      "cell_type": "code",
      "execution_count": 68,
      "metadata": {
        "id": "KM2SYrqplSL5",
        "colab": {
          "base_uri": "https://localhost:8080/"
        },
        "outputId": "1a1ebbd2-2f65-4c62-bcff-57be7092e0ce"
      },
      "outputs": [
        {
          "output_type": "stream",
          "name": "stdout",
          "text": [
            "+----------------+------------+-----+\n",
            "|Territorialidade|Posição_IDHM| IDHM|\n",
            "+----------------+------------+-----+\n",
            "|              AL|          26|0.683|\n",
            "|              MA|          25|0.687|\n",
            "|              PI|          24|0.697|\n",
            "|              PA|          23|0.698|\n",
            "|              SE|          22|0.702|\n",
            "|              BA|          21|0.714|\n",
            "|              AC|          20|0.719|\n",
            "|              PB|          19|0.722|\n",
            "|              RO|          18|0.725|\n",
            "|              PE|          17|0.727|\n",
            "|              RN|          16|0.731|\n",
            "|              AM|          15|0.733|\n",
            "|              CE|          14|0.735|\n",
            "|              AP|          13| 0.74|\n",
            "|              TO|          12|0.743|\n",
            "|              RR|          11|0.752|\n",
            "|              MS|          10|0.766|\n",
            "|              GO|           9|0.769|\n",
            "|              ES|           8|0.772|\n",
            "|              MT|           7|0.774|\n",
            "|              MG|           6|0.787|\n",
            "|              RS|           6|0.787|\n",
            "|              PR|           5|0.792|\n",
            "|              RJ|           4|0.796|\n",
            "|              SC|           3|0.808|\n",
            "|              SP|           2|0.826|\n",
            "|              DF|           1| 0.85|\n",
            "+----------------+------------+-----+\n",
            "\n"
          ]
        }
      ],
      "source": [
        "idhm = idh.select(\"Territorialidade\", \"Posição_IDHM\", \"IDHM\")\\\n",
        "          .orderBy(col(\"IDHM\").asc())\n",
        "\n",
        "idhm.show(27)"
      ]
    },
    {
      "cell_type": "code",
      "execution_count": 69,
      "metadata": {
        "id": "4maoB6aamSl5",
        "colab": {
          "base_uri": "https://localhost:8080/"
        },
        "outputId": "f5a1cf2a-33b8-499a-817e-e48deb9028ce"
      },
      "outputs": [
        {
          "output_type": "stream",
          "name": "stdout",
          "text": [
            "+----------------+------------------+----------+\n",
            "|Territorialidade|Posição_IDHM_Renda|IDHM_Renda|\n",
            "+----------------+------------------+----------+\n",
            "|              MA|                25|     0.764|\n",
            "|              PI|                24|     0.771|\n",
            "|              RO|                23|     0.776|\n",
            "|              RR|                22|     0.781|\n",
            "|              AL|                21|     0.783|\n",
            "|              AM|                20|     0.786|\n",
            "|              PA|                19|     0.788|\n",
            "|              SE|                18|     0.799|\n",
            "|              PB|                17|     0.809|\n",
            "|              TO|                16|     0.811|\n",
            "|              BA|                15|     0.812|\n",
            "|              CE|                14|     0.818|\n",
            "|              AP|                13|      0.82|\n",
            "|              AC|                12|     0.821|\n",
            "|              PE|                12|     0.821|\n",
            "|              GO|                11|     0.822|\n",
            "|              MT|                10|     0.825|\n",
            "|              PR|                 9|     0.843|\n",
            "|              MS|                 8|     0.847|\n",
            "|              RS|                 7|     0.849|\n",
            "|              RN|                 7|     0.849|\n",
            "|              ES|                 6|      0.85|\n",
            "|              SP|                 5|     0.854|\n",
            "|              RJ|                 4|     0.858|\n",
            "|              SC|                 3|     0.866|\n",
            "|              MG|                 2|     0.875|\n",
            "|              DF|                 1|      0.89|\n",
            "+----------------+------------------+----------+\n",
            "\n"
          ]
        }
      ],
      "source": [
        "idhm_renda = idh.select(\"Territorialidade\", \"Posição_IDHM_Renda\", \"IDHM_Renda\")\\\n",
        "          .orderBy(col(\"IDHM_Renda\").asc())\n",
        "\n",
        "idhm_renda.show(27)"
      ]
    },
    {
      "cell_type": "code",
      "execution_count": 70,
      "metadata": {
        "id": "aEbQcPWpmSxI",
        "colab": {
          "base_uri": "https://localhost:8080/"
        },
        "outputId": "cf5d22cf-98d2-4d4e-e6e0-0eec8052b5eb"
      },
      "outputs": [
        {
          "output_type": "stream",
          "name": "stdout",
          "text": [
            "+----------------+---------------------+-------------+\n",
            "|Territorialidade|Posição_IDHM_Educação|IDHM_Educação|\n",
            "+----------------+---------------------+-------------+\n",
            "|              AL|                   25|        0.636|\n",
            "|              SE|                   24|         0.64|\n",
            "|              BA|                   23|        0.654|\n",
            "|              PA|                   22|        0.661|\n",
            "|              PI|                   21|        0.666|\n",
            "|              PB|                   20|        0.671|\n",
            "|              RN|                   19|        0.677|\n",
            "|              MA|                   18|        0.682|\n",
            "|              AC|                   18|        0.682|\n",
            "|              PE|                   17|        0.685|\n",
            "|              RO|                   16|        0.703|\n",
            "|              MS|                   15|         0.71|\n",
            "|              AP|                   15|         0.71|\n",
            "|              CE|                   14|        0.717|\n",
            "|              TO|                   13|        0.727|\n",
            "|              RS|                   12|        0.729|\n",
            "|              ES|                   11|        0.732|\n",
            "|              AM|                   10|        0.735|\n",
            "|              GO|                    9|         0.74|\n",
            "|              MG|                    8|        0.753|\n",
            "|              MT|                    7|        0.758|\n",
            "|              RJ|                    6|        0.763|\n",
            "|              PR|                    5|        0.764|\n",
            "|              RR|                    4|        0.771|\n",
            "|              SC|                    3|        0.779|\n",
            "|              DF|                    2|        0.804|\n",
            "|              SP|                    1|        0.828|\n",
            "+----------------+---------------------+-------------+\n",
            "\n"
          ]
        }
      ],
      "source": [
        "idhm_educacao = idh.select(\"Territorialidade\", \"Posição_IDHM_Educação\", \"IDHM_Educação\")\\\n",
        "          .orderBy(col(\"IDHM_Educação\").asc())\n",
        "\n",
        "idhm_educacao.show(27)"
      ]
    },
    {
      "cell_type": "code",
      "execution_count": 71,
      "metadata": {
        "id": "IS1EPJZFnZR4",
        "colab": {
          "base_uri": "https://localhost:8080/"
        },
        "outputId": "987a697c-f9ce-42c6-d4b9-b5b80bf3623a"
      },
      "outputs": [
        {
          "output_type": "stream",
          "name": "stdout",
          "text": [
            "+----------------+------------------------+----------------+\n",
            "|Territorialidade|Posição_IDHM_Longevidade|IDHM_Longevidade|\n",
            "+----------------+------------------------+----------------+\n",
            "|              MA|                      26|           0.623|\n",
            "|              AL|                      25|           0.639|\n",
            "|              PA|                      24|           0.654|\n",
            "|              PI|                      23|            0.66|\n",
            "|              AC|                      22|           0.664|\n",
            "|              CE|                      21|           0.676|\n",
            "|              SE|                      20|           0.677|\n",
            "|              RN|                      19|            0.68|\n",
            "|              AM|                      18|           0.682|\n",
            "|              PE|                      18|           0.682|\n",
            "|              BA|                      17|           0.685|\n",
            "|              PB|                      16|           0.694|\n",
            "|              AP|                      15|           0.695|\n",
            "|              TO|                      14|           0.696|\n",
            "|              RO|                      13|           0.699|\n",
            "|              RR|                      12|           0.706|\n",
            "|              ES|                      11|            0.74|\n",
            "|              MG|                      10|           0.741|\n",
            "|              MT|                       9|           0.742|\n",
            "|              GO|                       8|           0.747|\n",
            "|              MS|                       7|           0.748|\n",
            "|              RJ|                       6|           0.769|\n",
            "|              PR|                       5|           0.771|\n",
            "|              SC|                       4|           0.783|\n",
            "|              RS|                       3|           0.787|\n",
            "|              SP|                       2|           0.796|\n",
            "|              DF|                       1|           0.859|\n",
            "+----------------+------------------------+----------------+\n",
            "\n"
          ]
        }
      ],
      "source": [
        "idhm_longevidade = idh.select(\"Territorialidade\", \"Posição_IDHM_Longevidade\", \"IDHM_Longevidade\")\\\n",
        "          .orderBy(col(\"IDHM_Longevidade\").asc())\n",
        "\n",
        "idhm_longevidade.show(27)"
      ]
    },
    {
      "cell_type": "markdown",
      "metadata": {
        "id": "e2UmSZ-XgTP1"
      },
      "source": [
        "#### Demostração dos dados em gráfico."
      ]
    },
    {
      "cell_type": "code",
      "execution_count": 72,
      "metadata": {
        "id": "F92Q2p5xceHp"
      },
      "outputs": [],
      "source": [
        "graf_idh = estado_total_cs.join(idh, estado_total_cs.estado == idh.Territorialidade, \"inner\")\\\n",
        "                          .drop(\"Territorialidade\")\n",
        "graf_idh = graf_idh.toPandas()"
      ]
    },
    {
      "cell_type": "code",
      "execution_count": 73,
      "metadata": {
        "id": "UIW1aQ5vd3bw",
        "colab": {
          "base_uri": "https://localhost:8080/",
          "height": 1000
        },
        "outputId": "c34a77cc-682d-43f6-a2b9-3c769576630b"
      },
      "outputs": [
        {
          "output_type": "display_data",
          "data": {
            "text/html": [
              "<html>\n",
              "<head><meta charset=\"utf-8\" /></head>\n",
              "<body>\n",
              "    <div>            <script src=\"https://cdnjs.cloudflare.com/ajax/libs/mathjax/2.7.5/MathJax.js?config=TeX-AMS-MML_SVG\"></script><script type=\"text/javascript\">if (window.MathJax) {MathJax.Hub.Config({SVG: {font: \"STIX-Web\"}});}</script>                <script type=\"text/javascript\">window.PlotlyConfig = {MathJaxConfig: 'local'};</script>\n",
              "        <script src=\"https://cdn.plot.ly/plotly-2.8.3.min.js\"></script>                <div id=\"4c99a2c4-3f6a-46b7-8352-f762d12ea51f\" class=\"plotly-graph-div\" style=\"height:525px; width:100%;\"></div>            <script type=\"text/javascript\">                                    window.PLOTLYENV=window.PLOTLYENV || {};                                    if (document.getElementById(\"4c99a2c4-3f6a-46b7-8352-f762d12ea51f\")) {                    Plotly.newPlot(                        \"4c99a2c4-3f6a-46b7-8352-f762d12ea51f\",                        [{\"alignmentgroup\":\"True\",\"hovertemplate\":\"variable=total_casos_estados<br>estado=%{x}<br>value=%{y}<extra></extra>\",\"legendgroup\":\"total_casos_estados\",\"marker\":{\"color\":\"#636efa\",\"pattern\":{\"shape\":\"\"}},\"name\":\"total_casos_estados\",\"offsetgroup\":\"total_casos_estados\",\"orientation\":\"v\",\"showlegend\":true,\"textposition\":\"auto\",\"texttemplate\":\"%{y:.2s}\",\"x\":[\"SC\",\"RO\",\"PI\",\"AM\",\"RR\",\"GO\",\"TO\",\"MT\",\"SP\",\"PB\",\"ES\",\"RS\",\"MS\",\"AL\",\"MG\",\"PA\",\"BA\",\"SE\",\"PE\",\"CE\",\"RN\",\"RJ\",\"MA\",\"AC\",\"DF\",\"PR\",\"AP\"],\"xaxis\":\"x\",\"y\":[1934206.0,488322.0,442442.0,710181.0,210101.0,1713845.0,366096.0,870566.0,6497951.0,730522.0,1302535.0,2734324.0,594415.0,379049.0,3973929.0,974058.0,1859218.0,400336.0,1131222.0,1561859.0,598795.0,2628256.0,584904.0,166195.0,940689.0,2797579.0,213910.0],\"yaxis\":\"y\",\"type\":\"bar\"},{\"alignmentgroup\":\"True\",\"hovertemplate\":\"variable=Posi\\u00e7\\u00e3o_IDHM<br>estado=%{x}<br>value=%{y}<extra></extra>\",\"legendgroup\":\"Posi\\u00e7\\u00e3o_IDHM\",\"marker\":{\"color\":\"#EF553B\",\"pattern\":{\"shape\":\"\"}},\"name\":\"Posi\\u00e7\\u00e3o_IDHM\",\"offsetgroup\":\"Posi\\u00e7\\u00e3o_IDHM\",\"orientation\":\"v\",\"showlegend\":true,\"textposition\":\"auto\",\"texttemplate\":\"%{y:.2s}\",\"x\":[\"SC\",\"RO\",\"PI\",\"AM\",\"RR\",\"GO\",\"TO\",\"MT\",\"SP\",\"PB\",\"ES\",\"RS\",\"MS\",\"AL\",\"MG\",\"PA\",\"BA\",\"SE\",\"PE\",\"CE\",\"RN\",\"RJ\",\"MA\",\"AC\",\"DF\",\"PR\",\"AP\"],\"xaxis\":\"x\",\"y\":[3.0,18.0,24.0,15.0,11.0,9.0,12.0,7.0,2.0,19.0,8.0,6.0,10.0,26.0,6.0,23.0,21.0,22.0,17.0,14.0,16.0,4.0,25.0,20.0,1.0,5.0,13.0],\"yaxis\":\"y\",\"type\":\"bar\"},{\"alignmentgroup\":\"True\",\"hovertemplate\":\"variable=IDHM<br>estado=%{x}<br>value=%{y}<extra></extra>\",\"legendgroup\":\"IDHM\",\"marker\":{\"color\":\"#00cc96\",\"pattern\":{\"shape\":\"\"}},\"name\":\"IDHM\",\"offsetgroup\":\"IDHM\",\"orientation\":\"v\",\"showlegend\":true,\"textposition\":\"auto\",\"texttemplate\":\"%{y:.2s}\",\"x\":[\"SC\",\"RO\",\"PI\",\"AM\",\"RR\",\"GO\",\"TO\",\"MT\",\"SP\",\"PB\",\"ES\",\"RS\",\"MS\",\"AL\",\"MG\",\"PA\",\"BA\",\"SE\",\"PE\",\"CE\",\"RN\",\"RJ\",\"MA\",\"AC\",\"DF\",\"PR\",\"AP\"],\"xaxis\":\"x\",\"y\":[0.808,0.725,0.697,0.733,0.752,0.769,0.743,0.774,0.826,0.722,0.772,0.787,0.766,0.683,0.787,0.698,0.714,0.702,0.727,0.735,0.731,0.796,0.687,0.719,0.85,0.792,0.74],\"yaxis\":\"y\",\"type\":\"bar\"},{\"alignmentgroup\":\"True\",\"hovertemplate\":\"variable=Posi\\u00e7\\u00e3o_IDHM_Renda<br>estado=%{x}<br>value=%{y}<extra></extra>\",\"legendgroup\":\"Posi\\u00e7\\u00e3o_IDHM_Renda\",\"marker\":{\"color\":\"#ab63fa\",\"pattern\":{\"shape\":\"\"}},\"name\":\"Posi\\u00e7\\u00e3o_IDHM_Renda\",\"offsetgroup\":\"Posi\\u00e7\\u00e3o_IDHM_Renda\",\"orientation\":\"v\",\"showlegend\":true,\"textposition\":\"auto\",\"texttemplate\":\"%{y:.2s}\",\"x\":[\"SC\",\"RO\",\"PI\",\"AM\",\"RR\",\"GO\",\"TO\",\"MT\",\"SP\",\"PB\",\"ES\",\"RS\",\"MS\",\"AL\",\"MG\",\"PA\",\"BA\",\"SE\",\"PE\",\"CE\",\"RN\",\"RJ\",\"MA\",\"AC\",\"DF\",\"PR\",\"AP\"],\"xaxis\":\"x\",\"y\":[3.0,23.0,24.0,20.0,22.0,11.0,16.0,10.0,5.0,17.0,6.0,7.0,8.0,21.0,2.0,19.0,15.0,18.0,12.0,14.0,7.0,4.0,25.0,12.0,1.0,9.0,13.0],\"yaxis\":\"y\",\"type\":\"bar\"},{\"alignmentgroup\":\"True\",\"hovertemplate\":\"variable=IDHM_Renda<br>estado=%{x}<br>value=%{y}<extra></extra>\",\"legendgroup\":\"IDHM_Renda\",\"marker\":{\"color\":\"#FFA15A\",\"pattern\":{\"shape\":\"\"}},\"name\":\"IDHM_Renda\",\"offsetgroup\":\"IDHM_Renda\",\"orientation\":\"v\",\"showlegend\":true,\"textposition\":\"auto\",\"texttemplate\":\"%{y:.2s}\",\"x\":[\"SC\",\"RO\",\"PI\",\"AM\",\"RR\",\"GO\",\"TO\",\"MT\",\"SP\",\"PB\",\"ES\",\"RS\",\"MS\",\"AL\",\"MG\",\"PA\",\"BA\",\"SE\",\"PE\",\"CE\",\"RN\",\"RJ\",\"MA\",\"AC\",\"DF\",\"PR\",\"AP\"],\"xaxis\":\"x\",\"y\":[0.866,0.776,0.771,0.786,0.781,0.822,0.811,0.825,0.854,0.809,0.85,0.849,0.847,0.783,0.875,0.788,0.812,0.799,0.821,0.818,0.849,0.858,0.764,0.821,0.89,0.843,0.82],\"yaxis\":\"y\",\"type\":\"bar\"},{\"alignmentgroup\":\"True\",\"hovertemplate\":\"variable=Posi\\u00e7\\u00e3o_IDHM_Educa\\u00e7\\u00e3o<br>estado=%{x}<br>value=%{y}<extra></extra>\",\"legendgroup\":\"Posi\\u00e7\\u00e3o_IDHM_Educa\\u00e7\\u00e3o\",\"marker\":{\"color\":\"#19d3f3\",\"pattern\":{\"shape\":\"\"}},\"name\":\"Posi\\u00e7\\u00e3o_IDHM_Educa\\u00e7\\u00e3o\",\"offsetgroup\":\"Posi\\u00e7\\u00e3o_IDHM_Educa\\u00e7\\u00e3o\",\"orientation\":\"v\",\"showlegend\":true,\"textposition\":\"auto\",\"texttemplate\":\"%{y:.2s}\",\"x\":[\"SC\",\"RO\",\"PI\",\"AM\",\"RR\",\"GO\",\"TO\",\"MT\",\"SP\",\"PB\",\"ES\",\"RS\",\"MS\",\"AL\",\"MG\",\"PA\",\"BA\",\"SE\",\"PE\",\"CE\",\"RN\",\"RJ\",\"MA\",\"AC\",\"DF\",\"PR\",\"AP\"],\"xaxis\":\"x\",\"y\":[3.0,16.0,21.0,10.0,4.0,9.0,13.0,7.0,1.0,20.0,11.0,12.0,15.0,25.0,8.0,22.0,23.0,24.0,17.0,14.0,19.0,6.0,18.0,18.0,2.0,5.0,15.0],\"yaxis\":\"y\",\"type\":\"bar\"},{\"alignmentgroup\":\"True\",\"hovertemplate\":\"variable=IDHM_Educa\\u00e7\\u00e3o<br>estado=%{x}<br>value=%{y}<extra></extra>\",\"legendgroup\":\"IDHM_Educa\\u00e7\\u00e3o\",\"marker\":{\"color\":\"#FF6692\",\"pattern\":{\"shape\":\"\"}},\"name\":\"IDHM_Educa\\u00e7\\u00e3o\",\"offsetgroup\":\"IDHM_Educa\\u00e7\\u00e3o\",\"orientation\":\"v\",\"showlegend\":true,\"textposition\":\"auto\",\"texttemplate\":\"%{y:.2s}\",\"x\":[\"SC\",\"RO\",\"PI\",\"AM\",\"RR\",\"GO\",\"TO\",\"MT\",\"SP\",\"PB\",\"ES\",\"RS\",\"MS\",\"AL\",\"MG\",\"PA\",\"BA\",\"SE\",\"PE\",\"CE\",\"RN\",\"RJ\",\"MA\",\"AC\",\"DF\",\"PR\",\"AP\"],\"xaxis\":\"x\",\"y\":[0.779,0.703,0.666,0.735,0.771,0.74,0.727,0.758,0.828,0.671,0.732,0.729,0.71,0.636,0.753,0.661,0.654,0.64,0.685,0.717,0.677,0.763,0.682,0.682,0.804,0.764,0.71],\"yaxis\":\"y\",\"type\":\"bar\"},{\"alignmentgroup\":\"True\",\"hovertemplate\":\"variable=Posi\\u00e7\\u00e3o_IDHM_Longevidade<br>estado=%{x}<br>value=%{y}<extra></extra>\",\"legendgroup\":\"Posi\\u00e7\\u00e3o_IDHM_Longevidade\",\"marker\":{\"color\":\"#B6E880\",\"pattern\":{\"shape\":\"\"}},\"name\":\"Posi\\u00e7\\u00e3o_IDHM_Longevidade\",\"offsetgroup\":\"Posi\\u00e7\\u00e3o_IDHM_Longevidade\",\"orientation\":\"v\",\"showlegend\":true,\"textposition\":\"auto\",\"texttemplate\":\"%{y:.2s}\",\"x\":[\"SC\",\"RO\",\"PI\",\"AM\",\"RR\",\"GO\",\"TO\",\"MT\",\"SP\",\"PB\",\"ES\",\"RS\",\"MS\",\"AL\",\"MG\",\"PA\",\"BA\",\"SE\",\"PE\",\"CE\",\"RN\",\"RJ\",\"MA\",\"AC\",\"DF\",\"PR\",\"AP\"],\"xaxis\":\"x\",\"y\":[4.0,13.0,23.0,18.0,12.0,8.0,14.0,9.0,2.0,16.0,11.0,3.0,7.0,25.0,10.0,24.0,17.0,20.0,18.0,21.0,19.0,6.0,26.0,22.0,1.0,5.0,15.0],\"yaxis\":\"y\",\"type\":\"bar\"},{\"alignmentgroup\":\"True\",\"hovertemplate\":\"variable=IDHM_Longevidade<br>estado=%{x}<br>value=%{y}<extra></extra>\",\"legendgroup\":\"IDHM_Longevidade\",\"marker\":{\"color\":\"#FF97FF\",\"pattern\":{\"shape\":\"\"}},\"name\":\"IDHM_Longevidade\",\"offsetgroup\":\"IDHM_Longevidade\",\"orientation\":\"v\",\"showlegend\":true,\"textposition\":\"auto\",\"texttemplate\":\"%{y:.2s}\",\"x\":[\"SC\",\"RO\",\"PI\",\"AM\",\"RR\",\"GO\",\"TO\",\"MT\",\"SP\",\"PB\",\"ES\",\"RS\",\"MS\",\"AL\",\"MG\",\"PA\",\"BA\",\"SE\",\"PE\",\"CE\",\"RN\",\"RJ\",\"MA\",\"AC\",\"DF\",\"PR\",\"AP\"],\"xaxis\":\"x\",\"y\":[0.783,0.699,0.66,0.682,0.706,0.747,0.696,0.742,0.796,0.694,0.74,0.787,0.748,0.639,0.741,0.654,0.685,0.677,0.682,0.676,0.68,0.769,0.623,0.664,0.859,0.771,0.695],\"yaxis\":\"y\",\"type\":\"bar\"}],                        {\"template\":{\"data\":{\"bar\":[{\"error_x\":{\"color\":\"#2a3f5f\"},\"error_y\":{\"color\":\"#2a3f5f\"},\"marker\":{\"line\":{\"color\":\"#E5ECF6\",\"width\":0.5},\"pattern\":{\"fillmode\":\"overlay\",\"size\":10,\"solidity\":0.2}},\"type\":\"bar\"}],\"barpolar\":[{\"marker\":{\"line\":{\"color\":\"#E5ECF6\",\"width\":0.5},\"pattern\":{\"fillmode\":\"overlay\",\"size\":10,\"solidity\":0.2}},\"type\":\"barpolar\"}],\"carpet\":[{\"aaxis\":{\"endlinecolor\":\"#2a3f5f\",\"gridcolor\":\"white\",\"linecolor\":\"white\",\"minorgridcolor\":\"white\",\"startlinecolor\":\"#2a3f5f\"},\"baxis\":{\"endlinecolor\":\"#2a3f5f\",\"gridcolor\":\"white\",\"linecolor\":\"white\",\"minorgridcolor\":\"white\",\"startlinecolor\":\"#2a3f5f\"},\"type\":\"carpet\"}],\"choropleth\":[{\"colorbar\":{\"outlinewidth\":0,\"ticks\":\"\"},\"type\":\"choropleth\"}],\"contour\":[{\"colorbar\":{\"outlinewidth\":0,\"ticks\":\"\"},\"colorscale\":[[0.0,\"#0d0887\"],[0.1111111111111111,\"#46039f\"],[0.2222222222222222,\"#7201a8\"],[0.3333333333333333,\"#9c179e\"],[0.4444444444444444,\"#bd3786\"],[0.5555555555555556,\"#d8576b\"],[0.6666666666666666,\"#ed7953\"],[0.7777777777777778,\"#fb9f3a\"],[0.8888888888888888,\"#fdca26\"],[1.0,\"#f0f921\"]],\"type\":\"contour\"}],\"contourcarpet\":[{\"colorbar\":{\"outlinewidth\":0,\"ticks\":\"\"},\"type\":\"contourcarpet\"}],\"heatmap\":[{\"colorbar\":{\"outlinewidth\":0,\"ticks\":\"\"},\"colorscale\":[[0.0,\"#0d0887\"],[0.1111111111111111,\"#46039f\"],[0.2222222222222222,\"#7201a8\"],[0.3333333333333333,\"#9c179e\"],[0.4444444444444444,\"#bd3786\"],[0.5555555555555556,\"#d8576b\"],[0.6666666666666666,\"#ed7953\"],[0.7777777777777778,\"#fb9f3a\"],[0.8888888888888888,\"#fdca26\"],[1.0,\"#f0f921\"]],\"type\":\"heatmap\"}],\"heatmapgl\":[{\"colorbar\":{\"outlinewidth\":0,\"ticks\":\"\"},\"colorscale\":[[0.0,\"#0d0887\"],[0.1111111111111111,\"#46039f\"],[0.2222222222222222,\"#7201a8\"],[0.3333333333333333,\"#9c179e\"],[0.4444444444444444,\"#bd3786\"],[0.5555555555555556,\"#d8576b\"],[0.6666666666666666,\"#ed7953\"],[0.7777777777777778,\"#fb9f3a\"],[0.8888888888888888,\"#fdca26\"],[1.0,\"#f0f921\"]],\"type\":\"heatmapgl\"}],\"histogram\":[{\"marker\":{\"pattern\":{\"fillmode\":\"overlay\",\"size\":10,\"solidity\":0.2}},\"type\":\"histogram\"}],\"histogram2d\":[{\"colorbar\":{\"outlinewidth\":0,\"ticks\":\"\"},\"colorscale\":[[0.0,\"#0d0887\"],[0.1111111111111111,\"#46039f\"],[0.2222222222222222,\"#7201a8\"],[0.3333333333333333,\"#9c179e\"],[0.4444444444444444,\"#bd3786\"],[0.5555555555555556,\"#d8576b\"],[0.6666666666666666,\"#ed7953\"],[0.7777777777777778,\"#fb9f3a\"],[0.8888888888888888,\"#fdca26\"],[1.0,\"#f0f921\"]],\"type\":\"histogram2d\"}],\"histogram2dcontour\":[{\"colorbar\":{\"outlinewidth\":0,\"ticks\":\"\"},\"colorscale\":[[0.0,\"#0d0887\"],[0.1111111111111111,\"#46039f\"],[0.2222222222222222,\"#7201a8\"],[0.3333333333333333,\"#9c179e\"],[0.4444444444444444,\"#bd3786\"],[0.5555555555555556,\"#d8576b\"],[0.6666666666666666,\"#ed7953\"],[0.7777777777777778,\"#fb9f3a\"],[0.8888888888888888,\"#fdca26\"],[1.0,\"#f0f921\"]],\"type\":\"histogram2dcontour\"}],\"mesh3d\":[{\"colorbar\":{\"outlinewidth\":0,\"ticks\":\"\"},\"type\":\"mesh3d\"}],\"parcoords\":[{\"line\":{\"colorbar\":{\"outlinewidth\":0,\"ticks\":\"\"}},\"type\":\"parcoords\"}],\"pie\":[{\"automargin\":true,\"type\":\"pie\"}],\"scatter\":[{\"marker\":{\"colorbar\":{\"outlinewidth\":0,\"ticks\":\"\"}},\"type\":\"scatter\"}],\"scatter3d\":[{\"line\":{\"colorbar\":{\"outlinewidth\":0,\"ticks\":\"\"}},\"marker\":{\"colorbar\":{\"outlinewidth\":0,\"ticks\":\"\"}},\"type\":\"scatter3d\"}],\"scattercarpet\":[{\"marker\":{\"colorbar\":{\"outlinewidth\":0,\"ticks\":\"\"}},\"type\":\"scattercarpet\"}],\"scattergeo\":[{\"marker\":{\"colorbar\":{\"outlinewidth\":0,\"ticks\":\"\"}},\"type\":\"scattergeo\"}],\"scattergl\":[{\"marker\":{\"colorbar\":{\"outlinewidth\":0,\"ticks\":\"\"}},\"type\":\"scattergl\"}],\"scattermapbox\":[{\"marker\":{\"colorbar\":{\"outlinewidth\":0,\"ticks\":\"\"}},\"type\":\"scattermapbox\"}],\"scatterpolar\":[{\"marker\":{\"colorbar\":{\"outlinewidth\":0,\"ticks\":\"\"}},\"type\":\"scatterpolar\"}],\"scatterpolargl\":[{\"marker\":{\"colorbar\":{\"outlinewidth\":0,\"ticks\":\"\"}},\"type\":\"scatterpolargl\"}],\"scatterternary\":[{\"marker\":{\"colorbar\":{\"outlinewidth\":0,\"ticks\":\"\"}},\"type\":\"scatterternary\"}],\"surface\":[{\"colorbar\":{\"outlinewidth\":0,\"ticks\":\"\"},\"colorscale\":[[0.0,\"#0d0887\"],[0.1111111111111111,\"#46039f\"],[0.2222222222222222,\"#7201a8\"],[0.3333333333333333,\"#9c179e\"],[0.4444444444444444,\"#bd3786\"],[0.5555555555555556,\"#d8576b\"],[0.6666666666666666,\"#ed7953\"],[0.7777777777777778,\"#fb9f3a\"],[0.8888888888888888,\"#fdca26\"],[1.0,\"#f0f921\"]],\"type\":\"surface\"}],\"table\":[{\"cells\":{\"fill\":{\"color\":\"#EBF0F8\"},\"line\":{\"color\":\"white\"}},\"header\":{\"fill\":{\"color\":\"#C8D4E3\"},\"line\":{\"color\":\"white\"}},\"type\":\"table\"}]},\"layout\":{\"annotationdefaults\":{\"arrowcolor\":\"#2a3f5f\",\"arrowhead\":0,\"arrowwidth\":1},\"autotypenumbers\":\"strict\",\"coloraxis\":{\"colorbar\":{\"outlinewidth\":0,\"ticks\":\"\"}},\"colorscale\":{\"diverging\":[[0,\"#8e0152\"],[0.1,\"#c51b7d\"],[0.2,\"#de77ae\"],[0.3,\"#f1b6da\"],[0.4,\"#fde0ef\"],[0.5,\"#f7f7f7\"],[0.6,\"#e6f5d0\"],[0.7,\"#b8e186\"],[0.8,\"#7fbc41\"],[0.9,\"#4d9221\"],[1,\"#276419\"]],\"sequential\":[[0.0,\"#0d0887\"],[0.1111111111111111,\"#46039f\"],[0.2222222222222222,\"#7201a8\"],[0.3333333333333333,\"#9c179e\"],[0.4444444444444444,\"#bd3786\"],[0.5555555555555556,\"#d8576b\"],[0.6666666666666666,\"#ed7953\"],[0.7777777777777778,\"#fb9f3a\"],[0.8888888888888888,\"#fdca26\"],[1.0,\"#f0f921\"]],\"sequentialminus\":[[0.0,\"#0d0887\"],[0.1111111111111111,\"#46039f\"],[0.2222222222222222,\"#7201a8\"],[0.3333333333333333,\"#9c179e\"],[0.4444444444444444,\"#bd3786\"],[0.5555555555555556,\"#d8576b\"],[0.6666666666666666,\"#ed7953\"],[0.7777777777777778,\"#fb9f3a\"],[0.8888888888888888,\"#fdca26\"],[1.0,\"#f0f921\"]]},\"colorway\":[\"#636efa\",\"#EF553B\",\"#00cc96\",\"#ab63fa\",\"#FFA15A\",\"#19d3f3\",\"#FF6692\",\"#B6E880\",\"#FF97FF\",\"#FECB52\"],\"font\":{\"color\":\"#2a3f5f\"},\"geo\":{\"bgcolor\":\"white\",\"lakecolor\":\"white\",\"landcolor\":\"#E5ECF6\",\"showlakes\":true,\"showland\":true,\"subunitcolor\":\"white\"},\"hoverlabel\":{\"align\":\"left\"},\"hovermode\":\"closest\",\"mapbox\":{\"style\":\"light\"},\"paper_bgcolor\":\"white\",\"plot_bgcolor\":\"#E5ECF6\",\"polar\":{\"angularaxis\":{\"gridcolor\":\"white\",\"linecolor\":\"white\",\"ticks\":\"\"},\"bgcolor\":\"#E5ECF6\",\"radialaxis\":{\"gridcolor\":\"white\",\"linecolor\":\"white\",\"ticks\":\"\"}},\"scene\":{\"xaxis\":{\"backgroundcolor\":\"#E5ECF6\",\"gridcolor\":\"white\",\"gridwidth\":2,\"linecolor\":\"white\",\"showbackground\":true,\"ticks\":\"\",\"zerolinecolor\":\"white\"},\"yaxis\":{\"backgroundcolor\":\"#E5ECF6\",\"gridcolor\":\"white\",\"gridwidth\":2,\"linecolor\":\"white\",\"showbackground\":true,\"ticks\":\"\",\"zerolinecolor\":\"white\"},\"zaxis\":{\"backgroundcolor\":\"#E5ECF6\",\"gridcolor\":\"white\",\"gridwidth\":2,\"linecolor\":\"white\",\"showbackground\":true,\"ticks\":\"\",\"zerolinecolor\":\"white\"}},\"shapedefaults\":{\"line\":{\"color\":\"#2a3f5f\"}},\"ternary\":{\"aaxis\":{\"gridcolor\":\"white\",\"linecolor\":\"white\",\"ticks\":\"\"},\"baxis\":{\"gridcolor\":\"white\",\"linecolor\":\"white\",\"ticks\":\"\"},\"bgcolor\":\"#E5ECF6\",\"caxis\":{\"gridcolor\":\"white\",\"linecolor\":\"white\",\"ticks\":\"\"}},\"title\":{\"x\":0.05},\"xaxis\":{\"automargin\":true,\"gridcolor\":\"white\",\"linecolor\":\"white\",\"ticks\":\"\",\"title\":{\"standoff\":15},\"zerolinecolor\":\"white\",\"zerolinewidth\":2},\"yaxis\":{\"automargin\":true,\"gridcolor\":\"white\",\"linecolor\":\"white\",\"ticks\":\"\",\"title\":{\"standoff\":15},\"zerolinecolor\":\"white\",\"zerolinewidth\":2}}},\"xaxis\":{\"anchor\":\"y\",\"domain\":[0.0,1.0],\"title\":{\"text\":\"estado\"}},\"yaxis\":{\"anchor\":\"x\",\"domain\":[0.0,1.0],\"title\":{\"text\":\"value\"}},\"legend\":{\"title\":{\"text\":\"variable\"},\"tracegroupgap\":0},\"title\":{\"text\":\"Casos novos de Covid e IDH\"},\"barmode\":\"stack\"},                        {\"responsive\": true}                    ).then(function(){\n",
              "                            \n",
              "var gd = document.getElementById('4c99a2c4-3f6a-46b7-8352-f762d12ea51f');\n",
              "var x = new MutationObserver(function (mutations, observer) {{\n",
              "        var display = window.getComputedStyle(gd).display;\n",
              "        if (!display || display === 'none') {{\n",
              "            console.log([gd, 'removed!']);\n",
              "            Plotly.purge(gd);\n",
              "            observer.disconnect();\n",
              "        }}\n",
              "}});\n",
              "\n",
              "// Listen for the removal of the full notebook cells\n",
              "var notebookContainer = gd.closest('#notebook-container');\n",
              "if (notebookContainer) {{\n",
              "    x.observe(notebookContainer, {childList: true});\n",
              "}}\n",
              "\n",
              "// Listen for the clearing of the current output cell\n",
              "var outputEl = gd.closest('.output');\n",
              "if (outputEl) {{\n",
              "    x.observe(outputEl, {childList: true});\n",
              "}}\n",
              "\n",
              "                        })                };                            </script>        </div>\n",
              "</body>\n",
              "</html>"
            ]
          },
          "metadata": {}
        },
        {
          "output_type": "display_data",
          "data": {
            "text/html": [
              "<html>\n",
              "<head><meta charset=\"utf-8\" /></head>\n",
              "<body>\n",
              "    <div>            <script src=\"https://cdnjs.cloudflare.com/ajax/libs/mathjax/2.7.5/MathJax.js?config=TeX-AMS-MML_SVG\"></script><script type=\"text/javascript\">if (window.MathJax) {MathJax.Hub.Config({SVG: {font: \"STIX-Web\"}});}</script>                <script type=\"text/javascript\">window.PlotlyConfig = {MathJaxConfig: 'local'};</script>\n",
              "        <script src=\"https://cdn.plot.ly/plotly-2.8.3.min.js\"></script>                <div id=\"ca9cb886-7569-4af2-88d4-05d8792b1175\" class=\"plotly-graph-div\" style=\"height:525px; width:100%;\"></div>            <script type=\"text/javascript\">                                    window.PLOTLYENV=window.PLOTLYENV || {};                                    if (document.getElementById(\"ca9cb886-7569-4af2-88d4-05d8792b1175\")) {                    Plotly.newPlot(                        \"ca9cb886-7569-4af2-88d4-05d8792b1175\",                        [{\"alignmentgroup\":\"True\",\"hovertemplate\":\"estado=%{x}<br>total_casos_estados=%{marker.color}<extra></extra>\",\"legendgroup\":\"\",\"marker\":{\"color\":[1934206,488322,442442,710181,210101,1713845,366096,870566,6497951,730522,1302535,2734324,594415,379049,3973929,974058,1859218,400336,1131222,1561859,598795,2628256,584904,166195,940689,2797579,213910],\"coloraxis\":\"coloraxis\",\"pattern\":{\"shape\":\"\"}},\"name\":\"\",\"offsetgroup\":\"\",\"orientation\":\"v\",\"showlegend\":false,\"textposition\":\"auto\",\"x\":[\"SC\",\"RO\",\"PI\",\"AM\",\"RR\",\"GO\",\"TO\",\"MT\",\"SP\",\"PB\",\"ES\",\"RS\",\"MS\",\"AL\",\"MG\",\"PA\",\"BA\",\"SE\",\"PE\",\"CE\",\"RN\",\"RJ\",\"MA\",\"AC\",\"DF\",\"PR\",\"AP\"],\"xaxis\":\"x\",\"y\":[1934206,488322,442442,710181,210101,1713845,366096,870566,6497951,730522,1302535,2734324,594415,379049,3973929,974058,1859218,400336,1131222,1561859,598795,2628256,584904,166195,940689,2797579,213910],\"yaxis\":\"y\",\"type\":\"bar\"}],                        {\"template\":{\"data\":{\"bar\":[{\"error_x\":{\"color\":\"#2a3f5f\"},\"error_y\":{\"color\":\"#2a3f5f\"},\"marker\":{\"line\":{\"color\":\"#E5ECF6\",\"width\":0.5},\"pattern\":{\"fillmode\":\"overlay\",\"size\":10,\"solidity\":0.2}},\"type\":\"bar\"}],\"barpolar\":[{\"marker\":{\"line\":{\"color\":\"#E5ECF6\",\"width\":0.5},\"pattern\":{\"fillmode\":\"overlay\",\"size\":10,\"solidity\":0.2}},\"type\":\"barpolar\"}],\"carpet\":[{\"aaxis\":{\"endlinecolor\":\"#2a3f5f\",\"gridcolor\":\"white\",\"linecolor\":\"white\",\"minorgridcolor\":\"white\",\"startlinecolor\":\"#2a3f5f\"},\"baxis\":{\"endlinecolor\":\"#2a3f5f\",\"gridcolor\":\"white\",\"linecolor\":\"white\",\"minorgridcolor\":\"white\",\"startlinecolor\":\"#2a3f5f\"},\"type\":\"carpet\"}],\"choropleth\":[{\"colorbar\":{\"outlinewidth\":0,\"ticks\":\"\"},\"type\":\"choropleth\"}],\"contour\":[{\"colorbar\":{\"outlinewidth\":0,\"ticks\":\"\"},\"colorscale\":[[0.0,\"#0d0887\"],[0.1111111111111111,\"#46039f\"],[0.2222222222222222,\"#7201a8\"],[0.3333333333333333,\"#9c179e\"],[0.4444444444444444,\"#bd3786\"],[0.5555555555555556,\"#d8576b\"],[0.6666666666666666,\"#ed7953\"],[0.7777777777777778,\"#fb9f3a\"],[0.8888888888888888,\"#fdca26\"],[1.0,\"#f0f921\"]],\"type\":\"contour\"}],\"contourcarpet\":[{\"colorbar\":{\"outlinewidth\":0,\"ticks\":\"\"},\"type\":\"contourcarpet\"}],\"heatmap\":[{\"colorbar\":{\"outlinewidth\":0,\"ticks\":\"\"},\"colorscale\":[[0.0,\"#0d0887\"],[0.1111111111111111,\"#46039f\"],[0.2222222222222222,\"#7201a8\"],[0.3333333333333333,\"#9c179e\"],[0.4444444444444444,\"#bd3786\"],[0.5555555555555556,\"#d8576b\"],[0.6666666666666666,\"#ed7953\"],[0.7777777777777778,\"#fb9f3a\"],[0.8888888888888888,\"#fdca26\"],[1.0,\"#f0f921\"]],\"type\":\"heatmap\"}],\"heatmapgl\":[{\"colorbar\":{\"outlinewidth\":0,\"ticks\":\"\"},\"colorscale\":[[0.0,\"#0d0887\"],[0.1111111111111111,\"#46039f\"],[0.2222222222222222,\"#7201a8\"],[0.3333333333333333,\"#9c179e\"],[0.4444444444444444,\"#bd3786\"],[0.5555555555555556,\"#d8576b\"],[0.6666666666666666,\"#ed7953\"],[0.7777777777777778,\"#fb9f3a\"],[0.8888888888888888,\"#fdca26\"],[1.0,\"#f0f921\"]],\"type\":\"heatmapgl\"}],\"histogram\":[{\"marker\":{\"pattern\":{\"fillmode\":\"overlay\",\"size\":10,\"solidity\":0.2}},\"type\":\"histogram\"}],\"histogram2d\":[{\"colorbar\":{\"outlinewidth\":0,\"ticks\":\"\"},\"colorscale\":[[0.0,\"#0d0887\"],[0.1111111111111111,\"#46039f\"],[0.2222222222222222,\"#7201a8\"],[0.3333333333333333,\"#9c179e\"],[0.4444444444444444,\"#bd3786\"],[0.5555555555555556,\"#d8576b\"],[0.6666666666666666,\"#ed7953\"],[0.7777777777777778,\"#fb9f3a\"],[0.8888888888888888,\"#fdca26\"],[1.0,\"#f0f921\"]],\"type\":\"histogram2d\"}],\"histogram2dcontour\":[{\"colorbar\":{\"outlinewidth\":0,\"ticks\":\"\"},\"colorscale\":[[0.0,\"#0d0887\"],[0.1111111111111111,\"#46039f\"],[0.2222222222222222,\"#7201a8\"],[0.3333333333333333,\"#9c179e\"],[0.4444444444444444,\"#bd3786\"],[0.5555555555555556,\"#d8576b\"],[0.6666666666666666,\"#ed7953\"],[0.7777777777777778,\"#fb9f3a\"],[0.8888888888888888,\"#fdca26\"],[1.0,\"#f0f921\"]],\"type\":\"histogram2dcontour\"}],\"mesh3d\":[{\"colorbar\":{\"outlinewidth\":0,\"ticks\":\"\"},\"type\":\"mesh3d\"}],\"parcoords\":[{\"line\":{\"colorbar\":{\"outlinewidth\":0,\"ticks\":\"\"}},\"type\":\"parcoords\"}],\"pie\":[{\"automargin\":true,\"type\":\"pie\"}],\"scatter\":[{\"marker\":{\"colorbar\":{\"outlinewidth\":0,\"ticks\":\"\"}},\"type\":\"scatter\"}],\"scatter3d\":[{\"line\":{\"colorbar\":{\"outlinewidth\":0,\"ticks\":\"\"}},\"marker\":{\"colorbar\":{\"outlinewidth\":0,\"ticks\":\"\"}},\"type\":\"scatter3d\"}],\"scattercarpet\":[{\"marker\":{\"colorbar\":{\"outlinewidth\":0,\"ticks\":\"\"}},\"type\":\"scattercarpet\"}],\"scattergeo\":[{\"marker\":{\"colorbar\":{\"outlinewidth\":0,\"ticks\":\"\"}},\"type\":\"scattergeo\"}],\"scattergl\":[{\"marker\":{\"colorbar\":{\"outlinewidth\":0,\"ticks\":\"\"}},\"type\":\"scattergl\"}],\"scattermapbox\":[{\"marker\":{\"colorbar\":{\"outlinewidth\":0,\"ticks\":\"\"}},\"type\":\"scattermapbox\"}],\"scatterpolar\":[{\"marker\":{\"colorbar\":{\"outlinewidth\":0,\"ticks\":\"\"}},\"type\":\"scatterpolar\"}],\"scatterpolargl\":[{\"marker\":{\"colorbar\":{\"outlinewidth\":0,\"ticks\":\"\"}},\"type\":\"scatterpolargl\"}],\"scatterternary\":[{\"marker\":{\"colorbar\":{\"outlinewidth\":0,\"ticks\":\"\"}},\"type\":\"scatterternary\"}],\"surface\":[{\"colorbar\":{\"outlinewidth\":0,\"ticks\":\"\"},\"colorscale\":[[0.0,\"#0d0887\"],[0.1111111111111111,\"#46039f\"],[0.2222222222222222,\"#7201a8\"],[0.3333333333333333,\"#9c179e\"],[0.4444444444444444,\"#bd3786\"],[0.5555555555555556,\"#d8576b\"],[0.6666666666666666,\"#ed7953\"],[0.7777777777777778,\"#fb9f3a\"],[0.8888888888888888,\"#fdca26\"],[1.0,\"#f0f921\"]],\"type\":\"surface\"}],\"table\":[{\"cells\":{\"fill\":{\"color\":\"#EBF0F8\"},\"line\":{\"color\":\"white\"}},\"header\":{\"fill\":{\"color\":\"#C8D4E3\"},\"line\":{\"color\":\"white\"}},\"type\":\"table\"}]},\"layout\":{\"annotationdefaults\":{\"arrowcolor\":\"#2a3f5f\",\"arrowhead\":0,\"arrowwidth\":1},\"autotypenumbers\":\"strict\",\"coloraxis\":{\"colorbar\":{\"outlinewidth\":0,\"ticks\":\"\"}},\"colorscale\":{\"diverging\":[[0,\"#8e0152\"],[0.1,\"#c51b7d\"],[0.2,\"#de77ae\"],[0.3,\"#f1b6da\"],[0.4,\"#fde0ef\"],[0.5,\"#f7f7f7\"],[0.6,\"#e6f5d0\"],[0.7,\"#b8e186\"],[0.8,\"#7fbc41\"],[0.9,\"#4d9221\"],[1,\"#276419\"]],\"sequential\":[[0.0,\"#0d0887\"],[0.1111111111111111,\"#46039f\"],[0.2222222222222222,\"#7201a8\"],[0.3333333333333333,\"#9c179e\"],[0.4444444444444444,\"#bd3786\"],[0.5555555555555556,\"#d8576b\"],[0.6666666666666666,\"#ed7953\"],[0.7777777777777778,\"#fb9f3a\"],[0.8888888888888888,\"#fdca26\"],[1.0,\"#f0f921\"]],\"sequentialminus\":[[0.0,\"#0d0887\"],[0.1111111111111111,\"#46039f\"],[0.2222222222222222,\"#7201a8\"],[0.3333333333333333,\"#9c179e\"],[0.4444444444444444,\"#bd3786\"],[0.5555555555555556,\"#d8576b\"],[0.6666666666666666,\"#ed7953\"],[0.7777777777777778,\"#fb9f3a\"],[0.8888888888888888,\"#fdca26\"],[1.0,\"#f0f921\"]]},\"colorway\":[\"#636efa\",\"#EF553B\",\"#00cc96\",\"#ab63fa\",\"#FFA15A\",\"#19d3f3\",\"#FF6692\",\"#B6E880\",\"#FF97FF\",\"#FECB52\"],\"font\":{\"color\":\"#2a3f5f\"},\"geo\":{\"bgcolor\":\"white\",\"lakecolor\":\"white\",\"landcolor\":\"#E5ECF6\",\"showlakes\":true,\"showland\":true,\"subunitcolor\":\"white\"},\"hoverlabel\":{\"align\":\"left\"},\"hovermode\":\"closest\",\"mapbox\":{\"style\":\"light\"},\"paper_bgcolor\":\"white\",\"plot_bgcolor\":\"#E5ECF6\",\"polar\":{\"angularaxis\":{\"gridcolor\":\"white\",\"linecolor\":\"white\",\"ticks\":\"\"},\"bgcolor\":\"#E5ECF6\",\"radialaxis\":{\"gridcolor\":\"white\",\"linecolor\":\"white\",\"ticks\":\"\"}},\"scene\":{\"xaxis\":{\"backgroundcolor\":\"#E5ECF6\",\"gridcolor\":\"white\",\"gridwidth\":2,\"linecolor\":\"white\",\"showbackground\":true,\"ticks\":\"\",\"zerolinecolor\":\"white\"},\"yaxis\":{\"backgroundcolor\":\"#E5ECF6\",\"gridcolor\":\"white\",\"gridwidth\":2,\"linecolor\":\"white\",\"showbackground\":true,\"ticks\":\"\",\"zerolinecolor\":\"white\"},\"zaxis\":{\"backgroundcolor\":\"#E5ECF6\",\"gridcolor\":\"white\",\"gridwidth\":2,\"linecolor\":\"white\",\"showbackground\":true,\"ticks\":\"\",\"zerolinecolor\":\"white\"}},\"shapedefaults\":{\"line\":{\"color\":\"#2a3f5f\"}},\"ternary\":{\"aaxis\":{\"gridcolor\":\"white\",\"linecolor\":\"white\",\"ticks\":\"\"},\"baxis\":{\"gridcolor\":\"white\",\"linecolor\":\"white\",\"ticks\":\"\"},\"bgcolor\":\"#E5ECF6\",\"caxis\":{\"gridcolor\":\"white\",\"linecolor\":\"white\",\"ticks\":\"\"}},\"title\":{\"x\":0.05},\"xaxis\":{\"automargin\":true,\"gridcolor\":\"white\",\"linecolor\":\"white\",\"ticks\":\"\",\"title\":{\"standoff\":15},\"zerolinecolor\":\"white\",\"zerolinewidth\":2},\"yaxis\":{\"automargin\":true,\"gridcolor\":\"white\",\"linecolor\":\"white\",\"ticks\":\"\",\"title\":{\"standoff\":15},\"zerolinecolor\":\"white\",\"zerolinewidth\":2}}},\"xaxis\":{\"anchor\":\"y\",\"domain\":[0.0,1.0],\"title\":{\"text\":\"estado\"}},\"yaxis\":{\"anchor\":\"x\",\"domain\":[0.0,1.0],\"title\":{\"text\":\"total_casos_estados\"}},\"coloraxis\":{\"colorbar\":{\"title\":{\"text\":\"total_casos_estados\"}},\"colorscale\":[[0.0,\"#0d0887\"],[0.1111111111111111,\"#46039f\"],[0.2222222222222222,\"#7201a8\"],[0.3333333333333333,\"#9c179e\"],[0.4444444444444444,\"#bd3786\"],[0.5555555555555556,\"#d8576b\"],[0.6666666666666666,\"#ed7953\"],[0.7777777777777778,\"#fb9f3a\"],[0.8888888888888888,\"#fdca26\"],[1.0,\"#f0f921\"]]},\"legend\":{\"tracegroupgap\":0},\"title\":{\"text\":\"Casos novos de  Covid\"},\"barmode\":\"group\"},                        {\"responsive\": true}                    ).then(function(){\n",
              "                            \n",
              "var gd = document.getElementById('ca9cb886-7569-4af2-88d4-05d8792b1175');\n",
              "var x = new MutationObserver(function (mutations, observer) {{\n",
              "        var display = window.getComputedStyle(gd).display;\n",
              "        if (!display || display === 'none') {{\n",
              "            console.log([gd, 'removed!']);\n",
              "            Plotly.purge(gd);\n",
              "            observer.disconnect();\n",
              "        }}\n",
              "}});\n",
              "\n",
              "// Listen for the removal of the full notebook cells\n",
              "var notebookContainer = gd.closest('#notebook-container');\n",
              "if (notebookContainer) {{\n",
              "    x.observe(notebookContainer, {childList: true});\n",
              "}}\n",
              "\n",
              "// Listen for the clearing of the current output cell\n",
              "var outputEl = gd.closest('.output');\n",
              "if (outputEl) {{\n",
              "    x.observe(outputEl, {childList: true});\n",
              "}}\n",
              "\n",
              "                        })                };                            </script>        </div>\n",
              "</body>\n",
              "</html>"
            ]
          },
          "metadata": {}
        },
        {
          "output_type": "display_data",
          "data": {
            "text/html": [
              "<html>\n",
              "<head><meta charset=\"utf-8\" /></head>\n",
              "<body>\n",
              "    <div>            <script src=\"https://cdnjs.cloudflare.com/ajax/libs/mathjax/2.7.5/MathJax.js?config=TeX-AMS-MML_SVG\"></script><script type=\"text/javascript\">if (window.MathJax) {MathJax.Hub.Config({SVG: {font: \"STIX-Web\"}});}</script>                <script type=\"text/javascript\">window.PlotlyConfig = {MathJaxConfig: 'local'};</script>\n",
              "        <script src=\"https://cdn.plot.ly/plotly-2.8.3.min.js\"></script>                <div id=\"50b353d4-ac91-409b-806a-30d59d081cf4\" class=\"plotly-graph-div\" style=\"height:525px; width:100%;\"></div>            <script type=\"text/javascript\">                                    window.PLOTLYENV=window.PLOTLYENV || {};                                    if (document.getElementById(\"50b353d4-ac91-409b-806a-30d59d081cf4\")) {                    Plotly.newPlot(                        \"50b353d4-ac91-409b-806a-30d59d081cf4\",                        [{\"alignmentgroup\":\"True\",\"hovertemplate\":\"estado=%{x}<br>IDHM=%{marker.color}<extra></extra>\",\"legendgroup\":\"\",\"marker\":{\"color\":[0.808,0.725,0.697,0.733,0.752,0.769,0.743,0.774,0.826,0.722,0.772,0.787,0.766,0.683,0.787,0.698,0.714,0.702,0.727,0.735,0.731,0.796,0.687,0.719,0.85,0.792,0.74],\"coloraxis\":\"coloraxis\",\"pattern\":{\"shape\":\"\"}},\"name\":\"\",\"offsetgroup\":\"\",\"orientation\":\"v\",\"showlegend\":false,\"textposition\":\"auto\",\"x\":[\"SC\",\"RO\",\"PI\",\"AM\",\"RR\",\"GO\",\"TO\",\"MT\",\"SP\",\"PB\",\"ES\",\"RS\",\"MS\",\"AL\",\"MG\",\"PA\",\"BA\",\"SE\",\"PE\",\"CE\",\"RN\",\"RJ\",\"MA\",\"AC\",\"DF\",\"PR\",\"AP\"],\"xaxis\":\"x\",\"y\":[0.808,0.725,0.697,0.733,0.752,0.769,0.743,0.774,0.826,0.722,0.772,0.787,0.766,0.683,0.787,0.698,0.714,0.702,0.727,0.735,0.731,0.796,0.687,0.719,0.85,0.792,0.74],\"yaxis\":\"y\",\"type\":\"bar\"}],                        {\"template\":{\"data\":{\"bar\":[{\"error_x\":{\"color\":\"#2a3f5f\"},\"error_y\":{\"color\":\"#2a3f5f\"},\"marker\":{\"line\":{\"color\":\"#E5ECF6\",\"width\":0.5},\"pattern\":{\"fillmode\":\"overlay\",\"size\":10,\"solidity\":0.2}},\"type\":\"bar\"}],\"barpolar\":[{\"marker\":{\"line\":{\"color\":\"#E5ECF6\",\"width\":0.5},\"pattern\":{\"fillmode\":\"overlay\",\"size\":10,\"solidity\":0.2}},\"type\":\"barpolar\"}],\"carpet\":[{\"aaxis\":{\"endlinecolor\":\"#2a3f5f\",\"gridcolor\":\"white\",\"linecolor\":\"white\",\"minorgridcolor\":\"white\",\"startlinecolor\":\"#2a3f5f\"},\"baxis\":{\"endlinecolor\":\"#2a3f5f\",\"gridcolor\":\"white\",\"linecolor\":\"white\",\"minorgridcolor\":\"white\",\"startlinecolor\":\"#2a3f5f\"},\"type\":\"carpet\"}],\"choropleth\":[{\"colorbar\":{\"outlinewidth\":0,\"ticks\":\"\"},\"type\":\"choropleth\"}],\"contour\":[{\"colorbar\":{\"outlinewidth\":0,\"ticks\":\"\"},\"colorscale\":[[0.0,\"#0d0887\"],[0.1111111111111111,\"#46039f\"],[0.2222222222222222,\"#7201a8\"],[0.3333333333333333,\"#9c179e\"],[0.4444444444444444,\"#bd3786\"],[0.5555555555555556,\"#d8576b\"],[0.6666666666666666,\"#ed7953\"],[0.7777777777777778,\"#fb9f3a\"],[0.8888888888888888,\"#fdca26\"],[1.0,\"#f0f921\"]],\"type\":\"contour\"}],\"contourcarpet\":[{\"colorbar\":{\"outlinewidth\":0,\"ticks\":\"\"},\"type\":\"contourcarpet\"}],\"heatmap\":[{\"colorbar\":{\"outlinewidth\":0,\"ticks\":\"\"},\"colorscale\":[[0.0,\"#0d0887\"],[0.1111111111111111,\"#46039f\"],[0.2222222222222222,\"#7201a8\"],[0.3333333333333333,\"#9c179e\"],[0.4444444444444444,\"#bd3786\"],[0.5555555555555556,\"#d8576b\"],[0.6666666666666666,\"#ed7953\"],[0.7777777777777778,\"#fb9f3a\"],[0.8888888888888888,\"#fdca26\"],[1.0,\"#f0f921\"]],\"type\":\"heatmap\"}],\"heatmapgl\":[{\"colorbar\":{\"outlinewidth\":0,\"ticks\":\"\"},\"colorscale\":[[0.0,\"#0d0887\"],[0.1111111111111111,\"#46039f\"],[0.2222222222222222,\"#7201a8\"],[0.3333333333333333,\"#9c179e\"],[0.4444444444444444,\"#bd3786\"],[0.5555555555555556,\"#d8576b\"],[0.6666666666666666,\"#ed7953\"],[0.7777777777777778,\"#fb9f3a\"],[0.8888888888888888,\"#fdca26\"],[1.0,\"#f0f921\"]],\"type\":\"heatmapgl\"}],\"histogram\":[{\"marker\":{\"pattern\":{\"fillmode\":\"overlay\",\"size\":10,\"solidity\":0.2}},\"type\":\"histogram\"}],\"histogram2d\":[{\"colorbar\":{\"outlinewidth\":0,\"ticks\":\"\"},\"colorscale\":[[0.0,\"#0d0887\"],[0.1111111111111111,\"#46039f\"],[0.2222222222222222,\"#7201a8\"],[0.3333333333333333,\"#9c179e\"],[0.4444444444444444,\"#bd3786\"],[0.5555555555555556,\"#d8576b\"],[0.6666666666666666,\"#ed7953\"],[0.7777777777777778,\"#fb9f3a\"],[0.8888888888888888,\"#fdca26\"],[1.0,\"#f0f921\"]],\"type\":\"histogram2d\"}],\"histogram2dcontour\":[{\"colorbar\":{\"outlinewidth\":0,\"ticks\":\"\"},\"colorscale\":[[0.0,\"#0d0887\"],[0.1111111111111111,\"#46039f\"],[0.2222222222222222,\"#7201a8\"],[0.3333333333333333,\"#9c179e\"],[0.4444444444444444,\"#bd3786\"],[0.5555555555555556,\"#d8576b\"],[0.6666666666666666,\"#ed7953\"],[0.7777777777777778,\"#fb9f3a\"],[0.8888888888888888,\"#fdca26\"],[1.0,\"#f0f921\"]],\"type\":\"histogram2dcontour\"}],\"mesh3d\":[{\"colorbar\":{\"outlinewidth\":0,\"ticks\":\"\"},\"type\":\"mesh3d\"}],\"parcoords\":[{\"line\":{\"colorbar\":{\"outlinewidth\":0,\"ticks\":\"\"}},\"type\":\"parcoords\"}],\"pie\":[{\"automargin\":true,\"type\":\"pie\"}],\"scatter\":[{\"marker\":{\"colorbar\":{\"outlinewidth\":0,\"ticks\":\"\"}},\"type\":\"scatter\"}],\"scatter3d\":[{\"line\":{\"colorbar\":{\"outlinewidth\":0,\"ticks\":\"\"}},\"marker\":{\"colorbar\":{\"outlinewidth\":0,\"ticks\":\"\"}},\"type\":\"scatter3d\"}],\"scattercarpet\":[{\"marker\":{\"colorbar\":{\"outlinewidth\":0,\"ticks\":\"\"}},\"type\":\"scattercarpet\"}],\"scattergeo\":[{\"marker\":{\"colorbar\":{\"outlinewidth\":0,\"ticks\":\"\"}},\"type\":\"scattergeo\"}],\"scattergl\":[{\"marker\":{\"colorbar\":{\"outlinewidth\":0,\"ticks\":\"\"}},\"type\":\"scattergl\"}],\"scattermapbox\":[{\"marker\":{\"colorbar\":{\"outlinewidth\":0,\"ticks\":\"\"}},\"type\":\"scattermapbox\"}],\"scatterpolar\":[{\"marker\":{\"colorbar\":{\"outlinewidth\":0,\"ticks\":\"\"}},\"type\":\"scatterpolar\"}],\"scatterpolargl\":[{\"marker\":{\"colorbar\":{\"outlinewidth\":0,\"ticks\":\"\"}},\"type\":\"scatterpolargl\"}],\"scatterternary\":[{\"marker\":{\"colorbar\":{\"outlinewidth\":0,\"ticks\":\"\"}},\"type\":\"scatterternary\"}],\"surface\":[{\"colorbar\":{\"outlinewidth\":0,\"ticks\":\"\"},\"colorscale\":[[0.0,\"#0d0887\"],[0.1111111111111111,\"#46039f\"],[0.2222222222222222,\"#7201a8\"],[0.3333333333333333,\"#9c179e\"],[0.4444444444444444,\"#bd3786\"],[0.5555555555555556,\"#d8576b\"],[0.6666666666666666,\"#ed7953\"],[0.7777777777777778,\"#fb9f3a\"],[0.8888888888888888,\"#fdca26\"],[1.0,\"#f0f921\"]],\"type\":\"surface\"}],\"table\":[{\"cells\":{\"fill\":{\"color\":\"#EBF0F8\"},\"line\":{\"color\":\"white\"}},\"header\":{\"fill\":{\"color\":\"#C8D4E3\"},\"line\":{\"color\":\"white\"}},\"type\":\"table\"}]},\"layout\":{\"annotationdefaults\":{\"arrowcolor\":\"#2a3f5f\",\"arrowhead\":0,\"arrowwidth\":1},\"autotypenumbers\":\"strict\",\"coloraxis\":{\"colorbar\":{\"outlinewidth\":0,\"ticks\":\"\"}},\"colorscale\":{\"diverging\":[[0,\"#8e0152\"],[0.1,\"#c51b7d\"],[0.2,\"#de77ae\"],[0.3,\"#f1b6da\"],[0.4,\"#fde0ef\"],[0.5,\"#f7f7f7\"],[0.6,\"#e6f5d0\"],[0.7,\"#b8e186\"],[0.8,\"#7fbc41\"],[0.9,\"#4d9221\"],[1,\"#276419\"]],\"sequential\":[[0.0,\"#0d0887\"],[0.1111111111111111,\"#46039f\"],[0.2222222222222222,\"#7201a8\"],[0.3333333333333333,\"#9c179e\"],[0.4444444444444444,\"#bd3786\"],[0.5555555555555556,\"#d8576b\"],[0.6666666666666666,\"#ed7953\"],[0.7777777777777778,\"#fb9f3a\"],[0.8888888888888888,\"#fdca26\"],[1.0,\"#f0f921\"]],\"sequentialminus\":[[0.0,\"#0d0887\"],[0.1111111111111111,\"#46039f\"],[0.2222222222222222,\"#7201a8\"],[0.3333333333333333,\"#9c179e\"],[0.4444444444444444,\"#bd3786\"],[0.5555555555555556,\"#d8576b\"],[0.6666666666666666,\"#ed7953\"],[0.7777777777777778,\"#fb9f3a\"],[0.8888888888888888,\"#fdca26\"],[1.0,\"#f0f921\"]]},\"colorway\":[\"#636efa\",\"#EF553B\",\"#00cc96\",\"#ab63fa\",\"#FFA15A\",\"#19d3f3\",\"#FF6692\",\"#B6E880\",\"#FF97FF\",\"#FECB52\"],\"font\":{\"color\":\"#2a3f5f\"},\"geo\":{\"bgcolor\":\"white\",\"lakecolor\":\"white\",\"landcolor\":\"#E5ECF6\",\"showlakes\":true,\"showland\":true,\"subunitcolor\":\"white\"},\"hoverlabel\":{\"align\":\"left\"},\"hovermode\":\"closest\",\"mapbox\":{\"style\":\"light\"},\"paper_bgcolor\":\"white\",\"plot_bgcolor\":\"#E5ECF6\",\"polar\":{\"angularaxis\":{\"gridcolor\":\"white\",\"linecolor\":\"white\",\"ticks\":\"\"},\"bgcolor\":\"#E5ECF6\",\"radialaxis\":{\"gridcolor\":\"white\",\"linecolor\":\"white\",\"ticks\":\"\"}},\"scene\":{\"xaxis\":{\"backgroundcolor\":\"#E5ECF6\",\"gridcolor\":\"white\",\"gridwidth\":2,\"linecolor\":\"white\",\"showbackground\":true,\"ticks\":\"\",\"zerolinecolor\":\"white\"},\"yaxis\":{\"backgroundcolor\":\"#E5ECF6\",\"gridcolor\":\"white\",\"gridwidth\":2,\"linecolor\":\"white\",\"showbackground\":true,\"ticks\":\"\",\"zerolinecolor\":\"white\"},\"zaxis\":{\"backgroundcolor\":\"#E5ECF6\",\"gridcolor\":\"white\",\"gridwidth\":2,\"linecolor\":\"white\",\"showbackground\":true,\"ticks\":\"\",\"zerolinecolor\":\"white\"}},\"shapedefaults\":{\"line\":{\"color\":\"#2a3f5f\"}},\"ternary\":{\"aaxis\":{\"gridcolor\":\"white\",\"linecolor\":\"white\",\"ticks\":\"\"},\"baxis\":{\"gridcolor\":\"white\",\"linecolor\":\"white\",\"ticks\":\"\"},\"bgcolor\":\"#E5ECF6\",\"caxis\":{\"gridcolor\":\"white\",\"linecolor\":\"white\",\"ticks\":\"\"}},\"title\":{\"x\":0.05},\"xaxis\":{\"automargin\":true,\"gridcolor\":\"white\",\"linecolor\":\"white\",\"ticks\":\"\",\"title\":{\"standoff\":15},\"zerolinecolor\":\"white\",\"zerolinewidth\":2},\"yaxis\":{\"automargin\":true,\"gridcolor\":\"white\",\"linecolor\":\"white\",\"ticks\":\"\",\"title\":{\"standoff\":15},\"zerolinecolor\":\"white\",\"zerolinewidth\":2}}},\"xaxis\":{\"anchor\":\"y\",\"domain\":[0.0,1.0],\"title\":{\"text\":\"estado\"}},\"yaxis\":{\"anchor\":\"x\",\"domain\":[0.0,1.0],\"title\":{\"text\":\"IDHM\"}},\"coloraxis\":{\"colorbar\":{\"title\":{\"text\":\"IDHM\"}},\"colorscale\":[[0.0,\"#0d0887\"],[0.1111111111111111,\"#46039f\"],[0.2222222222222222,\"#7201a8\"],[0.3333333333333333,\"#9c179e\"],[0.4444444444444444,\"#bd3786\"],[0.5555555555555556,\"#d8576b\"],[0.6666666666666666,\"#ed7953\"],[0.7777777777777778,\"#fb9f3a\"],[0.8888888888888888,\"#fdca26\"],[1.0,\"#f0f921\"]]},\"legend\":{\"tracegroupgap\":0},\"title\":{\"text\":\"IDHM\"},\"barmode\":\"group\"},                        {\"responsive\": true}                    ).then(function(){\n",
              "                            \n",
              "var gd = document.getElementById('50b353d4-ac91-409b-806a-30d59d081cf4');\n",
              "var x = new MutationObserver(function (mutations, observer) {{\n",
              "        var display = window.getComputedStyle(gd).display;\n",
              "        if (!display || display === 'none') {{\n",
              "            console.log([gd, 'removed!']);\n",
              "            Plotly.purge(gd);\n",
              "            observer.disconnect();\n",
              "        }}\n",
              "}});\n",
              "\n",
              "// Listen for the removal of the full notebook cells\n",
              "var notebookContainer = gd.closest('#notebook-container');\n",
              "if (notebookContainer) {{\n",
              "    x.observe(notebookContainer, {childList: true});\n",
              "}}\n",
              "\n",
              "// Listen for the clearing of the current output cell\n",
              "var outputEl = gd.closest('.output');\n",
              "if (outputEl) {{\n",
              "    x.observe(outputEl, {childList: true});\n",
              "}}\n",
              "\n",
              "                        })                };                            </script>        </div>\n",
              "</body>\n",
              "</html>"
            ]
          },
          "metadata": {}
        },
        {
          "output_type": "display_data",
          "data": {
            "text/html": [
              "<html>\n",
              "<head><meta charset=\"utf-8\" /></head>\n",
              "<body>\n",
              "    <div>            <script src=\"https://cdnjs.cloudflare.com/ajax/libs/mathjax/2.7.5/MathJax.js?config=TeX-AMS-MML_SVG\"></script><script type=\"text/javascript\">if (window.MathJax) {MathJax.Hub.Config({SVG: {font: \"STIX-Web\"}});}</script>                <script type=\"text/javascript\">window.PlotlyConfig = {MathJaxConfig: 'local'};</script>\n",
              "        <script src=\"https://cdn.plot.ly/plotly-2.8.3.min.js\"></script>                <div id=\"85ed2243-d646-4208-aabb-bc67164e13a1\" class=\"plotly-graph-div\" style=\"height:525px; width:100%;\"></div>            <script type=\"text/javascript\">                                    window.PLOTLYENV=window.PLOTLYENV || {};                                    if (document.getElementById(\"85ed2243-d646-4208-aabb-bc67164e13a1\")) {                    Plotly.newPlot(                        \"85ed2243-d646-4208-aabb-bc67164e13a1\",                        [{\"alignmentgroup\":\"True\",\"hovertemplate\":\"estado=%{x}<br>IDHM_Renda=%{marker.color}<extra></extra>\",\"legendgroup\":\"\",\"marker\":{\"color\":[0.866,0.776,0.771,0.786,0.781,0.822,0.811,0.825,0.854,0.809,0.85,0.849,0.847,0.783,0.875,0.788,0.812,0.799,0.821,0.818,0.849,0.858,0.764,0.821,0.89,0.843,0.82],\"coloraxis\":\"coloraxis\",\"pattern\":{\"shape\":\"\"}},\"name\":\"\",\"offsetgroup\":\"\",\"orientation\":\"v\",\"showlegend\":false,\"textposition\":\"auto\",\"x\":[\"SC\",\"RO\",\"PI\",\"AM\",\"RR\",\"GO\",\"TO\",\"MT\",\"SP\",\"PB\",\"ES\",\"RS\",\"MS\",\"AL\",\"MG\",\"PA\",\"BA\",\"SE\",\"PE\",\"CE\",\"RN\",\"RJ\",\"MA\",\"AC\",\"DF\",\"PR\",\"AP\"],\"xaxis\":\"x\",\"y\":[0.866,0.776,0.771,0.786,0.781,0.822,0.811,0.825,0.854,0.809,0.85,0.849,0.847,0.783,0.875,0.788,0.812,0.799,0.821,0.818,0.849,0.858,0.764,0.821,0.89,0.843,0.82],\"yaxis\":\"y\",\"type\":\"bar\"}],                        {\"template\":{\"data\":{\"bar\":[{\"error_x\":{\"color\":\"#2a3f5f\"},\"error_y\":{\"color\":\"#2a3f5f\"},\"marker\":{\"line\":{\"color\":\"#E5ECF6\",\"width\":0.5},\"pattern\":{\"fillmode\":\"overlay\",\"size\":10,\"solidity\":0.2}},\"type\":\"bar\"}],\"barpolar\":[{\"marker\":{\"line\":{\"color\":\"#E5ECF6\",\"width\":0.5},\"pattern\":{\"fillmode\":\"overlay\",\"size\":10,\"solidity\":0.2}},\"type\":\"barpolar\"}],\"carpet\":[{\"aaxis\":{\"endlinecolor\":\"#2a3f5f\",\"gridcolor\":\"white\",\"linecolor\":\"white\",\"minorgridcolor\":\"white\",\"startlinecolor\":\"#2a3f5f\"},\"baxis\":{\"endlinecolor\":\"#2a3f5f\",\"gridcolor\":\"white\",\"linecolor\":\"white\",\"minorgridcolor\":\"white\",\"startlinecolor\":\"#2a3f5f\"},\"type\":\"carpet\"}],\"choropleth\":[{\"colorbar\":{\"outlinewidth\":0,\"ticks\":\"\"},\"type\":\"choropleth\"}],\"contour\":[{\"colorbar\":{\"outlinewidth\":0,\"ticks\":\"\"},\"colorscale\":[[0.0,\"#0d0887\"],[0.1111111111111111,\"#46039f\"],[0.2222222222222222,\"#7201a8\"],[0.3333333333333333,\"#9c179e\"],[0.4444444444444444,\"#bd3786\"],[0.5555555555555556,\"#d8576b\"],[0.6666666666666666,\"#ed7953\"],[0.7777777777777778,\"#fb9f3a\"],[0.8888888888888888,\"#fdca26\"],[1.0,\"#f0f921\"]],\"type\":\"contour\"}],\"contourcarpet\":[{\"colorbar\":{\"outlinewidth\":0,\"ticks\":\"\"},\"type\":\"contourcarpet\"}],\"heatmap\":[{\"colorbar\":{\"outlinewidth\":0,\"ticks\":\"\"},\"colorscale\":[[0.0,\"#0d0887\"],[0.1111111111111111,\"#46039f\"],[0.2222222222222222,\"#7201a8\"],[0.3333333333333333,\"#9c179e\"],[0.4444444444444444,\"#bd3786\"],[0.5555555555555556,\"#d8576b\"],[0.6666666666666666,\"#ed7953\"],[0.7777777777777778,\"#fb9f3a\"],[0.8888888888888888,\"#fdca26\"],[1.0,\"#f0f921\"]],\"type\":\"heatmap\"}],\"heatmapgl\":[{\"colorbar\":{\"outlinewidth\":0,\"ticks\":\"\"},\"colorscale\":[[0.0,\"#0d0887\"],[0.1111111111111111,\"#46039f\"],[0.2222222222222222,\"#7201a8\"],[0.3333333333333333,\"#9c179e\"],[0.4444444444444444,\"#bd3786\"],[0.5555555555555556,\"#d8576b\"],[0.6666666666666666,\"#ed7953\"],[0.7777777777777778,\"#fb9f3a\"],[0.8888888888888888,\"#fdca26\"],[1.0,\"#f0f921\"]],\"type\":\"heatmapgl\"}],\"histogram\":[{\"marker\":{\"pattern\":{\"fillmode\":\"overlay\",\"size\":10,\"solidity\":0.2}},\"type\":\"histogram\"}],\"histogram2d\":[{\"colorbar\":{\"outlinewidth\":0,\"ticks\":\"\"},\"colorscale\":[[0.0,\"#0d0887\"],[0.1111111111111111,\"#46039f\"],[0.2222222222222222,\"#7201a8\"],[0.3333333333333333,\"#9c179e\"],[0.4444444444444444,\"#bd3786\"],[0.5555555555555556,\"#d8576b\"],[0.6666666666666666,\"#ed7953\"],[0.7777777777777778,\"#fb9f3a\"],[0.8888888888888888,\"#fdca26\"],[1.0,\"#f0f921\"]],\"type\":\"histogram2d\"}],\"histogram2dcontour\":[{\"colorbar\":{\"outlinewidth\":0,\"ticks\":\"\"},\"colorscale\":[[0.0,\"#0d0887\"],[0.1111111111111111,\"#46039f\"],[0.2222222222222222,\"#7201a8\"],[0.3333333333333333,\"#9c179e\"],[0.4444444444444444,\"#bd3786\"],[0.5555555555555556,\"#d8576b\"],[0.6666666666666666,\"#ed7953\"],[0.7777777777777778,\"#fb9f3a\"],[0.8888888888888888,\"#fdca26\"],[1.0,\"#f0f921\"]],\"type\":\"histogram2dcontour\"}],\"mesh3d\":[{\"colorbar\":{\"outlinewidth\":0,\"ticks\":\"\"},\"type\":\"mesh3d\"}],\"parcoords\":[{\"line\":{\"colorbar\":{\"outlinewidth\":0,\"ticks\":\"\"}},\"type\":\"parcoords\"}],\"pie\":[{\"automargin\":true,\"type\":\"pie\"}],\"scatter\":[{\"marker\":{\"colorbar\":{\"outlinewidth\":0,\"ticks\":\"\"}},\"type\":\"scatter\"}],\"scatter3d\":[{\"line\":{\"colorbar\":{\"outlinewidth\":0,\"ticks\":\"\"}},\"marker\":{\"colorbar\":{\"outlinewidth\":0,\"ticks\":\"\"}},\"type\":\"scatter3d\"}],\"scattercarpet\":[{\"marker\":{\"colorbar\":{\"outlinewidth\":0,\"ticks\":\"\"}},\"type\":\"scattercarpet\"}],\"scattergeo\":[{\"marker\":{\"colorbar\":{\"outlinewidth\":0,\"ticks\":\"\"}},\"type\":\"scattergeo\"}],\"scattergl\":[{\"marker\":{\"colorbar\":{\"outlinewidth\":0,\"ticks\":\"\"}},\"type\":\"scattergl\"}],\"scattermapbox\":[{\"marker\":{\"colorbar\":{\"outlinewidth\":0,\"ticks\":\"\"}},\"type\":\"scattermapbox\"}],\"scatterpolar\":[{\"marker\":{\"colorbar\":{\"outlinewidth\":0,\"ticks\":\"\"}},\"type\":\"scatterpolar\"}],\"scatterpolargl\":[{\"marker\":{\"colorbar\":{\"outlinewidth\":0,\"ticks\":\"\"}},\"type\":\"scatterpolargl\"}],\"scatterternary\":[{\"marker\":{\"colorbar\":{\"outlinewidth\":0,\"ticks\":\"\"}},\"type\":\"scatterternary\"}],\"surface\":[{\"colorbar\":{\"outlinewidth\":0,\"ticks\":\"\"},\"colorscale\":[[0.0,\"#0d0887\"],[0.1111111111111111,\"#46039f\"],[0.2222222222222222,\"#7201a8\"],[0.3333333333333333,\"#9c179e\"],[0.4444444444444444,\"#bd3786\"],[0.5555555555555556,\"#d8576b\"],[0.6666666666666666,\"#ed7953\"],[0.7777777777777778,\"#fb9f3a\"],[0.8888888888888888,\"#fdca26\"],[1.0,\"#f0f921\"]],\"type\":\"surface\"}],\"table\":[{\"cells\":{\"fill\":{\"color\":\"#EBF0F8\"},\"line\":{\"color\":\"white\"}},\"header\":{\"fill\":{\"color\":\"#C8D4E3\"},\"line\":{\"color\":\"white\"}},\"type\":\"table\"}]},\"layout\":{\"annotationdefaults\":{\"arrowcolor\":\"#2a3f5f\",\"arrowhead\":0,\"arrowwidth\":1},\"autotypenumbers\":\"strict\",\"coloraxis\":{\"colorbar\":{\"outlinewidth\":0,\"ticks\":\"\"}},\"colorscale\":{\"diverging\":[[0,\"#8e0152\"],[0.1,\"#c51b7d\"],[0.2,\"#de77ae\"],[0.3,\"#f1b6da\"],[0.4,\"#fde0ef\"],[0.5,\"#f7f7f7\"],[0.6,\"#e6f5d0\"],[0.7,\"#b8e186\"],[0.8,\"#7fbc41\"],[0.9,\"#4d9221\"],[1,\"#276419\"]],\"sequential\":[[0.0,\"#0d0887\"],[0.1111111111111111,\"#46039f\"],[0.2222222222222222,\"#7201a8\"],[0.3333333333333333,\"#9c179e\"],[0.4444444444444444,\"#bd3786\"],[0.5555555555555556,\"#d8576b\"],[0.6666666666666666,\"#ed7953\"],[0.7777777777777778,\"#fb9f3a\"],[0.8888888888888888,\"#fdca26\"],[1.0,\"#f0f921\"]],\"sequentialminus\":[[0.0,\"#0d0887\"],[0.1111111111111111,\"#46039f\"],[0.2222222222222222,\"#7201a8\"],[0.3333333333333333,\"#9c179e\"],[0.4444444444444444,\"#bd3786\"],[0.5555555555555556,\"#d8576b\"],[0.6666666666666666,\"#ed7953\"],[0.7777777777777778,\"#fb9f3a\"],[0.8888888888888888,\"#fdca26\"],[1.0,\"#f0f921\"]]},\"colorway\":[\"#636efa\",\"#EF553B\",\"#00cc96\",\"#ab63fa\",\"#FFA15A\",\"#19d3f3\",\"#FF6692\",\"#B6E880\",\"#FF97FF\",\"#FECB52\"],\"font\":{\"color\":\"#2a3f5f\"},\"geo\":{\"bgcolor\":\"white\",\"lakecolor\":\"white\",\"landcolor\":\"#E5ECF6\",\"showlakes\":true,\"showland\":true,\"subunitcolor\":\"white\"},\"hoverlabel\":{\"align\":\"left\"},\"hovermode\":\"closest\",\"mapbox\":{\"style\":\"light\"},\"paper_bgcolor\":\"white\",\"plot_bgcolor\":\"#E5ECF6\",\"polar\":{\"angularaxis\":{\"gridcolor\":\"white\",\"linecolor\":\"white\",\"ticks\":\"\"},\"bgcolor\":\"#E5ECF6\",\"radialaxis\":{\"gridcolor\":\"white\",\"linecolor\":\"white\",\"ticks\":\"\"}},\"scene\":{\"xaxis\":{\"backgroundcolor\":\"#E5ECF6\",\"gridcolor\":\"white\",\"gridwidth\":2,\"linecolor\":\"white\",\"showbackground\":true,\"ticks\":\"\",\"zerolinecolor\":\"white\"},\"yaxis\":{\"backgroundcolor\":\"#E5ECF6\",\"gridcolor\":\"white\",\"gridwidth\":2,\"linecolor\":\"white\",\"showbackground\":true,\"ticks\":\"\",\"zerolinecolor\":\"white\"},\"zaxis\":{\"backgroundcolor\":\"#E5ECF6\",\"gridcolor\":\"white\",\"gridwidth\":2,\"linecolor\":\"white\",\"showbackground\":true,\"ticks\":\"\",\"zerolinecolor\":\"white\"}},\"shapedefaults\":{\"line\":{\"color\":\"#2a3f5f\"}},\"ternary\":{\"aaxis\":{\"gridcolor\":\"white\",\"linecolor\":\"white\",\"ticks\":\"\"},\"baxis\":{\"gridcolor\":\"white\",\"linecolor\":\"white\",\"ticks\":\"\"},\"bgcolor\":\"#E5ECF6\",\"caxis\":{\"gridcolor\":\"white\",\"linecolor\":\"white\",\"ticks\":\"\"}},\"title\":{\"x\":0.05},\"xaxis\":{\"automargin\":true,\"gridcolor\":\"white\",\"linecolor\":\"white\",\"ticks\":\"\",\"title\":{\"standoff\":15},\"zerolinecolor\":\"white\",\"zerolinewidth\":2},\"yaxis\":{\"automargin\":true,\"gridcolor\":\"white\",\"linecolor\":\"white\",\"ticks\":\"\",\"title\":{\"standoff\":15},\"zerolinecolor\":\"white\",\"zerolinewidth\":2}}},\"xaxis\":{\"anchor\":\"y\",\"domain\":[0.0,1.0],\"title\":{\"text\":\"estado\"}},\"yaxis\":{\"anchor\":\"x\",\"domain\":[0.0,1.0],\"title\":{\"text\":\"IDHM_Renda\"}},\"coloraxis\":{\"colorbar\":{\"title\":{\"text\":\"IDHM_Renda\"}},\"colorscale\":[[0.0,\"#0d0887\"],[0.1111111111111111,\"#46039f\"],[0.2222222222222222,\"#7201a8\"],[0.3333333333333333,\"#9c179e\"],[0.4444444444444444,\"#bd3786\"],[0.5555555555555556,\"#d8576b\"],[0.6666666666666666,\"#ed7953\"],[0.7777777777777778,\"#fb9f3a\"],[0.8888888888888888,\"#fdca26\"],[1.0,\"#f0f921\"]]},\"legend\":{\"tracegroupgap\":0},\"title\":{\"text\":\"IDHM Renda\"},\"barmode\":\"group\"},                        {\"responsive\": true}                    ).then(function(){\n",
              "                            \n",
              "var gd = document.getElementById('85ed2243-d646-4208-aabb-bc67164e13a1');\n",
              "var x = new MutationObserver(function (mutations, observer) {{\n",
              "        var display = window.getComputedStyle(gd).display;\n",
              "        if (!display || display === 'none') {{\n",
              "            console.log([gd, 'removed!']);\n",
              "            Plotly.purge(gd);\n",
              "            observer.disconnect();\n",
              "        }}\n",
              "}});\n",
              "\n",
              "// Listen for the removal of the full notebook cells\n",
              "var notebookContainer = gd.closest('#notebook-container');\n",
              "if (notebookContainer) {{\n",
              "    x.observe(notebookContainer, {childList: true});\n",
              "}}\n",
              "\n",
              "// Listen for the clearing of the current output cell\n",
              "var outputEl = gd.closest('.output');\n",
              "if (outputEl) {{\n",
              "    x.observe(outputEl, {childList: true});\n",
              "}}\n",
              "\n",
              "                        })                };                            </script>        </div>\n",
              "</body>\n",
              "</html>"
            ]
          },
          "metadata": {}
        },
        {
          "output_type": "display_data",
          "data": {
            "text/html": [
              "<html>\n",
              "<head><meta charset=\"utf-8\" /></head>\n",
              "<body>\n",
              "    <div>            <script src=\"https://cdnjs.cloudflare.com/ajax/libs/mathjax/2.7.5/MathJax.js?config=TeX-AMS-MML_SVG\"></script><script type=\"text/javascript\">if (window.MathJax) {MathJax.Hub.Config({SVG: {font: \"STIX-Web\"}});}</script>                <script type=\"text/javascript\">window.PlotlyConfig = {MathJaxConfig: 'local'};</script>\n",
              "        <script src=\"https://cdn.plot.ly/plotly-2.8.3.min.js\"></script>                <div id=\"7c3243bf-d9c8-45a8-a744-86b69c04b5c8\" class=\"plotly-graph-div\" style=\"height:525px; width:100%;\"></div>            <script type=\"text/javascript\">                                    window.PLOTLYENV=window.PLOTLYENV || {};                                    if (document.getElementById(\"7c3243bf-d9c8-45a8-a744-86b69c04b5c8\")) {                    Plotly.newPlot(                        \"7c3243bf-d9c8-45a8-a744-86b69c04b5c8\",                        [{\"alignmentgroup\":\"True\",\"hovertemplate\":\"estado=%{x}<br>IDHM_Educa\\u00e7\\u00e3o=%{marker.color}<extra></extra>\",\"legendgroup\":\"\",\"marker\":{\"color\":[0.779,0.703,0.666,0.735,0.771,0.74,0.727,0.758,0.828,0.671,0.732,0.729,0.71,0.636,0.753,0.661,0.654,0.64,0.685,0.717,0.677,0.763,0.682,0.682,0.804,0.764,0.71],\"coloraxis\":\"coloraxis\",\"pattern\":{\"shape\":\"\"}},\"name\":\"\",\"offsetgroup\":\"\",\"orientation\":\"v\",\"showlegend\":false,\"textposition\":\"auto\",\"x\":[\"SC\",\"RO\",\"PI\",\"AM\",\"RR\",\"GO\",\"TO\",\"MT\",\"SP\",\"PB\",\"ES\",\"RS\",\"MS\",\"AL\",\"MG\",\"PA\",\"BA\",\"SE\",\"PE\",\"CE\",\"RN\",\"RJ\",\"MA\",\"AC\",\"DF\",\"PR\",\"AP\"],\"xaxis\":\"x\",\"y\":[0.779,0.703,0.666,0.735,0.771,0.74,0.727,0.758,0.828,0.671,0.732,0.729,0.71,0.636,0.753,0.661,0.654,0.64,0.685,0.717,0.677,0.763,0.682,0.682,0.804,0.764,0.71],\"yaxis\":\"y\",\"type\":\"bar\"}],                        {\"template\":{\"data\":{\"bar\":[{\"error_x\":{\"color\":\"#2a3f5f\"},\"error_y\":{\"color\":\"#2a3f5f\"},\"marker\":{\"line\":{\"color\":\"#E5ECF6\",\"width\":0.5},\"pattern\":{\"fillmode\":\"overlay\",\"size\":10,\"solidity\":0.2}},\"type\":\"bar\"}],\"barpolar\":[{\"marker\":{\"line\":{\"color\":\"#E5ECF6\",\"width\":0.5},\"pattern\":{\"fillmode\":\"overlay\",\"size\":10,\"solidity\":0.2}},\"type\":\"barpolar\"}],\"carpet\":[{\"aaxis\":{\"endlinecolor\":\"#2a3f5f\",\"gridcolor\":\"white\",\"linecolor\":\"white\",\"minorgridcolor\":\"white\",\"startlinecolor\":\"#2a3f5f\"},\"baxis\":{\"endlinecolor\":\"#2a3f5f\",\"gridcolor\":\"white\",\"linecolor\":\"white\",\"minorgridcolor\":\"white\",\"startlinecolor\":\"#2a3f5f\"},\"type\":\"carpet\"}],\"choropleth\":[{\"colorbar\":{\"outlinewidth\":0,\"ticks\":\"\"},\"type\":\"choropleth\"}],\"contour\":[{\"colorbar\":{\"outlinewidth\":0,\"ticks\":\"\"},\"colorscale\":[[0.0,\"#0d0887\"],[0.1111111111111111,\"#46039f\"],[0.2222222222222222,\"#7201a8\"],[0.3333333333333333,\"#9c179e\"],[0.4444444444444444,\"#bd3786\"],[0.5555555555555556,\"#d8576b\"],[0.6666666666666666,\"#ed7953\"],[0.7777777777777778,\"#fb9f3a\"],[0.8888888888888888,\"#fdca26\"],[1.0,\"#f0f921\"]],\"type\":\"contour\"}],\"contourcarpet\":[{\"colorbar\":{\"outlinewidth\":0,\"ticks\":\"\"},\"type\":\"contourcarpet\"}],\"heatmap\":[{\"colorbar\":{\"outlinewidth\":0,\"ticks\":\"\"},\"colorscale\":[[0.0,\"#0d0887\"],[0.1111111111111111,\"#46039f\"],[0.2222222222222222,\"#7201a8\"],[0.3333333333333333,\"#9c179e\"],[0.4444444444444444,\"#bd3786\"],[0.5555555555555556,\"#d8576b\"],[0.6666666666666666,\"#ed7953\"],[0.7777777777777778,\"#fb9f3a\"],[0.8888888888888888,\"#fdca26\"],[1.0,\"#f0f921\"]],\"type\":\"heatmap\"}],\"heatmapgl\":[{\"colorbar\":{\"outlinewidth\":0,\"ticks\":\"\"},\"colorscale\":[[0.0,\"#0d0887\"],[0.1111111111111111,\"#46039f\"],[0.2222222222222222,\"#7201a8\"],[0.3333333333333333,\"#9c179e\"],[0.4444444444444444,\"#bd3786\"],[0.5555555555555556,\"#d8576b\"],[0.6666666666666666,\"#ed7953\"],[0.7777777777777778,\"#fb9f3a\"],[0.8888888888888888,\"#fdca26\"],[1.0,\"#f0f921\"]],\"type\":\"heatmapgl\"}],\"histogram\":[{\"marker\":{\"pattern\":{\"fillmode\":\"overlay\",\"size\":10,\"solidity\":0.2}},\"type\":\"histogram\"}],\"histogram2d\":[{\"colorbar\":{\"outlinewidth\":0,\"ticks\":\"\"},\"colorscale\":[[0.0,\"#0d0887\"],[0.1111111111111111,\"#46039f\"],[0.2222222222222222,\"#7201a8\"],[0.3333333333333333,\"#9c179e\"],[0.4444444444444444,\"#bd3786\"],[0.5555555555555556,\"#d8576b\"],[0.6666666666666666,\"#ed7953\"],[0.7777777777777778,\"#fb9f3a\"],[0.8888888888888888,\"#fdca26\"],[1.0,\"#f0f921\"]],\"type\":\"histogram2d\"}],\"histogram2dcontour\":[{\"colorbar\":{\"outlinewidth\":0,\"ticks\":\"\"},\"colorscale\":[[0.0,\"#0d0887\"],[0.1111111111111111,\"#46039f\"],[0.2222222222222222,\"#7201a8\"],[0.3333333333333333,\"#9c179e\"],[0.4444444444444444,\"#bd3786\"],[0.5555555555555556,\"#d8576b\"],[0.6666666666666666,\"#ed7953\"],[0.7777777777777778,\"#fb9f3a\"],[0.8888888888888888,\"#fdca26\"],[1.0,\"#f0f921\"]],\"type\":\"histogram2dcontour\"}],\"mesh3d\":[{\"colorbar\":{\"outlinewidth\":0,\"ticks\":\"\"},\"type\":\"mesh3d\"}],\"parcoords\":[{\"line\":{\"colorbar\":{\"outlinewidth\":0,\"ticks\":\"\"}},\"type\":\"parcoords\"}],\"pie\":[{\"automargin\":true,\"type\":\"pie\"}],\"scatter\":[{\"marker\":{\"colorbar\":{\"outlinewidth\":0,\"ticks\":\"\"}},\"type\":\"scatter\"}],\"scatter3d\":[{\"line\":{\"colorbar\":{\"outlinewidth\":0,\"ticks\":\"\"}},\"marker\":{\"colorbar\":{\"outlinewidth\":0,\"ticks\":\"\"}},\"type\":\"scatter3d\"}],\"scattercarpet\":[{\"marker\":{\"colorbar\":{\"outlinewidth\":0,\"ticks\":\"\"}},\"type\":\"scattercarpet\"}],\"scattergeo\":[{\"marker\":{\"colorbar\":{\"outlinewidth\":0,\"ticks\":\"\"}},\"type\":\"scattergeo\"}],\"scattergl\":[{\"marker\":{\"colorbar\":{\"outlinewidth\":0,\"ticks\":\"\"}},\"type\":\"scattergl\"}],\"scattermapbox\":[{\"marker\":{\"colorbar\":{\"outlinewidth\":0,\"ticks\":\"\"}},\"type\":\"scattermapbox\"}],\"scatterpolar\":[{\"marker\":{\"colorbar\":{\"outlinewidth\":0,\"ticks\":\"\"}},\"type\":\"scatterpolar\"}],\"scatterpolargl\":[{\"marker\":{\"colorbar\":{\"outlinewidth\":0,\"ticks\":\"\"}},\"type\":\"scatterpolargl\"}],\"scatterternary\":[{\"marker\":{\"colorbar\":{\"outlinewidth\":0,\"ticks\":\"\"}},\"type\":\"scatterternary\"}],\"surface\":[{\"colorbar\":{\"outlinewidth\":0,\"ticks\":\"\"},\"colorscale\":[[0.0,\"#0d0887\"],[0.1111111111111111,\"#46039f\"],[0.2222222222222222,\"#7201a8\"],[0.3333333333333333,\"#9c179e\"],[0.4444444444444444,\"#bd3786\"],[0.5555555555555556,\"#d8576b\"],[0.6666666666666666,\"#ed7953\"],[0.7777777777777778,\"#fb9f3a\"],[0.8888888888888888,\"#fdca26\"],[1.0,\"#f0f921\"]],\"type\":\"surface\"}],\"table\":[{\"cells\":{\"fill\":{\"color\":\"#EBF0F8\"},\"line\":{\"color\":\"white\"}},\"header\":{\"fill\":{\"color\":\"#C8D4E3\"},\"line\":{\"color\":\"white\"}},\"type\":\"table\"}]},\"layout\":{\"annotationdefaults\":{\"arrowcolor\":\"#2a3f5f\",\"arrowhead\":0,\"arrowwidth\":1},\"autotypenumbers\":\"strict\",\"coloraxis\":{\"colorbar\":{\"outlinewidth\":0,\"ticks\":\"\"}},\"colorscale\":{\"diverging\":[[0,\"#8e0152\"],[0.1,\"#c51b7d\"],[0.2,\"#de77ae\"],[0.3,\"#f1b6da\"],[0.4,\"#fde0ef\"],[0.5,\"#f7f7f7\"],[0.6,\"#e6f5d0\"],[0.7,\"#b8e186\"],[0.8,\"#7fbc41\"],[0.9,\"#4d9221\"],[1,\"#276419\"]],\"sequential\":[[0.0,\"#0d0887\"],[0.1111111111111111,\"#46039f\"],[0.2222222222222222,\"#7201a8\"],[0.3333333333333333,\"#9c179e\"],[0.4444444444444444,\"#bd3786\"],[0.5555555555555556,\"#d8576b\"],[0.6666666666666666,\"#ed7953\"],[0.7777777777777778,\"#fb9f3a\"],[0.8888888888888888,\"#fdca26\"],[1.0,\"#f0f921\"]],\"sequentialminus\":[[0.0,\"#0d0887\"],[0.1111111111111111,\"#46039f\"],[0.2222222222222222,\"#7201a8\"],[0.3333333333333333,\"#9c179e\"],[0.4444444444444444,\"#bd3786\"],[0.5555555555555556,\"#d8576b\"],[0.6666666666666666,\"#ed7953\"],[0.7777777777777778,\"#fb9f3a\"],[0.8888888888888888,\"#fdca26\"],[1.0,\"#f0f921\"]]},\"colorway\":[\"#636efa\",\"#EF553B\",\"#00cc96\",\"#ab63fa\",\"#FFA15A\",\"#19d3f3\",\"#FF6692\",\"#B6E880\",\"#FF97FF\",\"#FECB52\"],\"font\":{\"color\":\"#2a3f5f\"},\"geo\":{\"bgcolor\":\"white\",\"lakecolor\":\"white\",\"landcolor\":\"#E5ECF6\",\"showlakes\":true,\"showland\":true,\"subunitcolor\":\"white\"},\"hoverlabel\":{\"align\":\"left\"},\"hovermode\":\"closest\",\"mapbox\":{\"style\":\"light\"},\"paper_bgcolor\":\"white\",\"plot_bgcolor\":\"#E5ECF6\",\"polar\":{\"angularaxis\":{\"gridcolor\":\"white\",\"linecolor\":\"white\",\"ticks\":\"\"},\"bgcolor\":\"#E5ECF6\",\"radialaxis\":{\"gridcolor\":\"white\",\"linecolor\":\"white\",\"ticks\":\"\"}},\"scene\":{\"xaxis\":{\"backgroundcolor\":\"#E5ECF6\",\"gridcolor\":\"white\",\"gridwidth\":2,\"linecolor\":\"white\",\"showbackground\":true,\"ticks\":\"\",\"zerolinecolor\":\"white\"},\"yaxis\":{\"backgroundcolor\":\"#E5ECF6\",\"gridcolor\":\"white\",\"gridwidth\":2,\"linecolor\":\"white\",\"showbackground\":true,\"ticks\":\"\",\"zerolinecolor\":\"white\"},\"zaxis\":{\"backgroundcolor\":\"#E5ECF6\",\"gridcolor\":\"white\",\"gridwidth\":2,\"linecolor\":\"white\",\"showbackground\":true,\"ticks\":\"\",\"zerolinecolor\":\"white\"}},\"shapedefaults\":{\"line\":{\"color\":\"#2a3f5f\"}},\"ternary\":{\"aaxis\":{\"gridcolor\":\"white\",\"linecolor\":\"white\",\"ticks\":\"\"},\"baxis\":{\"gridcolor\":\"white\",\"linecolor\":\"white\",\"ticks\":\"\"},\"bgcolor\":\"#E5ECF6\",\"caxis\":{\"gridcolor\":\"white\",\"linecolor\":\"white\",\"ticks\":\"\"}},\"title\":{\"x\":0.05},\"xaxis\":{\"automargin\":true,\"gridcolor\":\"white\",\"linecolor\":\"white\",\"ticks\":\"\",\"title\":{\"standoff\":15},\"zerolinecolor\":\"white\",\"zerolinewidth\":2},\"yaxis\":{\"automargin\":true,\"gridcolor\":\"white\",\"linecolor\":\"white\",\"ticks\":\"\",\"title\":{\"standoff\":15},\"zerolinecolor\":\"white\",\"zerolinewidth\":2}}},\"xaxis\":{\"anchor\":\"y\",\"domain\":[0.0,1.0],\"title\":{\"text\":\"estado\"}},\"yaxis\":{\"anchor\":\"x\",\"domain\":[0.0,1.0],\"title\":{\"text\":\"IDHM_Educa\\u00e7\\u00e3o\"}},\"coloraxis\":{\"colorbar\":{\"title\":{\"text\":\"IDHM_Educa\\u00e7\\u00e3o\"}},\"colorscale\":[[0.0,\"#0d0887\"],[0.1111111111111111,\"#46039f\"],[0.2222222222222222,\"#7201a8\"],[0.3333333333333333,\"#9c179e\"],[0.4444444444444444,\"#bd3786\"],[0.5555555555555556,\"#d8576b\"],[0.6666666666666666,\"#ed7953\"],[0.7777777777777778,\"#fb9f3a\"],[0.8888888888888888,\"#fdca26\"],[1.0,\"#f0f921\"]]},\"legend\":{\"tracegroupgap\":0},\"title\":{\"text\":\"IDHM Educa\\u00e7\\u00e3o\"},\"barmode\":\"group\"},                        {\"responsive\": true}                    ).then(function(){\n",
              "                            \n",
              "var gd = document.getElementById('7c3243bf-d9c8-45a8-a744-86b69c04b5c8');\n",
              "var x = new MutationObserver(function (mutations, observer) {{\n",
              "        var display = window.getComputedStyle(gd).display;\n",
              "        if (!display || display === 'none') {{\n",
              "            console.log([gd, 'removed!']);\n",
              "            Plotly.purge(gd);\n",
              "            observer.disconnect();\n",
              "        }}\n",
              "}});\n",
              "\n",
              "// Listen for the removal of the full notebook cells\n",
              "var notebookContainer = gd.closest('#notebook-container');\n",
              "if (notebookContainer) {{\n",
              "    x.observe(notebookContainer, {childList: true});\n",
              "}}\n",
              "\n",
              "// Listen for the clearing of the current output cell\n",
              "var outputEl = gd.closest('.output');\n",
              "if (outputEl) {{\n",
              "    x.observe(outputEl, {childList: true});\n",
              "}}\n",
              "\n",
              "                        })                };                            </script>        </div>\n",
              "</body>\n",
              "</html>"
            ]
          },
          "metadata": {}
        },
        {
          "output_type": "display_data",
          "data": {
            "text/html": [
              "<html>\n",
              "<head><meta charset=\"utf-8\" /></head>\n",
              "<body>\n",
              "    <div>            <script src=\"https://cdnjs.cloudflare.com/ajax/libs/mathjax/2.7.5/MathJax.js?config=TeX-AMS-MML_SVG\"></script><script type=\"text/javascript\">if (window.MathJax) {MathJax.Hub.Config({SVG: {font: \"STIX-Web\"}});}</script>                <script type=\"text/javascript\">window.PlotlyConfig = {MathJaxConfig: 'local'};</script>\n",
              "        <script src=\"https://cdn.plot.ly/plotly-2.8.3.min.js\"></script>                <div id=\"0aca98b8-4db0-4968-a3f9-be25fdc7192d\" class=\"plotly-graph-div\" style=\"height:525px; width:100%;\"></div>            <script type=\"text/javascript\">                                    window.PLOTLYENV=window.PLOTLYENV || {};                                    if (document.getElementById(\"0aca98b8-4db0-4968-a3f9-be25fdc7192d\")) {                    Plotly.newPlot(                        \"0aca98b8-4db0-4968-a3f9-be25fdc7192d\",                        [{\"alignmentgroup\":\"True\",\"hovertemplate\":\"estado=%{x}<br>IDHM_Longevidade=%{marker.color}<extra></extra>\",\"legendgroup\":\"\",\"marker\":{\"color\":[0.783,0.699,0.66,0.682,0.706,0.747,0.696,0.742,0.796,0.694,0.74,0.787,0.748,0.639,0.741,0.654,0.685,0.677,0.682,0.676,0.68,0.769,0.623,0.664,0.859,0.771,0.695],\"coloraxis\":\"coloraxis\",\"pattern\":{\"shape\":\"\"}},\"name\":\"\",\"offsetgroup\":\"\",\"orientation\":\"v\",\"showlegend\":false,\"textposition\":\"auto\",\"x\":[\"SC\",\"RO\",\"PI\",\"AM\",\"RR\",\"GO\",\"TO\",\"MT\",\"SP\",\"PB\",\"ES\",\"RS\",\"MS\",\"AL\",\"MG\",\"PA\",\"BA\",\"SE\",\"PE\",\"CE\",\"RN\",\"RJ\",\"MA\",\"AC\",\"DF\",\"PR\",\"AP\"],\"xaxis\":\"x\",\"y\":[0.783,0.699,0.66,0.682,0.706,0.747,0.696,0.742,0.796,0.694,0.74,0.787,0.748,0.639,0.741,0.654,0.685,0.677,0.682,0.676,0.68,0.769,0.623,0.664,0.859,0.771,0.695],\"yaxis\":\"y\",\"type\":\"bar\"}],                        {\"template\":{\"data\":{\"bar\":[{\"error_x\":{\"color\":\"#2a3f5f\"},\"error_y\":{\"color\":\"#2a3f5f\"},\"marker\":{\"line\":{\"color\":\"#E5ECF6\",\"width\":0.5},\"pattern\":{\"fillmode\":\"overlay\",\"size\":10,\"solidity\":0.2}},\"type\":\"bar\"}],\"barpolar\":[{\"marker\":{\"line\":{\"color\":\"#E5ECF6\",\"width\":0.5},\"pattern\":{\"fillmode\":\"overlay\",\"size\":10,\"solidity\":0.2}},\"type\":\"barpolar\"}],\"carpet\":[{\"aaxis\":{\"endlinecolor\":\"#2a3f5f\",\"gridcolor\":\"white\",\"linecolor\":\"white\",\"minorgridcolor\":\"white\",\"startlinecolor\":\"#2a3f5f\"},\"baxis\":{\"endlinecolor\":\"#2a3f5f\",\"gridcolor\":\"white\",\"linecolor\":\"white\",\"minorgridcolor\":\"white\",\"startlinecolor\":\"#2a3f5f\"},\"type\":\"carpet\"}],\"choropleth\":[{\"colorbar\":{\"outlinewidth\":0,\"ticks\":\"\"},\"type\":\"choropleth\"}],\"contour\":[{\"colorbar\":{\"outlinewidth\":0,\"ticks\":\"\"},\"colorscale\":[[0.0,\"#0d0887\"],[0.1111111111111111,\"#46039f\"],[0.2222222222222222,\"#7201a8\"],[0.3333333333333333,\"#9c179e\"],[0.4444444444444444,\"#bd3786\"],[0.5555555555555556,\"#d8576b\"],[0.6666666666666666,\"#ed7953\"],[0.7777777777777778,\"#fb9f3a\"],[0.8888888888888888,\"#fdca26\"],[1.0,\"#f0f921\"]],\"type\":\"contour\"}],\"contourcarpet\":[{\"colorbar\":{\"outlinewidth\":0,\"ticks\":\"\"},\"type\":\"contourcarpet\"}],\"heatmap\":[{\"colorbar\":{\"outlinewidth\":0,\"ticks\":\"\"},\"colorscale\":[[0.0,\"#0d0887\"],[0.1111111111111111,\"#46039f\"],[0.2222222222222222,\"#7201a8\"],[0.3333333333333333,\"#9c179e\"],[0.4444444444444444,\"#bd3786\"],[0.5555555555555556,\"#d8576b\"],[0.6666666666666666,\"#ed7953\"],[0.7777777777777778,\"#fb9f3a\"],[0.8888888888888888,\"#fdca26\"],[1.0,\"#f0f921\"]],\"type\":\"heatmap\"}],\"heatmapgl\":[{\"colorbar\":{\"outlinewidth\":0,\"ticks\":\"\"},\"colorscale\":[[0.0,\"#0d0887\"],[0.1111111111111111,\"#46039f\"],[0.2222222222222222,\"#7201a8\"],[0.3333333333333333,\"#9c179e\"],[0.4444444444444444,\"#bd3786\"],[0.5555555555555556,\"#d8576b\"],[0.6666666666666666,\"#ed7953\"],[0.7777777777777778,\"#fb9f3a\"],[0.8888888888888888,\"#fdca26\"],[1.0,\"#f0f921\"]],\"type\":\"heatmapgl\"}],\"histogram\":[{\"marker\":{\"pattern\":{\"fillmode\":\"overlay\",\"size\":10,\"solidity\":0.2}},\"type\":\"histogram\"}],\"histogram2d\":[{\"colorbar\":{\"outlinewidth\":0,\"ticks\":\"\"},\"colorscale\":[[0.0,\"#0d0887\"],[0.1111111111111111,\"#46039f\"],[0.2222222222222222,\"#7201a8\"],[0.3333333333333333,\"#9c179e\"],[0.4444444444444444,\"#bd3786\"],[0.5555555555555556,\"#d8576b\"],[0.6666666666666666,\"#ed7953\"],[0.7777777777777778,\"#fb9f3a\"],[0.8888888888888888,\"#fdca26\"],[1.0,\"#f0f921\"]],\"type\":\"histogram2d\"}],\"histogram2dcontour\":[{\"colorbar\":{\"outlinewidth\":0,\"ticks\":\"\"},\"colorscale\":[[0.0,\"#0d0887\"],[0.1111111111111111,\"#46039f\"],[0.2222222222222222,\"#7201a8\"],[0.3333333333333333,\"#9c179e\"],[0.4444444444444444,\"#bd3786\"],[0.5555555555555556,\"#d8576b\"],[0.6666666666666666,\"#ed7953\"],[0.7777777777777778,\"#fb9f3a\"],[0.8888888888888888,\"#fdca26\"],[1.0,\"#f0f921\"]],\"type\":\"histogram2dcontour\"}],\"mesh3d\":[{\"colorbar\":{\"outlinewidth\":0,\"ticks\":\"\"},\"type\":\"mesh3d\"}],\"parcoords\":[{\"line\":{\"colorbar\":{\"outlinewidth\":0,\"ticks\":\"\"}},\"type\":\"parcoords\"}],\"pie\":[{\"automargin\":true,\"type\":\"pie\"}],\"scatter\":[{\"marker\":{\"colorbar\":{\"outlinewidth\":0,\"ticks\":\"\"}},\"type\":\"scatter\"}],\"scatter3d\":[{\"line\":{\"colorbar\":{\"outlinewidth\":0,\"ticks\":\"\"}},\"marker\":{\"colorbar\":{\"outlinewidth\":0,\"ticks\":\"\"}},\"type\":\"scatter3d\"}],\"scattercarpet\":[{\"marker\":{\"colorbar\":{\"outlinewidth\":0,\"ticks\":\"\"}},\"type\":\"scattercarpet\"}],\"scattergeo\":[{\"marker\":{\"colorbar\":{\"outlinewidth\":0,\"ticks\":\"\"}},\"type\":\"scattergeo\"}],\"scattergl\":[{\"marker\":{\"colorbar\":{\"outlinewidth\":0,\"ticks\":\"\"}},\"type\":\"scattergl\"}],\"scattermapbox\":[{\"marker\":{\"colorbar\":{\"outlinewidth\":0,\"ticks\":\"\"}},\"type\":\"scattermapbox\"}],\"scatterpolar\":[{\"marker\":{\"colorbar\":{\"outlinewidth\":0,\"ticks\":\"\"}},\"type\":\"scatterpolar\"}],\"scatterpolargl\":[{\"marker\":{\"colorbar\":{\"outlinewidth\":0,\"ticks\":\"\"}},\"type\":\"scatterpolargl\"}],\"scatterternary\":[{\"marker\":{\"colorbar\":{\"outlinewidth\":0,\"ticks\":\"\"}},\"type\":\"scatterternary\"}],\"surface\":[{\"colorbar\":{\"outlinewidth\":0,\"ticks\":\"\"},\"colorscale\":[[0.0,\"#0d0887\"],[0.1111111111111111,\"#46039f\"],[0.2222222222222222,\"#7201a8\"],[0.3333333333333333,\"#9c179e\"],[0.4444444444444444,\"#bd3786\"],[0.5555555555555556,\"#d8576b\"],[0.6666666666666666,\"#ed7953\"],[0.7777777777777778,\"#fb9f3a\"],[0.8888888888888888,\"#fdca26\"],[1.0,\"#f0f921\"]],\"type\":\"surface\"}],\"table\":[{\"cells\":{\"fill\":{\"color\":\"#EBF0F8\"},\"line\":{\"color\":\"white\"}},\"header\":{\"fill\":{\"color\":\"#C8D4E3\"},\"line\":{\"color\":\"white\"}},\"type\":\"table\"}]},\"layout\":{\"annotationdefaults\":{\"arrowcolor\":\"#2a3f5f\",\"arrowhead\":0,\"arrowwidth\":1},\"autotypenumbers\":\"strict\",\"coloraxis\":{\"colorbar\":{\"outlinewidth\":0,\"ticks\":\"\"}},\"colorscale\":{\"diverging\":[[0,\"#8e0152\"],[0.1,\"#c51b7d\"],[0.2,\"#de77ae\"],[0.3,\"#f1b6da\"],[0.4,\"#fde0ef\"],[0.5,\"#f7f7f7\"],[0.6,\"#e6f5d0\"],[0.7,\"#b8e186\"],[0.8,\"#7fbc41\"],[0.9,\"#4d9221\"],[1,\"#276419\"]],\"sequential\":[[0.0,\"#0d0887\"],[0.1111111111111111,\"#46039f\"],[0.2222222222222222,\"#7201a8\"],[0.3333333333333333,\"#9c179e\"],[0.4444444444444444,\"#bd3786\"],[0.5555555555555556,\"#d8576b\"],[0.6666666666666666,\"#ed7953\"],[0.7777777777777778,\"#fb9f3a\"],[0.8888888888888888,\"#fdca26\"],[1.0,\"#f0f921\"]],\"sequentialminus\":[[0.0,\"#0d0887\"],[0.1111111111111111,\"#46039f\"],[0.2222222222222222,\"#7201a8\"],[0.3333333333333333,\"#9c179e\"],[0.4444444444444444,\"#bd3786\"],[0.5555555555555556,\"#d8576b\"],[0.6666666666666666,\"#ed7953\"],[0.7777777777777778,\"#fb9f3a\"],[0.8888888888888888,\"#fdca26\"],[1.0,\"#f0f921\"]]},\"colorway\":[\"#636efa\",\"#EF553B\",\"#00cc96\",\"#ab63fa\",\"#FFA15A\",\"#19d3f3\",\"#FF6692\",\"#B6E880\",\"#FF97FF\",\"#FECB52\"],\"font\":{\"color\":\"#2a3f5f\"},\"geo\":{\"bgcolor\":\"white\",\"lakecolor\":\"white\",\"landcolor\":\"#E5ECF6\",\"showlakes\":true,\"showland\":true,\"subunitcolor\":\"white\"},\"hoverlabel\":{\"align\":\"left\"},\"hovermode\":\"closest\",\"mapbox\":{\"style\":\"light\"},\"paper_bgcolor\":\"white\",\"plot_bgcolor\":\"#E5ECF6\",\"polar\":{\"angularaxis\":{\"gridcolor\":\"white\",\"linecolor\":\"white\",\"ticks\":\"\"},\"bgcolor\":\"#E5ECF6\",\"radialaxis\":{\"gridcolor\":\"white\",\"linecolor\":\"white\",\"ticks\":\"\"}},\"scene\":{\"xaxis\":{\"backgroundcolor\":\"#E5ECF6\",\"gridcolor\":\"white\",\"gridwidth\":2,\"linecolor\":\"white\",\"showbackground\":true,\"ticks\":\"\",\"zerolinecolor\":\"white\"},\"yaxis\":{\"backgroundcolor\":\"#E5ECF6\",\"gridcolor\":\"white\",\"gridwidth\":2,\"linecolor\":\"white\",\"showbackground\":true,\"ticks\":\"\",\"zerolinecolor\":\"white\"},\"zaxis\":{\"backgroundcolor\":\"#E5ECF6\",\"gridcolor\":\"white\",\"gridwidth\":2,\"linecolor\":\"white\",\"showbackground\":true,\"ticks\":\"\",\"zerolinecolor\":\"white\"}},\"shapedefaults\":{\"line\":{\"color\":\"#2a3f5f\"}},\"ternary\":{\"aaxis\":{\"gridcolor\":\"white\",\"linecolor\":\"white\",\"ticks\":\"\"},\"baxis\":{\"gridcolor\":\"white\",\"linecolor\":\"white\",\"ticks\":\"\"},\"bgcolor\":\"#E5ECF6\",\"caxis\":{\"gridcolor\":\"white\",\"linecolor\":\"white\",\"ticks\":\"\"}},\"title\":{\"x\":0.05},\"xaxis\":{\"automargin\":true,\"gridcolor\":\"white\",\"linecolor\":\"white\",\"ticks\":\"\",\"title\":{\"standoff\":15},\"zerolinecolor\":\"white\",\"zerolinewidth\":2},\"yaxis\":{\"automargin\":true,\"gridcolor\":\"white\",\"linecolor\":\"white\",\"ticks\":\"\",\"title\":{\"standoff\":15},\"zerolinecolor\":\"white\",\"zerolinewidth\":2}}},\"xaxis\":{\"anchor\":\"y\",\"domain\":[0.0,1.0],\"title\":{\"text\":\"estado\"}},\"yaxis\":{\"anchor\":\"x\",\"domain\":[0.0,1.0],\"title\":{\"text\":\"IDHM_Longevidade\"}},\"coloraxis\":{\"colorbar\":{\"title\":{\"text\":\"IDHM_Longevidade\"}},\"colorscale\":[[0.0,\"#0d0887\"],[0.1111111111111111,\"#46039f\"],[0.2222222222222222,\"#7201a8\"],[0.3333333333333333,\"#9c179e\"],[0.4444444444444444,\"#bd3786\"],[0.5555555555555556,\"#d8576b\"],[0.6666666666666666,\"#ed7953\"],[0.7777777777777778,\"#fb9f3a\"],[0.8888888888888888,\"#fdca26\"],[1.0,\"#f0f921\"]]},\"legend\":{\"tracegroupgap\":0},\"title\":{\"text\":\"IDHM Longevidade\"},\"barmode\":\"group\"},                        {\"responsive\": true}                    ).then(function(){\n",
              "                            \n",
              "var gd = document.getElementById('0aca98b8-4db0-4968-a3f9-be25fdc7192d');\n",
              "var x = new MutationObserver(function (mutations, observer) {{\n",
              "        var display = window.getComputedStyle(gd).display;\n",
              "        if (!display || display === 'none') {{\n",
              "            console.log([gd, 'removed!']);\n",
              "            Plotly.purge(gd);\n",
              "            observer.disconnect();\n",
              "        }}\n",
              "}});\n",
              "\n",
              "// Listen for the removal of the full notebook cells\n",
              "var notebookContainer = gd.closest('#notebook-container');\n",
              "if (notebookContainer) {{\n",
              "    x.observe(notebookContainer, {childList: true});\n",
              "}}\n",
              "\n",
              "// Listen for the clearing of the current output cell\n",
              "var outputEl = gd.closest('.output');\n",
              "if (outputEl) {{\n",
              "    x.observe(outputEl, {childList: true});\n",
              "}}\n",
              "\n",
              "                        })                };                            </script>        </div>\n",
              "</body>\n",
              "</html>"
            ]
          },
          "metadata": {}
        }
      ],
      "source": [
        "to_plot_idh = [v for v in list(graf_idh.columns)]\n",
        "\n",
        "fig_graf_idh_covid = px.bar(graf_idh, x=graf_idh.estado, y=to_plot_idh,\\\n",
        "                                   barmode=\"stack\",\\\n",
        "                                   text_auto='.2s',\\\n",
        "                                   title=\"Casos novos de Covid e IDH\")\n",
        "             \n",
        "fig_graf_idh_covid.show()\n",
        "\n",
        "\n",
        "graf_idh_covid_obito = px.bar(graf_idh, x='estado', y=\"total_casos_estados\",\\\n",
        "                              barmode=\"group\",\\\n",
        "                              color=\"total_casos_estados\",\\\n",
        "                              title=\"Casos novos de  Covid\")\n",
        "graf_idh_covid= px.bar(graf_idh, x='estado', y=\"IDHM\",\\\n",
        "                       barmode=\"group\",\\\n",
        "                       color=\"IDHM\",\\\n",
        "                       title=\"IDHM\")\n",
        "graf_idh_covid_renda = px.bar(graf_idh, x='estado', y=\"IDHM_Renda\",\\\n",
        "                              barmode=\"group\",\\\n",
        "                              color=\"IDHM_Renda\",\\\n",
        "                              title=\"IDHM Renda\")\n",
        "graf_idh_covid_educacao = px.bar(graf_idh, x='estado', y=\"IDHM_Educação\",\\\n",
        "                                 barmode=\"group\",\\\n",
        "                                 color=\"IDHM_Educação\",\\\n",
        "                                 title=\"IDHM Educação\")\n",
        "graf_idh_covid_educacao_longevidade = px.bar(graf_idh, x='estado', y=\"IDHM_Longevidade\",\\\n",
        "                                             barmode=\"group\",\\\n",
        "                                             color=\"IDHM_Longevidade\",\\\n",
        "                                             title=\"IDHM Longevidade\")\n",
        "graf_idh_covid_obito.show()\n",
        "graf_idh_covid.show()\n",
        "graf_idh_covid_renda.show()\n",
        "graf_idh_covid_educacao.show()\n",
        "graf_idh_covid_educacao_longevidade.show()"
      ]
    }
  ],
  "metadata": {
    "colab": {
      "collapsed_sections": [],
      "provenance": []
    },
    "kernelspec": {
      "display_name": "Python 3",
      "name": "python3"
    },
    "language_info": {
      "name": "python"
    }
  },
  "nbformat": 4,
  "nbformat_minor": 0
}