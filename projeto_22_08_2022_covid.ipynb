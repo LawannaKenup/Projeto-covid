{
  "cells": [
    {
      "cell_type": "markdown",
      "metadata": {
        "id": "jL11E_sf0pPq"
      },
      "source": [
        "#### Configurando o ambiente."
      ]
    },
    {
      "cell_type": "code",
      "execution_count": 1,
      "metadata": {
        "colab": {
          "base_uri": "https://localhost:8080/"
        },
        "id": "tQarGdLGjquL",
        "outputId": "c05900fb-0aab-4906-e74a-2b58adb7c15e"
      },
      "outputs": [
        {
          "output_type": "stream",
          "name": "stdout",
          "text": [
            "Looking in indexes: https://pypi.org/simple, https://us-python.pkg.dev/colab-wheels/public/simple/\n",
            "Collecting pyspark\n",
            "  Downloading pyspark-3.3.0.tar.gz (281.3 MB)\n",
            "\u001b[K     |████████████████████████████████| 281.3 MB 41 kB/s \n",
            "\u001b[?25hCollecting py4j==0.10.9.5\n",
            "  Downloading py4j-0.10.9.5-py2.py3-none-any.whl (199 kB)\n",
            "\u001b[K     |████████████████████████████████| 199 kB 52.7 MB/s \n",
            "\u001b[?25hBuilding wheels for collected packages: pyspark\n",
            "  Building wheel for pyspark (setup.py) ... \u001b[?25l\u001b[?25hdone\n",
            "  Created wheel for pyspark: filename=pyspark-3.3.0-py2.py3-none-any.whl size=281764026 sha256=80bffd8196b8d9f290c6d2b20c6cc68771f43200d8b2287d12960d3fb1a90688\n",
            "  Stored in directory: /root/.cache/pip/wheels/7a/8e/1b/f73a52650d2e5f337708d9f6a1750d451a7349a867f928b885\n",
            "Successfully built pyspark\n",
            "Installing collected packages: py4j, pyspark\n",
            "Successfully installed py4j-0.10.9.5 pyspark-3.3.0\n",
            "\n",
            "Usage:   \n",
            "  pip3 install [options] <requirement specifier> [package-index-options] ...\n",
            "  pip3 install [options] -r <requirements file> [package-index-options] ...\n",
            "  pip3 install [options] [-e] <vcs project url> ...\n",
            "  pip3 install [options] [-e] <local project path> ...\n",
            "  pip3 install [options] <archive url/path> ...\n",
            "\n",
            "no such option: -u\n"
          ]
        }
      ],
      "source": [
        "!pip install pyspark\n",
        "!pip install -u plotly"
      ]
    },
    {
      "cell_type": "code",
      "execution_count": 2,
      "metadata": {
        "id": "OypgrK_UYcPQ"
      },
      "outputs": [],
      "source": [
        "import pandas as pd\n",
        "import numpy as np\n",
        "import plotly.express as px\n",
        "import plotly.figure_factory as ff\n"
      ]
    },
    {
      "cell_type": "code",
      "execution_count": 3,
      "metadata": {
        "id": "zWiil32JpJrQ"
      },
      "outputs": [],
      "source": [
        "from pyspark.sql import SparkSession\n",
        "\n",
        "spark = SparkSession \\\n",
        ".builder \\\n",
        ".appName(\"Python Spark create RDD example\") \\\n",
        ".config(\"spark.some.config.option\", \"some-value\") \\\n",
        ".getOrCreate"
      ]
    },
    {
      "cell_type": "code",
      "execution_count": 4,
      "metadata": {
        "colab": {
          "base_uri": "https://localhost:8080/",
          "height": 17
        },
        "id": "L4ar6NX6pPfm",
        "outputId": "1c740dd2-f925-4bd4-ba5b-410d151e8fc5"
      },
      "outputs": [
        {
          "output_type": "display_data",
          "data": {
            "text/plain": [
              "<IPython.core.display.HTML object>"
            ],
            "text/html": [
              "<style>pre { white-space: pre !important; }</style>"
            ]
          },
          "metadata": {}
        }
      ],
      "source": [
        "from pyspark.sql.types import *\n",
        "from pyspark.sql.functions import *\n",
        "from pyspark.sql import functions as f\n",
        "from IPython.core.display import HTML\n",
        "from pyspark.sql.functions import col, asc,desc\n",
        "from pyspark.sql.functions import regexp_replace\n",
        "\n",
        "# melhor visualização do dataframe\n",
        "display(HTML(\"<style>pre { white-space: pre !important; }</style>\"))\n",
        "\n",
        "# Session builder\n",
        "spark = SparkSession.builder.appName('sparkdf').getOrCreate()"
      ]
    },
    {
      "cell_type": "markdown",
      "metadata": {
        "id": "6s9pG9QH0WQ2"
      },
      "source": [
        "#### Importação das tabelas de registro de Covid no Brasil."
      ]
    },
    {
      "cell_type": "code",
      "execution_count": 5,
      "metadata": {
        "colab": {
          "base_uri": "https://localhost:8080/"
        },
        "id": "pv0qsL4MVoEV",
        "outputId": "0d27613c-7548-43d0-8a9a-a2a37b5423cf"
      },
      "outputs": [
        {
          "output_type": "stream",
          "name": "stdout",
          "text": [
            "Mounted at /content/gdrive\n"
          ]
        }
      ],
      "source": [
        "from google.colab import drive\n",
        "drive.mount('/content/gdrive')\n",
        "caminho_local = 'gdrive/MyDrive/Pyspark/Projeto_covid'"
      ]
    },
    {
      "cell_type": "code",
      "execution_count": 6,
      "metadata": {
        "id": "8BYpgpSXpeZi"
      },
      "outputs": [],
      "source": [
        "covid_2020_1 = spark.read.format('csv')\\\n",
        "                         .option(\"sep\",\";\",)\\\n",
        "                         .options(header='true',\\\n",
        "                             inferschema='true')\\\n",
        "                    .load(f'{caminho_local}/HIST_PAINEL_COVIDBR_2020_Parte1_09ago2022.csv',header=True)"
      ]
    },
    {
      "cell_type": "code",
      "execution_count": 7,
      "metadata": {
        "id": "yjMu2_yGp7Hr"
      },
      "outputs": [],
      "source": [
        "covid_2020_2 = spark.read.format('csv')\\\n",
        "                         .option(\"sep\",\";\",)\\\n",
        "                         .options(header='true',\\\n",
        "                             inferschema='true')\\\n",
        "                    .load(f'{caminho_local}/HIST_PAINEL_COVIDBR_2020_Parte2_09ago2022.csv',header=True)"
      ]
    },
    {
      "cell_type": "code",
      "execution_count": 8,
      "metadata": {
        "id": "fpJti3MrqCmQ"
      },
      "outputs": [],
      "source": [
        "covid_2021_1 = spark.read.format('csv')\\\n",
        "                         .option(\"sep\",\";\",)\\\n",
        "                         .options(header='true',\\\n",
        "                             inferschema='true')\\\n",
        "                    .load(f'{caminho_local}/HIST_PAINEL_COVIDBR_2021_Parte1_09ago2022.csv',header=True)"
      ]
    },
    {
      "cell_type": "code",
      "execution_count": 9,
      "metadata": {
        "id": "LBI46iOZqI0_"
      },
      "outputs": [],
      "source": [
        "covid_2021_2 = spark.read.format('csv')\\\n",
        "                         .option(\"sep\",\";\",)\\\n",
        "                         .options(header='true',\\\n",
        "                                  inferschema='true')\\\n",
        "                    .load(f'{caminho_local}/HIST_PAINEL_COVIDBR_2021_Parte2_09ago2022.csv',header=True)"
      ]
    },
    {
      "cell_type": "code",
      "execution_count": 10,
      "metadata": {
        "id": "HMbYGnOoqREC"
      },
      "outputs": [],
      "source": [
        "covid_2022_1 = spark.read.format('csv')\\\n",
        "                         .option(\"sep\",\";\",)\\\n",
        "                         .options(header='true',\\\n",
        "                                  inferschema='true')\\\n",
        "                    .load(f'{caminho_local}/HIST_PAINEL_COVIDBR_2022_Parte1_09ago2022.csv',header=True)"
      ]
    },
    {
      "cell_type": "code",
      "execution_count": 11,
      "metadata": {
        "id": "nUSOhG2lqXd9"
      },
      "outputs": [],
      "source": [
        "covid_2022_2 = spark.read.format('csv')\\\n",
        "                         .option(\"sep\",\";\",)\\\n",
        "                         .options(header='true',\\\n",
        "                                  inferschema='true')\\\n",
        "                    .load(f'{caminho_local}/HIST_PAINEL_COVIDBR_2022_Parte2_09ago2022.csv',header=True)"
      ]
    },
    {
      "cell_type": "markdown",
      "metadata": {
        "id": "b8Ta02s600H3"
      },
      "source": [
        "#### Foi feita a união das tabelas para melhor visualização."
      ]
    },
    {
      "cell_type": "code",
      "execution_count": 12,
      "metadata": {
        "colab": {
          "base_uri": "https://localhost:8080/"
        },
        "id": "v3LG3V7wqd6N",
        "outputId": "93185fbb-0abe-4aa9-bb13-04513eb40620"
      },
      "outputs": [
        {
          "output_type": "stream",
          "name": "stdout",
          "text": [
            "+------+------+---------+-----+------+--------------+---------------+-------------------+---------+----------------+--------------+----------+---------------+-----------+----------------+---------------------+----------------------+\n",
            "|regiao|estado|municipio|coduf|codmun|codRegiaoSaude|nomeRegiaoSaude|               data|semanaEpi|populacaoTCU2019|casosAcumulado|casosNovos|obitosAcumulado|obitosNovos|Recuperadosnovos|emAcompanhamentoNovos|interior/metropolitana|\n",
            "+------+------+---------+-----+------+--------------+---------------+-------------------+---------+----------------+--------------+----------+---------------+-----------+----------------+---------------------+----------------------+\n",
            "|Brasil|  null|     null|   76|  null|          null|           null|2020-02-25 00:00:00|        9|       210147125|           0.0|         0|              0|          0|               0|                    0|                  null|\n",
            "|Brasil|  null|     null|   76|  null|          null|           null|2020-02-26 00:00:00|        9|       210147125|           1.0|         1|              0|          0|               1|                    0|                  null|\n",
            "|Brasil|  null|     null|   76|  null|          null|           null|2020-02-27 00:00:00|        9|       210147125|           1.0|         0|              0|          0|               1|                    0|                  null|\n",
            "|Brasil|  null|     null|   76|  null|          null|           null|2020-02-28 00:00:00|        9|       210147125|           1.0|         0|              0|          0|               0|                    1|                  null|\n",
            "|Brasil|  null|     null|   76|  null|          null|           null|2020-02-29 00:00:00|        9|       210147125|           2.0|         1|              0|          0|               1|                    1|                  null|\n",
            "|Brasil|  null|     null|   76|  null|          null|           null|2020-03-01 00:00:00|       10|       210147125|           2.0|         0|              0|          0|               1|                    1|                  null|\n",
            "|Brasil|  null|     null|   76|  null|          null|           null|2020-03-02 00:00:00|       10|       210147125|           2.0|         0|              0|          0|               0|                    2|                  null|\n",
            "|Brasil|  null|     null|   76|  null|          null|           null|2020-03-03 00:00:00|       10|       210147125|           2.0|         0|              0|          0|               0|                    2|                  null|\n",
            "|Brasil|  null|     null|   76|  null|          null|           null|2020-03-04 00:00:00|       10|       210147125|           3.0|         1|              0|          0|               1|                    2|                  null|\n",
            "|Brasil|  null|     null|   76|  null|          null|           null|2020-03-05 00:00:00|       10|       210147125|           7.0|         4|              0|          0|               4|                    3|                  null|\n",
            "|Brasil|  null|     null|   76|  null|          null|           null|2020-03-06 00:00:00|       10|       210147125|          13.0|         6|              0|          0|               6|                    7|                  null|\n",
            "|Brasil|  null|     null|   76|  null|          null|           null|2020-03-07 00:00:00|       10|       210147125|          19.0|         6|              0|          0|               7|                   12|                  null|\n",
            "|Brasil|  null|     null|   76|  null|          null|           null|2020-03-08 00:00:00|       11|       210147125|          25.0|         6|              0|          0|               6|                   19|                  null|\n",
            "|Brasil|  null|     null|   76|  null|          null|           null|2020-03-09 00:00:00|       11|       210147125|          25.0|         0|              0|          0|               1|                   24|                  null|\n",
            "|Brasil|  null|     null|   76|  null|          null|           null|2020-03-10 00:00:00|       11|       210147125|          34.0|         9|              0|          0|               6|                   28|                  null|\n",
            "|Brasil|  null|     null|   76|  null|          null|           null|2020-03-11 00:00:00|       11|       210147125|          52.0|        18|              0|          0|              16|                   36|                  null|\n",
            "|Brasil|  null|     null|   76|  null|          null|           null|2020-03-12 00:00:00|       11|       210147125|          77.0|        25|              0|          0|              23|                   54|                  null|\n",
            "|Brasil|  null|     null|   76|  null|          null|           null|2020-03-13 00:00:00|       11|       210147125|          98.0|        21|              0|          0|              24|                   74|                  null|\n",
            "|Brasil|  null|     null|   76|  null|          null|           null|2020-03-14 00:00:00|       11|       210147125|         121.0|        23|              0|          0|              22|                   99|                  null|\n",
            "|Brasil|  null|     null|   76|  null|          null|           null|2020-03-15 00:00:00|       12|       210147125|         200.0|        79|              0|          0|              62|                  138|                  null|\n",
            "+------+------+---------+-----+------+--------------+---------------+-------------------+---------+----------------+--------------+----------+---------------+-----------+----------------+---------------------+----------------------+\n",
            "only showing top 20 rows\n",
            "\n"
          ]
        }
      ],
      "source": [
        "covid = covid_2020_1.union(covid_2020_1)\\\n",
        "                    .union(covid_2020_2)\\\n",
        "                    .union(covid_2021_1)\\\n",
        "                    .union(covid_2021_2)\\\n",
        "                    .union(covid_2022_1)\\\n",
        "                    .union(covid_2022_2)\n",
        "\n",
        "covid.show()"
      ]
    },
    {
      "cell_type": "markdown",
      "metadata": {
        "id": "hHBhUtPq0_i8"
      },
      "source": [
        "#### Alteração do formato da coluna data."
      ]
    },
    {
      "cell_type": "code",
      "execution_count": 13,
      "metadata": {
        "colab": {
          "base_uri": "https://localhost:8080/"
        },
        "id": "2d1tmdX71zp9",
        "outputId": "7ded1772-7689-4f43-e575-90096ed5d6ce"
      },
      "outputs": [
        {
          "output_type": "stream",
          "name": "stdout",
          "text": [
            "+------+------+---------+-----+------+--------------+---------------+----------+---------+----------------+--------------+----------+---------------+-----------+----------------+---------------------+----------------------+\n",
            "|regiao|estado|municipio|coduf|codmun|codRegiaoSaude|nomeRegiaoSaude|      data|semanaEpi|populacaoTCU2019|casosAcumulado|casosNovos|obitosAcumulado|obitosNovos|Recuperadosnovos|emAcompanhamentoNovos|interior/metropolitana|\n",
            "+------+------+---------+-----+------+--------------+---------------+----------+---------+----------------+--------------+----------+---------------+-----------+----------------+---------------------+----------------------+\n",
            "|Brasil|  null|     null|   76|  null|          null|           null|2020-02-25|        9|       210147125|           0.0|         0|              0|          0|               0|                    0|                  null|\n",
            "|Brasil|  null|     null|   76|  null|          null|           null|2020-02-26|        9|       210147125|           1.0|         1|              0|          0|               1|                    0|                  null|\n",
            "|Brasil|  null|     null|   76|  null|          null|           null|2020-02-27|        9|       210147125|           1.0|         0|              0|          0|               1|                    0|                  null|\n",
            "|Brasil|  null|     null|   76|  null|          null|           null|2020-02-28|        9|       210147125|           1.0|         0|              0|          0|               0|                    1|                  null|\n",
            "|Brasil|  null|     null|   76|  null|          null|           null|2020-02-29|        9|       210147125|           2.0|         1|              0|          0|               1|                    1|                  null|\n",
            "|Brasil|  null|     null|   76|  null|          null|           null|2020-03-01|       10|       210147125|           2.0|         0|              0|          0|               1|                    1|                  null|\n",
            "|Brasil|  null|     null|   76|  null|          null|           null|2020-03-02|       10|       210147125|           2.0|         0|              0|          0|               0|                    2|                  null|\n",
            "|Brasil|  null|     null|   76|  null|          null|           null|2020-03-03|       10|       210147125|           2.0|         0|              0|          0|               0|                    2|                  null|\n",
            "|Brasil|  null|     null|   76|  null|          null|           null|2020-03-04|       10|       210147125|           3.0|         1|              0|          0|               1|                    2|                  null|\n",
            "|Brasil|  null|     null|   76|  null|          null|           null|2020-03-05|       10|       210147125|           7.0|         4|              0|          0|               4|                    3|                  null|\n",
            "|Brasil|  null|     null|   76|  null|          null|           null|2020-03-06|       10|       210147125|          13.0|         6|              0|          0|               6|                    7|                  null|\n",
            "|Brasil|  null|     null|   76|  null|          null|           null|2020-03-07|       10|       210147125|          19.0|         6|              0|          0|               7|                   12|                  null|\n",
            "|Brasil|  null|     null|   76|  null|          null|           null|2020-03-08|       11|       210147125|          25.0|         6|              0|          0|               6|                   19|                  null|\n",
            "|Brasil|  null|     null|   76|  null|          null|           null|2020-03-09|       11|       210147125|          25.0|         0|              0|          0|               1|                   24|                  null|\n",
            "|Brasil|  null|     null|   76|  null|          null|           null|2020-03-10|       11|       210147125|          34.0|         9|              0|          0|               6|                   28|                  null|\n",
            "|Brasil|  null|     null|   76|  null|          null|           null|2020-03-11|       11|       210147125|          52.0|        18|              0|          0|              16|                   36|                  null|\n",
            "|Brasil|  null|     null|   76|  null|          null|           null|2020-03-12|       11|       210147125|          77.0|        25|              0|          0|              23|                   54|                  null|\n",
            "|Brasil|  null|     null|   76|  null|          null|           null|2020-03-13|       11|       210147125|          98.0|        21|              0|          0|              24|                   74|                  null|\n",
            "|Brasil|  null|     null|   76|  null|          null|           null|2020-03-14|       11|       210147125|         121.0|        23|              0|          0|              22|                   99|                  null|\n",
            "|Brasil|  null|     null|   76|  null|          null|           null|2020-03-15|       12|       210147125|         200.0|        79|              0|          0|              62|                  138|                  null|\n",
            "+------+------+---------+-----+------+--------------+---------------+----------+---------+----------------+--------------+----------+---------------+-----------+----------------+---------------------+----------------------+\n",
            "only showing top 20 rows\n",
            "\n"
          ]
        }
      ],
      "source": [
        "covid = covid.withColumn(\"data\",\\\n",
        "                          f.date_format(\"data\", \"yyyy-MM-dd\"))\n",
        "covid.show()"
      ]
    },
    {
      "cell_type": "markdown",
      "metadata": {
        "id": "RTXEsGQTz9Ay"
      },
      "source": [
        "#### Contagem da quantidade de registros na tabela."
      ]
    },
    {
      "cell_type": "code",
      "execution_count": 14,
      "metadata": {
        "colab": {
          "base_uri": "https://localhost:8080/"
        },
        "id": "LCD26Dj621Bx",
        "outputId": "b6356b0c-ac69-41cb-bf28-03c19719fc16"
      },
      "outputs": [
        {
          "output_type": "execute_result",
          "data": {
            "text/plain": [
              "5581403"
            ]
          },
          "metadata": {},
          "execution_count": 14
        }
      ],
      "source": [
        "covid.count()"
      ]
    },
    {
      "cell_type": "code",
      "execution_count": 15,
      "metadata": {
        "colab": {
          "base_uri": "https://localhost:8080/"
        },
        "id": "LkqHyzeXJ-gG",
        "outputId": "fb5e7094-4ed3-4dbb-b506-b8715ee3cd63"
      },
      "outputs": [
        {
          "output_type": "stream",
          "name": "stdout",
          "text": [
            "+----------------------+\n",
            "|interior/metropolitana|\n",
            "+----------------------+\n",
            "|                  null|\n",
            "|                     1|\n",
            "|                     0|\n",
            "+----------------------+\n",
            "\n"
          ]
        }
      ],
      "source": [
        "covid.select(\"interior/metropolitana\").distinct().show()"
      ]
    },
    {
      "cell_type": "markdown",
      "metadata": {
        "id": "0Osg-UXVrd7Y"
      },
      "source": [
        "#### Devido a coluna interior/metropolitana não evidenciar quando a localidade se refere ao interior ou a área metropolitana, a mesma foi removida\n"
      ]
    },
    {
      "cell_type": "code",
      "execution_count": 16,
      "metadata": {
        "id": "9OBjdFSMrPgS"
      },
      "outputs": [],
      "source": [
        "covid = covid.drop(\"interior/metropolitana\")"
      ]
    },
    {
      "cell_type": "markdown",
      "metadata": {
        "id": "rTAKxXDttkjx"
      },
      "source": [
        "####Foi separado o dataframe do Brasil para verificar os casos e obitos novos referentes ao país, desconsiderando as regiões, estados e municipios."
      ]
    },
    {
      "cell_type": "code",
      "execution_count": 17,
      "metadata": {
        "colab": {
          "base_uri": "https://localhost:8080/"
        },
        "id": "OiDskJ56ap5e",
        "outputId": "bc16638a-5640-44ec-fa93-111e6adab225"
      },
      "outputs": [
        {
          "output_type": "stream",
          "name": "stdout",
          "text": [
            "+----------+------+----------+-----------+\n",
            "|      data|regiao|casosNovos|obitosNovos|\n",
            "+----------+------+----------+-----------+\n",
            "|2022-02-03|Brasil|    298408|       1041|\n",
            "|2022-01-28|Brasil|    269968|        799|\n",
            "|2022-01-27|Brasil|    228954|        672|\n",
            "|2022-01-26|Brasil|    224567|        570|\n",
            "|2022-01-19|Brasil|    204854|        338|\n",
            "|2022-02-05|Brasil|    197442|       1308|\n",
            "|2022-02-01|Brasil|    193465|        929|\n",
            "|2022-02-04|Brasil|    184311|        493|\n",
            "|2022-01-25|Brasil|    183722|        487|\n",
            "|2022-01-29|Brasil|    179816|        640|\n",
            "|2022-02-09|Brasil|    178814|       1264|\n",
            "|2022-02-08|Brasil|    177027|       1189|\n",
            "|2022-02-02|Brasil|    172903|        893|\n",
            "|2022-01-20|Brasil|    168495|        350|\n",
            "|2022-01-21|Brasil|    166539|        358|\n",
            "|2022-02-11|Brasil|    166009|       1135|\n",
            "|2022-02-10|Brasil|    164066|        943|\n",
            "|2022-01-22|Brasil|    157393|        238|\n",
            "|2021-09-18|Brasil|    150106|        935|\n",
            "|2022-02-16|Brasil|    147734|       1085|\n",
            "+----------+------+----------+-----------+\n",
            "only showing top 20 rows\n",
            "\n"
          ]
        }
      ],
      "source": [
        "brasil = covid.select(\"data\", \"regiao\", \"casosNovos\",\"obitosNovos\")\\\n",
        "              .filter(f.col(\"regiao\") == \"Brasil\")\\\n",
        "              .sort(col(\"casosNovos\").desc(), col(\"obitosNovos\").desc())\n",
        "\n",
        "brasil.show()"
      ]
    },
    {
      "cell_type": "markdown",
      "metadata": {
        "id": "2x4c-6xIuEk0"
      },
      "source": [
        "####Foi separado o dataframe das Regiões para verificar os casos e obitos novos referentes as regiões, desconsiderando o país , estados e municipios."
      ]
    },
    {
      "cell_type": "code",
      "execution_count": 18,
      "metadata": {
        "colab": {
          "base_uri": "https://localhost:8080/"
        },
        "id": "dXDfhPWCotI6",
        "outputId": "938a2ac1-19f5-4973-f37d-685b6fa73b46"
      },
      "outputs": [
        {
          "output_type": "stream",
          "name": "stdout",
          "text": [
            "+--------+----------+-----------+\n",
            "|  regiao|casosNovos|obitosNovos|\n",
            "+--------+----------+-----------+\n",
            "| Sudeste|    105700|        371|\n",
            "|   Norte|     74352|        727|\n",
            "|   Norte|     73235|        719|\n",
            "| Sudeste|     69223|          7|\n",
            "|     Sul|     64036|         62|\n",
            "|Nordeste|     59430|          0|\n",
            "|Nordeste|     49132|          0|\n",
            "|     Sul|     47815|       1134|\n",
            "|     Sul|     47101|       1108|\n",
            "|     Sul|     45154|         90|\n",
            "|     Sul|     45020|        247|\n",
            "|     Sul|     43776|       1043|\n",
            "|     Sul|     43028|       1020|\n",
            "|Nordeste|     42771|          3|\n",
            "|Nordeste|     42547|         64|\n",
            "| Sudeste|     40753|         44|\n",
            "|Nordeste|     40290|         16|\n",
            "|     Sul|     40170|        177|\n",
            "| Sudeste|     39271|        109|\n",
            "| Sudeste|     37611|        349|\n",
            "+--------+----------+-----------+\n",
            "only showing top 20 rows\n",
            "\n"
          ]
        }
      ],
      "source": [
        "regiao = covid.select( \"regiao\", \"casosNovos\",\"obitosNovos\")\\\n",
        "              .filter(f.col(\"regiao\") != \"Brasil\")\n",
        "\n",
        "regiao.sort(col(\"casosNovos\").desc(), col(\"obitosNovos\").desc()).show()"
      ]
    },
    {
      "cell_type": "markdown",
      "metadata": {
        "id": "OoLXCzOouTll"
      },
      "source": [
        "Foi separado o dataframe dos Estados para verificar os casos e obitos novos referentes a cada estado, desconsiderando as país, regiões e municipios."
      ]
    },
    {
      "cell_type": "code",
      "execution_count": 19,
      "metadata": {
        "colab": {
          "base_uri": "https://localhost:8080/"
        },
        "id": "L00zI_W54Juz",
        "outputId": "021d8a44-acca-4037-b8ee-3a9bb1975570"
      },
      "outputs": [
        {
          "output_type": "stream",
          "name": "stdout",
          "text": [
            "+----------+-------+------+----------+-----------+\n",
            "|      data| regiao|estado|casosNovos|obitosNovos|\n",
            "+----------+-------+------+----------+-----------+\n",
            "|2021-04-06|Sudeste|    SP|     22794|       1389|\n",
            "|2021-04-08|Sudeste|    SP|     21004|       1299|\n",
            "|2021-04-13|Sudeste|    SP|     18397|       1282|\n",
            "|2021-03-30|Sudeste|    SP|     21360|       1209|\n",
            "|2021-03-26|Sudeste|    SP|     21489|       1193|\n",
            "|2021-03-31|Sudeste|    SP|     23169|       1160|\n",
            "|2021-04-20|Sudeste|    SP|     19060|       1122|\n",
            "|2021-04-14|Sudeste|    SP|     18790|       1095|\n",
            "|2021-04-01|Sudeste|    SP|     26567|       1082|\n",
            "|2021-04-15|Sudeste|    SP|     18067|       1060|\n",
            "|2021-03-27|Sudeste|    SP|     18124|       1051|\n",
            "|2021-04-27|Sudeste|    SP|     17992|       1044|\n",
            "|2021-03-23|Sudeste|    SP|     20942|       1021|\n",
            "|2021-04-09|Sudeste|    SP|     20701|       1008|\n",
            "|2021-04-21|Sudeste|    SP|     17123|        977|\n",
            "|2021-05-25|Sudeste|    SP|     17477|        898|\n",
            "|2021-06-15|Sudeste|    SP|     23227|        897|\n",
            "|2021-04-07|Sudeste|    SP|     21521|        889|\n",
            "|2021-04-29|Sudeste|    SP|     14920|        876|\n",
            "|2021-04-24|Sudeste|    SP|     16271|        875|\n",
            "+----------+-------+------+----------+-----------+\n",
            "only showing top 20 rows\n",
            "\n"
          ]
        }
      ],
      "source": [
        "estados = covid.select(\"data\", \"regiao\", \"estado\", \"casosNovos\", \"obitosNovos\")\\\n",
        "               .filter((f.col(\"regiao\") != \"Brasil\")&(f.col(\"municipio\").isNull()))\\\n",
        "               .orderBy(col(\"obitosNovos\").desc())\\\n",
        "   \n",
        "\n",
        "estados.show()"
      ]
    },
    {
      "cell_type": "markdown",
      "metadata": {
        "id": "0Ra9OpxgBikW"
      },
      "source": [
        "#### Foi realizada uma exploração dos dados para verificar se as colunas casosAcumulado e obitosAcumulado estão consistentes. Foi utilizado como amostra os estados de São Paulo e Rio de Janeiro."
      ]
    },
    {
      "cell_type": "code",
      "execution_count": 20,
      "metadata": {
        "colab": {
          "base_uri": "https://localhost:8080/"
        },
        "id": "UtORf4EZvAf4",
        "outputId": "a7638a9a-0830-4c61-b4fc-2f2c4f30b93f"
      },
      "outputs": [
        {
          "output_type": "stream",
          "name": "stdout",
          "text": [
            "+-------+------+-------------------+-----+------+--------------+--------------------+----------+---------+----------------+--------------+----------+---------------+-----------+----------------+---------------------+\n",
            "| regiao|estado|          municipio|coduf|codmun|codRegiaoSaude|     nomeRegiaoSaude|      data|semanaEpi|populacaoTCU2019|casosAcumulado|casosNovos|obitosAcumulado|obitosNovos|Recuperadosnovos|emAcompanhamentoNovos|\n",
            "+-------+------+-------------------+-----+------+--------------+--------------------+----------+---------+----------------+--------------+----------+---------------+-----------+----------------+---------------------+\n",
            "|Sudeste|    SP|    Álvares Machado|   35|350130|         35112|     ALTA SOROCABANA|2022-08-09|       32|           24915|        4110.0|         4|             88|          0|            null|                 null|\n",
            "|Sudeste|    SP|           Alumínio|   35|350115|         35163|            SOROCABA|2022-08-09|       32|           18628|        1705.0|         0|             56|          0|            null|                 null|\n",
            "|Sudeste|    SP|            Anhembi|   35|350230|         35063|         POLO CUESTA|2022-08-09|       32|            6724|         448.0|         0|             14|          0|            null|                 null|\n",
            "|Sudeste|    SP|           Angatuba|   35|350220|         35161|        ITAPETININGA|2022-08-09|       32|           25228|        4914.0|        19|             90|          0|            null|                 null|\n",
            "|Sudeste|    SP|             Amparo|   35|350190|         35074|  CIRCUITO DAS AGUAS|2022-08-09|       32|           72195|       10603.0|         1|            258|          0|            null|                 null|\n",
            "|Sudeste|    SP|  Alfredo Marcondes|   35|350080|         35112|     ALTA SOROCABANA|2022-08-09|       32|            4166|         305.0|         0|             19|          0|            null|                 null|\n",
            "|Sudeste|    SP|        Altinópolis|   35|350100|         35133| VALE DAS CACHOEIRAS|2022-08-09|       32|           16184|        1237.0|         0|             65|          0|            null|                 null|\n",
            "|Sudeste|    SP|             Agudos|   35|350070|         35062|               BAURU|2022-08-09|       32|           37214|        7203.0|         1|            121|          0|            null|                 null|\n",
            "|Sudeste|    SP|  Américo de Campos|   35|350180|         35157|         VOTUPORANGA|2022-08-09|       32|            5969|        1291.0|         0|             38|          0|            null|                 null|\n",
            "|Sudeste|    SP|               null|   35|  null|          null|                null|2022-08-09|       32|        45919049|     5955410.0|      5097|         173418|         72|            null|                 null|\n",
            "|Sudeste|    SP| Álvaro de Carvalho|   35|350140|         35093|             MARILIA|2022-08-09|       32|            5227|         342.0|         0|              9|          0|            null|                 null|\n",
            "|Sudeste|    SP|              Aguaí|   35|350030|         35142|         MANTIQUEIRA|2022-08-09|       32|           36305|        6775.0|        21|            136|          1|            null|                 null|\n",
            "|Sudeste|    SP|          Analândia|   35|350200|         35104|           RIO CLARO|2022-08-09|       32|            4995|         592.0|         2|              6|          0|            null|                 null|\n",
            "|Sudeste|    SP|          Andradina|   35|350210|         35022|     LAGOS DO DRS II|2022-08-09|       32|           57157|       13749.0|        15|            313|          0|            null|                 null|\n",
            "|Sudeste|    SP|   Águas de Lindóia|   35|350050|         35074|  CIRCUITO DAS AGUAS|2022-08-09|       32|           18705|        5163.0|         7|             64|          0|            null|                 null|\n",
            "|Sudeste|    SP|          Americana|   35|350160|         35072|REGIAO METROPOLIT...|2022-08-09|       32|          239597|       28153.0|        -1|            982|          1|            null|                 null|\n",
            "|Sudeste|    SP|         Araraquara|   35|350320|         35031|  CENTRAL DO DRS III|2022-08-09|       32|          236072|       60129.0|        66|            640|          0|            null|                 null|\n",
            "|Sudeste|    SP|Américo Brasiliense|   35|350170|         35031|  CENTRAL DO DRS III|2022-08-09|       32|           40504|        6679.0|         9|            108|          0|            null|                 null|\n",
            "|Sudeste|    SP|         Adamantina|   35|350010|         35091|          ADAMANTINA|2022-08-09|       32|           35068|        9807.0|        66|            180|          0|            null|                 null|\n",
            "|Sudeste|    SP|        Alvinlândia|   35|350150|         35093|             MARILIA|2022-08-09|       32|            3222|         151.0|         0|             10|          0|            null|                 null|\n",
            "+-------+------+-------------------+-----+------+--------------+--------------------+----------+---------+----------------+--------------+----------+---------------+-----------+----------------+---------------------+\n",
            "only showing top 20 rows\n",
            "\n"
          ]
        }
      ],
      "source": [
        "covid_sp = covid.filter(f.col(\"estado\") == \"SP\")\\\n",
        "                .orderBy(col(\"data\").desc())\n",
        "\n",
        "covid_sp.show()"
      ]
    },
    {
      "cell_type": "code",
      "execution_count": 21,
      "metadata": {
        "colab": {
          "base_uri": "https://localhost:8080/"
        },
        "id": "8xOTHSrGyKQ-",
        "outputId": "fdac03bc-7358-44aa-cb4a-a7e131812e7f"
      },
      "outputs": [
        {
          "output_type": "stream",
          "name": "stdout",
          "text": [
            "+-------+------+---------+-----+------+--------------+---------------+----------+---------+----------------+--------------+----------+---------------+-----------+----------------+---------------------+\n",
            "| regiao|estado|municipio|coduf|codmun|codRegiaoSaude|nomeRegiaoSaude|      data|semanaEpi|populacaoTCU2019|casosAcumulado|casosNovos|obitosAcumulado|obitosNovos|Recuperadosnovos|emAcompanhamentoNovos|\n",
            "+-------+------+---------+-----+------+--------------+---------------+----------+---------+----------------+--------------+----------+---------------+-----------+----------------+---------------------+\n",
            "|Sudeste|    SP|     null|   35|  null|          null|           null|2022-08-09|       32|        45919049|     5955410.0|      5097|         173418|         72|            null|                 null|\n",
            "|Sudeste|    SP|     null|   35|  null|          null|           null|2022-08-08|       32|        45919049|     5950313.0|       840|         173346|          8|            null|                 null|\n",
            "|Sudeste|    SP|     null|   35|  null|          null|           null|2022-08-07|       32|        45919049|     5949473.0|      1153|         173338|         22|            null|                 null|\n",
            "|Sudeste|    SP|     null|   35|  null|          null|           null|2022-08-06|       31|        45919049|     5948320.0|      4179|         173316|         79|            null|                 null|\n",
            "|Sudeste|    SP|     null|   35|  null|          null|           null|2022-08-05|       31|        45919049|     5944141.0|      5405|         173237|         77|            null|                 null|\n",
            "|Sudeste|    SP|     null|   35|  null|          null|           null|2022-08-04|       31|        45919049|     5938736.0|      5647|         173160|         58|            null|                 null|\n",
            "|Sudeste|    SP|     null|   35|  null|          null|           null|2022-08-03|       31|        45919049|     5933089.0|      5970|         173102|         66|            null|                 null|\n",
            "|Sudeste|    SP|     null|   35|  null|          null|           null|2022-08-02|       31|        45919049|     5927119.0|      6860|         173036|         89|            null|                 null|\n",
            "|Sudeste|    SP|     null|   35|  null|          null|           null|2022-08-01|       31|        45919049|     5920259.0|       813|         172947|          3|            null|                 null|\n",
            "|Sudeste|    SP|     null|   35|  null|          null|           null|2022-07-31|       31|        45919049|     5919446.0|      2178|         172944|          9|            null|                 null|\n",
            "|Sudeste|    SP|     null|   35|  null|          null|           null|2022-07-30|       30|        45919049|     5917268.0|      5716|         172935|         48|            null|                 null|\n",
            "|Sudeste|    SP|     null|   35|  null|          null|           null|2022-07-29|       30|        45919049|     5911552.0|      6707|         172887|         71|            null|                 null|\n",
            "|Sudeste|    SP|     null|   35|  null|          null|           null|2022-07-28|       30|        45919049|     5904845.0|      6986|         172816|         89|            null|                 null|\n",
            "|Sudeste|    SP|     null|   35|  null|          null|           null|2022-07-27|       30|        45919049|     5897859.0|      7096|         172727|         73|            null|                 null|\n",
            "|Sudeste|    SP|     null|   35|  null|          null|           null|2022-07-26|       30|        45919049|     5890763.0|      7152|         172654|         99|            null|                 null|\n",
            "|Sudeste|    SP|     null|   35|  null|          null|           null|2022-07-25|       30|        45919049|     5883611.0|       652|         172555|         11|            null|                 null|\n",
            "|Sudeste|    SP|     null|   35|  null|          null|           null|2022-07-24|       30|        45919049|     5882959.0|      2226|         172544|          8|            null|                 null|\n",
            "|Sudeste|    SP|     null|   35|  null|          null|           null|2022-07-23|       29|        45919049|     5880733.0|      6117|         172536|         77|            null|                 null|\n",
            "|Sudeste|    SP|     null|   35|  null|          null|           null|2022-07-22|       29|        45919049|     5874616.0|      6745|         172459|         95|            null|                 null|\n",
            "|Sudeste|    SP|     null|   35|  null|          null|           null|2022-07-21|       29|        45919049|     5867871.0|      6608|         172364|         87|            null|                 null|\n",
            "+-------+------+---------+-----+------+--------------+---------------+----------+---------+----------------+--------------+----------+---------------+-----------+----------------+---------------------+\n",
            "only showing top 20 rows\n",
            "\n"
          ]
        }
      ],
      "source": [
        "covid_sp2 = covid.filter((f.col(\"estado\") == \"SP\")&(f.col(\"codmun\").isNull()))\\\n",
        "                  .orderBy(col(\"data\").desc())\n",
        "\n",
        "covid_sp2.show()"
      ]
    },
    {
      "cell_type": "code",
      "execution_count": 22,
      "metadata": {
        "colab": {
          "base_uri": "https://localhost:8080/"
        },
        "id": "aFz06FCKwHUo",
        "outputId": "41c66c2e-6618-4461-99d0-fb011dc9dafc"
      },
      "outputs": [
        {
          "output_type": "stream",
          "name": "stdout",
          "text": [
            "+-------+------+---------+-----+------+--------------+---------------+----------+---------+----------------+--------------+----------+---------------+-----------+----------------+---------------------+\n",
            "| regiao|estado|municipio|coduf|codmun|codRegiaoSaude|nomeRegiaoSaude|      data|semanaEpi|populacaoTCU2019|casosAcumulado|casosNovos|obitosAcumulado|obitosNovos|Recuperadosnovos|emAcompanhamentoNovos|\n",
            "+-------+------+---------+-----+------+--------------+---------------+----------+---------+----------------+--------------+----------+---------------+-----------+----------------+---------------------+\n",
            "|Sudeste|    RJ|     null|   33|  null|          null|           null|2022-08-09|       32|        17264943|     2462761.0|      2365|          75089|         76|            null|                 null|\n",
            "|Sudeste|    RJ|     null|   33|  null|          null|           null|2022-08-08|       32|        17264943|     2460396.0|      2753|          75013|         68|            null|                 null|\n",
            "|Sudeste|    RJ|     null|   33|  null|          null|           null|2022-08-07|       32|        17264943|     2457643.0|         0|          74945|          0|            null|                 null|\n",
            "|Sudeste|    RJ|     null|   33|  null|          null|           null|2022-08-06|       31|        17264943|     2457643.0|         0|          74945|          0|            null|                 null|\n",
            "|Sudeste|    RJ|     null|   33|  null|          null|           null|2022-08-05|       31|        17264943|     2457643.0|      2518|          74945|         21|            null|                 null|\n",
            "|Sudeste|    RJ|     null|   33|  null|          null|           null|2022-08-04|       31|        17264943|     2455125.0|      2850|          74924|         32|            null|                 null|\n",
            "|Sudeste|    RJ|     null|   33|  null|          null|           null|2022-08-03|       31|        17264943|     2452275.0|      2328|          74892|         25|            null|                 null|\n",
            "|Sudeste|    RJ|     null|   33|  null|          null|           null|2022-08-02|       31|        17264943|     2449947.0|      2119|          74867|         27|            null|                 null|\n",
            "|Sudeste|    RJ|     null|   33|  null|          null|           null|2022-08-01|       31|        17264943|     2447828.0|      2734|          74840|         74|            null|                 null|\n",
            "|Sudeste|    RJ|     null|   33|  null|          null|           null|2022-07-31|       31|        17264943|     2445094.0|         0|          74766|          0|            null|                 null|\n",
            "|Sudeste|    RJ|     null|   33|  null|          null|           null|2022-07-30|       30|        17264943|     2445094.0|         0|          74766|          0|            null|                 null|\n",
            "|Sudeste|    RJ|     null|   33|  null|          null|           null|2022-07-29|       30|        17264943|     2445094.0|      2603|          74766|          8|            null|                 null|\n",
            "|Sudeste|    RJ|     null|   33|  null|          null|           null|2022-07-28|       30|        17264943|     2442491.0|      2408|          74758|         16|            null|                 null|\n",
            "|Sudeste|    RJ|     null|   33|  null|          null|           null|2022-07-27|       30|        17264943|     2440083.0|      3086|          74742|         49|            null|                 null|\n",
            "|Sudeste|    RJ|     null|   33|  null|          null|           null|2022-07-26|       30|        17264943|     2436997.0|      2865|          74693|         39|            null|                 null|\n",
            "|Sudeste|    RJ|     null|   33|  null|          null|           null|2022-07-25|       30|        17264943|     2434132.0|      3839|          74654|         58|            null|                 null|\n",
            "|Sudeste|    RJ|     null|   33|  null|          null|           null|2022-07-24|       30|        17264943|     2430293.0|         0|          74596|          0|            null|                 null|\n",
            "|Sudeste|    RJ|     null|   33|  null|          null|           null|2022-07-23|       29|        17264943|     2430293.0|         0|          74596|          0|            null|                 null|\n",
            "|Sudeste|    RJ|     null|   33|  null|          null|           null|2022-07-22|       29|        17264943|     2430293.0|      3112|          74596|         10|            null|                 null|\n",
            "|Sudeste|    RJ|     null|   33|  null|          null|           null|2022-07-21|       29|        17264943|     2427181.0|      3035|          74586|         32|            null|                 null|\n",
            "+-------+------+---------+-----+------+--------------+---------------+----------+---------+----------------+--------------+----------+---------------+-----------+----------------+---------------------+\n",
            "only showing top 20 rows\n",
            "\n"
          ]
        }
      ],
      "source": [
        "covid_rj = covid.filter((f.col(\"estado\") == \"RJ\")&(f.col(\"codmun\").isNull()))\\\n",
        "                .orderBy(col(\"data\").desc())\n",
        "\n",
        "covid_rj.show()"
      ]
    },
    {
      "cell_type": "code",
      "execution_count": 23,
      "metadata": {
        "colab": {
          "base_uri": "https://localhost:8080/"
        },
        "id": "3HC7SsqQ0wNw",
        "outputId": "f5531951-dbdc-472d-fc91-75cc5cd68531"
      },
      "outputs": [
        {
          "output_type": "stream",
          "name": "stdout",
          "text": [
            "+------+------+---------+-----+------+--------------+---------------+----------+---------+----------------+--------------+----------+---------------+-----------+----------------+---------------------+\n",
            "|regiao|estado|municipio|coduf|codmun|codRegiaoSaude|nomeRegiaoSaude|      data|semanaEpi|populacaoTCU2019|casosAcumulado|casosNovos|obitosAcumulado|obitosNovos|Recuperadosnovos|emAcompanhamentoNovos|\n",
            "+------+------+---------+-----+------+--------------+---------------+----------+---------+----------------+--------------+----------+---------------+-----------+----------------+---------------------+\n",
            "| Norte|    RO|   Cabixi|   11|110003|         11006|       CONE SUL|2020-06-04|       23|            5312|           3.0|         3|              0|          0|            null|                 null|\n",
            "| Norte|    RO|   Cabixi|   11|110003|         11006|       CONE SUL|2020-06-30|       27|            5312|           4.0|         1|              1|          1|            null|                 null|\n",
            "| Norte|    RO|   Cabixi|   11|110003|         11006|       CONE SUL|2020-07-03|       27|            5312|           5.0|         1|              1|          0|            null|                 null|\n",
            "| Norte|    RO|   Cabixi|   11|110003|         11006|       CONE SUL|2020-07-04|       27|            5312|          11.0|         6|              1|          0|            null|                 null|\n",
            "| Norte|    RO|   Cabixi|   11|110003|         11006|       CONE SUL|2020-07-05|       28|            5312|          13.0|         2|              1|          0|            null|                 null|\n",
            "| Norte|    RO|   Cabixi|   11|110003|         11006|       CONE SUL|2020-07-06|       28|            5312|          12.0|        -1|              1|          0|            null|                 null|\n",
            "| Norte|    RO|   Cabixi|   11|110003|         11006|       CONE SUL|2020-07-08|       28|            5312|          15.0|         3|              2|          1|            null|                 null|\n",
            "| Norte|    RO|   Cabixi|   11|110003|         11006|       CONE SUL|2020-07-09|       28|            5312|          16.0|         1|              2|          0|            null|                 null|\n",
            "| Norte|    RO|   Cabixi|   11|110003|         11006|       CONE SUL|2020-07-10|       28|            5312|          19.0|         3|              2|          0|            null|                 null|\n",
            "| Norte|    RO|   Cabixi|   11|110003|         11006|       CONE SUL|2020-07-12|       29|            5312|          20.0|         1|              2|          0|            null|                 null|\n",
            "| Norte|    RO|   Cabixi|   11|110003|         11006|       CONE SUL|2020-07-13|       29|            5312|          21.0|         1|              2|          0|            null|                 null|\n",
            "| Norte|    RO|   Cabixi|   11|110003|         11006|       CONE SUL|2020-07-14|       29|            5312|          22.0|         1|              2|          0|            null|                 null|\n",
            "| Norte|    RO|   Cabixi|   11|110003|         11006|       CONE SUL|2020-07-15|       29|            5312|          27.0|         5|              2|          0|            null|                 null|\n",
            "| Norte|    RO|   Cabixi|   11|110003|         11006|       CONE SUL|2020-07-16|       29|            5312|          28.0|         1|              2|          0|            null|                 null|\n",
            "| Norte|    RO|   Cabixi|   11|110003|         11006|       CONE SUL|2020-07-20|       30|            5312|          34.0|         6|              0|         -2|            null|                 null|\n",
            "| Norte|    RO|   Cabixi|   11|110003|         11006|       CONE SUL|2020-07-22|       30|            5312|          35.0|         1|              2|          0|            null|                 null|\n",
            "| Norte|    RO|   Cabixi|   11|110003|         11006|       CONE SUL|2020-07-23|       30|            5312|          37.0|         2|              3|          1|            null|                 null|\n",
            "| Norte|    RO|   Cabixi|   11|110003|         11006|       CONE SUL|2020-07-25|       30|            5312|          38.0|         1|              3|          0|            null|                 null|\n",
            "| Norte|    RO|   Cabixi|   11|110003|         11006|       CONE SUL|2020-07-27|       31|            5312|          39.0|         1|              3|          0|            null|                 null|\n",
            "| Norte|    RO|   Cabixi|   11|110003|         11006|       CONE SUL|2020-07-28|       31|            5312|          41.0|         2|              3|          0|            null|                 null|\n",
            "+------+------+---------+-----+------+--------------+---------------+----------+---------+----------------+--------------+----------+---------------+-----------+----------------+---------------------+\n",
            "only showing top 20 rows\n",
            "\n"
          ]
        }
      ],
      "source": [
        " #covid_localidades = covid.filter((f.col(\"regiao\") != \"Brasil\")&(f.col(\"municipio\").isNotNull())&(f.col(\"casosNovos\")<0))\n",
        "\n",
        "covid_localidades = covid.filter((f.col(\"regiao\") != \"Brasil\")\\\n",
        "                                 &(f.col(\"municipio\").isNotNull())\\\n",
        "                                 &(f.col(\"codmun\")== \"110003\")\\\n",
        "                                 &(f.col(\"casosNovos\")!= 0))\n",
        "covid_localidades.show()\n"
      ]
    },
    {
      "cell_type": "markdown",
      "metadata": {
        "id": "cstzA0v9B4Mw"
      },
      "source": [
        "#### Comparando o total de casos novos quando o codigo do municipio for nulo X total de casos novos por municipio para a mesma data base, concluímos que o codigo do municipio igual a nulo não se refere a somatória do estado. Nesse caso, optamos por remover esses registros para evitar trabalhar com dados sujos."
      ]
    },
    {
      "cell_type": "code",
      "execution_count": 24,
      "metadata": {
        "colab": {
          "base_uri": "https://localhost:8080/"
        },
        "id": "Bftb3uzFACR3",
        "outputId": "9785060f-4134-4cfd-8e2c-7cbe7a566c8b"
      },
      "outputs": [
        {
          "output_type": "stream",
          "name": "stdout",
          "text": [
            "+------+------+--------------------+-----+------+--------------+---------------+----------+---------+----------------+--------------+----------+---------------+-----------+----------------+---------------------+\n",
            "|regiao|estado|           municipio|coduf|codmun|codRegiaoSaude|nomeRegiaoSaude|      data|semanaEpi|populacaoTCU2019|casosAcumulado|casosNovos|obitosAcumulado|obitosNovos|Recuperadosnovos|emAcompanhamentoNovos|\n",
            "+------+------+--------------------+-----+------+--------------+---------------+----------+---------+----------------+--------------+----------+---------------+-----------+----------------+---------------------+\n",
            "| Norte|    RO|Alta Floresta D'O...|   11|110001|         11005|   ZONA DA MATA|2020-03-27|       13|           22945|           0.0|         0|              0|          0|            null|                 null|\n",
            "| Norte|    RO|Alta Floresta D'O...|   11|110001|         11005|   ZONA DA MATA|2020-03-28|       13|           22945|           0.0|         0|              0|          0|            null|                 null|\n",
            "| Norte|    RO|Alta Floresta D'O...|   11|110001|         11005|   ZONA DA MATA|2020-03-29|       14|           22945|           0.0|         0|              0|          0|            null|                 null|\n",
            "| Norte|    RO|Alta Floresta D'O...|   11|110001|         11005|   ZONA DA MATA|2020-03-30|       14|           22945|           0.0|         0|              0|          0|            null|                 null|\n",
            "| Norte|    RO|Alta Floresta D'O...|   11|110001|         11005|   ZONA DA MATA|2020-03-31|       14|           22945|           0.0|         0|              0|          0|            null|                 null|\n",
            "| Norte|    RO|Alta Floresta D'O...|   11|110001|         11005|   ZONA DA MATA|2020-04-01|       14|           22945|           0.0|         0|              0|          0|            null|                 null|\n",
            "| Norte|    RO|Alta Floresta D'O...|   11|110001|         11005|   ZONA DA MATA|2020-04-02|       14|           22945|           0.0|         0|              0|          0|            null|                 null|\n",
            "| Norte|    RO|Alta Floresta D'O...|   11|110001|         11005|   ZONA DA MATA|2020-04-03|       14|           22945|           0.0|         0|              0|          0|            null|                 null|\n",
            "| Norte|    RO|Alta Floresta D'O...|   11|110001|         11005|   ZONA DA MATA|2020-04-04|       14|           22945|           0.0|         0|              0|          0|            null|                 null|\n",
            "| Norte|    RO|Alta Floresta D'O...|   11|110001|         11005|   ZONA DA MATA|2020-04-05|       15|           22945|           0.0|         0|              0|          0|            null|                 null|\n",
            "| Norte|    RO|Alta Floresta D'O...|   11|110001|         11005|   ZONA DA MATA|2020-04-06|       15|           22945|           0.0|         0|              0|          0|            null|                 null|\n",
            "| Norte|    RO|Alta Floresta D'O...|   11|110001|         11005|   ZONA DA MATA|2020-04-07|       15|           22945|           0.0|         0|              0|          0|            null|                 null|\n",
            "| Norte|    RO|Alta Floresta D'O...|   11|110001|         11005|   ZONA DA MATA|2020-04-08|       15|           22945|           0.0|         0|              0|          0|            null|                 null|\n",
            "| Norte|    RO|Alta Floresta D'O...|   11|110001|         11005|   ZONA DA MATA|2020-04-09|       15|           22945|           0.0|         0|              0|          0|            null|                 null|\n",
            "| Norte|    RO|Alta Floresta D'O...|   11|110001|         11005|   ZONA DA MATA|2020-04-10|       15|           22945|           0.0|         0|              0|          0|            null|                 null|\n",
            "| Norte|    RO|Alta Floresta D'O...|   11|110001|         11005|   ZONA DA MATA|2020-04-11|       15|           22945|           0.0|         0|              0|          0|            null|                 null|\n",
            "| Norte|    RO|Alta Floresta D'O...|   11|110001|         11005|   ZONA DA MATA|2020-04-12|       16|           22945|           0.0|         0|              0|          0|            null|                 null|\n",
            "| Norte|    RO|Alta Floresta D'O...|   11|110001|         11005|   ZONA DA MATA|2020-04-13|       16|           22945|           0.0|         0|              0|          0|            null|                 null|\n",
            "| Norte|    RO|Alta Floresta D'O...|   11|110001|         11005|   ZONA DA MATA|2020-04-14|       16|           22945|           0.0|         0|              0|          0|            null|                 null|\n",
            "| Norte|    RO|Alta Floresta D'O...|   11|110001|         11005|   ZONA DA MATA|2020-04-15|       16|           22945|           0.0|         0|              0|          0|            null|                 null|\n",
            "+------+------+--------------------+-----+------+--------------+---------------+----------+---------+----------------+--------------+----------+---------------+-----------+----------------+---------------------+\n",
            "only showing top 20 rows\n",
            "\n"
          ]
        }
      ],
      "source": [
        "covid_novo = covid.withColumn(\"casosNovos\", when(f.col(\"casosNovos\")<0, 0)\\\n",
        "                              .otherwise(f.col(\"casosNovos\")))\\\n",
        "                  .withColumn(\"obitosNovos\", when(f.col(\"obitosNovos\")<0, 0)\\\n",
        "                              .otherwise(f.col(\"obitosNovos\")))\\\n",
        "                  .filter((f.col(\"regiao\") != \"Brasil\")&(f.col(\"municipio\").isNotNull()))\n",
        "covid_novo.show()"
      ]
    },
    {
      "cell_type": "markdown",
      "metadata": {
        "id": "e1HNDpWwDbiB"
      },
      "source": [
        "#### Foi realizada a soma de de total de casaos e obitos novos considerando somente o estado."
      ]
    },
    {
      "cell_type": "code",
      "execution_count": 25,
      "metadata": {
        "colab": {
          "base_uri": "https://localhost:8080/"
        },
        "id": "GggvbHjA1oXT",
        "outputId": "31d3d278-d059-4305-f5dd-86a6f23b856c"
      },
      "outputs": [
        {
          "output_type": "stream",
          "name": "stdout",
          "text": [
            "+------+-----+----------+-----------------------------+------------------------------+\n",
            "|estado|coduf|      data|casosNovos_diarios_por_estado|obitosNovos_diarios_por_estado|\n",
            "+------+-----+----------+-----------------------------+------------------------------+\n",
            "|    RO|   11|2020-03-01|                            0|                             0|\n",
            "|    RO|   11|2020-05-29|                          500|                             6|\n",
            "|    AC|   12|2020-03-12|                            0|                             0|\n",
            "|    AC|   12|2020-07-19|                          186|                             6|\n",
            "|    AM|   13|2020-05-02|                          678|                            50|\n",
            "|    PA|   15|2020-05-16|                         2150|                           108|\n",
            "|    AP|   16|2020-05-19|                          574|                            18|\n",
            "|    TO|   17|2020-04-05|                            6|                             0|\n",
            "|    PI|   22|2020-05-11|                          108|                             6|\n",
            "|    RN|   24|2020-02-26|                            0|                             0|\n",
            "|    SE|   28|2020-07-27|                         2018|                            52|\n",
            "|    BA|   29|2020-03-30|                           44|                             0|\n",
            "|    BA|   29|2020-06-02|                         5064|                            72|\n",
            "|    BA|   29|2020-07-25|                         7368|                            90|\n",
            "|    MG|   31|2020-03-14|                            0|                             0|\n",
            "|    ES|   32|2020-03-18|                           16|                             0|\n",
            "|    RJ|   33|2020-05-04|                         1164|                            92|\n",
            "|    RJ|   33|2020-06-13|                         2104|                           350|\n",
            "|    RJ|   33|2020-06-18|                          708|                           548|\n",
            "|    RJ|   33|2020-06-27|                          612|                           404|\n",
            "+------+-----+----------+-----------------------------+------------------------------+\n",
            "only showing top 20 rows\n",
            "\n"
          ]
        }
      ],
      "source": [
        "covid_total_estados = covid.withColumn(\"casosNovos\", when(f.col(\"casosNovos\")<0, 0)\\\n",
        "                                       .otherwise(f.col(\"casosNovos\")))\\\n",
        "                           .withColumn(\"obitosNovos\", when(f.col(\"obitosNovos\")<0, 0)\\\n",
        "                                       .otherwise(f.col(\"obitosNovos\")))\\\n",
        "                           .filter((f.col(\"municipio\").isNull())&(f.col(\"regiao\") != \"Brasil\"))\\\n",
        "                           .groupBy(\"estado\" ,\"coduf\", \"data\")\\\n",
        "                           .agg(f.sum(\"casosNovos\").alias(\"casosNovos_diarios_por_estado\"),\\\n",
        "                                  sum(\"obitosNovos\").alias(\"obitosNovos_diarios_por_estado\"))\n",
        "                                                               \n",
        "covid_total_estados.show()"
      ]
    },
    {
      "cell_type": "markdown",
      "metadata": {
        "id": "Kdyof0WKJEVY"
      },
      "source": [
        "#### Foi realizado o joim dos dataframes covid_novo e covid_total_estados para melhor visualização"
      ]
    },
    {
      "cell_type": "code",
      "execution_count": 26,
      "metadata": {
        "colab": {
          "base_uri": "https://localhost:8080/"
        },
        "id": "OADi77Cd4CnP",
        "outputId": "f12c5b4e-00dd-40e7-a36c-c0ce87020ffd"
      },
      "outputs": [
        {
          "output_type": "stream",
          "name": "stdout",
          "text": [
            "+----------+-----+------+------+--------------------+------+--------------+---------------+---------+----------------+--------------+----------+---------------+-----------+----------------+---------------------+-----------------------------+------------------------------+\n",
            "|      data|coduf|estado|regiao|           municipio|codmun|codRegiaoSaude|nomeRegiaoSaude|semanaEpi|populacaoTCU2019|casosAcumulado|casosNovos|obitosAcumulado|obitosNovos|Recuperadosnovos|emAcompanhamentoNovos|casosNovos_diarios_por_estado|obitosNovos_diarios_por_estado|\n",
            "+----------+-----+------+------+--------------------+------+--------------+---------------+---------+----------------+--------------+----------+---------------+-----------+----------------+---------------------+-----------------------------+------------------------------+\n",
            "|2020-04-03|   11|    RO| Norte|Alta Floresta D'O...|110001|         11005|   ZONA DA MATA|       14|           22945|           0.0|         0|              0|          0|            null|                 null|                            0|                             0|\n",
            "|2020-04-02|   11|    RO| Norte|Alta Floresta D'O...|110001|         11005|   ZONA DA MATA|       14|           22945|           0.0|         0|              0|          0|            null|                 null|                            2|                             0|\n",
            "|2020-03-30|   11|    RO| Norte|Alta Floresta D'O...|110001|         11005|   ZONA DA MATA|       14|           22945|           0.0|         0|              0|          0|            null|                 null|                            0|                             0|\n",
            "|2020-04-09|   11|    RO| Norte|Alta Floresta D'O...|110001|         11005|   ZONA DA MATA|       15|           22945|           0.0|         0|              0|          0|            null|                 null|                           20|                             2|\n",
            "|2020-04-06|   11|    RO| Norte|Alta Floresta D'O...|110001|         11005|   ZONA DA MATA|       15|           22945|           0.0|         0|              0|          0|            null|                 null|                            4|                             0|\n",
            "|2020-03-31|   11|    RO| Norte|Alta Floresta D'O...|110001|         11005|   ZONA DA MATA|       14|           22945|           0.0|         0|              0|          0|            null|                 null|                            4|                             2|\n",
            "|2020-03-29|   11|    RO| Norte|Alta Floresta D'O...|110001|         11005|   ZONA DA MATA|       14|           22945|           0.0|         0|              0|          0|            null|                 null|                            0|                             0|\n",
            "|2020-03-28|   11|    RO| Norte|Alta Floresta D'O...|110001|         11005|   ZONA DA MATA|       13|           22945|           0.0|         0|              0|          0|            null|                 null|                            0|                             0|\n",
            "|2020-04-16|   11|    RO| Norte|Alta Floresta D'O...|110001|         11005|   ZONA DA MATA|       16|           22945|           0.0|         0|              0|          0|            null|                 null|                           14|                             2|\n",
            "|2020-04-11|   11|    RO| Norte|Alta Floresta D'O...|110001|         11005|   ZONA DA MATA|       15|           22945|           0.0|         0|              0|          0|            null|                 null|                            2|                             0|\n",
            "|2020-04-08|   11|    RO| Norte|Alta Floresta D'O...|110001|         11005|   ZONA DA MATA|       15|           22945|           0.0|         0|              0|          0|            null|                 null|                            0|                             0|\n",
            "|2020-04-01|   11|    RO| Norte|Alta Floresta D'O...|110001|         11005|   ZONA DA MATA|       14|           22945|           0.0|         0|              0|          0|            null|                 null|                            2|                             0|\n",
            "|2020-04-10|   11|    RO| Norte|Alta Floresta D'O...|110001|         11005|   ZONA DA MATA|       15|           22945|           0.0|         0|              0|          0|            null|                 null|                            8|                             0|\n",
            "|2020-04-13|   11|    RO| Norte|Alta Floresta D'O...|110001|         11005|   ZONA DA MATA|       16|           22945|           0.0|         0|              0|          0|            null|                 null|                           14|                             0|\n",
            "|2020-04-05|   11|    RO| Norte|Alta Floresta D'O...|110001|         11005|   ZONA DA MATA|       15|           22945|           0.0|         0|              0|          0|            null|                 null|                            2|                             0|\n",
            "|2020-03-27|   11|    RO| Norte|Alta Floresta D'O...|110001|         11005|   ZONA DA MATA|       13|           22945|           0.0|         0|              0|          0|            null|                 null|                            2|                             0|\n",
            "|2020-04-14|   11|    RO| Norte|Alta Floresta D'O...|110001|         11005|   ZONA DA MATA|       16|           22945|           0.0|         0|              0|          0|            null|                 null|                           44|                             0|\n",
            "|2020-04-15|   11|    RO| Norte|Alta Floresta D'O...|110001|         11005|   ZONA DA MATA|       16|           22945|           0.0|         0|              0|          0|            null|                 null|                           10|                             0|\n",
            "|2020-04-04|   11|    RO| Norte|Alta Floresta D'O...|110001|         11005|   ZONA DA MATA|       14|           22945|           0.0|         0|              0|          0|            null|                 null|                            2|                             0|\n",
            "|2020-04-07|   11|    RO| Norte|Alta Floresta D'O...|110001|         11005|   ZONA DA MATA|       15|           22945|           0.0|         0|              0|          0|            null|                 null|                            8|                             0|\n",
            "+----------+-----+------+------+--------------------+------+--------------+---------------+---------+----------------+--------------+----------+---------------+-----------+----------------+---------------------+-----------------------------+------------------------------+\n",
            "only showing top 20 rows\n",
            "\n"
          ]
        }
      ],
      "source": [
        "covid_total = covid_novo.join(covid_total_estados, [\"data\", \"coduf\",\"estado\"], how='left')\n",
        "\n",
        "covid_total.show()"
      ]
    },
    {
      "cell_type": "code",
      "execution_count": 27,
      "metadata": {
        "colab": {
          "base_uri": "https://localhost:8080/"
        },
        "id": "o744x6Ou3tHt",
        "outputId": "ff85483b-b89d-4aaf-f644-429d9cc6a498"
      },
      "outputs": [
        {
          "output_type": "stream",
          "name": "stdout",
          "text": [
            "+----------+-------+------+-----+--------------------+----------+-----------+-----------------------------+------------------------------+\n",
            "|      data| regiao|estado|coduf|           municipio|casosNovos|obitosNovos|casosNovos_diarios_por_estado|obitosNovos_diarios_por_estado|\n",
            "+----------+-------+------+-----+--------------------+----------+-----------+-----------------------------+------------------------------+\n",
            "|2022-08-09|Sudeste|    ES|   32|      Afonso Cláudio|         6|          0|                          651|                             7|\n",
            "|2022-08-09|Sudeste|    ES|   32|Conceição do Castelo|         0|          0|                          651|                             7|\n",
            "|2022-08-09|Sudeste|    ES|   32|        Águia Branca|         0|          0|                          651|                             7|\n",
            "|2022-08-09|Sudeste|    ES|   32|  Água Doce do Norte|         2|          0|                          651|                             7|\n",
            "|2022-08-09|Sudeste|    ES|   32|              Alegre|         1|          0|                          651|                             7|\n",
            "|2022-08-09|Sudeste|    ES|   32|      Alfredo Chaves|         5|          0|                          651|                             7|\n",
            "|2022-08-09|Sudeste|    ES|   32|       Alto Rio Novo|         0|          0|                          651|                             7|\n",
            "|2022-08-09|Sudeste|    ES|   32|            Anchieta|         2|          0|                          651|                             7|\n",
            "|2022-08-09|Sudeste|    ES|   32|              Apiacá|         6|          0|                          651|                             7|\n",
            "|2022-08-09|Sudeste|    ES|   32|             Aracruz|         4|          0|                          651|                             7|\n",
            "|2022-08-09|Sudeste|    ES|   32|     Atílio Vivacqua|         3|          0|                          651|                             7|\n",
            "|2022-08-09|Sudeste|    ES|   32|        Baixo Guandu|         0|          0|                          651|                             7|\n",
            "|2022-08-09|Sudeste|    ES|   32|Barra de São Fran...|         3|          0|                          651|                             7|\n",
            "|2022-08-09|Sudeste|    ES|   32|       Boa Esperança|         8|          0|                          651|                             7|\n",
            "|2022-08-09|Sudeste|    ES|   32|  Bom Jesus do Norte|         0|          0|                          651|                             7|\n",
            "|2022-08-09|Sudeste|    ES|   32|           Brejetuba|         1|          0|                          651|                             7|\n",
            "|2022-08-09|Sudeste|    ES|   32|Cachoeiro de Itap...|        16|          0|                          651|                             7|\n",
            "|2022-08-09|Sudeste|    ES|   32|           Cariacica|        33|          2|                          651|                             7|\n",
            "|2022-08-09|Sudeste|    ES|   32|             Castelo|         1|          0|                          651|                             7|\n",
            "|2022-08-09|Sudeste|    ES|   32|            Colatina|        10|          0|                          651|                             7|\n",
            "+----------+-------+------+-----+--------------------+----------+-----------+-----------------------------+------------------------------+\n",
            "only showing top 20 rows\n",
            "\n"
          ]
        }
      ],
      "source": [
        "municipios = covid_total.select(\"data\", \"regiao\", \"estado\", \"coduf\", \"municipio\",\"casosNovos\", \\\n",
        "                                \"obitosNovos\", \"casosNovos_diarios_por_estado\", \"obitosNovos_diarios_por_estado\")\n",
        "                              \n",
        "municipios.orderBy(col(\"data\").desc()).show()"
      ]
    },
    {
      "cell_type": "code",
      "execution_count": 28,
      "metadata": {
        "colab": {
          "base_uri": "https://localhost:8080/"
        },
        "id": "fOO9oQrF7WLn",
        "outputId": "29ec0745-afb4-4e60-a76d-582bfd20f9a4"
      },
      "outputs": [
        {
          "output_type": "stream",
          "name": "stdout",
          "text": [
            "+----------+-------+------+-----+--------------------+----------+-----------+-----------------------------+------------------------------+\n",
            "|      data| regiao|estado|coduf|           municipio|casosNovos|obitosNovos|casosNovos_diarios_por_estado|obitosNovos_diarios_por_estado|\n",
            "+----------+-------+------+-----+--------------------+----------+-----------+-----------------------------+------------------------------+\n",
            "|2022-08-09|Sudeste|    SP|   35|           Americana|         0|          1|                         5097|                            72|\n",
            "|2022-08-09|Sudeste|    SP|   35|              Altair|         1|          0|                         5097|                            72|\n",
            "|2022-08-09|Sudeste|    SP|   35|         Alvinlândia|         0|          0|                         5097|                            72|\n",
            "|2022-08-09|Sudeste|    SP|   35|Águas de Santa Bá...|         0|          0|                         5097|                            72|\n",
            "|2022-08-09|Sudeste|    SP|   35|   Alfredo Marcondes|         0|          0|                         5097|                            72|\n",
            "|2022-08-09|Sudeste|    SP|   35|            Alumínio|         0|          0|                         5097|                            72|\n",
            "|2022-08-09|Sudeste|    SP|   35|  Álvaro de Carvalho|         0|          0|                         5097|                            72|\n",
            "|2022-08-09|Sudeste|    SP|   35|              Adolfo|         0|          0|                         5097|                            72|\n",
            "|2022-08-09|Sudeste|    SP|   35|    Águas de Lindóia|         7|          0|                         5097|                            72|\n",
            "|2022-08-09|Sudeste|    SP|   35|              Agudos|         1|          0|                         5097|                            72|\n",
            "|2022-08-09|Sudeste|    SP|   35|            Alambari|         0|          0|                         5097|                            72|\n",
            "|2022-08-09|Sudeste|    SP|   35|         Altinópolis|         0|          0|                         5097|                            72|\n",
            "|2022-08-09|Sudeste|    SP|   35|         Alto Alegre|         0|          0|                         5097|                            72|\n",
            "|2022-08-09|Sudeste|    SP|   35|    Álvares Florence|         0|          0|                         5097|                            72|\n",
            "|2022-08-09|Sudeste|    SP|   35|     Álvares Machado|         4|          0|                         5097|                            72|\n",
            "|2022-08-09|Sudeste|    SP|   35|          Adamantina|        66|          0|                         5097|                            72|\n",
            "|2022-08-09|Sudeste|    SP|   35|   Américo de Campos|         0|          0|                         5097|                            72|\n",
            "|2022-08-09|Sudeste|    SP|   35|               Aguaí|        21|          1|                         5097|                            72|\n",
            "|2022-08-09|Sudeste|    SP|   35|      Águas da Prata|         0|          0|                         5097|                            72|\n",
            "|2022-08-09|Sudeste|    SP|   35|  Águas de São Pedro|         0|          0|                         5097|                            72|\n",
            "+----------+-------+------+-----+--------------------+----------+-----------+-----------------------------+------------------------------+\n",
            "only showing top 20 rows\n",
            "\n"
          ]
        }
      ],
      "source": [
        "municipios.orderBy(col(\"data\").desc(), col(\"casosNovos_diarios_por_estado\").desc()).show()"
      ]
    },
    {
      "cell_type": "code",
      "execution_count": 29,
      "metadata": {
        "colab": {
          "base_uri": "https://localhost:8080/"
        },
        "id": "S2dfRLzn5LrI",
        "outputId": "9b8f596b-3ac5-46ac-b57b-07210b30519a"
      },
      "outputs": [
        {
          "output_type": "stream",
          "name": "stdout",
          "text": [
            "+----------+------+-----+-----------------------------+------------------------------+\n",
            "|      data|estado|coduf|casosNovos_diarios_por_estado|obitosNovos_diarios_por_estado|\n",
            "+----------+------+-----+-----------------------------+------------------------------+\n",
            "|2022-08-09|    RJ|   33|                         2365|                            76|\n",
            "|2022-08-09|    SP|   35|                         5097|                            72|\n",
            "|2022-08-09|    PR|   41|                         4168|                            40|\n",
            "|2022-08-09|    MG|   31|                         2095|                            30|\n",
            "|2022-08-09|    MS|   50|                          539|                            23|\n",
            "|2022-08-09|    CE|   23|                          819|                            22|\n",
            "|2022-08-09|    RS|   43|                         3402|                            21|\n",
            "|2022-08-09|    BA|   29|                         1597|                            19|\n",
            "|2022-08-09|    GO|   52|                         1942|                            15|\n",
            "|2022-08-09|    SC|   42|                         1100|                            10|\n",
            "|2022-08-09|    ES|   32|                          651|                             7|\n",
            "|2022-08-09|    PE|   26|                          775|                             7|\n",
            "|2022-08-09|    PI|   22|                          621|                             6|\n",
            "|2022-08-09|    RN|   24|                          242|                             3|\n",
            "|2022-08-09|    MT|   51|                          740|                             3|\n",
            "|2022-08-09|    PA|   15|                          996|                             3|\n",
            "|2022-08-09|    PB|   25|                           18|                             2|\n",
            "|2022-08-09|    MA|   21|                          463|                             2|\n",
            "|2022-08-09|    DF|   53|                          375|                             1|\n",
            "|2022-08-09|    AL|   27|                           68|                             1|\n",
            "+----------+------+-----+-----------------------------+------------------------------+\n",
            "only showing top 20 rows\n",
            "\n"
          ]
        }
      ],
      "source": [
        "municipios.select(\"data\", \"estado\", \"coduf\", \"casosNovos_diarios_por_estado\", \"obitosNovos_diarios_por_estado\").distinct()\\\n",
        "          .orderBy(col(\"data\").desc(), col(\"obitosNovos_diarios_por_estado\").desc()).show()"
      ]
    },
    {
      "cell_type": "markdown",
      "source": [
        "#### Foram explorados valor máximo, mínimo e média de casos e obitos novos por município."
      ],
      "metadata": {
        "id": "-Dg7qmdPq73S"
      }
    },
    {
      "cell_type": "code",
      "execution_count": 30,
      "metadata": {
        "colab": {
          "base_uri": "https://localhost:8080/"
        },
        "id": "ACuGUAyfhyq4",
        "outputId": "87321f43-756f-400e-9f0d-6552bf4784af"
      },
      "outputs": [
        {
          "output_type": "stream",
          "name": "stdout",
          "text": [
            "+----------+------+-----+------------+------------------------+----------------------+----------------------+\n",
            "|      data|estado|coduf|      regiao|media_casos_Novos_estado|max_casos_Novos_estado|min_casos_Novos_estado|\n",
            "+----------+------+-----+------------+------------------------+----------------------+----------------------+\n",
            "|2022-01-31|    DF|   53|Centro-Oeste|                 11508.0|                 11508|                 11508|\n",
            "|2022-01-25|    DF|   53|Centro-Oeste|                 10697.0|                 10697|                 10697|\n",
            "|2022-06-20|    DF|   53|Centro-Oeste|                  9007.0|                  9007|                  9007|\n",
            "|2022-02-07|    DF|   53|Centro-Oeste|                  8773.0|                  8773|                  8773|\n",
            "|2022-06-13|    DF|   53|Centro-Oeste|                  8711.0|                  8711|                  8711|\n",
            "|2022-02-03|    DF|   53|Centro-Oeste|                  7086.0|                  7086|                  7086|\n",
            "|2022-06-17|    DF|   53|Centro-Oeste|                  7062.0|                  7062|                  7062|\n",
            "|2022-01-24|    DF|   53|Centro-Oeste|                  6976.0|                  6976|                  6976|\n",
            "|2022-06-06|    DF|   53|Centro-Oeste|                  6679.0|                  6679|                  6679|\n",
            "|2022-06-15|    DF|   53|Centro-Oeste|                  6305.0|                  6305|                  6305|\n",
            "|2022-02-04|    DF|   53|Centro-Oeste|                  6202.0|                  6202|                  6202|\n",
            "|2022-02-01|    DF|   53|Centro-Oeste|                  5798.0|                  5798|                  5798|\n",
            "|2022-06-27|    DF|   53|Centro-Oeste|                  5736.0|                  5736|                  5736|\n",
            "|2022-01-17|    DF|   53|Centro-Oeste|                  5648.0|                  5648|                  5648|\n",
            "|2022-02-14|    DF|   53|Centro-Oeste|                  5614.0|                  5614|                  5614|\n",
            "|2022-01-26|    DF|   53|Centro-Oeste|                  5485.0|                  5485|                  5485|\n",
            "|2022-01-28|    DF|   53|Centro-Oeste|                  5399.0|                  5399|                  5399|\n",
            "|2022-02-02|    DF|   53|Centro-Oeste|                  5382.0|                  5382|                  5382|\n",
            "|2022-01-27|    DF|   53|Centro-Oeste|                  5243.0|                  5243|                  5243|\n",
            "|2022-02-09|    DF|   53|Centro-Oeste|                  4924.0|                  4924|                  4924|\n",
            "+----------+------+-----+------------+------------------------+----------------------+----------------------+\n",
            "only showing top 20 rows\n",
            "\n",
            "+----------+------+-----+------------+-------------------------+-----------------------+-----------------------+\n",
            "|      data|estado|coduf|      regiao|media_obitos_Novos_estado|max_obitos_Novos_estado|min_obitos_Novos_estado|\n",
            "+----------+------+-----+------------+-------------------------+-----------------------+-----------------------+\n",
            "|2021-04-01|    DF|   53|Centro-Oeste|                    121.0|                    121|                    121|\n",
            "|2021-03-31|    DF|   53|Centro-Oeste|                    117.0|                    117|                    117|\n",
            "|2021-03-30|    DF|   53|Centro-Oeste|                     94.0|                     94|                     94|\n",
            "|2021-04-12|    DF|   53|Centro-Oeste|                     86.0|                     86|                     86|\n",
            "|2021-04-06|    DF|   53|Centro-Oeste|                     83.0|                     83|                     83|\n",
            "|2021-04-07|    DF|   53|Centro-Oeste|                     83.0|                     83|                     83|\n",
            "|2020-08-06|    DF|   53|Centro-Oeste|                     79.0|                     79|                     79|\n",
            "|2021-04-05|    DF|   53|Centro-Oeste|                     78.0|                     78|                     78|\n",
            "|2021-04-08|    DF|   53|Centro-Oeste|                     77.0|                     77|                     77|\n",
            "|2021-04-15|    DF|   53|Centro-Oeste|                     77.0|                     77|                     77|\n",
            "|2021-04-16|    DF|   53|Centro-Oeste|                     76.0|                     76|                     76|\n",
            "|2021-04-19|    DF|   53|Centro-Oeste|                     74.0|                     74|                     74|\n",
            "|2021-03-18|    DF|   53|Centro-Oeste|                     68.0|                     68|                     68|\n",
            "|2021-04-09|    DF|   53|Centro-Oeste|                     67.0|                     67|                     67|\n",
            "|2020-08-17|    DF|   53|Centro-Oeste|                     66.0|                     66|                     66|\n",
            "|2021-04-13|    DF|   53|Centro-Oeste|                     66.0|                     66|                     66|\n",
            "|2021-04-14|    DF|   53|Centro-Oeste|                     66.0|                     66|                     66|\n",
            "|2021-03-26|    DF|   53|Centro-Oeste|                     64.0|                     64|                     64|\n",
            "|2021-03-23|    DF|   53|Centro-Oeste|                     62.0|                     62|                     62|\n",
            "|2021-03-29|    DF|   53|Centro-Oeste|                     61.0|                     61|                     61|\n",
            "+----------+------+-----+------------+-------------------------+-----------------------+-----------------------+\n",
            "only showing top 20 rows\n",
            "\n"
          ]
        }
      ],
      "source": [
        "df_casos = municipios.groupBy(\"data\",\"estado\", \"coduf\", \"regiao\")\\\n",
        "                     .agg(round(avg(\"casosNovos\"), 2).alias(\"media_casos_Novos_estado\"),\\\n",
        "                          round(max(\"casosNovos\"), 2).alias(\"max_casos_Novos_estado\"),\\\n",
        "                          round(min(\"casosNovos\"), 2).alias(\"min_casos_Novos_estado\"))\\\n",
        "                     .sort(col(\"media_casos_Novos_estado\").desc())\n",
        "              \n",
        "\n",
        "df_obitos= municipios.groupBy(\"data\",\"estado\", \"coduf\", \"regiao\")\\\n",
        "                     .agg(round(avg(\"obitosNovos\"), 2).alias(\"media_obitos_Novos_estado\"),\\\n",
        "                          round(max(\"obitosNovos\"), 2).alias(\"max_obitos_Novos_estado\"),\\\n",
        "                          round(min(\"obitosNovos\"), 2).alias(\"min_obitos_Novos_estado\"))\\\n",
        "                     .sort(col(\"media_obitos_Novos_estado\").desc())\n",
        "              \n",
        "\n",
        "df_casos.show()\n",
        "df_obitos.show()"
      ]
    },
    {
      "cell_type": "markdown",
      "source": [
        "####Foi realizada a soma do valor total de casos novos e óbitos por região considerando o tempo total."
      ],
      "metadata": {
        "id": "WNfQtwAdsK7g"
      }
    },
    {
      "cell_type": "code",
      "execution_count": 31,
      "metadata": {
        "colab": {
          "base_uri": "https://localhost:8080/"
        },
        "id": "vAlkcjs7uvcx",
        "outputId": "153bf3c7-0768-413d-fd71-2be73ca94d3b"
      },
      "outputs": [
        {
          "output_type": "stream",
          "name": "stdout",
          "text": [
            "+------------+------------+\n",
            "|     Regioes|total_obitos|\n",
            "+------------+------------+\n",
            "|     Sudeste|      736392|\n",
            "|    Nordeste|      319672|\n",
            "|         Sul|      224856|\n",
            "|Centro-Oeste|      140066|\n",
            "|       Norte|      125026|\n",
            "+------------+------------+\n",
            "\n",
            "+------------+-----------+\n",
            "|      regiao|total_casos|\n",
            "+------------+-----------+\n",
            "|     Sudeste|   28775294|\n",
            "|    Nordeste|   15290244|\n",
            "|         Sul|   14903626|\n",
            "|Centro-Oeste|    8239030|\n",
            "|       Norte|    6248776|\n",
            "+------------+-----------+\n",
            "\n"
          ]
        }
      ],
      "source": [
        "regiao_ob = regiao.drop(\"data\")\\\n",
        "                  .groupby(\"regiao\")\\\n",
        "                  .agg(sum(\"obitosNovos\").alias(\"total_obitos\"))\\\n",
        "                  .filter(column(\"total_obitos\") >= 0)\\\n",
        "                  .sort(col(\"total_obitos\").desc())\\\n",
        "                  .withColumnRenamed(\"regiao\",\"Regioes\")\n",
        "\n",
        "regiao_cs = regiao.drop(\"data\")\\\n",
        "                  .groupby(\"regiao\")\\\n",
        "                  .agg(sum(\"casosNovos\").alias(\"total_casos\"))\\\n",
        "                  .filter(column(\"total_casos\") >= 0)\\\n",
        "                  .sort(col(\"total_casos\").desc())\n",
        "regiao_ob.show()\n",
        "regiao_cs.show()"
      ]
    },
    {
      "cell_type": "code",
      "execution_count": 32,
      "metadata": {
        "id": "021xlOec9Y2w"
      },
      "outputs": [],
      "source": [
        "poluicao_ar = spark.read.format('csv')\\\n",
        "                        .options(header='true',\\\n",
        "                                 inferschema='true')\\\n",
        "                   .load(f'{caminho_local}/poluicao.csv',header=True)"
      ]
    },
    {
      "cell_type": "code",
      "execution_count": 33,
      "metadata": {
        "colab": {
          "base_uri": "https://localhost:8080/"
        },
        "id": "aEkrfHnsYRgU",
        "outputId": "60e1e889-99b2-4fd3-f242-e617e90966cf"
      },
      "outputs": [
        {
          "output_type": "stream",
          "name": "stdout",
          "text": [
            "Dados de 2020\n",
            "+------------+--------------------+\n",
            "|      Regiao|Total_Poluicao_do_ar|\n",
            "+------------+--------------------+\n",
            "|    Nordeste|               126.0|\n",
            "|     Sudeste|                92.0|\n",
            "|       Norte|                53.0|\n",
            "|         Sul|                46.0|\n",
            "|Centro-Oeste|                36.0|\n",
            "+------------+--------------------+\n",
            "\n"
          ]
        }
      ],
      "source": [
        "print(\"Dados de 2020\")\n",
        "poluicao = poluicao_ar.sort(col(\"Total_Poluicao_do_ar\").desc())\n",
        "\n",
        "poluicao.show()"
      ]
    },
    {
      "cell_type": "code",
      "execution_count": 34,
      "metadata": {
        "colab": {
          "base_uri": "https://localhost:8080/"
        },
        "id": "B7mqy8q6hJYf",
        "outputId": "5090f035-ba4c-47ca-be8d-3be95fbe7bb7"
      },
      "outputs": [
        {
          "output_type": "stream",
          "name": "stdout",
          "text": [
            "+-------------------+----------------+----------------+\n",
            "|             Estado|1_trimestre_2020|2_trimestre_2022|\n",
            "+-------------------+----------------+----------------+\n",
            "|           Rondônia|              76|              52|\n",
            "|               Acre|              47|              45|\n",
            "|           Amazonas|             279|             203|\n",
            "|            Roraima|              42|              16|\n",
            "|               Pará|             417|             377|\n",
            "|              Amapá|              67|              48|\n",
            "|          Tocantins|              84|              43|\n",
            "|           Maranhão|             431|             299|\n",
            "|              Piauí|             202|             135|\n",
            "|              Ceará|             513|             412|\n",
            "|Rio Grande do Norte|             244|             188|\n",
            "|            Paraíba|             232|             203|\n",
            "|         Pernambuco|             611|             578|\n",
            "|            Alagoas|             204|             149|\n",
            "|            Sergipe|             171|             140|\n",
            "|              Bahia|            1333|            1104|\n",
            "|       Minas Gerais|            1320|             828|\n",
            "|     Espírito Santo|             243|             174|\n",
            "|     Rio de Janeiro|            1313|            1130|\n",
            "|          São Paulo|            3151|            2404|\n",
            "|             Paraná|             487|             374|\n",
            "|     Santa Catarina|             223|             160|\n",
            "|  Rio Grande do Sul|             529|             387|\n",
            "| Mato Grosso do Sul|             111|              75|\n",
            "|        Mato Grosso|             158|              82|\n",
            "|              Goiás|             434|             270|\n",
            "|   Distrito Federal|             228|             205|\n",
            "+-------------------+----------------+----------------+\n",
            "\n"
          ]
        }
      ],
      "source": [
        "desemprego = spark.read.format('csv')\\\n",
        "                       .options(header='true',\\\n",
        "                                inferschema='true')\\\n",
        "                       .load(f'{caminho_local}/desemprego.csv',header=True)\n",
        "\n",
        "desemprego.show(50)\n"
      ]
    },
    {
      "cell_type": "markdown",
      "source": [
        "#### Foram alterados os valores da coluna Estado no dataframe de desemprego, de nome do estado para a sigla do estado para futura comparação com os dados de Covid."
      ],
      "metadata": {
        "id": "qV6k7Vp1YkVx"
      }
    },
    {
      "cell_type": "code",
      "execution_count": 35,
      "metadata": {
        "colab": {
          "base_uri": "https://localhost:8080/"
        },
        "id": "XBpEfSagK8U_",
        "outputId": "0a088fd9-c251-4ab0-ae94-1522ff0539ba"
      },
      "outputs": [
        {
          "output_type": "stream",
          "name": "stdout",
          "text": [
            "+------+----------------+----------------+\n",
            "|Estado|1_trimestre_2020|2_trimestre_2022|\n",
            "+------+----------------+----------------+\n",
            "|    RO|              76|              52|\n",
            "|    AC|              47|              45|\n",
            "|    AM|             279|             203|\n",
            "|    RR|              42|              16|\n",
            "|    PA|             417|             377|\n",
            "|    AP|              67|              48|\n",
            "|    TO|              84|              43|\n",
            "|    MA|             431|             299|\n",
            "|    PI|             202|             135|\n",
            "|    CE|             513|             412|\n",
            "|    RN|             244|             188|\n",
            "|    PB|             232|             203|\n",
            "|    PE|             611|             578|\n",
            "|    AL|             204|             149|\n",
            "|    SE|             171|             140|\n",
            "|    BA|            1333|            1104|\n",
            "|    MG|            1320|             828|\n",
            "|    ES|             243|             174|\n",
            "|    RJ|            1313|            1130|\n",
            "|    SP|            3151|            2404|\n",
            "|    PR|             487|             374|\n",
            "|    SC|             223|             160|\n",
            "|    RS|             529|             387|\n",
            "|    MS|             111|              75|\n",
            "|    MT|             158|              82|\n",
            "|    GO|             434|             270|\n",
            "|    DF|             228|             205|\n",
            "+------+----------------+----------------+\n",
            "\n"
          ]
        }
      ],
      "source": [
        "desemprego = desemprego.withColumn('Estado',\\\n",
        "                                   regexp_replace('Estado', 'Rondônia', 'RO'))\\\n",
        "                       .withColumn('Estado',\\\n",
        "                                   regexp_replace('Estado', 'Acre', 'AC'))\\\n",
        "                       .withColumn('Estado',\\\n",
        "                                   regexp_replace('Estado', 'Amazonas', 'AM'))\\\n",
        "                       .withColumn('Estado',\\\n",
        "                                   regexp_replace('Estado', 'Roraima', 'RR'))\\\n",
        "                       .withColumn('Estado',\\\n",
        "                                   regexp_replace('Estado', 'Pará', 'PA'))\\\n",
        "                       .withColumn('Estado',\\\n",
        "                                   regexp_replace('Estado', 'Amapá', 'AP'))\\\n",
        "                       .withColumn('Estado',\\\n",
        "                                   regexp_replace('Estado', 'Tocantins', 'TO'))\\\n",
        "                       .withColumn('Estado',\\\n",
        "                                   regexp_replace('Estado', 'Maranhão', 'MA'))\\\n",
        "                       .withColumn('Estado',\\\n",
        "                                   regexp_replace('Estado', 'Piauí', 'PI'))\\\n",
        "                       .withColumn('Estado',\\\n",
        "                                   regexp_replace('Estado', 'Ceará', 'CE'))\\\n",
        "                       .withColumn('Estado',\\\n",
        "                                   regexp_replace('Estado', 'Rio Grande do Norte', 'RN'))\\\n",
        "                       .withColumn('Estado',\\\n",
        "                                   regexp_replace('Estado', 'Paraíba', 'PB'))\\\n",
        "                       .withColumn('Estado',\\\n",
        "                                   regexp_replace('Estado', 'Pernambuco', 'PE'))\\\n",
        "                       .withColumn('Estado',\\\n",
        "                                   regexp_replace('Estado', 'Alagoas', 'AL'))\\\n",
        "                       .withColumn('Estado',\\\n",
        "                                   regexp_replace('Estado', 'Sergipe', 'SE'))\\\n",
        "                       .withColumn('Estado',\\\n",
        "                                   regexp_replace('Estado', 'Bahia', 'BA'))\\\n",
        "                       .withColumn('Estado',\\\n",
        "                                   regexp_replace('Estado', 'Minas Gerais', 'MG'))\\\n",
        "                       .withColumn('Estado',\\\n",
        "                                   regexp_replace('Estado', 'Espírito Santo', 'ES'))\\\n",
        "                       .withColumn('Estado',\\\n",
        "                                   regexp_replace('Estado', 'Rio de Janeiro', 'RJ'))\\\n",
        "                       .withColumn('Estado',\\\n",
        "                                   regexp_replace('Estado', 'São Paulo', 'SP'))\\\n",
        "                       .withColumn('Estado',\\\n",
        "                                   regexp_replace('Estado', 'Paraná', 'PR'))\\\n",
        "                       .withColumn('Estado',\\\n",
        "                                   regexp_replace('Estado', 'Santa Catarina', 'SC'))\\\n",
        "                       .withColumn('Estado',\\\n",
        "                                   regexp_replace('Estado', 'Rio Grande do Sul', 'RS' ))\\\n",
        "                       .withColumn('Estado',\\\n",
        "                                   regexp_replace('Estado', 'Mato Grosso do Sul', 'MS'))\\\n",
        "                       .withColumn('Estado',\\\n",
        "                                   regexp_replace('Estado', 'Mato Grosso', 'MT'))\\\n",
        "                       .withColumn('Estado',\\\n",
        "                                   regexp_replace('Estado', 'Goiás', 'GO'))\\\n",
        "                       .withColumn('Estado',\\\n",
        "                                   regexp_replace('Estado', 'Distrito Federal', 'DF'))\\\n",
        "\n",
        "desemprego.show(27)"
      ]
    },
    {
      "cell_type": "code",
      "execution_count": 36,
      "metadata": {
        "colab": {
          "base_uri": "https://localhost:8080/"
        },
        "id": "DkPQfCithNBO",
        "outputId": "87e66d42-0dcc-4e76-c99d-f1c09bf843d8"
      },
      "outputs": [
        {
          "output_type": "stream",
          "name": "stdout",
          "text": [
            "Pessoas desempregadas na semana da pesquisa(Mil pessoas)\n",
            "+------+----------------+----------------+\n",
            "|Estado|1_trimestre_2020|2_trimestre_2022|\n",
            "+------+----------------+----------------+\n",
            "|    SP|            3151|            2404|\n",
            "|    BA|            1333|            1104|\n",
            "|    MG|            1320|             828|\n",
            "|    RJ|            1313|            1130|\n",
            "|    PE|             611|             578|\n",
            "|    RS|             529|             387|\n",
            "|    CE|             513|             412|\n",
            "|    PR|             487|             374|\n",
            "|    GO|             434|             270|\n",
            "|    MA|             431|             299|\n",
            "|    PA|             417|             377|\n",
            "|    AM|             279|             203|\n",
            "|    RN|             244|             188|\n",
            "|    ES|             243|             174|\n",
            "|    PB|             232|             203|\n",
            "|    DF|             228|             205|\n",
            "|    SC|             223|             160|\n",
            "|    AL|             204|             149|\n",
            "|    PI|             202|             135|\n",
            "|    SE|             171|             140|\n",
            "+------+----------------+----------------+\n",
            "only showing top 20 rows\n",
            "\n"
          ]
        }
      ],
      "source": [
        "print(\"Pessoas desempregadas na semana da pesquisa(Mil pessoas)\")\n",
        "desemprego20 = desemprego.sort(col(\"1_trimestre_2020\").desc())\n",
        "\n",
        "desemprego20.show()"
      ]
    },
    {
      "cell_type": "code",
      "execution_count": 37,
      "metadata": {
        "colab": {
          "base_uri": "https://localhost:8080/"
        },
        "id": "DHIKcTXKLhZ_",
        "outputId": "c32bd6c7-7244-4cbd-bcfa-a928260ab78c"
      },
      "outputs": [
        {
          "output_type": "stream",
          "name": "stdout",
          "text": [
            "Pessoas desempregadas na semana da pesquisa(Mil pessoas)\n",
            "+------+----------------+----------------+\n",
            "|Estado|1_trimestre_2020|2_trimestre_2022|\n",
            "+------+----------------+----------------+\n",
            "|    SP|            3151|            2404|\n",
            "|    RJ|            1313|            1130|\n",
            "|    BA|            1333|            1104|\n",
            "|    MG|            1320|             828|\n",
            "|    PE|             611|             578|\n",
            "|    CE|             513|             412|\n",
            "|    RS|             529|             387|\n",
            "|    PA|             417|             377|\n",
            "|    PR|             487|             374|\n",
            "|    MA|             431|             299|\n",
            "|    GO|             434|             270|\n",
            "|    DF|             228|             205|\n",
            "|    AM|             279|             203|\n",
            "|    PB|             232|             203|\n",
            "|    RN|             244|             188|\n",
            "|    ES|             243|             174|\n",
            "|    SC|             223|             160|\n",
            "|    AL|             204|             149|\n",
            "|    SE|             171|             140|\n",
            "|    PI|             202|             135|\n",
            "+------+----------------+----------------+\n",
            "only showing top 20 rows\n",
            "\n"
          ]
        }
      ],
      "source": [
        "print(\"Pessoas desempregadas na semana da pesquisa(Mil pessoas)\")\n",
        "desemprego22 = desemprego.sort(col(\"2_trimestre_2022\").desc())\n",
        "\n",
        "desemprego22.show()"
      ]
    },
    {
      "cell_type": "markdown",
      "source": [
        "####Foi realizada a soma do valor total de casos novos e óbitos por região considerando o tempo total."
      ],
      "metadata": {
        "id": "DOZHCq_4wY9u"
      }
    },
    {
      "cell_type": "code",
      "execution_count": 38,
      "metadata": {
        "colab": {
          "base_uri": "https://localhost:8080/"
        },
        "id": "PQLCRp2jYcH_",
        "outputId": "07c14170-1c3a-48c2-c2f5-28c57582bb09"
      },
      "outputs": [
        {
          "output_type": "stream",
          "name": "stdout",
          "text": [
            "+-------+------------+\n",
            "|Estados|total_obitos|\n",
            "+-------+------------+\n",
            "|     SP|      196415|\n",
            "|     RJ|       88566|\n",
            "|     MG|       66390|\n",
            "|     PR|       46868|\n",
            "|     RS|       42446|\n",
            "|     CE|       35142|\n",
            "|     BA|       34321|\n",
            "|     GO|       28902|\n",
            "|     PE|       28701|\n",
            "|     PA|       24301|\n",
            "|     SC|       23378|\n",
            "|     ES|       17569|\n",
            "|     AM|       17507|\n",
            "|     MT|       16716|\n",
            "|     MA|       13969|\n",
            "|     DF|       13292|\n",
            "|     PB|       12187|\n",
            "|     MS|       11123|\n",
            "|     RN|       10193|\n",
            "|     PI|        9237|\n",
            "+-------+------------+\n",
            "only showing top 20 rows\n",
            "\n"
          ]
        }
      ],
      "source": [
        "estado_total_ob = estados.drop(\"data\")\\\n",
        "                         .groupby(\"estado\")\\\n",
        "                         .agg(sum(\"obitosNovos\").alias(\"total_obitos\"))\\\n",
        "                         .filter(column(\"total_obitos\") >= 0)\\\n",
        "                         .sort(col(\"total_obitos\").desc())\\\n",
        "                         .withColumnRenamed(\"estado\",\"Estados\")\n",
        "                \n",
        "estado_total_ob.show()"
      ]
    },
    {
      "cell_type": "code",
      "execution_count": 39,
      "metadata": {
        "id": "b0edVW-PKmoS"
      },
      "outputs": [],
      "source": [
        "estado_total_cs = estados.drop(\"data\")\\\n",
        "                         .groupby(\"estado\")\\\n",
        "                         .agg(sum(\"casosNovos\").alias(\"total_casos\"))\\\n",
        "                         .filter(column(\"total_casos\") >= 0)\\\n",
        "                         .sort(col(\"total_casos\").desc())\n",
        "\n",
        "#soma = estado_total_cs.groupBy().agg(f.sum(f.col(\"total_casos\")))\n",
        "\n",
        "# estado_total_cs =estado_total_cs.withColumn('total_br', sum(\"total_casos\"))\n",
        "                \n",
        "# estado_total_cs.show()"
      ]
    },
    {
      "cell_type": "code",
      "source": [
        "covid_total2 = covid_total.join(estado_total_cs, [\"estado\"], how='left')\\\n",
        "                          .join(estado_total_ob, covid_total.estado ==  estado_total_ob.Estados, how='left')\\\n",
        "                          .drop(estado_total_ob.Estados)\n",
        "\n",
        "covid_total2.show()"
      ],
      "metadata": {
        "colab": {
          "base_uri": "https://localhost:8080/"
        },
        "id": "358jKWLSvrnK",
        "outputId": "3a920cd6-a1e9-4f91-d88a-4d66319aab85"
      },
      "execution_count": 40,
      "outputs": [
        {
          "output_type": "stream",
          "name": "stdout",
          "text": [
            "+------+----------+-----+------+--------------------+------+--------------+---------------+---------+----------------+--------------+----------+---------------+-----------+----------------+---------------------+-----------------------------+------------------------------+-----------+------------+\n",
            "|estado|      data|coduf|regiao|           municipio|codmun|codRegiaoSaude|nomeRegiaoSaude|semanaEpi|populacaoTCU2019|casosAcumulado|casosNovos|obitosAcumulado|obitosNovos|Recuperadosnovos|emAcompanhamentoNovos|casosNovos_diarios_por_estado|obitosNovos_diarios_por_estado|total_casos|total_obitos|\n",
            "+------+----------+-----+------+--------------------+------+--------------+---------------+---------+----------------+--------------+----------+---------------+-----------+----------------+---------------------+-----------------------------+------------------------------+-----------+------------+\n",
            "|    RO|2020-04-03|   11| Norte|Alta Floresta D'O...|110001|         11005|   ZONA DA MATA|       14|           22945|           0.0|         0|              0|          0|            null|                 null|                            0|                             0|     488322|        8199|\n",
            "|    RO|2020-04-02|   11| Norte|Alta Floresta D'O...|110001|         11005|   ZONA DA MATA|       14|           22945|           0.0|         0|              0|          0|            null|                 null|                            2|                             0|     488322|        8199|\n",
            "|    RO|2020-03-30|   11| Norte|Alta Floresta D'O...|110001|         11005|   ZONA DA MATA|       14|           22945|           0.0|         0|              0|          0|            null|                 null|                            0|                             0|     488322|        8199|\n",
            "|    RO|2020-04-09|   11| Norte|Alta Floresta D'O...|110001|         11005|   ZONA DA MATA|       15|           22945|           0.0|         0|              0|          0|            null|                 null|                           20|                             2|     488322|        8199|\n",
            "|    RO|2020-04-06|   11| Norte|Alta Floresta D'O...|110001|         11005|   ZONA DA MATA|       15|           22945|           0.0|         0|              0|          0|            null|                 null|                            4|                             0|     488322|        8199|\n",
            "|    RO|2020-03-31|   11| Norte|Alta Floresta D'O...|110001|         11005|   ZONA DA MATA|       14|           22945|           0.0|         0|              0|          0|            null|                 null|                            4|                             2|     488322|        8199|\n",
            "|    RO|2020-03-29|   11| Norte|Alta Floresta D'O...|110001|         11005|   ZONA DA MATA|       14|           22945|           0.0|         0|              0|          0|            null|                 null|                            0|                             0|     488322|        8199|\n",
            "|    RO|2020-03-28|   11| Norte|Alta Floresta D'O...|110001|         11005|   ZONA DA MATA|       13|           22945|           0.0|         0|              0|          0|            null|                 null|                            0|                             0|     488322|        8199|\n",
            "|    RO|2020-04-16|   11| Norte|Alta Floresta D'O...|110001|         11005|   ZONA DA MATA|       16|           22945|           0.0|         0|              0|          0|            null|                 null|                           14|                             2|     488322|        8199|\n",
            "|    RO|2020-04-11|   11| Norte|Alta Floresta D'O...|110001|         11005|   ZONA DA MATA|       15|           22945|           0.0|         0|              0|          0|            null|                 null|                            2|                             0|     488322|        8199|\n",
            "|    RO|2020-04-08|   11| Norte|Alta Floresta D'O...|110001|         11005|   ZONA DA MATA|       15|           22945|           0.0|         0|              0|          0|            null|                 null|                            0|                             0|     488322|        8199|\n",
            "|    RO|2020-04-01|   11| Norte|Alta Floresta D'O...|110001|         11005|   ZONA DA MATA|       14|           22945|           0.0|         0|              0|          0|            null|                 null|                            2|                             0|     488322|        8199|\n",
            "|    RO|2020-04-10|   11| Norte|Alta Floresta D'O...|110001|         11005|   ZONA DA MATA|       15|           22945|           0.0|         0|              0|          0|            null|                 null|                            8|                             0|     488322|        8199|\n",
            "|    RO|2020-04-13|   11| Norte|Alta Floresta D'O...|110001|         11005|   ZONA DA MATA|       16|           22945|           0.0|         0|              0|          0|            null|                 null|                           14|                             0|     488322|        8199|\n",
            "|    RO|2020-04-05|   11| Norte|Alta Floresta D'O...|110001|         11005|   ZONA DA MATA|       15|           22945|           0.0|         0|              0|          0|            null|                 null|                            2|                             0|     488322|        8199|\n",
            "|    RO|2020-03-27|   11| Norte|Alta Floresta D'O...|110001|         11005|   ZONA DA MATA|       13|           22945|           0.0|         0|              0|          0|            null|                 null|                            2|                             0|     488322|        8199|\n",
            "|    RO|2020-04-14|   11| Norte|Alta Floresta D'O...|110001|         11005|   ZONA DA MATA|       16|           22945|           0.0|         0|              0|          0|            null|                 null|                           44|                             0|     488322|        8199|\n",
            "|    RO|2020-04-15|   11| Norte|Alta Floresta D'O...|110001|         11005|   ZONA DA MATA|       16|           22945|           0.0|         0|              0|          0|            null|                 null|                           10|                             0|     488322|        8199|\n",
            "|    RO|2020-04-04|   11| Norte|Alta Floresta D'O...|110001|         11005|   ZONA DA MATA|       14|           22945|           0.0|         0|              0|          0|            null|                 null|                            2|                             0|     488322|        8199|\n",
            "|    RO|2020-04-07|   11| Norte|Alta Floresta D'O...|110001|         11005|   ZONA DA MATA|       15|           22945|           0.0|         0|              0|          0|            null|                 null|                            8|                             0|     488322|        8199|\n",
            "+------+----------+-----+------+--------------------+------+--------------+---------------+---------+----------------+--------------+----------+---------------+-----------+----------------+---------------------+-----------------------------+------------------------------+-----------+------------+\n",
            "only showing top 20 rows\n",
            "\n"
          ]
        }
      ]
    },
    {
      "cell_type": "markdown",
      "source": [
        "#### Demostração dos dados em gráfico."
      ],
      "metadata": {
        "id": "eXUCItyQwtJI"
      }
    },
    {
      "cell_type": "code",
      "execution_count": 41,
      "metadata": {
        "id": "ETGqGTVjIYj3"
      },
      "outputs": [],
      "source": [
        "graf = estado_total_ob.join(desemprego20, estado_total_ob.Estados == desemprego.Estado, \"inner\")\\\n",
        "                      .drop(\"Estado\")\n",
        "graf = graf.toPandas()"
      ]
    },
    {
      "cell_type": "code",
      "execution_count": 42,
      "metadata": {
        "colab": {
          "base_uri": "https://localhost:8080/",
          "height": 1000
        },
        "id": "wdZuDgUYvC8I",
        "outputId": "850c754a-5024-4a85-f140-50433d426be8"
      },
      "outputs": [
        {
          "output_type": "display_data",
          "data": {
            "text/html": [
              "<html>\n",
              "<head><meta charset=\"utf-8\" /></head>\n",
              "<body>\n",
              "    <div>            <script src=\"https://cdnjs.cloudflare.com/ajax/libs/mathjax/2.7.5/MathJax.js?config=TeX-AMS-MML_SVG\"></script><script type=\"text/javascript\">if (window.MathJax) {MathJax.Hub.Config({SVG: {font: \"STIX-Web\"}});}</script>                <script type=\"text/javascript\">window.PlotlyConfig = {MathJaxConfig: 'local'};</script>\n",
              "        <script src=\"https://cdn.plot.ly/plotly-2.8.3.min.js\"></script>                <div id=\"f1078bce-920c-4bd3-8ae8-dd65deabc901\" class=\"plotly-graph-div\" style=\"height:525px; width:100%;\"></div>            <script type=\"text/javascript\">                                    window.PLOTLYENV=window.PLOTLYENV || {};                                    if (document.getElementById(\"f1078bce-920c-4bd3-8ae8-dd65deabc901\")) {                    Plotly.newPlot(                        \"f1078bce-920c-4bd3-8ae8-dd65deabc901\",                        [{\"alignmentgroup\":\"True\",\"hovertemplate\":\"variable=total_obitos<br>Estados=%{x}<br>value=%{y}<extra></extra>\",\"legendgroup\":\"total_obitos\",\"marker\":{\"color\":\"#636efa\",\"pattern\":{\"shape\":\"\"}},\"name\":\"total_obitos\",\"offsetgroup\":\"total_obitos\",\"orientation\":\"v\",\"showlegend\":true,\"textposition\":\"auto\",\"texttemplate\":\"%{y:.2s}\",\"x\":[\"SC\",\"RO\",\"PI\",\"AM\",\"RR\",\"GO\",\"TO\",\"MT\",\"SP\",\"PB\",\"ES\",\"RS\",\"MS\",\"AL\",\"MG\",\"PA\",\"BA\",\"SE\",\"PE\",\"CE\",\"RN\",\"RJ\",\"MA\",\"AC\",\"DF\",\"PR\",\"AP\"],\"xaxis\":\"x\",\"y\":[23378,8199,9237,17507,2689,28902,4570,16716,196415,12187,17569,42446,11123,8668,66390,24301,34321,7854,28701,35142,10193,88566,13969,2552,13292,46868,2718],\"yaxis\":\"y\",\"type\":\"bar\"},{\"alignmentgroup\":\"True\",\"hovertemplate\":\"variable=1_trimestre_2020<br>Estados=%{x}<br>value=%{y}<extra></extra>\",\"legendgroup\":\"1_trimestre_2020\",\"marker\":{\"color\":\"#EF553B\",\"pattern\":{\"shape\":\"\"}},\"name\":\"1_trimestre_2020\",\"offsetgroup\":\"1_trimestre_2020\",\"orientation\":\"v\",\"showlegend\":true,\"textposition\":\"auto\",\"texttemplate\":\"%{y:.2s}\",\"x\":[\"SC\",\"RO\",\"PI\",\"AM\",\"RR\",\"GO\",\"TO\",\"MT\",\"SP\",\"PB\",\"ES\",\"RS\",\"MS\",\"AL\",\"MG\",\"PA\",\"BA\",\"SE\",\"PE\",\"CE\",\"RN\",\"RJ\",\"MA\",\"AC\",\"DF\",\"PR\",\"AP\"],\"xaxis\":\"x\",\"y\":[223,76,202,279,42,434,84,158,3151,232,243,529,111,204,1320,417,1333,171,611,513,244,1313,431,47,228,487,67],\"yaxis\":\"y\",\"type\":\"bar\"},{\"alignmentgroup\":\"True\",\"hovertemplate\":\"variable=2_trimestre_2022<br>Estados=%{x}<br>value=%{y}<extra></extra>\",\"legendgroup\":\"2_trimestre_2022\",\"marker\":{\"color\":\"#00cc96\",\"pattern\":{\"shape\":\"\"}},\"name\":\"2_trimestre_2022\",\"offsetgroup\":\"2_trimestre_2022\",\"orientation\":\"v\",\"showlegend\":true,\"textposition\":\"auto\",\"texttemplate\":\"%{y:.2s}\",\"x\":[\"SC\",\"RO\",\"PI\",\"AM\",\"RR\",\"GO\",\"TO\",\"MT\",\"SP\",\"PB\",\"ES\",\"RS\",\"MS\",\"AL\",\"MG\",\"PA\",\"BA\",\"SE\",\"PE\",\"CE\",\"RN\",\"RJ\",\"MA\",\"AC\",\"DF\",\"PR\",\"AP\"],\"xaxis\":\"x\",\"y\":[160,52,135,203,16,270,43,82,2404,203,174,387,75,149,828,377,1104,140,578,412,188,1130,299,45,205,374,48],\"yaxis\":\"y\",\"type\":\"bar\"}],                        {\"template\":{\"data\":{\"bar\":[{\"error_x\":{\"color\":\"#2a3f5f\"},\"error_y\":{\"color\":\"#2a3f5f\"},\"marker\":{\"line\":{\"color\":\"#E5ECF6\",\"width\":0.5},\"pattern\":{\"fillmode\":\"overlay\",\"size\":10,\"solidity\":0.2}},\"type\":\"bar\"}],\"barpolar\":[{\"marker\":{\"line\":{\"color\":\"#E5ECF6\",\"width\":0.5},\"pattern\":{\"fillmode\":\"overlay\",\"size\":10,\"solidity\":0.2}},\"type\":\"barpolar\"}],\"carpet\":[{\"aaxis\":{\"endlinecolor\":\"#2a3f5f\",\"gridcolor\":\"white\",\"linecolor\":\"white\",\"minorgridcolor\":\"white\",\"startlinecolor\":\"#2a3f5f\"},\"baxis\":{\"endlinecolor\":\"#2a3f5f\",\"gridcolor\":\"white\",\"linecolor\":\"white\",\"minorgridcolor\":\"white\",\"startlinecolor\":\"#2a3f5f\"},\"type\":\"carpet\"}],\"choropleth\":[{\"colorbar\":{\"outlinewidth\":0,\"ticks\":\"\"},\"type\":\"choropleth\"}],\"contour\":[{\"colorbar\":{\"outlinewidth\":0,\"ticks\":\"\"},\"colorscale\":[[0.0,\"#0d0887\"],[0.1111111111111111,\"#46039f\"],[0.2222222222222222,\"#7201a8\"],[0.3333333333333333,\"#9c179e\"],[0.4444444444444444,\"#bd3786\"],[0.5555555555555556,\"#d8576b\"],[0.6666666666666666,\"#ed7953\"],[0.7777777777777778,\"#fb9f3a\"],[0.8888888888888888,\"#fdca26\"],[1.0,\"#f0f921\"]],\"type\":\"contour\"}],\"contourcarpet\":[{\"colorbar\":{\"outlinewidth\":0,\"ticks\":\"\"},\"type\":\"contourcarpet\"}],\"heatmap\":[{\"colorbar\":{\"outlinewidth\":0,\"ticks\":\"\"},\"colorscale\":[[0.0,\"#0d0887\"],[0.1111111111111111,\"#46039f\"],[0.2222222222222222,\"#7201a8\"],[0.3333333333333333,\"#9c179e\"],[0.4444444444444444,\"#bd3786\"],[0.5555555555555556,\"#d8576b\"],[0.6666666666666666,\"#ed7953\"],[0.7777777777777778,\"#fb9f3a\"],[0.8888888888888888,\"#fdca26\"],[1.0,\"#f0f921\"]],\"type\":\"heatmap\"}],\"heatmapgl\":[{\"colorbar\":{\"outlinewidth\":0,\"ticks\":\"\"},\"colorscale\":[[0.0,\"#0d0887\"],[0.1111111111111111,\"#46039f\"],[0.2222222222222222,\"#7201a8\"],[0.3333333333333333,\"#9c179e\"],[0.4444444444444444,\"#bd3786\"],[0.5555555555555556,\"#d8576b\"],[0.6666666666666666,\"#ed7953\"],[0.7777777777777778,\"#fb9f3a\"],[0.8888888888888888,\"#fdca26\"],[1.0,\"#f0f921\"]],\"type\":\"heatmapgl\"}],\"histogram\":[{\"marker\":{\"pattern\":{\"fillmode\":\"overlay\",\"size\":10,\"solidity\":0.2}},\"type\":\"histogram\"}],\"histogram2d\":[{\"colorbar\":{\"outlinewidth\":0,\"ticks\":\"\"},\"colorscale\":[[0.0,\"#0d0887\"],[0.1111111111111111,\"#46039f\"],[0.2222222222222222,\"#7201a8\"],[0.3333333333333333,\"#9c179e\"],[0.4444444444444444,\"#bd3786\"],[0.5555555555555556,\"#d8576b\"],[0.6666666666666666,\"#ed7953\"],[0.7777777777777778,\"#fb9f3a\"],[0.8888888888888888,\"#fdca26\"],[1.0,\"#f0f921\"]],\"type\":\"histogram2d\"}],\"histogram2dcontour\":[{\"colorbar\":{\"outlinewidth\":0,\"ticks\":\"\"},\"colorscale\":[[0.0,\"#0d0887\"],[0.1111111111111111,\"#46039f\"],[0.2222222222222222,\"#7201a8\"],[0.3333333333333333,\"#9c179e\"],[0.4444444444444444,\"#bd3786\"],[0.5555555555555556,\"#d8576b\"],[0.6666666666666666,\"#ed7953\"],[0.7777777777777778,\"#fb9f3a\"],[0.8888888888888888,\"#fdca26\"],[1.0,\"#f0f921\"]],\"type\":\"histogram2dcontour\"}],\"mesh3d\":[{\"colorbar\":{\"outlinewidth\":0,\"ticks\":\"\"},\"type\":\"mesh3d\"}],\"parcoords\":[{\"line\":{\"colorbar\":{\"outlinewidth\":0,\"ticks\":\"\"}},\"type\":\"parcoords\"}],\"pie\":[{\"automargin\":true,\"type\":\"pie\"}],\"scatter\":[{\"marker\":{\"colorbar\":{\"outlinewidth\":0,\"ticks\":\"\"}},\"type\":\"scatter\"}],\"scatter3d\":[{\"line\":{\"colorbar\":{\"outlinewidth\":0,\"ticks\":\"\"}},\"marker\":{\"colorbar\":{\"outlinewidth\":0,\"ticks\":\"\"}},\"type\":\"scatter3d\"}],\"scattercarpet\":[{\"marker\":{\"colorbar\":{\"outlinewidth\":0,\"ticks\":\"\"}},\"type\":\"scattercarpet\"}],\"scattergeo\":[{\"marker\":{\"colorbar\":{\"outlinewidth\":0,\"ticks\":\"\"}},\"type\":\"scattergeo\"}],\"scattergl\":[{\"marker\":{\"colorbar\":{\"outlinewidth\":0,\"ticks\":\"\"}},\"type\":\"scattergl\"}],\"scattermapbox\":[{\"marker\":{\"colorbar\":{\"outlinewidth\":0,\"ticks\":\"\"}},\"type\":\"scattermapbox\"}],\"scatterpolar\":[{\"marker\":{\"colorbar\":{\"outlinewidth\":0,\"ticks\":\"\"}},\"type\":\"scatterpolar\"}],\"scatterpolargl\":[{\"marker\":{\"colorbar\":{\"outlinewidth\":0,\"ticks\":\"\"}},\"type\":\"scatterpolargl\"}],\"scatterternary\":[{\"marker\":{\"colorbar\":{\"outlinewidth\":0,\"ticks\":\"\"}},\"type\":\"scatterternary\"}],\"surface\":[{\"colorbar\":{\"outlinewidth\":0,\"ticks\":\"\"},\"colorscale\":[[0.0,\"#0d0887\"],[0.1111111111111111,\"#46039f\"],[0.2222222222222222,\"#7201a8\"],[0.3333333333333333,\"#9c179e\"],[0.4444444444444444,\"#bd3786\"],[0.5555555555555556,\"#d8576b\"],[0.6666666666666666,\"#ed7953\"],[0.7777777777777778,\"#fb9f3a\"],[0.8888888888888888,\"#fdca26\"],[1.0,\"#f0f921\"]],\"type\":\"surface\"}],\"table\":[{\"cells\":{\"fill\":{\"color\":\"#EBF0F8\"},\"line\":{\"color\":\"white\"}},\"header\":{\"fill\":{\"color\":\"#C8D4E3\"},\"line\":{\"color\":\"white\"}},\"type\":\"table\"}]},\"layout\":{\"annotationdefaults\":{\"arrowcolor\":\"#2a3f5f\",\"arrowhead\":0,\"arrowwidth\":1},\"autotypenumbers\":\"strict\",\"coloraxis\":{\"colorbar\":{\"outlinewidth\":0,\"ticks\":\"\"}},\"colorscale\":{\"diverging\":[[0,\"#8e0152\"],[0.1,\"#c51b7d\"],[0.2,\"#de77ae\"],[0.3,\"#f1b6da\"],[0.4,\"#fde0ef\"],[0.5,\"#f7f7f7\"],[0.6,\"#e6f5d0\"],[0.7,\"#b8e186\"],[0.8,\"#7fbc41\"],[0.9,\"#4d9221\"],[1,\"#276419\"]],\"sequential\":[[0.0,\"#0d0887\"],[0.1111111111111111,\"#46039f\"],[0.2222222222222222,\"#7201a8\"],[0.3333333333333333,\"#9c179e\"],[0.4444444444444444,\"#bd3786\"],[0.5555555555555556,\"#d8576b\"],[0.6666666666666666,\"#ed7953\"],[0.7777777777777778,\"#fb9f3a\"],[0.8888888888888888,\"#fdca26\"],[1.0,\"#f0f921\"]],\"sequentialminus\":[[0.0,\"#0d0887\"],[0.1111111111111111,\"#46039f\"],[0.2222222222222222,\"#7201a8\"],[0.3333333333333333,\"#9c179e\"],[0.4444444444444444,\"#bd3786\"],[0.5555555555555556,\"#d8576b\"],[0.6666666666666666,\"#ed7953\"],[0.7777777777777778,\"#fb9f3a\"],[0.8888888888888888,\"#fdca26\"],[1.0,\"#f0f921\"]]},\"colorway\":[\"#636efa\",\"#EF553B\",\"#00cc96\",\"#ab63fa\",\"#FFA15A\",\"#19d3f3\",\"#FF6692\",\"#B6E880\",\"#FF97FF\",\"#FECB52\"],\"font\":{\"color\":\"#2a3f5f\"},\"geo\":{\"bgcolor\":\"white\",\"lakecolor\":\"white\",\"landcolor\":\"#E5ECF6\",\"showlakes\":true,\"showland\":true,\"subunitcolor\":\"white\"},\"hoverlabel\":{\"align\":\"left\"},\"hovermode\":\"closest\",\"mapbox\":{\"style\":\"light\"},\"paper_bgcolor\":\"white\",\"plot_bgcolor\":\"#E5ECF6\",\"polar\":{\"angularaxis\":{\"gridcolor\":\"white\",\"linecolor\":\"white\",\"ticks\":\"\"},\"bgcolor\":\"#E5ECF6\",\"radialaxis\":{\"gridcolor\":\"white\",\"linecolor\":\"white\",\"ticks\":\"\"}},\"scene\":{\"xaxis\":{\"backgroundcolor\":\"#E5ECF6\",\"gridcolor\":\"white\",\"gridwidth\":2,\"linecolor\":\"white\",\"showbackground\":true,\"ticks\":\"\",\"zerolinecolor\":\"white\"},\"yaxis\":{\"backgroundcolor\":\"#E5ECF6\",\"gridcolor\":\"white\",\"gridwidth\":2,\"linecolor\":\"white\",\"showbackground\":true,\"ticks\":\"\",\"zerolinecolor\":\"white\"},\"zaxis\":{\"backgroundcolor\":\"#E5ECF6\",\"gridcolor\":\"white\",\"gridwidth\":2,\"linecolor\":\"white\",\"showbackground\":true,\"ticks\":\"\",\"zerolinecolor\":\"white\"}},\"shapedefaults\":{\"line\":{\"color\":\"#2a3f5f\"}},\"ternary\":{\"aaxis\":{\"gridcolor\":\"white\",\"linecolor\":\"white\",\"ticks\":\"\"},\"baxis\":{\"gridcolor\":\"white\",\"linecolor\":\"white\",\"ticks\":\"\"},\"bgcolor\":\"#E5ECF6\",\"caxis\":{\"gridcolor\":\"white\",\"linecolor\":\"white\",\"ticks\":\"\"}},\"title\":{\"x\":0.05},\"xaxis\":{\"automargin\":true,\"gridcolor\":\"white\",\"linecolor\":\"white\",\"ticks\":\"\",\"title\":{\"standoff\":15},\"zerolinecolor\":\"white\",\"zerolinewidth\":2},\"yaxis\":{\"automargin\":true,\"gridcolor\":\"white\",\"linecolor\":\"white\",\"ticks\":\"\",\"title\":{\"standoff\":15},\"zerolinecolor\":\"white\",\"zerolinewidth\":2}}},\"xaxis\":{\"anchor\":\"y\",\"domain\":[0.0,1.0],\"title\":{\"text\":\"Estados\"}},\"yaxis\":{\"anchor\":\"x\",\"domain\":[0.0,1.0],\"title\":{\"text\":\"value\"}},\"legend\":{\"title\":{\"text\":\"variable\"},\"tracegroupgap\":0},\"title\":{\"text\":\"Obitos por Covid e Desemprego\"},\"barmode\":\"group\"},                        {\"responsive\": true}                    ).then(function(){\n",
              "                            \n",
              "var gd = document.getElementById('f1078bce-920c-4bd3-8ae8-dd65deabc901');\n",
              "var x = new MutationObserver(function (mutations, observer) {{\n",
              "        var display = window.getComputedStyle(gd).display;\n",
              "        if (!display || display === 'none') {{\n",
              "            console.log([gd, 'removed!']);\n",
              "            Plotly.purge(gd);\n",
              "            observer.disconnect();\n",
              "        }}\n",
              "}});\n",
              "\n",
              "// Listen for the removal of the full notebook cells\n",
              "var notebookContainer = gd.closest('#notebook-container');\n",
              "if (notebookContainer) {{\n",
              "    x.observe(notebookContainer, {childList: true});\n",
              "}}\n",
              "\n",
              "// Listen for the clearing of the current output cell\n",
              "var outputEl = gd.closest('.output');\n",
              "if (outputEl) {{\n",
              "    x.observe(outputEl, {childList: true});\n",
              "}}\n",
              "\n",
              "                        })                };                            </script>        </div>\n",
              "</body>\n",
              "</html>"
            ]
          },
          "metadata": {}
        },
        {
          "output_type": "display_data",
          "data": {
            "text/html": [
              "<html>\n",
              "<head><meta charset=\"utf-8\" /></head>\n",
              "<body>\n",
              "    <div>            <script src=\"https://cdnjs.cloudflare.com/ajax/libs/mathjax/2.7.5/MathJax.js?config=TeX-AMS-MML_SVG\"></script><script type=\"text/javascript\">if (window.MathJax) {MathJax.Hub.Config({SVG: {font: \"STIX-Web\"}});}</script>                <script type=\"text/javascript\">window.PlotlyConfig = {MathJaxConfig: 'local'};</script>\n",
              "        <script src=\"https://cdn.plot.ly/plotly-2.8.3.min.js\"></script>                <div id=\"c1cdbd68-f646-4119-aaea-ea0600a11983\" class=\"plotly-graph-div\" style=\"height:525px; width:100%;\"></div>            <script type=\"text/javascript\">                                    window.PLOTLYENV=window.PLOTLYENV || {};                                    if (document.getElementById(\"c1cdbd68-f646-4119-aaea-ea0600a11983\")) {                    Plotly.newPlot(                        \"c1cdbd68-f646-4119-aaea-ea0600a11983\",                        [{\"alignmentgroup\":\"True\",\"hovertemplate\":\"Estados=%{x}<br>total_obitos=%{marker.color}<extra></extra>\",\"legendgroup\":\"\",\"marker\":{\"color\":[23378,8199,9237,17507,2689,28902,4570,16716,196415,12187,17569,42446,11123,8668,66390,24301,34321,7854,28701,35142,10193,88566,13969,2552,13292,46868,2718],\"coloraxis\":\"coloraxis\",\"pattern\":{\"shape\":\"\"}},\"name\":\"\",\"offsetgroup\":\"\",\"orientation\":\"v\",\"showlegend\":false,\"textposition\":\"auto\",\"x\":[\"SC\",\"RO\",\"PI\",\"AM\",\"RR\",\"GO\",\"TO\",\"MT\",\"SP\",\"PB\",\"ES\",\"RS\",\"MS\",\"AL\",\"MG\",\"PA\",\"BA\",\"SE\",\"PE\",\"CE\",\"RN\",\"RJ\",\"MA\",\"AC\",\"DF\",\"PR\",\"AP\"],\"xaxis\":\"x\",\"y\":[23378,8199,9237,17507,2689,28902,4570,16716,196415,12187,17569,42446,11123,8668,66390,24301,34321,7854,28701,35142,10193,88566,13969,2552,13292,46868,2718],\"yaxis\":\"y\",\"type\":\"bar\"}],                        {\"template\":{\"data\":{\"bar\":[{\"error_x\":{\"color\":\"#2a3f5f\"},\"error_y\":{\"color\":\"#2a3f5f\"},\"marker\":{\"line\":{\"color\":\"#E5ECF6\",\"width\":0.5},\"pattern\":{\"fillmode\":\"overlay\",\"size\":10,\"solidity\":0.2}},\"type\":\"bar\"}],\"barpolar\":[{\"marker\":{\"line\":{\"color\":\"#E5ECF6\",\"width\":0.5},\"pattern\":{\"fillmode\":\"overlay\",\"size\":10,\"solidity\":0.2}},\"type\":\"barpolar\"}],\"carpet\":[{\"aaxis\":{\"endlinecolor\":\"#2a3f5f\",\"gridcolor\":\"white\",\"linecolor\":\"white\",\"minorgridcolor\":\"white\",\"startlinecolor\":\"#2a3f5f\"},\"baxis\":{\"endlinecolor\":\"#2a3f5f\",\"gridcolor\":\"white\",\"linecolor\":\"white\",\"minorgridcolor\":\"white\",\"startlinecolor\":\"#2a3f5f\"},\"type\":\"carpet\"}],\"choropleth\":[{\"colorbar\":{\"outlinewidth\":0,\"ticks\":\"\"},\"type\":\"choropleth\"}],\"contour\":[{\"colorbar\":{\"outlinewidth\":0,\"ticks\":\"\"},\"colorscale\":[[0.0,\"#0d0887\"],[0.1111111111111111,\"#46039f\"],[0.2222222222222222,\"#7201a8\"],[0.3333333333333333,\"#9c179e\"],[0.4444444444444444,\"#bd3786\"],[0.5555555555555556,\"#d8576b\"],[0.6666666666666666,\"#ed7953\"],[0.7777777777777778,\"#fb9f3a\"],[0.8888888888888888,\"#fdca26\"],[1.0,\"#f0f921\"]],\"type\":\"contour\"}],\"contourcarpet\":[{\"colorbar\":{\"outlinewidth\":0,\"ticks\":\"\"},\"type\":\"contourcarpet\"}],\"heatmap\":[{\"colorbar\":{\"outlinewidth\":0,\"ticks\":\"\"},\"colorscale\":[[0.0,\"#0d0887\"],[0.1111111111111111,\"#46039f\"],[0.2222222222222222,\"#7201a8\"],[0.3333333333333333,\"#9c179e\"],[0.4444444444444444,\"#bd3786\"],[0.5555555555555556,\"#d8576b\"],[0.6666666666666666,\"#ed7953\"],[0.7777777777777778,\"#fb9f3a\"],[0.8888888888888888,\"#fdca26\"],[1.0,\"#f0f921\"]],\"type\":\"heatmap\"}],\"heatmapgl\":[{\"colorbar\":{\"outlinewidth\":0,\"ticks\":\"\"},\"colorscale\":[[0.0,\"#0d0887\"],[0.1111111111111111,\"#46039f\"],[0.2222222222222222,\"#7201a8\"],[0.3333333333333333,\"#9c179e\"],[0.4444444444444444,\"#bd3786\"],[0.5555555555555556,\"#d8576b\"],[0.6666666666666666,\"#ed7953\"],[0.7777777777777778,\"#fb9f3a\"],[0.8888888888888888,\"#fdca26\"],[1.0,\"#f0f921\"]],\"type\":\"heatmapgl\"}],\"histogram\":[{\"marker\":{\"pattern\":{\"fillmode\":\"overlay\",\"size\":10,\"solidity\":0.2}},\"type\":\"histogram\"}],\"histogram2d\":[{\"colorbar\":{\"outlinewidth\":0,\"ticks\":\"\"},\"colorscale\":[[0.0,\"#0d0887\"],[0.1111111111111111,\"#46039f\"],[0.2222222222222222,\"#7201a8\"],[0.3333333333333333,\"#9c179e\"],[0.4444444444444444,\"#bd3786\"],[0.5555555555555556,\"#d8576b\"],[0.6666666666666666,\"#ed7953\"],[0.7777777777777778,\"#fb9f3a\"],[0.8888888888888888,\"#fdca26\"],[1.0,\"#f0f921\"]],\"type\":\"histogram2d\"}],\"histogram2dcontour\":[{\"colorbar\":{\"outlinewidth\":0,\"ticks\":\"\"},\"colorscale\":[[0.0,\"#0d0887\"],[0.1111111111111111,\"#46039f\"],[0.2222222222222222,\"#7201a8\"],[0.3333333333333333,\"#9c179e\"],[0.4444444444444444,\"#bd3786\"],[0.5555555555555556,\"#d8576b\"],[0.6666666666666666,\"#ed7953\"],[0.7777777777777778,\"#fb9f3a\"],[0.8888888888888888,\"#fdca26\"],[1.0,\"#f0f921\"]],\"type\":\"histogram2dcontour\"}],\"mesh3d\":[{\"colorbar\":{\"outlinewidth\":0,\"ticks\":\"\"},\"type\":\"mesh3d\"}],\"parcoords\":[{\"line\":{\"colorbar\":{\"outlinewidth\":0,\"ticks\":\"\"}},\"type\":\"parcoords\"}],\"pie\":[{\"automargin\":true,\"type\":\"pie\"}],\"scatter\":[{\"marker\":{\"colorbar\":{\"outlinewidth\":0,\"ticks\":\"\"}},\"type\":\"scatter\"}],\"scatter3d\":[{\"line\":{\"colorbar\":{\"outlinewidth\":0,\"ticks\":\"\"}},\"marker\":{\"colorbar\":{\"outlinewidth\":0,\"ticks\":\"\"}},\"type\":\"scatter3d\"}],\"scattercarpet\":[{\"marker\":{\"colorbar\":{\"outlinewidth\":0,\"ticks\":\"\"}},\"type\":\"scattercarpet\"}],\"scattergeo\":[{\"marker\":{\"colorbar\":{\"outlinewidth\":0,\"ticks\":\"\"}},\"type\":\"scattergeo\"}],\"scattergl\":[{\"marker\":{\"colorbar\":{\"outlinewidth\":0,\"ticks\":\"\"}},\"type\":\"scattergl\"}],\"scattermapbox\":[{\"marker\":{\"colorbar\":{\"outlinewidth\":0,\"ticks\":\"\"}},\"type\":\"scattermapbox\"}],\"scatterpolar\":[{\"marker\":{\"colorbar\":{\"outlinewidth\":0,\"ticks\":\"\"}},\"type\":\"scatterpolar\"}],\"scatterpolargl\":[{\"marker\":{\"colorbar\":{\"outlinewidth\":0,\"ticks\":\"\"}},\"type\":\"scatterpolargl\"}],\"scatterternary\":[{\"marker\":{\"colorbar\":{\"outlinewidth\":0,\"ticks\":\"\"}},\"type\":\"scatterternary\"}],\"surface\":[{\"colorbar\":{\"outlinewidth\":0,\"ticks\":\"\"},\"colorscale\":[[0.0,\"#0d0887\"],[0.1111111111111111,\"#46039f\"],[0.2222222222222222,\"#7201a8\"],[0.3333333333333333,\"#9c179e\"],[0.4444444444444444,\"#bd3786\"],[0.5555555555555556,\"#d8576b\"],[0.6666666666666666,\"#ed7953\"],[0.7777777777777778,\"#fb9f3a\"],[0.8888888888888888,\"#fdca26\"],[1.0,\"#f0f921\"]],\"type\":\"surface\"}],\"table\":[{\"cells\":{\"fill\":{\"color\":\"#EBF0F8\"},\"line\":{\"color\":\"white\"}},\"header\":{\"fill\":{\"color\":\"#C8D4E3\"},\"line\":{\"color\":\"white\"}},\"type\":\"table\"}]},\"layout\":{\"annotationdefaults\":{\"arrowcolor\":\"#2a3f5f\",\"arrowhead\":0,\"arrowwidth\":1},\"autotypenumbers\":\"strict\",\"coloraxis\":{\"colorbar\":{\"outlinewidth\":0,\"ticks\":\"\"}},\"colorscale\":{\"diverging\":[[0,\"#8e0152\"],[0.1,\"#c51b7d\"],[0.2,\"#de77ae\"],[0.3,\"#f1b6da\"],[0.4,\"#fde0ef\"],[0.5,\"#f7f7f7\"],[0.6,\"#e6f5d0\"],[0.7,\"#b8e186\"],[0.8,\"#7fbc41\"],[0.9,\"#4d9221\"],[1,\"#276419\"]],\"sequential\":[[0.0,\"#0d0887\"],[0.1111111111111111,\"#46039f\"],[0.2222222222222222,\"#7201a8\"],[0.3333333333333333,\"#9c179e\"],[0.4444444444444444,\"#bd3786\"],[0.5555555555555556,\"#d8576b\"],[0.6666666666666666,\"#ed7953\"],[0.7777777777777778,\"#fb9f3a\"],[0.8888888888888888,\"#fdca26\"],[1.0,\"#f0f921\"]],\"sequentialminus\":[[0.0,\"#0d0887\"],[0.1111111111111111,\"#46039f\"],[0.2222222222222222,\"#7201a8\"],[0.3333333333333333,\"#9c179e\"],[0.4444444444444444,\"#bd3786\"],[0.5555555555555556,\"#d8576b\"],[0.6666666666666666,\"#ed7953\"],[0.7777777777777778,\"#fb9f3a\"],[0.8888888888888888,\"#fdca26\"],[1.0,\"#f0f921\"]]},\"colorway\":[\"#636efa\",\"#EF553B\",\"#00cc96\",\"#ab63fa\",\"#FFA15A\",\"#19d3f3\",\"#FF6692\",\"#B6E880\",\"#FF97FF\",\"#FECB52\"],\"font\":{\"color\":\"#2a3f5f\"},\"geo\":{\"bgcolor\":\"white\",\"lakecolor\":\"white\",\"landcolor\":\"#E5ECF6\",\"showlakes\":true,\"showland\":true,\"subunitcolor\":\"white\"},\"hoverlabel\":{\"align\":\"left\"},\"hovermode\":\"closest\",\"mapbox\":{\"style\":\"light\"},\"paper_bgcolor\":\"white\",\"plot_bgcolor\":\"#E5ECF6\",\"polar\":{\"angularaxis\":{\"gridcolor\":\"white\",\"linecolor\":\"white\",\"ticks\":\"\"},\"bgcolor\":\"#E5ECF6\",\"radialaxis\":{\"gridcolor\":\"white\",\"linecolor\":\"white\",\"ticks\":\"\"}},\"scene\":{\"xaxis\":{\"backgroundcolor\":\"#E5ECF6\",\"gridcolor\":\"white\",\"gridwidth\":2,\"linecolor\":\"white\",\"showbackground\":true,\"ticks\":\"\",\"zerolinecolor\":\"white\"},\"yaxis\":{\"backgroundcolor\":\"#E5ECF6\",\"gridcolor\":\"white\",\"gridwidth\":2,\"linecolor\":\"white\",\"showbackground\":true,\"ticks\":\"\",\"zerolinecolor\":\"white\"},\"zaxis\":{\"backgroundcolor\":\"#E5ECF6\",\"gridcolor\":\"white\",\"gridwidth\":2,\"linecolor\":\"white\",\"showbackground\":true,\"ticks\":\"\",\"zerolinecolor\":\"white\"}},\"shapedefaults\":{\"line\":{\"color\":\"#2a3f5f\"}},\"ternary\":{\"aaxis\":{\"gridcolor\":\"white\",\"linecolor\":\"white\",\"ticks\":\"\"},\"baxis\":{\"gridcolor\":\"white\",\"linecolor\":\"white\",\"ticks\":\"\"},\"bgcolor\":\"#E5ECF6\",\"caxis\":{\"gridcolor\":\"white\",\"linecolor\":\"white\",\"ticks\":\"\"}},\"title\":{\"x\":0.05},\"xaxis\":{\"automargin\":true,\"gridcolor\":\"white\",\"linecolor\":\"white\",\"ticks\":\"\",\"title\":{\"standoff\":15},\"zerolinecolor\":\"white\",\"zerolinewidth\":2},\"yaxis\":{\"automargin\":true,\"gridcolor\":\"white\",\"linecolor\":\"white\",\"ticks\":\"\",\"title\":{\"standoff\":15},\"zerolinecolor\":\"white\",\"zerolinewidth\":2}}},\"xaxis\":{\"anchor\":\"y\",\"domain\":[0.0,1.0],\"title\":{\"text\":\"Estados\"}},\"yaxis\":{\"anchor\":\"x\",\"domain\":[0.0,1.0],\"title\":{\"text\":\"total_obitos\"}},\"coloraxis\":{\"colorbar\":{\"title\":{\"text\":\"total_obitos\"}},\"colorscale\":[[0.0,\"#0d0887\"],[0.1111111111111111,\"#46039f\"],[0.2222222222222222,\"#7201a8\"],[0.3333333333333333,\"#9c179e\"],[0.4444444444444444,\"#bd3786\"],[0.5555555555555556,\"#d8576b\"],[0.6666666666666666,\"#ed7953\"],[0.7777777777777778,\"#fb9f3a\"],[0.8888888888888888,\"#fdca26\"],[1.0,\"#f0f921\"]]},\"legend\":{\"tracegroupgap\":0},\"title\":{\"text\":\"Obitos por Covid\"},\"barmode\":\"group\"},                        {\"responsive\": true}                    ).then(function(){\n",
              "                            \n",
              "var gd = document.getElementById('c1cdbd68-f646-4119-aaea-ea0600a11983');\n",
              "var x = new MutationObserver(function (mutations, observer) {{\n",
              "        var display = window.getComputedStyle(gd).display;\n",
              "        if (!display || display === 'none') {{\n",
              "            console.log([gd, 'removed!']);\n",
              "            Plotly.purge(gd);\n",
              "            observer.disconnect();\n",
              "        }}\n",
              "}});\n",
              "\n",
              "// Listen for the removal of the full notebook cells\n",
              "var notebookContainer = gd.closest('#notebook-container');\n",
              "if (notebookContainer) {{\n",
              "    x.observe(notebookContainer, {childList: true});\n",
              "}}\n",
              "\n",
              "// Listen for the clearing of the current output cell\n",
              "var outputEl = gd.closest('.output');\n",
              "if (outputEl) {{\n",
              "    x.observe(outputEl, {childList: true});\n",
              "}}\n",
              "\n",
              "                        })                };                            </script>        </div>\n",
              "</body>\n",
              "</html>"
            ]
          },
          "metadata": {}
        },
        {
          "output_type": "display_data",
          "data": {
            "text/html": [
              "<html>\n",
              "<head><meta charset=\"utf-8\" /></head>\n",
              "<body>\n",
              "    <div>            <script src=\"https://cdnjs.cloudflare.com/ajax/libs/mathjax/2.7.5/MathJax.js?config=TeX-AMS-MML_SVG\"></script><script type=\"text/javascript\">if (window.MathJax) {MathJax.Hub.Config({SVG: {font: \"STIX-Web\"}});}</script>                <script type=\"text/javascript\">window.PlotlyConfig = {MathJaxConfig: 'local'};</script>\n",
              "        <script src=\"https://cdn.plot.ly/plotly-2.8.3.min.js\"></script>                <div id=\"8a71b87d-e604-4e87-83be-6b1994f19f16\" class=\"plotly-graph-div\" style=\"height:525px; width:100%;\"></div>            <script type=\"text/javascript\">                                    window.PLOTLYENV=window.PLOTLYENV || {};                                    if (document.getElementById(\"8a71b87d-e604-4e87-83be-6b1994f19f16\")) {                    Plotly.newPlot(                        \"8a71b87d-e604-4e87-83be-6b1994f19f16\",                        [{\"alignmentgroup\":\"True\",\"hovertemplate\":\"Estados=%{x}<br>1_trimestre_2020=%{marker.color}<extra></extra>\",\"legendgroup\":\"\",\"marker\":{\"color\":[223,76,202,279,42,434,84,158,3151,232,243,529,111,204,1320,417,1333,171,611,513,244,1313,431,47,228,487,67],\"coloraxis\":\"coloraxis\",\"pattern\":{\"shape\":\"\"}},\"name\":\"\",\"offsetgroup\":\"\",\"orientation\":\"v\",\"showlegend\":false,\"textposition\":\"auto\",\"x\":[\"SC\",\"RO\",\"PI\",\"AM\",\"RR\",\"GO\",\"TO\",\"MT\",\"SP\",\"PB\",\"ES\",\"RS\",\"MS\",\"AL\",\"MG\",\"PA\",\"BA\",\"SE\",\"PE\",\"CE\",\"RN\",\"RJ\",\"MA\",\"AC\",\"DF\",\"PR\",\"AP\"],\"xaxis\":\"x\",\"y\":[223,76,202,279,42,434,84,158,3151,232,243,529,111,204,1320,417,1333,171,611,513,244,1313,431,47,228,487,67],\"yaxis\":\"y\",\"type\":\"bar\"}],                        {\"template\":{\"data\":{\"bar\":[{\"error_x\":{\"color\":\"#2a3f5f\"},\"error_y\":{\"color\":\"#2a3f5f\"},\"marker\":{\"line\":{\"color\":\"#E5ECF6\",\"width\":0.5},\"pattern\":{\"fillmode\":\"overlay\",\"size\":10,\"solidity\":0.2}},\"type\":\"bar\"}],\"barpolar\":[{\"marker\":{\"line\":{\"color\":\"#E5ECF6\",\"width\":0.5},\"pattern\":{\"fillmode\":\"overlay\",\"size\":10,\"solidity\":0.2}},\"type\":\"barpolar\"}],\"carpet\":[{\"aaxis\":{\"endlinecolor\":\"#2a3f5f\",\"gridcolor\":\"white\",\"linecolor\":\"white\",\"minorgridcolor\":\"white\",\"startlinecolor\":\"#2a3f5f\"},\"baxis\":{\"endlinecolor\":\"#2a3f5f\",\"gridcolor\":\"white\",\"linecolor\":\"white\",\"minorgridcolor\":\"white\",\"startlinecolor\":\"#2a3f5f\"},\"type\":\"carpet\"}],\"choropleth\":[{\"colorbar\":{\"outlinewidth\":0,\"ticks\":\"\"},\"type\":\"choropleth\"}],\"contour\":[{\"colorbar\":{\"outlinewidth\":0,\"ticks\":\"\"},\"colorscale\":[[0.0,\"#0d0887\"],[0.1111111111111111,\"#46039f\"],[0.2222222222222222,\"#7201a8\"],[0.3333333333333333,\"#9c179e\"],[0.4444444444444444,\"#bd3786\"],[0.5555555555555556,\"#d8576b\"],[0.6666666666666666,\"#ed7953\"],[0.7777777777777778,\"#fb9f3a\"],[0.8888888888888888,\"#fdca26\"],[1.0,\"#f0f921\"]],\"type\":\"contour\"}],\"contourcarpet\":[{\"colorbar\":{\"outlinewidth\":0,\"ticks\":\"\"},\"type\":\"contourcarpet\"}],\"heatmap\":[{\"colorbar\":{\"outlinewidth\":0,\"ticks\":\"\"},\"colorscale\":[[0.0,\"#0d0887\"],[0.1111111111111111,\"#46039f\"],[0.2222222222222222,\"#7201a8\"],[0.3333333333333333,\"#9c179e\"],[0.4444444444444444,\"#bd3786\"],[0.5555555555555556,\"#d8576b\"],[0.6666666666666666,\"#ed7953\"],[0.7777777777777778,\"#fb9f3a\"],[0.8888888888888888,\"#fdca26\"],[1.0,\"#f0f921\"]],\"type\":\"heatmap\"}],\"heatmapgl\":[{\"colorbar\":{\"outlinewidth\":0,\"ticks\":\"\"},\"colorscale\":[[0.0,\"#0d0887\"],[0.1111111111111111,\"#46039f\"],[0.2222222222222222,\"#7201a8\"],[0.3333333333333333,\"#9c179e\"],[0.4444444444444444,\"#bd3786\"],[0.5555555555555556,\"#d8576b\"],[0.6666666666666666,\"#ed7953\"],[0.7777777777777778,\"#fb9f3a\"],[0.8888888888888888,\"#fdca26\"],[1.0,\"#f0f921\"]],\"type\":\"heatmapgl\"}],\"histogram\":[{\"marker\":{\"pattern\":{\"fillmode\":\"overlay\",\"size\":10,\"solidity\":0.2}},\"type\":\"histogram\"}],\"histogram2d\":[{\"colorbar\":{\"outlinewidth\":0,\"ticks\":\"\"},\"colorscale\":[[0.0,\"#0d0887\"],[0.1111111111111111,\"#46039f\"],[0.2222222222222222,\"#7201a8\"],[0.3333333333333333,\"#9c179e\"],[0.4444444444444444,\"#bd3786\"],[0.5555555555555556,\"#d8576b\"],[0.6666666666666666,\"#ed7953\"],[0.7777777777777778,\"#fb9f3a\"],[0.8888888888888888,\"#fdca26\"],[1.0,\"#f0f921\"]],\"type\":\"histogram2d\"}],\"histogram2dcontour\":[{\"colorbar\":{\"outlinewidth\":0,\"ticks\":\"\"},\"colorscale\":[[0.0,\"#0d0887\"],[0.1111111111111111,\"#46039f\"],[0.2222222222222222,\"#7201a8\"],[0.3333333333333333,\"#9c179e\"],[0.4444444444444444,\"#bd3786\"],[0.5555555555555556,\"#d8576b\"],[0.6666666666666666,\"#ed7953\"],[0.7777777777777778,\"#fb9f3a\"],[0.8888888888888888,\"#fdca26\"],[1.0,\"#f0f921\"]],\"type\":\"histogram2dcontour\"}],\"mesh3d\":[{\"colorbar\":{\"outlinewidth\":0,\"ticks\":\"\"},\"type\":\"mesh3d\"}],\"parcoords\":[{\"line\":{\"colorbar\":{\"outlinewidth\":0,\"ticks\":\"\"}},\"type\":\"parcoords\"}],\"pie\":[{\"automargin\":true,\"type\":\"pie\"}],\"scatter\":[{\"marker\":{\"colorbar\":{\"outlinewidth\":0,\"ticks\":\"\"}},\"type\":\"scatter\"}],\"scatter3d\":[{\"line\":{\"colorbar\":{\"outlinewidth\":0,\"ticks\":\"\"}},\"marker\":{\"colorbar\":{\"outlinewidth\":0,\"ticks\":\"\"}},\"type\":\"scatter3d\"}],\"scattercarpet\":[{\"marker\":{\"colorbar\":{\"outlinewidth\":0,\"ticks\":\"\"}},\"type\":\"scattercarpet\"}],\"scattergeo\":[{\"marker\":{\"colorbar\":{\"outlinewidth\":0,\"ticks\":\"\"}},\"type\":\"scattergeo\"}],\"scattergl\":[{\"marker\":{\"colorbar\":{\"outlinewidth\":0,\"ticks\":\"\"}},\"type\":\"scattergl\"}],\"scattermapbox\":[{\"marker\":{\"colorbar\":{\"outlinewidth\":0,\"ticks\":\"\"}},\"type\":\"scattermapbox\"}],\"scatterpolar\":[{\"marker\":{\"colorbar\":{\"outlinewidth\":0,\"ticks\":\"\"}},\"type\":\"scatterpolar\"}],\"scatterpolargl\":[{\"marker\":{\"colorbar\":{\"outlinewidth\":0,\"ticks\":\"\"}},\"type\":\"scatterpolargl\"}],\"scatterternary\":[{\"marker\":{\"colorbar\":{\"outlinewidth\":0,\"ticks\":\"\"}},\"type\":\"scatterternary\"}],\"surface\":[{\"colorbar\":{\"outlinewidth\":0,\"ticks\":\"\"},\"colorscale\":[[0.0,\"#0d0887\"],[0.1111111111111111,\"#46039f\"],[0.2222222222222222,\"#7201a8\"],[0.3333333333333333,\"#9c179e\"],[0.4444444444444444,\"#bd3786\"],[0.5555555555555556,\"#d8576b\"],[0.6666666666666666,\"#ed7953\"],[0.7777777777777778,\"#fb9f3a\"],[0.8888888888888888,\"#fdca26\"],[1.0,\"#f0f921\"]],\"type\":\"surface\"}],\"table\":[{\"cells\":{\"fill\":{\"color\":\"#EBF0F8\"},\"line\":{\"color\":\"white\"}},\"header\":{\"fill\":{\"color\":\"#C8D4E3\"},\"line\":{\"color\":\"white\"}},\"type\":\"table\"}]},\"layout\":{\"annotationdefaults\":{\"arrowcolor\":\"#2a3f5f\",\"arrowhead\":0,\"arrowwidth\":1},\"autotypenumbers\":\"strict\",\"coloraxis\":{\"colorbar\":{\"outlinewidth\":0,\"ticks\":\"\"}},\"colorscale\":{\"diverging\":[[0,\"#8e0152\"],[0.1,\"#c51b7d\"],[0.2,\"#de77ae\"],[0.3,\"#f1b6da\"],[0.4,\"#fde0ef\"],[0.5,\"#f7f7f7\"],[0.6,\"#e6f5d0\"],[0.7,\"#b8e186\"],[0.8,\"#7fbc41\"],[0.9,\"#4d9221\"],[1,\"#276419\"]],\"sequential\":[[0.0,\"#0d0887\"],[0.1111111111111111,\"#46039f\"],[0.2222222222222222,\"#7201a8\"],[0.3333333333333333,\"#9c179e\"],[0.4444444444444444,\"#bd3786\"],[0.5555555555555556,\"#d8576b\"],[0.6666666666666666,\"#ed7953\"],[0.7777777777777778,\"#fb9f3a\"],[0.8888888888888888,\"#fdca26\"],[1.0,\"#f0f921\"]],\"sequentialminus\":[[0.0,\"#0d0887\"],[0.1111111111111111,\"#46039f\"],[0.2222222222222222,\"#7201a8\"],[0.3333333333333333,\"#9c179e\"],[0.4444444444444444,\"#bd3786\"],[0.5555555555555556,\"#d8576b\"],[0.6666666666666666,\"#ed7953\"],[0.7777777777777778,\"#fb9f3a\"],[0.8888888888888888,\"#fdca26\"],[1.0,\"#f0f921\"]]},\"colorway\":[\"#636efa\",\"#EF553B\",\"#00cc96\",\"#ab63fa\",\"#FFA15A\",\"#19d3f3\",\"#FF6692\",\"#B6E880\",\"#FF97FF\",\"#FECB52\"],\"font\":{\"color\":\"#2a3f5f\"},\"geo\":{\"bgcolor\":\"white\",\"lakecolor\":\"white\",\"landcolor\":\"#E5ECF6\",\"showlakes\":true,\"showland\":true,\"subunitcolor\":\"white\"},\"hoverlabel\":{\"align\":\"left\"},\"hovermode\":\"closest\",\"mapbox\":{\"style\":\"light\"},\"paper_bgcolor\":\"white\",\"plot_bgcolor\":\"#E5ECF6\",\"polar\":{\"angularaxis\":{\"gridcolor\":\"white\",\"linecolor\":\"white\",\"ticks\":\"\"},\"bgcolor\":\"#E5ECF6\",\"radialaxis\":{\"gridcolor\":\"white\",\"linecolor\":\"white\",\"ticks\":\"\"}},\"scene\":{\"xaxis\":{\"backgroundcolor\":\"#E5ECF6\",\"gridcolor\":\"white\",\"gridwidth\":2,\"linecolor\":\"white\",\"showbackground\":true,\"ticks\":\"\",\"zerolinecolor\":\"white\"},\"yaxis\":{\"backgroundcolor\":\"#E5ECF6\",\"gridcolor\":\"white\",\"gridwidth\":2,\"linecolor\":\"white\",\"showbackground\":true,\"ticks\":\"\",\"zerolinecolor\":\"white\"},\"zaxis\":{\"backgroundcolor\":\"#E5ECF6\",\"gridcolor\":\"white\",\"gridwidth\":2,\"linecolor\":\"white\",\"showbackground\":true,\"ticks\":\"\",\"zerolinecolor\":\"white\"}},\"shapedefaults\":{\"line\":{\"color\":\"#2a3f5f\"}},\"ternary\":{\"aaxis\":{\"gridcolor\":\"white\",\"linecolor\":\"white\",\"ticks\":\"\"},\"baxis\":{\"gridcolor\":\"white\",\"linecolor\":\"white\",\"ticks\":\"\"},\"bgcolor\":\"#E5ECF6\",\"caxis\":{\"gridcolor\":\"white\",\"linecolor\":\"white\",\"ticks\":\"\"}},\"title\":{\"x\":0.05},\"xaxis\":{\"automargin\":true,\"gridcolor\":\"white\",\"linecolor\":\"white\",\"ticks\":\"\",\"title\":{\"standoff\":15},\"zerolinecolor\":\"white\",\"zerolinewidth\":2},\"yaxis\":{\"automargin\":true,\"gridcolor\":\"white\",\"linecolor\":\"white\",\"ticks\":\"\",\"title\":{\"standoff\":15},\"zerolinecolor\":\"white\",\"zerolinewidth\":2}}},\"xaxis\":{\"anchor\":\"y\",\"domain\":[0.0,1.0],\"title\":{\"text\":\"Estados\"}},\"yaxis\":{\"anchor\":\"x\",\"domain\":[0.0,1.0],\"title\":{\"text\":\"1_trimestre_2020\"}},\"coloraxis\":{\"colorbar\":{\"title\":{\"text\":\"1_trimestre_2020\"}},\"colorscale\":[[0.0,\"#0d0887\"],[0.1111111111111111,\"#46039f\"],[0.2222222222222222,\"#7201a8\"],[0.3333333333333333,\"#9c179e\"],[0.4444444444444444,\"#bd3786\"],[0.5555555555555556,\"#d8576b\"],[0.6666666666666666,\"#ed7953\"],[0.7777777777777778,\"#fb9f3a\"],[0.8888888888888888,\"#fdca26\"],[1.0,\"#f0f921\"]]},\"legend\":{\"tracegroupgap\":0},\"title\":{\"text\":\"Desemprego no primeiro trimestre de 2020\"},\"barmode\":\"group\"},                        {\"responsive\": true}                    ).then(function(){\n",
              "                            \n",
              "var gd = document.getElementById('8a71b87d-e604-4e87-83be-6b1994f19f16');\n",
              "var x = new MutationObserver(function (mutations, observer) {{\n",
              "        var display = window.getComputedStyle(gd).display;\n",
              "        if (!display || display === 'none') {{\n",
              "            console.log([gd, 'removed!']);\n",
              "            Plotly.purge(gd);\n",
              "            observer.disconnect();\n",
              "        }}\n",
              "}});\n",
              "\n",
              "// Listen for the removal of the full notebook cells\n",
              "var notebookContainer = gd.closest('#notebook-container');\n",
              "if (notebookContainer) {{\n",
              "    x.observe(notebookContainer, {childList: true});\n",
              "}}\n",
              "\n",
              "// Listen for the clearing of the current output cell\n",
              "var outputEl = gd.closest('.output');\n",
              "if (outputEl) {{\n",
              "    x.observe(outputEl, {childList: true});\n",
              "}}\n",
              "\n",
              "                        })                };                            </script>        </div>\n",
              "</body>\n",
              "</html>"
            ]
          },
          "metadata": {}
        },
        {
          "output_type": "display_data",
          "data": {
            "text/html": [
              "<html>\n",
              "<head><meta charset=\"utf-8\" /></head>\n",
              "<body>\n",
              "    <div>            <script src=\"https://cdnjs.cloudflare.com/ajax/libs/mathjax/2.7.5/MathJax.js?config=TeX-AMS-MML_SVG\"></script><script type=\"text/javascript\">if (window.MathJax) {MathJax.Hub.Config({SVG: {font: \"STIX-Web\"}});}</script>                <script type=\"text/javascript\">window.PlotlyConfig = {MathJaxConfig: 'local'};</script>\n",
              "        <script src=\"https://cdn.plot.ly/plotly-2.8.3.min.js\"></script>                <div id=\"d4d6b595-2495-4543-9d54-34b4f59019ae\" class=\"plotly-graph-div\" style=\"height:525px; width:100%;\"></div>            <script type=\"text/javascript\">                                    window.PLOTLYENV=window.PLOTLYENV || {};                                    if (document.getElementById(\"d4d6b595-2495-4543-9d54-34b4f59019ae\")) {                    Plotly.newPlot(                        \"d4d6b595-2495-4543-9d54-34b4f59019ae\",                        [{\"alignmentgroup\":\"True\",\"hovertemplate\":\"Estados=%{x}<br>2_trimestre_2022=%{marker.color}<extra></extra>\",\"legendgroup\":\"\",\"marker\":{\"color\":[160,52,135,203,16,270,43,82,2404,203,174,387,75,149,828,377,1104,140,578,412,188,1130,299,45,205,374,48],\"coloraxis\":\"coloraxis\",\"pattern\":{\"shape\":\"\"}},\"name\":\"\",\"offsetgroup\":\"\",\"orientation\":\"v\",\"showlegend\":false,\"textposition\":\"auto\",\"x\":[\"SC\",\"RO\",\"PI\",\"AM\",\"RR\",\"GO\",\"TO\",\"MT\",\"SP\",\"PB\",\"ES\",\"RS\",\"MS\",\"AL\",\"MG\",\"PA\",\"BA\",\"SE\",\"PE\",\"CE\",\"RN\",\"RJ\",\"MA\",\"AC\",\"DF\",\"PR\",\"AP\"],\"xaxis\":\"x\",\"y\":[160,52,135,203,16,270,43,82,2404,203,174,387,75,149,828,377,1104,140,578,412,188,1130,299,45,205,374,48],\"yaxis\":\"y\",\"type\":\"bar\"}],                        {\"template\":{\"data\":{\"bar\":[{\"error_x\":{\"color\":\"#2a3f5f\"},\"error_y\":{\"color\":\"#2a3f5f\"},\"marker\":{\"line\":{\"color\":\"#E5ECF6\",\"width\":0.5},\"pattern\":{\"fillmode\":\"overlay\",\"size\":10,\"solidity\":0.2}},\"type\":\"bar\"}],\"barpolar\":[{\"marker\":{\"line\":{\"color\":\"#E5ECF6\",\"width\":0.5},\"pattern\":{\"fillmode\":\"overlay\",\"size\":10,\"solidity\":0.2}},\"type\":\"barpolar\"}],\"carpet\":[{\"aaxis\":{\"endlinecolor\":\"#2a3f5f\",\"gridcolor\":\"white\",\"linecolor\":\"white\",\"minorgridcolor\":\"white\",\"startlinecolor\":\"#2a3f5f\"},\"baxis\":{\"endlinecolor\":\"#2a3f5f\",\"gridcolor\":\"white\",\"linecolor\":\"white\",\"minorgridcolor\":\"white\",\"startlinecolor\":\"#2a3f5f\"},\"type\":\"carpet\"}],\"choropleth\":[{\"colorbar\":{\"outlinewidth\":0,\"ticks\":\"\"},\"type\":\"choropleth\"}],\"contour\":[{\"colorbar\":{\"outlinewidth\":0,\"ticks\":\"\"},\"colorscale\":[[0.0,\"#0d0887\"],[0.1111111111111111,\"#46039f\"],[0.2222222222222222,\"#7201a8\"],[0.3333333333333333,\"#9c179e\"],[0.4444444444444444,\"#bd3786\"],[0.5555555555555556,\"#d8576b\"],[0.6666666666666666,\"#ed7953\"],[0.7777777777777778,\"#fb9f3a\"],[0.8888888888888888,\"#fdca26\"],[1.0,\"#f0f921\"]],\"type\":\"contour\"}],\"contourcarpet\":[{\"colorbar\":{\"outlinewidth\":0,\"ticks\":\"\"},\"type\":\"contourcarpet\"}],\"heatmap\":[{\"colorbar\":{\"outlinewidth\":0,\"ticks\":\"\"},\"colorscale\":[[0.0,\"#0d0887\"],[0.1111111111111111,\"#46039f\"],[0.2222222222222222,\"#7201a8\"],[0.3333333333333333,\"#9c179e\"],[0.4444444444444444,\"#bd3786\"],[0.5555555555555556,\"#d8576b\"],[0.6666666666666666,\"#ed7953\"],[0.7777777777777778,\"#fb9f3a\"],[0.8888888888888888,\"#fdca26\"],[1.0,\"#f0f921\"]],\"type\":\"heatmap\"}],\"heatmapgl\":[{\"colorbar\":{\"outlinewidth\":0,\"ticks\":\"\"},\"colorscale\":[[0.0,\"#0d0887\"],[0.1111111111111111,\"#46039f\"],[0.2222222222222222,\"#7201a8\"],[0.3333333333333333,\"#9c179e\"],[0.4444444444444444,\"#bd3786\"],[0.5555555555555556,\"#d8576b\"],[0.6666666666666666,\"#ed7953\"],[0.7777777777777778,\"#fb9f3a\"],[0.8888888888888888,\"#fdca26\"],[1.0,\"#f0f921\"]],\"type\":\"heatmapgl\"}],\"histogram\":[{\"marker\":{\"pattern\":{\"fillmode\":\"overlay\",\"size\":10,\"solidity\":0.2}},\"type\":\"histogram\"}],\"histogram2d\":[{\"colorbar\":{\"outlinewidth\":0,\"ticks\":\"\"},\"colorscale\":[[0.0,\"#0d0887\"],[0.1111111111111111,\"#46039f\"],[0.2222222222222222,\"#7201a8\"],[0.3333333333333333,\"#9c179e\"],[0.4444444444444444,\"#bd3786\"],[0.5555555555555556,\"#d8576b\"],[0.6666666666666666,\"#ed7953\"],[0.7777777777777778,\"#fb9f3a\"],[0.8888888888888888,\"#fdca26\"],[1.0,\"#f0f921\"]],\"type\":\"histogram2d\"}],\"histogram2dcontour\":[{\"colorbar\":{\"outlinewidth\":0,\"ticks\":\"\"},\"colorscale\":[[0.0,\"#0d0887\"],[0.1111111111111111,\"#46039f\"],[0.2222222222222222,\"#7201a8\"],[0.3333333333333333,\"#9c179e\"],[0.4444444444444444,\"#bd3786\"],[0.5555555555555556,\"#d8576b\"],[0.6666666666666666,\"#ed7953\"],[0.7777777777777778,\"#fb9f3a\"],[0.8888888888888888,\"#fdca26\"],[1.0,\"#f0f921\"]],\"type\":\"histogram2dcontour\"}],\"mesh3d\":[{\"colorbar\":{\"outlinewidth\":0,\"ticks\":\"\"},\"type\":\"mesh3d\"}],\"parcoords\":[{\"line\":{\"colorbar\":{\"outlinewidth\":0,\"ticks\":\"\"}},\"type\":\"parcoords\"}],\"pie\":[{\"automargin\":true,\"type\":\"pie\"}],\"scatter\":[{\"marker\":{\"colorbar\":{\"outlinewidth\":0,\"ticks\":\"\"}},\"type\":\"scatter\"}],\"scatter3d\":[{\"line\":{\"colorbar\":{\"outlinewidth\":0,\"ticks\":\"\"}},\"marker\":{\"colorbar\":{\"outlinewidth\":0,\"ticks\":\"\"}},\"type\":\"scatter3d\"}],\"scattercarpet\":[{\"marker\":{\"colorbar\":{\"outlinewidth\":0,\"ticks\":\"\"}},\"type\":\"scattercarpet\"}],\"scattergeo\":[{\"marker\":{\"colorbar\":{\"outlinewidth\":0,\"ticks\":\"\"}},\"type\":\"scattergeo\"}],\"scattergl\":[{\"marker\":{\"colorbar\":{\"outlinewidth\":0,\"ticks\":\"\"}},\"type\":\"scattergl\"}],\"scattermapbox\":[{\"marker\":{\"colorbar\":{\"outlinewidth\":0,\"ticks\":\"\"}},\"type\":\"scattermapbox\"}],\"scatterpolar\":[{\"marker\":{\"colorbar\":{\"outlinewidth\":0,\"ticks\":\"\"}},\"type\":\"scatterpolar\"}],\"scatterpolargl\":[{\"marker\":{\"colorbar\":{\"outlinewidth\":0,\"ticks\":\"\"}},\"type\":\"scatterpolargl\"}],\"scatterternary\":[{\"marker\":{\"colorbar\":{\"outlinewidth\":0,\"ticks\":\"\"}},\"type\":\"scatterternary\"}],\"surface\":[{\"colorbar\":{\"outlinewidth\":0,\"ticks\":\"\"},\"colorscale\":[[0.0,\"#0d0887\"],[0.1111111111111111,\"#46039f\"],[0.2222222222222222,\"#7201a8\"],[0.3333333333333333,\"#9c179e\"],[0.4444444444444444,\"#bd3786\"],[0.5555555555555556,\"#d8576b\"],[0.6666666666666666,\"#ed7953\"],[0.7777777777777778,\"#fb9f3a\"],[0.8888888888888888,\"#fdca26\"],[1.0,\"#f0f921\"]],\"type\":\"surface\"}],\"table\":[{\"cells\":{\"fill\":{\"color\":\"#EBF0F8\"},\"line\":{\"color\":\"white\"}},\"header\":{\"fill\":{\"color\":\"#C8D4E3\"},\"line\":{\"color\":\"white\"}},\"type\":\"table\"}]},\"layout\":{\"annotationdefaults\":{\"arrowcolor\":\"#2a3f5f\",\"arrowhead\":0,\"arrowwidth\":1},\"autotypenumbers\":\"strict\",\"coloraxis\":{\"colorbar\":{\"outlinewidth\":0,\"ticks\":\"\"}},\"colorscale\":{\"diverging\":[[0,\"#8e0152\"],[0.1,\"#c51b7d\"],[0.2,\"#de77ae\"],[0.3,\"#f1b6da\"],[0.4,\"#fde0ef\"],[0.5,\"#f7f7f7\"],[0.6,\"#e6f5d0\"],[0.7,\"#b8e186\"],[0.8,\"#7fbc41\"],[0.9,\"#4d9221\"],[1,\"#276419\"]],\"sequential\":[[0.0,\"#0d0887\"],[0.1111111111111111,\"#46039f\"],[0.2222222222222222,\"#7201a8\"],[0.3333333333333333,\"#9c179e\"],[0.4444444444444444,\"#bd3786\"],[0.5555555555555556,\"#d8576b\"],[0.6666666666666666,\"#ed7953\"],[0.7777777777777778,\"#fb9f3a\"],[0.8888888888888888,\"#fdca26\"],[1.0,\"#f0f921\"]],\"sequentialminus\":[[0.0,\"#0d0887\"],[0.1111111111111111,\"#46039f\"],[0.2222222222222222,\"#7201a8\"],[0.3333333333333333,\"#9c179e\"],[0.4444444444444444,\"#bd3786\"],[0.5555555555555556,\"#d8576b\"],[0.6666666666666666,\"#ed7953\"],[0.7777777777777778,\"#fb9f3a\"],[0.8888888888888888,\"#fdca26\"],[1.0,\"#f0f921\"]]},\"colorway\":[\"#636efa\",\"#EF553B\",\"#00cc96\",\"#ab63fa\",\"#FFA15A\",\"#19d3f3\",\"#FF6692\",\"#B6E880\",\"#FF97FF\",\"#FECB52\"],\"font\":{\"color\":\"#2a3f5f\"},\"geo\":{\"bgcolor\":\"white\",\"lakecolor\":\"white\",\"landcolor\":\"#E5ECF6\",\"showlakes\":true,\"showland\":true,\"subunitcolor\":\"white\"},\"hoverlabel\":{\"align\":\"left\"},\"hovermode\":\"closest\",\"mapbox\":{\"style\":\"light\"},\"paper_bgcolor\":\"white\",\"plot_bgcolor\":\"#E5ECF6\",\"polar\":{\"angularaxis\":{\"gridcolor\":\"white\",\"linecolor\":\"white\",\"ticks\":\"\"},\"bgcolor\":\"#E5ECF6\",\"radialaxis\":{\"gridcolor\":\"white\",\"linecolor\":\"white\",\"ticks\":\"\"}},\"scene\":{\"xaxis\":{\"backgroundcolor\":\"#E5ECF6\",\"gridcolor\":\"white\",\"gridwidth\":2,\"linecolor\":\"white\",\"showbackground\":true,\"ticks\":\"\",\"zerolinecolor\":\"white\"},\"yaxis\":{\"backgroundcolor\":\"#E5ECF6\",\"gridcolor\":\"white\",\"gridwidth\":2,\"linecolor\":\"white\",\"showbackground\":true,\"ticks\":\"\",\"zerolinecolor\":\"white\"},\"zaxis\":{\"backgroundcolor\":\"#E5ECF6\",\"gridcolor\":\"white\",\"gridwidth\":2,\"linecolor\":\"white\",\"showbackground\":true,\"ticks\":\"\",\"zerolinecolor\":\"white\"}},\"shapedefaults\":{\"line\":{\"color\":\"#2a3f5f\"}},\"ternary\":{\"aaxis\":{\"gridcolor\":\"white\",\"linecolor\":\"white\",\"ticks\":\"\"},\"baxis\":{\"gridcolor\":\"white\",\"linecolor\":\"white\",\"ticks\":\"\"},\"bgcolor\":\"#E5ECF6\",\"caxis\":{\"gridcolor\":\"white\",\"linecolor\":\"white\",\"ticks\":\"\"}},\"title\":{\"x\":0.05},\"xaxis\":{\"automargin\":true,\"gridcolor\":\"white\",\"linecolor\":\"white\",\"ticks\":\"\",\"title\":{\"standoff\":15},\"zerolinecolor\":\"white\",\"zerolinewidth\":2},\"yaxis\":{\"automargin\":true,\"gridcolor\":\"white\",\"linecolor\":\"white\",\"ticks\":\"\",\"title\":{\"standoff\":15},\"zerolinecolor\":\"white\",\"zerolinewidth\":2}}},\"xaxis\":{\"anchor\":\"y\",\"domain\":[0.0,1.0],\"title\":{\"text\":\"Estados\"}},\"yaxis\":{\"anchor\":\"x\",\"domain\":[0.0,1.0],\"title\":{\"text\":\"2_trimestre_2022\"}},\"coloraxis\":{\"colorbar\":{\"title\":{\"text\":\"2_trimestre_2022\"}},\"colorscale\":[[0.0,\"#0d0887\"],[0.1111111111111111,\"#46039f\"],[0.2222222222222222,\"#7201a8\"],[0.3333333333333333,\"#9c179e\"],[0.4444444444444444,\"#bd3786\"],[0.5555555555555556,\"#d8576b\"],[0.6666666666666666,\"#ed7953\"],[0.7777777777777778,\"#fb9f3a\"],[0.8888888888888888,\"#fdca26\"],[1.0,\"#f0f921\"]]},\"legend\":{\"tracegroupgap\":0},\"title\":{\"text\":\"Desemprego no segundo trimestre de 2022\"},\"barmode\":\"group\"},                        {\"responsive\": true}                    ).then(function(){\n",
              "                            \n",
              "var gd = document.getElementById('d4d6b595-2495-4543-9d54-34b4f59019ae');\n",
              "var x = new MutationObserver(function (mutations, observer) {{\n",
              "        var display = window.getComputedStyle(gd).display;\n",
              "        if (!display || display === 'none') {{\n",
              "            console.log([gd, 'removed!']);\n",
              "            Plotly.purge(gd);\n",
              "            observer.disconnect();\n",
              "        }}\n",
              "}});\n",
              "\n",
              "// Listen for the removal of the full notebook cells\n",
              "var notebookContainer = gd.closest('#notebook-container');\n",
              "if (notebookContainer) {{\n",
              "    x.observe(notebookContainer, {childList: true});\n",
              "}}\n",
              "\n",
              "// Listen for the clearing of the current output cell\n",
              "var outputEl = gd.closest('.output');\n",
              "if (outputEl) {{\n",
              "    x.observe(outputEl, {childList: true});\n",
              "}}\n",
              "\n",
              "                        })                };                            </script>        </div>\n",
              "</body>\n",
              "</html>"
            ]
          },
          "metadata": {}
        }
      ],
      "source": [
        "to_plot = [v for v in list(graf.columns)]\n",
        "\n",
        "fig_graf_desemprego_covid = px.bar(graf, x=graf.Estados, y=to_plot,\\\n",
        "                                   barmode=\"group\",\\\n",
        "                                   text_auto='.2s',\\\n",
        "                                   title=\"Obitos por Covid e Desemprego\")\n",
        "             \n",
        "fig_graf_desemprego_covid.show()\n",
        "\n",
        "\n",
        "graf_desemprego_covid = px.bar(graf, x='Estados', y=\"total_obitos\",\\\n",
        "                               barmode=\"group\",\\\n",
        "                               color=\"total_obitos\",\\\n",
        "                               title=\"Obitos por Covid\")\n",
        "graf_desemprego_covidx = px.bar(graf, x='Estados', y=\"1_trimestre_2020\",\\\n",
        "                                barmode=\"group\",\\\n",
        "                                color=\"1_trimestre_2020\",\\\n",
        "                                title=\"Desemprego no primeiro trimestre de 2020\")\n",
        "graf_desemprego_covidxx = px.bar(graf, x='Estados', y=\"2_trimestre_2022\",\\\n",
        "                                 barmode=\"group\",\\\n",
        "                                 color=\"2_trimestre_2022\",\\\n",
        "                                 title=\"Desemprego no segundo trimestre de 2022\")\n",
        "graf_desemprego_covid.show()\n",
        "graf_desemprego_covidx.show()\n",
        "graf_desemprego_covidxx.show()"
      ]
    },
    {
      "cell_type": "code",
      "execution_count": 43,
      "metadata": {
        "id": "AFGKNamj0uGC"
      },
      "outputs": [],
      "source": [
        "graf2 = regiao_ob.join(poluicao_ar, regiao_ob.Regioes == poluicao_ar.Regiao, \"inner\")\\\n",
        "                 .drop(\"Regiao\")\n",
        "graf2 = graf2.toPandas()"
      ]
    },
    {
      "cell_type": "code",
      "execution_count": 44,
      "metadata": {
        "id": "_8Xd2Y1W2Pf2",
        "colab": {
          "base_uri": "https://localhost:8080/",
          "height": 1000
        },
        "outputId": "c901400d-ed52-4f1d-fc9f-48faf3ca67e1"
      },
      "outputs": [
        {
          "output_type": "display_data",
          "data": {
            "text/html": [
              "<html>\n",
              "<head><meta charset=\"utf-8\" /></head>\n",
              "<body>\n",
              "    <div>            <script src=\"https://cdnjs.cloudflare.com/ajax/libs/mathjax/2.7.5/MathJax.js?config=TeX-AMS-MML_SVG\"></script><script type=\"text/javascript\">if (window.MathJax) {MathJax.Hub.Config({SVG: {font: \"STIX-Web\"}});}</script>                <script type=\"text/javascript\">window.PlotlyConfig = {MathJaxConfig: 'local'};</script>\n",
              "        <script src=\"https://cdn.plot.ly/plotly-2.8.3.min.js\"></script>                <div id=\"91f45d17-3524-4f55-a5d0-b6e7f3793d3d\" class=\"plotly-graph-div\" style=\"height:525px; width:100%;\"></div>            <script type=\"text/javascript\">                                    window.PLOTLYENV=window.PLOTLYENV || {};                                    if (document.getElementById(\"91f45d17-3524-4f55-a5d0-b6e7f3793d3d\")) {                    Plotly.newPlot(                        \"91f45d17-3524-4f55-a5d0-b6e7f3793d3d\",                        [{\"alignmentgroup\":\"True\",\"hovertemplate\":\"variable=total_obitos<br>Regioes=%{x}<br>value=%{y}<extra></extra>\",\"legendgroup\":\"total_obitos\",\"marker\":{\"color\":\"#636efa\",\"pattern\":{\"shape\":\"\"}},\"name\":\"total_obitos\",\"offsetgroup\":\"total_obitos\",\"orientation\":\"v\",\"showlegend\":true,\"textposition\":\"auto\",\"texttemplate\":\"%{y:.2s}\",\"x\":[\"Nordeste\",\"Sul\",\"Sudeste\",\"Centro-Oeste\",\"Norte\"],\"xaxis\":\"x\",\"y\":[319672.0,224856.0,736392.0,140066.0,125026.0],\"yaxis\":\"y\",\"type\":\"bar\"},{\"alignmentgroup\":\"True\",\"hovertemplate\":\"variable=Total_Poluicao_do_ar<br>Regioes=%{x}<br>value=%{y}<extra></extra>\",\"legendgroup\":\"Total_Poluicao_do_ar\",\"marker\":{\"color\":\"#EF553B\",\"pattern\":{\"shape\":\"\"}},\"name\":\"Total_Poluicao_do_ar\",\"offsetgroup\":\"Total_Poluicao_do_ar\",\"orientation\":\"v\",\"showlegend\":true,\"textposition\":\"auto\",\"texttemplate\":\"%{y:.2s}\",\"x\":[\"Nordeste\",\"Sul\",\"Sudeste\",\"Centro-Oeste\",\"Norte\"],\"xaxis\":\"x\",\"y\":[126.0,46.0,92.0,36.0,53.0],\"yaxis\":\"y\",\"type\":\"bar\"}],                        {\"template\":{\"data\":{\"bar\":[{\"error_x\":{\"color\":\"#2a3f5f\"},\"error_y\":{\"color\":\"#2a3f5f\"},\"marker\":{\"line\":{\"color\":\"#E5ECF6\",\"width\":0.5},\"pattern\":{\"fillmode\":\"overlay\",\"size\":10,\"solidity\":0.2}},\"type\":\"bar\"}],\"barpolar\":[{\"marker\":{\"line\":{\"color\":\"#E5ECF6\",\"width\":0.5},\"pattern\":{\"fillmode\":\"overlay\",\"size\":10,\"solidity\":0.2}},\"type\":\"barpolar\"}],\"carpet\":[{\"aaxis\":{\"endlinecolor\":\"#2a3f5f\",\"gridcolor\":\"white\",\"linecolor\":\"white\",\"minorgridcolor\":\"white\",\"startlinecolor\":\"#2a3f5f\"},\"baxis\":{\"endlinecolor\":\"#2a3f5f\",\"gridcolor\":\"white\",\"linecolor\":\"white\",\"minorgridcolor\":\"white\",\"startlinecolor\":\"#2a3f5f\"},\"type\":\"carpet\"}],\"choropleth\":[{\"colorbar\":{\"outlinewidth\":0,\"ticks\":\"\"},\"type\":\"choropleth\"}],\"contour\":[{\"colorbar\":{\"outlinewidth\":0,\"ticks\":\"\"},\"colorscale\":[[0.0,\"#0d0887\"],[0.1111111111111111,\"#46039f\"],[0.2222222222222222,\"#7201a8\"],[0.3333333333333333,\"#9c179e\"],[0.4444444444444444,\"#bd3786\"],[0.5555555555555556,\"#d8576b\"],[0.6666666666666666,\"#ed7953\"],[0.7777777777777778,\"#fb9f3a\"],[0.8888888888888888,\"#fdca26\"],[1.0,\"#f0f921\"]],\"type\":\"contour\"}],\"contourcarpet\":[{\"colorbar\":{\"outlinewidth\":0,\"ticks\":\"\"},\"type\":\"contourcarpet\"}],\"heatmap\":[{\"colorbar\":{\"outlinewidth\":0,\"ticks\":\"\"},\"colorscale\":[[0.0,\"#0d0887\"],[0.1111111111111111,\"#46039f\"],[0.2222222222222222,\"#7201a8\"],[0.3333333333333333,\"#9c179e\"],[0.4444444444444444,\"#bd3786\"],[0.5555555555555556,\"#d8576b\"],[0.6666666666666666,\"#ed7953\"],[0.7777777777777778,\"#fb9f3a\"],[0.8888888888888888,\"#fdca26\"],[1.0,\"#f0f921\"]],\"type\":\"heatmap\"}],\"heatmapgl\":[{\"colorbar\":{\"outlinewidth\":0,\"ticks\":\"\"},\"colorscale\":[[0.0,\"#0d0887\"],[0.1111111111111111,\"#46039f\"],[0.2222222222222222,\"#7201a8\"],[0.3333333333333333,\"#9c179e\"],[0.4444444444444444,\"#bd3786\"],[0.5555555555555556,\"#d8576b\"],[0.6666666666666666,\"#ed7953\"],[0.7777777777777778,\"#fb9f3a\"],[0.8888888888888888,\"#fdca26\"],[1.0,\"#f0f921\"]],\"type\":\"heatmapgl\"}],\"histogram\":[{\"marker\":{\"pattern\":{\"fillmode\":\"overlay\",\"size\":10,\"solidity\":0.2}},\"type\":\"histogram\"}],\"histogram2d\":[{\"colorbar\":{\"outlinewidth\":0,\"ticks\":\"\"},\"colorscale\":[[0.0,\"#0d0887\"],[0.1111111111111111,\"#46039f\"],[0.2222222222222222,\"#7201a8\"],[0.3333333333333333,\"#9c179e\"],[0.4444444444444444,\"#bd3786\"],[0.5555555555555556,\"#d8576b\"],[0.6666666666666666,\"#ed7953\"],[0.7777777777777778,\"#fb9f3a\"],[0.8888888888888888,\"#fdca26\"],[1.0,\"#f0f921\"]],\"type\":\"histogram2d\"}],\"histogram2dcontour\":[{\"colorbar\":{\"outlinewidth\":0,\"ticks\":\"\"},\"colorscale\":[[0.0,\"#0d0887\"],[0.1111111111111111,\"#46039f\"],[0.2222222222222222,\"#7201a8\"],[0.3333333333333333,\"#9c179e\"],[0.4444444444444444,\"#bd3786\"],[0.5555555555555556,\"#d8576b\"],[0.6666666666666666,\"#ed7953\"],[0.7777777777777778,\"#fb9f3a\"],[0.8888888888888888,\"#fdca26\"],[1.0,\"#f0f921\"]],\"type\":\"histogram2dcontour\"}],\"mesh3d\":[{\"colorbar\":{\"outlinewidth\":0,\"ticks\":\"\"},\"type\":\"mesh3d\"}],\"parcoords\":[{\"line\":{\"colorbar\":{\"outlinewidth\":0,\"ticks\":\"\"}},\"type\":\"parcoords\"}],\"pie\":[{\"automargin\":true,\"type\":\"pie\"}],\"scatter\":[{\"marker\":{\"colorbar\":{\"outlinewidth\":0,\"ticks\":\"\"}},\"type\":\"scatter\"}],\"scatter3d\":[{\"line\":{\"colorbar\":{\"outlinewidth\":0,\"ticks\":\"\"}},\"marker\":{\"colorbar\":{\"outlinewidth\":0,\"ticks\":\"\"}},\"type\":\"scatter3d\"}],\"scattercarpet\":[{\"marker\":{\"colorbar\":{\"outlinewidth\":0,\"ticks\":\"\"}},\"type\":\"scattercarpet\"}],\"scattergeo\":[{\"marker\":{\"colorbar\":{\"outlinewidth\":0,\"ticks\":\"\"}},\"type\":\"scattergeo\"}],\"scattergl\":[{\"marker\":{\"colorbar\":{\"outlinewidth\":0,\"ticks\":\"\"}},\"type\":\"scattergl\"}],\"scattermapbox\":[{\"marker\":{\"colorbar\":{\"outlinewidth\":0,\"ticks\":\"\"}},\"type\":\"scattermapbox\"}],\"scatterpolar\":[{\"marker\":{\"colorbar\":{\"outlinewidth\":0,\"ticks\":\"\"}},\"type\":\"scatterpolar\"}],\"scatterpolargl\":[{\"marker\":{\"colorbar\":{\"outlinewidth\":0,\"ticks\":\"\"}},\"type\":\"scatterpolargl\"}],\"scatterternary\":[{\"marker\":{\"colorbar\":{\"outlinewidth\":0,\"ticks\":\"\"}},\"type\":\"scatterternary\"}],\"surface\":[{\"colorbar\":{\"outlinewidth\":0,\"ticks\":\"\"},\"colorscale\":[[0.0,\"#0d0887\"],[0.1111111111111111,\"#46039f\"],[0.2222222222222222,\"#7201a8\"],[0.3333333333333333,\"#9c179e\"],[0.4444444444444444,\"#bd3786\"],[0.5555555555555556,\"#d8576b\"],[0.6666666666666666,\"#ed7953\"],[0.7777777777777778,\"#fb9f3a\"],[0.8888888888888888,\"#fdca26\"],[1.0,\"#f0f921\"]],\"type\":\"surface\"}],\"table\":[{\"cells\":{\"fill\":{\"color\":\"#EBF0F8\"},\"line\":{\"color\":\"white\"}},\"header\":{\"fill\":{\"color\":\"#C8D4E3\"},\"line\":{\"color\":\"white\"}},\"type\":\"table\"}]},\"layout\":{\"annotationdefaults\":{\"arrowcolor\":\"#2a3f5f\",\"arrowhead\":0,\"arrowwidth\":1},\"autotypenumbers\":\"strict\",\"coloraxis\":{\"colorbar\":{\"outlinewidth\":0,\"ticks\":\"\"}},\"colorscale\":{\"diverging\":[[0,\"#8e0152\"],[0.1,\"#c51b7d\"],[0.2,\"#de77ae\"],[0.3,\"#f1b6da\"],[0.4,\"#fde0ef\"],[0.5,\"#f7f7f7\"],[0.6,\"#e6f5d0\"],[0.7,\"#b8e186\"],[0.8,\"#7fbc41\"],[0.9,\"#4d9221\"],[1,\"#276419\"]],\"sequential\":[[0.0,\"#0d0887\"],[0.1111111111111111,\"#46039f\"],[0.2222222222222222,\"#7201a8\"],[0.3333333333333333,\"#9c179e\"],[0.4444444444444444,\"#bd3786\"],[0.5555555555555556,\"#d8576b\"],[0.6666666666666666,\"#ed7953\"],[0.7777777777777778,\"#fb9f3a\"],[0.8888888888888888,\"#fdca26\"],[1.0,\"#f0f921\"]],\"sequentialminus\":[[0.0,\"#0d0887\"],[0.1111111111111111,\"#46039f\"],[0.2222222222222222,\"#7201a8\"],[0.3333333333333333,\"#9c179e\"],[0.4444444444444444,\"#bd3786\"],[0.5555555555555556,\"#d8576b\"],[0.6666666666666666,\"#ed7953\"],[0.7777777777777778,\"#fb9f3a\"],[0.8888888888888888,\"#fdca26\"],[1.0,\"#f0f921\"]]},\"colorway\":[\"#636efa\",\"#EF553B\",\"#00cc96\",\"#ab63fa\",\"#FFA15A\",\"#19d3f3\",\"#FF6692\",\"#B6E880\",\"#FF97FF\",\"#FECB52\"],\"font\":{\"color\":\"#2a3f5f\"},\"geo\":{\"bgcolor\":\"white\",\"lakecolor\":\"white\",\"landcolor\":\"#E5ECF6\",\"showlakes\":true,\"showland\":true,\"subunitcolor\":\"white\"},\"hoverlabel\":{\"align\":\"left\"},\"hovermode\":\"closest\",\"mapbox\":{\"style\":\"light\"},\"paper_bgcolor\":\"white\",\"plot_bgcolor\":\"#E5ECF6\",\"polar\":{\"angularaxis\":{\"gridcolor\":\"white\",\"linecolor\":\"white\",\"ticks\":\"\"},\"bgcolor\":\"#E5ECF6\",\"radialaxis\":{\"gridcolor\":\"white\",\"linecolor\":\"white\",\"ticks\":\"\"}},\"scene\":{\"xaxis\":{\"backgroundcolor\":\"#E5ECF6\",\"gridcolor\":\"white\",\"gridwidth\":2,\"linecolor\":\"white\",\"showbackground\":true,\"ticks\":\"\",\"zerolinecolor\":\"white\"},\"yaxis\":{\"backgroundcolor\":\"#E5ECF6\",\"gridcolor\":\"white\",\"gridwidth\":2,\"linecolor\":\"white\",\"showbackground\":true,\"ticks\":\"\",\"zerolinecolor\":\"white\"},\"zaxis\":{\"backgroundcolor\":\"#E5ECF6\",\"gridcolor\":\"white\",\"gridwidth\":2,\"linecolor\":\"white\",\"showbackground\":true,\"ticks\":\"\",\"zerolinecolor\":\"white\"}},\"shapedefaults\":{\"line\":{\"color\":\"#2a3f5f\"}},\"ternary\":{\"aaxis\":{\"gridcolor\":\"white\",\"linecolor\":\"white\",\"ticks\":\"\"},\"baxis\":{\"gridcolor\":\"white\",\"linecolor\":\"white\",\"ticks\":\"\"},\"bgcolor\":\"#E5ECF6\",\"caxis\":{\"gridcolor\":\"white\",\"linecolor\":\"white\",\"ticks\":\"\"}},\"title\":{\"x\":0.05},\"xaxis\":{\"automargin\":true,\"gridcolor\":\"white\",\"linecolor\":\"white\",\"ticks\":\"\",\"title\":{\"standoff\":15},\"zerolinecolor\":\"white\",\"zerolinewidth\":2},\"yaxis\":{\"automargin\":true,\"gridcolor\":\"white\",\"linecolor\":\"white\",\"ticks\":\"\",\"title\":{\"standoff\":15},\"zerolinecolor\":\"white\",\"zerolinewidth\":2}}},\"xaxis\":{\"anchor\":\"y\",\"domain\":[0.0,1.0],\"title\":{\"text\":\"Regioes\"}},\"yaxis\":{\"anchor\":\"x\",\"domain\":[0.0,1.0],\"title\":{\"text\":\"value\"}},\"legend\":{\"title\":{\"text\":\"variable\"},\"tracegroupgap\":0},\"title\":{\"text\":\"Obitos por Covid e Polui\\u00e7\\u00e3o\"},\"barmode\":\"group\"},                        {\"responsive\": true}                    ).then(function(){\n",
              "                            \n",
              "var gd = document.getElementById('91f45d17-3524-4f55-a5d0-b6e7f3793d3d');\n",
              "var x = new MutationObserver(function (mutations, observer) {{\n",
              "        var display = window.getComputedStyle(gd).display;\n",
              "        if (!display || display === 'none') {{\n",
              "            console.log([gd, 'removed!']);\n",
              "            Plotly.purge(gd);\n",
              "            observer.disconnect();\n",
              "        }}\n",
              "}});\n",
              "\n",
              "// Listen for the removal of the full notebook cells\n",
              "var notebookContainer = gd.closest('#notebook-container');\n",
              "if (notebookContainer) {{\n",
              "    x.observe(notebookContainer, {childList: true});\n",
              "}}\n",
              "\n",
              "// Listen for the clearing of the current output cell\n",
              "var outputEl = gd.closest('.output');\n",
              "if (outputEl) {{\n",
              "    x.observe(outputEl, {childList: true});\n",
              "}}\n",
              "\n",
              "                        })                };                            </script>        </div>\n",
              "</body>\n",
              "</html>"
            ]
          },
          "metadata": {}
        },
        {
          "output_type": "display_data",
          "data": {
            "text/html": [
              "<html>\n",
              "<head><meta charset=\"utf-8\" /></head>\n",
              "<body>\n",
              "    <div>            <script src=\"https://cdnjs.cloudflare.com/ajax/libs/mathjax/2.7.5/MathJax.js?config=TeX-AMS-MML_SVG\"></script><script type=\"text/javascript\">if (window.MathJax) {MathJax.Hub.Config({SVG: {font: \"STIX-Web\"}});}</script>                <script type=\"text/javascript\">window.PlotlyConfig = {MathJaxConfig: 'local'};</script>\n",
              "        <script src=\"https://cdn.plot.ly/plotly-2.8.3.min.js\"></script>                <div id=\"a19c02e3-3fd8-4346-b10a-f1595af3cd0e\" class=\"plotly-graph-div\" style=\"height:525px; width:100%;\"></div>            <script type=\"text/javascript\">                                    window.PLOTLYENV=window.PLOTLYENV || {};                                    if (document.getElementById(\"a19c02e3-3fd8-4346-b10a-f1595af3cd0e\")) {                    Plotly.newPlot(                        \"a19c02e3-3fd8-4346-b10a-f1595af3cd0e\",                        [{\"alignmentgroup\":\"True\",\"hovertemplate\":\"Regioes=%{x}<br>total_obitos=%{marker.color}<extra></extra>\",\"legendgroup\":\"\",\"marker\":{\"color\":[319672,224856,736392,140066,125026],\"coloraxis\":\"coloraxis\",\"pattern\":{\"shape\":\"\"}},\"name\":\"\",\"offsetgroup\":\"\",\"orientation\":\"v\",\"showlegend\":false,\"textposition\":\"auto\",\"x\":[\"Nordeste\",\"Sul\",\"Sudeste\",\"Centro-Oeste\",\"Norte\"],\"xaxis\":\"x\",\"y\":[319672,224856,736392,140066,125026],\"yaxis\":\"y\",\"type\":\"bar\"}],                        {\"template\":{\"data\":{\"bar\":[{\"error_x\":{\"color\":\"#2a3f5f\"},\"error_y\":{\"color\":\"#2a3f5f\"},\"marker\":{\"line\":{\"color\":\"#E5ECF6\",\"width\":0.5},\"pattern\":{\"fillmode\":\"overlay\",\"size\":10,\"solidity\":0.2}},\"type\":\"bar\"}],\"barpolar\":[{\"marker\":{\"line\":{\"color\":\"#E5ECF6\",\"width\":0.5},\"pattern\":{\"fillmode\":\"overlay\",\"size\":10,\"solidity\":0.2}},\"type\":\"barpolar\"}],\"carpet\":[{\"aaxis\":{\"endlinecolor\":\"#2a3f5f\",\"gridcolor\":\"white\",\"linecolor\":\"white\",\"minorgridcolor\":\"white\",\"startlinecolor\":\"#2a3f5f\"},\"baxis\":{\"endlinecolor\":\"#2a3f5f\",\"gridcolor\":\"white\",\"linecolor\":\"white\",\"minorgridcolor\":\"white\",\"startlinecolor\":\"#2a3f5f\"},\"type\":\"carpet\"}],\"choropleth\":[{\"colorbar\":{\"outlinewidth\":0,\"ticks\":\"\"},\"type\":\"choropleth\"}],\"contour\":[{\"colorbar\":{\"outlinewidth\":0,\"ticks\":\"\"},\"colorscale\":[[0.0,\"#0d0887\"],[0.1111111111111111,\"#46039f\"],[0.2222222222222222,\"#7201a8\"],[0.3333333333333333,\"#9c179e\"],[0.4444444444444444,\"#bd3786\"],[0.5555555555555556,\"#d8576b\"],[0.6666666666666666,\"#ed7953\"],[0.7777777777777778,\"#fb9f3a\"],[0.8888888888888888,\"#fdca26\"],[1.0,\"#f0f921\"]],\"type\":\"contour\"}],\"contourcarpet\":[{\"colorbar\":{\"outlinewidth\":0,\"ticks\":\"\"},\"type\":\"contourcarpet\"}],\"heatmap\":[{\"colorbar\":{\"outlinewidth\":0,\"ticks\":\"\"},\"colorscale\":[[0.0,\"#0d0887\"],[0.1111111111111111,\"#46039f\"],[0.2222222222222222,\"#7201a8\"],[0.3333333333333333,\"#9c179e\"],[0.4444444444444444,\"#bd3786\"],[0.5555555555555556,\"#d8576b\"],[0.6666666666666666,\"#ed7953\"],[0.7777777777777778,\"#fb9f3a\"],[0.8888888888888888,\"#fdca26\"],[1.0,\"#f0f921\"]],\"type\":\"heatmap\"}],\"heatmapgl\":[{\"colorbar\":{\"outlinewidth\":0,\"ticks\":\"\"},\"colorscale\":[[0.0,\"#0d0887\"],[0.1111111111111111,\"#46039f\"],[0.2222222222222222,\"#7201a8\"],[0.3333333333333333,\"#9c179e\"],[0.4444444444444444,\"#bd3786\"],[0.5555555555555556,\"#d8576b\"],[0.6666666666666666,\"#ed7953\"],[0.7777777777777778,\"#fb9f3a\"],[0.8888888888888888,\"#fdca26\"],[1.0,\"#f0f921\"]],\"type\":\"heatmapgl\"}],\"histogram\":[{\"marker\":{\"pattern\":{\"fillmode\":\"overlay\",\"size\":10,\"solidity\":0.2}},\"type\":\"histogram\"}],\"histogram2d\":[{\"colorbar\":{\"outlinewidth\":0,\"ticks\":\"\"},\"colorscale\":[[0.0,\"#0d0887\"],[0.1111111111111111,\"#46039f\"],[0.2222222222222222,\"#7201a8\"],[0.3333333333333333,\"#9c179e\"],[0.4444444444444444,\"#bd3786\"],[0.5555555555555556,\"#d8576b\"],[0.6666666666666666,\"#ed7953\"],[0.7777777777777778,\"#fb9f3a\"],[0.8888888888888888,\"#fdca26\"],[1.0,\"#f0f921\"]],\"type\":\"histogram2d\"}],\"histogram2dcontour\":[{\"colorbar\":{\"outlinewidth\":0,\"ticks\":\"\"},\"colorscale\":[[0.0,\"#0d0887\"],[0.1111111111111111,\"#46039f\"],[0.2222222222222222,\"#7201a8\"],[0.3333333333333333,\"#9c179e\"],[0.4444444444444444,\"#bd3786\"],[0.5555555555555556,\"#d8576b\"],[0.6666666666666666,\"#ed7953\"],[0.7777777777777778,\"#fb9f3a\"],[0.8888888888888888,\"#fdca26\"],[1.0,\"#f0f921\"]],\"type\":\"histogram2dcontour\"}],\"mesh3d\":[{\"colorbar\":{\"outlinewidth\":0,\"ticks\":\"\"},\"type\":\"mesh3d\"}],\"parcoords\":[{\"line\":{\"colorbar\":{\"outlinewidth\":0,\"ticks\":\"\"}},\"type\":\"parcoords\"}],\"pie\":[{\"automargin\":true,\"type\":\"pie\"}],\"scatter\":[{\"marker\":{\"colorbar\":{\"outlinewidth\":0,\"ticks\":\"\"}},\"type\":\"scatter\"}],\"scatter3d\":[{\"line\":{\"colorbar\":{\"outlinewidth\":0,\"ticks\":\"\"}},\"marker\":{\"colorbar\":{\"outlinewidth\":0,\"ticks\":\"\"}},\"type\":\"scatter3d\"}],\"scattercarpet\":[{\"marker\":{\"colorbar\":{\"outlinewidth\":0,\"ticks\":\"\"}},\"type\":\"scattercarpet\"}],\"scattergeo\":[{\"marker\":{\"colorbar\":{\"outlinewidth\":0,\"ticks\":\"\"}},\"type\":\"scattergeo\"}],\"scattergl\":[{\"marker\":{\"colorbar\":{\"outlinewidth\":0,\"ticks\":\"\"}},\"type\":\"scattergl\"}],\"scattermapbox\":[{\"marker\":{\"colorbar\":{\"outlinewidth\":0,\"ticks\":\"\"}},\"type\":\"scattermapbox\"}],\"scatterpolar\":[{\"marker\":{\"colorbar\":{\"outlinewidth\":0,\"ticks\":\"\"}},\"type\":\"scatterpolar\"}],\"scatterpolargl\":[{\"marker\":{\"colorbar\":{\"outlinewidth\":0,\"ticks\":\"\"}},\"type\":\"scatterpolargl\"}],\"scatterternary\":[{\"marker\":{\"colorbar\":{\"outlinewidth\":0,\"ticks\":\"\"}},\"type\":\"scatterternary\"}],\"surface\":[{\"colorbar\":{\"outlinewidth\":0,\"ticks\":\"\"},\"colorscale\":[[0.0,\"#0d0887\"],[0.1111111111111111,\"#46039f\"],[0.2222222222222222,\"#7201a8\"],[0.3333333333333333,\"#9c179e\"],[0.4444444444444444,\"#bd3786\"],[0.5555555555555556,\"#d8576b\"],[0.6666666666666666,\"#ed7953\"],[0.7777777777777778,\"#fb9f3a\"],[0.8888888888888888,\"#fdca26\"],[1.0,\"#f0f921\"]],\"type\":\"surface\"}],\"table\":[{\"cells\":{\"fill\":{\"color\":\"#EBF0F8\"},\"line\":{\"color\":\"white\"}},\"header\":{\"fill\":{\"color\":\"#C8D4E3\"},\"line\":{\"color\":\"white\"}},\"type\":\"table\"}]},\"layout\":{\"annotationdefaults\":{\"arrowcolor\":\"#2a3f5f\",\"arrowhead\":0,\"arrowwidth\":1},\"autotypenumbers\":\"strict\",\"coloraxis\":{\"colorbar\":{\"outlinewidth\":0,\"ticks\":\"\"}},\"colorscale\":{\"diverging\":[[0,\"#8e0152\"],[0.1,\"#c51b7d\"],[0.2,\"#de77ae\"],[0.3,\"#f1b6da\"],[0.4,\"#fde0ef\"],[0.5,\"#f7f7f7\"],[0.6,\"#e6f5d0\"],[0.7,\"#b8e186\"],[0.8,\"#7fbc41\"],[0.9,\"#4d9221\"],[1,\"#276419\"]],\"sequential\":[[0.0,\"#0d0887\"],[0.1111111111111111,\"#46039f\"],[0.2222222222222222,\"#7201a8\"],[0.3333333333333333,\"#9c179e\"],[0.4444444444444444,\"#bd3786\"],[0.5555555555555556,\"#d8576b\"],[0.6666666666666666,\"#ed7953\"],[0.7777777777777778,\"#fb9f3a\"],[0.8888888888888888,\"#fdca26\"],[1.0,\"#f0f921\"]],\"sequentialminus\":[[0.0,\"#0d0887\"],[0.1111111111111111,\"#46039f\"],[0.2222222222222222,\"#7201a8\"],[0.3333333333333333,\"#9c179e\"],[0.4444444444444444,\"#bd3786\"],[0.5555555555555556,\"#d8576b\"],[0.6666666666666666,\"#ed7953\"],[0.7777777777777778,\"#fb9f3a\"],[0.8888888888888888,\"#fdca26\"],[1.0,\"#f0f921\"]]},\"colorway\":[\"#636efa\",\"#EF553B\",\"#00cc96\",\"#ab63fa\",\"#FFA15A\",\"#19d3f3\",\"#FF6692\",\"#B6E880\",\"#FF97FF\",\"#FECB52\"],\"font\":{\"color\":\"#2a3f5f\"},\"geo\":{\"bgcolor\":\"white\",\"lakecolor\":\"white\",\"landcolor\":\"#E5ECF6\",\"showlakes\":true,\"showland\":true,\"subunitcolor\":\"white\"},\"hoverlabel\":{\"align\":\"left\"},\"hovermode\":\"closest\",\"mapbox\":{\"style\":\"light\"},\"paper_bgcolor\":\"white\",\"plot_bgcolor\":\"#E5ECF6\",\"polar\":{\"angularaxis\":{\"gridcolor\":\"white\",\"linecolor\":\"white\",\"ticks\":\"\"},\"bgcolor\":\"#E5ECF6\",\"radialaxis\":{\"gridcolor\":\"white\",\"linecolor\":\"white\",\"ticks\":\"\"}},\"scene\":{\"xaxis\":{\"backgroundcolor\":\"#E5ECF6\",\"gridcolor\":\"white\",\"gridwidth\":2,\"linecolor\":\"white\",\"showbackground\":true,\"ticks\":\"\",\"zerolinecolor\":\"white\"},\"yaxis\":{\"backgroundcolor\":\"#E5ECF6\",\"gridcolor\":\"white\",\"gridwidth\":2,\"linecolor\":\"white\",\"showbackground\":true,\"ticks\":\"\",\"zerolinecolor\":\"white\"},\"zaxis\":{\"backgroundcolor\":\"#E5ECF6\",\"gridcolor\":\"white\",\"gridwidth\":2,\"linecolor\":\"white\",\"showbackground\":true,\"ticks\":\"\",\"zerolinecolor\":\"white\"}},\"shapedefaults\":{\"line\":{\"color\":\"#2a3f5f\"}},\"ternary\":{\"aaxis\":{\"gridcolor\":\"white\",\"linecolor\":\"white\",\"ticks\":\"\"},\"baxis\":{\"gridcolor\":\"white\",\"linecolor\":\"white\",\"ticks\":\"\"},\"bgcolor\":\"#E5ECF6\",\"caxis\":{\"gridcolor\":\"white\",\"linecolor\":\"white\",\"ticks\":\"\"}},\"title\":{\"x\":0.05},\"xaxis\":{\"automargin\":true,\"gridcolor\":\"white\",\"linecolor\":\"white\",\"ticks\":\"\",\"title\":{\"standoff\":15},\"zerolinecolor\":\"white\",\"zerolinewidth\":2},\"yaxis\":{\"automargin\":true,\"gridcolor\":\"white\",\"linecolor\":\"white\",\"ticks\":\"\",\"title\":{\"standoff\":15},\"zerolinecolor\":\"white\",\"zerolinewidth\":2}}},\"xaxis\":{\"anchor\":\"y\",\"domain\":[0.0,1.0],\"title\":{\"text\":\"Regioes\"}},\"yaxis\":{\"anchor\":\"x\",\"domain\":[0.0,1.0],\"title\":{\"text\":\"total_obitos\"}},\"coloraxis\":{\"colorbar\":{\"title\":{\"text\":\"total_obitos\"}},\"colorscale\":[[0.0,\"#0d0887\"],[0.1111111111111111,\"#46039f\"],[0.2222222222222222,\"#7201a8\"],[0.3333333333333333,\"#9c179e\"],[0.4444444444444444,\"#bd3786\"],[0.5555555555555556,\"#d8576b\"],[0.6666666666666666,\"#ed7953\"],[0.7777777777777778,\"#fb9f3a\"],[0.8888888888888888,\"#fdca26\"],[1.0,\"#f0f921\"]]},\"legend\":{\"tracegroupgap\":0},\"title\":{\"text\":\"Obitos por covid\"},\"barmode\":\"group\"},                        {\"responsive\": true}                    ).then(function(){\n",
              "                            \n",
              "var gd = document.getElementById('a19c02e3-3fd8-4346-b10a-f1595af3cd0e');\n",
              "var x = new MutationObserver(function (mutations, observer) {{\n",
              "        var display = window.getComputedStyle(gd).display;\n",
              "        if (!display || display === 'none') {{\n",
              "            console.log([gd, 'removed!']);\n",
              "            Plotly.purge(gd);\n",
              "            observer.disconnect();\n",
              "        }}\n",
              "}});\n",
              "\n",
              "// Listen for the removal of the full notebook cells\n",
              "var notebookContainer = gd.closest('#notebook-container');\n",
              "if (notebookContainer) {{\n",
              "    x.observe(notebookContainer, {childList: true});\n",
              "}}\n",
              "\n",
              "// Listen for the clearing of the current output cell\n",
              "var outputEl = gd.closest('.output');\n",
              "if (outputEl) {{\n",
              "    x.observe(outputEl, {childList: true});\n",
              "}}\n",
              "\n",
              "                        })                };                            </script>        </div>\n",
              "</body>\n",
              "</html>"
            ]
          },
          "metadata": {}
        },
        {
          "output_type": "display_data",
          "data": {
            "text/html": [
              "<html>\n",
              "<head><meta charset=\"utf-8\" /></head>\n",
              "<body>\n",
              "    <div>            <script src=\"https://cdnjs.cloudflare.com/ajax/libs/mathjax/2.7.5/MathJax.js?config=TeX-AMS-MML_SVG\"></script><script type=\"text/javascript\">if (window.MathJax) {MathJax.Hub.Config({SVG: {font: \"STIX-Web\"}});}</script>                <script type=\"text/javascript\">window.PlotlyConfig = {MathJaxConfig: 'local'};</script>\n",
              "        <script src=\"https://cdn.plot.ly/plotly-2.8.3.min.js\"></script>                <div id=\"36f3609b-28a8-41ba-9439-3096ccf2e4fa\" class=\"plotly-graph-div\" style=\"height:525px; width:100%;\"></div>            <script type=\"text/javascript\">                                    window.PLOTLYENV=window.PLOTLYENV || {};                                    if (document.getElementById(\"36f3609b-28a8-41ba-9439-3096ccf2e4fa\")) {                    Plotly.newPlot(                        \"36f3609b-28a8-41ba-9439-3096ccf2e4fa\",                        [{\"alignmentgroup\":\"True\",\"hovertemplate\":\"Regioes=%{x}<br>Total_Poluicao_do_ar=%{marker.color}<extra></extra>\",\"legendgroup\":\"\",\"marker\":{\"color\":[126.0,46.0,92.0,36.0,53.0],\"coloraxis\":\"coloraxis\",\"pattern\":{\"shape\":\"\"}},\"name\":\"\",\"offsetgroup\":\"\",\"orientation\":\"v\",\"showlegend\":false,\"textposition\":\"auto\",\"x\":[\"Nordeste\",\"Sul\",\"Sudeste\",\"Centro-Oeste\",\"Norte\"],\"xaxis\":\"x\",\"y\":[126.0,46.0,92.0,36.0,53.0],\"yaxis\":\"y\",\"type\":\"bar\"}],                        {\"template\":{\"data\":{\"bar\":[{\"error_x\":{\"color\":\"#2a3f5f\"},\"error_y\":{\"color\":\"#2a3f5f\"},\"marker\":{\"line\":{\"color\":\"#E5ECF6\",\"width\":0.5},\"pattern\":{\"fillmode\":\"overlay\",\"size\":10,\"solidity\":0.2}},\"type\":\"bar\"}],\"barpolar\":[{\"marker\":{\"line\":{\"color\":\"#E5ECF6\",\"width\":0.5},\"pattern\":{\"fillmode\":\"overlay\",\"size\":10,\"solidity\":0.2}},\"type\":\"barpolar\"}],\"carpet\":[{\"aaxis\":{\"endlinecolor\":\"#2a3f5f\",\"gridcolor\":\"white\",\"linecolor\":\"white\",\"minorgridcolor\":\"white\",\"startlinecolor\":\"#2a3f5f\"},\"baxis\":{\"endlinecolor\":\"#2a3f5f\",\"gridcolor\":\"white\",\"linecolor\":\"white\",\"minorgridcolor\":\"white\",\"startlinecolor\":\"#2a3f5f\"},\"type\":\"carpet\"}],\"choropleth\":[{\"colorbar\":{\"outlinewidth\":0,\"ticks\":\"\"},\"type\":\"choropleth\"}],\"contour\":[{\"colorbar\":{\"outlinewidth\":0,\"ticks\":\"\"},\"colorscale\":[[0.0,\"#0d0887\"],[0.1111111111111111,\"#46039f\"],[0.2222222222222222,\"#7201a8\"],[0.3333333333333333,\"#9c179e\"],[0.4444444444444444,\"#bd3786\"],[0.5555555555555556,\"#d8576b\"],[0.6666666666666666,\"#ed7953\"],[0.7777777777777778,\"#fb9f3a\"],[0.8888888888888888,\"#fdca26\"],[1.0,\"#f0f921\"]],\"type\":\"contour\"}],\"contourcarpet\":[{\"colorbar\":{\"outlinewidth\":0,\"ticks\":\"\"},\"type\":\"contourcarpet\"}],\"heatmap\":[{\"colorbar\":{\"outlinewidth\":0,\"ticks\":\"\"},\"colorscale\":[[0.0,\"#0d0887\"],[0.1111111111111111,\"#46039f\"],[0.2222222222222222,\"#7201a8\"],[0.3333333333333333,\"#9c179e\"],[0.4444444444444444,\"#bd3786\"],[0.5555555555555556,\"#d8576b\"],[0.6666666666666666,\"#ed7953\"],[0.7777777777777778,\"#fb9f3a\"],[0.8888888888888888,\"#fdca26\"],[1.0,\"#f0f921\"]],\"type\":\"heatmap\"}],\"heatmapgl\":[{\"colorbar\":{\"outlinewidth\":0,\"ticks\":\"\"},\"colorscale\":[[0.0,\"#0d0887\"],[0.1111111111111111,\"#46039f\"],[0.2222222222222222,\"#7201a8\"],[0.3333333333333333,\"#9c179e\"],[0.4444444444444444,\"#bd3786\"],[0.5555555555555556,\"#d8576b\"],[0.6666666666666666,\"#ed7953\"],[0.7777777777777778,\"#fb9f3a\"],[0.8888888888888888,\"#fdca26\"],[1.0,\"#f0f921\"]],\"type\":\"heatmapgl\"}],\"histogram\":[{\"marker\":{\"pattern\":{\"fillmode\":\"overlay\",\"size\":10,\"solidity\":0.2}},\"type\":\"histogram\"}],\"histogram2d\":[{\"colorbar\":{\"outlinewidth\":0,\"ticks\":\"\"},\"colorscale\":[[0.0,\"#0d0887\"],[0.1111111111111111,\"#46039f\"],[0.2222222222222222,\"#7201a8\"],[0.3333333333333333,\"#9c179e\"],[0.4444444444444444,\"#bd3786\"],[0.5555555555555556,\"#d8576b\"],[0.6666666666666666,\"#ed7953\"],[0.7777777777777778,\"#fb9f3a\"],[0.8888888888888888,\"#fdca26\"],[1.0,\"#f0f921\"]],\"type\":\"histogram2d\"}],\"histogram2dcontour\":[{\"colorbar\":{\"outlinewidth\":0,\"ticks\":\"\"},\"colorscale\":[[0.0,\"#0d0887\"],[0.1111111111111111,\"#46039f\"],[0.2222222222222222,\"#7201a8\"],[0.3333333333333333,\"#9c179e\"],[0.4444444444444444,\"#bd3786\"],[0.5555555555555556,\"#d8576b\"],[0.6666666666666666,\"#ed7953\"],[0.7777777777777778,\"#fb9f3a\"],[0.8888888888888888,\"#fdca26\"],[1.0,\"#f0f921\"]],\"type\":\"histogram2dcontour\"}],\"mesh3d\":[{\"colorbar\":{\"outlinewidth\":0,\"ticks\":\"\"},\"type\":\"mesh3d\"}],\"parcoords\":[{\"line\":{\"colorbar\":{\"outlinewidth\":0,\"ticks\":\"\"}},\"type\":\"parcoords\"}],\"pie\":[{\"automargin\":true,\"type\":\"pie\"}],\"scatter\":[{\"marker\":{\"colorbar\":{\"outlinewidth\":0,\"ticks\":\"\"}},\"type\":\"scatter\"}],\"scatter3d\":[{\"line\":{\"colorbar\":{\"outlinewidth\":0,\"ticks\":\"\"}},\"marker\":{\"colorbar\":{\"outlinewidth\":0,\"ticks\":\"\"}},\"type\":\"scatter3d\"}],\"scattercarpet\":[{\"marker\":{\"colorbar\":{\"outlinewidth\":0,\"ticks\":\"\"}},\"type\":\"scattercarpet\"}],\"scattergeo\":[{\"marker\":{\"colorbar\":{\"outlinewidth\":0,\"ticks\":\"\"}},\"type\":\"scattergeo\"}],\"scattergl\":[{\"marker\":{\"colorbar\":{\"outlinewidth\":0,\"ticks\":\"\"}},\"type\":\"scattergl\"}],\"scattermapbox\":[{\"marker\":{\"colorbar\":{\"outlinewidth\":0,\"ticks\":\"\"}},\"type\":\"scattermapbox\"}],\"scatterpolar\":[{\"marker\":{\"colorbar\":{\"outlinewidth\":0,\"ticks\":\"\"}},\"type\":\"scatterpolar\"}],\"scatterpolargl\":[{\"marker\":{\"colorbar\":{\"outlinewidth\":0,\"ticks\":\"\"}},\"type\":\"scatterpolargl\"}],\"scatterternary\":[{\"marker\":{\"colorbar\":{\"outlinewidth\":0,\"ticks\":\"\"}},\"type\":\"scatterternary\"}],\"surface\":[{\"colorbar\":{\"outlinewidth\":0,\"ticks\":\"\"},\"colorscale\":[[0.0,\"#0d0887\"],[0.1111111111111111,\"#46039f\"],[0.2222222222222222,\"#7201a8\"],[0.3333333333333333,\"#9c179e\"],[0.4444444444444444,\"#bd3786\"],[0.5555555555555556,\"#d8576b\"],[0.6666666666666666,\"#ed7953\"],[0.7777777777777778,\"#fb9f3a\"],[0.8888888888888888,\"#fdca26\"],[1.0,\"#f0f921\"]],\"type\":\"surface\"}],\"table\":[{\"cells\":{\"fill\":{\"color\":\"#EBF0F8\"},\"line\":{\"color\":\"white\"}},\"header\":{\"fill\":{\"color\":\"#C8D4E3\"},\"line\":{\"color\":\"white\"}},\"type\":\"table\"}]},\"layout\":{\"annotationdefaults\":{\"arrowcolor\":\"#2a3f5f\",\"arrowhead\":0,\"arrowwidth\":1},\"autotypenumbers\":\"strict\",\"coloraxis\":{\"colorbar\":{\"outlinewidth\":0,\"ticks\":\"\"}},\"colorscale\":{\"diverging\":[[0,\"#8e0152\"],[0.1,\"#c51b7d\"],[0.2,\"#de77ae\"],[0.3,\"#f1b6da\"],[0.4,\"#fde0ef\"],[0.5,\"#f7f7f7\"],[0.6,\"#e6f5d0\"],[0.7,\"#b8e186\"],[0.8,\"#7fbc41\"],[0.9,\"#4d9221\"],[1,\"#276419\"]],\"sequential\":[[0.0,\"#0d0887\"],[0.1111111111111111,\"#46039f\"],[0.2222222222222222,\"#7201a8\"],[0.3333333333333333,\"#9c179e\"],[0.4444444444444444,\"#bd3786\"],[0.5555555555555556,\"#d8576b\"],[0.6666666666666666,\"#ed7953\"],[0.7777777777777778,\"#fb9f3a\"],[0.8888888888888888,\"#fdca26\"],[1.0,\"#f0f921\"]],\"sequentialminus\":[[0.0,\"#0d0887\"],[0.1111111111111111,\"#46039f\"],[0.2222222222222222,\"#7201a8\"],[0.3333333333333333,\"#9c179e\"],[0.4444444444444444,\"#bd3786\"],[0.5555555555555556,\"#d8576b\"],[0.6666666666666666,\"#ed7953\"],[0.7777777777777778,\"#fb9f3a\"],[0.8888888888888888,\"#fdca26\"],[1.0,\"#f0f921\"]]},\"colorway\":[\"#636efa\",\"#EF553B\",\"#00cc96\",\"#ab63fa\",\"#FFA15A\",\"#19d3f3\",\"#FF6692\",\"#B6E880\",\"#FF97FF\",\"#FECB52\"],\"font\":{\"color\":\"#2a3f5f\"},\"geo\":{\"bgcolor\":\"white\",\"lakecolor\":\"white\",\"landcolor\":\"#E5ECF6\",\"showlakes\":true,\"showland\":true,\"subunitcolor\":\"white\"},\"hoverlabel\":{\"align\":\"left\"},\"hovermode\":\"closest\",\"mapbox\":{\"style\":\"light\"},\"paper_bgcolor\":\"white\",\"plot_bgcolor\":\"#E5ECF6\",\"polar\":{\"angularaxis\":{\"gridcolor\":\"white\",\"linecolor\":\"white\",\"ticks\":\"\"},\"bgcolor\":\"#E5ECF6\",\"radialaxis\":{\"gridcolor\":\"white\",\"linecolor\":\"white\",\"ticks\":\"\"}},\"scene\":{\"xaxis\":{\"backgroundcolor\":\"#E5ECF6\",\"gridcolor\":\"white\",\"gridwidth\":2,\"linecolor\":\"white\",\"showbackground\":true,\"ticks\":\"\",\"zerolinecolor\":\"white\"},\"yaxis\":{\"backgroundcolor\":\"#E5ECF6\",\"gridcolor\":\"white\",\"gridwidth\":2,\"linecolor\":\"white\",\"showbackground\":true,\"ticks\":\"\",\"zerolinecolor\":\"white\"},\"zaxis\":{\"backgroundcolor\":\"#E5ECF6\",\"gridcolor\":\"white\",\"gridwidth\":2,\"linecolor\":\"white\",\"showbackground\":true,\"ticks\":\"\",\"zerolinecolor\":\"white\"}},\"shapedefaults\":{\"line\":{\"color\":\"#2a3f5f\"}},\"ternary\":{\"aaxis\":{\"gridcolor\":\"white\",\"linecolor\":\"white\",\"ticks\":\"\"},\"baxis\":{\"gridcolor\":\"white\",\"linecolor\":\"white\",\"ticks\":\"\"},\"bgcolor\":\"#E5ECF6\",\"caxis\":{\"gridcolor\":\"white\",\"linecolor\":\"white\",\"ticks\":\"\"}},\"title\":{\"x\":0.05},\"xaxis\":{\"automargin\":true,\"gridcolor\":\"white\",\"linecolor\":\"white\",\"ticks\":\"\",\"title\":{\"standoff\":15},\"zerolinecolor\":\"white\",\"zerolinewidth\":2},\"yaxis\":{\"automargin\":true,\"gridcolor\":\"white\",\"linecolor\":\"white\",\"ticks\":\"\",\"title\":{\"standoff\":15},\"zerolinecolor\":\"white\",\"zerolinewidth\":2}}},\"xaxis\":{\"anchor\":\"y\",\"domain\":[0.0,1.0],\"title\":{\"text\":\"Regioes\"}},\"yaxis\":{\"anchor\":\"x\",\"domain\":[0.0,1.0],\"title\":{\"text\":\"Total_Poluicao_do_ar\"}},\"coloraxis\":{\"colorbar\":{\"title\":{\"text\":\"Total_Poluicao_do_ar\"}},\"colorscale\":[[0.0,\"#0d0887\"],[0.1111111111111111,\"#46039f\"],[0.2222222222222222,\"#7201a8\"],[0.3333333333333333,\"#9c179e\"],[0.4444444444444444,\"#bd3786\"],[0.5555555555555556,\"#d8576b\"],[0.6666666666666666,\"#ed7953\"],[0.7777777777777778,\"#fb9f3a\"],[0.8888888888888888,\"#fdca26\"],[1.0,\"#f0f921\"]]},\"legend\":{\"tracegroupgap\":0},\"title\":{\"text\":\"Polui\\u00e7\\u00e3o do ar\"},\"barmode\":\"group\"},                        {\"responsive\": true}                    ).then(function(){\n",
              "                            \n",
              "var gd = document.getElementById('36f3609b-28a8-41ba-9439-3096ccf2e4fa');\n",
              "var x = new MutationObserver(function (mutations, observer) {{\n",
              "        var display = window.getComputedStyle(gd).display;\n",
              "        if (!display || display === 'none') {{\n",
              "            console.log([gd, 'removed!']);\n",
              "            Plotly.purge(gd);\n",
              "            observer.disconnect();\n",
              "        }}\n",
              "}});\n",
              "\n",
              "// Listen for the removal of the full notebook cells\n",
              "var notebookContainer = gd.closest('#notebook-container');\n",
              "if (notebookContainer) {{\n",
              "    x.observe(notebookContainer, {childList: true});\n",
              "}}\n",
              "\n",
              "// Listen for the clearing of the current output cell\n",
              "var outputEl = gd.closest('.output');\n",
              "if (outputEl) {{\n",
              "    x.observe(outputEl, {childList: true});\n",
              "}}\n",
              "\n",
              "                        })                };                            </script>        </div>\n",
              "</body>\n",
              "</html>"
            ]
          },
          "metadata": {}
        }
      ],
      "source": [
        "to_plot_2= [v for v in list(graf2.columns)]\n",
        "\n",
        "fig_graf_poluicao_covid = px.bar(graf2, x=graf2.Regioes, y=to_plot_2,\\\n",
        "                                 barmode=\"group\",\\\n",
        "                                 text_auto='.2s',\\\n",
        "                                 title=\"Obitos por Covid e Poluição\")\n",
        "fig_graf_poluicao_covid.show()\n",
        "\n",
        "graf_poluicao_covid = px.bar(graf2, x='Regioes', y=\"total_obitos\",\\\n",
        "                             barmode=\"group\",\\\n",
        "                             color=\"total_obitos\",\\\n",
        "                             title=\"Obitos por covid\")\n",
        "graf_poluicao_covidx = px.bar(graf2, x='Regioes', y=\"Total_Poluicao_do_ar\",\\\n",
        "                              barmode=\"group\",\\\n",
        "                              color=\"Total_Poluicao_do_ar\",\\\n",
        "                              title='Poluição do ar')\n",
        "\n",
        "graf_poluicao_covid.show()\n",
        "graf_poluicao_covidx.show()"
      ]
    },
    {
      "cell_type": "markdown",
      "source": [
        "#### Importação da tabela de educação no Brasil referente aos anos de 2016,2017 e 2018, devido não encontrar dados mais rescentes\n",
        "\n",
        "\n"
      ],
      "metadata": {
        "id": "e2M6qeW-z0-4"
      }
    },
    {
      "cell_type": "code",
      "source": [
        "educacao = spark.read.format('csv')\\\n",
        "                     .options(header='true',\\\n",
        "                              inferschema='true')\\\n",
        "                .load(f'{caminho_local}/educacao.csv',header=True)"
      ],
      "metadata": {
        "id": "PA3zk8t70HSD"
      },
      "execution_count": 45,
      "outputs": []
    },
    {
      "cell_type": "code",
      "source": [
        "educacao.show()"
      ],
      "metadata": {
        "colab": {
          "base_uri": "https://localhost:8080/"
        },
        "id": "dM8EHvyZ2anB",
        "outputId": "c04521d7-ec74-4d48-ef82-a3a110aa8ad1"
      },
      "execution_count": 46,
      "outputs": [
        {
          "output_type": "stream",
          "name": "stdout",
          "text": [
            "+--------------------+--------------------+--------------------+--------------------+---------+----------------------+---------------+----+----+----+\n",
            "|           Indicador|   Nível_Territorial|Abertura_Territorial|Variável_de_abertura|Categoria|Variável_de_abertura_2|    Categoria_2|2016|2017|2018|\n",
            "+--------------------+--------------------+--------------------+--------------------+---------+----------------------+---------------+----+----+----+\n",
            "|Taxa de analfabet...|Unidade da Federação|            Rondônia|                Sexo|    Total|  Grupos de idade -...|15 anos ou mais| 6.6| 7.2| 6.5|\n",
            "|Taxa de analfabet...|Unidade da Federação|            Rondônia|                Sexo|    Total|  Grupos de idade -...|18 anos ou mais| 7.2| 7.6| 6.9|\n",
            "|Taxa de analfabet...|Unidade da Federação|            Rondônia|                Sexo|    Total|  Grupos de idade -...|25 anos ou mais| 8.4| 8.9| 8.3|\n",
            "|Taxa de analfabet...|Unidade da Federação|            Rondônia|                Sexo|    Total|  Grupos de idade -...|40 anos ou mais|13.7|14.0|13.1|\n",
            "|Taxa de analfabet...|Unidade da Federação|            Rondônia|                Sexo|    Total|  Grupos de idade -...|60 anos ou mais|28.5|29.7|27.5|\n",
            "|Taxa de analfabet...|Unidade da Federação|                Acre|                Sexo|    Total|  Grupos de idade -...|15 anos ou mais|13.1|12.1|12.1|\n",
            "|Taxa de analfabet...|Unidade da Federação|                Acre|                Sexo|    Total|  Grupos de idade -...|18 anos ou mais|14.4|13.3|13.2|\n",
            "|Taxa de analfabet...|Unidade da Federação|                Acre|                Sexo|    Total|  Grupos de idade -...|25 anos ou mais|17.4|16.3|15.9|\n",
            "|Taxa de analfabet...|Unidade da Federação|                Acre|                Sexo|    Total|  Grupos de idade -...|40 anos ou mais|25.4|23.9|23.4|\n",
            "|Taxa de analfabet...|Unidade da Federação|                Acre|                Sexo|    Total|  Grupos de idade -...|60 anos ou mais|41.7|37.0|36.5|\n",
            "|Taxa de analfabet...|Unidade da Federação|            Amazonas|                Sexo|    Total|  Grupos de idade -...|15 anos ou mais| 6.9| 6.1| 5.8|\n",
            "|Taxa de analfabet...|Unidade da Federação|            Amazonas|                Sexo|    Total|  Grupos de idade -...|18 anos ou mais| 7.5| 6.7| 6.3|\n",
            "|Taxa de analfabet...|Unidade da Federação|            Amazonas|                Sexo|    Total|  Grupos de idade -...|25 anos ou mais| 9.0| 8.0| 7.6|\n",
            "|Taxa de analfabet...|Unidade da Federação|            Amazonas|                Sexo|    Total|  Grupos de idade -...|40 anos ou mais|13.5|12.2|11.2|\n",
            "|Taxa de analfabet...|Unidade da Federação|            Amazonas|                Sexo|    Total|  Grupos de idade -...|60 anos ou mais|22.3|20.4|19.9|\n",
            "|Taxa de analfabet...|Unidade da Federação|             Roraima|                Sexo|    Total|  Grupos de idade -...|15 anos ou mais| 6.6| 6.0| 6.0|\n",
            "|Taxa de analfabet...|Unidade da Federação|             Roraima|                Sexo|    Total|  Grupos de idade -...|18 anos ou mais| 7.2| 6.6| 6.5|\n",
            "|Taxa de analfabet...|Unidade da Federação|             Roraima|                Sexo|    Total|  Grupos de idade -...|25 anos ou mais| 8.6| 8.2| 7.9|\n",
            "|Taxa de analfabet...|Unidade da Federação|             Roraima|                Sexo|    Total|  Grupos de idade -...|40 anos ou mais|13.8|13.5|12.9|\n",
            "|Taxa de analfabet...|Unidade da Federação|             Roraima|                Sexo|    Total|  Grupos de idade -...|60 anos ou mais|29.1|30.8|25.9|\n",
            "+--------------------+--------------------+--------------------+--------------------+---------+----------------------+---------------+----+----+----+\n",
            "only showing top 20 rows\n",
            "\n"
          ]
        }
      ]
    },
    {
      "cell_type": "markdown",
      "source": [
        "#### Foram alterados os valores da coluna Abertura_Territorial no dataframe de Educação, de nome do estado para a sigla do estado para futura comparação com os dados de Covid."
      ],
      "metadata": {
        "id": "-idn7dZ0aShe"
      }
    },
    {
      "cell_type": "code",
      "source": [
        "educacao = educacao.withColumn('Abertura_Territorial',\\\n",
        "                                   regexp_replace('Abertura_Territorial', 'Rondônia', 'RO'))\\\n",
        "                       .withColumn('Abertura_Territorial',\\\n",
        "                                   regexp_replace('Abertura_Territorial', 'Acre', 'AC'))\\\n",
        "                       .withColumn('Abertura_Territorial',\\\n",
        "                                   regexp_replace('Abertura_Territorial', 'Amazonas', 'AM'))\\\n",
        "                       .withColumn('Abertura_Territorial',\\\n",
        "                                   regexp_replace('Abertura_Territorial', 'Roraima', 'RR'))\\\n",
        "                       .withColumn('Abertura_Territorial',\\\n",
        "                                   regexp_replace('Abertura_Territorial', 'Pará', 'PA'))\\\n",
        "                       .withColumn('Abertura_Territorial',\\\n",
        "                                   regexp_replace('Abertura_Territorial', 'Amapá', 'AP'))\\\n",
        "                       .withColumn('Abertura_Territorial',\\\n",
        "                                   regexp_replace('Abertura_Territorial', 'Tocantins', 'TO'))\\\n",
        "                       .withColumn('Abertura_Territorial',\\\n",
        "                                   regexp_replace('Abertura_Territorial', 'Maranhão', 'MA'))\\\n",
        "                       .withColumn('Abertura_Territorial',\\\n",
        "                                   regexp_replace('Abertura_Territorial', 'Piauí', 'PI'))\\\n",
        "                       .withColumn('Abertura_Territorial',\\\n",
        "                                   regexp_replace('Abertura_Territorial', 'Ceará', 'CE'))\\\n",
        "                       .withColumn('Abertura_Territorial',\\\n",
        "                                   regexp_replace('Abertura_Territorial', 'Rio Grande do Norte', 'RN'))\\\n",
        "                       .withColumn('Abertura_Territorial',\\\n",
        "                                   regexp_replace('Abertura_Territorial', 'Paraíba', 'PB'))\\\n",
        "                       .withColumn('Abertura_Territorial',\\\n",
        "                                   regexp_replace('Abertura_Territorial', 'Pernambuco', 'PE'))\\\n",
        "                       .withColumn('Abertura_Territorial',\\\n",
        "                                   regexp_replace('Abertura_Territorial', 'Alagoas', 'AL'))\\\n",
        "                       .withColumn('Abertura_Territorial',\\\n",
        "                                   regexp_replace('Abertura_Territorial', 'Sergipe', 'SE'))\\\n",
        "                       .withColumn('Abertura_Territorial',\\\n",
        "                                   regexp_replace('Abertura_Territorial', 'Bahia', 'BA'))\\\n",
        "                       .withColumn('Abertura_Territorial',\\\n",
        "                                   regexp_replace('Abertura_Territorial', 'Minas Gerais', 'MG'))\\\n",
        "                       .withColumn('Abertura_Territorial',\\\n",
        "                                   regexp_replace('Abertura_Territorial', 'Espírito Santo', 'ES'))\\\n",
        "                       .withColumn('Abertura_Territorial',\\\n",
        "                                   regexp_replace('Abertura_Territorial', 'Rio de Janeiro', 'RJ'))\\\n",
        "                       .withColumn('Abertura_Territorial',\\\n",
        "                                   regexp_replace('Abertura_Territorial', 'São Paulo', 'SP'))\\\n",
        "                       .withColumn('Abertura_Territorial',\\\n",
        "                                   regexp_replace('Abertura_Territorial', 'Paraná', 'PR'))\\\n",
        "                       .withColumn('Abertura_Territorial',\\\n",
        "                                   regexp_replace('Abertura_Territorial', 'Santa Catarina', 'SC'))\\\n",
        "                       .withColumn('Abertura_Territorial',\\\n",
        "                                   regexp_replace('Abertura_Territorial', 'Rio Grande do Sul', 'RS' ))\\\n",
        "                       .withColumn('Abertura_Territorial',\\\n",
        "                                   regexp_replace('Abertura_Territorial', 'Mato Grosso do Sul', 'MS'))\\\n",
        "                       .withColumn('Abertura_Territorial',\\\n",
        "                                   regexp_replace('Abertura_Territorial', 'Mato Grosso', 'MT'))\\\n",
        "                       .withColumn('Abertura_Territorial',\\\n",
        "                                   regexp_replace('Abertura_Territorial', 'Goiás', 'GO'))\\\n",
        "                       .withColumn('Abertura_Territorial',\\\n",
        "                                   regexp_replace('Abertura_Territorial', 'Distrito Federal', 'DF'))\\\n",
        "\n",
        "educacao.show(27)"
      ],
      "metadata": {
        "colab": {
          "base_uri": "https://localhost:8080/"
        },
        "id": "el3wgQ43aT1v",
        "outputId": "3cab1ce1-9ef9-4ec2-b3ea-4ecd6d980f9c"
      },
      "execution_count": 47,
      "outputs": [
        {
          "output_type": "stream",
          "name": "stdout",
          "text": [
            "+--------------------+--------------------+--------------------+--------------------+---------+----------------------+---------------+----+----+----+\n",
            "|           Indicador|   Nível_Territorial|Abertura_Territorial|Variável_de_abertura|Categoria|Variável_de_abertura_2|    Categoria_2|2016|2017|2018|\n",
            "+--------------------+--------------------+--------------------+--------------------+---------+----------------------+---------------+----+----+----+\n",
            "|Taxa de analfabet...|Unidade da Federação|                  RO|                Sexo|    Total|  Grupos de idade -...|15 anos ou mais| 6.6| 7.2| 6.5|\n",
            "|Taxa de analfabet...|Unidade da Federação|                  RO|                Sexo|    Total|  Grupos de idade -...|18 anos ou mais| 7.2| 7.6| 6.9|\n",
            "|Taxa de analfabet...|Unidade da Federação|                  RO|                Sexo|    Total|  Grupos de idade -...|25 anos ou mais| 8.4| 8.9| 8.3|\n",
            "|Taxa de analfabet...|Unidade da Federação|                  RO|                Sexo|    Total|  Grupos de idade -...|40 anos ou mais|13.7|14.0|13.1|\n",
            "|Taxa de analfabet...|Unidade da Federação|                  RO|                Sexo|    Total|  Grupos de idade -...|60 anos ou mais|28.5|29.7|27.5|\n",
            "|Taxa de analfabet...|Unidade da Federação|                  AC|                Sexo|    Total|  Grupos de idade -...|15 anos ou mais|13.1|12.1|12.1|\n",
            "|Taxa de analfabet...|Unidade da Federação|                  AC|                Sexo|    Total|  Grupos de idade -...|18 anos ou mais|14.4|13.3|13.2|\n",
            "|Taxa de analfabet...|Unidade da Federação|                  AC|                Sexo|    Total|  Grupos de idade -...|25 anos ou mais|17.4|16.3|15.9|\n",
            "|Taxa de analfabet...|Unidade da Federação|                  AC|                Sexo|    Total|  Grupos de idade -...|40 anos ou mais|25.4|23.9|23.4|\n",
            "|Taxa de analfabet...|Unidade da Federação|                  AC|                Sexo|    Total|  Grupos de idade -...|60 anos ou mais|41.7|37.0|36.5|\n",
            "|Taxa de analfabet...|Unidade da Federação|                  AM|                Sexo|    Total|  Grupos de idade -...|15 anos ou mais| 6.9| 6.1| 5.8|\n",
            "|Taxa de analfabet...|Unidade da Federação|                  AM|                Sexo|    Total|  Grupos de idade -...|18 anos ou mais| 7.5| 6.7| 6.3|\n",
            "|Taxa de analfabet...|Unidade da Federação|                  AM|                Sexo|    Total|  Grupos de idade -...|25 anos ou mais| 9.0| 8.0| 7.6|\n",
            "|Taxa de analfabet...|Unidade da Federação|                  AM|                Sexo|    Total|  Grupos de idade -...|40 anos ou mais|13.5|12.2|11.2|\n",
            "|Taxa de analfabet...|Unidade da Federação|                  AM|                Sexo|    Total|  Grupos de idade -...|60 anos ou mais|22.3|20.4|19.9|\n",
            "|Taxa de analfabet...|Unidade da Federação|                  RR|                Sexo|    Total|  Grupos de idade -...|15 anos ou mais| 6.6| 6.0| 6.0|\n",
            "|Taxa de analfabet...|Unidade da Federação|                  RR|                Sexo|    Total|  Grupos de idade -...|18 anos ou mais| 7.2| 6.6| 6.5|\n",
            "|Taxa de analfabet...|Unidade da Federação|                  RR|                Sexo|    Total|  Grupos de idade -...|25 anos ou mais| 8.6| 8.2| 7.9|\n",
            "|Taxa de analfabet...|Unidade da Federação|                  RR|                Sexo|    Total|  Grupos de idade -...|40 anos ou mais|13.8|13.5|12.9|\n",
            "|Taxa de analfabet...|Unidade da Federação|                  RR|                Sexo|    Total|  Grupos de idade -...|60 anos ou mais|29.1|30.8|25.9|\n",
            "|Taxa de analfabet...|Unidade da Federação|                  PA|                Sexo|    Total|  Grupos de idade -...|15 anos ou mais| 9.2| 8.6| 8.8|\n",
            "|Taxa de analfabet...|Unidade da Federação|                  PA|                Sexo|    Total|  Grupos de idade -...|18 anos ou mais|10.0| 9.3| 9.4|\n",
            "|Taxa de analfabet...|Unidade da Federação|                  PA|                Sexo|    Total|  Grupos de idade -...|25 anos ou mais|12.0|11.1|11.2|\n",
            "|Taxa de analfabet...|Unidade da Federação|                  PA|                Sexo|    Total|  Grupos de idade -...|40 anos ou mais|18.1|16.3|16.9|\n",
            "|Taxa de analfabet...|Unidade da Federação|                  PA|                Sexo|    Total|  Grupos de idade -...|60 anos ou mais|30.8|27.1|27.9|\n",
            "|Taxa de analfabet...|Unidade da Federação|                  AP|                Sexo|    Total|  Grupos de idade -...|15 anos ou mais| 5.0| 5.0| 6.1|\n",
            "|Taxa de analfabet...|Unidade da Federação|                  AP|                Sexo|    Total|  Grupos de idade -...|18 anos ou mais| 5.4| 5.5| 6.5|\n",
            "+--------------------+--------------------+--------------------+--------------------+---------+----------------------+---------------+----+----+----+\n",
            "only showing top 27 rows\n",
            "\n"
          ]
        }
      ]
    },
    {
      "cell_type": "markdown",
      "source": [
        "#### Foi feita a separaçao da coluna categoria_2 referentes ao ano de 2018 de acordo com a idade para melhor visualização dos dados."
      ],
      "metadata": {
        "id": "smjxBmjx20WT"
      }
    },
    {
      "cell_type": "code",
      "source": [
        "educacao.createOrReplaceTempView(\"new_df\")\n",
        "\n",
        "idade_15_ou_mais = spark.sql(\"select Abertura_Territorial,  Categoria_2, `2018` \\\n",
        "                              from new_df\\\n",
        "                              where Categoria_2 like '%15%'\")\\\n",
        "                        .orderBy(col('2018').desc())\n",
        "\n",
        "idade_15_ou_mais.show(100)"
      ],
      "metadata": {
        "colab": {
          "base_uri": "https://localhost:8080/"
        },
        "id": "imA1QSav3Ecd",
        "outputId": "c836a787-e529-49df-f75c-01be5fb90456"
      },
      "execution_count": 48,
      "outputs": [
        {
          "output_type": "stream",
          "name": "stdout",
          "text": [
            "+--------------------+---------------+----+\n",
            "|Abertura_Territorial|    Categoria_2|2018|\n",
            "+--------------------+---------------+----+\n",
            "|                  AL|15 anos ou mais|17.2|\n",
            "|                  PI|15 anos ou mais|16.6|\n",
            "|                  MA|15 anos ou mais|16.3|\n",
            "|                  PB|15 anos ou mais|16.1|\n",
            "|                  SE|15 anos ou mais|13.9|\n",
            "|                  CE|15 anos ou mais|13.3|\n",
            "|                  RN|15 anos ou mais|12.9|\n",
            "|                  BA|15 anos ou mais|12.7|\n",
            "|                  AC|15 anos ou mais|12.1|\n",
            "|                  PE|15 anos ou mais|11.9|\n",
            "|                  TO|15 anos ou mais|10.0|\n",
            "|                  PA|15 anos ou mais| 8.8|\n",
            "|                  MT|15 anos ou mais| 7.1|\n",
            "|                  RO|15 anos ou mais| 6.5|\n",
            "|                  AP|15 anos ou mais| 6.1|\n",
            "|                  RR|15 anos ou mais| 6.0|\n",
            "|                  MG|15 anos ou mais| 5.8|\n",
            "|                  AM|15 anos ou mais| 5.8|\n",
            "|                  GO|15 anos ou mais| 5.7|\n",
            "|                  ES|15 anos ou mais| 5.5|\n",
            "|                  PR|15 anos ou mais| 5.0|\n",
            "|                  MS|15 anos ou mais| 5.0|\n",
            "|                  DF|15 anos ou mais| 3.1|\n",
            "|                  RS|15 anos ou mais| 3.0|\n",
            "|                  SP|15 anos ou mais| 2.6|\n",
            "|                  SC|15 anos ou mais| 2.5|\n",
            "|                  RJ|15 anos ou mais| 2.4|\n",
            "+--------------------+---------------+----+\n",
            "\n"
          ]
        }
      ]
    },
    {
      "cell_type": "code",
      "source": [
        "educacao.createOrReplaceTempView(\"new_df\")\n",
        "\n",
        "idade_18_ou_mais = spark.sql(\"select Abertura_Territorial,  Categoria_2, `2018` \\\n",
        "                              from new_df\\\n",
        "                              where Categoria_2 like '%18%'\")\\\n",
        "                        .orderBy(col('2018').desc())\n",
        "\n",
        "idade_18_ou_mais.show(100)"
      ],
      "metadata": {
        "colab": {
          "base_uri": "https://localhost:8080/"
        },
        "id": "TEfGMvL_65KI",
        "outputId": "6bec4ffe-c0b1-40f4-b50a-e7b305b0d4a8"
      },
      "execution_count": 49,
      "outputs": [
        {
          "output_type": "stream",
          "name": "stdout",
          "text": [
            "+--------------------+---------------+----+\n",
            "|Abertura_Territorial|    Categoria_2|2018|\n",
            "+--------------------+---------------+----+\n",
            "|                  AL|18 anos ou mais|18.5|\n",
            "|                  PI|18 anos ou mais|17.7|\n",
            "|                  MA|18 anos ou mais|17.6|\n",
            "|                  PB|18 anos ou mais|17.2|\n",
            "|                  SE|18 anos ou mais|14.8|\n",
            "|                  CE|18 anos ou mais|14.2|\n",
            "|                  RN|18 anos ou mais|13.7|\n",
            "|                  BA|18 anos ou mais|13.5|\n",
            "|                  AC|18 anos ou mais|13.2|\n",
            "|                  PE|18 anos ou mais|12.6|\n",
            "|                  TO|18 anos ou mais|10.7|\n",
            "|                  PA|18 anos ou mais| 9.4|\n",
            "|                  MT|18 anos ou mais| 7.5|\n",
            "|                  RO|18 anos ou mais| 6.9|\n",
            "|                  RR|18 anos ou mais| 6.5|\n",
            "|                  AP|18 anos ou mais| 6.5|\n",
            "|                  AM|18 anos ou mais| 6.3|\n",
            "|                  MG|18 anos ou mais| 6.2|\n",
            "|                  GO|18 anos ou mais| 6.1|\n",
            "|                  ES|18 anos ou mais| 5.8|\n",
            "|                  MS|18 anos ou mais| 5.3|\n",
            "|                  PR|18 anos ou mais| 5.2|\n",
            "|                  DF|18 anos ou mais| 3.3|\n",
            "|                  RS|18 anos ou mais| 3.1|\n",
            "|                  SP|18 anos ou mais| 2.8|\n",
            "|                  SC|18 anos ou mais| 2.6|\n",
            "|                  RJ|18 anos ou mais| 2.5|\n",
            "+--------------------+---------------+----+\n",
            "\n"
          ]
        }
      ]
    },
    {
      "cell_type": "code",
      "source": [
        "educacao.createOrReplaceTempView(\"new_df\")\n",
        "\n",
        "idade_25_ou_mais = spark.sql(\"select Abertura_Territorial,  Categoria_2, `2018` \\\n",
        "                              from new_df\\\n",
        "                              where Categoria_2 like '%25%'\")\\\n",
        "                        .orderBy(col('2018').desc())\n",
        "\n",
        "idade_25_ou_mais.show(100)"
      ],
      "metadata": {
        "colab": {
          "base_uri": "https://localhost:8080/"
        },
        "id": "lWBxXQbX66Bd",
        "outputId": "0f6d887f-4db3-42e6-bf3b-6fe74bbf0925"
      },
      "execution_count": 50,
      "outputs": [
        {
          "output_type": "stream",
          "name": "stdout",
          "text": [
            "+--------------------+---------------+----+\n",
            "|Abertura_Territorial|    Categoria_2|2018|\n",
            "+--------------------+---------------+----+\n",
            "|                  AL|25 anos ou mais|21.5|\n",
            "|                  MA|25 anos ou mais|21.0|\n",
            "|                  PI|25 anos ou mais|20.7|\n",
            "|                  PB|25 anos ou mais|19.9|\n",
            "|                  SE|25 anos ou mais|17.5|\n",
            "|                  CE|25 anos ou mais|16.6|\n",
            "|                  RN|25 anos ou mais|16.1|\n",
            "|                  AC|25 anos ou mais|15.9|\n",
            "|                  BA|25 anos ou mais|15.6|\n",
            "|                  PE|25 anos ou mais|14.6|\n",
            "|                  TO|25 anos ou mais|12.4|\n",
            "|                  PA|25 anos ou mais|11.2|\n",
            "|                  MT|25 anos ou mais| 8.7|\n",
            "|                  RO|25 anos ou mais| 8.3|\n",
            "|                  AP|25 anos ou mais| 8.2|\n",
            "|                  RR|25 anos ou mais| 7.9|\n",
            "|                  AM|25 anos ou mais| 7.6|\n",
            "|                  GO|25 anos ou mais| 7.0|\n",
            "|                  MG|25 anos ou mais| 7.0|\n",
            "|                  ES|25 anos ou mais| 6.7|\n",
            "|                  MS|25 anos ou mais| 6.2|\n",
            "|                  PR|25 anos ou mais| 6.0|\n",
            "|                  DF|25 anos ou mais| 3.8|\n",
            "|                  RS|25 anos ou mais| 3.5|\n",
            "|                  SP|25 anos ou mais| 3.1|\n",
            "|                  SC|25 anos ou mais| 2.9|\n",
            "|                  RJ|25 anos ou mais| 2.7|\n",
            "+--------------------+---------------+----+\n",
            "\n"
          ]
        }
      ]
    },
    {
      "cell_type": "code",
      "source": [
        "educacao.createOrReplaceTempView(\"new_df\")\n",
        "\n",
        "idade_40_ou_mais = spark.sql(\"select Abertura_Territorial,  Categoria_2, `2018` \\\n",
        "                              from new_df\\\n",
        "                              where Categoria_2 like '%40%'\")\\\n",
        "                        .orderBy(col('2018').desc())\n",
        "\n",
        "idade_40_ou_mais.show(100)"
      ],
      "metadata": {
        "colab": {
          "base_uri": "https://localhost:8080/"
        },
        "id": "8oZp0K-S66f3",
        "outputId": "00b0ca6b-b5f2-4925-b5d3-856a5af28141"
      },
      "execution_count": 51,
      "outputs": [
        {
          "output_type": "stream",
          "name": "stdout",
          "text": [
            "+--------------------+---------------+----+\n",
            "|Abertura_Territorial|    Categoria_2|2018|\n",
            "+--------------------+---------------+----+\n",
            "|                  MA|40 anos ou mais|30.5|\n",
            "|                  AL|40 anos ou mais|29.2|\n",
            "|                  PI|40 anos ou mais|28.4|\n",
            "|                  PB|40 anos ou mais|26.6|\n",
            "|                  SE|40 anos ou mais|24.8|\n",
            "|                  CE|40 anos ou mais|24.1|\n",
            "|                  AC|40 anos ou mais|23.4|\n",
            "|                  RN|40 anos ou mais|22.5|\n",
            "|                  BA|40 anos ou mais|22.3|\n",
            "|                  PE|40 anos ou mais|20.1|\n",
            "|                  TO|40 anos ou mais|18.5|\n",
            "|                  PA|40 anos ou mais|16.9|\n",
            "|                  AP|40 anos ou mais|13.4|\n",
            "|                  RO|40 anos ou mais|13.1|\n",
            "|                  RR|40 anos ou mais|12.9|\n",
            "|                  MT|40 anos ou mais|12.8|\n",
            "|                  AM|40 anos ou mais|11.2|\n",
            "|                  GO|40 anos ou mais|10.3|\n",
            "|                  MG|40 anos ou mais|10.0|\n",
            "|                  ES|40 anos ou mais| 9.8|\n",
            "|                  MS|40 anos ou mais| 9.1|\n",
            "|                  PR|40 anos ou mais| 8.5|\n",
            "|                  DF|40 anos ou mais| 5.7|\n",
            "|                  RS|40 anos ou mais| 4.6|\n",
            "|                  SP|40 anos ou mais| 4.5|\n",
            "|                  SC|40 anos ou mais| 4.2|\n",
            "|                  RJ|40 anos ou mais| 3.6|\n",
            "+--------------------+---------------+----+\n",
            "\n"
          ]
        }
      ]
    },
    {
      "cell_type": "code",
      "source": [
        "educacao.createOrReplaceTempView(\"new_df\")\n",
        "\n",
        "idade_60_ou_mais = spark.sql(\"select Abertura_Territorial,  Categoria_2, `2018`\\\n",
        "                              from new_df\\\n",
        "                              where Categoria_2 like '%60%'\")\\\n",
        "                        .orderBy(col('2018').desc())\n",
        "idade_60_ou_mais.show(100)\n",
        "\n",
        "\n"
      ],
      "metadata": {
        "colab": {
          "base_uri": "https://localhost:8080/"
        },
        "id": "MMqZyhCv7LL7",
        "outputId": "857a1954-2a62-4bab-da30-be65286fd8f0"
      },
      "execution_count": 52,
      "outputs": [
        {
          "output_type": "stream",
          "name": "stdout",
          "text": [
            "+--------------------+---------------+----+\n",
            "|Abertura_Territorial|    Categoria_2|2018|\n",
            "+--------------------+---------------+----+\n",
            "|                  MA|60 anos ou mais|45.5|\n",
            "|                  PI|60 anos ou mais|42.7|\n",
            "|                  AL|60 anos ou mais|41.1|\n",
            "|                  SE|60 anos ou mais|38.6|\n",
            "|                  PB|60 anos ou mais|37.8|\n",
            "|                  CE|60 anos ou mais|36.9|\n",
            "|                  AC|60 anos ou mais|36.5|\n",
            "|                  BA|60 anos ou mais|35.3|\n",
            "|                  RN|60 anos ou mais|34.8|\n",
            "|                  TO|60 anos ou mais|32.5|\n",
            "|                  PE|60 anos ou mais|30.2|\n",
            "|                  PA|60 anos ou mais|27.9|\n",
            "|                  RO|60 anos ou mais|27.5|\n",
            "|                  AP|60 anos ou mais|27.4|\n",
            "|                  RR|60 anos ou mais|25.9|\n",
            "|                  MT|60 anos ou mais|24.2|\n",
            "|                  AM|60 anos ou mais|19.9|\n",
            "|                  GO|60 anos ou mais|18.9|\n",
            "|                  ES|60 anos ou mais|18.9|\n",
            "|                  MG|60 anos ou mais|17.1|\n",
            "|                  MS|60 anos ou mais|16.3|\n",
            "|                  PR|60 anos ou mais|15.9|\n",
            "|                  DF|60 anos ou mais|11.5|\n",
            "|                  SP|60 anos ou mais| 8.3|\n",
            "|                  SC|60 anos ou mais| 8.2|\n",
            "|                  RS|60 anos ou mais| 8.0|\n",
            "|                  RJ|60 anos ou mais| 6.3|\n",
            "+--------------------+---------------+----+\n",
            "\n"
          ]
        }
      ]
    },
    {
      "cell_type": "markdown",
      "source": [
        "#### Demostração dos dados em gráfico de pessoas de 60 anos ou mais."
      ],
      "metadata": {
        "id": "8B9C4CU5gjlS"
      }
    },
    {
      "cell_type": "code",
      "source": [
        "graf_educacao = estado_total_cs.join(idade_60_ou_mais, estado_total_cs.estado == idade_60_ou_mais.Abertura_Territorial, \"inner\")\\\n",
        "                      .drop(\"Abertura_Territorial\")\\\n",
        "                      .drop(\"Categoria_2\")\n",
        "                      \n",
        "graf_educacao = graf_educacao.toPandas()"
      ],
      "metadata": {
        "id": "qE6Hj3_UgptG"
      },
      "execution_count": 53,
      "outputs": []
    },
    {
      "cell_type": "code",
      "source": [
        "to_plot_educacao = [v for v in list(graf_educacao.columns)]\n",
        "\n",
        "fig_graf_educacao_covid = px.bar(graf_educacao, x=graf_educacao.estado, y=to_plot_educacao,\\\n",
        "                                   barmode=\"stack\",\\\n",
        "                                   text_auto='.2s',\\\n",
        "                                   title=\"Casos novos de Covid e IDH\")\n",
        "             \n",
        "fig_graf_educacao_covid.show()\n",
        "\n",
        "\n",
        "graf_educacao_covid_cs = px.bar(graf_educacao, x='estado', y=\"total_casos\",\\\n",
        "                               barmode=\"group\",\\\n",
        "                               color=\"total_casos\",\\\n",
        "                               title=\"Casos novos de Covid\")\n",
        "graf_educacao_covid= px.bar(graf_educacao, x='estado', y=\"2018\",\\\n",
        "                                barmode=\"group\",\\\n",
        "                                color=\"2018\",\\\n",
        "                                title=\"Taxa de analfabetismo em 2018\")\n",
        "\n",
        "graf_educacao_covid_cs.show()\n",
        "graf_educacao_covid.show()"
      ],
      "metadata": {
        "colab": {
          "base_uri": "https://localhost:8080/",
          "height": 1000
        },
        "id": "FtDoNsHIhSUF",
        "outputId": "3d1a02d6-77c2-4dde-9253-d3c925d8406b"
      },
      "execution_count": 54,
      "outputs": [
        {
          "output_type": "display_data",
          "data": {
            "text/html": [
              "<html>\n",
              "<head><meta charset=\"utf-8\" /></head>\n",
              "<body>\n",
              "    <div>            <script src=\"https://cdnjs.cloudflare.com/ajax/libs/mathjax/2.7.5/MathJax.js?config=TeX-AMS-MML_SVG\"></script><script type=\"text/javascript\">if (window.MathJax) {MathJax.Hub.Config({SVG: {font: \"STIX-Web\"}});}</script>                <script type=\"text/javascript\">window.PlotlyConfig = {MathJaxConfig: 'local'};</script>\n",
              "        <script src=\"https://cdn.plot.ly/plotly-2.8.3.min.js\"></script>                <div id=\"ac7ede99-eeca-46d8-8a7f-b854809815d4\" class=\"plotly-graph-div\" style=\"height:525px; width:100%;\"></div>            <script type=\"text/javascript\">                                    window.PLOTLYENV=window.PLOTLYENV || {};                                    if (document.getElementById(\"ac7ede99-eeca-46d8-8a7f-b854809815d4\")) {                    Plotly.newPlot(                        \"ac7ede99-eeca-46d8-8a7f-b854809815d4\",                        [{\"alignmentgroup\":\"True\",\"hovertemplate\":\"variable=total_casos<br>estado=%{x}<br>value=%{y}<extra></extra>\",\"legendgroup\":\"total_casos\",\"marker\":{\"color\":\"#636efa\",\"pattern\":{\"shape\":\"\"}},\"name\":\"total_casos\",\"offsetgroup\":\"total_casos\",\"orientation\":\"v\",\"showlegend\":true,\"textposition\":\"auto\",\"texttemplate\":\"%{y:.2s}\",\"x\":[\"SC\",\"RO\",\"PI\",\"AM\",\"RR\",\"GO\",\"TO\",\"MT\",\"SP\",\"PB\",\"ES\",\"RS\",\"MS\",\"AL\",\"MG\",\"PA\",\"BA\",\"SE\",\"PE\",\"CE\",\"RN\",\"RJ\",\"MA\",\"AC\",\"DF\",\"PR\",\"AP\"],\"xaxis\":\"x\",\"y\":[1934206.0,488322.0,442442.0,710181.0,210101.0,1713845.0,366096.0,870566.0,6497951.0,730522.0,1302535.0,2734324.0,594415.0,379049.0,3973929.0,974058.0,1859218.0,400336.0,1131222.0,1561859.0,598795.0,2628256.0,584904.0,166195.0,940689.0,2797579.0,213910.0],\"yaxis\":\"y\",\"type\":\"bar\"},{\"alignmentgroup\":\"True\",\"hovertemplate\":\"variable=2018<br>estado=%{x}<br>value=%{y}<extra></extra>\",\"legendgroup\":\"2018\",\"marker\":{\"color\":\"#EF553B\",\"pattern\":{\"shape\":\"\"}},\"name\":\"2018\",\"offsetgroup\":\"2018\",\"orientation\":\"v\",\"showlegend\":true,\"textposition\":\"auto\",\"texttemplate\":\"%{y:.2s}\",\"x\":[\"SC\",\"RO\",\"PI\",\"AM\",\"RR\",\"GO\",\"TO\",\"MT\",\"SP\",\"PB\",\"ES\",\"RS\",\"MS\",\"AL\",\"MG\",\"PA\",\"BA\",\"SE\",\"PE\",\"CE\",\"RN\",\"RJ\",\"MA\",\"AC\",\"DF\",\"PR\",\"AP\"],\"xaxis\":\"x\",\"y\":[8.2,27.5,42.7,19.9,25.9,18.9,32.5,24.2,8.3,37.8,18.9,8.0,16.3,41.1,17.1,27.9,35.3,38.6,30.2,36.9,34.8,6.3,45.5,36.5,11.5,15.9,27.4],\"yaxis\":\"y\",\"type\":\"bar\"}],                        {\"template\":{\"data\":{\"bar\":[{\"error_x\":{\"color\":\"#2a3f5f\"},\"error_y\":{\"color\":\"#2a3f5f\"},\"marker\":{\"line\":{\"color\":\"#E5ECF6\",\"width\":0.5},\"pattern\":{\"fillmode\":\"overlay\",\"size\":10,\"solidity\":0.2}},\"type\":\"bar\"}],\"barpolar\":[{\"marker\":{\"line\":{\"color\":\"#E5ECF6\",\"width\":0.5},\"pattern\":{\"fillmode\":\"overlay\",\"size\":10,\"solidity\":0.2}},\"type\":\"barpolar\"}],\"carpet\":[{\"aaxis\":{\"endlinecolor\":\"#2a3f5f\",\"gridcolor\":\"white\",\"linecolor\":\"white\",\"minorgridcolor\":\"white\",\"startlinecolor\":\"#2a3f5f\"},\"baxis\":{\"endlinecolor\":\"#2a3f5f\",\"gridcolor\":\"white\",\"linecolor\":\"white\",\"minorgridcolor\":\"white\",\"startlinecolor\":\"#2a3f5f\"},\"type\":\"carpet\"}],\"choropleth\":[{\"colorbar\":{\"outlinewidth\":0,\"ticks\":\"\"},\"type\":\"choropleth\"}],\"contour\":[{\"colorbar\":{\"outlinewidth\":0,\"ticks\":\"\"},\"colorscale\":[[0.0,\"#0d0887\"],[0.1111111111111111,\"#46039f\"],[0.2222222222222222,\"#7201a8\"],[0.3333333333333333,\"#9c179e\"],[0.4444444444444444,\"#bd3786\"],[0.5555555555555556,\"#d8576b\"],[0.6666666666666666,\"#ed7953\"],[0.7777777777777778,\"#fb9f3a\"],[0.8888888888888888,\"#fdca26\"],[1.0,\"#f0f921\"]],\"type\":\"contour\"}],\"contourcarpet\":[{\"colorbar\":{\"outlinewidth\":0,\"ticks\":\"\"},\"type\":\"contourcarpet\"}],\"heatmap\":[{\"colorbar\":{\"outlinewidth\":0,\"ticks\":\"\"},\"colorscale\":[[0.0,\"#0d0887\"],[0.1111111111111111,\"#46039f\"],[0.2222222222222222,\"#7201a8\"],[0.3333333333333333,\"#9c179e\"],[0.4444444444444444,\"#bd3786\"],[0.5555555555555556,\"#d8576b\"],[0.6666666666666666,\"#ed7953\"],[0.7777777777777778,\"#fb9f3a\"],[0.8888888888888888,\"#fdca26\"],[1.0,\"#f0f921\"]],\"type\":\"heatmap\"}],\"heatmapgl\":[{\"colorbar\":{\"outlinewidth\":0,\"ticks\":\"\"},\"colorscale\":[[0.0,\"#0d0887\"],[0.1111111111111111,\"#46039f\"],[0.2222222222222222,\"#7201a8\"],[0.3333333333333333,\"#9c179e\"],[0.4444444444444444,\"#bd3786\"],[0.5555555555555556,\"#d8576b\"],[0.6666666666666666,\"#ed7953\"],[0.7777777777777778,\"#fb9f3a\"],[0.8888888888888888,\"#fdca26\"],[1.0,\"#f0f921\"]],\"type\":\"heatmapgl\"}],\"histogram\":[{\"marker\":{\"pattern\":{\"fillmode\":\"overlay\",\"size\":10,\"solidity\":0.2}},\"type\":\"histogram\"}],\"histogram2d\":[{\"colorbar\":{\"outlinewidth\":0,\"ticks\":\"\"},\"colorscale\":[[0.0,\"#0d0887\"],[0.1111111111111111,\"#46039f\"],[0.2222222222222222,\"#7201a8\"],[0.3333333333333333,\"#9c179e\"],[0.4444444444444444,\"#bd3786\"],[0.5555555555555556,\"#d8576b\"],[0.6666666666666666,\"#ed7953\"],[0.7777777777777778,\"#fb9f3a\"],[0.8888888888888888,\"#fdca26\"],[1.0,\"#f0f921\"]],\"type\":\"histogram2d\"}],\"histogram2dcontour\":[{\"colorbar\":{\"outlinewidth\":0,\"ticks\":\"\"},\"colorscale\":[[0.0,\"#0d0887\"],[0.1111111111111111,\"#46039f\"],[0.2222222222222222,\"#7201a8\"],[0.3333333333333333,\"#9c179e\"],[0.4444444444444444,\"#bd3786\"],[0.5555555555555556,\"#d8576b\"],[0.6666666666666666,\"#ed7953\"],[0.7777777777777778,\"#fb9f3a\"],[0.8888888888888888,\"#fdca26\"],[1.0,\"#f0f921\"]],\"type\":\"histogram2dcontour\"}],\"mesh3d\":[{\"colorbar\":{\"outlinewidth\":0,\"ticks\":\"\"},\"type\":\"mesh3d\"}],\"parcoords\":[{\"line\":{\"colorbar\":{\"outlinewidth\":0,\"ticks\":\"\"}},\"type\":\"parcoords\"}],\"pie\":[{\"automargin\":true,\"type\":\"pie\"}],\"scatter\":[{\"marker\":{\"colorbar\":{\"outlinewidth\":0,\"ticks\":\"\"}},\"type\":\"scatter\"}],\"scatter3d\":[{\"line\":{\"colorbar\":{\"outlinewidth\":0,\"ticks\":\"\"}},\"marker\":{\"colorbar\":{\"outlinewidth\":0,\"ticks\":\"\"}},\"type\":\"scatter3d\"}],\"scattercarpet\":[{\"marker\":{\"colorbar\":{\"outlinewidth\":0,\"ticks\":\"\"}},\"type\":\"scattercarpet\"}],\"scattergeo\":[{\"marker\":{\"colorbar\":{\"outlinewidth\":0,\"ticks\":\"\"}},\"type\":\"scattergeo\"}],\"scattergl\":[{\"marker\":{\"colorbar\":{\"outlinewidth\":0,\"ticks\":\"\"}},\"type\":\"scattergl\"}],\"scattermapbox\":[{\"marker\":{\"colorbar\":{\"outlinewidth\":0,\"ticks\":\"\"}},\"type\":\"scattermapbox\"}],\"scatterpolar\":[{\"marker\":{\"colorbar\":{\"outlinewidth\":0,\"ticks\":\"\"}},\"type\":\"scatterpolar\"}],\"scatterpolargl\":[{\"marker\":{\"colorbar\":{\"outlinewidth\":0,\"ticks\":\"\"}},\"type\":\"scatterpolargl\"}],\"scatterternary\":[{\"marker\":{\"colorbar\":{\"outlinewidth\":0,\"ticks\":\"\"}},\"type\":\"scatterternary\"}],\"surface\":[{\"colorbar\":{\"outlinewidth\":0,\"ticks\":\"\"},\"colorscale\":[[0.0,\"#0d0887\"],[0.1111111111111111,\"#46039f\"],[0.2222222222222222,\"#7201a8\"],[0.3333333333333333,\"#9c179e\"],[0.4444444444444444,\"#bd3786\"],[0.5555555555555556,\"#d8576b\"],[0.6666666666666666,\"#ed7953\"],[0.7777777777777778,\"#fb9f3a\"],[0.8888888888888888,\"#fdca26\"],[1.0,\"#f0f921\"]],\"type\":\"surface\"}],\"table\":[{\"cells\":{\"fill\":{\"color\":\"#EBF0F8\"},\"line\":{\"color\":\"white\"}},\"header\":{\"fill\":{\"color\":\"#C8D4E3\"},\"line\":{\"color\":\"white\"}},\"type\":\"table\"}]},\"layout\":{\"annotationdefaults\":{\"arrowcolor\":\"#2a3f5f\",\"arrowhead\":0,\"arrowwidth\":1},\"autotypenumbers\":\"strict\",\"coloraxis\":{\"colorbar\":{\"outlinewidth\":0,\"ticks\":\"\"}},\"colorscale\":{\"diverging\":[[0,\"#8e0152\"],[0.1,\"#c51b7d\"],[0.2,\"#de77ae\"],[0.3,\"#f1b6da\"],[0.4,\"#fde0ef\"],[0.5,\"#f7f7f7\"],[0.6,\"#e6f5d0\"],[0.7,\"#b8e186\"],[0.8,\"#7fbc41\"],[0.9,\"#4d9221\"],[1,\"#276419\"]],\"sequential\":[[0.0,\"#0d0887\"],[0.1111111111111111,\"#46039f\"],[0.2222222222222222,\"#7201a8\"],[0.3333333333333333,\"#9c179e\"],[0.4444444444444444,\"#bd3786\"],[0.5555555555555556,\"#d8576b\"],[0.6666666666666666,\"#ed7953\"],[0.7777777777777778,\"#fb9f3a\"],[0.8888888888888888,\"#fdca26\"],[1.0,\"#f0f921\"]],\"sequentialminus\":[[0.0,\"#0d0887\"],[0.1111111111111111,\"#46039f\"],[0.2222222222222222,\"#7201a8\"],[0.3333333333333333,\"#9c179e\"],[0.4444444444444444,\"#bd3786\"],[0.5555555555555556,\"#d8576b\"],[0.6666666666666666,\"#ed7953\"],[0.7777777777777778,\"#fb9f3a\"],[0.8888888888888888,\"#fdca26\"],[1.0,\"#f0f921\"]]},\"colorway\":[\"#636efa\",\"#EF553B\",\"#00cc96\",\"#ab63fa\",\"#FFA15A\",\"#19d3f3\",\"#FF6692\",\"#B6E880\",\"#FF97FF\",\"#FECB52\"],\"font\":{\"color\":\"#2a3f5f\"},\"geo\":{\"bgcolor\":\"white\",\"lakecolor\":\"white\",\"landcolor\":\"#E5ECF6\",\"showlakes\":true,\"showland\":true,\"subunitcolor\":\"white\"},\"hoverlabel\":{\"align\":\"left\"},\"hovermode\":\"closest\",\"mapbox\":{\"style\":\"light\"},\"paper_bgcolor\":\"white\",\"plot_bgcolor\":\"#E5ECF6\",\"polar\":{\"angularaxis\":{\"gridcolor\":\"white\",\"linecolor\":\"white\",\"ticks\":\"\"},\"bgcolor\":\"#E5ECF6\",\"radialaxis\":{\"gridcolor\":\"white\",\"linecolor\":\"white\",\"ticks\":\"\"}},\"scene\":{\"xaxis\":{\"backgroundcolor\":\"#E5ECF6\",\"gridcolor\":\"white\",\"gridwidth\":2,\"linecolor\":\"white\",\"showbackground\":true,\"ticks\":\"\",\"zerolinecolor\":\"white\"},\"yaxis\":{\"backgroundcolor\":\"#E5ECF6\",\"gridcolor\":\"white\",\"gridwidth\":2,\"linecolor\":\"white\",\"showbackground\":true,\"ticks\":\"\",\"zerolinecolor\":\"white\"},\"zaxis\":{\"backgroundcolor\":\"#E5ECF6\",\"gridcolor\":\"white\",\"gridwidth\":2,\"linecolor\":\"white\",\"showbackground\":true,\"ticks\":\"\",\"zerolinecolor\":\"white\"}},\"shapedefaults\":{\"line\":{\"color\":\"#2a3f5f\"}},\"ternary\":{\"aaxis\":{\"gridcolor\":\"white\",\"linecolor\":\"white\",\"ticks\":\"\"},\"baxis\":{\"gridcolor\":\"white\",\"linecolor\":\"white\",\"ticks\":\"\"},\"bgcolor\":\"#E5ECF6\",\"caxis\":{\"gridcolor\":\"white\",\"linecolor\":\"white\",\"ticks\":\"\"}},\"title\":{\"x\":0.05},\"xaxis\":{\"automargin\":true,\"gridcolor\":\"white\",\"linecolor\":\"white\",\"ticks\":\"\",\"title\":{\"standoff\":15},\"zerolinecolor\":\"white\",\"zerolinewidth\":2},\"yaxis\":{\"automargin\":true,\"gridcolor\":\"white\",\"linecolor\":\"white\",\"ticks\":\"\",\"title\":{\"standoff\":15},\"zerolinecolor\":\"white\",\"zerolinewidth\":2}}},\"xaxis\":{\"anchor\":\"y\",\"domain\":[0.0,1.0],\"title\":{\"text\":\"estado\"}},\"yaxis\":{\"anchor\":\"x\",\"domain\":[0.0,1.0],\"title\":{\"text\":\"value\"}},\"legend\":{\"title\":{\"text\":\"variable\"},\"tracegroupgap\":0},\"title\":{\"text\":\"Casos novos de Covid e IDH\"},\"barmode\":\"stack\"},                        {\"responsive\": true}                    ).then(function(){\n",
              "                            \n",
              "var gd = document.getElementById('ac7ede99-eeca-46d8-8a7f-b854809815d4');\n",
              "var x = new MutationObserver(function (mutations, observer) {{\n",
              "        var display = window.getComputedStyle(gd).display;\n",
              "        if (!display || display === 'none') {{\n",
              "            console.log([gd, 'removed!']);\n",
              "            Plotly.purge(gd);\n",
              "            observer.disconnect();\n",
              "        }}\n",
              "}});\n",
              "\n",
              "// Listen for the removal of the full notebook cells\n",
              "var notebookContainer = gd.closest('#notebook-container');\n",
              "if (notebookContainer) {{\n",
              "    x.observe(notebookContainer, {childList: true});\n",
              "}}\n",
              "\n",
              "// Listen for the clearing of the current output cell\n",
              "var outputEl = gd.closest('.output');\n",
              "if (outputEl) {{\n",
              "    x.observe(outputEl, {childList: true});\n",
              "}}\n",
              "\n",
              "                        })                };                            </script>        </div>\n",
              "</body>\n",
              "</html>"
            ]
          },
          "metadata": {}
        },
        {
          "output_type": "display_data",
          "data": {
            "text/html": [
              "<html>\n",
              "<head><meta charset=\"utf-8\" /></head>\n",
              "<body>\n",
              "    <div>            <script src=\"https://cdnjs.cloudflare.com/ajax/libs/mathjax/2.7.5/MathJax.js?config=TeX-AMS-MML_SVG\"></script><script type=\"text/javascript\">if (window.MathJax) {MathJax.Hub.Config({SVG: {font: \"STIX-Web\"}});}</script>                <script type=\"text/javascript\">window.PlotlyConfig = {MathJaxConfig: 'local'};</script>\n",
              "        <script src=\"https://cdn.plot.ly/plotly-2.8.3.min.js\"></script>                <div id=\"6d66af4d-d49e-44c4-b362-68c358ba781d\" class=\"plotly-graph-div\" style=\"height:525px; width:100%;\"></div>            <script type=\"text/javascript\">                                    window.PLOTLYENV=window.PLOTLYENV || {};                                    if (document.getElementById(\"6d66af4d-d49e-44c4-b362-68c358ba781d\")) {                    Plotly.newPlot(                        \"6d66af4d-d49e-44c4-b362-68c358ba781d\",                        [{\"alignmentgroup\":\"True\",\"hovertemplate\":\"estado=%{x}<br>total_casos=%{marker.color}<extra></extra>\",\"legendgroup\":\"\",\"marker\":{\"color\":[1934206,488322,442442,710181,210101,1713845,366096,870566,6497951,730522,1302535,2734324,594415,379049,3973929,974058,1859218,400336,1131222,1561859,598795,2628256,584904,166195,940689,2797579,213910],\"coloraxis\":\"coloraxis\",\"pattern\":{\"shape\":\"\"}},\"name\":\"\",\"offsetgroup\":\"\",\"orientation\":\"v\",\"showlegend\":false,\"textposition\":\"auto\",\"x\":[\"SC\",\"RO\",\"PI\",\"AM\",\"RR\",\"GO\",\"TO\",\"MT\",\"SP\",\"PB\",\"ES\",\"RS\",\"MS\",\"AL\",\"MG\",\"PA\",\"BA\",\"SE\",\"PE\",\"CE\",\"RN\",\"RJ\",\"MA\",\"AC\",\"DF\",\"PR\",\"AP\"],\"xaxis\":\"x\",\"y\":[1934206,488322,442442,710181,210101,1713845,366096,870566,6497951,730522,1302535,2734324,594415,379049,3973929,974058,1859218,400336,1131222,1561859,598795,2628256,584904,166195,940689,2797579,213910],\"yaxis\":\"y\",\"type\":\"bar\"}],                        {\"template\":{\"data\":{\"bar\":[{\"error_x\":{\"color\":\"#2a3f5f\"},\"error_y\":{\"color\":\"#2a3f5f\"},\"marker\":{\"line\":{\"color\":\"#E5ECF6\",\"width\":0.5},\"pattern\":{\"fillmode\":\"overlay\",\"size\":10,\"solidity\":0.2}},\"type\":\"bar\"}],\"barpolar\":[{\"marker\":{\"line\":{\"color\":\"#E5ECF6\",\"width\":0.5},\"pattern\":{\"fillmode\":\"overlay\",\"size\":10,\"solidity\":0.2}},\"type\":\"barpolar\"}],\"carpet\":[{\"aaxis\":{\"endlinecolor\":\"#2a3f5f\",\"gridcolor\":\"white\",\"linecolor\":\"white\",\"minorgridcolor\":\"white\",\"startlinecolor\":\"#2a3f5f\"},\"baxis\":{\"endlinecolor\":\"#2a3f5f\",\"gridcolor\":\"white\",\"linecolor\":\"white\",\"minorgridcolor\":\"white\",\"startlinecolor\":\"#2a3f5f\"},\"type\":\"carpet\"}],\"choropleth\":[{\"colorbar\":{\"outlinewidth\":0,\"ticks\":\"\"},\"type\":\"choropleth\"}],\"contour\":[{\"colorbar\":{\"outlinewidth\":0,\"ticks\":\"\"},\"colorscale\":[[0.0,\"#0d0887\"],[0.1111111111111111,\"#46039f\"],[0.2222222222222222,\"#7201a8\"],[0.3333333333333333,\"#9c179e\"],[0.4444444444444444,\"#bd3786\"],[0.5555555555555556,\"#d8576b\"],[0.6666666666666666,\"#ed7953\"],[0.7777777777777778,\"#fb9f3a\"],[0.8888888888888888,\"#fdca26\"],[1.0,\"#f0f921\"]],\"type\":\"contour\"}],\"contourcarpet\":[{\"colorbar\":{\"outlinewidth\":0,\"ticks\":\"\"},\"type\":\"contourcarpet\"}],\"heatmap\":[{\"colorbar\":{\"outlinewidth\":0,\"ticks\":\"\"},\"colorscale\":[[0.0,\"#0d0887\"],[0.1111111111111111,\"#46039f\"],[0.2222222222222222,\"#7201a8\"],[0.3333333333333333,\"#9c179e\"],[0.4444444444444444,\"#bd3786\"],[0.5555555555555556,\"#d8576b\"],[0.6666666666666666,\"#ed7953\"],[0.7777777777777778,\"#fb9f3a\"],[0.8888888888888888,\"#fdca26\"],[1.0,\"#f0f921\"]],\"type\":\"heatmap\"}],\"heatmapgl\":[{\"colorbar\":{\"outlinewidth\":0,\"ticks\":\"\"},\"colorscale\":[[0.0,\"#0d0887\"],[0.1111111111111111,\"#46039f\"],[0.2222222222222222,\"#7201a8\"],[0.3333333333333333,\"#9c179e\"],[0.4444444444444444,\"#bd3786\"],[0.5555555555555556,\"#d8576b\"],[0.6666666666666666,\"#ed7953\"],[0.7777777777777778,\"#fb9f3a\"],[0.8888888888888888,\"#fdca26\"],[1.0,\"#f0f921\"]],\"type\":\"heatmapgl\"}],\"histogram\":[{\"marker\":{\"pattern\":{\"fillmode\":\"overlay\",\"size\":10,\"solidity\":0.2}},\"type\":\"histogram\"}],\"histogram2d\":[{\"colorbar\":{\"outlinewidth\":0,\"ticks\":\"\"},\"colorscale\":[[0.0,\"#0d0887\"],[0.1111111111111111,\"#46039f\"],[0.2222222222222222,\"#7201a8\"],[0.3333333333333333,\"#9c179e\"],[0.4444444444444444,\"#bd3786\"],[0.5555555555555556,\"#d8576b\"],[0.6666666666666666,\"#ed7953\"],[0.7777777777777778,\"#fb9f3a\"],[0.8888888888888888,\"#fdca26\"],[1.0,\"#f0f921\"]],\"type\":\"histogram2d\"}],\"histogram2dcontour\":[{\"colorbar\":{\"outlinewidth\":0,\"ticks\":\"\"},\"colorscale\":[[0.0,\"#0d0887\"],[0.1111111111111111,\"#46039f\"],[0.2222222222222222,\"#7201a8\"],[0.3333333333333333,\"#9c179e\"],[0.4444444444444444,\"#bd3786\"],[0.5555555555555556,\"#d8576b\"],[0.6666666666666666,\"#ed7953\"],[0.7777777777777778,\"#fb9f3a\"],[0.8888888888888888,\"#fdca26\"],[1.0,\"#f0f921\"]],\"type\":\"histogram2dcontour\"}],\"mesh3d\":[{\"colorbar\":{\"outlinewidth\":0,\"ticks\":\"\"},\"type\":\"mesh3d\"}],\"parcoords\":[{\"line\":{\"colorbar\":{\"outlinewidth\":0,\"ticks\":\"\"}},\"type\":\"parcoords\"}],\"pie\":[{\"automargin\":true,\"type\":\"pie\"}],\"scatter\":[{\"marker\":{\"colorbar\":{\"outlinewidth\":0,\"ticks\":\"\"}},\"type\":\"scatter\"}],\"scatter3d\":[{\"line\":{\"colorbar\":{\"outlinewidth\":0,\"ticks\":\"\"}},\"marker\":{\"colorbar\":{\"outlinewidth\":0,\"ticks\":\"\"}},\"type\":\"scatter3d\"}],\"scattercarpet\":[{\"marker\":{\"colorbar\":{\"outlinewidth\":0,\"ticks\":\"\"}},\"type\":\"scattercarpet\"}],\"scattergeo\":[{\"marker\":{\"colorbar\":{\"outlinewidth\":0,\"ticks\":\"\"}},\"type\":\"scattergeo\"}],\"scattergl\":[{\"marker\":{\"colorbar\":{\"outlinewidth\":0,\"ticks\":\"\"}},\"type\":\"scattergl\"}],\"scattermapbox\":[{\"marker\":{\"colorbar\":{\"outlinewidth\":0,\"ticks\":\"\"}},\"type\":\"scattermapbox\"}],\"scatterpolar\":[{\"marker\":{\"colorbar\":{\"outlinewidth\":0,\"ticks\":\"\"}},\"type\":\"scatterpolar\"}],\"scatterpolargl\":[{\"marker\":{\"colorbar\":{\"outlinewidth\":0,\"ticks\":\"\"}},\"type\":\"scatterpolargl\"}],\"scatterternary\":[{\"marker\":{\"colorbar\":{\"outlinewidth\":0,\"ticks\":\"\"}},\"type\":\"scatterternary\"}],\"surface\":[{\"colorbar\":{\"outlinewidth\":0,\"ticks\":\"\"},\"colorscale\":[[0.0,\"#0d0887\"],[0.1111111111111111,\"#46039f\"],[0.2222222222222222,\"#7201a8\"],[0.3333333333333333,\"#9c179e\"],[0.4444444444444444,\"#bd3786\"],[0.5555555555555556,\"#d8576b\"],[0.6666666666666666,\"#ed7953\"],[0.7777777777777778,\"#fb9f3a\"],[0.8888888888888888,\"#fdca26\"],[1.0,\"#f0f921\"]],\"type\":\"surface\"}],\"table\":[{\"cells\":{\"fill\":{\"color\":\"#EBF0F8\"},\"line\":{\"color\":\"white\"}},\"header\":{\"fill\":{\"color\":\"#C8D4E3\"},\"line\":{\"color\":\"white\"}},\"type\":\"table\"}]},\"layout\":{\"annotationdefaults\":{\"arrowcolor\":\"#2a3f5f\",\"arrowhead\":0,\"arrowwidth\":1},\"autotypenumbers\":\"strict\",\"coloraxis\":{\"colorbar\":{\"outlinewidth\":0,\"ticks\":\"\"}},\"colorscale\":{\"diverging\":[[0,\"#8e0152\"],[0.1,\"#c51b7d\"],[0.2,\"#de77ae\"],[0.3,\"#f1b6da\"],[0.4,\"#fde0ef\"],[0.5,\"#f7f7f7\"],[0.6,\"#e6f5d0\"],[0.7,\"#b8e186\"],[0.8,\"#7fbc41\"],[0.9,\"#4d9221\"],[1,\"#276419\"]],\"sequential\":[[0.0,\"#0d0887\"],[0.1111111111111111,\"#46039f\"],[0.2222222222222222,\"#7201a8\"],[0.3333333333333333,\"#9c179e\"],[0.4444444444444444,\"#bd3786\"],[0.5555555555555556,\"#d8576b\"],[0.6666666666666666,\"#ed7953\"],[0.7777777777777778,\"#fb9f3a\"],[0.8888888888888888,\"#fdca26\"],[1.0,\"#f0f921\"]],\"sequentialminus\":[[0.0,\"#0d0887\"],[0.1111111111111111,\"#46039f\"],[0.2222222222222222,\"#7201a8\"],[0.3333333333333333,\"#9c179e\"],[0.4444444444444444,\"#bd3786\"],[0.5555555555555556,\"#d8576b\"],[0.6666666666666666,\"#ed7953\"],[0.7777777777777778,\"#fb9f3a\"],[0.8888888888888888,\"#fdca26\"],[1.0,\"#f0f921\"]]},\"colorway\":[\"#636efa\",\"#EF553B\",\"#00cc96\",\"#ab63fa\",\"#FFA15A\",\"#19d3f3\",\"#FF6692\",\"#B6E880\",\"#FF97FF\",\"#FECB52\"],\"font\":{\"color\":\"#2a3f5f\"},\"geo\":{\"bgcolor\":\"white\",\"lakecolor\":\"white\",\"landcolor\":\"#E5ECF6\",\"showlakes\":true,\"showland\":true,\"subunitcolor\":\"white\"},\"hoverlabel\":{\"align\":\"left\"},\"hovermode\":\"closest\",\"mapbox\":{\"style\":\"light\"},\"paper_bgcolor\":\"white\",\"plot_bgcolor\":\"#E5ECF6\",\"polar\":{\"angularaxis\":{\"gridcolor\":\"white\",\"linecolor\":\"white\",\"ticks\":\"\"},\"bgcolor\":\"#E5ECF6\",\"radialaxis\":{\"gridcolor\":\"white\",\"linecolor\":\"white\",\"ticks\":\"\"}},\"scene\":{\"xaxis\":{\"backgroundcolor\":\"#E5ECF6\",\"gridcolor\":\"white\",\"gridwidth\":2,\"linecolor\":\"white\",\"showbackground\":true,\"ticks\":\"\",\"zerolinecolor\":\"white\"},\"yaxis\":{\"backgroundcolor\":\"#E5ECF6\",\"gridcolor\":\"white\",\"gridwidth\":2,\"linecolor\":\"white\",\"showbackground\":true,\"ticks\":\"\",\"zerolinecolor\":\"white\"},\"zaxis\":{\"backgroundcolor\":\"#E5ECF6\",\"gridcolor\":\"white\",\"gridwidth\":2,\"linecolor\":\"white\",\"showbackground\":true,\"ticks\":\"\",\"zerolinecolor\":\"white\"}},\"shapedefaults\":{\"line\":{\"color\":\"#2a3f5f\"}},\"ternary\":{\"aaxis\":{\"gridcolor\":\"white\",\"linecolor\":\"white\",\"ticks\":\"\"},\"baxis\":{\"gridcolor\":\"white\",\"linecolor\":\"white\",\"ticks\":\"\"},\"bgcolor\":\"#E5ECF6\",\"caxis\":{\"gridcolor\":\"white\",\"linecolor\":\"white\",\"ticks\":\"\"}},\"title\":{\"x\":0.05},\"xaxis\":{\"automargin\":true,\"gridcolor\":\"white\",\"linecolor\":\"white\",\"ticks\":\"\",\"title\":{\"standoff\":15},\"zerolinecolor\":\"white\",\"zerolinewidth\":2},\"yaxis\":{\"automargin\":true,\"gridcolor\":\"white\",\"linecolor\":\"white\",\"ticks\":\"\",\"title\":{\"standoff\":15},\"zerolinecolor\":\"white\",\"zerolinewidth\":2}}},\"xaxis\":{\"anchor\":\"y\",\"domain\":[0.0,1.0],\"title\":{\"text\":\"estado\"}},\"yaxis\":{\"anchor\":\"x\",\"domain\":[0.0,1.0],\"title\":{\"text\":\"total_casos\"}},\"coloraxis\":{\"colorbar\":{\"title\":{\"text\":\"total_casos\"}},\"colorscale\":[[0.0,\"#0d0887\"],[0.1111111111111111,\"#46039f\"],[0.2222222222222222,\"#7201a8\"],[0.3333333333333333,\"#9c179e\"],[0.4444444444444444,\"#bd3786\"],[0.5555555555555556,\"#d8576b\"],[0.6666666666666666,\"#ed7953\"],[0.7777777777777778,\"#fb9f3a\"],[0.8888888888888888,\"#fdca26\"],[1.0,\"#f0f921\"]]},\"legend\":{\"tracegroupgap\":0},\"title\":{\"text\":\"Casos novos de Covid\"},\"barmode\":\"group\"},                        {\"responsive\": true}                    ).then(function(){\n",
              "                            \n",
              "var gd = document.getElementById('6d66af4d-d49e-44c4-b362-68c358ba781d');\n",
              "var x = new MutationObserver(function (mutations, observer) {{\n",
              "        var display = window.getComputedStyle(gd).display;\n",
              "        if (!display || display === 'none') {{\n",
              "            console.log([gd, 'removed!']);\n",
              "            Plotly.purge(gd);\n",
              "            observer.disconnect();\n",
              "        }}\n",
              "}});\n",
              "\n",
              "// Listen for the removal of the full notebook cells\n",
              "var notebookContainer = gd.closest('#notebook-container');\n",
              "if (notebookContainer) {{\n",
              "    x.observe(notebookContainer, {childList: true});\n",
              "}}\n",
              "\n",
              "// Listen for the clearing of the current output cell\n",
              "var outputEl = gd.closest('.output');\n",
              "if (outputEl) {{\n",
              "    x.observe(outputEl, {childList: true});\n",
              "}}\n",
              "\n",
              "                        })                };                            </script>        </div>\n",
              "</body>\n",
              "</html>"
            ]
          },
          "metadata": {}
        },
        {
          "output_type": "display_data",
          "data": {
            "text/html": [
              "<html>\n",
              "<head><meta charset=\"utf-8\" /></head>\n",
              "<body>\n",
              "    <div>            <script src=\"https://cdnjs.cloudflare.com/ajax/libs/mathjax/2.7.5/MathJax.js?config=TeX-AMS-MML_SVG\"></script><script type=\"text/javascript\">if (window.MathJax) {MathJax.Hub.Config({SVG: {font: \"STIX-Web\"}});}</script>                <script type=\"text/javascript\">window.PlotlyConfig = {MathJaxConfig: 'local'};</script>\n",
              "        <script src=\"https://cdn.plot.ly/plotly-2.8.3.min.js\"></script>                <div id=\"0768e5f2-59f2-40d0-86a2-6dcc06175a3e\" class=\"plotly-graph-div\" style=\"height:525px; width:100%;\"></div>            <script type=\"text/javascript\">                                    window.PLOTLYENV=window.PLOTLYENV || {};                                    if (document.getElementById(\"0768e5f2-59f2-40d0-86a2-6dcc06175a3e\")) {                    Plotly.newPlot(                        \"0768e5f2-59f2-40d0-86a2-6dcc06175a3e\",                        [{\"alignmentgroup\":\"True\",\"hovertemplate\":\"estado=%{x}<br>2018=%{marker.color}<extra></extra>\",\"legendgroup\":\"\",\"marker\":{\"color\":[8.2,27.5,42.7,19.9,25.9,18.9,32.5,24.2,8.3,37.8,18.9,8.0,16.3,41.1,17.1,27.9,35.3,38.6,30.2,36.9,34.8,6.3,45.5,36.5,11.5,15.9,27.4],\"coloraxis\":\"coloraxis\",\"pattern\":{\"shape\":\"\"}},\"name\":\"\",\"offsetgroup\":\"\",\"orientation\":\"v\",\"showlegend\":false,\"textposition\":\"auto\",\"x\":[\"SC\",\"RO\",\"PI\",\"AM\",\"RR\",\"GO\",\"TO\",\"MT\",\"SP\",\"PB\",\"ES\",\"RS\",\"MS\",\"AL\",\"MG\",\"PA\",\"BA\",\"SE\",\"PE\",\"CE\",\"RN\",\"RJ\",\"MA\",\"AC\",\"DF\",\"PR\",\"AP\"],\"xaxis\":\"x\",\"y\":[8.2,27.5,42.7,19.9,25.9,18.9,32.5,24.2,8.3,37.8,18.9,8.0,16.3,41.1,17.1,27.9,35.3,38.6,30.2,36.9,34.8,6.3,45.5,36.5,11.5,15.9,27.4],\"yaxis\":\"y\",\"type\":\"bar\"}],                        {\"template\":{\"data\":{\"bar\":[{\"error_x\":{\"color\":\"#2a3f5f\"},\"error_y\":{\"color\":\"#2a3f5f\"},\"marker\":{\"line\":{\"color\":\"#E5ECF6\",\"width\":0.5},\"pattern\":{\"fillmode\":\"overlay\",\"size\":10,\"solidity\":0.2}},\"type\":\"bar\"}],\"barpolar\":[{\"marker\":{\"line\":{\"color\":\"#E5ECF6\",\"width\":0.5},\"pattern\":{\"fillmode\":\"overlay\",\"size\":10,\"solidity\":0.2}},\"type\":\"barpolar\"}],\"carpet\":[{\"aaxis\":{\"endlinecolor\":\"#2a3f5f\",\"gridcolor\":\"white\",\"linecolor\":\"white\",\"minorgridcolor\":\"white\",\"startlinecolor\":\"#2a3f5f\"},\"baxis\":{\"endlinecolor\":\"#2a3f5f\",\"gridcolor\":\"white\",\"linecolor\":\"white\",\"minorgridcolor\":\"white\",\"startlinecolor\":\"#2a3f5f\"},\"type\":\"carpet\"}],\"choropleth\":[{\"colorbar\":{\"outlinewidth\":0,\"ticks\":\"\"},\"type\":\"choropleth\"}],\"contour\":[{\"colorbar\":{\"outlinewidth\":0,\"ticks\":\"\"},\"colorscale\":[[0.0,\"#0d0887\"],[0.1111111111111111,\"#46039f\"],[0.2222222222222222,\"#7201a8\"],[0.3333333333333333,\"#9c179e\"],[0.4444444444444444,\"#bd3786\"],[0.5555555555555556,\"#d8576b\"],[0.6666666666666666,\"#ed7953\"],[0.7777777777777778,\"#fb9f3a\"],[0.8888888888888888,\"#fdca26\"],[1.0,\"#f0f921\"]],\"type\":\"contour\"}],\"contourcarpet\":[{\"colorbar\":{\"outlinewidth\":0,\"ticks\":\"\"},\"type\":\"contourcarpet\"}],\"heatmap\":[{\"colorbar\":{\"outlinewidth\":0,\"ticks\":\"\"},\"colorscale\":[[0.0,\"#0d0887\"],[0.1111111111111111,\"#46039f\"],[0.2222222222222222,\"#7201a8\"],[0.3333333333333333,\"#9c179e\"],[0.4444444444444444,\"#bd3786\"],[0.5555555555555556,\"#d8576b\"],[0.6666666666666666,\"#ed7953\"],[0.7777777777777778,\"#fb9f3a\"],[0.8888888888888888,\"#fdca26\"],[1.0,\"#f0f921\"]],\"type\":\"heatmap\"}],\"heatmapgl\":[{\"colorbar\":{\"outlinewidth\":0,\"ticks\":\"\"},\"colorscale\":[[0.0,\"#0d0887\"],[0.1111111111111111,\"#46039f\"],[0.2222222222222222,\"#7201a8\"],[0.3333333333333333,\"#9c179e\"],[0.4444444444444444,\"#bd3786\"],[0.5555555555555556,\"#d8576b\"],[0.6666666666666666,\"#ed7953\"],[0.7777777777777778,\"#fb9f3a\"],[0.8888888888888888,\"#fdca26\"],[1.0,\"#f0f921\"]],\"type\":\"heatmapgl\"}],\"histogram\":[{\"marker\":{\"pattern\":{\"fillmode\":\"overlay\",\"size\":10,\"solidity\":0.2}},\"type\":\"histogram\"}],\"histogram2d\":[{\"colorbar\":{\"outlinewidth\":0,\"ticks\":\"\"},\"colorscale\":[[0.0,\"#0d0887\"],[0.1111111111111111,\"#46039f\"],[0.2222222222222222,\"#7201a8\"],[0.3333333333333333,\"#9c179e\"],[0.4444444444444444,\"#bd3786\"],[0.5555555555555556,\"#d8576b\"],[0.6666666666666666,\"#ed7953\"],[0.7777777777777778,\"#fb9f3a\"],[0.8888888888888888,\"#fdca26\"],[1.0,\"#f0f921\"]],\"type\":\"histogram2d\"}],\"histogram2dcontour\":[{\"colorbar\":{\"outlinewidth\":0,\"ticks\":\"\"},\"colorscale\":[[0.0,\"#0d0887\"],[0.1111111111111111,\"#46039f\"],[0.2222222222222222,\"#7201a8\"],[0.3333333333333333,\"#9c179e\"],[0.4444444444444444,\"#bd3786\"],[0.5555555555555556,\"#d8576b\"],[0.6666666666666666,\"#ed7953\"],[0.7777777777777778,\"#fb9f3a\"],[0.8888888888888888,\"#fdca26\"],[1.0,\"#f0f921\"]],\"type\":\"histogram2dcontour\"}],\"mesh3d\":[{\"colorbar\":{\"outlinewidth\":0,\"ticks\":\"\"},\"type\":\"mesh3d\"}],\"parcoords\":[{\"line\":{\"colorbar\":{\"outlinewidth\":0,\"ticks\":\"\"}},\"type\":\"parcoords\"}],\"pie\":[{\"automargin\":true,\"type\":\"pie\"}],\"scatter\":[{\"marker\":{\"colorbar\":{\"outlinewidth\":0,\"ticks\":\"\"}},\"type\":\"scatter\"}],\"scatter3d\":[{\"line\":{\"colorbar\":{\"outlinewidth\":0,\"ticks\":\"\"}},\"marker\":{\"colorbar\":{\"outlinewidth\":0,\"ticks\":\"\"}},\"type\":\"scatter3d\"}],\"scattercarpet\":[{\"marker\":{\"colorbar\":{\"outlinewidth\":0,\"ticks\":\"\"}},\"type\":\"scattercarpet\"}],\"scattergeo\":[{\"marker\":{\"colorbar\":{\"outlinewidth\":0,\"ticks\":\"\"}},\"type\":\"scattergeo\"}],\"scattergl\":[{\"marker\":{\"colorbar\":{\"outlinewidth\":0,\"ticks\":\"\"}},\"type\":\"scattergl\"}],\"scattermapbox\":[{\"marker\":{\"colorbar\":{\"outlinewidth\":0,\"ticks\":\"\"}},\"type\":\"scattermapbox\"}],\"scatterpolar\":[{\"marker\":{\"colorbar\":{\"outlinewidth\":0,\"ticks\":\"\"}},\"type\":\"scatterpolar\"}],\"scatterpolargl\":[{\"marker\":{\"colorbar\":{\"outlinewidth\":0,\"ticks\":\"\"}},\"type\":\"scatterpolargl\"}],\"scatterternary\":[{\"marker\":{\"colorbar\":{\"outlinewidth\":0,\"ticks\":\"\"}},\"type\":\"scatterternary\"}],\"surface\":[{\"colorbar\":{\"outlinewidth\":0,\"ticks\":\"\"},\"colorscale\":[[0.0,\"#0d0887\"],[0.1111111111111111,\"#46039f\"],[0.2222222222222222,\"#7201a8\"],[0.3333333333333333,\"#9c179e\"],[0.4444444444444444,\"#bd3786\"],[0.5555555555555556,\"#d8576b\"],[0.6666666666666666,\"#ed7953\"],[0.7777777777777778,\"#fb9f3a\"],[0.8888888888888888,\"#fdca26\"],[1.0,\"#f0f921\"]],\"type\":\"surface\"}],\"table\":[{\"cells\":{\"fill\":{\"color\":\"#EBF0F8\"},\"line\":{\"color\":\"white\"}},\"header\":{\"fill\":{\"color\":\"#C8D4E3\"},\"line\":{\"color\":\"white\"}},\"type\":\"table\"}]},\"layout\":{\"annotationdefaults\":{\"arrowcolor\":\"#2a3f5f\",\"arrowhead\":0,\"arrowwidth\":1},\"autotypenumbers\":\"strict\",\"coloraxis\":{\"colorbar\":{\"outlinewidth\":0,\"ticks\":\"\"}},\"colorscale\":{\"diverging\":[[0,\"#8e0152\"],[0.1,\"#c51b7d\"],[0.2,\"#de77ae\"],[0.3,\"#f1b6da\"],[0.4,\"#fde0ef\"],[0.5,\"#f7f7f7\"],[0.6,\"#e6f5d0\"],[0.7,\"#b8e186\"],[0.8,\"#7fbc41\"],[0.9,\"#4d9221\"],[1,\"#276419\"]],\"sequential\":[[0.0,\"#0d0887\"],[0.1111111111111111,\"#46039f\"],[0.2222222222222222,\"#7201a8\"],[0.3333333333333333,\"#9c179e\"],[0.4444444444444444,\"#bd3786\"],[0.5555555555555556,\"#d8576b\"],[0.6666666666666666,\"#ed7953\"],[0.7777777777777778,\"#fb9f3a\"],[0.8888888888888888,\"#fdca26\"],[1.0,\"#f0f921\"]],\"sequentialminus\":[[0.0,\"#0d0887\"],[0.1111111111111111,\"#46039f\"],[0.2222222222222222,\"#7201a8\"],[0.3333333333333333,\"#9c179e\"],[0.4444444444444444,\"#bd3786\"],[0.5555555555555556,\"#d8576b\"],[0.6666666666666666,\"#ed7953\"],[0.7777777777777778,\"#fb9f3a\"],[0.8888888888888888,\"#fdca26\"],[1.0,\"#f0f921\"]]},\"colorway\":[\"#636efa\",\"#EF553B\",\"#00cc96\",\"#ab63fa\",\"#FFA15A\",\"#19d3f3\",\"#FF6692\",\"#B6E880\",\"#FF97FF\",\"#FECB52\"],\"font\":{\"color\":\"#2a3f5f\"},\"geo\":{\"bgcolor\":\"white\",\"lakecolor\":\"white\",\"landcolor\":\"#E5ECF6\",\"showlakes\":true,\"showland\":true,\"subunitcolor\":\"white\"},\"hoverlabel\":{\"align\":\"left\"},\"hovermode\":\"closest\",\"mapbox\":{\"style\":\"light\"},\"paper_bgcolor\":\"white\",\"plot_bgcolor\":\"#E5ECF6\",\"polar\":{\"angularaxis\":{\"gridcolor\":\"white\",\"linecolor\":\"white\",\"ticks\":\"\"},\"bgcolor\":\"#E5ECF6\",\"radialaxis\":{\"gridcolor\":\"white\",\"linecolor\":\"white\",\"ticks\":\"\"}},\"scene\":{\"xaxis\":{\"backgroundcolor\":\"#E5ECF6\",\"gridcolor\":\"white\",\"gridwidth\":2,\"linecolor\":\"white\",\"showbackground\":true,\"ticks\":\"\",\"zerolinecolor\":\"white\"},\"yaxis\":{\"backgroundcolor\":\"#E5ECF6\",\"gridcolor\":\"white\",\"gridwidth\":2,\"linecolor\":\"white\",\"showbackground\":true,\"ticks\":\"\",\"zerolinecolor\":\"white\"},\"zaxis\":{\"backgroundcolor\":\"#E5ECF6\",\"gridcolor\":\"white\",\"gridwidth\":2,\"linecolor\":\"white\",\"showbackground\":true,\"ticks\":\"\",\"zerolinecolor\":\"white\"}},\"shapedefaults\":{\"line\":{\"color\":\"#2a3f5f\"}},\"ternary\":{\"aaxis\":{\"gridcolor\":\"white\",\"linecolor\":\"white\",\"ticks\":\"\"},\"baxis\":{\"gridcolor\":\"white\",\"linecolor\":\"white\",\"ticks\":\"\"},\"bgcolor\":\"#E5ECF6\",\"caxis\":{\"gridcolor\":\"white\",\"linecolor\":\"white\",\"ticks\":\"\"}},\"title\":{\"x\":0.05},\"xaxis\":{\"automargin\":true,\"gridcolor\":\"white\",\"linecolor\":\"white\",\"ticks\":\"\",\"title\":{\"standoff\":15},\"zerolinecolor\":\"white\",\"zerolinewidth\":2},\"yaxis\":{\"automargin\":true,\"gridcolor\":\"white\",\"linecolor\":\"white\",\"ticks\":\"\",\"title\":{\"standoff\":15},\"zerolinecolor\":\"white\",\"zerolinewidth\":2}}},\"xaxis\":{\"anchor\":\"y\",\"domain\":[0.0,1.0],\"title\":{\"text\":\"estado\"}},\"yaxis\":{\"anchor\":\"x\",\"domain\":[0.0,1.0],\"title\":{\"text\":\"2018\"}},\"coloraxis\":{\"colorbar\":{\"title\":{\"text\":\"2018\"}},\"colorscale\":[[0.0,\"#0d0887\"],[0.1111111111111111,\"#46039f\"],[0.2222222222222222,\"#7201a8\"],[0.3333333333333333,\"#9c179e\"],[0.4444444444444444,\"#bd3786\"],[0.5555555555555556,\"#d8576b\"],[0.6666666666666666,\"#ed7953\"],[0.7777777777777778,\"#fb9f3a\"],[0.8888888888888888,\"#fdca26\"],[1.0,\"#f0f921\"]]},\"legend\":{\"tracegroupgap\":0},\"title\":{\"text\":\"Taxa de analfabetismo em 2018\"},\"barmode\":\"group\"},                        {\"responsive\": true}                    ).then(function(){\n",
              "                            \n",
              "var gd = document.getElementById('0768e5f2-59f2-40d0-86a2-6dcc06175a3e');\n",
              "var x = new MutationObserver(function (mutations, observer) {{\n",
              "        var display = window.getComputedStyle(gd).display;\n",
              "        if (!display || display === 'none') {{\n",
              "            console.log([gd, 'removed!']);\n",
              "            Plotly.purge(gd);\n",
              "            observer.disconnect();\n",
              "        }}\n",
              "}});\n",
              "\n",
              "// Listen for the removal of the full notebook cells\n",
              "var notebookContainer = gd.closest('#notebook-container');\n",
              "if (notebookContainer) {{\n",
              "    x.observe(notebookContainer, {childList: true});\n",
              "}}\n",
              "\n",
              "// Listen for the clearing of the current output cell\n",
              "var outputEl = gd.closest('.output');\n",
              "if (outputEl) {{\n",
              "    x.observe(outputEl, {childList: true});\n",
              "}}\n",
              "\n",
              "                        })                };                            </script>        </div>\n",
              "</body>\n",
              "</html>"
            ]
          },
          "metadata": {}
        }
      ]
    },
    {
      "cell_type": "markdown",
      "source": [
        "#### Importação da tabela de IDHM no Brasil referente ao ano de 2017, devido não encontrar dados mais rescentes."
      ],
      "metadata": {
        "id": "UJP3uQX1jZ9I"
      }
    },
    {
      "cell_type": "code",
      "source": [
        "idh = spark.read.format('csv')\\\n",
        "                     .options(header='true',\\\n",
        "                              inferschema='true')\\\n",
        "                .load(f'{caminho_local}/idh.csv',header=True)\n",
        "idh.show()"
      ],
      "metadata": {
        "colab": {
          "base_uri": "https://localhost:8080/"
        },
        "id": "-CvC7pNtkBTj",
        "outputId": "ffb06fc7-72c5-43e6-95f5-df30d0c22955"
      },
      "execution_count": 55,
      "outputs": [
        {
          "output_type": "stream",
          "name": "stdout",
          "text": [
            "+------------------+------------+-----+------------------+----------+---------------------+-------------+------------------------+----------------+\n",
            "|  Territorialidade|Posição_IDHM| IDHM|Posição_IDHM_Renda|IDHM_Renda|Posição_IDHM_Educação|IDHM_Educação|Posição_IDHM_Longevidade|IDHM_Longevidade|\n",
            "+------------------+------------+-----+------------------+----------+---------------------+-------------+------------------------+----------------+\n",
            "|         São Paulo|           2|0.826|                 5|     0.854|                    1|        0.828|                       2|           0.796|\n",
            "|  Distrito Federal|           1| 0.85|                 1|      0.89|                    2|        0.804|                       1|           0.859|\n",
            "|    Santa Catarina|           3|0.808|                 3|     0.866|                    3|        0.779|                       4|           0.783|\n",
            "|           Roraima|          11|0.752|                22|     0.781|                    4|        0.771|                      12|           0.706|\n",
            "|            Paraná|           5|0.792|                 9|     0.843|                    5|        0.764|                       5|           0.771|\n",
            "|    Rio de Janeiro|           4|0.796|                 4|     0.858|                    6|        0.763|                       6|           0.769|\n",
            "|       Mato Grosso|           7|0.774|                10|     0.825|                    7|        0.758|                       9|           0.742|\n",
            "|      Minas Gerais|           6|0.787|                 2|     0.875|                    8|        0.753|                      10|           0.741|\n",
            "|             Goiás|           9|0.769|                11|     0.822|                    9|         0.74|                       8|           0.747|\n",
            "|          Amazonas|          15|0.733|                20|     0.786|                   10|        0.735|                      18|           0.682|\n",
            "|    Espírito Santo|           8|0.772|                 6|      0.85|                   11|        0.732|                      11|            0.74|\n",
            "| Rio Grande do Sul|           6|0.787|                 7|     0.849|                   12|        0.729|                       3|           0.787|\n",
            "|         Tocantins|          12|0.743|                16|     0.811|                   13|        0.727|                      14|           0.696|\n",
            "|             Ceará|          14|0.735|                14|     0.818|                   14|        0.717|                      21|           0.676|\n",
            "|Mato Grosso do Sul|          10|0.766|                 8|     0.847|                   15|         0.71|                       7|           0.748|\n",
            "|             Amapá|          13| 0.74|                13|      0.82|                   15|         0.71|                      15|           0.695|\n",
            "|          Rondônia|          18|0.725|                23|     0.776|                   16|        0.703|                      13|           0.699|\n",
            "|        Pernambuco|          17|0.727|                12|     0.821|                   17|        0.685|                      18|           0.682|\n",
            "|          Maranhão|          25|0.687|                25|     0.764|                   18|        0.682|                      26|           0.623|\n",
            "|              Acre|          20|0.719|                12|     0.821|                   18|        0.682|                      22|           0.664|\n",
            "+------------------+------------+-----+------------------+----------+---------------------+-------------+------------------------+----------------+\n",
            "only showing top 20 rows\n",
            "\n"
          ]
        }
      ]
    },
    {
      "cell_type": "markdown",
      "source": [
        "#### Foram alterados os valores da coluna Territorialidade no dataframe IDHM, de nome do estado para a sigla do estado para futura comparação com os dados de Covid."
      ],
      "metadata": {
        "id": "Y7t5Brs7ZWMJ"
      }
    },
    {
      "cell_type": "code",
      "source": [
        "idh = idh.withColumn('Territorialidade',\\\n",
        "                                   regexp_replace('Territorialidade', 'Rondônia', 'RO'))\\\n",
        "                       .withColumn('Territorialidade',\\\n",
        "                                   regexp_replace('Territorialidade', 'Acre', 'AC'))\\\n",
        "                       .withColumn('Territorialidade',\\\n",
        "                                   regexp_replace('Territorialidade', 'Amazonas', 'AM'))\\\n",
        "                       .withColumn('Territorialidade',\\\n",
        "                                   regexp_replace('Territorialidade', 'Roraima', 'RR'))\\\n",
        "                       .withColumn('Territorialidade',\\\n",
        "                                   regexp_replace('Territorialidade', 'Pará', 'PA'))\\\n",
        "                       .withColumn('Territorialidade',\\\n",
        "                                   regexp_replace('Territorialidade', 'Amapá', 'AP'))\\\n",
        "                       .withColumn('Territorialidade',\\\n",
        "                                   regexp_replace('Territorialidade', 'Tocantins', 'TO'))\\\n",
        "                       .withColumn('Territorialidade',\\\n",
        "                                   regexp_replace('Territorialidade', 'Maranhão', 'MA'))\\\n",
        "                       .withColumn('Territorialidade',\\\n",
        "                                   regexp_replace('Territorialidade', 'Piauí', 'PI'))\\\n",
        "                       .withColumn('Territorialidade',\\\n",
        "                                   regexp_replace('Territorialidade', 'Ceará', 'CE'))\\\n",
        "                       .withColumn('Territorialidade',\\\n",
        "                                   regexp_replace('Territorialidade', 'Rio Grande do Norte', 'RN'))\\\n",
        "                       .withColumn('Territorialidade',\\\n",
        "                                   regexp_replace('Territorialidade', 'Paraíba', 'PB'))\\\n",
        "                       .withColumn('Territorialidade',\\\n",
        "                                   regexp_replace('Territorialidade', 'Pernambuco', 'PE'))\\\n",
        "                       .withColumn('Territorialidade',\\\n",
        "                                   regexp_replace('Territorialidade', 'Alagoas', 'AL'))\\\n",
        "                       .withColumn('Territorialidade',\\\n",
        "                                   regexp_replace('Territorialidade', 'Sergipe', 'SE'))\\\n",
        "                       .withColumn('Territorialidade',\\\n",
        "                                   regexp_replace('Territorialidade', 'Bahia', 'BA'))\\\n",
        "                       .withColumn('Territorialidade',\\\n",
        "                                   regexp_replace('Territorialidade', 'Minas Gerais', 'MG'))\\\n",
        "                       .withColumn('Territorialidade',\\\n",
        "                                   regexp_replace('Territorialidade', 'Espírito Santo', 'ES'))\\\n",
        "                       .withColumn('Territorialidade',\\\n",
        "                                   regexp_replace('Territorialidade', 'Rio de Janeiro', 'RJ'))\\\n",
        "                       .withColumn('Territorialidade',\\\n",
        "                                   regexp_replace('Territorialidade', 'São Paulo', 'SP'))\\\n",
        "                       .withColumn('Territorialidade',\\\n",
        "                                   regexp_replace('Territorialidade', 'Paraná', 'PR'))\\\n",
        "                       .withColumn('Territorialidade',\\\n",
        "                                   regexp_replace('Territorialidade', 'Santa Catarina', 'SC'))\\\n",
        "                       .withColumn('Territorialidade',\\\n",
        "                                   regexp_replace('Territorialidade', 'Rio Grande do Sul', 'RS' ))\\\n",
        "                       .withColumn('Territorialidade',\\\n",
        "                                   regexp_replace('Territorialidade', 'Mato Grosso do Sul', 'MS'))\\\n",
        "                       .withColumn('Territorialidade',\\\n",
        "                                   regexp_replace('Territorialidade', 'Mato Grosso', 'MT'))\\\n",
        "                       .withColumn('Territorialidade',\\\n",
        "                                   regexp_replace('Territorialidade', 'Goiás', 'GO'))\\\n",
        "                       .withColumn('Territorialidade',\\\n",
        "                                   regexp_replace('Territorialidade', 'Distrito Federal', 'DF'))\\\n",
        "\n",
        "idh.show(27)"
      ],
      "metadata": {
        "colab": {
          "base_uri": "https://localhost:8080/"
        },
        "id": "aSXOH57kZVwT",
        "outputId": "747a516c-943b-4a99-b9dd-614da38a656d"
      },
      "execution_count": 56,
      "outputs": [
        {
          "output_type": "stream",
          "name": "stdout",
          "text": [
            "+----------------+------------+-----+------------------+----------+---------------------+-------------+------------------------+----------------+\n",
            "|Territorialidade|Posição_IDHM| IDHM|Posição_IDHM_Renda|IDHM_Renda|Posição_IDHM_Educação|IDHM_Educação|Posição_IDHM_Longevidade|IDHM_Longevidade|\n",
            "+----------------+------------+-----+------------------+----------+---------------------+-------------+------------------------+----------------+\n",
            "|              SP|           2|0.826|                 5|     0.854|                    1|        0.828|                       2|           0.796|\n",
            "|              DF|           1| 0.85|                 1|      0.89|                    2|        0.804|                       1|           0.859|\n",
            "|              SC|           3|0.808|                 3|     0.866|                    3|        0.779|                       4|           0.783|\n",
            "|              RR|          11|0.752|                22|     0.781|                    4|        0.771|                      12|           0.706|\n",
            "|              PR|           5|0.792|                 9|     0.843|                    5|        0.764|                       5|           0.771|\n",
            "|              RJ|           4|0.796|                 4|     0.858|                    6|        0.763|                       6|           0.769|\n",
            "|              MT|           7|0.774|                10|     0.825|                    7|        0.758|                       9|           0.742|\n",
            "|              MG|           6|0.787|                 2|     0.875|                    8|        0.753|                      10|           0.741|\n",
            "|              GO|           9|0.769|                11|     0.822|                    9|         0.74|                       8|           0.747|\n",
            "|              AM|          15|0.733|                20|     0.786|                   10|        0.735|                      18|           0.682|\n",
            "|              ES|           8|0.772|                 6|      0.85|                   11|        0.732|                      11|            0.74|\n",
            "|              RS|           6|0.787|                 7|     0.849|                   12|        0.729|                       3|           0.787|\n",
            "|              TO|          12|0.743|                16|     0.811|                   13|        0.727|                      14|           0.696|\n",
            "|              CE|          14|0.735|                14|     0.818|                   14|        0.717|                      21|           0.676|\n",
            "|              MS|          10|0.766|                 8|     0.847|                   15|         0.71|                       7|           0.748|\n",
            "|              AP|          13| 0.74|                13|      0.82|                   15|         0.71|                      15|           0.695|\n",
            "|              RO|          18|0.725|                23|     0.776|                   16|        0.703|                      13|           0.699|\n",
            "|              PE|          17|0.727|                12|     0.821|                   17|        0.685|                      18|           0.682|\n",
            "|              MA|          25|0.687|                25|     0.764|                   18|        0.682|                      26|           0.623|\n",
            "|              AC|          20|0.719|                12|     0.821|                   18|        0.682|                      22|           0.664|\n",
            "|              RN|          16|0.731|                 7|     0.849|                   19|        0.677|                      19|            0.68|\n",
            "|              PB|          19|0.722|                17|     0.809|                   20|        0.671|                      16|           0.694|\n",
            "|              PI|          24|0.697|                24|     0.771|                   21|        0.666|                      23|            0.66|\n",
            "|              PA|          23|0.698|                19|     0.788|                   22|        0.661|                      24|           0.654|\n",
            "|              BA|          21|0.714|                15|     0.812|                   23|        0.654|                      17|           0.685|\n",
            "|              SE|          22|0.702|                18|     0.799|                   24|         0.64|                      20|           0.677|\n",
            "|              AL|          26|0.683|                21|     0.783|                   25|        0.636|                      25|           0.639|\n",
            "+----------------+------------+-----+------------------+----------+---------------------+-------------+------------------------+----------------+\n",
            "\n"
          ]
        }
      ]
    },
    {
      "cell_type": "markdown",
      "source": [
        "#### Foi feita a separaçao do dataframe de acordo com o IDHM considerado para melhor visualização dos dados."
      ],
      "metadata": {
        "id": "-fYbNldYkw9F"
      }
    },
    {
      "cell_type": "code",
      "source": [
        "idhm = idh.select(\"Territorialidade\", \"Posição_IDHM\", \"IDHM\")\\\n",
        "          .orderBy(col(\"IDHM\").asc())\n",
        "\n",
        "idhm.show(27)"
      ],
      "metadata": {
        "colab": {
          "base_uri": "https://localhost:8080/"
        },
        "id": "KM2SYrqplSL5",
        "outputId": "644ee67e-85d4-48fc-b3eb-cc98595ca85d"
      },
      "execution_count": 57,
      "outputs": [
        {
          "output_type": "stream",
          "name": "stdout",
          "text": [
            "+----------------+------------+-----+\n",
            "|Territorialidade|Posição_IDHM| IDHM|\n",
            "+----------------+------------+-----+\n",
            "|              AL|          26|0.683|\n",
            "|              MA|          25|0.687|\n",
            "|              PI|          24|0.697|\n",
            "|              PA|          23|0.698|\n",
            "|              SE|          22|0.702|\n",
            "|              BA|          21|0.714|\n",
            "|              AC|          20|0.719|\n",
            "|              PB|          19|0.722|\n",
            "|              RO|          18|0.725|\n",
            "|              PE|          17|0.727|\n",
            "|              RN|          16|0.731|\n",
            "|              AM|          15|0.733|\n",
            "|              CE|          14|0.735|\n",
            "|              AP|          13| 0.74|\n",
            "|              TO|          12|0.743|\n",
            "|              RR|          11|0.752|\n",
            "|              MS|          10|0.766|\n",
            "|              GO|           9|0.769|\n",
            "|              ES|           8|0.772|\n",
            "|              MT|           7|0.774|\n",
            "|              MG|           6|0.787|\n",
            "|              RS|           6|0.787|\n",
            "|              PR|           5|0.792|\n",
            "|              RJ|           4|0.796|\n",
            "|              SC|           3|0.808|\n",
            "|              SP|           2|0.826|\n",
            "|              DF|           1| 0.85|\n",
            "+----------------+------------+-----+\n",
            "\n"
          ]
        }
      ]
    },
    {
      "cell_type": "code",
      "source": [
        "idhm_renda = idh.select(\"Territorialidade\", \"Posição_IDHM_Renda\", \"IDHM_Renda\")\\\n",
        "          .orderBy(col(\"IDHM_Renda\").asc())\n",
        "\n",
        "idhm_renda.show(27)"
      ],
      "metadata": {
        "colab": {
          "base_uri": "https://localhost:8080/"
        },
        "id": "4maoB6aamSl5",
        "outputId": "abd95579-3146-4b0d-c83f-937f24ea35b1"
      },
      "execution_count": 58,
      "outputs": [
        {
          "output_type": "stream",
          "name": "stdout",
          "text": [
            "+----------------+------------------+----------+\n",
            "|Territorialidade|Posição_IDHM_Renda|IDHM_Renda|\n",
            "+----------------+------------------+----------+\n",
            "|              MA|                25|     0.764|\n",
            "|              PI|                24|     0.771|\n",
            "|              RO|                23|     0.776|\n",
            "|              RR|                22|     0.781|\n",
            "|              AL|                21|     0.783|\n",
            "|              AM|                20|     0.786|\n",
            "|              PA|                19|     0.788|\n",
            "|              SE|                18|     0.799|\n",
            "|              PB|                17|     0.809|\n",
            "|              TO|                16|     0.811|\n",
            "|              BA|                15|     0.812|\n",
            "|              CE|                14|     0.818|\n",
            "|              AP|                13|      0.82|\n",
            "|              AC|                12|     0.821|\n",
            "|              PE|                12|     0.821|\n",
            "|              GO|                11|     0.822|\n",
            "|              MT|                10|     0.825|\n",
            "|              PR|                 9|     0.843|\n",
            "|              MS|                 8|     0.847|\n",
            "|              RS|                 7|     0.849|\n",
            "|              RN|                 7|     0.849|\n",
            "|              ES|                 6|      0.85|\n",
            "|              SP|                 5|     0.854|\n",
            "|              RJ|                 4|     0.858|\n",
            "|              SC|                 3|     0.866|\n",
            "|              MG|                 2|     0.875|\n",
            "|              DF|                 1|      0.89|\n",
            "+----------------+------------------+----------+\n",
            "\n"
          ]
        }
      ]
    },
    {
      "cell_type": "code",
      "source": [
        "idhm_educacao = idh.select(\"Territorialidade\", \"Posição_IDHM_Educação\", \"IDHM_Educação\")\\\n",
        "          .orderBy(col(\"IDHM_Educação\").asc())\n",
        "\n",
        "idhm_educacao.show(27)"
      ],
      "metadata": {
        "colab": {
          "base_uri": "https://localhost:8080/"
        },
        "id": "aEbQcPWpmSxI",
        "outputId": "4282db36-170e-4523-d0ab-8d283d11a29a"
      },
      "execution_count": 59,
      "outputs": [
        {
          "output_type": "stream",
          "name": "stdout",
          "text": [
            "+----------------+---------------------+-------------+\n",
            "|Territorialidade|Posição_IDHM_Educação|IDHM_Educação|\n",
            "+----------------+---------------------+-------------+\n",
            "|              AL|                   25|        0.636|\n",
            "|              SE|                   24|         0.64|\n",
            "|              BA|                   23|        0.654|\n",
            "|              PA|                   22|        0.661|\n",
            "|              PI|                   21|        0.666|\n",
            "|              PB|                   20|        0.671|\n",
            "|              RN|                   19|        0.677|\n",
            "|              MA|                   18|        0.682|\n",
            "|              AC|                   18|        0.682|\n",
            "|              PE|                   17|        0.685|\n",
            "|              RO|                   16|        0.703|\n",
            "|              MS|                   15|         0.71|\n",
            "|              AP|                   15|         0.71|\n",
            "|              CE|                   14|        0.717|\n",
            "|              TO|                   13|        0.727|\n",
            "|              RS|                   12|        0.729|\n",
            "|              ES|                   11|        0.732|\n",
            "|              AM|                   10|        0.735|\n",
            "|              GO|                    9|         0.74|\n",
            "|              MG|                    8|        0.753|\n",
            "|              MT|                    7|        0.758|\n",
            "|              RJ|                    6|        0.763|\n",
            "|              PR|                    5|        0.764|\n",
            "|              RR|                    4|        0.771|\n",
            "|              SC|                    3|        0.779|\n",
            "|              DF|                    2|        0.804|\n",
            "|              SP|                    1|        0.828|\n",
            "+----------------+---------------------+-------------+\n",
            "\n"
          ]
        }
      ]
    },
    {
      "cell_type": "code",
      "source": [
        "idhm_longevidade = idh.select(\"Territorialidade\", \"Posição_IDHM_Longevidade\", \"IDHM_Longevidade\")\\\n",
        "          .orderBy(col(\"IDHM_Longevidade\").asc())\n",
        "\n",
        "idhm_longevidade.show(27)"
      ],
      "metadata": {
        "colab": {
          "base_uri": "https://localhost:8080/"
        },
        "id": "IS1EPJZFnZR4",
        "outputId": "7f1fa93c-cf28-4638-d59c-bcb90ae23dd6"
      },
      "execution_count": 60,
      "outputs": [
        {
          "output_type": "stream",
          "name": "stdout",
          "text": [
            "+----------------+------------------------+----------------+\n",
            "|Territorialidade|Posição_IDHM_Longevidade|IDHM_Longevidade|\n",
            "+----------------+------------------------+----------------+\n",
            "|              MA|                      26|           0.623|\n",
            "|              AL|                      25|           0.639|\n",
            "|              PA|                      24|           0.654|\n",
            "|              PI|                      23|            0.66|\n",
            "|              AC|                      22|           0.664|\n",
            "|              CE|                      21|           0.676|\n",
            "|              SE|                      20|           0.677|\n",
            "|              RN|                      19|            0.68|\n",
            "|              AM|                      18|           0.682|\n",
            "|              PE|                      18|           0.682|\n",
            "|              BA|                      17|           0.685|\n",
            "|              PB|                      16|           0.694|\n",
            "|              AP|                      15|           0.695|\n",
            "|              TO|                      14|           0.696|\n",
            "|              RO|                      13|           0.699|\n",
            "|              RR|                      12|           0.706|\n",
            "|              ES|                      11|            0.74|\n",
            "|              MG|                      10|           0.741|\n",
            "|              MT|                       9|           0.742|\n",
            "|              GO|                       8|           0.747|\n",
            "|              MS|                       7|           0.748|\n",
            "|              RJ|                       6|           0.769|\n",
            "|              PR|                       5|           0.771|\n",
            "|              SC|                       4|           0.783|\n",
            "|              RS|                       3|           0.787|\n",
            "|              SP|                       2|           0.796|\n",
            "|              DF|                       1|           0.859|\n",
            "+----------------+------------------------+----------------+\n",
            "\n"
          ]
        }
      ]
    },
    {
      "cell_type": "markdown",
      "source": [
        "#### Demostração dos dados em gráfico."
      ],
      "metadata": {
        "id": "e2UmSZ-XgTP1"
      }
    },
    {
      "cell_type": "code",
      "source": [
        "graf_idh = estado_total_cs.join(idh, estado_total_cs.estado == idh.Territorialidade, \"inner\")\\\n",
        "                      .drop(\"Territorialidade\")\n",
        "graf_idh = graf_idh.toPandas()"
      ],
      "metadata": {
        "id": "F92Q2p5xceHp"
      },
      "execution_count": 61,
      "outputs": []
    },
    {
      "cell_type": "code",
      "source": [
        "to_plot_idh = [v for v in list(graf_idh.columns)]\n",
        "\n",
        "fig_graf_idh_covid = px.bar(graf_idh, x=graf_idh.estado, y=to_plot_idh,\\\n",
        "                                   barmode=\"stack\",\\\n",
        "                                   text_auto='.2s',\\\n",
        "                                   title=\"Casos novos de Covid e IDH\")\n",
        "             \n",
        "fig_graf_idh_covid.show()\n",
        "\n",
        "\n",
        "graf_idh_covid_obito = px.bar(graf_idh, x='estado', y=\"total_casos\",\\\n",
        "                               barmode=\"group\",\\\n",
        "                               color=\"total_casos\",\\\n",
        "                               title=\"Casos novos de  Covid\")\n",
        "graf_idh_covid= px.bar(graf_idh, x='estado', y=\"IDHM\",\\\n",
        "                                barmode=\"group\",\\\n",
        "                                color=\"IDHM\",\\\n",
        "                                title=\"IDHM\")\n",
        "graf_idh_covid_renda = px.bar(graf_idh, x='estado', y=\"IDHM_Renda\",\\\n",
        "                                 barmode=\"group\",\\\n",
        "                                 color=\"IDHM_Renda\",\\\n",
        "                                 title=\"IDHM Renda\")\n",
        "graf_idh_covid_educacao = px.bar(graf_idh, x='estado', y=\"IDHM_Educação\",\\\n",
        "                                 barmode=\"group\",\\\n",
        "                                 color=\"IDHM_Educação\",\\\n",
        "                                 title=\"IDHM Educação\")\n",
        "graf_idh_covid_educacao_longevidade = px.bar(graf_idh, x='estado', y=\"IDHM_Longevidade\",\\\n",
        "                                 barmode=\"group\",\\\n",
        "                                 color=\"IDHM_Longevidade\",\\\n",
        "                                 title=\"IDHM Longevidade\")\n",
        "graf_idh_covid_obito.show()\n",
        "graf_idh_covid.show()\n",
        "graf_idh_covid_renda.show()\n",
        "graf_idh_covid_educacao.show()\n",
        "graf_idh_covid_educacao_longevidade.show()"
      ],
      "metadata": {
        "colab": {
          "base_uri": "https://localhost:8080/",
          "height": 1000
        },
        "id": "UIW1aQ5vd3bw",
        "outputId": "534bb866-af49-4994-8534-0b9a4e365eea"
      },
      "execution_count": 62,
      "outputs": [
        {
          "output_type": "display_data",
          "data": {
            "text/html": [
              "<html>\n",
              "<head><meta charset=\"utf-8\" /></head>\n",
              "<body>\n",
              "    <div>            <script src=\"https://cdnjs.cloudflare.com/ajax/libs/mathjax/2.7.5/MathJax.js?config=TeX-AMS-MML_SVG\"></script><script type=\"text/javascript\">if (window.MathJax) {MathJax.Hub.Config({SVG: {font: \"STIX-Web\"}});}</script>                <script type=\"text/javascript\">window.PlotlyConfig = {MathJaxConfig: 'local'};</script>\n",
              "        <script src=\"https://cdn.plot.ly/plotly-2.8.3.min.js\"></script>                <div id=\"6a2f0e22-43bb-454d-8d60-eeb355d47c75\" class=\"plotly-graph-div\" style=\"height:525px; width:100%;\"></div>            <script type=\"text/javascript\">                                    window.PLOTLYENV=window.PLOTLYENV || {};                                    if (document.getElementById(\"6a2f0e22-43bb-454d-8d60-eeb355d47c75\")) {                    Plotly.newPlot(                        \"6a2f0e22-43bb-454d-8d60-eeb355d47c75\",                        [{\"alignmentgroup\":\"True\",\"hovertemplate\":\"variable=total_casos<br>estado=%{x}<br>value=%{y}<extra></extra>\",\"legendgroup\":\"total_casos\",\"marker\":{\"color\":\"#636efa\",\"pattern\":{\"shape\":\"\"}},\"name\":\"total_casos\",\"offsetgroup\":\"total_casos\",\"orientation\":\"v\",\"showlegend\":true,\"textposition\":\"auto\",\"texttemplate\":\"%{y:.2s}\",\"x\":[\"SC\",\"RO\",\"PI\",\"AM\",\"RR\",\"GO\",\"TO\",\"MT\",\"SP\",\"PB\",\"ES\",\"RS\",\"MS\",\"AL\",\"MG\",\"PA\",\"BA\",\"SE\",\"PE\",\"CE\",\"RN\",\"RJ\",\"MA\",\"AC\",\"DF\",\"PR\",\"AP\"],\"xaxis\":\"x\",\"y\":[1934206.0,488322.0,442442.0,710181.0,210101.0,1713845.0,366096.0,870566.0,6497951.0,730522.0,1302535.0,2734324.0,594415.0,379049.0,3973929.0,974058.0,1859218.0,400336.0,1131222.0,1561859.0,598795.0,2628256.0,584904.0,166195.0,940689.0,2797579.0,213910.0],\"yaxis\":\"y\",\"type\":\"bar\"},{\"alignmentgroup\":\"True\",\"hovertemplate\":\"variable=Posi\\u00e7\\u00e3o_IDHM<br>estado=%{x}<br>value=%{y}<extra></extra>\",\"legendgroup\":\"Posi\\u00e7\\u00e3o_IDHM\",\"marker\":{\"color\":\"#EF553B\",\"pattern\":{\"shape\":\"\"}},\"name\":\"Posi\\u00e7\\u00e3o_IDHM\",\"offsetgroup\":\"Posi\\u00e7\\u00e3o_IDHM\",\"orientation\":\"v\",\"showlegend\":true,\"textposition\":\"auto\",\"texttemplate\":\"%{y:.2s}\",\"x\":[\"SC\",\"RO\",\"PI\",\"AM\",\"RR\",\"GO\",\"TO\",\"MT\",\"SP\",\"PB\",\"ES\",\"RS\",\"MS\",\"AL\",\"MG\",\"PA\",\"BA\",\"SE\",\"PE\",\"CE\",\"RN\",\"RJ\",\"MA\",\"AC\",\"DF\",\"PR\",\"AP\"],\"xaxis\":\"x\",\"y\":[3.0,18.0,24.0,15.0,11.0,9.0,12.0,7.0,2.0,19.0,8.0,6.0,10.0,26.0,6.0,23.0,21.0,22.0,17.0,14.0,16.0,4.0,25.0,20.0,1.0,5.0,13.0],\"yaxis\":\"y\",\"type\":\"bar\"},{\"alignmentgroup\":\"True\",\"hovertemplate\":\"variable=IDHM<br>estado=%{x}<br>value=%{y}<extra></extra>\",\"legendgroup\":\"IDHM\",\"marker\":{\"color\":\"#00cc96\",\"pattern\":{\"shape\":\"\"}},\"name\":\"IDHM\",\"offsetgroup\":\"IDHM\",\"orientation\":\"v\",\"showlegend\":true,\"textposition\":\"auto\",\"texttemplate\":\"%{y:.2s}\",\"x\":[\"SC\",\"RO\",\"PI\",\"AM\",\"RR\",\"GO\",\"TO\",\"MT\",\"SP\",\"PB\",\"ES\",\"RS\",\"MS\",\"AL\",\"MG\",\"PA\",\"BA\",\"SE\",\"PE\",\"CE\",\"RN\",\"RJ\",\"MA\",\"AC\",\"DF\",\"PR\",\"AP\"],\"xaxis\":\"x\",\"y\":[0.808,0.725,0.697,0.733,0.752,0.769,0.743,0.774,0.826,0.722,0.772,0.787,0.766,0.683,0.787,0.698,0.714,0.702,0.727,0.735,0.731,0.796,0.687,0.719,0.85,0.792,0.74],\"yaxis\":\"y\",\"type\":\"bar\"},{\"alignmentgroup\":\"True\",\"hovertemplate\":\"variable=Posi\\u00e7\\u00e3o_IDHM_Renda<br>estado=%{x}<br>value=%{y}<extra></extra>\",\"legendgroup\":\"Posi\\u00e7\\u00e3o_IDHM_Renda\",\"marker\":{\"color\":\"#ab63fa\",\"pattern\":{\"shape\":\"\"}},\"name\":\"Posi\\u00e7\\u00e3o_IDHM_Renda\",\"offsetgroup\":\"Posi\\u00e7\\u00e3o_IDHM_Renda\",\"orientation\":\"v\",\"showlegend\":true,\"textposition\":\"auto\",\"texttemplate\":\"%{y:.2s}\",\"x\":[\"SC\",\"RO\",\"PI\",\"AM\",\"RR\",\"GO\",\"TO\",\"MT\",\"SP\",\"PB\",\"ES\",\"RS\",\"MS\",\"AL\",\"MG\",\"PA\",\"BA\",\"SE\",\"PE\",\"CE\",\"RN\",\"RJ\",\"MA\",\"AC\",\"DF\",\"PR\",\"AP\"],\"xaxis\":\"x\",\"y\":[3.0,23.0,24.0,20.0,22.0,11.0,16.0,10.0,5.0,17.0,6.0,7.0,8.0,21.0,2.0,19.0,15.0,18.0,12.0,14.0,7.0,4.0,25.0,12.0,1.0,9.0,13.0],\"yaxis\":\"y\",\"type\":\"bar\"},{\"alignmentgroup\":\"True\",\"hovertemplate\":\"variable=IDHM_Renda<br>estado=%{x}<br>value=%{y}<extra></extra>\",\"legendgroup\":\"IDHM_Renda\",\"marker\":{\"color\":\"#FFA15A\",\"pattern\":{\"shape\":\"\"}},\"name\":\"IDHM_Renda\",\"offsetgroup\":\"IDHM_Renda\",\"orientation\":\"v\",\"showlegend\":true,\"textposition\":\"auto\",\"texttemplate\":\"%{y:.2s}\",\"x\":[\"SC\",\"RO\",\"PI\",\"AM\",\"RR\",\"GO\",\"TO\",\"MT\",\"SP\",\"PB\",\"ES\",\"RS\",\"MS\",\"AL\",\"MG\",\"PA\",\"BA\",\"SE\",\"PE\",\"CE\",\"RN\",\"RJ\",\"MA\",\"AC\",\"DF\",\"PR\",\"AP\"],\"xaxis\":\"x\",\"y\":[0.866,0.776,0.771,0.786,0.781,0.822,0.811,0.825,0.854,0.809,0.85,0.849,0.847,0.783,0.875,0.788,0.812,0.799,0.821,0.818,0.849,0.858,0.764,0.821,0.89,0.843,0.82],\"yaxis\":\"y\",\"type\":\"bar\"},{\"alignmentgroup\":\"True\",\"hovertemplate\":\"variable=Posi\\u00e7\\u00e3o_IDHM_Educa\\u00e7\\u00e3o<br>estado=%{x}<br>value=%{y}<extra></extra>\",\"legendgroup\":\"Posi\\u00e7\\u00e3o_IDHM_Educa\\u00e7\\u00e3o\",\"marker\":{\"color\":\"#19d3f3\",\"pattern\":{\"shape\":\"\"}},\"name\":\"Posi\\u00e7\\u00e3o_IDHM_Educa\\u00e7\\u00e3o\",\"offsetgroup\":\"Posi\\u00e7\\u00e3o_IDHM_Educa\\u00e7\\u00e3o\",\"orientation\":\"v\",\"showlegend\":true,\"textposition\":\"auto\",\"texttemplate\":\"%{y:.2s}\",\"x\":[\"SC\",\"RO\",\"PI\",\"AM\",\"RR\",\"GO\",\"TO\",\"MT\",\"SP\",\"PB\",\"ES\",\"RS\",\"MS\",\"AL\",\"MG\",\"PA\",\"BA\",\"SE\",\"PE\",\"CE\",\"RN\",\"RJ\",\"MA\",\"AC\",\"DF\",\"PR\",\"AP\"],\"xaxis\":\"x\",\"y\":[3.0,16.0,21.0,10.0,4.0,9.0,13.0,7.0,1.0,20.0,11.0,12.0,15.0,25.0,8.0,22.0,23.0,24.0,17.0,14.0,19.0,6.0,18.0,18.0,2.0,5.0,15.0],\"yaxis\":\"y\",\"type\":\"bar\"},{\"alignmentgroup\":\"True\",\"hovertemplate\":\"variable=IDHM_Educa\\u00e7\\u00e3o<br>estado=%{x}<br>value=%{y}<extra></extra>\",\"legendgroup\":\"IDHM_Educa\\u00e7\\u00e3o\",\"marker\":{\"color\":\"#FF6692\",\"pattern\":{\"shape\":\"\"}},\"name\":\"IDHM_Educa\\u00e7\\u00e3o\",\"offsetgroup\":\"IDHM_Educa\\u00e7\\u00e3o\",\"orientation\":\"v\",\"showlegend\":true,\"textposition\":\"auto\",\"texttemplate\":\"%{y:.2s}\",\"x\":[\"SC\",\"RO\",\"PI\",\"AM\",\"RR\",\"GO\",\"TO\",\"MT\",\"SP\",\"PB\",\"ES\",\"RS\",\"MS\",\"AL\",\"MG\",\"PA\",\"BA\",\"SE\",\"PE\",\"CE\",\"RN\",\"RJ\",\"MA\",\"AC\",\"DF\",\"PR\",\"AP\"],\"xaxis\":\"x\",\"y\":[0.779,0.703,0.666,0.735,0.771,0.74,0.727,0.758,0.828,0.671,0.732,0.729,0.71,0.636,0.753,0.661,0.654,0.64,0.685,0.717,0.677,0.763,0.682,0.682,0.804,0.764,0.71],\"yaxis\":\"y\",\"type\":\"bar\"},{\"alignmentgroup\":\"True\",\"hovertemplate\":\"variable=Posi\\u00e7\\u00e3o_IDHM_Longevidade<br>estado=%{x}<br>value=%{y}<extra></extra>\",\"legendgroup\":\"Posi\\u00e7\\u00e3o_IDHM_Longevidade\",\"marker\":{\"color\":\"#B6E880\",\"pattern\":{\"shape\":\"\"}},\"name\":\"Posi\\u00e7\\u00e3o_IDHM_Longevidade\",\"offsetgroup\":\"Posi\\u00e7\\u00e3o_IDHM_Longevidade\",\"orientation\":\"v\",\"showlegend\":true,\"textposition\":\"auto\",\"texttemplate\":\"%{y:.2s}\",\"x\":[\"SC\",\"RO\",\"PI\",\"AM\",\"RR\",\"GO\",\"TO\",\"MT\",\"SP\",\"PB\",\"ES\",\"RS\",\"MS\",\"AL\",\"MG\",\"PA\",\"BA\",\"SE\",\"PE\",\"CE\",\"RN\",\"RJ\",\"MA\",\"AC\",\"DF\",\"PR\",\"AP\"],\"xaxis\":\"x\",\"y\":[4.0,13.0,23.0,18.0,12.0,8.0,14.0,9.0,2.0,16.0,11.0,3.0,7.0,25.0,10.0,24.0,17.0,20.0,18.0,21.0,19.0,6.0,26.0,22.0,1.0,5.0,15.0],\"yaxis\":\"y\",\"type\":\"bar\"},{\"alignmentgroup\":\"True\",\"hovertemplate\":\"variable=IDHM_Longevidade<br>estado=%{x}<br>value=%{y}<extra></extra>\",\"legendgroup\":\"IDHM_Longevidade\",\"marker\":{\"color\":\"#FF97FF\",\"pattern\":{\"shape\":\"\"}},\"name\":\"IDHM_Longevidade\",\"offsetgroup\":\"IDHM_Longevidade\",\"orientation\":\"v\",\"showlegend\":true,\"textposition\":\"auto\",\"texttemplate\":\"%{y:.2s}\",\"x\":[\"SC\",\"RO\",\"PI\",\"AM\",\"RR\",\"GO\",\"TO\",\"MT\",\"SP\",\"PB\",\"ES\",\"RS\",\"MS\",\"AL\",\"MG\",\"PA\",\"BA\",\"SE\",\"PE\",\"CE\",\"RN\",\"RJ\",\"MA\",\"AC\",\"DF\",\"PR\",\"AP\"],\"xaxis\":\"x\",\"y\":[0.783,0.699,0.66,0.682,0.706,0.747,0.696,0.742,0.796,0.694,0.74,0.787,0.748,0.639,0.741,0.654,0.685,0.677,0.682,0.676,0.68,0.769,0.623,0.664,0.859,0.771,0.695],\"yaxis\":\"y\",\"type\":\"bar\"}],                        {\"template\":{\"data\":{\"bar\":[{\"error_x\":{\"color\":\"#2a3f5f\"},\"error_y\":{\"color\":\"#2a3f5f\"},\"marker\":{\"line\":{\"color\":\"#E5ECF6\",\"width\":0.5},\"pattern\":{\"fillmode\":\"overlay\",\"size\":10,\"solidity\":0.2}},\"type\":\"bar\"}],\"barpolar\":[{\"marker\":{\"line\":{\"color\":\"#E5ECF6\",\"width\":0.5},\"pattern\":{\"fillmode\":\"overlay\",\"size\":10,\"solidity\":0.2}},\"type\":\"barpolar\"}],\"carpet\":[{\"aaxis\":{\"endlinecolor\":\"#2a3f5f\",\"gridcolor\":\"white\",\"linecolor\":\"white\",\"minorgridcolor\":\"white\",\"startlinecolor\":\"#2a3f5f\"},\"baxis\":{\"endlinecolor\":\"#2a3f5f\",\"gridcolor\":\"white\",\"linecolor\":\"white\",\"minorgridcolor\":\"white\",\"startlinecolor\":\"#2a3f5f\"},\"type\":\"carpet\"}],\"choropleth\":[{\"colorbar\":{\"outlinewidth\":0,\"ticks\":\"\"},\"type\":\"choropleth\"}],\"contour\":[{\"colorbar\":{\"outlinewidth\":0,\"ticks\":\"\"},\"colorscale\":[[0.0,\"#0d0887\"],[0.1111111111111111,\"#46039f\"],[0.2222222222222222,\"#7201a8\"],[0.3333333333333333,\"#9c179e\"],[0.4444444444444444,\"#bd3786\"],[0.5555555555555556,\"#d8576b\"],[0.6666666666666666,\"#ed7953\"],[0.7777777777777778,\"#fb9f3a\"],[0.8888888888888888,\"#fdca26\"],[1.0,\"#f0f921\"]],\"type\":\"contour\"}],\"contourcarpet\":[{\"colorbar\":{\"outlinewidth\":0,\"ticks\":\"\"},\"type\":\"contourcarpet\"}],\"heatmap\":[{\"colorbar\":{\"outlinewidth\":0,\"ticks\":\"\"},\"colorscale\":[[0.0,\"#0d0887\"],[0.1111111111111111,\"#46039f\"],[0.2222222222222222,\"#7201a8\"],[0.3333333333333333,\"#9c179e\"],[0.4444444444444444,\"#bd3786\"],[0.5555555555555556,\"#d8576b\"],[0.6666666666666666,\"#ed7953\"],[0.7777777777777778,\"#fb9f3a\"],[0.8888888888888888,\"#fdca26\"],[1.0,\"#f0f921\"]],\"type\":\"heatmap\"}],\"heatmapgl\":[{\"colorbar\":{\"outlinewidth\":0,\"ticks\":\"\"},\"colorscale\":[[0.0,\"#0d0887\"],[0.1111111111111111,\"#46039f\"],[0.2222222222222222,\"#7201a8\"],[0.3333333333333333,\"#9c179e\"],[0.4444444444444444,\"#bd3786\"],[0.5555555555555556,\"#d8576b\"],[0.6666666666666666,\"#ed7953\"],[0.7777777777777778,\"#fb9f3a\"],[0.8888888888888888,\"#fdca26\"],[1.0,\"#f0f921\"]],\"type\":\"heatmapgl\"}],\"histogram\":[{\"marker\":{\"pattern\":{\"fillmode\":\"overlay\",\"size\":10,\"solidity\":0.2}},\"type\":\"histogram\"}],\"histogram2d\":[{\"colorbar\":{\"outlinewidth\":0,\"ticks\":\"\"},\"colorscale\":[[0.0,\"#0d0887\"],[0.1111111111111111,\"#46039f\"],[0.2222222222222222,\"#7201a8\"],[0.3333333333333333,\"#9c179e\"],[0.4444444444444444,\"#bd3786\"],[0.5555555555555556,\"#d8576b\"],[0.6666666666666666,\"#ed7953\"],[0.7777777777777778,\"#fb9f3a\"],[0.8888888888888888,\"#fdca26\"],[1.0,\"#f0f921\"]],\"type\":\"histogram2d\"}],\"histogram2dcontour\":[{\"colorbar\":{\"outlinewidth\":0,\"ticks\":\"\"},\"colorscale\":[[0.0,\"#0d0887\"],[0.1111111111111111,\"#46039f\"],[0.2222222222222222,\"#7201a8\"],[0.3333333333333333,\"#9c179e\"],[0.4444444444444444,\"#bd3786\"],[0.5555555555555556,\"#d8576b\"],[0.6666666666666666,\"#ed7953\"],[0.7777777777777778,\"#fb9f3a\"],[0.8888888888888888,\"#fdca26\"],[1.0,\"#f0f921\"]],\"type\":\"histogram2dcontour\"}],\"mesh3d\":[{\"colorbar\":{\"outlinewidth\":0,\"ticks\":\"\"},\"type\":\"mesh3d\"}],\"parcoords\":[{\"line\":{\"colorbar\":{\"outlinewidth\":0,\"ticks\":\"\"}},\"type\":\"parcoords\"}],\"pie\":[{\"automargin\":true,\"type\":\"pie\"}],\"scatter\":[{\"marker\":{\"colorbar\":{\"outlinewidth\":0,\"ticks\":\"\"}},\"type\":\"scatter\"}],\"scatter3d\":[{\"line\":{\"colorbar\":{\"outlinewidth\":0,\"ticks\":\"\"}},\"marker\":{\"colorbar\":{\"outlinewidth\":0,\"ticks\":\"\"}},\"type\":\"scatter3d\"}],\"scattercarpet\":[{\"marker\":{\"colorbar\":{\"outlinewidth\":0,\"ticks\":\"\"}},\"type\":\"scattercarpet\"}],\"scattergeo\":[{\"marker\":{\"colorbar\":{\"outlinewidth\":0,\"ticks\":\"\"}},\"type\":\"scattergeo\"}],\"scattergl\":[{\"marker\":{\"colorbar\":{\"outlinewidth\":0,\"ticks\":\"\"}},\"type\":\"scattergl\"}],\"scattermapbox\":[{\"marker\":{\"colorbar\":{\"outlinewidth\":0,\"ticks\":\"\"}},\"type\":\"scattermapbox\"}],\"scatterpolar\":[{\"marker\":{\"colorbar\":{\"outlinewidth\":0,\"ticks\":\"\"}},\"type\":\"scatterpolar\"}],\"scatterpolargl\":[{\"marker\":{\"colorbar\":{\"outlinewidth\":0,\"ticks\":\"\"}},\"type\":\"scatterpolargl\"}],\"scatterternary\":[{\"marker\":{\"colorbar\":{\"outlinewidth\":0,\"ticks\":\"\"}},\"type\":\"scatterternary\"}],\"surface\":[{\"colorbar\":{\"outlinewidth\":0,\"ticks\":\"\"},\"colorscale\":[[0.0,\"#0d0887\"],[0.1111111111111111,\"#46039f\"],[0.2222222222222222,\"#7201a8\"],[0.3333333333333333,\"#9c179e\"],[0.4444444444444444,\"#bd3786\"],[0.5555555555555556,\"#d8576b\"],[0.6666666666666666,\"#ed7953\"],[0.7777777777777778,\"#fb9f3a\"],[0.8888888888888888,\"#fdca26\"],[1.0,\"#f0f921\"]],\"type\":\"surface\"}],\"table\":[{\"cells\":{\"fill\":{\"color\":\"#EBF0F8\"},\"line\":{\"color\":\"white\"}},\"header\":{\"fill\":{\"color\":\"#C8D4E3\"},\"line\":{\"color\":\"white\"}},\"type\":\"table\"}]},\"layout\":{\"annotationdefaults\":{\"arrowcolor\":\"#2a3f5f\",\"arrowhead\":0,\"arrowwidth\":1},\"autotypenumbers\":\"strict\",\"coloraxis\":{\"colorbar\":{\"outlinewidth\":0,\"ticks\":\"\"}},\"colorscale\":{\"diverging\":[[0,\"#8e0152\"],[0.1,\"#c51b7d\"],[0.2,\"#de77ae\"],[0.3,\"#f1b6da\"],[0.4,\"#fde0ef\"],[0.5,\"#f7f7f7\"],[0.6,\"#e6f5d0\"],[0.7,\"#b8e186\"],[0.8,\"#7fbc41\"],[0.9,\"#4d9221\"],[1,\"#276419\"]],\"sequential\":[[0.0,\"#0d0887\"],[0.1111111111111111,\"#46039f\"],[0.2222222222222222,\"#7201a8\"],[0.3333333333333333,\"#9c179e\"],[0.4444444444444444,\"#bd3786\"],[0.5555555555555556,\"#d8576b\"],[0.6666666666666666,\"#ed7953\"],[0.7777777777777778,\"#fb9f3a\"],[0.8888888888888888,\"#fdca26\"],[1.0,\"#f0f921\"]],\"sequentialminus\":[[0.0,\"#0d0887\"],[0.1111111111111111,\"#46039f\"],[0.2222222222222222,\"#7201a8\"],[0.3333333333333333,\"#9c179e\"],[0.4444444444444444,\"#bd3786\"],[0.5555555555555556,\"#d8576b\"],[0.6666666666666666,\"#ed7953\"],[0.7777777777777778,\"#fb9f3a\"],[0.8888888888888888,\"#fdca26\"],[1.0,\"#f0f921\"]]},\"colorway\":[\"#636efa\",\"#EF553B\",\"#00cc96\",\"#ab63fa\",\"#FFA15A\",\"#19d3f3\",\"#FF6692\",\"#B6E880\",\"#FF97FF\",\"#FECB52\"],\"font\":{\"color\":\"#2a3f5f\"},\"geo\":{\"bgcolor\":\"white\",\"lakecolor\":\"white\",\"landcolor\":\"#E5ECF6\",\"showlakes\":true,\"showland\":true,\"subunitcolor\":\"white\"},\"hoverlabel\":{\"align\":\"left\"},\"hovermode\":\"closest\",\"mapbox\":{\"style\":\"light\"},\"paper_bgcolor\":\"white\",\"plot_bgcolor\":\"#E5ECF6\",\"polar\":{\"angularaxis\":{\"gridcolor\":\"white\",\"linecolor\":\"white\",\"ticks\":\"\"},\"bgcolor\":\"#E5ECF6\",\"radialaxis\":{\"gridcolor\":\"white\",\"linecolor\":\"white\",\"ticks\":\"\"}},\"scene\":{\"xaxis\":{\"backgroundcolor\":\"#E5ECF6\",\"gridcolor\":\"white\",\"gridwidth\":2,\"linecolor\":\"white\",\"showbackground\":true,\"ticks\":\"\",\"zerolinecolor\":\"white\"},\"yaxis\":{\"backgroundcolor\":\"#E5ECF6\",\"gridcolor\":\"white\",\"gridwidth\":2,\"linecolor\":\"white\",\"showbackground\":true,\"ticks\":\"\",\"zerolinecolor\":\"white\"},\"zaxis\":{\"backgroundcolor\":\"#E5ECF6\",\"gridcolor\":\"white\",\"gridwidth\":2,\"linecolor\":\"white\",\"showbackground\":true,\"ticks\":\"\",\"zerolinecolor\":\"white\"}},\"shapedefaults\":{\"line\":{\"color\":\"#2a3f5f\"}},\"ternary\":{\"aaxis\":{\"gridcolor\":\"white\",\"linecolor\":\"white\",\"ticks\":\"\"},\"baxis\":{\"gridcolor\":\"white\",\"linecolor\":\"white\",\"ticks\":\"\"},\"bgcolor\":\"#E5ECF6\",\"caxis\":{\"gridcolor\":\"white\",\"linecolor\":\"white\",\"ticks\":\"\"}},\"title\":{\"x\":0.05},\"xaxis\":{\"automargin\":true,\"gridcolor\":\"white\",\"linecolor\":\"white\",\"ticks\":\"\",\"title\":{\"standoff\":15},\"zerolinecolor\":\"white\",\"zerolinewidth\":2},\"yaxis\":{\"automargin\":true,\"gridcolor\":\"white\",\"linecolor\":\"white\",\"ticks\":\"\",\"title\":{\"standoff\":15},\"zerolinecolor\":\"white\",\"zerolinewidth\":2}}},\"xaxis\":{\"anchor\":\"y\",\"domain\":[0.0,1.0],\"title\":{\"text\":\"estado\"}},\"yaxis\":{\"anchor\":\"x\",\"domain\":[0.0,1.0],\"title\":{\"text\":\"value\"}},\"legend\":{\"title\":{\"text\":\"variable\"},\"tracegroupgap\":0},\"title\":{\"text\":\"Casos novos de Covid e IDH\"},\"barmode\":\"stack\"},                        {\"responsive\": true}                    ).then(function(){\n",
              "                            \n",
              "var gd = document.getElementById('6a2f0e22-43bb-454d-8d60-eeb355d47c75');\n",
              "var x = new MutationObserver(function (mutations, observer) {{\n",
              "        var display = window.getComputedStyle(gd).display;\n",
              "        if (!display || display === 'none') {{\n",
              "            console.log([gd, 'removed!']);\n",
              "            Plotly.purge(gd);\n",
              "            observer.disconnect();\n",
              "        }}\n",
              "}});\n",
              "\n",
              "// Listen for the removal of the full notebook cells\n",
              "var notebookContainer = gd.closest('#notebook-container');\n",
              "if (notebookContainer) {{\n",
              "    x.observe(notebookContainer, {childList: true});\n",
              "}}\n",
              "\n",
              "// Listen for the clearing of the current output cell\n",
              "var outputEl = gd.closest('.output');\n",
              "if (outputEl) {{\n",
              "    x.observe(outputEl, {childList: true});\n",
              "}}\n",
              "\n",
              "                        })                };                            </script>        </div>\n",
              "</body>\n",
              "</html>"
            ]
          },
          "metadata": {}
        },
        {
          "output_type": "display_data",
          "data": {
            "text/html": [
              "<html>\n",
              "<head><meta charset=\"utf-8\" /></head>\n",
              "<body>\n",
              "    <div>            <script src=\"https://cdnjs.cloudflare.com/ajax/libs/mathjax/2.7.5/MathJax.js?config=TeX-AMS-MML_SVG\"></script><script type=\"text/javascript\">if (window.MathJax) {MathJax.Hub.Config({SVG: {font: \"STIX-Web\"}});}</script>                <script type=\"text/javascript\">window.PlotlyConfig = {MathJaxConfig: 'local'};</script>\n",
              "        <script src=\"https://cdn.plot.ly/plotly-2.8.3.min.js\"></script>                <div id=\"13d32bcf-65cd-4912-b871-861045e0b401\" class=\"plotly-graph-div\" style=\"height:525px; width:100%;\"></div>            <script type=\"text/javascript\">                                    window.PLOTLYENV=window.PLOTLYENV || {};                                    if (document.getElementById(\"13d32bcf-65cd-4912-b871-861045e0b401\")) {                    Plotly.newPlot(                        \"13d32bcf-65cd-4912-b871-861045e0b401\",                        [{\"alignmentgroup\":\"True\",\"hovertemplate\":\"estado=%{x}<br>total_casos=%{marker.color}<extra></extra>\",\"legendgroup\":\"\",\"marker\":{\"color\":[1934206,488322,442442,710181,210101,1713845,366096,870566,6497951,730522,1302535,2734324,594415,379049,3973929,974058,1859218,400336,1131222,1561859,598795,2628256,584904,166195,940689,2797579,213910],\"coloraxis\":\"coloraxis\",\"pattern\":{\"shape\":\"\"}},\"name\":\"\",\"offsetgroup\":\"\",\"orientation\":\"v\",\"showlegend\":false,\"textposition\":\"auto\",\"x\":[\"SC\",\"RO\",\"PI\",\"AM\",\"RR\",\"GO\",\"TO\",\"MT\",\"SP\",\"PB\",\"ES\",\"RS\",\"MS\",\"AL\",\"MG\",\"PA\",\"BA\",\"SE\",\"PE\",\"CE\",\"RN\",\"RJ\",\"MA\",\"AC\",\"DF\",\"PR\",\"AP\"],\"xaxis\":\"x\",\"y\":[1934206,488322,442442,710181,210101,1713845,366096,870566,6497951,730522,1302535,2734324,594415,379049,3973929,974058,1859218,400336,1131222,1561859,598795,2628256,584904,166195,940689,2797579,213910],\"yaxis\":\"y\",\"type\":\"bar\"}],                        {\"template\":{\"data\":{\"bar\":[{\"error_x\":{\"color\":\"#2a3f5f\"},\"error_y\":{\"color\":\"#2a3f5f\"},\"marker\":{\"line\":{\"color\":\"#E5ECF6\",\"width\":0.5},\"pattern\":{\"fillmode\":\"overlay\",\"size\":10,\"solidity\":0.2}},\"type\":\"bar\"}],\"barpolar\":[{\"marker\":{\"line\":{\"color\":\"#E5ECF6\",\"width\":0.5},\"pattern\":{\"fillmode\":\"overlay\",\"size\":10,\"solidity\":0.2}},\"type\":\"barpolar\"}],\"carpet\":[{\"aaxis\":{\"endlinecolor\":\"#2a3f5f\",\"gridcolor\":\"white\",\"linecolor\":\"white\",\"minorgridcolor\":\"white\",\"startlinecolor\":\"#2a3f5f\"},\"baxis\":{\"endlinecolor\":\"#2a3f5f\",\"gridcolor\":\"white\",\"linecolor\":\"white\",\"minorgridcolor\":\"white\",\"startlinecolor\":\"#2a3f5f\"},\"type\":\"carpet\"}],\"choropleth\":[{\"colorbar\":{\"outlinewidth\":0,\"ticks\":\"\"},\"type\":\"choropleth\"}],\"contour\":[{\"colorbar\":{\"outlinewidth\":0,\"ticks\":\"\"},\"colorscale\":[[0.0,\"#0d0887\"],[0.1111111111111111,\"#46039f\"],[0.2222222222222222,\"#7201a8\"],[0.3333333333333333,\"#9c179e\"],[0.4444444444444444,\"#bd3786\"],[0.5555555555555556,\"#d8576b\"],[0.6666666666666666,\"#ed7953\"],[0.7777777777777778,\"#fb9f3a\"],[0.8888888888888888,\"#fdca26\"],[1.0,\"#f0f921\"]],\"type\":\"contour\"}],\"contourcarpet\":[{\"colorbar\":{\"outlinewidth\":0,\"ticks\":\"\"},\"type\":\"contourcarpet\"}],\"heatmap\":[{\"colorbar\":{\"outlinewidth\":0,\"ticks\":\"\"},\"colorscale\":[[0.0,\"#0d0887\"],[0.1111111111111111,\"#46039f\"],[0.2222222222222222,\"#7201a8\"],[0.3333333333333333,\"#9c179e\"],[0.4444444444444444,\"#bd3786\"],[0.5555555555555556,\"#d8576b\"],[0.6666666666666666,\"#ed7953\"],[0.7777777777777778,\"#fb9f3a\"],[0.8888888888888888,\"#fdca26\"],[1.0,\"#f0f921\"]],\"type\":\"heatmap\"}],\"heatmapgl\":[{\"colorbar\":{\"outlinewidth\":0,\"ticks\":\"\"},\"colorscale\":[[0.0,\"#0d0887\"],[0.1111111111111111,\"#46039f\"],[0.2222222222222222,\"#7201a8\"],[0.3333333333333333,\"#9c179e\"],[0.4444444444444444,\"#bd3786\"],[0.5555555555555556,\"#d8576b\"],[0.6666666666666666,\"#ed7953\"],[0.7777777777777778,\"#fb9f3a\"],[0.8888888888888888,\"#fdca26\"],[1.0,\"#f0f921\"]],\"type\":\"heatmapgl\"}],\"histogram\":[{\"marker\":{\"pattern\":{\"fillmode\":\"overlay\",\"size\":10,\"solidity\":0.2}},\"type\":\"histogram\"}],\"histogram2d\":[{\"colorbar\":{\"outlinewidth\":0,\"ticks\":\"\"},\"colorscale\":[[0.0,\"#0d0887\"],[0.1111111111111111,\"#46039f\"],[0.2222222222222222,\"#7201a8\"],[0.3333333333333333,\"#9c179e\"],[0.4444444444444444,\"#bd3786\"],[0.5555555555555556,\"#d8576b\"],[0.6666666666666666,\"#ed7953\"],[0.7777777777777778,\"#fb9f3a\"],[0.8888888888888888,\"#fdca26\"],[1.0,\"#f0f921\"]],\"type\":\"histogram2d\"}],\"histogram2dcontour\":[{\"colorbar\":{\"outlinewidth\":0,\"ticks\":\"\"},\"colorscale\":[[0.0,\"#0d0887\"],[0.1111111111111111,\"#46039f\"],[0.2222222222222222,\"#7201a8\"],[0.3333333333333333,\"#9c179e\"],[0.4444444444444444,\"#bd3786\"],[0.5555555555555556,\"#d8576b\"],[0.6666666666666666,\"#ed7953\"],[0.7777777777777778,\"#fb9f3a\"],[0.8888888888888888,\"#fdca26\"],[1.0,\"#f0f921\"]],\"type\":\"histogram2dcontour\"}],\"mesh3d\":[{\"colorbar\":{\"outlinewidth\":0,\"ticks\":\"\"},\"type\":\"mesh3d\"}],\"parcoords\":[{\"line\":{\"colorbar\":{\"outlinewidth\":0,\"ticks\":\"\"}},\"type\":\"parcoords\"}],\"pie\":[{\"automargin\":true,\"type\":\"pie\"}],\"scatter\":[{\"marker\":{\"colorbar\":{\"outlinewidth\":0,\"ticks\":\"\"}},\"type\":\"scatter\"}],\"scatter3d\":[{\"line\":{\"colorbar\":{\"outlinewidth\":0,\"ticks\":\"\"}},\"marker\":{\"colorbar\":{\"outlinewidth\":0,\"ticks\":\"\"}},\"type\":\"scatter3d\"}],\"scattercarpet\":[{\"marker\":{\"colorbar\":{\"outlinewidth\":0,\"ticks\":\"\"}},\"type\":\"scattercarpet\"}],\"scattergeo\":[{\"marker\":{\"colorbar\":{\"outlinewidth\":0,\"ticks\":\"\"}},\"type\":\"scattergeo\"}],\"scattergl\":[{\"marker\":{\"colorbar\":{\"outlinewidth\":0,\"ticks\":\"\"}},\"type\":\"scattergl\"}],\"scattermapbox\":[{\"marker\":{\"colorbar\":{\"outlinewidth\":0,\"ticks\":\"\"}},\"type\":\"scattermapbox\"}],\"scatterpolar\":[{\"marker\":{\"colorbar\":{\"outlinewidth\":0,\"ticks\":\"\"}},\"type\":\"scatterpolar\"}],\"scatterpolargl\":[{\"marker\":{\"colorbar\":{\"outlinewidth\":0,\"ticks\":\"\"}},\"type\":\"scatterpolargl\"}],\"scatterternary\":[{\"marker\":{\"colorbar\":{\"outlinewidth\":0,\"ticks\":\"\"}},\"type\":\"scatterternary\"}],\"surface\":[{\"colorbar\":{\"outlinewidth\":0,\"ticks\":\"\"},\"colorscale\":[[0.0,\"#0d0887\"],[0.1111111111111111,\"#46039f\"],[0.2222222222222222,\"#7201a8\"],[0.3333333333333333,\"#9c179e\"],[0.4444444444444444,\"#bd3786\"],[0.5555555555555556,\"#d8576b\"],[0.6666666666666666,\"#ed7953\"],[0.7777777777777778,\"#fb9f3a\"],[0.8888888888888888,\"#fdca26\"],[1.0,\"#f0f921\"]],\"type\":\"surface\"}],\"table\":[{\"cells\":{\"fill\":{\"color\":\"#EBF0F8\"},\"line\":{\"color\":\"white\"}},\"header\":{\"fill\":{\"color\":\"#C8D4E3\"},\"line\":{\"color\":\"white\"}},\"type\":\"table\"}]},\"layout\":{\"annotationdefaults\":{\"arrowcolor\":\"#2a3f5f\",\"arrowhead\":0,\"arrowwidth\":1},\"autotypenumbers\":\"strict\",\"coloraxis\":{\"colorbar\":{\"outlinewidth\":0,\"ticks\":\"\"}},\"colorscale\":{\"diverging\":[[0,\"#8e0152\"],[0.1,\"#c51b7d\"],[0.2,\"#de77ae\"],[0.3,\"#f1b6da\"],[0.4,\"#fde0ef\"],[0.5,\"#f7f7f7\"],[0.6,\"#e6f5d0\"],[0.7,\"#b8e186\"],[0.8,\"#7fbc41\"],[0.9,\"#4d9221\"],[1,\"#276419\"]],\"sequential\":[[0.0,\"#0d0887\"],[0.1111111111111111,\"#46039f\"],[0.2222222222222222,\"#7201a8\"],[0.3333333333333333,\"#9c179e\"],[0.4444444444444444,\"#bd3786\"],[0.5555555555555556,\"#d8576b\"],[0.6666666666666666,\"#ed7953\"],[0.7777777777777778,\"#fb9f3a\"],[0.8888888888888888,\"#fdca26\"],[1.0,\"#f0f921\"]],\"sequentialminus\":[[0.0,\"#0d0887\"],[0.1111111111111111,\"#46039f\"],[0.2222222222222222,\"#7201a8\"],[0.3333333333333333,\"#9c179e\"],[0.4444444444444444,\"#bd3786\"],[0.5555555555555556,\"#d8576b\"],[0.6666666666666666,\"#ed7953\"],[0.7777777777777778,\"#fb9f3a\"],[0.8888888888888888,\"#fdca26\"],[1.0,\"#f0f921\"]]},\"colorway\":[\"#636efa\",\"#EF553B\",\"#00cc96\",\"#ab63fa\",\"#FFA15A\",\"#19d3f3\",\"#FF6692\",\"#B6E880\",\"#FF97FF\",\"#FECB52\"],\"font\":{\"color\":\"#2a3f5f\"},\"geo\":{\"bgcolor\":\"white\",\"lakecolor\":\"white\",\"landcolor\":\"#E5ECF6\",\"showlakes\":true,\"showland\":true,\"subunitcolor\":\"white\"},\"hoverlabel\":{\"align\":\"left\"},\"hovermode\":\"closest\",\"mapbox\":{\"style\":\"light\"},\"paper_bgcolor\":\"white\",\"plot_bgcolor\":\"#E5ECF6\",\"polar\":{\"angularaxis\":{\"gridcolor\":\"white\",\"linecolor\":\"white\",\"ticks\":\"\"},\"bgcolor\":\"#E5ECF6\",\"radialaxis\":{\"gridcolor\":\"white\",\"linecolor\":\"white\",\"ticks\":\"\"}},\"scene\":{\"xaxis\":{\"backgroundcolor\":\"#E5ECF6\",\"gridcolor\":\"white\",\"gridwidth\":2,\"linecolor\":\"white\",\"showbackground\":true,\"ticks\":\"\",\"zerolinecolor\":\"white\"},\"yaxis\":{\"backgroundcolor\":\"#E5ECF6\",\"gridcolor\":\"white\",\"gridwidth\":2,\"linecolor\":\"white\",\"showbackground\":true,\"ticks\":\"\",\"zerolinecolor\":\"white\"},\"zaxis\":{\"backgroundcolor\":\"#E5ECF6\",\"gridcolor\":\"white\",\"gridwidth\":2,\"linecolor\":\"white\",\"showbackground\":true,\"ticks\":\"\",\"zerolinecolor\":\"white\"}},\"shapedefaults\":{\"line\":{\"color\":\"#2a3f5f\"}},\"ternary\":{\"aaxis\":{\"gridcolor\":\"white\",\"linecolor\":\"white\",\"ticks\":\"\"},\"baxis\":{\"gridcolor\":\"white\",\"linecolor\":\"white\",\"ticks\":\"\"},\"bgcolor\":\"#E5ECF6\",\"caxis\":{\"gridcolor\":\"white\",\"linecolor\":\"white\",\"ticks\":\"\"}},\"title\":{\"x\":0.05},\"xaxis\":{\"automargin\":true,\"gridcolor\":\"white\",\"linecolor\":\"white\",\"ticks\":\"\",\"title\":{\"standoff\":15},\"zerolinecolor\":\"white\",\"zerolinewidth\":2},\"yaxis\":{\"automargin\":true,\"gridcolor\":\"white\",\"linecolor\":\"white\",\"ticks\":\"\",\"title\":{\"standoff\":15},\"zerolinecolor\":\"white\",\"zerolinewidth\":2}}},\"xaxis\":{\"anchor\":\"y\",\"domain\":[0.0,1.0],\"title\":{\"text\":\"estado\"}},\"yaxis\":{\"anchor\":\"x\",\"domain\":[0.0,1.0],\"title\":{\"text\":\"total_casos\"}},\"coloraxis\":{\"colorbar\":{\"title\":{\"text\":\"total_casos\"}},\"colorscale\":[[0.0,\"#0d0887\"],[0.1111111111111111,\"#46039f\"],[0.2222222222222222,\"#7201a8\"],[0.3333333333333333,\"#9c179e\"],[0.4444444444444444,\"#bd3786\"],[0.5555555555555556,\"#d8576b\"],[0.6666666666666666,\"#ed7953\"],[0.7777777777777778,\"#fb9f3a\"],[0.8888888888888888,\"#fdca26\"],[1.0,\"#f0f921\"]]},\"legend\":{\"tracegroupgap\":0},\"title\":{\"text\":\"Casos novos de  Covid\"},\"barmode\":\"group\"},                        {\"responsive\": true}                    ).then(function(){\n",
              "                            \n",
              "var gd = document.getElementById('13d32bcf-65cd-4912-b871-861045e0b401');\n",
              "var x = new MutationObserver(function (mutations, observer) {{\n",
              "        var display = window.getComputedStyle(gd).display;\n",
              "        if (!display || display === 'none') {{\n",
              "            console.log([gd, 'removed!']);\n",
              "            Plotly.purge(gd);\n",
              "            observer.disconnect();\n",
              "        }}\n",
              "}});\n",
              "\n",
              "// Listen for the removal of the full notebook cells\n",
              "var notebookContainer = gd.closest('#notebook-container');\n",
              "if (notebookContainer) {{\n",
              "    x.observe(notebookContainer, {childList: true});\n",
              "}}\n",
              "\n",
              "// Listen for the clearing of the current output cell\n",
              "var outputEl = gd.closest('.output');\n",
              "if (outputEl) {{\n",
              "    x.observe(outputEl, {childList: true});\n",
              "}}\n",
              "\n",
              "                        })                };                            </script>        </div>\n",
              "</body>\n",
              "</html>"
            ]
          },
          "metadata": {}
        },
        {
          "output_type": "display_data",
          "data": {
            "text/html": [
              "<html>\n",
              "<head><meta charset=\"utf-8\" /></head>\n",
              "<body>\n",
              "    <div>            <script src=\"https://cdnjs.cloudflare.com/ajax/libs/mathjax/2.7.5/MathJax.js?config=TeX-AMS-MML_SVG\"></script><script type=\"text/javascript\">if (window.MathJax) {MathJax.Hub.Config({SVG: {font: \"STIX-Web\"}});}</script>                <script type=\"text/javascript\">window.PlotlyConfig = {MathJaxConfig: 'local'};</script>\n",
              "        <script src=\"https://cdn.plot.ly/plotly-2.8.3.min.js\"></script>                <div id=\"67d11be9-828a-49f4-a6cc-a148afe87777\" class=\"plotly-graph-div\" style=\"height:525px; width:100%;\"></div>            <script type=\"text/javascript\">                                    window.PLOTLYENV=window.PLOTLYENV || {};                                    if (document.getElementById(\"67d11be9-828a-49f4-a6cc-a148afe87777\")) {                    Plotly.newPlot(                        \"67d11be9-828a-49f4-a6cc-a148afe87777\",                        [{\"alignmentgroup\":\"True\",\"hovertemplate\":\"estado=%{x}<br>IDHM=%{marker.color}<extra></extra>\",\"legendgroup\":\"\",\"marker\":{\"color\":[0.808,0.725,0.697,0.733,0.752,0.769,0.743,0.774,0.826,0.722,0.772,0.787,0.766,0.683,0.787,0.698,0.714,0.702,0.727,0.735,0.731,0.796,0.687,0.719,0.85,0.792,0.74],\"coloraxis\":\"coloraxis\",\"pattern\":{\"shape\":\"\"}},\"name\":\"\",\"offsetgroup\":\"\",\"orientation\":\"v\",\"showlegend\":false,\"textposition\":\"auto\",\"x\":[\"SC\",\"RO\",\"PI\",\"AM\",\"RR\",\"GO\",\"TO\",\"MT\",\"SP\",\"PB\",\"ES\",\"RS\",\"MS\",\"AL\",\"MG\",\"PA\",\"BA\",\"SE\",\"PE\",\"CE\",\"RN\",\"RJ\",\"MA\",\"AC\",\"DF\",\"PR\",\"AP\"],\"xaxis\":\"x\",\"y\":[0.808,0.725,0.697,0.733,0.752,0.769,0.743,0.774,0.826,0.722,0.772,0.787,0.766,0.683,0.787,0.698,0.714,0.702,0.727,0.735,0.731,0.796,0.687,0.719,0.85,0.792,0.74],\"yaxis\":\"y\",\"type\":\"bar\"}],                        {\"template\":{\"data\":{\"bar\":[{\"error_x\":{\"color\":\"#2a3f5f\"},\"error_y\":{\"color\":\"#2a3f5f\"},\"marker\":{\"line\":{\"color\":\"#E5ECF6\",\"width\":0.5},\"pattern\":{\"fillmode\":\"overlay\",\"size\":10,\"solidity\":0.2}},\"type\":\"bar\"}],\"barpolar\":[{\"marker\":{\"line\":{\"color\":\"#E5ECF6\",\"width\":0.5},\"pattern\":{\"fillmode\":\"overlay\",\"size\":10,\"solidity\":0.2}},\"type\":\"barpolar\"}],\"carpet\":[{\"aaxis\":{\"endlinecolor\":\"#2a3f5f\",\"gridcolor\":\"white\",\"linecolor\":\"white\",\"minorgridcolor\":\"white\",\"startlinecolor\":\"#2a3f5f\"},\"baxis\":{\"endlinecolor\":\"#2a3f5f\",\"gridcolor\":\"white\",\"linecolor\":\"white\",\"minorgridcolor\":\"white\",\"startlinecolor\":\"#2a3f5f\"},\"type\":\"carpet\"}],\"choropleth\":[{\"colorbar\":{\"outlinewidth\":0,\"ticks\":\"\"},\"type\":\"choropleth\"}],\"contour\":[{\"colorbar\":{\"outlinewidth\":0,\"ticks\":\"\"},\"colorscale\":[[0.0,\"#0d0887\"],[0.1111111111111111,\"#46039f\"],[0.2222222222222222,\"#7201a8\"],[0.3333333333333333,\"#9c179e\"],[0.4444444444444444,\"#bd3786\"],[0.5555555555555556,\"#d8576b\"],[0.6666666666666666,\"#ed7953\"],[0.7777777777777778,\"#fb9f3a\"],[0.8888888888888888,\"#fdca26\"],[1.0,\"#f0f921\"]],\"type\":\"contour\"}],\"contourcarpet\":[{\"colorbar\":{\"outlinewidth\":0,\"ticks\":\"\"},\"type\":\"contourcarpet\"}],\"heatmap\":[{\"colorbar\":{\"outlinewidth\":0,\"ticks\":\"\"},\"colorscale\":[[0.0,\"#0d0887\"],[0.1111111111111111,\"#46039f\"],[0.2222222222222222,\"#7201a8\"],[0.3333333333333333,\"#9c179e\"],[0.4444444444444444,\"#bd3786\"],[0.5555555555555556,\"#d8576b\"],[0.6666666666666666,\"#ed7953\"],[0.7777777777777778,\"#fb9f3a\"],[0.8888888888888888,\"#fdca26\"],[1.0,\"#f0f921\"]],\"type\":\"heatmap\"}],\"heatmapgl\":[{\"colorbar\":{\"outlinewidth\":0,\"ticks\":\"\"},\"colorscale\":[[0.0,\"#0d0887\"],[0.1111111111111111,\"#46039f\"],[0.2222222222222222,\"#7201a8\"],[0.3333333333333333,\"#9c179e\"],[0.4444444444444444,\"#bd3786\"],[0.5555555555555556,\"#d8576b\"],[0.6666666666666666,\"#ed7953\"],[0.7777777777777778,\"#fb9f3a\"],[0.8888888888888888,\"#fdca26\"],[1.0,\"#f0f921\"]],\"type\":\"heatmapgl\"}],\"histogram\":[{\"marker\":{\"pattern\":{\"fillmode\":\"overlay\",\"size\":10,\"solidity\":0.2}},\"type\":\"histogram\"}],\"histogram2d\":[{\"colorbar\":{\"outlinewidth\":0,\"ticks\":\"\"},\"colorscale\":[[0.0,\"#0d0887\"],[0.1111111111111111,\"#46039f\"],[0.2222222222222222,\"#7201a8\"],[0.3333333333333333,\"#9c179e\"],[0.4444444444444444,\"#bd3786\"],[0.5555555555555556,\"#d8576b\"],[0.6666666666666666,\"#ed7953\"],[0.7777777777777778,\"#fb9f3a\"],[0.8888888888888888,\"#fdca26\"],[1.0,\"#f0f921\"]],\"type\":\"histogram2d\"}],\"histogram2dcontour\":[{\"colorbar\":{\"outlinewidth\":0,\"ticks\":\"\"},\"colorscale\":[[0.0,\"#0d0887\"],[0.1111111111111111,\"#46039f\"],[0.2222222222222222,\"#7201a8\"],[0.3333333333333333,\"#9c179e\"],[0.4444444444444444,\"#bd3786\"],[0.5555555555555556,\"#d8576b\"],[0.6666666666666666,\"#ed7953\"],[0.7777777777777778,\"#fb9f3a\"],[0.8888888888888888,\"#fdca26\"],[1.0,\"#f0f921\"]],\"type\":\"histogram2dcontour\"}],\"mesh3d\":[{\"colorbar\":{\"outlinewidth\":0,\"ticks\":\"\"},\"type\":\"mesh3d\"}],\"parcoords\":[{\"line\":{\"colorbar\":{\"outlinewidth\":0,\"ticks\":\"\"}},\"type\":\"parcoords\"}],\"pie\":[{\"automargin\":true,\"type\":\"pie\"}],\"scatter\":[{\"marker\":{\"colorbar\":{\"outlinewidth\":0,\"ticks\":\"\"}},\"type\":\"scatter\"}],\"scatter3d\":[{\"line\":{\"colorbar\":{\"outlinewidth\":0,\"ticks\":\"\"}},\"marker\":{\"colorbar\":{\"outlinewidth\":0,\"ticks\":\"\"}},\"type\":\"scatter3d\"}],\"scattercarpet\":[{\"marker\":{\"colorbar\":{\"outlinewidth\":0,\"ticks\":\"\"}},\"type\":\"scattercarpet\"}],\"scattergeo\":[{\"marker\":{\"colorbar\":{\"outlinewidth\":0,\"ticks\":\"\"}},\"type\":\"scattergeo\"}],\"scattergl\":[{\"marker\":{\"colorbar\":{\"outlinewidth\":0,\"ticks\":\"\"}},\"type\":\"scattergl\"}],\"scattermapbox\":[{\"marker\":{\"colorbar\":{\"outlinewidth\":0,\"ticks\":\"\"}},\"type\":\"scattermapbox\"}],\"scatterpolar\":[{\"marker\":{\"colorbar\":{\"outlinewidth\":0,\"ticks\":\"\"}},\"type\":\"scatterpolar\"}],\"scatterpolargl\":[{\"marker\":{\"colorbar\":{\"outlinewidth\":0,\"ticks\":\"\"}},\"type\":\"scatterpolargl\"}],\"scatterternary\":[{\"marker\":{\"colorbar\":{\"outlinewidth\":0,\"ticks\":\"\"}},\"type\":\"scatterternary\"}],\"surface\":[{\"colorbar\":{\"outlinewidth\":0,\"ticks\":\"\"},\"colorscale\":[[0.0,\"#0d0887\"],[0.1111111111111111,\"#46039f\"],[0.2222222222222222,\"#7201a8\"],[0.3333333333333333,\"#9c179e\"],[0.4444444444444444,\"#bd3786\"],[0.5555555555555556,\"#d8576b\"],[0.6666666666666666,\"#ed7953\"],[0.7777777777777778,\"#fb9f3a\"],[0.8888888888888888,\"#fdca26\"],[1.0,\"#f0f921\"]],\"type\":\"surface\"}],\"table\":[{\"cells\":{\"fill\":{\"color\":\"#EBF0F8\"},\"line\":{\"color\":\"white\"}},\"header\":{\"fill\":{\"color\":\"#C8D4E3\"},\"line\":{\"color\":\"white\"}},\"type\":\"table\"}]},\"layout\":{\"annotationdefaults\":{\"arrowcolor\":\"#2a3f5f\",\"arrowhead\":0,\"arrowwidth\":1},\"autotypenumbers\":\"strict\",\"coloraxis\":{\"colorbar\":{\"outlinewidth\":0,\"ticks\":\"\"}},\"colorscale\":{\"diverging\":[[0,\"#8e0152\"],[0.1,\"#c51b7d\"],[0.2,\"#de77ae\"],[0.3,\"#f1b6da\"],[0.4,\"#fde0ef\"],[0.5,\"#f7f7f7\"],[0.6,\"#e6f5d0\"],[0.7,\"#b8e186\"],[0.8,\"#7fbc41\"],[0.9,\"#4d9221\"],[1,\"#276419\"]],\"sequential\":[[0.0,\"#0d0887\"],[0.1111111111111111,\"#46039f\"],[0.2222222222222222,\"#7201a8\"],[0.3333333333333333,\"#9c179e\"],[0.4444444444444444,\"#bd3786\"],[0.5555555555555556,\"#d8576b\"],[0.6666666666666666,\"#ed7953\"],[0.7777777777777778,\"#fb9f3a\"],[0.8888888888888888,\"#fdca26\"],[1.0,\"#f0f921\"]],\"sequentialminus\":[[0.0,\"#0d0887\"],[0.1111111111111111,\"#46039f\"],[0.2222222222222222,\"#7201a8\"],[0.3333333333333333,\"#9c179e\"],[0.4444444444444444,\"#bd3786\"],[0.5555555555555556,\"#d8576b\"],[0.6666666666666666,\"#ed7953\"],[0.7777777777777778,\"#fb9f3a\"],[0.8888888888888888,\"#fdca26\"],[1.0,\"#f0f921\"]]},\"colorway\":[\"#636efa\",\"#EF553B\",\"#00cc96\",\"#ab63fa\",\"#FFA15A\",\"#19d3f3\",\"#FF6692\",\"#B6E880\",\"#FF97FF\",\"#FECB52\"],\"font\":{\"color\":\"#2a3f5f\"},\"geo\":{\"bgcolor\":\"white\",\"lakecolor\":\"white\",\"landcolor\":\"#E5ECF6\",\"showlakes\":true,\"showland\":true,\"subunitcolor\":\"white\"},\"hoverlabel\":{\"align\":\"left\"},\"hovermode\":\"closest\",\"mapbox\":{\"style\":\"light\"},\"paper_bgcolor\":\"white\",\"plot_bgcolor\":\"#E5ECF6\",\"polar\":{\"angularaxis\":{\"gridcolor\":\"white\",\"linecolor\":\"white\",\"ticks\":\"\"},\"bgcolor\":\"#E5ECF6\",\"radialaxis\":{\"gridcolor\":\"white\",\"linecolor\":\"white\",\"ticks\":\"\"}},\"scene\":{\"xaxis\":{\"backgroundcolor\":\"#E5ECF6\",\"gridcolor\":\"white\",\"gridwidth\":2,\"linecolor\":\"white\",\"showbackground\":true,\"ticks\":\"\",\"zerolinecolor\":\"white\"},\"yaxis\":{\"backgroundcolor\":\"#E5ECF6\",\"gridcolor\":\"white\",\"gridwidth\":2,\"linecolor\":\"white\",\"showbackground\":true,\"ticks\":\"\",\"zerolinecolor\":\"white\"},\"zaxis\":{\"backgroundcolor\":\"#E5ECF6\",\"gridcolor\":\"white\",\"gridwidth\":2,\"linecolor\":\"white\",\"showbackground\":true,\"ticks\":\"\",\"zerolinecolor\":\"white\"}},\"shapedefaults\":{\"line\":{\"color\":\"#2a3f5f\"}},\"ternary\":{\"aaxis\":{\"gridcolor\":\"white\",\"linecolor\":\"white\",\"ticks\":\"\"},\"baxis\":{\"gridcolor\":\"white\",\"linecolor\":\"white\",\"ticks\":\"\"},\"bgcolor\":\"#E5ECF6\",\"caxis\":{\"gridcolor\":\"white\",\"linecolor\":\"white\",\"ticks\":\"\"}},\"title\":{\"x\":0.05},\"xaxis\":{\"automargin\":true,\"gridcolor\":\"white\",\"linecolor\":\"white\",\"ticks\":\"\",\"title\":{\"standoff\":15},\"zerolinecolor\":\"white\",\"zerolinewidth\":2},\"yaxis\":{\"automargin\":true,\"gridcolor\":\"white\",\"linecolor\":\"white\",\"ticks\":\"\",\"title\":{\"standoff\":15},\"zerolinecolor\":\"white\",\"zerolinewidth\":2}}},\"xaxis\":{\"anchor\":\"y\",\"domain\":[0.0,1.0],\"title\":{\"text\":\"estado\"}},\"yaxis\":{\"anchor\":\"x\",\"domain\":[0.0,1.0],\"title\":{\"text\":\"IDHM\"}},\"coloraxis\":{\"colorbar\":{\"title\":{\"text\":\"IDHM\"}},\"colorscale\":[[0.0,\"#0d0887\"],[0.1111111111111111,\"#46039f\"],[0.2222222222222222,\"#7201a8\"],[0.3333333333333333,\"#9c179e\"],[0.4444444444444444,\"#bd3786\"],[0.5555555555555556,\"#d8576b\"],[0.6666666666666666,\"#ed7953\"],[0.7777777777777778,\"#fb9f3a\"],[0.8888888888888888,\"#fdca26\"],[1.0,\"#f0f921\"]]},\"legend\":{\"tracegroupgap\":0},\"title\":{\"text\":\"IDHM\"},\"barmode\":\"group\"},                        {\"responsive\": true}                    ).then(function(){\n",
              "                            \n",
              "var gd = document.getElementById('67d11be9-828a-49f4-a6cc-a148afe87777');\n",
              "var x = new MutationObserver(function (mutations, observer) {{\n",
              "        var display = window.getComputedStyle(gd).display;\n",
              "        if (!display || display === 'none') {{\n",
              "            console.log([gd, 'removed!']);\n",
              "            Plotly.purge(gd);\n",
              "            observer.disconnect();\n",
              "        }}\n",
              "}});\n",
              "\n",
              "// Listen for the removal of the full notebook cells\n",
              "var notebookContainer = gd.closest('#notebook-container');\n",
              "if (notebookContainer) {{\n",
              "    x.observe(notebookContainer, {childList: true});\n",
              "}}\n",
              "\n",
              "// Listen for the clearing of the current output cell\n",
              "var outputEl = gd.closest('.output');\n",
              "if (outputEl) {{\n",
              "    x.observe(outputEl, {childList: true});\n",
              "}}\n",
              "\n",
              "                        })                };                            </script>        </div>\n",
              "</body>\n",
              "</html>"
            ]
          },
          "metadata": {}
        },
        {
          "output_type": "display_data",
          "data": {
            "text/html": [
              "<html>\n",
              "<head><meta charset=\"utf-8\" /></head>\n",
              "<body>\n",
              "    <div>            <script src=\"https://cdnjs.cloudflare.com/ajax/libs/mathjax/2.7.5/MathJax.js?config=TeX-AMS-MML_SVG\"></script><script type=\"text/javascript\">if (window.MathJax) {MathJax.Hub.Config({SVG: {font: \"STIX-Web\"}});}</script>                <script type=\"text/javascript\">window.PlotlyConfig = {MathJaxConfig: 'local'};</script>\n",
              "        <script src=\"https://cdn.plot.ly/plotly-2.8.3.min.js\"></script>                <div id=\"c1e5f40e-12ec-4742-bbd0-0825e39fdbd6\" class=\"plotly-graph-div\" style=\"height:525px; width:100%;\"></div>            <script type=\"text/javascript\">                                    window.PLOTLYENV=window.PLOTLYENV || {};                                    if (document.getElementById(\"c1e5f40e-12ec-4742-bbd0-0825e39fdbd6\")) {                    Plotly.newPlot(                        \"c1e5f40e-12ec-4742-bbd0-0825e39fdbd6\",                        [{\"alignmentgroup\":\"True\",\"hovertemplate\":\"estado=%{x}<br>IDHM_Renda=%{marker.color}<extra></extra>\",\"legendgroup\":\"\",\"marker\":{\"color\":[0.866,0.776,0.771,0.786,0.781,0.822,0.811,0.825,0.854,0.809,0.85,0.849,0.847,0.783,0.875,0.788,0.812,0.799,0.821,0.818,0.849,0.858,0.764,0.821,0.89,0.843,0.82],\"coloraxis\":\"coloraxis\",\"pattern\":{\"shape\":\"\"}},\"name\":\"\",\"offsetgroup\":\"\",\"orientation\":\"v\",\"showlegend\":false,\"textposition\":\"auto\",\"x\":[\"SC\",\"RO\",\"PI\",\"AM\",\"RR\",\"GO\",\"TO\",\"MT\",\"SP\",\"PB\",\"ES\",\"RS\",\"MS\",\"AL\",\"MG\",\"PA\",\"BA\",\"SE\",\"PE\",\"CE\",\"RN\",\"RJ\",\"MA\",\"AC\",\"DF\",\"PR\",\"AP\"],\"xaxis\":\"x\",\"y\":[0.866,0.776,0.771,0.786,0.781,0.822,0.811,0.825,0.854,0.809,0.85,0.849,0.847,0.783,0.875,0.788,0.812,0.799,0.821,0.818,0.849,0.858,0.764,0.821,0.89,0.843,0.82],\"yaxis\":\"y\",\"type\":\"bar\"}],                        {\"template\":{\"data\":{\"bar\":[{\"error_x\":{\"color\":\"#2a3f5f\"},\"error_y\":{\"color\":\"#2a3f5f\"},\"marker\":{\"line\":{\"color\":\"#E5ECF6\",\"width\":0.5},\"pattern\":{\"fillmode\":\"overlay\",\"size\":10,\"solidity\":0.2}},\"type\":\"bar\"}],\"barpolar\":[{\"marker\":{\"line\":{\"color\":\"#E5ECF6\",\"width\":0.5},\"pattern\":{\"fillmode\":\"overlay\",\"size\":10,\"solidity\":0.2}},\"type\":\"barpolar\"}],\"carpet\":[{\"aaxis\":{\"endlinecolor\":\"#2a3f5f\",\"gridcolor\":\"white\",\"linecolor\":\"white\",\"minorgridcolor\":\"white\",\"startlinecolor\":\"#2a3f5f\"},\"baxis\":{\"endlinecolor\":\"#2a3f5f\",\"gridcolor\":\"white\",\"linecolor\":\"white\",\"minorgridcolor\":\"white\",\"startlinecolor\":\"#2a3f5f\"},\"type\":\"carpet\"}],\"choropleth\":[{\"colorbar\":{\"outlinewidth\":0,\"ticks\":\"\"},\"type\":\"choropleth\"}],\"contour\":[{\"colorbar\":{\"outlinewidth\":0,\"ticks\":\"\"},\"colorscale\":[[0.0,\"#0d0887\"],[0.1111111111111111,\"#46039f\"],[0.2222222222222222,\"#7201a8\"],[0.3333333333333333,\"#9c179e\"],[0.4444444444444444,\"#bd3786\"],[0.5555555555555556,\"#d8576b\"],[0.6666666666666666,\"#ed7953\"],[0.7777777777777778,\"#fb9f3a\"],[0.8888888888888888,\"#fdca26\"],[1.0,\"#f0f921\"]],\"type\":\"contour\"}],\"contourcarpet\":[{\"colorbar\":{\"outlinewidth\":0,\"ticks\":\"\"},\"type\":\"contourcarpet\"}],\"heatmap\":[{\"colorbar\":{\"outlinewidth\":0,\"ticks\":\"\"},\"colorscale\":[[0.0,\"#0d0887\"],[0.1111111111111111,\"#46039f\"],[0.2222222222222222,\"#7201a8\"],[0.3333333333333333,\"#9c179e\"],[0.4444444444444444,\"#bd3786\"],[0.5555555555555556,\"#d8576b\"],[0.6666666666666666,\"#ed7953\"],[0.7777777777777778,\"#fb9f3a\"],[0.8888888888888888,\"#fdca26\"],[1.0,\"#f0f921\"]],\"type\":\"heatmap\"}],\"heatmapgl\":[{\"colorbar\":{\"outlinewidth\":0,\"ticks\":\"\"},\"colorscale\":[[0.0,\"#0d0887\"],[0.1111111111111111,\"#46039f\"],[0.2222222222222222,\"#7201a8\"],[0.3333333333333333,\"#9c179e\"],[0.4444444444444444,\"#bd3786\"],[0.5555555555555556,\"#d8576b\"],[0.6666666666666666,\"#ed7953\"],[0.7777777777777778,\"#fb9f3a\"],[0.8888888888888888,\"#fdca26\"],[1.0,\"#f0f921\"]],\"type\":\"heatmapgl\"}],\"histogram\":[{\"marker\":{\"pattern\":{\"fillmode\":\"overlay\",\"size\":10,\"solidity\":0.2}},\"type\":\"histogram\"}],\"histogram2d\":[{\"colorbar\":{\"outlinewidth\":0,\"ticks\":\"\"},\"colorscale\":[[0.0,\"#0d0887\"],[0.1111111111111111,\"#46039f\"],[0.2222222222222222,\"#7201a8\"],[0.3333333333333333,\"#9c179e\"],[0.4444444444444444,\"#bd3786\"],[0.5555555555555556,\"#d8576b\"],[0.6666666666666666,\"#ed7953\"],[0.7777777777777778,\"#fb9f3a\"],[0.8888888888888888,\"#fdca26\"],[1.0,\"#f0f921\"]],\"type\":\"histogram2d\"}],\"histogram2dcontour\":[{\"colorbar\":{\"outlinewidth\":0,\"ticks\":\"\"},\"colorscale\":[[0.0,\"#0d0887\"],[0.1111111111111111,\"#46039f\"],[0.2222222222222222,\"#7201a8\"],[0.3333333333333333,\"#9c179e\"],[0.4444444444444444,\"#bd3786\"],[0.5555555555555556,\"#d8576b\"],[0.6666666666666666,\"#ed7953\"],[0.7777777777777778,\"#fb9f3a\"],[0.8888888888888888,\"#fdca26\"],[1.0,\"#f0f921\"]],\"type\":\"histogram2dcontour\"}],\"mesh3d\":[{\"colorbar\":{\"outlinewidth\":0,\"ticks\":\"\"},\"type\":\"mesh3d\"}],\"parcoords\":[{\"line\":{\"colorbar\":{\"outlinewidth\":0,\"ticks\":\"\"}},\"type\":\"parcoords\"}],\"pie\":[{\"automargin\":true,\"type\":\"pie\"}],\"scatter\":[{\"marker\":{\"colorbar\":{\"outlinewidth\":0,\"ticks\":\"\"}},\"type\":\"scatter\"}],\"scatter3d\":[{\"line\":{\"colorbar\":{\"outlinewidth\":0,\"ticks\":\"\"}},\"marker\":{\"colorbar\":{\"outlinewidth\":0,\"ticks\":\"\"}},\"type\":\"scatter3d\"}],\"scattercarpet\":[{\"marker\":{\"colorbar\":{\"outlinewidth\":0,\"ticks\":\"\"}},\"type\":\"scattercarpet\"}],\"scattergeo\":[{\"marker\":{\"colorbar\":{\"outlinewidth\":0,\"ticks\":\"\"}},\"type\":\"scattergeo\"}],\"scattergl\":[{\"marker\":{\"colorbar\":{\"outlinewidth\":0,\"ticks\":\"\"}},\"type\":\"scattergl\"}],\"scattermapbox\":[{\"marker\":{\"colorbar\":{\"outlinewidth\":0,\"ticks\":\"\"}},\"type\":\"scattermapbox\"}],\"scatterpolar\":[{\"marker\":{\"colorbar\":{\"outlinewidth\":0,\"ticks\":\"\"}},\"type\":\"scatterpolar\"}],\"scatterpolargl\":[{\"marker\":{\"colorbar\":{\"outlinewidth\":0,\"ticks\":\"\"}},\"type\":\"scatterpolargl\"}],\"scatterternary\":[{\"marker\":{\"colorbar\":{\"outlinewidth\":0,\"ticks\":\"\"}},\"type\":\"scatterternary\"}],\"surface\":[{\"colorbar\":{\"outlinewidth\":0,\"ticks\":\"\"},\"colorscale\":[[0.0,\"#0d0887\"],[0.1111111111111111,\"#46039f\"],[0.2222222222222222,\"#7201a8\"],[0.3333333333333333,\"#9c179e\"],[0.4444444444444444,\"#bd3786\"],[0.5555555555555556,\"#d8576b\"],[0.6666666666666666,\"#ed7953\"],[0.7777777777777778,\"#fb9f3a\"],[0.8888888888888888,\"#fdca26\"],[1.0,\"#f0f921\"]],\"type\":\"surface\"}],\"table\":[{\"cells\":{\"fill\":{\"color\":\"#EBF0F8\"},\"line\":{\"color\":\"white\"}},\"header\":{\"fill\":{\"color\":\"#C8D4E3\"},\"line\":{\"color\":\"white\"}},\"type\":\"table\"}]},\"layout\":{\"annotationdefaults\":{\"arrowcolor\":\"#2a3f5f\",\"arrowhead\":0,\"arrowwidth\":1},\"autotypenumbers\":\"strict\",\"coloraxis\":{\"colorbar\":{\"outlinewidth\":0,\"ticks\":\"\"}},\"colorscale\":{\"diverging\":[[0,\"#8e0152\"],[0.1,\"#c51b7d\"],[0.2,\"#de77ae\"],[0.3,\"#f1b6da\"],[0.4,\"#fde0ef\"],[0.5,\"#f7f7f7\"],[0.6,\"#e6f5d0\"],[0.7,\"#b8e186\"],[0.8,\"#7fbc41\"],[0.9,\"#4d9221\"],[1,\"#276419\"]],\"sequential\":[[0.0,\"#0d0887\"],[0.1111111111111111,\"#46039f\"],[0.2222222222222222,\"#7201a8\"],[0.3333333333333333,\"#9c179e\"],[0.4444444444444444,\"#bd3786\"],[0.5555555555555556,\"#d8576b\"],[0.6666666666666666,\"#ed7953\"],[0.7777777777777778,\"#fb9f3a\"],[0.8888888888888888,\"#fdca26\"],[1.0,\"#f0f921\"]],\"sequentialminus\":[[0.0,\"#0d0887\"],[0.1111111111111111,\"#46039f\"],[0.2222222222222222,\"#7201a8\"],[0.3333333333333333,\"#9c179e\"],[0.4444444444444444,\"#bd3786\"],[0.5555555555555556,\"#d8576b\"],[0.6666666666666666,\"#ed7953\"],[0.7777777777777778,\"#fb9f3a\"],[0.8888888888888888,\"#fdca26\"],[1.0,\"#f0f921\"]]},\"colorway\":[\"#636efa\",\"#EF553B\",\"#00cc96\",\"#ab63fa\",\"#FFA15A\",\"#19d3f3\",\"#FF6692\",\"#B6E880\",\"#FF97FF\",\"#FECB52\"],\"font\":{\"color\":\"#2a3f5f\"},\"geo\":{\"bgcolor\":\"white\",\"lakecolor\":\"white\",\"landcolor\":\"#E5ECF6\",\"showlakes\":true,\"showland\":true,\"subunitcolor\":\"white\"},\"hoverlabel\":{\"align\":\"left\"},\"hovermode\":\"closest\",\"mapbox\":{\"style\":\"light\"},\"paper_bgcolor\":\"white\",\"plot_bgcolor\":\"#E5ECF6\",\"polar\":{\"angularaxis\":{\"gridcolor\":\"white\",\"linecolor\":\"white\",\"ticks\":\"\"},\"bgcolor\":\"#E5ECF6\",\"radialaxis\":{\"gridcolor\":\"white\",\"linecolor\":\"white\",\"ticks\":\"\"}},\"scene\":{\"xaxis\":{\"backgroundcolor\":\"#E5ECF6\",\"gridcolor\":\"white\",\"gridwidth\":2,\"linecolor\":\"white\",\"showbackground\":true,\"ticks\":\"\",\"zerolinecolor\":\"white\"},\"yaxis\":{\"backgroundcolor\":\"#E5ECF6\",\"gridcolor\":\"white\",\"gridwidth\":2,\"linecolor\":\"white\",\"showbackground\":true,\"ticks\":\"\",\"zerolinecolor\":\"white\"},\"zaxis\":{\"backgroundcolor\":\"#E5ECF6\",\"gridcolor\":\"white\",\"gridwidth\":2,\"linecolor\":\"white\",\"showbackground\":true,\"ticks\":\"\",\"zerolinecolor\":\"white\"}},\"shapedefaults\":{\"line\":{\"color\":\"#2a3f5f\"}},\"ternary\":{\"aaxis\":{\"gridcolor\":\"white\",\"linecolor\":\"white\",\"ticks\":\"\"},\"baxis\":{\"gridcolor\":\"white\",\"linecolor\":\"white\",\"ticks\":\"\"},\"bgcolor\":\"#E5ECF6\",\"caxis\":{\"gridcolor\":\"white\",\"linecolor\":\"white\",\"ticks\":\"\"}},\"title\":{\"x\":0.05},\"xaxis\":{\"automargin\":true,\"gridcolor\":\"white\",\"linecolor\":\"white\",\"ticks\":\"\",\"title\":{\"standoff\":15},\"zerolinecolor\":\"white\",\"zerolinewidth\":2},\"yaxis\":{\"automargin\":true,\"gridcolor\":\"white\",\"linecolor\":\"white\",\"ticks\":\"\",\"title\":{\"standoff\":15},\"zerolinecolor\":\"white\",\"zerolinewidth\":2}}},\"xaxis\":{\"anchor\":\"y\",\"domain\":[0.0,1.0],\"title\":{\"text\":\"estado\"}},\"yaxis\":{\"anchor\":\"x\",\"domain\":[0.0,1.0],\"title\":{\"text\":\"IDHM_Renda\"}},\"coloraxis\":{\"colorbar\":{\"title\":{\"text\":\"IDHM_Renda\"}},\"colorscale\":[[0.0,\"#0d0887\"],[0.1111111111111111,\"#46039f\"],[0.2222222222222222,\"#7201a8\"],[0.3333333333333333,\"#9c179e\"],[0.4444444444444444,\"#bd3786\"],[0.5555555555555556,\"#d8576b\"],[0.6666666666666666,\"#ed7953\"],[0.7777777777777778,\"#fb9f3a\"],[0.8888888888888888,\"#fdca26\"],[1.0,\"#f0f921\"]]},\"legend\":{\"tracegroupgap\":0},\"title\":{\"text\":\"IDHM Renda\"},\"barmode\":\"group\"},                        {\"responsive\": true}                    ).then(function(){\n",
              "                            \n",
              "var gd = document.getElementById('c1e5f40e-12ec-4742-bbd0-0825e39fdbd6');\n",
              "var x = new MutationObserver(function (mutations, observer) {{\n",
              "        var display = window.getComputedStyle(gd).display;\n",
              "        if (!display || display === 'none') {{\n",
              "            console.log([gd, 'removed!']);\n",
              "            Plotly.purge(gd);\n",
              "            observer.disconnect();\n",
              "        }}\n",
              "}});\n",
              "\n",
              "// Listen for the removal of the full notebook cells\n",
              "var notebookContainer = gd.closest('#notebook-container');\n",
              "if (notebookContainer) {{\n",
              "    x.observe(notebookContainer, {childList: true});\n",
              "}}\n",
              "\n",
              "// Listen for the clearing of the current output cell\n",
              "var outputEl = gd.closest('.output');\n",
              "if (outputEl) {{\n",
              "    x.observe(outputEl, {childList: true});\n",
              "}}\n",
              "\n",
              "                        })                };                            </script>        </div>\n",
              "</body>\n",
              "</html>"
            ]
          },
          "metadata": {}
        },
        {
          "output_type": "display_data",
          "data": {
            "text/html": [
              "<html>\n",
              "<head><meta charset=\"utf-8\" /></head>\n",
              "<body>\n",
              "    <div>            <script src=\"https://cdnjs.cloudflare.com/ajax/libs/mathjax/2.7.5/MathJax.js?config=TeX-AMS-MML_SVG\"></script><script type=\"text/javascript\">if (window.MathJax) {MathJax.Hub.Config({SVG: {font: \"STIX-Web\"}});}</script>                <script type=\"text/javascript\">window.PlotlyConfig = {MathJaxConfig: 'local'};</script>\n",
              "        <script src=\"https://cdn.plot.ly/plotly-2.8.3.min.js\"></script>                <div id=\"c37024a0-4014-4e4c-818e-ee5f8c388df8\" class=\"plotly-graph-div\" style=\"height:525px; width:100%;\"></div>            <script type=\"text/javascript\">                                    window.PLOTLYENV=window.PLOTLYENV || {};                                    if (document.getElementById(\"c37024a0-4014-4e4c-818e-ee5f8c388df8\")) {                    Plotly.newPlot(                        \"c37024a0-4014-4e4c-818e-ee5f8c388df8\",                        [{\"alignmentgroup\":\"True\",\"hovertemplate\":\"estado=%{x}<br>IDHM_Educa\\u00e7\\u00e3o=%{marker.color}<extra></extra>\",\"legendgroup\":\"\",\"marker\":{\"color\":[0.779,0.703,0.666,0.735,0.771,0.74,0.727,0.758,0.828,0.671,0.732,0.729,0.71,0.636,0.753,0.661,0.654,0.64,0.685,0.717,0.677,0.763,0.682,0.682,0.804,0.764,0.71],\"coloraxis\":\"coloraxis\",\"pattern\":{\"shape\":\"\"}},\"name\":\"\",\"offsetgroup\":\"\",\"orientation\":\"v\",\"showlegend\":false,\"textposition\":\"auto\",\"x\":[\"SC\",\"RO\",\"PI\",\"AM\",\"RR\",\"GO\",\"TO\",\"MT\",\"SP\",\"PB\",\"ES\",\"RS\",\"MS\",\"AL\",\"MG\",\"PA\",\"BA\",\"SE\",\"PE\",\"CE\",\"RN\",\"RJ\",\"MA\",\"AC\",\"DF\",\"PR\",\"AP\"],\"xaxis\":\"x\",\"y\":[0.779,0.703,0.666,0.735,0.771,0.74,0.727,0.758,0.828,0.671,0.732,0.729,0.71,0.636,0.753,0.661,0.654,0.64,0.685,0.717,0.677,0.763,0.682,0.682,0.804,0.764,0.71],\"yaxis\":\"y\",\"type\":\"bar\"}],                        {\"template\":{\"data\":{\"bar\":[{\"error_x\":{\"color\":\"#2a3f5f\"},\"error_y\":{\"color\":\"#2a3f5f\"},\"marker\":{\"line\":{\"color\":\"#E5ECF6\",\"width\":0.5},\"pattern\":{\"fillmode\":\"overlay\",\"size\":10,\"solidity\":0.2}},\"type\":\"bar\"}],\"barpolar\":[{\"marker\":{\"line\":{\"color\":\"#E5ECF6\",\"width\":0.5},\"pattern\":{\"fillmode\":\"overlay\",\"size\":10,\"solidity\":0.2}},\"type\":\"barpolar\"}],\"carpet\":[{\"aaxis\":{\"endlinecolor\":\"#2a3f5f\",\"gridcolor\":\"white\",\"linecolor\":\"white\",\"minorgridcolor\":\"white\",\"startlinecolor\":\"#2a3f5f\"},\"baxis\":{\"endlinecolor\":\"#2a3f5f\",\"gridcolor\":\"white\",\"linecolor\":\"white\",\"minorgridcolor\":\"white\",\"startlinecolor\":\"#2a3f5f\"},\"type\":\"carpet\"}],\"choropleth\":[{\"colorbar\":{\"outlinewidth\":0,\"ticks\":\"\"},\"type\":\"choropleth\"}],\"contour\":[{\"colorbar\":{\"outlinewidth\":0,\"ticks\":\"\"},\"colorscale\":[[0.0,\"#0d0887\"],[0.1111111111111111,\"#46039f\"],[0.2222222222222222,\"#7201a8\"],[0.3333333333333333,\"#9c179e\"],[0.4444444444444444,\"#bd3786\"],[0.5555555555555556,\"#d8576b\"],[0.6666666666666666,\"#ed7953\"],[0.7777777777777778,\"#fb9f3a\"],[0.8888888888888888,\"#fdca26\"],[1.0,\"#f0f921\"]],\"type\":\"contour\"}],\"contourcarpet\":[{\"colorbar\":{\"outlinewidth\":0,\"ticks\":\"\"},\"type\":\"contourcarpet\"}],\"heatmap\":[{\"colorbar\":{\"outlinewidth\":0,\"ticks\":\"\"},\"colorscale\":[[0.0,\"#0d0887\"],[0.1111111111111111,\"#46039f\"],[0.2222222222222222,\"#7201a8\"],[0.3333333333333333,\"#9c179e\"],[0.4444444444444444,\"#bd3786\"],[0.5555555555555556,\"#d8576b\"],[0.6666666666666666,\"#ed7953\"],[0.7777777777777778,\"#fb9f3a\"],[0.8888888888888888,\"#fdca26\"],[1.0,\"#f0f921\"]],\"type\":\"heatmap\"}],\"heatmapgl\":[{\"colorbar\":{\"outlinewidth\":0,\"ticks\":\"\"},\"colorscale\":[[0.0,\"#0d0887\"],[0.1111111111111111,\"#46039f\"],[0.2222222222222222,\"#7201a8\"],[0.3333333333333333,\"#9c179e\"],[0.4444444444444444,\"#bd3786\"],[0.5555555555555556,\"#d8576b\"],[0.6666666666666666,\"#ed7953\"],[0.7777777777777778,\"#fb9f3a\"],[0.8888888888888888,\"#fdca26\"],[1.0,\"#f0f921\"]],\"type\":\"heatmapgl\"}],\"histogram\":[{\"marker\":{\"pattern\":{\"fillmode\":\"overlay\",\"size\":10,\"solidity\":0.2}},\"type\":\"histogram\"}],\"histogram2d\":[{\"colorbar\":{\"outlinewidth\":0,\"ticks\":\"\"},\"colorscale\":[[0.0,\"#0d0887\"],[0.1111111111111111,\"#46039f\"],[0.2222222222222222,\"#7201a8\"],[0.3333333333333333,\"#9c179e\"],[0.4444444444444444,\"#bd3786\"],[0.5555555555555556,\"#d8576b\"],[0.6666666666666666,\"#ed7953\"],[0.7777777777777778,\"#fb9f3a\"],[0.8888888888888888,\"#fdca26\"],[1.0,\"#f0f921\"]],\"type\":\"histogram2d\"}],\"histogram2dcontour\":[{\"colorbar\":{\"outlinewidth\":0,\"ticks\":\"\"},\"colorscale\":[[0.0,\"#0d0887\"],[0.1111111111111111,\"#46039f\"],[0.2222222222222222,\"#7201a8\"],[0.3333333333333333,\"#9c179e\"],[0.4444444444444444,\"#bd3786\"],[0.5555555555555556,\"#d8576b\"],[0.6666666666666666,\"#ed7953\"],[0.7777777777777778,\"#fb9f3a\"],[0.8888888888888888,\"#fdca26\"],[1.0,\"#f0f921\"]],\"type\":\"histogram2dcontour\"}],\"mesh3d\":[{\"colorbar\":{\"outlinewidth\":0,\"ticks\":\"\"},\"type\":\"mesh3d\"}],\"parcoords\":[{\"line\":{\"colorbar\":{\"outlinewidth\":0,\"ticks\":\"\"}},\"type\":\"parcoords\"}],\"pie\":[{\"automargin\":true,\"type\":\"pie\"}],\"scatter\":[{\"marker\":{\"colorbar\":{\"outlinewidth\":0,\"ticks\":\"\"}},\"type\":\"scatter\"}],\"scatter3d\":[{\"line\":{\"colorbar\":{\"outlinewidth\":0,\"ticks\":\"\"}},\"marker\":{\"colorbar\":{\"outlinewidth\":0,\"ticks\":\"\"}},\"type\":\"scatter3d\"}],\"scattercarpet\":[{\"marker\":{\"colorbar\":{\"outlinewidth\":0,\"ticks\":\"\"}},\"type\":\"scattercarpet\"}],\"scattergeo\":[{\"marker\":{\"colorbar\":{\"outlinewidth\":0,\"ticks\":\"\"}},\"type\":\"scattergeo\"}],\"scattergl\":[{\"marker\":{\"colorbar\":{\"outlinewidth\":0,\"ticks\":\"\"}},\"type\":\"scattergl\"}],\"scattermapbox\":[{\"marker\":{\"colorbar\":{\"outlinewidth\":0,\"ticks\":\"\"}},\"type\":\"scattermapbox\"}],\"scatterpolar\":[{\"marker\":{\"colorbar\":{\"outlinewidth\":0,\"ticks\":\"\"}},\"type\":\"scatterpolar\"}],\"scatterpolargl\":[{\"marker\":{\"colorbar\":{\"outlinewidth\":0,\"ticks\":\"\"}},\"type\":\"scatterpolargl\"}],\"scatterternary\":[{\"marker\":{\"colorbar\":{\"outlinewidth\":0,\"ticks\":\"\"}},\"type\":\"scatterternary\"}],\"surface\":[{\"colorbar\":{\"outlinewidth\":0,\"ticks\":\"\"},\"colorscale\":[[0.0,\"#0d0887\"],[0.1111111111111111,\"#46039f\"],[0.2222222222222222,\"#7201a8\"],[0.3333333333333333,\"#9c179e\"],[0.4444444444444444,\"#bd3786\"],[0.5555555555555556,\"#d8576b\"],[0.6666666666666666,\"#ed7953\"],[0.7777777777777778,\"#fb9f3a\"],[0.8888888888888888,\"#fdca26\"],[1.0,\"#f0f921\"]],\"type\":\"surface\"}],\"table\":[{\"cells\":{\"fill\":{\"color\":\"#EBF0F8\"},\"line\":{\"color\":\"white\"}},\"header\":{\"fill\":{\"color\":\"#C8D4E3\"},\"line\":{\"color\":\"white\"}},\"type\":\"table\"}]},\"layout\":{\"annotationdefaults\":{\"arrowcolor\":\"#2a3f5f\",\"arrowhead\":0,\"arrowwidth\":1},\"autotypenumbers\":\"strict\",\"coloraxis\":{\"colorbar\":{\"outlinewidth\":0,\"ticks\":\"\"}},\"colorscale\":{\"diverging\":[[0,\"#8e0152\"],[0.1,\"#c51b7d\"],[0.2,\"#de77ae\"],[0.3,\"#f1b6da\"],[0.4,\"#fde0ef\"],[0.5,\"#f7f7f7\"],[0.6,\"#e6f5d0\"],[0.7,\"#b8e186\"],[0.8,\"#7fbc41\"],[0.9,\"#4d9221\"],[1,\"#276419\"]],\"sequential\":[[0.0,\"#0d0887\"],[0.1111111111111111,\"#46039f\"],[0.2222222222222222,\"#7201a8\"],[0.3333333333333333,\"#9c179e\"],[0.4444444444444444,\"#bd3786\"],[0.5555555555555556,\"#d8576b\"],[0.6666666666666666,\"#ed7953\"],[0.7777777777777778,\"#fb9f3a\"],[0.8888888888888888,\"#fdca26\"],[1.0,\"#f0f921\"]],\"sequentialminus\":[[0.0,\"#0d0887\"],[0.1111111111111111,\"#46039f\"],[0.2222222222222222,\"#7201a8\"],[0.3333333333333333,\"#9c179e\"],[0.4444444444444444,\"#bd3786\"],[0.5555555555555556,\"#d8576b\"],[0.6666666666666666,\"#ed7953\"],[0.7777777777777778,\"#fb9f3a\"],[0.8888888888888888,\"#fdca26\"],[1.0,\"#f0f921\"]]},\"colorway\":[\"#636efa\",\"#EF553B\",\"#00cc96\",\"#ab63fa\",\"#FFA15A\",\"#19d3f3\",\"#FF6692\",\"#B6E880\",\"#FF97FF\",\"#FECB52\"],\"font\":{\"color\":\"#2a3f5f\"},\"geo\":{\"bgcolor\":\"white\",\"lakecolor\":\"white\",\"landcolor\":\"#E5ECF6\",\"showlakes\":true,\"showland\":true,\"subunitcolor\":\"white\"},\"hoverlabel\":{\"align\":\"left\"},\"hovermode\":\"closest\",\"mapbox\":{\"style\":\"light\"},\"paper_bgcolor\":\"white\",\"plot_bgcolor\":\"#E5ECF6\",\"polar\":{\"angularaxis\":{\"gridcolor\":\"white\",\"linecolor\":\"white\",\"ticks\":\"\"},\"bgcolor\":\"#E5ECF6\",\"radialaxis\":{\"gridcolor\":\"white\",\"linecolor\":\"white\",\"ticks\":\"\"}},\"scene\":{\"xaxis\":{\"backgroundcolor\":\"#E5ECF6\",\"gridcolor\":\"white\",\"gridwidth\":2,\"linecolor\":\"white\",\"showbackground\":true,\"ticks\":\"\",\"zerolinecolor\":\"white\"},\"yaxis\":{\"backgroundcolor\":\"#E5ECF6\",\"gridcolor\":\"white\",\"gridwidth\":2,\"linecolor\":\"white\",\"showbackground\":true,\"ticks\":\"\",\"zerolinecolor\":\"white\"},\"zaxis\":{\"backgroundcolor\":\"#E5ECF6\",\"gridcolor\":\"white\",\"gridwidth\":2,\"linecolor\":\"white\",\"showbackground\":true,\"ticks\":\"\",\"zerolinecolor\":\"white\"}},\"shapedefaults\":{\"line\":{\"color\":\"#2a3f5f\"}},\"ternary\":{\"aaxis\":{\"gridcolor\":\"white\",\"linecolor\":\"white\",\"ticks\":\"\"},\"baxis\":{\"gridcolor\":\"white\",\"linecolor\":\"white\",\"ticks\":\"\"},\"bgcolor\":\"#E5ECF6\",\"caxis\":{\"gridcolor\":\"white\",\"linecolor\":\"white\",\"ticks\":\"\"}},\"title\":{\"x\":0.05},\"xaxis\":{\"automargin\":true,\"gridcolor\":\"white\",\"linecolor\":\"white\",\"ticks\":\"\",\"title\":{\"standoff\":15},\"zerolinecolor\":\"white\",\"zerolinewidth\":2},\"yaxis\":{\"automargin\":true,\"gridcolor\":\"white\",\"linecolor\":\"white\",\"ticks\":\"\",\"title\":{\"standoff\":15},\"zerolinecolor\":\"white\",\"zerolinewidth\":2}}},\"xaxis\":{\"anchor\":\"y\",\"domain\":[0.0,1.0],\"title\":{\"text\":\"estado\"}},\"yaxis\":{\"anchor\":\"x\",\"domain\":[0.0,1.0],\"title\":{\"text\":\"IDHM_Educa\\u00e7\\u00e3o\"}},\"coloraxis\":{\"colorbar\":{\"title\":{\"text\":\"IDHM_Educa\\u00e7\\u00e3o\"}},\"colorscale\":[[0.0,\"#0d0887\"],[0.1111111111111111,\"#46039f\"],[0.2222222222222222,\"#7201a8\"],[0.3333333333333333,\"#9c179e\"],[0.4444444444444444,\"#bd3786\"],[0.5555555555555556,\"#d8576b\"],[0.6666666666666666,\"#ed7953\"],[0.7777777777777778,\"#fb9f3a\"],[0.8888888888888888,\"#fdca26\"],[1.0,\"#f0f921\"]]},\"legend\":{\"tracegroupgap\":0},\"title\":{\"text\":\"IDHM Educa\\u00e7\\u00e3o\"},\"barmode\":\"group\"},                        {\"responsive\": true}                    ).then(function(){\n",
              "                            \n",
              "var gd = document.getElementById('c37024a0-4014-4e4c-818e-ee5f8c388df8');\n",
              "var x = new MutationObserver(function (mutations, observer) {{\n",
              "        var display = window.getComputedStyle(gd).display;\n",
              "        if (!display || display === 'none') {{\n",
              "            console.log([gd, 'removed!']);\n",
              "            Plotly.purge(gd);\n",
              "            observer.disconnect();\n",
              "        }}\n",
              "}});\n",
              "\n",
              "// Listen for the removal of the full notebook cells\n",
              "var notebookContainer = gd.closest('#notebook-container');\n",
              "if (notebookContainer) {{\n",
              "    x.observe(notebookContainer, {childList: true});\n",
              "}}\n",
              "\n",
              "// Listen for the clearing of the current output cell\n",
              "var outputEl = gd.closest('.output');\n",
              "if (outputEl) {{\n",
              "    x.observe(outputEl, {childList: true});\n",
              "}}\n",
              "\n",
              "                        })                };                            </script>        </div>\n",
              "</body>\n",
              "</html>"
            ]
          },
          "metadata": {}
        },
        {
          "output_type": "display_data",
          "data": {
            "text/html": [
              "<html>\n",
              "<head><meta charset=\"utf-8\" /></head>\n",
              "<body>\n",
              "    <div>            <script src=\"https://cdnjs.cloudflare.com/ajax/libs/mathjax/2.7.5/MathJax.js?config=TeX-AMS-MML_SVG\"></script><script type=\"text/javascript\">if (window.MathJax) {MathJax.Hub.Config({SVG: {font: \"STIX-Web\"}});}</script>                <script type=\"text/javascript\">window.PlotlyConfig = {MathJaxConfig: 'local'};</script>\n",
              "        <script src=\"https://cdn.plot.ly/plotly-2.8.3.min.js\"></script>                <div id=\"e235c396-7937-403f-8930-7a5cf480ff54\" class=\"plotly-graph-div\" style=\"height:525px; width:100%;\"></div>            <script type=\"text/javascript\">                                    window.PLOTLYENV=window.PLOTLYENV || {};                                    if (document.getElementById(\"e235c396-7937-403f-8930-7a5cf480ff54\")) {                    Plotly.newPlot(                        \"e235c396-7937-403f-8930-7a5cf480ff54\",                        [{\"alignmentgroup\":\"True\",\"hovertemplate\":\"estado=%{x}<br>IDHM_Longevidade=%{marker.color}<extra></extra>\",\"legendgroup\":\"\",\"marker\":{\"color\":[0.783,0.699,0.66,0.682,0.706,0.747,0.696,0.742,0.796,0.694,0.74,0.787,0.748,0.639,0.741,0.654,0.685,0.677,0.682,0.676,0.68,0.769,0.623,0.664,0.859,0.771,0.695],\"coloraxis\":\"coloraxis\",\"pattern\":{\"shape\":\"\"}},\"name\":\"\",\"offsetgroup\":\"\",\"orientation\":\"v\",\"showlegend\":false,\"textposition\":\"auto\",\"x\":[\"SC\",\"RO\",\"PI\",\"AM\",\"RR\",\"GO\",\"TO\",\"MT\",\"SP\",\"PB\",\"ES\",\"RS\",\"MS\",\"AL\",\"MG\",\"PA\",\"BA\",\"SE\",\"PE\",\"CE\",\"RN\",\"RJ\",\"MA\",\"AC\",\"DF\",\"PR\",\"AP\"],\"xaxis\":\"x\",\"y\":[0.783,0.699,0.66,0.682,0.706,0.747,0.696,0.742,0.796,0.694,0.74,0.787,0.748,0.639,0.741,0.654,0.685,0.677,0.682,0.676,0.68,0.769,0.623,0.664,0.859,0.771,0.695],\"yaxis\":\"y\",\"type\":\"bar\"}],                        {\"template\":{\"data\":{\"bar\":[{\"error_x\":{\"color\":\"#2a3f5f\"},\"error_y\":{\"color\":\"#2a3f5f\"},\"marker\":{\"line\":{\"color\":\"#E5ECF6\",\"width\":0.5},\"pattern\":{\"fillmode\":\"overlay\",\"size\":10,\"solidity\":0.2}},\"type\":\"bar\"}],\"barpolar\":[{\"marker\":{\"line\":{\"color\":\"#E5ECF6\",\"width\":0.5},\"pattern\":{\"fillmode\":\"overlay\",\"size\":10,\"solidity\":0.2}},\"type\":\"barpolar\"}],\"carpet\":[{\"aaxis\":{\"endlinecolor\":\"#2a3f5f\",\"gridcolor\":\"white\",\"linecolor\":\"white\",\"minorgridcolor\":\"white\",\"startlinecolor\":\"#2a3f5f\"},\"baxis\":{\"endlinecolor\":\"#2a3f5f\",\"gridcolor\":\"white\",\"linecolor\":\"white\",\"minorgridcolor\":\"white\",\"startlinecolor\":\"#2a3f5f\"},\"type\":\"carpet\"}],\"choropleth\":[{\"colorbar\":{\"outlinewidth\":0,\"ticks\":\"\"},\"type\":\"choropleth\"}],\"contour\":[{\"colorbar\":{\"outlinewidth\":0,\"ticks\":\"\"},\"colorscale\":[[0.0,\"#0d0887\"],[0.1111111111111111,\"#46039f\"],[0.2222222222222222,\"#7201a8\"],[0.3333333333333333,\"#9c179e\"],[0.4444444444444444,\"#bd3786\"],[0.5555555555555556,\"#d8576b\"],[0.6666666666666666,\"#ed7953\"],[0.7777777777777778,\"#fb9f3a\"],[0.8888888888888888,\"#fdca26\"],[1.0,\"#f0f921\"]],\"type\":\"contour\"}],\"contourcarpet\":[{\"colorbar\":{\"outlinewidth\":0,\"ticks\":\"\"},\"type\":\"contourcarpet\"}],\"heatmap\":[{\"colorbar\":{\"outlinewidth\":0,\"ticks\":\"\"},\"colorscale\":[[0.0,\"#0d0887\"],[0.1111111111111111,\"#46039f\"],[0.2222222222222222,\"#7201a8\"],[0.3333333333333333,\"#9c179e\"],[0.4444444444444444,\"#bd3786\"],[0.5555555555555556,\"#d8576b\"],[0.6666666666666666,\"#ed7953\"],[0.7777777777777778,\"#fb9f3a\"],[0.8888888888888888,\"#fdca26\"],[1.0,\"#f0f921\"]],\"type\":\"heatmap\"}],\"heatmapgl\":[{\"colorbar\":{\"outlinewidth\":0,\"ticks\":\"\"},\"colorscale\":[[0.0,\"#0d0887\"],[0.1111111111111111,\"#46039f\"],[0.2222222222222222,\"#7201a8\"],[0.3333333333333333,\"#9c179e\"],[0.4444444444444444,\"#bd3786\"],[0.5555555555555556,\"#d8576b\"],[0.6666666666666666,\"#ed7953\"],[0.7777777777777778,\"#fb9f3a\"],[0.8888888888888888,\"#fdca26\"],[1.0,\"#f0f921\"]],\"type\":\"heatmapgl\"}],\"histogram\":[{\"marker\":{\"pattern\":{\"fillmode\":\"overlay\",\"size\":10,\"solidity\":0.2}},\"type\":\"histogram\"}],\"histogram2d\":[{\"colorbar\":{\"outlinewidth\":0,\"ticks\":\"\"},\"colorscale\":[[0.0,\"#0d0887\"],[0.1111111111111111,\"#46039f\"],[0.2222222222222222,\"#7201a8\"],[0.3333333333333333,\"#9c179e\"],[0.4444444444444444,\"#bd3786\"],[0.5555555555555556,\"#d8576b\"],[0.6666666666666666,\"#ed7953\"],[0.7777777777777778,\"#fb9f3a\"],[0.8888888888888888,\"#fdca26\"],[1.0,\"#f0f921\"]],\"type\":\"histogram2d\"}],\"histogram2dcontour\":[{\"colorbar\":{\"outlinewidth\":0,\"ticks\":\"\"},\"colorscale\":[[0.0,\"#0d0887\"],[0.1111111111111111,\"#46039f\"],[0.2222222222222222,\"#7201a8\"],[0.3333333333333333,\"#9c179e\"],[0.4444444444444444,\"#bd3786\"],[0.5555555555555556,\"#d8576b\"],[0.6666666666666666,\"#ed7953\"],[0.7777777777777778,\"#fb9f3a\"],[0.8888888888888888,\"#fdca26\"],[1.0,\"#f0f921\"]],\"type\":\"histogram2dcontour\"}],\"mesh3d\":[{\"colorbar\":{\"outlinewidth\":0,\"ticks\":\"\"},\"type\":\"mesh3d\"}],\"parcoords\":[{\"line\":{\"colorbar\":{\"outlinewidth\":0,\"ticks\":\"\"}},\"type\":\"parcoords\"}],\"pie\":[{\"automargin\":true,\"type\":\"pie\"}],\"scatter\":[{\"marker\":{\"colorbar\":{\"outlinewidth\":0,\"ticks\":\"\"}},\"type\":\"scatter\"}],\"scatter3d\":[{\"line\":{\"colorbar\":{\"outlinewidth\":0,\"ticks\":\"\"}},\"marker\":{\"colorbar\":{\"outlinewidth\":0,\"ticks\":\"\"}},\"type\":\"scatter3d\"}],\"scattercarpet\":[{\"marker\":{\"colorbar\":{\"outlinewidth\":0,\"ticks\":\"\"}},\"type\":\"scattercarpet\"}],\"scattergeo\":[{\"marker\":{\"colorbar\":{\"outlinewidth\":0,\"ticks\":\"\"}},\"type\":\"scattergeo\"}],\"scattergl\":[{\"marker\":{\"colorbar\":{\"outlinewidth\":0,\"ticks\":\"\"}},\"type\":\"scattergl\"}],\"scattermapbox\":[{\"marker\":{\"colorbar\":{\"outlinewidth\":0,\"ticks\":\"\"}},\"type\":\"scattermapbox\"}],\"scatterpolar\":[{\"marker\":{\"colorbar\":{\"outlinewidth\":0,\"ticks\":\"\"}},\"type\":\"scatterpolar\"}],\"scatterpolargl\":[{\"marker\":{\"colorbar\":{\"outlinewidth\":0,\"ticks\":\"\"}},\"type\":\"scatterpolargl\"}],\"scatterternary\":[{\"marker\":{\"colorbar\":{\"outlinewidth\":0,\"ticks\":\"\"}},\"type\":\"scatterternary\"}],\"surface\":[{\"colorbar\":{\"outlinewidth\":0,\"ticks\":\"\"},\"colorscale\":[[0.0,\"#0d0887\"],[0.1111111111111111,\"#46039f\"],[0.2222222222222222,\"#7201a8\"],[0.3333333333333333,\"#9c179e\"],[0.4444444444444444,\"#bd3786\"],[0.5555555555555556,\"#d8576b\"],[0.6666666666666666,\"#ed7953\"],[0.7777777777777778,\"#fb9f3a\"],[0.8888888888888888,\"#fdca26\"],[1.0,\"#f0f921\"]],\"type\":\"surface\"}],\"table\":[{\"cells\":{\"fill\":{\"color\":\"#EBF0F8\"},\"line\":{\"color\":\"white\"}},\"header\":{\"fill\":{\"color\":\"#C8D4E3\"},\"line\":{\"color\":\"white\"}},\"type\":\"table\"}]},\"layout\":{\"annotationdefaults\":{\"arrowcolor\":\"#2a3f5f\",\"arrowhead\":0,\"arrowwidth\":1},\"autotypenumbers\":\"strict\",\"coloraxis\":{\"colorbar\":{\"outlinewidth\":0,\"ticks\":\"\"}},\"colorscale\":{\"diverging\":[[0,\"#8e0152\"],[0.1,\"#c51b7d\"],[0.2,\"#de77ae\"],[0.3,\"#f1b6da\"],[0.4,\"#fde0ef\"],[0.5,\"#f7f7f7\"],[0.6,\"#e6f5d0\"],[0.7,\"#b8e186\"],[0.8,\"#7fbc41\"],[0.9,\"#4d9221\"],[1,\"#276419\"]],\"sequential\":[[0.0,\"#0d0887\"],[0.1111111111111111,\"#46039f\"],[0.2222222222222222,\"#7201a8\"],[0.3333333333333333,\"#9c179e\"],[0.4444444444444444,\"#bd3786\"],[0.5555555555555556,\"#d8576b\"],[0.6666666666666666,\"#ed7953\"],[0.7777777777777778,\"#fb9f3a\"],[0.8888888888888888,\"#fdca26\"],[1.0,\"#f0f921\"]],\"sequentialminus\":[[0.0,\"#0d0887\"],[0.1111111111111111,\"#46039f\"],[0.2222222222222222,\"#7201a8\"],[0.3333333333333333,\"#9c179e\"],[0.4444444444444444,\"#bd3786\"],[0.5555555555555556,\"#d8576b\"],[0.6666666666666666,\"#ed7953\"],[0.7777777777777778,\"#fb9f3a\"],[0.8888888888888888,\"#fdca26\"],[1.0,\"#f0f921\"]]},\"colorway\":[\"#636efa\",\"#EF553B\",\"#00cc96\",\"#ab63fa\",\"#FFA15A\",\"#19d3f3\",\"#FF6692\",\"#B6E880\",\"#FF97FF\",\"#FECB52\"],\"font\":{\"color\":\"#2a3f5f\"},\"geo\":{\"bgcolor\":\"white\",\"lakecolor\":\"white\",\"landcolor\":\"#E5ECF6\",\"showlakes\":true,\"showland\":true,\"subunitcolor\":\"white\"},\"hoverlabel\":{\"align\":\"left\"},\"hovermode\":\"closest\",\"mapbox\":{\"style\":\"light\"},\"paper_bgcolor\":\"white\",\"plot_bgcolor\":\"#E5ECF6\",\"polar\":{\"angularaxis\":{\"gridcolor\":\"white\",\"linecolor\":\"white\",\"ticks\":\"\"},\"bgcolor\":\"#E5ECF6\",\"radialaxis\":{\"gridcolor\":\"white\",\"linecolor\":\"white\",\"ticks\":\"\"}},\"scene\":{\"xaxis\":{\"backgroundcolor\":\"#E5ECF6\",\"gridcolor\":\"white\",\"gridwidth\":2,\"linecolor\":\"white\",\"showbackground\":true,\"ticks\":\"\",\"zerolinecolor\":\"white\"},\"yaxis\":{\"backgroundcolor\":\"#E5ECF6\",\"gridcolor\":\"white\",\"gridwidth\":2,\"linecolor\":\"white\",\"showbackground\":true,\"ticks\":\"\",\"zerolinecolor\":\"white\"},\"zaxis\":{\"backgroundcolor\":\"#E5ECF6\",\"gridcolor\":\"white\",\"gridwidth\":2,\"linecolor\":\"white\",\"showbackground\":true,\"ticks\":\"\",\"zerolinecolor\":\"white\"}},\"shapedefaults\":{\"line\":{\"color\":\"#2a3f5f\"}},\"ternary\":{\"aaxis\":{\"gridcolor\":\"white\",\"linecolor\":\"white\",\"ticks\":\"\"},\"baxis\":{\"gridcolor\":\"white\",\"linecolor\":\"white\",\"ticks\":\"\"},\"bgcolor\":\"#E5ECF6\",\"caxis\":{\"gridcolor\":\"white\",\"linecolor\":\"white\",\"ticks\":\"\"}},\"title\":{\"x\":0.05},\"xaxis\":{\"automargin\":true,\"gridcolor\":\"white\",\"linecolor\":\"white\",\"ticks\":\"\",\"title\":{\"standoff\":15},\"zerolinecolor\":\"white\",\"zerolinewidth\":2},\"yaxis\":{\"automargin\":true,\"gridcolor\":\"white\",\"linecolor\":\"white\",\"ticks\":\"\",\"title\":{\"standoff\":15},\"zerolinecolor\":\"white\",\"zerolinewidth\":2}}},\"xaxis\":{\"anchor\":\"y\",\"domain\":[0.0,1.0],\"title\":{\"text\":\"estado\"}},\"yaxis\":{\"anchor\":\"x\",\"domain\":[0.0,1.0],\"title\":{\"text\":\"IDHM_Longevidade\"}},\"coloraxis\":{\"colorbar\":{\"title\":{\"text\":\"IDHM_Longevidade\"}},\"colorscale\":[[0.0,\"#0d0887\"],[0.1111111111111111,\"#46039f\"],[0.2222222222222222,\"#7201a8\"],[0.3333333333333333,\"#9c179e\"],[0.4444444444444444,\"#bd3786\"],[0.5555555555555556,\"#d8576b\"],[0.6666666666666666,\"#ed7953\"],[0.7777777777777778,\"#fb9f3a\"],[0.8888888888888888,\"#fdca26\"],[1.0,\"#f0f921\"]]},\"legend\":{\"tracegroupgap\":0},\"title\":{\"text\":\"IDHM Longevidade\"},\"barmode\":\"group\"},                        {\"responsive\": true}                    ).then(function(){\n",
              "                            \n",
              "var gd = document.getElementById('e235c396-7937-403f-8930-7a5cf480ff54');\n",
              "var x = new MutationObserver(function (mutations, observer) {{\n",
              "        var display = window.getComputedStyle(gd).display;\n",
              "        if (!display || display === 'none') {{\n",
              "            console.log([gd, 'removed!']);\n",
              "            Plotly.purge(gd);\n",
              "            observer.disconnect();\n",
              "        }}\n",
              "}});\n",
              "\n",
              "// Listen for the removal of the full notebook cells\n",
              "var notebookContainer = gd.closest('#notebook-container');\n",
              "if (notebookContainer) {{\n",
              "    x.observe(notebookContainer, {childList: true});\n",
              "}}\n",
              "\n",
              "// Listen for the clearing of the current output cell\n",
              "var outputEl = gd.closest('.output');\n",
              "if (outputEl) {{\n",
              "    x.observe(outputEl, {childList: true});\n",
              "}}\n",
              "\n",
              "                        })                };                            </script>        </div>\n",
              "</body>\n",
              "</html>"
            ]
          },
          "metadata": {}
        }
      ]
    }
  ],
  "metadata": {
    "colab": {
      "collapsed_sections": [],
      "provenance": []
    },
    "kernelspec": {
      "display_name": "Python 3",
      "name": "python3"
    },
    "language_info": {
      "name": "python"
    }
  },
  "nbformat": 4,
  "nbformat_minor": 0
}